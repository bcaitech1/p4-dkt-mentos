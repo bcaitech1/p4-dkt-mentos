{
 "cells": [
  {
   "cell_type": "code",
   "execution_count": 1,
   "id": "4a4ea7b4-9c9e-4805-a282-df0c77dc5446",
   "metadata": {},
   "outputs": [],
   "source": [
    "import numpy as np\n",
    "import pandas as pd\n",
    "import matplotlib.pyplot as plt\n",
    "# import seaborn as sns; sns.set_theme(color_codes=True)\n",
    "import seaborn as sns\n",
    "import missingno as msno"
   ]
  },
  {
   "cell_type": "code",
   "execution_count": 2,
   "id": "a18f3372-52f5-4299-8d0d-a82cf42e39a7",
   "metadata": {},
   "outputs": [
    {
     "name": "stdout",
     "output_type": "stream",
     "text": [
      "CPU times: user 4.11 s, sys: 412 ms, total: 4.52 s\n",
      "Wall time: 4.53 s\n"
     ]
    }
   ],
   "source": [
    "%%time\n",
    "dtype = {\n",
    "    'userID': 'int16',\n",
    "    'answerCode': 'int8',\n",
    "    'KnowledgeTag': 'int16'\n",
    "}   \n",
    "\n",
    "# 데이터 경로 맞춰주세요!\n",
    "DATA_PATH = '/opt/ml/input/data/train_dataset/train_data.csv'\n",
    "df = pd.read_csv(DATA_PATH, dtype=dtype, parse_dates=['Timestamp'])\n",
    "df = df.sort_values(by=['userID', 'Timestamp']).reset_index(drop=True)"
   ]
  },
  {
   "cell_type": "code",
   "execution_count": 3,
   "id": "f00c8f43-590a-4b7b-aa1e-4793d7af40d3",
   "metadata": {},
   "outputs": [
    {
     "data": {
      "text/html": [
       "<div>\n",
       "<style scoped>\n",
       "    .dataframe tbody tr th:only-of-type {\n",
       "        vertical-align: middle;\n",
       "    }\n",
       "\n",
       "    .dataframe tbody tr th {\n",
       "        vertical-align: top;\n",
       "    }\n",
       "\n",
       "    .dataframe thead th {\n",
       "        text-align: right;\n",
       "    }\n",
       "</style>\n",
       "<table border=\"1\" class=\"dataframe\">\n",
       "  <thead>\n",
       "    <tr style=\"text-align: right;\">\n",
       "      <th></th>\n",
       "      <th>userID</th>\n",
       "      <th>assessmentItemID</th>\n",
       "      <th>testId</th>\n",
       "      <th>answerCode</th>\n",
       "      <th>Timestamp</th>\n",
       "      <th>KnowledgeTag</th>\n",
       "    </tr>\n",
       "  </thead>\n",
       "  <tbody>\n",
       "    <tr>\n",
       "      <th>0</th>\n",
       "      <td>0</td>\n",
       "      <td>A060001001</td>\n",
       "      <td>A060000001</td>\n",
       "      <td>1</td>\n",
       "      <td>2020-03-24 00:17:11</td>\n",
       "      <td>7224</td>\n",
       "    </tr>\n",
       "    <tr>\n",
       "      <th>1</th>\n",
       "      <td>0</td>\n",
       "      <td>A060001002</td>\n",
       "      <td>A060000001</td>\n",
       "      <td>1</td>\n",
       "      <td>2020-03-24 00:17:14</td>\n",
       "      <td>7225</td>\n",
       "    </tr>\n",
       "    <tr>\n",
       "      <th>2</th>\n",
       "      <td>0</td>\n",
       "      <td>A060001003</td>\n",
       "      <td>A060000001</td>\n",
       "      <td>1</td>\n",
       "      <td>2020-03-24 00:17:22</td>\n",
       "      <td>7225</td>\n",
       "    </tr>\n",
       "    <tr>\n",
       "      <th>3</th>\n",
       "      <td>0</td>\n",
       "      <td>A060001004</td>\n",
       "      <td>A060000001</td>\n",
       "      <td>1</td>\n",
       "      <td>2020-03-24 00:17:29</td>\n",
       "      <td>7225</td>\n",
       "    </tr>\n",
       "    <tr>\n",
       "      <th>4</th>\n",
       "      <td>0</td>\n",
       "      <td>A060001005</td>\n",
       "      <td>A060000001</td>\n",
       "      <td>1</td>\n",
       "      <td>2020-03-24 00:17:36</td>\n",
       "      <td>7225</td>\n",
       "    </tr>\n",
       "    <tr>\n",
       "      <th>...</th>\n",
       "      <td>...</td>\n",
       "      <td>...</td>\n",
       "      <td>...</td>\n",
       "      <td>...</td>\n",
       "      <td>...</td>\n",
       "      <td>...</td>\n",
       "    </tr>\n",
       "    <tr>\n",
       "      <th>2266581</th>\n",
       "      <td>7441</td>\n",
       "      <td>A030071005</td>\n",
       "      <td>A030000071</td>\n",
       "      <td>0</td>\n",
       "      <td>2020-06-05 06:50:21</td>\n",
       "      <td>438</td>\n",
       "    </tr>\n",
       "    <tr>\n",
       "      <th>2266582</th>\n",
       "      <td>7441</td>\n",
       "      <td>A040165001</td>\n",
       "      <td>A040000165</td>\n",
       "      <td>1</td>\n",
       "      <td>2020-08-21 01:06:39</td>\n",
       "      <td>8836</td>\n",
       "    </tr>\n",
       "    <tr>\n",
       "      <th>2266583</th>\n",
       "      <td>7441</td>\n",
       "      <td>A040165002</td>\n",
       "      <td>A040000165</td>\n",
       "      <td>1</td>\n",
       "      <td>2020-08-21 01:06:50</td>\n",
       "      <td>8836</td>\n",
       "    </tr>\n",
       "    <tr>\n",
       "      <th>2266584</th>\n",
       "      <td>7441</td>\n",
       "      <td>A040165003</td>\n",
       "      <td>A040000165</td>\n",
       "      <td>1</td>\n",
       "      <td>2020-08-21 01:07:36</td>\n",
       "      <td>8836</td>\n",
       "    </tr>\n",
       "    <tr>\n",
       "      <th>2266585</th>\n",
       "      <td>7441</td>\n",
       "      <td>A040165004</td>\n",
       "      <td>A040000165</td>\n",
       "      <td>1</td>\n",
       "      <td>2020-08-21 01:08:49</td>\n",
       "      <td>8836</td>\n",
       "    </tr>\n",
       "  </tbody>\n",
       "</table>\n",
       "<p>2266586 rows × 6 columns</p>\n",
       "</div>"
      ],
      "text/plain": [
       "         userID assessmentItemID      testId  answerCode           Timestamp  \\\n",
       "0             0       A060001001  A060000001           1 2020-03-24 00:17:11   \n",
       "1             0       A060001002  A060000001           1 2020-03-24 00:17:14   \n",
       "2             0       A060001003  A060000001           1 2020-03-24 00:17:22   \n",
       "3             0       A060001004  A060000001           1 2020-03-24 00:17:29   \n",
       "4             0       A060001005  A060000001           1 2020-03-24 00:17:36   \n",
       "...         ...              ...         ...         ...                 ...   \n",
       "2266581    7441       A030071005  A030000071           0 2020-06-05 06:50:21   \n",
       "2266582    7441       A040165001  A040000165           1 2020-08-21 01:06:39   \n",
       "2266583    7441       A040165002  A040000165           1 2020-08-21 01:06:50   \n",
       "2266584    7441       A040165003  A040000165           1 2020-08-21 01:07:36   \n",
       "2266585    7441       A040165004  A040000165           1 2020-08-21 01:08:49   \n",
       "\n",
       "         KnowledgeTag  \n",
       "0                7224  \n",
       "1                7225  \n",
       "2                7225  \n",
       "3                7225  \n",
       "4                7225  \n",
       "...               ...  \n",
       "2266581           438  \n",
       "2266582          8836  \n",
       "2266583          8836  \n",
       "2266584          8836  \n",
       "2266585          8836  \n",
       "\n",
       "[2266586 rows x 6 columns]"
      ]
     },
     "execution_count": 3,
     "metadata": {},
     "output_type": "execute_result"
    }
   ],
   "source": [
    "df"
   ]
  },
  {
   "cell_type": "markdown",
   "id": "62465dc7-8d04-418e-a509-d7250482abdd",
   "metadata": {},
   "source": [
    "### 한 user가 차지하는 row 수\n",
    "- 모델에서 seq_len 결정할 수 있다"
   ]
  },
  {
   "cell_type": "code",
   "execution_count": 4,
   "id": "1958bb75-8553-4274-b28f-dd31b5b3f0de",
   "metadata": {},
   "outputs": [],
   "source": [
    "user_list = df.userID.tolist()"
   ]
  },
  {
   "cell_type": "code",
   "execution_count": 5,
   "id": "2eb5b3d4-901d-4d1e-88cb-62077960fc30",
   "metadata": {},
   "outputs": [],
   "source": [
    "from collections import defaultdict\n",
    "user_count = defaultdict(int)\n",
    "for u in user_list:\n",
    "    user_count[u] += 1"
   ]
  },
  {
   "cell_type": "code",
   "execution_count": 6,
   "id": "a2ccd802-85ee-4522-a37c-bd7698b6688b",
   "metadata": {},
   "outputs": [
    {
     "data": {
      "text/html": [
       "<div>\n",
       "<style scoped>\n",
       "    .dataframe tbody tr th:only-of-type {\n",
       "        vertical-align: middle;\n",
       "    }\n",
       "\n",
       "    .dataframe tbody tr th {\n",
       "        vertical-align: top;\n",
       "    }\n",
       "\n",
       "    .dataframe thead th {\n",
       "        text-align: right;\n",
       "    }\n",
       "</style>\n",
       "<table border=\"1\" class=\"dataframe\">\n",
       "  <thead>\n",
       "    <tr style=\"text-align: right;\">\n",
       "      <th></th>\n",
       "      <th>userID</th>\n",
       "      <th>count</th>\n",
       "    </tr>\n",
       "  </thead>\n",
       "  <tbody>\n",
       "    <tr>\n",
       "      <th>0</th>\n",
       "      <td>0</td>\n",
       "      <td>745</td>\n",
       "    </tr>\n",
       "    <tr>\n",
       "      <th>1</th>\n",
       "      <td>1</td>\n",
       "      <td>933</td>\n",
       "    </tr>\n",
       "    <tr>\n",
       "      <th>2</th>\n",
       "      <td>2</td>\n",
       "      <td>276</td>\n",
       "    </tr>\n",
       "    <tr>\n",
       "      <th>3</th>\n",
       "      <td>5</td>\n",
       "      <td>833</td>\n",
       "    </tr>\n",
       "    <tr>\n",
       "      <th>4</th>\n",
       "      <td>6</td>\n",
       "      <td>921</td>\n",
       "    </tr>\n",
       "  </tbody>\n",
       "</table>\n",
       "</div>"
      ],
      "text/plain": [
       "   userID  count\n",
       "0       0    745\n",
       "1       1    933\n",
       "2       2    276\n",
       "3       5    833\n",
       "4       6    921"
      ]
     },
     "execution_count": 6,
     "metadata": {},
     "output_type": "execute_result"
    }
   ],
   "source": [
    "user_count_df = pd.DataFrame(user_count.items(), columns=[\"userID\", \"count\"])\n",
    "user_count_df.head()"
   ]
  },
  {
   "cell_type": "code",
   "execution_count": 8,
   "id": "8ab5ebf3-2c3a-412f-8b19-200ef8db8226",
   "metadata": {},
   "outputs": [
    {
     "data": {
      "text/plain": [
       "6698"
      ]
     },
     "execution_count": 8,
     "metadata": {},
     "output_type": "execute_result"
    }
   ],
   "source": [
    "len(user_count_df)"
   ]
  },
  {
   "cell_type": "code",
   "execution_count": 32,
   "id": "b4a2f6e2-f46b-4879-ba94-198e54d2cb0f",
   "metadata": {},
   "outputs": [
    {
     "data": {
      "image/png": "[encoded data removed]",
      "text/plain": [
       "<Figure size 1440x576 with 1 Axes>"
      ]
     },
     "metadata": {
      "needs_background": "light"
     },
     "output_type": "display_data"
    }
   ],
   "source": [
    "plt.figure(figsize=(20, 8))\n",
    "\n",
    "plot = sns.barplot(data=user_count_df, x=\"userID\", y=\"count\")\n",
    "plot.set(xticklabels=[])\n",
    "plt.show()\n",
    "# plot.set(xlabel=None)"
   ]
  },
  {
   "cell_type": "code",
   "execution_count": 26,
   "id": "889e16a6-c116-4fa9-a91b-6932e228370a",
   "metadata": {},
   "outputs": [
    {
     "data": {
      "text/plain": [
       "(9, 1860, 338.39743206927443, 231.5)"
      ]
     },
     "execution_count": 26,
     "metadata": {},
     "output_type": "execute_result"
    }
   ],
   "source": [
    "user_count_values = np.array(list(user_count.values()))\n",
    "user_count_values\n",
    "user_count_values.min(), user_count_values.max(), user_count_values.mean(), np.median(user_count_values)"
   ]
  },
  {
   "cell_type": "code",
   "execution_count": null,
   "id": "8512e50a-d258-4aa9-b15a-f5f2c64eccdc",
   "metadata": {},
   "outputs": [],
   "source": []
  }
 ],
 "metadata": {
  "kernelspec": {
   "display_name": "Python 3",
   "language": "python",
   "name": "python3"
  },
  "language_info": {
   "codemirror_mode": {
    "name": "ipython",
    "version": 3
   },
   "file_extension": ".py",
   "mimetype": "text/x-python",
   "name": "python",
   "nbconvert_exporter": "python",
   "pygments_lexer": "ipython3",
   "version": "3.7.7"
  }
 },
 "nbformat": 4,
 "nbformat_minor": 5
}
