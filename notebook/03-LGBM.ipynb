{
 "cells": [
  {
   "cell_type": "code",
   "execution_count": 1,
   "metadata": {},
   "outputs": [],
   "source": [
    "data_dir = '../../input/data/train_dataset/'\n",
    "file_name = 'train_data.csv'\n",
    "test_file_name = 'test_data.csv'"
   ]
  },
  {
   "cell_type": "code",
   "execution_count": 2,
   "metadata": {},
   "outputs": [],
   "source": [
    "y_id = 'cycle' # 'user' or 'cycle'\n",
    "y_method = 'last' # 'last' or 'next'\n",
    "n_folds = 5"
   ]
  },
  {
   "cell_type": "code",
   "execution_count": 4,
   "metadata": {},
   "outputs": [],
   "source": [
    "import sys\n",
    "sys.path.append(\"..\")"
   ]
  },
  {
   "cell_type": "code",
   "execution_count": 5,
   "metadata": {},
   "outputs": [],
   "source": [
    "import os\n",
    "import easydict\n",
    "import time\n",
    "from datetime import datetime\n",
    "\n",
    "from fe.feature import FEPipeline\n",
    "from fe.agg import *"
   ]
  },
  {
   "cell_type": "code",
   "execution_count": 6,
   "metadata": {},
   "outputs": [],
   "source": [
    "def convert_time(s):\n",
    "    timestamp = time.mktime(datetime.strptime(s, '%Y-%m-%d %H:%M:%S').timetuple())\n",
    "    return int(timestamp)"
   ]
  },
  {
   "cell_type": "code",
   "execution_count": 7,
   "metadata": {},
   "outputs": [],
   "source": [
    "def preprocess(df):\n",
    "    preprocess_df_path = '/opt/ml/features/preprocess.csv'\n",
    "    \n",
    "    if not os.path.exists(preprocess_df_path):\n",
    "        # YYYY-MM-DD HH:MM:SS -> sec format\n",
    "        df['Timestamp'] = df['Timestamp'].apply(convert_time)\n",
    "        \n",
    "        # 한 문제 푸는데 걸린 시간\n",
    "        df['time_diff'] = df['Timestamp'] - df['Timestamp'].shift(1)\n",
    "        \n",
    "        # userID 별 푼 문항의 누적 합\n",
    "        df['UserCumtestnum'] = df.groupby(['userID'])['answerCode'].cumcount()\n",
    "\n",
    "        # userID, KnowledgeTag 별 푼 문항의 누적 합\n",
    "        df['UserTagCumtestnum'] = df.groupby(['userID', 'KnowledgeTag'])['answerCode'].cumcount()\n",
    "\n",
    "        # userID, testId 별 푼 문항의 누적 합\n",
    "        df['UserTestCumtestnum'] = df.groupby(['userID','testId'])['answerCode'].cumcount()\n",
    "\n",
    "        testId2maxlen = df[['assessmentItemID', 'testId']].drop_duplicates().groupby('testId').size()\n",
    "        # test의 문항 수\n",
    "        df['TestSize'] = df.testId.map(testId2maxlen)\n",
    "        # user가 같은 test를 여러 번 푼 것인지 나타낸 변수 (처음 품 : 0, 두번 품 : 1, 세번 품 : 2)\n",
    "        df['Retest'] = df['UserTestCumtestnum'] // df['TestSize']\n",
    "\n",
    "        # Cycle 별 푼 문항의 누적 합\n",
    "        df['UserCycleCumtestnum'] = df['UserTestCumtestnum'] % df['TestSize']        \n",
    "\n",
    "        # df.to_csv(preprocess_df_path, index=False)\n",
    "        print('* Success to save preprocessed df')\n",
    "\n",
    "    else:\n",
    "        df = pd.read_csv(preprocess_df_path)\n",
    "    \n",
    "        print('* Success to load preprocessed df')\n",
    "    \n",
    "    return df"
   ]
  },
  {
   "cell_type": "code",
   "execution_count": 24,
   "metadata": {},
   "outputs": [],
   "source": [
    "def set_y(df, y_id, y_method):\n",
    "    if y_method == 'last':\n",
    "        # y_id 별 마지막 행을 y로\n",
    "        y = df.groupby(y_id)['answerCode'].apply(lambda x: list(x)[-1])\n",
    "        y.name = 'y'\n",
    "        df = df.merge(y, how=\"inner\", on=y_id)\n",
    "\n",
    "        # y_id 별 마지막 행 제거\n",
    "        last_idx = df.groupby(y_id).apply(lambda x: x.index[-1]).values\n",
    "        df = df.drop(last_idx)\n",
    "    \n",
    "    elif y_method == 'next':\n",
    "        # 다음 answerCode를 y로\n",
    "        df['y'] = df.answerCode.shift(-1)\n",
    "\n",
    "        # y_id 별 마지막 행 제거\n",
    "        last_idx = df.groupby(y_id).apply(lambda x: x.index[-1]).values\n",
    "        df = df.drop(last_idx)\n",
    "    \n",
    "    df = df.reset_index(drop=True)\n",
    "    \n",
    "    print(f\"* Success to set y by method '{y_method}'\")\n",
    "    \n",
    "    return df\n",
    "\n",
    "def make_cumdata(df):\n",
    "    preprocess_df_path = '/opt/ml/features/cumdata.csv'\n",
    "    \n",
    "    if not os.path.exists(preprocess_df_path):\n",
    "        temp_df = pd.DataFrame(df.userID)\n",
    "        \n",
    "        # test의 문항 번호\n",
    "        temp_df['testNumber'] = [int(assessment[-3:]) for assessment in df.assessmentItemID]\n",
    "\n",
    "        # userID 별 맞춘 문항의 누적 합\n",
    "        temp_df[\"UserCumcorrectnum\"] = df.groupby(['userID'])['answerCode'].apply(lambda x: x.cumsum().shift(1))\n",
    "        # userID 별 누적 정답률\n",
    "        temp_df[\"UserCumcorrectper\"] = temp_df['UserCumcorrectnum'] / df['UserCumtestnum']\n",
    "\n",
    "        # userID, KnowledgeTag 별 맞춘 문항의 누적 합\n",
    "        temp_df[\"UserTagCumcorrectnum\"] = df.groupby(['userID', 'KnowledgeTag'])['answerCode'].apply(lambda x: x.cumsum().shift(1))\n",
    "        temp_df[\"UserTagCumcorrectnum\"] = temp_df[\"UserTagCumcorrectnum\"].fillna(0)\n",
    "        # userID, KnowledgeTag 별 누적 정답률\n",
    "        temp_df[\"UserTagCumcorrectper\"] = temp_df['UserTagCumcorrectnum'] / df['UserTagCumtestnum']\n",
    "        temp_df[\"UserTagCumcorrectper\"] = temp_df[\"UserTagCumcorrectper\"].fillna(0)\n",
    "\n",
    "        # userID, testId 별 맞춘 문항의 누적 합\n",
    "        temp_df[\"UserTestCumcorrectnum\"] = df.groupby(['userID','testId'])['answerCode'].apply(lambda x: x.cumsum().shift(1))\n",
    "        # userID, testId 별 누적 정답률\n",
    "        temp_df[\"UserTestCumcorrectper\"] = temp_df['UserTestCumcorrectnum'] / df['UserTestCumtestnum']\n",
    "\n",
    "        # Cycle 별 맞춘 문항의 누적 합\n",
    "        temp_df['UserCycleCumcorrectnum'] = df.groupby(['userID','testId','Retest'])['answerCode'].apply(lambda x: x.cumsum().shift(1))\n",
    "        # Cycle 별 누적 정답률\n",
    "        temp_df['UserCycleCumcorrectper'] = temp_df['UserCycleCumcorrectnum']/df['UserCycleCumtestnum']\n",
    "        \n",
    "        temp_df = temp_df.drop('userID', axis=1)\n",
    "        # temp_df.to_csv(preprocess_df_path, index=False)\n",
    "        \n",
    "        print('* Success to save cumulative data')\n",
    "    \n",
    "    else:\n",
    "        temp_df = pd.read_csv(preprocess_df_path)\n",
    "    \n",
    "        print('* Success to load cumulative data')\n",
    "\n",
    "    df = pd.concat([df, temp_df], axis=1)\n",
    "    \n",
    "    return df\n",
    "\n",
    "def y_id2columns(y_id):\n",
    "    if y_id == 'user':\n",
    "        y_id = 'userID'\n",
    "    elif y_id == 'cycle':\n",
    "        y_id = ['userID', 'testId', 'Retest']\n",
    "    \n",
    "    return y_id"
   ]
  },
  {
   "cell_type": "code",
   "execution_count": 8,
   "metadata": {},
   "outputs": [],
   "source": [
    "t_df = pd.read_csv(os.path.join(data_dir, file_name))"
   ]
  },
  {
   "cell_type": "code",
   "execution_count": 9,
   "metadata": {},
   "outputs": [
    {
     "name": "stdout",
     "output_type": "stream",
     "text": [
      "* Success to save preprocessed df\n"
     ]
    }
   ],
   "source": [
    "tp_df = preprocess(t_df)"
   ]
  },
  {
   "cell_type": "code",
   "execution_count": 11,
   "metadata": {},
   "outputs": [
    {
     "data": {
      "text/html": [
       "<div>\n",
       "<style scoped>\n",
       "    .dataframe tbody tr th:only-of-type {\n",
       "        vertical-align: middle;\n",
       "    }\n",
       "\n",
       "    .dataframe tbody tr th {\n",
       "        vertical-align: top;\n",
       "    }\n",
       "\n",
       "    .dataframe thead th {\n",
       "        text-align: right;\n",
       "    }\n",
       "</style>\n",
       "<table border=\"1\" class=\"dataframe\">\n",
       "  <thead>\n",
       "    <tr style=\"text-align: right;\">\n",
       "      <th></th>\n",
       "      <th>userID</th>\n",
       "      <th>assessmentItemID</th>\n",
       "      <th>testId</th>\n",
       "      <th>answerCode</th>\n",
       "      <th>Timestamp</th>\n",
       "      <th>KnowledgeTag</th>\n",
       "      <th>time_diff</th>\n",
       "      <th>UserCumtestnum</th>\n",
       "      <th>UserTagCumtestnum</th>\n",
       "      <th>UserTestCumtestnum</th>\n",
       "      <th>TestSize</th>\n",
       "      <th>Retest</th>\n",
       "      <th>UserCycleCumtestnum</th>\n",
       "    </tr>\n",
       "  </thead>\n",
       "  <tbody>\n",
       "    <tr>\n",
       "      <th>0</th>\n",
       "      <td>0</td>\n",
       "      <td>A060001001</td>\n",
       "      <td>A060000001</td>\n",
       "      <td>1</td>\n",
       "      <td>1584976631</td>\n",
       "      <td>7224</td>\n",
       "      <td>NaN</td>\n",
       "      <td>0</td>\n",
       "      <td>0</td>\n",
       "      <td>0</td>\n",
       "      <td>6</td>\n",
       "      <td>0</td>\n",
       "      <td>0</td>\n",
       "    </tr>\n",
       "    <tr>\n",
       "      <th>1</th>\n",
       "      <td>0</td>\n",
       "      <td>A060001002</td>\n",
       "      <td>A060000001</td>\n",
       "      <td>1</td>\n",
       "      <td>1584976634</td>\n",
       "      <td>7225</td>\n",
       "      <td>3.0</td>\n",
       "      <td>1</td>\n",
       "      <td>0</td>\n",
       "      <td>1</td>\n",
       "      <td>6</td>\n",
       "      <td>0</td>\n",
       "      <td>1</td>\n",
       "    </tr>\n",
       "    <tr>\n",
       "      <th>2</th>\n",
       "      <td>0</td>\n",
       "      <td>A060001003</td>\n",
       "      <td>A060000001</td>\n",
       "      <td>1</td>\n",
       "      <td>1584976642</td>\n",
       "      <td>7225</td>\n",
       "      <td>8.0</td>\n",
       "      <td>2</td>\n",
       "      <td>1</td>\n",
       "      <td>2</td>\n",
       "      <td>6</td>\n",
       "      <td>0</td>\n",
       "      <td>2</td>\n",
       "    </tr>\n",
       "  </tbody>\n",
       "</table>\n",
       "</div>"
      ],
      "text/plain": [
       "   userID assessmentItemID      testId  answerCode   Timestamp  KnowledgeTag  \\\n",
       "0       0       A060001001  A060000001           1  1584976631          7224   \n",
       "1       0       A060001002  A060000001           1  1584976634          7225   \n",
       "2       0       A060001003  A060000001           1  1584976642          7225   \n",
       "\n",
       "   time_diff  UserCumtestnum  UserTagCumtestnum  UserTestCumtestnum  TestSize  \\\n",
       "0        NaN               0                  0                   0         6   \n",
       "1        3.0               1                  0                   1         6   \n",
       "2        8.0               2                  1                   2         6   \n",
       "\n",
       "   Retest  UserCycleCumtestnum  \n",
       "0       0                    0  \n",
       "1       0                    1  \n",
       "2       0                    2  "
      ]
     },
     "execution_count": 11,
     "metadata": {},
     "output_type": "execute_result"
    }
   ],
   "source": [
    "tp_df.head(3)"
   ]
  },
  {
   "cell_type": "code",
   "execution_count": 17,
   "metadata": {},
   "outputs": [
    {
     "data": {
      "text/plain": [
       "(2266586, 2266586)"
      ]
     },
     "execution_count": 17,
     "metadata": {},
     "output_type": "execute_result"
    }
   ],
   "source": [
    "len(t_df), len(tp_df)"
   ]
  },
  {
   "cell_type": "code",
   "execution_count": 14,
   "metadata": {},
   "outputs": [],
   "source": [
    "y_id = y_id2columns(y_id)"
   ]
  },
  {
   "cell_type": "code",
   "execution_count": 15,
   "metadata": {},
   "outputs": [
    {
     "data": {
      "text/plain": [
       "['userID', 'testId', 'Retest']"
      ]
     },
     "execution_count": 15,
     "metadata": {},
     "output_type": "execute_result"
    }
   ],
   "source": [
    "y_id"
   ]
  },
  {
   "cell_type": "code",
   "execution_count": 20,
   "metadata": {},
   "outputs": [
    {
     "data": {
      "text/plain": [
       "2266586"
      ]
     },
     "execution_count": 20,
     "metadata": {},
     "output_type": "execute_result"
    }
   ],
   "source": [
    "t_df = t_df.sort_values(by=['userID','Timestamp']).reset_index(drop=True)\n",
    "len(t_df)"
   ]
  },
  {
   "cell_type": "code",
   "execution_count": 22,
   "metadata": {},
   "outputs": [
    {
     "name": "stdout",
     "output_type": "stream",
     "text": [
      "* Success to set y by method 'last'\n"
     ]
    }
   ],
   "source": [
    "tpp_df = set_y(tp_df, y_id, y_method)"
   ]
  },
  {
   "cell_type": "code",
   "execution_count": 23,
   "metadata": {},
   "outputs": [
    {
     "data": {
      "text/html": [
       "<div>\n",
       "<style scoped>\n",
       "    .dataframe tbody tr th:only-of-type {\n",
       "        vertical-align: middle;\n",
       "    }\n",
       "\n",
       "    .dataframe tbody tr th {\n",
       "        vertical-align: top;\n",
       "    }\n",
       "\n",
       "    .dataframe thead th {\n",
       "        text-align: right;\n",
       "    }\n",
       "</style>\n",
       "<table border=\"1\" class=\"dataframe\">\n",
       "  <thead>\n",
       "    <tr style=\"text-align: right;\">\n",
       "      <th></th>\n",
       "      <th>userID</th>\n",
       "      <th>assessmentItemID</th>\n",
       "      <th>testId</th>\n",
       "      <th>answerCode</th>\n",
       "      <th>Timestamp</th>\n",
       "      <th>KnowledgeTag</th>\n",
       "      <th>time_diff</th>\n",
       "      <th>UserCumtestnum</th>\n",
       "      <th>UserTagCumtestnum</th>\n",
       "      <th>UserTestCumtestnum</th>\n",
       "      <th>TestSize</th>\n",
       "      <th>Retest</th>\n",
       "      <th>UserCycleCumtestnum</th>\n",
       "      <th>y</th>\n",
       "    </tr>\n",
       "  </thead>\n",
       "  <tbody>\n",
       "    <tr>\n",
       "      <th>0</th>\n",
       "      <td>0</td>\n",
       "      <td>A060001001</td>\n",
       "      <td>A060000001</td>\n",
       "      <td>1</td>\n",
       "      <td>1584976631</td>\n",
       "      <td>7224</td>\n",
       "      <td>NaN</td>\n",
       "      <td>0</td>\n",
       "      <td>0</td>\n",
       "      <td>0</td>\n",
       "      <td>6</td>\n",
       "      <td>0</td>\n",
       "      <td>0</td>\n",
       "      <td>1</td>\n",
       "    </tr>\n",
       "    <tr>\n",
       "      <th>1</th>\n",
       "      <td>0</td>\n",
       "      <td>A060001002</td>\n",
       "      <td>A060000001</td>\n",
       "      <td>1</td>\n",
       "      <td>1584976634</td>\n",
       "      <td>7225</td>\n",
       "      <td>3.0</td>\n",
       "      <td>1</td>\n",
       "      <td>0</td>\n",
       "      <td>1</td>\n",
       "      <td>6</td>\n",
       "      <td>0</td>\n",
       "      <td>1</td>\n",
       "      <td>1</td>\n",
       "    </tr>\n",
       "    <tr>\n",
       "      <th>2</th>\n",
       "      <td>0</td>\n",
       "      <td>A060001003</td>\n",
       "      <td>A060000001</td>\n",
       "      <td>1</td>\n",
       "      <td>1584976642</td>\n",
       "      <td>7225</td>\n",
       "      <td>8.0</td>\n",
       "      <td>2</td>\n",
       "      <td>1</td>\n",
       "      <td>2</td>\n",
       "      <td>6</td>\n",
       "      <td>0</td>\n",
       "      <td>2</td>\n",
       "      <td>1</td>\n",
       "    </tr>\n",
       "  </tbody>\n",
       "</table>\n",
       "</div>"
      ],
      "text/plain": [
       "   userID assessmentItemID      testId  answerCode   Timestamp  KnowledgeTag  \\\n",
       "0       0       A060001001  A060000001           1  1584976631          7224   \n",
       "1       0       A060001002  A060000001           1  1584976634          7225   \n",
       "2       0       A060001003  A060000001           1  1584976642          7225   \n",
       "\n",
       "   time_diff  UserCumtestnum  UserTagCumtestnum  UserTestCumtestnum  TestSize  \\\n",
       "0        NaN               0                  0                   0         6   \n",
       "1        3.0               1                  0                   1         6   \n",
       "2        8.0               2                  1                   2         6   \n",
       "\n",
       "   Retest  UserCycleCumtestnum  y  \n",
       "0       0                    0  1  \n",
       "1       0                    1  1  \n",
       "2       0                    2  1  "
      ]
     },
     "execution_count": 23,
     "metadata": {},
     "output_type": "execute_result"
    }
   ],
   "source": [
    "tpp_df.head(3)"
   ]
  },
  {
   "cell_type": "code",
   "execution_count": 27,
   "metadata": {},
   "outputs": [
    {
     "data": {
      "text/plain": [
       "(2266586, 2266586, 1893983)"
      ]
     },
     "execution_count": 27,
     "metadata": {},
     "output_type": "execute_result"
    }
   ],
   "source": [
    "len(t_df), len(tp_df), len(tpp_df)"
   ]
  },
  {
   "cell_type": "code",
   "execution_count": 28,
   "metadata": {},
   "outputs": [
    {
     "data": {
      "text/plain": [
       "userID  testId      Retest\n",
       "0       A020000172  0         0\n",
       "        A020000174  0         0\n",
       "        A020000181  0         0\n",
       "        A020000182  0         1\n",
       "        A020000183  0         1\n",
       "                             ..\n",
       "7440    A030000136  0         0\n",
       "        A030000197  0         0\n",
       "        A050000096  0         0\n",
       "7441    A030000071  0         0\n",
       "        A040000165  0         1\n",
       "Name: answerCode, Length: 372603, dtype: int64"
      ]
     },
     "execution_count": 28,
     "metadata": {},
     "output_type": "execute_result"
    }
   ],
   "source": [
    "tp_df.groupby(y_id)['answerCode'].apply(lambda x: list(x)[-1])"
   ]
  },
  {
   "cell_type": "code",
   "execution_count": 79,
   "metadata": {},
   "outputs": [],
   "source": [
    "t_df['time_diff'].fillna(0, inplace=True)"
   ]
  },
  {
   "cell_type": "code",
   "execution_count": 80,
   "metadata": {},
   "outputs": [
    {
     "data": {
      "text/plain": [
       "0                0.0\n",
       "1                3.0\n",
       "2                8.0\n",
       "3                7.0\n",
       "4                7.0\n",
       "             ...    \n",
       "2266581         24.0\n",
       "2266582    6632178.0\n",
       "2266583         11.0\n",
       "2266584         46.0\n",
       "2266585         73.0\n",
       "Name: time_diff, Length: 2266586, dtype: float64"
      ]
     },
     "execution_count": 80,
     "metadata": {},
     "output_type": "execute_result"
    }
   ],
   "source": [
    "t_df['time_diff']"
   ]
  }
 ],
 "metadata": {
  "kernelspec": {
   "display_name": "baseline_code",
   "language": "python",
   "name": "baseline_code"
  },
  "language_info": {
   "codemirror_mode": {
    "name": "ipython",
    "version": 3
   },
   "file_extension": ".py",
   "mimetype": "text/x-python",
   "name": "python",
   "nbconvert_exporter": "python",
   "pygments_lexer": "ipython3",
   "version": "3.8.8"
  }
 },
 "nbformat": 4,
 "nbformat_minor": 4
}
