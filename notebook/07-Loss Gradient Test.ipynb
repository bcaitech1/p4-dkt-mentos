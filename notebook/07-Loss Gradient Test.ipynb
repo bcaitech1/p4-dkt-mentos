{
 "cells": [
  {
   "cell_type": "code",
   "execution_count": 1,
   "metadata": {},
   "outputs": [],
   "source": [
    "import sys\n",
    "import os.path as p\n",
    "\n",
    "sys.path.append(\"/home/j-gunmo/desktop/00.my-project/17.P-Stage-T1003/4-STAGE/\")\n",
    "\n",
    "from fe.feature import FEBase, FEPipeline\n",
    "\n",
    "from fe.agg import (\n",
    "    MakeCorrectCount, \n",
    "    MakeCorrectPercent, \n",
    "    MakeQuestionCount, \n",
    "    MakeTopNCorrectPercent\n",
    ")\n",
    "\n",
    "from fe.seq import (\n",
    "    SplitAssessmentItemID,\n",
    "    MakeFirstClass,\n",
    "    MakeSecondClass,\n",
    "    MakeTimeDiff,\n",
    "    MakeYMD,\n",
    "    ConvertTime\n",
    ")\n",
    "\n",
    "import easydict\n",
    "from IPython.display import clear_output\n",
    "\n",
    "from dkt_dataset import Preprocess\n",
    "from utils import get_args, get_root_dir"
   ]
  },
  {
   "cell_type": "code",
   "execution_count": 2,
   "metadata": {},
   "outputs": [],
   "source": [
    "args = get_args()\n",
    "args.data_dir = \"../../input/data/train_dataset/\"\n",
    "args.root_dir = get_root_dir(\"../loss_test/\")"
   ]
  },
  {
   "cell_type": "code",
   "execution_count": 3,
   "metadata": {},
   "outputs": [],
   "source": [
    "args.num_workers = 2\n",
    "args.n_epochs = 10\n",
    "args.hidden_dim = 1024\n",
    "args.use_dynamic = True"
   ]
  },
  {
   "cell_type": "code",
   "execution_count": 4,
   "metadata": {},
   "outputs": [],
   "source": [
    "import torch\n",
    "from trainer import DKTTrainer\n",
    "from models.lstm.model import LSTM\n",
    "from utils import get_criterion\n",
    "\n",
    "class Loss1Trainer(DKTTrainer):  # 원래 코드\n",
    "    def _collate_fn(self, batches):\n",
    "        \"\"\" key값으로 batch 형성 \"\"\"\n",
    "        new_batches = {k: [] for k in batches[0].keys()}\n",
    "\n",
    "        # batch의 값들을 각 column끼리 그룹화\n",
    "        for k in batches[0].keys():\n",
    "            for batch in batches:\n",
    "                pre_padded = torch.zeros(self.args.max_seq_len)\n",
    "                pre_padded[-len(batch[k]) :] = batch[k]\n",
    "                new_batches[k].append(pre_padded)\n",
    "\n",
    "        for k in batches[0].keys():\n",
    "            new_batches[k] = torch.stack(new_batches[k])\n",
    "\n",
    "        return new_batches\n",
    "\n",
    "    def _process_batch(self, batch):\n",
    "        batch['mask'] = batch['mask'].type(torch.FloatTensor)\n",
    "        batch[\"answerCode\"] = batch[\"answerCode\"].type(torch.FloatTensor)\n",
    "\n",
    "        batch[\"interaction\"] = batch[\"answerCode\"] + 1\n",
    "        batch[\"interaction\"] = batch[\"interaction\"].roll(shifts=1, dims=1)\n",
    "        batch[\"mask\"] = batch[\"mask\"].roll(shifts=1, dims=1)\n",
    "        batch[\"mask\"][:, 0] = 0\n",
    "        batch[\"interaction\"] = (batch[\"interaction\"] * batch[\"mask\"]).to(torch.int64)\n",
    "        \n",
    "        \n",
    "        for k in args.n_linears: # 수치형\n",
    "            batch[k] = batch[k].type(torch.FloatTensor)\n",
    "            \n",
    "        for k, v in args.n_embeddings.items(): # 범주형\n",
    "            batch[k] = batch[k].to(torch.int64)\n",
    "            \n",
    "        for k in batch.keys():\n",
    "            batch[k] = batch[k].to(self.args.device)\n",
    "        \n",
    "        return batch\n",
    "    \n",
    "class Loss2Trainer(Loss1Trainer):\n",
    "    def _compute_loss(self, preds, targets):\n",
    "        loss = get_criterion(preds, targets)\n",
    "        loss = loss[:, -2:]\n",
    "        loss = torch.mean(loss)\n",
    "        return loss\n",
    "    \n",
    "class Loss5Trainer(Loss1Trainer):\n",
    "    def _compute_loss(self, preds, targets):\n",
    "        loss = get_criterion(preds, targets)\n",
    "        loss = loss[:, -5:]\n",
    "        loss = torch.mean(loss)  # scalar 형태가 아니면 loss.backward가 안된다.\n",
    "        return loss\n",
    "    \n",
    "class Loss10Trainer(Loss1Trainer):\n",
    "    def _compute_loss(self, preds, targets):\n",
    "        loss = get_criterion(preds, targets)\n",
    "        loss = loss[:, -10:]\n",
    "        loss = torch.mean(loss)\n",
    "        return loss\n",
    "    \n",
    "class LossAllTrainer(Loss1Trainer):\n",
    "    def _compute_loss(self, preds, targets):\n",
    "        loss = get_criterion(preds, targets)\n",
    "        loss = torch.mean(loss)\n",
    "        return loss"
   ]
  },
  {
   "cell_type": "code",
   "execution_count": 5,
   "metadata": {},
   "outputs": [],
   "source": [
    "import pandas as pd\n",
    "from fe.agg import AggFeBase\n",
    "\n",
    "class MakeDifficultyByFirstClass(AggFeBase):\n",
    "    name = \"make_difficulty_by_firstclass\"\n",
    "    description = {\n",
    "        \"firstClassDifficulty\" : \"유저의 대분류별 정답률을 나타냅니다.\"\n",
    "    }\n",
    "    \n",
    "    pre_fe = {\"make_first_class\"}\n",
    "    agg_column = [\"userID\", \"firstClass\"]\n",
    "    \n",
    "    @classmethod\n",
    "    def _transform(cls, df):\n",
    "        grouped_df = df.groupby(cls.agg_column).answerCode.mean()\n",
    "        a, b = zip(*grouped_df.index)\n",
    "        \n",
    "        right_df = pd.DataFrame(\n",
    "            {\"userID\": a, \"firstClass\": b, \"firstClassDifficulty\": list(grouped_df)}\n",
    "        )\n",
    "        \n",
    "        return right_df"
   ]
  },
  {
   "cell_type": "code",
   "execution_count": 6,
   "metadata": {},
   "outputs": [],
   "source": [
    "args.num_workers = 4\n",
    "args.n_epochs = 10\n",
    "args.hidden_dim = 1024\n",
    "args.use_dynamic = True"
   ]
  },
  {
   "cell_type": "code",
   "execution_count": 7,
   "metadata": {},
   "outputs": [],
   "source": [
    "fe_pipeline = FEPipeline(\n",
    "    args, [\n",
    "        SplitAssessmentItemID,\n",
    "        ConvertTime,\n",
    "        MakeFirstClass,\n",
    "        MakeSecondClass,\n",
    "        MakeCorrectCount,\n",
    "        MakeQuestionCount,\n",
    "        MakeCorrectPercent,\n",
    "        MakeDifficultyByFirstClass\n",
    "    ]\n",
    ")\n",
    "\n",
    "columns = [\n",
    "    \"userID\",\n",
    "    \"answerCode\",\n",
    "    \"testPaper\",\n",
    "    \"timeSec\",\n",
    "    \"firstClass\",\n",
    "    \"secondClass\",\n",
    "    \"correctPer\",\n",
    "    \"firstClassDifficulty\"\n",
    "]\n",
    "\n",
    "pre_encoders = {\n",
    "    \"label\": [\"testPaper\", \"firstClass\", \"secondClass\"],\n",
    "    \"min_max\": [\"correctPer\"],\n",
    "    \"std\": [\"timeSec\", \"firstClassDifficulty\"],\n",
    "}"
   ]
  },
  {
   "cell_type": "markdown",
   "metadata": {},
   "source": [
    "## PrePare"
   ]
  },
  {
   "cell_type": "code",
   "execution_count": 8,
   "metadata": {
    "collapsed": true,
    "jupyter": {
     "outputs_hidden": true
    }
   },
   "outputs": [],
   "source": [
    "preprocess = Preprocess(args, fe_pipeline, columns)\n",
    "\n",
    "# preprocess.feature_engineering()\n",
    "# preprocess.split_data()\n",
    "# preprocess.scaling(pre_encoders)\n",
    "# preprocess.data_augmentation(choices=[1, 3])\n",
    "preprocess.preprocessing(pre_encoders)\n",
    "\n",
    "clear_output()"
   ]
  },
  {
   "cell_type": "code",
   "execution_count": 9,
   "metadata": {},
   "outputs": [],
   "source": [
    "train_dataset = preprocess.get_data(\"train_grouped\")\n",
    "valid_dataset = preprocess.get_data(\"valid_grouped\")\n",
    "test_dataset = preprocess.get_data(\"test_grouped\")"
   ]
  },
  {
   "cell_type": "code",
   "execution_count": 10,
   "metadata": {},
   "outputs": [],
   "source": [
    "args.columns = columns[1:]"
   ]
  },
  {
   "attachments": {
    "14ff6fcf-8629-41e5-9ffe-5eec2b887f53.png": {
     "image/png": "[encoded data removed]"
    }
   },
   "cell_type": "markdown",
   "metadata": {},
   "source": [
    "![image.png](attachment:14ff6fcf-8629-41e5-9ffe-5eec2b887f53.png)"
   ]
  },
  {
   "cell_type": "markdown",
   "metadata": {},
   "source": [
    "### 이전 전처리 방법으로 LB Score 체크"
   ]
  },
  {
   "cell_type": "code",
   "execution_count": 8,
   "metadata": {},
   "outputs": [],
   "source": [
    "preprocess = Preprocess(args, fe_pipeline, columns)\n",
    "\n",
    "preprocess.feature_engineering()\n",
    "preprocess.split_data()\n",
    "preprocess.scaling(pre_encoders)\n",
    "preprocess.data_augmentation(choices=[1, 3])\n",
    "# preprocess.preprocessing(pre_encoders)\n",
    "\n",
    "clear_output()"
   ]
  },
  {
   "cell_type": "code",
   "execution_count": 9,
   "metadata": {},
   "outputs": [],
   "source": [
    "train_dataset = preprocess.get_data(\"train_grouped\")\n",
    "valid_dataset = preprocess.get_data(\"valid_grouped\")\n",
    "test_dataset = preprocess.get_data(\"test_grouped\")"
   ]
  },
  {
   "cell_type": "code",
   "execution_count": 10,
   "metadata": {},
   "outputs": [
    {
     "data": {
      "text/plain": [
       "['answerCode',\n",
       " 'testPaper',\n",
       " 'timeSec',\n",
       " 'firstClass',\n",
       " 'secondClass',\n",
       " 'correctPer',\n",
       " 'firstClassDifficulty']"
      ]
     },
     "execution_count": 10,
     "metadata": {},
     "output_type": "execute_result"
    }
   ],
   "source": [
    "args.columns = columns[1:]\n",
    "args.columns"
   ]
  },
  {
   "cell_type": "code",
   "execution_count": 11,
   "metadata": {},
   "outputs": [
    {
     "name": "stdout",
     "output_type": "stream",
     "text": [
      "auc: 0.785958090266418, acc: 0.6943768996960487\n"
     ]
    }
   ],
   "source": [
    "trainer = Loss1Trainer(args, LSTM)\n",
    "auc, acc = trainer.run_cv(train_dataset, valid_dataset, test_dataset,\n",
    "                         folds=5, seeds=[0, 1, 2, 3, 4])\n",
    "clear_output()\n",
    "print(f\"auc: {auc}, acc: {acc}\")"
   ]
  },
  {
   "cell_type": "markdown",
   "metadata": {},
   "source": [
    "LB AUC : 0.7223  LB ACC : 0.6640"
   ]
  },
  {
   "cell_type": "code",
   "execution_count": 12,
   "metadata": {},
   "outputs": [
    {
     "data": {
      "text/plain": [
       "'../loss_test/LOG_[06.10_11:54]'"
      ]
     },
     "execution_count": 12,
     "metadata": {},
     "output_type": "execute_result"
    }
   ],
   "source": [
    "trainer.prefix_save_path"
   ]
  },
  {
   "cell_type": "markdown",
   "metadata": {},
   "source": [
    "### 전처리 이전, use_dynamic False 한 이후로 LB Score 체크"
   ]
  },
  {
   "cell_type": "code",
   "execution_count": 14,
   "metadata": {},
   "outputs": [],
   "source": [
    "args.use_dynamic = False"
   ]
  },
  {
   "cell_type": "code",
   "execution_count": 15,
   "metadata": {},
   "outputs": [
    {
     "name": "stdout",
     "output_type": "stream",
     "text": [
      "auc: 0.7942036907026714, acc: 0.7220871327254306\n",
      "logging path : ../loss_test/LOG_[06.10_12:38]\n"
     ]
    }
   ],
   "source": [
    "trainer = Loss1Trainer(args, LSTM)\n",
    "auc, acc = trainer.run_cv(train_dataset, valid_dataset, test_dataset,\n",
    "                         folds=5, seeds=[0, 1, 2, 3, 4])\n",
    "clear_output()\n",
    "print(f\"auc: {auc}, acc: {acc}\")\n",
    "print(f\"logging path : {trainer.prefix_save_path}\")"
   ]
  },
  {
   "cell_type": "markdown",
   "metadata": {},
   "source": [
    "LB AUC: 0.7436 LB ACC : 0.6882"
   ]
  },
  {
   "cell_type": "code",
   "execution_count": 34,
   "metadata": {},
   "outputs": [
    {
     "data": {
      "text/html": [
       "<div>\n",
       "<style scoped>\n",
       "    .dataframe tbody tr th:only-of-type {\n",
       "        vertical-align: middle;\n",
       "    }\n",
       "\n",
       "    .dataframe tbody tr th {\n",
       "        vertical-align: top;\n",
       "    }\n",
       "\n",
       "    .dataframe thead th {\n",
       "        text-align: right;\n",
       "    }\n",
       "</style>\n",
       "<table border=\"1\" class=\"dataframe\">\n",
       "  <thead>\n",
       "    <tr style=\"text-align: right;\">\n",
       "      <th></th>\n",
       "      <th>userID</th>\n",
       "      <th>answerCode</th>\n",
       "      <th>testPaper</th>\n",
       "      <th>timeSec</th>\n",
       "      <th>firstClass</th>\n",
       "      <th>secondClass</th>\n",
       "      <th>correctPer</th>\n",
       "      <th>firstClassDifficulty</th>\n",
       "    </tr>\n",
       "  </thead>\n",
       "  <tbody>\n",
       "    <tr>\n",
       "      <th>0</th>\n",
       "      <td>3</td>\n",
       "      <td>1</td>\n",
       "      <td>804</td>\n",
       "      <td>-2.351056</td>\n",
       "      <td>4</td>\n",
       "      <td>267</td>\n",
       "      <td>0.69112</td>\n",
       "      <td>-0.011007</td>\n",
       "    </tr>\n",
       "    <tr>\n",
       "      <th>1</th>\n",
       "      <td>3</td>\n",
       "      <td>1</td>\n",
       "      <td>804</td>\n",
       "      <td>-2.351053</td>\n",
       "      <td>4</td>\n",
       "      <td>267</td>\n",
       "      <td>0.69112</td>\n",
       "      <td>-0.011007</td>\n",
       "    </tr>\n",
       "    <tr>\n",
       "      <th>2</th>\n",
       "      <td>3</td>\n",
       "      <td>0</td>\n",
       "      <td>804</td>\n",
       "      <td>-2.351039</td>\n",
       "      <td>4</td>\n",
       "      <td>266</td>\n",
       "      <td>0.69112</td>\n",
       "      <td>-0.011007</td>\n",
       "    </tr>\n",
       "    <tr>\n",
       "      <th>3</th>\n",
       "      <td>3</td>\n",
       "      <td>0</td>\n",
       "      <td>804</td>\n",
       "      <td>-2.351038</td>\n",
       "      <td>4</td>\n",
       "      <td>266</td>\n",
       "      <td>0.69112</td>\n",
       "      <td>-0.011007</td>\n",
       "    </tr>\n",
       "    <tr>\n",
       "      <th>4</th>\n",
       "      <td>3</td>\n",
       "      <td>0</td>\n",
       "      <td>804</td>\n",
       "      <td>-2.351037</td>\n",
       "      <td>4</td>\n",
       "      <td>265</td>\n",
       "      <td>0.69112</td>\n",
       "      <td>-0.011007</td>\n",
       "    </tr>\n",
       "    <tr>\n",
       "      <th>...</th>\n",
       "      <td>...</td>\n",
       "      <td>...</td>\n",
       "      <td>...</td>\n",
       "      <td>...</td>\n",
       "      <td>...</td>\n",
       "      <td>...</td>\n",
       "      <td>...</td>\n",
       "      <td>...</td>\n",
       "    </tr>\n",
       "    <tr>\n",
       "      <th>260109</th>\n",
       "      <td>7439</td>\n",
       "      <td>0</td>\n",
       "      <td>713</td>\n",
       "      <td>1.091057</td>\n",
       "      <td>3</td>\n",
       "      <td>783</td>\n",
       "      <td>0.62500</td>\n",
       "      <td>-0.140976</td>\n",
       "    </tr>\n",
       "    <tr>\n",
       "      <th>260110</th>\n",
       "      <td>7439</td>\n",
       "      <td>1</td>\n",
       "      <td>713</td>\n",
       "      <td>1.091060</td>\n",
       "      <td>3</td>\n",
       "      <td>783</td>\n",
       "      <td>0.62500</td>\n",
       "      <td>-0.140976</td>\n",
       "    </tr>\n",
       "    <tr>\n",
       "      <th>260111</th>\n",
       "      <td>7439</td>\n",
       "      <td>1</td>\n",
       "      <td>713</td>\n",
       "      <td>1.091063</td>\n",
       "      <td>3</td>\n",
       "      <td>761</td>\n",
       "      <td>0.62500</td>\n",
       "      <td>-0.140976</td>\n",
       "    </tr>\n",
       "    <tr>\n",
       "      <th>260112</th>\n",
       "      <td>7439</td>\n",
       "      <td>1</td>\n",
       "      <td>713</td>\n",
       "      <td>1.091076</td>\n",
       "      <td>3</td>\n",
       "      <td>761</td>\n",
       "      <td>0.62500</td>\n",
       "      <td>-0.140976</td>\n",
       "    </tr>\n",
       "    <tr>\n",
       "      <th>260113</th>\n",
       "      <td>7439</td>\n",
       "      <td>-1</td>\n",
       "      <td>713</td>\n",
       "      <td>1.091080</td>\n",
       "      <td>3</td>\n",
       "      <td>783</td>\n",
       "      <td>0.62500</td>\n",
       "      <td>-0.140976</td>\n",
       "    </tr>\n",
       "  </tbody>\n",
       "</table>\n",
       "<p>260114 rows × 8 columns</p>\n",
       "</div>"
      ],
      "text/plain": [
       "        userID  answerCode  testPaper   timeSec  firstClass  secondClass  \\\n",
       "0            3           1        804 -2.351056           4          267   \n",
       "1            3           1        804 -2.351053           4          267   \n",
       "2            3           0        804 -2.351039           4          266   \n",
       "3            3           0        804 -2.351038           4          266   \n",
       "4            3           0        804 -2.351037           4          265   \n",
       "...        ...         ...        ...       ...         ...          ...   \n",
       "260109    7439           0        713  1.091057           3          783   \n",
       "260110    7439           1        713  1.091060           3          783   \n",
       "260111    7439           1        713  1.091063           3          761   \n",
       "260112    7439           1        713  1.091076           3          761   \n",
       "260113    7439          -1        713  1.091080           3          783   \n",
       "\n",
       "        correctPer  firstClassDifficulty  \n",
       "0          0.69112             -0.011007  \n",
       "1          0.69112             -0.011007  \n",
       "2          0.69112             -0.011007  \n",
       "3          0.69112             -0.011007  \n",
       "4          0.69112             -0.011007  \n",
       "...            ...                   ...  \n",
       "260109     0.62500             -0.140976  \n",
       "260110     0.62500             -0.140976  \n",
       "260111     0.62500             -0.140976  \n",
       "260112     0.62500             -0.140976  \n",
       "260113     0.62500             -0.140976  \n",
       "\n",
       "[260114 rows x 8 columns]"
      ]
     },
     "execution_count": 34,
     "metadata": {},
     "output_type": "execute_result"
    }
   ],
   "source": [
    "preprocess.get_data(\"test\")"
   ]
  },
  {
   "cell_type": "markdown",
   "metadata": {},
   "source": [
    "- 점수 차이가 나는 이유가... Feature Engineering을 한 이후로 Split을 해줘서 ValidData에 정답 유출이 있는 것 같음..."
   ]
  },
  {
   "cell_type": "code",
   "execution_count": 17,
   "metadata": {},
   "outputs": [],
   "source": [
    "from sklearn.preprocessing import LabelEncoder, MinMaxScaler, StandardScaler\n",
    "\n",
    "class LableProcess(Preprocess):\n",
    "    def feature_engineering(self):\n",
    "        \"\"\" Feature engineering을 진행합니다. \"\"\"\n",
    "        for key in [\"train\", \"test\"]:\n",
    "            assert self.datas[key] is not None, f\"you must loads {key} dataset\"\n",
    "            df = self.fe_pipeline.transform(self.datas[key], key)\n",
    "            self.datas[key] = df[self.columns]\n",
    "            \n",
    "    def scaling(self, pre_encoders):\n",
    "        \"\"\"기계가 처리 가능하도로 변환, \"train\", \"test\"에 대해서만 수행\n",
    "        label   : LabelEncoder\n",
    "        min_max : MinMaxScaler\n",
    "        std     : StandardScaler\n",
    "        \"\"\"\n",
    "        assert (\n",
    "            len(set(pre_encoders.keys()).intersection(set([\"label\", \"min_max\", \"std\"]))) == 3\n",
    "        ), \"pre_encoders의 key값을 ('label', 'min_max', 'std') 다 입력해주세요.\"\n",
    "\n",
    "        encoders = {}\n",
    "        self.args.n_embeddings = easydict.EasyDict()\n",
    "        self.args.n_linears = list()\n",
    "\n",
    "        self.logger.info(\"Preprocessing Labels .. \")\n",
    "        self.logger.info(f\"Label Columns: {pre_encoders['label']}\")\n",
    "\n",
    "        for k in pre_encoders[\"label\"]:\n",
    "            encoders[k] = LabelEncoder()\n",
    "            labels = self.datas[\"train\"][k].unique().tolist() + [\"unknown\"]\n",
    "            self.args.n_embeddings[k] = len(labels)\n",
    "\n",
    "            # TODO: Label HistoGram 그리기..?\n",
    "            self.logger.info(f\"\\nLength of {k:<20} : {len(labels)}\")\n",
    "\n",
    "            # Train Fit Transform\n",
    "            encoders[k].fit(labels)\n",
    "            self.datas[\"train\"][k] = self.datas[\"train\"][k].astype(str)\n",
    "            self.logger.info(f\"Before : {self.datas['train'][k][:10]}\")\n",
    "\n",
    "            self.datas[\"train\"][k] = encoders[k].transform(self.datas[\"train\"][k])\n",
    "            self.logger.info(f\"After : {self.datas['train'][k][:10]}\")\n",
    "\n",
    "            # Valid Transform\n",
    "#             self.datas[\"valid\"][k] = self.datas[\"valid\"][k].apply(lambda x: x if x in labels else \"unknown\")\n",
    "#             self.datas[\"valid\"][k] = self.datas[\"valid\"][k].astype(str)\n",
    "#             self.datas[\"valid\"][k] = encoders[k].transform(self.datas[\"valid\"][k])\n",
    "\n",
    "            # Test Transform\n",
    "            self.datas[\"test\"][k] = self.datas[\"test\"][k].apply(lambda x: x if x in labels else \"unknown\")\n",
    "            self.datas[\"test\"][k] = self.datas[\"test\"][k].astype(str)\n",
    "            self.datas[\"test\"][k] = encoders[k].transform(self.datas[\"test\"][k])\n",
    "\n",
    "        self.logger.info(\"Preprocessing Min Max .. \")\n",
    "        self.logger.info(f\"Min Max Columns: {pre_encoders['min_max']}\")\n",
    "\n",
    "        if pre_encoders[\"min_max\"]:\n",
    "            mm_cols = pre_encoders[\"min_max\"]\n",
    "            mm_encoder = MinMaxScaler()\n",
    "            self.args.n_linears += mm_cols\n",
    "\n",
    "            # Train Fit Transform\n",
    "            self.datas[\"train\"][mm_cols] = mm_encoder.fit_transform(self.datas[\"train\"][mm_cols])\n",
    "            self.logger.info(f\"MAX: {mm_encoder.data_max_} MIN: {mm_encoder.data_min_}\")\n",
    "\n",
    "            # Valid Transform\n",
    "#             self.datas[\"valid\"][mm_cols] = mm_encoder.transform(self.datas[\"valid\"][mm_cols])\n",
    "\n",
    "            # Test Transform\n",
    "            self.datas[\"test\"][mm_cols] = mm_encoder.transform(self.datas[\"test\"][mm_cols])\n",
    "\n",
    "        self.logger.info(\"Preprocessing Min Max .. \")\n",
    "        self.logger.info(f\"Standard Columns: {pre_encoders['std']}\")\n",
    "\n",
    "        if pre_encoders[\"std\"]:\n",
    "            std_cols = pre_encoders[\"std\"]\n",
    "            std_encoder = StandardScaler()\n",
    "            self.args.n_linears += std_cols\n",
    "\n",
    "            # Train Fit Transform\n",
    "            self.datas[\"train\"][std_cols] = std_encoder.fit_transform(self.datas[\"train\"][std_cols])\n",
    "            self.logger.info(f\"MEAN: {std_encoder.mean_} VAR: {std_encoder.var_}\")\n",
    "\n",
    "            # Valid Transform\n",
    "#             self.datas[\"valid\"][std_cols] = std_encoder.transform(self.datas[\"valid\"][std_cols])\n",
    "\n",
    "            # Test Transform\n",
    "            self.datas[\"test\"][std_cols] = std_encoder.transform(self.datas[\"test\"][std_cols])"
   ]
  },
  {
   "cell_type": "markdown",
   "metadata": {},
   "source": [
    "## TestSize 0.3"
   ]
  },
  {
   "cell_type": "code",
   "execution_count": 18,
   "metadata": {},
   "outputs": [],
   "source": [
    "preprocess = LableProcess(args, fe_pipeline, columns)\n",
    "\n",
    "preprocess._data_augmentation_test_dataset()\n",
    "preprocess.feature_engineering()\n",
    "preprocess.scaling(pre_encoders)\n",
    "preprocess.split_data(test_size=0.3)\n",
    "preprocess._data_augmentation_user_testid()\n",
    "\n",
    "clear_output()"
   ]
  },
  {
   "cell_type": "code",
   "execution_count": 19,
   "metadata": {},
   "outputs": [],
   "source": [
    "train_dataset = preprocess.get_data(\"train_grouped\")\n",
    "valid_dataset = preprocess.get_data(\"valid_grouped\")\n",
    "test_dataset = preprocess.get_data(\"test_grouped\")"
   ]
  },
  {
   "cell_type": "code",
   "execution_count": 20,
   "metadata": {},
   "outputs": [
    {
     "data": {
      "text/plain": [
       "(13788, 5951, 1987)"
      ]
     },
     "execution_count": 20,
     "metadata": {},
     "output_type": "execute_result"
    }
   ],
   "source": [
    "len(train_dataset), len(valid_dataset), len(test_dataset)"
   ]
  },
  {
   "cell_type": "code",
   "execution_count": 21,
   "metadata": {},
   "outputs": [],
   "source": [
    "args.use_dynamic = False\n",
    "args.num_workers = 4\n",
    "args.n_epochs = 10\n",
    "args.hidden_dim = 1024\n",
    "args.columns = columns[1:]"
   ]
  },
  {
   "cell_type": "code",
   "execution_count": 22,
   "metadata": {},
   "outputs": [
    {
     "name": "stdout",
     "output_type": "stream",
     "text": [
      "auc: 0.7990197527950855, acc: 0.7245694022289767\n",
      "logging path : ../loss_test/LOG_[06.10_16:09]\n"
     ]
    }
   ],
   "source": [
    "trainer = Loss1Trainer(args, LSTM)\n",
    "auc, acc = trainer.run_cv(train_dataset, valid_dataset, test_dataset,\n",
    "                         folds=5, seeds=[0, 1, 2, 3, 4])\n",
    "clear_output()\n",
    "print(f\"auc: {auc}, acc: {acc}\")\n",
    "print(f\"logging path : {trainer.prefix_save_path}\")"
   ]
  },
  {
   "cell_type": "markdown",
   "metadata": {},
   "source": [
    "## Loss 1 Sequence ( Original )"
   ]
  },
  {
   "cell_type": "code",
   "execution_count": 13,
   "metadata": {},
   "outputs": [
    {
     "name": "stdout",
     "output_type": "stream",
     "text": [
      "auc: 0.7898774957290199, acc: 0.693515704154002\n"
     ]
    }
   ],
   "source": [
    "trainer = Loss1Trainer(args, LSTM)\n",
    "auc, acc = trainer.run_cv(train_dataset, valid_dataset, test_dataset,\n",
    "                         folds=5, seeds=[0, 1, 2, 3, 4])\n",
    "clear_output()\n",
    "print(f\"auc: {auc}, acc: {acc}\")"
   ]
  },
  {
   "cell_type": "markdown",
   "metadata": {},
   "source": [
    "LB AUC : 0.7217, LA ACC : 0.6667\n",
    "\n",
    "- 왜 이렇게 차이가 많이 나지...?"
   ]
  },
  {
   "cell_type": "markdown",
   "metadata": {},
   "source": [
    "## Loss 2 Sequence"
   ]
  },
  {
   "cell_type": "code",
   "execution_count": 14,
   "metadata": {},
   "outputs": [
    {
     "name": "stdout",
     "output_type": "stream",
     "text": [
      "auc: 0.7882448156986934, acc: 0.6874366767983789\n"
     ]
    }
   ],
   "source": [
    "trainer = Loss2Trainer(args, LSTM)\n",
    "auc, acc = trainer.run_cv(train_dataset, valid_dataset, test_dataset,\n",
    "                         folds=5, seeds=[0, 1, 2, 3, 4])\n",
    "clear_output()\n",
    "print(f\"auc: {auc}, acc: {acc}\")"
   ]
  },
  {
   "cell_type": "markdown",
   "metadata": {},
   "source": [
    "## Loss 5 Sequence"
   ]
  },
  {
   "cell_type": "code",
   "execution_count": 15,
   "metadata": {},
   "outputs": [
    {
     "name": "stdout",
     "output_type": "stream",
     "text": [
      "auc: 0.7867980092356734, acc: 0.6788753799392098\n"
     ]
    }
   ],
   "source": [
    "trainer = Loss5Trainer(args, LSTM)\n",
    "auc, acc = trainer.run_cv(train_dataset, valid_dataset, test_dataset,\n",
    "                         folds=5, seeds=[0, 1, 2, 3, 4])\n",
    "clear_output()\n",
    "print(f\"auc: {auc}, acc: {acc}\")"
   ]
  },
  {
   "cell_type": "markdown",
   "metadata": {},
   "source": [
    "## Loss 10 Sequence"
   ]
  },
  {
   "cell_type": "code",
   "execution_count": 16,
   "metadata": {},
   "outputs": [
    {
     "name": "stdout",
     "output_type": "stream",
     "text": [
      "auc: 0.7867090183375323, acc: 0.6813576494427558\n"
     ]
    }
   ],
   "source": [
    "trainer = Loss10Trainer(args, LSTM)\n",
    "auc, acc = trainer.run_cv(train_dataset, valid_dataset, test_dataset,\n",
    "                         folds=5, seeds=[0, 1, 2, 3, 4])\n",
    "clear_output()\n",
    "print(f\"auc: {auc}, acc: {acc}\")"
   ]
  },
  {
   "cell_type": "markdown",
   "metadata": {},
   "source": [
    "## Loss All Sequence"
   ]
  },
  {
   "cell_type": "code",
   "execution_count": 24,
   "metadata": {},
   "outputs": [
    {
     "name": "stdout",
     "output_type": "stream",
     "text": [
      "auc: 0.7972979983666841, acc: 0.7406788247213779\n"
     ]
    }
   ],
   "source": [
    "trainer = LossAllTrainer(args, LSTM)\n",
    "auc, acc = trainer.run_cv(train_dataset, valid_dataset, test_dataset,\n",
    "                         folds=5, seeds=[0, 1, 2, 3, 4])\n",
    "clear_output()\n",
    "print(f\"auc: {auc}, acc: {acc}\")"
   ]
  },
  {
   "cell_type": "markdown",
   "metadata": {},
   "source": [
    "# args.max_seq_len 15로 줄여서 실험해보기"
   ]
  },
  {
   "cell_type": "code",
   "execution_count": 8,
   "metadata": {},
   "outputs": [],
   "source": [
    "fe_pipeline = FEPipeline(\n",
    "    args, [\n",
    "        SplitAssessmentItemID,\n",
    "        ConvertTime,\n",
    "        MakeFirstClass,\n",
    "        MakeSecondClass,\n",
    "        MakeCorrectCount,\n",
    "        MakeQuestionCount,\n",
    "        MakeCorrectPercent,\n",
    "        MakeDifficultyByFirstClass\n",
    "    ]\n",
    ")\n",
    "\n",
    "columns = [\n",
    "    \"userID\",\n",
    "    \"answerCode\",\n",
    "    \"testPaper\",\n",
    "    \"timeSec\",\n",
    "    \"firstClass\",\n",
    "    \"secondClass\",\n",
    "    \"correctPer\",\n",
    "    \"firstClassDifficulty\"\n",
    "]\n",
    "\n",
    "pre_encoders = {\n",
    "    \"label\": [\"testPaper\", \"firstClass\", \"secondClass\"],\n",
    "    \"min_max\": [\"correctPer\"],\n",
    "    \"std\": [\"timeSec\", \"firstClassDifficulty\"],\n",
    "}"
   ]
  },
  {
   "cell_type": "code",
   "execution_count": 9,
   "metadata": {},
   "outputs": [],
   "source": [
    "args.max_seq_len = 15\n",
    "\n",
    "preprocess = Preprocess(args, fe_pipeline, columns)\n",
    "\n",
    "preprocess.feature_engineering()\n",
    "preprocess.split_data()\n",
    "preprocess.preprocessing(pre_encoders)\n",
    "preprocess.data_augmentation(choices=[1, 3])\n",
    "\n",
    "clear_output()"
   ]
  },
  {
   "cell_type": "code",
   "execution_count": 10,
   "metadata": {},
   "outputs": [],
   "source": [
    "train_dataset = preprocess.get_data(\"train_grouped\")\n",
    "valid_dataset = preprocess.get_data(\"valid_grouped\")\n",
    "test_dataset = preprocess.get_data(\"test_grouped\")"
   ]
  },
  {
   "cell_type": "code",
   "execution_count": 11,
   "metadata": {},
   "outputs": [],
   "source": [
    "args.columns = columns[1:]"
   ]
  },
  {
   "cell_type": "code",
   "execution_count": 12,
   "metadata": {},
   "outputs": [
    {
     "name": "stdout",
     "output_type": "stream",
     "text": [
      "auc: 0.8014928290883873, acc: 0.7409827760891592\n",
      "logging path : ../loss_test/LOG_[06.09_22:11]\n"
     ]
    }
   ],
   "source": [
    "trainer = Loss1Trainer(args, LSTM)\n",
    "auc, acc = trainer.run_cv(train_dataset, valid_dataset, test_dataset,\n",
    "                         folds=5, seeds=[0, 1, 2, 3, 4])\n",
    "clear_output()\n",
    "print(f\"auc: {auc}, acc: {acc}\")\n",
    "print(f\"logging path : {trainer.prefix_save_path}\")"
   ]
  },
  {
   "cell_type": "code",
   "execution_count": 12,
   "metadata": {},
   "outputs": [
    {
     "name": "stdout",
     "output_type": "stream",
     "text": [
      "auc: 0.8007040986163039, acc: 0.7408814589665653\n",
      "logging path : ../loss_test/LOG_[06.09_22:37]\n"
     ]
    }
   ],
   "source": [
    "trainer = Loss2Trainer(args, LSTM)\n",
    "auc, acc = trainer.run_cv(train_dataset, valid_dataset, test_dataset,\n",
    "                         folds=5, seeds=[0, 1, 2, 3, 4])\n",
    "clear_output()\n",
    "print(f\"auc: {auc}, acc: {acc}\")\n",
    "print(f\"logging path : {trainer.prefix_save_path}\")"
   ]
  },
  {
   "cell_type": "code",
   "execution_count": 13,
   "metadata": {},
   "outputs": [
    {
     "name": "stdout",
     "output_type": "stream",
     "text": [
      "auc: 0.7996176951030238, acc: 0.737436676798379\n",
      "logging path : ../loss_test/LOG_[06.09_22:44]\n"
     ]
    }
   ],
   "source": [
    "trainer = Loss5Trainer(args, LSTM)\n",
    "auc, acc = trainer.run_cv(train_dataset, valid_dataset, test_dataset,\n",
    "                         folds=5, seeds=[0, 1, 2, 3, 4])\n",
    "clear_output()\n",
    "print(f\"auc: {auc}, acc: {acc}\")\n",
    "print(f\"logging path : {trainer.prefix_save_path}\")"
   ]
  },
  {
   "cell_type": "code",
   "execution_count": 14,
   "metadata": {},
   "outputs": [
    {
     "name": "stdout",
     "output_type": "stream",
     "text": [
      "auc: 0.8003196230439975, acc: 0.7400202634245187\n",
      "logging path : ../loss_test/LOG_[06.09_22:50]\n"
     ]
    }
   ],
   "source": [
    "trainer = Loss10Trainer(args, LSTM)\n",
    "auc, acc = trainer.run_cv(train_dataset, valid_dataset, test_dataset,\n",
    "                         folds=5, seeds=[0, 1, 2, 3, 4])\n",
    "clear_output()\n",
    "print(f\"auc: {auc}, acc: {acc}\")\n",
    "print(f\"logging path : {trainer.prefix_save_path}\")"
   ]
  },
  {
   "cell_type": "code",
   "execution_count": 15,
   "metadata": {},
   "outputs": [
    {
     "name": "stdout",
     "output_type": "stream",
     "text": [
      "auc: 0.7991959308048231, acc: 0.7413373860182372\n",
      "logging path : ../loss_test/LOG_[06.09_22:57]\n"
     ]
    }
   ],
   "source": [
    "trainer = LossAllTrainer(args, LSTM)\n",
    "auc, acc = trainer.run_cv(train_dataset, valid_dataset, test_dataset,\n",
    "                         folds=5, seeds=[0, 1, 2, 3, 4])\n",
    "clear_output()\n",
    "print(f\"auc: {auc}, acc: {acc}\")\n",
    "print(f\"logging path : {trainer.prefix_save_path}\")"
   ]
  },
  {
   "cell_type": "markdown",
   "metadata": {},
   "source": [
    "# args.max_seq_len 30으로 늘려서 실험해보기"
   ]
  },
  {
   "cell_type": "code",
   "execution_count": 14,
   "metadata": {},
   "outputs": [],
   "source": [
    "args.max_seq_len = 30\n",
    "args.columns = columns[1:]"
   ]
  },
  {
   "cell_type": "markdown",
   "metadata": {},
   "source": [
    "## Prepare"
   ]
  },
  {
   "cell_type": "code",
   "execution_count": 8,
   "metadata": {},
   "outputs": [],
   "source": [
    "fe_pipeline = FEPipeline(\n",
    "    args, [\n",
    "        SplitAssessmentItemID,\n",
    "        ConvertTime,\n",
    "        MakeFirstClass,\n",
    "        MakeSecondClass,\n",
    "        MakeCorrectCount,\n",
    "        MakeQuestionCount,\n",
    "        MakeCorrectPercent,\n",
    "        MakeDifficultyByFirstClass\n",
    "    ]\n",
    ")\n",
    "\n",
    "columns = [\n",
    "    \"userID\",\n",
    "    \"answerCode\",\n",
    "    \"testPaper\",\n",
    "    \"timeSec\",\n",
    "    \"firstClass\",\n",
    "    \"secondClass\",\n",
    "    \"correctPer\",\n",
    "    \"firstClassDifficulty\"\n",
    "]\n",
    "\n",
    "pre_encoders = {\n",
    "    \"label\": [\"testPaper\", \"firstClass\", \"secondClass\"],\n",
    "    \"min_max\": [\"correctPer\"],\n",
    "    \"std\": [\"timeSec\", \"firstClassDifficulty\"],\n",
    "}"
   ]
  },
  {
   "cell_type": "code",
   "execution_count": 9,
   "metadata": {
    "collapsed": true,
    "jupyter": {
     "outputs_hidden": true
    }
   },
   "outputs": [],
   "source": [
    "preprocess = Preprocess(args, fe_pipeline, columns)\n",
    "\n",
    "preprocess.feature_engineering()\n",
    "preprocess.split_data()\n",
    "preprocess.scaling(pre_encoders)\n",
    "preprocess.data_augmentation(choices=[1, 3])\n",
    "\n",
    "clear_output()"
   ]
  },
  {
   "cell_type": "code",
   "execution_count": 10,
   "metadata": {},
   "outputs": [
    {
     "data": {
      "text/html": [
       "<div>\n",
       "<style scoped>\n",
       "    .dataframe tbody tr th:only-of-type {\n",
       "        vertical-align: middle;\n",
       "    }\n",
       "\n",
       "    .dataframe tbody tr th {\n",
       "        vertical-align: top;\n",
       "    }\n",
       "\n",
       "    .dataframe thead th {\n",
       "        text-align: right;\n",
       "    }\n",
       "</style>\n",
       "<table border=\"1\" class=\"dataframe\">\n",
       "  <thead>\n",
       "    <tr style=\"text-align: right;\">\n",
       "      <th></th>\n",
       "      <th>userID</th>\n",
       "      <th>answerCode</th>\n",
       "      <th>testPaper</th>\n",
       "      <th>timeSec</th>\n",
       "      <th>firstClass</th>\n",
       "      <th>secondClass</th>\n",
       "      <th>correctPer</th>\n",
       "      <th>firstClassDifficulty</th>\n",
       "    </tr>\n",
       "  </thead>\n",
       "  <tbody>\n",
       "    <tr>\n",
       "      <th>0</th>\n",
       "      <td>0</td>\n",
       "      <td>1</td>\n",
       "      <td>975</td>\n",
       "      <td>-1.432905</td>\n",
       "      <td>5</td>\n",
       "      <td>618</td>\n",
       "      <td>0.630872</td>\n",
       "      <td>0.630127</td>\n",
       "    </tr>\n",
       "    <tr>\n",
       "      <th>1</th>\n",
       "      <td>0</td>\n",
       "      <td>1</td>\n",
       "      <td>975</td>\n",
       "      <td>-1.432904</td>\n",
       "      <td>5</td>\n",
       "      <td>619</td>\n",
       "      <td>0.630872</td>\n",
       "      <td>0.630127</td>\n",
       "    </tr>\n",
       "    <tr>\n",
       "      <th>2</th>\n",
       "      <td>0</td>\n",
       "      <td>1</td>\n",
       "      <td>975</td>\n",
       "      <td>-1.432903</td>\n",
       "      <td>5</td>\n",
       "      <td>619</td>\n",
       "      <td>0.630872</td>\n",
       "      <td>0.630127</td>\n",
       "    </tr>\n",
       "  </tbody>\n",
       "</table>\n",
       "</div>"
      ],
      "text/plain": [
       "   userID  answerCode  testPaper   timeSec  firstClass  secondClass  \\\n",
       "0       0           1        975 -1.432905           5          618   \n",
       "1       0           1        975 -1.432904           5          619   \n",
       "2       0           1        975 -1.432903           5          619   \n",
       "\n",
       "   correctPer  firstClassDifficulty  \n",
       "0    0.630872              0.630127  \n",
       "1    0.630872              0.630127  \n",
       "2    0.630872              0.630127  "
      ]
     },
     "execution_count": 10,
     "metadata": {},
     "output_type": "execute_result"
    }
   ],
   "source": [
    "preprocess.datas['train'].head(3)"
   ]
  },
  {
   "cell_type": "code",
   "execution_count": 11,
   "metadata": {},
   "outputs": [],
   "source": [
    "train_dataset = preprocess.get_data(\"train_grouped\")\n",
    "valid_dataset = preprocess.get_data(\"valid_grouped\")\n",
    "test_dataset = preprocess.get_data(\"test_grouped\")"
   ]
  },
  {
   "cell_type": "code",
   "execution_count": 16,
   "metadata": {},
   "outputs": [
    {
     "name": "stdout",
     "output_type": "stream",
     "text": [
      "auc: 0.800657988886466, acc: 0.7418439716312057\n"
     ]
    }
   ],
   "source": [
    "trainer = Loss1Trainer(args, LSTM)\n",
    "auc, acc = trainer.run_cv(train_dataset, valid_dataset, test_dataset,\n",
    "                         folds=5, seeds=[0, 1, 2, 3, 4])\n",
    "clear_output()\n",
    "print(f\"auc: {auc}, acc: {acc}\")"
   ]
  },
  {
   "cell_type": "code",
   "execution_count": 17,
   "metadata": {},
   "outputs": [
    {
     "name": "stdout",
     "output_type": "stream",
     "text": [
      "auc: 0.7994368966675596, acc: 0.7411854103343465\n"
     ]
    }
   ],
   "source": [
    "trainer = Loss2Trainer(args, LSTM)\n",
    "auc, acc = trainer.run_cv(train_dataset, valid_dataset, test_dataset,\n",
    "                         folds=5, seeds=[0, 1, 2, 3, 4])\n",
    "clear_output()\n",
    "print(f\"auc: {auc}, acc: {acc}\")"
   ]
  },
  {
   "cell_type": "code",
   "execution_count": 18,
   "metadata": {},
   "outputs": [
    {
     "name": "stdout",
     "output_type": "stream",
     "text": [
      "auc: 0.7983786857313966, acc: 0.7361702127659575\n"
     ]
    }
   ],
   "source": [
    "trainer = Loss5Trainer(args, LSTM)\n",
    "auc, acc = trainer.run_cv(train_dataset, valid_dataset, test_dataset,\n",
    "                         folds=5, seeds=[0, 1, 2, 3, 4])\n",
    "clear_output()\n",
    "print(f\"auc: {auc}, acc: {acc}\")"
   ]
  },
  {
   "cell_type": "code",
   "execution_count": 19,
   "metadata": {},
   "outputs": [
    {
     "name": "stdout",
     "output_type": "stream",
     "text": [
      "auc: 0.7983847074311685, acc: 0.7380952380952381\n"
     ]
    }
   ],
   "source": [
    "trainer = Loss10Trainer(args, LSTM)\n",
    "auc, acc = trainer.run_cv(train_dataset, valid_dataset, test_dataset,\n",
    "                         folds=5, seeds=[0, 1, 2, 3, 4])\n",
    "clear_output()\n",
    "print(f\"auc: {auc}, acc: {acc}\")"
   ]
  },
  {
   "cell_type": "code",
   "execution_count": 20,
   "metadata": {},
   "outputs": [
    {
     "name": "stdout",
     "output_type": "stream",
     "text": [
      "auc: 0.7960403560660192, acc: 0.7401215805471125\n"
     ]
    }
   ],
   "source": [
    "trainer = LossAllTrainer(args, LSTM)\n",
    "auc, acc = trainer.run_cv(train_dataset, valid_dataset, test_dataset,\n",
    "                         folds=5, seeds=[0, 1, 2, 3, 4])\n",
    "clear_output()\n",
    "print(f\"auc: {auc}, acc: {acc}\")"
   ]
  },
  {
   "cell_type": "markdown",
   "metadata": {},
   "source": [
    "# LossShiftTrainer ( After Refactoring )"
   ]
  },
  {
   "cell_type": "markdown",
   "metadata": {},
   "source": [
    "## Loss3ShiftTrainer"
   ]
  },
  {
   "cell_type": "code",
   "execution_count": 11,
   "metadata": {},
   "outputs": [],
   "source": [
    "import numpy as np\n",
    "\n",
    "class Loss3ShiftTrainer(Loss1Trainer):\n",
    "    def _compute_loss(self, preds, targets):\n",
    "        loss = get_criterion(preds, targets)\n",
    "        loss = loss[:, -3:]\n",
    "        loss = torch.mean(loss)\n",
    "        return loss\n",
    "    \n",
    "    def _validate(self, model, valid_loader):\n",
    "        model.eval()\n",
    "\n",
    "        total_preds = []\n",
    "        total_targets = []\n",
    "\n",
    "        for step, batch in enumerate(valid_loader):\n",
    "            t_preds = torch.zeros(self.args.batch_size, device='cuda')\n",
    "            targets = batch[\"answerCode\"]  # correct\n",
    "            \n",
    "            for shift in range(3):\n",
    "                p_batch = self._process_batch(batch)\n",
    "                for k in batch.keys():\n",
    "                    batch[k] = torch.roll(batch[k], shifts=-1, dims=1)\n",
    "                \n",
    "                if batch[k].size(0) != self.args.batch_size and shift == 0:\n",
    "                    t_preds = torch.zeros(batch[k].size(0), device='cuda')\n",
    "                \n",
    "                preds = model(p_batch)\n",
    "            \n",
    "                # predictions\n",
    "                t_preds += preds[:, -(1 + shift)]  # 하나의 열만 가져오면 1차원으로 자동 변환됨.\n",
    "            \n",
    "            preds = t_preds / 3\n",
    "            targets = targets[:, -1]  # target은 그대로 사용\n",
    "            \n",
    "            if self.args.device == \"cuda\":\n",
    "                preds = preds.to(\"cpu\").detach().numpy()\n",
    "                targets = targets.to(\"cpu\").detach().numpy()\n",
    "            else:  # cpu\n",
    "                preds = preds.detach().numpy()\n",
    "                targets = targets.detach().numpy()\n",
    "\n",
    "            total_preds.append(preds)\n",
    "            total_targets.append(targets)\n",
    "        \n",
    "        total_preds = np.concatenate(total_preds)\n",
    "        total_targets = np.concatenate(total_targets)\n",
    "\n",
    "        # Train AUC / ACC\n",
    "        auc, acc = self._get_metric(total_targets, total_preds)\n",
    "        print(f\"VALID AUC : {auc} ACC : {acc}\\n\")\n",
    "\n",
    "        return auc, acc, total_preds, total_targets\n",
    "    \n",
    "        def _inference(self, test_data, prefix=None):\n",
    "            model = self._load_model(prefix)  # loaded best model to self.model\n",
    "            model.eval()\n",
    "\n",
    "            _, test_loader = self._get_loaders(test_data, test_data)\n",
    "\n",
    "            total_proba_preds = []\n",
    "\n",
    "            for step, batch in enumerate(test_loader):\n",
    "                batch = self._process_batch(batch)\n",
    "\n",
    "                fancy_index = torch.where(batch[\"answerCode\"][:, -1] == -1)\n",
    "                if fancy_index[0].size(0) == 0:\n",
    "                    continue\n",
    "\n",
    "                for k in batch.keys():\n",
    "                    batch[k] = batch[k][fancy_index]\n",
    "\n",
    "                preds = model(batch)\n",
    "                preds = preds[:, -1]\n",
    "\n",
    "                preds = self._to_numpy(preds)\n",
    "                \n",
    "                total_proba_preds += list(preds)\n",
    "\n",
    "            write_path = os.path.join(self.prefix_save_path, f\"{prefix}_test_results.csv\")\n",
    "\n",
    "            with open(write_path, \"w\", encoding=\"utf8\") as w:\n",
    "                w.write(\"id,prediction\\n\")\n",
    "                for idx, proba in enumerate(total_proba_preds):\n",
    "                    w.write(f\"{idx},{proba}\\n\")\n",
    "\n",
    "            return total_proba_preds"
   ]
  },
  {
   "cell_type": "code",
   "execution_count": 12,
   "metadata": {},
   "outputs": [],
   "source": [
    "trainer = Loss3ShiftTrainer(args, LSTM)"
   ]
  },
  {
   "cell_type": "code",
   "execution_count": null,
   "metadata": {},
   "outputs": [],
   "source": [
    "# wandb 이슈 생김\n",
    "auc, acc = trainer.run_cv(train_dataset, valid_dataset, test_dataset,\n",
    "                         folds=5, seeds=[0, 1, 2, 3, 4])\n",
    "clear_output()"
   ]
  },
  {
   "cell_type": "markdown",
   "metadata": {},
   "source": [
    "WandB 문제로 로깅이 제대로 되지 않았음"
   ]
  },
  {
   "attachments": {
    "740e7c3e-8156-4a66-88cf-aaae23a539dd.png": {
     "image/png": "[encoded data removed]"
    }
   },
   "cell_type": "markdown",
   "metadata": {},
   "source": [
    "![image.png](attachment:740e7c3e-8156-4a66-88cf-aaae23a539dd.png)"
   ]
  },
  {
   "cell_type": "code",
   "execution_count": 17,
   "metadata": {},
   "outputs": [],
   "source": [
    "trainer.prefix_save_path = \"../loss_test/LOG_[06.10_02:47]/\""
   ]
  },
  {
   "cell_type": "code",
   "execution_count": 21,
   "metadata": {},
   "outputs": [],
   "source": [
    "preds = [0 for _ in pred]"
   ]
  },
  {
   "cell_type": "code",
   "execution_count": 29,
   "metadata": {},
   "outputs": [],
   "source": [
    "preds = np.zeros_like(preds).astype(np.float64)"
   ]
  },
  {
   "cell_type": "code",
   "execution_count": 30,
   "metadata": {},
   "outputs": [],
   "source": [
    "for i in range(5):\n",
    "    prefix = f\"cv_{i}\"\n",
    "    \n",
    "    preds += np.array(trainer._inference(test_dataset, prefix=prefix))"
   ]
  },
  {
   "cell_type": "code",
   "execution_count": 33,
   "metadata": {},
   "outputs": [],
   "source": [
    "preds = preds / 5"
   ]
  },
  {
   "cell_type": "code",
   "execution_count": 34,
   "metadata": {},
   "outputs": [],
   "source": [
    "with open(p.join(trainer.prefix_save_path, \"test.csv\"), \"w\", encoding=\"utf8\") as w:\n",
    "    w.write(\"id,prediction\\n\")\n",
    "    for idx, proba in enumerate(preds):\n",
    "        w.write(f\"{idx},{proba}\\n\")"
   ]
  }
 ],
 "metadata": {
  "kernelspec": {
   "display_name": "baseline_code",
   "language": "python",
   "name": "baseline_code"
  },
  "language_info": {
   "codemirror_mode": {
    "name": "ipython",
    "version": 3
   },
   "file_extension": ".py",
   "mimetype": "text/x-python",
   "name": "python",
   "nbconvert_exporter": "python",
   "pygments_lexer": "ipython3",
   "version": "3.8.8"
  }
 },
 "nbformat": 4,
 "nbformat_minor": 4
}
