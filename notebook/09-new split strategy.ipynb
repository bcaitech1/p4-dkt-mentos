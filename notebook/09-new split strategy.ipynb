{
 "cells": [
  {
   "cell_type": "code",
   "execution_count": 1,
   "metadata": {},
   "outputs": [],
   "source": [
    "import sys\n",
    "sys.path.append(\"..\")\n",
    "\n",
    "from dkt_dataset import Preprocess\n",
    "from helper import train_base_lstm"
   ]
  },
  {
   "cell_type": "code",
   "execution_count": 2,
   "metadata": {},
   "outputs": [],
   "source": [
    "import pandas as pd\n",
    "from IPython.display import clear_output\n",
    "from fe.feature import FEPipeline\n",
    "from fe.agg import (\n",
    "    AggFeBase,\n",
    "    MakeCorrectCount, \n",
    "    MakeCorrectPercent, \n",
    "    MakeQuestionCount, \n",
    "    MakeTopNCorrectPercent\n",
    ")\n",
    "\n",
    "from fe.seq import (\n",
    "    SplitAssessmentItemID,\n",
    "    MakeFirstClass,\n",
    "    MakeSecondClass,\n",
    "    MakeTimeDiff,\n",
    "    MakeYMD,\n",
    "    ConvertTime\n",
    ")\n",
    "\n",
    "class MakeDifficultyByFirstClass(AggFeBase):\n",
    "    name = \"make_difficulty_by_firstclass\"\n",
    "    description = {\n",
    "        \"firstClassDifficulty\" : \"유저의 대분류별 정답률을 나타냅니다.\"\n",
    "    }\n",
    "    \n",
    "    pre_fe = {\"make_first_class\"}\n",
    "    agg_column = [\"userID\", \"firstClass\"]\n",
    "    \n",
    "    @classmethod\n",
    "    def _transform(cls, df):\n",
    "        grouped_df = df.groupby(cls.agg_column).answerCode.mean()\n",
    "        a, b = zip(*grouped_df.index)\n",
    "        \n",
    "        right_df = pd.DataFrame(\n",
    "            {\"userID\": a, \"firstClass\": b, \"firstClassDifficulty\": list(grouped_df)}\n",
    "        )\n",
    "        \n",
    "        return right_df"
   ]
  },
  {
   "cell_type": "code",
   "execution_count": 36,
   "metadata": {},
   "outputs": [],
   "source": [
    "from utils import get_args, get_root_dir\n",
    "from helper import FeatureTestTrainer"
   ]
  },
  {
   "cell_type": "code",
   "execution_count": 20,
   "metadata": {},
   "outputs": [],
   "source": [
    "class NewSplitPreprocess(Preprocess):\n",
    "    def split_data(self):\n",
    "        self.logger.info(\"Split based on User\")\n",
    "        self.logger.info(f\"Original Train Dataset: {len(self.datas['train'])}\")\n",
    "\n",
    "        self.datas[\"valid\"] = self.datas[\"test\"][self.datas[\"test\"].answerCode != -1]\n",
    "\n",
    "        self.logger.info(f\"Split Train Dataset: {len(self.datas['train'])}\")\n",
    "        self.logger.info(f\"Split Valid Dataset: {len(self.datas['valid'])}\")"
   ]
  },
  {
   "cell_type": "code",
   "execution_count": 21,
   "metadata": {},
   "outputs": [],
   "source": [
    "args = get_args()\n",
    "args.root_dir = get_root_dir(\"../split_test\")\n",
    "args.data_dir = \"../../input/data/train_dataset/\""
   ]
  },
  {
   "cell_type": "code",
   "execution_count": 22,
   "metadata": {},
   "outputs": [],
   "source": [
    "fe_pipeline = FEPipeline(\n",
    "    args, [\n",
    "        SplitAssessmentItemID,\n",
    "        ConvertTime,\n",
    "        MakeFirstClass,\n",
    "        MakeSecondClass,\n",
    "        MakeCorrectCount,\n",
    "        MakeQuestionCount,\n",
    "        MakeCorrectPercent,\n",
    "        MakeDifficultyByFirstClass\n",
    "    ]\n",
    ")\n",
    "\n",
    "columns = [\n",
    "    \"userID\",\n",
    "    \"answerCode\",\n",
    "    \"testPaper\",\n",
    "    \"timeSec\",\n",
    "    \"firstClass\",\n",
    "    \"secondClass\",\n",
    "    \"correctPer\",\n",
    "    \"firstClassDifficulty\"\n",
    "]\n",
    "\n",
    "pre_encoders = {\n",
    "    \"label\": [\"testPaper\", \"firstClass\", \"secondClass\"],\n",
    "    \"min_max\": [\"correctPer\"],\n",
    "    \"std\": [\"timeSec\", \"firstClassDifficulty\"],\n",
    "}"
   ]
  },
  {
   "cell_type": "code",
   "execution_count": 23,
   "metadata": {},
   "outputs": [],
   "source": [
    "args.columns = columns[1:]"
   ]
  },
  {
   "cell_type": "code",
   "execution_count": 24,
   "metadata": {},
   "outputs": [
    {
     "name": "stdout",
     "output_type": "stream",
     "text": [
      "[Feature Descriptions]\n",
      "\n",
      "feature name : base_feature\n",
      "feature type : seq\n",
      " - userID               : 사용자의 고유 번호입니다. 총 7,442명의 학생이 있습니다\n",
      " - assessmentItemID     : 사용자가 푼 문항의 일련 번호입니다.\n",
      " - testID               : 사용자가 푼 문항이 포함된 시험지의 일련 번호입니다.\n",
      " - answerCode           : 사용자가 푼 문항의 정답 여부를 담고 있는 이진 (0/1) 데이터입니다.\n",
      " - Timestamp            : 사용자가 문항을 푼 시간 정보입니다.\n",
      " - KnowledgeTag         : 사용자가 푼 문항의 고유 태그가 담겨져 있습니다.\n",
      "\n",
      "feature name : split_assessmentitem_id\n",
      "feature type : seq\n",
      " - testPaper            : 시험지 번호입니다.\n",
      " - testPaperCnt         : 시험지의 문항 번호입니다.\n",
      "\n",
      "feature name : convert_time\n",
      "feature type : seq\n",
      " - timeSec              : 사용자가 문항을 푼 타임스태프 정보입니다.\n",
      "\n",
      "feature name : make_first_class\n",
      "feature type : seq\n",
      " - firstClass           : 대분류에 해당합니다.\n",
      "\n",
      "feature name : make_second_class\n",
      "feature type : seq\n",
      " - secondClass          : 중분류에 해당합니다.\n",
      "\n",
      "feature name : make_correct_count\n",
      "feature type : agg\n",
      " - correctCnt           : 사용자가 맞춘 문항수를 나타냅니다.\n",
      "\n",
      "feature name : make_question_count\n",
      "feature type : agg\n",
      " - quesCnt              : 사용자가 푼 문항수를 나타냅니다.\n",
      "\n",
      "feature name : make_correct_percent\n",
      "feature type : agg\n",
      " - correctPer           : 사용자가 푼 전체 문항에 대한 정답률입니다.\n",
      "\n",
      "feature name : make_difficulty_by_firstclass\n",
      "feature type : agg\n",
      " - firstClassDifficulty : 유저의 대분류별 정답률을 나타냅니다.\n"
     ]
    }
   ],
   "source": [
    "fe_pipeline.debug()\n",
    "fe_pipeline.description()"
   ]
  },
  {
   "cell_type": "code",
   "execution_count": 29,
   "metadata": {},
   "outputs": [],
   "source": [
    "args.columns = [\"userID\"] + args.columns"
   ]
  },
  {
   "cell_type": "code",
   "execution_count": 66,
   "metadata": {},
   "outputs": [],
   "source": [
    "preprocess = NewSplitPreprocess(args, fe_pipeline, columns)"
   ]
  },
  {
   "cell_type": "code",
   "execution_count": 67,
   "metadata": {},
   "outputs": [],
   "source": [
    "preprocess.feature_engineering() # feature \n",
    "preprocess.split_data() # train => train, valid\n",
    "preprocess.scaling(pre_encoders) # vector로 바꿔주고 Scaling해주고\n",
    "preprocess.data_augmentation(choices=[3]) # [1, 2] 1: test_data추가, 2: user_id 기준 group_by \n",
    "clear_output()"
   ]
  },
  {
   "cell_type": "code",
   "execution_count": 68,
   "metadata": {},
   "outputs": [
    {
     "data": {
      "text/plain": [
       "['answerCode',\n",
       " 'testPaper',\n",
       " 'timeSec',\n",
       " 'firstClass',\n",
       " 'secondClass',\n",
       " 'correctPer',\n",
       " 'firstClassDifficulty']"
      ]
     },
     "execution_count": 68,
     "metadata": {},
     "output_type": "execute_result"
    }
   ],
   "source": [
    "args.columns"
   ]
  },
  {
   "cell_type": "code",
   "execution_count": 81,
   "metadata": {},
   "outputs": [
    {
     "data": {
      "text/plain": [
       "0"
      ]
     },
     "execution_count": 81,
     "metadata": {},
     "output_type": "execute_result"
    }
   ],
   "source": [
    "len(set(preprocess.get_data(\"train\").userID.unique()).intersection(set(preprocess.get_data(\"test\").userID.unique())))"
   ]
  },
  {
   "cell_type": "code",
   "execution_count": 82,
   "metadata": {},
   "outputs": [
    {
     "data": {
      "text/plain": [
       "0"
      ]
     },
     "execution_count": 82,
     "metadata": {},
     "output_type": "execute_result"
    }
   ],
   "source": [
    "len(set(preprocess.get_data(\"train\").userID.unique()).intersection(set(preprocess.get_data(\"valid\").userID.unique())))"
   ]
  },
  {
   "cell_type": "code",
   "execution_count": 157,
   "metadata": {},
   "outputs": [],
   "source": [
    "train_data = preprocess.get_data(\"train_grouped\")\n",
    "valid_data = preprocess.get_data(\"valid_grouped\")\n",
    "test_data = preprocess.get_data(\"test_grouped\")"
   ]
  },
  {
   "cell_type": "code",
   "execution_count": 74,
   "metadata": {},
   "outputs": [],
   "source": [
    "from models.lstm.model import LSTM\n",
    "trainer = FeatureTestTrainer(args, LSTM)"
   ]
  },
  {
   "cell_type": "code",
   "execution_count": 75,
   "metadata": {},
   "outputs": [
    {
     "data": {
      "text/plain": [
       "['answerCode',\n",
       " 'testPaper',\n",
       " 'timeSec',\n",
       " 'firstClass',\n",
       " 'secondClass',\n",
       " 'correctPer',\n",
       " 'firstClassDifficulty']"
      ]
     },
     "execution_count": 75,
     "metadata": {},
     "output_type": "execute_result"
    }
   ],
   "source": [
    "args.columns"
   ]
  },
  {
   "cell_type": "code",
   "execution_count": 76,
   "metadata": {},
   "outputs": [],
   "source": [
    "train_loader, _ = trainer._get_loaders(train_data, valid_data)"
   ]
  },
  {
   "cell_type": "code",
   "execution_count": 77,
   "metadata": {
    "collapsed": true,
    "jupyter": {
     "outputs_hidden": true
    }
   },
   "outputs": [
    {
     "data": {
      "text/html": [
       "<pre style=\"white-space:pre;overflow-x:auto;line-height:normal;font-family:Menlo,'DejaVu Sans Mono',consolas,'Courier New',monospace\"><span style=\"color: #7fbfbf\">[18:41:07] </span><span style=\"color: #000080\">INFO    </span> MODEl SUMMARY                                              <a href=\"file://../trainer.py\"><span style=\"color: #7f7f7f\">trainer.py</span></a><span style=\"color: #7f7f7f\">:335</span>\n",
       "                                                                                             \n",
       "</pre>\n"
      ],
      "text/plain": [
       "<rich.jupyter.JupyterRenderable at 0x7f1424e05f10>"
      ]
     },
     "metadata": {},
     "output_type": "display_data"
    },
    {
     "data": {
      "text/html": [
       "<pre style=\"white-space:pre;overflow-x:auto;line-height:normal;font-family:Menlo,'DejaVu Sans Mono',consolas,'Courier New',monospace\"><span style=\"color: #7fbfbf\">           </span><span style=\"color: #000080\">INFO    </span> ========================================================== <a href=\"file://../trainer.py\"><span style=\"color: #7f7f7f\">trainer.py</span></a><span style=\"color: #7f7f7f\">:336</span>\n",
       "                    =======                                                                  \n",
       "                    Layer <span style=\"font-weight: bold\">(</span>typ<span style=\"color: #00ff00; font-weight: bold\">e:de</span>pth-idx<span style=\"font-weight: bold\">)</span>                   Param #                         \n",
       "                    ==========================================================               \n",
       "                    =======                                                                  \n",
       "                    LSTM                                     --                              \n",
       "                    ├─EmbeddingLayer: <span style=\"color: #000080; font-weight: bold\">1</span>-<span style=\"color: #000080; font-weight: bold\">1</span>                    --                              \n",
       "                    │    └─Embedding: <span style=\"color: #000080; font-weight: bold\">2</span>-<span style=\"color: #000080; font-weight: bold\">1</span>                    <span style=\"color: #000080; font-weight: bold\">24</span>                              \n",
       "                    │    └─ModuleDict: <span style=\"color: #000080; font-weight: bold\">2</span>-<span style=\"color: #000080; font-weight: bold\">2</span>                   --                              \n",
       "                    │    │    └─Embedding: <span style=\"color: #000080; font-weight: bold\">3</span>-<span style=\"color: #000080; font-weight: bold\">1</span>               <span style=\"color: #000080; font-weight: bold\">88</span>                              \n",
       "                    │    │    └─Embedding: <span style=\"color: #000080; font-weight: bold\">3</span>-<span style=\"color: #000080; font-weight: bold\">2</span>               <span style=\"color: #000080; font-weight: bold\">7</span>,<span style=\"color: #000080; font-weight: bold\">312</span>                           \n",
       "                    │    │    └─Embedding: <span style=\"color: #000080; font-weight: bold\">3</span>-<span style=\"color: #000080; font-weight: bold\">3</span>               <span style=\"color: #000080; font-weight: bold\">12</span>,<span style=\"color: #000080; font-weight: bold\">312</span>                          \n",
       "                    ├─LinearLayer: <span style=\"color: #000080; font-weight: bold\">1</span>-<span style=\"color: #000080; font-weight: bold\">2</span>                       --                              \n",
       "                    │    └─Linear: <span style=\"color: #000080; font-weight: bold\">2</span>-<span style=\"color: #000080; font-weight: bold\">3</span>                       <span style=\"color: #000080; font-weight: bold\">128</span>                             \n",
       "                    ├─Linear: <span style=\"color: #000080; font-weight: bold\">1</span>-<span style=\"color: #000080; font-weight: bold\">3</span>                            <span style=\"color: #000080; font-weight: bold\">4</span>,<span style=\"color: #000080; font-weight: bold\">160</span>                           \n",
       "                    ├─LSTM: <span style=\"color: #000080; font-weight: bold\">1</span>-<span style=\"color: #000080; font-weight: bold\">4</span>                              <span style=\"color: #000080; font-weight: bold\">66</span>,<span style=\"color: #000080; font-weight: bold\">560</span>                          \n",
       "                    ├─Linear: <span style=\"color: #000080; font-weight: bold\">1</span>-<span style=\"color: #000080; font-weight: bold\">5</span>                            <span style=\"color: #000080; font-weight: bold\">65</span>                              \n",
       "                    ├─Sigmoid: <span style=\"color: #000080; font-weight: bold\">1</span>-<span style=\"color: #000080; font-weight: bold\">6</span>                           --                              \n",
       "                    ==========================================================               \n",
       "                    =======                                                                  \n",
       "                    Total params: <span style=\"color: #000080; font-weight: bold\">90</span>,<span style=\"color: #000080; font-weight: bold\">649</span>                                                     \n",
       "                    Trainable params: <span style=\"color: #000080; font-weight: bold\">90</span>,<span style=\"color: #000080; font-weight: bold\">649</span>                                                 \n",
       "                    Non-trainable params: <span style=\"color: #000080; font-weight: bold\">0</span>                                                  \n",
       "                    ==========================================================               \n",
       "                    =======                                                                  \n",
       "</pre>\n"
      ],
      "text/plain": [
       "<rich.jupyter.JupyterRenderable at 0x7f1424d07580>"
      ]
     },
     "metadata": {},
     "output_type": "display_data"
    },
    {
     "data": {
      "text/html": [
       "<pre style=\"white-space:pre;overflow-x:auto;line-height:normal;font-family:Menlo,'DejaVu Sans Mono',consolas,'Courier New',monospace\"><span style=\"color: #7fbfbf\">           </span><span style=\"color: #000080\">INFO    </span>                                                            <a href=\"file://../trainer.py\"><span style=\"color: #7f7f7f\">trainer.py</span></a><span style=\"color: #7f7f7f\">:338</span>\n",
       "                    CHECK DATASET                                                            \n",
       "</pre>\n"
      ],
      "text/plain": [
       "<rich.jupyter.JupyterRenderable at 0x7f1424e056d0>"
      ]
     },
     "metadata": {},
     "output_type": "display_data"
    },
    {
     "data": {
      "text/html": [
       "<pre style=\"white-space:pre;overflow-x:auto;line-height:normal;font-family:Menlo,'DejaVu Sans Mono',consolas,'Courier New',monospace\"><span style=\"color: #7fbfbf\">           </span><span style=\"color: #000080\">INFO    </span>                                                            <a href=\"file://../trainer.py\"><span style=\"color: #7f7f7f\">trainer.py</span></a><span style=\"color: #7f7f7f\">:342</span>\n",
       "                    TRAIN EXAMPLES                                                           \n",
       "</pre>\n"
      ],
      "text/plain": [
       "<rich.jupyter.JupyterRenderable at 0x7f1424e05a60>"
      ]
     },
     "metadata": {},
     "output_type": "display_data"
    },
    {
     "data": {
      "text/html": [
       "<pre style=\"white-space:pre;overflow-x:auto;line-height:normal;font-family:Menlo,'DejaVu Sans Mono',consolas,'Courier New',monospace\"><span style=\"color: #7fbfbf\">           </span><span style=\"color: #000080\">INFO    </span> answerCode : <span style=\"font-weight: bold\">[</span><span style=\"color: #000080; font-weight: bold\">1</span> <span style=\"color: #000080; font-weight: bold\">1</span> <span style=\"color: #000080; font-weight: bold\">1</span> <span style=\"color: #000080; font-weight: bold\">1</span> <span style=\"color: #000080; font-weight: bold\">0</span> <span style=\"color: #000080; font-weight: bold\">0</span> <span style=\"color: #000080; font-weight: bold\">1</span> <span style=\"color: #000080; font-weight: bold\">1</span> <span style=\"color: #000080; font-weight: bold\">1</span> <span style=\"color: #000080; font-weight: bold\">1</span><span style=\"font-weight: bold\">]</span>                         <a href=\"file://../trainer.py\"><span style=\"color: #7f7f7f\">trainer.py</span></a><span style=\"color: #7f7f7f\">:344</span>\n",
       "</pre>\n"
      ],
      "text/plain": [
       "<rich.jupyter.JupyterRenderable at 0x7f1424e05f70>"
      ]
     },
     "metadata": {},
     "output_type": "display_data"
    },
    {
     "data": {
      "text/html": [
       "<pre style=\"white-space:pre;overflow-x:auto;line-height:normal;font-family:Menlo,'DejaVu Sans Mono',consolas,'Courier New',monospace\"><span style=\"color: #7fbfbf\">           </span><span style=\"color: #000080\">INFO    </span> testPaper : <span style=\"font-weight: bold\">[</span><span style=\"color: #000080; font-weight: bold\">362</span> <span style=\"color: #000080; font-weight: bold\">362</span> <span style=\"color: #000080; font-weight: bold\">362</span> <span style=\"color: #000080; font-weight: bold\">362</span> <span style=\"color: #000080; font-weight: bold\">362</span> <span style=\"color: #000080; font-weight: bold\">362</span> <span style=\"color: #000080; font-weight: bold\">364</span> <span style=\"color: #000080; font-weight: bold\">364</span> <span style=\"color: #000080; font-weight: bold\">364</span> <span style=\"color: #000080; font-weight: bold\">364</span><span style=\"font-weight: bold\">]</span>      <a href=\"file://../trainer.py\"><span style=\"color: #7f7f7f\">trainer.py</span></a><span style=\"color: #7f7f7f\">:344</span>\n",
       "</pre>\n"
      ],
      "text/plain": [
       "<rich.jupyter.JupyterRenderable at 0x7f1424e05d90>"
      ]
     },
     "metadata": {},
     "output_type": "display_data"
    },
    {
     "data": {
      "text/html": [
       "<pre style=\"white-space:pre;overflow-x:auto;line-height:normal;font-family:Menlo,'DejaVu Sans Mono',consolas,'Courier New',monospace\"><span style=\"color: #7fbfbf\">           </span><span style=\"color: #000080\">INFO    </span> timeSec : <span style=\"font-weight: bold\">[</span><span style=\"color: #000080; font-weight: bold\">1.04563228</span> <span style=\"color: #000080; font-weight: bold\">1.04563356</span> <span style=\"color: #000080; font-weight: bold\">1.04563599</span> <span style=\"color: #000080; font-weight: bold\">1.0456407</span>      <a href=\"file://../trainer.py\"><span style=\"color: #7f7f7f\">trainer.py</span></a><span style=\"color: #7f7f7f\">:344</span>\n",
       "                    <span style=\"color: #000080; font-weight: bold\">1.04564555</span> <span style=\"color: #000080; font-weight: bold\">1.04565997</span>                                                    \n",
       "                     <span style=\"color: #000080; font-weight: bold\">1.11952637</span> <span style=\"color: #000080; font-weight: bold\">1.11953122</span> <span style=\"color: #000080; font-weight: bold\">1.11953822</span> <span style=\"color: #000080; font-weight: bold\">1.11954393</span><span style=\"font-weight: bold\">]</span>                            \n",
       "</pre>\n"
      ],
      "text/plain": [
       "<rich.jupyter.JupyterRenderable at 0x7f1424e05f70>"
      ]
     },
     "metadata": {},
     "output_type": "display_data"
    },
    {
     "data": {
      "text/html": [
       "<pre style=\"white-space:pre;overflow-x:auto;line-height:normal;font-family:Menlo,'DejaVu Sans Mono',consolas,'Courier New',monospace\"><span style=\"color: #7fbfbf\">           </span><span style=\"color: #000080\">INFO    </span> firstClass : <span style=\"font-weight: bold\">[</span><span style=\"color: #000080; font-weight: bold\">1</span> <span style=\"color: #000080; font-weight: bold\">1</span> <span style=\"color: #000080; font-weight: bold\">1</span> <span style=\"color: #000080; font-weight: bold\">1</span> <span style=\"color: #000080; font-weight: bold\">1</span> <span style=\"color: #000080; font-weight: bold\">1</span> <span style=\"color: #000080; font-weight: bold\">1</span> <span style=\"color: #000080; font-weight: bold\">1</span> <span style=\"color: #000080; font-weight: bold\">1</span> <span style=\"color: #000080; font-weight: bold\">1</span><span style=\"font-weight: bold\">]</span>                         <a href=\"file://../trainer.py\"><span style=\"color: #7f7f7f\">trainer.py</span></a><span style=\"color: #7f7f7f\">:344</span>\n",
       "</pre>\n"
      ],
      "text/plain": [
       "<rich.jupyter.JupyterRenderable at 0x7f1424e05790>"
      ]
     },
     "metadata": {},
     "output_type": "display_data"
    },
    {
     "data": {
      "text/html": [
       "<pre style=\"white-space:pre;overflow-x:auto;line-height:normal;font-family:Menlo,'DejaVu Sans Mono',consolas,'Courier New',monospace\"><span style=\"color: #7fbfbf\">           </span><span style=\"color: #000080\">INFO    </span> secondClass : <span style=\"font-weight: bold\">[</span><span style=\"color: #000080; font-weight: bold\">754</span> <span style=\"color: #000080; font-weight: bold\">754</span> <span style=\"color: #000080; font-weight: bold\">754</span> <span style=\"color: #000080; font-weight: bold\">754</span> <span style=\"color: #000080; font-weight: bold\">754</span> <span style=\"color: #000080; font-weight: bold\">754</span> <span style=\"color: #000080; font-weight: bold\">756</span> <span style=\"color: #000080; font-weight: bold\">756</span> <span style=\"color: #000080; font-weight: bold\">756</span> <span style=\"color: #000080; font-weight: bold\">756</span><span style=\"font-weight: bold\">]</span>    <a href=\"file://../trainer.py\"><span style=\"color: #7f7f7f\">trainer.py</span></a><span style=\"color: #7f7f7f\">:344</span>\n",
       "</pre>\n"
      ],
      "text/plain": [
       "<rich.jupyter.JupyterRenderable at 0x7f1424e053a0>"
      ]
     },
     "metadata": {},
     "output_type": "display_data"
    },
    {
     "data": {
      "text/html": [
       "<pre style=\"white-space:pre;overflow-x:auto;line-height:normal;font-family:Menlo,'DejaVu Sans Mono',consolas,'Courier New',monospace\"><span style=\"color: #7fbfbf\">           </span><span style=\"color: #000080\">INFO    </span> correctPer : <span style=\"font-weight: bold\">[</span><span style=\"color: #000080; font-weight: bold\">0.63087248</span> <span style=\"color: #000080; font-weight: bold\">0.63087248</span> <span style=\"color: #000080; font-weight: bold\">0.63087248</span> <span style=\"color: #000080; font-weight: bold\">0.63087248</span>  <a href=\"file://../trainer.py\"><span style=\"color: #7f7f7f\">trainer.py</span></a><span style=\"color: #7f7f7f\">:344</span>\n",
       "                    <span style=\"color: #000080; font-weight: bold\">0.63087248</span> <span style=\"color: #000080; font-weight: bold\">0.63087248</span>                                                    \n",
       "                     <span style=\"color: #000080; font-weight: bold\">0.63087248</span> <span style=\"color: #000080; font-weight: bold\">0.63087248</span> <span style=\"color: #000080; font-weight: bold\">0.63087248</span> <span style=\"color: #000080; font-weight: bold\">0.63087248</span><span style=\"font-weight: bold\">]</span>                            \n",
       "</pre>\n"
      ],
      "text/plain": [
       "<rich.jupyter.JupyterRenderable at 0x7f1424e057c0>"
      ]
     },
     "metadata": {},
     "output_type": "display_data"
    },
    {
     "data": {
      "text/html": [
       "<pre style=\"white-space:pre;overflow-x:auto;line-height:normal;font-family:Menlo,'DejaVu Sans Mono',consolas,'Courier New',monospace\"><span style=\"color: #7fbfbf\">           </span><span style=\"color: #000080\">INFO    </span> firstClassDifficulty : <span style=\"font-weight: bold\">[</span><span style=\"color: #000080; font-weight: bold\">0.31346173</span> <span style=\"color: #000080; font-weight: bold\">0.31346173</span> <span style=\"color: #000080; font-weight: bold\">0.31346173</span>   <a href=\"file://../trainer.py\"><span style=\"color: #7f7f7f\">trainer.py</span></a><span style=\"color: #7f7f7f\">:344</span>\n",
       "                    <span style=\"color: #000080; font-weight: bold\">0.31346173</span> <span style=\"color: #000080; font-weight: bold\">0.31346173</span> <span style=\"color: #000080; font-weight: bold\">0.31346173</span>                                         \n",
       "                     <span style=\"color: #000080; font-weight: bold\">0.31346173</span> <span style=\"color: #000080; font-weight: bold\">0.31346173</span> <span style=\"color: #000080; font-weight: bold\">0.31346173</span> <span style=\"color: #000080; font-weight: bold\">0.31346173</span><span style=\"font-weight: bold\">]</span>                            \n",
       "</pre>\n"
      ],
      "text/plain": [
       "<rich.jupyter.JupyterRenderable at 0x7f1424e052e0>"
      ]
     },
     "metadata": {},
     "output_type": "display_data"
    },
    {
     "data": {
      "text/html": [
       "<pre style=\"white-space:pre;overflow-x:auto;line-height:normal;font-family:Menlo,'DejaVu Sans Mono',consolas,'Courier New',monospace\"><span style=\"color: #7fbfbf\">           </span><span style=\"color: #000080\">INFO    </span>                                                            <a href=\"file://../trainer.py\"><span style=\"color: #7f7f7f\">trainer.py</span></a><span style=\"color: #7f7f7f\">:342</span>\n",
       "                    VALID EXAMPLES                                                           \n",
       "</pre>\n"
      ],
      "text/plain": [
       "<rich.jupyter.JupyterRenderable at 0x7f1424e05610>"
      ]
     },
     "metadata": {},
     "output_type": "display_data"
    },
    {
     "data": {
      "text/html": [
       "<pre style=\"white-space:pre;overflow-x:auto;line-height:normal;font-family:Menlo,'DejaVu Sans Mono',consolas,'Courier New',monospace\"><span style=\"color: #7fbfbf\">           </span><span style=\"color: #000080\">INFO    </span> answerCode : <span style=\"font-weight: bold\">[</span><span style=\"color: #000080; font-weight: bold\">1</span> <span style=\"color: #000080; font-weight: bold\">1</span> <span style=\"color: #000080; font-weight: bold\">1</span> <span style=\"color: #000080; font-weight: bold\">1</span> <span style=\"color: #000080; font-weight: bold\">1</span> <span style=\"color: #000080; font-weight: bold\">1</span> <span style=\"color: #000080; font-weight: bold\">1</span> <span style=\"color: #000080; font-weight: bold\">1</span> <span style=\"color: #000080; font-weight: bold\">1</span> <span style=\"color: #000080; font-weight: bold\">1</span><span style=\"font-weight: bold\">]</span>                         <a href=\"file://../trainer.py\"><span style=\"color: #7f7f7f\">trainer.py</span></a><span style=\"color: #7f7f7f\">:344</span>\n",
       "</pre>\n"
      ],
      "text/plain": [
       "<rich.jupyter.JupyterRenderable at 0x7f1424e05040>"
      ]
     },
     "metadata": {},
     "output_type": "display_data"
    },
    {
     "data": {
      "text/html": [
       "<pre style=\"white-space:pre;overflow-x:auto;line-height:normal;font-family:Menlo,'DejaVu Sans Mono',consolas,'Courier New',monospace\"><span style=\"color: #7fbfbf\">           </span><span style=\"color: #000080\">INFO    </span> testPaper : <span style=\"font-weight: bold\">[</span><span style=\"color: #000080; font-weight: bold\">218</span> <span style=\"color: #000080; font-weight: bold\">218</span> <span style=\"color: #000080; font-weight: bold\">218</span> <span style=\"color: #000080; font-weight: bold\">218</span> <span style=\"color: #000080; font-weight: bold\">218</span> <span style=\"color: #000080; font-weight: bold\">218</span> <span style=\"color: #000080; font-weight: bold\">219</span> <span style=\"color: #000080; font-weight: bold\">219</span> <span style=\"color: #000080; font-weight: bold\">219</span> <span style=\"color: #000080; font-weight: bold\">219</span><span style=\"font-weight: bold\">]</span>      <a href=\"file://../trainer.py\"><span style=\"color: #7f7f7f\">trainer.py</span></a><span style=\"color: #7f7f7f\">:344</span>\n",
       "</pre>\n"
      ],
      "text/plain": [
       "<rich.jupyter.JupyterRenderable at 0x7f1424e05190>"
      ]
     },
     "metadata": {},
     "output_type": "display_data"
    },
    {
     "data": {
      "text/html": [
       "<pre style=\"white-space:pre;overflow-x:auto;line-height:normal;font-family:Menlo,'DejaVu Sans Mono',consolas,'Courier New',monospace\"><span style=\"color: #7fbfbf\">           </span><span style=\"color: #000080\">INFO    </span> timeSec : <span style=\"font-weight: bold\">[</span><span style=\"color: #000080; font-weight: bold\">-2.19731904</span> <span style=\"color: #000080; font-weight: bold\">-2.19730605</span> <span style=\"color: #000080; font-weight: bold\">-2.19729692</span> <span style=\"color: #000080; font-weight: bold\">-2.19729449</span> <a href=\"file://../trainer.py\"><span style=\"color: #7f7f7f\">trainer.py</span></a><span style=\"color: #7f7f7f\">:344</span>\n",
       "                    <span style=\"color: #000080; font-weight: bold\">-2.1972925</span>  <span style=\"color: #000080; font-weight: bold\">-2.19728322</span>                                                  \n",
       "                     <span style=\"color: #000080; font-weight: bold\">-2.19005858</span> <span style=\"color: #000080; font-weight: bold\">-2.19005444</span> <span style=\"color: #000080; font-weight: bold\">-2.19005258</span> <span style=\"color: #000080; font-weight: bold\">-2.19004887</span><span style=\"font-weight: bold\">]</span>                        \n",
       "</pre>\n"
      ],
      "text/plain": [
       "<rich.jupyter.JupyterRenderable at 0x7f1424e05fd0>"
      ]
     },
     "metadata": {},
     "output_type": "display_data"
    },
    {
     "data": {
      "text/html": [
       "<pre style=\"white-space:pre;overflow-x:auto;line-height:normal;font-family:Menlo,'DejaVu Sans Mono',consolas,'Courier New',monospace\"><span style=\"color: #7fbfbf\">           </span><span style=\"color: #000080\">INFO    </span> firstClass : <span style=\"font-weight: bold\">[</span><span style=\"color: #000080; font-weight: bold\">1</span> <span style=\"color: #000080; font-weight: bold\">1</span> <span style=\"color: #000080; font-weight: bold\">1</span> <span style=\"color: #000080; font-weight: bold\">1</span> <span style=\"color: #000080; font-weight: bold\">1</span> <span style=\"color: #000080; font-weight: bold\">1</span> <span style=\"color: #000080; font-weight: bold\">1</span> <span style=\"color: #000080; font-weight: bold\">1</span> <span style=\"color: #000080; font-weight: bold\">1</span> <span style=\"color: #000080; font-weight: bold\">1</span><span style=\"font-weight: bold\">]</span>                         <a href=\"file://../trainer.py\"><span style=\"color: #7f7f7f\">trainer.py</span></a><span style=\"color: #7f7f7f\">:344</span>\n",
       "</pre>\n"
      ],
      "text/plain": [
       "<rich.jupyter.JupyterRenderable at 0x7f1424e05760>"
      ]
     },
     "metadata": {},
     "output_type": "display_data"
    },
    {
     "data": {
      "text/html": [
       "<pre style=\"white-space:pre;overflow-x:auto;line-height:normal;font-family:Menlo,'DejaVu Sans Mono',consolas,'Courier New',monospace\"><span style=\"color: #7fbfbf\">           </span><span style=\"color: #000080\">INFO    </span> secondClass : <span style=\"font-weight: bold\">[</span><span style=\"color: #000080; font-weight: bold\">696</span> <span style=\"color: #000080; font-weight: bold\">696</span> <span style=\"color: #000080; font-weight: bold\">696</span> <span style=\"color: #000080; font-weight: bold\">696</span> <span style=\"color: #000080; font-weight: bold\">696</span> <span style=\"color: #000080; font-weight: bold\">696</span> <span style=\"color: #000080; font-weight: bold\">697</span> <span style=\"color: #000080; font-weight: bold\">697</span> <span style=\"color: #000080; font-weight: bold\">697</span> <span style=\"color: #000080; font-weight: bold\">697</span><span style=\"font-weight: bold\">]</span>    <a href=\"file://../trainer.py\"><span style=\"color: #7f7f7f\">trainer.py</span></a><span style=\"color: #7f7f7f\">:344</span>\n",
       "</pre>\n"
      ],
      "text/plain": [
       "<rich.jupyter.JupyterRenderable at 0x7f1424e05a00>"
      ]
     },
     "metadata": {},
     "output_type": "display_data"
    },
    {
     "data": {
      "text/html": [
       "<pre style=\"white-space:pre;overflow-x:auto;line-height:normal;font-family:Menlo,'DejaVu Sans Mono',consolas,'Courier New',monospace\"><span style=\"color: #7fbfbf\">           </span><span style=\"color: #000080\">INFO    </span> correctPer : <span style=\"font-weight: bold\">[</span><span style=\"color: #000080; font-weight: bold\">0.69111969</span> <span style=\"color: #000080; font-weight: bold\">0.69111969</span> <span style=\"color: #000080; font-weight: bold\">0.69111969</span> <span style=\"color: #000080; font-weight: bold\">0.69111969</span>  <a href=\"file://../trainer.py\"><span style=\"color: #7f7f7f\">trainer.py</span></a><span style=\"color: #7f7f7f\">:344</span>\n",
       "                    <span style=\"color: #000080; font-weight: bold\">0.69111969</span> <span style=\"color: #000080; font-weight: bold\">0.69111969</span>                                                    \n",
       "                     <span style=\"color: #000080; font-weight: bold\">0.69111969</span> <span style=\"color: #000080; font-weight: bold\">0.69111969</span> <span style=\"color: #000080; font-weight: bold\">0.69111969</span> <span style=\"color: #000080; font-weight: bold\">0.69111969</span><span style=\"font-weight: bold\">]</span>                            \n",
       "</pre>\n"
      ],
      "text/plain": [
       "<rich.jupyter.JupyterRenderable at 0x7f1424e056d0>"
      ]
     },
     "metadata": {},
     "output_type": "display_data"
    },
    {
     "data": {
      "text/html": [
       "<pre style=\"white-space:pre;overflow-x:auto;line-height:normal;font-family:Menlo,'DejaVu Sans Mono',consolas,'Courier New',monospace\"><span style=\"color: #7fbfbf\">           </span><span style=\"color: #000080\">INFO    </span> firstClassDifficulty : <span style=\"font-weight: bold\">[</span><span style=\"color: #000080; font-weight: bold\">1.03926312</span> <span style=\"color: #000080; font-weight: bold\">1.03926312</span> <span style=\"color: #000080; font-weight: bold\">1.03926312</span>   <a href=\"file://../trainer.py\"><span style=\"color: #7f7f7f\">trainer.py</span></a><span style=\"color: #7f7f7f\">:344</span>\n",
       "                    <span style=\"color: #000080; font-weight: bold\">1.03926312</span> <span style=\"color: #000080; font-weight: bold\">1.03926312</span> <span style=\"color: #000080; font-weight: bold\">1.03926312</span>                                         \n",
       "                     <span style=\"color: #000080; font-weight: bold\">1.03926312</span> <span style=\"color: #000080; font-weight: bold\">1.03926312</span> <span style=\"color: #000080; font-weight: bold\">1.03926312</span> <span style=\"color: #000080; font-weight: bold\">1.03926312</span><span style=\"font-weight: bold\">]</span>                            \n",
       "</pre>\n"
      ],
      "text/plain": [
       "<rich.jupyter.JupyterRenderable at 0x7f1424e05be0>"
      ]
     },
     "metadata": {},
     "output_type": "display_data"
    },
    {
     "data": {
      "text/html": [
       "<pre style=\"white-space:pre;overflow-x:auto;line-height:normal;font-family:Menlo,'DejaVu Sans Mono',consolas,'Courier New',monospace\"><span style=\"color: #7fbfbf\">           </span><span style=\"color: #000080\">INFO    </span>                                                            <a href=\"file://../trainer.py\"><span style=\"color: #7f7f7f\">trainer.py</span></a><span style=\"color: #7f7f7f\">:342</span>\n",
       "                    TEST EXAMPLES                                                            \n",
       "</pre>\n"
      ],
      "text/plain": [
       "<rich.jupyter.JupyterRenderable at 0x7f1424e05a60>"
      ]
     },
     "metadata": {},
     "output_type": "display_data"
    },
    {
     "data": {
      "text/html": [
       "<pre style=\"white-space:pre;overflow-x:auto;line-height:normal;font-family:Menlo,'DejaVu Sans Mono',consolas,'Courier New',monospace\"><span style=\"color: #7fbfbf\">           </span><span style=\"color: #000080\">INFO    </span> answerCode : <span style=\"font-weight: bold\">[</span><span style=\"color: #000080; font-weight: bold\">1</span> <span style=\"color: #000080; font-weight: bold\">1</span> <span style=\"color: #000080; font-weight: bold\">1</span> <span style=\"color: #000080; font-weight: bold\">1</span> <span style=\"color: #000080; font-weight: bold\">1</span> <span style=\"color: #000080; font-weight: bold\">1</span> <span style=\"color: #000080; font-weight: bold\">1</span> <span style=\"color: #000080; font-weight: bold\">1</span> <span style=\"color: #000080; font-weight: bold\">1</span> <span style=\"color: #000080; font-weight: bold\">1</span><span style=\"font-weight: bold\">]</span>                         <a href=\"file://../trainer.py\"><span style=\"color: #7f7f7f\">trainer.py</span></a><span style=\"color: #7f7f7f\">:344</span>\n",
       "</pre>\n"
      ],
      "text/plain": [
       "<rich.jupyter.JupyterRenderable at 0x7f1424e05fd0>"
      ]
     },
     "metadata": {},
     "output_type": "display_data"
    },
    {
     "data": {
      "text/html": [
       "<pre style=\"white-space:pre;overflow-x:auto;line-height:normal;font-family:Menlo,'DejaVu Sans Mono',consolas,'Courier New',monospace\"><span style=\"color: #7fbfbf\">           </span><span style=\"color: #000080\">INFO    </span> testPaper : <span style=\"font-weight: bold\">[</span><span style=\"color: #000080; font-weight: bold\">218</span> <span style=\"color: #000080; font-weight: bold\">218</span> <span style=\"color: #000080; font-weight: bold\">218</span> <span style=\"color: #000080; font-weight: bold\">218</span> <span style=\"color: #000080; font-weight: bold\">218</span> <span style=\"color: #000080; font-weight: bold\">218</span> <span style=\"color: #000080; font-weight: bold\">219</span> <span style=\"color: #000080; font-weight: bold\">219</span> <span style=\"color: #000080; font-weight: bold\">219</span> <span style=\"color: #000080; font-weight: bold\">219</span><span style=\"font-weight: bold\">]</span>      <a href=\"file://../trainer.py\"><span style=\"color: #7f7f7f\">trainer.py</span></a><span style=\"color: #7f7f7f\">:344</span>\n",
       "</pre>\n"
      ],
      "text/plain": [
       "<rich.jupyter.JupyterRenderable at 0x7f1424e05040>"
      ]
     },
     "metadata": {},
     "output_type": "display_data"
    },
    {
     "data": {
      "text/html": [
       "<pre style=\"white-space:pre;overflow-x:auto;line-height:normal;font-family:Menlo,'DejaVu Sans Mono',consolas,'Courier New',monospace\"><span style=\"color: #7fbfbf\">           </span><span style=\"color: #000080\">INFO    </span> timeSec : <span style=\"font-weight: bold\">[</span><span style=\"color: #000080; font-weight: bold\">-2.19731904</span> <span style=\"color: #000080; font-weight: bold\">-2.19730605</span> <span style=\"color: #000080; font-weight: bold\">-2.19729692</span> <span style=\"color: #000080; font-weight: bold\">-2.19729449</span> <a href=\"file://../trainer.py\"><span style=\"color: #7f7f7f\">trainer.py</span></a><span style=\"color: #7f7f7f\">:344</span>\n",
       "                    <span style=\"color: #000080; font-weight: bold\">-2.1972925</span>  <span style=\"color: #000080; font-weight: bold\">-2.19728322</span>                                                  \n",
       "                     <span style=\"color: #000080; font-weight: bold\">-2.19005858</span> <span style=\"color: #000080; font-weight: bold\">-2.19005444</span> <span style=\"color: #000080; font-weight: bold\">-2.19005258</span> <span style=\"color: #000080; font-weight: bold\">-2.19004887</span><span style=\"font-weight: bold\">]</span>                        \n",
       "</pre>\n"
      ],
      "text/plain": [
       "<rich.jupyter.JupyterRenderable at 0x7f1424e05490>"
      ]
     },
     "metadata": {},
     "output_type": "display_data"
    },
    {
     "data": {
      "text/html": [
       "<pre style=\"white-space:pre;overflow-x:auto;line-height:normal;font-family:Menlo,'DejaVu Sans Mono',consolas,'Courier New',monospace\"><span style=\"color: #7fbfbf\">           </span><span style=\"color: #000080\">INFO    </span> firstClass : <span style=\"font-weight: bold\">[</span><span style=\"color: #000080; font-weight: bold\">1</span> <span style=\"color: #000080; font-weight: bold\">1</span> <span style=\"color: #000080; font-weight: bold\">1</span> <span style=\"color: #000080; font-weight: bold\">1</span> <span style=\"color: #000080; font-weight: bold\">1</span> <span style=\"color: #000080; font-weight: bold\">1</span> <span style=\"color: #000080; font-weight: bold\">1</span> <span style=\"color: #000080; font-weight: bold\">1</span> <span style=\"color: #000080; font-weight: bold\">1</span> <span style=\"color: #000080; font-weight: bold\">1</span><span style=\"font-weight: bold\">]</span>                         <a href=\"file://../trainer.py\"><span style=\"color: #7f7f7f\">trainer.py</span></a><span style=\"color: #7f7f7f\">:344</span>\n",
       "</pre>\n"
      ],
      "text/plain": [
       "<rich.jupyter.JupyterRenderable at 0x7f1424e05df0>"
      ]
     },
     "metadata": {},
     "output_type": "display_data"
    },
    {
     "data": {
      "text/html": [
       "<pre style=\"white-space:pre;overflow-x:auto;line-height:normal;font-family:Menlo,'DejaVu Sans Mono',consolas,'Courier New',monospace\"><span style=\"color: #7fbfbf\">           </span><span style=\"color: #000080\">INFO    </span> secondClass : <span style=\"font-weight: bold\">[</span><span style=\"color: #000080; font-weight: bold\">696</span> <span style=\"color: #000080; font-weight: bold\">696</span> <span style=\"color: #000080; font-weight: bold\">696</span> <span style=\"color: #000080; font-weight: bold\">696</span> <span style=\"color: #000080; font-weight: bold\">696</span> <span style=\"color: #000080; font-weight: bold\">696</span> <span style=\"color: #000080; font-weight: bold\">697</span> <span style=\"color: #000080; font-weight: bold\">697</span> <span style=\"color: #000080; font-weight: bold\">697</span> <span style=\"color: #000080; font-weight: bold\">697</span><span style=\"font-weight: bold\">]</span>    <a href=\"file://../trainer.py\"><span style=\"color: #7f7f7f\">trainer.py</span></a><span style=\"color: #7f7f7f\">:344</span>\n",
       "</pre>\n"
      ],
      "text/plain": [
       "<rich.jupyter.JupyterRenderable at 0x7f1424e056d0>"
      ]
     },
     "metadata": {},
     "output_type": "display_data"
    },
    {
     "data": {
      "text/html": [
       "<pre style=\"white-space:pre;overflow-x:auto;line-height:normal;font-family:Menlo,'DejaVu Sans Mono',consolas,'Courier New',monospace\"><span style=\"color: #7fbfbf\">           </span><span style=\"color: #000080\">INFO    </span> correctPer : <span style=\"font-weight: bold\">[</span><span style=\"color: #000080; font-weight: bold\">0.69111969</span> <span style=\"color: #000080; font-weight: bold\">0.69111969</span> <span style=\"color: #000080; font-weight: bold\">0.69111969</span> <span style=\"color: #000080; font-weight: bold\">0.69111969</span>  <a href=\"file://../trainer.py\"><span style=\"color: #7f7f7f\">trainer.py</span></a><span style=\"color: #7f7f7f\">:344</span>\n",
       "                    <span style=\"color: #000080; font-weight: bold\">0.69111969</span> <span style=\"color: #000080; font-weight: bold\">0.69111969</span>                                                    \n",
       "                     <span style=\"color: #000080; font-weight: bold\">0.69111969</span> <span style=\"color: #000080; font-weight: bold\">0.69111969</span> <span style=\"color: #000080; font-weight: bold\">0.69111969</span> <span style=\"color: #000080; font-weight: bold\">0.69111969</span><span style=\"font-weight: bold\">]</span>                            \n",
       "</pre>\n"
      ],
      "text/plain": [
       "<rich.jupyter.JupyterRenderable at 0x7f1424e057c0>"
      ]
     },
     "metadata": {},
     "output_type": "display_data"
    },
    {
     "data": {
      "text/html": [
       "<pre style=\"white-space:pre;overflow-x:auto;line-height:normal;font-family:Menlo,'DejaVu Sans Mono',consolas,'Courier New',monospace\"><span style=\"color: #7fbfbf\">           </span><span style=\"color: #000080\">INFO    </span> firstClassDifficulty : <span style=\"font-weight: bold\">[</span><span style=\"color: #000080; font-weight: bold\">1.03926312</span> <span style=\"color: #000080; font-weight: bold\">1.03926312</span> <span style=\"color: #000080; font-weight: bold\">1.03926312</span>   <a href=\"file://../trainer.py\"><span style=\"color: #7f7f7f\">trainer.py</span></a><span style=\"color: #7f7f7f\">:344</span>\n",
       "                    <span style=\"color: #000080; font-weight: bold\">1.03926312</span> <span style=\"color: #000080; font-weight: bold\">1.03926312</span> <span style=\"color: #000080; font-weight: bold\">1.03926312</span>                                         \n",
       "                     <span style=\"color: #000080; font-weight: bold\">1.03926312</span> <span style=\"color: #000080; font-weight: bold\">1.03926312</span> <span style=\"color: #000080; font-weight: bold\">1.03926312</span> <span style=\"color: #000080; font-weight: bold\">1.03926312</span><span style=\"font-weight: bold\">]</span>                            \n",
       "</pre>\n"
      ],
      "text/plain": [
       "<rich.jupyter.JupyterRenderable at 0x7f1424e05d90>"
      ]
     },
     "metadata": {},
     "output_type": "display_data"
    },
    {
     "data": {
      "text/html": [
       "<pre style=\"white-space:pre;overflow-x:auto;line-height:normal;font-family:Menlo,'DejaVu Sans Mono',consolas,'Courier New',monospace\"><span style=\"color: #7fbfbf\">           </span><span style=\"color: #000080\">INFO    </span>                                                            <a href=\"file://../trainer.py\"><span style=\"color: #7f7f7f\">trainer.py</span></a><span style=\"color: #7f7f7f\">:349</span>\n",
       "                    CHECK BATCH SHAPE                                                        \n",
       "</pre>\n"
      ],
      "text/plain": [
       "<rich.jupyter.JupyterRenderable at 0x7f1424e05a00>"
      ]
     },
     "metadata": {},
     "output_type": "display_data"
    },
    {
     "data": {
      "text/html": [
       "<pre style=\"white-space:pre;overflow-x:auto;line-height:normal;font-family:Menlo,'DejaVu Sans Mono',consolas,'Courier New',monospace\"><span style=\"color: #7fbfbf\">           </span><span style=\"color: #000080\">INFO    </span>                                                            <a href=\"file://../trainer.py\"><span style=\"color: #7f7f7f\">trainer.py</span></a><span style=\"color: #7f7f7f\">:352</span>\n",
       "                    TRAIN BATCH TYPE : <span style=\"font-weight: bold\">&lt;</span><span style=\"color: #ff00ff; font-weight: bold\">class</span><span style=\"color: #000000\"> </span><span style=\"color: #008000\">'dict'</span><span style=\"font-weight: bold\">&gt;</span>                                        \n",
       "</pre>\n"
      ],
      "text/plain": [
       "<rich.jupyter.JupyterRenderable at 0x7f1424ea70d0>"
      ]
     },
     "metadata": {},
     "output_type": "display_data"
    },
    {
     "data": {
      "text/html": [
       "<pre style=\"white-space:pre;overflow-x:auto;line-height:normal;font-family:Menlo,'DejaVu Sans Mono',consolas,'Courier New',monospace\"><span style=\"color: #7fbfbf\">           </span><span style=\"color: #000080\">INFO    </span>                                                            <a href=\"file://../trainer.py\"><span style=\"color: #7f7f7f\">trainer.py</span></a><span style=\"color: #7f7f7f\">:353</span>\n",
       "                    TRAIN BATCH LEN : <span style=\"color: #000080; font-weight: bold\">8</span>                                                      \n",
       "</pre>\n"
      ],
      "text/plain": [
       "<rich.jupyter.JupyterRenderable at 0x7f1424e05460>"
      ]
     },
     "metadata": {},
     "output_type": "display_data"
    },
    {
     "data": {
      "text/html": [
       "<pre style=\"white-space:pre;overflow-x:auto;line-height:normal;font-family:Menlo,'DejaVu Sans Mono',consolas,'Courier New',monospace\"><span style=\"color: #7fbfbf\">           </span><span style=\"color: #000080\">INFO    </span>                                                            <a href=\"file://../trainer.py\"><span style=\"color: #7f7f7f\">trainer.py</span></a><span style=\"color: #7f7f7f\">:354</span>\n",
       "                    TRAIN BATCH DICT VALUE SHAPE : torch.Size<span style=\"font-weight: bold\">([</span><span style=\"color: #000080; font-weight: bold\">64</span>, <span style=\"color: #000080; font-weight: bold\">20</span><span style=\"font-weight: bold\">])</span>                      \n",
       "</pre>\n"
      ],
      "text/plain": [
       "<rich.jupyter.JupyterRenderable at 0x7f1424ea7040>"
      ]
     },
     "metadata": {},
     "output_type": "display_data"
    },
    {
     "data": {
      "text/html": [
       "<pre style=\"white-space:pre;overflow-x:auto;line-height:normal;font-family:Menlo,'DejaVu Sans Mono',consolas,'Courier New',monospace\"><span style=\"color: #7fbfbf\">           </span><span style=\"color: #000080\">INFO    </span>                                                            <a href=\"file://../trainer.py\"><span style=\"color: #7f7f7f\">trainer.py</span></a><span style=\"color: #7f7f7f\">:352</span>\n",
       "                    TEST BATCH TYPE : <span style=\"font-weight: bold\">&lt;</span><span style=\"color: #ff00ff; font-weight: bold\">class</span><span style=\"color: #000000\"> </span><span style=\"color: #008000\">'dict'</span><span style=\"font-weight: bold\">&gt;</span>                                         \n",
       "</pre>\n"
      ],
      "text/plain": [
       "<rich.jupyter.JupyterRenderable at 0x7f1424ea7040>"
      ]
     },
     "metadata": {},
     "output_type": "display_data"
    },
    {
     "data": {
      "text/html": [
       "<pre style=\"white-space:pre;overflow-x:auto;line-height:normal;font-family:Menlo,'DejaVu Sans Mono',consolas,'Courier New',monospace\"><span style=\"color: #7fbfbf\">           </span><span style=\"color: #000080\">INFO    </span>                                                            <a href=\"file://../trainer.py\"><span style=\"color: #7f7f7f\">trainer.py</span></a><span style=\"color: #7f7f7f\">:353</span>\n",
       "                    TEST BATCH LEN : <span style=\"color: #000080; font-weight: bold\">8</span>                                                       \n",
       "</pre>\n"
      ],
      "text/plain": [
       "<rich.jupyter.JupyterRenderable at 0x7f1424e051c0>"
      ]
     },
     "metadata": {},
     "output_type": "display_data"
    },
    {
     "data": {
      "text/html": [
       "<pre style=\"white-space:pre;overflow-x:auto;line-height:normal;font-family:Menlo,'DejaVu Sans Mono',consolas,'Courier New',monospace\"><span style=\"color: #7fbfbf\">           </span><span style=\"color: #000080\">INFO    </span>                                                            <a href=\"file://../trainer.py\"><span style=\"color: #7f7f7f\">trainer.py</span></a><span style=\"color: #7f7f7f\">:354</span>\n",
       "                    TEST BATCH DICT VALUE SHAPE : torch.Size<span style=\"font-weight: bold\">([</span><span style=\"color: #000080; font-weight: bold\">64</span>, <span style=\"color: #000080; font-weight: bold\">20</span><span style=\"font-weight: bold\">])</span>                       \n",
       "</pre>\n"
      ],
      "text/plain": [
       "<rich.jupyter.JupyterRenderable at 0x7f1424e05f10>"
      ]
     },
     "metadata": {},
     "output_type": "display_data"
    },
    {
     "data": {
      "text/html": [
       "<pre style=\"white-space:pre;overflow-x:auto;line-height:normal;font-family:Menlo,'DejaVu Sans Mono',consolas,'Courier New',monospace\"><span style=\"color: #7fbfbf\">           </span><span style=\"color: #000080\">INFO    </span>                                                            <a href=\"file://../trainer.py\"><span style=\"color: #7f7f7f\">trainer.py</span></a><span style=\"color: #7f7f7f\">:352</span>\n",
       "                    VALID BATCH TYPE : <span style=\"font-weight: bold\">&lt;</span><span style=\"color: #ff00ff; font-weight: bold\">class</span><span style=\"color: #000000\"> </span><span style=\"color: #008000\">'dict'</span><span style=\"font-weight: bold\">&gt;</span>                                        \n",
       "</pre>\n"
      ],
      "text/plain": [
       "<rich.jupyter.JupyterRenderable at 0x7f1424e058e0>"
      ]
     },
     "metadata": {},
     "output_type": "display_data"
    },
    {
     "data": {
      "text/html": [
       "<pre style=\"white-space:pre;overflow-x:auto;line-height:normal;font-family:Menlo,'DejaVu Sans Mono',consolas,'Courier New',monospace\"><span style=\"color: #7fbfbf\">           </span><span style=\"color: #000080\">INFO    </span>                                                            <a href=\"file://../trainer.py\"><span style=\"color: #7f7f7f\">trainer.py</span></a><span style=\"color: #7f7f7f\">:353</span>\n",
       "                    VALID BATCH LEN : <span style=\"color: #000080; font-weight: bold\">8</span>                                                      \n",
       "</pre>\n"
      ],
      "text/plain": [
       "<rich.jupyter.JupyterRenderable at 0x7f1424e05430>"
      ]
     },
     "metadata": {},
     "output_type": "display_data"
    },
    {
     "data": {
      "text/html": [
       "<pre style=\"white-space:pre;overflow-x:auto;line-height:normal;font-family:Menlo,'DejaVu Sans Mono',consolas,'Courier New',monospace\"><span style=\"color: #7fbfbf\">           </span><span style=\"color: #000080\">INFO    </span>                                                            <a href=\"file://../trainer.py\"><span style=\"color: #7f7f7f\">trainer.py</span></a><span style=\"color: #7f7f7f\">:354</span>\n",
       "                    VALID BATCH DICT VALUE SHAPE : torch.Size<span style=\"font-weight: bold\">([</span><span style=\"color: #000080; font-weight: bold\">64</span>, <span style=\"color: #000080; font-weight: bold\">20</span><span style=\"font-weight: bold\">])</span>                      \n",
       "</pre>\n"
      ],
      "text/plain": [
       "<rich.jupyter.JupyterRenderable at 0x7f1424e05e80>"
      ]
     },
     "metadata": {},
     "output_type": "display_data"
    },
    {
     "data": {
      "text/html": [
       "<pre style=\"white-space:pre;overflow-x:auto;line-height:normal;font-family:Menlo,'DejaVu Sans Mono',consolas,'Courier New',monospace\"><span style=\"color: #7fbfbf\">           </span><span style=\"color: #000080\">INFO    </span>                                                            <a href=\"file://../trainer.py\"><span style=\"color: #7f7f7f\">trainer.py</span></a><span style=\"color: #7f7f7f\">:356</span>\n",
       "                    CHECK MODEL FORWARD                                                      \n",
       "</pre>\n"
      ],
      "text/plain": [
       "<rich.jupyter.JupyterRenderable at 0x7f1424e05e80>"
      ]
     },
     "metadata": {},
     "output_type": "display_data"
    },
    {
     "data": {
      "text/html": [
       "<pre style=\"white-space:pre;overflow-x:auto;line-height:normal;font-family:Menlo,'DejaVu Sans Mono',consolas,'Courier New',monospace\"><span style=\"color: #7fbfbf\">           </span><span style=\"color: #000080\">INFO    </span>                                                            <a href=\"file://../trainer.py\"><span style=\"color: #7f7f7f\">trainer.py</span></a><span style=\"color: #7f7f7f\">:361</span>\n",
       "                    PREDS SHAPE: torch.Size<span style=\"font-weight: bold\">([</span><span style=\"color: #000080; font-weight: bold\">64</span>, <span style=\"color: #000080; font-weight: bold\">20</span><span style=\"font-weight: bold\">])</span>                                        \n",
       "</pre>\n"
      ],
      "text/plain": [
       "<rich.jupyter.JupyterRenderable at 0x7f1424e05460>"
      ]
     },
     "metadata": {},
     "output_type": "display_data"
    },
    {
     "data": {
      "text/html": [
       "<pre style=\"white-space:pre;overflow-x:auto;line-height:normal;font-family:Menlo,'DejaVu Sans Mono',consolas,'Courier New',monospace\"><span style=\"color: #7fbfbf\">           </span><span style=\"color: #000080\">INFO    </span>                                                            <a href=\"file://../trainer.py\"><span style=\"color: #7f7f7f\">trainer.py</span></a><span style=\"color: #7f7f7f\">:362</span>\n",
       "                    PREDS EXAMPLES: tensor<span style=\"font-weight: bold\">([</span><span style=\"color: #000080; font-weight: bold\">0.4910</span>, <span style=\"color: #000080; font-weight: bold\">0.4921</span>, <span style=\"color: #000080; font-weight: bold\">0.4925</span>, <span style=\"color: #000080; font-weight: bold\">0.4928</span>,                  \n",
       "                    <span style=\"color: #000080; font-weight: bold\">0.4926</span>, <span style=\"color: #000080; font-weight: bold\">0.4932</span>, <span style=\"color: #000080; font-weight: bold\">0.4937</span>, <span style=\"color: #000080; font-weight: bold\">0.4941</span>, <span style=\"color: #000080; font-weight: bold\">0.4943</span>,                                  \n",
       "                            <span style=\"color: #000080; font-weight: bold\">0.4944</span>, <span style=\"color: #000080; font-weight: bold\">0.4930</span>, <span style=\"color: #000080; font-weight: bold\">0.4916</span>, <span style=\"color: #000080; font-weight: bold\">0.4907</span>, <span style=\"color: #000080; font-weight: bold\">0.4902</span>, <span style=\"color: #000080; font-weight: bold\">0.4899</span>,                  \n",
       "                    <span style=\"color: #000080; font-weight: bold\">0.4901</span>, <span style=\"color: #000080; font-weight: bold\">0.4900</span>, <span style=\"color: #000080; font-weight: bold\">0.4900</span>,                                                  \n",
       "                            <span style=\"color: #000080; font-weight: bold\">0.4904</span>, <span style=\"color: #000080; font-weight: bold\">0.4906</span><span style=\"font-weight: bold\">]</span>, <span style=\"color: #808000\">device</span>=<span style=\"color: #008000\">'cuda:0'</span>,                                \n",
       "                    <span style=\"color: #808000\">grad_fn</span>=<span style=\"font-weight: bold\">&lt;</span><span style=\"color: #ff00ff; font-weight: bold\">SelectBackward</span><span style=\"font-weight: bold\">&gt;)</span>                                                \n",
       "</pre>\n"
      ],
      "text/plain": [
       "<rich.jupyter.JupyterRenderable at 0x7f1424e05b50>"
      ]
     },
     "metadata": {},
     "output_type": "display_data"
    },
    {
     "data": {
      "text/html": [
       "<pre style=\"white-space:pre;overflow-x:auto;line-height:normal;font-family:Menlo,'DejaVu Sans Mono',consolas,'Courier New',monospace\"><span style=\"color: #7fbfbf\">           </span><span style=\"color: #000080\">INFO    </span>                                                            <a href=\"file://../trainer.py\"><span style=\"color: #7f7f7f\">trainer.py</span></a><span style=\"color: #7f7f7f\">:364</span>\n",
       "                    CHECK METRICS                                                            \n",
       "</pre>\n"
      ],
      "text/plain": [
       "<rich.jupyter.JupyterRenderable at 0x7f1424e05a30>"
      ]
     },
     "metadata": {},
     "output_type": "display_data"
    },
    {
     "data": {
      "text/html": [
       "<pre style=\"white-space:pre;overflow-x:auto;line-height:normal;font-family:Menlo,'DejaVu Sans Mono',consolas,'Courier New',monospace\"><span style=\"color: #7fbfbf\">           </span><span style=\"color: #000080\">INFO    </span>                                                            <a href=\"file://../trainer.py\"><span style=\"color: #7f7f7f\">trainer.py</span></a><span style=\"color: #7f7f7f\">:370</span>\n",
       "                    LOSS : <span style=\"color: #000080; font-weight: bold\">0.6946015954017639</span>                                                \n",
       "</pre>\n"
      ],
      "text/plain": [
       "<rich.jupyter.JupyterRenderable at 0x7f1424e05cd0>"
      ]
     },
     "metadata": {},
     "output_type": "display_data"
    },
    {
     "data": {
      "text/html": [
       "<pre style=\"white-space:pre;overflow-x:auto;line-height:normal;font-family:Menlo,'DejaVu Sans Mono',consolas,'Courier New',monospace\"><span style=\"color: #7fbfbf\">           </span><span style=\"color: #000080\">INFO    </span> AUC: <span style=\"color: #000080; font-weight: bold\">0.46798029556650245</span> ACC: <span style=\"color: #000080; font-weight: bold\">0.4375</span>                       <a href=\"file://../trainer.py\"><span style=\"color: #7f7f7f\">trainer.py</span></a><span style=\"color: #7f7f7f\">:373</span>\n",
       "</pre>\n"
      ],
      "text/plain": [
       "<rich.jupyter.JupyterRenderable at 0x7f1424e05a00>"
      ]
     },
     "metadata": {},
     "output_type": "display_data"
    }
   ],
   "source": [
    "trainer.debug(train_data, valid_data, test_data)"
   ]
  },
  {
   "cell_type": "code",
   "execution_count": 78,
   "metadata": {
    "collapsed": true,
    "jupyter": {
     "outputs_hidden": true
    }
   },
   "outputs": [
    {
     "data": {
      "text/html": [
       "Finishing last run (ID:3m0zd8lo) before initializing another..."
      ],
      "text/plain": [
       "<IPython.core.display.HTML object>"
      ]
     },
     "metadata": {},
     "output_type": "display_data"
    },
    {
     "data": {
      "text/html": [
       "<br/>Waiting for W&B process to finish, PID 48842<br/>Program ended successfully."
      ],
      "text/plain": [
       "<IPython.core.display.HTML object>"
      ]
     },
     "metadata": {},
     "output_type": "display_data"
    },
    {
     "data": {
      "application/vnd.jupyter.widget-view+json": {
       "model_id": "7fb2add700914bb38d853aba5155afaf",
       "version_major": 2,
       "version_minor": 0
      },
      "text/plain": [
       "VBox(children=(Label(value=' 5.77MB of 5.77MB uploaded (0.00MB deduped)\\r'), FloatProgress(value=1.0, max=1.0)…"
      ]
     },
     "metadata": {},
     "output_type": "display_data"
    },
    {
     "data": {
      "text/html": [
       "Find user logs for this run at: <code>/home/j-gunmo/desktop/00.my-project/17.P-Stage-T1003/4-STAGE/notebook/wandb/run-20210611_171907-3m0zd8lo/logs/debug.log</code>"
      ],
      "text/plain": [
       "<IPython.core.display.HTML object>"
      ]
     },
     "metadata": {},
     "output_type": "display_data"
    },
    {
     "data": {
      "text/html": [
       "Find internal logs for this run at: <code>/home/j-gunmo/desktop/00.my-project/17.P-Stage-T1003/4-STAGE/notebook/wandb/run-20210611_171907-3m0zd8lo/logs/debug-internal.log</code>"
      ],
      "text/plain": [
       "<IPython.core.display.HTML object>"
      ]
     },
     "metadata": {},
     "output_type": "display_data"
    },
    {
     "data": {
      "text/html": [
       "Synced 6 W&B file(s), 0 media file(s), 0 artifact file(s) and 1 other file(s)"
      ],
      "text/plain": [
       "<IPython.core.display.HTML object>"
      ]
     },
     "metadata": {},
     "output_type": "display_data"
    },
    {
     "data": {
      "text/html": [
       "\n",
       "                    <br/>Synced <strong style=\"color:#cdcd00\">cerulean-forest-500</strong>: <a href=\"https://wandb.ai/ggm1207/p-stage-4/runs/3m0zd8lo\" target=\"_blank\">https://wandb.ai/ggm1207/p-stage-4/runs/3m0zd8lo</a><br/>\n",
       "                "
      ],
      "text/plain": [
       "<IPython.core.display.HTML object>"
      ]
     },
     "metadata": {},
     "output_type": "display_data"
    },
    {
     "data": {
      "text/html": [
       "...Successfully finished last run (ID:3m0zd8lo). Initializing new run:<br/><br/>"
      ],
      "text/plain": [
       "<IPython.core.display.HTML object>"
      ]
     },
     "metadata": {},
     "output_type": "display_data"
    },
    {
     "name": "stderr",
     "output_type": "stream",
     "text": [
      "\u001b[34m\u001b[1mwandb\u001b[0m: wandb version 0.10.32 is available!  To upgrade, please run:\n",
      "\u001b[34m\u001b[1mwandb\u001b[0m:  $ pip install wandb --upgrade\n"
     ]
    },
    {
     "data": {
      "text/html": [
       "\n",
       "                Tracking run with wandb version 0.10.27<br/>\n",
       "                Syncing run <strong style=\"color:#cdcd00\">fine-snow-501</strong> to <a href=\"https://wandb.ai\" target=\"_blank\">Weights & Biases</a> <a href=\"https://docs.wandb.com/integrations/jupyter.html\" target=\"_blank\">(Documentation)</a>.<br/>\n",
       "                Project page: <a href=\"https://wandb.ai/ggm1207/p-stage-4\" target=\"_blank\">https://wandb.ai/ggm1207/p-stage-4</a><br/>\n",
       "                Run page: <a href=\"https://wandb.ai/ggm1207/p-stage-4/runs/102k90jw\" target=\"_blank\">https://wandb.ai/ggm1207/p-stage-4/runs/102k90jw</a><br/>\n",
       "                Run data is saved locally in <code>/home/j-gunmo/desktop/00.my-project/17.P-Stage-T1003/4-STAGE/notebook/wandb/run-20210611_184111-102k90jw</code><br/><br/>\n",
       "            "
      ],
      "text/plain": [
       "<IPython.core.display.HTML object>"
      ]
     },
     "metadata": {},
     "output_type": "display_data"
    },
    {
     "data": {
      "text/html": [
       "<pre style=\"white-space:pre;overflow-x:auto;line-height:normal;font-family:Menlo,'DejaVu Sans Mono',consolas,'Courier New',monospace\"><span style=\"color: #7fbfbf\">[18:41:16] </span><span style=\"color: #000080\">INFO    </span> Start Training: Epoch <span style=\"color: #000080; font-weight: bold\">1</span>                                    <a href=\"file://../trainer.py\"><span style=\"color: #7f7f7f\">trainer.py</span></a><span style=\"color: #7f7f7f\">:409</span>\n",
       "</pre>\n"
      ],
      "text/plain": [
       "<rich.jupyter.JupyterRenderable at 0x7f1424ea7220>"
      ]
     },
     "metadata": {},
     "output_type": "display_data"
    },
    {
     "name": "stdout",
     "output_type": "stream",
     "text": [
      "Training steps: 0 Loss: 0.6914605498313904\n",
      "Training steps: 50 Loss: 0.6795990467071533\n",
      "Training steps: 100 Loss: 0.66401606798172\n",
      "Training steps: 150 Loss: 0.6197633743286133\n",
      "Training steps: 200 Loss: 0.611476480960846\n",
      "VALID AUC : 0.7661739212593249 ACC : 0.7049138804457954\n",
      "\n"
     ]
    },
    {
     "data": {
      "text/html": [
       "<pre style=\"white-space:pre;overflow-x:auto;line-height:normal;font-family:Menlo,'DejaVu Sans Mono',consolas,'Courier New',monospace\"><span style=\"color: #7fbfbf\">[18:41:20] </span><span style=\"color: #000080\">INFO    </span> TRAIN_LOSS: <span style=\"color: #000080; font-weight: bold\">0.6509846448898315</span>                             <a href=\"file://../trainer.py\"><span style=\"color: #7f7f7f\">trainer.py</span></a><span style=\"color: #7f7f7f\">:425</span>\n",
       "</pre>\n"
      ],
      "text/plain": [
       "<rich.jupyter.JupyterRenderable at 0x7f1424d07640>"
      ]
     },
     "metadata": {},
     "output_type": "display_data"
    },
    {
     "data": {
      "text/html": [
       "<pre style=\"white-space:pre;overflow-x:auto;line-height:normal;font-family:Menlo,'DejaVu Sans Mono',consolas,'Courier New',monospace\"><span style=\"color: #7fbfbf\">           </span><span style=\"color: #000080\">INFO    </span> TRAIN AUC: <span style=\"color: #000080; font-weight: bold\">0.7345265155362665</span> TRAIN ACC:                   <a href=\"file://../trainer.py\"><span style=\"color: #7f7f7f\">trainer.py</span></a><span style=\"color: #7f7f7f\">:426</span>\n",
       "                    <span style=\"color: #000080; font-weight: bold\">0.6885567728452916</span>                                                       \n",
       "</pre>\n"
      ],
      "text/plain": [
       "<rich.jupyter.JupyterRenderable at 0x7f1424eb94f0>"
      ]
     },
     "metadata": {},
     "output_type": "display_data"
    },
    {
     "data": {
      "text/html": [
       "<pre style=\"white-space:pre;overflow-x:auto;line-height:normal;font-family:Menlo,'DejaVu Sans Mono',consolas,'Courier New',monospace\"><span style=\"color: #7fbfbf\">           </span><span style=\"color: #000080\">INFO    </span> VALID AUC: <span style=\"color: #000080; font-weight: bold\">0.7661739212593249</span> VALID ACC:                   <a href=\"file://../trainer.py\"><span style=\"color: #7f7f7f\">trainer.py</span></a><span style=\"color: #7f7f7f\">:427</span>\n",
       "                    <span style=\"color: #000080; font-weight: bold\">0.7049138804457954</span>                                                       \n",
       "                                                                                             \n",
       "</pre>\n"
      ],
      "text/plain": [
       "<rich.jupyter.JupyterRenderable at 0x7f1424ebaac0>"
      ]
     },
     "metadata": {},
     "output_type": "display_data"
    },
    {
     "data": {
      "text/html": [
       "<pre style=\"white-space:pre;overflow-x:auto;line-height:normal;font-family:Menlo,'DejaVu Sans Mono',consolas,'Courier New',monospace\"><span style=\"color: #7fbfbf\">           </span><span style=\"color: #000080\">INFO    </span> Start Training: Epoch <span style=\"color: #000080; font-weight: bold\">2</span>                                    <a href=\"file://../trainer.py\"><span style=\"color: #7f7f7f\">trainer.py</span></a><span style=\"color: #7f7f7f\">:409</span>\n",
       "</pre>\n"
      ],
      "text/plain": [
       "<rich.jupyter.JupyterRenderable at 0x7f1424e08880>"
      ]
     },
     "metadata": {},
     "output_type": "display_data"
    },
    {
     "name": "stdout",
     "output_type": "stream",
     "text": [
      "Training steps: 0 Loss: 0.6078208684921265\n",
      "Training steps: 50 Loss: 0.6115068197250366\n",
      "Training steps: 100 Loss: 0.5551007390022278\n",
      "Training steps: 150 Loss: 0.5534874796867371\n",
      "Training steps: 200 Loss: 0.5410237312316895\n",
      "VALID AUC : 0.7719573638634197 ACC : 0.7033941236068896\n",
      "\n"
     ]
    },
    {
     "data": {
      "text/html": [
       "<pre style=\"white-space:pre;overflow-x:auto;line-height:normal;font-family:Menlo,'DejaVu Sans Mono',consolas,'Courier New',monospace\"><span style=\"color: #7fbfbf\">[18:41:23] </span><span style=\"color: #000080\">INFO    </span> TRAIN_LOSS: <span style=\"color: #000080; font-weight: bold\">0.5801864862442017</span>                             <a href=\"file://../trainer.py\"><span style=\"color: #7f7f7f\">trainer.py</span></a><span style=\"color: #7f7f7f\">:425</span>\n",
       "</pre>\n"
      ],
      "text/plain": [
       "<rich.jupyter.JupyterRenderable at 0x7f1424e05610>"
      ]
     },
     "metadata": {},
     "output_type": "display_data"
    },
    {
     "data": {
      "text/html": [
       "<pre style=\"white-space:pre;overflow-x:auto;line-height:normal;font-family:Menlo,'DejaVu Sans Mono',consolas,'Courier New',monospace\"><span style=\"color: #7fbfbf\">           </span><span style=\"color: #000080\">INFO    </span> TRAIN AUC: <span style=\"color: #000080; font-weight: bold\">0.7749734197803049</span> TRAIN ACC:                   <a href=\"file://../trainer.py\"><span style=\"color: #7f7f7f\">trainer.py</span></a><span style=\"color: #7f7f7f\">:426</span>\n",
       "                    <span style=\"color: #000080; font-weight: bold\">0.7048951934646317</span>                                                       \n",
       "</pre>\n"
      ],
      "text/plain": [
       "<rich.jupyter.JupyterRenderable at 0x7f1424eba340>"
      ]
     },
     "metadata": {},
     "output_type": "display_data"
    },
    {
     "data": {
      "text/html": [
       "<pre style=\"white-space:pre;overflow-x:auto;line-height:normal;font-family:Menlo,'DejaVu Sans Mono',consolas,'Courier New',monospace\"><span style=\"color: #7fbfbf\">           </span><span style=\"color: #000080\">INFO    </span> VALID AUC: <span style=\"color: #000080; font-weight: bold\">0.7719573638634197</span> VALID ACC:                   <a href=\"file://../trainer.py\"><span style=\"color: #7f7f7f\">trainer.py</span></a><span style=\"color: #7f7f7f\">:427</span>\n",
       "                    <span style=\"color: #000080; font-weight: bold\">0.7033941236068896</span>                                                       \n",
       "                                                                                             \n",
       "</pre>\n"
      ],
      "text/plain": [
       "<rich.jupyter.JupyterRenderable at 0x7f1424e085b0>"
      ]
     },
     "metadata": {},
     "output_type": "display_data"
    },
    {
     "data": {
      "text/html": [
       "<pre style=\"white-space:pre;overflow-x:auto;line-height:normal;font-family:Menlo,'DejaVu Sans Mono',consolas,'Courier New',monospace\"><span style=\"color: #7fbfbf\">           </span><span style=\"color: #000080\">INFO    </span> Start Training: Epoch <span style=\"color: #000080; font-weight: bold\">3</span>                                    <a href=\"file://../trainer.py\"><span style=\"color: #7f7f7f\">trainer.py</span></a><span style=\"color: #7f7f7f\">:409</span>\n",
       "</pre>\n"
      ],
      "text/plain": [
       "<rich.jupyter.JupyterRenderable at 0x7f1424ebaac0>"
      ]
     },
     "metadata": {},
     "output_type": "display_data"
    },
    {
     "name": "stdout",
     "output_type": "stream",
     "text": [
      "Training steps: 0 Loss: 0.5134978890419006\n",
      "Training steps: 50 Loss: 0.5707082748413086\n",
      "Training steps: 100 Loss: 0.5677574276924133\n",
      "Training steps: 150 Loss: 0.5889707803726196\n",
      "Training steps: 200 Loss: 0.5838099718093872\n",
      "VALID AUC : 0.7735396845936443 ACC : 0.7082066869300911\n",
      "\n"
     ]
    },
    {
     "data": {
      "text/html": [
       "<pre style=\"white-space:pre;overflow-x:auto;line-height:normal;font-family:Menlo,'DejaVu Sans Mono',consolas,'Courier New',monospace\"><span style=\"color: #7fbfbf\">[18:41:26] </span><span style=\"color: #000080\">INFO    </span> TRAIN_LOSS: <span style=\"color: #000080; font-weight: bold\">0.571881115436554</span>                              <a href=\"file://../trainer.py\"><span style=\"color: #7f7f7f\">trainer.py</span></a><span style=\"color: #7f7f7f\">:425</span>\n",
       "</pre>\n"
      ],
      "text/plain": [
       "<rich.jupyter.JupyterRenderable at 0x7f1424e08400>"
      ]
     },
     "metadata": {},
     "output_type": "display_data"
    },
    {
     "data": {
      "text/html": [
       "<pre style=\"white-space:pre;overflow-x:auto;line-height:normal;font-family:Menlo,'DejaVu Sans Mono',consolas,'Courier New',monospace\"><span style=\"color: #7fbfbf\">           </span><span style=\"color: #000080\">INFO    </span> TRAIN AUC: <span style=\"color: #000080; font-weight: bold\">0.7791513017447773</span> TRAIN ACC:                   <a href=\"file://../trainer.py\"><span style=\"color: #7f7f7f\">trainer.py</span></a><span style=\"color: #7f7f7f\">:426</span>\n",
       "                    <span style=\"color: #000080; font-weight: bold\">0.7090747894370211</span>                                                       \n",
       "</pre>\n"
      ],
      "text/plain": [
       "<rich.jupyter.JupyterRenderable at 0x7f1424d07130>"
      ]
     },
     "metadata": {},
     "output_type": "display_data"
    },
    {
     "data": {
      "text/html": [
       "<pre style=\"white-space:pre;overflow-x:auto;line-height:normal;font-family:Menlo,'DejaVu Sans Mono',consolas,'Courier New',monospace\"><span style=\"color: #7fbfbf\">           </span><span style=\"color: #000080\">INFO    </span> VALID AUC: <span style=\"color: #000080; font-weight: bold\">0.7735396845936443</span> VALID ACC:                   <a href=\"file://../trainer.py\"><span style=\"color: #7f7f7f\">trainer.py</span></a><span style=\"color: #7f7f7f\">:427</span>\n",
       "                    <span style=\"color: #000080; font-weight: bold\">0.7082066869300911</span>                                                       \n",
       "                                                                                             \n",
       "</pre>\n"
      ],
      "text/plain": [
       "<rich.jupyter.JupyterRenderable at 0x7f1424e08400>"
      ]
     },
     "metadata": {},
     "output_type": "display_data"
    },
    {
     "data": {
      "text/html": [
       "<pre style=\"white-space:pre;overflow-x:auto;line-height:normal;font-family:Menlo,'DejaVu Sans Mono',consolas,'Courier New',monospace\"><span style=\"color: #7fbfbf\">           </span><span style=\"color: #000080\">INFO    </span> Start Training: Epoch <span style=\"color: #000080; font-weight: bold\">4</span>                                    <a href=\"file://../trainer.py\"><span style=\"color: #7f7f7f\">trainer.py</span></a><span style=\"color: #7f7f7f\">:409</span>\n",
       "</pre>\n"
      ],
      "text/plain": [
       "<rich.jupyter.JupyterRenderable at 0x7f1424d079a0>"
      ]
     },
     "metadata": {},
     "output_type": "display_data"
    },
    {
     "name": "stdout",
     "output_type": "stream",
     "text": [
      "Training steps: 0 Loss: 0.5919654369354248\n",
      "Training steps: 50 Loss: 0.5907580256462097\n",
      "Training steps: 100 Loss: 0.5812669992446899\n",
      "Training steps: 150 Loss: 0.5119457244873047\n",
      "Training steps: 200 Loss: 0.5490837097167969\n",
      "VALID AUC : 0.7739058032633344 ACC : 0.7084599797365755\n",
      "\n"
     ]
    },
    {
     "data": {
      "text/html": [
       "<pre style=\"white-space:pre;overflow-x:auto;line-height:normal;font-family:Menlo,'DejaVu Sans Mono',consolas,'Courier New',monospace\"><span style=\"color: #7fbfbf\">[18:41:29] </span><span style=\"color: #000080\">INFO    </span> TRAIN_LOSS: <span style=\"color: #000080; font-weight: bold\">0.5691094994544983</span>                             <a href=\"file://../trainer.py\"><span style=\"color: #7f7f7f\">trainer.py</span></a><span style=\"color: #7f7f7f\">:425</span>\n",
       "</pre>\n"
      ],
      "text/plain": [
       "<rich.jupyter.JupyterRenderable at 0x7f1424e05730>"
      ]
     },
     "metadata": {},
     "output_type": "display_data"
    },
    {
     "data": {
      "text/html": [
       "<pre style=\"white-space:pre;overflow-x:auto;line-height:normal;font-family:Menlo,'DejaVu Sans Mono',consolas,'Courier New',monospace\"><span style=\"color: #7fbfbf\">           </span><span style=\"color: #000080\">INFO    </span> TRAIN AUC: <span style=\"color: #000080; font-weight: bold\">0.7803537058694459</span> TRAIN ACC:                   <a href=\"file://../trainer.py\"><span style=\"color: #7f7f7f\">trainer.py</span></a><span style=\"color: #7f7f7f\">:426</span>\n",
       "                    <span style=\"color: #000080; font-weight: bold\">0.7103413336710784</span>                                                       \n",
       "</pre>\n"
      ],
      "text/plain": [
       "<rich.jupyter.JupyterRenderable at 0x7f1424e08880>"
      ]
     },
     "metadata": {},
     "output_type": "display_data"
    },
    {
     "data": {
      "text/html": [
       "<pre style=\"white-space:pre;overflow-x:auto;line-height:normal;font-family:Menlo,'DejaVu Sans Mono',consolas,'Courier New',monospace\"><span style=\"color: #7fbfbf\">           </span><span style=\"color: #000080\">INFO    </span> VALID AUC: <span style=\"color: #000080; font-weight: bold\">0.7739058032633344</span> VALID ACC:                   <a href=\"file://../trainer.py\"><span style=\"color: #7f7f7f\">trainer.py</span></a><span style=\"color: #7f7f7f\">:427</span>\n",
       "                    <span style=\"color: #000080; font-weight: bold\">0.7084599797365755</span>                                                       \n",
       "                                                                                             \n",
       "</pre>\n"
      ],
      "text/plain": [
       "<rich.jupyter.JupyterRenderable at 0x7f1424d07640>"
      ]
     },
     "metadata": {},
     "output_type": "display_data"
    },
    {
     "data": {
      "text/html": [
       "<pre style=\"white-space:pre;overflow-x:auto;line-height:normal;font-family:Menlo,'DejaVu Sans Mono',consolas,'Courier New',monospace\"><span style=\"color: #7fbfbf\">           </span><span style=\"color: #000080\">INFO    </span> Start Training: Epoch <span style=\"color: #000080; font-weight: bold\">5</span>                                    <a href=\"file://../trainer.py\"><span style=\"color: #7f7f7f\">trainer.py</span></a><span style=\"color: #7f7f7f\">:409</span>\n",
       "</pre>\n"
      ],
      "text/plain": [
       "<rich.jupyter.JupyterRenderable at 0x7f1424eadfd0>"
      ]
     },
     "metadata": {},
     "output_type": "display_data"
    },
    {
     "name": "stdout",
     "output_type": "stream",
     "text": [
      "Training steps: 0 Loss: 0.5187664031982422\n",
      "Training steps: 50 Loss: 0.5507243871688843\n",
      "Training steps: 100 Loss: 0.618769109249115\n",
      "Training steps: 150 Loss: 0.6025223731994629\n",
      "Training steps: 200 Loss: 0.5995501279830933\n",
      "VALID AUC : 0.7745371397351211 ACC : 0.707193515704154\n",
      "\n"
     ]
    },
    {
     "data": {
      "text/html": [
       "<pre style=\"white-space:pre;overflow-x:auto;line-height:normal;font-family:Menlo,'DejaVu Sans Mono',consolas,'Courier New',monospace\"><span style=\"color: #7fbfbf\">[18:41:32] </span><span style=\"color: #000080\">INFO    </span> TRAIN_LOSS: <span style=\"color: #000080; font-weight: bold\">0.5676475763320923</span>                             <a href=\"file://../trainer.py\"><span style=\"color: #7f7f7f\">trainer.py</span></a><span style=\"color: #7f7f7f\">:425</span>\n",
       "</pre>\n"
      ],
      "text/plain": [
       "<rich.jupyter.JupyterRenderable at 0x7f1424e08880>"
      ]
     },
     "metadata": {},
     "output_type": "display_data"
    },
    {
     "data": {
      "text/html": [
       "<pre style=\"white-space:pre;overflow-x:auto;line-height:normal;font-family:Menlo,'DejaVu Sans Mono',consolas,'Courier New',monospace\"><span style=\"color: #7fbfbf\">[18:41:33] </span><span style=\"color: #000080\">INFO    </span> TRAIN AUC: <span style=\"color: #000080; font-weight: bold\">0.7807963244151077</span> TRAIN ACC:                   <a href=\"file://../trainer.py\"><span style=\"color: #7f7f7f\">trainer.py</span></a><span style=\"color: #7f7f7f\">:426</span>\n",
       "                    <span style=\"color: #000080; font-weight: bold\">0.7107846241529986</span>                                                       \n",
       "</pre>\n"
      ],
      "text/plain": [
       "<rich.jupyter.JupyterRenderable at 0x7f1424eba340>"
      ]
     },
     "metadata": {},
     "output_type": "display_data"
    },
    {
     "data": {
      "text/html": [
       "<pre style=\"white-space:pre;overflow-x:auto;line-height:normal;font-family:Menlo,'DejaVu Sans Mono',consolas,'Courier New',monospace\"><span style=\"color: #7fbfbf\">           </span><span style=\"color: #000080\">INFO    </span> VALID AUC: <span style=\"color: #000080; font-weight: bold\">0.7745371397351211</span> VALID ACC: <span style=\"color: #000080; font-weight: bold\">0.707193515704154</span> <a href=\"file://../trainer.py\"><span style=\"color: #7f7f7f\">trainer.py</span></a><span style=\"color: #7f7f7f\">:427</span>\n",
       "                                                                                             \n",
       "</pre>\n"
      ],
      "text/plain": [
       "<rich.jupyter.JupyterRenderable at 0x7f1424eba1f0>"
      ]
     },
     "metadata": {},
     "output_type": "display_data"
    },
    {
     "data": {
      "text/html": [
       "<pre style=\"white-space:pre;overflow-x:auto;line-height:normal;font-family:Menlo,'DejaVu Sans Mono',consolas,'Courier New',monospace\"><span style=\"color: #7fbfbf\">           </span><span style=\"color: #000080\">INFO    </span> Start Training: Epoch <span style=\"color: #000080; font-weight: bold\">6</span>                                    <a href=\"file://../trainer.py\"><span style=\"color: #7f7f7f\">trainer.py</span></a><span style=\"color: #7f7f7f\">:409</span>\n",
       "</pre>\n"
      ],
      "text/plain": [
       "<rich.jupyter.JupyterRenderable at 0x7f1424e08280>"
      ]
     },
     "metadata": {},
     "output_type": "display_data"
    },
    {
     "name": "stdout",
     "output_type": "stream",
     "text": [
      "Training steps: 0 Loss: 0.6132122278213501\n",
      "Training steps: 50 Loss: 0.596794843673706\n",
      "Training steps: 100 Loss: 0.5277812480926514\n",
      "Training steps: 150 Loss: 0.600231409072876\n",
      "Training steps: 200 Loss: 0.5254315137863159\n",
      "VALID AUC : 0.7747145506753426 ACC : 0.7069402228976697\n",
      "\n"
     ]
    },
    {
     "data": {
      "text/html": [
       "<pre style=\"white-space:pre;overflow-x:auto;line-height:normal;font-family:Menlo,'DejaVu Sans Mono',consolas,'Courier New',monospace\"><span style=\"color: #7fbfbf\">[18:41:36] </span><span style=\"color: #000080\">INFO    </span> TRAIN_LOSS: <span style=\"color: #000080; font-weight: bold\">0.5666828751564026</span>                             <a href=\"file://../trainer.py\"><span style=\"color: #7f7f7f\">trainer.py</span></a><span style=\"color: #7f7f7f\">:425</span>\n",
       "</pre>\n"
      ],
      "text/plain": [
       "<rich.jupyter.JupyterRenderable at 0x7f1424e08400>"
      ]
     },
     "metadata": {},
     "output_type": "display_data"
    },
    {
     "data": {
      "text/html": [
       "<pre style=\"white-space:pre;overflow-x:auto;line-height:normal;font-family:Menlo,'DejaVu Sans Mono',consolas,'Courier New',monospace\"><span style=\"color: #7fbfbf\">           </span><span style=\"color: #000080\">INFO    </span> TRAIN AUC: <span style=\"color: #000080; font-weight: bold\">0.7812771095535096</span> TRAIN ACC:                   <a href=\"file://../trainer.py\"><span style=\"color: #7f7f7f\">trainer.py</span></a><span style=\"color: #7f7f7f\">:426</span>\n",
       "                    <span style=\"color: #000080; font-weight: bold\">0.7127477677157875</span>                                                       \n",
       "</pre>\n"
      ],
      "text/plain": [
       "<rich.jupyter.JupyterRenderable at 0x7f1424eb9220>"
      ]
     },
     "metadata": {},
     "output_type": "display_data"
    },
    {
     "data": {
      "text/html": [
       "<pre style=\"white-space:pre;overflow-x:auto;line-height:normal;font-family:Menlo,'DejaVu Sans Mono',consolas,'Courier New',monospace\"><span style=\"color: #7fbfbf\">           </span><span style=\"color: #000080\">INFO    </span> VALID AUC: <span style=\"color: #000080; font-weight: bold\">0.7747145506753426</span> VALID ACC:                   <a href=\"file://../trainer.py\"><span style=\"color: #7f7f7f\">trainer.py</span></a><span style=\"color: #7f7f7f\">:427</span>\n",
       "                    <span style=\"color: #000080; font-weight: bold\">0.7069402228976697</span>                                                       \n",
       "                                                                                             \n",
       "</pre>\n"
      ],
      "text/plain": [
       "<rich.jupyter.JupyterRenderable at 0x7f1424ea7a00>"
      ]
     },
     "metadata": {},
     "output_type": "display_data"
    },
    {
     "data": {
      "text/html": [
       "<pre style=\"white-space:pre;overflow-x:auto;line-height:normal;font-family:Menlo,'DejaVu Sans Mono',consolas,'Courier New',monospace\"><span style=\"color: #7fbfbf\">           </span><span style=\"color: #000080\">INFO    </span> Start Training: Epoch <span style=\"color: #000080; font-weight: bold\">7</span>                                    <a href=\"file://../trainer.py\"><span style=\"color: #7f7f7f\">trainer.py</span></a><span style=\"color: #7f7f7f\">:409</span>\n",
       "</pre>\n"
      ],
      "text/plain": [
       "<rich.jupyter.JupyterRenderable at 0x7f1424d07640>"
      ]
     },
     "metadata": {},
     "output_type": "display_data"
    },
    {
     "name": "stdout",
     "output_type": "stream",
     "text": [
      "Training steps: 0 Loss: 0.5199386477470398\n",
      "Training steps: 50 Loss: 0.6370387673377991\n",
      "Training steps: 100 Loss: 0.5058273673057556\n",
      "Training steps: 150 Loss: 0.6421599388122559\n",
      "Training steps: 200 Loss: 0.5394273996353149\n",
      "VALID AUC : 0.7749529386029774 ACC : 0.7082066869300911\n",
      "\n"
     ]
    },
    {
     "data": {
      "text/html": [
       "<pre style=\"white-space:pre;overflow-x:auto;line-height:normal;font-family:Menlo,'DejaVu Sans Mono',consolas,'Courier New',monospace\"><span style=\"color: #7fbfbf\">[18:41:39] </span><span style=\"color: #000080\">INFO    </span> TRAIN_LOSS: <span style=\"color: #000080; font-weight: bold\">0.5656855702400208</span>                             <a href=\"file://../trainer.py\"><span style=\"color: #7f7f7f\">trainer.py</span></a><span style=\"color: #7f7f7f\">:425</span>\n",
       "</pre>\n"
      ],
      "text/plain": [
       "<rich.jupyter.JupyterRenderable at 0x7f1424e48a00>"
      ]
     },
     "metadata": {},
     "output_type": "display_data"
    },
    {
     "data": {
      "text/html": [
       "<pre style=\"white-space:pre;overflow-x:auto;line-height:normal;font-family:Menlo,'DejaVu Sans Mono',consolas,'Courier New',monospace\"><span style=\"color: #7fbfbf\">           </span><span style=\"color: #000080\">INFO    </span> TRAIN AUC: <span style=\"color: #000080; font-weight: bold\">0.7815870476400273</span> TRAIN ACC:                   <a href=\"file://../trainer.py\"><span style=\"color: #7f7f7f\">trainer.py</span></a><span style=\"color: #7f7f7f\">:426</span>\n",
       "                    <span style=\"color: #000080; font-weight: bold\">0.7118611867519473</span>                                                       \n",
       "</pre>\n"
      ],
      "text/plain": [
       "<rich.jupyter.JupyterRenderable at 0x7f1424eb9a30>"
      ]
     },
     "metadata": {},
     "output_type": "display_data"
    },
    {
     "data": {
      "text/html": [
       "<pre style=\"white-space:pre;overflow-x:auto;line-height:normal;font-family:Menlo,'DejaVu Sans Mono',consolas,'Courier New',monospace\"><span style=\"color: #7fbfbf\">           </span><span style=\"color: #000080\">INFO    </span> VALID AUC: <span style=\"color: #000080; font-weight: bold\">0.7749529386029774</span> VALID ACC:                   <a href=\"file://../trainer.py\"><span style=\"color: #7f7f7f\">trainer.py</span></a><span style=\"color: #7f7f7f\">:427</span>\n",
       "                    <span style=\"color: #000080; font-weight: bold\">0.7082066869300911</span>                                                       \n",
       "                                                                                             \n",
       "</pre>\n"
      ],
      "text/plain": [
       "<rich.jupyter.JupyterRenderable at 0x7f1424ea7a60>"
      ]
     },
     "metadata": {},
     "output_type": "display_data"
    },
    {
     "data": {
      "text/html": [
       "<pre style=\"white-space:pre;overflow-x:auto;line-height:normal;font-family:Menlo,'DejaVu Sans Mono',consolas,'Courier New',monospace\"><span style=\"color: #7fbfbf\">           </span><span style=\"color: #000080\">INFO    </span> Start Training: Epoch <span style=\"color: #000080; font-weight: bold\">8</span>                                    <a href=\"file://../trainer.py\"><span style=\"color: #7f7f7f\">trainer.py</span></a><span style=\"color: #7f7f7f\">:409</span>\n",
       "</pre>\n"
      ],
      "text/plain": [
       "<rich.jupyter.JupyterRenderable at 0x7f1424e08880>"
      ]
     },
     "metadata": {},
     "output_type": "display_data"
    },
    {
     "name": "stdout",
     "output_type": "stream",
     "text": [
      "Training steps: 0 Loss: 0.503588080406189\n",
      "Training steps: 50 Loss: 0.5742260217666626\n",
      "Training steps: 100 Loss: 0.5678952932357788\n",
      "Training steps: 150 Loss: 0.6470595598220825\n",
      "Training steps: 200 Loss: 0.6078394651412964\n",
      "VALID AUC : 0.774972836356765 ACC : 0.7084599797365755\n",
      "\n"
     ]
    },
    {
     "data": {
      "text/html": [
       "<pre style=\"white-space:pre;overflow-x:auto;line-height:normal;font-family:Menlo,'DejaVu Sans Mono',consolas,'Courier New',monospace\"><span style=\"color: #7fbfbf\">[18:41:42] </span><span style=\"color: #000080\">INFO    </span> TRAIN_LOSS: <span style=\"color: #000080; font-weight: bold\">0.5654150247573853</span>                             <a href=\"file://../trainer.py\"><span style=\"color: #7f7f7f\">trainer.py</span></a><span style=\"color: #7f7f7f\">:425</span>\n",
       "</pre>\n"
      ],
      "text/plain": [
       "<rich.jupyter.JupyterRenderable at 0x7f1424eb94f0>"
      ]
     },
     "metadata": {},
     "output_type": "display_data"
    },
    {
     "data": {
      "text/html": [
       "<pre style=\"white-space:pre;overflow-x:auto;line-height:normal;font-family:Menlo,'DejaVu Sans Mono',consolas,'Courier New',monospace\"><span style=\"color: #7fbfbf\">           </span><span style=\"color: #000080\">INFO    </span> TRAIN AUC: <span style=\"color: #000080; font-weight: bold\">0.7815065985281062</span> TRAIN ACC:                   <a href=\"file://../trainer.py\"><span style=\"color: #7f7f7f\">trainer.py</span></a><span style=\"color: #7f7f7f\">:426</span>\n",
       "                    <span style=\"color: #000080; font-weight: bold\">0.7112912418466215</span>                                                       \n",
       "</pre>\n"
      ],
      "text/plain": [
       "<rich.jupyter.JupyterRenderable at 0x7f1424e08880>"
      ]
     },
     "metadata": {},
     "output_type": "display_data"
    },
    {
     "data": {
      "text/html": [
       "<pre style=\"white-space:pre;overflow-x:auto;line-height:normal;font-family:Menlo,'DejaVu Sans Mono',consolas,'Courier New',monospace\"><span style=\"color: #7fbfbf\">           </span><span style=\"color: #000080\">INFO    </span> VALID AUC: <span style=\"color: #000080; font-weight: bold\">0.774972836356765</span> VALID ACC: <span style=\"color: #000080; font-weight: bold\">0.7084599797365755</span> <a href=\"file://../trainer.py\"><span style=\"color: #7f7f7f\">trainer.py</span></a><span style=\"color: #7f7f7f\">:427</span>\n",
       "                                                                                             \n",
       "</pre>\n"
      ],
      "text/plain": [
       "<rich.jupyter.JupyterRenderable at 0x7f1424d070d0>"
      ]
     },
     "metadata": {},
     "output_type": "display_data"
    },
    {
     "data": {
      "text/html": [
       "<pre style=\"white-space:pre;overflow-x:auto;line-height:normal;font-family:Menlo,'DejaVu Sans Mono',consolas,'Courier New',monospace\"><span style=\"color: #7fbfbf\">           </span><span style=\"color: #000080\">INFO    </span> Start Training: Epoch <span style=\"color: #000080; font-weight: bold\">9</span>                                    <a href=\"file://../trainer.py\"><span style=\"color: #7f7f7f\">trainer.py</span></a><span style=\"color: #7f7f7f\">:409</span>\n",
       "</pre>\n"
      ],
      "text/plain": [
       "<rich.jupyter.JupyterRenderable at 0x7f1424eb9a30>"
      ]
     },
     "metadata": {},
     "output_type": "display_data"
    },
    {
     "name": "stdout",
     "output_type": "stream",
     "text": [
      "Training steps: 0 Loss: 0.5008181929588318\n",
      "Training steps: 50 Loss: 0.5540046095848083\n",
      "Training steps: 100 Loss: 0.5055907368659973\n",
      "Training steps: 150 Loss: 0.6183093786239624\n",
      "Training steps: 200 Loss: 0.5676316022872925\n",
      "VALID AUC : 0.7746028665089224 ACC : 0.708966565349544\n",
      "\n"
     ]
    },
    {
     "data": {
      "text/html": [
       "<pre style=\"white-space:pre;overflow-x:auto;line-height:normal;font-family:Menlo,'DejaVu Sans Mono',consolas,'Courier New',monospace\"><span style=\"color: #7fbfbf\">[18:41:45] </span><span style=\"color: #000080\">INFO    </span> TRAIN_LOSS: <span style=\"color: #000080; font-weight: bold\">0.5652754306793213</span>                             <a href=\"file://../trainer.py\"><span style=\"color: #7f7f7f\">trainer.py</span></a><span style=\"color: #7f7f7f\">:425</span>\n",
       "</pre>\n"
      ],
      "text/plain": [
       "<rich.jupyter.JupyterRenderable at 0x7f1424eb9a30>"
      ]
     },
     "metadata": {},
     "output_type": "display_data"
    },
    {
     "data": {
      "text/html": [
       "<pre style=\"white-space:pre;overflow-x:auto;line-height:normal;font-family:Menlo,'DejaVu Sans Mono',consolas,'Courier New',monospace\"><span style=\"color: #7fbfbf\">           </span><span style=\"color: #000080\">INFO    </span> TRAIN AUC: <span style=\"color: #000080; font-weight: bold\">0.7815526760437901</span> TRAIN ACC:                   <a href=\"file://../trainer.py\"><span style=\"color: #7f7f7f\">trainer.py</span></a><span style=\"color: #7f7f7f\">:426</span>\n",
       "                    <span style=\"color: #000080; font-weight: bold\">0.7127477677157875</span>                                                       \n",
       "</pre>\n"
      ],
      "text/plain": [
       "<rich.jupyter.JupyterRenderable at 0x7f1424d070d0>"
      ]
     },
     "metadata": {},
     "output_type": "display_data"
    },
    {
     "data": {
      "text/html": [
       "<pre style=\"white-space:pre;overflow-x:auto;line-height:normal;font-family:Menlo,'DejaVu Sans Mono',consolas,'Courier New',monospace\"><span style=\"color: #7fbfbf\">           </span><span style=\"color: #000080\">INFO    </span> VALID AUC: <span style=\"color: #000080; font-weight: bold\">0.7746028665089224</span> VALID ACC: <span style=\"color: #000080; font-weight: bold\">0.708966565349544</span> <a href=\"file://../trainer.py\"><span style=\"color: #7f7f7f\">trainer.py</span></a><span style=\"color: #7f7f7f\">:427</span>\n",
       "                                                                                             \n",
       "</pre>\n"
      ],
      "text/plain": [
       "<rich.jupyter.JupyterRenderable at 0x7f1424d07700>"
      ]
     },
     "metadata": {},
     "output_type": "display_data"
    },
    {
     "data": {
      "text/html": [
       "<pre style=\"white-space:pre;overflow-x:auto;line-height:normal;font-family:Menlo,'DejaVu Sans Mono',consolas,'Courier New',monospace\"><span style=\"color: #7fbfbf\">           </span><span style=\"color: #000080\">INFO    </span> EarlyStopping counter: <span style=\"color: #000080; font-weight: bold\">1</span>                                   <a href=\"file://../trainer.py\"><span style=\"color: #7f7f7f\">trainer.py</span></a><span style=\"color: #7f7f7f\">:435</span>\n",
       "</pre>\n"
      ],
      "text/plain": [
       "<rich.jupyter.JupyterRenderable at 0x7f1424ea7f40>"
      ]
     },
     "metadata": {},
     "output_type": "display_data"
    },
    {
     "data": {
      "text/html": [
       "<pre style=\"white-space:pre;overflow-x:auto;line-height:normal;font-family:Menlo,'DejaVu Sans Mono',consolas,'Courier New',monospace\"><span style=\"color: #7fbfbf\">           </span><span style=\"color: #000080\">INFO    </span> Start Training: Epoch <span style=\"color: #000080; font-weight: bold\">10</span>                                   <a href=\"file://../trainer.py\"><span style=\"color: #7f7f7f\">trainer.py</span></a><span style=\"color: #7f7f7f\">:409</span>\n",
       "</pre>\n"
      ],
      "text/plain": [
       "<rich.jupyter.JupyterRenderable at 0x7f1424ea77c0>"
      ]
     },
     "metadata": {},
     "output_type": "display_data"
    },
    {
     "name": "stdout",
     "output_type": "stream",
     "text": [
      "Training steps: 0 Loss: 0.5256476402282715\n",
      "Training steps: 50 Loss: 0.5425374507904053\n",
      "Training steps: 100 Loss: 0.5462218523025513\n",
      "Training steps: 150 Loss: 0.5488754510879517\n",
      "Training steps: 200 Loss: 0.586246132850647\n",
      "VALID AUC : 0.7747507517499753 ACC : 0.7092198581560284\n",
      "\n"
     ]
    },
    {
     "data": {
      "text/html": [
       "<pre style=\"white-space:pre;overflow-x:auto;line-height:normal;font-family:Menlo,'DejaVu Sans Mono',consolas,'Courier New',monospace\"><span style=\"color: #7fbfbf\">[18:41:48] </span><span style=\"color: #000080\">INFO    </span> TRAIN_LOSS: <span style=\"color: #000080; font-weight: bold\">0.565001904964447</span>                              <a href=\"file://../trainer.py\"><span style=\"color: #7f7f7f\">trainer.py</span></a><span style=\"color: #7f7f7f\">:425</span>\n",
       "</pre>\n"
      ],
      "text/plain": [
       "<rich.jupyter.JupyterRenderable at 0x7f1424ea7520>"
      ]
     },
     "metadata": {},
     "output_type": "display_data"
    },
    {
     "data": {
      "text/html": [
       "<pre style=\"white-space:pre;overflow-x:auto;line-height:normal;font-family:Menlo,'DejaVu Sans Mono',consolas,'Courier New',monospace\"><span style=\"color: #7fbfbf\">           </span><span style=\"color: #000080\">INFO    </span> TRAIN AUC: <span style=\"color: #000080; font-weight: bold\">0.7816898334755533</span> TRAIN ACC: <span style=\"color: #000080; font-weight: bold\">0.712494458868976</span> <a href=\"file://../trainer.py\"><span style=\"color: #7f7f7f\">trainer.py</span></a><span style=\"color: #7f7f7f\">:426</span>\n",
       "</pre>\n"
      ],
      "text/plain": [
       "<rich.jupyter.JupyterRenderable at 0x7f1424d07130>"
      ]
     },
     "metadata": {},
     "output_type": "display_data"
    },
    {
     "data": {
      "text/html": [
       "<pre style=\"white-space:pre;overflow-x:auto;line-height:normal;font-family:Menlo,'DejaVu Sans Mono',consolas,'Courier New',monospace\"><span style=\"color: #7fbfbf\">           </span><span style=\"color: #000080\">INFO    </span> VALID AUC: <span style=\"color: #000080; font-weight: bold\">0.7747507517499753</span> VALID ACC:                   <a href=\"file://../trainer.py\"><span style=\"color: #7f7f7f\">trainer.py</span></a><span style=\"color: #7f7f7f\">:427</span>\n",
       "                    <span style=\"color: #000080; font-weight: bold\">0.7092198581560284</span>                                                       \n",
       "                                                                                             \n",
       "</pre>\n"
      ],
      "text/plain": [
       "<rich.jupyter.JupyterRenderable at 0x7f1424eb94f0>"
      ]
     },
     "metadata": {},
     "output_type": "display_data"
    },
    {
     "data": {
      "text/html": [
       "<pre style=\"white-space:pre;overflow-x:auto;line-height:normal;font-family:Menlo,'DejaVu Sans Mono',consolas,'Courier New',monospace\"><span style=\"color: #7fbfbf\">           </span><span style=\"color: #000080\">INFO    </span> EarlyStopping counter: <span style=\"color: #000080; font-weight: bold\">2</span>                                   <a href=\"file://../trainer.py\"><span style=\"color: #7f7f7f\">trainer.py</span></a><span style=\"color: #7f7f7f\">:435</span>\n",
       "</pre>\n"
      ],
      "text/plain": [
       "<rich.jupyter.JupyterRenderable at 0x7f1424ea7520>"
      ]
     },
     "metadata": {},
     "output_type": "display_data"
    },
    {
     "data": {
      "text/html": [
       "<pre style=\"white-space:pre;overflow-x:auto;line-height:normal;font-family:Menlo,'DejaVu Sans Mono',consolas,'Courier New',monospace\"><span style=\"color: #7fbfbf\">           </span><span style=\"color: #000080\">INFO    </span> Start Training: Epoch <span style=\"color: #000080; font-weight: bold\">11</span>                                   <a href=\"file://../trainer.py\"><span style=\"color: #7f7f7f\">trainer.py</span></a><span style=\"color: #7f7f7f\">:409</span>\n",
       "</pre>\n"
      ],
      "text/plain": [
       "<rich.jupyter.JupyterRenderable at 0x7f1424d079a0>"
      ]
     },
     "metadata": {},
     "output_type": "display_data"
    },
    {
     "name": "stdout",
     "output_type": "stream",
     "text": [
      "Training steps: 0 Loss: 0.5811713337898254\n",
      "Training steps: 50 Loss: 0.7365767955780029\n",
      "Training steps: 100 Loss: 0.5575495958328247\n",
      "Training steps: 150 Loss: 0.559294581413269\n",
      "Training steps: 200 Loss: 0.5686966776847839\n",
      "VALID AUC : 0.7746544722961649 ACC : 0.7069402228976697\n",
      "\n"
     ]
    },
    {
     "data": {
      "text/html": [
       "<pre style=\"white-space:pre;overflow-x:auto;line-height:normal;font-family:Menlo,'DejaVu Sans Mono',consolas,'Courier New',monospace\"><span style=\"color: #7fbfbf\">[18:41:52] </span><span style=\"color: #000080\">INFO    </span> TRAIN_LOSS: <span style=\"color: #000080; font-weight: bold\">0.5648803114891052</span>                             <a href=\"file://../trainer.py\"><span style=\"color: #7f7f7f\">trainer.py</span></a><span style=\"color: #7f7f7f\">:425</span>\n",
       "</pre>\n"
      ],
      "text/plain": [
       "<rich.jupyter.JupyterRenderable at 0x7f1424e71df0>"
      ]
     },
     "metadata": {},
     "output_type": "display_data"
    },
    {
     "data": {
      "text/html": [
       "<pre style=\"white-space:pre;overflow-x:auto;line-height:normal;font-family:Menlo,'DejaVu Sans Mono',consolas,'Courier New',monospace\"><span style=\"color: #7fbfbf\">           </span><span style=\"color: #000080\">INFO    </span> TRAIN AUC: <span style=\"color: #000080; font-weight: bold\">0.781671508376159</span> TRAIN ACC: <span style=\"color: #000080; font-weight: bold\">0.7133810398328162</span> <a href=\"file://../trainer.py\"><span style=\"color: #7f7f7f\">trainer.py</span></a><span style=\"color: #7f7f7f\">:426</span>\n",
       "</pre>\n"
      ],
      "text/plain": [
       "<rich.jupyter.JupyterRenderable at 0x7f1424e48fa0>"
      ]
     },
     "metadata": {},
     "output_type": "display_data"
    },
    {
     "data": {
      "text/html": [
       "<pre style=\"white-space:pre;overflow-x:auto;line-height:normal;font-family:Menlo,'DejaVu Sans Mono',consolas,'Courier New',monospace\"><span style=\"color: #7fbfbf\">           </span><span style=\"color: #000080\">INFO    </span> VALID AUC: <span style=\"color: #000080; font-weight: bold\">0.7746544722961649</span> VALID ACC:                   <a href=\"file://../trainer.py\"><span style=\"color: #7f7f7f\">trainer.py</span></a><span style=\"color: #7f7f7f\">:427</span>\n",
       "                    <span style=\"color: #000080; font-weight: bold\">0.7069402228976697</span>                                                       \n",
       "                                                                                             \n",
       "</pre>\n"
      ],
      "text/plain": [
       "<rich.jupyter.JupyterRenderable at 0x7f1424ea71f0>"
      ]
     },
     "metadata": {},
     "output_type": "display_data"
    },
    {
     "data": {
      "text/html": [
       "<pre style=\"white-space:pre;overflow-x:auto;line-height:normal;font-family:Menlo,'DejaVu Sans Mono',consolas,'Courier New',monospace\"><span style=\"color: #7fbfbf\">           </span><span style=\"color: #000080\">INFO    </span> EarlyStopping counter: <span style=\"color: #000080; font-weight: bold\">3</span>                                   <a href=\"file://../trainer.py\"><span style=\"color: #7f7f7f\">trainer.py</span></a><span style=\"color: #7f7f7f\">:435</span>\n",
       "</pre>\n"
      ],
      "text/plain": [
       "<rich.jupyter.JupyterRenderable at 0x7f1424e482e0>"
      ]
     },
     "metadata": {},
     "output_type": "display_data"
    },
    {
     "data": {
      "text/html": [
       "<pre style=\"white-space:pre;overflow-x:auto;line-height:normal;font-family:Menlo,'DejaVu Sans Mono',consolas,'Courier New',monospace\"><span style=\"color: #7fbfbf\">           </span><span style=\"color: #000080\">INFO    </span> Start Training: Epoch <span style=\"color: #000080; font-weight: bold\">12</span>                                   <a href=\"file://../trainer.py\"><span style=\"color: #7f7f7f\">trainer.py</span></a><span style=\"color: #7f7f7f\">:409</span>\n",
       "</pre>\n"
      ],
      "text/plain": [
       "<rich.jupyter.JupyterRenderable at 0x7f1424ea77c0>"
      ]
     },
     "metadata": {},
     "output_type": "display_data"
    },
    {
     "name": "stdout",
     "output_type": "stream",
     "text": [
      "Training steps: 0 Loss: 0.6305075883865356\n",
      "Training steps: 50 Loss: 0.6240187287330627\n",
      "Training steps: 100 Loss: 0.5202264189720154\n",
      "Training steps: 150 Loss: 0.4983265995979309\n",
      "Training steps: 200 Loss: 0.5562132000923157\n",
      "VALID AUC : 0.7749438241480167 ACC : 0.7077001013171226\n",
      "\n"
     ]
    },
    {
     "data": {
      "text/html": [
       "<pre style=\"white-space:pre;overflow-x:auto;line-height:normal;font-family:Menlo,'DejaVu Sans Mono',consolas,'Courier New',monospace\"><span style=\"color: #7fbfbf\">[18:41:55] </span><span style=\"color: #000080\">INFO    </span> TRAIN_LOSS: <span style=\"color: #000080; font-weight: bold\">0.5646781325340271</span>                             <a href=\"file://../trainer.py\"><span style=\"color: #7f7f7f\">trainer.py</span></a><span style=\"color: #7f7f7f\">:425</span>\n",
       "</pre>\n"
      ],
      "text/plain": [
       "<rich.jupyter.JupyterRenderable at 0x7f1424ead550>"
      ]
     },
     "metadata": {},
     "output_type": "display_data"
    },
    {
     "data": {
      "text/html": [
       "<pre style=\"white-space:pre;overflow-x:auto;line-height:normal;font-family:Menlo,'DejaVu Sans Mono',consolas,'Courier New',monospace\"><span style=\"color: #7fbfbf\">           </span><span style=\"color: #000080\">INFO    </span> TRAIN AUC: <span style=\"color: #000080; font-weight: bold\">0.78175937899287</span> TRAIN ACC: <span style=\"color: #000080; font-weight: bold\">0.7138243303147362</span>  <a href=\"file://../trainer.py\"><span style=\"color: #7f7f7f\">trainer.py</span></a><span style=\"color: #7f7f7f\">:426</span>\n",
       "</pre>\n"
      ],
      "text/plain": [
       "<rich.jupyter.JupyterRenderable at 0x7f1424e05730>"
      ]
     },
     "metadata": {},
     "output_type": "display_data"
    },
    {
     "data": {
      "text/html": [
       "<pre style=\"white-space:pre;overflow-x:auto;line-height:normal;font-family:Menlo,'DejaVu Sans Mono',consolas,'Courier New',monospace\"><span style=\"color: #7fbfbf\">           </span><span style=\"color: #000080\">INFO    </span> VALID AUC: <span style=\"color: #000080; font-weight: bold\">0.7749438241480167</span> VALID ACC:                   <a href=\"file://../trainer.py\"><span style=\"color: #7f7f7f\">trainer.py</span></a><span style=\"color: #7f7f7f\">:427</span>\n",
       "                    <span style=\"color: #000080; font-weight: bold\">0.7077001013171226</span>                                                       \n",
       "                                                                                             \n",
       "</pre>\n"
      ],
      "text/plain": [
       "<rich.jupyter.JupyterRenderable at 0x7f1424e48370>"
      ]
     },
     "metadata": {},
     "output_type": "display_data"
    },
    {
     "data": {
      "text/html": [
       "<pre style=\"white-space:pre;overflow-x:auto;line-height:normal;font-family:Menlo,'DejaVu Sans Mono',consolas,'Courier New',monospace\"><span style=\"color: #7fbfbf\">           </span><span style=\"color: #000080\">INFO    </span> EarlyStopping counter: <span style=\"color: #000080; font-weight: bold\">4</span>                                   <a href=\"file://../trainer.py\"><span style=\"color: #7f7f7f\">trainer.py</span></a><span style=\"color: #7f7f7f\">:435</span>\n",
       "</pre>\n"
      ],
      "text/plain": [
       "<rich.jupyter.JupyterRenderable at 0x7f1424ead550>"
      ]
     },
     "metadata": {},
     "output_type": "display_data"
    },
    {
     "data": {
      "text/html": [
       "<pre style=\"white-space:pre;overflow-x:auto;line-height:normal;font-family:Menlo,'DejaVu Sans Mono',consolas,'Courier New',monospace\"><span style=\"color: #7fbfbf\">           </span><span style=\"color: #000080\">INFO    </span> Start Training: Epoch <span style=\"color: #000080; font-weight: bold\">13</span>                                   <a href=\"file://../trainer.py\"><span style=\"color: #7f7f7f\">trainer.py</span></a><span style=\"color: #7f7f7f\">:409</span>\n",
       "</pre>\n"
      ],
      "text/plain": [
       "<rich.jupyter.JupyterRenderable at 0x7f1424d079a0>"
      ]
     },
     "metadata": {},
     "output_type": "display_data"
    },
    {
     "name": "stdout",
     "output_type": "stream",
     "text": [
      "Training steps: 0 Loss: 0.631051778793335\n",
      "Training steps: 50 Loss: 0.5920586585998535\n",
      "Training steps: 100 Loss: 0.5383285284042358\n",
      "Training steps: 150 Loss: 0.5719915628433228\n",
      "Training steps: 200 Loss: 0.598799467086792\n",
      "VALID AUC : 0.7747284149166913 ACC : 0.7079533941236069\n",
      "\n"
     ]
    },
    {
     "data": {
      "text/html": [
       "<pre style=\"white-space:pre;overflow-x:auto;line-height:normal;font-family:Menlo,'DejaVu Sans Mono',consolas,'Courier New',monospace\"><span style=\"color: #7fbfbf\">[18:41:58] </span><span style=\"color: #000080\">INFO    </span> TRAIN_LOSS: <span style=\"color: #000080; font-weight: bold\">0.5646448731422424</span>                             <a href=\"file://../trainer.py\"><span style=\"color: #7f7f7f\">trainer.py</span></a><span style=\"color: #7f7f7f\">:425</span>\n",
       "</pre>\n"
      ],
      "text/plain": [
       "<rich.jupyter.JupyterRenderable at 0x7f1424e05280>"
      ]
     },
     "metadata": {},
     "output_type": "display_data"
    },
    {
     "data": {
      "text/html": [
       "<pre style=\"white-space:pre;overflow-x:auto;line-height:normal;font-family:Menlo,'DejaVu Sans Mono',consolas,'Courier New',monospace\"><span style=\"color: #7fbfbf\">           </span><span style=\"color: #000080\">INFO    </span> TRAIN AUC: <span style=\"color: #000080; font-weight: bold\">0.7816804061586583</span> TRAIN ACC:                   <a href=\"file://../trainer.py\"><span style=\"color: #7f7f7f\">trainer.py</span></a><span style=\"color: #7f7f7f\">:426</span>\n",
       "                    <span style=\"color: #000080; font-weight: bold\">0.7138243303147362</span>                                                       \n",
       "</pre>\n"
      ],
      "text/plain": [
       "<rich.jupyter.JupyterRenderable at 0x7f1424eb9220>"
      ]
     },
     "metadata": {},
     "output_type": "display_data"
    },
    {
     "data": {
      "text/html": [
       "<pre style=\"white-space:pre;overflow-x:auto;line-height:normal;font-family:Menlo,'DejaVu Sans Mono',consolas,'Courier New',monospace\"><span style=\"color: #7fbfbf\">           </span><span style=\"color: #000080\">INFO    </span> VALID AUC: <span style=\"color: #000080; font-weight: bold\">0.7747284149166913</span> VALID ACC:                   <a href=\"file://../trainer.py\"><span style=\"color: #7f7f7f\">trainer.py</span></a><span style=\"color: #7f7f7f\">:427</span>\n",
       "                    <span style=\"color: #000080; font-weight: bold\">0.7079533941236069</span>                                                       \n",
       "                                                                                             \n",
       "</pre>\n"
      ],
      "text/plain": [
       "<rich.jupyter.JupyterRenderable at 0x7f1424e05610>"
      ]
     },
     "metadata": {},
     "output_type": "display_data"
    },
    {
     "data": {
      "text/html": [
       "<pre style=\"white-space:pre;overflow-x:auto;line-height:normal;font-family:Menlo,'DejaVu Sans Mono',consolas,'Courier New',monospace\"><span style=\"color: #7fbfbf\">           </span><span style=\"color: #000080\">INFO    </span> EarlyStopping counter: <span style=\"color: #000080; font-weight: bold\">5</span>                                   <a href=\"file://../trainer.py\"><span style=\"color: #7f7f7f\">trainer.py</span></a><span style=\"color: #7f7f7f\">:435</span>\n",
       "</pre>\n"
      ],
      "text/plain": [
       "<rich.jupyter.JupyterRenderable at 0x7f1424e056d0>"
      ]
     },
     "metadata": {},
     "output_type": "display_data"
    },
    {
     "data": {
      "text/html": [
       "<pre style=\"white-space:pre;overflow-x:auto;line-height:normal;font-family:Menlo,'DejaVu Sans Mono',consolas,'Courier New',monospace\"><span style=\"color: #7fbfbf\">           </span><span style=\"color: #000080\">INFO    </span> EarlyStopping counter: <span style=\"color: #000080; font-weight: bold\">5</span> out of <span style=\"color: #000080; font-weight: bold\">5</span>                          <a href=\"file://../trainer.py\"><span style=\"color: #7f7f7f\">trainer.py</span></a><span style=\"color: #7f7f7f\">:437</span>\n",
       "</pre>\n"
      ],
      "text/plain": [
       "<rich.jupyter.JupyterRenderable at 0x7f1424d070d0>"
      ]
     },
     "metadata": {},
     "output_type": "display_data"
    },
    {
     "data": {
      "text/html": [
       "Finishing last run (ID:102k90jw) before initializing another..."
      ],
      "text/plain": [
       "<IPython.core.display.HTML object>"
      ]
     },
     "metadata": {},
     "output_type": "display_data"
    },
    {
     "data": {
      "text/html": [
       "<br/>Waiting for W&B process to finish, PID 57886<br/>Program ended successfully."
      ],
      "text/plain": [
       "<IPython.core.display.HTML object>"
      ]
     },
     "metadata": {},
     "output_type": "display_data"
    },
    {
     "data": {
      "application/vnd.jupyter.widget-view+json": {
       "model_id": "3d7d6c4fc047484f8c2a2d22a26223ca",
       "version_major": 2,
       "version_minor": 0
      },
      "text/plain": [
       "VBox(children=(Label(value=' 5.77MB of 5.77MB uploaded (0.00MB deduped)\\r'), FloatProgress(value=1.0, max=1.0)…"
      ]
     },
     "metadata": {},
     "output_type": "display_data"
    },
    {
     "data": {
      "text/html": [
       "Find user logs for this run at: <code>/home/j-gunmo/desktop/00.my-project/17.P-Stage-T1003/4-STAGE/notebook/wandb/run-20210611_184111-102k90jw/logs/debug.log</code>"
      ],
      "text/plain": [
       "<IPython.core.display.HTML object>"
      ]
     },
     "metadata": {},
     "output_type": "display_data"
    },
    {
     "data": {
      "text/html": [
       "Find internal logs for this run at: <code>/home/j-gunmo/desktop/00.my-project/17.P-Stage-T1003/4-STAGE/notebook/wandb/run-20210611_184111-102k90jw/logs/debug-internal.log</code>"
      ],
      "text/plain": [
       "<IPython.core.display.HTML object>"
      ]
     },
     "metadata": {},
     "output_type": "display_data"
    },
    {
     "data": {
      "text/html": [
       "<h3>Run summary:</h3><br/><style>\n",
       "    table.wandb td:nth-child(1) { padding: 0 10px; text-align: right }\n",
       "    </style><table class=\"wandb\">\n",
       "<tr><td>epoch</td><td>12</td></tr><tr><td>train_loss</td><td>0.56464</td></tr><tr><td>train_auc</td><td>0.78168</td></tr><tr><td>train_acc</td><td>0.71382</td></tr><tr><td>valid_auc</td><td>0.77473</td></tr><tr><td>valid_acc</td><td>0.70795</td></tr><tr><td>_runtime</td><td>44</td></tr><tr><td>_timestamp</td><td>1623404518</td></tr><tr><td>_step</td><td>12</td></tr></table>"
      ],
      "text/plain": [
       "<IPython.core.display.HTML object>"
      ]
     },
     "metadata": {},
     "output_type": "display_data"
    },
    {
     "data": {
      "text/html": [
       "<h3>Run history:</h3><br/><style>\n",
       "    table.wandb td:nth-child(1) { padding: 0 10px; text-align: right }\n",
       "    </style><table class=\"wandb\">\n",
       "<tr><td>epoch</td><td>▁▂▂▃▃▄▅▅▆▆▇▇█</td></tr><tr><td>train_loss</td><td>█▂▂▁▁▁▁▁▁▁▁▁▁</td></tr><tr><td>train_auc</td><td>▁▇███████████</td></tr><tr><td>train_acc</td><td>▁▆▇▇▇█▇▇█████</td></tr><tr><td>valid_auc</td><td>▁▆▇▇█████████</td></tr><tr><td>valid_acc</td><td>▃▁▇▇▆▅▇▇██▅▆▆</td></tr><tr><td>_runtime</td><td>▁▂▂▃▃▄▅▅▆▆▇▇█</td></tr><tr><td>_timestamp</td><td>▁▂▂▃▃▄▅▅▆▆▇▇█</td></tr><tr><td>_step</td><td>▁▂▂▃▃▄▅▅▆▆▇▇█</td></tr></table><br/>"
      ],
      "text/plain": [
       "<IPython.core.display.HTML object>"
      ]
     },
     "metadata": {},
     "output_type": "display_data"
    },
    {
     "data": {
      "text/html": [
       "Synced 6 W&B file(s), 1 media file(s), 0 artifact file(s) and 2 other file(s)"
      ],
      "text/plain": [
       "<IPython.core.display.HTML object>"
      ]
     },
     "metadata": {},
     "output_type": "display_data"
    },
    {
     "data": {
      "text/html": [
       "\n",
       "                    <br/>Synced <strong style=\"color:#cdcd00\">fine-snow-501</strong>: <a href=\"https://wandb.ai/ggm1207/p-stage-4/runs/102k90jw\" target=\"_blank\">https://wandb.ai/ggm1207/p-stage-4/runs/102k90jw</a><br/>\n",
       "                "
      ],
      "text/plain": [
       "<IPython.core.display.HTML object>"
      ]
     },
     "metadata": {},
     "output_type": "display_data"
    },
    {
     "data": {
      "text/html": [
       "...Successfully finished last run (ID:102k90jw). Initializing new run:<br/><br/>"
      ],
      "text/plain": [
       "<IPython.core.display.HTML object>"
      ]
     },
     "metadata": {},
     "output_type": "display_data"
    },
    {
     "name": "stderr",
     "output_type": "stream",
     "text": [
      "\u001b[34m\u001b[1mwandb\u001b[0m: wandb version 0.10.32 is available!  To upgrade, please run:\n",
      "\u001b[34m\u001b[1mwandb\u001b[0m:  $ pip install wandb --upgrade\n"
     ]
    },
    {
     "data": {
      "text/html": [
       "\n",
       "                Tracking run with wandb version 0.10.27<br/>\n",
       "                Syncing run <strong style=\"color:#cdcd00\">solar-cloud-502</strong> to <a href=\"https://wandb.ai\" target=\"_blank\">Weights & Biases</a> <a href=\"https://docs.wandb.com/integrations/jupyter.html\" target=\"_blank\">(Documentation)</a>.<br/>\n",
       "                Project page: <a href=\"https://wandb.ai/ggm1207/p-stage-4\" target=\"_blank\">https://wandb.ai/ggm1207/p-stage-4</a><br/>\n",
       "                Run page: <a href=\"https://wandb.ai/ggm1207/p-stage-4/runs/1dc6vkbq\" target=\"_blank\">https://wandb.ai/ggm1207/p-stage-4/runs/1dc6vkbq</a><br/>\n",
       "                Run data is saved locally in <code>/home/j-gunmo/desktop/00.my-project/17.P-Stage-T1003/4-STAGE/notebook/wandb/run-20210611_184159-1dc6vkbq</code><br/><br/>\n",
       "            "
      ],
      "text/plain": [
       "<IPython.core.display.HTML object>"
      ]
     },
     "metadata": {},
     "output_type": "display_data"
    },
    {
     "data": {
      "text/html": [
       "<pre style=\"white-space:pre;overflow-x:auto;line-height:normal;font-family:Menlo,'DejaVu Sans Mono',consolas,'Courier New',monospace\"><span style=\"color: #7fbfbf\">[18:42:04] </span><span style=\"color: #000080\">INFO    </span> Start Training: Epoch <span style=\"color: #000080; font-weight: bold\">1</span>                                    <a href=\"file://../trainer.py\"><span style=\"color: #7f7f7f\">trainer.py</span></a><span style=\"color: #7f7f7f\">:409</span>\n",
       "</pre>\n"
      ],
      "text/plain": [
       "<rich.jupyter.JupyterRenderable at 0x7f1424ea02e0>"
      ]
     },
     "metadata": {},
     "output_type": "display_data"
    },
    {
     "name": "stdout",
     "output_type": "stream",
     "text": [
      "Training steps: 0 Loss: 0.6992930173873901\n",
      "Training steps: 50 Loss: 0.6928524971008301\n",
      "Training steps: 100 Loss: 0.6794002056121826\n",
      "Training steps: 150 Loss: 0.6639728546142578\n",
      "Training steps: 200 Loss: 0.5827869772911072\n",
      "VALID AUC : 0.768689276533537 ACC : 0.6963019250253293\n",
      "\n"
     ]
    },
    {
     "data": {
      "text/html": [
       "<pre style=\"white-space:pre;overflow-x:auto;line-height:normal;font-family:Menlo,'DejaVu Sans Mono',consolas,'Courier New',monospace\"><span style=\"color: #7fbfbf\">[18:42:08] </span><span style=\"color: #000080\">INFO    </span> TRAIN_LOSS: <span style=\"color: #000080; font-weight: bold\">0.6542186737060547</span>                             <a href=\"file://../trainer.py\"><span style=\"color: #7f7f7f\">trainer.py</span></a><span style=\"color: #7f7f7f\">:425</span>\n",
       "</pre>\n"
      ],
      "text/plain": [
       "<rich.jupyter.JupyterRenderable at 0x7f1424e58610>"
      ]
     },
     "metadata": {},
     "output_type": "display_data"
    },
    {
     "data": {
      "text/html": [
       "<pre style=\"white-space:pre;overflow-x:auto;line-height:normal;font-family:Menlo,'DejaVu Sans Mono',consolas,'Courier New',monospace\"><span style=\"color: #7fbfbf\">           </span><span style=\"color: #000080\">INFO    </span> TRAIN AUC: <span style=\"color: #000080; font-weight: bold\">0.7175876519161061</span> TRAIN ACC:                   <a href=\"file://../trainer.py\"><span style=\"color: #7f7f7f\">trainer.py</span></a><span style=\"color: #7f7f7f\">:426</span>\n",
       "                    <span style=\"color: #000080; font-weight: bold\">0.6201000569944906</span>                                                       \n",
       "</pre>\n"
      ],
      "text/plain": [
       "<rich.jupyter.JupyterRenderable at 0x7f14281658b0>"
      ]
     },
     "metadata": {},
     "output_type": "display_data"
    },
    {
     "data": {
      "text/html": [
       "<pre style=\"white-space:pre;overflow-x:auto;line-height:normal;font-family:Menlo,'DejaVu Sans Mono',consolas,'Courier New',monospace\"><span style=\"color: #7fbfbf\">           </span><span style=\"color: #000080\">INFO    </span> VALID AUC: <span style=\"color: #000080; font-weight: bold\">0.768689276533537</span> VALID ACC: <span style=\"color: #000080; font-weight: bold\">0.6963019250253293</span> <a href=\"file://../trainer.py\"><span style=\"color: #7f7f7f\">trainer.py</span></a><span style=\"color: #7f7f7f\">:427</span>\n",
       "                                                                                             \n",
       "</pre>\n"
      ],
      "text/plain": [
       "<rich.jupyter.JupyterRenderable at 0x7f1428165160>"
      ]
     },
     "metadata": {},
     "output_type": "display_data"
    },
    {
     "data": {
      "text/html": [
       "<pre style=\"white-space:pre;overflow-x:auto;line-height:normal;font-family:Menlo,'DejaVu Sans Mono',consolas,'Courier New',monospace\"><span style=\"color: #7fbfbf\">           </span><span style=\"color: #000080\">INFO    </span> Start Training: Epoch <span style=\"color: #000080; font-weight: bold\">2</span>                                    <a href=\"file://../trainer.py\"><span style=\"color: #7f7f7f\">trainer.py</span></a><span style=\"color: #7f7f7f\">:409</span>\n",
       "</pre>\n"
      ],
      "text/plain": [
       "<rich.jupyter.JupyterRenderable at 0x7f1428165250>"
      ]
     },
     "metadata": {},
     "output_type": "display_data"
    },
    {
     "name": "stdout",
     "output_type": "stream",
     "text": [
      "Training steps: 0 Loss: 0.630569338798523\n",
      "Training steps: 50 Loss: 0.5898756980895996\n",
      "Training steps: 100 Loss: 0.5844754576683044\n",
      "Training steps: 150 Loss: 0.5791062116622925\n",
      "Training steps: 200 Loss: 0.5855634212493896\n",
      "VALID AUC : 0.7711094890810686 ACC : 0.7011144883485309\n",
      "\n"
     ]
    },
    {
     "data": {
      "text/html": [
       "<pre style=\"white-space:pre;overflow-x:auto;line-height:normal;font-family:Menlo,'DejaVu Sans Mono',consolas,'Courier New',monospace\"><span style=\"color: #7fbfbf\">[18:42:11] </span><span style=\"color: #000080\">INFO    </span> TRAIN_LOSS: <span style=\"color: #000080; font-weight: bold\">0.5847206711769104</span>                             <a href=\"file://../trainer.py\"><span style=\"color: #7f7f7f\">trainer.py</span></a><span style=\"color: #7f7f7f\">:425</span>\n",
       "</pre>\n"
      ],
      "text/plain": [
       "<rich.jupyter.JupyterRenderable at 0x7f1424eadbb0>"
      ]
     },
     "metadata": {},
     "output_type": "display_data"
    },
    {
     "data": {
      "text/html": [
       "<pre style=\"white-space:pre;overflow-x:auto;line-height:normal;font-family:Menlo,'DejaVu Sans Mono',consolas,'Courier New',monospace\"><span style=\"color: #7fbfbf\">           </span><span style=\"color: #000080\">INFO    </span> TRAIN AUC: <span style=\"color: #000080; font-weight: bold\">0.7692511722950792</span> TRAIN ACC:                   <a href=\"file://../trainer.py\"><span style=\"color: #7f7f7f\">trainer.py</span></a><span style=\"color: #7f7f7f\">:426</span>\n",
       "                    <span style=\"color: #000080; font-weight: bold\">0.7005256158571338</span>                                                       \n",
       "</pre>\n"
      ],
      "text/plain": [
       "<rich.jupyter.JupyterRenderable at 0x7f14281b76a0>"
      ]
     },
     "metadata": {},
     "output_type": "display_data"
    },
    {
     "data": {
      "text/html": [
       "<pre style=\"white-space:pre;overflow-x:auto;line-height:normal;font-family:Menlo,'DejaVu Sans Mono',consolas,'Courier New',monospace\"><span style=\"color: #7fbfbf\">           </span><span style=\"color: #000080\">INFO    </span> VALID AUC: <span style=\"color: #000080; font-weight: bold\">0.7711094890810686</span> VALID ACC:                   <a href=\"file://../trainer.py\"><span style=\"color: #7f7f7f\">trainer.py</span></a><span style=\"color: #7f7f7f\">:427</span>\n",
       "                    <span style=\"color: #000080; font-weight: bold\">0.7011144883485309</span>                                                       \n",
       "                                                                                             \n",
       "</pre>\n"
      ],
      "text/plain": [
       "<rich.jupyter.JupyterRenderable at 0x7f14281b74c0>"
      ]
     },
     "metadata": {},
     "output_type": "display_data"
    },
    {
     "data": {
      "text/html": [
       "<pre style=\"white-space:pre;overflow-x:auto;line-height:normal;font-family:Menlo,'DejaVu Sans Mono',consolas,'Courier New',monospace\"><span style=\"color: #7fbfbf\">           </span><span style=\"color: #000080\">INFO    </span> Start Training: Epoch <span style=\"color: #000080; font-weight: bold\">3</span>                                    <a href=\"file://../trainer.py\"><span style=\"color: #7f7f7f\">trainer.py</span></a><span style=\"color: #7f7f7f\">:409</span>\n",
       "</pre>\n"
      ],
      "text/plain": [
       "<rich.jupyter.JupyterRenderable at 0x7f1424e08af0>"
      ]
     },
     "metadata": {},
     "output_type": "display_data"
    },
    {
     "name": "stdout",
     "output_type": "stream",
     "text": [
      "Training steps: 0 Loss: 0.5226792693138123\n",
      "Training steps: 50 Loss: 0.60425865650177\n",
      "Training steps: 100 Loss: 0.5936834812164307\n",
      "Training steps: 150 Loss: 0.5851699113845825\n",
      "Training steps: 200 Loss: 0.5042080879211426\n",
      "VALID AUC : 0.7727050841402419 ACC : 0.7001013171225937\n",
      "\n"
     ]
    },
    {
     "data": {
      "text/html": [
       "<pre style=\"white-space:pre;overflow-x:auto;line-height:normal;font-family:Menlo,'DejaVu Sans Mono',consolas,'Courier New',monospace\"><span style=\"color: #7fbfbf\">[18:42:14] </span><span style=\"color: #000080\">INFO    </span> TRAIN_LOSS: <span style=\"color: #000080; font-weight: bold\">0.5767476558685303</span>                             <a href=\"file://../trainer.py\"><span style=\"color: #7f7f7f\">trainer.py</span></a><span style=\"color: #7f7f7f\">:425</span>\n",
       "</pre>\n"
      ],
      "text/plain": [
       "<rich.jupyter.JupyterRenderable at 0x7f1424eb0bb0>"
      ]
     },
     "metadata": {},
     "output_type": "display_data"
    },
    {
     "data": {
      "text/html": [
       "<pre style=\"white-space:pre;overflow-x:auto;line-height:normal;font-family:Menlo,'DejaVu Sans Mono',consolas,'Courier New',monospace\"><span style=\"color: #7fbfbf\">           </span><span style=\"color: #000080\">INFO    </span> TRAIN AUC: <span style=\"color: #000080; font-weight: bold\">0.7741634413406315</span> TRAIN ACC:                   <a href=\"file://../trainer.py\"><span style=\"color: #7f7f7f\">trainer.py</span></a><span style=\"color: #7f7f7f\">:426</span>\n",
       "                    <span style=\"color: #000080; font-weight: bold\">0.7046418846178203</span>                                                       \n",
       "</pre>\n"
      ],
      "text/plain": [
       "<rich.jupyter.JupyterRenderable at 0x7f1424e71f10>"
      ]
     },
     "metadata": {},
     "output_type": "display_data"
    },
    {
     "data": {
      "text/html": [
       "<pre style=\"white-space:pre;overflow-x:auto;line-height:normal;font-family:Menlo,'DejaVu Sans Mono',consolas,'Courier New',monospace\"><span style=\"color: #7fbfbf\">           </span><span style=\"color: #000080\">INFO    </span> VALID AUC: <span style=\"color: #000080; font-weight: bold\">0.7727050841402419</span> VALID ACC:                   <a href=\"file://../trainer.py\"><span style=\"color: #7f7f7f\">trainer.py</span></a><span style=\"color: #7f7f7f\">:427</span>\n",
       "                    <span style=\"color: #000080; font-weight: bold\">0.7001013171225937</span>                                                       \n",
       "                                                                                             \n",
       "</pre>\n"
      ],
      "text/plain": [
       "<rich.jupyter.JupyterRenderable at 0x7f1424e56520>"
      ]
     },
     "metadata": {},
     "output_type": "display_data"
    },
    {
     "data": {
      "text/html": [
       "<pre style=\"white-space:pre;overflow-x:auto;line-height:normal;font-family:Menlo,'DejaVu Sans Mono',consolas,'Courier New',monospace\"><span style=\"color: #7fbfbf\">           </span><span style=\"color: #000080\">INFO    </span> Start Training: Epoch <span style=\"color: #000080; font-weight: bold\">4</span>                                    <a href=\"file://../trainer.py\"><span style=\"color: #7f7f7f\">trainer.py</span></a><span style=\"color: #7f7f7f\">:409</span>\n",
       "</pre>\n"
      ],
      "text/plain": [
       "<rich.jupyter.JupyterRenderable at 0x7f14281653a0>"
      ]
     },
     "metadata": {},
     "output_type": "display_data"
    },
    {
     "name": "stdout",
     "output_type": "stream",
     "text": [
      "Training steps: 0 Loss: 0.5912057161331177\n",
      "Training steps: 50 Loss: 0.643416166305542\n",
      "Training steps: 100 Loss: 0.539395809173584\n",
      "Training steps: 150 Loss: 0.56778883934021\n",
      "Training steps: 200 Loss: 0.560995876789093\n",
      "VALID AUC : 0.7737015290199654 ACC : 0.7008611955420466\n",
      "\n"
     ]
    },
    {
     "data": {
      "text/html": [
       "<pre style=\"white-space:pre;overflow-x:auto;line-height:normal;font-family:Menlo,'DejaVu Sans Mono',consolas,'Courier New',monospace\"><span style=\"color: #7fbfbf\">[18:42:17] </span><span style=\"color: #000080\">INFO    </span> TRAIN_LOSS: <span style=\"color: #000080; font-weight: bold\">0.5730391144752502</span>                             <a href=\"file://../trainer.py\"><span style=\"color: #7f7f7f\">trainer.py</span></a><span style=\"color: #7f7f7f\">:425</span>\n",
       "</pre>\n"
      ],
      "text/plain": [
       "<rich.jupyter.JupyterRenderable at 0x7f1424e71fd0>"
      ]
     },
     "metadata": {},
     "output_type": "display_data"
    },
    {
     "data": {
      "text/html": [
       "<pre style=\"white-space:pre;overflow-x:auto;line-height:normal;font-family:Menlo,'DejaVu Sans Mono',consolas,'Courier New',monospace\"><span style=\"color: #7fbfbf\">           </span><span style=\"color: #000080\">INFO    </span> TRAIN AUC: <span style=\"color: #000080; font-weight: bold\">0.7765239515062461</span> TRAIN ACC:                   <a href=\"file://../trainer.py\"><span style=\"color: #7f7f7f\">trainer.py</span></a><span style=\"color: #7f7f7f\">:426</span>\n",
       "                    <span style=\"color: #000080; font-weight: bold\">0.7059084288518777</span>                                                       \n",
       "</pre>\n"
      ],
      "text/plain": [
       "<rich.jupyter.JupyterRenderable at 0x7f14281b7220>"
      ]
     },
     "metadata": {},
     "output_type": "display_data"
    },
    {
     "data": {
      "text/html": [
       "<pre style=\"white-space:pre;overflow-x:auto;line-height:normal;font-family:Menlo,'DejaVu Sans Mono',consolas,'Courier New',monospace\"><span style=\"color: #7fbfbf\">           </span><span style=\"color: #000080\">INFO    </span> VALID AUC: <span style=\"color: #000080; font-weight: bold\">0.7737015290199654</span> VALID ACC:                   <a href=\"file://../trainer.py\"><span style=\"color: #7f7f7f\">trainer.py</span></a><span style=\"color: #7f7f7f\">:427</span>\n",
       "                    <span style=\"color: #000080; font-weight: bold\">0.7008611955420466</span>                                                       \n",
       "                                                                                             \n",
       "</pre>\n"
      ],
      "text/plain": [
       "<rich.jupyter.JupyterRenderable at 0x7f14281b74c0>"
      ]
     },
     "metadata": {},
     "output_type": "display_data"
    },
    {
     "data": {
      "text/html": [
       "<pre style=\"white-space:pre;overflow-x:auto;line-height:normal;font-family:Menlo,'DejaVu Sans Mono',consolas,'Courier New',monospace\"><span style=\"color: #7fbfbf\">           </span><span style=\"color: #000080\">INFO    </span> Start Training: Epoch <span style=\"color: #000080; font-weight: bold\">5</span>                                    <a href=\"file://../trainer.py\"><span style=\"color: #7f7f7f\">trainer.py</span></a><span style=\"color: #7f7f7f\">:409</span>\n",
       "</pre>\n"
      ],
      "text/plain": [
       "<rich.jupyter.JupyterRenderable at 0x7f1424e08d90>"
      ]
     },
     "metadata": {},
     "output_type": "display_data"
    },
    {
     "name": "stdout",
     "output_type": "stream",
     "text": [
      "Training steps: 0 Loss: 0.5697289705276489\n",
      "Training steps: 50 Loss: 0.6468511819839478\n",
      "Training steps: 100 Loss: 0.5798032283782959\n",
      "Training steps: 150 Loss: 0.5673441886901855\n",
      "Training steps: 200 Loss: 0.5636029243469238\n",
      "VALID AUC : 0.7745557896206503 ACC : 0.7021276595744681\n",
      "\n"
     ]
    },
    {
     "data": {
      "text/html": [
       "<pre style=\"white-space:pre;overflow-x:auto;line-height:normal;font-family:Menlo,'DejaVu Sans Mono',consolas,'Courier New',monospace\"><span style=\"color: #7fbfbf\">[18:42:21] </span><span style=\"color: #000080\">INFO    </span> TRAIN_LOSS: <span style=\"color: #000080; font-weight: bold\">0.5706568360328674</span>                             <a href=\"file://../trainer.py\"><span style=\"color: #7f7f7f\">trainer.py</span></a><span style=\"color: #7f7f7f\">:425</span>\n",
       "</pre>\n"
      ],
      "text/plain": [
       "<rich.jupyter.JupyterRenderable at 0x7f1424e58610>"
      ]
     },
     "metadata": {},
     "output_type": "display_data"
    },
    {
     "data": {
      "text/html": [
       "<pre style=\"white-space:pre;overflow-x:auto;line-height:normal;font-family:Menlo,'DejaVu Sans Mono',consolas,'Courier New',monospace\"><span style=\"color: #7fbfbf\">           </span><span style=\"color: #000080\">INFO    </span> TRAIN AUC: <span style=\"color: #000080; font-weight: bold\">0.7781941399930318</span> TRAIN ACC: <span style=\"color: #000080; font-weight: bold\">0.706731682604015</span> <a href=\"file://../trainer.py\"><span style=\"color: #7f7f7f\">trainer.py</span></a><span style=\"color: #7f7f7f\">:426</span>\n",
       "</pre>\n"
      ],
      "text/plain": [
       "<rich.jupyter.JupyterRenderable at 0x7f1424e71b20>"
      ]
     },
     "metadata": {},
     "output_type": "display_data"
    },
    {
     "data": {
      "text/html": [
       "<pre style=\"white-space:pre;overflow-x:auto;line-height:normal;font-family:Menlo,'DejaVu Sans Mono',consolas,'Courier New',monospace\"><span style=\"color: #7fbfbf\">           </span><span style=\"color: #000080\">INFO    </span> VALID AUC: <span style=\"color: #000080; font-weight: bold\">0.7745557896206503</span> VALID ACC:                   <a href=\"file://../trainer.py\"><span style=\"color: #7f7f7f\">trainer.py</span></a><span style=\"color: #7f7f7f\">:427</span>\n",
       "                    <span style=\"color: #000080; font-weight: bold\">0.7021276595744681</span>                                                       \n",
       "                                                                                             \n",
       "</pre>\n"
      ],
      "text/plain": [
       "<rich.jupyter.JupyterRenderable at 0x7f14281b76a0>"
      ]
     },
     "metadata": {},
     "output_type": "display_data"
    },
    {
     "data": {
      "text/html": [
       "<pre style=\"white-space:pre;overflow-x:auto;line-height:normal;font-family:Menlo,'DejaVu Sans Mono',consolas,'Courier New',monospace\"><span style=\"color: #7fbfbf\">           </span><span style=\"color: #000080\">INFO    </span> Start Training: Epoch <span style=\"color: #000080; font-weight: bold\">6</span>                                    <a href=\"file://../trainer.py\"><span style=\"color: #7f7f7f\">trainer.py</span></a><span style=\"color: #7f7f7f\">:409</span>\n",
       "</pre>\n"
      ],
      "text/plain": [
       "<rich.jupyter.JupyterRenderable at 0x7f1424e71fd0>"
      ]
     },
     "metadata": {},
     "output_type": "display_data"
    },
    {
     "name": "stdout",
     "output_type": "stream",
     "text": [
      "Training steps: 0 Loss: 0.5490702390670776\n",
      "Training steps: 50 Loss: 0.5363490581512451\n",
      "Training steps: 100 Loss: 0.6179380416870117\n",
      "Training steps: 150 Loss: 0.6036038994789124\n",
      "Training steps: 200 Loss: 0.6198813915252686\n",
      "VALID AUC : 0.7751933090234147 ACC : 0.7036474164133738\n",
      "\n"
     ]
    },
    {
     "data": {
      "text/html": [
       "<pre style=\"white-space:pre;overflow-x:auto;line-height:normal;font-family:Menlo,'DejaVu Sans Mono',consolas,'Courier New',monospace\"><span style=\"color: #7fbfbf\">[18:42:24] </span><span style=\"color: #000080\">INFO    </span> TRAIN_LOSS: <span style=\"color: #000080; font-weight: bold\">0.5690484642982483</span>                             <a href=\"file://../trainer.py\"><span style=\"color: #7f7f7f\">trainer.py</span></a><span style=\"color: #7f7f7f\">:425</span>\n",
       "</pre>\n"
      ],
      "text/plain": [
       "<rich.jupyter.JupyterRenderable at 0x7f1424e71370>"
      ]
     },
     "metadata": {},
     "output_type": "display_data"
    },
    {
     "data": {
      "text/html": [
       "<pre style=\"white-space:pre;overflow-x:auto;line-height:normal;font-family:Menlo,'DejaVu Sans Mono',consolas,'Courier New',monospace\"><span style=\"color: #7fbfbf\">           </span><span style=\"color: #000080\">INFO    </span> TRAIN AUC: <span style=\"color: #000080; font-weight: bold\">0.779208615163197</span> TRAIN ACC: <span style=\"color: #000080; font-weight: bold\">0.7072383002976379</span> <a href=\"file://../trainer.py\"><span style=\"color: #7f7f7f\">trainer.py</span></a><span style=\"color: #7f7f7f\">:426</span>\n",
       "</pre>\n"
      ],
      "text/plain": [
       "<rich.jupyter.JupyterRenderable at 0x7f14281b7f10>"
      ]
     },
     "metadata": {},
     "output_type": "display_data"
    },
    {
     "data": {
      "text/html": [
       "<pre style=\"white-space:pre;overflow-x:auto;line-height:normal;font-family:Menlo,'DejaVu Sans Mono',consolas,'Courier New',monospace\"><span style=\"color: #7fbfbf\">           </span><span style=\"color: #000080\">INFO    </span> VALID AUC: <span style=\"color: #000080; font-weight: bold\">0.7751933090234147</span> VALID ACC:                   <a href=\"file://../trainer.py\"><span style=\"color: #7f7f7f\">trainer.py</span></a><span style=\"color: #7f7f7f\">:427</span>\n",
       "                    <span style=\"color: #000080; font-weight: bold\">0.7036474164133738</span>                                                       \n",
       "                                                                                             \n",
       "</pre>\n"
      ],
      "text/plain": [
       "<rich.jupyter.JupyterRenderable at 0x7f1424ea5a30>"
      ]
     },
     "metadata": {},
     "output_type": "display_data"
    },
    {
     "data": {
      "text/html": [
       "<pre style=\"white-space:pre;overflow-x:auto;line-height:normal;font-family:Menlo,'DejaVu Sans Mono',consolas,'Courier New',monospace\"><span style=\"color: #7fbfbf\">           </span><span style=\"color: #000080\">INFO    </span> Start Training: Epoch <span style=\"color: #000080; font-weight: bold\">7</span>                                    <a href=\"file://../trainer.py\"><span style=\"color: #7f7f7f\">trainer.py</span></a><span style=\"color: #7f7f7f\">:409</span>\n",
       "</pre>\n"
      ],
      "text/plain": [
       "<rich.jupyter.JupyterRenderable at 0x7f1428165940>"
      ]
     },
     "metadata": {},
     "output_type": "display_data"
    },
    {
     "name": "stdout",
     "output_type": "stream",
     "text": [
      "Training steps: 0 Loss: 0.5330266356468201\n",
      "Training steps: 50 Loss: 0.5575742125511169\n",
      "Training steps: 100 Loss: 0.5697990655899048\n",
      "Training steps: 150 Loss: 0.4619908034801483\n",
      "Training steps: 200 Loss: 0.5202050805091858\n",
      "VALID AUC : 0.7754997495092846 ACC : 0.7041540020263425\n",
      "\n"
     ]
    },
    {
     "data": {
      "text/html": [
       "<pre style=\"white-space:pre;overflow-x:auto;line-height:normal;font-family:Menlo,'DejaVu Sans Mono',consolas,'Courier New',monospace\"><span style=\"color: #7fbfbf\">[18:42:27] </span><span style=\"color: #000080\">INFO    </span> TRAIN_LOSS: <span style=\"color: #000080; font-weight: bold\">0.5675693154335022</span>                             <a href=\"file://../trainer.py\"><span style=\"color: #7f7f7f\">trainer.py</span></a><span style=\"color: #7f7f7f\">:425</span>\n",
       "</pre>\n"
      ],
      "text/plain": [
       "<rich.jupyter.JupyterRenderable at 0x7f1424e08b20>"
      ]
     },
     "metadata": {},
     "output_type": "display_data"
    },
    {
     "data": {
      "text/html": [
       "<pre style=\"white-space:pre;overflow-x:auto;line-height:normal;font-family:Menlo,'DejaVu Sans Mono',consolas,'Courier New',monospace\"><span style=\"color: #7fbfbf\">           </span><span style=\"color: #000080\">INFO    </span> TRAIN AUC: <span style=\"color: #000080; font-weight: bold\">0.7802633477303479</span> TRAIN ACC:                   <a href=\"file://../trainer.py\"><span style=\"color: #7f7f7f\">trainer.py</span></a><span style=\"color: #7f7f7f\">:426</span>\n",
       "                    <span style=\"color: #000080; font-weight: bold\">0.7088214805902097</span>                                                       \n",
       "</pre>\n"
      ],
      "text/plain": [
       "<rich.jupyter.JupyterRenderable at 0x7f1424e71190>"
      ]
     },
     "metadata": {},
     "output_type": "display_data"
    },
    {
     "data": {
      "text/html": [
       "<pre style=\"white-space:pre;overflow-x:auto;line-height:normal;font-family:Menlo,'DejaVu Sans Mono',consolas,'Courier New',monospace\"><span style=\"color: #7fbfbf\">           </span><span style=\"color: #000080\">INFO    </span> VALID AUC: <span style=\"color: #000080; font-weight: bold\">0.7754997495092846</span> VALID ACC:                   <a href=\"file://../trainer.py\"><span style=\"color: #7f7f7f\">trainer.py</span></a><span style=\"color: #7f7f7f\">:427</span>\n",
       "                    <span style=\"color: #000080; font-weight: bold\">0.7041540020263425</span>                                                       \n",
       "                                                                                             \n",
       "</pre>\n"
      ],
      "text/plain": [
       "<rich.jupyter.JupyterRenderable at 0x7f14281b7f10>"
      ]
     },
     "metadata": {},
     "output_type": "display_data"
    },
    {
     "data": {
      "text/html": [
       "<pre style=\"white-space:pre;overflow-x:auto;line-height:normal;font-family:Menlo,'DejaVu Sans Mono',consolas,'Courier New',monospace\"><span style=\"color: #7fbfbf\">           </span><span style=\"color: #000080\">INFO    </span> Start Training: Epoch <span style=\"color: #000080; font-weight: bold\">8</span>                                    <a href=\"file://../trainer.py\"><span style=\"color: #7f7f7f\">trainer.py</span></a><span style=\"color: #7f7f7f\">:409</span>\n",
       "</pre>\n"
      ],
      "text/plain": [
       "<rich.jupyter.JupyterRenderable at 0x7f1424e48b80>"
      ]
     },
     "metadata": {},
     "output_type": "display_data"
    },
    {
     "name": "stdout",
     "output_type": "stream",
     "text": [
      "Training steps: 0 Loss: 0.4808439314365387\n",
      "Training steps: 50 Loss: 0.5269299745559692\n",
      "Training steps: 100 Loss: 0.470925509929657\n",
      "Training steps: 150 Loss: 0.6030152440071106\n",
      "Training steps: 200 Loss: 0.594698429107666\n",
      "VALID AUC : 0.7762353093355014 ACC : 0.7049138804457954\n",
      "\n"
     ]
    },
    {
     "data": {
      "text/html": [
       "<pre style=\"white-space:pre;overflow-x:auto;line-height:normal;font-family:Menlo,'DejaVu Sans Mono',consolas,'Courier New',monospace\"><span style=\"color: #7fbfbf\">[18:42:30] </span><span style=\"color: #000080\">INFO    </span> TRAIN_LOSS: <span style=\"color: #000080; font-weight: bold\">0.5668678283691406</span>                             <a href=\"file://../trainer.py\"><span style=\"color: #7f7f7f\">trainer.py</span></a><span style=\"color: #7f7f7f\">:425</span>\n",
       "</pre>\n"
      ],
      "text/plain": [
       "<rich.jupyter.JupyterRenderable at 0x7f1424ea5760>"
      ]
     },
     "metadata": {},
     "output_type": "display_data"
    },
    {
     "data": {
      "text/html": [
       "<pre style=\"white-space:pre;overflow-x:auto;line-height:normal;font-family:Menlo,'DejaVu Sans Mono',consolas,'Courier New',monospace\"><span style=\"color: #7fbfbf\">           </span><span style=\"color: #000080\">INFO    </span> TRAIN AUC: <span style=\"color: #000080; font-weight: bold\">0.7802395800584578</span> TRAIN ACC:                   <a href=\"file://../trainer.py\"><span style=\"color: #7f7f7f\">trainer.py</span></a><span style=\"color: #7f7f7f\">:426</span>\n",
       "                    <span style=\"color: #000080; font-weight: bold\">0.7107212969412957</span>                                                       \n",
       "</pre>\n"
      ],
      "text/plain": [
       "<rich.jupyter.JupyterRenderable at 0x7f1424e48b80>"
      ]
     },
     "metadata": {},
     "output_type": "display_data"
    },
    {
     "data": {
      "text/html": [
       "<pre style=\"white-space:pre;overflow-x:auto;line-height:normal;font-family:Menlo,'DejaVu Sans Mono',consolas,'Courier New',monospace\"><span style=\"color: #7fbfbf\">           </span><span style=\"color: #000080\">INFO    </span> VALID AUC: <span style=\"color: #000080; font-weight: bold\">0.7762353093355014</span> VALID ACC:                   <a href=\"file://../trainer.py\"><span style=\"color: #7f7f7f\">trainer.py</span></a><span style=\"color: #7f7f7f\">:427</span>\n",
       "                    <span style=\"color: #000080; font-weight: bold\">0.7049138804457954</span>                                                       \n",
       "                                                                                             \n",
       "</pre>\n"
      ],
      "text/plain": [
       "<rich.jupyter.JupyterRenderable at 0x7f1424e08be0>"
      ]
     },
     "metadata": {},
     "output_type": "display_data"
    },
    {
     "data": {
      "text/html": [
       "<pre style=\"white-space:pre;overflow-x:auto;line-height:normal;font-family:Menlo,'DejaVu Sans Mono',consolas,'Courier New',monospace\"><span style=\"color: #7fbfbf\">           </span><span style=\"color: #000080\">INFO    </span> Start Training: Epoch <span style=\"color: #000080; font-weight: bold\">9</span>                                    <a href=\"file://../trainer.py\"><span style=\"color: #7f7f7f\">trainer.py</span></a><span style=\"color: #7f7f7f\">:409</span>\n",
       "</pre>\n"
      ],
      "text/plain": [
       "<rich.jupyter.JupyterRenderable at 0x7f1424e71fd0>"
      ]
     },
     "metadata": {},
     "output_type": "display_data"
    },
    {
     "name": "stdout",
     "output_type": "stream",
     "text": [
      "Training steps: 0 Loss: 0.5579037666320801\n",
      "Training steps: 50 Loss: 0.5213374495506287\n",
      "Training steps: 100 Loss: 0.6054607629776001\n",
      "Training steps: 150 Loss: 0.571386456489563\n",
      "Training steps: 200 Loss: 0.5140939354896545\n",
      "VALID AUC : 0.7759799422639433 ACC : 0.7066869300911854\n",
      "\n"
     ]
    },
    {
     "data": {
      "text/html": [
       "<pre style=\"white-space:pre;overflow-x:auto;line-height:normal;font-family:Menlo,'DejaVu Sans Mono',consolas,'Courier New',monospace\"><span style=\"color: #7fbfbf\">[18:42:33] </span><span style=\"color: #000080\">INFO    </span> TRAIN_LOSS: <span style=\"color: #000080; font-weight: bold\">0.5661783814430237</span>                             <a href=\"file://../trainer.py\"><span style=\"color: #7f7f7f\">trainer.py</span></a><span style=\"color: #7f7f7f\">:425</span>\n",
       "</pre>\n"
      ],
      "text/plain": [
       "<rich.jupyter.JupyterRenderable at 0x7f1424e482e0>"
      ]
     },
     "metadata": {},
     "output_type": "display_data"
    },
    {
     "data": {
      "text/html": [
       "<pre style=\"white-space:pre;overflow-x:auto;line-height:normal;font-family:Menlo,'DejaVu Sans Mono',consolas,'Courier New',monospace\"><span style=\"color: #7fbfbf\">           </span><span style=\"color: #000080\">INFO    </span> TRAIN AUC: <span style=\"color: #000080; font-weight: bold\">0.7815701283534524</span> TRAIN ACC:                   <a href=\"file://../trainer.py\"><span style=\"color: #7f7f7f\">trainer.py</span></a><span style=\"color: #7f7f7f\">:426</span>\n",
       "                    <span style=\"color: #000080; font-weight: bold\">0.7100246976125641</span>                                                       \n",
       "</pre>\n"
      ],
      "text/plain": [
       "<rich.jupyter.JupyterRenderable at 0x7f14281d05b0>"
      ]
     },
     "metadata": {},
     "output_type": "display_data"
    },
    {
     "data": {
      "text/html": [
       "<pre style=\"white-space:pre;overflow-x:auto;line-height:normal;font-family:Menlo,'DejaVu Sans Mono',consolas,'Courier New',monospace\"><span style=\"color: #7fbfbf\">           </span><span style=\"color: #000080\">INFO    </span> VALID AUC: <span style=\"color: #000080; font-weight: bold\">0.7759799422639433</span> VALID ACC:                   <a href=\"file://../trainer.py\"><span style=\"color: #7f7f7f\">trainer.py</span></a><span style=\"color: #7f7f7f\">:427</span>\n",
       "                    <span style=\"color: #000080; font-weight: bold\">0.7066869300911854</span>                                                       \n",
       "                                                                                             \n",
       "</pre>\n"
      ],
      "text/plain": [
       "<rich.jupyter.JupyterRenderable at 0x7f1428179b50>"
      ]
     },
     "metadata": {},
     "output_type": "display_data"
    },
    {
     "data": {
      "text/html": [
       "<pre style=\"white-space:pre;overflow-x:auto;line-height:normal;font-family:Menlo,'DejaVu Sans Mono',consolas,'Courier New',monospace\"><span style=\"color: #7fbfbf\">           </span><span style=\"color: #000080\">INFO    </span> EarlyStopping counter: <span style=\"color: #000080; font-weight: bold\">1</span>                                   <a href=\"file://../trainer.py\"><span style=\"color: #7f7f7f\">trainer.py</span></a><span style=\"color: #7f7f7f\">:435</span>\n",
       "</pre>\n"
      ],
      "text/plain": [
       "<rich.jupyter.JupyterRenderable at 0x7f1428179850>"
      ]
     },
     "metadata": {},
     "output_type": "display_data"
    },
    {
     "data": {
      "text/html": [
       "<pre style=\"white-space:pre;overflow-x:auto;line-height:normal;font-family:Menlo,'DejaVu Sans Mono',consolas,'Courier New',monospace\"><span style=\"color: #7fbfbf\">           </span><span style=\"color: #000080\">INFO    </span> Start Training: Epoch <span style=\"color: #000080; font-weight: bold\">10</span>                                   <a href=\"file://../trainer.py\"><span style=\"color: #7f7f7f\">trainer.py</span></a><span style=\"color: #7f7f7f\">:409</span>\n",
       "</pre>\n"
      ],
      "text/plain": [
       "<rich.jupyter.JupyterRenderable at 0x7f1428179520>"
      ]
     },
     "metadata": {},
     "output_type": "display_data"
    },
    {
     "name": "stdout",
     "output_type": "stream",
     "text": [
      "Training steps: 0 Loss: 0.5114179849624634\n",
      "Training steps: 50 Loss: 0.5561589002609253\n",
      "Training steps: 100 Loss: 0.5101161003112793\n",
      "Training steps: 150 Loss: 0.5698599815368652\n",
      "Training steps: 200 Loss: 0.5692266821861267\n",
      "VALID AUC : 0.7766813675971781 ACC : 0.7079533941236069\n",
      "\n"
     ]
    },
    {
     "data": {
      "text/html": [
       "<pre style=\"white-space:pre;overflow-x:auto;line-height:normal;font-family:Menlo,'DejaVu Sans Mono',consolas,'Courier New',monospace\"><span style=\"color: #7fbfbf\">[18:42:37] </span><span style=\"color: #000080\">INFO    </span> TRAIN_LOSS: <span style=\"color: #000080; font-weight: bold\">0.5659043192863464</span>                             <a href=\"file://../trainer.py\"><span style=\"color: #7f7f7f\">trainer.py</span></a><span style=\"color: #7f7f7f\">:425</span>\n",
       "</pre>\n"
      ],
      "text/plain": [
       "<rich.jupyter.JupyterRenderable at 0x7f1424e71520>"
      ]
     },
     "metadata": {},
     "output_type": "display_data"
    },
    {
     "data": {
      "text/html": [
       "<pre style=\"white-space:pre;overflow-x:auto;line-height:normal;font-family:Menlo,'DejaVu Sans Mono',consolas,'Courier New',monospace\"><span style=\"color: #7fbfbf\">           </span><span style=\"color: #000080\">INFO    </span> TRAIN AUC: <span style=\"color: #000080; font-weight: bold\">0.7811456403012411</span> TRAIN ACC:                   <a href=\"file://../trainer.py\"><span style=\"color: #7f7f7f\">trainer.py</span></a><span style=\"color: #7f7f7f\">:426</span>\n",
       "                    <span style=\"color: #000080; font-weight: bold\">0.7098347159774555</span>                                                       \n",
       "</pre>\n"
      ],
      "text/plain": [
       "<rich.jupyter.JupyterRenderable at 0x7f14281b74c0>"
      ]
     },
     "metadata": {},
     "output_type": "display_data"
    },
    {
     "data": {
      "text/html": [
       "<pre style=\"white-space:pre;overflow-x:auto;line-height:normal;font-family:Menlo,'DejaVu Sans Mono',consolas,'Courier New',monospace\"><span style=\"color: #7fbfbf\">           </span><span style=\"color: #000080\">INFO    </span> VALID AUC: <span style=\"color: #000080; font-weight: bold\">0.7766813675971781</span> VALID ACC:                   <a href=\"file://../trainer.py\"><span style=\"color: #7f7f7f\">trainer.py</span></a><span style=\"color: #7f7f7f\">:427</span>\n",
       "                    <span style=\"color: #000080; font-weight: bold\">0.7079533941236069</span>                                                       \n",
       "                                                                                             \n",
       "</pre>\n"
      ],
      "text/plain": [
       "<rich.jupyter.JupyterRenderable at 0x7f1424ead550>"
      ]
     },
     "metadata": {},
     "output_type": "display_data"
    },
    {
     "data": {
      "text/html": [
       "<pre style=\"white-space:pre;overflow-x:auto;line-height:normal;font-family:Menlo,'DejaVu Sans Mono',consolas,'Courier New',monospace\"><span style=\"color: #7fbfbf\">           </span><span style=\"color: #000080\">INFO    </span> Start Training: Epoch <span style=\"color: #000080; font-weight: bold\">11</span>                                   <a href=\"file://../trainer.py\"><span style=\"color: #7f7f7f\">trainer.py</span></a><span style=\"color: #7f7f7f\">:409</span>\n",
       "</pre>\n"
      ],
      "text/plain": [
       "<rich.jupyter.JupyterRenderable at 0x7f1424e58880>"
      ]
     },
     "metadata": {},
     "output_type": "display_data"
    },
    {
     "name": "stdout",
     "output_type": "stream",
     "text": [
      "Training steps: 0 Loss: 0.5500303506851196\n",
      "Training steps: 50 Loss: 0.5155755281448364\n",
      "Training steps: 100 Loss: 0.5876955986022949\n",
      "Training steps: 150 Loss: 0.5181998610496521\n",
      "Training steps: 200 Loss: 0.5751667022705078\n",
      "VALID AUC : 0.776451408907614 ACC : 0.7077001013171226\n",
      "\n"
     ]
    },
    {
     "data": {
      "text/html": [
       "<pre style=\"white-space:pre;overflow-x:auto;line-height:normal;font-family:Menlo,'DejaVu Sans Mono',consolas,'Courier New',monospace\"><span style=\"color: #7fbfbf\">[18:42:40] </span><span style=\"color: #000080\">INFO    </span> TRAIN_LOSS: <span style=\"color: #000080; font-weight: bold\">0.5655255913734436</span>                             <a href=\"file://../trainer.py\"><span style=\"color: #7f7f7f\">trainer.py</span></a><span style=\"color: #7f7f7f\">:425</span>\n",
       "</pre>\n"
      ],
      "text/plain": [
       "<rich.jupyter.JupyterRenderable at 0x7f1424e08be0>"
      ]
     },
     "metadata": {},
     "output_type": "display_data"
    },
    {
     "data": {
      "text/html": [
       "<pre style=\"white-space:pre;overflow-x:auto;line-height:normal;font-family:Menlo,'DejaVu Sans Mono',consolas,'Courier New',monospace\"><span style=\"color: #7fbfbf\">           </span><span style=\"color: #000080\">INFO    </span> TRAIN AUC: <span style=\"color: #000080; font-weight: bold\">0.7814217930453642</span> TRAIN ACC:                   <a href=\"file://../trainer.py\"><span style=\"color: #7f7f7f\">trainer.py</span></a><span style=\"color: #7f7f7f\">:426</span>\n",
       "                    <span style=\"color: #000080; font-weight: bold\">0.7109112785764042</span>                                                       \n",
       "</pre>\n"
      ],
      "text/plain": [
       "<rich.jupyter.JupyterRenderable at 0x7f1424ea5190>"
      ]
     },
     "metadata": {},
     "output_type": "display_data"
    },
    {
     "data": {
      "text/html": [
       "<pre style=\"white-space:pre;overflow-x:auto;line-height:normal;font-family:Menlo,'DejaVu Sans Mono',consolas,'Courier New',monospace\"><span style=\"color: #7fbfbf\">           </span><span style=\"color: #000080\">INFO    </span> VALID AUC: <span style=\"color: #000080; font-weight: bold\">0.776451408907614</span> VALID ACC: <span style=\"color: #000080; font-weight: bold\">0.7077001013171226</span> <a href=\"file://../trainer.py\"><span style=\"color: #7f7f7f\">trainer.py</span></a><span style=\"color: #7f7f7f\">:427</span>\n",
       "                                                                                             \n",
       "</pre>\n"
      ],
      "text/plain": [
       "<rich.jupyter.JupyterRenderable at 0x7f1424ea5a30>"
      ]
     },
     "metadata": {},
     "output_type": "display_data"
    },
    {
     "data": {
      "text/html": [
       "<pre style=\"white-space:pre;overflow-x:auto;line-height:normal;font-family:Menlo,'DejaVu Sans Mono',consolas,'Courier New',monospace\"><span style=\"color: #7fbfbf\">           </span><span style=\"color: #000080\">INFO    </span> EarlyStopping counter: <span style=\"color: #000080; font-weight: bold\">1</span>                                   <a href=\"file://../trainer.py\"><span style=\"color: #7f7f7f\">trainer.py</span></a><span style=\"color: #7f7f7f\">:435</span>\n",
       "</pre>\n"
      ],
      "text/plain": [
       "<rich.jupyter.JupyterRenderable at 0x7f1424e482e0>"
      ]
     },
     "metadata": {},
     "output_type": "display_data"
    },
    {
     "data": {
      "text/html": [
       "<pre style=\"white-space:pre;overflow-x:auto;line-height:normal;font-family:Menlo,'DejaVu Sans Mono',consolas,'Courier New',monospace\"><span style=\"color: #7fbfbf\">           </span><span style=\"color: #000080\">INFO    </span> Start Training: Epoch <span style=\"color: #000080; font-weight: bold\">12</span>                                   <a href=\"file://../trainer.py\"><span style=\"color: #7f7f7f\">trainer.py</span></a><span style=\"color: #7f7f7f\">:409</span>\n",
       "</pre>\n"
      ],
      "text/plain": [
       "<rich.jupyter.JupyterRenderable at 0x7f1424e08af0>"
      ]
     },
     "metadata": {},
     "output_type": "display_data"
    },
    {
     "name": "stdout",
     "output_type": "stream",
     "text": [
      "Training steps: 0 Loss: 0.5209335684776306\n",
      "Training steps: 50 Loss: 0.6294851303100586\n",
      "Training steps: 100 Loss: 0.6111680865287781\n",
      "Training steps: 150 Loss: 0.6056864261627197\n",
      "Training steps: 200 Loss: 0.573022723197937\n",
      "VALID AUC : 0.7769149193912666 ACC : 0.7079533941236069\n",
      "\n"
     ]
    },
    {
     "data": {
      "text/html": [
       "<pre style=\"white-space:pre;overflow-x:auto;line-height:normal;font-family:Menlo,'DejaVu Sans Mono',consolas,'Courier New',monospace\"><span style=\"color: #7fbfbf\">[18:42:43] </span><span style=\"color: #000080\">INFO    </span> TRAIN_LOSS: <span style=\"color: #000080; font-weight: bold\">0.565519392490387</span>                              <a href=\"file://../trainer.py\"><span style=\"color: #7f7f7f\">trainer.py</span></a><span style=\"color: #7f7f7f\">:425</span>\n",
       "</pre>\n"
      ],
      "text/plain": [
       "<rich.jupyter.JupyterRenderable at 0x7f1424e48b80>"
      ]
     },
     "metadata": {},
     "output_type": "display_data"
    },
    {
     "data": {
      "text/html": [
       "<pre style=\"white-space:pre;overflow-x:auto;line-height:normal;font-family:Menlo,'DejaVu Sans Mono',consolas,'Courier New',monospace\"><span style=\"color: #7fbfbf\">           </span><span style=\"color: #000080\">INFO    </span> TRAIN AUC: <span style=\"color: #000080; font-weight: bold\">0.7813494067630822</span> TRAIN ACC:                   <a href=\"file://../trainer.py\"><span style=\"color: #7f7f7f\">trainer.py</span></a><span style=\"color: #7f7f7f\">:426</span>\n",
       "                    <span style=\"color: #000080; font-weight: bold\">0.7111645874232158</span>                                                       \n",
       "</pre>\n"
      ],
      "text/plain": [
       "<rich.jupyter.JupyterRenderable at 0x7f1424ead550>"
      ]
     },
     "metadata": {},
     "output_type": "display_data"
    },
    {
     "data": {
      "text/html": [
       "<pre style=\"white-space:pre;overflow-x:auto;line-height:normal;font-family:Menlo,'DejaVu Sans Mono',consolas,'Courier New',monospace\"><span style=\"color: #7fbfbf\">           </span><span style=\"color: #000080\">INFO    </span> VALID AUC: <span style=\"color: #000080; font-weight: bold\">0.7769149193912666</span> VALID ACC:                   <a href=\"file://../trainer.py\"><span style=\"color: #7f7f7f\">trainer.py</span></a><span style=\"color: #7f7f7f\">:427</span>\n",
       "                    <span style=\"color: #000080; font-weight: bold\">0.7079533941236069</span>                                                       \n",
       "                                                                                             \n",
       "</pre>\n"
      ],
      "text/plain": [
       "<rich.jupyter.JupyterRenderable at 0x7f1424ead670>"
      ]
     },
     "metadata": {},
     "output_type": "display_data"
    },
    {
     "data": {
      "text/html": [
       "<pre style=\"white-space:pre;overflow-x:auto;line-height:normal;font-family:Menlo,'DejaVu Sans Mono',consolas,'Courier New',monospace\"><span style=\"color: #7fbfbf\">           </span><span style=\"color: #000080\">INFO    </span> Start Training: Epoch <span style=\"color: #000080; font-weight: bold\">13</span>                                   <a href=\"file://../trainer.py\"><span style=\"color: #7f7f7f\">trainer.py</span></a><span style=\"color: #7f7f7f\">:409</span>\n",
       "</pre>\n"
      ],
      "text/plain": [
       "<rich.jupyter.JupyterRenderable at 0x7f1424ea5190>"
      ]
     },
     "metadata": {},
     "output_type": "display_data"
    },
    {
     "name": "stdout",
     "output_type": "stream",
     "text": [
      "Training steps: 0 Loss: 0.5795552134513855\n",
      "Training steps: 50 Loss: 0.6034218072891235\n",
      "Training steps: 100 Loss: 0.6923911571502686\n",
      "Training steps: 150 Loss: 0.500023603439331\n",
      "Training steps: 200 Loss: 0.6027054190635681\n",
      "VALID AUC : 0.7768447255278785 ACC : 0.7082066869300911\n",
      "\n"
     ]
    },
    {
     "data": {
      "text/html": [
       "<pre style=\"white-space:pre;overflow-x:auto;line-height:normal;font-family:Menlo,'DejaVu Sans Mono',consolas,'Courier New',monospace\"><span style=\"color: #7fbfbf\">[18:42:46] </span><span style=\"color: #000080\">INFO    </span> TRAIN_LOSS: <span style=\"color: #000080; font-weight: bold\">0.5648956298828125</span>                             <a href=\"file://../trainer.py\"><span style=\"color: #7f7f7f\">trainer.py</span></a><span style=\"color: #7f7f7f\">:425</span>\n",
       "</pre>\n"
      ],
      "text/plain": [
       "<rich.jupyter.JupyterRenderable at 0x7f1424e482e0>"
      ]
     },
     "metadata": {},
     "output_type": "display_data"
    },
    {
     "data": {
      "text/html": [
       "<pre style=\"white-space:pre;overflow-x:auto;line-height:normal;font-family:Menlo,'DejaVu Sans Mono',consolas,'Courier New',monospace\"><span style=\"color: #7fbfbf\">           </span><span style=\"color: #000080\">INFO    </span> TRAIN AUC: <span style=\"color: #000080; font-weight: bold\">0.7817223714455415</span> TRAIN ACC:                   <a href=\"file://../trainer.py\"><span style=\"color: #7f7f7f\">trainer.py</span></a><span style=\"color: #7f7f7f\">:426</span>\n",
       "                    <span style=\"color: #000080; font-weight: bold\">0.7117345323285416</span>                                                       \n",
       "</pre>\n"
      ],
      "text/plain": [
       "<rich.jupyter.JupyterRenderable at 0x7f14281a6580>"
      ]
     },
     "metadata": {},
     "output_type": "display_data"
    },
    {
     "data": {
      "text/html": [
       "<pre style=\"white-space:pre;overflow-x:auto;line-height:normal;font-family:Menlo,'DejaVu Sans Mono',consolas,'Courier New',monospace\"><span style=\"color: #7fbfbf\">           </span><span style=\"color: #000080\">INFO    </span> VALID AUC: <span style=\"color: #000080; font-weight: bold\">0.7768447255278785</span> VALID ACC:                   <a href=\"file://../trainer.py\"><span style=\"color: #7f7f7f\">trainer.py</span></a><span style=\"color: #7f7f7f\">:427</span>\n",
       "                    <span style=\"color: #000080; font-weight: bold\">0.7082066869300911</span>                                                       \n",
       "                                                                                             \n",
       "</pre>\n"
      ],
      "text/plain": [
       "<rich.jupyter.JupyterRenderable at 0x7f1424ea5df0>"
      ]
     },
     "metadata": {},
     "output_type": "display_data"
    },
    {
     "data": {
      "text/html": [
       "<pre style=\"white-space:pre;overflow-x:auto;line-height:normal;font-family:Menlo,'DejaVu Sans Mono',consolas,'Courier New',monospace\"><span style=\"color: #7fbfbf\">           </span><span style=\"color: #000080\">INFO    </span> EarlyStopping counter: <span style=\"color: #000080; font-weight: bold\">1</span>                                   <a href=\"file://../trainer.py\"><span style=\"color: #7f7f7f\">trainer.py</span></a><span style=\"color: #7f7f7f\">:435</span>\n",
       "</pre>\n"
      ],
      "text/plain": [
       "<rich.jupyter.JupyterRenderable at 0x7f1424e58520>"
      ]
     },
     "metadata": {},
     "output_type": "display_data"
    },
    {
     "data": {
      "text/html": [
       "<pre style=\"white-space:pre;overflow-x:auto;line-height:normal;font-family:Menlo,'DejaVu Sans Mono',consolas,'Courier New',monospace\"><span style=\"color: #7fbfbf\">           </span><span style=\"color: #000080\">INFO    </span> Start Training: Epoch <span style=\"color: #000080; font-weight: bold\">14</span>                                   <a href=\"file://../trainer.py\"><span style=\"color: #7f7f7f\">trainer.py</span></a><span style=\"color: #7f7f7f\">:409</span>\n",
       "</pre>\n"
      ],
      "text/plain": [
       "<rich.jupyter.JupyterRenderable at 0x7f14281a6fd0>"
      ]
     },
     "metadata": {},
     "output_type": "display_data"
    },
    {
     "name": "stdout",
     "output_type": "stream",
     "text": [
      "Training steps: 0 Loss: 0.5939286947250366\n",
      "Training steps: 50 Loss: 0.5581960678100586\n",
      "Training steps: 100 Loss: 0.6433559656143188\n",
      "Training steps: 150 Loss: 0.5799442529678345\n",
      "Training steps: 200 Loss: 0.550249457359314\n",
      "VALID AUC : 0.7767591326450998 ACC : 0.7087132725430598\n",
      "\n"
     ]
    },
    {
     "data": {
      "text/html": [
       "<pre style=\"white-space:pre;overflow-x:auto;line-height:normal;font-family:Menlo,'DejaVu Sans Mono',consolas,'Courier New',monospace\"><span style=\"color: #7fbfbf\">[18:42:50] </span><span style=\"color: #000080\">INFO    </span> TRAIN_LOSS: <span style=\"color: #000080; font-weight: bold\">0.564856767654419</span>                              <a href=\"file://../trainer.py\"><span style=\"color: #7f7f7f\">trainer.py</span></a><span style=\"color: #7f7f7f\">:425</span>\n",
       "</pre>\n"
      ],
      "text/plain": [
       "<rich.jupyter.JupyterRenderable at 0x7f1424e48040>"
      ]
     },
     "metadata": {},
     "output_type": "display_data"
    },
    {
     "data": {
      "text/html": [
       "<pre style=\"white-space:pre;overflow-x:auto;line-height:normal;font-family:Menlo,'DejaVu Sans Mono',consolas,'Courier New',monospace\"><span style=\"color: #7fbfbf\">           </span><span style=\"color: #000080\">INFO    </span> TRAIN AUC: <span style=\"color: #000080; font-weight: bold\">0.782053433770604</span> TRAIN ACC: <span style=\"color: #000080; font-weight: bold\">0.7119878411753531</span> <a href=\"file://../trainer.py\"><span style=\"color: #7f7f7f\">trainer.py</span></a><span style=\"color: #7f7f7f\">:426</span>\n",
       "</pre>\n"
      ],
      "text/plain": [
       "<rich.jupyter.JupyterRenderable at 0x7f1424e56490>"
      ]
     },
     "metadata": {},
     "output_type": "display_data"
    },
    {
     "data": {
      "text/html": [
       "<pre style=\"white-space:pre;overflow-x:auto;line-height:normal;font-family:Menlo,'DejaVu Sans Mono',consolas,'Courier New',monospace\"><span style=\"color: #7fbfbf\">           </span><span style=\"color: #000080\">INFO    </span> VALID AUC: <span style=\"color: #000080; font-weight: bold\">0.7767591326450998</span> VALID ACC:                   <a href=\"file://../trainer.py\"><span style=\"color: #7f7f7f\">trainer.py</span></a><span style=\"color: #7f7f7f\">:427</span>\n",
       "                    <span style=\"color: #000080; font-weight: bold\">0.7087132725430598</span>                                                       \n",
       "                                                                                             \n",
       "</pre>\n"
      ],
      "text/plain": [
       "<rich.jupyter.JupyterRenderable at 0x7f1428179520>"
      ]
     },
     "metadata": {},
     "output_type": "display_data"
    },
    {
     "data": {
      "text/html": [
       "<pre style=\"white-space:pre;overflow-x:auto;line-height:normal;font-family:Menlo,'DejaVu Sans Mono',consolas,'Courier New',monospace\"><span style=\"color: #7fbfbf\">           </span><span style=\"color: #000080\">INFO    </span> EarlyStopping counter: <span style=\"color: #000080; font-weight: bold\">2</span>                                   <a href=\"file://../trainer.py\"><span style=\"color: #7f7f7f\">trainer.py</span></a><span style=\"color: #7f7f7f\">:435</span>\n",
       "</pre>\n"
      ],
      "text/plain": [
       "<rich.jupyter.JupyterRenderable at 0x7f1428122640>"
      ]
     },
     "metadata": {},
     "output_type": "display_data"
    },
    {
     "data": {
      "text/html": [
       "<pre style=\"white-space:pre;overflow-x:auto;line-height:normal;font-family:Menlo,'DejaVu Sans Mono',consolas,'Courier New',monospace\"><span style=\"color: #7fbfbf\">           </span><span style=\"color: #000080\">INFO    </span> Start Training: Epoch <span style=\"color: #000080; font-weight: bold\">15</span>                                   <a href=\"file://../trainer.py\"><span style=\"color: #7f7f7f\">trainer.py</span></a><span style=\"color: #7f7f7f\">:409</span>\n",
       "</pre>\n"
      ],
      "text/plain": [
       "<rich.jupyter.JupyterRenderable at 0x7f1424e58850>"
      ]
     },
     "metadata": {},
     "output_type": "display_data"
    },
    {
     "name": "stdout",
     "output_type": "stream",
     "text": [
      "Training steps: 0 Loss: 0.4975228011608124\n",
      "Training steps: 50 Loss: 0.5340028405189514\n",
      "Training steps: 100 Loss: 0.5722466707229614\n",
      "Training steps: 150 Loss: 0.620250940322876\n",
      "Training steps: 200 Loss: 0.5533452033996582\n",
      "VALID AUC : 0.7772477948604234 ACC : 0.7087132725430598\n",
      "\n"
     ]
    },
    {
     "data": {
      "text/html": [
       "<pre style=\"white-space:pre;overflow-x:auto;line-height:normal;font-family:Menlo,'DejaVu Sans Mono',consolas,'Courier New',monospace\"><span style=\"color: #7fbfbf\">[18:42:53] </span><span style=\"color: #000080\">INFO    </span> TRAIN_LOSS: <span style=\"color: #000080; font-weight: bold\">0.5646843910217285</span>                             <a href=\"file://../trainer.py\"><span style=\"color: #7f7f7f\">trainer.py</span></a><span style=\"color: #7f7f7f\">:425</span>\n",
       "</pre>\n"
      ],
      "text/plain": [
       "<rich.jupyter.JupyterRenderable at 0x7f14281cbdc0>"
      ]
     },
     "metadata": {},
     "output_type": "display_data"
    },
    {
     "data": {
      "text/html": [
       "<pre style=\"white-space:pre;overflow-x:auto;line-height:normal;font-family:Menlo,'DejaVu Sans Mono',consolas,'Courier New',monospace\"><span style=\"color: #7fbfbf\">           </span><span style=\"color: #000080\">INFO    </span> TRAIN AUC: <span style=\"color: #000080; font-weight: bold\">0.7814568908835974</span> TRAIN ACC:                   <a href=\"file://../trainer.py\"><span style=\"color: #7f7f7f\">trainer.py</span></a><span style=\"color: #7f7f7f\">:426</span>\n",
       "                    <span style=\"color: #000080; font-weight: bold\">0.7101513520359699</span>                                                       \n",
       "</pre>\n"
      ],
      "text/plain": [
       "<rich.jupyter.JupyterRenderable at 0x7f1424e48b80>"
      ]
     },
     "metadata": {},
     "output_type": "display_data"
    },
    {
     "data": {
      "text/html": [
       "<pre style=\"white-space:pre;overflow-x:auto;line-height:normal;font-family:Menlo,'DejaVu Sans Mono',consolas,'Courier New',monospace\"><span style=\"color: #7fbfbf\">           </span><span style=\"color: #000080\">INFO    </span> VALID AUC: <span style=\"color: #000080; font-weight: bold\">0.7772477948604234</span> VALID ACC:                   <a href=\"file://../trainer.py\"><span style=\"color: #7f7f7f\">trainer.py</span></a><span style=\"color: #7f7f7f\">:427</span>\n",
       "                    <span style=\"color: #000080; font-weight: bold\">0.7087132725430598</span>                                                       \n",
       "                                                                                             \n",
       "</pre>\n"
      ],
      "text/plain": [
       "<rich.jupyter.JupyterRenderable at 0x7f1424e58520>"
      ]
     },
     "metadata": {},
     "output_type": "display_data"
    },
    {
     "data": {
      "text/html": [
       "<pre style=\"white-space:pre;overflow-x:auto;line-height:normal;font-family:Menlo,'DejaVu Sans Mono',consolas,'Courier New',monospace\"><span style=\"color: #7fbfbf\">           </span><span style=\"color: #000080\">INFO    </span> Start Training: Epoch <span style=\"color: #000080; font-weight: bold\">16</span>                                   <a href=\"file://../trainer.py\"><span style=\"color: #7f7f7f\">trainer.py</span></a><span style=\"color: #7f7f7f\">:409</span>\n",
       "</pre>\n"
      ],
      "text/plain": [
       "<rich.jupyter.JupyterRenderable at 0x7f1424eb0be0>"
      ]
     },
     "metadata": {},
     "output_type": "display_data"
    },
    {
     "name": "stdout",
     "output_type": "stream",
     "text": [
      "Training steps: 0 Loss: 0.611280620098114\n",
      "Training steps: 50 Loss: 0.5879604816436768\n",
      "Training steps: 100 Loss: 0.5673375725746155\n",
      "Training steps: 150 Loss: 0.5503016114234924\n",
      "Training steps: 200 Loss: 0.5578497648239136\n",
      "VALID AUC : 0.7772906554643934 ACC : 0.7099797365754813\n",
      "\n"
     ]
    },
    {
     "data": {
      "text/html": [
       "<pre style=\"white-space:pre;overflow-x:auto;line-height:normal;font-family:Menlo,'DejaVu Sans Mono',consolas,'Courier New',monospace\"><span style=\"color: #7fbfbf\">[18:42:57] </span><span style=\"color: #000080\">INFO    </span> TRAIN_LOSS: <span style=\"color: #000080; font-weight: bold\">0.5646500587463379</span>                             <a href=\"file://../trainer.py\"><span style=\"color: #7f7f7f\">trainer.py</span></a><span style=\"color: #7f7f7f\">:425</span>\n",
       "</pre>\n"
      ],
      "text/plain": [
       "<rich.jupyter.JupyterRenderable at 0x7f1424eadbb0>"
      ]
     },
     "metadata": {},
     "output_type": "display_data"
    },
    {
     "data": {
      "text/html": [
       "<pre style=\"white-space:pre;overflow-x:auto;line-height:normal;font-family:Menlo,'DejaVu Sans Mono',consolas,'Courier New',monospace\"><span style=\"color: #7fbfbf\">           </span><span style=\"color: #000080\">INFO    </span> TRAIN AUC: <span style=\"color: #000080; font-weight: bold\">0.7818145694705297</span> TRAIN ACC:                   <a href=\"file://../trainer.py\"><span style=\"color: #7f7f7f\">trainer.py</span></a><span style=\"color: #7f7f7f\">:426</span>\n",
       "                    <span style=\"color: #000080; font-weight: bold\">0.7123044772338674</span>                                                       \n",
       "</pre>\n"
      ],
      "text/plain": [
       "<rich.jupyter.JupyterRenderable at 0x7f1424e08790>"
      ]
     },
     "metadata": {},
     "output_type": "display_data"
    },
    {
     "data": {
      "text/html": [
       "<pre style=\"white-space:pre;overflow-x:auto;line-height:normal;font-family:Menlo,'DejaVu Sans Mono',consolas,'Courier New',monospace\"><span style=\"color: #7fbfbf\">           </span><span style=\"color: #000080\">INFO    </span> VALID AUC: <span style=\"color: #000080; font-weight: bold\">0.7772906554643934</span> VALID ACC:                   <a href=\"file://../trainer.py\"><span style=\"color: #7f7f7f\">trainer.py</span></a><span style=\"color: #7f7f7f\">:427</span>\n",
       "                    <span style=\"color: #000080; font-weight: bold\">0.7099797365754813</span>                                                       \n",
       "                                                                                             \n",
       "</pre>\n"
      ],
      "text/plain": [
       "<rich.jupyter.JupyterRenderable at 0x7f1424e085b0>"
      ]
     },
     "metadata": {},
     "output_type": "display_data"
    },
    {
     "data": {
      "text/html": [
       "<pre style=\"white-space:pre;overflow-x:auto;line-height:normal;font-family:Menlo,'DejaVu Sans Mono',consolas,'Courier New',monospace\"><span style=\"color: #7fbfbf\">           </span><span style=\"color: #000080\">INFO    </span> Start Training: Epoch <span style=\"color: #000080; font-weight: bold\">17</span>                                   <a href=\"file://../trainer.py\"><span style=\"color: #7f7f7f\">trainer.py</span></a><span style=\"color: #7f7f7f\">:409</span>\n",
       "</pre>\n"
      ],
      "text/plain": [
       "<rich.jupyter.JupyterRenderable at 0x7f14281cbdc0>"
      ]
     },
     "metadata": {},
     "output_type": "display_data"
    },
    {
     "name": "stdout",
     "output_type": "stream",
     "text": [
      "Training steps: 0 Loss: 0.5963739156723022\n",
      "Training steps: 50 Loss: 0.4995095431804657\n",
      "Training steps: 100 Loss: 0.5169239044189453\n",
      "Training steps: 150 Loss: 0.5662350654602051\n",
      "Training steps: 200 Loss: 0.5780038833618164\n",
      "VALID AUC : 0.7769979457708133 ACC : 0.7074468085106383\n",
      "\n"
     ]
    },
    {
     "data": {
      "text/html": [
       "<pre style=\"white-space:pre;overflow-x:auto;line-height:normal;font-family:Menlo,'DejaVu Sans Mono',consolas,'Courier New',monospace\"><span style=\"color: #7fbfbf\">[18:43:00] </span><span style=\"color: #000080\">INFO    </span> TRAIN_LOSS: <span style=\"color: #000080; font-weight: bold\">0.5641614198684692</span>                             <a href=\"file://../trainer.py\"><span style=\"color: #7f7f7f\">trainer.py</span></a><span style=\"color: #7f7f7f\">:425</span>\n",
       "</pre>\n"
      ],
      "text/plain": [
       "<rich.jupyter.JupyterRenderable at 0x7f1424e71730>"
      ]
     },
     "metadata": {},
     "output_type": "display_data"
    },
    {
     "data": {
      "text/html": [
       "<pre style=\"white-space:pre;overflow-x:auto;line-height:normal;font-family:Menlo,'DejaVu Sans Mono',consolas,'Courier New',monospace\"><span style=\"color: #7fbfbf\">           </span><span style=\"color: #000080\">INFO    </span> TRAIN AUC: <span style=\"color: #000080; font-weight: bold\">0.7821531986134829</span> TRAIN ACC:                   <a href=\"file://../trainer.py\"><span style=\"color: #7f7f7f\">trainer.py</span></a><span style=\"color: #7f7f7f\">:426</span>\n",
       "                    <span style=\"color: #000080; font-weight: bold\">0.7111012602115129</span>                                                       \n",
       "</pre>\n"
      ],
      "text/plain": [
       "<rich.jupyter.JupyterRenderable at 0x7f14281d02b0>"
      ]
     },
     "metadata": {},
     "output_type": "display_data"
    },
    {
     "data": {
      "text/html": [
       "<pre style=\"white-space:pre;overflow-x:auto;line-height:normal;font-family:Menlo,'DejaVu Sans Mono',consolas,'Courier New',monospace\"><span style=\"color: #7fbfbf\">           </span><span style=\"color: #000080\">INFO    </span> VALID AUC: <span style=\"color: #000080; font-weight: bold\">0.7769979457708133</span> VALID ACC:                   <a href=\"file://../trainer.py\"><span style=\"color: #7f7f7f\">trainer.py</span></a><span style=\"color: #7f7f7f\">:427</span>\n",
       "                    <span style=\"color: #000080; font-weight: bold\">0.7074468085106383</span>                                                       \n",
       "                                                                                             \n",
       "</pre>\n"
      ],
      "text/plain": [
       "<rich.jupyter.JupyterRenderable at 0x7f1424e71100>"
      ]
     },
     "metadata": {},
     "output_type": "display_data"
    },
    {
     "data": {
      "text/html": [
       "<pre style=\"white-space:pre;overflow-x:auto;line-height:normal;font-family:Menlo,'DejaVu Sans Mono',consolas,'Courier New',monospace\"><span style=\"color: #7fbfbf\">           </span><span style=\"color: #000080\">INFO    </span> EarlyStopping counter: <span style=\"color: #000080; font-weight: bold\">1</span>                                   <a href=\"file://../trainer.py\"><span style=\"color: #7f7f7f\">trainer.py</span></a><span style=\"color: #7f7f7f\">:435</span>\n",
       "</pre>\n"
      ],
      "text/plain": [
       "<rich.jupyter.JupyterRenderable at 0x7f14281225b0>"
      ]
     },
     "metadata": {},
     "output_type": "display_data"
    },
    {
     "data": {
      "text/html": [
       "<pre style=\"white-space:pre;overflow-x:auto;line-height:normal;font-family:Menlo,'DejaVu Sans Mono',consolas,'Courier New',monospace\"><span style=\"color: #7fbfbf\">           </span><span style=\"color: #000080\">INFO    </span> Start Training: Epoch <span style=\"color: #000080; font-weight: bold\">18</span>                                   <a href=\"file://../trainer.py\"><span style=\"color: #7f7f7f\">trainer.py</span></a><span style=\"color: #7f7f7f\">:409</span>\n",
       "</pre>\n"
      ],
      "text/plain": [
       "<rich.jupyter.JupyterRenderable at 0x7f1428122df0>"
      ]
     },
     "metadata": {},
     "output_type": "display_data"
    },
    {
     "name": "stdout",
     "output_type": "stream",
     "text": [
      "Training steps: 0 Loss: 0.6790558695793152\n",
      "Training steps: 50 Loss: 0.4938156306743622\n",
      "Training steps: 100 Loss: 0.537197470664978\n",
      "Training steps: 150 Loss: 0.5694968700408936\n",
      "Training steps: 200 Loss: 0.6750121116638184\n",
      "VALID AUC : 0.7770717327387259 ACC : 0.7069402228976697\n",
      "\n"
     ]
    },
    {
     "data": {
      "text/html": [
       "<pre style=\"white-space:pre;overflow-x:auto;line-height:normal;font-family:Menlo,'DejaVu Sans Mono',consolas,'Courier New',monospace\"><span style=\"color: #7fbfbf\">[18:43:03] </span><span style=\"color: #000080\">INFO    </span> TRAIN_LOSS: <span style=\"color: #000080; font-weight: bold\">0.5642793774604797</span>                             <a href=\"file://../trainer.py\"><span style=\"color: #7f7f7f\">trainer.py</span></a><span style=\"color: #7f7f7f\">:425</span>\n",
       "</pre>\n"
      ],
      "text/plain": [
       "<rich.jupyter.JupyterRenderable at 0x7f1424e08df0>"
      ]
     },
     "metadata": {},
     "output_type": "display_data"
    },
    {
     "data": {
      "text/html": [
       "<pre style=\"white-space:pre;overflow-x:auto;line-height:normal;font-family:Menlo,'DejaVu Sans Mono',consolas,'Courier New',monospace\"><span style=\"color: #7fbfbf\">           </span><span style=\"color: #000080\">INFO    </span> TRAIN AUC: <span style=\"color: #000080; font-weight: bold\">0.7820965317333726</span> TRAIN ACC:                   <a href=\"file://../trainer.py\"><span style=\"color: #7f7f7f\">trainer.py</span></a><span style=\"color: #7f7f7f\">:426</span>\n",
       "                    <span style=\"color: #000080; font-weight: bold\">0.7124311316572731</span>                                                       \n",
       "</pre>\n"
      ],
      "text/plain": [
       "<rich.jupyter.JupyterRenderable at 0x7f1424eb0b80>"
      ]
     },
     "metadata": {},
     "output_type": "display_data"
    },
    {
     "data": {
      "text/html": [
       "<pre style=\"white-space:pre;overflow-x:auto;line-height:normal;font-family:Menlo,'DejaVu Sans Mono',consolas,'Courier New',monospace\"><span style=\"color: #7fbfbf\">           </span><span style=\"color: #000080\">INFO    </span> VALID AUC: <span style=\"color: #000080; font-weight: bold\">0.7770717327387259</span> VALID ACC:                   <a href=\"file://../trainer.py\"><span style=\"color: #7f7f7f\">trainer.py</span></a><span style=\"color: #7f7f7f\">:427</span>\n",
       "                    <span style=\"color: #000080; font-weight: bold\">0.7069402228976697</span>                                                       \n",
       "                                                                                             \n",
       "</pre>\n"
      ],
      "text/plain": [
       "<rich.jupyter.JupyterRenderable at 0x7f14281d0100>"
      ]
     },
     "metadata": {},
     "output_type": "display_data"
    },
    {
     "data": {
      "text/html": [
       "<pre style=\"white-space:pre;overflow-x:auto;line-height:normal;font-family:Menlo,'DejaVu Sans Mono',consolas,'Courier New',monospace\"><span style=\"color: #7fbfbf\">           </span><span style=\"color: #000080\">INFO    </span> EarlyStopping counter: <span style=\"color: #000080; font-weight: bold\">2</span>                                   <a href=\"file://../trainer.py\"><span style=\"color: #7f7f7f\">trainer.py</span></a><span style=\"color: #7f7f7f\">:435</span>\n",
       "</pre>\n"
      ],
      "text/plain": [
       "<rich.jupyter.JupyterRenderable at 0x7f1424e563a0>"
      ]
     },
     "metadata": {},
     "output_type": "display_data"
    },
    {
     "data": {
      "text/html": [
       "<pre style=\"white-space:pre;overflow-x:auto;line-height:normal;font-family:Menlo,'DejaVu Sans Mono',consolas,'Courier New',monospace\"><span style=\"color: #7fbfbf\">           </span><span style=\"color: #000080\">INFO    </span> Start Training: Epoch <span style=\"color: #000080; font-weight: bold\">19</span>                                   <a href=\"file://../trainer.py\"><span style=\"color: #7f7f7f\">trainer.py</span></a><span style=\"color: #7f7f7f\">:409</span>\n",
       "</pre>\n"
      ],
      "text/plain": [
       "<rich.jupyter.JupyterRenderable at 0x7f1424e08d60>"
      ]
     },
     "metadata": {},
     "output_type": "display_data"
    },
    {
     "name": "stdout",
     "output_type": "stream",
     "text": [
      "Training steps: 0 Loss: 0.6101818084716797\n",
      "Training steps: 50 Loss: 0.6309150457382202\n",
      "Training steps: 100 Loss: 0.5428738594055176\n",
      "Training steps: 150 Loss: 0.5406882762908936\n",
      "Training steps: 200 Loss: 0.6023023128509521\n",
      "VALID AUC : 0.7771048406304153 ACC : 0.7059270516717325\n",
      "\n"
     ]
    },
    {
     "data": {
      "text/html": [
       "<pre style=\"white-space:pre;overflow-x:auto;line-height:normal;font-family:Menlo,'DejaVu Sans Mono',consolas,'Courier New',monospace\"><span style=\"color: #7fbfbf\">[18:43:07] </span><span style=\"color: #000080\">INFO    </span> TRAIN_LOSS: <span style=\"color: #000080; font-weight: bold\">0.5643994212150574</span>                             <a href=\"file://../trainer.py\"><span style=\"color: #7f7f7f\">trainer.py</span></a><span style=\"color: #7f7f7f\">:425</span>\n",
       "</pre>\n"
      ],
      "text/plain": [
       "<rich.jupyter.JupyterRenderable at 0x7f14281a6d90>"
      ]
     },
     "metadata": {},
     "output_type": "display_data"
    },
    {
     "data": {
      "text/html": [
       "<pre style=\"white-space:pre;overflow-x:auto;line-height:normal;font-family:Menlo,'DejaVu Sans Mono',consolas,'Courier New',monospace\"><span style=\"color: #7fbfbf\">           </span><span style=\"color: #000080\">INFO    </span> TRAIN AUC: <span style=\"color: #000080; font-weight: bold\">0.782080499387513</span> TRAIN ACC: <span style=\"color: #000080; font-weight: bold\">0.7109746057881071</span> <a href=\"file://../trainer.py\"><span style=\"color: #7f7f7f\">trainer.py</span></a><span style=\"color: #7f7f7f\">:426</span>\n",
       "</pre>\n"
      ],
      "text/plain": [
       "<rich.jupyter.JupyterRenderable at 0x7f1424ea5160>"
      ]
     },
     "metadata": {},
     "output_type": "display_data"
    },
    {
     "data": {
      "text/html": [
       "<pre style=\"white-space:pre;overflow-x:auto;line-height:normal;font-family:Menlo,'DejaVu Sans Mono',consolas,'Courier New',monospace\"><span style=\"color: #7fbfbf\">           </span><span style=\"color: #000080\">INFO    </span> VALID AUC: <span style=\"color: #000080; font-weight: bold\">0.7771048406304153</span> VALID ACC:                   <a href=\"file://../trainer.py\"><span style=\"color: #7f7f7f\">trainer.py</span></a><span style=\"color: #7f7f7f\">:427</span>\n",
       "                    <span style=\"color: #000080; font-weight: bold\">0.7059270516717325</span>                                                       \n",
       "                                                                                             \n",
       "</pre>\n"
      ],
      "text/plain": [
       "<rich.jupyter.JupyterRenderable at 0x7f1424e71370>"
      ]
     },
     "metadata": {},
     "output_type": "display_data"
    },
    {
     "data": {
      "text/html": [
       "<pre style=\"white-space:pre;overflow-x:auto;line-height:normal;font-family:Menlo,'DejaVu Sans Mono',consolas,'Courier New',monospace\"><span style=\"color: #7fbfbf\">           </span><span style=\"color: #000080\">INFO    </span> EarlyStopping counter: <span style=\"color: #000080; font-weight: bold\">3</span>                                   <a href=\"file://../trainer.py\"><span style=\"color: #7f7f7f\">trainer.py</span></a><span style=\"color: #7f7f7f\">:435</span>\n",
       "</pre>\n"
      ],
      "text/plain": [
       "<rich.jupyter.JupyterRenderable at 0x7f1424e9a040>"
      ]
     },
     "metadata": {},
     "output_type": "display_data"
    },
    {
     "data": {
      "text/html": [
       "<pre style=\"white-space:pre;overflow-x:auto;line-height:normal;font-family:Menlo,'DejaVu Sans Mono',consolas,'Courier New',monospace\"><span style=\"color: #7fbfbf\">           </span><span style=\"color: #000080\">INFO    </span> Start Training: Epoch <span style=\"color: #000080; font-weight: bold\">20</span>                                   <a href=\"file://../trainer.py\"><span style=\"color: #7f7f7f\">trainer.py</span></a><span style=\"color: #7f7f7f\">:409</span>\n",
       "</pre>\n"
      ],
      "text/plain": [
       "<rich.jupyter.JupyterRenderable at 0x7f1424eb0b80>"
      ]
     },
     "metadata": {},
     "output_type": "display_data"
    },
    {
     "name": "stdout",
     "output_type": "stream",
     "text": [
      "Training steps: 0 Loss: 0.5856865048408508\n",
      "Training steps: 50 Loss: 0.5922126770019531\n",
      "Training steps: 100 Loss: 0.6060779094696045\n",
      "Training steps: 150 Loss: 0.48467937111854553\n",
      "Training steps: 200 Loss: 0.5457831621170044\n",
      "VALID AUC : 0.7771122834897874 ACC : 0.7084599797365755\n",
      "\n"
     ]
    },
    {
     "data": {
      "text/html": [
       "<pre style=\"white-space:pre;overflow-x:auto;line-height:normal;font-family:Menlo,'DejaVu Sans Mono',consolas,'Courier New',monospace\"><span style=\"color: #7fbfbf\">[18:43:10] </span><span style=\"color: #000080\">INFO    </span> TRAIN_LOSS: <span style=\"color: #000080; font-weight: bold\">0.5641797780990601</span>                             <a href=\"file://../trainer.py\"><span style=\"color: #7f7f7f\">trainer.py</span></a><span style=\"color: #7f7f7f\">:425</span>\n",
       "</pre>\n"
      ],
      "text/plain": [
       "<rich.jupyter.JupyterRenderable at 0x7f14281b77f0>"
      ]
     },
     "metadata": {},
     "output_type": "display_data"
    },
    {
     "data": {
      "text/html": [
       "<pre style=\"white-space:pre;overflow-x:auto;line-height:normal;font-family:Menlo,'DejaVu Sans Mono',consolas,'Courier New',monospace\"><span style=\"color: #7fbfbf\">           </span><span style=\"color: #000080\">INFO    </span> TRAIN AUC: <span style=\"color: #000080; font-weight: bold\">0.7820156638747275</span> TRAIN ACC:                   <a href=\"file://../trainer.py\"><span style=\"color: #7f7f7f\">trainer.py</span></a><span style=\"color: #7f7f7f\">:426</span>\n",
       "                    <span style=\"color: #000080; font-weight: bold\">0.7133810398328162</span>                                                       \n",
       "</pre>\n"
      ],
      "text/plain": [
       "<rich.jupyter.JupyterRenderable at 0x7f1428165250>"
      ]
     },
     "metadata": {},
     "output_type": "display_data"
    },
    {
     "data": {
      "text/html": [
       "<pre style=\"white-space:pre;overflow-x:auto;line-height:normal;font-family:Menlo,'DejaVu Sans Mono',consolas,'Courier New',monospace\"><span style=\"color: #7fbfbf\">           </span><span style=\"color: #000080\">INFO    </span> VALID AUC: <span style=\"color: #000080; font-weight: bold\">0.7771122834897874</span> VALID ACC:                   <a href=\"file://../trainer.py\"><span style=\"color: #7f7f7f\">trainer.py</span></a><span style=\"color: #7f7f7f\">:427</span>\n",
       "                    <span style=\"color: #000080; font-weight: bold\">0.7084599797365755</span>                                                       \n",
       "                                                                                             \n",
       "</pre>\n"
      ],
      "text/plain": [
       "<rich.jupyter.JupyterRenderable at 0x7f1424ea5df0>"
      ]
     },
     "metadata": {},
     "output_type": "display_data"
    },
    {
     "data": {
      "text/html": [
       "<pre style=\"white-space:pre;overflow-x:auto;line-height:normal;font-family:Menlo,'DejaVu Sans Mono',consolas,'Courier New',monospace\"><span style=\"color: #7fbfbf\">           </span><span style=\"color: #000080\">INFO    </span> EarlyStopping counter: <span style=\"color: #000080; font-weight: bold\">4</span>                                   <a href=\"file://../trainer.py\"><span style=\"color: #7f7f7f\">trainer.py</span></a><span style=\"color: #7f7f7f\">:435</span>\n",
       "</pre>\n"
      ],
      "text/plain": [
       "<rich.jupyter.JupyterRenderable at 0x7f1424e08df0>"
      ]
     },
     "metadata": {},
     "output_type": "display_data"
    },
    {
     "data": {
      "text/html": [
       "Finishing last run (ID:1dc6vkbq) before initializing another..."
      ],
      "text/plain": [
       "<IPython.core.display.HTML object>"
      ]
     },
     "metadata": {},
     "output_type": "display_data"
    },
    {
     "data": {
      "text/html": [
       "<br/>Waiting for W&B process to finish, PID 58173<br/>Program ended successfully."
      ],
      "text/plain": [
       "<IPython.core.display.HTML object>"
      ]
     },
     "metadata": {},
     "output_type": "display_data"
    },
    {
     "data": {
      "application/vnd.jupyter.widget-view+json": {
       "model_id": "c9c3e1bcc8b248b582fe757c1fca958b",
       "version_major": 2,
       "version_minor": 0
      },
      "text/plain": [
       "VBox(children=(Label(value=' 5.77MB of 5.77MB uploaded (0.00MB deduped)\\r'), FloatProgress(value=1.0, max=1.0)…"
      ]
     },
     "metadata": {},
     "output_type": "display_data"
    },
    {
     "data": {
      "text/html": [
       "Find user logs for this run at: <code>/home/j-gunmo/desktop/00.my-project/17.P-Stage-T1003/4-STAGE/notebook/wandb/run-20210611_184159-1dc6vkbq/logs/debug.log</code>"
      ],
      "text/plain": [
       "<IPython.core.display.HTML object>"
      ]
     },
     "metadata": {},
     "output_type": "display_data"
    },
    {
     "data": {
      "text/html": [
       "Find internal logs for this run at: <code>/home/j-gunmo/desktop/00.my-project/17.P-Stage-T1003/4-STAGE/notebook/wandb/run-20210611_184159-1dc6vkbq/logs/debug-internal.log</code>"
      ],
      "text/plain": [
       "<IPython.core.display.HTML object>"
      ]
     },
     "metadata": {},
     "output_type": "display_data"
    },
    {
     "data": {
      "text/html": [
       "<h3>Run summary:</h3><br/><style>\n",
       "    table.wandb td:nth-child(1) { padding: 0 10px; text-align: right }\n",
       "    </style><table class=\"wandb\">\n",
       "<tr><td>epoch</td><td>19</td></tr><tr><td>train_loss</td><td>0.56418</td></tr><tr><td>train_auc</td><td>0.78202</td></tr><tr><td>train_acc</td><td>0.71338</td></tr><tr><td>valid_auc</td><td>0.77711</td></tr><tr><td>valid_acc</td><td>0.70846</td></tr><tr><td>_runtime</td><td>68</td></tr><tr><td>_timestamp</td><td>1623404590</td></tr><tr><td>_step</td><td>19</td></tr></table>"
      ],
      "text/plain": [
       "<IPython.core.display.HTML object>"
      ]
     },
     "metadata": {},
     "output_type": "display_data"
    },
    {
     "data": {
      "text/html": [
       "<h3>Run history:</h3><br/><style>\n",
       "    table.wandb td:nth-child(1) { padding: 0 10px; text-align: right }\n",
       "    </style><table class=\"wandb\">\n",
       "<tr><td>epoch</td><td>▁▁▂▂▂▃▃▄▄▄▅▅▅▆▆▇▇▇██</td></tr><tr><td>train_loss</td><td>█▃▂▂▂▁▁▁▁▁▁▁▁▁▁▁▁▁▁▁</td></tr><tr><td>train_auc</td><td>▁▇▇▇████████████████</td></tr><tr><td>train_acc</td><td>▁▇▇▇████████████████</td></tr><tr><td>valid_auc</td><td>▁▃▄▅▆▆▇▇▇█▇█████████</td></tr><tr><td>valid_acc</td><td>▁▃▃▃▄▅▅▅▆▇▇▇▇▇▇█▇▆▆▇</td></tr><tr><td>_runtime</td><td>▁▁▂▂▂▃▃▃▄▄▅▅▅▆▆▇▇▇██</td></tr><tr><td>_timestamp</td><td>▁▁▂▂▂▃▃▃▄▄▅▅▅▆▆▇▇▇██</td></tr><tr><td>_step</td><td>▁▁▂▂▂▃▃▄▄▄▅▅▅▆▆▇▇▇██</td></tr></table><br/>"
      ],
      "text/plain": [
       "<IPython.core.display.HTML object>"
      ]
     },
     "metadata": {},
     "output_type": "display_data"
    },
    {
     "data": {
      "text/html": [
       "Synced 6 W&B file(s), 1 media file(s), 0 artifact file(s) and 1 other file(s)"
      ],
      "text/plain": [
       "<IPython.core.display.HTML object>"
      ]
     },
     "metadata": {},
     "output_type": "display_data"
    },
    {
     "data": {
      "text/html": [
       "\n",
       "                    <br/>Synced <strong style=\"color:#cdcd00\">solar-cloud-502</strong>: <a href=\"https://wandb.ai/ggm1207/p-stage-4/runs/1dc6vkbq\" target=\"_blank\">https://wandb.ai/ggm1207/p-stage-4/runs/1dc6vkbq</a><br/>\n",
       "                "
      ],
      "text/plain": [
       "<IPython.core.display.HTML object>"
      ]
     },
     "metadata": {},
     "output_type": "display_data"
    },
    {
     "data": {
      "text/html": [
       "...Successfully finished last run (ID:1dc6vkbq). Initializing new run:<br/><br/>"
      ],
      "text/plain": [
       "<IPython.core.display.HTML object>"
      ]
     },
     "metadata": {},
     "output_type": "display_data"
    },
    {
     "name": "stderr",
     "output_type": "stream",
     "text": [
      "\u001b[34m\u001b[1mwandb\u001b[0m: wandb version 0.10.32 is available!  To upgrade, please run:\n",
      "\u001b[34m\u001b[1mwandb\u001b[0m:  $ pip install wandb --upgrade\n"
     ]
    },
    {
     "data": {
      "text/html": [
       "\n",
       "                Tracking run with wandb version 0.10.27<br/>\n",
       "                Syncing run <strong style=\"color:#cdcd00\">fine-frost-503</strong> to <a href=\"https://wandb.ai\" target=\"_blank\">Weights & Biases</a> <a href=\"https://docs.wandb.com/integrations/jupyter.html\" target=\"_blank\">(Documentation)</a>.<br/>\n",
       "                Project page: <a href=\"https://wandb.ai/ggm1207/p-stage-4\" target=\"_blank\">https://wandb.ai/ggm1207/p-stage-4</a><br/>\n",
       "                Run page: <a href=\"https://wandb.ai/ggm1207/p-stage-4/runs/bhj6ovem\" target=\"_blank\">https://wandb.ai/ggm1207/p-stage-4/runs/bhj6ovem</a><br/>\n",
       "                Run data is saved locally in <code>/home/j-gunmo/desktop/00.my-project/17.P-Stage-T1003/4-STAGE/notebook/wandb/run-20210611_184310-bhj6ovem</code><br/><br/>\n",
       "            "
      ],
      "text/plain": [
       "<IPython.core.display.HTML object>"
      ]
     },
     "metadata": {},
     "output_type": "display_data"
    },
    {
     "data": {
      "text/html": [
       "<pre style=\"white-space:pre;overflow-x:auto;line-height:normal;font-family:Menlo,'DejaVu Sans Mono',consolas,'Courier New',monospace\"><span style=\"color: #7fbfbf\">[18:43:16] </span><span style=\"color: #000080\">INFO    </span> Start Training: Epoch <span style=\"color: #000080; font-weight: bold\">1</span>                                    <a href=\"file://../trainer.py\"><span style=\"color: #7f7f7f\">trainer.py</span></a><span style=\"color: #7f7f7f\">:409</span>\n",
       "</pre>\n"
      ],
      "text/plain": [
       "<rich.jupyter.JupyterRenderable at 0x7f142814c220>"
      ]
     },
     "metadata": {},
     "output_type": "display_data"
    },
    {
     "name": "stdout",
     "output_type": "stream",
     "text": [
      "Training steps: 0 Loss: 0.6977226138114929\n",
      "Training steps: 50 Loss: 0.6879802942276001\n",
      "Training steps: 100 Loss: 0.6727813482284546\n",
      "Training steps: 150 Loss: 0.6473334431648254\n",
      "Training steps: 200 Loss: 0.619423508644104\n",
      "VALID AUC : 0.770963270963271 ACC : 0.7008611955420466\n",
      "\n"
     ]
    },
    {
     "data": {
      "text/html": [
       "<pre style=\"white-space:pre;overflow-x:auto;line-height:normal;font-family:Menlo,'DejaVu Sans Mono',consolas,'Courier New',monospace\"><span style=\"color: #7fbfbf\">[18:43:19] </span><span style=\"color: #000080\">INFO    </span> TRAIN_LOSS: <span style=\"color: #000080; font-weight: bold\">0.6563341021537781</span>                             <a href=\"file://../trainer.py\"><span style=\"color: #7f7f7f\">trainer.py</span></a><span style=\"color: #7f7f7f\">:425</span>\n",
       "</pre>\n"
      ],
      "text/plain": [
       "<rich.jupyter.JupyterRenderable at 0x7f1424ea5a60>"
      ]
     },
     "metadata": {},
     "output_type": "display_data"
    },
    {
     "data": {
      "text/html": [
       "<pre style=\"white-space:pre;overflow-x:auto;line-height:normal;font-family:Menlo,'DejaVu Sans Mono',consolas,'Courier New',monospace\"><span style=\"color: #7fbfbf\">           </span><span style=\"color: #000080\">INFO    </span> TRAIN AUC: <span style=\"color: #000080; font-weight: bold\">0.7318681447417156</span> TRAIN ACC:                   <a href=\"file://../trainer.py\"><span style=\"color: #7f7f7f\">trainer.py</span></a><span style=\"color: #7f7f7f\">:426</span>\n",
       "                    <span style=\"color: #000080; font-weight: bold\">0.6424545627256032</span>                                                       \n",
       "</pre>\n"
      ],
      "text/plain": [
       "<rich.jupyter.JupyterRenderable at 0x7f1428165310>"
      ]
     },
     "metadata": {},
     "output_type": "display_data"
    },
    {
     "data": {
      "text/html": [
       "<pre style=\"white-space:pre;overflow-x:auto;line-height:normal;font-family:Menlo,'DejaVu Sans Mono',consolas,'Courier New',monospace\"><span style=\"color: #7fbfbf\">           </span><span style=\"color: #000080\">INFO    </span> VALID AUC: <span style=\"color: #000080; font-weight: bold\">0.770963270963271</span> VALID ACC: <span style=\"color: #000080; font-weight: bold\">0.7008611955420466</span> <a href=\"file://../trainer.py\"><span style=\"color: #7f7f7f\">trainer.py</span></a><span style=\"color: #7f7f7f\">:427</span>\n",
       "                                                                                             \n",
       "</pre>\n"
      ],
      "text/plain": [
       "<rich.jupyter.JupyterRenderable at 0x7f1428191310>"
      ]
     },
     "metadata": {},
     "output_type": "display_data"
    },
    {
     "data": {
      "text/html": [
       "<pre style=\"white-space:pre;overflow-x:auto;line-height:normal;font-family:Menlo,'DejaVu Sans Mono',consolas,'Courier New',monospace\"><span style=\"color: #7fbfbf\">           </span><span style=\"color: #000080\">INFO    </span> Start Training: Epoch <span style=\"color: #000080; font-weight: bold\">2</span>                                    <a href=\"file://../trainer.py\"><span style=\"color: #7f7f7f\">trainer.py</span></a><span style=\"color: #7f7f7f\">:409</span>\n",
       "</pre>\n"
      ],
      "text/plain": [
       "<rich.jupyter.JupyterRenderable at 0x7f1424e05d90>"
      ]
     },
     "metadata": {},
     "output_type": "display_data"
    },
    {
     "name": "stdout",
     "output_type": "stream",
     "text": [
      "Training steps: 0 Loss: 0.595924437046051\n",
      "Training steps: 50 Loss: 0.6539539694786072\n",
      "Training steps: 100 Loss: 0.6403425931930542\n",
      "Training steps: 150 Loss: 0.5642470121383667\n",
      "Training steps: 200 Loss: 0.540826141834259\n",
      "VALID AUC : 0.7749145299145299 ACC : 0.7026342451874367\n",
      "\n"
     ]
    },
    {
     "data": {
      "text/html": [
       "<pre style=\"white-space:pre;overflow-x:auto;line-height:normal;font-family:Menlo,'DejaVu Sans Mono',consolas,'Courier New',monospace\"><span style=\"color: #7fbfbf\">[18:43:22] </span><span style=\"color: #000080\">INFO    </span> TRAIN_LOSS: <span style=\"color: #000080; font-weight: bold\">0.5856112241744995</span>                             <a href=\"file://../trainer.py\"><span style=\"color: #7f7f7f\">trainer.py</span></a><span style=\"color: #7f7f7f\">:425</span>\n",
       "</pre>\n"
      ],
      "text/plain": [
       "<rich.jupyter.JupyterRenderable at 0x7f14281d8b20>"
      ]
     },
     "metadata": {},
     "output_type": "display_data"
    },
    {
     "data": {
      "text/html": [
       "<pre style=\"white-space:pre;overflow-x:auto;line-height:normal;font-family:Menlo,'DejaVu Sans Mono',consolas,'Courier New',monospace\"><span style=\"color: #7fbfbf\">           </span><span style=\"color: #000080\">INFO    </span> TRAIN AUC: <span style=\"color: #000080; font-weight: bold\">0.7690918802801576</span> TRAIN ACC: <span style=\"color: #000080; font-weight: bold\">0.701412196820974</span> <a href=\"file://../trainer.py\"><span style=\"color: #7f7f7f\">trainer.py</span></a><span style=\"color: #7f7f7f\">:426</span>\n",
       "</pre>\n"
      ],
      "text/plain": [
       "<rich.jupyter.JupyterRenderable at 0x7f14281d8d90>"
      ]
     },
     "metadata": {},
     "output_type": "display_data"
    },
    {
     "data": {
      "text/html": [
       "<pre style=\"white-space:pre;overflow-x:auto;line-height:normal;font-family:Menlo,'DejaVu Sans Mono',consolas,'Courier New',monospace\"><span style=\"color: #7fbfbf\">           </span><span style=\"color: #000080\">INFO    </span> VALID AUC: <span style=\"color: #000080; font-weight: bold\">0.7749145299145299</span> VALID ACC:                   <a href=\"file://../trainer.py\"><span style=\"color: #7f7f7f\">trainer.py</span></a><span style=\"color: #7f7f7f\">:427</span>\n",
       "                    <span style=\"color: #000080; font-weight: bold\">0.7026342451874367</span>                                                       \n",
       "                                                                                             \n",
       "</pre>\n"
      ],
      "text/plain": [
       "<rich.jupyter.JupyterRenderable at 0x7f14281d84f0>"
      ]
     },
     "metadata": {},
     "output_type": "display_data"
    },
    {
     "data": {
      "text/html": [
       "<pre style=\"white-space:pre;overflow-x:auto;line-height:normal;font-family:Menlo,'DejaVu Sans Mono',consolas,'Courier New',monospace\"><span style=\"color: #7fbfbf\">           </span><span style=\"color: #000080\">INFO    </span> Start Training: Epoch <span style=\"color: #000080; font-weight: bold\">3</span>                                    <a href=\"file://../trainer.py\"><span style=\"color: #7f7f7f\">trainer.py</span></a><span style=\"color: #7f7f7f\">:409</span>\n",
       "</pre>\n"
      ],
      "text/plain": [
       "<rich.jupyter.JupyterRenderable at 0x7f14281d8070>"
      ]
     },
     "metadata": {},
     "output_type": "display_data"
    },
    {
     "name": "stdout",
     "output_type": "stream",
     "text": [
      "Training steps: 0 Loss: 0.5018512010574341\n",
      "Training steps: 50 Loss: 0.5620393753051758\n",
      "Training steps: 100 Loss: 0.625359833240509\n",
      "Training steps: 150 Loss: 0.5238800048828125\n",
      "Training steps: 200 Loss: 0.5669413805007935\n",
      "VALID AUC : 0.7770106003439337 ACC : 0.7059270516717325\n",
      "\n"
     ]
    },
    {
     "data": {
      "text/html": [
       "<pre style=\"white-space:pre;overflow-x:auto;line-height:normal;font-family:Menlo,'DejaVu Sans Mono',consolas,'Courier New',monospace\"><span style=\"color: #7fbfbf\">[18:43:26] </span><span style=\"color: #000080\">INFO    </span> TRAIN_LOSS: <span style=\"color: #000080; font-weight: bold\">0.5786808133125305</span>                             <a href=\"file://../trainer.py\"><span style=\"color: #7f7f7f\">trainer.py</span></a><span style=\"color: #7f7f7f\">:425</span>\n",
       "</pre>\n"
      ],
      "text/plain": [
       "<rich.jupyter.JupyterRenderable at 0x7f1428191370>"
      ]
     },
     "metadata": {},
     "output_type": "display_data"
    },
    {
     "data": {
      "text/html": [
       "<pre style=\"white-space:pre;overflow-x:auto;line-height:normal;font-family:Menlo,'DejaVu Sans Mono',consolas,'Courier New',monospace\"><span style=\"color: #7fbfbf\">           </span><span style=\"color: #000080\">INFO    </span> TRAIN AUC: <span style=\"color: #000080; font-weight: bold\">0.7728017757955422</span> TRAIN ACC:                   <a href=\"file://../trainer.py\"><span style=\"color: #7f7f7f\">trainer.py</span></a><span style=\"color: #7f7f7f\">:426</span>\n",
       "                    <span style=\"color: #000080; font-weight: bold\">0.7025520866316256</span>                                                       \n",
       "</pre>\n"
      ],
      "text/plain": [
       "<rich.jupyter.JupyterRenderable at 0x7f1424e48b80>"
      ]
     },
     "metadata": {},
     "output_type": "display_data"
    },
    {
     "data": {
      "text/html": [
       "<pre style=\"white-space:pre;overflow-x:auto;line-height:normal;font-family:Menlo,'DejaVu Sans Mono',consolas,'Courier New',monospace\"><span style=\"color: #7fbfbf\">           </span><span style=\"color: #000080\">INFO    </span> VALID AUC: <span style=\"color: #000080; font-weight: bold\">0.7770106003439337</span> VALID ACC:                   <a href=\"file://../trainer.py\"><span style=\"color: #7f7f7f\">trainer.py</span></a><span style=\"color: #7f7f7f\">:427</span>\n",
       "                    <span style=\"color: #000080; font-weight: bold\">0.7059270516717325</span>                                                       \n",
       "                                                                                             \n",
       "</pre>\n"
      ],
      "text/plain": [
       "<rich.jupyter.JupyterRenderable at 0x7f142814cd90>"
      ]
     },
     "metadata": {},
     "output_type": "display_data"
    },
    {
     "data": {
      "text/html": [
       "<pre style=\"white-space:pre;overflow-x:auto;line-height:normal;font-family:Menlo,'DejaVu Sans Mono',consolas,'Courier New',monospace\"><span style=\"color: #7fbfbf\">           </span><span style=\"color: #000080\">INFO    </span> Start Training: Epoch <span style=\"color: #000080; font-weight: bold\">4</span>                                    <a href=\"file://../trainer.py\"><span style=\"color: #7f7f7f\">trainer.py</span></a><span style=\"color: #7f7f7f\">:409</span>\n",
       "</pre>\n"
      ],
      "text/plain": [
       "<rich.jupyter.JupyterRenderable at 0x7f1428191370>"
      ]
     },
     "metadata": {},
     "output_type": "display_data"
    },
    {
     "name": "stdout",
     "output_type": "stream",
     "text": [
      "Training steps: 0 Loss: 0.6182305812835693\n",
      "Training steps: 50 Loss: 0.6075901985168457\n",
      "Training steps: 100 Loss: 0.6285566091537476\n",
      "Training steps: 150 Loss: 0.6435513496398926\n",
      "Training steps: 200 Loss: 0.5935214757919312\n",
      "VALID AUC : 0.7787133287133288 ACC : 0.7036474164133738\n",
      "\n"
     ]
    },
    {
     "data": {
      "text/html": [
       "<pre style=\"white-space:pre;overflow-x:auto;line-height:normal;font-family:Menlo,'DejaVu Sans Mono',consolas,'Courier New',monospace\"><span style=\"color: #7fbfbf\">[18:43:29] </span><span style=\"color: #000080\">INFO    </span> TRAIN_LOSS: <span style=\"color: #000080; font-weight: bold\">0.5753851532936096</span>                             <a href=\"file://../trainer.py\"><span style=\"color: #7f7f7f\">trainer.py</span></a><span style=\"color: #7f7f7f\">:425</span>\n",
       "</pre>\n"
      ],
      "text/plain": [
       "<rich.jupyter.JupyterRenderable at 0x7f14281a6700>"
      ]
     },
     "metadata": {},
     "output_type": "display_data"
    },
    {
     "data": {
      "text/html": [
       "<pre style=\"white-space:pre;overflow-x:auto;line-height:normal;font-family:Menlo,'DejaVu Sans Mono',consolas,'Courier New',monospace\"><span style=\"color: #7fbfbf\">           </span><span style=\"color: #000080\">INFO    </span> TRAIN AUC: <span style=\"color: #000080; font-weight: bold\">0.7749190062888478</span> TRAIN ACC:                   <a href=\"file://../trainer.py\"><span style=\"color: #7f7f7f\">trainer.py</span></a><span style=\"color: #7f7f7f\">:426</span>\n",
       "                    <span style=\"color: #000080; font-weight: bold\">0.7030587043252485</span>                                                       \n",
       "</pre>\n"
      ],
      "text/plain": [
       "<rich.jupyter.JupyterRenderable at 0x7f1428142f70>"
      ]
     },
     "metadata": {},
     "output_type": "display_data"
    },
    {
     "data": {
      "text/html": [
       "<pre style=\"white-space:pre;overflow-x:auto;line-height:normal;font-family:Menlo,'DejaVu Sans Mono',consolas,'Courier New',monospace\"><span style=\"color: #7fbfbf\">           </span><span style=\"color: #000080\">INFO    </span> VALID AUC: <span style=\"color: #000080; font-weight: bold\">0.7787133287133288</span> VALID ACC:                   <a href=\"file://../trainer.py\"><span style=\"color: #7f7f7f\">trainer.py</span></a><span style=\"color: #7f7f7f\">:427</span>\n",
       "                    <span style=\"color: #000080; font-weight: bold\">0.7036474164133738</span>                                                       \n",
       "                                                                                             \n",
       "</pre>\n"
      ],
      "text/plain": [
       "<rich.jupyter.JupyterRenderable at 0x7f1428142d60>"
      ]
     },
     "metadata": {},
     "output_type": "display_data"
    },
    {
     "data": {
      "text/html": [
       "<pre style=\"white-space:pre;overflow-x:auto;line-height:normal;font-family:Menlo,'DejaVu Sans Mono',consolas,'Courier New',monospace\"><span style=\"color: #7fbfbf\">           </span><span style=\"color: #000080\">INFO    </span> Start Training: Epoch <span style=\"color: #000080; font-weight: bold\">5</span>                                    <a href=\"file://../trainer.py\"><span style=\"color: #7f7f7f\">trainer.py</span></a><span style=\"color: #7f7f7f\">:409</span>\n",
       "</pre>\n"
      ],
      "text/plain": [
       "<rich.jupyter.JupyterRenderable at 0x7f1424e71a90>"
      ]
     },
     "metadata": {},
     "output_type": "display_data"
    },
    {
     "name": "stdout",
     "output_type": "stream",
     "text": [
      "Training steps: 0 Loss: 0.5888941884040833\n",
      "Training steps: 50 Loss: 0.6751599311828613\n",
      "Training steps: 100 Loss: 0.5425357818603516\n",
      "Training steps: 150 Loss: 0.5216089487075806\n",
      "Training steps: 200 Loss: 0.5525755882263184\n",
      "VALID AUC : 0.7793511460178127 ACC : 0.7059270516717325\n",
      "\n"
     ]
    },
    {
     "data": {
      "text/html": [
       "<pre style=\"white-space:pre;overflow-x:auto;line-height:normal;font-family:Menlo,'DejaVu Sans Mono',consolas,'Courier New',monospace\"><span style=\"color: #7fbfbf\">[18:43:32] </span><span style=\"color: #000080\">INFO    </span> TRAIN_LOSS: <span style=\"color: #000080; font-weight: bold\">0.5733901858329773</span>                             <a href=\"file://../trainer.py\"><span style=\"color: #7f7f7f\">trainer.py</span></a><span style=\"color: #7f7f7f\">:425</span>\n",
       "</pre>\n"
      ],
      "text/plain": [
       "<rich.jupyter.JupyterRenderable at 0x7f1424e05be0>"
      ]
     },
     "metadata": {},
     "output_type": "display_data"
    },
    {
     "data": {
      "text/html": [
       "<pre style=\"white-space:pre;overflow-x:auto;line-height:normal;font-family:Menlo,'DejaVu Sans Mono',consolas,'Courier New',monospace\"><span style=\"color: #7fbfbf\">           </span><span style=\"color: #000080\">INFO    </span> TRAIN AUC: <span style=\"color: #000080; font-weight: bold\">0.7757934077827142</span> TRAIN ACC:                   <a href=\"file://../trainer.py\"><span style=\"color: #7f7f7f\">trainer.py</span></a><span style=\"color: #7f7f7f\">:426</span>\n",
       "                    <span style=\"color: #000080; font-weight: bold\">0.7059717560635805</span>                                                       \n",
       "</pre>\n"
      ],
      "text/plain": [
       "<rich.jupyter.JupyterRenderable at 0x7f14281a6070>"
      ]
     },
     "metadata": {},
     "output_type": "display_data"
    },
    {
     "data": {
      "text/html": [
       "<pre style=\"white-space:pre;overflow-x:auto;line-height:normal;font-family:Menlo,'DejaVu Sans Mono',consolas,'Courier New',monospace\"><span style=\"color: #7fbfbf\">           </span><span style=\"color: #000080\">INFO    </span> VALID AUC: <span style=\"color: #000080; font-weight: bold\">0.7793511460178127</span> VALID ACC:                   <a href=\"file://../trainer.py\"><span style=\"color: #7f7f7f\">trainer.py</span></a><span style=\"color: #7f7f7f\">:427</span>\n",
       "                    <span style=\"color: #000080; font-weight: bold\">0.7059270516717325</span>                                                       \n",
       "                                                                                             \n",
       "</pre>\n"
      ],
      "text/plain": [
       "<rich.jupyter.JupyterRenderable at 0x7f1424e93190>"
      ]
     },
     "metadata": {},
     "output_type": "display_data"
    },
    {
     "data": {
      "text/html": [
       "<pre style=\"white-space:pre;overflow-x:auto;line-height:normal;font-family:Menlo,'DejaVu Sans Mono',consolas,'Courier New',monospace\"><span style=\"color: #7fbfbf\">           </span><span style=\"color: #000080\">INFO    </span> Start Training: Epoch <span style=\"color: #000080; font-weight: bold\">6</span>                                    <a href=\"file://../trainer.py\"><span style=\"color: #7f7f7f\">trainer.py</span></a><span style=\"color: #7f7f7f\">:409</span>\n",
       "</pre>\n"
      ],
      "text/plain": [
       "<rich.jupyter.JupyterRenderable at 0x7f1424e58520>"
      ]
     },
     "metadata": {},
     "output_type": "display_data"
    },
    {
     "name": "stdout",
     "output_type": "stream",
     "text": [
      "Training steps: 0 Loss: 0.6257911920547485\n",
      "Training steps: 50 Loss: 0.5887433290481567\n",
      "Training steps: 100 Loss: 0.5855381488800049\n",
      "Training steps: 150 Loss: 0.5736437439918518\n",
      "Training steps: 200 Loss: 0.6787871718406677\n",
      "VALID AUC : 0.7797582197582197 ACC : 0.7061803444782169\n",
      "\n"
     ]
    },
    {
     "data": {
      "text/html": [
       "<pre style=\"white-space:pre;overflow-x:auto;line-height:normal;font-family:Menlo,'DejaVu Sans Mono',consolas,'Courier New',monospace\"><span style=\"color: #7fbfbf\">[18:43:36] </span><span style=\"color: #000080\">INFO    </span> TRAIN_LOSS: <span style=\"color: #000080; font-weight: bold\">0.5719859004020691</span>                             <a href=\"file://../trainer.py\"><span style=\"color: #7f7f7f\">trainer.py</span></a><span style=\"color: #7f7f7f\">:425</span>\n",
       "</pre>\n"
      ],
      "text/plain": [
       "<rich.jupyter.JupyterRenderable at 0x7f14281a6400>"
      ]
     },
     "metadata": {},
     "output_type": "display_data"
    },
    {
     "data": {
      "text/html": [
       "<pre style=\"white-space:pre;overflow-x:auto;line-height:normal;font-family:Menlo,'DejaVu Sans Mono',consolas,'Courier New',monospace\"><span style=\"color: #7fbfbf\">           </span><span style=\"color: #000080\">INFO    </span> TRAIN AUC: <span style=\"color: #000080; font-weight: bold\">0.7767702509954507</span> TRAIN ACC:                   <a href=\"file://../trainer.py\"><span style=\"color: #7f7f7f\">trainer.py</span></a><span style=\"color: #7f7f7f\">:426</span>\n",
       "                    <span style=\"color: #000080; font-weight: bold\">0.7057817744284719</span>                                                       \n",
       "</pre>\n"
      ],
      "text/plain": [
       "<rich.jupyter.JupyterRenderable at 0x7f14281d8ee0>"
      ]
     },
     "metadata": {},
     "output_type": "display_data"
    },
    {
     "data": {
      "text/html": [
       "<pre style=\"white-space:pre;overflow-x:auto;line-height:normal;font-family:Menlo,'DejaVu Sans Mono',consolas,'Courier New',monospace\"><span style=\"color: #7fbfbf\">           </span><span style=\"color: #000080\">INFO    </span> VALID AUC: <span style=\"color: #000080; font-weight: bold\">0.7797582197582197</span> VALID ACC:                   <a href=\"file://../trainer.py\"><span style=\"color: #7f7f7f\">trainer.py</span></a><span style=\"color: #7f7f7f\">:427</span>\n",
       "                    <span style=\"color: #000080; font-weight: bold\">0.7061803444782169</span>                                                       \n",
       "                                                                                             \n",
       "</pre>\n"
      ],
      "text/plain": [
       "<rich.jupyter.JupyterRenderable at 0x7f1424ead550>"
      ]
     },
     "metadata": {},
     "output_type": "display_data"
    },
    {
     "data": {
      "text/html": [
       "<pre style=\"white-space:pre;overflow-x:auto;line-height:normal;font-family:Menlo,'DejaVu Sans Mono',consolas,'Courier New',monospace\"><span style=\"color: #7fbfbf\">           </span><span style=\"color: #000080\">INFO    </span> Start Training: Epoch <span style=\"color: #000080; font-weight: bold\">7</span>                                    <a href=\"file://../trainer.py\"><span style=\"color: #7f7f7f\">trainer.py</span></a><span style=\"color: #7f7f7f\">:409</span>\n",
       "</pre>\n"
      ],
      "text/plain": [
       "<rich.jupyter.JupyterRenderable at 0x7f1424ead550>"
      ]
     },
     "metadata": {},
     "output_type": "display_data"
    },
    {
     "name": "stdout",
     "output_type": "stream",
     "text": [
      "Training steps: 0 Loss: 0.6162322759628296\n",
      "Training steps: 50 Loss: 0.5997665524482727\n",
      "Training steps: 100 Loss: 0.5713402032852173\n",
      "Training steps: 150 Loss: 0.5130209922790527\n",
      "Training steps: 200 Loss: 0.5269345045089722\n",
      "VALID AUC : 0.7808520058520059 ACC : 0.7069402228976697\n",
      "\n"
     ]
    },
    {
     "data": {
      "text/html": [
       "<pre style=\"white-space:pre;overflow-x:auto;line-height:normal;font-family:Menlo,'DejaVu Sans Mono',consolas,'Courier New',monospace\"><span style=\"color: #7fbfbf\">[18:43:39] </span><span style=\"color: #000080\">INFO    </span> TRAIN_LOSS: <span style=\"color: #000080; font-weight: bold\">0.5707620978355408</span>                             <a href=\"file://../trainer.py\"><span style=\"color: #7f7f7f\">trainer.py</span></a><span style=\"color: #7f7f7f\">:425</span>\n",
       "</pre>\n"
      ],
      "text/plain": [
       "<rich.jupyter.JupyterRenderable at 0x7f1424ea71f0>"
      ]
     },
     "metadata": {},
     "output_type": "display_data"
    },
    {
     "data": {
      "text/html": [
       "<pre style=\"white-space:pre;overflow-x:auto;line-height:normal;font-family:Menlo,'DejaVu Sans Mono',consolas,'Courier New',monospace\"><span style=\"color: #7fbfbf\">           </span><span style=\"color: #000080\">INFO    </span> TRAIN AUC: <span style=\"color: #000080; font-weight: bold\">0.7773597943815688</span> TRAIN ACC:                   <a href=\"file://../trainer.py\"><span style=\"color: #7f7f7f\">trainer.py</span></a><span style=\"color: #7f7f7f\">:426</span>\n",
       "                    <span style=\"color: #000080; font-weight: bold\">0.7060350832752834</span>                                                       \n",
       "</pre>\n"
      ],
      "text/plain": [
       "<rich.jupyter.JupyterRenderable at 0x7f14281d8ee0>"
      ]
     },
     "metadata": {},
     "output_type": "display_data"
    },
    {
     "data": {
      "text/html": [
       "<pre style=\"white-space:pre;overflow-x:auto;line-height:normal;font-family:Menlo,'DejaVu Sans Mono',consolas,'Courier New',monospace\"><span style=\"color: #7fbfbf\">           </span><span style=\"color: #000080\">INFO    </span> VALID AUC: <span style=\"color: #000080; font-weight: bold\">0.7808520058520059</span> VALID ACC:                   <a href=\"file://../trainer.py\"><span style=\"color: #7f7f7f\">trainer.py</span></a><span style=\"color: #7f7f7f\">:427</span>\n",
       "                    <span style=\"color: #000080; font-weight: bold\">0.7069402228976697</span>                                                       \n",
       "                                                                                             \n",
       "</pre>\n"
      ],
      "text/plain": [
       "<rich.jupyter.JupyterRenderable at 0x7f1424ea73d0>"
      ]
     },
     "metadata": {},
     "output_type": "display_data"
    },
    {
     "data": {
      "text/html": [
       "<pre style=\"white-space:pre;overflow-x:auto;line-height:normal;font-family:Menlo,'DejaVu Sans Mono',consolas,'Courier New',monospace\"><span style=\"color: #7fbfbf\">           </span><span style=\"color: #000080\">INFO    </span> Start Training: Epoch <span style=\"color: #000080; font-weight: bold\">8</span>                                    <a href=\"file://../trainer.py\"><span style=\"color: #7f7f7f\">trainer.py</span></a><span style=\"color: #7f7f7f\">:409</span>\n",
       "</pre>\n"
      ],
      "text/plain": [
       "<rich.jupyter.JupyterRenderable at 0x7f14281a6400>"
      ]
     },
     "metadata": {},
     "output_type": "display_data"
    },
    {
     "name": "stdout",
     "output_type": "stream",
     "text": [
      "Training steps: 0 Loss: 0.46821966767311096\n",
      "Training steps: 50 Loss: 0.5647320747375488\n",
      "Training steps: 100 Loss: 0.5462440252304077\n",
      "Training steps: 150 Loss: 0.4780936539173126\n",
      "Training steps: 200 Loss: 0.5830329060554504\n",
      "VALID AUC : 0.7803790970457636 ACC : 0.707193515704154\n",
      "\n"
     ]
    },
    {
     "data": {
      "text/html": [
       "<pre style=\"white-space:pre;overflow-x:auto;line-height:normal;font-family:Menlo,'DejaVu Sans Mono',consolas,'Courier New',monospace\"><span style=\"color: #7fbfbf\">[18:43:42] </span><span style=\"color: #000080\">INFO    </span> TRAIN_LOSS: <span style=\"color: #000080; font-weight: bold\">0.5704566836357117</span>                             <a href=\"file://../trainer.py\"><span style=\"color: #7f7f7f\">trainer.py</span></a><span style=\"color: #7f7f7f\">:425</span>\n",
       "</pre>\n"
      ],
      "text/plain": [
       "<rich.jupyter.JupyterRenderable at 0x7f1424e56df0>"
      ]
     },
     "metadata": {},
     "output_type": "display_data"
    },
    {
     "data": {
      "text/html": [
       "<pre style=\"white-space:pre;overflow-x:auto;line-height:normal;font-family:Menlo,'DejaVu Sans Mono',consolas,'Courier New',monospace\"><span style=\"color: #7fbfbf\">           </span><span style=\"color: #000080\">INFO    </span> TRAIN AUC: <span style=\"color: #000080; font-weight: bold\">0.7775595184220172</span> TRAIN ACC:                   <a href=\"file://../trainer.py\"><span style=\"color: #7f7f7f\">trainer.py</span></a><span style=\"color: #7f7f7f\">:426</span>\n",
       "                    <span style=\"color: #000080; font-weight: bold\">0.7063517193337977</span>                                                       \n",
       "</pre>\n"
      ],
      "text/plain": [
       "<rich.jupyter.JupyterRenderable at 0x7f1424eb0bb0>"
      ]
     },
     "metadata": {},
     "output_type": "display_data"
    },
    {
     "data": {
      "text/html": [
       "<pre style=\"white-space:pre;overflow-x:auto;line-height:normal;font-family:Menlo,'DejaVu Sans Mono',consolas,'Courier New',monospace\"><span style=\"color: #7fbfbf\">           </span><span style=\"color: #000080\">INFO    </span> VALID AUC: <span style=\"color: #000080; font-weight: bold\">0.7803790970457636</span> VALID ACC: <span style=\"color: #000080; font-weight: bold\">0.707193515704154</span> <a href=\"file://../trainer.py\"><span style=\"color: #7f7f7f\">trainer.py</span></a><span style=\"color: #7f7f7f\">:427</span>\n",
       "                                                                                             \n",
       "</pre>\n"
      ],
      "text/plain": [
       "<rich.jupyter.JupyterRenderable at 0x7f1424e05be0>"
      ]
     },
     "metadata": {},
     "output_type": "display_data"
    },
    {
     "data": {
      "text/html": [
       "<pre style=\"white-space:pre;overflow-x:auto;line-height:normal;font-family:Menlo,'DejaVu Sans Mono',consolas,'Courier New',monospace\"><span style=\"color: #7fbfbf\">           </span><span style=\"color: #000080\">INFO    </span> EarlyStopping counter: <span style=\"color: #000080; font-weight: bold\">1</span>                                   <a href=\"file://../trainer.py\"><span style=\"color: #7f7f7f\">trainer.py</span></a><span style=\"color: #7f7f7f\">:435</span>\n",
       "</pre>\n"
      ],
      "text/plain": [
       "<rich.jupyter.JupyterRenderable at 0x7f1424e58ac0>"
      ]
     },
     "metadata": {},
     "output_type": "display_data"
    },
    {
     "data": {
      "text/html": [
       "<pre style=\"white-space:pre;overflow-x:auto;line-height:normal;font-family:Menlo,'DejaVu Sans Mono',consolas,'Courier New',monospace\"><span style=\"color: #7fbfbf\">           </span><span style=\"color: #000080\">INFO    </span> Start Training: Epoch <span style=\"color: #000080; font-weight: bold\">9</span>                                    <a href=\"file://../trainer.py\"><span style=\"color: #7f7f7f\">trainer.py</span></a><span style=\"color: #7f7f7f\">:409</span>\n",
       "</pre>\n"
      ],
      "text/plain": [
       "<rich.jupyter.JupyterRenderable at 0x7f1428142f70>"
      ]
     },
     "metadata": {},
     "output_type": "display_data"
    },
    {
     "name": "stdout",
     "output_type": "stream",
     "text": [
      "Training steps: 0 Loss: 0.5579469203948975\n",
      "Training steps: 50 Loss: 0.7009466290473938\n",
      "Training steps: 100 Loss: 0.5334693193435669\n",
      "Training steps: 150 Loss: 0.6028881072998047\n",
      "Training steps: 200 Loss: 0.5600790977478027\n",
      "VALID AUC : 0.7808572675239343 ACC : 0.7056737588652482\n",
      "\n"
     ]
    },
    {
     "data": {
      "text/html": [
       "<pre style=\"white-space:pre;overflow-x:auto;line-height:normal;font-family:Menlo,'DejaVu Sans Mono',consolas,'Courier New',monospace\"><span style=\"color: #7fbfbf\">[18:43:45] </span><span style=\"color: #000080\">INFO    </span> TRAIN_LOSS: <span style=\"color: #000080; font-weight: bold\">0.5695827007293701</span>                             <a href=\"file://../trainer.py\"><span style=\"color: #7f7f7f\">trainer.py</span></a><span style=\"color: #7f7f7f\">:425</span>\n",
       "</pre>\n"
      ],
      "text/plain": [
       "<rich.jupyter.JupyterRenderable at 0x7f1424eb0250>"
      ]
     },
     "metadata": {},
     "output_type": "display_data"
    },
    {
     "data": {
      "text/html": [
       "<pre style=\"white-space:pre;overflow-x:auto;line-height:normal;font-family:Menlo,'DejaVu Sans Mono',consolas,'Courier New',monospace\"><span style=\"color: #7fbfbf\">           </span><span style=\"color: #000080\">INFO    </span> TRAIN AUC: <span style=\"color: #000080; font-weight: bold\">0.7780710690527957</span> TRAIN ACC:                   <a href=\"file://../trainer.py\"><span style=\"color: #7f7f7f\">trainer.py</span></a><span style=\"color: #7f7f7f\">:426</span>\n",
       "                    <span style=\"color: #000080; font-weight: bold\">0.7057817744284719</span>                                                       \n",
       "</pre>\n"
      ],
      "text/plain": [
       "<rich.jupyter.JupyterRenderable at 0x7f1424ea5df0>"
      ]
     },
     "metadata": {},
     "output_type": "display_data"
    },
    {
     "data": {
      "text/html": [
       "<pre style=\"white-space:pre;overflow-x:auto;line-height:normal;font-family:Menlo,'DejaVu Sans Mono',consolas,'Courier New',monospace\"><span style=\"color: #7fbfbf\">           </span><span style=\"color: #000080\">INFO    </span> VALID AUC: <span style=\"color: #000080; font-weight: bold\">0.7808572675239343</span> VALID ACC:                   <a href=\"file://../trainer.py\"><span style=\"color: #7f7f7f\">trainer.py</span></a><span style=\"color: #7f7f7f\">:427</span>\n",
       "                    <span style=\"color: #000080; font-weight: bold\">0.7056737588652482</span>                                                       \n",
       "                                                                                             \n",
       "</pre>\n"
      ],
      "text/plain": [
       "<rich.jupyter.JupyterRenderable at 0x7f1424e08af0>"
      ]
     },
     "metadata": {},
     "output_type": "display_data"
    },
    {
     "data": {
      "text/html": [
       "<pre style=\"white-space:pre;overflow-x:auto;line-height:normal;font-family:Menlo,'DejaVu Sans Mono',consolas,'Courier New',monospace\"><span style=\"color: #7fbfbf\">           </span><span style=\"color: #000080\">INFO    </span> Start Training: Epoch <span style=\"color: #000080; font-weight: bold\">10</span>                                   <a href=\"file://../trainer.py\"><span style=\"color: #7f7f7f\">trainer.py</span></a><span style=\"color: #7f7f7f\">:409</span>\n",
       "</pre>\n"
      ],
      "text/plain": [
       "<rich.jupyter.JupyterRenderable at 0x7f14281d8070>"
      ]
     },
     "metadata": {},
     "output_type": "display_data"
    },
    {
     "name": "stdout",
     "output_type": "stream",
     "text": [
      "Training steps: 0 Loss: 0.5315427780151367\n",
      "Training steps: 50 Loss: 0.5700286626815796\n",
      "Training steps: 100 Loss: 0.5683374404907227\n",
      "Training steps: 150 Loss: 0.5644292831420898\n",
      "Training steps: 200 Loss: 0.5109124779701233\n",
      "VALID AUC : 0.780929775929776 ACC : 0.7064336372847011\n",
      "\n"
     ]
    },
    {
     "data": {
      "text/html": [
       "<pre style=\"white-space:pre;overflow-x:auto;line-height:normal;font-family:Menlo,'DejaVu Sans Mono',consolas,'Courier New',monospace\"><span style=\"color: #7fbfbf\">[18:43:49] </span><span style=\"color: #000080\">INFO    </span> TRAIN_LOSS: <span style=\"color: #000080; font-weight: bold\">0.5693972706794739</span>                             <a href=\"file://../trainer.py\"><span style=\"color: #7f7f7f\">trainer.py</span></a><span style=\"color: #7f7f7f\">:425</span>\n",
       "</pre>\n"
      ],
      "text/plain": [
       "<rich.jupyter.JupyterRenderable at 0x7f1428122dc0>"
      ]
     },
     "metadata": {},
     "output_type": "display_data"
    },
    {
     "data": {
      "text/html": [
       "<pre style=\"white-space:pre;overflow-x:auto;line-height:normal;font-family:Menlo,'DejaVu Sans Mono',consolas,'Courier New',monospace\"><span style=\"color: #7fbfbf\">           </span><span style=\"color: #000080\">INFO    </span> TRAIN AUC: <span style=\"color: #000080; font-weight: bold\">0.778032481896373</span> TRAIN ACC: <span style=\"color: #000080; font-weight: bold\">0.7062883921220948</span> <a href=\"file://../trainer.py\"><span style=\"color: #7f7f7f\">trainer.py</span></a><span style=\"color: #7f7f7f\">:426</span>\n",
       "</pre>\n"
      ],
      "text/plain": [
       "<rich.jupyter.JupyterRenderable at 0x7f1428122dc0>"
      ]
     },
     "metadata": {},
     "output_type": "display_data"
    },
    {
     "data": {
      "text/html": [
       "<pre style=\"white-space:pre;overflow-x:auto;line-height:normal;font-family:Menlo,'DejaVu Sans Mono',consolas,'Courier New',monospace\"><span style=\"color: #7fbfbf\">           </span><span style=\"color: #000080\">INFO    </span> VALID AUC: <span style=\"color: #000080; font-weight: bold\">0.780929775929776</span> VALID ACC: <span style=\"color: #000080; font-weight: bold\">0.7064336372847011</span> <a href=\"file://../trainer.py\"><span style=\"color: #7f7f7f\">trainer.py</span></a><span style=\"color: #7f7f7f\">:427</span>\n",
       "                                                                                             \n",
       "</pre>\n"
      ],
      "text/plain": [
       "<rich.jupyter.JupyterRenderable at 0x7f14281d85b0>"
      ]
     },
     "metadata": {},
     "output_type": "display_data"
    },
    {
     "data": {
      "text/html": [
       "<pre style=\"white-space:pre;overflow-x:auto;line-height:normal;font-family:Menlo,'DejaVu Sans Mono',consolas,'Courier New',monospace\"><span style=\"color: #7fbfbf\">           </span><span style=\"color: #000080\">INFO    </span> Start Training: Epoch <span style=\"color: #000080; font-weight: bold\">11</span>                                   <a href=\"file://../trainer.py\"><span style=\"color: #7f7f7f\">trainer.py</span></a><span style=\"color: #7f7f7f\">:409</span>\n",
       "</pre>\n"
      ],
      "text/plain": [
       "<rich.jupyter.JupyterRenderable at 0x7f1424e48b80>"
      ]
     },
     "metadata": {},
     "output_type": "display_data"
    },
    {
     "name": "stdout",
     "output_type": "stream",
     "text": [
      "Training steps: 0 Loss: 0.6239681243896484\n",
      "Training steps: 50 Loss: 0.498975932598114\n",
      "Training steps: 100 Loss: 0.5299121141433716\n",
      "Training steps: 150 Loss: 0.5797358751296997\n",
      "Training steps: 200 Loss: 0.6504656672477722\n",
      "VALID AUC : 0.7812376479043145 ACC : 0.7084599797365755\n",
      "\n"
     ]
    },
    {
     "data": {
      "text/html": [
       "<pre style=\"white-space:pre;overflow-x:auto;line-height:normal;font-family:Menlo,'DejaVu Sans Mono',consolas,'Courier New',monospace\"><span style=\"color: #7fbfbf\">[18:43:52] </span><span style=\"color: #000080\">INFO    </span> TRAIN_LOSS: <span style=\"color: #000080; font-weight: bold\">0.5689851641654968</span>                             <a href=\"file://../trainer.py\"><span style=\"color: #7f7f7f\">trainer.py</span></a><span style=\"color: #7f7f7f\">:425</span>\n",
       "</pre>\n"
      ],
      "text/plain": [
       "<rich.jupyter.JupyterRenderable at 0x7f1424ea5df0>"
      ]
     },
     "metadata": {},
     "output_type": "display_data"
    },
    {
     "data": {
      "text/html": [
       "<pre style=\"white-space:pre;overflow-x:auto;line-height:normal;font-family:Menlo,'DejaVu Sans Mono',consolas,'Courier New',monospace\"><span style=\"color: #7fbfbf\">           </span><span style=\"color: #000080\">INFO    </span> TRAIN AUC: <span style=\"color: #000080; font-weight: bold\">0.7781785337618763</span> TRAIN ACC:                   <a href=\"file://../trainer.py\"><span style=\"color: #7f7f7f\">trainer.py</span></a><span style=\"color: #7f7f7f\">:426</span>\n",
       "                    <span style=\"color: #000080; font-weight: bold\">0.7068583370274207</span>                                                       \n",
       "</pre>\n"
      ],
      "text/plain": [
       "<rich.jupyter.JupyterRenderable at 0x7f1424e9a040>"
      ]
     },
     "metadata": {},
     "output_type": "display_data"
    },
    {
     "data": {
      "text/html": [
       "<pre style=\"white-space:pre;overflow-x:auto;line-height:normal;font-family:Menlo,'DejaVu Sans Mono',consolas,'Courier New',monospace\"><span style=\"color: #7fbfbf\">           </span><span style=\"color: #000080\">INFO    </span> VALID AUC: <span style=\"color: #000080; font-weight: bold\">0.7812376479043145</span> VALID ACC:                   <a href=\"file://../trainer.py\"><span style=\"color: #7f7f7f\">trainer.py</span></a><span style=\"color: #7f7f7f\">:427</span>\n",
       "                    <span style=\"color: #000080; font-weight: bold\">0.7084599797365755</span>                                                       \n",
       "                                                                                             \n",
       "</pre>\n"
      ],
      "text/plain": [
       "<rich.jupyter.JupyterRenderable at 0x7f1428179610>"
      ]
     },
     "metadata": {},
     "output_type": "display_data"
    },
    {
     "data": {
      "text/html": [
       "<pre style=\"white-space:pre;overflow-x:auto;line-height:normal;font-family:Menlo,'DejaVu Sans Mono',consolas,'Courier New',monospace\"><span style=\"color: #7fbfbf\">           </span><span style=\"color: #000080\">INFO    </span> Start Training: Epoch <span style=\"color: #000080; font-weight: bold\">12</span>                                   <a href=\"file://../trainer.py\"><span style=\"color: #7f7f7f\">trainer.py</span></a><span style=\"color: #7f7f7f\">:409</span>\n",
       "</pre>\n"
      ],
      "text/plain": [
       "<rich.jupyter.JupyterRenderable at 0x7f1424ea7970>"
      ]
     },
     "metadata": {},
     "output_type": "display_data"
    },
    {
     "name": "stdout",
     "output_type": "stream",
     "text": [
      "Training steps: 0 Loss: 0.6751903891563416\n",
      "Training steps: 50 Loss: 0.5430334806442261\n",
      "Training steps: 100 Loss: 0.557906985282898\n",
      "Training steps: 150 Loss: 0.5701483488082886\n",
      "Training steps: 200 Loss: 0.6118913888931274\n",
      "VALID AUC : 0.7815577115577115 ACC : 0.7084599797365755\n",
      "\n"
     ]
    },
    {
     "data": {
      "text/html": [
       "<pre style=\"white-space:pre;overflow-x:auto;line-height:normal;font-family:Menlo,'DejaVu Sans Mono',consolas,'Courier New',monospace\"><span style=\"color: #7fbfbf\">[18:43:55] </span><span style=\"color: #000080\">INFO    </span> TRAIN_LOSS: <span style=\"color: #000080; font-weight: bold\">0.5686894059181213</span>                             <a href=\"file://../trainer.py\"><span style=\"color: #7f7f7f\">trainer.py</span></a><span style=\"color: #7f7f7f\">:425</span>\n",
       "</pre>\n"
      ],
      "text/plain": [
       "<rich.jupyter.JupyterRenderable at 0x7f1424e05910>"
      ]
     },
     "metadata": {},
     "output_type": "display_data"
    },
    {
     "data": {
      "text/html": [
       "<pre style=\"white-space:pre;overflow-x:auto;line-height:normal;font-family:Menlo,'DejaVu Sans Mono',consolas,'Courier New',monospace\"><span style=\"color: #7fbfbf\">           </span><span style=\"color: #000080\">INFO    </span> TRAIN AUC: <span style=\"color: #000080; font-weight: bold\">0.778169924067794</span> TRAIN ACC: <span style=\"color: #000080; font-weight: bold\">0.7062883921220948</span> <a href=\"file://../trainer.py\"><span style=\"color: #7f7f7f\">trainer.py</span></a><span style=\"color: #7f7f7f\">:426</span>\n",
       "</pre>\n"
      ],
      "text/plain": [
       "<rich.jupyter.JupyterRenderable at 0x7f1428142d30>"
      ]
     },
     "metadata": {},
     "output_type": "display_data"
    },
    {
     "data": {
      "text/html": [
       "<pre style=\"white-space:pre;overflow-x:auto;line-height:normal;font-family:Menlo,'DejaVu Sans Mono',consolas,'Courier New',monospace\"><span style=\"color: #7fbfbf\">           </span><span style=\"color: #000080\">INFO    </span> VALID AUC: <span style=\"color: #000080; font-weight: bold\">0.7815577115577115</span> VALID ACC:                   <a href=\"file://../trainer.py\"><span style=\"color: #7f7f7f\">trainer.py</span></a><span style=\"color: #7f7f7f\">:427</span>\n",
       "                    <span style=\"color: #000080; font-weight: bold\">0.7084599797365755</span>                                                       \n",
       "                                                                                             \n",
       "</pre>\n"
      ],
      "text/plain": [
       "<rich.jupyter.JupyterRenderable at 0x7f1424ea7970>"
      ]
     },
     "metadata": {},
     "output_type": "display_data"
    },
    {
     "data": {
      "text/html": [
       "<pre style=\"white-space:pre;overflow-x:auto;line-height:normal;font-family:Menlo,'DejaVu Sans Mono',consolas,'Courier New',monospace\"><span style=\"color: #7fbfbf\">           </span><span style=\"color: #000080\">INFO    </span> Start Training: Epoch <span style=\"color: #000080; font-weight: bold\">13</span>                                   <a href=\"file://../trainer.py\"><span style=\"color: #7f7f7f\">trainer.py</span></a><span style=\"color: #7f7f7f\">:409</span>\n",
       "</pre>\n"
      ],
      "text/plain": [
       "<rich.jupyter.JupyterRenderable at 0x7f1428142d60>"
      ]
     },
     "metadata": {},
     "output_type": "display_data"
    },
    {
     "name": "stdout",
     "output_type": "stream",
     "text": [
      "Training steps: 0 Loss: 0.47606104612350464\n",
      "Training steps: 50 Loss: 0.532028079032898\n",
      "Training steps: 100 Loss: 0.6461909413337708\n",
      "Training steps: 150 Loss: 0.6396211385726929\n",
      "Training steps: 200 Loss: 0.5513244867324829\n",
      "VALID AUC : 0.781679628346295 ACC : 0.709726443768997\n",
      "\n"
     ]
    },
    {
     "data": {
      "text/html": [
       "<pre style=\"white-space:pre;overflow-x:auto;line-height:normal;font-family:Menlo,'DejaVu Sans Mono',consolas,'Courier New',monospace\"><span style=\"color: #7fbfbf\">[18:43:59] </span><span style=\"color: #000080\">INFO    </span> TRAIN_LOSS: <span style=\"color: #000080; font-weight: bold\">0.5685197114944458</span>                             <a href=\"file://../trainer.py\"><span style=\"color: #7f7f7f\">trainer.py</span></a><span style=\"color: #7f7f7f\">:425</span>\n",
       "</pre>\n"
      ],
      "text/plain": [
       "<rich.jupyter.JupyterRenderable at 0x7f1424ead7c0>"
      ]
     },
     "metadata": {},
     "output_type": "display_data"
    },
    {
     "data": {
      "text/html": [
       "<pre style=\"white-space:pre;overflow-x:auto;line-height:normal;font-family:Menlo,'DejaVu Sans Mono',consolas,'Courier New',monospace\"><span style=\"color: #7fbfbf\">           </span><span style=\"color: #000080\">INFO    </span> TRAIN AUC: <span style=\"color: #000080; font-weight: bold\">0.7784540279246159</span> TRAIN ACC:                   <a href=\"file://../trainer.py\"><span style=\"color: #7f7f7f\">trainer.py</span></a><span style=\"color: #7f7f7f\">:426</span>\n",
       "                    <span style=\"color: #000080; font-weight: bold\">0.7059717560635805</span>                                                       \n",
       "</pre>\n"
      ],
      "text/plain": [
       "<rich.jupyter.JupyterRenderable at 0x7f14281223d0>"
      ]
     },
     "metadata": {},
     "output_type": "display_data"
    },
    {
     "data": {
      "text/html": [
       "<pre style=\"white-space:pre;overflow-x:auto;line-height:normal;font-family:Menlo,'DejaVu Sans Mono',consolas,'Courier New',monospace\"><span style=\"color: #7fbfbf\">           </span><span style=\"color: #000080\">INFO    </span> VALID AUC: <span style=\"color: #000080; font-weight: bold\">0.781679628346295</span> VALID ACC: <span style=\"color: #000080; font-weight: bold\">0.709726443768997</span>  <a href=\"file://../trainer.py\"><span style=\"color: #7f7f7f\">trainer.py</span></a><span style=\"color: #7f7f7f\">:427</span>\n",
       "                                                                                             \n",
       "</pre>\n"
      ],
      "text/plain": [
       "<rich.jupyter.JupyterRenderable at 0x7f1428165250>"
      ]
     },
     "metadata": {},
     "output_type": "display_data"
    },
    {
     "data": {
      "text/html": [
       "<pre style=\"white-space:pre;overflow-x:auto;line-height:normal;font-family:Menlo,'DejaVu Sans Mono',consolas,'Courier New',monospace\"><span style=\"color: #7fbfbf\">           </span><span style=\"color: #000080\">INFO    </span> Start Training: Epoch <span style=\"color: #000080; font-weight: bold\">14</span>                                   <a href=\"file://../trainer.py\"><span style=\"color: #7f7f7f\">trainer.py</span></a><span style=\"color: #7f7f7f\">:409</span>\n",
       "</pre>\n"
      ],
      "text/plain": [
       "<rich.jupyter.JupyterRenderable at 0x7f14281a6670>"
      ]
     },
     "metadata": {},
     "output_type": "display_data"
    },
    {
     "name": "stdout",
     "output_type": "stream",
     "text": [
      "Training steps: 0 Loss: 0.5391976833343506\n",
      "Training steps: 50 Loss: 0.5091882348060608\n",
      "Training steps: 100 Loss: 0.5459716320037842\n",
      "Training steps: 150 Loss: 0.6477074027061462\n",
      "Training steps: 200 Loss: 0.5940631628036499\n",
      "VALID AUC : 0.7815030415030415 ACC : 0.709726443768997\n",
      "\n"
     ]
    },
    {
     "data": {
      "text/html": [
       "<pre style=\"white-space:pre;overflow-x:auto;line-height:normal;font-family:Menlo,'DejaVu Sans Mono',consolas,'Courier New',monospace\"><span style=\"color: #7fbfbf\">[18:44:02] </span><span style=\"color: #000080\">INFO    </span> TRAIN_LOSS: <span style=\"color: #000080; font-weight: bold\">0.5685644149780273</span>                             <a href=\"file://../trainer.py\"><span style=\"color: #7f7f7f\">trainer.py</span></a><span style=\"color: #7f7f7f\">:425</span>\n",
       "</pre>\n"
      ],
      "text/plain": [
       "<rich.jupyter.JupyterRenderable at 0x7f1424e48b80>"
      ]
     },
     "metadata": {},
     "output_type": "display_data"
    },
    {
     "data": {
      "text/html": [
       "<pre style=\"white-space:pre;overflow-x:auto;line-height:normal;font-family:Menlo,'DejaVu Sans Mono',consolas,'Courier New',monospace\"><span style=\"color: #7fbfbf\">           </span><span style=\"color: #000080\">INFO    </span> TRAIN AUC: <span style=\"color: #000080; font-weight: bold\">0.7782327114454208</span> TRAIN ACC:                   <a href=\"file://../trainer.py\"><span style=\"color: #7f7f7f\">trainer.py</span></a><span style=\"color: #7f7f7f\">:426</span>\n",
       "                    <span style=\"color: #000080; font-weight: bold\">0.7063517193337977</span>                                                       \n",
       "</pre>\n"
      ],
      "text/plain": [
       "<rich.jupyter.JupyterRenderable at 0x7f14281b76a0>"
      ]
     },
     "metadata": {},
     "output_type": "display_data"
    },
    {
     "data": {
      "text/html": [
       "<pre style=\"white-space:pre;overflow-x:auto;line-height:normal;font-family:Menlo,'DejaVu Sans Mono',consolas,'Courier New',monospace\"><span style=\"color: #7fbfbf\">           </span><span style=\"color: #000080\">INFO    </span> VALID AUC: <span style=\"color: #000080; font-weight: bold\">0.7815030415030415</span> VALID ACC: <span style=\"color: #000080; font-weight: bold\">0.709726443768997</span> <a href=\"file://../trainer.py\"><span style=\"color: #7f7f7f\">trainer.py</span></a><span style=\"color: #7f7f7f\">:427</span>\n",
       "                                                                                             \n",
       "</pre>\n"
      ],
      "text/plain": [
       "<rich.jupyter.JupyterRenderable at 0x7f14281b7fd0>"
      ]
     },
     "metadata": {},
     "output_type": "display_data"
    },
    {
     "data": {
      "text/html": [
       "<pre style=\"white-space:pre;overflow-x:auto;line-height:normal;font-family:Menlo,'DejaVu Sans Mono',consolas,'Courier New',monospace\"><span style=\"color: #7fbfbf\">           </span><span style=\"color: #000080\">INFO    </span> EarlyStopping counter: <span style=\"color: #000080; font-weight: bold\">1</span>                                   <a href=\"file://../trainer.py\"><span style=\"color: #7f7f7f\">trainer.py</span></a><span style=\"color: #7f7f7f\">:435</span>\n",
       "</pre>\n"
      ],
      "text/plain": [
       "<rich.jupyter.JupyterRenderable at 0x7f1424ea5a30>"
      ]
     },
     "metadata": {},
     "output_type": "display_data"
    },
    {
     "data": {
      "text/html": [
       "<pre style=\"white-space:pre;overflow-x:auto;line-height:normal;font-family:Menlo,'DejaVu Sans Mono',consolas,'Courier New',monospace\"><span style=\"color: #7fbfbf\">           </span><span style=\"color: #000080\">INFO    </span> Start Training: Epoch <span style=\"color: #000080; font-weight: bold\">15</span>                                   <a href=\"file://../trainer.py\"><span style=\"color: #7f7f7f\">trainer.py</span></a><span style=\"color: #7f7f7f\">:409</span>\n",
       "</pre>\n"
      ],
      "text/plain": [
       "<rich.jupyter.JupyterRenderable at 0x7f1424e71190>"
      ]
     },
     "metadata": {},
     "output_type": "display_data"
    },
    {
     "name": "stdout",
     "output_type": "stream",
     "text": [
      "Training steps: 0 Loss: 0.5677794814109802\n",
      "Training steps: 50 Loss: 0.5531822443008423\n",
      "Training steps: 100 Loss: 0.5832763314247131\n",
      "Training steps: 150 Loss: 0.5656651854515076\n",
      "Training steps: 200 Loss: 0.4762006402015686\n",
      "VALID AUC : 0.7813729113729113 ACC : 0.7069402228976697\n",
      "\n"
     ]
    },
    {
     "data": {
      "text/html": [
       "<pre style=\"white-space:pre;overflow-x:auto;line-height:normal;font-family:Menlo,'DejaVu Sans Mono',consolas,'Courier New',monospace\"><span style=\"color: #7fbfbf\">[18:44:05] </span><span style=\"color: #000080\">INFO    </span> TRAIN_LOSS: <span style=\"color: #000080; font-weight: bold\">0.568176805973053</span>                              <a href=\"file://../trainer.py\"><span style=\"color: #7f7f7f\">trainer.py</span></a><span style=\"color: #7f7f7f\">:425</span>\n",
       "</pre>\n"
      ],
      "text/plain": [
       "<rich.jupyter.JupyterRenderable at 0x7f1424e08af0>"
      ]
     },
     "metadata": {},
     "output_type": "display_data"
    },
    {
     "data": {
      "text/html": [
       "<pre style=\"white-space:pre;overflow-x:auto;line-height:normal;font-family:Menlo,'DejaVu Sans Mono',consolas,'Courier New',monospace\"><span style=\"color: #7fbfbf\">           </span><span style=\"color: #000080\">INFO    </span> TRAIN AUC: <span style=\"color: #000080; font-weight: bold\">0.7785621826930544</span> TRAIN ACC:                   <a href=\"file://../trainer.py\"><span style=\"color: #7f7f7f\">trainer.py</span></a><span style=\"color: #7f7f7f\">:426</span>\n",
       "                    <span style=\"color: #000080; font-weight: bold\">0.7062250649103919</span>                                                       \n",
       "</pre>\n"
      ],
      "text/plain": [
       "<rich.jupyter.JupyterRenderable at 0x7f1424ea5df0>"
      ]
     },
     "metadata": {},
     "output_type": "display_data"
    },
    {
     "data": {
      "text/html": [
       "<pre style=\"white-space:pre;overflow-x:auto;line-height:normal;font-family:Menlo,'DejaVu Sans Mono',consolas,'Courier New',monospace\"><span style=\"color: #7fbfbf\">           </span><span style=\"color: #000080\">INFO    </span> VALID AUC: <span style=\"color: #000080; font-weight: bold\">0.7813729113729113</span> VALID ACC:                   <a href=\"file://../trainer.py\"><span style=\"color: #7f7f7f\">trainer.py</span></a><span style=\"color: #7f7f7f\">:427</span>\n",
       "                    <span style=\"color: #000080; font-weight: bold\">0.7069402228976697</span>                                                       \n",
       "                                                                                             \n",
       "</pre>\n"
      ],
      "text/plain": [
       "<rich.jupyter.JupyterRenderable at 0x7f1424ea5a60>"
      ]
     },
     "metadata": {},
     "output_type": "display_data"
    },
    {
     "data": {
      "text/html": [
       "<pre style=\"white-space:pre;overflow-x:auto;line-height:normal;font-family:Menlo,'DejaVu Sans Mono',consolas,'Courier New',monospace\"><span style=\"color: #7fbfbf\">           </span><span style=\"color: #000080\">INFO    </span> EarlyStopping counter: <span style=\"color: #000080; font-weight: bold\">2</span>                                   <a href=\"file://../trainer.py\"><span style=\"color: #7f7f7f\">trainer.py</span></a><span style=\"color: #7f7f7f\">:435</span>\n",
       "</pre>\n"
      ],
      "text/plain": [
       "<rich.jupyter.JupyterRenderable at 0x7f1424ea7970>"
      ]
     },
     "metadata": {},
     "output_type": "display_data"
    },
    {
     "data": {
      "text/html": [
       "<pre style=\"white-space:pre;overflow-x:auto;line-height:normal;font-family:Menlo,'DejaVu Sans Mono',consolas,'Courier New',monospace\"><span style=\"color: #7fbfbf\">           </span><span style=\"color: #000080\">INFO    </span> Start Training: Epoch <span style=\"color: #000080; font-weight: bold\">16</span>                                   <a href=\"file://../trainer.py\"><span style=\"color: #7f7f7f\">trainer.py</span></a><span style=\"color: #7f7f7f\">:409</span>\n",
       "</pre>\n"
      ],
      "text/plain": [
       "<rich.jupyter.JupyterRenderable at 0x7f1424ead7c0>"
      ]
     },
     "metadata": {},
     "output_type": "display_data"
    },
    {
     "name": "stdout",
     "output_type": "stream",
     "text": [
      "Training steps: 0 Loss: 0.5679396390914917\n",
      "Training steps: 50 Loss: 0.6185888051986694\n",
      "Training steps: 100 Loss: 0.5699814558029175\n",
      "Training steps: 150 Loss: 0.6075723171234131\n",
      "Training steps: 200 Loss: 0.5444631576538086\n",
      "VALID AUC : 0.7815008598341932 ACC : 0.7092198581560284\n",
      "\n"
     ]
    },
    {
     "data": {
      "text/html": [
       "<pre style=\"white-space:pre;overflow-x:auto;line-height:normal;font-family:Menlo,'DejaVu Sans Mono',consolas,'Courier New',monospace\"><span style=\"color: #7fbfbf\">[18:44:08] </span><span style=\"color: #000080\">INFO    </span> TRAIN_LOSS: <span style=\"color: #000080; font-weight: bold\">0.5683169960975647</span>                             <a href=\"file://../trainer.py\"><span style=\"color: #7f7f7f\">trainer.py</span></a><span style=\"color: #7f7f7f\">:425</span>\n",
       "</pre>\n"
      ],
      "text/plain": [
       "<rich.jupyter.JupyterRenderable at 0x7f14281a6460>"
      ]
     },
     "metadata": {},
     "output_type": "display_data"
    },
    {
     "data": {
      "text/html": [
       "<pre style=\"white-space:pre;overflow-x:auto;line-height:normal;font-family:Menlo,'DejaVu Sans Mono',consolas,'Courier New',monospace\"><span style=\"color: #7fbfbf\">           </span><span style=\"color: #000080\">INFO    </span> TRAIN AUC: <span style=\"color: #000080; font-weight: bold\">0.7784697388109283</span> TRAIN ACC:                   <a href=\"file://../trainer.py\"><span style=\"color: #7f7f7f\">trainer.py</span></a><span style=\"color: #7f7f7f\">:426</span>\n",
       "                    <span style=\"color: #000080; font-weight: bold\">0.7055917927933633</span>                                                       \n",
       "</pre>\n"
      ],
      "text/plain": [
       "<rich.jupyter.JupyterRenderable at 0x7f1428142d30>"
      ]
     },
     "metadata": {},
     "output_type": "display_data"
    },
    {
     "data": {
      "text/html": [
       "<pre style=\"white-space:pre;overflow-x:auto;line-height:normal;font-family:Menlo,'DejaVu Sans Mono',consolas,'Courier New',monospace\"><span style=\"color: #7fbfbf\">           </span><span style=\"color: #000080\">INFO    </span> VALID AUC: <span style=\"color: #000080; font-weight: bold\">0.7815008598341932</span> VALID ACC:                   <a href=\"file://../trainer.py\"><span style=\"color: #7f7f7f\">trainer.py</span></a><span style=\"color: #7f7f7f\">:427</span>\n",
       "                    <span style=\"color: #000080; font-weight: bold\">0.7092198581560284</span>                                                       \n",
       "                                                                                             \n",
       "</pre>\n"
      ],
      "text/plain": [
       "<rich.jupyter.JupyterRenderable at 0x7f14281912e0>"
      ]
     },
     "metadata": {},
     "output_type": "display_data"
    },
    {
     "data": {
      "text/html": [
       "<pre style=\"white-space:pre;overflow-x:auto;line-height:normal;font-family:Menlo,'DejaVu Sans Mono',consolas,'Courier New',monospace\"><span style=\"color: #7fbfbf\">           </span><span style=\"color: #000080\">INFO    </span> EarlyStopping counter: <span style=\"color: #000080; font-weight: bold\">3</span>                                   <a href=\"file://../trainer.py\"><span style=\"color: #7f7f7f\">trainer.py</span></a><span style=\"color: #7f7f7f\">:435</span>\n",
       "</pre>\n"
      ],
      "text/plain": [
       "<rich.jupyter.JupyterRenderable at 0x7f14281b76a0>"
      ]
     },
     "metadata": {},
     "output_type": "display_data"
    },
    {
     "data": {
      "text/html": [
       "<pre style=\"white-space:pre;overflow-x:auto;line-height:normal;font-family:Menlo,'DejaVu Sans Mono',consolas,'Courier New',monospace\"><span style=\"color: #7fbfbf\">           </span><span style=\"color: #000080\">INFO    </span> Start Training: Epoch <span style=\"color: #000080; font-weight: bold\">17</span>                                   <a href=\"file://../trainer.py\"><span style=\"color: #7f7f7f\">trainer.py</span></a><span style=\"color: #7f7f7f\">:409</span>\n",
       "</pre>\n"
      ],
      "text/plain": [
       "<rich.jupyter.JupyterRenderable at 0x7f1424ea5a60>"
      ]
     },
     "metadata": {},
     "output_type": "display_data"
    },
    {
     "name": "stdout",
     "output_type": "stream",
     "text": [
      "Training steps: 0 Loss: 0.5198460817337036\n",
      "Training steps: 50 Loss: 0.5156384706497192\n",
      "Training steps: 100 Loss: 0.47411543130874634\n",
      "Training steps: 150 Loss: 0.5467678904533386\n",
      "Training steps: 200 Loss: 0.5876615643501282\n",
      "VALID AUC : 0.7818790585457253 ACC : 0.7092198581560284\n",
      "\n"
     ]
    },
    {
     "data": {
      "text/html": [
       "<pre style=\"white-space:pre;overflow-x:auto;line-height:normal;font-family:Menlo,'DejaVu Sans Mono',consolas,'Courier New',monospace\"><span style=\"color: #7fbfbf\">[18:44:11] </span><span style=\"color: #000080\">INFO    </span> TRAIN_LOSS: <span style=\"color: #000080; font-weight: bold\">0.5681443810462952</span>                             <a href=\"file://../trainer.py\"><span style=\"color: #7f7f7f\">trainer.py</span></a><span style=\"color: #7f7f7f\">:425</span>\n",
       "</pre>\n"
      ],
      "text/plain": [
       "<rich.jupyter.JupyterRenderable at 0x7f1424ea5df0>"
      ]
     },
     "metadata": {},
     "output_type": "display_data"
    },
    {
     "data": {
      "text/html": [
       "<pre style=\"white-space:pre;overflow-x:auto;line-height:normal;font-family:Menlo,'DejaVu Sans Mono',consolas,'Courier New',monospace\"><span style=\"color: #7fbfbf\">           </span><span style=\"color: #000080\">INFO    </span> TRAIN AUC: <span style=\"color: #000080; font-weight: bold\">0.7785082296799987</span> TRAIN ACC:                   <a href=\"file://../trainer.py\"><span style=\"color: #7f7f7f\">trainer.py</span></a><span style=\"color: #7f7f7f\">:426</span>\n",
       "                    <span style=\"color: #000080; font-weight: bold\">0.7065417009689063</span>                                                       \n",
       "</pre>\n"
      ],
      "text/plain": [
       "<rich.jupyter.JupyterRenderable at 0x7f14281b77f0>"
      ]
     },
     "metadata": {},
     "output_type": "display_data"
    },
    {
     "data": {
      "text/html": [
       "<pre style=\"white-space:pre;overflow-x:auto;line-height:normal;font-family:Menlo,'DejaVu Sans Mono',consolas,'Courier New',monospace\"><span style=\"color: #7fbfbf\">           </span><span style=\"color: #000080\">INFO    </span> VALID AUC: <span style=\"color: #000080; font-weight: bold\">0.7818790585457253</span> VALID ACC:                   <a href=\"file://../trainer.py\"><span style=\"color: #7f7f7f\">trainer.py</span></a><span style=\"color: #7f7f7f\">:427</span>\n",
       "                    <span style=\"color: #000080; font-weight: bold\">0.7092198581560284</span>                                                       \n",
       "                                                                                             \n",
       "</pre>\n"
      ],
      "text/plain": [
       "<rich.jupyter.JupyterRenderable at 0x7f1424e58460>"
      ]
     },
     "metadata": {},
     "output_type": "display_data"
    },
    {
     "data": {
      "text/html": [
       "<pre style=\"white-space:pre;overflow-x:auto;line-height:normal;font-family:Menlo,'DejaVu Sans Mono',consolas,'Courier New',monospace\"><span style=\"color: #7fbfbf\">           </span><span style=\"color: #000080\">INFO    </span> Start Training: Epoch <span style=\"color: #000080; font-weight: bold\">18</span>                                   <a href=\"file://../trainer.py\"><span style=\"color: #7f7f7f\">trainer.py</span></a><span style=\"color: #7f7f7f\">:409</span>\n",
       "</pre>\n"
      ],
      "text/plain": [
       "<rich.jupyter.JupyterRenderable at 0x7f14281b77f0>"
      ]
     },
     "metadata": {},
     "output_type": "display_data"
    },
    {
     "name": "stdout",
     "output_type": "stream",
     "text": [
      "Training steps: 0 Loss: 0.5343640446662903\n",
      "Training steps: 50 Loss: 0.46798259019851685\n",
      "Training steps: 100 Loss: 0.6384103298187256\n",
      "Training steps: 150 Loss: 0.5551512837409973\n",
      "Training steps: 200 Loss: 0.5439321994781494\n",
      "VALID AUC : 0.7818849618849619 ACC : 0.7087132725430598\n",
      "\n"
     ]
    },
    {
     "data": {
      "text/html": [
       "<pre style=\"white-space:pre;overflow-x:auto;line-height:normal;font-family:Menlo,'DejaVu Sans Mono',consolas,'Courier New',monospace\"><span style=\"color: #7fbfbf\">[18:44:15] </span><span style=\"color: #000080\">INFO    </span> TRAIN_LOSS: <span style=\"color: #000080; font-weight: bold\">0.5681572556495667</span>                             <a href=\"file://../trainer.py\"><span style=\"color: #7f7f7f\">trainer.py</span></a><span style=\"color: #7f7f7f\">:425</span>\n",
       "</pre>\n"
      ],
      "text/plain": [
       "<rich.jupyter.JupyterRenderable at 0x7f1428142d30>"
      ]
     },
     "metadata": {},
     "output_type": "display_data"
    },
    {
     "data": {
      "text/html": [
       "<pre style=\"white-space:pre;overflow-x:auto;line-height:normal;font-family:Menlo,'DejaVu Sans Mono',consolas,'Courier New',monospace\"><span style=\"color: #7fbfbf\">           </span><span style=\"color: #000080\">INFO    </span> TRAIN AUC: <span style=\"color: #000080; font-weight: bold\">0.7782817698514028</span> TRAIN ACC:                   <a href=\"file://../trainer.py\"><span style=\"color: #7f7f7f\">trainer.py</span></a><span style=\"color: #7f7f7f\">:426</span>\n",
       "                    <span style=\"color: #000080; font-weight: bold\">0.7062250649103919</span>                                                       \n",
       "</pre>\n"
      ],
      "text/plain": [
       "<rich.jupyter.JupyterRenderable at 0x7f1424ead700>"
      ]
     },
     "metadata": {},
     "output_type": "display_data"
    },
    {
     "data": {
      "text/html": [
       "<pre style=\"white-space:pre;overflow-x:auto;line-height:normal;font-family:Menlo,'DejaVu Sans Mono',consolas,'Courier New',monospace\"><span style=\"color: #7fbfbf\">           </span><span style=\"color: #000080\">INFO    </span> VALID AUC: <span style=\"color: #000080; font-weight: bold\">0.7818849618849619</span> VALID ACC:                   <a href=\"file://../trainer.py\"><span style=\"color: #7f7f7f\">trainer.py</span></a><span style=\"color: #7f7f7f\">:427</span>\n",
       "                    <span style=\"color: #000080; font-weight: bold\">0.7087132725430598</span>                                                       \n",
       "                                                                                             \n",
       "</pre>\n"
      ],
      "text/plain": [
       "<rich.jupyter.JupyterRenderable at 0x7f1424e08be0>"
      ]
     },
     "metadata": {},
     "output_type": "display_data"
    },
    {
     "data": {
      "text/html": [
       "<pre style=\"white-space:pre;overflow-x:auto;line-height:normal;font-family:Menlo,'DejaVu Sans Mono',consolas,'Courier New',monospace\"><span style=\"color: #7fbfbf\">           </span><span style=\"color: #000080\">INFO    </span> Start Training: Epoch <span style=\"color: #000080; font-weight: bold\">19</span>                                   <a href=\"file://../trainer.py\"><span style=\"color: #7f7f7f\">trainer.py</span></a><span style=\"color: #7f7f7f\">:409</span>\n",
       "</pre>\n"
      ],
      "text/plain": [
       "<rich.jupyter.JupyterRenderable at 0x7f1424ea5520>"
      ]
     },
     "metadata": {},
     "output_type": "display_data"
    },
    {
     "name": "stdout",
     "output_type": "stream",
     "text": [
      "Training steps: 0 Loss: 0.539951503276825\n",
      "Training steps: 50 Loss: 0.6227497458457947\n",
      "Training steps: 100 Loss: 0.5046347379684448\n",
      "Training steps: 150 Loss: 0.5611745119094849\n",
      "Training steps: 200 Loss: 0.574172854423523\n",
      "VALID AUC : 0.7817851184517851 ACC : 0.7102330293819655\n",
      "\n"
     ]
    },
    {
     "data": {
      "text/html": [
       "<pre style=\"white-space:pre;overflow-x:auto;line-height:normal;font-family:Menlo,'DejaVu Sans Mono',consolas,'Courier New',monospace\"><span style=\"color: #7fbfbf\">[18:44:18] </span><span style=\"color: #000080\">INFO    </span> TRAIN_LOSS: <span style=\"color: #000080; font-weight: bold\">0.5679699778556824</span>                             <a href=\"file://../trainer.py\"><span style=\"color: #7f7f7f\">trainer.py</span></a><span style=\"color: #7f7f7f\">:425</span>\n",
       "</pre>\n"
      ],
      "text/plain": [
       "<rich.jupyter.JupyterRenderable at 0x7f1424e05910>"
      ]
     },
     "metadata": {},
     "output_type": "display_data"
    },
    {
     "data": {
      "text/html": [
       "<pre style=\"white-space:pre;overflow-x:auto;line-height:normal;font-family:Menlo,'DejaVu Sans Mono',consolas,'Courier New',monospace\"><span style=\"color: #7fbfbf\">           </span><span style=\"color: #000080\">INFO    </span> TRAIN AUC: <span style=\"color: #000080; font-weight: bold\">0.7782586608868578</span> TRAIN ACC:                   <a href=\"file://../trainer.py\"><span style=\"color: #7f7f7f\">trainer.py</span></a><span style=\"color: #7f7f7f\">:426</span>\n",
       "                    <span style=\"color: #000080; font-weight: bold\">0.7076182635678551</span>                                                       \n",
       "</pre>\n"
      ],
      "text/plain": [
       "<rich.jupyter.JupyterRenderable at 0x7f1424ead700>"
      ]
     },
     "metadata": {},
     "output_type": "display_data"
    },
    {
     "data": {
      "text/html": [
       "<pre style=\"white-space:pre;overflow-x:auto;line-height:normal;font-family:Menlo,'DejaVu Sans Mono',consolas,'Courier New',monospace\"><span style=\"color: #7fbfbf\">           </span><span style=\"color: #000080\">INFO    </span> VALID AUC: <span style=\"color: #000080; font-weight: bold\">0.7817851184517851</span> VALID ACC:                   <a href=\"file://../trainer.py\"><span style=\"color: #7f7f7f\">trainer.py</span></a><span style=\"color: #7f7f7f\">:427</span>\n",
       "                    <span style=\"color: #000080; font-weight: bold\">0.7102330293819655</span>                                                       \n",
       "                                                                                             \n",
       "</pre>\n"
      ],
      "text/plain": [
       "<rich.jupyter.JupyterRenderable at 0x7f1424ea7640>"
      ]
     },
     "metadata": {},
     "output_type": "display_data"
    },
    {
     "data": {
      "text/html": [
       "<pre style=\"white-space:pre;overflow-x:auto;line-height:normal;font-family:Menlo,'DejaVu Sans Mono',consolas,'Courier New',monospace\"><span style=\"color: #7fbfbf\">           </span><span style=\"color: #000080\">INFO    </span> EarlyStopping counter: <span style=\"color: #000080; font-weight: bold\">1</span>                                   <a href=\"file://../trainer.py\"><span style=\"color: #7f7f7f\">trainer.py</span></a><span style=\"color: #7f7f7f\">:435</span>\n",
       "</pre>\n"
      ],
      "text/plain": [
       "<rich.jupyter.JupyterRenderable at 0x7f1424ea8040>"
      ]
     },
     "metadata": {},
     "output_type": "display_data"
    },
    {
     "data": {
      "text/html": [
       "<pre style=\"white-space:pre;overflow-x:auto;line-height:normal;font-family:Menlo,'DejaVu Sans Mono',consolas,'Courier New',monospace\"><span style=\"color: #7fbfbf\">           </span><span style=\"color: #000080\">INFO    </span> Start Training: Epoch <span style=\"color: #000080; font-weight: bold\">20</span>                                   <a href=\"file://../trainer.py\"><span style=\"color: #7f7f7f\">trainer.py</span></a><span style=\"color: #7f7f7f\">:409</span>\n",
       "</pre>\n"
      ],
      "text/plain": [
       "<rich.jupyter.JupyterRenderable at 0x7f14281a6070>"
      ]
     },
     "metadata": {},
     "output_type": "display_data"
    },
    {
     "name": "stdout",
     "output_type": "stream",
     "text": [
      "Training steps: 0 Loss: 0.5218226909637451\n",
      "Training steps: 50 Loss: 0.5474698543548584\n",
      "Training steps: 100 Loss: 0.5759352445602417\n",
      "Training steps: 150 Loss: 0.4847087562084198\n",
      "Training steps: 200 Loss: 0.5448772311210632\n",
      "VALID AUC : 0.781705038371705 ACC : 0.7079533941236069\n",
      "\n"
     ]
    },
    {
     "data": {
      "text/html": [
       "<pre style=\"white-space:pre;overflow-x:auto;line-height:normal;font-family:Menlo,'DejaVu Sans Mono',consolas,'Courier New',monospace\"><span style=\"color: #7fbfbf\">[18:44:22] </span><span style=\"color: #000080\">INFO    </span> TRAIN_LOSS: <span style=\"color: #000080; font-weight: bold\">0.5683064460754395</span>                             <a href=\"file://../trainer.py\"><span style=\"color: #7f7f7f\">trainer.py</span></a><span style=\"color: #7f7f7f\">:425</span>\n",
       "</pre>\n"
      ],
      "text/plain": [
       "<rich.jupyter.JupyterRenderable at 0x7f14281223d0>"
      ]
     },
     "metadata": {},
     "output_type": "display_data"
    },
    {
     "data": {
      "text/html": [
       "<pre style=\"white-space:pre;overflow-x:auto;line-height:normal;font-family:Menlo,'DejaVu Sans Mono',consolas,'Courier New',monospace\"><span style=\"color: #7fbfbf\">           </span><span style=\"color: #000080\">INFO    </span> TRAIN AUC: <span style=\"color: #000080; font-weight: bold\">0.7785027252530272</span> TRAIN ACC: <span style=\"color: #000080; font-weight: bold\">0.706731682604015</span> <a href=\"file://../trainer.py\"><span style=\"color: #7f7f7f\">trainer.py</span></a><span style=\"color: #7f7f7f\">:426</span>\n",
       "</pre>\n"
      ],
      "text/plain": [
       "<rich.jupyter.JupyterRenderable at 0x7f1424eb0250>"
      ]
     },
     "metadata": {},
     "output_type": "display_data"
    },
    {
     "data": {
      "text/html": [
       "<pre style=\"white-space:pre;overflow-x:auto;line-height:normal;font-family:Menlo,'DejaVu Sans Mono',consolas,'Courier New',monospace\"><span style=\"color: #7fbfbf\">           </span><span style=\"color: #000080\">INFO    </span> VALID AUC: <span style=\"color: #000080; font-weight: bold\">0.781705038371705</span> VALID ACC: <span style=\"color: #000080; font-weight: bold\">0.7079533941236069</span> <a href=\"file://../trainer.py\"><span style=\"color: #7f7f7f\">trainer.py</span></a><span style=\"color: #7f7f7f\">:427</span>\n",
       "                                                                                             \n",
       "</pre>\n"
      ],
      "text/plain": [
       "<rich.jupyter.JupyterRenderable at 0x7f1424eb0250>"
      ]
     },
     "metadata": {},
     "output_type": "display_data"
    },
    {
     "data": {
      "text/html": [
       "<pre style=\"white-space:pre;overflow-x:auto;line-height:normal;font-family:Menlo,'DejaVu Sans Mono',consolas,'Courier New',monospace\"><span style=\"color: #7fbfbf\">           </span><span style=\"color: #000080\">INFO    </span> EarlyStopping counter: <span style=\"color: #000080; font-weight: bold\">2</span>                                   <a href=\"file://../trainer.py\"><span style=\"color: #7f7f7f\">trainer.py</span></a><span style=\"color: #7f7f7f\">:435</span>\n",
       "</pre>\n"
      ],
      "text/plain": [
       "<rich.jupyter.JupyterRenderable at 0x7f1424eb0250>"
      ]
     },
     "metadata": {},
     "output_type": "display_data"
    },
    {
     "data": {
      "text/html": [
       "Finishing last run (ID:bhj6ovem) before initializing another..."
      ],
      "text/plain": [
       "<IPython.core.display.HTML object>"
      ]
     },
     "metadata": {},
     "output_type": "display_data"
    },
    {
     "data": {
      "text/html": [
       "<br/>Waiting for W&B process to finish, PID 58541<br/>Program ended successfully."
      ],
      "text/plain": [
       "<IPython.core.display.HTML object>"
      ]
     },
     "metadata": {},
     "output_type": "display_data"
    },
    {
     "data": {
      "application/vnd.jupyter.widget-view+json": {
       "model_id": "a3406896508a465fb25bfbd81a258968",
       "version_major": 2,
       "version_minor": 0
      },
      "text/plain": [
       "VBox(children=(Label(value=' 5.77MB of 5.77MB uploaded (0.00MB deduped)\\r'), FloatProgress(value=1.0, max=1.0)…"
      ]
     },
     "metadata": {},
     "output_type": "display_data"
    },
    {
     "data": {
      "text/html": [
       "Find user logs for this run at: <code>/home/j-gunmo/desktop/00.my-project/17.P-Stage-T1003/4-STAGE/notebook/wandb/run-20210611_184310-bhj6ovem/logs/debug.log</code>"
      ],
      "text/plain": [
       "<IPython.core.display.HTML object>"
      ]
     },
     "metadata": {},
     "output_type": "display_data"
    },
    {
     "data": {
      "text/html": [
       "Find internal logs for this run at: <code>/home/j-gunmo/desktop/00.my-project/17.P-Stage-T1003/4-STAGE/notebook/wandb/run-20210611_184310-bhj6ovem/logs/debug-internal.log</code>"
      ],
      "text/plain": [
       "<IPython.core.display.HTML object>"
      ]
     },
     "metadata": {},
     "output_type": "display_data"
    },
    {
     "data": {
      "text/html": [
       "<h3>Run summary:</h3><br/><style>\n",
       "    table.wandb td:nth-child(1) { padding: 0 10px; text-align: right }\n",
       "    </style><table class=\"wandb\">\n",
       "<tr><td>epoch</td><td>19</td></tr><tr><td>train_loss</td><td>0.56831</td></tr><tr><td>train_auc</td><td>0.7785</td></tr><tr><td>train_acc</td><td>0.70673</td></tr><tr><td>valid_auc</td><td>0.78171</td></tr><tr><td>valid_acc</td><td>0.70795</td></tr><tr><td>_runtime</td><td>68</td></tr><tr><td>_timestamp</td><td>1623404662</td></tr><tr><td>_step</td><td>19</td></tr></table>"
      ],
      "text/plain": [
       "<IPython.core.display.HTML object>"
      ]
     },
     "metadata": {},
     "output_type": "display_data"
    },
    {
     "data": {
      "text/html": [
       "<h3>Run history:</h3><br/><style>\n",
       "    table.wandb td:nth-child(1) { padding: 0 10px; text-align: right }\n",
       "    </style><table class=\"wandb\">\n",
       "<tr><td>epoch</td><td>▁▁▂▂▂▃▃▄▄▄▅▅▅▆▆▇▇▇██</td></tr><tr><td>train_loss</td><td>█▂▂▂▁▁▁▁▁▁▁▁▁▁▁▁▁▁▁▁</td></tr><tr><td>train_auc</td><td>▁▇▇▇████████████████</td></tr><tr><td>train_acc</td><td>▁▇▇█████████████████</td></tr><tr><td>valid_auc</td><td>▁▄▅▆▆▇▇▇▇▇██████████</td></tr><tr><td>valid_acc</td><td>▁▂▅▃▅▅▆▆▅▅▇▇██▆▇▇▇█▆</td></tr><tr><td>_runtime</td><td>▁▁▂▂▂▃▃▄▄▄▅▅▅▆▆▆▇▇██</td></tr><tr><td>_timestamp</td><td>▁▁▂▂▂▃▃▄▄▄▅▅▅▆▆▆▇▇██</td></tr><tr><td>_step</td><td>▁▁▂▂▂▃▃▄▄▄▅▅▅▆▆▇▇▇██</td></tr></table><br/>"
      ],
      "text/plain": [
       "<IPython.core.display.HTML object>"
      ]
     },
     "metadata": {},
     "output_type": "display_data"
    },
    {
     "data": {
      "text/html": [
       "Synced 6 W&B file(s), 1 media file(s), 0 artifact file(s) and 2 other file(s)"
      ],
      "text/plain": [
       "<IPython.core.display.HTML object>"
      ]
     },
     "metadata": {},
     "output_type": "display_data"
    },
    {
     "data": {
      "text/html": [
       "\n",
       "                    <br/>Synced <strong style=\"color:#cdcd00\">fine-frost-503</strong>: <a href=\"https://wandb.ai/ggm1207/p-stage-4/runs/bhj6ovem\" target=\"_blank\">https://wandb.ai/ggm1207/p-stage-4/runs/bhj6ovem</a><br/>\n",
       "                "
      ],
      "text/plain": [
       "<IPython.core.display.HTML object>"
      ]
     },
     "metadata": {},
     "output_type": "display_data"
    },
    {
     "data": {
      "text/html": [
       "...Successfully finished last run (ID:bhj6ovem). Initializing new run:<br/><br/>"
      ],
      "text/plain": [
       "<IPython.core.display.HTML object>"
      ]
     },
     "metadata": {},
     "output_type": "display_data"
    },
    {
     "name": "stderr",
     "output_type": "stream",
     "text": [
      "\u001b[34m\u001b[1mwandb\u001b[0m: wandb version 0.10.32 is available!  To upgrade, please run:\n",
      "\u001b[34m\u001b[1mwandb\u001b[0m:  $ pip install wandb --upgrade\n"
     ]
    },
    {
     "data": {
      "text/html": [
       "\n",
       "                Tracking run with wandb version 0.10.27<br/>\n",
       "                Syncing run <strong style=\"color:#cdcd00\">stoic-moon-504</strong> to <a href=\"https://wandb.ai\" target=\"_blank\">Weights & Biases</a> <a href=\"https://docs.wandb.com/integrations/jupyter.html\" target=\"_blank\">(Documentation)</a>.<br/>\n",
       "                Project page: <a href=\"https://wandb.ai/ggm1207/p-stage-4\" target=\"_blank\">https://wandb.ai/ggm1207/p-stage-4</a><br/>\n",
       "                Run page: <a href=\"https://wandb.ai/ggm1207/p-stage-4/runs/2g0wobbk\" target=\"_blank\">https://wandb.ai/ggm1207/p-stage-4/runs/2g0wobbk</a><br/>\n",
       "                Run data is saved locally in <code>/home/j-gunmo/desktop/00.my-project/17.P-Stage-T1003/4-STAGE/notebook/wandb/run-20210611_184422-2g0wobbk</code><br/><br/>\n",
       "            "
      ],
      "text/plain": [
       "<IPython.core.display.HTML object>"
      ]
     },
     "metadata": {},
     "output_type": "display_data"
    },
    {
     "data": {
      "text/html": [
       "<pre style=\"white-space:pre;overflow-x:auto;line-height:normal;font-family:Menlo,'DejaVu Sans Mono',consolas,'Courier New',monospace\"><span style=\"color: #7fbfbf\">[18:44:28] </span><span style=\"color: #000080\">INFO    </span> Start Training: Epoch <span style=\"color: #000080; font-weight: bold\">1</span>                                    <a href=\"file://../trainer.py\"><span style=\"color: #7f7f7f\">trainer.py</span></a><span style=\"color: #7f7f7f\">:409</span>\n",
       "</pre>\n"
      ],
      "text/plain": [
       "<rich.jupyter.JupyterRenderable at 0x7f1428a56190>"
      ]
     },
     "metadata": {},
     "output_type": "display_data"
    },
    {
     "name": "stdout",
     "output_type": "stream",
     "text": [
      "Training steps: 0 Loss: 0.6893694400787354\n",
      "Training steps: 50 Loss: 0.6787620782852173\n",
      "Training steps: 100 Loss: 0.6629106402397156\n",
      "Training steps: 150 Loss: 0.6386033296585083\n",
      "Training steps: 200 Loss: 0.6168570518493652\n",
      "VALID AUC : 0.7665777816559816 ACC : 0.6922492401215805\n",
      "\n"
     ]
    },
    {
     "data": {
      "text/html": [
       "<pre style=\"white-space:pre;overflow-x:auto;line-height:normal;font-family:Menlo,'DejaVu Sans Mono',consolas,'Courier New',monospace\"><span style=\"color: #7fbfbf\">[18:44:31] </span><span style=\"color: #000080\">INFO    </span> TRAIN_LOSS: <span style=\"color: #000080; font-weight: bold\">0.6507642865180969</span>                             <a href=\"file://../trainer.py\"><span style=\"color: #7f7f7f\">trainer.py</span></a><span style=\"color: #7f7f7f\">:425</span>\n",
       "</pre>\n"
      ],
      "text/plain": [
       "<rich.jupyter.JupyterRenderable at 0x7f14281d84f0>"
      ]
     },
     "metadata": {},
     "output_type": "display_data"
    },
    {
     "data": {
      "text/html": [
       "<pre style=\"white-space:pre;overflow-x:auto;line-height:normal;font-family:Menlo,'DejaVu Sans Mono',consolas,'Courier New',monospace\"><span style=\"color: #7fbfbf\">           </span><span style=\"color: #000080\">INFO    </span> TRAIN AUC: <span style=\"color: #000080; font-weight: bold\">0.7363057106702934</span> TRAIN ACC:                   <a href=\"file://../trainer.py\"><span style=\"color: #7f7f7f\">trainer.py</span></a><span style=\"color: #7f7f7f\">:426</span>\n",
       "                    <span style=\"color: #000080; font-weight: bold\">0.6636691786460642</span>                                                       \n",
       "</pre>\n"
      ],
      "text/plain": [
       "<rich.jupyter.JupyterRenderable at 0x7f1428a35820>"
      ]
     },
     "metadata": {},
     "output_type": "display_data"
    },
    {
     "data": {
      "text/html": [
       "<pre style=\"white-space:pre;overflow-x:auto;line-height:normal;font-family:Menlo,'DejaVu Sans Mono',consolas,'Courier New',monospace\"><span style=\"color: #7fbfbf\">           </span><span style=\"color: #000080\">INFO    </span> VALID AUC: <span style=\"color: #000080; font-weight: bold\">0.7665777816559816</span> VALID ACC:                   <a href=\"file://../trainer.py\"><span style=\"color: #7f7f7f\">trainer.py</span></a><span style=\"color: #7f7f7f\">:427</span>\n",
       "                    <span style=\"color: #000080; font-weight: bold\">0.6922492401215805</span>                                                       \n",
       "                                                                                             \n",
       "</pre>\n"
      ],
      "text/plain": [
       "<rich.jupyter.JupyterRenderable at 0x7f1428a36d60>"
      ]
     },
     "metadata": {},
     "output_type": "display_data"
    },
    {
     "data": {
      "text/html": [
       "<pre style=\"white-space:pre;overflow-x:auto;line-height:normal;font-family:Menlo,'DejaVu Sans Mono',consolas,'Courier New',monospace\"><span style=\"color: #7fbfbf\">           </span><span style=\"color: #000080\">INFO    </span> Start Training: Epoch <span style=\"color: #000080; font-weight: bold\">2</span>                                    <a href=\"file://../trainer.py\"><span style=\"color: #7f7f7f\">trainer.py</span></a><span style=\"color: #7f7f7f\">:409</span>\n",
       "</pre>\n"
      ],
      "text/plain": [
       "<rich.jupyter.JupyterRenderable at 0x7f1428a360d0>"
      ]
     },
     "metadata": {},
     "output_type": "display_data"
    },
    {
     "name": "stdout",
     "output_type": "stream",
     "text": [
      "Training steps: 0 Loss: 0.6142791509628296\n",
      "Training steps: 50 Loss: 0.5463283061981201\n",
      "Training steps: 100 Loss: 0.5568525791168213\n",
      "Training steps: 150 Loss: 0.4955759346485138\n",
      "Training steps: 200 Loss: 0.5594042539596558\n",
      "VALID AUC : 0.7681528172014311 ACC : 0.6937689969604863\n",
      "\n"
     ]
    },
    {
     "data": {
      "text/html": [
       "<pre style=\"white-space:pre;overflow-x:auto;line-height:normal;font-family:Menlo,'DejaVu Sans Mono',consolas,'Courier New',monospace\"><span style=\"color: #7fbfbf\">[18:44:34] </span><span style=\"color: #000080\">INFO    </span> TRAIN_LOSS: <span style=\"color: #000080; font-weight: bold\">0.5789772868156433</span>                             <a href=\"file://../trainer.py\"><span style=\"color: #7f7f7f\">trainer.py</span></a><span style=\"color: #7f7f7f\">:425</span>\n",
       "</pre>\n"
      ],
      "text/plain": [
       "<rich.jupyter.JupyterRenderable at 0x7f1428191310>"
      ]
     },
     "metadata": {},
     "output_type": "display_data"
    },
    {
     "data": {
      "text/html": [
       "<pre style=\"white-space:pre;overflow-x:auto;line-height:normal;font-family:Menlo,'DejaVu Sans Mono',consolas,'Courier New',monospace\"><span style=\"color: #7fbfbf\">           </span><span style=\"color: #000080\">INFO    </span> TRAIN AUC: <span style=\"color: #000080; font-weight: bold\">0.7768906799302284</span> TRAIN ACC:                   <a href=\"file://../trainer.py\"><span style=\"color: #7f7f7f\">trainer.py</span></a><span style=\"color: #7f7f7f\">:426</span>\n",
       "                    <span style=\"color: #000080; font-weight: bold\">0.7075549363561522</span>                                                       \n",
       "</pre>\n"
      ],
      "text/plain": [
       "<rich.jupyter.JupyterRenderable at 0x7f14281918b0>"
      ]
     },
     "metadata": {},
     "output_type": "display_data"
    },
    {
     "data": {
      "text/html": [
       "<pre style=\"white-space:pre;overflow-x:auto;line-height:normal;font-family:Menlo,'DejaVu Sans Mono',consolas,'Courier New',monospace\"><span style=\"color: #7fbfbf\">           </span><span style=\"color: #000080\">INFO    </span> VALID AUC: <span style=\"color: #000080; font-weight: bold\">0.7681528172014311</span> VALID ACC:                   <a href=\"file://../trainer.py\"><span style=\"color: #7f7f7f\">trainer.py</span></a><span style=\"color: #7f7f7f\">:427</span>\n",
       "                    <span style=\"color: #000080; font-weight: bold\">0.6937689969604863</span>                                                       \n",
       "                                                                                             \n",
       "</pre>\n"
      ],
      "text/plain": [
       "<rich.jupyter.JupyterRenderable at 0x7f14281cb3a0>"
      ]
     },
     "metadata": {},
     "output_type": "display_data"
    },
    {
     "data": {
      "text/html": [
       "<pre style=\"white-space:pre;overflow-x:auto;line-height:normal;font-family:Menlo,'DejaVu Sans Mono',consolas,'Courier New',monospace\"><span style=\"color: #7fbfbf\">           </span><span style=\"color: #000080\">INFO    </span> Start Training: Epoch <span style=\"color: #000080; font-weight: bold\">3</span>                                    <a href=\"file://../trainer.py\"><span style=\"color: #7f7f7f\">trainer.py</span></a><span style=\"color: #7f7f7f\">:409</span>\n",
       "</pre>\n"
      ],
      "text/plain": [
       "<rich.jupyter.JupyterRenderable at 0x7f1428a35f40>"
      ]
     },
     "metadata": {},
     "output_type": "display_data"
    },
    {
     "name": "stdout",
     "output_type": "stream",
     "text": [
      "Training steps: 0 Loss: 0.5841468572616577\n",
      "Training steps: 50 Loss: 0.6159460544586182\n",
      "Training steps: 100 Loss: 0.5561993718147278\n",
      "Training steps: 150 Loss: 0.5238215923309326\n",
      "Training steps: 200 Loss: 0.5422248244285583\n",
      "VALID AUC : 0.7696574034626658 ACC : 0.6973150962512664\n",
      "\n"
     ]
    },
    {
     "data": {
      "text/html": [
       "<pre style=\"white-space:pre;overflow-x:auto;line-height:normal;font-family:Menlo,'DejaVu Sans Mono',consolas,'Courier New',monospace\"><span style=\"color: #7fbfbf\">[18:44:38] </span><span style=\"color: #000080\">INFO    </span> TRAIN_LOSS: <span style=\"color: #000080; font-weight: bold\">0.5690938234329224</span>                             <a href=\"file://../trainer.py\"><span style=\"color: #7f7f7f\">trainer.py</span></a><span style=\"color: #7f7f7f\">:425</span>\n",
       "</pre>\n"
      ],
      "text/plain": [
       "<rich.jupyter.JupyterRenderable at 0x7f1424e057c0>"
      ]
     },
     "metadata": {},
     "output_type": "display_data"
    },
    {
     "data": {
      "text/html": [
       "<pre style=\"white-space:pre;overflow-x:auto;line-height:normal;font-family:Menlo,'DejaVu Sans Mono',consolas,'Courier New',monospace\"><span style=\"color: #7fbfbf\">           </span><span style=\"color: #000080\">INFO    </span> TRAIN AUC: <span style=\"color: #000080; font-weight: bold\">0.7815137260815386</span> TRAIN ACC:                   <a href=\"file://../trainer.py\"><span style=\"color: #7f7f7f\">trainer.py</span></a><span style=\"color: #7f7f7f\">:426</span>\n",
       "                    <span style=\"color: #000080; font-weight: bold\">0.7116712051168387</span>                                                       \n",
       "</pre>\n"
      ],
      "text/plain": [
       "<rich.jupyter.JupyterRenderable at 0x7f1424e931c0>"
      ]
     },
     "metadata": {},
     "output_type": "display_data"
    },
    {
     "data": {
      "text/html": [
       "<pre style=\"white-space:pre;overflow-x:auto;line-height:normal;font-family:Menlo,'DejaVu Sans Mono',consolas,'Courier New',monospace\"><span style=\"color: #7fbfbf\">           </span><span style=\"color: #000080\">INFO    </span> VALID AUC: <span style=\"color: #000080; font-weight: bold\">0.7696574034626658</span> VALID ACC:                   <a href=\"file://../trainer.py\"><span style=\"color: #7f7f7f\">trainer.py</span></a><span style=\"color: #7f7f7f\">:427</span>\n",
       "                    <span style=\"color: #000080; font-weight: bold\">0.6973150962512664</span>                                                       \n",
       "                                                                                             \n",
       "</pre>\n"
      ],
      "text/plain": [
       "<rich.jupyter.JupyterRenderable at 0x7f1424e93610>"
      ]
     },
     "metadata": {},
     "output_type": "display_data"
    },
    {
     "data": {
      "text/html": [
       "<pre style=\"white-space:pre;overflow-x:auto;line-height:normal;font-family:Menlo,'DejaVu Sans Mono',consolas,'Courier New',monospace\"><span style=\"color: #7fbfbf\">           </span><span style=\"color: #000080\">INFO    </span> Start Training: Epoch <span style=\"color: #000080; font-weight: bold\">4</span>                                    <a href=\"file://../trainer.py\"><span style=\"color: #7f7f7f\">trainer.py</span></a><span style=\"color: #7f7f7f\">:409</span>\n",
       "</pre>\n"
      ],
      "text/plain": [
       "<rich.jupyter.JupyterRenderable at 0x7f1424e93d30>"
      ]
     },
     "metadata": {},
     "output_type": "display_data"
    },
    {
     "name": "stdout",
     "output_type": "stream",
     "text": [
      "Training steps: 0 Loss: 0.5602443218231201\n",
      "Training steps: 50 Loss: 0.6123101115226746\n",
      "Training steps: 100 Loss: 0.5775495767593384\n",
      "Training steps: 150 Loss: 0.6361199617385864\n",
      "Training steps: 200 Loss: 0.6680476665496826\n",
      "VALID AUC : 0.7701085868566531 ACC : 0.6978216818642351\n",
      "\n"
     ]
    },
    {
     "data": {
      "text/html": [
       "<pre style=\"white-space:pre;overflow-x:auto;line-height:normal;font-family:Menlo,'DejaVu Sans Mono',consolas,'Courier New',monospace\"><span style=\"color: #7fbfbf\">[18:44:41] </span><span style=\"color: #000080\">INFO    </span> TRAIN_LOSS: <span style=\"color: #000080; font-weight: bold\">0.5659068822860718</span>                             <a href=\"file://../trainer.py\"><span style=\"color: #7f7f7f\">trainer.py</span></a><span style=\"color: #7f7f7f\">:425</span>\n",
       "</pre>\n"
      ],
      "text/plain": [
       "<rich.jupyter.JupyterRenderable at 0x7f1424e58ac0>"
      ]
     },
     "metadata": {},
     "output_type": "display_data"
    },
    {
     "data": {
      "text/html": [
       "<pre style=\"white-space:pre;overflow-x:auto;line-height:normal;font-family:Menlo,'DejaVu Sans Mono',consolas,'Courier New',monospace\"><span style=\"color: #7fbfbf\">           </span><span style=\"color: #000080\">INFO    </span> TRAIN AUC: <span style=\"color: #000080; font-weight: bold\">0.7830490763215865</span> TRAIN ACC:                   <a href=\"file://../trainer.py\"><span style=\"color: #7f7f7f\">trainer.py</span></a><span style=\"color: #7f7f7f\">:426</span>\n",
       "                    <span style=\"color: #000080; font-weight: bold\">0.7137610031030334</span>                                                       \n",
       "</pre>\n"
      ],
      "text/plain": [
       "<rich.jupyter.JupyterRenderable at 0x7f1424e56ca0>"
      ]
     },
     "metadata": {},
     "output_type": "display_data"
    },
    {
     "data": {
      "text/html": [
       "<pre style=\"white-space:pre;overflow-x:auto;line-height:normal;font-family:Menlo,'DejaVu Sans Mono',consolas,'Courier New',monospace\"><span style=\"color: #7fbfbf\">           </span><span style=\"color: #000080\">INFO    </span> VALID AUC: <span style=\"color: #000080; font-weight: bold\">0.7701085868566531</span> VALID ACC:                   <a href=\"file://../trainer.py\"><span style=\"color: #7f7f7f\">trainer.py</span></a><span style=\"color: #7f7f7f\">:427</span>\n",
       "                    <span style=\"color: #000080; font-weight: bold\">0.6978216818642351</span>                                                       \n",
       "                                                                                             \n",
       "</pre>\n"
      ],
      "text/plain": [
       "<rich.jupyter.JupyterRenderable at 0x7f1424e56a60>"
      ]
     },
     "metadata": {},
     "output_type": "display_data"
    },
    {
     "data": {
      "text/html": [
       "<pre style=\"white-space:pre;overflow-x:auto;line-height:normal;font-family:Menlo,'DejaVu Sans Mono',consolas,'Courier New',monospace\"><span style=\"color: #7fbfbf\">           </span><span style=\"color: #000080\">INFO    </span> Start Training: Epoch <span style=\"color: #000080; font-weight: bold\">5</span>                                    <a href=\"file://../trainer.py\"><span style=\"color: #7f7f7f\">trainer.py</span></a><span style=\"color: #7f7f7f\">:409</span>\n",
       "</pre>\n"
      ],
      "text/plain": [
       "<rich.jupyter.JupyterRenderable at 0x7f1424e56190>"
      ]
     },
     "metadata": {},
     "output_type": "display_data"
    },
    {
     "name": "stdout",
     "output_type": "stream",
     "text": [
      "Training steps: 0 Loss: 0.5249186754226685\n",
      "Training steps: 50 Loss: 0.5077577829360962\n",
      "Training steps: 100 Loss: 0.5360866785049438\n",
      "Training steps: 150 Loss: 0.4856778383255005\n",
      "Training steps: 200 Loss: 0.5146434307098389\n",
      "VALID AUC : 0.7704123272131854 ACC : 0.6990881458966566\n",
      "\n"
     ]
    },
    {
     "data": {
      "text/html": [
       "<pre style=\"white-space:pre;overflow-x:auto;line-height:normal;font-family:Menlo,'DejaVu Sans Mono',consolas,'Courier New',monospace\"><span style=\"color: #7fbfbf\">[18:44:44] </span><span style=\"color: #000080\">INFO    </span> TRAIN_LOSS: <span style=\"color: #000080; font-weight: bold\">0.5645379424095154</span>                             <a href=\"file://../trainer.py\"><span style=\"color: #7f7f7f\">trainer.py</span></a><span style=\"color: #7f7f7f\">:425</span>\n",
       "</pre>\n"
      ],
      "text/plain": [
       "<rich.jupyter.JupyterRenderable at 0x7f1425f469a0>"
      ]
     },
     "metadata": {},
     "output_type": "display_data"
    },
    {
     "data": {
      "text/html": [
       "<pre style=\"white-space:pre;overflow-x:auto;line-height:normal;font-family:Menlo,'DejaVu Sans Mono',consolas,'Courier New',monospace\"><span style=\"color: #7fbfbf\">           </span><span style=\"color: #000080\">INFO    </span> TRAIN AUC: <span style=\"color: #000080; font-weight: bold\">0.7834257682576828</span> TRAIN ACC:                   <a href=\"file://../trainer.py\"><span style=\"color: #7f7f7f\">trainer.py</span></a><span style=\"color: #7f7f7f\">:426</span>\n",
       "                    <span style=\"color: #000080; font-weight: bold\">0.7144576024317649</span>                                                       \n",
       "</pre>\n"
      ],
      "text/plain": [
       "<rich.jupyter.JupyterRenderable at 0x7f14281a6fd0>"
      ]
     },
     "metadata": {},
     "output_type": "display_data"
    },
    {
     "data": {
      "text/html": [
       "<pre style=\"white-space:pre;overflow-x:auto;line-height:normal;font-family:Menlo,'DejaVu Sans Mono',consolas,'Courier New',monospace\"><span style=\"color: #7fbfbf\">           </span><span style=\"color: #000080\">INFO    </span> VALID AUC: <span style=\"color: #000080; font-weight: bold\">0.7704123272131854</span> VALID ACC:                   <a href=\"file://../trainer.py\"><span style=\"color: #7f7f7f\">trainer.py</span></a><span style=\"color: #7f7f7f\">:427</span>\n",
       "                    <span style=\"color: #000080; font-weight: bold\">0.6990881458966566</span>                                                       \n",
       "                                                                                             \n",
       "</pre>\n"
      ],
      "text/plain": [
       "<rich.jupyter.JupyterRenderable at 0x7f1424ea0af0>"
      ]
     },
     "metadata": {},
     "output_type": "display_data"
    },
    {
     "data": {
      "text/html": [
       "<pre style=\"white-space:pre;overflow-x:auto;line-height:normal;font-family:Menlo,'DejaVu Sans Mono',consolas,'Courier New',monospace\"><span style=\"color: #7fbfbf\">           </span><span style=\"color: #000080\">INFO    </span> Start Training: Epoch <span style=\"color: #000080; font-weight: bold\">6</span>                                    <a href=\"file://../trainer.py\"><span style=\"color: #7f7f7f\">trainer.py</span></a><span style=\"color: #7f7f7f\">:409</span>\n",
       "</pre>\n"
      ],
      "text/plain": [
       "<rich.jupyter.JupyterRenderable at 0x7f1428a35880>"
      ]
     },
     "metadata": {},
     "output_type": "display_data"
    },
    {
     "name": "stdout",
     "output_type": "stream",
     "text": [
      "Training steps: 0 Loss: 0.5472831726074219\n",
      "Training steps: 50 Loss: 0.5074766874313354\n",
      "Training steps: 100 Loss: 0.5700969099998474\n",
      "Training steps: 150 Loss: 0.594957172870636\n",
      "Training steps: 200 Loss: 0.5766851305961609\n",
      "VALID AUC : 0.7705506593231736 ACC : 0.7006079027355623\n",
      "\n"
     ]
    },
    {
     "data": {
      "text/html": [
       "<pre style=\"white-space:pre;overflow-x:auto;line-height:normal;font-family:Menlo,'DejaVu Sans Mono',consolas,'Courier New',monospace\"><span style=\"color: #7fbfbf\">[18:44:47] </span><span style=\"color: #000080\">INFO    </span> TRAIN_LOSS: <span style=\"color: #000080; font-weight: bold\">0.5633800029754639</span>                             <a href=\"file://../trainer.py\"><span style=\"color: #7f7f7f\">trainer.py</span></a><span style=\"color: #7f7f7f\">:425</span>\n",
       "</pre>\n"
      ],
      "text/plain": [
       "<rich.jupyter.JupyterRenderable at 0x7f1428a35f40>"
      ]
     },
     "metadata": {},
     "output_type": "display_data"
    },
    {
     "data": {
      "text/html": [
       "<pre style=\"white-space:pre;overflow-x:auto;line-height:normal;font-family:Menlo,'DejaVu Sans Mono',consolas,'Courier New',monospace\"><span style=\"color: #7fbfbf\">           </span><span style=\"color: #000080\">INFO    </span> TRAIN AUC: <span style=\"color: #000080; font-weight: bold\">0.784097095813019</span> TRAIN ACC: <span style=\"color: #000080; font-weight: bold\">0.7171806725349883</span> <a href=\"file://../trainer.py\"><span style=\"color: #7f7f7f\">trainer.py</span></a><span style=\"color: #7f7f7f\">:426</span>\n",
       "</pre>\n"
      ],
      "text/plain": [
       "<rich.jupyter.JupyterRenderable at 0x7f1428a49880>"
      ]
     },
     "metadata": {},
     "output_type": "display_data"
    },
    {
     "data": {
      "text/html": [
       "<pre style=\"white-space:pre;overflow-x:auto;line-height:normal;font-family:Menlo,'DejaVu Sans Mono',consolas,'Courier New',monospace\"><span style=\"color: #7fbfbf\">           </span><span style=\"color: #000080\">INFO    </span> VALID AUC: <span style=\"color: #000080; font-weight: bold\">0.7705506593231736</span> VALID ACC:                   <a href=\"file://../trainer.py\"><span style=\"color: #7f7f7f\">trainer.py</span></a><span style=\"color: #7f7f7f\">:427</span>\n",
       "                    <span style=\"color: #000080; font-weight: bold\">0.7006079027355623</span>                                                       \n",
       "                                                                                             \n",
       "</pre>\n"
      ],
      "text/plain": [
       "<rich.jupyter.JupyterRenderable at 0x7f1428129ac0>"
      ]
     },
     "metadata": {},
     "output_type": "display_data"
    },
    {
     "data": {
      "text/html": [
       "<pre style=\"white-space:pre;overflow-x:auto;line-height:normal;font-family:Menlo,'DejaVu Sans Mono',consolas,'Courier New',monospace\"><span style=\"color: #7fbfbf\">           </span><span style=\"color: #000080\">INFO    </span> Start Training: Epoch <span style=\"color: #000080; font-weight: bold\">7</span>                                    <a href=\"file://../trainer.py\"><span style=\"color: #7f7f7f\">trainer.py</span></a><span style=\"color: #7f7f7f\">:409</span>\n",
       "</pre>\n"
      ],
      "text/plain": [
       "<rich.jupyter.JupyterRenderable at 0x7f1424e58520>"
      ]
     },
     "metadata": {},
     "output_type": "display_data"
    },
    {
     "name": "stdout",
     "output_type": "stream",
     "text": [
      "Training steps: 0 Loss: 0.566672682762146\n",
      "Training steps: 50 Loss: 0.46611854434013367\n",
      "Training steps: 100 Loss: 0.4785139560699463\n",
      "Training steps: 150 Loss: 0.4950575828552246\n",
      "Training steps: 200 Loss: 0.5836055278778076\n",
      "VALID AUC : 0.7704885510288931 ACC : 0.7018743667679838\n",
      "\n"
     ]
    },
    {
     "data": {
      "text/html": [
       "<pre style=\"white-space:pre;overflow-x:auto;line-height:normal;font-family:Menlo,'DejaVu Sans Mono',consolas,'Courier New',monospace\"><span style=\"color: #7fbfbf\">[18:44:51] </span><span style=\"color: #000080\">INFO    </span> TRAIN_LOSS: <span style=\"color: #000080; font-weight: bold\">0.5627685785293579</span>                             <a href=\"file://../trainer.py\"><span style=\"color: #7f7f7f\">trainer.py</span></a><span style=\"color: #7f7f7f\">:425</span>\n",
       "</pre>\n"
      ],
      "text/plain": [
       "<rich.jupyter.JupyterRenderable at 0x7f1424ea7160>"
      ]
     },
     "metadata": {},
     "output_type": "display_data"
    },
    {
     "data": {
      "text/html": [
       "<pre style=\"white-space:pre;overflow-x:auto;line-height:normal;font-family:Menlo,'DejaVu Sans Mono',consolas,'Courier New',monospace\"><span style=\"color: #7fbfbf\">           </span><span style=\"color: #000080\">INFO    </span> TRAIN AUC: <span style=\"color: #000080; font-weight: bold\">0.784040027113089</span> TRAIN ACC: <span style=\"color: #000080; font-weight: bold\">0.7176872902286112</span> <a href=\"file://../trainer.py\"><span style=\"color: #7f7f7f\">trainer.py</span></a><span style=\"color: #7f7f7f\">:426</span>\n",
       "</pre>\n"
      ],
      "text/plain": [
       "<rich.jupyter.JupyterRenderable at 0x7f1428a558b0>"
      ]
     },
     "metadata": {},
     "output_type": "display_data"
    },
    {
     "data": {
      "text/html": [
       "<pre style=\"white-space:pre;overflow-x:auto;line-height:normal;font-family:Menlo,'DejaVu Sans Mono',consolas,'Courier New',monospace\"><span style=\"color: #7fbfbf\">           </span><span style=\"color: #000080\">INFO    </span> VALID AUC: <span style=\"color: #000080; font-weight: bold\">0.7704885510288931</span> VALID ACC:                   <a href=\"file://../trainer.py\"><span style=\"color: #7f7f7f\">trainer.py</span></a><span style=\"color: #7f7f7f\">:427</span>\n",
       "                    <span style=\"color: #000080; font-weight: bold\">0.7018743667679838</span>                                                       \n",
       "                                                                                             \n",
       "</pre>\n"
      ],
      "text/plain": [
       "<rich.jupyter.JupyterRenderable at 0x7f1428191ca0>"
      ]
     },
     "metadata": {},
     "output_type": "display_data"
    },
    {
     "data": {
      "text/html": [
       "<pre style=\"white-space:pre;overflow-x:auto;line-height:normal;font-family:Menlo,'DejaVu Sans Mono',consolas,'Courier New',monospace\"><span style=\"color: #7fbfbf\">           </span><span style=\"color: #000080\">INFO    </span> EarlyStopping counter: <span style=\"color: #000080; font-weight: bold\">1</span>                                   <a href=\"file://../trainer.py\"><span style=\"color: #7f7f7f\">trainer.py</span></a><span style=\"color: #7f7f7f\">:435</span>\n",
       "</pre>\n"
      ],
      "text/plain": [
       "<rich.jupyter.JupyterRenderable at 0x7f1425f46a30>"
      ]
     },
     "metadata": {},
     "output_type": "display_data"
    },
    {
     "data": {
      "text/html": [
       "<pre style=\"white-space:pre;overflow-x:auto;line-height:normal;font-family:Menlo,'DejaVu Sans Mono',consolas,'Courier New',monospace\"><span style=\"color: #7fbfbf\">           </span><span style=\"color: #000080\">INFO    </span> Start Training: Epoch <span style=\"color: #000080; font-weight: bold\">8</span>                                    <a href=\"file://../trainer.py\"><span style=\"color: #7f7f7f\">trainer.py</span></a><span style=\"color: #7f7f7f\">:409</span>\n",
       "</pre>\n"
      ],
      "text/plain": [
       "<rich.jupyter.JupyterRenderable at 0x7f1424e56100>"
      ]
     },
     "metadata": {},
     "output_type": "display_data"
    },
    {
     "name": "stdout",
     "output_type": "stream",
     "text": [
      "Training steps: 0 Loss: 0.5896592736244202\n",
      "Training steps: 50 Loss: 0.5570715665817261\n",
      "Training steps: 100 Loss: 0.4955548942089081\n",
      "Training steps: 150 Loss: 0.48937761783599854\n",
      "Training steps: 200 Loss: 0.48340365290641785\n",
      "VALID AUC : 0.7707586707798441 ACC : 0.7013677811550152\n",
      "\n"
     ]
    },
    {
     "data": {
      "text/html": [
       "<pre style=\"white-space:pre;overflow-x:auto;line-height:normal;font-family:Menlo,'DejaVu Sans Mono',consolas,'Courier New',monospace\"><span style=\"color: #7fbfbf\">[18:44:54] </span><span style=\"color: #000080\">INFO    </span> TRAIN_LOSS: <span style=\"color: #000080; font-weight: bold\">0.5620179176330566</span>                             <a href=\"file://../trainer.py\"><span style=\"color: #7f7f7f\">trainer.py</span></a><span style=\"color: #7f7f7f\">:425</span>\n",
       "</pre>\n"
      ],
      "text/plain": [
       "<rich.jupyter.JupyterRenderable at 0x7f1428179610>"
      ]
     },
     "metadata": {},
     "output_type": "display_data"
    },
    {
     "data": {
      "text/html": [
       "<pre style=\"white-space:pre;overflow-x:auto;line-height:normal;font-family:Menlo,'DejaVu Sans Mono',consolas,'Courier New',monospace\"><span style=\"color: #7fbfbf\">           </span><span style=\"color: #000080\">INFO    </span> TRAIN AUC: <span style=\"color: #000080; font-weight: bold\">0.7844642468767565</span> TRAIN ACC:                   <a href=\"file://../trainer.py\"><span style=\"color: #7f7f7f\">trainer.py</span></a><span style=\"color: #7f7f7f\">:426</span>\n",
       "                    <span style=\"color: #000080; font-weight: bold\">0.7162307643594452</span>                                                       \n",
       "</pre>\n"
      ],
      "text/plain": [
       "<rich.jupyter.JupyterRenderable at 0x7f1424e58520>"
      ]
     },
     "metadata": {},
     "output_type": "display_data"
    },
    {
     "data": {
      "text/html": [
       "<pre style=\"white-space:pre;overflow-x:auto;line-height:normal;font-family:Menlo,'DejaVu Sans Mono',consolas,'Courier New',monospace\"><span style=\"color: #7fbfbf\">           </span><span style=\"color: #000080\">INFO    </span> VALID AUC: <span style=\"color: #000080; font-weight: bold\">0.7707586707798441</span> VALID ACC:                   <a href=\"file://../trainer.py\"><span style=\"color: #7f7f7f\">trainer.py</span></a><span style=\"color: #7f7f7f\">:427</span>\n",
       "                    <span style=\"color: #000080; font-weight: bold\">0.7013677811550152</span>                                                       \n",
       "                                                                                             \n",
       "</pre>\n"
      ],
      "text/plain": [
       "<rich.jupyter.JupyterRenderable at 0x7f1424e58520>"
      ]
     },
     "metadata": {},
     "output_type": "display_data"
    },
    {
     "data": {
      "text/html": [
       "<pre style=\"white-space:pre;overflow-x:auto;line-height:normal;font-family:Menlo,'DejaVu Sans Mono',consolas,'Courier New',monospace\"><span style=\"color: #7fbfbf\">           </span><span style=\"color: #000080\">INFO    </span> Start Training: Epoch <span style=\"color: #000080; font-weight: bold\">9</span>                                    <a href=\"file://../trainer.py\"><span style=\"color: #7f7f7f\">trainer.py</span></a><span style=\"color: #7f7f7f\">:409</span>\n",
       "</pre>\n"
      ],
      "text/plain": [
       "<rich.jupyter.JupyterRenderable at 0x7f1428a355b0>"
      ]
     },
     "metadata": {},
     "output_type": "display_data"
    },
    {
     "name": "stdout",
     "output_type": "stream",
     "text": [
      "Training steps: 0 Loss: 0.5228601098060608\n",
      "Training steps: 50 Loss: 0.5152183771133423\n",
      "Training steps: 100 Loss: 0.5318632125854492\n",
      "Training steps: 150 Loss: 0.5099489092826843\n",
      "Training steps: 200 Loss: 0.5056708455085754\n",
      "VALID AUC : 0.7705067728838267 ACC : 0.6985815602836879\n",
      "\n"
     ]
    },
    {
     "data": {
      "text/html": [
       "<pre style=\"white-space:pre;overflow-x:auto;line-height:normal;font-family:Menlo,'DejaVu Sans Mono',consolas,'Courier New',monospace\"><span style=\"color: #7fbfbf\">[18:44:57] </span><span style=\"color: #000080\">INFO    </span> TRAIN_LOSS: <span style=\"color: #000080; font-weight: bold\">0.5616114139556885</span>                             <a href=\"file://../trainer.py\"><span style=\"color: #7f7f7f\">trainer.py</span></a><span style=\"color: #7f7f7f\">:425</span>\n",
       "</pre>\n"
      ],
      "text/plain": [
       "<rich.jupyter.JupyterRenderable at 0x7f1424e48b50>"
      ]
     },
     "metadata": {},
     "output_type": "display_data"
    },
    {
     "data": {
      "text/html": [
       "<pre style=\"white-space:pre;overflow-x:auto;line-height:normal;font-family:Menlo,'DejaVu Sans Mono',consolas,'Courier New',monospace\"><span style=\"color: #7fbfbf\">           </span><span style=\"color: #000080\">INFO    </span> TRAIN AUC: <span style=\"color: #000080; font-weight: bold\">0.784759492341496</span> TRAIN ACC: <span style=\"color: #000080; font-weight: bold\">0.7180672534988285</span> <a href=\"file://../trainer.py\"><span style=\"color: #7f7f7f\">trainer.py</span></a><span style=\"color: #7f7f7f\">:426</span>\n",
       "</pre>\n"
      ],
      "text/plain": [
       "<rich.jupyter.JupyterRenderable at 0x7f14281d8ee0>"
      ]
     },
     "metadata": {},
     "output_type": "display_data"
    },
    {
     "data": {
      "text/html": [
       "<pre style=\"white-space:pre;overflow-x:auto;line-height:normal;font-family:Menlo,'DejaVu Sans Mono',consolas,'Courier New',monospace\"><span style=\"color: #7fbfbf\">           </span><span style=\"color: #000080\">INFO    </span> VALID AUC: <span style=\"color: #000080; font-weight: bold\">0.7705067728838267</span> VALID ACC:                   <a href=\"file://../trainer.py\"><span style=\"color: #7f7f7f\">trainer.py</span></a><span style=\"color: #7f7f7f\">:427</span>\n",
       "                    <span style=\"color: #000080; font-weight: bold\">0.6985815602836879</span>                                                       \n",
       "                                                                                             \n",
       "</pre>\n"
      ],
      "text/plain": [
       "<rich.jupyter.JupyterRenderable at 0x7f14281d84f0>"
      ]
     },
     "metadata": {},
     "output_type": "display_data"
    },
    {
     "data": {
      "text/html": [
       "<pre style=\"white-space:pre;overflow-x:auto;line-height:normal;font-family:Menlo,'DejaVu Sans Mono',consolas,'Courier New',monospace\"><span style=\"color: #7fbfbf\">           </span><span style=\"color: #000080\">INFO    </span> EarlyStopping counter: <span style=\"color: #000080; font-weight: bold\">1</span>                                   <a href=\"file://../trainer.py\"><span style=\"color: #7f7f7f\">trainer.py</span></a><span style=\"color: #7f7f7f\">:435</span>\n",
       "</pre>\n"
      ],
      "text/plain": [
       "<rich.jupyter.JupyterRenderable at 0x7f14281d8070>"
      ]
     },
     "metadata": {},
     "output_type": "display_data"
    },
    {
     "data": {
      "text/html": [
       "<pre style=\"white-space:pre;overflow-x:auto;line-height:normal;font-family:Menlo,'DejaVu Sans Mono',consolas,'Courier New',monospace\"><span style=\"color: #7fbfbf\">           </span><span style=\"color: #000080\">INFO    </span> Start Training: Epoch <span style=\"color: #000080; font-weight: bold\">10</span>                                   <a href=\"file://../trainer.py\"><span style=\"color: #7f7f7f\">trainer.py</span></a><span style=\"color: #7f7f7f\">:409</span>\n",
       "</pre>\n"
      ],
      "text/plain": [
       "<rich.jupyter.JupyterRenderable at 0x7f1428a4a580>"
      ]
     },
     "metadata": {},
     "output_type": "display_data"
    },
    {
     "name": "stdout",
     "output_type": "stream",
     "text": [
      "Training steps: 0 Loss: 0.6289745569229126\n",
      "Training steps: 50 Loss: 0.5621281862258911\n",
      "Training steps: 100 Loss: 0.5152347087860107\n",
      "Training steps: 150 Loss: 0.5291506052017212\n",
      "Training steps: 200 Loss: 0.6011649370193481\n",
      "VALID AUC : 0.7704831614661662 ACC : 0.6990881458966566\n",
      "\n"
     ]
    },
    {
     "data": {
      "text/html": [
       "<pre style=\"white-space:pre;overflow-x:auto;line-height:normal;font-family:Menlo,'DejaVu Sans Mono',consolas,'Courier New',monospace\"><span style=\"color: #7fbfbf\">[18:45:00] </span><span style=\"color: #000080\">INFO    </span> TRAIN_LOSS: <span style=\"color: #000080; font-weight: bold\">0.5613788366317749</span>                             <a href=\"file://../trainer.py\"><span style=\"color: #7f7f7f\">trainer.py</span></a><span style=\"color: #7f7f7f\">:425</span>\n",
       "</pre>\n"
      ],
      "text/plain": [
       "<rich.jupyter.JupyterRenderable at 0x7f14281d84f0>"
      ]
     },
     "metadata": {},
     "output_type": "display_data"
    },
    {
     "data": {
      "text/html": [
       "<pre style=\"white-space:pre;overflow-x:auto;line-height:normal;font-family:Menlo,'DejaVu Sans Mono',consolas,'Courier New',monospace\"><span style=\"color: #7fbfbf\">           </span><span style=\"color: #000080\">INFO    </span> TRAIN AUC: <span style=\"color: #000080; font-weight: bold\">0.7849413145675528</span> TRAIN ACC:                   <a href=\"file://../trainer.py\"><span style=\"color: #7f7f7f\">trainer.py</span></a><span style=\"color: #7f7f7f\">:426</span>\n",
       "                    <span style=\"color: #000080; font-weight: bold\">0.7169906908998797</span>                                                       \n",
       "</pre>\n"
      ],
      "text/plain": [
       "<rich.jupyter.JupyterRenderable at 0x7f1428a4ac70>"
      ]
     },
     "metadata": {},
     "output_type": "display_data"
    },
    {
     "data": {
      "text/html": [
       "<pre style=\"white-space:pre;overflow-x:auto;line-height:normal;font-family:Menlo,'DejaVu Sans Mono',consolas,'Courier New',monospace\"><span style=\"color: #7fbfbf\">           </span><span style=\"color: #000080\">INFO    </span> VALID AUC: <span style=\"color: #000080; font-weight: bold\">0.7704831614661662</span> VALID ACC:                   <a href=\"file://../trainer.py\"><span style=\"color: #7f7f7f\">trainer.py</span></a><span style=\"color: #7f7f7f\">:427</span>\n",
       "                    <span style=\"color: #000080; font-weight: bold\">0.6990881458966566</span>                                                       \n",
       "                                                                                             \n",
       "</pre>\n"
      ],
      "text/plain": [
       "<rich.jupyter.JupyterRenderable at 0x7f1428129d90>"
      ]
     },
     "metadata": {},
     "output_type": "display_data"
    },
    {
     "data": {
      "text/html": [
       "<pre style=\"white-space:pre;overflow-x:auto;line-height:normal;font-family:Menlo,'DejaVu Sans Mono',consolas,'Courier New',monospace\"><span style=\"color: #7fbfbf\">           </span><span style=\"color: #000080\">INFO    </span> EarlyStopping counter: <span style=\"color: #000080; font-weight: bold\">2</span>                                   <a href=\"file://../trainer.py\"><span style=\"color: #7f7f7f\">trainer.py</span></a><span style=\"color: #7f7f7f\">:435</span>\n",
       "</pre>\n"
      ],
      "text/plain": [
       "<rich.jupyter.JupyterRenderable at 0x7f1428184a90>"
      ]
     },
     "metadata": {},
     "output_type": "display_data"
    },
    {
     "data": {
      "text/html": [
       "<pre style=\"white-space:pre;overflow-x:auto;line-height:normal;font-family:Menlo,'DejaVu Sans Mono',consolas,'Courier New',monospace\"><span style=\"color: #7fbfbf\">           </span><span style=\"color: #000080\">INFO    </span> Start Training: Epoch <span style=\"color: #000080; font-weight: bold\">11</span>                                   <a href=\"file://../trainer.py\"><span style=\"color: #7f7f7f\">trainer.py</span></a><span style=\"color: #7f7f7f\">:409</span>\n",
       "</pre>\n"
      ],
      "text/plain": [
       "<rich.jupyter.JupyterRenderable at 0x7f1428184a90>"
      ]
     },
     "metadata": {},
     "output_type": "display_data"
    },
    {
     "name": "stdout",
     "output_type": "stream",
     "text": [
      "Training steps: 0 Loss: 0.4860227704048157\n",
      "Training steps: 50 Loss: 0.6320185661315918\n",
      "Training steps: 100 Loss: 0.6126279830932617\n",
      "Training steps: 150 Loss: 0.5537700653076172\n",
      "Training steps: 200 Loss: 0.5232439637184143\n",
      "VALID AUC : 0.7706152057529732 ACC : 0.7011144883485309\n",
      "\n"
     ]
    },
    {
     "data": {
      "text/html": [
       "<pre style=\"white-space:pre;overflow-x:auto;line-height:normal;font-family:Menlo,'DejaVu Sans Mono',consolas,'Courier New',monospace\"><span style=\"color: #7fbfbf\">[18:45:04] </span><span style=\"color: #000080\">INFO    </span> TRAIN_LOSS: <span style=\"color: #000080; font-weight: bold\">0.5614778399467468</span>                             <a href=\"file://../trainer.py\"><span style=\"color: #7f7f7f\">trainer.py</span></a><span style=\"color: #7f7f7f\">:425</span>\n",
       "</pre>\n"
      ],
      "text/plain": [
       "<rich.jupyter.JupyterRenderable at 0x7f1428129ca0>"
      ]
     },
     "metadata": {},
     "output_type": "display_data"
    },
    {
     "data": {
      "text/html": [
       "<pre style=\"white-space:pre;overflow-x:auto;line-height:normal;font-family:Menlo,'DejaVu Sans Mono',consolas,'Courier New',monospace\"><span style=\"color: #7fbfbf\">           </span><span style=\"color: #000080\">INFO    </span> TRAIN AUC: <span style=\"color: #000080; font-weight: bold\">0.7846062124896872</span> TRAIN ACC: <span style=\"color: #000080; font-weight: bold\">0.716800709264771</span> <a href=\"file://../trainer.py\"><span style=\"color: #7f7f7f\">trainer.py</span></a><span style=\"color: #7f7f7f\">:426</span>\n",
       "</pre>\n"
      ],
      "text/plain": [
       "<rich.jupyter.JupyterRenderable at 0x7f1424e58850>"
      ]
     },
     "metadata": {},
     "output_type": "display_data"
    },
    {
     "data": {
      "text/html": [
       "<pre style=\"white-space:pre;overflow-x:auto;line-height:normal;font-family:Menlo,'DejaVu Sans Mono',consolas,'Courier New',monospace\"><span style=\"color: #7fbfbf\">           </span><span style=\"color: #000080\">INFO    </span> VALID AUC: <span style=\"color: #000080; font-weight: bold\">0.7706152057529732</span> VALID ACC:                   <a href=\"file://../trainer.py\"><span style=\"color: #7f7f7f\">trainer.py</span></a><span style=\"color: #7f7f7f\">:427</span>\n",
       "                    <span style=\"color: #000080; font-weight: bold\">0.7011144883485309</span>                                                       \n",
       "                                                                                             \n",
       "</pre>\n"
      ],
      "text/plain": [
       "<rich.jupyter.JupyterRenderable at 0x7f1424ea8670>"
      ]
     },
     "metadata": {},
     "output_type": "display_data"
    },
    {
     "data": {
      "text/html": [
       "<pre style=\"white-space:pre;overflow-x:auto;line-height:normal;font-family:Menlo,'DejaVu Sans Mono',consolas,'Courier New',monospace\"><span style=\"color: #7fbfbf\">           </span><span style=\"color: #000080\">INFO    </span> EarlyStopping counter: <span style=\"color: #000080; font-weight: bold\">3</span>                                   <a href=\"file://../trainer.py\"><span style=\"color: #7f7f7f\">trainer.py</span></a><span style=\"color: #7f7f7f\">:435</span>\n",
       "</pre>\n"
      ],
      "text/plain": [
       "<rich.jupyter.JupyterRenderable at 0x7f14281b7070>"
      ]
     },
     "metadata": {},
     "output_type": "display_data"
    },
    {
     "data": {
      "text/html": [
       "<pre style=\"white-space:pre;overflow-x:auto;line-height:normal;font-family:Menlo,'DejaVu Sans Mono',consolas,'Courier New',monospace\"><span style=\"color: #7fbfbf\">           </span><span style=\"color: #000080\">INFO    </span> Start Training: Epoch <span style=\"color: #000080; font-weight: bold\">12</span>                                   <a href=\"file://../trainer.py\"><span style=\"color: #7f7f7f\">trainer.py</span></a><span style=\"color: #7f7f7f\">:409</span>\n",
       "</pre>\n"
      ],
      "text/plain": [
       "<rich.jupyter.JupyterRenderable at 0x7f1424e584f0>"
      ]
     },
     "metadata": {},
     "output_type": "display_data"
    },
    {
     "name": "stdout",
     "output_type": "stream",
     "text": [
      "Training steps: 0 Loss: 0.6082488894462585\n",
      "Training steps: 50 Loss: 0.5151845216751099\n",
      "Training steps: 100 Loss: 0.5173142552375793\n",
      "Training steps: 150 Loss: 0.5723379850387573\n",
      "Training steps: 200 Loss: 0.5296265482902527\n",
      "VALID AUC : 0.7706181571801808 ACC : 0.6993414387031408\n",
      "\n"
     ]
    },
    {
     "data": {
      "text/html": [
       "<pre style=\"white-space:pre;overflow-x:auto;line-height:normal;font-family:Menlo,'DejaVu Sans Mono',consolas,'Courier New',monospace\"><span style=\"color: #7fbfbf\">[18:45:07] </span><span style=\"color: #000080\">INFO    </span> TRAIN_LOSS: <span style=\"color: #000080; font-weight: bold\">0.5609673857688904</span>                             <a href=\"file://../trainer.py\"><span style=\"color: #7f7f7f\">trainer.py</span></a><span style=\"color: #7f7f7f\">:425</span>\n",
       "</pre>\n"
      ],
      "text/plain": [
       "<rich.jupyter.JupyterRenderable at 0x7f1424e48400>"
      ]
     },
     "metadata": {},
     "output_type": "display_data"
    },
    {
     "data": {
      "text/html": [
       "<pre style=\"white-space:pre;overflow-x:auto;line-height:normal;font-family:Menlo,'DejaVu Sans Mono',consolas,'Courier New',monospace\"><span style=\"color: #7fbfbf\">           </span><span style=\"color: #000080\">INFO    </span> TRAIN AUC: <span style=\"color: #000080; font-weight: bold\">0.7848384432608735</span> TRAIN ACC:                   <a href=\"file://../trainer.py\"><span style=\"color: #7f7f7f\">trainer.py</span></a><span style=\"color: #7f7f7f\">:426</span>\n",
       "                    <span style=\"color: #000080; font-weight: bold\">0.7174339813817998</span>                                                       \n",
       "</pre>\n"
      ],
      "text/plain": [
       "<rich.jupyter.JupyterRenderable at 0x7f1424eb02b0>"
      ]
     },
     "metadata": {},
     "output_type": "display_data"
    },
    {
     "data": {
      "text/html": [
       "<pre style=\"white-space:pre;overflow-x:auto;line-height:normal;font-family:Menlo,'DejaVu Sans Mono',consolas,'Courier New',monospace\"><span style=\"color: #7fbfbf\">           </span><span style=\"color: #000080\">INFO    </span> VALID AUC: <span style=\"color: #000080; font-weight: bold\">0.7706181571801808</span> VALID ACC:                   <a href=\"file://../trainer.py\"><span style=\"color: #7f7f7f\">trainer.py</span></a><span style=\"color: #7f7f7f\">:427</span>\n",
       "                    <span style=\"color: #000080; font-weight: bold\">0.6993414387031408</span>                                                       \n",
       "                                                                                             \n",
       "</pre>\n"
      ],
      "text/plain": [
       "<rich.jupyter.JupyterRenderable at 0x7f1428a4dc40>"
      ]
     },
     "metadata": {},
     "output_type": "display_data"
    },
    {
     "data": {
      "text/html": [
       "<pre style=\"white-space:pre;overflow-x:auto;line-height:normal;font-family:Menlo,'DejaVu Sans Mono',consolas,'Courier New',monospace\"><span style=\"color: #7fbfbf\">           </span><span style=\"color: #000080\">INFO    </span> EarlyStopping counter: <span style=\"color: #000080; font-weight: bold\">4</span>                                   <a href=\"file://../trainer.py\"><span style=\"color: #7f7f7f\">trainer.py</span></a><span style=\"color: #7f7f7f\">:435</span>\n",
       "</pre>\n"
      ],
      "text/plain": [
       "<rich.jupyter.JupyterRenderable at 0x7f1428191ca0>"
      ]
     },
     "metadata": {},
     "output_type": "display_data"
    },
    {
     "data": {
      "text/html": [
       "<pre style=\"white-space:pre;overflow-x:auto;line-height:normal;font-family:Menlo,'DejaVu Sans Mono',consolas,'Courier New',monospace\"><span style=\"color: #7fbfbf\">           </span><span style=\"color: #000080\">INFO    </span> Start Training: Epoch <span style=\"color: #000080; font-weight: bold\">13</span>                                   <a href=\"file://../trainer.py\"><span style=\"color: #7f7f7f\">trainer.py</span></a><span style=\"color: #7f7f7f\">:409</span>\n",
       "</pre>\n"
      ],
      "text/plain": [
       "<rich.jupyter.JupyterRenderable at 0x7f1424eb02b0>"
      ]
     },
     "metadata": {},
     "output_type": "display_data"
    },
    {
     "name": "stdout",
     "output_type": "stream",
     "text": [
      "Training steps: 0 Loss: 0.529248833656311\n",
      "Training steps: 50 Loss: 0.5202993750572205\n",
      "Training steps: 100 Loss: 0.5663237571716309\n",
      "Training steps: 150 Loss: 0.5406597852706909\n",
      "Training steps: 200 Loss: 0.5024064779281616\n",
      "VALID AUC : 0.7706972041001741 ACC : 0.6988348530901722\n",
      "\n"
     ]
    },
    {
     "data": {
      "text/html": [
       "<pre style=\"white-space:pre;overflow-x:auto;line-height:normal;font-family:Menlo,'DejaVu Sans Mono',consolas,'Courier New',monospace\"><span style=\"color: #7fbfbf\">[18:45:11] </span><span style=\"color: #000080\">INFO    </span> TRAIN_LOSS: <span style=\"color: #000080; font-weight: bold\">0.5610150098800659</span>                             <a href=\"file://../trainer.py\"><span style=\"color: #7f7f7f\">trainer.py</span></a><span style=\"color: #7f7f7f\">:425</span>\n",
       "</pre>\n"
      ],
      "text/plain": [
       "<rich.jupyter.JupyterRenderable at 0x7f1424ead3a0>"
      ]
     },
     "metadata": {},
     "output_type": "display_data"
    },
    {
     "data": {
      "text/html": [
       "<pre style=\"white-space:pre;overflow-x:auto;line-height:normal;font-family:Menlo,'DejaVu Sans Mono',consolas,'Courier New',monospace\"><span style=\"color: #7fbfbf\">           </span><span style=\"color: #000080\">INFO    </span> TRAIN AUC: <span style=\"color: #000080; font-weight: bold\">0.7846590764653817</span> TRAIN ACC:                   <a href=\"file://../trainer.py\"><span style=\"color: #7f7f7f\">trainer.py</span></a><span style=\"color: #7f7f7f\">:426</span>\n",
       "                    <span style=\"color: #000080; font-weight: bold\">0.7175606358052055</span>                                                       \n",
       "</pre>\n"
      ],
      "text/plain": [
       "<rich.jupyter.JupyterRenderable at 0x7f1428129ac0>"
      ]
     },
     "metadata": {},
     "output_type": "display_data"
    },
    {
     "data": {
      "text/html": [
       "<pre style=\"white-space:pre;overflow-x:auto;line-height:normal;font-family:Menlo,'DejaVu Sans Mono',consolas,'Courier New',monospace\"><span style=\"color: #7fbfbf\">           </span><span style=\"color: #000080\">INFO    </span> VALID AUC: <span style=\"color: #000080; font-weight: bold\">0.7706972041001741</span> VALID ACC:                   <a href=\"file://../trainer.py\"><span style=\"color: #7f7f7f\">trainer.py</span></a><span style=\"color: #7f7f7f\">:427</span>\n",
       "                    <span style=\"color: #000080; font-weight: bold\">0.6988348530901722</span>                                                       \n",
       "                                                                                             \n",
       "</pre>\n"
      ],
      "text/plain": [
       "<rich.jupyter.JupyterRenderable at 0x7f1424ead3a0>"
      ]
     },
     "metadata": {},
     "output_type": "display_data"
    },
    {
     "data": {
      "text/html": [
       "<pre style=\"white-space:pre;overflow-x:auto;line-height:normal;font-family:Menlo,'DejaVu Sans Mono',consolas,'Courier New',monospace\"><span style=\"color: #7fbfbf\">           </span><span style=\"color: #000080\">INFO    </span> EarlyStopping counter: <span style=\"color: #000080; font-weight: bold\">5</span>                                   <a href=\"file://../trainer.py\"><span style=\"color: #7f7f7f\">trainer.py</span></a><span style=\"color: #7f7f7f\">:435</span>\n",
       "</pre>\n"
      ],
      "text/plain": [
       "<rich.jupyter.JupyterRenderable at 0x7f14281b7be0>"
      ]
     },
     "metadata": {},
     "output_type": "display_data"
    },
    {
     "data": {
      "text/html": [
       "<pre style=\"white-space:pre;overflow-x:auto;line-height:normal;font-family:Menlo,'DejaVu Sans Mono',consolas,'Courier New',monospace\"><span style=\"color: #7fbfbf\">           </span><span style=\"color: #000080\">INFO    </span> EarlyStopping counter: <span style=\"color: #000080; font-weight: bold\">5</span> out of <span style=\"color: #000080; font-weight: bold\">5</span>                          <a href=\"file://../trainer.py\"><span style=\"color: #7f7f7f\">trainer.py</span></a><span style=\"color: #7f7f7f\">:437</span>\n",
       "</pre>\n"
      ],
      "text/plain": [
       "<rich.jupyter.JupyterRenderable at 0x7f1424ead3a0>"
      ]
     },
     "metadata": {},
     "output_type": "display_data"
    },
    {
     "data": {
      "text/html": [
       "Finishing last run (ID:2g0wobbk) before initializing another..."
      ],
      "text/plain": [
       "<IPython.core.display.HTML object>"
      ]
     },
     "metadata": {},
     "output_type": "display_data"
    },
    {
     "data": {
      "text/html": [
       "<br/>Waiting for W&B process to finish, PID 58919<br/>Program ended successfully."
      ],
      "text/plain": [
       "<IPython.core.display.HTML object>"
      ]
     },
     "metadata": {},
     "output_type": "display_data"
    },
    {
     "data": {
      "application/vnd.jupyter.widget-view+json": {
       "model_id": "207f29a192914384ac0760718adfb2f6",
       "version_major": 2,
       "version_minor": 0
      },
      "text/plain": [
       "VBox(children=(Label(value=' 5.77MB of 5.77MB uploaded (0.00MB deduped)\\r'), FloatProgress(value=1.0, max=1.0)…"
      ]
     },
     "metadata": {},
     "output_type": "display_data"
    },
    {
     "data": {
      "text/html": [
       "Find user logs for this run at: <code>/home/j-gunmo/desktop/00.my-project/17.P-Stage-T1003/4-STAGE/notebook/wandb/run-20210611_184422-2g0wobbk/logs/debug.log</code>"
      ],
      "text/plain": [
       "<IPython.core.display.HTML object>"
      ]
     },
     "metadata": {},
     "output_type": "display_data"
    },
    {
     "data": {
      "text/html": [
       "Find internal logs for this run at: <code>/home/j-gunmo/desktop/00.my-project/17.P-Stage-T1003/4-STAGE/notebook/wandb/run-20210611_184422-2g0wobbk/logs/debug-internal.log</code>"
      ],
      "text/plain": [
       "<IPython.core.display.HTML object>"
      ]
     },
     "metadata": {},
     "output_type": "display_data"
    },
    {
     "data": {
      "text/html": [
       "<h3>Run summary:</h3><br/><style>\n",
       "    table.wandb td:nth-child(1) { padding: 0 10px; text-align: right }\n",
       "    </style><table class=\"wandb\">\n",
       "<tr><td>epoch</td><td>12</td></tr><tr><td>train_loss</td><td>0.56102</td></tr><tr><td>train_auc</td><td>0.78466</td></tr><tr><td>train_acc</td><td>0.71756</td></tr><tr><td>valid_auc</td><td>0.7707</td></tr><tr><td>valid_acc</td><td>0.69883</td></tr><tr><td>_runtime</td><td>46</td></tr><tr><td>_timestamp</td><td>1623404711</td></tr><tr><td>_step</td><td>12</td></tr></table>"
      ],
      "text/plain": [
       "<IPython.core.display.HTML object>"
      ]
     },
     "metadata": {},
     "output_type": "display_data"
    },
    {
     "data": {
      "text/html": [
       "<h3>Run history:</h3><br/><style>\n",
       "    table.wandb td:nth-child(1) { padding: 0 10px; text-align: right }\n",
       "    </style><table class=\"wandb\">\n",
       "<tr><td>epoch</td><td>▁▂▂▃▃▄▅▅▆▆▇▇█</td></tr><tr><td>train_loss</td><td>█▂▂▁▁▁▁▁▁▁▁▁▁</td></tr><tr><td>train_auc</td><td>▁▇███████████</td></tr><tr><td>train_acc</td><td>▁▇▇▇█████████</td></tr><tr><td>valid_auc</td><td>▁▄▆▇▇████████</td></tr><tr><td>valid_acc</td><td>▁▂▅▅▆▇██▆▆▇▆▆</td></tr><tr><td>_runtime</td><td>▁▂▂▃▃▄▅▅▆▆▇▇█</td></tr><tr><td>_timestamp</td><td>▁▂▂▃▃▄▅▅▆▆▇▇█</td></tr><tr><td>_step</td><td>▁▂▂▃▃▄▅▅▆▆▇▇█</td></tr></table><br/>"
      ],
      "text/plain": [
       "<IPython.core.display.HTML object>"
      ]
     },
     "metadata": {},
     "output_type": "display_data"
    },
    {
     "data": {
      "text/html": [
       "Synced 6 W&B file(s), 1 media file(s), 0 artifact file(s) and 1 other file(s)"
      ],
      "text/plain": [
       "<IPython.core.display.HTML object>"
      ]
     },
     "metadata": {},
     "output_type": "display_data"
    },
    {
     "data": {
      "text/html": [
       "\n",
       "                    <br/>Synced <strong style=\"color:#cdcd00\">stoic-moon-504</strong>: <a href=\"https://wandb.ai/ggm1207/p-stage-4/runs/2g0wobbk\" target=\"_blank\">https://wandb.ai/ggm1207/p-stage-4/runs/2g0wobbk</a><br/>\n",
       "                "
      ],
      "text/plain": [
       "<IPython.core.display.HTML object>"
      ]
     },
     "metadata": {},
     "output_type": "display_data"
    },
    {
     "data": {
      "text/html": [
       "...Successfully finished last run (ID:2g0wobbk). Initializing new run:<br/><br/>"
      ],
      "text/plain": [
       "<IPython.core.display.HTML object>"
      ]
     },
     "metadata": {},
     "output_type": "display_data"
    },
    {
     "name": "stderr",
     "output_type": "stream",
     "text": [
      "\u001b[34m\u001b[1mwandb\u001b[0m: wandb version 0.10.32 is available!  To upgrade, please run:\n",
      "\u001b[34m\u001b[1mwandb\u001b[0m:  $ pip install wandb --upgrade\n"
     ]
    },
    {
     "data": {
      "text/html": [
       "\n",
       "                Tracking run with wandb version 0.10.27<br/>\n",
       "                Syncing run <strong style=\"color:#cdcd00\">vital-tree-505</strong> to <a href=\"https://wandb.ai\" target=\"_blank\">Weights & Biases</a> <a href=\"https://docs.wandb.com/integrations/jupyter.html\" target=\"_blank\">(Documentation)</a>.<br/>\n",
       "                Project page: <a href=\"https://wandb.ai/ggm1207/p-stage-4\" target=\"_blank\">https://wandb.ai/ggm1207/p-stage-4</a><br/>\n",
       "                Run page: <a href=\"https://wandb.ai/ggm1207/p-stage-4/runs/svra8tmu\" target=\"_blank\">https://wandb.ai/ggm1207/p-stage-4/runs/svra8tmu</a><br/>\n",
       "                Run data is saved locally in <code>/home/j-gunmo/desktop/00.my-project/17.P-Stage-T1003/4-STAGE/notebook/wandb/run-20210611_184511-svra8tmu</code><br/><br/>\n",
       "            "
      ],
      "text/plain": [
       "<IPython.core.display.HTML object>"
      ]
     },
     "metadata": {},
     "output_type": "display_data"
    },
    {
     "data": {
      "text/html": [
       "<pre style=\"white-space:pre;overflow-x:auto;line-height:normal;font-family:Menlo,'DejaVu Sans Mono',consolas,'Courier New',monospace\"><span style=\"color: #7fbfbf\">[18:45:16] </span><span style=\"color: #000080\">INFO    </span> Start Training: Epoch <span style=\"color: #000080; font-weight: bold\">1</span>                                    <a href=\"file://../trainer.py\"><span style=\"color: #7f7f7f\">trainer.py</span></a><span style=\"color: #7f7f7f\">:409</span>\n",
       "</pre>\n"
      ],
      "text/plain": [
       "<rich.jupyter.JupyterRenderable at 0x7f1424e99b20>"
      ]
     },
     "metadata": {},
     "output_type": "display_data"
    },
    {
     "name": "stdout",
     "output_type": "stream",
     "text": [
      "Training steps: 0 Loss: 0.6896981596946716\n",
      "Training steps: 50 Loss: 0.6900671720504761\n",
      "Training steps: 100 Loss: 0.6861625909805298\n",
      "Training steps: 150 Loss: 0.6746559143066406\n",
      "Training steps: 200 Loss: 0.649752676486969\n",
      "VALID AUC : 0.7741768650170361 ACC : 0.7036474164133738\n",
      "\n"
     ]
    },
    {
     "data": {
      "text/html": [
       "<pre style=\"white-space:pre;overflow-x:auto;line-height:normal;font-family:Menlo,'DejaVu Sans Mono',consolas,'Courier New',monospace\"><span style=\"color: #7fbfbf\">[18:45:20] </span><span style=\"color: #000080\">INFO    </span> TRAIN_LOSS: <span style=\"color: #000080; font-weight: bold\">0.6731449961662292</span>                             <a href=\"file://../trainer.py\"><span style=\"color: #7f7f7f\">trainer.py</span></a><span style=\"color: #7f7f7f\">:425</span>\n",
       "</pre>\n"
      ],
      "text/plain": [
       "<rich.jupyter.JupyterRenderable at 0x7f14281a6d30>"
      ]
     },
     "metadata": {},
     "output_type": "display_data"
    },
    {
     "data": {
      "text/html": [
       "<pre style=\"white-space:pre;overflow-x:auto;line-height:normal;font-family:Menlo,'DejaVu Sans Mono',consolas,'Courier New',monospace\"><span style=\"color: #7fbfbf\">           </span><span style=\"color: #000080\">INFO    </span> TRAIN AUC: <span style=\"color: #000080; font-weight: bold\">0.696165711060144</span> TRAIN ACC: <span style=\"color: #000080; font-weight: bold\">0.635298587803179</span>  <a href=\"file://../trainer.py\"><span style=\"color: #7f7f7f\">trainer.py</span></a><span style=\"color: #7f7f7f\">:426</span>\n",
       "</pre>\n"
      ],
      "text/plain": [
       "<rich.jupyter.JupyterRenderable at 0x7f1428165580>"
      ]
     },
     "metadata": {},
     "output_type": "display_data"
    },
    {
     "data": {
      "text/html": [
       "<pre style=\"white-space:pre;overflow-x:auto;line-height:normal;font-family:Menlo,'DejaVu Sans Mono',consolas,'Courier New',monospace\"><span style=\"color: #7fbfbf\">           </span><span style=\"color: #000080\">INFO    </span> VALID AUC: <span style=\"color: #000080; font-weight: bold\">0.7741768650170361</span> VALID ACC:                   <a href=\"file://../trainer.py\"><span style=\"color: #7f7f7f\">trainer.py</span></a><span style=\"color: #7f7f7f\">:427</span>\n",
       "                    <span style=\"color: #000080; font-weight: bold\">0.7036474164133738</span>                                                       \n",
       "                                                                                             \n",
       "</pre>\n"
      ],
      "text/plain": [
       "<rich.jupyter.JupyterRenderable at 0x7f14281cb4f0>"
      ]
     },
     "metadata": {},
     "output_type": "display_data"
    },
    {
     "data": {
      "text/html": [
       "<pre style=\"white-space:pre;overflow-x:auto;line-height:normal;font-family:Menlo,'DejaVu Sans Mono',consolas,'Courier New',monospace\"><span style=\"color: #7fbfbf\">           </span><span style=\"color: #000080\">INFO    </span> Start Training: Epoch <span style=\"color: #000080; font-weight: bold\">2</span>                                    <a href=\"file://../trainer.py\"><span style=\"color: #7f7f7f\">trainer.py</span></a><span style=\"color: #7f7f7f\">:409</span>\n",
       "</pre>\n"
      ],
      "text/plain": [
       "<rich.jupyter.JupyterRenderable at 0x7f14281a6700>"
      ]
     },
     "metadata": {},
     "output_type": "display_data"
    },
    {
     "name": "stdout",
     "output_type": "stream",
     "text": [
      "Training steps: 0 Loss: 0.6230430603027344\n",
      "Training steps: 50 Loss: 0.5846840143203735\n",
      "Training steps: 100 Loss: 0.511428952217102\n",
      "Training steps: 150 Loss: 0.5034840106964111\n",
      "Training steps: 200 Loss: 0.5856384038925171\n",
      "VALID AUC : 0.7772343794749557 ACC : 0.7082066869300911\n",
      "\n"
     ]
    },
    {
     "data": {
      "text/html": [
       "<pre style=\"white-space:pre;overflow-x:auto;line-height:normal;font-family:Menlo,'DejaVu Sans Mono',consolas,'Courier New',monospace\"><span style=\"color: #7fbfbf\">[18:45:23] </span><span style=\"color: #000080\">INFO    </span> TRAIN_LOSS: <span style=\"color: #000080; font-weight: bold\">0.5861749053001404</span>                             <a href=\"file://../trainer.py\"><span style=\"color: #7f7f7f\">trainer.py</span></a><span style=\"color: #7f7f7f\">:425</span>\n",
       "</pre>\n"
      ],
      "text/plain": [
       "<rich.jupyter.JupyterRenderable at 0x7f1424ea8670>"
      ]
     },
     "metadata": {},
     "output_type": "display_data"
    },
    {
     "data": {
      "text/html": [
       "<pre style=\"white-space:pre;overflow-x:auto;line-height:normal;font-family:Menlo,'DejaVu Sans Mono',consolas,'Courier New',monospace\"><span style=\"color: #7fbfbf\">           </span><span style=\"color: #000080\">INFO    </span> TRAIN AUC: <span style=\"color: #000080; font-weight: bold\">0.7678401634570118</span> TRAIN ACC:                   <a href=\"file://../trainer.py\"><span style=\"color: #7f7f7f\">trainer.py</span></a><span style=\"color: #7f7f7f\">:426</span>\n",
       "                    <span style=\"color: #000080; font-weight: bold\">0.7026787410550314</span>                                                       \n",
       "</pre>\n"
      ],
      "text/plain": [
       "<rich.jupyter.JupyterRenderable at 0x7f1424eba1f0>"
      ]
     },
     "metadata": {},
     "output_type": "display_data"
    },
    {
     "data": {
      "text/html": [
       "<pre style=\"white-space:pre;overflow-x:auto;line-height:normal;font-family:Menlo,'DejaVu Sans Mono',consolas,'Courier New',monospace\"><span style=\"color: #7fbfbf\">           </span><span style=\"color: #000080\">INFO    </span> VALID AUC: <span style=\"color: #000080; font-weight: bold\">0.7772343794749557</span> VALID ACC:                   <a href=\"file://../trainer.py\"><span style=\"color: #7f7f7f\">trainer.py</span></a><span style=\"color: #7f7f7f\">:427</span>\n",
       "                    <span style=\"color: #000080; font-weight: bold\">0.7082066869300911</span>                                                       \n",
       "                                                                                             \n",
       "</pre>\n"
      ],
      "text/plain": [
       "<rich.jupyter.JupyterRenderable at 0x7f1424eada30>"
      ]
     },
     "metadata": {},
     "output_type": "display_data"
    },
    {
     "data": {
      "text/html": [
       "<pre style=\"white-space:pre;overflow-x:auto;line-height:normal;font-family:Menlo,'DejaVu Sans Mono',consolas,'Courier New',monospace\"><span style=\"color: #7fbfbf\">           </span><span style=\"color: #000080\">INFO    </span> Start Training: Epoch <span style=\"color: #000080; font-weight: bold\">3</span>                                    <a href=\"file://../trainer.py\"><span style=\"color: #7f7f7f\">trainer.py</span></a><span style=\"color: #7f7f7f\">:409</span>\n",
       "</pre>\n"
      ],
      "text/plain": [
       "<rich.jupyter.JupyterRenderable at 0x7f1424ea8670>"
      ]
     },
     "metadata": {},
     "output_type": "display_data"
    },
    {
     "name": "stdout",
     "output_type": "stream",
     "text": [
      "Training steps: 0 Loss: 0.5947161316871643\n",
      "Training steps: 50 Loss: 0.5388880372047424\n",
      "Training steps: 100 Loss: 0.5866844654083252\n",
      "Training steps: 150 Loss: 0.5690162181854248\n",
      "Training steps: 200 Loss: 0.536395788192749\n",
      "VALID AUC : 0.7786482567659725 ACC : 0.7069402228976697\n",
      "\n"
     ]
    },
    {
     "data": {
      "text/html": [
       "<pre style=\"white-space:pre;overflow-x:auto;line-height:normal;font-family:Menlo,'DejaVu Sans Mono',consolas,'Courier New',monospace\"><span style=\"color: #7fbfbf\">[18:45:26] </span><span style=\"color: #000080\">INFO    </span> TRAIN_LOSS: <span style=\"color: #000080; font-weight: bold\">0.5752871036529541</span>                             <a href=\"file://../trainer.py\"><span style=\"color: #7f7f7f\">trainer.py</span></a><span style=\"color: #7f7f7f\">:425</span>\n",
       "</pre>\n"
      ],
      "text/plain": [
       "<rich.jupyter.JupyterRenderable at 0x7f1424ea7b20>"
      ]
     },
     "metadata": {},
     "output_type": "display_data"
    },
    {
     "data": {
      "text/html": [
       "<pre style=\"white-space:pre;overflow-x:auto;line-height:normal;font-family:Menlo,'DejaVu Sans Mono',consolas,'Courier New',monospace\"><span style=\"color: #7fbfbf\">           </span><span style=\"color: #000080\">INFO    </span> TRAIN AUC: <span style=\"color: #000080; font-weight: bold\">0.7758022425598596</span> TRAIN ACC:                   <a href=\"file://../trainer.py\"><span style=\"color: #7f7f7f\">trainer.py</span></a><span style=\"color: #7f7f7f\">:426</span>\n",
       "                    <span style=\"color: #000080; font-weight: bold\">0.7056551200050661</span>                                                       \n",
       "</pre>\n"
      ],
      "text/plain": [
       "<rich.jupyter.JupyterRenderable at 0x7f1428165e20>"
      ]
     },
     "metadata": {},
     "output_type": "display_data"
    },
    {
     "data": {
      "text/html": [
       "<pre style=\"white-space:pre;overflow-x:auto;line-height:normal;font-family:Menlo,'DejaVu Sans Mono',consolas,'Courier New',monospace\"><span style=\"color: #7fbfbf\">           </span><span style=\"color: #000080\">INFO    </span> VALID AUC: <span style=\"color: #000080; font-weight: bold\">0.7786482567659725</span> VALID ACC:                   <a href=\"file://../trainer.py\"><span style=\"color: #7f7f7f\">trainer.py</span></a><span style=\"color: #7f7f7f\">:427</span>\n",
       "                    <span style=\"color: #000080; font-weight: bold\">0.7069402228976697</span>                                                       \n",
       "                                                                                             \n",
       "</pre>\n"
      ],
      "text/plain": [
       "<rich.jupyter.JupyterRenderable at 0x7f1428165250>"
      ]
     },
     "metadata": {},
     "output_type": "display_data"
    },
    {
     "data": {
      "text/html": [
       "<pre style=\"white-space:pre;overflow-x:auto;line-height:normal;font-family:Menlo,'DejaVu Sans Mono',consolas,'Courier New',monospace\"><span style=\"color: #7fbfbf\">           </span><span style=\"color: #000080\">INFO    </span> Start Training: Epoch <span style=\"color: #000080; font-weight: bold\">4</span>                                    <a href=\"file://../trainer.py\"><span style=\"color: #7f7f7f\">trainer.py</span></a><span style=\"color: #7f7f7f\">:409</span>\n",
       "</pre>\n"
      ],
      "text/plain": [
       "<rich.jupyter.JupyterRenderable at 0x7f1428a4aee0>"
      ]
     },
     "metadata": {},
     "output_type": "display_data"
    },
    {
     "name": "stdout",
     "output_type": "stream",
     "text": [
      "Training steps: 0 Loss: 0.5492608547210693\n",
      "Training steps: 50 Loss: 0.5798891186714172\n",
      "Training steps: 100 Loss: 0.5706085562705994\n",
      "Training steps: 150 Loss: 0.6030460596084595\n",
      "Training steps: 200 Loss: 0.5429593324661255\n",
      "VALID AUC : 0.7793213543118184 ACC : 0.7104863221884499\n",
      "\n"
     ]
    },
    {
     "data": {
      "text/html": [
       "<pre style=\"white-space:pre;overflow-x:auto;line-height:normal;font-family:Menlo,'DejaVu Sans Mono',consolas,'Courier New',monospace\"><span style=\"color: #7fbfbf\">[18:45:29] </span><span style=\"color: #000080\">INFO    </span> TRAIN_LOSS: <span style=\"color: #000080; font-weight: bold\">0.5716342329978943</span>                             <a href=\"file://../trainer.py\"><span style=\"color: #7f7f7f\">trainer.py</span></a><span style=\"color: #7f7f7f\">:425</span>\n",
       "</pre>\n"
      ],
      "text/plain": [
       "<rich.jupyter.JupyterRenderable at 0x7f1425f46be0>"
      ]
     },
     "metadata": {},
     "output_type": "display_data"
    },
    {
     "data": {
      "text/html": [
       "<pre style=\"white-space:pre;overflow-x:auto;line-height:normal;font-family:Menlo,'DejaVu Sans Mono',consolas,'Courier New',monospace\"><span style=\"color: #7fbfbf\">           </span><span style=\"color: #000080\">INFO    </span> TRAIN AUC: <span style=\"color: #000080; font-weight: bold\">0.7780970139315204</span> TRAIN ACC:                   <a href=\"file://../trainer.py\"><span style=\"color: #7f7f7f\">trainer.py</span></a><span style=\"color: #7f7f7f\">:426</span>\n",
       "                    <span style=\"color: #000080; font-weight: bold\">0.7083148628965866</span>                                                       \n",
       "</pre>\n"
      ],
      "text/plain": [
       "<rich.jupyter.JupyterRenderable at 0x7f1424e717c0>"
      ]
     },
     "metadata": {},
     "output_type": "display_data"
    },
    {
     "data": {
      "text/html": [
       "<pre style=\"white-space:pre;overflow-x:auto;line-height:normal;font-family:Menlo,'DejaVu Sans Mono',consolas,'Courier New',monospace\"><span style=\"color: #7fbfbf\">           </span><span style=\"color: #000080\">INFO    </span> VALID AUC: <span style=\"color: #000080; font-weight: bold\">0.7793213543118184</span> VALID ACC:                   <a href=\"file://../trainer.py\"><span style=\"color: #7f7f7f\">trainer.py</span></a><span style=\"color: #7f7f7f\">:427</span>\n",
       "                    <span style=\"color: #000080; font-weight: bold\">0.7104863221884499</span>                                                       \n",
       "                                                                                             \n",
       "</pre>\n"
      ],
      "text/plain": [
       "<rich.jupyter.JupyterRenderable at 0x7f1428122850>"
      ]
     },
     "metadata": {},
     "output_type": "display_data"
    },
    {
     "data": {
      "text/html": [
       "<pre style=\"white-space:pre;overflow-x:auto;line-height:normal;font-family:Menlo,'DejaVu Sans Mono',consolas,'Courier New',monospace\"><span style=\"color: #7fbfbf\">           </span><span style=\"color: #000080\">INFO    </span> Start Training: Epoch <span style=\"color: #000080; font-weight: bold\">5</span>                                    <a href=\"file://../trainer.py\"><span style=\"color: #7f7f7f\">trainer.py</span></a><span style=\"color: #7f7f7f\">:409</span>\n",
       "</pre>\n"
      ],
      "text/plain": [
       "<rich.jupyter.JupyterRenderable at 0x7f1424eba1f0>"
      ]
     },
     "metadata": {},
     "output_type": "display_data"
    },
    {
     "name": "stdout",
     "output_type": "stream",
     "text": [
      "Training steps: 0 Loss: 0.5388408899307251\n",
      "Training steps: 50 Loss: 0.5770831108093262\n",
      "Training steps: 100 Loss: 0.5768698453903198\n",
      "Training steps: 150 Loss: 0.5731824636459351\n",
      "Training steps: 200 Loss: 0.5690631866455078\n",
      "VALID AUC : 0.7794217859624293 ACC : 0.7099797365754813\n",
      "\n"
     ]
    },
    {
     "data": {
      "text/html": [
       "<pre style=\"white-space:pre;overflow-x:auto;line-height:normal;font-family:Menlo,'DejaVu Sans Mono',consolas,'Courier New',monospace\"><span style=\"color: #7fbfbf\">[18:45:32] </span><span style=\"color: #000080\">INFO    </span> TRAIN_LOSS: <span style=\"color: #000080; font-weight: bold\">0.5694242119789124</span>                             <a href=\"file://../trainer.py\"><span style=\"color: #7f7f7f\">trainer.py</span></a><span style=\"color: #7f7f7f\">:425</span>\n",
       "</pre>\n"
      ],
      "text/plain": [
       "<rich.jupyter.JupyterRenderable at 0x7f1428122850>"
      ]
     },
     "metadata": {},
     "output_type": "display_data"
    },
    {
     "data": {
      "text/html": [
       "<pre style=\"white-space:pre;overflow-x:auto;line-height:normal;font-family:Menlo,'DejaVu Sans Mono',consolas,'Courier New',monospace\"><span style=\"color: #7fbfbf\">           </span><span style=\"color: #000080\">INFO    </span> TRAIN AUC: <span style=\"color: #000080; font-weight: bold\">0.7791780361218945</span> TRAIN ACC: <span style=\"color: #000080; font-weight: bold\">0.707681590779558</span> <a href=\"file://../trainer.py\"><span style=\"color: #7f7f7f\">trainer.py</span></a><span style=\"color: #7f7f7f\">:426</span>\n",
       "</pre>\n"
      ],
      "text/plain": [
       "<rich.jupyter.JupyterRenderable at 0x7f1428122850>"
      ]
     },
     "metadata": {},
     "output_type": "display_data"
    },
    {
     "data": {
      "text/html": [
       "<pre style=\"white-space:pre;overflow-x:auto;line-height:normal;font-family:Menlo,'DejaVu Sans Mono',consolas,'Courier New',monospace\"><span style=\"color: #7fbfbf\">           </span><span style=\"color: #000080\">INFO    </span> VALID AUC: <span style=\"color: #000080; font-weight: bold\">0.7794217859624293</span> VALID ACC:                   <a href=\"file://../trainer.py\"><span style=\"color: #7f7f7f\">trainer.py</span></a><span style=\"color: #7f7f7f\">:427</span>\n",
       "                    <span style=\"color: #000080; font-weight: bold\">0.7099797365754813</span>                                                       \n",
       "                                                                                             \n",
       "</pre>\n"
      ],
      "text/plain": [
       "<rich.jupyter.JupyterRenderable at 0x7f1428122dc0>"
      ]
     },
     "metadata": {},
     "output_type": "display_data"
    },
    {
     "data": {
      "text/html": [
       "<pre style=\"white-space:pre;overflow-x:auto;line-height:normal;font-family:Menlo,'DejaVu Sans Mono',consolas,'Courier New',monospace\"><span style=\"color: #7fbfbf\">           </span><span style=\"color: #000080\">INFO    </span> Start Training: Epoch <span style=\"color: #000080; font-weight: bold\">6</span>                                    <a href=\"file://../trainer.py\"><span style=\"color: #7f7f7f\">trainer.py</span></a><span style=\"color: #7f7f7f\">:409</span>\n",
       "</pre>\n"
      ],
      "text/plain": [
       "<rich.jupyter.JupyterRenderable at 0x7f14281f2a30>"
      ]
     },
     "metadata": {},
     "output_type": "display_data"
    },
    {
     "name": "stdout",
     "output_type": "stream",
     "text": [
      "Training steps: 0 Loss: 0.5436680316925049\n",
      "Training steps: 50 Loss: 0.5079683065414429\n",
      "Training steps: 100 Loss: 0.6003727912902832\n",
      "Training steps: 150 Loss: 0.4717066287994385\n",
      "Training steps: 200 Loss: 0.6844483613967896\n",
      "VALID AUC : 0.7799420527356067 ACC : 0.7112462006079028\n",
      "\n"
     ]
    },
    {
     "data": {
      "text/html": [
       "<pre style=\"white-space:pre;overflow-x:auto;line-height:normal;font-family:Menlo,'DejaVu Sans Mono',consolas,'Courier New',monospace\"><span style=\"color: #7fbfbf\">[18:45:35] </span><span style=\"color: #000080\">INFO    </span> TRAIN_LOSS: <span style=\"color: #000080; font-weight: bold\">0.5680206418037415</span>                             <a href=\"file://../trainer.py\"><span style=\"color: #7f7f7f\">trainer.py</span></a><span style=\"color: #7f7f7f\">:425</span>\n",
       "</pre>\n"
      ],
      "text/plain": [
       "<rich.jupyter.JupyterRenderable at 0x7f14281cb4f0>"
      ]
     },
     "metadata": {},
     "output_type": "display_data"
    },
    {
     "data": {
      "text/html": [
       "<pre style=\"white-space:pre;overflow-x:auto;line-height:normal;font-family:Menlo,'DejaVu Sans Mono',consolas,'Courier New',monospace\"><span style=\"color: #7fbfbf\">           </span><span style=\"color: #000080\">INFO    </span> TRAIN AUC: <span style=\"color: #000080; font-weight: bold\">0.7795760887319727</span> TRAIN ACC:                   <a href=\"file://../trainer.py\"><span style=\"color: #7f7f7f\">trainer.py</span></a><span style=\"color: #7f7f7f\">:426</span>\n",
       "                    <span style=\"color: #000080; font-weight: bold\">0.7083148628965866</span>                                                       \n",
       "</pre>\n"
      ],
      "text/plain": [
       "<rich.jupyter.JupyterRenderable at 0x7f14281f2a30>"
      ]
     },
     "metadata": {},
     "output_type": "display_data"
    },
    {
     "data": {
      "text/html": [
       "<pre style=\"white-space:pre;overflow-x:auto;line-height:normal;font-family:Menlo,'DejaVu Sans Mono',consolas,'Courier New',monospace\"><span style=\"color: #7fbfbf\">           </span><span style=\"color: #000080\">INFO    </span> VALID AUC: <span style=\"color: #000080; font-weight: bold\">0.7799420527356067</span> VALID ACC:                   <a href=\"file://../trainer.py\"><span style=\"color: #7f7f7f\">trainer.py</span></a><span style=\"color: #7f7f7f\">:427</span>\n",
       "                    <span style=\"color: #000080; font-weight: bold\">0.7112462006079028</span>                                                       \n",
       "                                                                                             \n",
       "</pre>\n"
      ],
      "text/plain": [
       "<rich.jupyter.JupyterRenderable at 0x7f1424ebaac0>"
      ]
     },
     "metadata": {},
     "output_type": "display_data"
    },
    {
     "data": {
      "text/html": [
       "<pre style=\"white-space:pre;overflow-x:auto;line-height:normal;font-family:Menlo,'DejaVu Sans Mono',consolas,'Courier New',monospace\"><span style=\"color: #7fbfbf\">           </span><span style=\"color: #000080\">INFO    </span> Start Training: Epoch <span style=\"color: #000080; font-weight: bold\">7</span>                                    <a href=\"file://../trainer.py\"><span style=\"color: #7f7f7f\">trainer.py</span></a><span style=\"color: #7f7f7f\">:409</span>\n",
       "</pre>\n"
      ],
      "text/plain": [
       "<rich.jupyter.JupyterRenderable at 0x7f14281f2a30>"
      ]
     },
     "metadata": {},
     "output_type": "display_data"
    },
    {
     "name": "stdout",
     "output_type": "stream",
     "text": [
      "Training steps: 0 Loss: 0.5601626038551331\n",
      "Training steps: 50 Loss: 0.5879883170127869\n",
      "Training steps: 100 Loss: 0.556464672088623\n",
      "Training steps: 150 Loss: 0.551841139793396\n",
      "Training steps: 200 Loss: 0.554437518119812\n",
      "VALID AUC : 0.7800734358284134 ACC : 0.7094731509625126\n",
      "\n"
     ]
    },
    {
     "data": {
      "text/html": [
       "<pre style=\"white-space:pre;overflow-x:auto;line-height:normal;font-family:Menlo,'DejaVu Sans Mono',consolas,'Courier New',monospace\"><span style=\"color: #7fbfbf\">[18:45:39] </span><span style=\"color: #000080\">INFO    </span> TRAIN_LOSS: <span style=\"color: #000080; font-weight: bold\">0.5675379037857056</span>                             <a href=\"file://../trainer.py\"><span style=\"color: #7f7f7f\">trainer.py</span></a><span style=\"color: #7f7f7f\">:425</span>\n",
       "</pre>\n"
      ],
      "text/plain": [
       "<rich.jupyter.JupyterRenderable at 0x7f1424ea8670>"
      ]
     },
     "metadata": {},
     "output_type": "display_data"
    },
    {
     "data": {
      "text/html": [
       "<pre style=\"white-space:pre;overflow-x:auto;line-height:normal;font-family:Menlo,'DejaVu Sans Mono',consolas,'Courier New',monospace\"><span style=\"color: #7fbfbf\">           </span><span style=\"color: #000080\">INFO    </span> TRAIN AUC: <span style=\"color: #000080; font-weight: bold\">0.7799596363614192</span> TRAIN ACC: <span style=\"color: #000080; font-weight: bold\">0.709581407130644</span> <a href=\"file://../trainer.py\"><span style=\"color: #7f7f7f\">trainer.py</span></a><span style=\"color: #7f7f7f\">:426</span>\n",
       "</pre>\n"
      ],
      "text/plain": [
       "<rich.jupyter.JupyterRenderable at 0x7f1424eba1f0>"
      ]
     },
     "metadata": {},
     "output_type": "display_data"
    },
    {
     "data": {
      "text/html": [
       "<pre style=\"white-space:pre;overflow-x:auto;line-height:normal;font-family:Menlo,'DejaVu Sans Mono',consolas,'Courier New',monospace\"><span style=\"color: #7fbfbf\">           </span><span style=\"color: #000080\">INFO    </span> VALID AUC: <span style=\"color: #000080; font-weight: bold\">0.7800734358284134</span> VALID ACC:                   <a href=\"file://../trainer.py\"><span style=\"color: #7f7f7f\">trainer.py</span></a><span style=\"color: #7f7f7f\">:427</span>\n",
       "                    <span style=\"color: #000080; font-weight: bold\">0.7094731509625126</span>                                                       \n",
       "                                                                                             \n",
       "</pre>\n"
      ],
      "text/plain": [
       "<rich.jupyter.JupyterRenderable at 0x7f1424ebaac0>"
      ]
     },
     "metadata": {},
     "output_type": "display_data"
    },
    {
     "data": {
      "text/html": [
       "<pre style=\"white-space:pre;overflow-x:auto;line-height:normal;font-family:Menlo,'DejaVu Sans Mono',consolas,'Courier New',monospace\"><span style=\"color: #7fbfbf\">           </span><span style=\"color: #000080\">INFO    </span> Start Training: Epoch <span style=\"color: #000080; font-weight: bold\">8</span>                                    <a href=\"file://../trainer.py\"><span style=\"color: #7f7f7f\">trainer.py</span></a><span style=\"color: #7f7f7f\">:409</span>\n",
       "</pre>\n"
      ],
      "text/plain": [
       "<rich.jupyter.JupyterRenderable at 0x7f1428a55790>"
      ]
     },
     "metadata": {},
     "output_type": "display_data"
    },
    {
     "name": "stdout",
     "output_type": "stream",
     "text": [
      "Training steps: 0 Loss: 0.6402342319488525\n",
      "Training steps: 50 Loss: 0.5753796100616455\n",
      "Training steps: 100 Loss: 0.5524563789367676\n",
      "Training steps: 150 Loss: 0.5059913396835327\n",
      "Training steps: 200 Loss: 0.49868282675743103\n",
      "VALID AUC : 0.780032723765442 ACC : 0.708966565349544\n",
      "\n"
     ]
    },
    {
     "data": {
      "text/html": [
       "<pre style=\"white-space:pre;overflow-x:auto;line-height:normal;font-family:Menlo,'DejaVu Sans Mono',consolas,'Courier New',monospace\"><span style=\"color: #7fbfbf\">[18:45:42] </span><span style=\"color: #000080\">INFO    </span> TRAIN_LOSS: <span style=\"color: #000080; font-weight: bold\">0.5667170286178589</span>                             <a href=\"file://../trainer.py\"><span style=\"color: #7f7f7f\">trainer.py</span></a><span style=\"color: #7f7f7f\">:425</span>\n",
       "</pre>\n"
      ],
      "text/plain": [
       "<rich.jupyter.JupyterRenderable at 0x7f1424e56280>"
      ]
     },
     "metadata": {},
     "output_type": "display_data"
    },
    {
     "data": {
      "text/html": [
       "<pre style=\"white-space:pre;overflow-x:auto;line-height:normal;font-family:Menlo,'DejaVu Sans Mono',consolas,'Courier New',monospace\"><span style=\"color: #7fbfbf\">           </span><span style=\"color: #000080\">INFO    </span> TRAIN AUC: <span style=\"color: #000080; font-weight: bold\">0.7803760929679404</span> TRAIN ACC:                   <a href=\"file://../trainer.py\"><span style=\"color: #7f7f7f\">trainer.py</span></a><span style=\"color: #7f7f7f\">:426</span>\n",
       "                    <span style=\"color: #000080; font-weight: bold\">0.7104046608827813</span>                                                       \n",
       "</pre>\n"
      ],
      "text/plain": [
       "<rich.jupyter.JupyterRenderable at 0x7f1428a55fd0>"
      ]
     },
     "metadata": {},
     "output_type": "display_data"
    },
    {
     "data": {
      "text/html": [
       "<pre style=\"white-space:pre;overflow-x:auto;line-height:normal;font-family:Menlo,'DejaVu Sans Mono',consolas,'Courier New',monospace\"><span style=\"color: #7fbfbf\">           </span><span style=\"color: #000080\">INFO    </span> VALID AUC: <span style=\"color: #000080; font-weight: bold\">0.780032723765442</span> VALID ACC: <span style=\"color: #000080; font-weight: bold\">0.708966565349544</span>  <a href=\"file://../trainer.py\"><span style=\"color: #7f7f7f\">trainer.py</span></a><span style=\"color: #7f7f7f\">:427</span>\n",
       "                                                                                             \n",
       "</pre>\n"
      ],
      "text/plain": [
       "<rich.jupyter.JupyterRenderable at 0x7f14281f2a30>"
      ]
     },
     "metadata": {},
     "output_type": "display_data"
    },
    {
     "data": {
      "text/html": [
       "<pre style=\"white-space:pre;overflow-x:auto;line-height:normal;font-family:Menlo,'DejaVu Sans Mono',consolas,'Courier New',monospace\"><span style=\"color: #7fbfbf\">           </span><span style=\"color: #000080\">INFO    </span> EarlyStopping counter: <span style=\"color: #000080; font-weight: bold\">1</span>                                   <a href=\"file://../trainer.py\"><span style=\"color: #7f7f7f\">trainer.py</span></a><span style=\"color: #7f7f7f\">:435</span>\n",
       "</pre>\n"
      ],
      "text/plain": [
       "<rich.jupyter.JupyterRenderable at 0x7f1428179a00>"
      ]
     },
     "metadata": {},
     "output_type": "display_data"
    },
    {
     "data": {
      "text/html": [
       "<pre style=\"white-space:pre;overflow-x:auto;line-height:normal;font-family:Menlo,'DejaVu Sans Mono',consolas,'Courier New',monospace\"><span style=\"color: #7fbfbf\">           </span><span style=\"color: #000080\">INFO    </span> Start Training: Epoch <span style=\"color: #000080; font-weight: bold\">9</span>                                    <a href=\"file://../trainer.py\"><span style=\"color: #7f7f7f\">trainer.py</span></a><span style=\"color: #7f7f7f\">:409</span>\n",
       "</pre>\n"
      ],
      "text/plain": [
       "<rich.jupyter.JupyterRenderable at 0x7f1424e56e20>"
      ]
     },
     "metadata": {},
     "output_type": "display_data"
    },
    {
     "name": "stdout",
     "output_type": "stream",
     "text": [
      "Training steps: 0 Loss: 0.5216934680938721\n",
      "Training steps: 50 Loss: 0.5644708871841431\n",
      "Training steps: 100 Loss: 0.5503538846969604\n",
      "Training steps: 150 Loss: 0.5940344333648682\n",
      "Training steps: 200 Loss: 0.4483167231082916\n",
      "VALID AUC : 0.7801219820738493 ACC : 0.7084599797365755\n",
      "\n"
     ]
    },
    {
     "data": {
      "text/html": [
       "<pre style=\"white-space:pre;overflow-x:auto;line-height:normal;font-family:Menlo,'DejaVu Sans Mono',consolas,'Courier New',monospace\"><span style=\"color: #7fbfbf\">[18:45:45] </span><span style=\"color: #000080\">INFO    </span> TRAIN_LOSS: <span style=\"color: #000080; font-weight: bold\">0.5664759874343872</span>                             <a href=\"file://../trainer.py\"><span style=\"color: #7f7f7f\">trainer.py</span></a><span style=\"color: #7f7f7f\">:425</span>\n",
       "</pre>\n"
      ],
      "text/plain": [
       "<rich.jupyter.JupyterRenderable at 0x7f1424e717c0>"
      ]
     },
     "metadata": {},
     "output_type": "display_data"
    },
    {
     "data": {
      "text/html": [
       "<pre style=\"white-space:pre;overflow-x:auto;line-height:normal;font-family:Menlo,'DejaVu Sans Mono',consolas,'Courier New',monospace\"><span style=\"color: #7fbfbf\">           </span><span style=\"color: #000080\">INFO    </span> TRAIN AUC: <span style=\"color: #000080; font-weight: bold\">0.78021561557437</span> TRAIN ACC: <span style=\"color: #000080; font-weight: bold\">0.7100246976125641</span>  <a href=\"file://../trainer.py\"><span style=\"color: #7f7f7f\">trainer.py</span></a><span style=\"color: #7f7f7f\">:426</span>\n",
       "</pre>\n"
      ],
      "text/plain": [
       "<rich.jupyter.JupyterRenderable at 0x7f1428a496d0>"
      ]
     },
     "metadata": {},
     "output_type": "display_data"
    },
    {
     "data": {
      "text/html": [
       "<pre style=\"white-space:pre;overflow-x:auto;line-height:normal;font-family:Menlo,'DejaVu Sans Mono',consolas,'Courier New',monospace\"><span style=\"color: #7fbfbf\">           </span><span style=\"color: #000080\">INFO    </span> VALID AUC: <span style=\"color: #000080; font-weight: bold\">0.7801219820738493</span> VALID ACC:                   <a href=\"file://../trainer.py\"><span style=\"color: #7f7f7f\">trainer.py</span></a><span style=\"color: #7f7f7f\">:427</span>\n",
       "                    <span style=\"color: #000080; font-weight: bold\">0.7084599797365755</span>                                                       \n",
       "                                                                                             \n",
       "</pre>\n"
      ],
      "text/plain": [
       "<rich.jupyter.JupyterRenderable at 0x7f1428a496d0>"
      ]
     },
     "metadata": {},
     "output_type": "display_data"
    },
    {
     "data": {
      "text/html": [
       "<pre style=\"white-space:pre;overflow-x:auto;line-height:normal;font-family:Menlo,'DejaVu Sans Mono',consolas,'Courier New',monospace\"><span style=\"color: #7fbfbf\">           </span><span style=\"color: #000080\">INFO    </span> Start Training: Epoch <span style=\"color: #000080; font-weight: bold\">10</span>                                   <a href=\"file://../trainer.py\"><span style=\"color: #7f7f7f\">trainer.py</span></a><span style=\"color: #7f7f7f\">:409</span>\n",
       "</pre>\n"
      ],
      "text/plain": [
       "<rich.jupyter.JupyterRenderable at 0x7f1428a496d0>"
      ]
     },
     "metadata": {},
     "output_type": "display_data"
    },
    {
     "name": "stdout",
     "output_type": "stream",
     "text": [
      "Training steps: 0 Loss: 0.5976600646972656\n",
      "Training steps: 50 Loss: 0.5144531726837158\n",
      "Training steps: 100 Loss: 0.5885078310966492\n",
      "Training steps: 150 Loss: 0.7365555763244629\n",
      "Training steps: 200 Loss: 0.5393996834754944\n",
      "VALID AUC : 0.7800865356089278 ACC : 0.7092198581560284\n",
      "\n"
     ]
    },
    {
     "data": {
      "text/html": [
       "<pre style=\"white-space:pre;overflow-x:auto;line-height:normal;font-family:Menlo,'DejaVu Sans Mono',consolas,'Courier New',monospace\"><span style=\"color: #7fbfbf\">[18:45:48] </span><span style=\"color: #000080\">INFO    </span> TRAIN_LOSS: <span style=\"color: #000080; font-weight: bold\">0.5661665797233582</span>                             <a href=\"file://../trainer.py\"><span style=\"color: #7f7f7f\">trainer.py</span></a><span style=\"color: #7f7f7f\">:425</span>\n",
       "</pre>\n"
      ],
      "text/plain": [
       "<rich.jupyter.JupyterRenderable at 0x7f1428179a00>"
      ]
     },
     "metadata": {},
     "output_type": "display_data"
    },
    {
     "data": {
      "text/html": [
       "<pre style=\"white-space:pre;overflow-x:auto;line-height:normal;font-family:Menlo,'DejaVu Sans Mono',consolas,'Courier New',monospace\"><span style=\"color: #7fbfbf\">           </span><span style=\"color: #000080\">INFO    </span> TRAIN AUC: <span style=\"color: #000080; font-weight: bold\">0.7804368245516693</span> TRAIN ACC:                   <a href=\"file://../trainer.py\"><span style=\"color: #7f7f7f\">trainer.py</span></a><span style=\"color: #7f7f7f\">:426</span>\n",
       "                    <span style=\"color: #000080; font-weight: bold\">0.7099613704008613</span>                                                       \n",
       "</pre>\n"
      ],
      "text/plain": [
       "<rich.jupyter.JupyterRenderable at 0x7f14281a6460>"
      ]
     },
     "metadata": {},
     "output_type": "display_data"
    },
    {
     "data": {
      "text/html": [
       "<pre style=\"white-space:pre;overflow-x:auto;line-height:normal;font-family:Menlo,'DejaVu Sans Mono',consolas,'Courier New',monospace\"><span style=\"color: #7fbfbf\">           </span><span style=\"color: #000080\">INFO    </span> VALID AUC: <span style=\"color: #000080; font-weight: bold\">0.7800865356089278</span> VALID ACC:                   <a href=\"file://../trainer.py\"><span style=\"color: #7f7f7f\">trainer.py</span></a><span style=\"color: #7f7f7f\">:427</span>\n",
       "                    <span style=\"color: #000080; font-weight: bold\">0.7092198581560284</span>                                                       \n",
       "                                                                                             \n",
       "</pre>\n"
      ],
      "text/plain": [
       "<rich.jupyter.JupyterRenderable at 0x7f14281cb220>"
      ]
     },
     "metadata": {},
     "output_type": "display_data"
    },
    {
     "data": {
      "text/html": [
       "<pre style=\"white-space:pre;overflow-x:auto;line-height:normal;font-family:Menlo,'DejaVu Sans Mono',consolas,'Courier New',monospace\"><span style=\"color: #7fbfbf\">           </span><span style=\"color: #000080\">INFO    </span> EarlyStopping counter: <span style=\"color: #000080; font-weight: bold\">1</span>                                   <a href=\"file://../trainer.py\"><span style=\"color: #7f7f7f\">trainer.py</span></a><span style=\"color: #7f7f7f\">:435</span>\n",
       "</pre>\n"
      ],
      "text/plain": [
       "<rich.jupyter.JupyterRenderable at 0x7f1424eba1f0>"
      ]
     },
     "metadata": {},
     "output_type": "display_data"
    },
    {
     "data": {
      "text/html": [
       "<pre style=\"white-space:pre;overflow-x:auto;line-height:normal;font-family:Menlo,'DejaVu Sans Mono',consolas,'Courier New',monospace\"><span style=\"color: #7fbfbf\">           </span><span style=\"color: #000080\">INFO    </span> Start Training: Epoch <span style=\"color: #000080; font-weight: bold\">11</span>                                   <a href=\"file://../trainer.py\"><span style=\"color: #7f7f7f\">trainer.py</span></a><span style=\"color: #7f7f7f\">:409</span>\n",
       "</pre>\n"
      ],
      "text/plain": [
       "<rich.jupyter.JupyterRenderable at 0x7f1424e56a60>"
      ]
     },
     "metadata": {},
     "output_type": "display_data"
    },
    {
     "name": "stdout",
     "output_type": "stream",
     "text": [
      "Training steps: 0 Loss: 0.5996023416519165\n",
      "Training steps: 50 Loss: 0.5399265289306641\n",
      "Training steps: 100 Loss: 0.5960204601287842\n",
      "Training steps: 150 Loss: 0.557273268699646\n",
      "Training steps: 200 Loss: 0.5499653816223145\n",
      "VALID AUC : 0.7799383282882055 ACC : 0.7104863221884499\n",
      "\n"
     ]
    },
    {
     "data": {
      "text/html": [
       "<pre style=\"white-space:pre;overflow-x:auto;line-height:normal;font-family:Menlo,'DejaVu Sans Mono',consolas,'Courier New',monospace\"><span style=\"color: #7fbfbf\">[18:45:52] </span><span style=\"color: #000080\">INFO    </span> TRAIN_LOSS: <span style=\"color: #000080; font-weight: bold\">0.5658906102180481</span>                             <a href=\"file://../trainer.py\"><span style=\"color: #7f7f7f\">trainer.py</span></a><span style=\"color: #7f7f7f\">:425</span>\n",
       "</pre>\n"
      ],
      "text/plain": [
       "<rich.jupyter.JupyterRenderable at 0x7f1428a4dd90>"
      ]
     },
     "metadata": {},
     "output_type": "display_data"
    },
    {
     "data": {
      "text/html": [
       "<pre style=\"white-space:pre;overflow-x:auto;line-height:normal;font-family:Menlo,'DejaVu Sans Mono',consolas,'Courier New',monospace\"><span style=\"color: #7fbfbf\">           </span><span style=\"color: #000080\">INFO    </span> TRAIN AUC: <span style=\"color: #000080; font-weight: bold\">0.7805748625476586</span> TRAIN ACC:                   <a href=\"file://../trainer.py\"><span style=\"color: #7f7f7f\">trainer.py</span></a><span style=\"color: #7f7f7f\">:426</span>\n",
       "                    <span style=\"color: #000080; font-weight: bold\">0.7095180799189411</span>                                                       \n",
       "</pre>\n"
      ],
      "text/plain": [
       "<rich.jupyter.JupyterRenderable at 0x7f14281cb460>"
      ]
     },
     "metadata": {},
     "output_type": "display_data"
    },
    {
     "data": {
      "text/html": [
       "<pre style=\"white-space:pre;overflow-x:auto;line-height:normal;font-family:Menlo,'DejaVu Sans Mono',consolas,'Courier New',monospace\"><span style=\"color: #7fbfbf\">           </span><span style=\"color: #000080\">INFO    </span> VALID AUC: <span style=\"color: #000080; font-weight: bold\">0.7799383282882055</span> VALID ACC:                   <a href=\"file://../trainer.py\"><span style=\"color: #7f7f7f\">trainer.py</span></a><span style=\"color: #7f7f7f\">:427</span>\n",
       "                    <span style=\"color: #000080; font-weight: bold\">0.7104863221884499</span>                                                       \n",
       "                                                                                             \n",
       "</pre>\n"
      ],
      "text/plain": [
       "<rich.jupyter.JupyterRenderable at 0x7f1428a5ce50>"
      ]
     },
     "metadata": {},
     "output_type": "display_data"
    },
    {
     "data": {
      "text/html": [
       "<pre style=\"white-space:pre;overflow-x:auto;line-height:normal;font-family:Menlo,'DejaVu Sans Mono',consolas,'Courier New',monospace\"><span style=\"color: #7fbfbf\">           </span><span style=\"color: #000080\">INFO    </span> EarlyStopping counter: <span style=\"color: #000080; font-weight: bold\">2</span>                                   <a href=\"file://../trainer.py\"><span style=\"color: #7f7f7f\">trainer.py</span></a><span style=\"color: #7f7f7f\">:435</span>\n",
       "</pre>\n"
      ],
      "text/plain": [
       "<rich.jupyter.JupyterRenderable at 0x7f1428165e20>"
      ]
     },
     "metadata": {},
     "output_type": "display_data"
    },
    {
     "data": {
      "text/html": [
       "<pre style=\"white-space:pre;overflow-x:auto;line-height:normal;font-family:Menlo,'DejaVu Sans Mono',consolas,'Courier New',monospace\"><span style=\"color: #7fbfbf\">           </span><span style=\"color: #000080\">INFO    </span> Start Training: Epoch <span style=\"color: #000080; font-weight: bold\">12</span>                                   <a href=\"file://../trainer.py\"><span style=\"color: #7f7f7f\">trainer.py</span></a><span style=\"color: #7f7f7f\">:409</span>\n",
       "</pre>\n"
      ],
      "text/plain": [
       "<rich.jupyter.JupyterRenderable at 0x7f14281cb220>"
      ]
     },
     "metadata": {},
     "output_type": "display_data"
    },
    {
     "name": "stdout",
     "output_type": "stream",
     "text": [
      "Training steps: 0 Loss: 0.5733518600463867\n",
      "Training steps: 50 Loss: 0.533018946647644\n",
      "Training steps: 100 Loss: 0.5614207983016968\n",
      "Training steps: 150 Loss: 0.6308104991912842\n",
      "Training steps: 200 Loss: 0.46934792399406433\n",
      "VALID AUC : 0.7801847839627862 ACC : 0.709726443768997\n",
      "\n"
     ]
    },
    {
     "data": {
      "text/html": [
       "<pre style=\"white-space:pre;overflow-x:auto;line-height:normal;font-family:Menlo,'DejaVu Sans Mono',consolas,'Courier New',monospace\"><span style=\"color: #7fbfbf\">[18:45:55] </span><span style=\"color: #000080\">INFO    </span> TRAIN_LOSS: <span style=\"color: #000080; font-weight: bold\">0.5656138062477112</span>                             <a href=\"file://../trainer.py\"><span style=\"color: #7f7f7f\">trainer.py</span></a><span style=\"color: #7f7f7f\">:425</span>\n",
       "</pre>\n"
      ],
      "text/plain": [
       "<rich.jupyter.JupyterRenderable at 0x7f1424e56a60>"
      ]
     },
     "metadata": {},
     "output_type": "display_data"
    },
    {
     "data": {
      "text/html": [
       "<pre style=\"white-space:pre;overflow-x:auto;line-height:normal;font-family:Menlo,'DejaVu Sans Mono',consolas,'Courier New',monospace\"><span style=\"color: #7fbfbf\">           </span><span style=\"color: #000080\">INFO    </span> TRAIN AUC: <span style=\"color: #000080; font-weight: bold\">0.7805307138151276</span> TRAIN ACC:                   <a href=\"file://../trainer.py\"><span style=\"color: #7f7f7f\">trainer.py</span></a><span style=\"color: #7f7f7f\">:426</span>\n",
       "                    <span style=\"color: #000080; font-weight: bold\">0.7109112785764042</span>                                                       \n",
       "</pre>\n"
      ],
      "text/plain": [
       "<rich.jupyter.JupyterRenderable at 0x7f1424ea8490>"
      ]
     },
     "metadata": {},
     "output_type": "display_data"
    },
    {
     "data": {
      "text/html": [
       "<pre style=\"white-space:pre;overflow-x:auto;line-height:normal;font-family:Menlo,'DejaVu Sans Mono',consolas,'Courier New',monospace\"><span style=\"color: #7fbfbf\">           </span><span style=\"color: #000080\">INFO    </span> VALID AUC: <span style=\"color: #000080; font-weight: bold\">0.7801847839627862</span> VALID ACC: <span style=\"color: #000080; font-weight: bold\">0.709726443768997</span> <a href=\"file://../trainer.py\"><span style=\"color: #7f7f7f\">trainer.py</span></a><span style=\"color: #7f7f7f\">:427</span>\n",
       "                                                                                             \n",
       "</pre>\n"
      ],
      "text/plain": [
       "<rich.jupyter.JupyterRenderable at 0x7f1428a4a580>"
      ]
     },
     "metadata": {},
     "output_type": "display_data"
    },
    {
     "data": {
      "text/html": [
       "<pre style=\"white-space:pre;overflow-x:auto;line-height:normal;font-family:Menlo,'DejaVu Sans Mono',consolas,'Courier New',monospace\"><span style=\"color: #7fbfbf\">           </span><span style=\"color: #000080\">INFO    </span> Start Training: Epoch <span style=\"color: #000080; font-weight: bold\">13</span>                                   <a href=\"file://../trainer.py\"><span style=\"color: #7f7f7f\">trainer.py</span></a><span style=\"color: #7f7f7f\">:409</span>\n",
       "</pre>\n"
      ],
      "text/plain": [
       "<rich.jupyter.JupyterRenderable at 0x7f1424e56a60>"
      ]
     },
     "metadata": {},
     "output_type": "display_data"
    },
    {
     "name": "stdout",
     "output_type": "stream",
     "text": [
      "Training steps: 0 Loss: 0.5252739191055298\n",
      "Training steps: 50 Loss: 0.5585050582885742\n",
      "Training steps: 100 Loss: 0.6282821297645569\n",
      "Training steps: 150 Loss: 0.5581463575363159\n",
      "Training steps: 200 Loss: 0.5489150285720825\n",
      "VALID AUC : 0.7802480995686063 ACC : 0.7094731509625126\n",
      "\n"
     ]
    },
    {
     "data": {
      "text/html": [
       "<pre style=\"white-space:pre;overflow-x:auto;line-height:normal;font-family:Menlo,'DejaVu Sans Mono',consolas,'Courier New',monospace\"><span style=\"color: #7fbfbf\">[18:45:58] </span><span style=\"color: #000080\">INFO    </span> TRAIN_LOSS: <span style=\"color: #000080; font-weight: bold\">0.5653073787689209</span>                             <a href=\"file://../trainer.py\"><span style=\"color: #7f7f7f\">trainer.py</span></a><span style=\"color: #7f7f7f\">:425</span>\n",
       "</pre>\n"
      ],
      "text/plain": [
       "<rich.jupyter.JupyterRenderable at 0x7f1424e562b0>"
      ]
     },
     "metadata": {},
     "output_type": "display_data"
    },
    {
     "data": {
      "text/html": [
       "<pre style=\"white-space:pre;overflow-x:auto;line-height:normal;font-family:Menlo,'DejaVu Sans Mono',consolas,'Courier New',monospace\"><span style=\"color: #7fbfbf\">           </span><span style=\"color: #000080\">INFO    </span> TRAIN AUC: <span style=\"color: #000080; font-weight: bold\">0.7806533803825272</span> TRAIN ACC:                   <a href=\"file://../trainer.py\"><span style=\"color: #7f7f7f\">trainer.py</span></a><span style=\"color: #7f7f7f\">:426</span>\n",
       "                    <span style=\"color: #000080; font-weight: bold\">0.7107212969412957</span>                                                       \n",
       "</pre>\n"
      ],
      "text/plain": [
       "<rich.jupyter.JupyterRenderable at 0x7f14281a6ee0>"
      ]
     },
     "metadata": {},
     "output_type": "display_data"
    },
    {
     "data": {
      "text/html": [
       "<pre style=\"white-space:pre;overflow-x:auto;line-height:normal;font-family:Menlo,'DejaVu Sans Mono',consolas,'Courier New',monospace\"><span style=\"color: #7fbfbf\">           </span><span style=\"color: #000080\">INFO    </span> VALID AUC: <span style=\"color: #000080; font-weight: bold\">0.7802480995686063</span> VALID ACC:                   <a href=\"file://../trainer.py\"><span style=\"color: #7f7f7f\">trainer.py</span></a><span style=\"color: #7f7f7f\">:427</span>\n",
       "                    <span style=\"color: #000080; font-weight: bold\">0.7094731509625126</span>                                                       \n",
       "                                                                                             \n",
       "</pre>\n"
      ],
      "text/plain": [
       "<rich.jupyter.JupyterRenderable at 0x7f1424eba1f0>"
      ]
     },
     "metadata": {},
     "output_type": "display_data"
    },
    {
     "data": {
      "text/html": [
       "<pre style=\"white-space:pre;overflow-x:auto;line-height:normal;font-family:Menlo,'DejaVu Sans Mono',consolas,'Courier New',monospace\"><span style=\"color: #7fbfbf\">           </span><span style=\"color: #000080\">INFO    </span> Start Training: Epoch <span style=\"color: #000080; font-weight: bold\">14</span>                                   <a href=\"file://../trainer.py\"><span style=\"color: #7f7f7f\">trainer.py</span></a><span style=\"color: #7f7f7f\">:409</span>\n",
       "</pre>\n"
      ],
      "text/plain": [
       "<rich.jupyter.JupyterRenderable at 0x7f1428165250>"
      ]
     },
     "metadata": {},
     "output_type": "display_data"
    },
    {
     "name": "stdout",
     "output_type": "stream",
     "text": [
      "Training steps: 0 Loss: 0.5586574077606201\n",
      "Training steps: 50 Loss: 0.5942895412445068\n",
      "Training steps: 100 Loss: 0.46654242277145386\n",
      "Training steps: 150 Loss: 0.5214309096336365\n",
      "Training steps: 200 Loss: 0.6107655167579651\n",
      "VALID AUC : 0.780115560612813 ACC : 0.7094731509625126\n",
      "\n"
     ]
    },
    {
     "data": {
      "text/html": [
       "<pre style=\"white-space:pre;overflow-x:auto;line-height:normal;font-family:Menlo,'DejaVu Sans Mono',consolas,'Courier New',monospace\"><span style=\"color: #7fbfbf\">[18:46:02] </span><span style=\"color: #000080\">INFO    </span> TRAIN_LOSS: <span style=\"color: #000080; font-weight: bold\">0.5655480623245239</span>                             <a href=\"file://../trainer.py\"><span style=\"color: #7f7f7f\">trainer.py</span></a><span style=\"color: #7f7f7f\">:425</span>\n",
       "</pre>\n"
      ],
      "text/plain": [
       "<rich.jupyter.JupyterRenderable at 0x7f14281293d0>"
      ]
     },
     "metadata": {},
     "output_type": "display_data"
    },
    {
     "data": {
      "text/html": [
       "<pre style=\"white-space:pre;overflow-x:auto;line-height:normal;font-family:Menlo,'DejaVu Sans Mono',consolas,'Courier New',monospace\"><span style=\"color: #7fbfbf\">           </span><span style=\"color: #000080\">INFO    </span> TRAIN AUC: <span style=\"color: #000080; font-weight: bold\">0.7808661816055665</span> TRAIN ACC: <span style=\"color: #000080; font-weight: bold\">0.71103793299981</span>  <a href=\"file://../trainer.py\"><span style=\"color: #7f7f7f\">trainer.py</span></a><span style=\"color: #7f7f7f\">:426</span>\n",
       "</pre>\n"
      ],
      "text/plain": [
       "<rich.jupyter.JupyterRenderable at 0x7f14281f7580>"
      ]
     },
     "metadata": {},
     "output_type": "display_data"
    },
    {
     "data": {
      "text/html": [
       "<pre style=\"white-space:pre;overflow-x:auto;line-height:normal;font-family:Menlo,'DejaVu Sans Mono',consolas,'Courier New',monospace\"><span style=\"color: #7fbfbf\">           </span><span style=\"color: #000080\">INFO    </span> VALID AUC: <span style=\"color: #000080; font-weight: bold\">0.780115560612813</span> VALID ACC: <span style=\"color: #000080; font-weight: bold\">0.7094731509625126</span> <a href=\"file://../trainer.py\"><span style=\"color: #7f7f7f\">trainer.py</span></a><span style=\"color: #7f7f7f\">:427</span>\n",
       "                                                                                             \n",
       "</pre>\n"
      ],
      "text/plain": [
       "<rich.jupyter.JupyterRenderable at 0x7f1428184eb0>"
      ]
     },
     "metadata": {},
     "output_type": "display_data"
    },
    {
     "data": {
      "text/html": [
       "<pre style=\"white-space:pre;overflow-x:auto;line-height:normal;font-family:Menlo,'DejaVu Sans Mono',consolas,'Courier New',monospace\"><span style=\"color: #7fbfbf\">           </span><span style=\"color: #000080\">INFO    </span> EarlyStopping counter: <span style=\"color: #000080; font-weight: bold\">1</span>                                   <a href=\"file://../trainer.py\"><span style=\"color: #7f7f7f\">trainer.py</span></a><span style=\"color: #7f7f7f\">:435</span>\n",
       "</pre>\n"
      ],
      "text/plain": [
       "<rich.jupyter.JupyterRenderable at 0x7f1424ea8490>"
      ]
     },
     "metadata": {},
     "output_type": "display_data"
    },
    {
     "data": {
      "text/html": [
       "<pre style=\"white-space:pre;overflow-x:auto;line-height:normal;font-family:Menlo,'DejaVu Sans Mono',consolas,'Courier New',monospace\"><span style=\"color: #7fbfbf\">           </span><span style=\"color: #000080\">INFO    </span> Start Training: Epoch <span style=\"color: #000080; font-weight: bold\">15</span>                                   <a href=\"file://../trainer.py\"><span style=\"color: #7f7f7f\">trainer.py</span></a><span style=\"color: #7f7f7f\">:409</span>\n",
       "</pre>\n"
      ],
      "text/plain": [
       "<rich.jupyter.JupyterRenderable at 0x7f1428184eb0>"
      ]
     },
     "metadata": {},
     "output_type": "display_data"
    },
    {
     "name": "stdout",
     "output_type": "stream",
     "text": [
      "Training steps: 0 Loss: 0.5862085819244385\n",
      "Training steps: 50 Loss: 0.6036398410797119\n",
      "Training steps: 100 Loss: 0.5881652235984802\n",
      "Training steps: 150 Loss: 0.6017634272575378\n",
      "Training steps: 200 Loss: 0.5775519609451294\n",
      "VALID AUC : 0.7800508322855648 ACC : 0.7099797365754813\n",
      "\n"
     ]
    },
    {
     "data": {
      "text/html": [
       "<pre style=\"white-space:pre;overflow-x:auto;line-height:normal;font-family:Menlo,'DejaVu Sans Mono',consolas,'Courier New',monospace\"><span style=\"color: #7fbfbf\">[18:46:05] </span><span style=\"color: #000080\">INFO    </span> TRAIN_LOSS: <span style=\"color: #000080; font-weight: bold\">0.5654250979423523</span>                             <a href=\"file://../trainer.py\"><span style=\"color: #7f7f7f\">trainer.py</span></a><span style=\"color: #7f7f7f\">:425</span>\n",
       "</pre>\n"
      ],
      "text/plain": [
       "<rich.jupyter.JupyterRenderable at 0x7f14281293d0>"
      ]
     },
     "metadata": {},
     "output_type": "display_data"
    },
    {
     "data": {
      "text/html": [
       "<pre style=\"white-space:pre;overflow-x:auto;line-height:normal;font-family:Menlo,'DejaVu Sans Mono',consolas,'Courier New',monospace\"><span style=\"color: #7fbfbf\">           </span><span style=\"color: #000080\">INFO    </span> TRAIN AUC: <span style=\"color: #000080; font-weight: bold\">0.7806785795773082</span> TRAIN ACC:                   <a href=\"file://../trainer.py\"><span style=\"color: #7f7f7f\">trainer.py</span></a><span style=\"color: #7f7f7f\">:426</span>\n",
       "                    <span style=\"color: #000080; font-weight: bold\">0.7107212969412957</span>                                                       \n",
       "</pre>\n"
      ],
      "text/plain": [
       "<rich.jupyter.JupyterRenderable at 0x7f1424e56100>"
      ]
     },
     "metadata": {},
     "output_type": "display_data"
    },
    {
     "data": {
      "text/html": [
       "<pre style=\"white-space:pre;overflow-x:auto;line-height:normal;font-family:Menlo,'DejaVu Sans Mono',consolas,'Courier New',monospace\"><span style=\"color: #7fbfbf\">           </span><span style=\"color: #000080\">INFO    </span> VALID AUC: <span style=\"color: #000080; font-weight: bold\">0.7800508322855648</span> VALID ACC:                   <a href=\"file://../trainer.py\"><span style=\"color: #7f7f7f\">trainer.py</span></a><span style=\"color: #7f7f7f\">:427</span>\n",
       "                    <span style=\"color: #000080; font-weight: bold\">0.7099797365754813</span>                                                       \n",
       "                                                                                             \n",
       "</pre>\n"
      ],
      "text/plain": [
       "<rich.jupyter.JupyterRenderable at 0x7f14281cb460>"
      ]
     },
     "metadata": {},
     "output_type": "display_data"
    },
    {
     "data": {
      "text/html": [
       "<pre style=\"white-space:pre;overflow-x:auto;line-height:normal;font-family:Menlo,'DejaVu Sans Mono',consolas,'Courier New',monospace\"><span style=\"color: #7fbfbf\">           </span><span style=\"color: #000080\">INFO    </span> EarlyStopping counter: <span style=\"color: #000080; font-weight: bold\">2</span>                                   <a href=\"file://../trainer.py\"><span style=\"color: #7f7f7f\">trainer.py</span></a><span style=\"color: #7f7f7f\">:435</span>\n",
       "</pre>\n"
      ],
      "text/plain": [
       "<rich.jupyter.JupyterRenderable at 0x7f14281a6460>"
      ]
     },
     "metadata": {},
     "output_type": "display_data"
    },
    {
     "data": {
      "text/html": [
       "<pre style=\"white-space:pre;overflow-x:auto;line-height:normal;font-family:Menlo,'DejaVu Sans Mono',consolas,'Courier New',monospace\"><span style=\"color: #7fbfbf\">           </span><span style=\"color: #000080\">INFO    </span> Start Training: Epoch <span style=\"color: #000080; font-weight: bold\">16</span>                                   <a href=\"file://../trainer.py\"><span style=\"color: #7f7f7f\">trainer.py</span></a><span style=\"color: #7f7f7f\">:409</span>\n",
       "</pre>\n"
      ],
      "text/plain": [
       "<rich.jupyter.JupyterRenderable at 0x7f1428a567c0>"
      ]
     },
     "metadata": {},
     "output_type": "display_data"
    },
    {
     "name": "stdout",
     "output_type": "stream",
     "text": [
      "Training steps: 0 Loss: 0.5286556482315063\n",
      "Training steps: 50 Loss: 0.5447274446487427\n",
      "Training steps: 100 Loss: 0.5693047642707825\n",
      "Training steps: 150 Loss: 0.5338605642318726\n",
      "Training steps: 200 Loss: 0.673575758934021\n",
      "VALID AUC : 0.7801695008855194 ACC : 0.709726443768997\n",
      "\n"
     ]
    },
    {
     "data": {
      "text/html": [
       "<pre style=\"white-space:pre;overflow-x:auto;line-height:normal;font-family:Menlo,'DejaVu Sans Mono',consolas,'Courier New',monospace\"><span style=\"color: #7fbfbf\">[18:46:08] </span><span style=\"color: #000080\">INFO    </span> TRAIN_LOSS: <span style=\"color: #000080; font-weight: bold\">0.5652955770492554</span>                             <a href=\"file://../trainer.py\"><span style=\"color: #7f7f7f\">trainer.py</span></a><span style=\"color: #7f7f7f\">:425</span>\n",
       "</pre>\n"
      ],
      "text/plain": [
       "<rich.jupyter.JupyterRenderable at 0x7f14281293d0>"
      ]
     },
     "metadata": {},
     "output_type": "display_data"
    },
    {
     "data": {
      "text/html": [
       "<pre style=\"white-space:pre;overflow-x:auto;line-height:normal;font-family:Menlo,'DejaVu Sans Mono',consolas,'Courier New',monospace\"><span style=\"color: #7fbfbf\">           </span><span style=\"color: #000080\">INFO    </span> TRAIN AUC: <span style=\"color: #000080; font-weight: bold\">0.7806896909701041</span> TRAIN ACC:                   <a href=\"file://../trainer.py\"><span style=\"color: #7f7f7f\">trainer.py</span></a><span style=\"color: #7f7f7f\">:426</span>\n",
       "                    <span style=\"color: #000080; font-weight: bold\">0.7111645874232158</span>                                                       \n",
       "</pre>\n"
      ],
      "text/plain": [
       "<rich.jupyter.JupyterRenderable at 0x7f1424e48b50>"
      ]
     },
     "metadata": {},
     "output_type": "display_data"
    },
    {
     "data": {
      "text/html": [
       "<pre style=\"white-space:pre;overflow-x:auto;line-height:normal;font-family:Menlo,'DejaVu Sans Mono',consolas,'Courier New',monospace\"><span style=\"color: #7fbfbf\">           </span><span style=\"color: #000080\">INFO    </span> VALID AUC: <span style=\"color: #000080; font-weight: bold\">0.7801695008855194</span> VALID ACC: <span style=\"color: #000080; font-weight: bold\">0.709726443768997</span> <a href=\"file://../trainer.py\"><span style=\"color: #7f7f7f\">trainer.py</span></a><span style=\"color: #7f7f7f\">:427</span>\n",
       "                                                                                             \n",
       "</pre>\n"
      ],
      "text/plain": [
       "<rich.jupyter.JupyterRenderable at 0x7f1428a4dd90>"
      ]
     },
     "metadata": {},
     "output_type": "display_data"
    },
    {
     "data": {
      "text/html": [
       "<pre style=\"white-space:pre;overflow-x:auto;line-height:normal;font-family:Menlo,'DejaVu Sans Mono',consolas,'Courier New',monospace\"><span style=\"color: #7fbfbf\">           </span><span style=\"color: #000080\">INFO    </span> EarlyStopping counter: <span style=\"color: #000080; font-weight: bold\">3</span>                                   <a href=\"file://../trainer.py\"><span style=\"color: #7f7f7f\">trainer.py</span></a><span style=\"color: #7f7f7f\">:435</span>\n",
       "</pre>\n"
      ],
      "text/plain": [
       "<rich.jupyter.JupyterRenderable at 0x7f1428184eb0>"
      ]
     },
     "metadata": {},
     "output_type": "display_data"
    },
    {
     "data": {
      "text/html": [
       "<pre style=\"white-space:pre;overflow-x:auto;line-height:normal;font-family:Menlo,'DejaVu Sans Mono',consolas,'Courier New',monospace\"><span style=\"color: #7fbfbf\">           </span><span style=\"color: #000080\">INFO    </span> Start Training: Epoch <span style=\"color: #000080; font-weight: bold\">17</span>                                   <a href=\"file://../trainer.py\"><span style=\"color: #7f7f7f\">trainer.py</span></a><span style=\"color: #7f7f7f\">:409</span>\n",
       "</pre>\n"
      ],
      "text/plain": [
       "<rich.jupyter.JupyterRenderable at 0x7f1424e99280>"
      ]
     },
     "metadata": {},
     "output_type": "display_data"
    },
    {
     "name": "stdout",
     "output_type": "stream",
     "text": [
      "Training steps: 0 Loss: 0.5401846170425415\n",
      "Training steps: 50 Loss: 0.531859815120697\n",
      "Training steps: 100 Loss: 0.5637170076370239\n",
      "Training steps: 150 Loss: 0.5863024592399597\n",
      "Training steps: 200 Loss: 0.554169774055481\n",
      "VALID AUC : 0.7801730969036998 ACC : 0.7102330293819655\n",
      "\n"
     ]
    },
    {
     "data": {
      "text/html": [
       "<pre style=\"white-space:pre;overflow-x:auto;line-height:normal;font-family:Menlo,'DejaVu Sans Mono',consolas,'Courier New',monospace\"><span style=\"color: #7fbfbf\">[18:46:12] </span><span style=\"color: #000080\">INFO    </span> TRAIN_LOSS: <span style=\"color: #000080; font-weight: bold\">0.5651413798332214</span>                             <a href=\"file://../trainer.py\"><span style=\"color: #7f7f7f\">trainer.py</span></a><span style=\"color: #7f7f7f\">:425</span>\n",
       "</pre>\n"
      ],
      "text/plain": [
       "<rich.jupyter.JupyterRenderable at 0x7f1428a49c40>"
      ]
     },
     "metadata": {},
     "output_type": "display_data"
    },
    {
     "data": {
      "text/html": [
       "<pre style=\"white-space:pre;overflow-x:auto;line-height:normal;font-family:Menlo,'DejaVu Sans Mono',consolas,'Courier New',monospace\"><span style=\"color: #7fbfbf\">           </span><span style=\"color: #000080\">INFO    </span> TRAIN AUC: <span style=\"color: #000080; font-weight: bold\">0.7808771806810345</span> TRAIN ACC:                   <a href=\"file://../trainer.py\"><span style=\"color: #7f7f7f\">trainer.py</span></a><span style=\"color: #7f7f7f\">:426</span>\n",
       "                    <span style=\"color: #000080; font-weight: bold\">0.7093280982838326</span>                                                       \n",
       "</pre>\n"
      ],
      "text/plain": [
       "<rich.jupyter.JupyterRenderable at 0x7f1428a5cf40>"
      ]
     },
     "metadata": {},
     "output_type": "display_data"
    },
    {
     "data": {
      "text/html": [
       "<pre style=\"white-space:pre;overflow-x:auto;line-height:normal;font-family:Menlo,'DejaVu Sans Mono',consolas,'Courier New',monospace\"><span style=\"color: #7fbfbf\">           </span><span style=\"color: #000080\">INFO    </span> VALID AUC: <span style=\"color: #000080; font-weight: bold\">0.7801730969036998</span> VALID ACC:                   <a href=\"file://../trainer.py\"><span style=\"color: #7f7f7f\">trainer.py</span></a><span style=\"color: #7f7f7f\">:427</span>\n",
       "                    <span style=\"color: #000080; font-weight: bold\">0.7102330293819655</span>                                                       \n",
       "                                                                                             \n",
       "</pre>\n"
      ],
      "text/plain": [
       "<rich.jupyter.JupyterRenderable at 0x7f1428a4a190>"
      ]
     },
     "metadata": {},
     "output_type": "display_data"
    },
    {
     "data": {
      "text/html": [
       "<pre style=\"white-space:pre;overflow-x:auto;line-height:normal;font-family:Menlo,'DejaVu Sans Mono',consolas,'Courier New',monospace\"><span style=\"color: #7fbfbf\">           </span><span style=\"color: #000080\">INFO    </span> EarlyStopping counter: <span style=\"color: #000080; font-weight: bold\">4</span>                                   <a href=\"file://../trainer.py\"><span style=\"color: #7f7f7f\">trainer.py</span></a><span style=\"color: #7f7f7f\">:435</span>\n",
       "</pre>\n"
      ],
      "text/plain": [
       "<rich.jupyter.JupyterRenderable at 0x7f1428179610>"
      ]
     },
     "metadata": {},
     "output_type": "display_data"
    },
    {
     "data": {
      "text/html": [
       "<pre style=\"white-space:pre;overflow-x:auto;line-height:normal;font-family:Menlo,'DejaVu Sans Mono',consolas,'Courier New',monospace\"><span style=\"color: #7fbfbf\">           </span><span style=\"color: #000080\">INFO    </span> Start Training: Epoch <span style=\"color: #000080; font-weight: bold\">18</span>                                   <a href=\"file://../trainer.py\"><span style=\"color: #7f7f7f\">trainer.py</span></a><span style=\"color: #7f7f7f\">:409</span>\n",
       "</pre>\n"
      ],
      "text/plain": [
       "<rich.jupyter.JupyterRenderable at 0x7f1438e2f7c0>"
      ]
     },
     "metadata": {},
     "output_type": "display_data"
    },
    {
     "name": "stdout",
     "output_type": "stream",
     "text": [
      "Training steps: 0 Loss: 0.49741095304489136\n",
      "Training steps: 50 Loss: 0.49698102474212646\n",
      "Training steps: 100 Loss: 0.6302911043167114\n",
      "Training steps: 150 Loss: 0.5149060487747192\n",
      "Training steps: 200 Loss: 0.5168042182922363\n",
      "VALID AUC : 0.7801231379368361 ACC : 0.708966565349544\n",
      "\n"
     ]
    },
    {
     "data": {
      "text/html": [
       "<pre style=\"white-space:pre;overflow-x:auto;line-height:normal;font-family:Menlo,'DejaVu Sans Mono',consolas,'Courier New',monospace\"><span style=\"color: #7fbfbf\">[18:46:15] </span><span style=\"color: #000080\">INFO    </span> TRAIN_LOSS: <span style=\"color: #000080; font-weight: bold\">0.5654003620147705</span>                             <a href=\"file://../trainer.py\"><span style=\"color: #7f7f7f\">trainer.py</span></a><span style=\"color: #7f7f7f\">:425</span>\n",
       "</pre>\n"
      ],
      "text/plain": [
       "<rich.jupyter.JupyterRenderable at 0x7f1424e48b50>"
      ]
     },
     "metadata": {},
     "output_type": "display_data"
    },
    {
     "data": {
      "text/html": [
       "<pre style=\"white-space:pre;overflow-x:auto;line-height:normal;font-family:Menlo,'DejaVu Sans Mono',consolas,'Courier New',monospace\"><span style=\"color: #7fbfbf\">           </span><span style=\"color: #000080\">INFO    </span> TRAIN AUC: <span style=\"color: #000080; font-weight: bold\">0.7806261674985102</span> TRAIN ACC:                   <a href=\"file://../trainer.py\"><span style=\"color: #7f7f7f\">trainer.py</span></a><span style=\"color: #7f7f7f\">:426</span>\n",
       "                    <span style=\"color: #000080; font-weight: bold\">0.7101513520359699</span>                                                       \n",
       "</pre>\n"
      ],
      "text/plain": [
       "<rich.jupyter.JupyterRenderable at 0x7f1428a3d2b0>"
      ]
     },
     "metadata": {},
     "output_type": "display_data"
    },
    {
     "data": {
      "text/html": [
       "<pre style=\"white-space:pre;overflow-x:auto;line-height:normal;font-family:Menlo,'DejaVu Sans Mono',consolas,'Courier New',monospace\"><span style=\"color: #7fbfbf\">           </span><span style=\"color: #000080\">INFO    </span> VALID AUC: <span style=\"color: #000080; font-weight: bold\">0.7801231379368361</span> VALID ACC: <span style=\"color: #000080; font-weight: bold\">0.708966565349544</span> <a href=\"file://../trainer.py\"><span style=\"color: #7f7f7f\">trainer.py</span></a><span style=\"color: #7f7f7f\">:427</span>\n",
       "                                                                                             \n",
       "</pre>\n"
      ],
      "text/plain": [
       "<rich.jupyter.JupyterRenderable at 0x7f1424ea8670>"
      ]
     },
     "metadata": {},
     "output_type": "display_data"
    },
    {
     "data": {
      "text/html": [
       "<pre style=\"white-space:pre;overflow-x:auto;line-height:normal;font-family:Menlo,'DejaVu Sans Mono',consolas,'Courier New',monospace\"><span style=\"color: #7fbfbf\">           </span><span style=\"color: #000080\">INFO    </span> EarlyStopping counter: <span style=\"color: #000080; font-weight: bold\">5</span>                                   <a href=\"file://../trainer.py\"><span style=\"color: #7f7f7f\">trainer.py</span></a><span style=\"color: #7f7f7f\">:435</span>\n",
       "</pre>\n"
      ],
      "text/plain": [
       "<rich.jupyter.JupyterRenderable at 0x7f14281f2a30>"
      ]
     },
     "metadata": {},
     "output_type": "display_data"
    },
    {
     "data": {
      "text/html": [
       "<pre style=\"white-space:pre;overflow-x:auto;line-height:normal;font-family:Menlo,'DejaVu Sans Mono',consolas,'Courier New',monospace\"><span style=\"color: #7fbfbf\">           </span><span style=\"color: #000080\">INFO    </span> EarlyStopping counter: <span style=\"color: #000080; font-weight: bold\">5</span> out of <span style=\"color: #000080; font-weight: bold\">5</span>                          <a href=\"file://../trainer.py\"><span style=\"color: #7f7f7f\">trainer.py</span></a><span style=\"color: #7f7f7f\">:437</span>\n",
       "</pre>\n"
      ],
      "text/plain": [
       "<rich.jupyter.JupyterRenderable at 0x7f1428a4a190>"
      ]
     },
     "metadata": {},
     "output_type": "display_data"
    }
   ],
   "source": [
    "auc, acc = trainer.run_cv(train_data, valid_data, test_data, folds=5, seeds=[1, 2, 3, 4, 5])"
   ]
  },
  {
   "cell_type": "code",
   "execution_count": 79,
   "metadata": {},
   "outputs": [
    {
     "name": "stdout",
     "output_type": "stream",
     "text": [
      "auc : 0.7770310448109141 acc : 0.7075987841945289\n",
      "logging path : ../split_test/LOG_[06.11_18:40]\n"
     ]
    }
   ],
   "source": [
    "print(f\"auc : {auc} acc : {acc}\")\n",
    "print(f\"logging path : {trainer.prefix_save_path}\")"
   ]
  },
  {
   "cell_type": "markdown",
   "metadata": {},
   "source": [
    "**LB AUC : 0.7313 LB ACC : 0.6882**"
   ]
  },
  {
   "cell_type": "code",
   "execution_count": 158,
   "metadata": {},
   "outputs": [
    {
     "data": {
      "text/html": [
       "Finishing last run (ID:vkjn4nxx) before initializing another..."
      ],
      "text/plain": [
       "<IPython.core.display.HTML object>"
      ]
     },
     "metadata": {},
     "output_type": "display_data"
    },
    {
     "data": {
      "text/html": [
       "<br/>Waiting for W&B process to finish, PID 79557<br/>Program ended successfully."
      ],
      "text/plain": [
       "<IPython.core.display.HTML object>"
      ]
     },
     "metadata": {},
     "output_type": "display_data"
    },
    {
     "data": {
      "application/vnd.jupyter.widget-view+json": {
       "model_id": "ba9796058031475292aea31d9fa08d16",
       "version_major": 2,
       "version_minor": 0
      },
      "text/plain": [
       "VBox(children=(Label(value=' 5.77MB of 5.77MB uploaded (0.00MB deduped)\\r'), FloatProgress(value=1.0, max=1.0)…"
      ]
     },
     "metadata": {},
     "output_type": "display_data"
    },
    {
     "data": {
      "text/html": [
       "Find user logs for this run at: <code>/home/j-gunmo/desktop/00.my-project/17.P-Stage-T1003/4-STAGE/notebook/wandb/run-20210611_212825-vkjn4nxx/logs/debug.log</code>"
      ],
      "text/plain": [
       "<IPython.core.display.HTML object>"
      ]
     },
     "metadata": {},
     "output_type": "display_data"
    },
    {
     "data": {
      "text/html": [
       "Find internal logs for this run at: <code>/home/j-gunmo/desktop/00.my-project/17.P-Stage-T1003/4-STAGE/notebook/wandb/run-20210611_212825-vkjn4nxx/logs/debug-internal.log</code>"
      ],
      "text/plain": [
       "<IPython.core.display.HTML object>"
      ]
     },
     "metadata": {},
     "output_type": "display_data"
    },
    {
     "data": {
      "text/html": [
       "<h3>Run summary:</h3><br/><style>\n",
       "    table.wandb td:nth-child(1) { padding: 0 10px; text-align: right }\n",
       "    </style><table class=\"wandb\">\n",
       "</table>"
      ],
      "text/plain": [
       "<IPython.core.display.HTML object>"
      ]
     },
     "metadata": {},
     "output_type": "display_data"
    },
    {
     "data": {
      "text/html": [
       "Synced 6 W&B file(s), 1 media file(s), 0 artifact file(s) and 1 other file(s)"
      ],
      "text/plain": [
       "<IPython.core.display.HTML object>"
      ]
     },
     "metadata": {},
     "output_type": "display_data"
    },
    {
     "data": {
      "text/html": [
       "\n",
       "                    <br/>Synced <strong style=\"color:#cdcd00\">fast-spaceship-506</strong>: <a href=\"https://wandb.ai/ggm1207/p-stage-4/runs/vkjn4nxx\" target=\"_blank\">https://wandb.ai/ggm1207/p-stage-4/runs/vkjn4nxx</a><br/>\n",
       "                "
      ],
      "text/plain": [
       "<IPython.core.display.HTML object>"
      ]
     },
     "metadata": {},
     "output_type": "display_data"
    },
    {
     "data": {
      "text/html": [
       "...Successfully finished last run (ID:vkjn4nxx). Initializing new run:<br/><br/>"
      ],
      "text/plain": [
       "<IPython.core.display.HTML object>"
      ]
     },
     "metadata": {},
     "output_type": "display_data"
    },
    {
     "name": "stderr",
     "output_type": "stream",
     "text": [
      "\u001b[34m\u001b[1mwandb\u001b[0m: wandb version 0.10.32 is available!  To upgrade, please run:\n",
      "\u001b[34m\u001b[1mwandb\u001b[0m:  $ pip install wandb --upgrade\n"
     ]
    },
    {
     "data": {
      "text/html": [
       "\n",
       "                Tracking run with wandb version 0.10.27<br/>\n",
       "                Syncing run <strong style=\"color:#cdcd00\">sunny-morning-507</strong> to <a href=\"https://wandb.ai\" target=\"_blank\">Weights & Biases</a> <a href=\"https://docs.wandb.com/integrations/jupyter.html\" target=\"_blank\">(Documentation)</a>.<br/>\n",
       "                Project page: <a href=\"https://wandb.ai/ggm1207/p-stage-4\" target=\"_blank\">https://wandb.ai/ggm1207/p-stage-4</a><br/>\n",
       "                Run page: <a href=\"https://wandb.ai/ggm1207/p-stage-4/runs/3mpb029z\" target=\"_blank\">https://wandb.ai/ggm1207/p-stage-4/runs/3mpb029z</a><br/>\n",
       "                Run data is saved locally in <code>/home/j-gunmo/desktop/00.my-project/17.P-Stage-T1003/4-STAGE/notebook/wandb/run-20210611_222513-3mpb029z</code><br/><br/>\n",
       "            "
      ],
      "text/plain": [
       "<IPython.core.display.HTML object>"
      ]
     },
     "metadata": {},
     "output_type": "display_data"
    },
    {
     "data": {
      "text/html": [
       "<pre style=\"white-space:pre;overflow-x:auto;line-height:normal;font-family:Menlo,'DejaVu Sans Mono',consolas,'Courier New',monospace\"><span style=\"color: #7fbfbf\">[22:25:19] </span><span style=\"color: #000080\">INFO    </span> Start Training: Epoch <span style=\"color: #000080; font-weight: bold\">1</span>                                    <a href=\"file://../trainer.py\"><span style=\"color: #7f7f7f\">trainer.py</span></a><span style=\"color: #7f7f7f\">:409</span>\n",
       "</pre>\n"
      ],
      "text/plain": [
       "<rich.jupyter.JupyterRenderable at 0x7f14236fa670>"
      ]
     },
     "metadata": {},
     "output_type": "display_data"
    },
    {
     "name": "stdout",
     "output_type": "stream",
     "text": [
      "Training steps: 0 Loss: 0.700603187084198\n",
      "Training steps: 50 Loss: 0.6957963705062866\n",
      "Training steps: 100 Loss: 0.6836996078491211\n",
      "Training steps: 150 Loss: 0.6726133227348328\n",
      "Training steps: 200 Loss: 0.665005624294281\n",
      "Training steps: 250 Loss: 0.5939368009567261\n",
      "VALID AUC : 0.77769436356305 ACC : 0.7060895822848515\n",
      "\n"
     ]
    },
    {
     "data": {
      "text/html": [
       "<pre style=\"white-space:pre;overflow-x:auto;line-height:normal;font-family:Menlo,'DejaVu Sans Mono',consolas,'Courier New',monospace\"><span style=\"color: #7fbfbf\">[22:25:22] </span><span style=\"color: #000080\">INFO    </span> TRAIN_LOSS: <span style=\"color: #000080; font-weight: bold\">0.6656978130340576</span>                             <a href=\"file://../trainer.py\"><span style=\"color: #7f7f7f\">trainer.py</span></a><span style=\"color: #7f7f7f\">:425</span>\n",
       "</pre>\n"
      ],
      "text/plain": [
       "<rich.jupyter.JupyterRenderable at 0x7f1401099f10>"
      ]
     },
     "metadata": {},
     "output_type": "display_data"
    },
    {
     "data": {
      "text/html": [
       "<pre style=\"white-space:pre;overflow-x:auto;line-height:normal;font-family:Menlo,'DejaVu Sans Mono',consolas,'Courier New',monospace\"><span style=\"color: #7fbfbf\">           </span><span style=\"color: #000080\">INFO    </span> TRAIN AUC: <span style=\"color: #000080; font-weight: bold\">0.7042439502167159</span> TRAIN ACC:                   <a href=\"file://../trainer.py\"><span style=\"color: #7f7f7f\">trainer.py</span></a><span style=\"color: #7f7f7f\">:426</span>\n",
       "                    <span style=\"color: #000080; font-weight: bold\">0.6363226678684092</span>                                                       \n",
       "</pre>\n"
      ],
      "text/plain": [
       "<rich.jupyter.JupyterRenderable at 0x7f13c4e17970>"
      ]
     },
     "metadata": {},
     "output_type": "display_data"
    },
    {
     "data": {
      "text/html": [
       "<pre style=\"white-space:pre;overflow-x:auto;line-height:normal;font-family:Menlo,'DejaVu Sans Mono',consolas,'Courier New',monospace\"><span style=\"color: #7fbfbf\">           </span><span style=\"color: #000080\">INFO    </span> VALID AUC: <span style=\"color: #000080; font-weight: bold\">0.77769436356305</span> VALID ACC: <span style=\"color: #000080; font-weight: bold\">0.7060895822848515</span>  <a href=\"file://../trainer.py\"><span style=\"color: #7f7f7f\">trainer.py</span></a><span style=\"color: #7f7f7f\">:427</span>\n",
       "                                                                                             \n",
       "</pre>\n"
      ],
      "text/plain": [
       "<rich.jupyter.JupyterRenderable at 0x7f14006351f0>"
      ]
     },
     "metadata": {},
     "output_type": "display_data"
    },
    {
     "data": {
      "text/html": [
       "<pre style=\"white-space:pre;overflow-x:auto;line-height:normal;font-family:Menlo,'DejaVu Sans Mono',consolas,'Courier New',monospace\"><span style=\"color: #7fbfbf\">           </span><span style=\"color: #000080\">INFO    </span> Start Training: Epoch <span style=\"color: #000080; font-weight: bold\">2</span>                                    <a href=\"file://../trainer.py\"><span style=\"color: #7f7f7f\">trainer.py</span></a><span style=\"color: #7f7f7f\">:409</span>\n",
       "</pre>\n"
      ],
      "text/plain": [
       "<rich.jupyter.JupyterRenderable at 0x7f13c4e17e50>"
      ]
     },
     "metadata": {},
     "output_type": "display_data"
    },
    {
     "name": "stdout",
     "output_type": "stream",
     "text": [
      "Training steps: 0 Loss: 0.5544260740280151\n",
      "Training steps: 50 Loss: 0.5366555452346802\n",
      "Training steps: 100 Loss: 0.5577244758605957\n",
      "Training steps: 150 Loss: 0.6209127306938171\n",
      "Training steps: 200 Loss: 0.5739538669586182\n",
      "Training steps: 250 Loss: 0.6146116256713867\n",
      "VALID AUC : 0.783435254021612 ACC : 0.7101157523905385\n",
      "\n"
     ]
    },
    {
     "data": {
      "text/html": [
       "<pre style=\"white-space:pre;overflow-x:auto;line-height:normal;font-family:Menlo,'DejaVu Sans Mono',consolas,'Courier New',monospace\"><span style=\"color: #7fbfbf\">[22:25:25] </span><span style=\"color: #000080\">INFO    </span> TRAIN_LOSS: <span style=\"color: #000080; font-weight: bold\">0.5826883912086487</span>                             <a href=\"file://../trainer.py\"><span style=\"color: #7f7f7f\">trainer.py</span></a><span style=\"color: #7f7f7f\">:425</span>\n",
       "</pre>\n"
      ],
      "text/plain": [
       "<rich.jupyter.JupyterRenderable at 0x7f1438e6b220>"
      ]
     },
     "metadata": {},
     "output_type": "display_data"
    },
    {
     "data": {
      "text/html": [
       "<pre style=\"white-space:pre;overflow-x:auto;line-height:normal;font-family:Menlo,'DejaVu Sans Mono',consolas,'Courier New',monospace\"><span style=\"color: #7fbfbf\">           </span><span style=\"color: #000080\">INFO    </span> TRAIN AUC: <span style=\"color: #000080; font-weight: bold\">0.771140179540829</span> TRAIN ACC: <span style=\"color: #000080; font-weight: bold\">0.7050473186119873</span> <a href=\"file://../trainer.py\"><span style=\"color: #7f7f7f\">trainer.py</span></a><span style=\"color: #7f7f7f\">:426</span>\n",
       "</pre>\n"
      ],
      "text/plain": [
       "<rich.jupyter.JupyterRenderable at 0x7f1428122dc0>"
      ]
     },
     "metadata": {},
     "output_type": "display_data"
    },
    {
     "data": {
      "text/html": [
       "<pre style=\"white-space:pre;overflow-x:auto;line-height:normal;font-family:Menlo,'DejaVu Sans Mono',consolas,'Courier New',monospace\"><span style=\"color: #7fbfbf\">           </span><span style=\"color: #000080\">INFO    </span> VALID AUC: <span style=\"color: #000080; font-weight: bold\">0.783435254021612</span> VALID ACC: <span style=\"color: #000080; font-weight: bold\">0.7101157523905385</span> <a href=\"file://../trainer.py\"><span style=\"color: #7f7f7f\">trainer.py</span></a><span style=\"color: #7f7f7f\">:427</span>\n",
       "                                                                                             \n",
       "</pre>\n"
      ],
      "text/plain": [
       "<rich.jupyter.JupyterRenderable at 0x7f1423702280>"
      ]
     },
     "metadata": {},
     "output_type": "display_data"
    },
    {
     "data": {
      "text/html": [
       "<pre style=\"white-space:pre;overflow-x:auto;line-height:normal;font-family:Menlo,'DejaVu Sans Mono',consolas,'Courier New',monospace\"><span style=\"color: #7fbfbf\">           </span><span style=\"color: #000080\">INFO    </span> Start Training: Epoch <span style=\"color: #000080; font-weight: bold\">3</span>                                    <a href=\"file://../trainer.py\"><span style=\"color: #7f7f7f\">trainer.py</span></a><span style=\"color: #7f7f7f\">:409</span>\n",
       "</pre>\n"
      ],
      "text/plain": [
       "<rich.jupyter.JupyterRenderable at 0x7f1438e6b220>"
      ]
     },
     "metadata": {},
     "output_type": "display_data"
    },
    {
     "name": "stdout",
     "output_type": "stream",
     "text": [
      "Training steps: 0 Loss: 0.5501046776771545\n",
      "Training steps: 50 Loss: 0.5619213581085205\n",
      "Training steps: 100 Loss: 0.5576613545417786\n",
      "Training steps: 150 Loss: 0.5835872888565063\n",
      "Training steps: 200 Loss: 0.5580599308013916\n",
      "Training steps: 250 Loss: 0.6445865631103516\n",
      "VALID AUC : 0.7860476048638254 ACC : 0.7161550075490689\n",
      "\n"
     ]
    },
    {
     "data": {
      "text/html": [
       "<pre style=\"white-space:pre;overflow-x:auto;line-height:normal;font-family:Menlo,'DejaVu Sans Mono',consolas,'Courier New',monospace\"><span style=\"color: #7fbfbf\">[22:25:28] </span><span style=\"color: #000080\">INFO    </span> TRAIN_LOSS: <span style=\"color: #000080; font-weight: bold\">0.5747220516204834</span>                             <a href=\"file://../trainer.py\"><span style=\"color: #7f7f7f\">trainer.py</span></a><span style=\"color: #7f7f7f\">:425</span>\n",
       "</pre>\n"
      ],
      "text/plain": [
       "<rich.jupyter.JupyterRenderable at 0x7f1401bf4520>"
      ]
     },
     "metadata": {},
     "output_type": "display_data"
    },
    {
     "data": {
      "text/html": [
       "<pre style=\"white-space:pre;overflow-x:auto;line-height:normal;font-family:Menlo,'DejaVu Sans Mono',consolas,'Courier New',monospace\"><span style=\"color: #7fbfbf\">           </span><span style=\"color: #000080\">INFO    </span> TRAIN AUC: <span style=\"color: #000080; font-weight: bold\">0.7757429099549057</span> TRAIN ACC: <span style=\"color: #000080; font-weight: bold\">0.706568273997296</span> <a href=\"file://../trainer.py\"><span style=\"color: #7f7f7f\">trainer.py</span></a><span style=\"color: #7f7f7f\">:426</span>\n",
       "</pre>\n"
      ],
      "text/plain": [
       "<rich.jupyter.JupyterRenderable at 0x7f14236e9b80>"
      ]
     },
     "metadata": {},
     "output_type": "display_data"
    },
    {
     "data": {
      "text/html": [
       "<pre style=\"white-space:pre;overflow-x:auto;line-height:normal;font-family:Menlo,'DejaVu Sans Mono',consolas,'Courier New',monospace\"><span style=\"color: #7fbfbf\">           </span><span style=\"color: #000080\">INFO    </span> VALID AUC: <span style=\"color: #000080; font-weight: bold\">0.7860476048638254</span> VALID ACC:                   <a href=\"file://../trainer.py\"><span style=\"color: #7f7f7f\">trainer.py</span></a><span style=\"color: #7f7f7f\">:427</span>\n",
       "                    <span style=\"color: #000080; font-weight: bold\">0.7161550075490689</span>                                                       \n",
       "                                                                                             \n",
       "</pre>\n"
      ],
      "text/plain": [
       "<rich.jupyter.JupyterRenderable at 0x7f1401104910>"
      ]
     },
     "metadata": {},
     "output_type": "display_data"
    },
    {
     "data": {
      "text/html": [
       "<pre style=\"white-space:pre;overflow-x:auto;line-height:normal;font-family:Menlo,'DejaVu Sans Mono',consolas,'Courier New',monospace\"><span style=\"color: #7fbfbf\">           </span><span style=\"color: #000080\">INFO    </span> Start Training: Epoch <span style=\"color: #000080; font-weight: bold\">4</span>                                    <a href=\"file://../trainer.py\"><span style=\"color: #7f7f7f\">trainer.py</span></a><span style=\"color: #7f7f7f\">:409</span>\n",
       "</pre>\n"
      ],
      "text/plain": [
       "<rich.jupyter.JupyterRenderable at 0x7f14010f3c40>"
      ]
     },
     "metadata": {},
     "output_type": "display_data"
    },
    {
     "name": "stdout",
     "output_type": "stream",
     "text": [
      "Training steps: 0 Loss: 0.5884982347488403\n",
      "Training steps: 50 Loss: 0.519839882850647\n",
      "Training steps: 100 Loss: 0.5290238261222839\n",
      "Training steps: 150 Loss: 0.5839225053787231\n",
      "Training steps: 200 Loss: 0.6324130892753601\n",
      "Training steps: 250 Loss: 0.6108105182647705\n",
      "VALID AUC : 0.7878165265510484 ACC : 0.7141419224962254\n",
      "\n"
     ]
    },
    {
     "data": {
      "text/html": [
       "<pre style=\"white-space:pre;overflow-x:auto;line-height:normal;font-family:Menlo,'DejaVu Sans Mono',consolas,'Courier New',monospace\"><span style=\"color: #7fbfbf\">[22:25:32] </span><span style=\"color: #000080\">INFO    </span> TRAIN_LOSS: <span style=\"color: #000080; font-weight: bold\">0.5716384053230286</span>                             <a href=\"file://../trainer.py\"><span style=\"color: #7f7f7f\">trainer.py</span></a><span style=\"color: #7f7f7f\">:425</span>\n",
       "</pre>\n"
      ],
      "text/plain": [
       "<rich.jupyter.JupyterRenderable at 0x7f1438e6b220>"
      ]
     },
     "metadata": {},
     "output_type": "display_data"
    },
    {
     "data": {
      "text/html": [
       "<pre style=\"white-space:pre;overflow-x:auto;line-height:normal;font-family:Menlo,'DejaVu Sans Mono',consolas,'Courier New',monospace\"><span style=\"color: #7fbfbf\">           </span><span style=\"color: #000080\">INFO    </span> TRAIN AUC: <span style=\"color: #000080; font-weight: bold\">0.7777282080417462</span> TRAIN ACC: <span style=\"color: #000080; font-weight: bold\">0.706568273997296</span> <a href=\"file://../trainer.py\"><span style=\"color: #7f7f7f\">trainer.py</span></a><span style=\"color: #7f7f7f\">:426</span>\n",
       "</pre>\n"
      ],
      "text/plain": [
       "<rich.jupyter.JupyterRenderable at 0x7f13c4e1b0a0>"
      ]
     },
     "metadata": {},
     "output_type": "display_data"
    },
    {
     "data": {
      "text/html": [
       "<pre style=\"white-space:pre;overflow-x:auto;line-height:normal;font-family:Menlo,'DejaVu Sans Mono',consolas,'Courier New',monospace\"><span style=\"color: #7fbfbf\">           </span><span style=\"color: #000080\">INFO    </span> VALID AUC: <span style=\"color: #000080; font-weight: bold\">0.7878165265510484</span> VALID ACC:                   <a href=\"file://../trainer.py\"><span style=\"color: #7f7f7f\">trainer.py</span></a><span style=\"color: #7f7f7f\">:427</span>\n",
       "                    <span style=\"color: #000080; font-weight: bold\">0.7141419224962254</span>                                                       \n",
       "                                                                                             \n",
       "</pre>\n"
      ],
      "text/plain": [
       "<rich.jupyter.JupyterRenderable at 0x7f1400640d00>"
      ]
     },
     "metadata": {},
     "output_type": "display_data"
    },
    {
     "data": {
      "text/html": [
       "<pre style=\"white-space:pre;overflow-x:auto;line-height:normal;font-family:Menlo,'DejaVu Sans Mono',consolas,'Courier New',monospace\"><span style=\"color: #7fbfbf\">           </span><span style=\"color: #000080\">INFO    </span> Start Training: Epoch <span style=\"color: #000080; font-weight: bold\">5</span>                                    <a href=\"file://../trainer.py\"><span style=\"color: #7f7f7f\">trainer.py</span></a><span style=\"color: #7f7f7f\">:409</span>\n",
       "</pre>\n"
      ],
      "text/plain": [
       "<rich.jupyter.JupyterRenderable at 0x7f1400635a30>"
      ]
     },
     "metadata": {},
     "output_type": "display_data"
    },
    {
     "name": "stdout",
     "output_type": "stream",
     "text": [
      "Training steps: 0 Loss: 0.6371676325798035\n",
      "Training steps: 50 Loss: 0.5093662738800049\n",
      "Training steps: 100 Loss: 0.538307785987854\n",
      "Training steps: 150 Loss: 0.5686457753181458\n",
      "Training steps: 200 Loss: 0.6063700914382935\n",
      "Training steps: 250 Loss: 0.6229968667030334\n",
      "VALID AUC : 0.7889117180423935 ACC : 0.7151484650226472\n",
      "\n"
     ]
    },
    {
     "data": {
      "text/html": [
       "<pre style=\"white-space:pre;overflow-x:auto;line-height:normal;font-family:Menlo,'DejaVu Sans Mono',consolas,'Courier New',monospace\"><span style=\"color: #7fbfbf\">[22:25:35] </span><span style=\"color: #000080\">INFO    </span> TRAIN_LOSS: <span style=\"color: #000080; font-weight: bold\">0.569636881351471</span>                              <a href=\"file://../trainer.py\"><span style=\"color: #7f7f7f\">trainer.py</span></a><span style=\"color: #7f7f7f\">:425</span>\n",
       "</pre>\n"
      ],
      "text/plain": [
       "<rich.jupyter.JupyterRenderable at 0x7f1401104910>"
      ]
     },
     "metadata": {},
     "output_type": "display_data"
    },
    {
     "data": {
      "text/html": [
       "<pre style=\"white-space:pre;overflow-x:auto;line-height:normal;font-family:Menlo,'DejaVu Sans Mono',consolas,'Courier New',monospace\"><span style=\"color: #7fbfbf\">           </span><span style=\"color: #000080\">INFO    </span> TRAIN AUC: <span style=\"color: #000080; font-weight: bold\">0.7783796502463554</span> TRAIN ACC:                   <a href=\"file://../trainer.py\"><span style=\"color: #7f7f7f\">trainer.py</span></a><span style=\"color: #7f7f7f\">:426</span>\n",
       "                    <span style=\"color: #000080; font-weight: bold\">0.7090468679585399</span>                                                       \n",
       "</pre>\n"
      ],
      "text/plain": [
       "<rich.jupyter.JupyterRenderable at 0x7f14236e9b80>"
      ]
     },
     "metadata": {},
     "output_type": "display_data"
    },
    {
     "data": {
      "text/html": [
       "<pre style=\"white-space:pre;overflow-x:auto;line-height:normal;font-family:Menlo,'DejaVu Sans Mono',consolas,'Courier New',monospace\"><span style=\"color: #7fbfbf\">           </span><span style=\"color: #000080\">INFO    </span> VALID AUC: <span style=\"color: #000080; font-weight: bold\">0.7889117180423935</span> VALID ACC:                   <a href=\"file://../trainer.py\"><span style=\"color: #7f7f7f\">trainer.py</span></a><span style=\"color: #7f7f7f\">:427</span>\n",
       "                    <span style=\"color: #000080; font-weight: bold\">0.7151484650226472</span>                                                       \n",
       "                                                                                             \n",
       "</pre>\n"
      ],
      "text/plain": [
       "<rich.jupyter.JupyterRenderable at 0x7f13c4e1b0a0>"
      ]
     },
     "metadata": {},
     "output_type": "display_data"
    },
    {
     "data": {
      "text/html": [
       "<pre style=\"white-space:pre;overflow-x:auto;line-height:normal;font-family:Menlo,'DejaVu Sans Mono',consolas,'Courier New',monospace\"><span style=\"color: #7fbfbf\">           </span><span style=\"color: #000080\">INFO    </span> Start Training: Epoch <span style=\"color: #000080; font-weight: bold\">6</span>                                    <a href=\"file://../trainer.py\"><span style=\"color: #7f7f7f\">trainer.py</span></a><span style=\"color: #7f7f7f\">:409</span>\n",
       "</pre>\n"
      ],
      "text/plain": [
       "<rich.jupyter.JupyterRenderable at 0x7f1400640d00>"
      ]
     },
     "metadata": {},
     "output_type": "display_data"
    },
    {
     "name": "stdout",
     "output_type": "stream",
     "text": [
      "Training steps: 0 Loss: 0.5798571109771729\n",
      "Training steps: 50 Loss: 0.5529870390892029\n",
      "Training steps: 100 Loss: 0.5669925808906555\n",
      "Training steps: 150 Loss: 0.5337899923324585\n",
      "Training steps: 200 Loss: 0.49725237488746643\n",
      "Training steps: 250 Loss: 0.6092047095298767\n",
      "VALID AUC : 0.7896614328468292 ACC : 0.7166582788122798\n",
      "\n"
     ]
    },
    {
     "data": {
      "text/html": [
       "<pre style=\"white-space:pre;overflow-x:auto;line-height:normal;font-family:Menlo,'DejaVu Sans Mono',consolas,'Courier New',monospace\"><span style=\"color: #7fbfbf\">[22:25:38] </span><span style=\"color: #000080\">INFO    </span> TRAIN_LOSS: <span style=\"color: #000080; font-weight: bold\">0.5685161352157593</span>                             <a href=\"file://../trainer.py\"><span style=\"color: #7f7f7f\">trainer.py</span></a><span style=\"color: #7f7f7f\">:425</span>\n",
       "</pre>\n"
      ],
      "text/plain": [
       "<rich.jupyter.JupyterRenderable at 0x7f140ff83e50>"
      ]
     },
     "metadata": {},
     "output_type": "display_data"
    },
    {
     "data": {
      "text/html": [
       "<pre style=\"white-space:pre;overflow-x:auto;line-height:normal;font-family:Menlo,'DejaVu Sans Mono',consolas,'Courier New',monospace\"><span style=\"color: #7fbfbf\">           </span><span style=\"color: #000080\">INFO    </span> TRAIN AUC: <span style=\"color: #000080; font-weight: bold\">0.7788264191414014</span> TRAIN ACC:                   <a href=\"file://../trainer.py\"><span style=\"color: #7f7f7f\">trainer.py</span></a><span style=\"color: #7f7f7f\">:426</span>\n",
       "                    <span style=\"color: #000080; font-weight: bold\">0.7091595313204146</span>                                                       \n",
       "</pre>\n"
      ],
      "text/plain": [
       "<rich.jupyter.JupyterRenderable at 0x7f14236e9b80>"
      ]
     },
     "metadata": {},
     "output_type": "display_data"
    },
    {
     "data": {
      "text/html": [
       "<pre style=\"white-space:pre;overflow-x:auto;line-height:normal;font-family:Menlo,'DejaVu Sans Mono',consolas,'Courier New',monospace\"><span style=\"color: #7fbfbf\">           </span><span style=\"color: #000080\">INFO    </span> VALID AUC: <span style=\"color: #000080; font-weight: bold\">0.7896614328468292</span> VALID ACC:                   <a href=\"file://../trainer.py\"><span style=\"color: #7f7f7f\">trainer.py</span></a><span style=\"color: #7f7f7f\">:427</span>\n",
       "                    <span style=\"color: #000080; font-weight: bold\">0.7166582788122798</span>                                                       \n",
       "                                                                                             \n",
       "</pre>\n"
      ],
      "text/plain": [
       "<rich.jupyter.JupyterRenderable at 0x7f13c4e1ea90>"
      ]
     },
     "metadata": {},
     "output_type": "display_data"
    },
    {
     "data": {
      "text/html": [
       "<pre style=\"white-space:pre;overflow-x:auto;line-height:normal;font-family:Menlo,'DejaVu Sans Mono',consolas,'Courier New',monospace\"><span style=\"color: #7fbfbf\">           </span><span style=\"color: #000080\">INFO    </span> Start Training: Epoch <span style=\"color: #000080; font-weight: bold\">7</span>                                    <a href=\"file://../trainer.py\"><span style=\"color: #7f7f7f\">trainer.py</span></a><span style=\"color: #7f7f7f\">:409</span>\n",
       "</pre>\n"
      ],
      "text/plain": [
       "<rich.jupyter.JupyterRenderable at 0x7f13c4e1ea90>"
      ]
     },
     "metadata": {},
     "output_type": "display_data"
    },
    {
     "name": "stdout",
     "output_type": "stream",
     "text": [
      "Training steps: 0 Loss: 0.5343998670578003\n",
      "Training steps: 50 Loss: 0.5504298806190491\n",
      "Training steps: 100 Loss: 0.5947290658950806\n",
      "Training steps: 150 Loss: 0.5801835656166077\n",
      "Training steps: 200 Loss: 0.7258906960487366\n",
      "Training steps: 250 Loss: 0.5901753306388855\n",
      "VALID AUC : 0.7896472490532318 ACC : 0.7166582788122798\n",
      "\n"
     ]
    },
    {
     "data": {
      "text/html": [
       "<pre style=\"white-space:pre;overflow-x:auto;line-height:normal;font-family:Menlo,'DejaVu Sans Mono',consolas,'Courier New',monospace\"><span style=\"color: #7fbfbf\">[22:25:41] </span><span style=\"color: #000080\">INFO    </span> TRAIN_LOSS: <span style=\"color: #000080; font-weight: bold\">0.568107008934021</span>                              <a href=\"file://../trainer.py\"><span style=\"color: #7f7f7f\">trainer.py</span></a><span style=\"color: #7f7f7f\">:425</span>\n",
       "</pre>\n"
      ],
      "text/plain": [
       "<rich.jupyter.JupyterRenderable at 0x7f1400657970>"
      ]
     },
     "metadata": {},
     "output_type": "display_data"
    },
    {
     "data": {
      "text/html": [
       "<pre style=\"white-space:pre;overflow-x:auto;line-height:normal;font-family:Menlo,'DejaVu Sans Mono',consolas,'Courier New',monospace\"><span style=\"color: #7fbfbf\">           </span><span style=\"color: #000080\">INFO    </span> TRAIN AUC: <span style=\"color: #000080; font-weight: bold\">0.7790337146769494</span> TRAIN ACC:                   <a href=\"file://../trainer.py\"><span style=\"color: #7f7f7f\">trainer.py</span></a><span style=\"color: #7f7f7f\">:426</span>\n",
       "                    <span style=\"color: #000080; font-weight: bold\">0.7097228481297881</span>                                                       \n",
       "</pre>\n"
      ],
      "text/plain": [
       "<rich.jupyter.JupyterRenderable at 0x7f1438e6b220>"
      ]
     },
     "metadata": {},
     "output_type": "display_data"
    },
    {
     "data": {
      "text/html": [
       "<pre style=\"white-space:pre;overflow-x:auto;line-height:normal;font-family:Menlo,'DejaVu Sans Mono',consolas,'Courier New',monospace\"><span style=\"color: #7fbfbf\">           </span><span style=\"color: #000080\">INFO    </span> VALID AUC: <span style=\"color: #000080; font-weight: bold\">0.7896472490532318</span> VALID ACC:                   <a href=\"file://../trainer.py\"><span style=\"color: #7f7f7f\">trainer.py</span></a><span style=\"color: #7f7f7f\">:427</span>\n",
       "                    <span style=\"color: #000080; font-weight: bold\">0.7166582788122798</span>                                                       \n",
       "                                                                                             \n",
       "</pre>\n"
      ],
      "text/plain": [
       "<rich.jupyter.JupyterRenderable at 0x7f1401099f10>"
      ]
     },
     "metadata": {},
     "output_type": "display_data"
    },
    {
     "data": {
      "text/html": [
       "<pre style=\"white-space:pre;overflow-x:auto;line-height:normal;font-family:Menlo,'DejaVu Sans Mono',consolas,'Courier New',monospace\"><span style=\"color: #7fbfbf\">           </span><span style=\"color: #000080\">INFO    </span> EarlyStopping counter: <span style=\"color: #000080; font-weight: bold\">1</span>                                   <a href=\"file://../trainer.py\"><span style=\"color: #7f7f7f\">trainer.py</span></a><span style=\"color: #7f7f7f\">:435</span>\n",
       "</pre>\n"
      ],
      "text/plain": [
       "<rich.jupyter.JupyterRenderable at 0x7f1400657970>"
      ]
     },
     "metadata": {},
     "output_type": "display_data"
    },
    {
     "data": {
      "text/html": [
       "<pre style=\"white-space:pre;overflow-x:auto;line-height:normal;font-family:Menlo,'DejaVu Sans Mono',consolas,'Courier New',monospace\"><span style=\"color: #7fbfbf\">           </span><span style=\"color: #000080\">INFO    </span> Start Training: Epoch <span style=\"color: #000080; font-weight: bold\">8</span>                                    <a href=\"file://../trainer.py\"><span style=\"color: #7f7f7f\">trainer.py</span></a><span style=\"color: #7f7f7f\">:409</span>\n",
       "</pre>\n"
      ],
      "text/plain": [
       "<rich.jupyter.JupyterRenderable at 0x7f1401104a60>"
      ]
     },
     "metadata": {},
     "output_type": "display_data"
    },
    {
     "name": "stdout",
     "output_type": "stream",
     "text": [
      "Training steps: 0 Loss: 0.5484820008277893\n",
      "Training steps: 50 Loss: 0.6090624332427979\n",
      "Training steps: 100 Loss: 0.5725345611572266\n",
      "Training steps: 150 Loss: 0.46471142768859863\n",
      "Training steps: 200 Loss: 0.516993522644043\n",
      "Training steps: 250 Loss: 0.5926272869110107\n",
      "VALID AUC : 0.7897911132454344 ACC : 0.7146451937594364\n",
      "\n"
     ]
    },
    {
     "data": {
      "text/html": [
       "<pre style=\"white-space:pre;overflow-x:auto;line-height:normal;font-family:Menlo,'DejaVu Sans Mono',consolas,'Courier New',monospace\"><span style=\"color: #7fbfbf\">[22:25:44] </span><span style=\"color: #000080\">INFO    </span> TRAIN_LOSS: <span style=\"color: #000080; font-weight: bold\">0.5676102042198181</span>                             <a href=\"file://../trainer.py\"><span style=\"color: #7f7f7f\">trainer.py</span></a><span style=\"color: #7f7f7f\">:425</span>\n",
       "</pre>\n"
      ],
      "text/plain": [
       "<rich.jupyter.JupyterRenderable at 0x7f13c4e1b760>"
      ]
     },
     "metadata": {},
     "output_type": "display_data"
    },
    {
     "data": {
      "text/html": [
       "<pre style=\"white-space:pre;overflow-x:auto;line-height:normal;font-family:Menlo,'DejaVu Sans Mono',consolas,'Courier New',monospace\"><span style=\"color: #7fbfbf\">           </span><span style=\"color: #000080\">INFO    </span> TRAIN AUC: <span style=\"color: #000080; font-weight: bold\">0.7790891306294827</span> TRAIN ACC:                   <a href=\"file://../trainer.py\"><span style=\"color: #7f7f7f\">trainer.py</span></a><span style=\"color: #7f7f7f\">:426</span>\n",
       "                    <span style=\"color: #000080; font-weight: bold\">0.7090468679585399</span>                                                       \n",
       "</pre>\n"
      ],
      "text/plain": [
       "<rich.jupyter.JupyterRenderable at 0x7f1401bf7e20>"
      ]
     },
     "metadata": {},
     "output_type": "display_data"
    },
    {
     "data": {
      "text/html": [
       "<pre style=\"white-space:pre;overflow-x:auto;line-height:normal;font-family:Menlo,'DejaVu Sans Mono',consolas,'Courier New',monospace\"><span style=\"color: #7fbfbf\">           </span><span style=\"color: #000080\">INFO    </span> VALID AUC: <span style=\"color: #000080; font-weight: bold\">0.7897911132454344</span> VALID ACC:                   <a href=\"file://../trainer.py\"><span style=\"color: #7f7f7f\">trainer.py</span></a><span style=\"color: #7f7f7f\">:427</span>\n",
       "                    <span style=\"color: #000080; font-weight: bold\">0.7146451937594364</span>                                                       \n",
       "                                                                                             \n",
       "</pre>\n"
      ],
      "text/plain": [
       "<rich.jupyter.JupyterRenderable at 0x7f1401114700>"
      ]
     },
     "metadata": {},
     "output_type": "display_data"
    },
    {
     "data": {
      "text/html": [
       "<pre style=\"white-space:pre;overflow-x:auto;line-height:normal;font-family:Menlo,'DejaVu Sans Mono',consolas,'Courier New',monospace\"><span style=\"color: #7fbfbf\">           </span><span style=\"color: #000080\">INFO    </span> Start Training: Epoch <span style=\"color: #000080; font-weight: bold\">9</span>                                    <a href=\"file://../trainer.py\"><span style=\"color: #7f7f7f\">trainer.py</span></a><span style=\"color: #7f7f7f\">:409</span>\n",
       "</pre>\n"
      ],
      "text/plain": [
       "<rich.jupyter.JupyterRenderable at 0x7f1401104910>"
      ]
     },
     "metadata": {},
     "output_type": "display_data"
    },
    {
     "name": "stdout",
     "output_type": "stream",
     "text": [
      "Training steps: 0 Loss: 0.5951389074325562\n",
      "Training steps: 50 Loss: 0.5376636981964111\n",
      "Training steps: 100 Loss: 0.587437629699707\n",
      "Training steps: 150 Loss: 0.7073774337768555\n",
      "Training steps: 200 Loss: 0.5266275405883789\n",
      "Training steps: 250 Loss: 0.5785427093505859\n",
      "VALID AUC : 0.7900676972205843 ACC : 0.7161550075490689\n",
      "\n"
     ]
    },
    {
     "data": {
      "text/html": [
       "<pre style=\"white-space:pre;overflow-x:auto;line-height:normal;font-family:Menlo,'DejaVu Sans Mono',consolas,'Courier New',monospace\"><span style=\"color: #7fbfbf\">[22:25:48] </span><span style=\"color: #000080\">INFO    </span> TRAIN_LOSS: <span style=\"color: #000080; font-weight: bold\">0.5673484206199646</span>                             <a href=\"file://../trainer.py\"><span style=\"color: #7f7f7f\">trainer.py</span></a><span style=\"color: #7f7f7f\">:425</span>\n",
       "</pre>\n"
      ],
      "text/plain": [
       "<rich.jupyter.JupyterRenderable at 0x7f13c4e1b0a0>"
      ]
     },
     "metadata": {},
     "output_type": "display_data"
    },
    {
     "data": {
      "text/html": [
       "<pre style=\"white-space:pre;overflow-x:auto;line-height:normal;font-family:Menlo,'DejaVu Sans Mono',consolas,'Courier New',monospace\"><span style=\"color: #7fbfbf\">           </span><span style=\"color: #000080\">INFO    </span> TRAIN AUC: <span style=\"color: #000080; font-weight: bold\">0.7792373530643922</span> TRAIN ACC:                   <a href=\"file://../trainer.py\"><span style=\"color: #7f7f7f\">trainer.py</span></a><span style=\"color: #7f7f7f\">:426</span>\n",
       "                    <span style=\"color: #000080; font-weight: bold\">0.7098355114916629</span>                                                       \n",
       "</pre>\n"
      ],
      "text/plain": [
       "<rich.jupyter.JupyterRenderable at 0x7f1401bf4520>"
      ]
     },
     "metadata": {},
     "output_type": "display_data"
    },
    {
     "data": {
      "text/html": [
       "<pre style=\"white-space:pre;overflow-x:auto;line-height:normal;font-family:Menlo,'DejaVu Sans Mono',consolas,'Courier New',monospace\"><span style=\"color: #7fbfbf\">           </span><span style=\"color: #000080\">INFO    </span> VALID AUC: <span style=\"color: #000080; font-weight: bold\">0.7900676972205843</span> VALID ACC:                   <a href=\"file://../trainer.py\"><span style=\"color: #7f7f7f\">trainer.py</span></a><span style=\"color: #7f7f7f\">:427</span>\n",
       "                    <span style=\"color: #000080; font-weight: bold\">0.7161550075490689</span>                                                       \n",
       "                                                                                             \n",
       "</pre>\n"
      ],
      "text/plain": [
       "<rich.jupyter.JupyterRenderable at 0x7f13c4e1b0a0>"
      ]
     },
     "metadata": {},
     "output_type": "display_data"
    },
    {
     "data": {
      "text/html": [
       "<pre style=\"white-space:pre;overflow-x:auto;line-height:normal;font-family:Menlo,'DejaVu Sans Mono',consolas,'Courier New',monospace\"><span style=\"color: #7fbfbf\">           </span><span style=\"color: #000080\">INFO    </span> Start Training: Epoch <span style=\"color: #000080; font-weight: bold\">10</span>                                   <a href=\"file://../trainer.py\"><span style=\"color: #7f7f7f\">trainer.py</span></a><span style=\"color: #7f7f7f\">:409</span>\n",
       "</pre>\n"
      ],
      "text/plain": [
       "<rich.jupyter.JupyterRenderable at 0x7f1438e6b220>"
      ]
     },
     "metadata": {},
     "output_type": "display_data"
    },
    {
     "name": "stdout",
     "output_type": "stream",
     "text": [
      "Training steps: 0 Loss: 0.6116013526916504\n",
      "Training steps: 50 Loss: 0.6006002426147461\n",
      "Training steps: 100 Loss: 0.5044102072715759\n",
      "Training steps: 150 Loss: 0.65506911277771\n",
      "Training steps: 200 Loss: 0.610359787940979\n",
      "Training steps: 250 Loss: 0.5635261535644531\n",
      "VALID AUC : 0.7904030426263523 ACC : 0.7156517362858581\n",
      "\n"
     ]
    },
    {
     "data": {
      "text/html": [
       "<pre style=\"white-space:pre;overflow-x:auto;line-height:normal;font-family:Menlo,'DejaVu Sans Mono',consolas,'Courier New',monospace\"><span style=\"color: #7fbfbf\">[22:25:51] </span><span style=\"color: #000080\">INFO    </span> TRAIN_LOSS: <span style=\"color: #000080; font-weight: bold\">0.5668524503707886</span>                             <a href=\"file://../trainer.py\"><span style=\"color: #7f7f7f\">trainer.py</span></a><span style=\"color: #7f7f7f\">:425</span>\n",
       "</pre>\n"
      ],
      "text/plain": [
       "<rich.jupyter.JupyterRenderable at 0x7f1400635a30>"
      ]
     },
     "metadata": {},
     "output_type": "display_data"
    },
    {
     "data": {
      "text/html": [
       "<pre style=\"white-space:pre;overflow-x:auto;line-height:normal;font-family:Menlo,'DejaVu Sans Mono',consolas,'Courier New',monospace\"><span style=\"color: #7fbfbf\">           </span><span style=\"color: #000080\">INFO    </span> TRAIN AUC: <span style=\"color: #000080; font-weight: bold\">0.7793847945458003</span> TRAIN ACC:                   <a href=\"file://../trainer.py\"><span style=\"color: #7f7f7f\">trainer.py</span></a><span style=\"color: #7f7f7f\">:426</span>\n",
       "                    <span style=\"color: #000080; font-weight: bold\">0.7099481748535377</span>                                                       \n",
       "</pre>\n"
      ],
      "text/plain": [
       "<rich.jupyter.JupyterRenderable at 0x7f147d5521f0>"
      ]
     },
     "metadata": {},
     "output_type": "display_data"
    },
    {
     "data": {
      "text/html": [
       "<pre style=\"white-space:pre;overflow-x:auto;line-height:normal;font-family:Menlo,'DejaVu Sans Mono',consolas,'Courier New',monospace\"><span style=\"color: #7fbfbf\">           </span><span style=\"color: #000080\">INFO    </span> VALID AUC: <span style=\"color: #000080; font-weight: bold\">0.7904030426263523</span> VALID ACC:                   <a href=\"file://../trainer.py\"><span style=\"color: #7f7f7f\">trainer.py</span></a><span style=\"color: #7f7f7f\">:427</span>\n",
       "                    <span style=\"color: #000080; font-weight: bold\">0.7156517362858581</span>                                                       \n",
       "                                                                                             \n",
       "</pre>\n"
      ],
      "text/plain": [
       "<rich.jupyter.JupyterRenderable at 0x7f14006351f0>"
      ]
     },
     "metadata": {},
     "output_type": "display_data"
    },
    {
     "data": {
      "text/html": [
       "<pre style=\"white-space:pre;overflow-x:auto;line-height:normal;font-family:Menlo,'DejaVu Sans Mono',consolas,'Courier New',monospace\"><span style=\"color: #7fbfbf\">           </span><span style=\"color: #000080\">INFO    </span> Start Training: Epoch <span style=\"color: #000080; font-weight: bold\">11</span>                                   <a href=\"file://../trainer.py\"><span style=\"color: #7f7f7f\">trainer.py</span></a><span style=\"color: #7f7f7f\">:409</span>\n",
       "</pre>\n"
      ],
      "text/plain": [
       "<rich.jupyter.JupyterRenderable at 0x7f1401bf4520>"
      ]
     },
     "metadata": {},
     "output_type": "display_data"
    },
    {
     "name": "stdout",
     "output_type": "stream",
     "text": [
      "Training steps: 0 Loss: 0.5454117655754089\n",
      "Training steps: 50 Loss: 0.5834535956382751\n",
      "Training steps: 100 Loss: 0.6092569828033447\n",
      "Training steps: 150 Loss: 0.5780490040779114\n",
      "Training steps: 200 Loss: 0.4889211058616638\n",
      "Training steps: 250 Loss: 0.6069608330726624\n",
      "VALID AUC : 0.7901669837757663 ACC : 0.7161550075490689\n",
      "\n"
     ]
    },
    {
     "data": {
      "text/html": [
       "<pre style=\"white-space:pre;overflow-x:auto;line-height:normal;font-family:Menlo,'DejaVu Sans Mono',consolas,'Courier New',monospace\"><span style=\"color: #7fbfbf\">[22:25:54] </span><span style=\"color: #000080\">INFO    </span> TRAIN_LOSS: <span style=\"color: #000080; font-weight: bold\">0.5671948194503784</span>                             <a href=\"file://../trainer.py\"><span style=\"color: #7f7f7f\">trainer.py</span></a><span style=\"color: #7f7f7f\">:425</span>\n",
       "</pre>\n"
      ],
      "text/plain": [
       "<rich.jupyter.JupyterRenderable at 0x7f1423700340>"
      ]
     },
     "metadata": {},
     "output_type": "display_data"
    },
    {
     "data": {
      "text/html": [
       "<pre style=\"white-space:pre;overflow-x:auto;line-height:normal;font-family:Menlo,'DejaVu Sans Mono',consolas,'Courier New',monospace\"><span style=\"color: #7fbfbf\">           </span><span style=\"color: #000080\">INFO    </span> TRAIN AUC: <span style=\"color: #000080; font-weight: bold\">0.7794617025926653</span> TRAIN ACC:                   <a href=\"file://../trainer.py\"><span style=\"color: #7f7f7f\">trainer.py</span></a><span style=\"color: #7f7f7f\">:426</span>\n",
       "                    <span style=\"color: #000080; font-weight: bold\">0.7097791798107256</span>                                                       \n",
       "</pre>\n"
      ],
      "text/plain": [
       "<rich.jupyter.JupyterRenderable at 0x7f1401099f10>"
      ]
     },
     "metadata": {},
     "output_type": "display_data"
    },
    {
     "data": {
      "text/html": [
       "<pre style=\"white-space:pre;overflow-x:auto;line-height:normal;font-family:Menlo,'DejaVu Sans Mono',consolas,'Courier New',monospace\"><span style=\"color: #7fbfbf\">           </span><span style=\"color: #000080\">INFO    </span> VALID AUC: <span style=\"color: #000080; font-weight: bold\">0.7901669837757663</span> VALID ACC:                   <a href=\"file://../trainer.py\"><span style=\"color: #7f7f7f\">trainer.py</span></a><span style=\"color: #7f7f7f\">:427</span>\n",
       "                    <span style=\"color: #000080; font-weight: bold\">0.7161550075490689</span>                                                       \n",
       "                                                                                             \n",
       "</pre>\n"
      ],
      "text/plain": [
       "<rich.jupyter.JupyterRenderable at 0x7f1401099f10>"
      ]
     },
     "metadata": {},
     "output_type": "display_data"
    },
    {
     "data": {
      "text/html": [
       "<pre style=\"white-space:pre;overflow-x:auto;line-height:normal;font-family:Menlo,'DejaVu Sans Mono',consolas,'Courier New',monospace\"><span style=\"color: #7fbfbf\">           </span><span style=\"color: #000080\">INFO    </span> EarlyStopping counter: <span style=\"color: #000080; font-weight: bold\">1</span>                                   <a href=\"file://../trainer.py\"><span style=\"color: #7f7f7f\">trainer.py</span></a><span style=\"color: #7f7f7f\">:435</span>\n",
       "</pre>\n"
      ],
      "text/plain": [
       "<rich.jupyter.JupyterRenderable at 0x7f1401099f10>"
      ]
     },
     "metadata": {},
     "output_type": "display_data"
    },
    {
     "data": {
      "text/html": [
       "<pre style=\"white-space:pre;overflow-x:auto;line-height:normal;font-family:Menlo,'DejaVu Sans Mono',consolas,'Courier New',monospace\"><span style=\"color: #7fbfbf\">           </span><span style=\"color: #000080\">INFO    </span> Start Training: Epoch <span style=\"color: #000080; font-weight: bold\">12</span>                                   <a href=\"file://../trainer.py\"><span style=\"color: #7f7f7f\">trainer.py</span></a><span style=\"color: #7f7f7f\">:409</span>\n",
       "</pre>\n"
      ],
      "text/plain": [
       "<rich.jupyter.JupyterRenderable at 0x7f14237024c0>"
      ]
     },
     "metadata": {},
     "output_type": "display_data"
    },
    {
     "name": "stdout",
     "output_type": "stream",
     "text": [
      "Training steps: 0 Loss: 0.6297566890716553\n",
      "Training steps: 50 Loss: 0.5434718132019043\n",
      "Training steps: 100 Loss: 0.604882001876831\n",
      "Training steps: 150 Loss: 0.5360378623008728\n",
      "Training steps: 200 Loss: 0.5769190788269043\n",
      "Training steps: 250 Loss: 0.600072979927063\n",
      "VALID AUC : 0.7906988760356702 ACC : 0.7171615500754907\n",
      "\n"
     ]
    },
    {
     "data": {
      "text/html": [
       "<pre style=\"white-space:pre;overflow-x:auto;line-height:normal;font-family:Menlo,'DejaVu Sans Mono',consolas,'Courier New',monospace\"><span style=\"color: #7fbfbf\">[22:25:57] </span><span style=\"color: #000080\">INFO    </span> TRAIN_LOSS: <span style=\"color: #000080; font-weight: bold\">0.5666460990905762</span>                             <a href=\"file://../trainer.py\"><span style=\"color: #7f7f7f\">trainer.py</span></a><span style=\"color: #7f7f7f\">:425</span>\n",
       "</pre>\n"
      ],
      "text/plain": [
       "<rich.jupyter.JupyterRenderable at 0x7f1400632730>"
      ]
     },
     "metadata": {},
     "output_type": "display_data"
    },
    {
     "data": {
      "text/html": [
       "<pre style=\"white-space:pre;overflow-x:auto;line-height:normal;font-family:Menlo,'DejaVu Sans Mono',consolas,'Courier New',monospace\"><span style=\"color: #7fbfbf\">           </span><span style=\"color: #000080\">INFO    </span> TRAIN AUC: <span style=\"color: #000080; font-weight: bold\">0.7794660962497635</span> TRAIN ACC:                   <a href=\"file://../trainer.py\"><span style=\"color: #7f7f7f\">trainer.py</span></a><span style=\"color: #7f7f7f\">:426</span>\n",
       "                    <span style=\"color: #000080; font-weight: bold\">0.7111874718341595</span>                                                       \n",
       "</pre>\n"
      ],
      "text/plain": [
       "<rich.jupyter.JupyterRenderable at 0x7f140065e370>"
      ]
     },
     "metadata": {},
     "output_type": "display_data"
    },
    {
     "data": {
      "text/html": [
       "<pre style=\"white-space:pre;overflow-x:auto;line-height:normal;font-family:Menlo,'DejaVu Sans Mono',consolas,'Courier New',monospace\"><span style=\"color: #7fbfbf\">           </span><span style=\"color: #000080\">INFO    </span> VALID AUC: <span style=\"color: #000080; font-weight: bold\">0.7906988760356702</span> VALID ACC:                   <a href=\"file://../trainer.py\"><span style=\"color: #7f7f7f\">trainer.py</span></a><span style=\"color: #7f7f7f\">:427</span>\n",
       "                    <span style=\"color: #000080; font-weight: bold\">0.7171615500754907</span>                                                       \n",
       "                                                                                             \n",
       "</pre>\n"
      ],
      "text/plain": [
       "<rich.jupyter.JupyterRenderable at 0x7f1400640d00>"
      ]
     },
     "metadata": {},
     "output_type": "display_data"
    },
    {
     "data": {
      "text/html": [
       "<pre style=\"white-space:pre;overflow-x:auto;line-height:normal;font-family:Menlo,'DejaVu Sans Mono',consolas,'Courier New',monospace\"><span style=\"color: #7fbfbf\">           </span><span style=\"color: #000080\">INFO    </span> Start Training: Epoch <span style=\"color: #000080; font-weight: bold\">13</span>                                   <a href=\"file://../trainer.py\"><span style=\"color: #7f7f7f\">trainer.py</span></a><span style=\"color: #7f7f7f\">:409</span>\n",
       "</pre>\n"
      ],
      "text/plain": [
       "<rich.jupyter.JupyterRenderable at 0x7f1400632730>"
      ]
     },
     "metadata": {},
     "output_type": "display_data"
    },
    {
     "name": "stdout",
     "output_type": "stream",
     "text": [
      "Training steps: 0 Loss: 0.5546300411224365\n",
      "Training steps: 50 Loss: 0.7074905633926392\n",
      "Training steps: 100 Loss: 0.6230628490447998\n",
      "Training steps: 150 Loss: 0.7607958316802979\n",
      "Training steps: 200 Loss: 0.4773101210594177\n",
      "Training steps: 250 Loss: 0.5801773071289062\n",
      "VALID AUC : 0.7901902857223907 ACC : 0.7166582788122798\n",
      "\n"
     ]
    },
    {
     "data": {
      "text/html": [
       "<pre style=\"white-space:pre;overflow-x:auto;line-height:normal;font-family:Menlo,'DejaVu Sans Mono',consolas,'Courier New',monospace\"><span style=\"color: #7fbfbf\">[22:26:01] </span><span style=\"color: #000080\">INFO    </span> TRAIN_LOSS: <span style=\"color: #000080; font-weight: bold\">0.5665134191513062</span>                             <a href=\"file://../trainer.py\"><span style=\"color: #7f7f7f\">trainer.py</span></a><span style=\"color: #7f7f7f\">:425</span>\n",
       "</pre>\n"
      ],
      "text/plain": [
       "<rich.jupyter.JupyterRenderable at 0x7f140065e370>"
      ]
     },
     "metadata": {},
     "output_type": "display_data"
    },
    {
     "data": {
      "text/html": [
       "<pre style=\"white-space:pre;overflow-x:auto;line-height:normal;font-family:Menlo,'DejaVu Sans Mono',consolas,'Courier New',monospace\"><span style=\"color: #7fbfbf\">           </span><span style=\"color: #000080\">INFO    </span> TRAIN AUC: <span style=\"color: #000080; font-weight: bold\">0.7797045346871418</span> TRAIN ACC:                   <a href=\"file://../trainer.py\"><span style=\"color: #7f7f7f\">trainer.py</span></a><span style=\"color: #7f7f7f\">:426</span>\n",
       "                    <span style=\"color: #000080; font-weight: bold\">0.7112438035150969</span>                                                       \n",
       "</pre>\n"
      ],
      "text/plain": [
       "<rich.jupyter.JupyterRenderable at 0x7f13c4e1b760>"
      ]
     },
     "metadata": {},
     "output_type": "display_data"
    },
    {
     "data": {
      "text/html": [
       "<pre style=\"white-space:pre;overflow-x:auto;line-height:normal;font-family:Menlo,'DejaVu Sans Mono',consolas,'Courier New',monospace\"><span style=\"color: #7fbfbf\">           </span><span style=\"color: #000080\">INFO    </span> VALID AUC: <span style=\"color: #000080; font-weight: bold\">0.7901902857223907</span> VALID ACC:                   <a href=\"file://../trainer.py\"><span style=\"color: #7f7f7f\">trainer.py</span></a><span style=\"color: #7f7f7f\">:427</span>\n",
       "                    <span style=\"color: #000080; font-weight: bold\">0.7166582788122798</span>                                                       \n",
       "                                                                                             \n",
       "</pre>\n"
      ],
      "text/plain": [
       "<rich.jupyter.JupyterRenderable at 0x7f1401bf4520>"
      ]
     },
     "metadata": {},
     "output_type": "display_data"
    },
    {
     "data": {
      "text/html": [
       "<pre style=\"white-space:pre;overflow-x:auto;line-height:normal;font-family:Menlo,'DejaVu Sans Mono',consolas,'Courier New',monospace\"><span style=\"color: #7fbfbf\">           </span><span style=\"color: #000080\">INFO    </span> EarlyStopping counter: <span style=\"color: #000080; font-weight: bold\">1</span>                                   <a href=\"file://../trainer.py\"><span style=\"color: #7f7f7f\">trainer.py</span></a><span style=\"color: #7f7f7f\">:435</span>\n",
       "</pre>\n"
      ],
      "text/plain": [
       "<rich.jupyter.JupyterRenderable at 0x7f13c4e1ea90>"
      ]
     },
     "metadata": {},
     "output_type": "display_data"
    },
    {
     "data": {
      "text/html": [
       "<pre style=\"white-space:pre;overflow-x:auto;line-height:normal;font-family:Menlo,'DejaVu Sans Mono',consolas,'Courier New',monospace\"><span style=\"color: #7fbfbf\">           </span><span style=\"color: #000080\">INFO    </span> Start Training: Epoch <span style=\"color: #000080; font-weight: bold\">14</span>                                   <a href=\"file://../trainer.py\"><span style=\"color: #7f7f7f\">trainer.py</span></a><span style=\"color: #7f7f7f\">:409</span>\n",
       "</pre>\n"
      ],
      "text/plain": [
       "<rich.jupyter.JupyterRenderable at 0x7f13c4e18af0>"
      ]
     },
     "metadata": {},
     "output_type": "display_data"
    },
    {
     "name": "stdout",
     "output_type": "stream",
     "text": [
      "Training steps: 0 Loss: 0.6786515712738037\n",
      "Training steps: 50 Loss: 0.5602739453315735\n",
      "Training steps: 100 Loss: 0.6185828447341919\n",
      "Training steps: 150 Loss: 0.4971354007720947\n",
      "Training steps: 200 Loss: 0.5733383893966675\n",
      "Training steps: 250 Loss: 0.5385435223579407\n",
      "VALID AUC : 0.7903868325765266 ACC : 0.7161550075490689\n",
      "\n"
     ]
    },
    {
     "data": {
      "text/html": [
       "<pre style=\"white-space:pre;overflow-x:auto;line-height:normal;font-family:Menlo,'DejaVu Sans Mono',consolas,'Courier New',monospace\"><span style=\"color: #7fbfbf\">[22:26:04] </span><span style=\"color: #000080\">INFO    </span> TRAIN_LOSS: <span style=\"color: #000080; font-weight: bold\">0.5665412545204163</span>                             <a href=\"file://../trainer.py\"><span style=\"color: #7f7f7f\">trainer.py</span></a><span style=\"color: #7f7f7f\">:425</span>\n",
       "</pre>\n"
      ],
      "text/plain": [
       "<rich.jupyter.JupyterRenderable at 0x7f1438e6b220>"
      ]
     },
     "metadata": {},
     "output_type": "display_data"
    },
    {
     "data": {
      "text/html": [
       "<pre style=\"white-space:pre;overflow-x:auto;line-height:normal;font-family:Menlo,'DejaVu Sans Mono',consolas,'Courier New',monospace\"><span style=\"color: #7fbfbf\">           </span><span style=\"color: #000080\">INFO    </span> TRAIN AUC: <span style=\"color: #000080; font-weight: bold\">0.7796682362223579</span> TRAIN ACC:                   <a href=\"file://../trainer.py\"><span style=\"color: #7f7f7f\">trainer.py</span></a><span style=\"color: #7f7f7f\">:426</span>\n",
       "                    <span style=\"color: #000080; font-weight: bold\">0.7094411897251014</span>                                                       \n",
       "</pre>\n"
      ],
      "text/plain": [
       "<rich.jupyter.JupyterRenderable at 0x7f140111d1c0>"
      ]
     },
     "metadata": {},
     "output_type": "display_data"
    },
    {
     "data": {
      "text/html": [
       "<pre style=\"white-space:pre;overflow-x:auto;line-height:normal;font-family:Menlo,'DejaVu Sans Mono',consolas,'Courier New',monospace\"><span style=\"color: #7fbfbf\">           </span><span style=\"color: #000080\">INFO    </span> VALID AUC: <span style=\"color: #000080; font-weight: bold\">0.7903868325765266</span> VALID ACC:                   <a href=\"file://../trainer.py\"><span style=\"color: #7f7f7f\">trainer.py</span></a><span style=\"color: #7f7f7f\">:427</span>\n",
       "                    <span style=\"color: #000080; font-weight: bold\">0.7161550075490689</span>                                                       \n",
       "                                                                                             \n",
       "</pre>\n"
      ],
      "text/plain": [
       "<rich.jupyter.JupyterRenderable at 0x7f14006351f0>"
      ]
     },
     "metadata": {},
     "output_type": "display_data"
    },
    {
     "data": {
      "text/html": [
       "<pre style=\"white-space:pre;overflow-x:auto;line-height:normal;font-family:Menlo,'DejaVu Sans Mono',consolas,'Courier New',monospace\"><span style=\"color: #7fbfbf\">           </span><span style=\"color: #000080\">INFO    </span> EarlyStopping counter: <span style=\"color: #000080; font-weight: bold\">2</span>                                   <a href=\"file://../trainer.py\"><span style=\"color: #7f7f7f\">trainer.py</span></a><span style=\"color: #7f7f7f\">:435</span>\n",
       "</pre>\n"
      ],
      "text/plain": [
       "<rich.jupyter.JupyterRenderable at 0x7f140ffb3520>"
      ]
     },
     "metadata": {},
     "output_type": "display_data"
    },
    {
     "data": {
      "text/html": [
       "<pre style=\"white-space:pre;overflow-x:auto;line-height:normal;font-family:Menlo,'DejaVu Sans Mono',consolas,'Courier New',monospace\"><span style=\"color: #7fbfbf\">           </span><span style=\"color: #000080\">INFO    </span> Start Training: Epoch <span style=\"color: #000080; font-weight: bold\">15</span>                                   <a href=\"file://../trainer.py\"><span style=\"color: #7f7f7f\">trainer.py</span></a><span style=\"color: #7f7f7f\">:409</span>\n",
       "</pre>\n"
      ],
      "text/plain": [
       "<rich.jupyter.JupyterRenderable at 0x7f13c4e18af0>"
      ]
     },
     "metadata": {},
     "output_type": "display_data"
    },
    {
     "name": "stdout",
     "output_type": "stream",
     "text": [
      "Training steps: 0 Loss: 0.5610966682434082\n",
      "Training steps: 50 Loss: 0.5270990133285522\n",
      "Training steps: 100 Loss: 0.6232728958129883\n",
      "Training steps: 150 Loss: 0.6399747133255005\n",
      "Training steps: 200 Loss: 0.5946403741836548\n",
      "Training steps: 250 Loss: 0.5840374827384949\n",
      "VALID AUC : 0.7902905854056868 ACC : 0.7166582788122798\n",
      "\n"
     ]
    },
    {
     "data": {
      "text/html": [
       "<pre style=\"white-space:pre;overflow-x:auto;line-height:normal;font-family:Menlo,'DejaVu Sans Mono',consolas,'Courier New',monospace\"><span style=\"color: #7fbfbf\">[22:26:07] </span><span style=\"color: #000080\">INFO    </span> TRAIN_LOSS: <span style=\"color: #000080; font-weight: bold\">0.5666172504425049</span>                             <a href=\"file://../trainer.py\"><span style=\"color: #7f7f7f\">trainer.py</span></a><span style=\"color: #7f7f7f\">:425</span>\n",
       "</pre>\n"
      ],
      "text/plain": [
       "<rich.jupyter.JupyterRenderable at 0x7f14281a6700>"
      ]
     },
     "metadata": {},
     "output_type": "display_data"
    },
    {
     "data": {
      "text/html": [
       "<pre style=\"white-space:pre;overflow-x:auto;line-height:normal;font-family:Menlo,'DejaVu Sans Mono',consolas,'Courier New',monospace\"><span style=\"color: #7fbfbf\">           </span><span style=\"color: #000080\">INFO    </span> TRAIN AUC: <span style=\"color: #000080; font-weight: bold\">0.7795840837206536</span> TRAIN ACC:                   <a href=\"file://../trainer.py\"><span style=\"color: #7f7f7f\">trainer.py</span></a><span style=\"color: #7f7f7f\">:426</span>\n",
       "                    <span style=\"color: #000080; font-weight: bold\">0.7102298332582244</span>                                                       \n",
       "</pre>\n"
      ],
      "text/plain": [
       "<rich.jupyter.JupyterRenderable at 0x7f13c4e1ea90>"
      ]
     },
     "metadata": {},
     "output_type": "display_data"
    },
    {
     "data": {
      "text/html": [
       "<pre style=\"white-space:pre;overflow-x:auto;line-height:normal;font-family:Menlo,'DejaVu Sans Mono',consolas,'Courier New',monospace\"><span style=\"color: #7fbfbf\">           </span><span style=\"color: #000080\">INFO    </span> VALID AUC: <span style=\"color: #000080; font-weight: bold\">0.7902905854056868</span> VALID ACC:                   <a href=\"file://../trainer.py\"><span style=\"color: #7f7f7f\">trainer.py</span></a><span style=\"color: #7f7f7f\">:427</span>\n",
       "                    <span style=\"color: #000080; font-weight: bold\">0.7166582788122798</span>                                                       \n",
       "                                                                                             \n",
       "</pre>\n"
      ],
      "text/plain": [
       "<rich.jupyter.JupyterRenderable at 0x7f1401104a60>"
      ]
     },
     "metadata": {},
     "output_type": "display_data"
    },
    {
     "data": {
      "text/html": [
       "<pre style=\"white-space:pre;overflow-x:auto;line-height:normal;font-family:Menlo,'DejaVu Sans Mono',consolas,'Courier New',monospace\"><span style=\"color: #7fbfbf\">           </span><span style=\"color: #000080\">INFO    </span> EarlyStopping counter: <span style=\"color: #000080; font-weight: bold\">3</span>                                   <a href=\"file://../trainer.py\"><span style=\"color: #7f7f7f\">trainer.py</span></a><span style=\"color: #7f7f7f\">:435</span>\n",
       "</pre>\n"
      ],
      "text/plain": [
       "<rich.jupyter.JupyterRenderable at 0x7f1428122dc0>"
      ]
     },
     "metadata": {},
     "output_type": "display_data"
    },
    {
     "data": {
      "text/html": [
       "<pre style=\"white-space:pre;overflow-x:auto;line-height:normal;font-family:Menlo,'DejaVu Sans Mono',consolas,'Courier New',monospace\"><span style=\"color: #7fbfbf\">           </span><span style=\"color: #000080\">INFO    </span> Start Training: Epoch <span style=\"color: #000080; font-weight: bold\">16</span>                                   <a href=\"file://../trainer.py\"><span style=\"color: #7f7f7f\">trainer.py</span></a><span style=\"color: #7f7f7f\">:409</span>\n",
       "</pre>\n"
      ],
      "text/plain": [
       "<rich.jupyter.JupyterRenderable at 0x7f1428a556a0>"
      ]
     },
     "metadata": {},
     "output_type": "display_data"
    },
    {
     "name": "stdout",
     "output_type": "stream",
     "text": [
      "Training steps: 0 Loss: 0.5220494866371155\n",
      "Training steps: 50 Loss: 0.6842190027236938\n",
      "Training steps: 100 Loss: 0.5202454328536987\n",
      "Training steps: 150 Loss: 0.6269791126251221\n",
      "Training steps: 200 Loss: 0.5264116525650024\n",
      "Training steps: 250 Loss: 0.6108989119529724\n",
      "VALID AUC : 0.7905924975836894 ACC : 0.7146451937594364\n",
      "\n"
     ]
    },
    {
     "data": {
      "text/html": [
       "<pre style=\"white-space:pre;overflow-x:auto;line-height:normal;font-family:Menlo,'DejaVu Sans Mono',consolas,'Courier New',monospace\"><span style=\"color: #7fbfbf\">[22:26:10] </span><span style=\"color: #000080\">INFO    </span> TRAIN_LOSS: <span style=\"color: #000080; font-weight: bold\">0.5667977929115295</span>                             <a href=\"file://../trainer.py\"><span style=\"color: #7f7f7f\">trainer.py</span></a><span style=\"color: #7f7f7f\">:425</span>\n",
       "</pre>\n"
      ],
      "text/plain": [
       "<rich.jupyter.JupyterRenderable at 0x7f13c4e1ea90>"
      ]
     },
     "metadata": {},
     "output_type": "display_data"
    },
    {
     "data": {
      "text/html": [
       "<pre style=\"white-space:pre;overflow-x:auto;line-height:normal;font-family:Menlo,'DejaVu Sans Mono',consolas,'Courier New',monospace\"><span style=\"color: #7fbfbf\">           </span><span style=\"color: #000080\">INFO    </span> TRAIN AUC: <span style=\"color: #000080; font-weight: bold\">0.7794917089849286</span> TRAIN ACC: <span style=\"color: #000080; font-weight: bold\">0.710004506534475</span> <a href=\"file://../trainer.py\"><span style=\"color: #7f7f7f\">trainer.py</span></a><span style=\"color: #7f7f7f\">:426</span>\n",
       "</pre>\n"
      ],
      "text/plain": [
       "<rich.jupyter.JupyterRenderable at 0x7f13c4e18a00>"
      ]
     },
     "metadata": {},
     "output_type": "display_data"
    },
    {
     "data": {
      "text/html": [
       "<pre style=\"white-space:pre;overflow-x:auto;line-height:normal;font-family:Menlo,'DejaVu Sans Mono',consolas,'Courier New',monospace\"><span style=\"color: #7fbfbf\">           </span><span style=\"color: #000080\">INFO    </span> VALID AUC: <span style=\"color: #000080; font-weight: bold\">0.7905924975836894</span> VALID ACC:                   <a href=\"file://../trainer.py\"><span style=\"color: #7f7f7f\">trainer.py</span></a><span style=\"color: #7f7f7f\">:427</span>\n",
       "                    <span style=\"color: #000080; font-weight: bold\">0.7146451937594364</span>                                                       \n",
       "                                                                                             \n",
       "</pre>\n"
      ],
      "text/plain": [
       "<rich.jupyter.JupyterRenderable at 0x7f14010f3370>"
      ]
     },
     "metadata": {},
     "output_type": "display_data"
    },
    {
     "data": {
      "text/html": [
       "<pre style=\"white-space:pre;overflow-x:auto;line-height:normal;font-family:Menlo,'DejaVu Sans Mono',consolas,'Courier New',monospace\"><span style=\"color: #7fbfbf\">           </span><span style=\"color: #000080\">INFO    </span> EarlyStopping counter: <span style=\"color: #000080; font-weight: bold\">4</span>                                   <a href=\"file://../trainer.py\"><span style=\"color: #7f7f7f\">trainer.py</span></a><span style=\"color: #7f7f7f\">:435</span>\n",
       "</pre>\n"
      ],
      "text/plain": [
       "<rich.jupyter.JupyterRenderable at 0x7f1438e6b220>"
      ]
     },
     "metadata": {},
     "output_type": "display_data"
    },
    {
     "data": {
      "text/html": [
       "<pre style=\"white-space:pre;overflow-x:auto;line-height:normal;font-family:Menlo,'DejaVu Sans Mono',consolas,'Courier New',monospace\"><span style=\"color: #7fbfbf\">           </span><span style=\"color: #000080\">INFO    </span> Start Training: Epoch <span style=\"color: #000080; font-weight: bold\">17</span>                                   <a href=\"file://../trainer.py\"><span style=\"color: #7f7f7f\">trainer.py</span></a><span style=\"color: #7f7f7f\">:409</span>\n",
       "</pre>\n"
      ],
      "text/plain": [
       "<rich.jupyter.JupyterRenderable at 0x7f140065e820>"
      ]
     },
     "metadata": {},
     "output_type": "display_data"
    },
    {
     "name": "stdout",
     "output_type": "stream",
     "text": [
      "Training steps: 0 Loss: 0.5571156740188599\n",
      "Training steps: 50 Loss: 0.6294474601745605\n",
      "Training steps: 100 Loss: 0.5501905679702759\n",
      "Training steps: 150 Loss: 0.5600674748420715\n",
      "Training steps: 200 Loss: 0.600213885307312\n",
      "Training steps: 250 Loss: 0.5868146419525146\n",
      "VALID AUC : 0.7902601915622639 ACC : 0.7141419224962254\n",
      "\n"
     ]
    },
    {
     "data": {
      "text/html": [
       "<pre style=\"white-space:pre;overflow-x:auto;line-height:normal;font-family:Menlo,'DejaVu Sans Mono',consolas,'Courier New',monospace\"><span style=\"color: #7fbfbf\">[22:26:13] </span><span style=\"color: #000080\">INFO    </span> TRAIN_LOSS: <span style=\"color: #000080; font-weight: bold\">0.5659043788909912</span>                             <a href=\"file://../trainer.py\"><span style=\"color: #7f7f7f\">trainer.py</span></a><span style=\"color: #7f7f7f\">:425</span>\n",
       "</pre>\n"
      ],
      "text/plain": [
       "<rich.jupyter.JupyterRenderable at 0x7f1401104a60>"
      ]
     },
     "metadata": {},
     "output_type": "display_data"
    },
    {
     "data": {
      "text/html": [
       "<pre style=\"white-space:pre;overflow-x:auto;line-height:normal;font-family:Menlo,'DejaVu Sans Mono',consolas,'Courier New',monospace\"><span style=\"color: #7fbfbf\">           </span><span style=\"color: #000080\">INFO    </span> TRAIN AUC: <span style=\"color: #000080; font-weight: bold\">0.7796846171982443</span> TRAIN ACC:                   <a href=\"file://../trainer.py\"><span style=\"color: #7f7f7f\">trainer.py</span></a><span style=\"color: #7f7f7f\">:426</span>\n",
       "                    <span style=\"color: #000080; font-weight: bold\">0.7102298332582244</span>                                                       \n",
       "</pre>\n"
      ],
      "text/plain": [
       "<rich.jupyter.JupyterRenderable at 0x7f1401104a60>"
      ]
     },
     "metadata": {},
     "output_type": "display_data"
    },
    {
     "data": {
      "text/html": [
       "<pre style=\"white-space:pre;overflow-x:auto;line-height:normal;font-family:Menlo,'DejaVu Sans Mono',consolas,'Courier New',monospace\"><span style=\"color: #7fbfbf\">           </span><span style=\"color: #000080\">INFO    </span> VALID AUC: <span style=\"color: #000080; font-weight: bold\">0.7902601915622639</span> VALID ACC:                   <a href=\"file://../trainer.py\"><span style=\"color: #7f7f7f\">trainer.py</span></a><span style=\"color: #7f7f7f\">:427</span>\n",
       "                    <span style=\"color: #000080; font-weight: bold\">0.7141419224962254</span>                                                       \n",
       "                                                                                             \n",
       "</pre>\n"
      ],
      "text/plain": [
       "<rich.jupyter.JupyterRenderable at 0x7f1401104a60>"
      ]
     },
     "metadata": {},
     "output_type": "display_data"
    },
    {
     "data": {
      "text/html": [
       "<pre style=\"white-space:pre;overflow-x:auto;line-height:normal;font-family:Menlo,'DejaVu Sans Mono',consolas,'Courier New',monospace\"><span style=\"color: #7fbfbf\">           </span><span style=\"color: #000080\">INFO    </span> EarlyStopping counter: <span style=\"color: #000080; font-weight: bold\">5</span>                                   <a href=\"file://../trainer.py\"><span style=\"color: #7f7f7f\">trainer.py</span></a><span style=\"color: #7f7f7f\">:435</span>\n",
       "</pre>\n"
      ],
      "text/plain": [
       "<rich.jupyter.JupyterRenderable at 0x7f1401104a60>"
      ]
     },
     "metadata": {},
     "output_type": "display_data"
    },
    {
     "data": {
      "text/html": [
       "<pre style=\"white-space:pre;overflow-x:auto;line-height:normal;font-family:Menlo,'DejaVu Sans Mono',consolas,'Courier New',monospace\"><span style=\"color: #7fbfbf\">           </span><span style=\"color: #000080\">INFO    </span> EarlyStopping counter: <span style=\"color: #000080; font-weight: bold\">5</span> out of <span style=\"color: #000080; font-weight: bold\">5</span>                          <a href=\"file://../trainer.py\"><span style=\"color: #7f7f7f\">trainer.py</span></a><span style=\"color: #7f7f7f\">:437</span>\n",
       "</pre>\n"
      ],
      "text/plain": [
       "<rich.jupyter.JupyterRenderable at 0x7f140ffb9880>"
      ]
     },
     "metadata": {},
     "output_type": "display_data"
    }
   ],
   "source": [
    "auc, acc = trainer.run(train_data, valid_data, test_data)"
   ]
  },
  {
   "cell_type": "code",
   "execution_count": 156,
   "metadata": {},
   "outputs": [
    {
     "data": {
      "text/plain": [
       "(0.7770310448109141, 0.7075987841945289)"
      ]
     },
     "execution_count": 156,
     "metadata": {},
     "output_type": "execute_result"
    }
   ],
   "source": [
    "auc, acc"
   ]
  },
  {
   "cell_type": "code",
   "execution_count": 84,
   "metadata": {},
   "outputs": [
    {
     "data": {
      "text/html": [
       "<div>\n",
       "<style scoped>\n",
       "    .dataframe tbody tr th:only-of-type {\n",
       "        vertical-align: middle;\n",
       "    }\n",
       "\n",
       "    .dataframe tbody tr th {\n",
       "        vertical-align: top;\n",
       "    }\n",
       "\n",
       "    .dataframe thead th {\n",
       "        text-align: right;\n",
       "    }\n",
       "</style>\n",
       "<table border=\"1\" class=\"dataframe\">\n",
       "  <thead>\n",
       "    <tr style=\"text-align: right;\">\n",
       "      <th></th>\n",
       "      <th>userID</th>\n",
       "      <th>answerCode</th>\n",
       "      <th>testPaper</th>\n",
       "      <th>timeSec</th>\n",
       "      <th>firstClass</th>\n",
       "      <th>secondClass</th>\n",
       "      <th>correctPer</th>\n",
       "      <th>firstClassDifficulty</th>\n",
       "    </tr>\n",
       "  </thead>\n",
       "  <tbody>\n",
       "    <tr>\n",
       "      <th>0</th>\n",
       "      <td>3</td>\n",
       "      <td>1</td>\n",
       "      <td>804</td>\n",
       "      <td>-2.357753</td>\n",
       "      <td>4</td>\n",
       "      <td>267</td>\n",
       "      <td>0.69112</td>\n",
       "      <td>-0.005758</td>\n",
       "    </tr>\n",
       "    <tr>\n",
       "      <th>1</th>\n",
       "      <td>3</td>\n",
       "      <td>1</td>\n",
       "      <td>804</td>\n",
       "      <td>-2.357749</td>\n",
       "      <td>4</td>\n",
       "      <td>267</td>\n",
       "      <td>0.69112</td>\n",
       "      <td>-0.005758</td>\n",
       "    </tr>\n",
       "    <tr>\n",
       "      <th>2</th>\n",
       "      <td>3</td>\n",
       "      <td>0</td>\n",
       "      <td>804</td>\n",
       "      <td>-2.357736</td>\n",
       "      <td>4</td>\n",
       "      <td>266</td>\n",
       "      <td>0.69112</td>\n",
       "      <td>-0.005758</td>\n",
       "    </tr>\n",
       "    <tr>\n",
       "      <th>3</th>\n",
       "      <td>3</td>\n",
       "      <td>0</td>\n",
       "      <td>804</td>\n",
       "      <td>-2.357735</td>\n",
       "      <td>4</td>\n",
       "      <td>266</td>\n",
       "      <td>0.69112</td>\n",
       "      <td>-0.005758</td>\n",
       "    </tr>\n",
       "    <tr>\n",
       "      <th>4</th>\n",
       "      <td>3</td>\n",
       "      <td>0</td>\n",
       "      <td>804</td>\n",
       "      <td>-2.357734</td>\n",
       "      <td>4</td>\n",
       "      <td>265</td>\n",
       "      <td>0.69112</td>\n",
       "      <td>-0.005758</td>\n",
       "    </tr>\n",
       "    <tr>\n",
       "      <th>...</th>\n",
       "      <td>...</td>\n",
       "      <td>...</td>\n",
       "      <td>...</td>\n",
       "      <td>...</td>\n",
       "      <td>...</td>\n",
       "      <td>...</td>\n",
       "      <td>...</td>\n",
       "      <td>...</td>\n",
       "    </tr>\n",
       "    <tr>\n",
       "      <th>260109</th>\n",
       "      <td>7439</td>\n",
       "      <td>0</td>\n",
       "      <td>713</td>\n",
       "      <td>1.088795</td>\n",
       "      <td>3</td>\n",
       "      <td>783</td>\n",
       "      <td>0.62500</td>\n",
       "      <td>-0.135739</td>\n",
       "    </tr>\n",
       "    <tr>\n",
       "      <th>260110</th>\n",
       "      <td>7439</td>\n",
       "      <td>1</td>\n",
       "      <td>713</td>\n",
       "      <td>1.088798</td>\n",
       "      <td>3</td>\n",
       "      <td>783</td>\n",
       "      <td>0.62500</td>\n",
       "      <td>-0.135739</td>\n",
       "    </tr>\n",
       "    <tr>\n",
       "      <th>260111</th>\n",
       "      <td>7439</td>\n",
       "      <td>1</td>\n",
       "      <td>713</td>\n",
       "      <td>1.088801</td>\n",
       "      <td>3</td>\n",
       "      <td>761</td>\n",
       "      <td>0.62500</td>\n",
       "      <td>-0.135739</td>\n",
       "    </tr>\n",
       "    <tr>\n",
       "      <th>260112</th>\n",
       "      <td>7439</td>\n",
       "      <td>1</td>\n",
       "      <td>713</td>\n",
       "      <td>1.088813</td>\n",
       "      <td>3</td>\n",
       "      <td>761</td>\n",
       "      <td>0.62500</td>\n",
       "      <td>-0.135739</td>\n",
       "    </tr>\n",
       "    <tr>\n",
       "      <th>260113</th>\n",
       "      <td>7439</td>\n",
       "      <td>-1</td>\n",
       "      <td>713</td>\n",
       "      <td>1.088818</td>\n",
       "      <td>3</td>\n",
       "      <td>783</td>\n",
       "      <td>0.62500</td>\n",
       "      <td>-0.135739</td>\n",
       "    </tr>\n",
       "  </tbody>\n",
       "</table>\n",
       "<p>260114 rows × 8 columns</p>\n",
       "</div>"
      ],
      "text/plain": [
       "        userID  answerCode  testPaper   timeSec  firstClass  secondClass  \\\n",
       "0            3           1        804 -2.357753           4          267   \n",
       "1            3           1        804 -2.357749           4          267   \n",
       "2            3           0        804 -2.357736           4          266   \n",
       "3            3           0        804 -2.357735           4          266   \n",
       "4            3           0        804 -2.357734           4          265   \n",
       "...        ...         ...        ...       ...         ...          ...   \n",
       "260109    7439           0        713  1.088795           3          783   \n",
       "260110    7439           1        713  1.088798           3          783   \n",
       "260111    7439           1        713  1.088801           3          761   \n",
       "260112    7439           1        713  1.088813           3          761   \n",
       "260113    7439          -1        713  1.088818           3          783   \n",
       "\n",
       "        correctPer  firstClassDifficulty  \n",
       "0          0.69112             -0.005758  \n",
       "1          0.69112             -0.005758  \n",
       "2          0.69112             -0.005758  \n",
       "3          0.69112             -0.005758  \n",
       "4          0.69112             -0.005758  \n",
       "...            ...                   ...  \n",
       "260109     0.62500             -0.135739  \n",
       "260110     0.62500             -0.135739  \n",
       "260111     0.62500             -0.135739  \n",
       "260112     0.62500             -0.135739  \n",
       "260113     0.62500             -0.135739  \n",
       "\n",
       "[260114 rows x 8 columns]"
      ]
     },
     "execution_count": 84,
     "metadata": {},
     "output_type": "execute_result"
    }
   ],
   "source": [
    "preprocess.get_data(\"test\")"
   ]
  },
  {
   "cell_type": "code",
   "execution_count": 88,
   "metadata": {},
   "outputs": [
    {
     "data": {
      "text/plain": [
       "(744, 744)"
      ]
     },
     "execution_count": 88,
     "metadata": {},
     "output_type": "execute_result"
    }
   ],
   "source": [
    "preprocess.get_data(\"valid\").userID.nunique(), preprocess.get_data(\"test\").userID.nunique()"
   ]
  },
  {
   "cell_type": "code",
   "execution_count": 95,
   "metadata": {},
   "outputs": [],
   "source": [
    "valid_grouepd = preprocess.get_data(\"valid_grouped\")"
   ]
  },
  {
   "cell_type": "code",
   "execution_count": 97,
   "metadata": {},
   "outputs": [],
   "source": [
    "import numpy as np"
   ]
  },
  {
   "cell_type": "code",
   "execution_count": 112,
   "metadata": {},
   "outputs": [
    {
     "data": {
      "text/plain": [
       "8"
      ]
     },
     "execution_count": 112,
     "metadata": {},
     "output_type": "execute_result"
    }
   ],
   "source": [
    "len(valid_data[0]) // 20"
   ]
  },
  {
   "cell_type": "code",
   "execution_count": 118,
   "metadata": {},
   "outputs": [
    {
     "data": {
      "text/plain": [
       "174"
      ]
     },
     "execution_count": 118,
     "metadata": {},
     "output_type": "execute_result"
    }
   ],
   "source": [
    "len(valid_data[0])"
   ]
  },
  {
   "cell_type": "code",
   "execution_count": 117,
   "metadata": {},
   "outputs": [
    {
     "data": {
      "text/plain": [
       "[array([1, 1, 1, 1, 1, 1, 1, 1, 1, 1, 1, 1, 1, 1, 1, 1, 1, 1, 1, 1, 1, 1,\n",
       "        1, 1, 1, 1, 1, 1, 1]),\n",
       " array([1, 1, 0, 1, 1, 1, 1, 1, 1, 1, 1, 1, 1, 1, 1, 1, 1, 1, 1, 1, 0, 1,\n",
       "        1, 1, 1, 0, 1, 1, 1]),\n",
       " array([1, 1, 1, 1, 1, 1, 1, 1, 1, 1, 1, 1, 1, 0, 1, 0, 1, 1, 1, 1, 1, 1,\n",
       "        1, 1, 0, 1, 0, 1, 1]),\n",
       " array([1, 1, 0, 0, 0, 0, 1, 1, 1, 1, 1, 1, 1, 1, 1, 1, 1, 1, 1, 1, 1, 1,\n",
       "        1, 1, 1, 1, 1, 1, 1]),\n",
       " array([1, 1, 0, 1, 1, 1, 1, 1, 1, 1, 1, 1, 1, 1, 1, 1, 1, 1, 1, 1, 1, 1,\n",
       "        1, 1, 1, 1, 1, 1, 1]),\n",
       " array([1, 1, 1, 1, 0, 1, 0, 0, 0, 1, 1, 1, 0, 1, 0, 1, 1, 1, 1, 1, 1, 1,\n",
       "        1, 1, 0, 0, 1, 1, 0])]"
      ]
     },
     "execution_count": 117,
     "metadata": {},
     "output_type": "execute_result"
    }
   ],
   "source": [
    "np.split(valid_data[0], 6)"
   ]
  },
  {
   "cell_type": "code",
   "execution_count": 121,
   "metadata": {},
   "outputs": [
    {
     "ename": "ValueError",
     "evalue": "array split does not result in an equal division",
     "output_type": "error",
     "traceback": [
      "\u001b[0;31m---------------------------------------------------------------------------\u001b[0m",
      "\u001b[0;31mTypeError\u001b[0m                                 Traceback (most recent call last)",
      "\u001b[0;32m~/.local/lib/python3.8/site-packages/numpy/lib/shape_base.py\u001b[0m in \u001b[0;36msplit\u001b[0;34m(ary, indices_or_sections, axis)\u001b[0m\n\u001b[1;32m    866\u001b[0m     \u001b[0;32mtry\u001b[0m\u001b[0;34m:\u001b[0m\u001b[0;34m\u001b[0m\u001b[0;34m\u001b[0m\u001b[0m\n\u001b[0;32m--> 867\u001b[0;31m         \u001b[0mlen\u001b[0m\u001b[0;34m(\u001b[0m\u001b[0mindices_or_sections\u001b[0m\u001b[0;34m)\u001b[0m\u001b[0;34m\u001b[0m\u001b[0;34m\u001b[0m\u001b[0m\n\u001b[0m\u001b[1;32m    868\u001b[0m     \u001b[0;32mexcept\u001b[0m \u001b[0mTypeError\u001b[0m\u001b[0;34m:\u001b[0m\u001b[0;34m\u001b[0m\u001b[0;34m\u001b[0m\u001b[0m\n",
      "\u001b[0;31mTypeError\u001b[0m: object of type 'int' has no len()",
      "\nDuring handling of the above exception, another exception occurred:\n",
      "\u001b[0;31mValueError\u001b[0m                                Traceback (most recent call last)",
      "\u001b[0;32m<ipython-input-121-518f1f75b31b>\u001b[0m in \u001b[0;36m<module>\u001b[0;34m\u001b[0m\n\u001b[0;32m----> 1\u001b[0;31m \u001b[0mnp\u001b[0m\u001b[0;34m.\u001b[0m\u001b[0msplit\u001b[0m\u001b[0;34m(\u001b[0m\u001b[0mvalid_data\u001b[0m\u001b[0;34m[\u001b[0m\u001b[0;36m0\u001b[0m\u001b[0;34m]\u001b[0m\u001b[0;34m,\u001b[0m \u001b[0mindices_or_sections\u001b[0m\u001b[0;34m=\u001b[0m\u001b[0;36m4\u001b[0m\u001b[0;34m)\u001b[0m\u001b[0;34m\u001b[0m\u001b[0;34m\u001b[0m\u001b[0m\n\u001b[0m",
      "\u001b[0;32m<__array_function__ internals>\u001b[0m in \u001b[0;36msplit\u001b[0;34m(*args, **kwargs)\u001b[0m\n",
      "\u001b[0;32m~/.local/lib/python3.8/site-packages/numpy/lib/shape_base.py\u001b[0m in \u001b[0;36msplit\u001b[0;34m(ary, indices_or_sections, axis)\u001b[0m\n\u001b[1;32m    870\u001b[0m         \u001b[0mN\u001b[0m \u001b[0;34m=\u001b[0m \u001b[0mary\u001b[0m\u001b[0;34m.\u001b[0m\u001b[0mshape\u001b[0m\u001b[0;34m[\u001b[0m\u001b[0maxis\u001b[0m\u001b[0;34m]\u001b[0m\u001b[0;34m\u001b[0m\u001b[0;34m\u001b[0m\u001b[0m\n\u001b[1;32m    871\u001b[0m         \u001b[0;32mif\u001b[0m \u001b[0mN\u001b[0m \u001b[0;34m%\u001b[0m \u001b[0msections\u001b[0m\u001b[0;34m:\u001b[0m\u001b[0;34m\u001b[0m\u001b[0;34m\u001b[0m\u001b[0m\n\u001b[0;32m--> 872\u001b[0;31m             raise ValueError(\n\u001b[0m\u001b[1;32m    873\u001b[0m                 'array split does not result in an equal division')\n\u001b[1;32m    874\u001b[0m     \u001b[0;32mreturn\u001b[0m \u001b[0marray_split\u001b[0m\u001b[0;34m(\u001b[0m\u001b[0mary\u001b[0m\u001b[0;34m,\u001b[0m \u001b[0mindices_or_sections\u001b[0m\u001b[0;34m,\u001b[0m \u001b[0maxis\u001b[0m\u001b[0;34m)\u001b[0m\u001b[0;34m\u001b[0m\u001b[0;34m\u001b[0m\u001b[0m\n",
      "\u001b[0;31mValueError\u001b[0m: array split does not result in an equal division"
     ]
    }
   ],
   "source": [
    "np.split(valid_data[0])"
   ]
  },
  {
   "cell_type": "code",
   "execution_count": 103,
   "metadata": {},
   "outputs": [
    {
     "data": {
      "text/plain": [
       "7"
      ]
     },
     "execution_count": 103,
     "metadata": {},
     "output_type": "execute_result"
    }
   ],
   "source": [
    "len(valid_data)"
   ]
  },
  {
   "cell_type": "code",
   "execution_count": 123,
   "metadata": {},
   "outputs": [],
   "source": [
    "max_seq_len = 20"
   ]
  },
  {
   "cell_type": "code",
   "execution_count": 149,
   "metadata": {},
   "outputs": [
    {
     "name": "stdout",
     "output_type": "stream",
     "text": [
      "7 42 5 4 20 29 10 23 14 25 19 15 23 15 9 15 26 31 2 4 30 37 6 17 16 15 16 18 27 10 23 15 8 16 28 18 11 7 4 11 28 25 38 17 8 18 19 29 8 8 3 9 14 19 32 4 26 17 18 8 4 19 32 5 4 7 5 15 19 19 3 10 16 7 12 9 11 5 30 23 18 16 4 14 4 3 15 42 13 5 30 8 6 26 10 22 14 2 2 17 12 25 5 2 3 24 16 11 4 6 6 6 21 2 9 12 2 8 28 8 30 10 7 24 9 5 26 23 15 10 5 3 5 7 7 23 12 3 22 13 10 9 17 9 11 13 18 5 5 22 27 24 25 6 2 14 11 15 17 11 16 26 20 16 27 17 13 8 14 6 4 9 33 19 5 17 10 12 17 15 4 19 29 6 25 13 12 10 9 14 25 9 9 28 4 5 4 24 4 12 22 29 29 12 14 7 6 20 13 27 15 21 14 19 24 10 17 4 21 22 8 12 12 11 5 5 16 13 8 3 7 37 7 30 3 2 8 11 9 22 17 16 10 9 10 24 19 18 23 9 33 16 27 14 11 2 18 12 10 2 8 23 7 17 7 9 11 15 2 2 26 17 11 26 9 16 5 22 7 7 11 2 21 10 6 21 14 13 9 14 9 6 9 8 5 16 20 5 6 7 10 3 14 43 21 15 28 10 4 7 8 9 8 10 3 10 24 24 22 17 9 19 4 12 3 19 10 21 6 17 30 17 23 11 3 30 16 18 9 2 23 10 30 8 11 14 17 10 18 11 16 17 42 5 6 22 6 8 10 20 7 14 7 10 11 6 14 6 20 5 16 15 15 6 21 9 20 8 3 11 4 4 8 13 8 6 19 4 26 15 11 9 12 10 3 16 4 9 2 2 15 15 26 15 2 6 4 10 10 20 7 11 18 5 5 16 2 19 9 10 13 12 18 27 4 15 31 11 17 17 13 22 9 4 11 24 6 4 22 13 4 8 12 23 10 11 35 8 7 12 21 2 11 2 13 31 9 2 2 5 19 3 23 4 11 16 9 15 22 16 15 11 5 9 20 2 10 2 7 16 21 12 9 11 13 5 29 3 9 27 12 2 2 5 7 4 18 18 3 25 8 13 2 11 11 9 8 2 5 3 8 13 7 9 4 18 14 2 2 22 13 22 15 8 3 4 13 10 12 6 7 9 6 7 15 8 20 10 3 24 11 17 12 9 23 4 7 5 13 3 20 3 23 5 14 17 14 3 12 3 14 5 2 9 3 8 10 13 11 10 23 8 5 3 4 6 21 4 10 11 5 4 31 7 10 15 16 5 9 10 2 17 6 6 12 12 11 23 9 6 7 17 4 4 3 6 9 2 15 4 13 6 11 7 16 4 7 24 14 2 14 9 3 20 8 8 11 17 8 12 19 9 23 10 10 16 8 2 4 7 9 3 13 27 15 13 13 8 2 17 3 16 12 7 20 4 17 9 18 4 6 5 6 10 5 4 19 5 8 6 5 10 4 6 11 6 6 10 3 3 4 5 12 2 4 9 6 6 5 19 4 9 3 4 16 3 7 3 4 2 7 6 10 9 5 25 2 4 2 6 7 2 7 8 25 18 7 5 6 10 12 8 14 2 26 15 13 7 5 8 2 9 3 2 15 6 6 9 6 17 2 9 3 2 3 10 2 2 9 3 7 6 12 17 8 2 8 14 28 6 2 12 4 11 2 2 4 6 2 8 6 7 3 3 3 8 8 7 6 5 2 9 11 28 2 5 9 2 14 3 2 9 10 7 13 13 3 7 4 5 9 5 2 3 3 7 8 6 5 13 4 9 9 2 3 6 3 8 7 7 3 7 11 25 2 5 2 6 10 4 5 7 6 4 2 3 5 4 3 7 19 7 4 2 8 6 19 9 7 13 3 5 10 2 4 3 2 6 2 10 2 3 19 19 5 2 3 2 2 3 9 6 2 2 5 7 2 3 13 7 2 7 6 2 5 5 7 8 4 2 10 4 3 13 6 4 2 4 2 2 3 10 9 6 3 2 3 6 3 8 7 10 15 4 4 5 2 6 7 3 9 2 3 5 2 11 2 4 2 6 4 4 3 4 7 3 2 2 2 2 2 4 3 6 6 2 2 5 4 4 3 6 4 2 3 2 2 3 3 3 2 2 5 5 6 3 2 7 2 4 2 2 3 2 2 2 5 3 7 8 2 2 5 3 3 2 3 3 4 2 4 3 2 2 3 3 2 2 2 3 2 3 2 3 2 2 4 2 3 2 2 2 2 2 2 "
     ]
    }
   ],
   "source": [
    "new_valid_grouped = []\n",
    "\n",
    "for valid_data in valid_grouepd:\n",
    "    \n",
    "    split_idx = (len(valid_data[0]) // max_seq_len) - 1\n",
    "    \n",
    "    if split_idx < 2:\n",
    "        new_valid_grouped.append(valid_data)\n",
    "        continue\n",
    "    \n",
    "    print(split_idx, end=' ')\n",
    "    split_end = int(max_seq_len * split_idx)\n",
    "    \n",
    "    for valid_d in valid_data:\n",
    "        split_d = np.split(valid_d[:split_end], split_idx)"
   ]
  },
  {
   "cell_type": "code",
   "execution_count": null,
   "metadata": {},
   "outputs": [],
   "source": []
  },
  {
   "cell_type": "code",
   "execution_count": 153,
   "metadata": {},
   "outputs": [
    {
     "data": {
      "text/plain": [
       "(array([1, 1, 1, 1, 0, 1, 1, 1, 0, 0, 1, 0, 1, 1, 1]),\n",
       " array([586, 586, 586, 586, 586, 780, 780, 780, 780, 780, 780, 713, 713,\n",
       "        713, 713]),\n",
       " array([-2.29728262, -2.29728162, -2.29727634, -2.29727448, -2.29726949,\n",
       "         0.41494951,  0.41495108,  0.41495879,  0.41498305,  0.41498862,\n",
       "         0.41498933,  1.08879517,  1.08879774,  1.08880074,  1.08881344]),\n",
       " array([3, 3, 3, 3, 3, 3, 3, 3, 3, 3, 3, 3, 3, 3, 3]),\n",
       " array([627, 627, 627, 627, 627, 237, 237, 237, 237, 237, 237, 783, 783,\n",
       "        761, 761]),\n",
       " array([0.625, 0.625, 0.625, 0.625, 0.625, 0.625, 0.625, 0.625, 0.625,\n",
       "        0.625, 0.625, 0.625, 0.625, 0.625, 0.625]),\n",
       " array([-0.13573852, -0.13573852, -0.13573852, -0.13573852, -0.13573852,\n",
       "        -0.13573852, -0.13573852, -0.13573852, -0.13573852, -0.13573852,\n",
       "        -0.13573852, -0.13573852, -0.13573852, -0.13573852, -0.13573852]))"
      ]
     },
     "execution_count": 153,
     "metadata": {},
     "output_type": "execute_result"
    }
   ],
   "source": [
    "valid_data"
   ]
  },
  {
   "cell_type": "code",
   "execution_count": 151,
   "metadata": {},
   "outputs": [
    {
     "name": "stderr",
     "output_type": "stream",
     "text": [
      "<ipython-input-151-a1420e33b305>:1: VisibleDeprecationWarning: Creating an ndarray from ragged nested sequences (which is a list-or-tuple of lists-or-tuples-or ndarrays with different lengths or shapes) is deprecated. If you meant to do this, you must specify 'dtype=object' when creating the ndarray\n",
      "  np.array(new_valid_grouped)\n"
     ]
    },
    {
     "data": {
      "text/plain": [
       "array([[array([0, 0, 0, 0, 0, 0, 0, 0, 0, 0, 1, 1, 0, 1, 0, 1, 1, 1, 1, 0, 0, 0,\n",
       "       0, 0, 0, 0, 0, 0, 0, 1, 1, 0, 1, 0, 1, 1, 0, 1, 1, 0, 1, 1, 1, 1,\n",
       "       0, 0, 0, 1, 1, 0, 0, 0]),\n",
       "        array([363, 363, 363, 363, 363, 364, 364, 364, 364, 364, 372, 372, 372,\n",
       "       372, 372, 373, 373, 373, 373, 373, 373, 373, 382, 382, 382, 382,\n",
       "       382, 382, 382, 371, 371, 371, 371, 371, 371, 383, 383, 383, 383,\n",
       "       383, 383, 383, 383, 384, 384, 384, 384, 385, 385, 385, 385, 385]),\n",
       "        array([0.70953743, 0.70953971, 0.70954228, 0.70954727, 0.7095497 ,\n",
       "       0.73347028, 0.73347556, 0.73347813, 0.7334837 , 0.73348627,\n",
       "       0.7738529 , 0.77385732, 0.77386845, 0.77387159, 0.77387502,\n",
       "       0.79563357, 0.795642  , 0.79564642, 0.79565712, 0.7956664 ,\n",
       "       0.79566697, 0.79566768, 0.79619916, 0.79620987, 0.79621572,\n",
       "       0.79621615, 0.79621643, 0.796217  , 0.79621757, 0.79759822,\n",
       "       0.7976172 , 0.79763162, 0.79764903, 0.79765545, 0.79766359,\n",
       "       0.80706581, 0.80706981, 0.80707295, 0.8070748 , 0.80707866,\n",
       "       0.80708522, 0.80709764, 0.80710121, 0.80763768, 0.80764082,\n",
       "       0.80764767, 0.80764995, 0.99392875, 0.99393289, 0.99393574,\n",
       "       0.99394017, 0.99394973]),\n",
       "        ...,\n",
       "        array([755, 755, 755, 755, 755, 756, 756, 756, 756, 756, 759, 759, 759,\n",
       "       759, 759, 758, 758, 738, 738, 758, 738, 738, 739, 739, 739, 739,\n",
       "       740, 740, 740, 757, 757, 757, 757, 757, 757, 741, 741, 741, 742,\n",
       "       742, 741, 742, 742, 743, 743, 743, 743, 744, 744, 744, 744, 744]),\n",
       "        array([0.75452196, 0.75452196, 0.75452196, 0.75452196, 0.75452196,\n",
       "       0.75452196, 0.75452196, 0.75452196, 0.75452196, 0.75452196,\n",
       "       0.75452196, 0.75452196, 0.75452196, 0.75452196, 0.75452196,\n",
       "       0.75452196, 0.75452196, 0.75452196, 0.75452196, 0.75452196,\n",
       "       0.75452196, 0.75452196, 0.75452196, 0.75452196, 0.75452196,\n",
       "       0.75452196, 0.75452196, 0.75452196, 0.75452196, 0.75452196,\n",
       "       0.75452196, 0.75452196, 0.75452196, 0.75452196, 0.75452196,\n",
       "       0.75452196, 0.75452196, 0.75452196, 0.75452196, 0.75452196,\n",
       "       0.75452196, 0.75452196, 0.75452196, 0.75452196, 0.75452196,\n",
       "       0.75452196, 0.75452196, 0.75452196, 0.75452196, 0.75452196,\n",
       "       0.75452196, 0.75452196]),\n",
       "        array([-1.24639848, -1.24639848, -1.24639848, -1.24639848, -1.24639848,\n",
       "       -1.24639848, -1.24639848, -1.24639848, -1.24639848, -1.24639848,\n",
       "       -1.24639848, -1.24639848, -1.24639848, -1.24639848, -1.24639848,\n",
       "       -1.24639848, -1.24639848, -1.24639848, -1.24639848, -1.24639848,\n",
       "       -1.24639848, -1.24639848, -1.24639848, -1.24639848, -1.24639848,\n",
       "       -1.24639848, -1.24639848, -1.24639848, -1.24639848, -1.24639848,\n",
       "       -1.24639848, -1.24639848, -1.24639848, -1.24639848, -1.24639848,\n",
       "       -1.24639848, -1.24639848, -1.24639848, -1.24639848, -1.24639848,\n",
       "       -1.24639848, -1.24639848, -1.24639848, -1.24639848, -1.24639848,\n",
       "       -1.24639848, -1.24639848, -1.24639848, -1.24639848, -1.24639848,\n",
       "       -1.24639848, -1.24639848])],\n",
       "       [array([1, 0, 0, 0, 0, 0, 0, 0, 0, 0, 1, 0, 0, 0, 0, 1, 0, 0, 0, 1, 0, 0,\n",
       "       1, 0, 0, 0, 0, 0, 0, 1, 0, 0, 0, 0, 0, 0, 0, 0, 0, 0]),\n",
       "        array([1457, 1457, 1457, 1457, 1457, 1457, 1457, 1457, 1459, 1459, 1459,\n",
       "       1459, 1459, 1459, 1459, 1459, 1460, 1460, 1460, 1460, 1460, 1460,\n",
       "       1460, 1460, 1461, 1461, 1461, 1461, 1461, 1461, 1461, 1461, 1462,\n",
       "       1462, 1462, 1462, 1462, 1462, 1462, 1462]),\n",
       "        array([-0.65732669, -0.65732655, -0.6573264 , -0.65732612, -0.65732598,\n",
       "       -0.65732526, -0.65732498, -0.65732469, -0.60691761, -0.60691732,\n",
       "       -0.60691718, -0.60691689, -0.60691675, -0.60691661, -0.60691575,\n",
       "       -0.60691547, -0.48834225, -0.48834211, -0.48834197, -0.48834168,\n",
       "       -0.48834125, -0.48834097, -0.48834082, -0.48834054, -0.47581694,\n",
       "       -0.4758168 , -0.47581666, -0.47581637, -0.47581623, -0.47581608,\n",
       "       -0.47581594, -0.47581566, -0.40173232, -0.40173218, -0.40173203,\n",
       "       -0.40173189, -0.40172989, -0.40172947, -0.40172932, -0.40172818]),\n",
       "        ...,\n",
       "        array([768, 768, 769, 767, 767, 770, 770, 770, 771, 767, 771, 771, 771,\n",
       "       767, 767, 767, 773, 773, 772, 773, 774, 774, 776, 776, 773, 773,\n",
       "       773, 777, 775, 776, 777, 777, 778, 778, 778, 778, 778, 779, 777,\n",
       "       779]),\n",
       "        array([0.84543326, 0.84543326, 0.84543326, 0.84543326, 0.84543326,\n",
       "       0.84543326, 0.84543326, 0.84543326, 0.84543326, 0.84543326,\n",
       "       0.84543326, 0.84543326, 0.84543326, 0.84543326, 0.84543326,\n",
       "       0.84543326, 0.84543326, 0.84543326, 0.84543326, 0.84543326,\n",
       "       0.84543326, 0.84543326, 0.84543326, 0.84543326, 0.84543326,\n",
       "       0.84543326, 0.84543326, 0.84543326, 0.84543326, 0.84543326,\n",
       "       0.84543326, 0.84543326, 0.84543326, 0.84543326, 0.84543326,\n",
       "       0.84543326, 0.84543326, 0.84543326, 0.84543326, 0.84543326]),\n",
       "        array([-2.3304026, -2.3304026, -2.3304026, -2.3304026, -2.3304026,\n",
       "       -2.3304026, -2.3304026, -2.3304026, -2.3304026, -2.3304026,\n",
       "       -2.3304026, -2.3304026, -2.3304026, -2.3304026, -2.3304026,\n",
       "       -2.3304026, -2.3304026, -2.3304026, -2.3304026, -2.3304026,\n",
       "       -2.3304026, -2.3304026, -2.3304026, -2.3304026, -2.3304026,\n",
       "       -2.3304026, -2.3304026, -2.3304026, -2.3304026, -2.3304026,\n",
       "       -2.3304026, -2.3304026, -2.3304026, -2.3304026, -2.3304026,\n",
       "       -2.3304026, -2.3304026, -2.3304026, -2.3304026, -2.3304026])],\n",
       "       [array([1, 1, 1, 0, 1, 0, 0, 0, 0, 0, 1, 1, 1, 0, 1, 1, 1, 1, 1, 1, 1, 1,\n",
       "       1, 0, 1, 1, 1, 1, 0, 1, 1, 1, 1, 1, 1]),\n",
       "        array([ 30,  30,  30,  30,  30,  40,  40,  40,  40,  40,  48,  48,  48,\n",
       "        48,  48,  63,  63,  63,  63,  63,  65,  65,  65,  65,  65,  67,\n",
       "        67,  67,  67,  67, 166, 166, 166, 166, 166]),\n",
       "        array([-0.1444693 , -0.14446573, -0.14445731, -0.14444461, -0.14443633,\n",
       "       -0.03188565, -0.03186624, -0.03186524, -0.03186481, -0.03186381,\n",
       "        0.11497216,  0.11497901,  0.11498087,  0.11499271,  0.11499828,\n",
       "        0.15121468,  0.15122025,  0.15122467,  0.15122896,  0.1512408 ,\n",
       "        0.20092616,  0.20092902,  0.20093316,  0.20093444,  0.20094786,\n",
       "        0.22565653,  0.22565781,  0.22565995,  0.22566466,  0.22567009,\n",
       "        1.18742091,  1.18742219,  1.18742491,  1.18742776,  1.18743147]),\n",
       "        ...,\n",
       "        array([641, 641, 644, 644, 641, 642, 642, 642, 642, 642, 644, 641, 641,\n",
       "       641, 641, 564, 564, 564, 564, 564, 565, 565, 565, 565, 565, 566,\n",
       "       566, 566, 566, 566, 682, 682, 682, 682, 682]),\n",
       "        array([0.52092352, 0.52092352, 0.52092352, 0.52092352, 0.52092352,\n",
       "       0.52092352, 0.52092352, 0.52092352, 0.52092352, 0.52092352,\n",
       "       0.52092352, 0.52092352, 0.52092352, 0.52092352, 0.52092352,\n",
       "       0.52092352, 0.52092352, 0.52092352, 0.52092352, 0.52092352,\n",
       "       0.52092352, 0.52092352, 0.52092352, 0.52092352, 0.52092352,\n",
       "       0.52092352, 0.52092352, 0.52092352, 0.52092352, 0.52092352,\n",
       "       0.52092352, 0.52092352, 0.52092352, 0.52092352, 0.52092352]),\n",
       "        array([0.40880219, 0.40880219, 0.40880219, 0.40880219, 0.40880219,\n",
       "       0.40880219, 0.40880219, 0.40880219, 0.40880219, 0.40880219,\n",
       "       0.40880219, 0.40880219, 0.40880219, 0.40880219, 0.40880219,\n",
       "       0.40880219, 0.40880219, 0.40880219, 0.40880219, 0.40880219,\n",
       "       0.40880219, 0.40880219, 0.40880219, 0.40880219, 0.40880219,\n",
       "       0.40880219, 0.40880219, 0.40880219, 0.40880219, 0.40880219,\n",
       "       0.40880219, 0.40880219, 0.40880219, 0.40880219, 0.40880219])],\n",
       "       ...,\n",
       "       [array([0, 0, 0, 0, 0, 0, 0, 0, 0, 0, 0]),\n",
       "        array([ 92,  92,  92,  92,  92, 106, 106, 106, 106, 106, 106]),\n",
       "        array([0.13212366, 0.13214592, 0.13215962, 0.13225267, 0.1322688 ,\n",
       "       0.44875671, 0.44876455, 0.44877369, 0.44877997, 0.44878239,\n",
       "       0.44878282]),\n",
       "        ...,\n",
       "        array([569, 569, 569, 569, 569, 571, 571, 571, 571, 571, 571]),\n",
       "        array([0.06666667, 0.06666667, 0.06666667, 0.06666667, 0.06666667,\n",
       "       0.06666667, 0.06666667, 0.06666667, 0.06666667, 0.06666667,\n",
       "       0.06666667]),\n",
       "        array([-3.02345442, -3.02345442, -3.02345442, -3.02345442, -3.02345442,\n",
       "       -3.02345442, -3.02345442, -3.02345442, -3.02345442, -3.02345442,\n",
       "       -3.02345442])],\n",
       "       [array([1, 1, 0]), array([974, 974, 974]),\n",
       "        array([0.61509445, 0.61509602, 0.61510044]), ...,\n",
       "        array([26, 26, 26]), array([0.06666667, 0.06666667, 0.06666667]),\n",
       "        array([-1.86836806, -1.86836806, -1.86836806])],\n",
       "       [array([1, 1, 1, 1, 0, 1, 1, 1, 0, 0, 1, 0, 1, 1, 1]),\n",
       "        array([586, 586, 586, 586, 586, 780, 780, 780, 780, 780, 780, 713, 713,\n",
       "       713, 713]),\n",
       "        array([-2.29728262, -2.29728162, -2.29727634, -2.29727448, -2.29726949,\n",
       "        0.41494951,  0.41495108,  0.41495879,  0.41498305,  0.41498862,\n",
       "        0.41498933,  1.08879517,  1.08879774,  1.08880074,  1.08881344]),\n",
       "        ...,\n",
       "        array([627, 627, 627, 627, 627, 237, 237, 237, 237, 237, 237, 783, 783,\n",
       "       761, 761]),\n",
       "        array([0.625, 0.625, 0.625, 0.625, 0.625, 0.625, 0.625, 0.625, 0.625,\n",
       "       0.625, 0.625, 0.625, 0.625, 0.625, 0.625]),\n",
       "        array([-0.13573852, -0.13573852, -0.13573852, -0.13573852, -0.13573852,\n",
       "       -0.13573852, -0.13573852, -0.13573852, -0.13573852, -0.13573852,\n",
       "       -0.13573852, -0.13573852, -0.13573852, -0.13573852, -0.13573852])]],\n",
       "      dtype=object)"
      ]
     },
     "execution_count": 151,
     "metadata": {},
     "output_type": "execute_result"
    }
   ],
   "source": [
    "np.array(new_valid_grouped)"
   ]
  },
  {
   "cell_type": "code",
   "execution_count": 143,
   "metadata": {},
   "outputs": [
    {
     "data": {
      "text/plain": [
       "(array([1, 1, 1, 1, 0, 1, 1, 1, 0, 0, 1, 0, 1, 1, 1]),\n",
       " array([586, 586, 586, 586, 586, 780, 780, 780, 780, 780, 780, 713, 713,\n",
       "        713, 713]),\n",
       " array([-2.29728262, -2.29728162, -2.29727634, -2.29727448, -2.29726949,\n",
       "         0.41494951,  0.41495108,  0.41495879,  0.41498305,  0.41498862,\n",
       "         0.41498933,  1.08879517,  1.08879774,  1.08880074,  1.08881344]),\n",
       " array([3, 3, 3, 3, 3, 3, 3, 3, 3, 3, 3, 3, 3, 3, 3]),\n",
       " array([627, 627, 627, 627, 627, 237, 237, 237, 237, 237, 237, 783, 783,\n",
       "        761, 761]),\n",
       " array([0.625, 0.625, 0.625, 0.625, 0.625, 0.625, 0.625, 0.625, 0.625,\n",
       "        0.625, 0.625, 0.625, 0.625, 0.625, 0.625]),\n",
       " array([-0.13573852, -0.13573852, -0.13573852, -0.13573852, -0.13573852,\n",
       "        -0.13573852, -0.13573852, -0.13573852, -0.13573852, -0.13573852,\n",
       "        -0.13573852, -0.13573852, -0.13573852, -0.13573852, -0.13573852]))"
      ]
     },
     "execution_count": 143,
     "metadata": {},
     "output_type": "execute_result"
    }
   ],
   "source": [
    "valid_data"
   ]
  },
  {
   "cell_type": "code",
   "execution_count": 131,
   "metadata": {},
   "outputs": [
    {
     "data": {
      "text/plain": [
       "(array([0, 0, 0, 0, 0, 0, 0, 0, 0, 0, 1, 1, 0, 1, 0, 1, 1, 1, 1, 0, 0, 0,\n",
       "        0, 0, 0, 0, 0, 0, 0, 1, 1, 0, 1, 0, 1, 1, 0, 1, 1, 0, 1, 1, 1, 1,\n",
       "        0, 0, 0, 1, 1, 0, 0, 0]),\n",
       " array([363, 363, 363, 363, 363, 364, 364, 364, 364, 364, 372, 372, 372,\n",
       "        372, 372, 373, 373, 373, 373, 373, 373, 373, 382, 382, 382, 382,\n",
       "        382, 382, 382, 371, 371, 371, 371, 371, 371, 383, 383, 383, 383,\n",
       "        383, 383, 383, 383, 384, 384, 384, 384, 385, 385, 385, 385, 385]),\n",
       " array([0.70953743, 0.70953971, 0.70954228, 0.70954727, 0.7095497 ,\n",
       "        0.73347028, 0.73347556, 0.73347813, 0.7334837 , 0.73348627,\n",
       "        0.7738529 , 0.77385732, 0.77386845, 0.77387159, 0.77387502,\n",
       "        0.79563357, 0.795642  , 0.79564642, 0.79565712, 0.7956664 ,\n",
       "        0.79566697, 0.79566768, 0.79619916, 0.79620987, 0.79621572,\n",
       "        0.79621615, 0.79621643, 0.796217  , 0.79621757, 0.79759822,\n",
       "        0.7976172 , 0.79763162, 0.79764903, 0.79765545, 0.79766359,\n",
       "        0.80706581, 0.80706981, 0.80707295, 0.8070748 , 0.80707866,\n",
       "        0.80708522, 0.80709764, 0.80710121, 0.80763768, 0.80764082,\n",
       "        0.80764767, 0.80764995, 0.99392875, 0.99393289, 0.99393574,\n",
       "        0.99394017, 0.99394973]),\n",
       " array([1, 1, 1, 1, 1, 1, 1, 1, 1, 1, 1, 1, 1, 1, 1, 1, 1, 1, 1, 1, 1, 1,\n",
       "        1, 1, 1, 1, 1, 1, 1, 1, 1, 1, 1, 1, 1, 1, 1, 1, 1, 1, 1, 1, 1, 1,\n",
       "        1, 1, 1, 1, 1, 1, 1, 1]),\n",
       " array([755, 755, 755, 755, 755, 756, 756, 756, 756, 756, 759, 759, 759,\n",
       "        759, 759, 758, 758, 738, 738, 758, 738, 738, 739, 739, 739, 739,\n",
       "        740, 740, 740, 757, 757, 757, 757, 757, 757, 741, 741, 741, 742,\n",
       "        742, 741, 742, 742, 743, 743, 743, 743, 744, 744, 744, 744, 744]),\n",
       " array([0.75452196, 0.75452196, 0.75452196, 0.75452196, 0.75452196,\n",
       "        0.75452196, 0.75452196, 0.75452196, 0.75452196, 0.75452196,\n",
       "        0.75452196, 0.75452196, 0.75452196, 0.75452196, 0.75452196,\n",
       "        0.75452196, 0.75452196, 0.75452196, 0.75452196, 0.75452196,\n",
       "        0.75452196, 0.75452196, 0.75452196, 0.75452196, 0.75452196,\n",
       "        0.75452196, 0.75452196, 0.75452196, 0.75452196, 0.75452196,\n",
       "        0.75452196, 0.75452196, 0.75452196, 0.75452196, 0.75452196,\n",
       "        0.75452196, 0.75452196, 0.75452196, 0.75452196, 0.75452196,\n",
       "        0.75452196, 0.75452196, 0.75452196, 0.75452196, 0.75452196,\n",
       "        0.75452196, 0.75452196, 0.75452196, 0.75452196, 0.75452196,\n",
       "        0.75452196, 0.75452196]),\n",
       " array([-1.24639848, -1.24639848, -1.24639848, -1.24639848, -1.24639848,\n",
       "        -1.24639848, -1.24639848, -1.24639848, -1.24639848, -1.24639848,\n",
       "        -1.24639848, -1.24639848, -1.24639848, -1.24639848, -1.24639848,\n",
       "        -1.24639848, -1.24639848, -1.24639848, -1.24639848, -1.24639848,\n",
       "        -1.24639848, -1.24639848, -1.24639848, -1.24639848, -1.24639848,\n",
       "        -1.24639848, -1.24639848, -1.24639848, -1.24639848, -1.24639848,\n",
       "        -1.24639848, -1.24639848, -1.24639848, -1.24639848, -1.24639848,\n",
       "        -1.24639848, -1.24639848, -1.24639848, -1.24639848, -1.24639848,\n",
       "        -1.24639848, -1.24639848, -1.24639848, -1.24639848, -1.24639848,\n",
       "        -1.24639848, -1.24639848, -1.24639848, -1.24639848, -1.24639848,\n",
       "        -1.24639848, -1.24639848]))"
      ]
     },
     "execution_count": 131,
     "metadata": {},
     "output_type": "execute_result"
    }
   ],
   "source": [
    "valid_data"
   ]
  },
  {
   "cell_type": "code",
   "execution_count": 94,
   "metadata": {},
   "outputs": [],
   "source": [
    "model = trainer._get_model()"
   ]
  },
  {
   "cell_type": "code",
   "execution_count": null,
   "metadata": {},
   "outputs": [],
   "source": []
  },
  {
   "cell_type": "code",
   "execution_count": 89,
   "metadata": {},
   "outputs": [
    {
     "data": {
      "text/html": [
       "<div>\n",
       "<style scoped>\n",
       "    .dataframe tbody tr th:only-of-type {\n",
       "        vertical-align: middle;\n",
       "    }\n",
       "\n",
       "    .dataframe tbody tr th {\n",
       "        vertical-align: top;\n",
       "    }\n",
       "\n",
       "    .dataframe thead th {\n",
       "        text-align: right;\n",
       "    }\n",
       "</style>\n",
       "<table border=\"1\" class=\"dataframe\">\n",
       "  <thead>\n",
       "    <tr style=\"text-align: right;\">\n",
       "      <th></th>\n",
       "      <th>userID</th>\n",
       "      <th>answerCode</th>\n",
       "      <th>testPaper</th>\n",
       "      <th>timeSec</th>\n",
       "      <th>firstClass</th>\n",
       "      <th>secondClass</th>\n",
       "      <th>correctPer</th>\n",
       "      <th>firstClassDifficulty</th>\n",
       "    </tr>\n",
       "  </thead>\n",
       "  <tbody>\n",
       "    <tr>\n",
       "      <th>0</th>\n",
       "      <td>3</td>\n",
       "      <td>1</td>\n",
       "      <td>804</td>\n",
       "      <td>-2.357753</td>\n",
       "      <td>4</td>\n",
       "      <td>267</td>\n",
       "      <td>0.69112</td>\n",
       "      <td>-0.005758</td>\n",
       "    </tr>\n",
       "    <tr>\n",
       "      <th>1</th>\n",
       "      <td>3</td>\n",
       "      <td>1</td>\n",
       "      <td>804</td>\n",
       "      <td>-2.357749</td>\n",
       "      <td>4</td>\n",
       "      <td>267</td>\n",
       "      <td>0.69112</td>\n",
       "      <td>-0.005758</td>\n",
       "    </tr>\n",
       "    <tr>\n",
       "      <th>2</th>\n",
       "      <td>3</td>\n",
       "      <td>0</td>\n",
       "      <td>804</td>\n",
       "      <td>-2.357736</td>\n",
       "      <td>4</td>\n",
       "      <td>266</td>\n",
       "      <td>0.69112</td>\n",
       "      <td>-0.005758</td>\n",
       "    </tr>\n",
       "    <tr>\n",
       "      <th>3</th>\n",
       "      <td>3</td>\n",
       "      <td>0</td>\n",
       "      <td>804</td>\n",
       "      <td>-2.357735</td>\n",
       "      <td>4</td>\n",
       "      <td>266</td>\n",
       "      <td>0.69112</td>\n",
       "      <td>-0.005758</td>\n",
       "    </tr>\n",
       "    <tr>\n",
       "      <th>4</th>\n",
       "      <td>3</td>\n",
       "      <td>0</td>\n",
       "      <td>804</td>\n",
       "      <td>-2.357734</td>\n",
       "      <td>4</td>\n",
       "      <td>265</td>\n",
       "      <td>0.69112</td>\n",
       "      <td>-0.005758</td>\n",
       "    </tr>\n",
       "    <tr>\n",
       "      <th>...</th>\n",
       "      <td>...</td>\n",
       "      <td>...</td>\n",
       "      <td>...</td>\n",
       "      <td>...</td>\n",
       "      <td>...</td>\n",
       "      <td>...</td>\n",
       "      <td>...</td>\n",
       "      <td>...</td>\n",
       "    </tr>\n",
       "    <tr>\n",
       "      <th>260108</th>\n",
       "      <td>7439</td>\n",
       "      <td>1</td>\n",
       "      <td>780</td>\n",
       "      <td>0.414989</td>\n",
       "      <td>3</td>\n",
       "      <td>237</td>\n",
       "      <td>0.62500</td>\n",
       "      <td>-0.135739</td>\n",
       "    </tr>\n",
       "    <tr>\n",
       "      <th>260109</th>\n",
       "      <td>7439</td>\n",
       "      <td>0</td>\n",
       "      <td>713</td>\n",
       "      <td>1.088795</td>\n",
       "      <td>3</td>\n",
       "      <td>783</td>\n",
       "      <td>0.62500</td>\n",
       "      <td>-0.135739</td>\n",
       "    </tr>\n",
       "    <tr>\n",
       "      <th>260110</th>\n",
       "      <td>7439</td>\n",
       "      <td>1</td>\n",
       "      <td>713</td>\n",
       "      <td>1.088798</td>\n",
       "      <td>3</td>\n",
       "      <td>783</td>\n",
       "      <td>0.62500</td>\n",
       "      <td>-0.135739</td>\n",
       "    </tr>\n",
       "    <tr>\n",
       "      <th>260111</th>\n",
       "      <td>7439</td>\n",
       "      <td>1</td>\n",
       "      <td>713</td>\n",
       "      <td>1.088801</td>\n",
       "      <td>3</td>\n",
       "      <td>761</td>\n",
       "      <td>0.62500</td>\n",
       "      <td>-0.135739</td>\n",
       "    </tr>\n",
       "    <tr>\n",
       "      <th>260112</th>\n",
       "      <td>7439</td>\n",
       "      <td>1</td>\n",
       "      <td>713</td>\n",
       "      <td>1.088813</td>\n",
       "      <td>3</td>\n",
       "      <td>761</td>\n",
       "      <td>0.62500</td>\n",
       "      <td>-0.135739</td>\n",
       "    </tr>\n",
       "  </tbody>\n",
       "</table>\n",
       "<p>259370 rows × 8 columns</p>\n",
       "</div>"
      ],
      "text/plain": [
       "        userID  answerCode  testPaper   timeSec  firstClass  secondClass  \\\n",
       "0            3           1        804 -2.357753           4          267   \n",
       "1            3           1        804 -2.357749           4          267   \n",
       "2            3           0        804 -2.357736           4          266   \n",
       "3            3           0        804 -2.357735           4          266   \n",
       "4            3           0        804 -2.357734           4          265   \n",
       "...        ...         ...        ...       ...         ...          ...   \n",
       "260108    7439           1        780  0.414989           3          237   \n",
       "260109    7439           0        713  1.088795           3          783   \n",
       "260110    7439           1        713  1.088798           3          783   \n",
       "260111    7439           1        713  1.088801           3          761   \n",
       "260112    7439           1        713  1.088813           3          761   \n",
       "\n",
       "        correctPer  firstClassDifficulty  \n",
       "0          0.69112             -0.005758  \n",
       "1          0.69112             -0.005758  \n",
       "2          0.69112             -0.005758  \n",
       "3          0.69112             -0.005758  \n",
       "4          0.69112             -0.005758  \n",
       "...            ...                   ...  \n",
       "260108     0.62500             -0.135739  \n",
       "260109     0.62500             -0.135739  \n",
       "260110     0.62500             -0.135739  \n",
       "260111     0.62500             -0.135739  \n",
       "260112     0.62500             -0.135739  \n",
       "\n",
       "[259370 rows x 8 columns]"
      ]
     },
     "execution_count": 89,
     "metadata": {},
     "output_type": "execute_result"
    }
   ],
   "source": [
    "preprocess.get_data(\"valid\")"
   ]
  },
  {
   "cell_type": "code",
   "execution_count": 90,
   "metadata": {},
   "outputs": [
    {
     "data": {
      "text/html": [
       "<div>\n",
       "<style scoped>\n",
       "    .dataframe tbody tr th:only-of-type {\n",
       "        vertical-align: middle;\n",
       "    }\n",
       "\n",
       "    .dataframe tbody tr th {\n",
       "        vertical-align: top;\n",
       "    }\n",
       "\n",
       "    .dataframe thead th {\n",
       "        text-align: right;\n",
       "    }\n",
       "</style>\n",
       "<table border=\"1\" class=\"dataframe\">\n",
       "  <thead>\n",
       "    <tr style=\"text-align: right;\">\n",
       "      <th></th>\n",
       "      <th>userID</th>\n",
       "      <th>answerCode</th>\n",
       "      <th>testPaper</th>\n",
       "      <th>timeSec</th>\n",
       "      <th>firstClass</th>\n",
       "      <th>secondClass</th>\n",
       "      <th>correctPer</th>\n",
       "      <th>firstClassDifficulty</th>\n",
       "    </tr>\n",
       "  </thead>\n",
       "  <tbody>\n",
       "    <tr>\n",
       "      <th>0</th>\n",
       "      <td>3</td>\n",
       "      <td>1</td>\n",
       "      <td>804</td>\n",
       "      <td>-2.357753</td>\n",
       "      <td>4</td>\n",
       "      <td>267</td>\n",
       "      <td>0.69112</td>\n",
       "      <td>-0.005758</td>\n",
       "    </tr>\n",
       "    <tr>\n",
       "      <th>1</th>\n",
       "      <td>3</td>\n",
       "      <td>1</td>\n",
       "      <td>804</td>\n",
       "      <td>-2.357749</td>\n",
       "      <td>4</td>\n",
       "      <td>267</td>\n",
       "      <td>0.69112</td>\n",
       "      <td>-0.005758</td>\n",
       "    </tr>\n",
       "    <tr>\n",
       "      <th>2</th>\n",
       "      <td>3</td>\n",
       "      <td>0</td>\n",
       "      <td>804</td>\n",
       "      <td>-2.357736</td>\n",
       "      <td>4</td>\n",
       "      <td>266</td>\n",
       "      <td>0.69112</td>\n",
       "      <td>-0.005758</td>\n",
       "    </tr>\n",
       "    <tr>\n",
       "      <th>3</th>\n",
       "      <td>3</td>\n",
       "      <td>0</td>\n",
       "      <td>804</td>\n",
       "      <td>-2.357735</td>\n",
       "      <td>4</td>\n",
       "      <td>266</td>\n",
       "      <td>0.69112</td>\n",
       "      <td>-0.005758</td>\n",
       "    </tr>\n",
       "    <tr>\n",
       "      <th>4</th>\n",
       "      <td>3</td>\n",
       "      <td>0</td>\n",
       "      <td>804</td>\n",
       "      <td>-2.357734</td>\n",
       "      <td>4</td>\n",
       "      <td>265</td>\n",
       "      <td>0.69112</td>\n",
       "      <td>-0.005758</td>\n",
       "    </tr>\n",
       "    <tr>\n",
       "      <th>...</th>\n",
       "      <td>...</td>\n",
       "      <td>...</td>\n",
       "      <td>...</td>\n",
       "      <td>...</td>\n",
       "      <td>...</td>\n",
       "      <td>...</td>\n",
       "      <td>...</td>\n",
       "      <td>...</td>\n",
       "    </tr>\n",
       "    <tr>\n",
       "      <th>260109</th>\n",
       "      <td>7439</td>\n",
       "      <td>0</td>\n",
       "      <td>713</td>\n",
       "      <td>1.088795</td>\n",
       "      <td>3</td>\n",
       "      <td>783</td>\n",
       "      <td>0.62500</td>\n",
       "      <td>-0.135739</td>\n",
       "    </tr>\n",
       "    <tr>\n",
       "      <th>260110</th>\n",
       "      <td>7439</td>\n",
       "      <td>1</td>\n",
       "      <td>713</td>\n",
       "      <td>1.088798</td>\n",
       "      <td>3</td>\n",
       "      <td>783</td>\n",
       "      <td>0.62500</td>\n",
       "      <td>-0.135739</td>\n",
       "    </tr>\n",
       "    <tr>\n",
       "      <th>260111</th>\n",
       "      <td>7439</td>\n",
       "      <td>1</td>\n",
       "      <td>713</td>\n",
       "      <td>1.088801</td>\n",
       "      <td>3</td>\n",
       "      <td>761</td>\n",
       "      <td>0.62500</td>\n",
       "      <td>-0.135739</td>\n",
       "    </tr>\n",
       "    <tr>\n",
       "      <th>260112</th>\n",
       "      <td>7439</td>\n",
       "      <td>1</td>\n",
       "      <td>713</td>\n",
       "      <td>1.088813</td>\n",
       "      <td>3</td>\n",
       "      <td>761</td>\n",
       "      <td>0.62500</td>\n",
       "      <td>-0.135739</td>\n",
       "    </tr>\n",
       "    <tr>\n",
       "      <th>260113</th>\n",
       "      <td>7439</td>\n",
       "      <td>-1</td>\n",
       "      <td>713</td>\n",
       "      <td>1.088818</td>\n",
       "      <td>3</td>\n",
       "      <td>783</td>\n",
       "      <td>0.62500</td>\n",
       "      <td>-0.135739</td>\n",
       "    </tr>\n",
       "  </tbody>\n",
       "</table>\n",
       "<p>260114 rows × 8 columns</p>\n",
       "</div>"
      ],
      "text/plain": [
       "        userID  answerCode  testPaper   timeSec  firstClass  secondClass  \\\n",
       "0            3           1        804 -2.357753           4          267   \n",
       "1            3           1        804 -2.357749           4          267   \n",
       "2            3           0        804 -2.357736           4          266   \n",
       "3            3           0        804 -2.357735           4          266   \n",
       "4            3           0        804 -2.357734           4          265   \n",
       "...        ...         ...        ...       ...         ...          ...   \n",
       "260109    7439           0        713  1.088795           3          783   \n",
       "260110    7439           1        713  1.088798           3          783   \n",
       "260111    7439           1        713  1.088801           3          761   \n",
       "260112    7439           1        713  1.088813           3          761   \n",
       "260113    7439          -1        713  1.088818           3          783   \n",
       "\n",
       "        correctPer  firstClassDifficulty  \n",
       "0          0.69112             -0.005758  \n",
       "1          0.69112             -0.005758  \n",
       "2          0.69112             -0.005758  \n",
       "3          0.69112             -0.005758  \n",
       "4          0.69112             -0.005758  \n",
       "...            ...                   ...  \n",
       "260109     0.62500             -0.135739  \n",
       "260110     0.62500             -0.135739  \n",
       "260111     0.62500             -0.135739  \n",
       "260112     0.62500             -0.135739  \n",
       "260113     0.62500             -0.135739  \n",
       "\n",
       "[260114 rows x 8 columns]"
      ]
     },
     "execution_count": 90,
     "metadata": {},
     "output_type": "execute_result"
    }
   ],
   "source": [
    "preprocess.get_data(\"test\")"
   ]
  },
  {
   "cell_type": "code",
   "execution_count": null,
   "metadata": {},
   "outputs": [],
   "source": []
  }
 ],
 "metadata": {
  "kernelspec": {
   "display_name": "baseline_code",
   "language": "python",
   "name": "baseline_code"
  },
  "language_info": {
   "codemirror_mode": {
    "name": "ipython",
    "version": 3
   },
   "file_extension": ".py",
   "mimetype": "text/x-python",
   "name": "python",
   "nbconvert_exporter": "python",
   "pygments_lexer": "ipython3",
   "version": "3.8.8"
  }
 },
 "nbformat": 4,
 "nbformat_minor": 4
}
