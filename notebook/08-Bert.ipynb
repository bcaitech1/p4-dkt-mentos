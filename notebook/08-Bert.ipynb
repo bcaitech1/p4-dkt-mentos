{
 "cells": [
  {
   "cell_type": "code",
   "execution_count": 1,
   "metadata": {},
   "outputs": [],
   "source": [
    "import torch\n",
    "import torch.nn as nn\n",
    "from transformers import BertConfig, BertModel\n",
    "\n",
    "\n",
    "class EmbeddingLayer(nn.Module):\n",
    "    def __init__(self, args, hidden_dim):\n",
    "        super(EmbeddingLayer, self).__init__()\n",
    "\n",
    "        self.args = args\n",
    "        self.device = args.device\n",
    "        self.hidden_dim = hidden_dim\n",
    "\n",
    "        labels_dim = self.hidden_dim // (len(self.args.n_embeddings) + 1)\n",
    "        interaction_dim = self.hidden_dim - (labels_dim * len(self.args.n_embeddings))\n",
    "\n",
    "        self.embedding_interaction = nn.Embedding(3, interaction_dim)\n",
    "        self.embeddings = nn.ModuleDict(\n",
    "            {k: nn.Embedding(v + 1, labels_dim) for k, v in self.args.n_embeddings.items()}  # plus 1 for padding\n",
    "        )\n",
    "\n",
    "    def forward(self, batch):\n",
    "        embed_interaction = self.embedding_interaction(batch[\"interaction\"])\n",
    "        embed = torch.cat(\n",
    "            [embed_interaction] + [self.embeddings[k](batch[k]) for k in self.args.n_embeddings.keys()], 2\n",
    "        )\n",
    "        return embed\n",
    "\n",
    "\n",
    "class LinearLayer(nn.Module):\n",
    "    def __init__(self, args, hidden_dim):\n",
    "        super(LinearLayer, self).__init__()\n",
    "\n",
    "        self.args = args\n",
    "        self.device = args.device\n",
    "\n",
    "        self.hidden_dim = hidden_dim\n",
    "        in_features = len(self.args.n_linears)\n",
    "        self.fc_layer = nn.Linear(in_features, self.hidden_dim)\n",
    "\n",
    "    def forward(self, batch):\n",
    "        cont_v = torch.stack([batch[k] for k in self.args.n_linears]).permute(1, 2, 0)\n",
    "        output = self.fc_layer(cont_v)\n",
    "        return output\n",
    "\n",
    "\n",
    "class Bert(nn.Module):\n",
    "    def __init__(self, args):\n",
    "        super(Bert, self).__init__()\n",
    "        self.args = args\n",
    "        self.device = args.device\n",
    "\n",
    "        # Defining some parameters\n",
    "        self.hidden_dim = self.args.hidden_dim\n",
    "        self.n_layers = self.args.n_layers\n",
    "        \n",
    "        self.emb_layer = EmbeddingLayer(args, self.hidden_dim // 2)\n",
    "        self.nli_layer = LinearLayer(args, self.hidden_dim // 2)\n",
    "        \n",
    "        self.comb_proj = nn.Linear(self.hidden_dim, self.hidden_dim)\n",
    "\n",
    "        # Bert config\n",
    "        self.config = BertConfig(\n",
    "            3,  # not used\n",
    "            hidden_size=self.hidden_dim,\n",
    "            num_hidden_layers=self.args.n_layers,\n",
    "            num_attention_heads=self.args.n_heads,\n",
    "            max_position_embeddings=self.args.max_seq_len,\n",
    "        )\n",
    "\n",
    "        # Defining the layers\n",
    "        # Bert Layer\n",
    "        self.encoder = BertModel(self.config)\n",
    "\n",
    "        # Fully connected layer\n",
    "        self.fc = nn.Linear(self.args.hidden_dim, 1)\n",
    "        self.activation = nn.Sigmoid()\n",
    "\n",
    "    def forward(self, batch):\n",
    "        batch_size = batch[\"interaction\"].size(0)\n",
    "    \n",
    "        embed = self.emb_layer(batch)\n",
    "        nnbed = self.nli_layer(batch)\n",
    "        \n",
    "        embed = torch.cat([embed, nnbed], 2)\n",
    "        X = self.comb_proj(embed)\n",
    "\n",
    "        # Bert\n",
    "        encoded_layers = self.encoder(inputs_embeds=X, attention_mask=batch[\"mask\"])\n",
    "        out = encoded_layers[0]\n",
    "        out = out.contiguous().view(batch_size, -1, self.hidden_dim)\n",
    "        out = self.fc(out)\n",
    "        preds = self.activation(out).view(batch_size, -1)\n",
    "\n",
    "        return preds"
   ]
  },
  {
   "cell_type": "code",
   "execution_count": 2,
   "metadata": {},
   "outputs": [],
   "source": [
    "import sys\n",
    "sys.path.append(\"..\")\n",
    "\n",
    "from utils import get_args, get_root_dir\n",
    "from helper import get_dkt_loader"
   ]
  },
  {
   "cell_type": "code",
   "execution_count": 3,
   "metadata": {},
   "outputs": [],
   "source": [
    "args = get_args()\n",
    "args.root_dir = get_root_dir(\"../bert_test\")\n",
    "args.data_dir = \"../../input/data/train_dataset/\""
   ]
  },
  {
   "cell_type": "code",
   "execution_count": 7,
   "metadata": {},
   "outputs": [],
   "source": [
    "import torch\n",
    "from models.lstm.model import LSTM\n",
    "from trainer import DKTTrainer\n",
    "\n",
    "class FeatureTestTrainer(DKTTrainer):\n",
    "    def _process_batch(self, batch):\n",
    "        batch['mask'] = batch['mask'].type(torch.FloatTensor)\n",
    "        batch[\"answerCode\"] = batch[\"answerCode\"].type(torch.FloatTensor)\n",
    "\n",
    "        batch[\"interaction\"] = batch[\"answerCode\"] + 1\n",
    "        batch[\"interaction\"] = batch[\"interaction\"].roll(shifts=1, dims=1)\n",
    "        batch[\"mask\"] = batch[\"mask\"].roll(shifts=1, dims=1)\n",
    "        batch[\"mask\"][:, 0] = 0\n",
    "        batch[\"interaction\"] = (batch[\"interaction\"] * batch[\"mask\"]).to(torch.int64)\n",
    "        \n",
    "        \n",
    "        for k in self.args.n_linears: # 수치형\n",
    "            batch[k] = batch[k].type(torch.FloatTensor)\n",
    "            \n",
    "        for k, v in self.args.n_embeddings.items(): # 범주형\n",
    "            batch[k] = batch[k].to(torch.int64)\n",
    "            \n",
    "        for k in batch.keys():\n",
    "            batch[k] = batch[k].to(self.args.device)\n",
    "        \n",
    "        return batch"
   ]
  },
  {
   "cell_type": "code",
   "execution_count": 13,
   "metadata": {},
   "outputs": [],
   "source": [
    "from helper import get_dkt_dataset, get_simple_data"
   ]
  },
  {
   "cell_type": "code",
   "execution_count": 22,
   "metadata": {},
   "outputs": [],
   "source": [
    "args.n_heads = 8\n",
    "args.n_layers = 12"
   ]
  },
  {
   "cell_type": "code",
   "execution_count": null,
   "metadata": {},
   "outputs": [],
   "source": [
    "train_data, valid_data, test_data = get_simple_data(args)"
   ]
  },
  {
   "cell_type": "code",
   "execution_count": 23,
   "metadata": {},
   "outputs": [],
   "source": [
    "trainer = FeatureTestTrainer(args, Bert)"
   ]
  },
  {
   "cell_type": "code",
   "execution_count": 24,
   "metadata": {},
   "outputs": [
    {
     "data": {
      "text/html": [
       "<pre style=\"white-space:pre;overflow-x:auto;line-height:normal;font-family:Menlo,'DejaVu Sans Mono',consolas,'Courier New',monospace\"><span style=\"color: #7fbfbf\">[04:01:57] </span><span style=\"color: #000080\">INFO    </span> MODEl SUMMARY                                              <a href=\"file://../trainer.py\"><span style=\"color: #7f7f7f\">trainer.py</span></a><span style=\"color: #7f7f7f\">:335</span>\n",
       "                                                                                             \n",
       "</pre>\n"
      ],
      "text/plain": [
       "<rich.jupyter.JupyterRenderable at 0x7f8fd2301910>"
      ]
     },
     "metadata": {},
     "output_type": "display_data"
    },
    {
     "data": {
      "text/html": [
       "<pre style=\"white-space:pre;overflow-x:auto;line-height:normal;font-family:Menlo,'DejaVu Sans Mono',consolas,'Courier New',monospace\"><span style=\"color: #7fbfbf\">           </span><span style=\"color: #000080\">INFO    </span> ========================================================== <a href=\"file://../trainer.py\"><span style=\"color: #7f7f7f\">trainer.py</span></a><span style=\"color: #7f7f7f\">:336</span>\n",
       "                    ======================                                                   \n",
       "                    Layer <span style=\"font-weight: bold\">(</span>typ<span style=\"color: #00ff00; font-weight: bold\">e:de</span>pth-idx<span style=\"font-weight: bold\">)</span>                                                   \n",
       "                    Param #                                                                  \n",
       "                    ==========================================================               \n",
       "                    ======================                                                   \n",
       "                    Bert                                                    --               \n",
       "                    ├─EmbeddingLayer: <span style=\"color: #000080; font-weight: bold\">1</span>-<span style=\"color: #000080; font-weight: bold\">1</span>                                   --               \n",
       "                    │    └─Embedding: <span style=\"color: #000080; font-weight: bold\">2</span>-<span style=\"color: #000080; font-weight: bold\">1</span>                                   <span style=\"color: #000080; font-weight: bold\">24</span>               \n",
       "                    │    └─ModuleDict: <span style=\"color: #000080; font-weight: bold\">2</span>-<span style=\"color: #000080; font-weight: bold\">2</span>                                  --               \n",
       "                    │    │    └─Embedding: <span style=\"color: #000080; font-weight: bold\">3</span>-<span style=\"color: #000080; font-weight: bold\">1</span>                              <span style=\"color: #000080; font-weight: bold\">88</span>               \n",
       "                    │    │    └─Embedding: <span style=\"color: #000080; font-weight: bold\">3</span>-<span style=\"color: #000080; font-weight: bold\">2</span>                                               \n",
       "                    <span style=\"color: #000080; font-weight: bold\">7</span>,<span style=\"color: #000080; font-weight: bold\">312</span>                                                                    \n",
       "                    │    │    └─Embedding: <span style=\"color: #000080; font-weight: bold\">3</span>-<span style=\"color: #000080; font-weight: bold\">3</span>                                               \n",
       "                    <span style=\"color: #000080; font-weight: bold\">12</span>,<span style=\"color: #000080; font-weight: bold\">312</span>                                                                   \n",
       "                    ├─LinearLayer: <span style=\"color: #000080; font-weight: bold\">1</span>-<span style=\"color: #000080; font-weight: bold\">2</span>                                      --               \n",
       "                    │    └─Linear: <span style=\"color: #000080; font-weight: bold\">2</span>-<span style=\"color: #000080; font-weight: bold\">3</span>                                      <span style=\"color: #000080; font-weight: bold\">96</span>               \n",
       "                    ├─Linear: <span style=\"color: #000080; font-weight: bold\">1</span>-<span style=\"color: #000080; font-weight: bold\">3</span>                                                            \n",
       "                    <span style=\"color: #000080; font-weight: bold\">4</span>,<span style=\"color: #000080; font-weight: bold\">160</span>                                                                    \n",
       "                    ├─BertModel: <span style=\"color: #000080; font-weight: bold\">1</span>-<span style=\"color: #000080; font-weight: bold\">4</span>                                        --               \n",
       "                    │    └─BertEmbeddings: <span style=\"color: #000080; font-weight: bold\">2</span>-<span style=\"color: #000080; font-weight: bold\">4</span>                              --               \n",
       "                    │    │    └─Embedding: <span style=\"color: #000080; font-weight: bold\">3</span>-<span style=\"color: #000080; font-weight: bold\">4</span>                                               \n",
       "                    <span style=\"color: #000080; font-weight: bold\">192</span>                                                                      \n",
       "                    │    │    └─Embedding: <span style=\"color: #000080; font-weight: bold\">3</span>-<span style=\"color: #000080; font-weight: bold\">5</span>                                               \n",
       "                    <span style=\"color: #000080; font-weight: bold\">1</span>,<span style=\"color: #000080; font-weight: bold\">280</span>                                                                    \n",
       "                    │    │    └─Embedding: <span style=\"color: #000080; font-weight: bold\">3</span>-<span style=\"color: #000080; font-weight: bold\">6</span>                                               \n",
       "                    <span style=\"color: #000080; font-weight: bold\">128</span>                                                                      \n",
       "                    │    │    └─LayerNorm: <span style=\"color: #000080; font-weight: bold\">3</span>-<span style=\"color: #000080; font-weight: bold\">7</span>                                               \n",
       "                    <span style=\"color: #000080; font-weight: bold\">128</span>                                                                      \n",
       "                    │    │    └─Dropout: <span style=\"color: #000080; font-weight: bold\">3</span>-<span style=\"color: #000080; font-weight: bold\">8</span>                                --               \n",
       "                    │    └─BertEncoder: <span style=\"color: #000080; font-weight: bold\">2</span>-<span style=\"color: #000080; font-weight: bold\">5</span>                                 --               \n",
       "                    │    │    └─ModuleList: <span style=\"color: #000080; font-weight: bold\">3</span>-<span style=\"color: #000080; font-weight: bold\">9</span>                                              \n",
       "                    <span style=\"color: #000080; font-weight: bold\">4</span>,<span style=\"color: #000080; font-weight: bold\">958</span>,<span style=\"color: #000080; font-weight: bold\">976</span>                                                                \n",
       "                    │    └─BertPooler: <span style=\"color: #000080; font-weight: bold\">2</span>-<span style=\"color: #000080; font-weight: bold\">6</span>                                  --               \n",
       "                    │    │    └─Linear: <span style=\"color: #000080; font-weight: bold\">3</span>-<span style=\"color: #000080; font-weight: bold\">10</span>                                                 \n",
       "                    <span style=\"color: #000080; font-weight: bold\">4</span>,<span style=\"color: #000080; font-weight: bold\">160</span>                                                                    \n",
       "                    │    │    └─Tanh: <span style=\"color: #000080; font-weight: bold\">3</span>-<span style=\"color: #000080; font-weight: bold\">11</span>                                  --               \n",
       "                    ├─Linear: <span style=\"color: #000080; font-weight: bold\">1</span>-<span style=\"color: #000080; font-weight: bold\">5</span>                                           <span style=\"color: #000080; font-weight: bold\">65</span>               \n",
       "                    ├─Sigmoid: <span style=\"color: #000080; font-weight: bold\">1</span>-<span style=\"color: #000080; font-weight: bold\">6</span>                                          --               \n",
       "                    ==========================================================               \n",
       "                    ======================                                                   \n",
       "                    Total params: <span style=\"color: #000080; font-weight: bold\">4</span>,<span style=\"color: #000080; font-weight: bold\">988</span>,<span style=\"color: #000080; font-weight: bold\">921</span>                                                  \n",
       "                    Trainable params: <span style=\"color: #000080; font-weight: bold\">4</span>,<span style=\"color: #000080; font-weight: bold\">988</span>,<span style=\"color: #000080; font-weight: bold\">921</span>                                              \n",
       "                    Non-trainable params: <span style=\"color: #000080; font-weight: bold\">0</span>                                                  \n",
       "                    ==========================================================               \n",
       "                    ======================                                                   \n",
       "</pre>\n"
      ],
      "text/plain": [
       "<rich.jupyter.JupyterRenderable at 0x7f8ff3f7c490>"
      ]
     },
     "metadata": {},
     "output_type": "display_data"
    },
    {
     "data": {
      "text/html": [
       "<pre style=\"white-space:pre;overflow-x:auto;line-height:normal;font-family:Menlo,'DejaVu Sans Mono',consolas,'Courier New',monospace\"><span style=\"color: #7fbfbf\">           </span><span style=\"color: #000080\">INFO    </span>                                                            <a href=\"file://../trainer.py\"><span style=\"color: #7f7f7f\">trainer.py</span></a><span style=\"color: #7f7f7f\">:338</span>\n",
       "                    CHECK DATASET                                                            \n",
       "</pre>\n"
      ],
      "text/plain": [
       "<rich.jupyter.JupyterRenderable at 0x7f8ff3f78af0>"
      ]
     },
     "metadata": {},
     "output_type": "display_data"
    },
    {
     "data": {
      "text/html": [
       "<pre style=\"white-space:pre;overflow-x:auto;line-height:normal;font-family:Menlo,'DejaVu Sans Mono',consolas,'Courier New',monospace\"><span style=\"color: #7fbfbf\">           </span><span style=\"color: #000080\">INFO    </span>                                                            <a href=\"file://../trainer.py\"><span style=\"color: #7f7f7f\">trainer.py</span></a><span style=\"color: #7f7f7f\">:342</span>\n",
       "                    TRAIN EXAMPLES                                                           \n",
       "</pre>\n"
      ],
      "text/plain": [
       "<rich.jupyter.JupyterRenderable at 0x7f8ff3f78b20>"
      ]
     },
     "metadata": {},
     "output_type": "display_data"
    },
    {
     "data": {
      "text/html": [
       "<pre style=\"white-space:pre;overflow-x:auto;line-height:normal;font-family:Menlo,'DejaVu Sans Mono',consolas,'Courier New',monospace\"><span style=\"color: #7fbfbf\">           </span><span style=\"color: #000080\">INFO    </span> answerCode : <span style=\"font-weight: bold\">[</span><span style=\"color: #000080; font-weight: bold\">1</span> <span style=\"color: #000080; font-weight: bold\">1</span> <span style=\"color: #000080; font-weight: bold\">1</span> <span style=\"color: #000080; font-weight: bold\">1</span> <span style=\"color: #000080; font-weight: bold\">0</span> <span style=\"color: #000080; font-weight: bold\">0</span> <span style=\"color: #000080; font-weight: bold\">1</span> <span style=\"color: #000080; font-weight: bold\">1</span> <span style=\"color: #000080; font-weight: bold\">1</span> <span style=\"color: #000080; font-weight: bold\">1</span><span style=\"font-weight: bold\">]</span>                         <a href=\"file://../trainer.py\"><span style=\"color: #7f7f7f\">trainer.py</span></a><span style=\"color: #7f7f7f\">:344</span>\n",
       "</pre>\n"
      ],
      "text/plain": [
       "<rich.jupyter.JupyterRenderable at 0x7f8ff3f788b0>"
      ]
     },
     "metadata": {},
     "output_type": "display_data"
    },
    {
     "data": {
      "text/html": [
       "<pre style=\"white-space:pre;overflow-x:auto;line-height:normal;font-family:Menlo,'DejaVu Sans Mono',consolas,'Courier New',monospace\"><span style=\"color: #7fbfbf\">           </span><span style=\"color: #000080\">INFO    </span> testPaper : <span style=\"font-weight: bold\">[</span><span style=\"color: #000080; font-weight: bold\">362</span> <span style=\"color: #000080; font-weight: bold\">362</span> <span style=\"color: #000080; font-weight: bold\">362</span> <span style=\"color: #000080; font-weight: bold\">362</span> <span style=\"color: #000080; font-weight: bold\">362</span> <span style=\"color: #000080; font-weight: bold\">362</span> <span style=\"color: #000080; font-weight: bold\">364</span> <span style=\"color: #000080; font-weight: bold\">364</span> <span style=\"color: #000080; font-weight: bold\">364</span> <span style=\"color: #000080; font-weight: bold\">364</span><span style=\"font-weight: bold\">]</span>      <a href=\"file://../trainer.py\"><span style=\"color: #7f7f7f\">trainer.py</span></a><span style=\"color: #7f7f7f\">:344</span>\n",
       "</pre>\n"
      ],
      "text/plain": [
       "<rich.jupyter.JupyterRenderable at 0x7f8ff3f788e0>"
      ]
     },
     "metadata": {},
     "output_type": "display_data"
    },
    {
     "data": {
      "text/html": [
       "<pre style=\"white-space:pre;overflow-x:auto;line-height:normal;font-family:Menlo,'DejaVu Sans Mono',consolas,'Courier New',monospace\"><span style=\"color: #7fbfbf\">           </span><span style=\"color: #000080\">INFO    </span> timeSec : <span style=\"font-weight: bold\">[</span><span style=\"color: #000080; font-weight: bold\">1.04754444</span> <span style=\"color: #000080; font-weight: bold\">1.04754573</span> <span style=\"color: #000080; font-weight: bold\">1.04754815</span> <span style=\"color: #000080; font-weight: bold\">1.04755286</span>     <a href=\"file://../trainer.py\"><span style=\"color: #7f7f7f\">trainer.py</span></a><span style=\"color: #7f7f7f\">:344</span>\n",
       "                    <span style=\"color: #000080; font-weight: bold\">1.04755771</span> <span style=\"color: #000080; font-weight: bold\">1.04757212</span>                                                    \n",
       "                     <span style=\"color: #000080; font-weight: bold\">1.12141635</span> <span style=\"color: #000080; font-weight: bold\">1.12142121</span> <span style=\"color: #000080; font-weight: bold\">1.1214282</span>  <span style=\"color: #000080; font-weight: bold\">1.1214339</span> <span style=\"font-weight: bold\">]</span>                            \n",
       "</pre>\n"
      ],
      "text/plain": [
       "<rich.jupyter.JupyterRenderable at 0x7f8ff3f78b50>"
      ]
     },
     "metadata": {},
     "output_type": "display_data"
    },
    {
     "data": {
      "text/html": [
       "<pre style=\"white-space:pre;overflow-x:auto;line-height:normal;font-family:Menlo,'DejaVu Sans Mono',consolas,'Courier New',monospace\"><span style=\"color: #7fbfbf\">           </span><span style=\"color: #000080\">INFO    </span> firstClass : <span style=\"font-weight: bold\">[</span><span style=\"color: #000080; font-weight: bold\">1</span> <span style=\"color: #000080; font-weight: bold\">1</span> <span style=\"color: #000080; font-weight: bold\">1</span> <span style=\"color: #000080; font-weight: bold\">1</span> <span style=\"color: #000080; font-weight: bold\">1</span> <span style=\"color: #000080; font-weight: bold\">1</span> <span style=\"color: #000080; font-weight: bold\">1</span> <span style=\"color: #000080; font-weight: bold\">1</span> <span style=\"color: #000080; font-weight: bold\">1</span> <span style=\"color: #000080; font-weight: bold\">1</span><span style=\"font-weight: bold\">]</span>                         <a href=\"file://../trainer.py\"><span style=\"color: #7f7f7f\">trainer.py</span></a><span style=\"color: #7f7f7f\">:344</span>\n",
       "</pre>\n"
      ],
      "text/plain": [
       "<rich.jupyter.JupyterRenderable at 0x7f8ff3f783d0>"
      ]
     },
     "metadata": {},
     "output_type": "display_data"
    },
    {
     "data": {
      "text/html": [
       "<pre style=\"white-space:pre;overflow-x:auto;line-height:normal;font-family:Menlo,'DejaVu Sans Mono',consolas,'Courier New',monospace\"><span style=\"color: #7fbfbf\">           </span><span style=\"color: #000080\">INFO    </span> secondClass : <span style=\"font-weight: bold\">[</span><span style=\"color: #000080; font-weight: bold\">754</span> <span style=\"color: #000080; font-weight: bold\">754</span> <span style=\"color: #000080; font-weight: bold\">754</span> <span style=\"color: #000080; font-weight: bold\">754</span> <span style=\"color: #000080; font-weight: bold\">754</span> <span style=\"color: #000080; font-weight: bold\">754</span> <span style=\"color: #000080; font-weight: bold\">756</span> <span style=\"color: #000080; font-weight: bold\">756</span> <span style=\"color: #000080; font-weight: bold\">756</span> <span style=\"color: #000080; font-weight: bold\">756</span><span style=\"font-weight: bold\">]</span>    <a href=\"file://../trainer.py\"><span style=\"color: #7f7f7f\">trainer.py</span></a><span style=\"color: #7f7f7f\">:344</span>\n",
       "</pre>\n"
      ],
      "text/plain": [
       "<rich.jupyter.JupyterRenderable at 0x7f8ff3f78e20>"
      ]
     },
     "metadata": {},
     "output_type": "display_data"
    },
    {
     "data": {
      "text/html": [
       "<pre style=\"white-space:pre;overflow-x:auto;line-height:normal;font-family:Menlo,'DejaVu Sans Mono',consolas,'Courier New',monospace\"><span style=\"color: #7fbfbf\">           </span><span style=\"color: #000080\">INFO    </span> correctPer : <span style=\"font-weight: bold\">[</span><span style=\"color: #000080; font-weight: bold\">0.63087248</span> <span style=\"color: #000080; font-weight: bold\">0.63087248</span> <span style=\"color: #000080; font-weight: bold\">0.63087248</span> <span style=\"color: #000080; font-weight: bold\">0.63087248</span>  <a href=\"file://../trainer.py\"><span style=\"color: #7f7f7f\">trainer.py</span></a><span style=\"color: #7f7f7f\">:344</span>\n",
       "                    <span style=\"color: #000080; font-weight: bold\">0.63087248</span> <span style=\"color: #000080; font-weight: bold\">0.63087248</span>                                                    \n",
       "                     <span style=\"color: #000080; font-weight: bold\">0.63087248</span> <span style=\"color: #000080; font-weight: bold\">0.63087248</span> <span style=\"color: #000080; font-weight: bold\">0.63087248</span> <span style=\"color: #000080; font-weight: bold\">0.63087248</span><span style=\"font-weight: bold\">]</span>                            \n",
       "</pre>\n"
      ],
      "text/plain": [
       "<rich.jupyter.JupyterRenderable at 0x7f8ff3f780a0>"
      ]
     },
     "metadata": {},
     "output_type": "display_data"
    },
    {
     "data": {
      "text/html": [
       "<pre style=\"white-space:pre;overflow-x:auto;line-height:normal;font-family:Menlo,'DejaVu Sans Mono',consolas,'Courier New',monospace\"><span style=\"color: #7fbfbf\">           </span><span style=\"color: #000080\">INFO    </span>                                                            <a href=\"file://../trainer.py\"><span style=\"color: #7f7f7f\">trainer.py</span></a><span style=\"color: #7f7f7f\">:342</span>\n",
       "                    VALID EXAMPLES                                                           \n",
       "</pre>\n"
      ],
      "text/plain": [
       "<rich.jupyter.JupyterRenderable at 0x7f8ff3f78e50>"
      ]
     },
     "metadata": {},
     "output_type": "display_data"
    },
    {
     "data": {
      "text/html": [
       "<pre style=\"white-space:pre;overflow-x:auto;line-height:normal;font-family:Menlo,'DejaVu Sans Mono',consolas,'Courier New',monospace\"><span style=\"color: #7fbfbf\">           </span><span style=\"color: #000080\">INFO    </span> answerCode : <span style=\"font-weight: bold\">[</span><span style=\"color: #000080; font-weight: bold\">1</span> <span style=\"color: #000080; font-weight: bold\">1</span> <span style=\"color: #000080; font-weight: bold\">1</span> <span style=\"color: #000080; font-weight: bold\">1</span> <span style=\"color: #000080; font-weight: bold\">1</span> <span style=\"color: #000080; font-weight: bold\">1</span> <span style=\"color: #000080; font-weight: bold\">1</span> <span style=\"color: #000080; font-weight: bold\">1</span> <span style=\"color: #000080; font-weight: bold\">0</span> <span style=\"color: #000080; font-weight: bold\">0</span><span style=\"font-weight: bold\">]</span>                         <a href=\"file://../trainer.py\"><span style=\"color: #7f7f7f\">trainer.py</span></a><span style=\"color: #7f7f7f\">:344</span>\n",
       "</pre>\n"
      ],
      "text/plain": [
       "<rich.jupyter.JupyterRenderable at 0x7f8ff3f78700>"
      ]
     },
     "metadata": {},
     "output_type": "display_data"
    },
    {
     "data": {
      "text/html": [
       "<pre style=\"white-space:pre;overflow-x:auto;line-height:normal;font-family:Menlo,'DejaVu Sans Mono',consolas,'Courier New',monospace\"><span style=\"color: #7fbfbf\">           </span><span style=\"color: #000080\">INFO    </span> testPaper : <span style=\"font-weight: bold\">[</span><span style=\"color: #000080; font-weight: bold\">683</span> <span style=\"color: #000080; font-weight: bold\">683</span> <span style=\"color: #000080; font-weight: bold\">683</span> <span style=\"color: #000080; font-weight: bold\">683</span> <span style=\"color: #000080; font-weight: bold\">683</span> <span style=\"color: #000080; font-weight: bold\">671</span> <span style=\"color: #000080; font-weight: bold\">671</span> <span style=\"color: #000080; font-weight: bold\">671</span> <span style=\"color: #000080; font-weight: bold\">671</span> <span style=\"color: #000080; font-weight: bold\">671</span><span style=\"font-weight: bold\">]</span>      <a href=\"file://../trainer.py\"><span style=\"color: #7f7f7f\">trainer.py</span></a><span style=\"color: #7f7f7f\">:344</span>\n",
       "</pre>\n"
      ],
      "text/plain": [
       "<rich.jupyter.JupyterRenderable at 0x7f8ff3f78bb0>"
      ]
     },
     "metadata": {},
     "output_type": "display_data"
    },
    {
     "data": {
      "text/html": [
       "<pre style=\"white-space:pre;overflow-x:auto;line-height:normal;font-family:Menlo,'DejaVu Sans Mono',consolas,'Courier New',monospace\"><span style=\"color: #7fbfbf\">           </span><span style=\"color: #000080\">INFO    </span> timeSec : <span style=\"font-weight: bold\">[</span><span style=\"color: #000080; font-weight: bold\">-0.11447921</span> <span style=\"color: #000080; font-weight: bold\">-0.11447379</span> <span style=\"color: #000080; font-weight: bold\">-0.11447122</span> <span style=\"color: #000080; font-weight: bold\">-0.11446865</span> <a href=\"file://../trainer.py\"><span style=\"color: #7f7f7f\">trainer.py</span></a><span style=\"color: #7f7f7f\">:344</span>\n",
       "                    <span style=\"color: #000080; font-weight: bold\">-0.11445496</span> <span style=\"color: #000080; font-weight: bold\">-0.05420875</span>                                                  \n",
       "                     <span style=\"color: #000080; font-weight: bold\">-0.05416395</span> <span style=\"color: #000080; font-weight: bold\">-0.05415254</span> <span style=\"color: #000080; font-weight: bold\">-0.05415026</span> <span style=\"color: #000080; font-weight: bold\">-0.05411659</span><span style=\"font-weight: bold\">]</span>                        \n",
       "</pre>\n"
      ],
      "text/plain": [
       "<rich.jupyter.JupyterRenderable at 0x7f8ff3f78e20>"
      ]
     },
     "metadata": {},
     "output_type": "display_data"
    },
    {
     "data": {
      "text/html": [
       "<pre style=\"white-space:pre;overflow-x:auto;line-height:normal;font-family:Menlo,'DejaVu Sans Mono',consolas,'Courier New',monospace\"><span style=\"color: #7fbfbf\">           </span><span style=\"color: #000080\">INFO    </span> firstClass : <span style=\"font-weight: bold\">[</span><span style=\"color: #000080; font-weight: bold\">3</span> <span style=\"color: #000080; font-weight: bold\">3</span> <span style=\"color: #000080; font-weight: bold\">3</span> <span style=\"color: #000080; font-weight: bold\">3</span> <span style=\"color: #000080; font-weight: bold\">3</span> <span style=\"color: #000080; font-weight: bold\">3</span> <span style=\"color: #000080; font-weight: bold\">3</span> <span style=\"color: #000080; font-weight: bold\">3</span> <span style=\"color: #000080; font-weight: bold\">3</span> <span style=\"color: #000080; font-weight: bold\">3</span><span style=\"font-weight: bold\">]</span>                         <a href=\"file://../trainer.py\"><span style=\"color: #7f7f7f\">trainer.py</span></a><span style=\"color: #7f7f7f\">:344</span>\n",
       "</pre>\n"
      ],
      "text/plain": [
       "<rich.jupyter.JupyterRenderable at 0x7f8ff3f78700>"
      ]
     },
     "metadata": {},
     "output_type": "display_data"
    },
    {
     "data": {
      "text/html": [
       "<pre style=\"white-space:pre;overflow-x:auto;line-height:normal;font-family:Menlo,'DejaVu Sans Mono',consolas,'Courier New',monospace\"><span style=\"color: #7fbfbf\">           </span><span style=\"color: #000080\">INFO    </span> secondClass : <span style=\"font-weight: bold\">[</span><span style=\"color: #000080; font-weight: bold\">202</span> <span style=\"color: #000080; font-weight: bold\">202</span> <span style=\"color: #000080; font-weight: bold\">202</span> <span style=\"color: #000080; font-weight: bold\">202</span> <span style=\"color: #000080; font-weight: bold\">202</span> <span style=\"color: #000080; font-weight: bold\">203</span> <span style=\"color: #000080; font-weight: bold\">203</span> <span style=\"color: #000080; font-weight: bold\">203</span> <span style=\"color: #000080; font-weight: bold\">203</span> <span style=\"color: #000080; font-weight: bold\">203</span><span style=\"font-weight: bold\">]</span>    <a href=\"file://../trainer.py\"><span style=\"color: #7f7f7f\">trainer.py</span></a><span style=\"color: #7f7f7f\">:344</span>\n",
       "</pre>\n"
      ],
      "text/plain": [
       "<rich.jupyter.JupyterRenderable at 0x7f8ff3f78340>"
      ]
     },
     "metadata": {},
     "output_type": "display_data"
    },
    {
     "data": {
      "text/html": [
       "<pre style=\"white-space:pre;overflow-x:auto;line-height:normal;font-family:Menlo,'DejaVu Sans Mono',consolas,'Courier New',monospace\"><span style=\"color: #7fbfbf\">           </span><span style=\"color: #000080\">INFO    </span> correctPer : <span style=\"font-weight: bold\">[</span><span style=\"color: #000080; font-weight: bold\">0.85135135</span> <span style=\"color: #000080; font-weight: bold\">0.85135135</span> <span style=\"color: #000080; font-weight: bold\">0.85135135</span> <span style=\"color: #000080; font-weight: bold\">0.85135135</span>  <a href=\"file://../trainer.py\"><span style=\"color: #7f7f7f\">trainer.py</span></a><span style=\"color: #7f7f7f\">:344</span>\n",
       "                    <span style=\"color: #000080; font-weight: bold\">0.85135135</span> <span style=\"color: #000080; font-weight: bold\">0.85135135</span>                                                    \n",
       "                     <span style=\"color: #000080; font-weight: bold\">0.85135135</span> <span style=\"color: #000080; font-weight: bold\">0.85135135</span> <span style=\"color: #000080; font-weight: bold\">0.85135135</span> <span style=\"color: #000080; font-weight: bold\">0.85135135</span><span style=\"font-weight: bold\">]</span>                            \n",
       "</pre>\n"
      ],
      "text/plain": [
       "<rich.jupyter.JupyterRenderable at 0x7f8ff3f78e50>"
      ]
     },
     "metadata": {},
     "output_type": "display_data"
    },
    {
     "data": {
      "text/html": [
       "<pre style=\"white-space:pre;overflow-x:auto;line-height:normal;font-family:Menlo,'DejaVu Sans Mono',consolas,'Courier New',monospace\"><span style=\"color: #7fbfbf\">           </span><span style=\"color: #000080\">INFO    </span>                                                            <a href=\"file://../trainer.py\"><span style=\"color: #7f7f7f\">trainer.py</span></a><span style=\"color: #7f7f7f\">:342</span>\n",
       "                    TEST EXAMPLES                                                            \n",
       "</pre>\n"
      ],
      "text/plain": [
       "<rich.jupyter.JupyterRenderable at 0x7f8ff3f78610>"
      ]
     },
     "metadata": {},
     "output_type": "display_data"
    },
    {
     "data": {
      "text/html": [
       "<pre style=\"white-space:pre;overflow-x:auto;line-height:normal;font-family:Menlo,'DejaVu Sans Mono',consolas,'Courier New',monospace\"><span style=\"color: #7fbfbf\">           </span><span style=\"color: #000080\">INFO    </span> answerCode : <span style=\"font-weight: bold\">[</span><span style=\"color: #000080; font-weight: bold\">1</span> <span style=\"color: #000080; font-weight: bold\">1</span> <span style=\"color: #000080; font-weight: bold\">1</span> <span style=\"color: #000080; font-weight: bold\">1</span> <span style=\"color: #000080; font-weight: bold\">1</span> <span style=\"color: #000080; font-weight: bold\">1</span> <span style=\"color: #000080; font-weight: bold\">1</span> <span style=\"color: #000080; font-weight: bold\">1</span> <span style=\"color: #000080; font-weight: bold\">1</span> <span style=\"color: #000080; font-weight: bold\">1</span><span style=\"font-weight: bold\">]</span>                         <a href=\"file://../trainer.py\"><span style=\"color: #7f7f7f\">trainer.py</span></a><span style=\"color: #7f7f7f\">:344</span>\n",
       "</pre>\n"
      ],
      "text/plain": [
       "<rich.jupyter.JupyterRenderable at 0x7f8ff3f78fa0>"
      ]
     },
     "metadata": {},
     "output_type": "display_data"
    },
    {
     "data": {
      "text/html": [
       "<pre style=\"white-space:pre;overflow-x:auto;line-height:normal;font-family:Menlo,'DejaVu Sans Mono',consolas,'Courier New',monospace\"><span style=\"color: #7fbfbf\">           </span><span style=\"color: #000080\">INFO    </span> testPaper : <span style=\"font-weight: bold\">[</span><span style=\"color: #000080; font-weight: bold\">218</span> <span style=\"color: #000080; font-weight: bold\">218</span> <span style=\"color: #000080; font-weight: bold\">218</span> <span style=\"color: #000080; font-weight: bold\">218</span> <span style=\"color: #000080; font-weight: bold\">218</span> <span style=\"color: #000080; font-weight: bold\">218</span> <span style=\"color: #000080; font-weight: bold\">219</span> <span style=\"color: #000080; font-weight: bold\">219</span> <span style=\"color: #000080; font-weight: bold\">219</span> <span style=\"color: #000080; font-weight: bold\">219</span><span style=\"font-weight: bold\">]</span>      <a href=\"file://../trainer.py\"><span style=\"color: #7f7f7f\">trainer.py</span></a><span style=\"color: #7f7f7f\">:344</span>\n",
       "</pre>\n"
      ],
      "text/plain": [
       "<rich.jupyter.JupyterRenderable at 0x7f8ff3f78f70>"
      ]
     },
     "metadata": {},
     "output_type": "display_data"
    },
    {
     "data": {
      "text/html": [
       "<pre style=\"white-space:pre;overflow-x:auto;line-height:normal;font-family:Menlo,'DejaVu Sans Mono',consolas,'Courier New',monospace\"><span style=\"color: #7fbfbf\">           </span><span style=\"color: #000080\">INFO    </span> timeSec : <span style=\"font-weight: bold\">[</span><span style=\"color: #000080; font-weight: bold\">-2.1944334</span>  <span style=\"color: #000080; font-weight: bold\">-2.19442042</span> <span style=\"color: #000080; font-weight: bold\">-2.19441129</span> <span style=\"color: #000080; font-weight: bold\">-2.19440886</span> <a href=\"file://../trainer.py\"><span style=\"color: #7f7f7f\">trainer.py</span></a><span style=\"color: #7f7f7f\">:344</span>\n",
       "                    <span style=\"color: #000080; font-weight: bold\">-2.19440686</span> <span style=\"color: #000080; font-weight: bold\">-2.19439759</span>                                                  \n",
       "                     <span style=\"color: #000080; font-weight: bold\">-2.18717512</span> <span style=\"color: #000080; font-weight: bold\">-2.18717098</span> <span style=\"color: #000080; font-weight: bold\">-2.18716912</span> <span style=\"color: #000080; font-weight: bold\">-2.18716541</span><span style=\"font-weight: bold\">]</span>                        \n",
       "</pre>\n"
      ],
      "text/plain": [
       "<rich.jupyter.JupyterRenderable at 0x7f8ff3f78eb0>"
      ]
     },
     "metadata": {},
     "output_type": "display_data"
    },
    {
     "data": {
      "text/html": [
       "<pre style=\"white-space:pre;overflow-x:auto;line-height:normal;font-family:Menlo,'DejaVu Sans Mono',consolas,'Courier New',monospace\"><span style=\"color: #7fbfbf\">           </span><span style=\"color: #000080\">INFO    </span> firstClass : <span style=\"font-weight: bold\">[</span><span style=\"color: #000080; font-weight: bold\">1</span> <span style=\"color: #000080; font-weight: bold\">1</span> <span style=\"color: #000080; font-weight: bold\">1</span> <span style=\"color: #000080; font-weight: bold\">1</span> <span style=\"color: #000080; font-weight: bold\">1</span> <span style=\"color: #000080; font-weight: bold\">1</span> <span style=\"color: #000080; font-weight: bold\">1</span> <span style=\"color: #000080; font-weight: bold\">1</span> <span style=\"color: #000080; font-weight: bold\">1</span> <span style=\"color: #000080; font-weight: bold\">1</span><span style=\"font-weight: bold\">]</span>                         <a href=\"file://../trainer.py\"><span style=\"color: #7f7f7f\">trainer.py</span></a><span style=\"color: #7f7f7f\">:344</span>\n",
       "</pre>\n"
      ],
      "text/plain": [
       "<rich.jupyter.JupyterRenderable at 0x7f8ff3f78850>"
      ]
     },
     "metadata": {},
     "output_type": "display_data"
    },
    {
     "data": {
      "text/html": [
       "<pre style=\"white-space:pre;overflow-x:auto;line-height:normal;font-family:Menlo,'DejaVu Sans Mono',consolas,'Courier New',monospace\"><span style=\"color: #7fbfbf\">           </span><span style=\"color: #000080\">INFO    </span> secondClass : <span style=\"font-weight: bold\">[</span><span style=\"color: #000080; font-weight: bold\">696</span> <span style=\"color: #000080; font-weight: bold\">696</span> <span style=\"color: #000080; font-weight: bold\">696</span> <span style=\"color: #000080; font-weight: bold\">696</span> <span style=\"color: #000080; font-weight: bold\">696</span> <span style=\"color: #000080; font-weight: bold\">696</span> <span style=\"color: #000080; font-weight: bold\">697</span> <span style=\"color: #000080; font-weight: bold\">697</span> <span style=\"color: #000080; font-weight: bold\">697</span> <span style=\"color: #000080; font-weight: bold\">697</span><span style=\"font-weight: bold\">]</span>    <a href=\"file://../trainer.py\"><span style=\"color: #7f7f7f\">trainer.py</span></a><span style=\"color: #7f7f7f\">:344</span>\n",
       "</pre>\n"
      ],
      "text/plain": [
       "<rich.jupyter.JupyterRenderable at 0x7f8ff3f78580>"
      ]
     },
     "metadata": {},
     "output_type": "display_data"
    },
    {
     "data": {
      "text/html": [
       "<pre style=\"white-space:pre;overflow-x:auto;line-height:normal;font-family:Menlo,'DejaVu Sans Mono',consolas,'Courier New',monospace\"><span style=\"color: #7fbfbf\">           </span><span style=\"color: #000080\">INFO    </span> correctPer : <span style=\"font-weight: bold\">[</span><span style=\"color: #000080; font-weight: bold\">0.69111969</span> <span style=\"color: #000080; font-weight: bold\">0.69111969</span> <span style=\"color: #000080; font-weight: bold\">0.69111969</span> <span style=\"color: #000080; font-weight: bold\">0.69111969</span>  <a href=\"file://../trainer.py\"><span style=\"color: #7f7f7f\">trainer.py</span></a><span style=\"color: #7f7f7f\">:344</span>\n",
       "                    <span style=\"color: #000080; font-weight: bold\">0.69111969</span> <span style=\"color: #000080; font-weight: bold\">0.69111969</span>                                                    \n",
       "                     <span style=\"color: #000080; font-weight: bold\">0.69111969</span> <span style=\"color: #000080; font-weight: bold\">0.69111969</span> <span style=\"color: #000080; font-weight: bold\">0.69111969</span> <span style=\"color: #000080; font-weight: bold\">0.69111969</span><span style=\"font-weight: bold\">]</span>                            \n",
       "</pre>\n"
      ],
      "text/plain": [
       "<rich.jupyter.JupyterRenderable at 0x7f8ff3f78b50>"
      ]
     },
     "metadata": {},
     "output_type": "display_data"
    },
    {
     "data": {
      "text/html": [
       "<pre style=\"white-space:pre;overflow-x:auto;line-height:normal;font-family:Menlo,'DejaVu Sans Mono',consolas,'Courier New',monospace\"><span style=\"color: #7fbfbf\">           </span><span style=\"color: #000080\">INFO    </span>                                                            <a href=\"file://../trainer.py\"><span style=\"color: #7f7f7f\">trainer.py</span></a><span style=\"color: #7f7f7f\">:349</span>\n",
       "                    CHECK BATCH SHAPE                                                        \n",
       "</pre>\n"
      ],
      "text/plain": [
       "<rich.jupyter.JupyterRenderable at 0x7f8ff3f78f40>"
      ]
     },
     "metadata": {},
     "output_type": "display_data"
    },
    {
     "data": {
      "text/html": [
       "<pre style=\"white-space:pre;overflow-x:auto;line-height:normal;font-family:Menlo,'DejaVu Sans Mono',consolas,'Courier New',monospace\"><span style=\"color: #7fbfbf\">           </span><span style=\"color: #000080\">INFO    </span>                                                            <a href=\"file://../trainer.py\"><span style=\"color: #7f7f7f\">trainer.py</span></a><span style=\"color: #7f7f7f\">:352</span>\n",
       "                    TRAIN BATCH TYPE : <span style=\"font-weight: bold\">&lt;</span><span style=\"color: #ff00ff; font-weight: bold\">class</span><span style=\"color: #000000\"> </span><span style=\"color: #008000\">'dict'</span><span style=\"font-weight: bold\">&gt;</span>                                        \n",
       "</pre>\n"
      ],
      "text/plain": [
       "<rich.jupyter.JupyterRenderable at 0x7f8ff3f78100>"
      ]
     },
     "metadata": {},
     "output_type": "display_data"
    },
    {
     "data": {
      "text/html": [
       "<pre style=\"white-space:pre;overflow-x:auto;line-height:normal;font-family:Menlo,'DejaVu Sans Mono',consolas,'Courier New',monospace\"><span style=\"color: #7fbfbf\">           </span><span style=\"color: #000080\">INFO    </span>                                                            <a href=\"file://../trainer.py\"><span style=\"color: #7f7f7f\">trainer.py</span></a><span style=\"color: #7f7f7f\">:353</span>\n",
       "                    TRAIN BATCH LEN : <span style=\"color: #000080; font-weight: bold\">7</span>                                                      \n",
       "</pre>\n"
      ],
      "text/plain": [
       "<rich.jupyter.JupyterRenderable at 0x7f8ff3f78820>"
      ]
     },
     "metadata": {},
     "output_type": "display_data"
    },
    {
     "data": {
      "text/html": [
       "<pre style=\"white-space:pre;overflow-x:auto;line-height:normal;font-family:Menlo,'DejaVu Sans Mono',consolas,'Courier New',monospace\"><span style=\"color: #7fbfbf\">           </span><span style=\"color: #000080\">INFO    </span>                                                            <a href=\"file://../trainer.py\"><span style=\"color: #7f7f7f\">trainer.py</span></a><span style=\"color: #7f7f7f\">:354</span>\n",
       "                    TRAIN BATCH DICT VALUE SHAPE : torch.Size<span style=\"font-weight: bold\">([</span><span style=\"color: #000080; font-weight: bold\">64</span>, <span style=\"color: #000080; font-weight: bold\">20</span><span style=\"font-weight: bold\">])</span>                      \n",
       "</pre>\n"
      ],
      "text/plain": [
       "<rich.jupyter.JupyterRenderable at 0x7f8ff3f782b0>"
      ]
     },
     "metadata": {},
     "output_type": "display_data"
    },
    {
     "data": {
      "text/html": [
       "<pre style=\"white-space:pre;overflow-x:auto;line-height:normal;font-family:Menlo,'DejaVu Sans Mono',consolas,'Courier New',monospace\"><span style=\"color: #7fbfbf\">           </span><span style=\"color: #000080\">INFO    </span>                                                            <a href=\"file://../trainer.py\"><span style=\"color: #7f7f7f\">trainer.py</span></a><span style=\"color: #7f7f7f\">:352</span>\n",
       "                    TEST BATCH TYPE : <span style=\"font-weight: bold\">&lt;</span><span style=\"color: #ff00ff; font-weight: bold\">class</span><span style=\"color: #000000\"> </span><span style=\"color: #008000\">'dict'</span><span style=\"font-weight: bold\">&gt;</span>                                         \n",
       "</pre>\n"
      ],
      "text/plain": [
       "<rich.jupyter.JupyterRenderable at 0x7f8ff3f78040>"
      ]
     },
     "metadata": {},
     "output_type": "display_data"
    },
    {
     "data": {
      "text/html": [
       "<pre style=\"white-space:pre;overflow-x:auto;line-height:normal;font-family:Menlo,'DejaVu Sans Mono',consolas,'Courier New',monospace\"><span style=\"color: #7fbfbf\">           </span><span style=\"color: #000080\">INFO    </span>                                                            <a href=\"file://../trainer.py\"><span style=\"color: #7f7f7f\">trainer.py</span></a><span style=\"color: #7f7f7f\">:353</span>\n",
       "                    TEST BATCH LEN : <span style=\"color: #000080; font-weight: bold\">7</span>                                                       \n",
       "</pre>\n"
      ],
      "text/plain": [
       "<rich.jupyter.JupyterRenderable at 0x7f8ff3f788b0>"
      ]
     },
     "metadata": {},
     "output_type": "display_data"
    },
    {
     "data": {
      "text/html": [
       "<pre style=\"white-space:pre;overflow-x:auto;line-height:normal;font-family:Menlo,'DejaVu Sans Mono',consolas,'Courier New',monospace\"><span style=\"color: #7fbfbf\">           </span><span style=\"color: #000080\">INFO    </span>                                                            <a href=\"file://../trainer.py\"><span style=\"color: #7f7f7f\">trainer.py</span></a><span style=\"color: #7f7f7f\">:354</span>\n",
       "                    TEST BATCH DICT VALUE SHAPE : torch.Size<span style=\"font-weight: bold\">([</span><span style=\"color: #000080; font-weight: bold\">64</span>, <span style=\"color: #000080; font-weight: bold\">20</span><span style=\"font-weight: bold\">])</span>                       \n",
       "</pre>\n"
      ],
      "text/plain": [
       "<rich.jupyter.JupyterRenderable at 0x7f8ff3f780d0>"
      ]
     },
     "metadata": {},
     "output_type": "display_data"
    },
    {
     "data": {
      "text/html": [
       "<pre style=\"white-space:pre;overflow-x:auto;line-height:normal;font-family:Menlo,'DejaVu Sans Mono',consolas,'Courier New',monospace\"><span style=\"color: #7fbfbf\">[04:01:58] </span><span style=\"color: #000080\">INFO    </span>                                                            <a href=\"file://../trainer.py\"><span style=\"color: #7f7f7f\">trainer.py</span></a><span style=\"color: #7f7f7f\">:352</span>\n",
       "                    VALID BATCH TYPE : <span style=\"font-weight: bold\">&lt;</span><span style=\"color: #ff00ff; font-weight: bold\">class</span><span style=\"color: #000000\"> </span><span style=\"color: #008000\">'dict'</span><span style=\"font-weight: bold\">&gt;</span>                                        \n",
       "</pre>\n"
      ],
      "text/plain": [
       "<rich.jupyter.JupyterRenderable at 0x7f8ff3f78850>"
      ]
     },
     "metadata": {},
     "output_type": "display_data"
    },
    {
     "data": {
      "text/html": [
       "<pre style=\"white-space:pre;overflow-x:auto;line-height:normal;font-family:Menlo,'DejaVu Sans Mono',consolas,'Courier New',monospace\"><span style=\"color: #7fbfbf\">           </span><span style=\"color: #000080\">INFO    </span>                                                            <a href=\"file://../trainer.py\"><span style=\"color: #7f7f7f\">trainer.py</span></a><span style=\"color: #7f7f7f\">:353</span>\n",
       "                    VALID BATCH LEN : <span style=\"color: #000080; font-weight: bold\">7</span>                                                      \n",
       "</pre>\n"
      ],
      "text/plain": [
       "<rich.jupyter.JupyterRenderable at 0x7f8ff3f78f40>"
      ]
     },
     "metadata": {},
     "output_type": "display_data"
    },
    {
     "data": {
      "text/html": [
       "<pre style=\"white-space:pre;overflow-x:auto;line-height:normal;font-family:Menlo,'DejaVu Sans Mono',consolas,'Courier New',monospace\"><span style=\"color: #7fbfbf\">           </span><span style=\"color: #000080\">INFO    </span>                                                            <a href=\"file://../trainer.py\"><span style=\"color: #7f7f7f\">trainer.py</span></a><span style=\"color: #7f7f7f\">:354</span>\n",
       "                    VALID BATCH DICT VALUE SHAPE : torch.Size<span style=\"font-weight: bold\">([</span><span style=\"color: #000080; font-weight: bold\">64</span>, <span style=\"color: #000080; font-weight: bold\">20</span><span style=\"font-weight: bold\">])</span>                      \n",
       "</pre>\n"
      ],
      "text/plain": [
       "<rich.jupyter.JupyterRenderable at 0x7f8ff3f78f10>"
      ]
     },
     "metadata": {},
     "output_type": "display_data"
    },
    {
     "data": {
      "text/html": [
       "<pre style=\"white-space:pre;overflow-x:auto;line-height:normal;font-family:Menlo,'DejaVu Sans Mono',consolas,'Courier New',monospace\"><span style=\"color: #7fbfbf\">           </span><span style=\"color: #000080\">INFO    </span>                                                            <a href=\"file://../trainer.py\"><span style=\"color: #7f7f7f\">trainer.py</span></a><span style=\"color: #7f7f7f\">:356</span>\n",
       "                    CHECK MODEL FORWARD                                                      \n",
       "</pre>\n"
      ],
      "text/plain": [
       "<rich.jupyter.JupyterRenderable at 0x7f8ff3f78f10>"
      ]
     },
     "metadata": {},
     "output_type": "display_data"
    },
    {
     "data": {
      "text/html": [
       "<pre style=\"white-space:pre;overflow-x:auto;line-height:normal;font-family:Menlo,'DejaVu Sans Mono',consolas,'Courier New',monospace\"><span style=\"color: #7fbfbf\">           </span><span style=\"color: #000080\">INFO    </span>                                                            <a href=\"file://../trainer.py\"><span style=\"color: #7f7f7f\">trainer.py</span></a><span style=\"color: #7f7f7f\">:361</span>\n",
       "                    PREDS SHAPE: torch.Size<span style=\"font-weight: bold\">([</span><span style=\"color: #000080; font-weight: bold\">64</span>, <span style=\"color: #000080; font-weight: bold\">20</span><span style=\"font-weight: bold\">])</span>                                        \n",
       "</pre>\n"
      ],
      "text/plain": [
       "<rich.jupyter.JupyterRenderable at 0x7f8ff3f78370>"
      ]
     },
     "metadata": {},
     "output_type": "display_data"
    },
    {
     "data": {
      "text/html": [
       "<pre style=\"white-space:pre;overflow-x:auto;line-height:normal;font-family:Menlo,'DejaVu Sans Mono',consolas,'Courier New',monospace\"><span style=\"color: #7fbfbf\">           </span><span style=\"color: #000080\">INFO    </span>                                                            <a href=\"file://../trainer.py\"><span style=\"color: #7f7f7f\">trainer.py</span></a><span style=\"color: #7f7f7f\">:362</span>\n",
       "                    PREDS EXAMPLES: tensor<span style=\"font-weight: bold\">([</span><span style=\"color: #000080; font-weight: bold\">0.6597</span>, <span style=\"color: #000080; font-weight: bold\">0.6367</span>, <span style=\"color: #000080; font-weight: bold\">0.5678</span>, <span style=\"color: #000080; font-weight: bold\">0.6646</span>,                  \n",
       "                    <span style=\"color: #000080; font-weight: bold\">0.5886</span>, <span style=\"color: #000080; font-weight: bold\">0.4822</span>, <span style=\"color: #000080; font-weight: bold\">0.4740</span>, <span style=\"color: #000080; font-weight: bold\">0.4898</span>, <span style=\"color: #000080; font-weight: bold\">0.5788</span>,                                  \n",
       "                            <span style=\"color: #000080; font-weight: bold\">0.4856</span>, <span style=\"color: #000080; font-weight: bold\">0.4864</span>, <span style=\"color: #000080; font-weight: bold\">0.4952</span>, <span style=\"color: #000080; font-weight: bold\">0.4371</span>, <span style=\"color: #000080; font-weight: bold\">0.5125</span>, <span style=\"color: #000080; font-weight: bold\">0.5357</span>,                  \n",
       "                    <span style=\"color: #000080; font-weight: bold\">0.5855</span>, <span style=\"color: #000080; font-weight: bold\">0.4781</span>, <span style=\"color: #000080; font-weight: bold\">0.4868</span>,                                                  \n",
       "                            <span style=\"color: #000080; font-weight: bold\">0.5681</span>, <span style=\"color: #000080; font-weight: bold\">0.6071</span><span style=\"font-weight: bold\">]</span>, <span style=\"color: #808000\">device</span>=<span style=\"color: #008000\">'cuda:0'</span>,                                \n",
       "                    <span style=\"color: #808000\">grad_fn</span>=<span style=\"font-weight: bold\">&lt;</span><span style=\"color: #ff00ff; font-weight: bold\">SelectBackward</span><span style=\"font-weight: bold\">&gt;)</span>                                                \n",
       "</pre>\n"
      ],
      "text/plain": [
       "<rich.jupyter.JupyterRenderable at 0x7f8ff3f78820>"
      ]
     },
     "metadata": {},
     "output_type": "display_data"
    },
    {
     "data": {
      "text/html": [
       "<pre style=\"white-space:pre;overflow-x:auto;line-height:normal;font-family:Menlo,'DejaVu Sans Mono',consolas,'Courier New',monospace\"><span style=\"color: #7fbfbf\">           </span><span style=\"color: #000080\">INFO    </span>                                                            <a href=\"file://../trainer.py\"><span style=\"color: #7f7f7f\">trainer.py</span></a><span style=\"color: #7f7f7f\">:364</span>\n",
       "                    CHECK METRICS                                                            \n",
       "</pre>\n"
      ],
      "text/plain": [
       "<rich.jupyter.JupyterRenderable at 0x7f8ff3f78ac0>"
      ]
     },
     "metadata": {},
     "output_type": "display_data"
    },
    {
     "data": {
      "text/html": [
       "<pre style=\"white-space:pre;overflow-x:auto;line-height:normal;font-family:Menlo,'DejaVu Sans Mono',consolas,'Courier New',monospace\"><span style=\"color: #7fbfbf\">           </span><span style=\"color: #000080\">INFO    </span>                                                            <a href=\"file://../trainer.py\"><span style=\"color: #7f7f7f\">trainer.py</span></a><span style=\"color: #7f7f7f\">:370</span>\n",
       "                    LOSS : <span style=\"color: #000080; font-weight: bold\">0.7126432061195374</span>                                                \n",
       "</pre>\n"
      ],
      "text/plain": [
       "<rich.jupyter.JupyterRenderable at 0x7f8ff3f78b20>"
      ]
     },
     "metadata": {},
     "output_type": "display_data"
    },
    {
     "data": {
      "text/html": [
       "<pre style=\"white-space:pre;overflow-x:auto;line-height:normal;font-family:Menlo,'DejaVu Sans Mono',consolas,'Courier New',monospace\"><span style=\"color: #7fbfbf\">           </span><span style=\"color: #000080\">INFO    </span> AUC: <span style=\"color: #000080; font-weight: bold\">0.5066666666666666</span> ACC: <span style=\"color: #000080; font-weight: bold\">0.484375</span>                      <a href=\"file://../trainer.py\"><span style=\"color: #7f7f7f\">trainer.py</span></a><span style=\"color: #7f7f7f\">:373</span>\n",
       "</pre>\n"
      ],
      "text/plain": [
       "<rich.jupyter.JupyterRenderable at 0x7f8ff3f78040>"
      ]
     },
     "metadata": {},
     "output_type": "display_data"
    }
   ],
   "source": [
    "trainer.debug(train_data, valid_data, test_data)"
   ]
  },
  {
   "cell_type": "code",
   "execution_count": 25,
   "metadata": {},
   "outputs": [],
   "source": [
    "from IPython.display import clear_output"
   ]
  },
  {
   "cell_type": "markdown",
   "metadata": {},
   "source": [
    "## n_heads 4, n_layers 2"
   ]
  },
  {
   "cell_type": "code",
   "execution_count": 21,
   "metadata": {},
   "outputs": [
    {
     "name": "stdout",
     "output_type": "stream",
     "text": [
      "auc : 0.7469929482776747 acc : 0.6935969868173258\n",
      "logging path: ../bert_test/LOG_[06.11_03:58]\n"
     ]
    }
   ],
   "source": [
    "auc, acc = trainer.run(train_data, valid_data, test_data)\n",
    "clear_output()\n",
    "print(f\"auc : {auc} acc : {acc}\")\n",
    "print(f\"logging path: {trainer.prefix_save_path}\")"
   ]
  },
  {
   "cell_type": "markdown",
   "metadata": {},
   "source": [
    "### Test 2"
   ]
  },
  {
   "cell_type": "code",
   "execution_count": 32,
   "metadata": {},
   "outputs": [],
   "source": [
    "args.hidden_dim = 256"
   ]
  },
  {
   "cell_type": "code",
   "execution_count": 40,
   "metadata": {},
   "outputs": [
    {
     "data": {
      "text/plain": [
       "(8, 12, 256, 64)"
      ]
     },
     "execution_count": 40,
     "metadata": {},
     "output_type": "execute_result"
    }
   ],
   "source": [
    "args.n_heads, args.n_layers, args.hidden_dim, args.batch_size"
   ]
  },
  {
   "cell_type": "code",
   "execution_count": 37,
   "metadata": {},
   "outputs": [],
   "source": [
    "trainer = FeatureTestTrainer(args, Bert)"
   ]
  },
  {
   "cell_type": "code",
   "execution_count": 38,
   "metadata": {
    "collapsed": true,
    "jupyter": {
     "outputs_hidden": true
    }
   },
   "outputs": [
    {
     "data": {
      "text/html": [
       "<pre style=\"white-space:pre;overflow-x:auto;line-height:normal;font-family:Menlo,'DejaVu Sans Mono',consolas,'Courier New',monospace\"><span style=\"color: #7fbfbf\">[04:04:01] </span><span style=\"color: #000080\">INFO    </span> MODEl SUMMARY                                              <a href=\"file://../trainer.py\"><span style=\"color: #7f7f7f\">trainer.py</span></a><span style=\"color: #7f7f7f\">:335</span>\n",
       "                                                                                             \n",
       "</pre>\n"
      ],
      "text/plain": [
       "<rich.jupyter.JupyterRenderable at 0x7f8ff467eaf0>"
      ]
     },
     "metadata": {},
     "output_type": "display_data"
    },
    {
     "data": {
      "text/html": [
       "<pre style=\"white-space:pre;overflow-x:auto;line-height:normal;font-family:Menlo,'DejaVu Sans Mono',consolas,'Courier New',monospace\"><span style=\"color: #7fbfbf\">           </span><span style=\"color: #000080\">INFO    </span> ========================================================== <a href=\"file://../trainer.py\"><span style=\"color: #7f7f7f\">trainer.py</span></a><span style=\"color: #7f7f7f\">:336</span>\n",
       "                    ======================                                                   \n",
       "                    Layer <span style=\"font-weight: bold\">(</span>typ<span style=\"color: #00ff00; font-weight: bold\">e:de</span>pth-idx<span style=\"font-weight: bold\">)</span>                                                   \n",
       "                    Param #                                                                  \n",
       "                    ==========================================================               \n",
       "                    ======================                                                   \n",
       "                    Bert                                                    --               \n",
       "                    ├─EmbeddingLayer: <span style=\"color: #000080; font-weight: bold\">1</span>-<span style=\"color: #000080; font-weight: bold\">1</span>                                   --               \n",
       "                    │    └─Embedding: <span style=\"color: #000080; font-weight: bold\">2</span>-<span style=\"color: #000080; font-weight: bold\">1</span>                                   <span style=\"color: #000080; font-weight: bold\">96</span>               \n",
       "                    │    └─ModuleDict: <span style=\"color: #000080; font-weight: bold\">2</span>-<span style=\"color: #000080; font-weight: bold\">2</span>                                  --               \n",
       "                    │    │    └─Embedding: <span style=\"color: #000080; font-weight: bold\">3</span>-<span style=\"color: #000080; font-weight: bold\">1</span>                                               \n",
       "                    <span style=\"color: #000080; font-weight: bold\">352</span>                                                                      \n",
       "                    │    │    └─Embedding: <span style=\"color: #000080; font-weight: bold\">3</span>-<span style=\"color: #000080; font-weight: bold\">2</span>                                               \n",
       "                    <span style=\"color: #000080; font-weight: bold\">29</span>,<span style=\"color: #000080; font-weight: bold\">248</span>                                                                   \n",
       "                    │    │    └─Embedding: <span style=\"color: #000080; font-weight: bold\">3</span>-<span style=\"color: #000080; font-weight: bold\">3</span>                                               \n",
       "                    <span style=\"color: #000080; font-weight: bold\">49</span>,<span style=\"color: #000080; font-weight: bold\">248</span>                                                                   \n",
       "                    ├─LinearLayer: <span style=\"color: #000080; font-weight: bold\">1</span>-<span style=\"color: #000080; font-weight: bold\">2</span>                                      --               \n",
       "                    │    └─Linear: <span style=\"color: #000080; font-weight: bold\">2</span>-<span style=\"color: #000080; font-weight: bold\">3</span>                                                       \n",
       "                    <span style=\"color: #000080; font-weight: bold\">384</span>                                                                      \n",
       "                    ├─Linear: <span style=\"color: #000080; font-weight: bold\">1</span>-<span style=\"color: #000080; font-weight: bold\">3</span>                                                            \n",
       "                    <span style=\"color: #000080; font-weight: bold\">65</span>,<span style=\"color: #000080; font-weight: bold\">792</span>                                                                   \n",
       "                    ├─BertModel: <span style=\"color: #000080; font-weight: bold\">1</span>-<span style=\"color: #000080; font-weight: bold\">4</span>                                        --               \n",
       "                    │    └─BertEmbeddings: <span style=\"color: #000080; font-weight: bold\">2</span>-<span style=\"color: #000080; font-weight: bold\">4</span>                              --               \n",
       "                    │    │    └─Embedding: <span style=\"color: #000080; font-weight: bold\">3</span>-<span style=\"color: #000080; font-weight: bold\">4</span>                                               \n",
       "                    <span style=\"color: #000080; font-weight: bold\">768</span>                                                                      \n",
       "                    │    │    └─Embedding: <span style=\"color: #000080; font-weight: bold\">3</span>-<span style=\"color: #000080; font-weight: bold\">5</span>                                               \n",
       "                    <span style=\"color: #000080; font-weight: bold\">5</span>,<span style=\"color: #000080; font-weight: bold\">120</span>                                                                    \n",
       "                    │    │    └─Embedding: <span style=\"color: #000080; font-weight: bold\">3</span>-<span style=\"color: #000080; font-weight: bold\">6</span>                                               \n",
       "                    <span style=\"color: #000080; font-weight: bold\">512</span>                                                                      \n",
       "                    │    │    └─LayerNorm: <span style=\"color: #000080; font-weight: bold\">3</span>-<span style=\"color: #000080; font-weight: bold\">7</span>                                               \n",
       "                    <span style=\"color: #000080; font-weight: bold\">512</span>                                                                      \n",
       "                    │    │    └─Dropout: <span style=\"color: #000080; font-weight: bold\">3</span>-<span style=\"color: #000080; font-weight: bold\">8</span>                                --               \n",
       "                    │    └─BertEncoder: <span style=\"color: #000080; font-weight: bold\">2</span>-<span style=\"color: #000080; font-weight: bold\">5</span>                                 --               \n",
       "                    │    │    └─ModuleList: <span style=\"color: #000080; font-weight: bold\">3</span>-<span style=\"color: #000080; font-weight: bold\">9</span>                                              \n",
       "                    <span style=\"color: #000080; font-weight: bold\">22</span>,<span style=\"color: #000080; font-weight: bold\">084</span>,<span style=\"color: #000080; font-weight: bold\">608</span>                                                               \n",
       "                    │    └─BertPooler: <span style=\"color: #000080; font-weight: bold\">2</span>-<span style=\"color: #000080; font-weight: bold\">6</span>                                  --               \n",
       "                    │    │    └─Linear: <span style=\"color: #000080; font-weight: bold\">3</span>-<span style=\"color: #000080; font-weight: bold\">10</span>                                                 \n",
       "                    <span style=\"color: #000080; font-weight: bold\">65</span>,<span style=\"color: #000080; font-weight: bold\">792</span>                                                                   \n",
       "                    │    │    └─Tanh: <span style=\"color: #000080; font-weight: bold\">3</span>-<span style=\"color: #000080; font-weight: bold\">11</span>                                  --               \n",
       "                    ├─Linear: <span style=\"color: #000080; font-weight: bold\">1</span>-<span style=\"color: #000080; font-weight: bold\">5</span>                                                            \n",
       "                    <span style=\"color: #000080; font-weight: bold\">257</span>                                                                      \n",
       "                    ├─Sigmoid: <span style=\"color: #000080; font-weight: bold\">1</span>-<span style=\"color: #000080; font-weight: bold\">6</span>                                          --               \n",
       "                    ==========================================================               \n",
       "                    ======================                                                   \n",
       "                    Total params: <span style=\"color: #000080; font-weight: bold\">22</span>,<span style=\"color: #000080; font-weight: bold\">302</span>,<span style=\"color: #000080; font-weight: bold\">689</span>                                                 \n",
       "                    Trainable params: <span style=\"color: #000080; font-weight: bold\">22</span>,<span style=\"color: #000080; font-weight: bold\">302</span>,<span style=\"color: #000080; font-weight: bold\">689</span>                                             \n",
       "                    Non-trainable params: <span style=\"color: #000080; font-weight: bold\">0</span>                                                  \n",
       "                    ==========================================================               \n",
       "                    ======================                                                   \n",
       "</pre>\n"
      ],
      "text/plain": [
       "<rich.jupyter.JupyterRenderable at 0x7f8ff3ec3b20>"
      ]
     },
     "metadata": {},
     "output_type": "display_data"
    },
    {
     "data": {
      "text/html": [
       "<pre style=\"white-space:pre;overflow-x:auto;line-height:normal;font-family:Menlo,'DejaVu Sans Mono',consolas,'Courier New',monospace\"><span style=\"color: #7fbfbf\">           </span><span style=\"color: #000080\">INFO    </span>                                                            <a href=\"file://../trainer.py\"><span style=\"color: #7f7f7f\">trainer.py</span></a><span style=\"color: #7f7f7f\">:338</span>\n",
       "                    CHECK DATASET                                                            \n",
       "</pre>\n"
      ],
      "text/plain": [
       "<rich.jupyter.JupyterRenderable at 0x7f8ff3f78dc0>"
      ]
     },
     "metadata": {},
     "output_type": "display_data"
    },
    {
     "data": {
      "text/html": [
       "<pre style=\"white-space:pre;overflow-x:auto;line-height:normal;font-family:Menlo,'DejaVu Sans Mono',consolas,'Courier New',monospace\"><span style=\"color: #7fbfbf\">           </span><span style=\"color: #000080\">INFO    </span>                                                            <a href=\"file://../trainer.py\"><span style=\"color: #7f7f7f\">trainer.py</span></a><span style=\"color: #7f7f7f\">:342</span>\n",
       "                    TRAIN EXAMPLES                                                           \n",
       "</pre>\n"
      ],
      "text/plain": [
       "<rich.jupyter.JupyterRenderable at 0x7f8ff3f78370>"
      ]
     },
     "metadata": {},
     "output_type": "display_data"
    },
    {
     "data": {
      "text/html": [
       "<pre style=\"white-space:pre;overflow-x:auto;line-height:normal;font-family:Menlo,'DejaVu Sans Mono',consolas,'Courier New',monospace\"><span style=\"color: #7fbfbf\">           </span><span style=\"color: #000080\">INFO    </span> answerCode : <span style=\"font-weight: bold\">[</span><span style=\"color: #000080; font-weight: bold\">1</span> <span style=\"color: #000080; font-weight: bold\">1</span> <span style=\"color: #000080; font-weight: bold\">1</span> <span style=\"color: #000080; font-weight: bold\">1</span> <span style=\"color: #000080; font-weight: bold\">0</span> <span style=\"color: #000080; font-weight: bold\">0</span> <span style=\"color: #000080; font-weight: bold\">1</span> <span style=\"color: #000080; font-weight: bold\">1</span> <span style=\"color: #000080; font-weight: bold\">1</span> <span style=\"color: #000080; font-weight: bold\">1</span><span style=\"font-weight: bold\">]</span>                         <a href=\"file://../trainer.py\"><span style=\"color: #7f7f7f\">trainer.py</span></a><span style=\"color: #7f7f7f\">:344</span>\n",
       "</pre>\n"
      ],
      "text/plain": [
       "<rich.jupyter.JupyterRenderable at 0x7f8ff3f78880>"
      ]
     },
     "metadata": {},
     "output_type": "display_data"
    },
    {
     "data": {
      "text/html": [
       "<pre style=\"white-space:pre;overflow-x:auto;line-height:normal;font-family:Menlo,'DejaVu Sans Mono',consolas,'Courier New',monospace\"><span style=\"color: #7fbfbf\">           </span><span style=\"color: #000080\">INFO    </span> testPaper : <span style=\"font-weight: bold\">[</span><span style=\"color: #000080; font-weight: bold\">362</span> <span style=\"color: #000080; font-weight: bold\">362</span> <span style=\"color: #000080; font-weight: bold\">362</span> <span style=\"color: #000080; font-weight: bold\">362</span> <span style=\"color: #000080; font-weight: bold\">362</span> <span style=\"color: #000080; font-weight: bold\">362</span> <span style=\"color: #000080; font-weight: bold\">364</span> <span style=\"color: #000080; font-weight: bold\">364</span> <span style=\"color: #000080; font-weight: bold\">364</span> <span style=\"color: #000080; font-weight: bold\">364</span><span style=\"font-weight: bold\">]</span>      <a href=\"file://../trainer.py\"><span style=\"color: #7f7f7f\">trainer.py</span></a><span style=\"color: #7f7f7f\">:344</span>\n",
       "</pre>\n"
      ],
      "text/plain": [
       "<rich.jupyter.JupyterRenderable at 0x7f8ff3f78880>"
      ]
     },
     "metadata": {},
     "output_type": "display_data"
    },
    {
     "data": {
      "text/html": [
       "<pre style=\"white-space:pre;overflow-x:auto;line-height:normal;font-family:Menlo,'DejaVu Sans Mono',consolas,'Courier New',monospace\"><span style=\"color: #7fbfbf\">           </span><span style=\"color: #000080\">INFO    </span> timeSec : <span style=\"font-weight: bold\">[</span><span style=\"color: #000080; font-weight: bold\">1.04754444</span> <span style=\"color: #000080; font-weight: bold\">1.04754573</span> <span style=\"color: #000080; font-weight: bold\">1.04754815</span> <span style=\"color: #000080; font-weight: bold\">1.04755286</span>     <a href=\"file://../trainer.py\"><span style=\"color: #7f7f7f\">trainer.py</span></a><span style=\"color: #7f7f7f\">:344</span>\n",
       "                    <span style=\"color: #000080; font-weight: bold\">1.04755771</span> <span style=\"color: #000080; font-weight: bold\">1.04757212</span>                                                    \n",
       "                     <span style=\"color: #000080; font-weight: bold\">1.12141635</span> <span style=\"color: #000080; font-weight: bold\">1.12142121</span> <span style=\"color: #000080; font-weight: bold\">1.1214282</span>  <span style=\"color: #000080; font-weight: bold\">1.1214339</span> <span style=\"font-weight: bold\">]</span>                            \n",
       "</pre>\n"
      ],
      "text/plain": [
       "<rich.jupyter.JupyterRenderable at 0x7f8ff3f782b0>"
      ]
     },
     "metadata": {},
     "output_type": "display_data"
    },
    {
     "data": {
      "text/html": [
       "<pre style=\"white-space:pre;overflow-x:auto;line-height:normal;font-family:Menlo,'DejaVu Sans Mono',consolas,'Courier New',monospace\"><span style=\"color: #7fbfbf\">           </span><span style=\"color: #000080\">INFO    </span> firstClass : <span style=\"font-weight: bold\">[</span><span style=\"color: #000080; font-weight: bold\">1</span> <span style=\"color: #000080; font-weight: bold\">1</span> <span style=\"color: #000080; font-weight: bold\">1</span> <span style=\"color: #000080; font-weight: bold\">1</span> <span style=\"color: #000080; font-weight: bold\">1</span> <span style=\"color: #000080; font-weight: bold\">1</span> <span style=\"color: #000080; font-weight: bold\">1</span> <span style=\"color: #000080; font-weight: bold\">1</span> <span style=\"color: #000080; font-weight: bold\">1</span> <span style=\"color: #000080; font-weight: bold\">1</span><span style=\"font-weight: bold\">]</span>                         <a href=\"file://../trainer.py\"><span style=\"color: #7f7f7f\">trainer.py</span></a><span style=\"color: #7f7f7f\">:344</span>\n",
       "</pre>\n"
      ],
      "text/plain": [
       "<rich.jupyter.JupyterRenderable at 0x7f8ff3f78340>"
      ]
     },
     "metadata": {},
     "output_type": "display_data"
    },
    {
     "data": {
      "text/html": [
       "<pre style=\"white-space:pre;overflow-x:auto;line-height:normal;font-family:Menlo,'DejaVu Sans Mono',consolas,'Courier New',monospace\"><span style=\"color: #7fbfbf\">           </span><span style=\"color: #000080\">INFO    </span> secondClass : <span style=\"font-weight: bold\">[</span><span style=\"color: #000080; font-weight: bold\">754</span> <span style=\"color: #000080; font-weight: bold\">754</span> <span style=\"color: #000080; font-weight: bold\">754</span> <span style=\"color: #000080; font-weight: bold\">754</span> <span style=\"color: #000080; font-weight: bold\">754</span> <span style=\"color: #000080; font-weight: bold\">754</span> <span style=\"color: #000080; font-weight: bold\">756</span> <span style=\"color: #000080; font-weight: bold\">756</span> <span style=\"color: #000080; font-weight: bold\">756</span> <span style=\"color: #000080; font-weight: bold\">756</span><span style=\"font-weight: bold\">]</span>    <a href=\"file://../trainer.py\"><span style=\"color: #7f7f7f\">trainer.py</span></a><span style=\"color: #7f7f7f\">:344</span>\n",
       "</pre>\n"
      ],
      "text/plain": [
       "<rich.jupyter.JupyterRenderable at 0x7f8ff3f78cd0>"
      ]
     },
     "metadata": {},
     "output_type": "display_data"
    },
    {
     "data": {
      "text/html": [
       "<pre style=\"white-space:pre;overflow-x:auto;line-height:normal;font-family:Menlo,'DejaVu Sans Mono',consolas,'Courier New',monospace\"><span style=\"color: #7fbfbf\">           </span><span style=\"color: #000080\">INFO    </span> correctPer : <span style=\"font-weight: bold\">[</span><span style=\"color: #000080; font-weight: bold\">0.63087248</span> <span style=\"color: #000080; font-weight: bold\">0.63087248</span> <span style=\"color: #000080; font-weight: bold\">0.63087248</span> <span style=\"color: #000080; font-weight: bold\">0.63087248</span>  <a href=\"file://../trainer.py\"><span style=\"color: #7f7f7f\">trainer.py</span></a><span style=\"color: #7f7f7f\">:344</span>\n",
       "                    <span style=\"color: #000080; font-weight: bold\">0.63087248</span> <span style=\"color: #000080; font-weight: bold\">0.63087248</span>                                                    \n",
       "                     <span style=\"color: #000080; font-weight: bold\">0.63087248</span> <span style=\"color: #000080; font-weight: bold\">0.63087248</span> <span style=\"color: #000080; font-weight: bold\">0.63087248</span> <span style=\"color: #000080; font-weight: bold\">0.63087248</span><span style=\"font-weight: bold\">]</span>                            \n",
       "</pre>\n"
      ],
      "text/plain": [
       "<rich.jupyter.JupyterRenderable at 0x7f8ff3f78970>"
      ]
     },
     "metadata": {},
     "output_type": "display_data"
    },
    {
     "data": {
      "text/html": [
       "<pre style=\"white-space:pre;overflow-x:auto;line-height:normal;font-family:Menlo,'DejaVu Sans Mono',consolas,'Courier New',monospace\"><span style=\"color: #7fbfbf\">           </span><span style=\"color: #000080\">INFO    </span>                                                            <a href=\"file://../trainer.py\"><span style=\"color: #7f7f7f\">trainer.py</span></a><span style=\"color: #7f7f7f\">:342</span>\n",
       "                    VALID EXAMPLES                                                           \n",
       "</pre>\n"
      ],
      "text/plain": [
       "<rich.jupyter.JupyterRenderable at 0x7f8ff3f78970>"
      ]
     },
     "metadata": {},
     "output_type": "display_data"
    },
    {
     "data": {
      "text/html": [
       "<pre style=\"white-space:pre;overflow-x:auto;line-height:normal;font-family:Menlo,'DejaVu Sans Mono',consolas,'Courier New',monospace\"><span style=\"color: #7fbfbf\">           </span><span style=\"color: #000080\">INFO    </span> answerCode : <span style=\"font-weight: bold\">[</span><span style=\"color: #000080; font-weight: bold\">1</span> <span style=\"color: #000080; font-weight: bold\">1</span> <span style=\"color: #000080; font-weight: bold\">1</span> <span style=\"color: #000080; font-weight: bold\">1</span> <span style=\"color: #000080; font-weight: bold\">1</span> <span style=\"color: #000080; font-weight: bold\">1</span> <span style=\"color: #000080; font-weight: bold\">1</span> <span style=\"color: #000080; font-weight: bold\">1</span> <span style=\"color: #000080; font-weight: bold\">0</span> <span style=\"color: #000080; font-weight: bold\">0</span><span style=\"font-weight: bold\">]</span>                         <a href=\"file://../trainer.py\"><span style=\"color: #7f7f7f\">trainer.py</span></a><span style=\"color: #7f7f7f\">:344</span>\n",
       "</pre>\n"
      ],
      "text/plain": [
       "<rich.jupyter.JupyterRenderable at 0x7f8ff3f78460>"
      ]
     },
     "metadata": {},
     "output_type": "display_data"
    },
    {
     "data": {
      "text/html": [
       "<pre style=\"white-space:pre;overflow-x:auto;line-height:normal;font-family:Menlo,'DejaVu Sans Mono',consolas,'Courier New',monospace\"><span style=\"color: #7fbfbf\">           </span><span style=\"color: #000080\">INFO    </span> testPaper : <span style=\"font-weight: bold\">[</span><span style=\"color: #000080; font-weight: bold\">683</span> <span style=\"color: #000080; font-weight: bold\">683</span> <span style=\"color: #000080; font-weight: bold\">683</span> <span style=\"color: #000080; font-weight: bold\">683</span> <span style=\"color: #000080; font-weight: bold\">683</span> <span style=\"color: #000080; font-weight: bold\">671</span> <span style=\"color: #000080; font-weight: bold\">671</span> <span style=\"color: #000080; font-weight: bold\">671</span> <span style=\"color: #000080; font-weight: bold\">671</span> <span style=\"color: #000080; font-weight: bold\">671</span><span style=\"font-weight: bold\">]</span>      <a href=\"file://../trainer.py\"><span style=\"color: #7f7f7f\">trainer.py</span></a><span style=\"color: #7f7f7f\">:344</span>\n",
       "</pre>\n"
      ],
      "text/plain": [
       "<rich.jupyter.JupyterRenderable at 0x7f8ff3f782e0>"
      ]
     },
     "metadata": {},
     "output_type": "display_data"
    },
    {
     "data": {
      "text/html": [
       "<pre style=\"white-space:pre;overflow-x:auto;line-height:normal;font-family:Menlo,'DejaVu Sans Mono',consolas,'Courier New',monospace\"><span style=\"color: #7fbfbf\">           </span><span style=\"color: #000080\">INFO    </span> timeSec : <span style=\"font-weight: bold\">[</span><span style=\"color: #000080; font-weight: bold\">-0.11447921</span> <span style=\"color: #000080; font-weight: bold\">-0.11447379</span> <span style=\"color: #000080; font-weight: bold\">-0.11447122</span> <span style=\"color: #000080; font-weight: bold\">-0.11446865</span> <a href=\"file://../trainer.py\"><span style=\"color: #7f7f7f\">trainer.py</span></a><span style=\"color: #7f7f7f\">:344</span>\n",
       "                    <span style=\"color: #000080; font-weight: bold\">-0.11445496</span> <span style=\"color: #000080; font-weight: bold\">-0.05420875</span>                                                  \n",
       "                     <span style=\"color: #000080; font-weight: bold\">-0.05416395</span> <span style=\"color: #000080; font-weight: bold\">-0.05415254</span> <span style=\"color: #000080; font-weight: bold\">-0.05415026</span> <span style=\"color: #000080; font-weight: bold\">-0.05411659</span><span style=\"font-weight: bold\">]</span>                        \n",
       "</pre>\n"
      ],
      "text/plain": [
       "<rich.jupyter.JupyterRenderable at 0x7f8ff3f785b0>"
      ]
     },
     "metadata": {},
     "output_type": "display_data"
    },
    {
     "data": {
      "text/html": [
       "<pre style=\"white-space:pre;overflow-x:auto;line-height:normal;font-family:Menlo,'DejaVu Sans Mono',consolas,'Courier New',monospace\"><span style=\"color: #7fbfbf\">           </span><span style=\"color: #000080\">INFO    </span> firstClass : <span style=\"font-weight: bold\">[</span><span style=\"color: #000080; font-weight: bold\">3</span> <span style=\"color: #000080; font-weight: bold\">3</span> <span style=\"color: #000080; font-weight: bold\">3</span> <span style=\"color: #000080; font-weight: bold\">3</span> <span style=\"color: #000080; font-weight: bold\">3</span> <span style=\"color: #000080; font-weight: bold\">3</span> <span style=\"color: #000080; font-weight: bold\">3</span> <span style=\"color: #000080; font-weight: bold\">3</span> <span style=\"color: #000080; font-weight: bold\">3</span> <span style=\"color: #000080; font-weight: bold\">3</span><span style=\"font-weight: bold\">]</span>                         <a href=\"file://../trainer.py\"><span style=\"color: #7f7f7f\">trainer.py</span></a><span style=\"color: #7f7f7f\">:344</span>\n",
       "</pre>\n"
      ],
      "text/plain": [
       "<rich.jupyter.JupyterRenderable at 0x7f8ff3f789d0>"
      ]
     },
     "metadata": {},
     "output_type": "display_data"
    },
    {
     "data": {
      "text/html": [
       "<pre style=\"white-space:pre;overflow-x:auto;line-height:normal;font-family:Menlo,'DejaVu Sans Mono',consolas,'Courier New',monospace\"><span style=\"color: #7fbfbf\">           </span><span style=\"color: #000080\">INFO    </span> secondClass : <span style=\"font-weight: bold\">[</span><span style=\"color: #000080; font-weight: bold\">202</span> <span style=\"color: #000080; font-weight: bold\">202</span> <span style=\"color: #000080; font-weight: bold\">202</span> <span style=\"color: #000080; font-weight: bold\">202</span> <span style=\"color: #000080; font-weight: bold\">202</span> <span style=\"color: #000080; font-weight: bold\">203</span> <span style=\"color: #000080; font-weight: bold\">203</span> <span style=\"color: #000080; font-weight: bold\">203</span> <span style=\"color: #000080; font-weight: bold\">203</span> <span style=\"color: #000080; font-weight: bold\">203</span><span style=\"font-weight: bold\">]</span>    <a href=\"file://../trainer.py\"><span style=\"color: #7f7f7f\">trainer.py</span></a><span style=\"color: #7f7f7f\">:344</span>\n",
       "</pre>\n"
      ],
      "text/plain": [
       "<rich.jupyter.JupyterRenderable at 0x7f8ff3f78bb0>"
      ]
     },
     "metadata": {},
     "output_type": "display_data"
    },
    {
     "data": {
      "text/html": [
       "<pre style=\"white-space:pre;overflow-x:auto;line-height:normal;font-family:Menlo,'DejaVu Sans Mono',consolas,'Courier New',monospace\"><span style=\"color: #7fbfbf\">           </span><span style=\"color: #000080\">INFO    </span> correctPer : <span style=\"font-weight: bold\">[</span><span style=\"color: #000080; font-weight: bold\">0.85135135</span> <span style=\"color: #000080; font-weight: bold\">0.85135135</span> <span style=\"color: #000080; font-weight: bold\">0.85135135</span> <span style=\"color: #000080; font-weight: bold\">0.85135135</span>  <a href=\"file://../trainer.py\"><span style=\"color: #7f7f7f\">trainer.py</span></a><span style=\"color: #7f7f7f\">:344</span>\n",
       "                    <span style=\"color: #000080; font-weight: bold\">0.85135135</span> <span style=\"color: #000080; font-weight: bold\">0.85135135</span>                                                    \n",
       "                     <span style=\"color: #000080; font-weight: bold\">0.85135135</span> <span style=\"color: #000080; font-weight: bold\">0.85135135</span> <span style=\"color: #000080; font-weight: bold\">0.85135135</span> <span style=\"color: #000080; font-weight: bold\">0.85135135</span><span style=\"font-weight: bold\">]</span>                            \n",
       "</pre>\n"
      ],
      "text/plain": [
       "<rich.jupyter.JupyterRenderable at 0x7f8ff3f78eb0>"
      ]
     },
     "metadata": {},
     "output_type": "display_data"
    },
    {
     "data": {
      "text/html": [
       "<pre style=\"white-space:pre;overflow-x:auto;line-height:normal;font-family:Menlo,'DejaVu Sans Mono',consolas,'Courier New',monospace\"><span style=\"color: #7fbfbf\">           </span><span style=\"color: #000080\">INFO    </span>                                                            <a href=\"file://../trainer.py\"><span style=\"color: #7f7f7f\">trainer.py</span></a><span style=\"color: #7f7f7f\">:342</span>\n",
       "                    TEST EXAMPLES                                                            \n",
       "</pre>\n"
      ],
      "text/plain": [
       "<rich.jupyter.JupyterRenderable at 0x7f8ff3f787f0>"
      ]
     },
     "metadata": {},
     "output_type": "display_data"
    },
    {
     "data": {
      "text/html": [
       "<pre style=\"white-space:pre;overflow-x:auto;line-height:normal;font-family:Menlo,'DejaVu Sans Mono',consolas,'Courier New',monospace\"><span style=\"color: #7fbfbf\">           </span><span style=\"color: #000080\">INFO    </span> answerCode : <span style=\"font-weight: bold\">[</span><span style=\"color: #000080; font-weight: bold\">1</span> <span style=\"color: #000080; font-weight: bold\">1</span> <span style=\"color: #000080; font-weight: bold\">1</span> <span style=\"color: #000080; font-weight: bold\">1</span> <span style=\"color: #000080; font-weight: bold\">1</span> <span style=\"color: #000080; font-weight: bold\">1</span> <span style=\"color: #000080; font-weight: bold\">1</span> <span style=\"color: #000080; font-weight: bold\">1</span> <span style=\"color: #000080; font-weight: bold\">1</span> <span style=\"color: #000080; font-weight: bold\">1</span><span style=\"font-weight: bold\">]</span>                         <a href=\"file://../trainer.py\"><span style=\"color: #7f7f7f\">trainer.py</span></a><span style=\"color: #7f7f7f\">:344</span>\n",
       "</pre>\n"
      ],
      "text/plain": [
       "<rich.jupyter.JupyterRenderable at 0x7f8ff3f78e80>"
      ]
     },
     "metadata": {},
     "output_type": "display_data"
    },
    {
     "data": {
      "text/html": [
       "<pre style=\"white-space:pre;overflow-x:auto;line-height:normal;font-family:Menlo,'DejaVu Sans Mono',consolas,'Courier New',monospace\"><span style=\"color: #7fbfbf\">           </span><span style=\"color: #000080\">INFO    </span> testPaper : <span style=\"font-weight: bold\">[</span><span style=\"color: #000080; font-weight: bold\">218</span> <span style=\"color: #000080; font-weight: bold\">218</span> <span style=\"color: #000080; font-weight: bold\">218</span> <span style=\"color: #000080; font-weight: bold\">218</span> <span style=\"color: #000080; font-weight: bold\">218</span> <span style=\"color: #000080; font-weight: bold\">218</span> <span style=\"color: #000080; font-weight: bold\">219</span> <span style=\"color: #000080; font-weight: bold\">219</span> <span style=\"color: #000080; font-weight: bold\">219</span> <span style=\"color: #000080; font-weight: bold\">219</span><span style=\"font-weight: bold\">]</span>      <a href=\"file://../trainer.py\"><span style=\"color: #7f7f7f\">trainer.py</span></a><span style=\"color: #7f7f7f\">:344</span>\n",
       "</pre>\n"
      ],
      "text/plain": [
       "<rich.jupyter.JupyterRenderable at 0x7f8ff3f78880>"
      ]
     },
     "metadata": {},
     "output_type": "display_data"
    },
    {
     "data": {
      "text/html": [
       "<pre style=\"white-space:pre;overflow-x:auto;line-height:normal;font-family:Menlo,'DejaVu Sans Mono',consolas,'Courier New',monospace\"><span style=\"color: #7fbfbf\">           </span><span style=\"color: #000080\">INFO    </span> timeSec : <span style=\"font-weight: bold\">[</span><span style=\"color: #000080; font-weight: bold\">-2.1944334</span>  <span style=\"color: #000080; font-weight: bold\">-2.19442042</span> <span style=\"color: #000080; font-weight: bold\">-2.19441129</span> <span style=\"color: #000080; font-weight: bold\">-2.19440886</span> <a href=\"file://../trainer.py\"><span style=\"color: #7f7f7f\">trainer.py</span></a><span style=\"color: #7f7f7f\">:344</span>\n",
       "                    <span style=\"color: #000080; font-weight: bold\">-2.19440686</span> <span style=\"color: #000080; font-weight: bold\">-2.19439759</span>                                                  \n",
       "                     <span style=\"color: #000080; font-weight: bold\">-2.18717512</span> <span style=\"color: #000080; font-weight: bold\">-2.18717098</span> <span style=\"color: #000080; font-weight: bold\">-2.18716912</span> <span style=\"color: #000080; font-weight: bold\">-2.18716541</span><span style=\"font-weight: bold\">]</span>                        \n",
       "</pre>\n"
      ],
      "text/plain": [
       "<rich.jupyter.JupyterRenderable at 0x7f8ff3f78850>"
      ]
     },
     "metadata": {},
     "output_type": "display_data"
    },
    {
     "data": {
      "text/html": [
       "<pre style=\"white-space:pre;overflow-x:auto;line-height:normal;font-family:Menlo,'DejaVu Sans Mono',consolas,'Courier New',monospace\"><span style=\"color: #7fbfbf\">           </span><span style=\"color: #000080\">INFO    </span> firstClass : <span style=\"font-weight: bold\">[</span><span style=\"color: #000080; font-weight: bold\">1</span> <span style=\"color: #000080; font-weight: bold\">1</span> <span style=\"color: #000080; font-weight: bold\">1</span> <span style=\"color: #000080; font-weight: bold\">1</span> <span style=\"color: #000080; font-weight: bold\">1</span> <span style=\"color: #000080; font-weight: bold\">1</span> <span style=\"color: #000080; font-weight: bold\">1</span> <span style=\"color: #000080; font-weight: bold\">1</span> <span style=\"color: #000080; font-weight: bold\">1</span> <span style=\"color: #000080; font-weight: bold\">1</span><span style=\"font-weight: bold\">]</span>                         <a href=\"file://../trainer.py\"><span style=\"color: #7f7f7f\">trainer.py</span></a><span style=\"color: #7f7f7f\">:344</span>\n",
       "</pre>\n"
      ],
      "text/plain": [
       "<rich.jupyter.JupyterRenderable at 0x7f8ff3f789a0>"
      ]
     },
     "metadata": {},
     "output_type": "display_data"
    },
    {
     "data": {
      "text/html": [
       "<pre style=\"white-space:pre;overflow-x:auto;line-height:normal;font-family:Menlo,'DejaVu Sans Mono',consolas,'Courier New',monospace\"><span style=\"color: #7fbfbf\">           </span><span style=\"color: #000080\">INFO    </span> secondClass : <span style=\"font-weight: bold\">[</span><span style=\"color: #000080; font-weight: bold\">696</span> <span style=\"color: #000080; font-weight: bold\">696</span> <span style=\"color: #000080; font-weight: bold\">696</span> <span style=\"color: #000080; font-weight: bold\">696</span> <span style=\"color: #000080; font-weight: bold\">696</span> <span style=\"color: #000080; font-weight: bold\">696</span> <span style=\"color: #000080; font-weight: bold\">697</span> <span style=\"color: #000080; font-weight: bold\">697</span> <span style=\"color: #000080; font-weight: bold\">697</span> <span style=\"color: #000080; font-weight: bold\">697</span><span style=\"font-weight: bold\">]</span>    <a href=\"file://../trainer.py\"><span style=\"color: #7f7f7f\">trainer.py</span></a><span style=\"color: #7f7f7f\">:344</span>\n",
       "</pre>\n"
      ],
      "text/plain": [
       "<rich.jupyter.JupyterRenderable at 0x7f8ff3f78910>"
      ]
     },
     "metadata": {},
     "output_type": "display_data"
    },
    {
     "data": {
      "text/html": [
       "<pre style=\"white-space:pre;overflow-x:auto;line-height:normal;font-family:Menlo,'DejaVu Sans Mono',consolas,'Courier New',monospace\"><span style=\"color: #7fbfbf\">           </span><span style=\"color: #000080\">INFO    </span> correctPer : <span style=\"font-weight: bold\">[</span><span style=\"color: #000080; font-weight: bold\">0.69111969</span> <span style=\"color: #000080; font-weight: bold\">0.69111969</span> <span style=\"color: #000080; font-weight: bold\">0.69111969</span> <span style=\"color: #000080; font-weight: bold\">0.69111969</span>  <a href=\"file://../trainer.py\"><span style=\"color: #7f7f7f\">trainer.py</span></a><span style=\"color: #7f7f7f\">:344</span>\n",
       "                    <span style=\"color: #000080; font-weight: bold\">0.69111969</span> <span style=\"color: #000080; font-weight: bold\">0.69111969</span>                                                    \n",
       "                     <span style=\"color: #000080; font-weight: bold\">0.69111969</span> <span style=\"color: #000080; font-weight: bold\">0.69111969</span> <span style=\"color: #000080; font-weight: bold\">0.69111969</span> <span style=\"color: #000080; font-weight: bold\">0.69111969</span><span style=\"font-weight: bold\">]</span>                            \n",
       "</pre>\n"
      ],
      "text/plain": [
       "<rich.jupyter.JupyterRenderable at 0x7f8ff3f789d0>"
      ]
     },
     "metadata": {},
     "output_type": "display_data"
    },
    {
     "data": {
      "text/html": [
       "<pre style=\"white-space:pre;overflow-x:auto;line-height:normal;font-family:Menlo,'DejaVu Sans Mono',consolas,'Courier New',monospace\"><span style=\"color: #7fbfbf\">           </span><span style=\"color: #000080\">INFO    </span>                                                            <a href=\"file://../trainer.py\"><span style=\"color: #7f7f7f\">trainer.py</span></a><span style=\"color: #7f7f7f\">:349</span>\n",
       "                    CHECK BATCH SHAPE                                                        \n",
       "</pre>\n"
      ],
      "text/plain": [
       "<rich.jupyter.JupyterRenderable at 0x7f8ff3f78160>"
      ]
     },
     "metadata": {},
     "output_type": "display_data"
    },
    {
     "data": {
      "text/html": [
       "<pre style=\"white-space:pre;overflow-x:auto;line-height:normal;font-family:Menlo,'DejaVu Sans Mono',consolas,'Courier New',monospace\"><span style=\"color: #7fbfbf\">           </span><span style=\"color: #000080\">INFO    </span>                                                            <a href=\"file://../trainer.py\"><span style=\"color: #7f7f7f\">trainer.py</span></a><span style=\"color: #7f7f7f\">:352</span>\n",
       "                    TRAIN BATCH TYPE : <span style=\"font-weight: bold\">&lt;</span><span style=\"color: #ff00ff; font-weight: bold\">class</span><span style=\"color: #000000\"> </span><span style=\"color: #008000\">'dict'</span><span style=\"font-weight: bold\">&gt;</span>                                        \n",
       "</pre>\n"
      ],
      "text/plain": [
       "<rich.jupyter.JupyterRenderable at 0x7f8ff3f78d00>"
      ]
     },
     "metadata": {},
     "output_type": "display_data"
    },
    {
     "data": {
      "text/html": [
       "<pre style=\"white-space:pre;overflow-x:auto;line-height:normal;font-family:Menlo,'DejaVu Sans Mono',consolas,'Courier New',monospace\"><span style=\"color: #7fbfbf\">           </span><span style=\"color: #000080\">INFO    </span>                                                            <a href=\"file://../trainer.py\"><span style=\"color: #7f7f7f\">trainer.py</span></a><span style=\"color: #7f7f7f\">:353</span>\n",
       "                    TRAIN BATCH LEN : <span style=\"color: #000080; font-weight: bold\">7</span>                                                      \n",
       "</pre>\n"
      ],
      "text/plain": [
       "<rich.jupyter.JupyterRenderable at 0x7f8ff3f782b0>"
      ]
     },
     "metadata": {},
     "output_type": "display_data"
    },
    {
     "data": {
      "text/html": [
       "<pre style=\"white-space:pre;overflow-x:auto;line-height:normal;font-family:Menlo,'DejaVu Sans Mono',consolas,'Courier New',monospace\"><span style=\"color: #7fbfbf\">           </span><span style=\"color: #000080\">INFO    </span>                                                            <a href=\"file://../trainer.py\"><span style=\"color: #7f7f7f\">trainer.py</span></a><span style=\"color: #7f7f7f\">:354</span>\n",
       "                    TRAIN BATCH DICT VALUE SHAPE : torch.Size<span style=\"font-weight: bold\">([</span><span style=\"color: #000080; font-weight: bold\">64</span>, <span style=\"color: #000080; font-weight: bold\">20</span><span style=\"font-weight: bold\">])</span>                      \n",
       "</pre>\n"
      ],
      "text/plain": [
       "<rich.jupyter.JupyterRenderable at 0x7f8ff3f780d0>"
      ]
     },
     "metadata": {},
     "output_type": "display_data"
    },
    {
     "data": {
      "text/html": [
       "<pre style=\"white-space:pre;overflow-x:auto;line-height:normal;font-family:Menlo,'DejaVu Sans Mono',consolas,'Courier New',monospace\"><span style=\"color: #7fbfbf\">           </span><span style=\"color: #000080\">INFO    </span>                                                            <a href=\"file://../trainer.py\"><span style=\"color: #7f7f7f\">trainer.py</span></a><span style=\"color: #7f7f7f\">:352</span>\n",
       "                    TEST BATCH TYPE : <span style=\"font-weight: bold\">&lt;</span><span style=\"color: #ff00ff; font-weight: bold\">class</span><span style=\"color: #000000\"> </span><span style=\"color: #008000\">'dict'</span><span style=\"font-weight: bold\">&gt;</span>                                         \n",
       "</pre>\n"
      ],
      "text/plain": [
       "<rich.jupyter.JupyterRenderable at 0x7f8ff3f78eb0>"
      ]
     },
     "metadata": {},
     "output_type": "display_data"
    },
    {
     "data": {
      "text/html": [
       "<pre style=\"white-space:pre;overflow-x:auto;line-height:normal;font-family:Menlo,'DejaVu Sans Mono',consolas,'Courier New',monospace\"><span style=\"color: #7fbfbf\">           </span><span style=\"color: #000080\">INFO    </span>                                                            <a href=\"file://../trainer.py\"><span style=\"color: #7f7f7f\">trainer.py</span></a><span style=\"color: #7f7f7f\">:353</span>\n",
       "                    TEST BATCH LEN : <span style=\"color: #000080; font-weight: bold\">7</span>                                                       \n",
       "</pre>\n"
      ],
      "text/plain": [
       "<rich.jupyter.JupyterRenderable at 0x7f8ff3f78820>"
      ]
     },
     "metadata": {},
     "output_type": "display_data"
    },
    {
     "data": {
      "text/html": [
       "<pre style=\"white-space:pre;overflow-x:auto;line-height:normal;font-family:Menlo,'DejaVu Sans Mono',consolas,'Courier New',monospace\"><span style=\"color: #7fbfbf\">[04:04:02] </span><span style=\"color: #000080\">INFO    </span>                                                            <a href=\"file://../trainer.py\"><span style=\"color: #7f7f7f\">trainer.py</span></a><span style=\"color: #7f7f7f\">:354</span>\n",
       "                    TEST BATCH DICT VALUE SHAPE : torch.Size<span style=\"font-weight: bold\">([</span><span style=\"color: #000080; font-weight: bold\">64</span>, <span style=\"color: #000080; font-weight: bold\">20</span><span style=\"font-weight: bold\">])</span>                       \n",
       "</pre>\n"
      ],
      "text/plain": [
       "<rich.jupyter.JupyterRenderable at 0x7f8ff3f78a90>"
      ]
     },
     "metadata": {},
     "output_type": "display_data"
    },
    {
     "data": {
      "text/html": [
       "<pre style=\"white-space:pre;overflow-x:auto;line-height:normal;font-family:Menlo,'DejaVu Sans Mono',consolas,'Courier New',monospace\"><span style=\"color: #7fbfbf\">           </span><span style=\"color: #000080\">INFO    </span>                                                            <a href=\"file://../trainer.py\"><span style=\"color: #7f7f7f\">trainer.py</span></a><span style=\"color: #7f7f7f\">:352</span>\n",
       "                    VALID BATCH TYPE : <span style=\"font-weight: bold\">&lt;</span><span style=\"color: #ff00ff; font-weight: bold\">class</span><span style=\"color: #000000\"> </span><span style=\"color: #008000\">'dict'</span><span style=\"font-weight: bold\">&gt;</span>                                        \n",
       "</pre>\n"
      ],
      "text/plain": [
       "<rich.jupyter.JupyterRenderable at 0x7f8ff3ec1370>"
      ]
     },
     "metadata": {},
     "output_type": "display_data"
    },
    {
     "data": {
      "text/html": [
       "<pre style=\"white-space:pre;overflow-x:auto;line-height:normal;font-family:Menlo,'DejaVu Sans Mono',consolas,'Courier New',monospace\"><span style=\"color: #7fbfbf\">           </span><span style=\"color: #000080\">INFO    </span>                                                            <a href=\"file://../trainer.py\"><span style=\"color: #7f7f7f\">trainer.py</span></a><span style=\"color: #7f7f7f\">:353</span>\n",
       "                    VALID BATCH LEN : <span style=\"color: #000080; font-weight: bold\">7</span>                                                      \n",
       "</pre>\n"
      ],
      "text/plain": [
       "<rich.jupyter.JupyterRenderable at 0x7f8ff3f78f10>"
      ]
     },
     "metadata": {},
     "output_type": "display_data"
    },
    {
     "data": {
      "text/html": [
       "<pre style=\"white-space:pre;overflow-x:auto;line-height:normal;font-family:Menlo,'DejaVu Sans Mono',consolas,'Courier New',monospace\"><span style=\"color: #7fbfbf\">           </span><span style=\"color: #000080\">INFO    </span>                                                            <a href=\"file://../trainer.py\"><span style=\"color: #7f7f7f\">trainer.py</span></a><span style=\"color: #7f7f7f\">:354</span>\n",
       "                    VALID BATCH DICT VALUE SHAPE : torch.Size<span style=\"font-weight: bold\">([</span><span style=\"color: #000080; font-weight: bold\">64</span>, <span style=\"color: #000080; font-weight: bold\">20</span><span style=\"font-weight: bold\">])</span>                      \n",
       "</pre>\n"
      ],
      "text/plain": [
       "<rich.jupyter.JupyterRenderable at 0x7f8ff3f784c0>"
      ]
     },
     "metadata": {},
     "output_type": "display_data"
    },
    {
     "data": {
      "text/html": [
       "<pre style=\"white-space:pre;overflow-x:auto;line-height:normal;font-family:Menlo,'DejaVu Sans Mono',consolas,'Courier New',monospace\"><span style=\"color: #7fbfbf\">           </span><span style=\"color: #000080\">INFO    </span>                                                            <a href=\"file://../trainer.py\"><span style=\"color: #7f7f7f\">trainer.py</span></a><span style=\"color: #7f7f7f\">:356</span>\n",
       "                    CHECK MODEL FORWARD                                                      \n",
       "</pre>\n"
      ],
      "text/plain": [
       "<rich.jupyter.JupyterRenderable at 0x7f8ff3f784c0>"
      ]
     },
     "metadata": {},
     "output_type": "display_data"
    },
    {
     "data": {
      "text/html": [
       "<pre style=\"white-space:pre;overflow-x:auto;line-height:normal;font-family:Menlo,'DejaVu Sans Mono',consolas,'Courier New',monospace\"><span style=\"color: #7fbfbf\">           </span><span style=\"color: #000080\">INFO    </span>                                                            <a href=\"file://../trainer.py\"><span style=\"color: #7f7f7f\">trainer.py</span></a><span style=\"color: #7f7f7f\">:361</span>\n",
       "                    PREDS SHAPE: torch.Size<span style=\"font-weight: bold\">([</span><span style=\"color: #000080; font-weight: bold\">64</span>, <span style=\"color: #000080; font-weight: bold\">20</span><span style=\"font-weight: bold\">])</span>                                        \n",
       "</pre>\n"
      ],
      "text/plain": [
       "<rich.jupyter.JupyterRenderable at 0x7f8ff3f78f10>"
      ]
     },
     "metadata": {},
     "output_type": "display_data"
    },
    {
     "data": {
      "text/html": [
       "<pre style=\"white-space:pre;overflow-x:auto;line-height:normal;font-family:Menlo,'DejaVu Sans Mono',consolas,'Courier New',monospace\"><span style=\"color: #7fbfbf\">           </span><span style=\"color: #000080\">INFO    </span>                                                            <a href=\"file://../trainer.py\"><span style=\"color: #7f7f7f\">trainer.py</span></a><span style=\"color: #7f7f7f\">:362</span>\n",
       "                    PREDS EXAMPLES: tensor<span style=\"font-weight: bold\">([</span><span style=\"color: #000080; font-weight: bold\">0.2787</span>, <span style=\"color: #000080; font-weight: bold\">0.4336</span>, <span style=\"color: #000080; font-weight: bold\">0.3655</span>, <span style=\"color: #000080; font-weight: bold\">0.3768</span>,                  \n",
       "                    <span style=\"color: #000080; font-weight: bold\">0.4207</span>, <span style=\"color: #000080; font-weight: bold\">0.5880</span>, <span style=\"color: #000080; font-weight: bold\">0.5942</span>, <span style=\"color: #000080; font-weight: bold\">0.5300</span>, <span style=\"color: #000080; font-weight: bold\">0.4702</span>,                                  \n",
       "                            <span style=\"color: #000080; font-weight: bold\">0.5689</span>, <span style=\"color: #000080; font-weight: bold\">0.4833</span>, <span style=\"color: #000080; font-weight: bold\">0.4219</span>, <span style=\"color: #000080; font-weight: bold\">0.3339</span>, <span style=\"color: #000080; font-weight: bold\">0.3315</span>, <span style=\"color: #000080; font-weight: bold\">0.3726</span>,                  \n",
       "                    <span style=\"color: #000080; font-weight: bold\">0.3814</span>, <span style=\"color: #000080; font-weight: bold\">0.4013</span>, <span style=\"color: #000080; font-weight: bold\">0.3564</span>,                                                  \n",
       "                            <span style=\"color: #000080; font-weight: bold\">0.3964</span>, <span style=\"color: #000080; font-weight: bold\">0.4052</span><span style=\"font-weight: bold\">]</span>, <span style=\"color: #808000\">device</span>=<span style=\"color: #008000\">'cuda:0'</span>,                                \n",
       "                    <span style=\"color: #808000\">grad_fn</span>=<span style=\"font-weight: bold\">&lt;</span><span style=\"color: #ff00ff; font-weight: bold\">SelectBackward</span><span style=\"font-weight: bold\">&gt;)</span>                                                \n",
       "</pre>\n"
      ],
      "text/plain": [
       "<rich.jupyter.JupyterRenderable at 0x7f8ff3f78850>"
      ]
     },
     "metadata": {},
     "output_type": "display_data"
    },
    {
     "data": {
      "text/html": [
       "<pre style=\"white-space:pre;overflow-x:auto;line-height:normal;font-family:Menlo,'DejaVu Sans Mono',consolas,'Courier New',monospace\"><span style=\"color: #7fbfbf\">           </span><span style=\"color: #000080\">INFO    </span>                                                            <a href=\"file://../trainer.py\"><span style=\"color: #7f7f7f\">trainer.py</span></a><span style=\"color: #7f7f7f\">:364</span>\n",
       "                    CHECK METRICS                                                            \n",
       "</pre>\n"
      ],
      "text/plain": [
       "<rich.jupyter.JupyterRenderable at 0x7f8ff3f78ac0>"
      ]
     },
     "metadata": {},
     "output_type": "display_data"
    },
    {
     "data": {
      "text/html": [
       "<pre style=\"white-space:pre;overflow-x:auto;line-height:normal;font-family:Menlo,'DejaVu Sans Mono',consolas,'Courier New',monospace\"><span style=\"color: #7fbfbf\">           </span><span style=\"color: #000080\">INFO    </span>                                                            <a href=\"file://../trainer.py\"><span style=\"color: #7f7f7f\">trainer.py</span></a><span style=\"color: #7f7f7f\">:370</span>\n",
       "                    LOSS : <span style=\"color: #000080; font-weight: bold\">0.7778999209403992</span>                                                \n",
       "</pre>\n"
      ],
      "text/plain": [
       "<rich.jupyter.JupyterRenderable at 0x7f8ff3f78a90>"
      ]
     },
     "metadata": {},
     "output_type": "display_data"
    },
    {
     "data": {
      "text/html": [
       "<pre style=\"white-space:pre;overflow-x:auto;line-height:normal;font-family:Menlo,'DejaVu Sans Mono',consolas,'Courier New',monospace\"><span style=\"color: #7fbfbf\">           </span><span style=\"color: #000080\">INFO    </span> AUC: <span style=\"color: #000080; font-weight: bold\">0.4738461538461538</span> ACC: <span style=\"color: #000080; font-weight: bold\">0.5</span>                           <a href=\"file://../trainer.py\"><span style=\"color: #7f7f7f\">trainer.py</span></a><span style=\"color: #7f7f7f\">:373</span>\n",
       "</pre>\n"
      ],
      "text/plain": [
       "<rich.jupyter.JupyterRenderable at 0x7f8ff3f78ac0>"
      ]
     },
     "metadata": {},
     "output_type": "display_data"
    }
   ],
   "source": [
    "trainer.debug(train_data, valid_data, test_data)"
   ]
  },
  {
   "cell_type": "code",
   "execution_count": 39,
   "metadata": {},
   "outputs": [
    {
     "name": "stdout",
     "output_type": "stream",
     "text": [
      "auc : 0.760216754306576 acc : 0.6949152542372882\n",
      "logging path: ../bert_test/LOG_[06.11_04:04]\n"
     ]
    }
   ],
   "source": [
    "auc, acc = trainer.run(train_data, valid_data, test_data)\n",
    "clear_output()\n",
    "print(f\"auc : {auc} acc : {acc}\")\n",
    "print(f\"logging path: {trainer.prefix_save_path}\")"
   ]
  }
 ],
 "metadata": {
  "kernelspec": {
   "display_name": "baseline_code",
   "language": "python",
   "name": "baseline_code"
  },
  "language_info": {
   "codemirror_mode": {
    "name": "ipython",
    "version": 3
   },
   "file_extension": ".py",
   "mimetype": "text/x-python",
   "name": "python",
   "nbconvert_exporter": "python",
   "pygments_lexer": "ipython3",
   "version": "3.8.8"
  }
 },
 "nbformat": 4,
 "nbformat_minor": 4
}
