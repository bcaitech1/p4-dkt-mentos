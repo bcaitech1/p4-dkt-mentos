{
 "cells": [
  {
   "cell_type": "code",
   "execution_count": 1,
   "metadata": {},
   "outputs": [],
   "source": [
    "import sys\n",
    "sys.path.append(\"/home/j-gunmo/desktop/00.my-project/17.P-Stage-T1003/4-STAGE/\")\n",
    "\n",
    "from fe.feature import FEBase\n",
    "\n",
    "from fe.agg import (\n",
    "    MakeCorrectCount, \n",
    "    MakeCorrectPercent, \n",
    "    MakeQuestionCount, \n",
    "    MakeTopNCorrectPercent\n",
    ")\n",
    "\n",
    "from fe.seq import (\n",
    "    SplitAssessmentItemID,\n",
    "    MakeFirstClass,\n",
    "    MakeSecondClass,\n",
    "    MakeTimeDiff,\n",
    "    MakeYMD,\n",
    "    ConvertTime\n",
    ")\n",
    "\n",
    "from dkt_dataset import Preprocess\n",
    "from utils import get_args, get_root_dir\n",
    "from fe.feature import FEPipeline\n",
    "import easydict\n",
    "from IPython.display import clear_output"
   ]
  },
  {
   "cell_type": "code",
   "execution_count": 2,
   "metadata": {},
   "outputs": [],
   "source": [
    "args = get_args()\n",
    "args.data_dir = \"../../input/data/train_dataset/\""
   ]
  },
  {
   "cell_type": "code",
   "execution_count": 3,
   "metadata": {},
   "outputs": [],
   "source": [
    "args.root_dir = get_root_dir(\"../feature_test/\")"
   ]
  },
  {
   "cell_type": "markdown",
   "metadata": {},
   "source": [
    "# Prepare"
   ]
  },
  {
   "cell_type": "code",
   "execution_count": 5,
   "metadata": {},
   "outputs": [],
   "source": [
    "args.num_workers = 2\n",
    "args.n_epochs = 10\n",
    "args.hidden_dim = 512\n",
    "args.use_dynamic = True"
   ]
  },
  {
   "cell_type": "code",
   "execution_count": 6,
   "metadata": {},
   "outputs": [],
   "source": [
    "import torch\n",
    "from models.lstm.model import LSTM\n",
    "from trainer import DKTTrainer\n",
    "\n",
    "class FeatureTestTrainer(DKTTrainer):\n",
    "    def _process_batch(self, batch):\n",
    "        batch['mask'] = batch['mask'].type(torch.FloatTensor)\n",
    "        batch[\"answerCode\"] = batch[\"answerCode\"].type(torch.FloatTensor)\n",
    "\n",
    "        batch[\"interaction\"] = batch[\"answerCode\"] + 1\n",
    "        batch[\"interaction\"] = batch[\"interaction\"].roll(shifts=1, dims=1)\n",
    "        batch[\"mask\"] = batch[\"mask\"].roll(shifts=1, dims=1)\n",
    "        batch[\"mask\"][:, 0] = 0\n",
    "        batch[\"interaction\"] = (batch[\"interaction\"] * batch[\"mask\"]).to(torch.int64)\n",
    "        \n",
    "        for k in args.n_linears: # 수치형\n",
    "            batch[k] = batch[k].type(torch.FloatTensor)\n",
    "            \n",
    "        for k, v in args.n_embeddings.items(): # 범주형\n",
    "            batch[k] = batch[k].to(torch.int64)\n",
    "            \n",
    "        for k in batch.keys():\n",
    "            batch[k] = batch[k].to(self.args.device)\n",
    "        \n",
    "        return batch"
   ]
  },
  {
   "cell_type": "code",
   "execution_count": 7,
   "metadata": {},
   "outputs": [],
   "source": [
    "def test_pipeline(args, feature=[], column_name=[], pre_enc=dict()):\n",
    "    fe_list = [\n",
    "        SplitAssessmentItemID,\n",
    "        ConvertTime,\n",
    "        MakeFirstClass,\n",
    "        MakeSecondClass,\n",
    "        MakeCorrectCount,\n",
    "        MakeQuestionCount,\n",
    "        MakeCorrectPercent\n",
    "    ] + feature\n",
    "    \n",
    "    fe_pipeline = FEPipeline(\n",
    "        args, fe_list\n",
    "    )\n",
    "    \n",
    "    columns = [\n",
    "        \"userID\",\n",
    "        \"answerCode\",\n",
    "        \"testPaper\",\n",
    "        \"timeSec\",\n",
    "        \"firstClass\",\n",
    "        \"secondClass\",\n",
    "        \"correctPer\"\n",
    "    ] + column_name\n",
    "    \n",
    "    pre_encoders = {\n",
    "        \"label\": [\"testPaper\", \"firstClass\", \"secondClass\"],\n",
    "        \"min_max\": [\"correctPer\"],\n",
    "        \"std\": [\"timeSec\"],\n",
    "    }\n",
    "    \n",
    "    for k in pre_enc.keys():\n",
    "        pre_encoders[k] += pre_enc[k]\n",
    "\n",
    "    preprocess = Preprocess(args, fe_pipeline, columns)\n",
    "\n",
    "    preprocess.feature_engineering()\n",
    "    preprocess.split_data()\n",
    "    preprocess.preprocessing(pre_encoders)\n",
    "    preprocess.data_augmentation(choices=[1, 3])\n",
    "\n",
    "    train_dataset = preprocess.get_data(\"train_grouped\")\n",
    "    valid_dataset = preprocess.get_data(\"valid_grouped\")\n",
    "    test_dataset = preprocess.get_data(\"test_grouped\")\n",
    "\n",
    "    args.columns = columns[1:]\n",
    "    \n",
    "    trainer = FeatureTestTrainer(args, LSTM)\n",
    "    return trainer, train_dataset, valid_dataset, test_dataset, preprocess\n",
    "\n",
    "def log_notebook_fold5(trainer, train_data, valid_data, test_data):\n",
    "    auc, acc = trainer.run_cv(train_data, valid_data, test_data, \n",
    "                              folds=5, seeds=[0, 1, 2, 3, 4])\n",
    "    clear_output()\n",
    "    print(f\"auc: {auc}, acc: {acc}\")"
   ]
  },
  {
   "cell_type": "markdown",
   "metadata": {},
   "source": [
    "# Base Feature CV Score\n",
    "- testPaper : 시험지 번호\n",
    "- firstClass : 대분류 ( 1 ~ 9 )\n",
    "- secondClass : 중분류 ( KnowledgeTag )\n",
    "- correctPer : 전체 문항에 대한 정답률\n",
    "- timeSec : 사용자가 문제를 푼 시간 정보입니다."
   ]
  },
  {
   "cell_type": "markdown",
   "metadata": {},
   "source": [
    "# Dynamic DKTDataset Test\n",
    "\n",
    "- SequenceFeature 영향을 받으려면 마지막 Sequence말고 중간 Sequence도 뽑아야 할 것 같아서.."
   ]
  },
  {
   "cell_type": "markdown",
   "metadata": {},
   "source": [
    "## Dynamic 적용 전"
   ]
  },
  {
   "cell_type": "code",
   "execution_count": 11,
   "metadata": {},
   "outputs": [
    {
     "name": "stdout",
     "output_type": "stream",
     "text": [
      "auc: 0.7605497004766788, acc: 0.6969604863221884\n"
     ]
    }
   ],
   "source": [
    "trainer, train_data, valid_data, test_data, preprocess = test_pipeline(args)\n",
    "log_notebook_fold5(trainer, train_data, valid_data, test_data)"
   ]
  },
  {
   "cell_type": "markdown",
   "metadata": {},
   "source": [
    "## Dynamic 적용 후"
   ]
  },
  {
   "cell_type": "code",
   "execution_count": 8,
   "metadata": {},
   "outputs": [
    {
     "data": {
      "text/plain": [
       "True"
      ]
     },
     "execution_count": 8,
     "metadata": {},
     "output_type": "execute_result"
    }
   ],
   "source": [
    "args.use_dynamic"
   ]
  },
  {
   "cell_type": "code",
   "execution_count": 9,
   "metadata": {},
   "outputs": [
    {
     "name": "stdout",
     "output_type": "stream",
     "text": [
      "auc: 0.7672647713883387, acc: 0.7218844984802433\n"
     ]
    }
   ],
   "source": [
    "trainer, train_data, valid_data, test_data, preprocess = test_pipeline(args)\n",
    "log_notebook_fold5(trainer, train_data, valid_data, test_data)"
   ]
  },
  {
   "cell_type": "markdown",
   "metadata": {},
   "source": [
    "# Seed Test\n",
    "\n",
    "3번의 결과값이 같게 나오는지를 봐서 시드 고정을 체크한다."
   ]
  },
  {
   "cell_type": "markdown",
   "metadata": {},
   "source": [
    "## Dynamic 적용 전"
   ]
  },
  {
   "cell_type": "code",
   "execution_count": 52,
   "metadata": {},
   "outputs": [
    {
     "name": "stdout",
     "output_type": "stream",
     "text": [
      "auc: 0.7662840384422888, acc: 0.7018743667679839\n"
     ]
    }
   ],
   "source": [
    "trainer, train_data, valid_data, test_data, preprocess = test_pipeline(args)\n",
    "log_notebook_fold5(trainer, train_data, valid_data, test_data)"
   ]
  },
  {
   "cell_type": "code",
   "execution_count": 53,
   "metadata": {},
   "outputs": [
    {
     "name": "stdout",
     "output_type": "stream",
     "text": [
      "auc: 0.7662840384422888, acc: 0.7018743667679839\n"
     ]
    }
   ],
   "source": [
    "trainer, train_data, valid_data, test_data, preprocess = test_pipeline(args)\n",
    "log_notebook_fold5(trainer, train_data, valid_data, test_data)"
   ]
  },
  {
   "cell_type": "code",
   "execution_count": 54,
   "metadata": {},
   "outputs": [
    {
     "name": "stdout",
     "output_type": "stream",
     "text": [
      "auc: 0.7662840384422888, acc: 0.7018743667679839\n"
     ]
    }
   ],
   "source": [
    "trainer, train_data, valid_data, test_data, preprocess = test_pipeline(args)\n",
    "log_notebook_fold5(trainer, train_data, valid_data, test_data)"
   ]
  },
  {
   "cell_type": "code",
   "execution_count": 27,
   "metadata": {},
   "outputs": [],
   "source": [
    "import os.path as p\n",
    "import pandas as pd\n",
    "from fe.seq import SeqFeBase\n",
    "from fe.agg import AggFeBase\n",
    "import seaborn as sns\n",
    "import matplotlib.pyplot as plt\n",
    "\n",
    "train_dataset = pd.read_csv(p.join(args.data_dir, \"train_data.csv\"))"
   ]
  },
  {
   "cell_type": "markdown",
   "metadata": {},
   "source": [
    "## TimeDiff\n",
    "\n",
    "사용자가 한 문제를 푸는데 걸린 시간"
   ]
  },
  {
   "cell_type": "code",
   "execution_count": 16,
   "metadata": {},
   "outputs": [],
   "source": [
    "class MakeTimeDiff(SeqFeBase):\n",
    "    name = \"make_time_diff\"\n",
    "    description = {\"timeDiff\": \"사용자가 한 문제를 푸는데 걸린 시간입니다.\"}\n",
    "    pre_fe = {\"split_assessmentitem_id\", \"convert_time\"}\n",
    "    \n",
    "    @classmethod\n",
    "    def _transform(cls, df):\n",
    "        new_df = pd.DataFrame()\n",
    "        new_df['timeDiff'] = df.groupby([\"userID\", \"testPaper\"]).timeSec.apply(lambda x: x - x.shift(1))\n",
    "        \n",
    "        new_df.fillna(0, inplace=True)\n",
    "        new_df['timeDiff'] = new_df['timeDiff'].apply(lambda x: x if x < 300 else 300)  # quantile: 0.95\n",
    "        \n",
    "        return new_df"
   ]
  },
  {
   "cell_type": "markdown",
   "metadata": {},
   "source": [
    "### Dynamic 적용 전"
   ]
  },
  {
   "cell_type": "code",
   "execution_count": 50,
   "metadata": {},
   "outputs": [
    {
     "name": "stdout",
     "output_type": "stream",
     "text": [
      "auc: 0.7660024559671778, acc: 0.701418439716312\n"
     ]
    }
   ],
   "source": [
    "fe = [MakeTimeDiff]\n",
    "cn = [\"timeDiff\"]\n",
    "pre_e = {\n",
    "    \"min_max\" : [\"timeDiff\"]\n",
    "}\n",
    "\n",
    "trainer, train_data, valid_data, test_data, preprocess = test_pipeline(args, fe, cn, pre_e)\n",
    "log_notebook_fold5(trainer, train_data, valid_data, test_data)"
   ]
  },
  {
   "cell_type": "code",
   "execution_count": 51,
   "metadata": {},
   "outputs": [
    {
     "name": "stdout",
     "output_type": "stream",
     "text": [
      "auc: 0.7655200424923057, acc: 0.7010131712259371\n"
     ]
    }
   ],
   "source": [
    "fe = [MakeTimeDiff]\n",
    "cn = [\"timeDiff\"]\n",
    "pre_e = {\n",
    "    \"std\" : [\"timeDiff\"]\n",
    "}\n",
    "\n",
    "trainer, train_data, valid_data, test_data, preprocess = test_pipeline(args, fe, cn, pre_e)\n",
    "log_notebook_fold5(trainer, train_data, valid_data, test_data)"
   ]
  },
  {
   "cell_type": "markdown",
   "metadata": {},
   "source": [
    "### Dynamic 적용 후"
   ]
  },
  {
   "cell_type": "code",
   "execution_count": 17,
   "metadata": {},
   "outputs": [
    {
     "name": "stdout",
     "output_type": "stream",
     "text": [
      "auc: 0.7664147896223488, acc: 0.7211246200607903\n"
     ]
    }
   ],
   "source": [
    "fe = [MakeTimeDiff]\n",
    "cn = [\"timeDiff\"]\n",
    "pre_e = {\n",
    "    \"min_max\" : [\"timeDiff\"]\n",
    "}\n",
    "\n",
    "trainer, train_data, valid_data, test_data, preprocess = test_pipeline(args, fe, cn, pre_e)\n",
    "log_notebook_fold5(trainer, train_data, valid_data, test_data)"
   ]
  },
  {
   "cell_type": "code",
   "execution_count": 18,
   "metadata": {
    "collapsed": true,
    "jupyter": {
     "outputs_hidden": true
    }
   },
   "outputs": [
    {
     "name": "stdout",
     "output_type": "stream",
     "text": [
      "auc: 0.7662378434954933, acc: 0.7218338399189463\n"
     ]
    }
   ],
   "source": [
    "fe = [MakeTimeDiff]\n",
    "cn = [\"timeDiff\"]\n",
    "pre_e = {\n",
    "    \"std\" : [\"timeDiff\"]\n",
    "}\n",
    "\n",
    "trainer, train_data, valid_data, test_data, preprocess = test_pipeline(args, fe, cn, pre_e)\n",
    "log_notebook_fold5(trainer, train_data, valid_data, test_data)"
   ]
  },
  {
   "cell_type": "markdown",
   "metadata": {},
   "source": [
    "## UserCurNAccuracy\n",
    "\n",
    "사용자가 최근 푼 N개의 정답률"
   ]
  },
  {
   "cell_type": "code",
   "execution_count": 72,
   "metadata": {},
   "outputs": [],
   "source": [
    "class MakeUserCurAccuracy(SeqFeBase):\n",
    "    name = \"make_user_cur_accuracy\"\n",
    "    description = {\n",
    "        \"userCur10Accuracy\": \"사용자의 최근 푼 10개 문항의 정답률을 나타냅니다.\",\n",
    "        \"userCur20Accuracy\": \"사용자의 최근 푼 20개 문항의 정답률을 나타냅니다.\",\n",
    "        \"userCur30Accuracy\": \"사용자의 최근 푼 30개 문항의 정답률을 나타냅니다.\",\n",
    "        \"userCur40Accuracy\": \"사용자의 최근 푼 40개 문항의 정답률을 나타냅니다.\"\n",
    "    }\n",
    "    \n",
    "    @classmethod\n",
    "    def _transform(cls, df):\n",
    "        new_df = pd.DataFrame()\n",
    "        new_df['userCur10Accuracy'] = df['answerCode'].rolling(window=10, min_periods=1).mean()\n",
    "        new_df['userCur20Accuracy'] = df['answerCode'].rolling(window=20, min_periods=1).mean()\n",
    "        new_df['userCur30Accuracy'] = df['answerCode'].rolling(window=30, min_periods=1).mean()\n",
    "        new_df['userCur40Accuracy'] = df['answerCode'].rolling(window=40, min_periods=1).mean()\n",
    "        return new_df"
   ]
  },
  {
   "cell_type": "code",
   "execution_count": 73,
   "metadata": {},
   "outputs": [
    {
     "name": "stdout",
     "output_type": "stream",
     "text": [
      "auc: 0.7675818746349291, acc: 0.7017223910840933\n"
     ]
    }
   ],
   "source": [
    "fe = [MakeUserCurAccuracy]\n",
    "cn = [\"userCur10Accuracy\"]\n",
    "pre_e = {\n",
    "    \"min_max\" : [\"userCur10Accuracy\"]\n",
    "}\n",
    "\n",
    "trainer, train_data, valid_data, test_data, preprocess = test_pipeline(args, fe, cn, pre_e)\n",
    "log_notebook_fold5(trainer, train_data, valid_data, test_data)"
   ]
  },
  {
   "cell_type": "code",
   "execution_count": 74,
   "metadata": {},
   "outputs": [
    {
     "name": "stdout",
     "output_type": "stream",
     "text": [
      "auc: 0.7666365511513533, acc: 0.7015704154002027\n"
     ]
    }
   ],
   "source": [
    "fe = [MakeUserCurAccuracy]\n",
    "cn = [\"userCur20Accuracy\"]\n",
    "pre_e = {\n",
    "    \"min_max\" : [\"userCur20Accuracy\"]\n",
    "}\n",
    "\n",
    "trainer, train_data, valid_data, test_data, preprocess = test_pipeline(args, fe, cn, pre_e)\n",
    "log_notebook_fold5(trainer, train_data, valid_data, test_data)"
   ]
  },
  {
   "cell_type": "code",
   "execution_count": 75,
   "metadata": {},
   "outputs": [
    {
     "name": "stdout",
     "output_type": "stream",
     "text": [
      "auc: 0.7665253725938547, acc: 0.7023809523809523\n"
     ]
    }
   ],
   "source": [
    "fe = [MakeUserCurAccuracy]\n",
    "cn = [\"userCur30Accuracy\"]\n",
    "pre_e = {\n",
    "    \"min_max\" : [\"userCur30Accuracy\"]\n",
    "}\n",
    "\n",
    "trainer, train_data, valid_data, test_data, preprocess = test_pipeline(args, fe, cn, pre_e)\n",
    "log_notebook_fold5(trainer, train_data, valid_data, test_data)"
   ]
  },
  {
   "cell_type": "code",
   "execution_count": 76,
   "metadata": {},
   "outputs": [
    {
     "name": "stdout",
     "output_type": "stream",
     "text": [
      "auc: 0.7665131375039842, acc: 0.7034447821681864\n"
     ]
    }
   ],
   "source": [
    "fe = [MakeUserCurAccuracy]\n",
    "cn = [\"userCur40Accuracy\"]\n",
    "pre_e = {\n",
    "    \"min_max\" : [\"userCur40Accuracy\"]\n",
    "}\n",
    "\n",
    "trainer, train_data, valid_data, test_data, preprocess = test_pipeline(args, fe, cn, pre_e)\n",
    "log_notebook_fold5(trainer, train_data, valid_data, test_data)"
   ]
  },
  {
   "cell_type": "markdown",
   "metadata": {},
   "source": [
    "## TODOLIST\n",
    "\n",
    "- [x] 문제별 난이도 특성 추가\n",
    "- 지금까지 풀어온 대분류별 정답률 특성 추가 ( 현재 문제 대분류의 정답률로만...! )\n",
    "    - 대분류가 9라면 지금까지 풀어온 9라는 대분류의 정답률 추가\n",
    "    - 만약 지금까지 정보가 없다면 현재까지의 정답률, 또는 0.5의 값\n",
    "    - 대분류 특성은 이미 있으므로 패스\n",
    "- 각 문제 종류별로 이전에 몇번 풀었는지\n",
    "- 태그 간에 규칙이 있는지 체크해보기...\n",
    "    - 이전에 시험지에 등장하는 최대 태그가 한 3개가 있다고 그랬던 것 같은데\n",
    "    - Matrix 만들어볼까...? 시험지하고 태그, 대분류하고 태그..?"
   ]
  },
  {
   "cell_type": "markdown",
   "metadata": {},
   "source": [
    "## 문제별 난이도 특성\n",
    "\n",
    "문제의 전체 정답률(난이도)을 나타냅니다."
   ]
  },
  {
   "cell_type": "code",
   "execution_count": 135,
   "metadata": {},
   "outputs": [],
   "source": [
    "class MakeDifficultyByAssessmentItem(AggFeBase):\n",
    "    name = \"make_difficulty_by_assessmentitem_id\"\n",
    "    description = {\n",
    "        \"problemDifficulty\" : \"문제의 전체 정답률(난이도)을 나타냅니다.\"\n",
    "    }\n",
    "    agg_column = [\"assessmentItemID\"]\n",
    "    \n",
    "    @classmethod\n",
    "    def _transform(cls, df):\n",
    "        grouped_df = df.groupby(cls.agg_column).answerCode.mean()\n",
    "        right_df = pd.DataFrame({\"assessmentItemID\" : grouped_df.index, \"problemDifficulty\": list(grouped_df)})\n",
    "        return right_df"
   ]
  },
  {
   "cell_type": "code",
   "execution_count": 145,
   "metadata": {},
   "outputs": [
    {
     "name": "stdout",
     "output_type": "stream",
     "text": [
      "save features dataframe to /home/j-gunmo/features/train_make_difficulty_by_assessmentitem_id.pkl ...\n"
     ]
    },
    {
     "data": {
      "text/html": [
       "<div>\n",
       "<style scoped>\n",
       "    .dataframe tbody tr th:only-of-type {\n",
       "        vertical-align: middle;\n",
       "    }\n",
       "\n",
       "    .dataframe tbody tr th {\n",
       "        vertical-align: top;\n",
       "    }\n",
       "\n",
       "    .dataframe thead th {\n",
       "        text-align: right;\n",
       "    }\n",
       "</style>\n",
       "<table border=\"1\" class=\"dataframe\">\n",
       "  <thead>\n",
       "    <tr style=\"text-align: right;\">\n",
       "      <th></th>\n",
       "      <th>userID</th>\n",
       "      <th>assessmentItemID</th>\n",
       "      <th>testId</th>\n",
       "      <th>answerCode</th>\n",
       "      <th>Timestamp</th>\n",
       "      <th>KnowledgeTag</th>\n",
       "      <th>problemDifficulty</th>\n",
       "    </tr>\n",
       "  </thead>\n",
       "  <tbody>\n",
       "    <tr>\n",
       "      <th>0</th>\n",
       "      <td>0</td>\n",
       "      <td>A060001001</td>\n",
       "      <td>A060000001</td>\n",
       "      <td>1</td>\n",
       "      <td>2020-03-24 00:17:11</td>\n",
       "      <td>7224</td>\n",
       "      <td>0.982063</td>\n",
       "    </tr>\n",
       "    <tr>\n",
       "      <th>1</th>\n",
       "      <td>10</td>\n",
       "      <td>A060001001</td>\n",
       "      <td>A060000001</td>\n",
       "      <td>1</td>\n",
       "      <td>2020-03-05 02:55:20</td>\n",
       "      <td>7224</td>\n",
       "      <td>0.982063</td>\n",
       "    </tr>\n",
       "    <tr>\n",
       "      <th>2</th>\n",
       "      <td>20</td>\n",
       "      <td>A060001001</td>\n",
       "      <td>A060000001</td>\n",
       "      <td>1</td>\n",
       "      <td>2020-03-03 05:52:03</td>\n",
       "      <td>7224</td>\n",
       "      <td>0.982063</td>\n",
       "    </tr>\n",
       "    <tr>\n",
       "      <th>3</th>\n",
       "      <td>32</td>\n",
       "      <td>A060001001</td>\n",
       "      <td>A060000001</td>\n",
       "      <td>1</td>\n",
       "      <td>2020-03-03 23:27:08</td>\n",
       "      <td>7224</td>\n",
       "      <td>0.982063</td>\n",
       "    </tr>\n",
       "    <tr>\n",
       "      <th>4</th>\n",
       "      <td>36</td>\n",
       "      <td>A060001001</td>\n",
       "      <td>A060000001</td>\n",
       "      <td>1</td>\n",
       "      <td>2020-02-28 16:38:08</td>\n",
       "      <td>7224</td>\n",
       "      <td>0.982063</td>\n",
       "    </tr>\n",
       "    <tr>\n",
       "      <th>...</th>\n",
       "      <td>...</td>\n",
       "      <td>...</td>\n",
       "      <td>...</td>\n",
       "      <td>...</td>\n",
       "      <td>...</td>\n",
       "      <td>...</td>\n",
       "      <td>...</td>\n",
       "    </tr>\n",
       "    <tr>\n",
       "      <th>2266581</th>\n",
       "      <td>3157</td>\n",
       "      <td>A010180006</td>\n",
       "      <td>A010000180</td>\n",
       "      <td>1</td>\n",
       "      <td>2020-06-19 09:09:48</td>\n",
       "      <td>7815</td>\n",
       "      <td>0.790698</td>\n",
       "    </tr>\n",
       "    <tr>\n",
       "      <th>2266582</th>\n",
       "      <td>3783</td>\n",
       "      <td>A010180006</td>\n",
       "      <td>A010000180</td>\n",
       "      <td>0</td>\n",
       "      <td>2020-08-25 01:29:29</td>\n",
       "      <td>7815</td>\n",
       "      <td>0.790698</td>\n",
       "    </tr>\n",
       "    <tr>\n",
       "      <th>2266583</th>\n",
       "      <td>3949</td>\n",
       "      <td>A010180006</td>\n",
       "      <td>A010000180</td>\n",
       "      <td>1</td>\n",
       "      <td>2020-10-19 09:44:00</td>\n",
       "      <td>7815</td>\n",
       "      <td>0.790698</td>\n",
       "    </tr>\n",
       "    <tr>\n",
       "      <th>2266584</th>\n",
       "      <td>4013</td>\n",
       "      <td>A010180006</td>\n",
       "      <td>A010000180</td>\n",
       "      <td>1</td>\n",
       "      <td>2020-09-24 11:35:43</td>\n",
       "      <td>7815</td>\n",
       "      <td>0.790698</td>\n",
       "    </tr>\n",
       "    <tr>\n",
       "      <th>2266585</th>\n",
       "      <td>5820</td>\n",
       "      <td>A010180006</td>\n",
       "      <td>A010000180</td>\n",
       "      <td>1</td>\n",
       "      <td>2020-10-08 04:33:06</td>\n",
       "      <td>7815</td>\n",
       "      <td>0.790698</td>\n",
       "    </tr>\n",
       "  </tbody>\n",
       "</table>\n",
       "<p>2266586 rows × 7 columns</p>\n",
       "</div>"
      ],
      "text/plain": [
       "         userID assessmentItemID      testId  answerCode            Timestamp  \\\n",
       "0             0       A060001001  A060000001           1  2020-03-24 00:17:11   \n",
       "1            10       A060001001  A060000001           1  2020-03-05 02:55:20   \n",
       "2            20       A060001001  A060000001           1  2020-03-03 05:52:03   \n",
       "3            32       A060001001  A060000001           1  2020-03-03 23:27:08   \n",
       "4            36       A060001001  A060000001           1  2020-02-28 16:38:08   \n",
       "...         ...              ...         ...         ...                  ...   \n",
       "2266581    3157       A010180006  A010000180           1  2020-06-19 09:09:48   \n",
       "2266582    3783       A010180006  A010000180           0  2020-08-25 01:29:29   \n",
       "2266583    3949       A010180006  A010000180           1  2020-10-19 09:44:00   \n",
       "2266584    4013       A010180006  A010000180           1  2020-09-24 11:35:43   \n",
       "2266585    5820       A010180006  A010000180           1  2020-10-08 04:33:06   \n",
       "\n",
       "         KnowledgeTag  problemDifficulty  \n",
       "0                7224           0.982063  \n",
       "1                7224           0.982063  \n",
       "2                7224           0.982063  \n",
       "3                7224           0.982063  \n",
       "4                7224           0.982063  \n",
       "...               ...                ...  \n",
       "2266581          7815           0.790698  \n",
       "2266582          7815           0.790698  \n",
       "2266583          7815           0.790698  \n",
       "2266584          7815           0.790698  \n",
       "2266585          7815           0.790698  \n",
       "\n",
       "[2266586 rows x 7 columns]"
      ]
     },
     "execution_count": 145,
     "metadata": {},
     "output_type": "execute_result"
    }
   ],
   "source": [
    "MakeDifficultyByAssessmentItem.transform(train_dataset, is_train=True)"
   ]
  },
  {
   "cell_type": "code",
   "execution_count": 25,
   "metadata": {},
   "outputs": [
    {
     "data": {
      "text/plain": [
       "<AxesSubplot:xlabel='assessmentItemID'>"
      ]
     },
     "execution_count": 25,
     "metadata": {},
     "output_type": "execute_result"
    },
    {
     "data": {
      "image/png": "[encoded data removed]",
      "text/plain": [
       "<Figure size 432x288 with 1 Axes>"
      ]
     },
     "metadata": {
      "needs_background": "light"
     },
     "output_type": "display_data"
    }
   ],
   "source": [
    "temp.sort_values().plot()"
   ]
  },
  {
   "cell_type": "markdown",
   "metadata": {},
   "source": [
    "## 대분류별 정답률 특성 추가\n",
    "\n",
    "- 유저의 대분류별 정답률을 나타냅니다."
   ]
  },
  {
   "cell_type": "code",
   "execution_count": 141,
   "metadata": {},
   "outputs": [],
   "source": [
    "class MakeDifficultyByFirstClass(AggFeBase):\n",
    "    name = \"make_difficulty_by_firstclass\"\n",
    "    description = {\n",
    "        \"firstClassDifficulty\" : \"유저의 대분류별 정답률을 나타냅니다.\"\n",
    "    }\n",
    "    \n",
    "    pre_fe = {\"make_first_class\"}\n",
    "    agg_column = [\"userID\", \"firstClass\"]\n",
    "    \n",
    "    @classmethod\n",
    "    def _transform(cls, df):\n",
    "        grouped_df = temp.groupby(cls.agg_column).answerCode.mean()\n",
    "        a, b = zip(*grouped_df.index)\n",
    "        \n",
    "        right_df = pd.DataFrame(\n",
    "            {\"userID\": a, \"firstClass\": b, \"firstClassDifficulty\": list(grouped_df)}\n",
    "        )\n",
    "        return right_df"
   ]
  },
  {
   "cell_type": "code",
   "execution_count": 143,
   "metadata": {},
   "outputs": [
    {
     "name": "stdout",
     "output_type": "stream",
     "text": [
      "save features dataframe to /home/j-gunmo/features/train_make_difficulty_by_firstclass.pkl ...\n"
     ]
    },
    {
     "data": {
      "text/html": [
       "<div>\n",
       "<style scoped>\n",
       "    .dataframe tbody tr th:only-of-type {\n",
       "        vertical-align: middle;\n",
       "    }\n",
       "\n",
       "    .dataframe tbody tr th {\n",
       "        vertical-align: top;\n",
       "    }\n",
       "\n",
       "    .dataframe thead th {\n",
       "        text-align: right;\n",
       "    }\n",
       "</style>\n",
       "<table border=\"1\" class=\"dataframe\">\n",
       "  <thead>\n",
       "    <tr style=\"text-align: right;\">\n",
       "      <th></th>\n",
       "      <th>userID</th>\n",
       "      <th>assessmentItemID</th>\n",
       "      <th>testId</th>\n",
       "      <th>answerCode</th>\n",
       "      <th>Timestamp</th>\n",
       "      <th>KnowledgeTag</th>\n",
       "      <th>firstClass</th>\n",
       "      <th>firstClassDifficulty</th>\n",
       "    </tr>\n",
       "  </thead>\n",
       "  <tbody>\n",
       "    <tr>\n",
       "      <th>0</th>\n",
       "      <td>0</td>\n",
       "      <td>A060001001</td>\n",
       "      <td>A060000001</td>\n",
       "      <td>1</td>\n",
       "      <td>2020-03-24 00:17:11</td>\n",
       "      <td>7224</td>\n",
       "      <td>6</td>\n",
       "      <td>0.791908</td>\n",
       "    </tr>\n",
       "    <tr>\n",
       "      <th>1</th>\n",
       "      <td>0</td>\n",
       "      <td>A060001002</td>\n",
       "      <td>A060000001</td>\n",
       "      <td>1</td>\n",
       "      <td>2020-03-24 00:17:14</td>\n",
       "      <td>7225</td>\n",
       "      <td>6</td>\n",
       "      <td>0.791908</td>\n",
       "    </tr>\n",
       "    <tr>\n",
       "      <th>2</th>\n",
       "      <td>0</td>\n",
       "      <td>A060001003</td>\n",
       "      <td>A060000001</td>\n",
       "      <td>1</td>\n",
       "      <td>2020-03-24 00:17:22</td>\n",
       "      <td>7225</td>\n",
       "      <td>6</td>\n",
       "      <td>0.791908</td>\n",
       "    </tr>\n",
       "    <tr>\n",
       "      <th>3</th>\n",
       "      <td>0</td>\n",
       "      <td>A060001004</td>\n",
       "      <td>A060000001</td>\n",
       "      <td>1</td>\n",
       "      <td>2020-03-24 00:17:29</td>\n",
       "      <td>7225</td>\n",
       "      <td>6</td>\n",
       "      <td>0.791908</td>\n",
       "    </tr>\n",
       "    <tr>\n",
       "      <th>4</th>\n",
       "      <td>0</td>\n",
       "      <td>A060001005</td>\n",
       "      <td>A060000001</td>\n",
       "      <td>1</td>\n",
       "      <td>2020-03-24 00:17:36</td>\n",
       "      <td>7225</td>\n",
       "      <td>6</td>\n",
       "      <td>0.791908</td>\n",
       "    </tr>\n",
       "    <tr>\n",
       "      <th>...</th>\n",
       "      <td>...</td>\n",
       "      <td>...</td>\n",
       "      <td>...</td>\n",
       "      <td>...</td>\n",
       "      <td>...</td>\n",
       "      <td>...</td>\n",
       "      <td>...</td>\n",
       "      <td>...</td>\n",
       "    </tr>\n",
       "    <tr>\n",
       "      <th>2266581</th>\n",
       "      <td>7441</td>\n",
       "      <td>A030071005</td>\n",
       "      <td>A030000071</td>\n",
       "      <td>0</td>\n",
       "      <td>2020-06-05 06:50:21</td>\n",
       "      <td>438</td>\n",
       "      <td>3</td>\n",
       "      <td>0.200000</td>\n",
       "    </tr>\n",
       "    <tr>\n",
       "      <th>2266582</th>\n",
       "      <td>7441</td>\n",
       "      <td>A040165001</td>\n",
       "      <td>A040000165</td>\n",
       "      <td>1</td>\n",
       "      <td>2020-08-21 01:06:39</td>\n",
       "      <td>8836</td>\n",
       "      <td>4</td>\n",
       "      <td>1.000000</td>\n",
       "    </tr>\n",
       "    <tr>\n",
       "      <th>2266583</th>\n",
       "      <td>7441</td>\n",
       "      <td>A040165002</td>\n",
       "      <td>A040000165</td>\n",
       "      <td>1</td>\n",
       "      <td>2020-08-21 01:06:50</td>\n",
       "      <td>8836</td>\n",
       "      <td>4</td>\n",
       "      <td>1.000000</td>\n",
       "    </tr>\n",
       "    <tr>\n",
       "      <th>2266584</th>\n",
       "      <td>7441</td>\n",
       "      <td>A040165003</td>\n",
       "      <td>A040000165</td>\n",
       "      <td>1</td>\n",
       "      <td>2020-08-21 01:07:36</td>\n",
       "      <td>8836</td>\n",
       "      <td>4</td>\n",
       "      <td>1.000000</td>\n",
       "    </tr>\n",
       "    <tr>\n",
       "      <th>2266585</th>\n",
       "      <td>7441</td>\n",
       "      <td>A040165004</td>\n",
       "      <td>A040000165</td>\n",
       "      <td>1</td>\n",
       "      <td>2020-08-21 01:08:49</td>\n",
       "      <td>8836</td>\n",
       "      <td>4</td>\n",
       "      <td>1.000000</td>\n",
       "    </tr>\n",
       "  </tbody>\n",
       "</table>\n",
       "<p>2266586 rows × 8 columns</p>\n",
       "</div>"
      ],
      "text/plain": [
       "         userID assessmentItemID      testId  answerCode            Timestamp  \\\n",
       "0             0       A060001001  A060000001           1  2020-03-24 00:17:11   \n",
       "1             0       A060001002  A060000001           1  2020-03-24 00:17:14   \n",
       "2             0       A060001003  A060000001           1  2020-03-24 00:17:22   \n",
       "3             0       A060001004  A060000001           1  2020-03-24 00:17:29   \n",
       "4             0       A060001005  A060000001           1  2020-03-24 00:17:36   \n",
       "...         ...              ...         ...         ...                  ...   \n",
       "2266581    7441       A030071005  A030000071           0  2020-06-05 06:50:21   \n",
       "2266582    7441       A040165001  A040000165           1  2020-08-21 01:06:39   \n",
       "2266583    7441       A040165002  A040000165           1  2020-08-21 01:06:50   \n",
       "2266584    7441       A040165003  A040000165           1  2020-08-21 01:07:36   \n",
       "2266585    7441       A040165004  A040000165           1  2020-08-21 01:08:49   \n",
       "\n",
       "         KnowledgeTag firstClass  firstClassDifficulty  \n",
       "0                7224          6              0.791908  \n",
       "1                7225          6              0.791908  \n",
       "2                7225          6              0.791908  \n",
       "3                7225          6              0.791908  \n",
       "4                7225          6              0.791908  \n",
       "...               ...        ...                   ...  \n",
       "2266581           438          3              0.200000  \n",
       "2266582          8836          4              1.000000  \n",
       "2266583          8836          4              1.000000  \n",
       "2266584          8836          4              1.000000  \n",
       "2266585          8836          4              1.000000  \n",
       "\n",
       "[2266586 rows x 8 columns]"
      ]
     },
     "execution_count": 143,
     "metadata": {},
     "output_type": "execute_result"
    }
   ],
   "source": [
    "MakeDifficultyByFirstClass.transform(temp, is_train=True)"
   ]
  },
  {
   "cell_type": "markdown",
   "metadata": {},
   "source": [
    "## 지금까지 풀어온 대분류별 정답률 특성 추가\n",
    "\n",
    "- 유저가 푸는 문제의 대분류의 현재까지의 정답률을 나타냅니다.\n",
    "- 처음 정답률은 0.5로 설정"
   ]
  },
  {
   "cell_type": "code",
   "execution_count": 86,
   "metadata": {},
   "outputs": [
    {
     "ename": "SyntaxError",
     "evalue": "invalid syntax (<ipython-input-86-d910daa670e4>, line 11)",
     "output_type": "error",
     "traceback": [
      "\u001b[0;36m  File \u001b[0;32m\"<ipython-input-86-d910daa670e4>\"\u001b[0;36m, line \u001b[0;32m11\u001b[0m\n\u001b[0;31m    new_df =\u001b[0m\n\u001b[0m             ^\u001b[0m\n\u001b[0;31mSyntaxError\u001b[0m\u001b[0;31m:\u001b[0m invalid syntax\n"
     ]
    }
   ],
   "source": [
    "class MakeSeqDifficultyByFirstClass(SeqFeBase):\n",
    "    name = \"make_difficulty_by_cur_firstclass\"\n",
    "    description = {\n",
    "        \"CurFirstClassDifficulty\" : \"유저가 지금까지 풀어왔던 문제의 대분류의 정답률을 나타냅니다\"\n",
    "    }\n",
    "    pre_fe = {\"make_first_class\"}\n",
    "    \n",
    "    count = defaultdictt(int)\n",
    "    \n",
    "    def _make_row\n",
    "    \n",
    "    @classmethod\n",
    "    def _transform(cls, df):\n",
    "        new_df = pd.DataFrame()\n",
    "        new_df = \n",
    "        return new_df"
   ]
  },
  {
   "cell_type": "code",
   "execution_count": 155,
   "metadata": {},
   "outputs": [
    {
     "name": "stdout",
     "output_type": "stream",
     "text": [
      "CPU times: user 1min 35s, sys: 91.3 ms, total: 1min 35s\n",
      "Wall time: 1min 35s\n"
     ]
    }
   ],
   "source": [
    "%%time\n",
    "\n",
    "for i, row in temp.iterrows():\n",
    "    pass"
   ]
  },
  {
   "cell_type": "code",
   "execution_count": 150,
   "metadata": {},
   "outputs": [],
   "source": [
    "grouped_df = temp.groupby([\"userID\", \"firstClass\"]).answerCode.apply(lambda x: x.rolling(window=2).mean())"
   ]
  },
  {
   "cell_type": "code",
   "execution_count": 151,
   "metadata": {},
   "outputs": [
    {
     "data": {
      "text/plain": [
       "0          NaN\n",
       "1          1.0\n",
       "2          1.0\n",
       "3          1.0\n",
       "4          1.0\n",
       "          ... \n",
       "2266581    0.0\n",
       "2266582    NaN\n",
       "2266583    1.0\n",
       "2266584    1.0\n",
       "2266585    1.0\n",
       "Name: answerCode, Length: 2266586, dtype: float64"
      ]
     },
     "execution_count": 151,
     "metadata": {},
     "output_type": "execute_result"
    }
   ],
   "source": [
    "grouped_df"
   ]
  },
  {
   "cell_type": "code",
   "execution_count": 131,
   "metadata": {},
   "outputs": [],
   "source": [
    "a, b = zip(*grouped_df.index)"
   ]
  },
  {
   "cell_type": "code",
   "execution_count": 134,
   "metadata": {},
   "outputs": [
    {
     "data": {
      "text/plain": [
       "(17752, 17752)"
      ]
     },
     "execution_count": 134,
     "metadata": {},
     "output_type": "execute_result"
    }
   ],
   "source": [
    "len(a), len(b)"
   ]
  },
  {
   "cell_type": "code",
   "execution_count": 130,
   "metadata": {},
   "outputs": [
    {
     "data": {
      "text/html": [
       "<div>\n",
       "<style scoped>\n",
       "    .dataframe tbody tr th:only-of-type {\n",
       "        vertical-align: middle;\n",
       "    }\n",
       "\n",
       "    .dataframe tbody tr th {\n",
       "        vertical-align: top;\n",
       "    }\n",
       "\n",
       "    .dataframe thead th {\n",
       "        text-align: right;\n",
       "    }\n",
       "</style>\n",
       "<table border=\"1\" class=\"dataframe\">\n",
       "  <thead>\n",
       "    <tr style=\"text-align: right;\">\n",
       "      <th></th>\n",
       "      <th>0</th>\n",
       "      <th>1</th>\n",
       "    </tr>\n",
       "  </thead>\n",
       "  <tbody>\n",
       "    <tr>\n",
       "      <th>0</th>\n",
       "      <td>0</td>\n",
       "      <td>2</td>\n",
       "    </tr>\n",
       "    <tr>\n",
       "      <th>1</th>\n",
       "      <td>0</td>\n",
       "      <td>6</td>\n",
       "    </tr>\n",
       "    <tr>\n",
       "      <th>2</th>\n",
       "      <td>0</td>\n",
       "      <td>8</td>\n",
       "    </tr>\n",
       "    <tr>\n",
       "      <th>3</th>\n",
       "      <td>1</td>\n",
       "      <td>4</td>\n",
       "    </tr>\n",
       "    <tr>\n",
       "      <th>4</th>\n",
       "      <td>1</td>\n",
       "      <td>9</td>\n",
       "    </tr>\n",
       "    <tr>\n",
       "      <th>...</th>\n",
       "      <td>...</td>\n",
       "      <td>...</td>\n",
       "    </tr>\n",
       "    <tr>\n",
       "      <th>17747</th>\n",
       "      <td>7438</td>\n",
       "      <td>8</td>\n",
       "    </tr>\n",
       "    <tr>\n",
       "      <th>17748</th>\n",
       "      <td>7440</td>\n",
       "      <td>3</td>\n",
       "    </tr>\n",
       "    <tr>\n",
       "      <th>17749</th>\n",
       "      <td>7440</td>\n",
       "      <td>5</td>\n",
       "    </tr>\n",
       "    <tr>\n",
       "      <th>17750</th>\n",
       "      <td>7441</td>\n",
       "      <td>3</td>\n",
       "    </tr>\n",
       "    <tr>\n",
       "      <th>17751</th>\n",
       "      <td>7441</td>\n",
       "      <td>4</td>\n",
       "    </tr>\n",
       "  </tbody>\n",
       "</table>\n",
       "<p>17752 rows × 2 columns</p>\n",
       "</div>"
      ],
      "text/plain": [
       "          0  1\n",
       "0         0  2\n",
       "1         0  6\n",
       "2         0  8\n",
       "3         1  4\n",
       "4         1  9\n",
       "...     ... ..\n",
       "17747  7438  8\n",
       "17748  7440  3\n",
       "17749  7440  5\n",
       "17750  7441  3\n",
       "17751  7441  4\n",
       "\n",
       "[17752 rows x 2 columns]"
      ]
     },
     "execution_count": 130,
     "metadata": {},
     "output_type": "execute_result"
    }
   ],
   "source": [
    "pd.DataFrame(zip(*grouped_df.index)).T"
   ]
  },
  {
   "cell_type": "code",
   "execution_count": 121,
   "metadata": {},
   "outputs": [
    {
     "data": {
      "text/plain": [
       "17752"
      ]
     },
     "execution_count": 121,
     "metadata": {},
     "output_type": "execute_result"
    }
   ],
   "source": [
    "len(list(right_df))"
   ]
  },
  {
   "cell_type": "code",
   "execution_count": 122,
   "metadata": {},
   "outputs": [
    {
     "data": {
      "text/plain": [
       "userID  firstClass\n",
       "0       2             0.722222\n",
       "        6             0.791908\n",
       "        8             0.468320\n",
       "1       4             0.822719\n",
       "        9             0.903409\n",
       "                        ...   \n",
       "7438    8             0.666667\n",
       "7440    3             0.400000\n",
       "        5             0.400000\n",
       "7441    3             0.200000\n",
       "        4             1.000000\n",
       "Length: 17752, dtype: float64"
      ]
     },
     "execution_count": 122,
     "metadata": {},
     "output_type": "execute_result"
    }
   ],
   "source": [
    "right_df"
   ]
  },
  {
   "cell_type": "code",
   "execution_count": 119,
   "metadata": {},
   "outputs": [
    {
     "data": {
      "text/plain": [
       "2266586"
      ]
     },
     "execution_count": 119,
     "metadata": {},
     "output_type": "execute_result"
    }
   ],
   "source": [
    "len(train_dataset)"
   ]
  },
  {
   "cell_type": "code",
   "execution_count": null,
   "metadata": {},
   "outputs": [],
   "source": []
  },
  {
   "cell_type": "code",
   "execution_count": null,
   "metadata": {},
   "outputs": [],
   "source": []
  },
  {
   "cell_type": "code",
   "execution_count": null,
   "metadata": {},
   "outputs": [],
   "source": []
  },
  {
   "cell_type": "code",
   "execution_count": null,
   "metadata": {},
   "outputs": [],
   "source": []
  },
  {
   "cell_type": "code",
   "execution_count": null,
   "metadata": {},
   "outputs": [],
   "source": []
  }
 ],
 "metadata": {
  "kernelspec": {
   "display_name": "baseline_code",
   "language": "python",
   "name": "baseline_code"
  },
  "language_info": {
   "codemirror_mode": {
    "name": "ipython",
    "version": 3
   },
   "file_extension": ".py",
   "mimetype": "text/x-python",
   "name": "python",
   "nbconvert_exporter": "python",
   "pygments_lexer": "ipython3",
   "version": "3.8.8"
  }
 },
 "nbformat": 4,
 "nbformat_minor": 4
}
