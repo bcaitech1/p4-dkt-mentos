{
 "cells": [
  {
   "cell_type": "code",
   "execution_count": 1,
   "metadata": {},
   "outputs": [],
   "source": [
    "import sys\n",
    "sys.path.append(\"/home/j-gunmo/desktop/00.my-project/17.P-Stage-T1003/4-STAGE/\")\n",
    "\n",
    "from fe.agg import (\n",
    "    MakeCorrectCount, \n",
    "    MakeCorrectPercent, \n",
    "    MakeQuestionCount, \n",
    "    MakeTopNCorrectPercent\n",
    ")\n",
    "\n",
    "from fe.seq import (\n",
    "    SplitAssessmentItemID,\n",
    "    MakeFirstClass,\n",
    "    MakeSecondClass,\n",
    "    MakeYMD,\n",
    "    ConvertTime\n",
    ")\n",
    "\n",
    "from dkt_dataset import Preprocess\n",
    "from utils import get_args, get_root_dir\n",
    "from fe.feature import FEPipeline\n",
    "import easydict"
   ]
  },
  {
   "cell_type": "code",
   "execution_count": 2,
   "metadata": {},
   "outputs": [],
   "source": [
    "args = get_args()\n",
    "args.root_dir = get_root_dir(\n",
    "    '/home/j-gunmo/desktop/00.my-project/17.P-Stage-T1003/4-STAGE/models/lstm/hyper_test'\n",
    ")"
   ]
  },
  {
   "cell_type": "code",
   "execution_count": 3,
   "metadata": {},
   "outputs": [],
   "source": [
    "args.data_dir = \"../../input/data/train_dataset/\""
   ]
  },
  {
   "cell_type": "code",
   "execution_count": 4,
   "metadata": {},
   "outputs": [],
   "source": [
    "fe_pipeline = FEPipeline(args, [\n",
    "    SplitAssessmentItemID,\n",
    "    ConvertTime,\n",
    "    MakeFirstClass,\n",
    "    MakeSecondClass,\n",
    "    MakeCorrectCount,\n",
    "    MakeQuestionCount,\n",
    "    MakeCorrectPercent,\n",
    "    MakeTopNCorrectPercent\n",
    "])\n",
    "fe_pipeline.debug()"
   ]
  },
  {
   "cell_type": "code",
   "execution_count": 5,
   "metadata": {},
   "outputs": [
    {
     "name": "stdout",
     "output_type": "stream",
     "text": [
      "[Feature Descriptions]\n",
      "\n",
      "feature name : base_feature\n",
      "feature type : seq\n",
      " - userID               : 사용자의 고유 번호입니다. 총 7,442명의 학생이 있습니다\n",
      " - assessmentItemID     : 사용자가 푼 문항의 일련 번호입니다.\n",
      " - testID               : 사용자가 푼 문항이 포함된 시험지의 일련 번호입니다.\n",
      " - answerCode           : 사용자가 푼 문항의 정답 여부를 담고 있는 이진 (0/1) 데이터입니다.\n",
      " - Timestamp            : 사용자가 문항을 푼 시간 정보입니다.\n",
      " - KnowledgeTag         : 사용자가 푼 문항의 고유 태그가 담겨져 있습니다.\n",
      "\n",
      "feature name : split_assessmentitem_id\n",
      "feature type : seq\n",
      " - testPaper            : 시험지 번호입니다.\n",
      " - testPaperCnt         : 시험지의 문항 번호입니다.\n",
      "\n",
      "feature name : convert_time\n",
      "feature type : seq\n",
      " - timeSec              : 사용자가 문항을 푼 타임스태프 정보입니다.\n",
      "\n",
      "feature name : make_first_class\n",
      "feature type : seq\n",
      " - firstClass           : 대분류에 해당합니다.\n",
      "\n",
      "feature name : make_second_class\n",
      "feature type : seq\n",
      " - secondClass          : 중분류에 해당합니다.\n",
      "\n",
      "feature name : make_correct_count\n",
      "feature type : agg\n",
      " - correctCnt           : 사용자가 맞춘 문항수를 나타냅니다.\n",
      "\n",
      "feature name : make_question_count\n",
      "feature type : agg\n",
      " - quesCnt              : 사용자가 푼 문항수를 나타냅니다.\n",
      "\n",
      "feature name : make_correct_percent\n",
      "feature type : agg\n",
      " - correctPer           : 사용자가 푼 전체 문항에 대한 정답률입니다.\n",
      "\n",
      "feature name : make_topn_correct_percent\n",
      "feature type : agg\n",
      " - top10CorrectPer      : 사용자가 최근 푼 TOP-10개에 대한 정답률입니다.\n",
      " - top30CorrectPer      : 사용자가 최근 푼 TOP-30개에 대한 정답률입니다.\n",
      " - top50CorrectPer      : 사용자가 최근 푼 TOP-50개에 대한 정답률입니다.\n",
      " - top100CorrectPer     : 사용자가 최근 푼 TOP-100개에 대한 정답률입니다.\n"
     ]
    }
   ],
   "source": [
    "fe_pipeline.description()"
   ]
  },
  {
   "cell_type": "code",
   "execution_count": 6,
   "metadata": {},
   "outputs": [],
   "source": [
    "columns = ['userID', 'answerCode', \n",
    "           'testPaper', 'timeSec', 'firstClass', 'secondClass', \n",
    "           'correctPer', 'top10CorrectPer']\n",
    "pre_encoders = {\n",
    "    'label': ['testPaper', 'firstClass', 'secondClass'],\n",
    "    'min_max': ['top10CorrectPer', 'correctPer'],\n",
    "    'std': ['timeSec']\n",
    "}\n",
    "\n",
    "preprocess = Preprocess(args, fe_pipeline, columns)"
   ]
  },
  {
   "cell_type": "code",
   "execution_count": 7,
   "metadata": {
    "scrolled": true
   },
   "outputs": [
    {
     "name": "stderr",
     "output_type": "stream",
     "text": [
      "Feature Engineering Start ... \n"
     ]
    },
    {
     "data": {
      "text/html": [
       "<pre style=\"white-space:pre;overflow-x:auto;line-height:normal;font-family:Menlo,'DejaVu Sans Mono',consolas,'Courier New',monospace\"><span style=\"color: #7fbfbf\">[06:02:03] </span><span style=\"color: #000080\">INFO    </span> Feature Engineering Start <span style=\"color: #808000\">...</span>                               <a href=\"file:///home/j-gunmo/desktop/00.my-project/17.P-Stage-T1003/4-STAGE/fe/feature.py\"><span style=\"color: #7f7f7f\">feature.py</span></a><span style=\"color: #7f7f7f\">:95</span>\n",
       "</pre>\n"
      ],
      "text/plain": [
       "<rich.jupyter.JupyterRenderable at 0x7f1c07251c10>"
      ]
     },
     "metadata": {},
     "output_type": "display_data"
    },
    {
     "name": "stdout",
     "output_type": "stream",
     "text": [
      "load features /home/j-gunmo/features/train_split_assessmentitem_id.pkl to dataframe ... \n"
     ]
    },
    {
     "name": "stderr",
     "output_type": "stream",
     "text": [
      "\n",
      "Feature Engineering Name: split_assessmentitem_id\n"
     ]
    },
    {
     "data": {
      "text/html": [
       "<pre style=\"white-space:pre;overflow-x:auto;line-height:normal;font-family:Menlo,'DejaVu Sans Mono',consolas,'Courier New',monospace\"><span style=\"color: #7fbfbf\">[06:02:04] </span><span style=\"color: #000080\">INFO    </span>                                                            <a href=\"file:///home/j-gunmo/desktop/00.my-project/17.P-Stage-T1003/4-STAGE/fe/feature.py\"><span style=\"color: #7f7f7f\">feature.py</span></a><span style=\"color: #7f7f7f\">:101</span>\n",
       "                    Feature Engineering Name: split_assessmentitem_id                        \n",
       "</pre>\n"
      ],
      "text/plain": [
       "<rich.jupyter.JupyterRenderable at 0x7f1c04ac91f0>"
      ]
     },
     "metadata": {},
     "output_type": "display_data"
    },
    {
     "name": "stderr",
     "output_type": "stream",
     "text": [
      "\n",
      "testPaper       : 시험지 번호입니다.\n"
     ]
    },
    {
     "data": {
      "text/html": [
       "<pre style=\"white-space:pre;overflow-x:auto;line-height:normal;font-family:Menlo,'DejaVu Sans Mono',consolas,'Courier New',monospace\"><span style=\"color: #7fbfbf\">           </span><span style=\"color: #000080\">INFO    </span>                                                            <a href=\"file:///home/j-gunmo/desktop/00.my-project/17.P-Stage-T1003/4-STAGE/fe/feature.py\"><span style=\"color: #7f7f7f\">feature.py</span></a><span style=\"color: #7f7f7f\">:104</span>\n",
       "                    testPaper       : 시험지 번호입니다.                                     \n",
       "</pre>\n"
      ],
      "text/plain": [
       "<rich.jupyter.JupyterRenderable at 0x7f1c04ac99a0>"
      ]
     },
     "metadata": {},
     "output_type": "display_data"
    },
    {
     "name": "stderr",
     "output_type": "stream",
     "text": [
      "dtype: object\n"
     ]
    },
    {
     "data": {
      "text/html": [
       "<pre style=\"white-space:pre;overflow-x:auto;line-height:normal;font-family:Menlo,'DejaVu Sans Mono',consolas,'Courier New',monospace\"><span style=\"color: #7fbfbf\">           </span><span style=\"color: #000080\">INFO    </span> dtype: object                                              <a href=\"file:///home/j-gunmo/desktop/00.my-project/17.P-Stage-T1003/4-STAGE/fe/feature.py\"><span style=\"color: #7f7f7f\">feature.py</span></a><span style=\"color: #7f7f7f\">:105</span>\n",
       "</pre>\n"
      ],
      "text/plain": [
       "<rich.jupyter.JupyterRenderable at 0x7f1c04ac9430>"
      ]
     },
     "metadata": {},
     "output_type": "display_data"
    },
    {
     "name": "stderr",
     "output_type": "stream",
     "text": [
      "[Examples]\n"
     ]
    },
    {
     "data": {
      "text/html": [
       "<pre style=\"white-space:pre;overflow-x:auto;line-height:normal;font-family:Menlo,'DejaVu Sans Mono',consolas,'Courier New',monospace\"><span style=\"color: #7fbfbf\">           </span><span style=\"color: #000080\">INFO    </span> <span style=\"font-weight: bold\">[</span>Examples<span style=\"font-weight: bold\">]</span>                                                 <a href=\"file:///home/j-gunmo/desktop/00.my-project/17.P-Stage-T1003/4-STAGE/fe/feature.py\"><span style=\"color: #7f7f7f\">feature.py</span></a><span style=\"color: #7f7f7f\">:106</span>\n",
       "</pre>\n"
      ],
      "text/plain": [
       "<rich.jupyter.JupyterRenderable at 0x7f1c04ac9610>"
      ]
     },
     "metadata": {},
     "output_type": "display_data"
    },
    {
     "name": "stderr",
     "output_type": "stream",
     "text": [
      "INDEX 0000: 060001\n"
     ]
    },
    {
     "data": {
      "text/html": [
       "<pre style=\"white-space:pre;overflow-x:auto;line-height:normal;font-family:Menlo,'DejaVu Sans Mono',consolas,'Courier New',monospace\"><span style=\"color: #7fbfbf\">           </span><span style=\"color: #000080\">INFO    </span> INDEX <span style=\"color: #000080; font-weight: bold\">0000</span>: <span style=\"color: #000080; font-weight: bold\">060001</span>                                         <a href=\"file:///home/j-gunmo/desktop/00.my-project/17.P-Stage-T1003/4-STAGE/fe/feature.py\"><span style=\"color: #7f7f7f\">feature.py</span></a><span style=\"color: #7f7f7f\">:109</span>\n",
       "</pre>\n"
      ],
      "text/plain": [
       "<rich.jupyter.JupyterRenderable at 0x7f1c04ac94c0>"
      ]
     },
     "metadata": {},
     "output_type": "display_data"
    },
    {
     "name": "stderr",
     "output_type": "stream",
     "text": [
      "INDEX 1000: 080012\n"
     ]
    },
    {
     "data": {
      "text/html": [
       "<pre style=\"white-space:pre;overflow-x:auto;line-height:normal;font-family:Menlo,'DejaVu Sans Mono',consolas,'Courier New',monospace\"><span style=\"color: #7fbfbf\">           </span><span style=\"color: #000080\">INFO    </span> INDEX <span style=\"color: #000080; font-weight: bold\">1000</span>: <span style=\"color: #000080; font-weight: bold\">080012</span>                                         <a href=\"file:///home/j-gunmo/desktop/00.my-project/17.P-Stage-T1003/4-STAGE/fe/feature.py\"><span style=\"color: #7f7f7f\">feature.py</span></a><span style=\"color: #7f7f7f\">:109</span>\n",
       "</pre>\n"
      ],
      "text/plain": [
       "<rich.jupyter.JupyterRenderable at 0x7f1c04ac9760>"
      ]
     },
     "metadata": {},
     "output_type": "display_data"
    },
    {
     "name": "stderr",
     "output_type": "stream",
     "text": [
      "INDEX 2000: 060041\n"
     ]
    },
    {
     "data": {
      "text/html": [
       "<pre style=\"white-space:pre;overflow-x:auto;line-height:normal;font-family:Menlo,'DejaVu Sans Mono',consolas,'Courier New',monospace\"><span style=\"color: #7fbfbf\">           </span><span style=\"color: #000080\">INFO    </span> INDEX <span style=\"color: #000080; font-weight: bold\">2000</span>: <span style=\"color: #000080; font-weight: bold\">060041</span>                                         <a href=\"file:///home/j-gunmo/desktop/00.my-project/17.P-Stage-T1003/4-STAGE/fe/feature.py\"><span style=\"color: #7f7f7f\">feature.py</span></a><span style=\"color: #7f7f7f\">:109</span>\n",
       "</pre>\n"
      ],
      "text/plain": [
       "<rich.jupyter.JupyterRenderable at 0x7f1c04ac98b0>"
      ]
     },
     "metadata": {},
     "output_type": "display_data"
    },
    {
     "name": "stderr",
     "output_type": "stream",
     "text": [
      "INDEX 3000: 080041\n"
     ]
    },
    {
     "data": {
      "text/html": [
       "<pre style=\"white-space:pre;overflow-x:auto;line-height:normal;font-family:Menlo,'DejaVu Sans Mono',consolas,'Courier New',monospace\"><span style=\"color: #7fbfbf\">           </span><span style=\"color: #000080\">INFO    </span> INDEX <span style=\"color: #000080; font-weight: bold\">3000</span>: <span style=\"color: #000080; font-weight: bold\">080041</span>                                         <a href=\"file:///home/j-gunmo/desktop/00.my-project/17.P-Stage-T1003/4-STAGE/fe/feature.py\"><span style=\"color: #7f7f7f\">feature.py</span></a><span style=\"color: #7f7f7f\">:109</span>\n",
       "</pre>\n"
      ],
      "text/plain": [
       "<rich.jupyter.JupyterRenderable at 0x7f1c04ac9850>"
      ]
     },
     "metadata": {},
     "output_type": "display_data"
    },
    {
     "name": "stderr",
     "output_type": "stream",
     "text": [
      "INDEX 4000: 060091\n"
     ]
    },
    {
     "data": {
      "text/html": [
       "<pre style=\"white-space:pre;overflow-x:auto;line-height:normal;font-family:Menlo,'DejaVu Sans Mono',consolas,'Courier New',monospace\"><span style=\"color: #7fbfbf\">           </span><span style=\"color: #000080\">INFO    </span> INDEX <span style=\"color: #000080; font-weight: bold\">4000</span>: <span style=\"color: #000080; font-weight: bold\">060091</span>                                         <a href=\"file:///home/j-gunmo/desktop/00.my-project/17.P-Stage-T1003/4-STAGE/fe/feature.py\"><span style=\"color: #7f7f7f\">feature.py</span></a><span style=\"color: #7f7f7f\">:109</span>\n",
       "</pre>\n"
      ],
      "text/plain": [
       "<rich.jupyter.JupyterRenderable at 0x7f1c04ac9610>"
      ]
     },
     "metadata": {},
     "output_type": "display_data"
    },
    {
     "name": "stderr",
     "output_type": "stream",
     "text": [
      "INDEX 5000: 060101\n"
     ]
    },
    {
     "data": {
      "text/html": [
       "<pre style=\"white-space:pre;overflow-x:auto;line-height:normal;font-family:Menlo,'DejaVu Sans Mono',consolas,'Courier New',monospace\"><span style=\"color: #7fbfbf\">           </span><span style=\"color: #000080\">INFO    </span> INDEX <span style=\"color: #000080; font-weight: bold\">5000</span>: <span style=\"color: #000080; font-weight: bold\">060101</span>                                         <a href=\"file:///home/j-gunmo/desktop/00.my-project/17.P-Stage-T1003/4-STAGE/fe/feature.py\"><span style=\"color: #7f7f7f\">feature.py</span></a><span style=\"color: #7f7f7f\">:109</span>\n",
       "</pre>\n"
      ],
      "text/plain": [
       "<rich.jupyter.JupyterRenderable at 0x7f1c04ac99d0>"
      ]
     },
     "metadata": {},
     "output_type": "display_data"
    },
    {
     "name": "stderr",
     "output_type": "stream",
     "text": [
      "INDEX 6000: 080100\n"
     ]
    },
    {
     "data": {
      "text/html": [
       "<pre style=\"white-space:pre;overflow-x:auto;line-height:normal;font-family:Menlo,'DejaVu Sans Mono',consolas,'Courier New',monospace\"><span style=\"color: #7fbfbf\">           </span><span style=\"color: #000080\">INFO    </span> INDEX <span style=\"color: #000080; font-weight: bold\">6000</span>: <span style=\"color: #000080; font-weight: bold\">080100</span>                                         <a href=\"file:///home/j-gunmo/desktop/00.my-project/17.P-Stage-T1003/4-STAGE/fe/feature.py\"><span style=\"color: #7f7f7f\">feature.py</span></a><span style=\"color: #7f7f7f\">:109</span>\n",
       "</pre>\n"
      ],
      "text/plain": [
       "<rich.jupyter.JupyterRenderable at 0x7f1c04ac9b20>"
      ]
     },
     "metadata": {},
     "output_type": "display_data"
    },
    {
     "name": "stderr",
     "output_type": "stream",
     "text": [
      "INDEX 7000: 080112\n"
     ]
    },
    {
     "data": {
      "text/html": [
       "<pre style=\"white-space:pre;overflow-x:auto;line-height:normal;font-family:Menlo,'DejaVu Sans Mono',consolas,'Courier New',monospace\"><span style=\"color: #7fbfbf\">           </span><span style=\"color: #000080\">INFO    </span> INDEX <span style=\"color: #000080; font-weight: bold\">7000</span>: <span style=\"color: #000080; font-weight: bold\">080112</span>                                         <a href=\"file:///home/j-gunmo/desktop/00.my-project/17.P-Stage-T1003/4-STAGE/fe/feature.py\"><span style=\"color: #7f7f7f\">feature.py</span></a><span style=\"color: #7f7f7f\">:109</span>\n",
       "</pre>\n"
      ],
      "text/plain": [
       "<rich.jupyter.JupyterRenderable at 0x7f1c04ac9910>"
      ]
     },
     "metadata": {},
     "output_type": "display_data"
    },
    {
     "name": "stderr",
     "output_type": "stream",
     "text": [
      "INDEX 8000: 040049\n"
     ]
    },
    {
     "data": {
      "text/html": [
       "<pre style=\"white-space:pre;overflow-x:auto;line-height:normal;font-family:Menlo,'DejaVu Sans Mono',consolas,'Courier New',monospace\"><span style=\"color: #7fbfbf\">           </span><span style=\"color: #000080\">INFO    </span> INDEX <span style=\"color: #000080; font-weight: bold\">8000</span>: <span style=\"color: #000080; font-weight: bold\">040049</span>                                         <a href=\"file:///home/j-gunmo/desktop/00.my-project/17.P-Stage-T1003/4-STAGE/fe/feature.py\"><span style=\"color: #7f7f7f\">feature.py</span></a><span style=\"color: #7f7f7f\">:109</span>\n",
       "</pre>\n"
      ],
      "text/plain": [
       "<rich.jupyter.JupyterRenderable at 0x7f1c04ac95e0>"
      ]
     },
     "metadata": {},
     "output_type": "display_data"
    },
    {
     "name": "stderr",
     "output_type": "stream",
     "text": [
      "INDEX 9000: 090011\n"
     ]
    },
    {
     "data": {
      "text/html": [
       "<pre style=\"white-space:pre;overflow-x:auto;line-height:normal;font-family:Menlo,'DejaVu Sans Mono',consolas,'Courier New',monospace\"><span style=\"color: #7fbfbf\">           </span><span style=\"color: #000080\">INFO    </span> INDEX <span style=\"color: #000080; font-weight: bold\">9000</span>: <span style=\"color: #000080; font-weight: bold\">090011</span>                                         <a href=\"file:///home/j-gunmo/desktop/00.my-project/17.P-Stage-T1003/4-STAGE/fe/feature.py\"><span style=\"color: #7f7f7f\">feature.py</span></a><span style=\"color: #7f7f7f\">:109</span>\n",
       "</pre>\n"
      ],
      "text/plain": [
       "<rich.jupyter.JupyterRenderable at 0x7f1c04ac9ac0>"
      ]
     },
     "metadata": {},
     "output_type": "display_data"
    },
    {
     "name": "stderr",
     "output_type": "stream",
     "text": [
      "\n",
      "testPaperCnt    : 시험지의 문항 번호입니다.\n"
     ]
    },
    {
     "data": {
      "text/html": [
       "<pre style=\"white-space:pre;overflow-x:auto;line-height:normal;font-family:Menlo,'DejaVu Sans Mono',consolas,'Courier New',monospace\"><span style=\"color: #7fbfbf\">           </span><span style=\"color: #000080\">INFO    </span>                                                            <a href=\"file:///home/j-gunmo/desktop/00.my-project/17.P-Stage-T1003/4-STAGE/fe/feature.py\"><span style=\"color: #7f7f7f\">feature.py</span></a><span style=\"color: #7f7f7f\">:104</span>\n",
       "                    testPaperCnt    : 시험지의 문항 번호입니다.                              \n",
       "</pre>\n"
      ],
      "text/plain": [
       "<rich.jupyter.JupyterRenderable at 0x7f1c04ac9a00>"
      ]
     },
     "metadata": {},
     "output_type": "display_data"
    },
    {
     "name": "stderr",
     "output_type": "stream",
     "text": [
      "dtype: object\n"
     ]
    },
    {
     "data": {
      "text/html": [
       "<pre style=\"white-space:pre;overflow-x:auto;line-height:normal;font-family:Menlo,'DejaVu Sans Mono',consolas,'Courier New',monospace\"><span style=\"color: #7fbfbf\">           </span><span style=\"color: #000080\">INFO    </span> dtype: object                                              <a href=\"file:///home/j-gunmo/desktop/00.my-project/17.P-Stage-T1003/4-STAGE/fe/feature.py\"><span style=\"color: #7f7f7f\">feature.py</span></a><span style=\"color: #7f7f7f\">:105</span>\n",
       "</pre>\n"
      ],
      "text/plain": [
       "<rich.jupyter.JupyterRenderable at 0x7f1c04ac9af0>"
      ]
     },
     "metadata": {},
     "output_type": "display_data"
    },
    {
     "name": "stderr",
     "output_type": "stream",
     "text": [
      "[Examples]\n"
     ]
    },
    {
     "data": {
      "text/html": [
       "<pre style=\"white-space:pre;overflow-x:auto;line-height:normal;font-family:Menlo,'DejaVu Sans Mono',consolas,'Courier New',monospace\"><span style=\"color: #7fbfbf\">           </span><span style=\"color: #000080\">INFO    </span> <span style=\"font-weight: bold\">[</span>Examples<span style=\"font-weight: bold\">]</span>                                                 <a href=\"file:///home/j-gunmo/desktop/00.my-project/17.P-Stage-T1003/4-STAGE/fe/feature.py\"><span style=\"color: #7f7f7f\">feature.py</span></a><span style=\"color: #7f7f7f\">:106</span>\n",
       "</pre>\n"
      ],
      "text/plain": [
       "<rich.jupyter.JupyterRenderable at 0x7f1c04ac9c40>"
      ]
     },
     "metadata": {},
     "output_type": "display_data"
    },
    {
     "name": "stderr",
     "output_type": "stream",
     "text": [
      "INDEX 0000: 001\n"
     ]
    },
    {
     "data": {
      "text/html": [
       "<pre style=\"white-space:pre;overflow-x:auto;line-height:normal;font-family:Menlo,'DejaVu Sans Mono',consolas,'Courier New',monospace\"><span style=\"color: #7fbfbf\">           </span><span style=\"color: #000080\">INFO    </span> INDEX <span style=\"color: #000080; font-weight: bold\">0000</span>: <span style=\"color: #000080; font-weight: bold\">001</span>                                            <a href=\"file:///home/j-gunmo/desktop/00.my-project/17.P-Stage-T1003/4-STAGE/fe/feature.py\"><span style=\"color: #7f7f7f\">feature.py</span></a><span style=\"color: #7f7f7f\">:109</span>\n",
       "</pre>\n"
      ],
      "text/plain": [
       "<rich.jupyter.JupyterRenderable at 0x7f1c04ac90d0>"
      ]
     },
     "metadata": {},
     "output_type": "display_data"
    },
    {
     "name": "stderr",
     "output_type": "stream",
     "text": [
      "INDEX 1000: 001\n"
     ]
    },
    {
     "data": {
      "text/html": [
       "<pre style=\"white-space:pre;overflow-x:auto;line-height:normal;font-family:Menlo,'DejaVu Sans Mono',consolas,'Courier New',monospace\"><span style=\"color: #7fbfbf\">           </span><span style=\"color: #000080\">INFO    </span> INDEX <span style=\"color: #000080; font-weight: bold\">1000</span>: <span style=\"color: #000080; font-weight: bold\">001</span>                                            <a href=\"file:///home/j-gunmo/desktop/00.my-project/17.P-Stage-T1003/4-STAGE/fe/feature.py\"><span style=\"color: #7f7f7f\">feature.py</span></a><span style=\"color: #7f7f7f\">:109</span>\n",
       "</pre>\n"
      ],
      "text/plain": [
       "<rich.jupyter.JupyterRenderable at 0x7f1c04ac96d0>"
      ]
     },
     "metadata": {},
     "output_type": "display_data"
    },
    {
     "name": "stderr",
     "output_type": "stream",
     "text": [
      "INDEX 2000: 007\n"
     ]
    },
    {
     "data": {
      "text/html": [
       "<pre style=\"white-space:pre;overflow-x:auto;line-height:normal;font-family:Menlo,'DejaVu Sans Mono',consolas,'Courier New',monospace\"><span style=\"color: #7fbfbf\">           </span><span style=\"color: #000080\">INFO    </span> INDEX <span style=\"color: #000080; font-weight: bold\">2000</span>: <span style=\"color: #000080; font-weight: bold\">007</span>                                            <a href=\"file:///home/j-gunmo/desktop/00.my-project/17.P-Stage-T1003/4-STAGE/fe/feature.py\"><span style=\"color: #7f7f7f\">feature.py</span></a><span style=\"color: #7f7f7f\">:109</span>\n",
       "</pre>\n"
      ],
      "text/plain": [
       "<rich.jupyter.JupyterRenderable at 0x7f1c04ac99d0>"
      ]
     },
     "metadata": {},
     "output_type": "display_data"
    },
    {
     "name": "stderr",
     "output_type": "stream",
     "text": [
      "INDEX 3000: 005\n"
     ]
    },
    {
     "data": {
      "text/html": [
       "<pre style=\"white-space:pre;overflow-x:auto;line-height:normal;font-family:Menlo,'DejaVu Sans Mono',consolas,'Courier New',monospace\"><span style=\"color: #7fbfbf\">           </span><span style=\"color: #000080\">INFO    </span> INDEX <span style=\"color: #000080; font-weight: bold\">3000</span>: <span style=\"color: #000080; font-weight: bold\">005</span>                                            <a href=\"file:///home/j-gunmo/desktop/00.my-project/17.P-Stage-T1003/4-STAGE/fe/feature.py\"><span style=\"color: #7f7f7f\">feature.py</span></a><span style=\"color: #7f7f7f\">:109</span>\n",
       "</pre>\n"
      ],
      "text/plain": [
       "<rich.jupyter.JupyterRenderable at 0x7f1c04ac9400>"
      ]
     },
     "metadata": {},
     "output_type": "display_data"
    },
    {
     "name": "stderr",
     "output_type": "stream",
     "text": [
      "INDEX 4000: 003\n"
     ]
    },
    {
     "data": {
      "text/html": [
       "<pre style=\"white-space:pre;overflow-x:auto;line-height:normal;font-family:Menlo,'DejaVu Sans Mono',consolas,'Courier New',monospace\"><span style=\"color: #7fbfbf\">           </span><span style=\"color: #000080\">INFO    </span> INDEX <span style=\"color: #000080; font-weight: bold\">4000</span>: <span style=\"color: #000080; font-weight: bold\">003</span>                                            <a href=\"file:///home/j-gunmo/desktop/00.my-project/17.P-Stage-T1003/4-STAGE/fe/feature.py\"><span style=\"color: #7f7f7f\">feature.py</span></a><span style=\"color: #7f7f7f\">:109</span>\n",
       "</pre>\n"
      ],
      "text/plain": [
       "<rich.jupyter.JupyterRenderable at 0x7f1c04ac9c40>"
      ]
     },
     "metadata": {},
     "output_type": "display_data"
    },
    {
     "name": "stderr",
     "output_type": "stream",
     "text": [
      "INDEX 5000: 003\n"
     ]
    },
    {
     "data": {
      "text/html": [
       "<pre style=\"white-space:pre;overflow-x:auto;line-height:normal;font-family:Menlo,'DejaVu Sans Mono',consolas,'Courier New',monospace\"><span style=\"color: #7fbfbf\">           </span><span style=\"color: #000080\">INFO    </span> INDEX <span style=\"color: #000080; font-weight: bold\">5000</span>: <span style=\"color: #000080; font-weight: bold\">003</span>                                            <a href=\"file:///home/j-gunmo/desktop/00.my-project/17.P-Stage-T1003/4-STAGE/fe/feature.py\"><span style=\"color: #7f7f7f\">feature.py</span></a><span style=\"color: #7f7f7f\">:109</span>\n",
       "</pre>\n"
      ],
      "text/plain": [
       "<rich.jupyter.JupyterRenderable at 0x7f1c04ac9070>"
      ]
     },
     "metadata": {},
     "output_type": "display_data"
    },
    {
     "name": "stderr",
     "output_type": "stream",
     "text": [
      "INDEX 6000: 004\n"
     ]
    },
    {
     "data": {
      "text/html": [
       "<pre style=\"white-space:pre;overflow-x:auto;line-height:normal;font-family:Menlo,'DejaVu Sans Mono',consolas,'Courier New',monospace\"><span style=\"color: #7fbfbf\">           </span><span style=\"color: #000080\">INFO    </span> INDEX <span style=\"color: #000080; font-weight: bold\">6000</span>: <span style=\"color: #000080; font-weight: bold\">004</span>                                            <a href=\"file:///home/j-gunmo/desktop/00.my-project/17.P-Stage-T1003/4-STAGE/fe/feature.py\"><span style=\"color: #7f7f7f\">feature.py</span></a><span style=\"color: #7f7f7f\">:109</span>\n",
       "</pre>\n"
      ],
      "text/plain": [
       "<rich.jupyter.JupyterRenderable at 0x7f1c04ac9e20>"
      ]
     },
     "metadata": {},
     "output_type": "display_data"
    },
    {
     "name": "stderr",
     "output_type": "stream",
     "text": [
      "INDEX 7000: 002\n"
     ]
    },
    {
     "data": {
      "text/html": [
       "<pre style=\"white-space:pre;overflow-x:auto;line-height:normal;font-family:Menlo,'DejaVu Sans Mono',consolas,'Courier New',monospace\"><span style=\"color: #7fbfbf\">           </span><span style=\"color: #000080\">INFO    </span> INDEX <span style=\"color: #000080; font-weight: bold\">7000</span>: <span style=\"color: #000080; font-weight: bold\">002</span>                                            <a href=\"file:///home/j-gunmo/desktop/00.my-project/17.P-Stage-T1003/4-STAGE/fe/feature.py\"><span style=\"color: #7f7f7f\">feature.py</span></a><span style=\"color: #7f7f7f\">:109</span>\n",
       "</pre>\n"
      ],
      "text/plain": [
       "<rich.jupyter.JupyterRenderable at 0x7f1c04ac9c70>"
      ]
     },
     "metadata": {},
     "output_type": "display_data"
    },
    {
     "name": "stderr",
     "output_type": "stream",
     "text": [
      "INDEX 8000: 003\n"
     ]
    },
    {
     "data": {
      "text/html": [
       "<pre style=\"white-space:pre;overflow-x:auto;line-height:normal;font-family:Menlo,'DejaVu Sans Mono',consolas,'Courier New',monospace\"><span style=\"color: #7fbfbf\">           </span><span style=\"color: #000080\">INFO    </span> INDEX <span style=\"color: #000080; font-weight: bold\">8000</span>: <span style=\"color: #000080; font-weight: bold\">003</span>                                            <a href=\"file:///home/j-gunmo/desktop/00.my-project/17.P-Stage-T1003/4-STAGE/fe/feature.py\"><span style=\"color: #7f7f7f\">feature.py</span></a><span style=\"color: #7f7f7f\">:109</span>\n",
       "</pre>\n"
      ],
      "text/plain": [
       "<rich.jupyter.JupyterRenderable at 0x7f1c04ac97c0>"
      ]
     },
     "metadata": {},
     "output_type": "display_data"
    },
    {
     "name": "stderr",
     "output_type": "stream",
     "text": [
      "INDEX 9000: 007\n"
     ]
    },
    {
     "data": {
      "text/html": [
       "<pre style=\"white-space:pre;overflow-x:auto;line-height:normal;font-family:Menlo,'DejaVu Sans Mono',consolas,'Courier New',monospace\"><span style=\"color: #7fbfbf\">           </span><span style=\"color: #000080\">INFO    </span> INDEX <span style=\"color: #000080; font-weight: bold\">9000</span>: <span style=\"color: #000080; font-weight: bold\">007</span>                                            <a href=\"file:///home/j-gunmo/desktop/00.my-project/17.P-Stage-T1003/4-STAGE/fe/feature.py\"><span style=\"color: #7f7f7f\">feature.py</span></a><span style=\"color: #7f7f7f\">:109</span>\n",
       "</pre>\n"
      ],
      "text/plain": [
       "<rich.jupyter.JupyterRenderable at 0x7f1c04ac9640>"
      ]
     },
     "metadata": {},
     "output_type": "display_data"
    },
    {
     "name": "stdout",
     "output_type": "stream",
     "text": [
      "load features /home/j-gunmo/features/train_convert_time.pkl to dataframe ... \n"
     ]
    },
    {
     "name": "stderr",
     "output_type": "stream",
     "text": [
      "\n",
      "Feature Engineering Name: convert_time\n"
     ]
    },
    {
     "data": {
      "text/html": [
       "<pre style=\"white-space:pre;overflow-x:auto;line-height:normal;font-family:Menlo,'DejaVu Sans Mono',consolas,'Courier New',monospace\"><span style=\"color: #7fbfbf\">           </span><span style=\"color: #000080\">INFO    </span>                                                            <a href=\"file:///home/j-gunmo/desktop/00.my-project/17.P-Stage-T1003/4-STAGE/fe/feature.py\"><span style=\"color: #7f7f7f\">feature.py</span></a><span style=\"color: #7f7f7f\">:101</span>\n",
       "                    Feature Engineering Name: convert_time                                   \n",
       "</pre>\n"
      ],
      "text/plain": [
       "<rich.jupyter.JupyterRenderable at 0x7f1cdc7cf7c0>"
      ]
     },
     "metadata": {},
     "output_type": "display_data"
    },
    {
     "name": "stderr",
     "output_type": "stream",
     "text": [
      "\n",
      "timeSec         : 사용자가 문항을 푼 타임스태프 정보입니다.\n"
     ]
    },
    {
     "data": {
      "text/html": [
       "<pre style=\"white-space:pre;overflow-x:auto;line-height:normal;font-family:Menlo,'DejaVu Sans Mono',consolas,'Courier New',monospace\"><span style=\"color: #7fbfbf\">           </span><span style=\"color: #000080\">INFO    </span>                                                            <a href=\"file:///home/j-gunmo/desktop/00.my-project/17.P-Stage-T1003/4-STAGE/fe/feature.py\"><span style=\"color: #7f7f7f\">feature.py</span></a><span style=\"color: #7f7f7f\">:104</span>\n",
       "                    timeSec         : 사용자가 문항을 푼 타임스태프                          \n",
       "                    정보입니다.                                                              \n",
       "</pre>\n"
      ],
      "text/plain": [
       "<rich.jupyter.JupyterRenderable at 0x7f1cdc7cf7f0>"
      ]
     },
     "metadata": {},
     "output_type": "display_data"
    },
    {
     "name": "stderr",
     "output_type": "stream",
     "text": [
      "dtype: int64\n"
     ]
    },
    {
     "data": {
      "text/html": [
       "<pre style=\"white-space:pre;overflow-x:auto;line-height:normal;font-family:Menlo,'DejaVu Sans Mono',consolas,'Courier New',monospace\"><span style=\"color: #7fbfbf\">           </span><span style=\"color: #000080\">INFO    </span> dtype: int64                                               <a href=\"file:///home/j-gunmo/desktop/00.my-project/17.P-Stage-T1003/4-STAGE/fe/feature.py\"><span style=\"color: #7f7f7f\">feature.py</span></a><span style=\"color: #7f7f7f\">:105</span>\n",
       "</pre>\n"
      ],
      "text/plain": [
       "<rich.jupyter.JupyterRenderable at 0x7f1cdc7e7910>"
      ]
     },
     "metadata": {},
     "output_type": "display_data"
    },
    {
     "name": "stderr",
     "output_type": "stream",
     "text": [
      "[Examples]\n"
     ]
    },
    {
     "data": {
      "text/html": [
       "<pre style=\"white-space:pre;overflow-x:auto;line-height:normal;font-family:Menlo,'DejaVu Sans Mono',consolas,'Courier New',monospace\"><span style=\"color: #7fbfbf\">[06:02:05] </span><span style=\"color: #000080\">INFO    </span> <span style=\"font-weight: bold\">[</span>Examples<span style=\"font-weight: bold\">]</span>                                                 <a href=\"file:///home/j-gunmo/desktop/00.my-project/17.P-Stage-T1003/4-STAGE/fe/feature.py\"><span style=\"color: #7f7f7f\">feature.py</span></a><span style=\"color: #7f7f7f\">:106</span>\n",
       "</pre>\n"
      ],
      "text/plain": [
       "<rich.jupyter.JupyterRenderable at 0x7f1cdc7cfb80>"
      ]
     },
     "metadata": {},
     "output_type": "display_data"
    },
    {
     "name": "stderr",
     "output_type": "stream",
     "text": [
      "INDEX 0000: 1584976631\n"
     ]
    },
    {
     "data": {
      "text/html": [
       "<pre style=\"white-space:pre;overflow-x:auto;line-height:normal;font-family:Menlo,'DejaVu Sans Mono',consolas,'Courier New',monospace\"><span style=\"color: #7fbfbf\">           </span><span style=\"color: #000080\">INFO    </span> INDEX <span style=\"color: #000080; font-weight: bold\">0000</span>: <span style=\"color: #000080; font-weight: bold\">1584976631</span>                                     <a href=\"file:///home/j-gunmo/desktop/00.my-project/17.P-Stage-T1003/4-STAGE/fe/feature.py\"><span style=\"color: #7f7f7f\">feature.py</span></a><span style=\"color: #7f7f7f\">:109</span>\n",
       "</pre>\n"
      ],
      "text/plain": [
       "<rich.jupyter.JupyterRenderable at 0x7f1cdc7e7970>"
      ]
     },
     "metadata": {},
     "output_type": "display_data"
    },
    {
     "name": "stderr",
     "output_type": "stream",
     "text": [
      "INDEX 1000: 1588175753\n"
     ]
    },
    {
     "data": {
      "text/html": [
       "<pre style=\"white-space:pre;overflow-x:auto;line-height:normal;font-family:Menlo,'DejaVu Sans Mono',consolas,'Courier New',monospace\"><span style=\"color: #7fbfbf\">           </span><span style=\"color: #000080\">INFO    </span> INDEX <span style=\"color: #000080; font-weight: bold\">1000</span>: <span style=\"color: #000080; font-weight: bold\">1588175753</span>                                     <a href=\"file:///home/j-gunmo/desktop/00.my-project/17.P-Stage-T1003/4-STAGE/fe/feature.py\"><span style=\"color: #7f7f7f\">feature.py</span></a><span style=\"color: #7f7f7f\">:109</span>\n",
       "</pre>\n"
      ],
      "text/plain": [
       "<rich.jupyter.JupyterRenderable at 0x7f1cdc7cfe50>"
      ]
     },
     "metadata": {},
     "output_type": "display_data"
    },
    {
     "name": "stderr",
     "output_type": "stream",
     "text": [
      "INDEX 2000: 1590428625\n"
     ]
    },
    {
     "data": {
      "text/html": [
       "<pre style=\"white-space:pre;overflow-x:auto;line-height:normal;font-family:Menlo,'DejaVu Sans Mono',consolas,'Courier New',monospace\"><span style=\"color: #7fbfbf\">           </span><span style=\"color: #000080\">INFO    </span> INDEX <span style=\"color: #000080; font-weight: bold\">2000</span>: <span style=\"color: #000080; font-weight: bold\">1590428625</span>                                     <a href=\"file:///home/j-gunmo/desktop/00.my-project/17.P-Stage-T1003/4-STAGE/fe/feature.py\"><span style=\"color: #7f7f7f\">feature.py</span></a><span style=\"color: #7f7f7f\">:109</span>\n",
       "</pre>\n"
      ],
      "text/plain": [
       "<rich.jupyter.JupyterRenderable at 0x7f1cdc7cfb80>"
      ]
     },
     "metadata": {},
     "output_type": "display_data"
    },
    {
     "name": "stderr",
     "output_type": "stream",
     "text": [
      "INDEX 3000: 1592332726\n"
     ]
    },
    {
     "data": {
      "text/html": [
       "<pre style=\"white-space:pre;overflow-x:auto;line-height:normal;font-family:Menlo,'DejaVu Sans Mono',consolas,'Courier New',monospace\"><span style=\"color: #7fbfbf\">           </span><span style=\"color: #000080\">INFO    </span> INDEX <span style=\"color: #000080; font-weight: bold\">3000</span>: <span style=\"color: #000080; font-weight: bold\">1592332726</span>                                     <a href=\"file:///home/j-gunmo/desktop/00.my-project/17.P-Stage-T1003/4-STAGE/fe/feature.py\"><span style=\"color: #7f7f7f\">feature.py</span></a><span style=\"color: #7f7f7f\">:109</span>\n",
       "</pre>\n"
      ],
      "text/plain": [
       "<rich.jupyter.JupyterRenderable at 0x7f1cdc7e7a30>"
      ]
     },
     "metadata": {},
     "output_type": "display_data"
    },
    {
     "name": "stderr",
     "output_type": "stream",
     "text": [
      "INDEX 4000: 1594832366\n"
     ]
    },
    {
     "data": {
      "text/html": [
       "<pre style=\"white-space:pre;overflow-x:auto;line-height:normal;font-family:Menlo,'DejaVu Sans Mono',consolas,'Courier New',monospace\"><span style=\"color: #7fbfbf\">           </span><span style=\"color: #000080\">INFO    </span> INDEX <span style=\"color: #000080; font-weight: bold\">4000</span>: <span style=\"color: #000080; font-weight: bold\">1594832366</span>                                     <a href=\"file:///home/j-gunmo/desktop/00.my-project/17.P-Stage-T1003/4-STAGE/fe/feature.py\"><span style=\"color: #7f7f7f\">feature.py</span></a><span style=\"color: #7f7f7f\">:109</span>\n",
       "</pre>\n"
      ],
      "text/plain": [
       "<rich.jupyter.JupyterRenderable at 0x7f1cdc7e7970>"
      ]
     },
     "metadata": {},
     "output_type": "display_data"
    },
    {
     "name": "stderr",
     "output_type": "stream",
     "text": [
      "INDEX 5000: 1599493405\n"
     ]
    },
    {
     "data": {
      "text/html": [
       "<pre style=\"white-space:pre;overflow-x:auto;line-height:normal;font-family:Menlo,'DejaVu Sans Mono',consolas,'Courier New',monospace\"><span style=\"color: #7fbfbf\">           </span><span style=\"color: #000080\">INFO    </span> INDEX <span style=\"color: #000080; font-weight: bold\">5000</span>: <span style=\"color: #000080; font-weight: bold\">1599493405</span>                                     <a href=\"file:///home/j-gunmo/desktop/00.my-project/17.P-Stage-T1003/4-STAGE/fe/feature.py\"><span style=\"color: #7f7f7f\">feature.py</span></a><span style=\"color: #7f7f7f\">:109</span>\n",
       "</pre>\n"
      ],
      "text/plain": [
       "<rich.jupyter.JupyterRenderable at 0x7f1cdc7e7a00>"
      ]
     },
     "metadata": {},
     "output_type": "display_data"
    },
    {
     "name": "stderr",
     "output_type": "stream",
     "text": [
      "INDEX 6000: 1602576550\n"
     ]
    },
    {
     "data": {
      "text/html": [
       "<pre style=\"white-space:pre;overflow-x:auto;line-height:normal;font-family:Menlo,'DejaVu Sans Mono',consolas,'Courier New',monospace\"><span style=\"color: #7fbfbf\">           </span><span style=\"color: #000080\">INFO    </span> INDEX <span style=\"color: #000080; font-weight: bold\">6000</span>: <span style=\"color: #000080; font-weight: bold\">1602576550</span>                                     <a href=\"file:///home/j-gunmo/desktop/00.my-project/17.P-Stage-T1003/4-STAGE/fe/feature.py\"><span style=\"color: #7f7f7f\">feature.py</span></a><span style=\"color: #7f7f7f\">:109</span>\n",
       "</pre>\n"
      ],
      "text/plain": [
       "<rich.jupyter.JupyterRenderable at 0x7f1cdc7cfb80>"
      ]
     },
     "metadata": {},
     "output_type": "display_data"
    },
    {
     "name": "stderr",
     "output_type": "stream",
     "text": [
      "INDEX 7000: 1604429286\n"
     ]
    },
    {
     "data": {
      "text/html": [
       "<pre style=\"white-space:pre;overflow-x:auto;line-height:normal;font-family:Menlo,'DejaVu Sans Mono',consolas,'Courier New',monospace\"><span style=\"color: #7fbfbf\">           </span><span style=\"color: #000080\">INFO    </span> INDEX <span style=\"color: #000080; font-weight: bold\">7000</span>: <span style=\"color: #000080; font-weight: bold\">1604429286</span>                                     <a href=\"file:///home/j-gunmo/desktop/00.my-project/17.P-Stage-T1003/4-STAGE/fe/feature.py\"><span style=\"color: #7f7f7f\">feature.py</span></a><span style=\"color: #7f7f7f\">:109</span>\n",
       "</pre>\n"
      ],
      "text/plain": [
       "<rich.jupyter.JupyterRenderable at 0x7f1cdc7cfbb0>"
      ]
     },
     "metadata": {},
     "output_type": "display_data"
    },
    {
     "name": "stderr",
     "output_type": "stream",
     "text": [
      "INDEX 8000: 1581193055\n"
     ]
    },
    {
     "data": {
      "text/html": [
       "<pre style=\"white-space:pre;overflow-x:auto;line-height:normal;font-family:Menlo,'DejaVu Sans Mono',consolas,'Courier New',monospace\"><span style=\"color: #7fbfbf\">           </span><span style=\"color: #000080\">INFO    </span> INDEX <span style=\"color: #000080; font-weight: bold\">8000</span>: <span style=\"color: #000080; font-weight: bold\">1581193055</span>                                     <a href=\"file:///home/j-gunmo/desktop/00.my-project/17.P-Stage-T1003/4-STAGE/fe/feature.py\"><span style=\"color: #7f7f7f\">feature.py</span></a><span style=\"color: #7f7f7f\">:109</span>\n",
       "</pre>\n"
      ],
      "text/plain": [
       "<rich.jupyter.JupyterRenderable at 0x7f1cdc7e7250>"
      ]
     },
     "metadata": {},
     "output_type": "display_data"
    },
    {
     "name": "stderr",
     "output_type": "stream",
     "text": [
      "INDEX 9000: 1584613367\n"
     ]
    },
    {
     "data": {
      "text/html": [
       "<pre style=\"white-space:pre;overflow-x:auto;line-height:normal;font-family:Menlo,'DejaVu Sans Mono',consolas,'Courier New',monospace\"><span style=\"color: #7fbfbf\">           </span><span style=\"color: #000080\">INFO    </span> INDEX <span style=\"color: #000080; font-weight: bold\">9000</span>: <span style=\"color: #000080; font-weight: bold\">1584613367</span>                                     <a href=\"file:///home/j-gunmo/desktop/00.my-project/17.P-Stage-T1003/4-STAGE/fe/feature.py\"><span style=\"color: #7f7f7f\">feature.py</span></a><span style=\"color: #7f7f7f\">:109</span>\n",
       "</pre>\n"
      ],
      "text/plain": [
       "<rich.jupyter.JupyterRenderable at 0x7f1cdc7e7820>"
      ]
     },
     "metadata": {},
     "output_type": "display_data"
    },
    {
     "name": "stdout",
     "output_type": "stream",
     "text": [
      "load features /home/j-gunmo/features/train_make_first_class.pkl to dataframe ... \n"
     ]
    },
    {
     "name": "stderr",
     "output_type": "stream",
     "text": [
      "\n",
      "Feature Engineering Name: make_first_class\n"
     ]
    },
    {
     "data": {
      "text/html": [
       "<pre style=\"white-space:pre;overflow-x:auto;line-height:normal;font-family:Menlo,'DejaVu Sans Mono',consolas,'Courier New',monospace\"><span style=\"color: #7fbfbf\">           </span><span style=\"color: #000080\">INFO    </span>                                                            <a href=\"file:///home/j-gunmo/desktop/00.my-project/17.P-Stage-T1003/4-STAGE/fe/feature.py\"><span style=\"color: #7f7f7f\">feature.py</span></a><span style=\"color: #7f7f7f\">:101</span>\n",
       "                    Feature Engineering Name: make_first_class                               \n",
       "</pre>\n"
      ],
      "text/plain": [
       "<rich.jupyter.JupyterRenderable at 0x7f1c04ac9f10>"
      ]
     },
     "metadata": {},
     "output_type": "display_data"
    },
    {
     "name": "stderr",
     "output_type": "stream",
     "text": [
      "\n",
      "firstClass      : 대분류에 해당합니다.\n"
     ]
    },
    {
     "data": {
      "text/html": [
       "<pre style=\"white-space:pre;overflow-x:auto;line-height:normal;font-family:Menlo,'DejaVu Sans Mono',consolas,'Courier New',monospace\"><span style=\"color: #7fbfbf\">           </span><span style=\"color: #000080\">INFO    </span>                                                            <a href=\"file:///home/j-gunmo/desktop/00.my-project/17.P-Stage-T1003/4-STAGE/fe/feature.py\"><span style=\"color: #7f7f7f\">feature.py</span></a><span style=\"color: #7f7f7f\">:104</span>\n",
       "                    firstClass      : 대분류에 해당합니다.                                   \n",
       "</pre>\n"
      ],
      "text/plain": [
       "<rich.jupyter.JupyterRenderable at 0x7f1c04ac9310>"
      ]
     },
     "metadata": {},
     "output_type": "display_data"
    },
    {
     "name": "stderr",
     "output_type": "stream",
     "text": [
      "dtype: object\n"
     ]
    },
    {
     "data": {
      "text/html": [
       "<pre style=\"white-space:pre;overflow-x:auto;line-height:normal;font-family:Menlo,'DejaVu Sans Mono',consolas,'Courier New',monospace\"><span style=\"color: #7fbfbf\">           </span><span style=\"color: #000080\">INFO    </span> dtype: object                                              <a href=\"file:///home/j-gunmo/desktop/00.my-project/17.P-Stage-T1003/4-STAGE/fe/feature.py\"><span style=\"color: #7f7f7f\">feature.py</span></a><span style=\"color: #7f7f7f\">:105</span>\n",
       "</pre>\n"
      ],
      "text/plain": [
       "<rich.jupyter.JupyterRenderable at 0x7f1c04ac9dc0>"
      ]
     },
     "metadata": {},
     "output_type": "display_data"
    },
    {
     "name": "stderr",
     "output_type": "stream",
     "text": [
      "[Examples]\n"
     ]
    },
    {
     "data": {
      "text/html": [
       "<pre style=\"white-space:pre;overflow-x:auto;line-height:normal;font-family:Menlo,'DejaVu Sans Mono',consolas,'Courier New',monospace\"><span style=\"color: #7fbfbf\">           </span><span style=\"color: #000080\">INFO    </span> <span style=\"font-weight: bold\">[</span>Examples<span style=\"font-weight: bold\">]</span>                                                 <a href=\"file:///home/j-gunmo/desktop/00.my-project/17.P-Stage-T1003/4-STAGE/fe/feature.py\"><span style=\"color: #7f7f7f\">feature.py</span></a><span style=\"color: #7f7f7f\">:106</span>\n",
       "</pre>\n"
      ],
      "text/plain": [
       "<rich.jupyter.JupyterRenderable at 0x7f1c04ac93d0>"
      ]
     },
     "metadata": {},
     "output_type": "display_data"
    },
    {
     "name": "stderr",
     "output_type": "stream",
     "text": [
      "INDEX 0000: 6\n"
     ]
    },
    {
     "data": {
      "text/html": [
       "<pre style=\"white-space:pre;overflow-x:auto;line-height:normal;font-family:Menlo,'DejaVu Sans Mono',consolas,'Courier New',monospace\"><span style=\"color: #7fbfbf\">           </span><span style=\"color: #000080\">INFO    </span> INDEX <span style=\"color: #000080; font-weight: bold\">0000</span>: <span style=\"color: #000080; font-weight: bold\">6</span>                                              <a href=\"file:///home/j-gunmo/desktop/00.my-project/17.P-Stage-T1003/4-STAGE/fe/feature.py\"><span style=\"color: #7f7f7f\">feature.py</span></a><span style=\"color: #7f7f7f\">:109</span>\n",
       "</pre>\n"
      ],
      "text/plain": [
       "<rich.jupyter.JupyterRenderable at 0x7f1c04ac9c40>"
      ]
     },
     "metadata": {},
     "output_type": "display_data"
    },
    {
     "name": "stderr",
     "output_type": "stream",
     "text": [
      "INDEX 1000: 8\n"
     ]
    },
    {
     "data": {
      "text/html": [
       "<pre style=\"white-space:pre;overflow-x:auto;line-height:normal;font-family:Menlo,'DejaVu Sans Mono',consolas,'Courier New',monospace\"><span style=\"color: #7fbfbf\">           </span><span style=\"color: #000080\">INFO    </span> INDEX <span style=\"color: #000080; font-weight: bold\">1000</span>: <span style=\"color: #000080; font-weight: bold\">8</span>                                              <a href=\"file:///home/j-gunmo/desktop/00.my-project/17.P-Stage-T1003/4-STAGE/fe/feature.py\"><span style=\"color: #7f7f7f\">feature.py</span></a><span style=\"color: #7f7f7f\">:109</span>\n",
       "</pre>\n"
      ],
      "text/plain": [
       "<rich.jupyter.JupyterRenderable at 0x7f1c04ac97f0>"
      ]
     },
     "metadata": {},
     "output_type": "display_data"
    },
    {
     "name": "stderr",
     "output_type": "stream",
     "text": [
      "INDEX 2000: 6\n"
     ]
    },
    {
     "data": {
      "text/html": [
       "<pre style=\"white-space:pre;overflow-x:auto;line-height:normal;font-family:Menlo,'DejaVu Sans Mono',consolas,'Courier New',monospace\"><span style=\"color: #7fbfbf\">           </span><span style=\"color: #000080\">INFO    </span> INDEX <span style=\"color: #000080; font-weight: bold\">2000</span>: <span style=\"color: #000080; font-weight: bold\">6</span>                                              <a href=\"file:///home/j-gunmo/desktop/00.my-project/17.P-Stage-T1003/4-STAGE/fe/feature.py\"><span style=\"color: #7f7f7f\">feature.py</span></a><span style=\"color: #7f7f7f\">:109</span>\n",
       "</pre>\n"
      ],
      "text/plain": [
       "<rich.jupyter.JupyterRenderable at 0x7f1c04ac9e50>"
      ]
     },
     "metadata": {},
     "output_type": "display_data"
    },
    {
     "name": "stderr",
     "output_type": "stream",
     "text": [
      "INDEX 3000: 8\n"
     ]
    },
    {
     "data": {
      "text/html": [
       "<pre style=\"white-space:pre;overflow-x:auto;line-height:normal;font-family:Menlo,'DejaVu Sans Mono',consolas,'Courier New',monospace\"><span style=\"color: #7fbfbf\">           </span><span style=\"color: #000080\">INFO    </span> INDEX <span style=\"color: #000080; font-weight: bold\">3000</span>: <span style=\"color: #000080; font-weight: bold\">8</span>                                              <a href=\"file:///home/j-gunmo/desktop/00.my-project/17.P-Stage-T1003/4-STAGE/fe/feature.py\"><span style=\"color: #7f7f7f\">feature.py</span></a><span style=\"color: #7f7f7f\">:109</span>\n",
       "</pre>\n"
      ],
      "text/plain": [
       "<rich.jupyter.JupyterRenderable at 0x7f1c04ac9eb0>"
      ]
     },
     "metadata": {},
     "output_type": "display_data"
    },
    {
     "name": "stderr",
     "output_type": "stream",
     "text": [
      "INDEX 4000: 6\n"
     ]
    },
    {
     "data": {
      "text/html": [
       "<pre style=\"white-space:pre;overflow-x:auto;line-height:normal;font-family:Menlo,'DejaVu Sans Mono',consolas,'Courier New',monospace\"><span style=\"color: #7fbfbf\">           </span><span style=\"color: #000080\">INFO    </span> INDEX <span style=\"color: #000080; font-weight: bold\">4000</span>: <span style=\"color: #000080; font-weight: bold\">6</span>                                              <a href=\"file:///home/j-gunmo/desktop/00.my-project/17.P-Stage-T1003/4-STAGE/fe/feature.py\"><span style=\"color: #7f7f7f\">feature.py</span></a><span style=\"color: #7f7f7f\">:109</span>\n",
       "</pre>\n"
      ],
      "text/plain": [
       "<rich.jupyter.JupyterRenderable at 0x7f1c04ac9460>"
      ]
     },
     "metadata": {},
     "output_type": "display_data"
    },
    {
     "name": "stderr",
     "output_type": "stream",
     "text": [
      "INDEX 5000: 6\n"
     ]
    },
    {
     "data": {
      "text/html": [
       "<pre style=\"white-space:pre;overflow-x:auto;line-height:normal;font-family:Menlo,'DejaVu Sans Mono',consolas,'Courier New',monospace\"><span style=\"color: #7fbfbf\">           </span><span style=\"color: #000080\">INFO    </span> INDEX <span style=\"color: #000080; font-weight: bold\">5000</span>: <span style=\"color: #000080; font-weight: bold\">6</span>                                              <a href=\"file:///home/j-gunmo/desktop/00.my-project/17.P-Stage-T1003/4-STAGE/fe/feature.py\"><span style=\"color: #7f7f7f\">feature.py</span></a><span style=\"color: #7f7f7f\">:109</span>\n",
       "</pre>\n"
      ],
      "text/plain": [
       "<rich.jupyter.JupyterRenderable at 0x7f1c04ac9d90>"
      ]
     },
     "metadata": {},
     "output_type": "display_data"
    },
    {
     "name": "stderr",
     "output_type": "stream",
     "text": [
      "INDEX 6000: 8\n"
     ]
    },
    {
     "data": {
      "text/html": [
       "<pre style=\"white-space:pre;overflow-x:auto;line-height:normal;font-family:Menlo,'DejaVu Sans Mono',consolas,'Courier New',monospace\"><span style=\"color: #7fbfbf\">           </span><span style=\"color: #000080\">INFO    </span> INDEX <span style=\"color: #000080; font-weight: bold\">6000</span>: <span style=\"color: #000080; font-weight: bold\">8</span>                                              <a href=\"file:///home/j-gunmo/desktop/00.my-project/17.P-Stage-T1003/4-STAGE/fe/feature.py\"><span style=\"color: #7f7f7f\">feature.py</span></a><span style=\"color: #7f7f7f\">:109</span>\n",
       "</pre>\n"
      ],
      "text/plain": [
       "<rich.jupyter.JupyterRenderable at 0x7f1c04ac9df0>"
      ]
     },
     "metadata": {},
     "output_type": "display_data"
    },
    {
     "name": "stderr",
     "output_type": "stream",
     "text": [
      "INDEX 7000: 8\n"
     ]
    },
    {
     "data": {
      "text/html": [
       "<pre style=\"white-space:pre;overflow-x:auto;line-height:normal;font-family:Menlo,'DejaVu Sans Mono',consolas,'Courier New',monospace\"><span style=\"color: #7fbfbf\">           </span><span style=\"color: #000080\">INFO    </span> INDEX <span style=\"color: #000080; font-weight: bold\">7000</span>: <span style=\"color: #000080; font-weight: bold\">8</span>                                              <a href=\"file:///home/j-gunmo/desktop/00.my-project/17.P-Stage-T1003/4-STAGE/fe/feature.py\"><span style=\"color: #7f7f7f\">feature.py</span></a><span style=\"color: #7f7f7f\">:109</span>\n",
       "</pre>\n"
      ],
      "text/plain": [
       "<rich.jupyter.JupyterRenderable at 0x7f1c04ac9cd0>"
      ]
     },
     "metadata": {},
     "output_type": "display_data"
    },
    {
     "name": "stderr",
     "output_type": "stream",
     "text": [
      "INDEX 8000: 4\n"
     ]
    },
    {
     "data": {
      "text/html": [
       "<pre style=\"white-space:pre;overflow-x:auto;line-height:normal;font-family:Menlo,'DejaVu Sans Mono',consolas,'Courier New',monospace\"><span style=\"color: #7fbfbf\">           </span><span style=\"color: #000080\">INFO    </span> INDEX <span style=\"color: #000080; font-weight: bold\">8000</span>: <span style=\"color: #000080; font-weight: bold\">4</span>                                              <a href=\"file:///home/j-gunmo/desktop/00.my-project/17.P-Stage-T1003/4-STAGE/fe/feature.py\"><span style=\"color: #7f7f7f\">feature.py</span></a><span style=\"color: #7f7f7f\">:109</span>\n",
       "</pre>\n"
      ],
      "text/plain": [
       "<rich.jupyter.JupyterRenderable at 0x7f1c04ac9d60>"
      ]
     },
     "metadata": {},
     "output_type": "display_data"
    },
    {
     "name": "stderr",
     "output_type": "stream",
     "text": [
      "INDEX 9000: 9\n"
     ]
    },
    {
     "data": {
      "text/html": [
       "<pre style=\"white-space:pre;overflow-x:auto;line-height:normal;font-family:Menlo,'DejaVu Sans Mono',consolas,'Courier New',monospace\"><span style=\"color: #7fbfbf\">           </span><span style=\"color: #000080\">INFO    </span> INDEX <span style=\"color: #000080; font-weight: bold\">9000</span>: <span style=\"color: #000080; font-weight: bold\">9</span>                                              <a href=\"file:///home/j-gunmo/desktop/00.my-project/17.P-Stage-T1003/4-STAGE/fe/feature.py\"><span style=\"color: #7f7f7f\">feature.py</span></a><span style=\"color: #7f7f7f\">:109</span>\n",
       "</pre>\n"
      ],
      "text/plain": [
       "<rich.jupyter.JupyterRenderable at 0x7f1c04ac9070>"
      ]
     },
     "metadata": {},
     "output_type": "display_data"
    },
    {
     "name": "stdout",
     "output_type": "stream",
     "text": [
      "load features /home/j-gunmo/features/train_make_second_class.pkl to dataframe ... \n"
     ]
    },
    {
     "name": "stderr",
     "output_type": "stream",
     "text": [
      "\n",
      "Feature Engineering Name: make_second_class\n"
     ]
    },
    {
     "data": {
      "text/html": [
       "<pre style=\"white-space:pre;overflow-x:auto;line-height:normal;font-family:Menlo,'DejaVu Sans Mono',consolas,'Courier New',monospace\"><span style=\"color: #7fbfbf\">[06:02:06] </span><span style=\"color: #000080\">INFO    </span>                                                            <a href=\"file:///home/j-gunmo/desktop/00.my-project/17.P-Stage-T1003/4-STAGE/fe/feature.py\"><span style=\"color: #7f7f7f\">feature.py</span></a><span style=\"color: #7f7f7f\">:101</span>\n",
       "                    Feature Engineering Name: make_second_class                              \n",
       "</pre>\n"
      ],
      "text/plain": [
       "<rich.jupyter.JupyterRenderable at 0x7f1c04ac9640>"
      ]
     },
     "metadata": {},
     "output_type": "display_data"
    },
    {
     "name": "stderr",
     "output_type": "stream",
     "text": [
      "\n",
      "secondClass     : 중분류에 해당합니다.\n"
     ]
    },
    {
     "data": {
      "text/html": [
       "<pre style=\"white-space:pre;overflow-x:auto;line-height:normal;font-family:Menlo,'DejaVu Sans Mono',consolas,'Courier New',monospace\"><span style=\"color: #7fbfbf\">           </span><span style=\"color: #000080\">INFO    </span>                                                            <a href=\"file:///home/j-gunmo/desktop/00.my-project/17.P-Stage-T1003/4-STAGE/fe/feature.py\"><span style=\"color: #7f7f7f\">feature.py</span></a><span style=\"color: #7f7f7f\">:104</span>\n",
       "                    secondClass     : 중분류에 해당합니다.                                   \n",
       "</pre>\n"
      ],
      "text/plain": [
       "<rich.jupyter.JupyterRenderable at 0x7f1c04ac9f10>"
      ]
     },
     "metadata": {},
     "output_type": "display_data"
    },
    {
     "name": "stderr",
     "output_type": "stream",
     "text": [
      "dtype: object\n"
     ]
    },
    {
     "data": {
      "text/html": [
       "<pre style=\"white-space:pre;overflow-x:auto;line-height:normal;font-family:Menlo,'DejaVu Sans Mono',consolas,'Courier New',monospace\"><span style=\"color: #7fbfbf\">           </span><span style=\"color: #000080\">INFO    </span> dtype: object                                              <a href=\"file:///home/j-gunmo/desktop/00.my-project/17.P-Stage-T1003/4-STAGE/fe/feature.py\"><span style=\"color: #7f7f7f\">feature.py</span></a><span style=\"color: #7f7f7f\">:105</span>\n",
       "</pre>\n"
      ],
      "text/plain": [
       "<rich.jupyter.JupyterRenderable at 0x7f1c04ac9f40>"
      ]
     },
     "metadata": {},
     "output_type": "display_data"
    },
    {
     "name": "stderr",
     "output_type": "stream",
     "text": [
      "[Examples]\n"
     ]
    },
    {
     "data": {
      "text/html": [
       "<pre style=\"white-space:pre;overflow-x:auto;line-height:normal;font-family:Menlo,'DejaVu Sans Mono',consolas,'Courier New',monospace\"><span style=\"color: #7fbfbf\">           </span><span style=\"color: #000080\">INFO    </span> <span style=\"font-weight: bold\">[</span>Examples<span style=\"font-weight: bold\">]</span>                                                 <a href=\"file:///home/j-gunmo/desktop/00.my-project/17.P-Stage-T1003/4-STAGE/fe/feature.py\"><span style=\"color: #7f7f7f\">feature.py</span></a><span style=\"color: #7f7f7f\">:106</span>\n",
       "</pre>\n"
      ],
      "text/plain": [
       "<rich.jupyter.JupyterRenderable at 0x7f1c04ac9970>"
      ]
     },
     "metadata": {},
     "output_type": "display_data"
    },
    {
     "name": "stderr",
     "output_type": "stream",
     "text": [
      "INDEX 0000: 7224\n"
     ]
    },
    {
     "data": {
      "text/html": [
       "<pre style=\"white-space:pre;overflow-x:auto;line-height:normal;font-family:Menlo,'DejaVu Sans Mono',consolas,'Courier New',monospace\"><span style=\"color: #7fbfbf\">           </span><span style=\"color: #000080\">INFO    </span> INDEX <span style=\"color: #000080; font-weight: bold\">0000</span>: <span style=\"color: #000080; font-weight: bold\">7224</span>                                           <a href=\"file:///home/j-gunmo/desktop/00.my-project/17.P-Stage-T1003/4-STAGE/fe/feature.py\"><span style=\"color: #7f7f7f\">feature.py</span></a><span style=\"color: #7f7f7f\">:109</span>\n",
       "</pre>\n"
      ],
      "text/plain": [
       "<rich.jupyter.JupyterRenderable at 0x7f1c04ac9070>"
      ]
     },
     "metadata": {},
     "output_type": "display_data"
    },
    {
     "name": "stderr",
     "output_type": "stream",
     "text": [
      "INDEX 1000: 4659\n"
     ]
    },
    {
     "data": {
      "text/html": [
       "<pre style=\"white-space:pre;overflow-x:auto;line-height:normal;font-family:Menlo,'DejaVu Sans Mono',consolas,'Courier New',monospace\"><span style=\"color: #7fbfbf\">           </span><span style=\"color: #000080\">INFO    </span> INDEX <span style=\"color: #000080; font-weight: bold\">1000</span>: <span style=\"color: #000080; font-weight: bold\">4659</span>                                           <a href=\"file:///home/j-gunmo/desktop/00.my-project/17.P-Stage-T1003/4-STAGE/fe/feature.py\"><span style=\"color: #7f7f7f\">feature.py</span></a><span style=\"color: #7f7f7f\">:109</span>\n",
       "</pre>\n"
      ],
      "text/plain": [
       "<rich.jupyter.JupyterRenderable at 0x7f1c04ac9cd0>"
      ]
     },
     "metadata": {},
     "output_type": "display_data"
    },
    {
     "name": "stderr",
     "output_type": "stream",
     "text": [
      "INDEX 2000: 602\n"
     ]
    },
    {
     "data": {
      "text/html": [
       "<pre style=\"white-space:pre;overflow-x:auto;line-height:normal;font-family:Menlo,'DejaVu Sans Mono',consolas,'Courier New',monospace\"><span style=\"color: #7fbfbf\">           </span><span style=\"color: #000080\">INFO    </span> INDEX <span style=\"color: #000080; font-weight: bold\">2000</span>: <span style=\"color: #000080; font-weight: bold\">602</span>                                            <a href=\"file:///home/j-gunmo/desktop/00.my-project/17.P-Stage-T1003/4-STAGE/fe/feature.py\"><span style=\"color: #7f7f7f\">feature.py</span></a><span style=\"color: #7f7f7f\">:109</span>\n",
       "</pre>\n"
      ],
      "text/plain": [
       "<rich.jupyter.JupyterRenderable at 0x7f1c04ac9ee0>"
      ]
     },
     "metadata": {},
     "output_type": "display_data"
    },
    {
     "name": "stderr",
     "output_type": "stream",
     "text": [
      "INDEX 3000: 4795\n"
     ]
    },
    {
     "data": {
      "text/html": [
       "<pre style=\"white-space:pre;overflow-x:auto;line-height:normal;font-family:Menlo,'DejaVu Sans Mono',consolas,'Courier New',monospace\"><span style=\"color: #7fbfbf\">           </span><span style=\"color: #000080\">INFO    </span> INDEX <span style=\"color: #000080; font-weight: bold\">3000</span>: <span style=\"color: #000080; font-weight: bold\">4795</span>                                           <a href=\"file:///home/j-gunmo/desktop/00.my-project/17.P-Stage-T1003/4-STAGE/fe/feature.py\"><span style=\"color: #7f7f7f\">feature.py</span></a><span style=\"color: #7f7f7f\">:109</span>\n",
       "</pre>\n"
      ],
      "text/plain": [
       "<rich.jupyter.JupyterRenderable at 0x7f1c04ac9340>"
      ]
     },
     "metadata": {},
     "output_type": "display_data"
    },
    {
     "name": "stderr",
     "output_type": "stream",
     "text": [
      "INDEX 4000: 628\n"
     ]
    },
    {
     "data": {
      "text/html": [
       "<pre style=\"white-space:pre;overflow-x:auto;line-height:normal;font-family:Menlo,'DejaVu Sans Mono',consolas,'Courier New',monospace\"><span style=\"color: #7fbfbf\">           </span><span style=\"color: #000080\">INFO    </span> INDEX <span style=\"color: #000080; font-weight: bold\">4000</span>: <span style=\"color: #000080; font-weight: bold\">628</span>                                            <a href=\"file:///home/j-gunmo/desktop/00.my-project/17.P-Stage-T1003/4-STAGE/fe/feature.py\"><span style=\"color: #7f7f7f\">feature.py</span></a><span style=\"color: #7f7f7f\">:109</span>\n",
       "</pre>\n"
      ],
      "text/plain": [
       "<rich.jupyter.JupyterRenderable at 0x7f1c04ac9dc0>"
      ]
     },
     "metadata": {},
     "output_type": "display_data"
    },
    {
     "name": "stderr",
     "output_type": "stream",
     "text": [
      "INDEX 5000: 706\n"
     ]
    },
    {
     "data": {
      "text/html": [
       "<pre style=\"white-space:pre;overflow-x:auto;line-height:normal;font-family:Menlo,'DejaVu Sans Mono',consolas,'Courier New',monospace\"><span style=\"color: #7fbfbf\">           </span><span style=\"color: #000080\">INFO    </span> INDEX <span style=\"color: #000080; font-weight: bold\">5000</span>: <span style=\"color: #000080; font-weight: bold\">706</span>                                            <a href=\"file:///home/j-gunmo/desktop/00.my-project/17.P-Stage-T1003/4-STAGE/fe/feature.py\"><span style=\"color: #7f7f7f\">feature.py</span></a><span style=\"color: #7f7f7f\">:109</span>\n",
       "</pre>\n"
      ],
      "text/plain": [
       "<rich.jupyter.JupyterRenderable at 0x7f1c04ac9e20>"
      ]
     },
     "metadata": {},
     "output_type": "display_data"
    },
    {
     "name": "stderr",
     "output_type": "stream",
     "text": [
      "INDEX 6000: 7171\n"
     ]
    },
    {
     "data": {
      "text/html": [
       "<pre style=\"white-space:pre;overflow-x:auto;line-height:normal;font-family:Menlo,'DejaVu Sans Mono',consolas,'Courier New',monospace\"><span style=\"color: #7fbfbf\">           </span><span style=\"color: #000080\">INFO    </span> INDEX <span style=\"color: #000080; font-weight: bold\">6000</span>: <span style=\"color: #000080; font-weight: bold\">7171</span>                                           <a href=\"file:///home/j-gunmo/desktop/00.my-project/17.P-Stage-T1003/4-STAGE/fe/feature.py\"><span style=\"color: #7f7f7f\">feature.py</span></a><span style=\"color: #7f7f7f\">:109</span>\n",
       "</pre>\n"
      ],
      "text/plain": [
       "<rich.jupyter.JupyterRenderable at 0x7f1c04ac93a0>"
      ]
     },
     "metadata": {},
     "output_type": "display_data"
    },
    {
     "name": "stderr",
     "output_type": "stream",
     "text": [
      "INDEX 7000: 2711\n"
     ]
    },
    {
     "data": {
      "text/html": [
       "<pre style=\"white-space:pre;overflow-x:auto;line-height:normal;font-family:Menlo,'DejaVu Sans Mono',consolas,'Courier New',monospace\"><span style=\"color: #7fbfbf\">           </span><span style=\"color: #000080\">INFO    </span> INDEX <span style=\"color: #000080; font-weight: bold\">7000</span>: <span style=\"color: #000080; font-weight: bold\">2711</span>                                           <a href=\"file:///home/j-gunmo/desktop/00.my-project/17.P-Stage-T1003/4-STAGE/fe/feature.py\"><span style=\"color: #7f7f7f\">feature.py</span></a><span style=\"color: #7f7f7f\">:109</span>\n",
       "</pre>\n"
      ],
      "text/plain": [
       "<rich.jupyter.JupyterRenderable at 0x7f1c04ac9d90>"
      ]
     },
     "metadata": {},
     "output_type": "display_data"
    },
    {
     "name": "stderr",
     "output_type": "stream",
     "text": [
      "INDEX 8000: 2071\n"
     ]
    },
    {
     "data": {
      "text/html": [
       "<pre style=\"white-space:pre;overflow-x:auto;line-height:normal;font-family:Menlo,'DejaVu Sans Mono',consolas,'Courier New',monospace\"><span style=\"color: #7fbfbf\">           </span><span style=\"color: #000080\">INFO    </span> INDEX <span style=\"color: #000080; font-weight: bold\">8000</span>: <span style=\"color: #000080; font-weight: bold\">2071</span>                                           <a href=\"file:///home/j-gunmo/desktop/00.my-project/17.P-Stage-T1003/4-STAGE/fe/feature.py\"><span style=\"color: #7f7f7f\">feature.py</span></a><span style=\"color: #7f7f7f\">:109</span>\n",
       "</pre>\n"
      ],
      "text/plain": [
       "<rich.jupyter.JupyterRenderable at 0x7f1c04ac9490>"
      ]
     },
     "metadata": {},
     "output_type": "display_data"
    },
    {
     "name": "stderr",
     "output_type": "stream",
     "text": [
      "INDEX 9000: 5261\n"
     ]
    },
    {
     "data": {
      "text/html": [
       "<pre style=\"white-space:pre;overflow-x:auto;line-height:normal;font-family:Menlo,'DejaVu Sans Mono',consolas,'Courier New',monospace\"><span style=\"color: #7fbfbf\">           </span><span style=\"color: #000080\">INFO    </span> INDEX <span style=\"color: #000080; font-weight: bold\">9000</span>: <span style=\"color: #000080; font-weight: bold\">5261</span>                                           <a href=\"file:///home/j-gunmo/desktop/00.my-project/17.P-Stage-T1003/4-STAGE/fe/feature.py\"><span style=\"color: #7f7f7f\">feature.py</span></a><span style=\"color: #7f7f7f\">:109</span>\n",
       "</pre>\n"
      ],
      "text/plain": [
       "<rich.jupyter.JupyterRenderable at 0x7f1c04ac9970>"
      ]
     },
     "metadata": {},
     "output_type": "display_data"
    },
    {
     "name": "stdout",
     "output_type": "stream",
     "text": [
      "load features /home/j-gunmo/features/train_make_correct_count.pkl to dataframe ... \n"
     ]
    },
    {
     "name": "stderr",
     "output_type": "stream",
     "text": [
      "\n",
      "Feature Engineering Name: make_correct_count\n"
     ]
    },
    {
     "data": {
      "text/html": [
       "<pre style=\"white-space:pre;overflow-x:auto;line-height:normal;font-family:Menlo,'DejaVu Sans Mono',consolas,'Courier New',monospace\"><span style=\"color: #7fbfbf\">[06:02:07] </span><span style=\"color: #000080\">INFO    </span>                                                            <a href=\"file:///home/j-gunmo/desktop/00.my-project/17.P-Stage-T1003/4-STAGE/fe/feature.py\"><span style=\"color: #7f7f7f\">feature.py</span></a><span style=\"color: #7f7f7f\">:101</span>\n",
       "                    Feature Engineering Name: make_correct_count                             \n",
       "</pre>\n"
      ],
      "text/plain": [
       "<rich.jupyter.JupyterRenderable at 0x7f1c04ac9d90>"
      ]
     },
     "metadata": {},
     "output_type": "display_data"
    },
    {
     "name": "stderr",
     "output_type": "stream",
     "text": [
      "\n",
      "correctCnt      : 사용자가 맞춘 문항수를 나타냅니다.\n"
     ]
    },
    {
     "data": {
      "text/html": [
       "<pre style=\"white-space:pre;overflow-x:auto;line-height:normal;font-family:Menlo,'DejaVu Sans Mono',consolas,'Courier New',monospace\"><span style=\"color: #7fbfbf\">           </span><span style=\"color: #000080\">INFO    </span>                                                            <a href=\"file:///home/j-gunmo/desktop/00.my-project/17.P-Stage-T1003/4-STAGE/fe/feature.py\"><span style=\"color: #7f7f7f\">feature.py</span></a><span style=\"color: #7f7f7f\">:104</span>\n",
       "                    correctCnt      : 사용자가 맞춘 문항수를 나타냅니다.                     \n",
       "</pre>\n"
      ],
      "text/plain": [
       "<rich.jupyter.JupyterRenderable at 0x7f1c04ac99a0>"
      ]
     },
     "metadata": {},
     "output_type": "display_data"
    },
    {
     "name": "stderr",
     "output_type": "stream",
     "text": [
      "dtype: int64\n"
     ]
    },
    {
     "data": {
      "text/html": [
       "<pre style=\"white-space:pre;overflow-x:auto;line-height:normal;font-family:Menlo,'DejaVu Sans Mono',consolas,'Courier New',monospace\"><span style=\"color: #7fbfbf\">           </span><span style=\"color: #000080\">INFO    </span> dtype: int64                                               <a href=\"file:///home/j-gunmo/desktop/00.my-project/17.P-Stage-T1003/4-STAGE/fe/feature.py\"><span style=\"color: #7f7f7f\">feature.py</span></a><span style=\"color: #7f7f7f\">:105</span>\n",
       "</pre>\n"
      ],
      "text/plain": [
       "<rich.jupyter.JupyterRenderable at 0x7f1c04ac9490>"
      ]
     },
     "metadata": {},
     "output_type": "display_data"
    },
    {
     "name": "stderr",
     "output_type": "stream",
     "text": [
      "[Examples]\n"
     ]
    },
    {
     "data": {
      "text/html": [
       "<pre style=\"white-space:pre;overflow-x:auto;line-height:normal;font-family:Menlo,'DejaVu Sans Mono',consolas,'Courier New',monospace\"><span style=\"color: #7fbfbf\">           </span><span style=\"color: #000080\">INFO    </span> <span style=\"font-weight: bold\">[</span>Examples<span style=\"font-weight: bold\">]</span>                                                 <a href=\"file:///home/j-gunmo/desktop/00.my-project/17.P-Stage-T1003/4-STAGE/fe/feature.py\"><span style=\"color: #7f7f7f\">feature.py</span></a><span style=\"color: #7f7f7f\">:106</span>\n",
       "</pre>\n"
      ],
      "text/plain": [
       "<rich.jupyter.JupyterRenderable at 0x7f1c04ac9640>"
      ]
     },
     "metadata": {},
     "output_type": "display_data"
    },
    {
     "name": "stderr",
     "output_type": "stream",
     "text": [
      "INDEX 0000: 470\n"
     ]
    },
    {
     "data": {
      "text/html": [
       "<pre style=\"white-space:pre;overflow-x:auto;line-height:normal;font-family:Menlo,'DejaVu Sans Mono',consolas,'Courier New',monospace\"><span style=\"color: #7fbfbf\">           </span><span style=\"color: #000080\">INFO    </span> INDEX <span style=\"color: #000080; font-weight: bold\">0000</span>: <span style=\"color: #000080; font-weight: bold\">470</span>                                            <a href=\"file:///home/j-gunmo/desktop/00.my-project/17.P-Stage-T1003/4-STAGE/fe/feature.py\"><span style=\"color: #7f7f7f\">feature.py</span></a><span style=\"color: #7f7f7f\">:109</span>\n",
       "</pre>\n"
      ],
      "text/plain": [
       "<rich.jupyter.JupyterRenderable at 0x7f1c04ac9af0>"
      ]
     },
     "metadata": {},
     "output_type": "display_data"
    },
    {
     "name": "stderr",
     "output_type": "stream",
     "text": [
      "INDEX 1000: 470\n"
     ]
    },
    {
     "data": {
      "text/html": [
       "<pre style=\"white-space:pre;overflow-x:auto;line-height:normal;font-family:Menlo,'DejaVu Sans Mono',consolas,'Courier New',monospace\"><span style=\"color: #7fbfbf\">           </span><span style=\"color: #000080\">INFO    </span> INDEX <span style=\"color: #000080; font-weight: bold\">1000</span>: <span style=\"color: #000080; font-weight: bold\">470</span>                                            <a href=\"file:///home/j-gunmo/desktop/00.my-project/17.P-Stage-T1003/4-STAGE/fe/feature.py\"><span style=\"color: #7f7f7f\">feature.py</span></a><span style=\"color: #7f7f7f\">:109</span>\n",
       "</pre>\n"
      ],
      "text/plain": [
       "<rich.jupyter.JupyterRenderable at 0x7f1c04ac9d60>"
      ]
     },
     "metadata": {},
     "output_type": "display_data"
    },
    {
     "name": "stderr",
     "output_type": "stream",
     "text": [
      "INDEX 2000: 470\n"
     ]
    },
    {
     "data": {
      "text/html": [
       "<pre style=\"white-space:pre;overflow-x:auto;line-height:normal;font-family:Menlo,'DejaVu Sans Mono',consolas,'Courier New',monospace\"><span style=\"color: #7fbfbf\">           </span><span style=\"color: #000080\">INFO    </span> INDEX <span style=\"color: #000080; font-weight: bold\">2000</span>: <span style=\"color: #000080; font-weight: bold\">470</span>                                            <a href=\"file:///home/j-gunmo/desktop/00.my-project/17.P-Stage-T1003/4-STAGE/fe/feature.py\"><span style=\"color: #7f7f7f\">feature.py</span></a><span style=\"color: #7f7f7f\">:109</span>\n",
       "</pre>\n"
      ],
      "text/plain": [
       "<rich.jupyter.JupyterRenderable at 0x7f1c04ac97f0>"
      ]
     },
     "metadata": {},
     "output_type": "display_data"
    },
    {
     "name": "stderr",
     "output_type": "stream",
     "text": [
      "INDEX 3000: 470\n"
     ]
    },
    {
     "data": {
      "text/html": [
       "<pre style=\"white-space:pre;overflow-x:auto;line-height:normal;font-family:Menlo,'DejaVu Sans Mono',consolas,'Courier New',monospace\"><span style=\"color: #7fbfbf\">           </span><span style=\"color: #000080\">INFO    </span> INDEX <span style=\"color: #000080; font-weight: bold\">3000</span>: <span style=\"color: #000080; font-weight: bold\">470</span>                                            <a href=\"file:///home/j-gunmo/desktop/00.my-project/17.P-Stage-T1003/4-STAGE/fe/feature.py\"><span style=\"color: #7f7f7f\">feature.py</span></a><span style=\"color: #7f7f7f\">:109</span>\n",
       "</pre>\n"
      ],
      "text/plain": [
       "<rich.jupyter.JupyterRenderable at 0x7f1c04ac9df0>"
      ]
     },
     "metadata": {},
     "output_type": "display_data"
    },
    {
     "name": "stderr",
     "output_type": "stream",
     "text": [
      "INDEX 4000: 470\n"
     ]
    },
    {
     "data": {
      "text/html": [
       "<pre style=\"white-space:pre;overflow-x:auto;line-height:normal;font-family:Menlo,'DejaVu Sans Mono',consolas,'Courier New',monospace\"><span style=\"color: #7fbfbf\">           </span><span style=\"color: #000080\">INFO    </span> INDEX <span style=\"color: #000080; font-weight: bold\">4000</span>: <span style=\"color: #000080; font-weight: bold\">470</span>                                            <a href=\"file:///home/j-gunmo/desktop/00.my-project/17.P-Stage-T1003/4-STAGE/fe/feature.py\"><span style=\"color: #7f7f7f\">feature.py</span></a><span style=\"color: #7f7f7f\">:109</span>\n",
       "</pre>\n"
      ],
      "text/plain": [
       "<rich.jupyter.JupyterRenderable at 0x7f1c04ac92b0>"
      ]
     },
     "metadata": {},
     "output_type": "display_data"
    },
    {
     "name": "stderr",
     "output_type": "stream",
     "text": [
      "INDEX 5000: 470\n"
     ]
    },
    {
     "data": {
      "text/html": [
       "<pre style=\"white-space:pre;overflow-x:auto;line-height:normal;font-family:Menlo,'DejaVu Sans Mono',consolas,'Courier New',monospace\"><span style=\"color: #7fbfbf\">           </span><span style=\"color: #000080\">INFO    </span> INDEX <span style=\"color: #000080; font-weight: bold\">5000</span>: <span style=\"color: #000080; font-weight: bold\">470</span>                                            <a href=\"file:///home/j-gunmo/desktop/00.my-project/17.P-Stage-T1003/4-STAGE/fe/feature.py\"><span style=\"color: #7f7f7f\">feature.py</span></a><span style=\"color: #7f7f7f\">:109</span>\n",
       "</pre>\n"
      ],
      "text/plain": [
       "<rich.jupyter.JupyterRenderable at 0x7f1c04ac93a0>"
      ]
     },
     "metadata": {},
     "output_type": "display_data"
    },
    {
     "name": "stderr",
     "output_type": "stream",
     "text": [
      "INDEX 6000: 470\n"
     ]
    },
    {
     "data": {
      "text/html": [
       "<pre style=\"white-space:pre;overflow-x:auto;line-height:normal;font-family:Menlo,'DejaVu Sans Mono',consolas,'Courier New',monospace\"><span style=\"color: #7fbfbf\">           </span><span style=\"color: #000080\">INFO    </span> INDEX <span style=\"color: #000080; font-weight: bold\">6000</span>: <span style=\"color: #000080; font-weight: bold\">470</span>                                            <a href=\"file:///home/j-gunmo/desktop/00.my-project/17.P-Stage-T1003/4-STAGE/fe/feature.py\"><span style=\"color: #7f7f7f\">feature.py</span></a><span style=\"color: #7f7f7f\">:109</span>\n",
       "</pre>\n"
      ],
      "text/plain": [
       "<rich.jupyter.JupyterRenderable at 0x7f1c04ac9f40>"
      ]
     },
     "metadata": {},
     "output_type": "display_data"
    },
    {
     "name": "stderr",
     "output_type": "stream",
     "text": [
      "INDEX 7000: 470\n"
     ]
    },
    {
     "data": {
      "text/html": [
       "<pre style=\"white-space:pre;overflow-x:auto;line-height:normal;font-family:Menlo,'DejaVu Sans Mono',consolas,'Courier New',monospace\"><span style=\"color: #7fbfbf\">           </span><span style=\"color: #000080\">INFO    </span> INDEX <span style=\"color: #000080; font-weight: bold\">7000</span>: <span style=\"color: #000080; font-weight: bold\">470</span>                                            <a href=\"file:///home/j-gunmo/desktop/00.my-project/17.P-Stage-T1003/4-STAGE/fe/feature.py\"><span style=\"color: #7f7f7f\">feature.py</span></a><span style=\"color: #7f7f7f\">:109</span>\n",
       "</pre>\n"
      ],
      "text/plain": [
       "<rich.jupyter.JupyterRenderable at 0x7f1c04ac9d60>"
      ]
     },
     "metadata": {},
     "output_type": "display_data"
    },
    {
     "name": "stderr",
     "output_type": "stream",
     "text": [
      "INDEX 8000: 796\n"
     ]
    },
    {
     "data": {
      "text/html": [
       "<pre style=\"white-space:pre;overflow-x:auto;line-height:normal;font-family:Menlo,'DejaVu Sans Mono',consolas,'Courier New',monospace\"><span style=\"color: #7fbfbf\">           </span><span style=\"color: #000080\">INFO    </span> INDEX <span style=\"color: #000080; font-weight: bold\">8000</span>: <span style=\"color: #000080; font-weight: bold\">796</span>                                            <a href=\"file:///home/j-gunmo/desktop/00.my-project/17.P-Stage-T1003/4-STAGE/fe/feature.py\"><span style=\"color: #7f7f7f\">feature.py</span></a><span style=\"color: #7f7f7f\">:109</span>\n",
       "</pre>\n"
      ],
      "text/plain": [
       "<rich.jupyter.JupyterRenderable at 0x7f1c04ac9d90>"
      ]
     },
     "metadata": {},
     "output_type": "display_data"
    },
    {
     "name": "stderr",
     "output_type": "stream",
     "text": [
      "INDEX 9000: 796\n"
     ]
    },
    {
     "data": {
      "text/html": [
       "<pre style=\"white-space:pre;overflow-x:auto;line-height:normal;font-family:Menlo,'DejaVu Sans Mono',consolas,'Courier New',monospace\"><span style=\"color: #7fbfbf\">           </span><span style=\"color: #000080\">INFO    </span> INDEX <span style=\"color: #000080; font-weight: bold\">9000</span>: <span style=\"color: #000080; font-weight: bold\">796</span>                                            <a href=\"file:///home/j-gunmo/desktop/00.my-project/17.P-Stage-T1003/4-STAGE/fe/feature.py\"><span style=\"color: #7f7f7f\">feature.py</span></a><span style=\"color: #7f7f7f\">:109</span>\n",
       "</pre>\n"
      ],
      "text/plain": [
       "<rich.jupyter.JupyterRenderable at 0x7f1c04ac9dc0>"
      ]
     },
     "metadata": {},
     "output_type": "display_data"
    },
    {
     "name": "stdout",
     "output_type": "stream",
     "text": [
      "load features /home/j-gunmo/features/train_make_question_count.pkl to dataframe ... \n"
     ]
    },
    {
     "name": "stderr",
     "output_type": "stream",
     "text": [
      "\n",
      "Feature Engineering Name: make_question_count\n"
     ]
    },
    {
     "data": {
      "text/html": [
       "<pre style=\"white-space:pre;overflow-x:auto;line-height:normal;font-family:Menlo,'DejaVu Sans Mono',consolas,'Courier New',monospace\"><span style=\"color: #7fbfbf\">           </span><span style=\"color: #000080\">INFO    </span>                                                            <a href=\"file:///home/j-gunmo/desktop/00.my-project/17.P-Stage-T1003/4-STAGE/fe/feature.py\"><span style=\"color: #7f7f7f\">feature.py</span></a><span style=\"color: #7f7f7f\">:101</span>\n",
       "                    Feature Engineering Name: make_question_count                            \n",
       "</pre>\n"
      ],
      "text/plain": [
       "<rich.jupyter.JupyterRenderable at 0x7f1c04ac9d90>"
      ]
     },
     "metadata": {},
     "output_type": "display_data"
    },
    {
     "name": "stderr",
     "output_type": "stream",
     "text": [
      "\n",
      "quesCnt         : 사용자가 푼 문항수를 나타냅니다.\n"
     ]
    },
    {
     "data": {
      "text/html": [
       "<pre style=\"white-space:pre;overflow-x:auto;line-height:normal;font-family:Menlo,'DejaVu Sans Mono',consolas,'Courier New',monospace\"><span style=\"color: #7fbfbf\">           </span><span style=\"color: #000080\">INFO    </span>                                                            <a href=\"file:///home/j-gunmo/desktop/00.my-project/17.P-Stage-T1003/4-STAGE/fe/feature.py\"><span style=\"color: #7f7f7f\">feature.py</span></a><span style=\"color: #7f7f7f\">:104</span>\n",
       "                    quesCnt         : 사용자가 푼 문항수를 나타냅니다.                       \n",
       "</pre>\n"
      ],
      "text/plain": [
       "<rich.jupyter.JupyterRenderable at 0x7f1c04ac9fd0>"
      ]
     },
     "metadata": {},
     "output_type": "display_data"
    },
    {
     "name": "stderr",
     "output_type": "stream",
     "text": [
      "dtype: int64\n"
     ]
    },
    {
     "data": {
      "text/html": [
       "<pre style=\"white-space:pre;overflow-x:auto;line-height:normal;font-family:Menlo,'DejaVu Sans Mono',consolas,'Courier New',monospace\"><span style=\"color: #7fbfbf\">           </span><span style=\"color: #000080\">INFO    </span> dtype: int64                                               <a href=\"file:///home/j-gunmo/desktop/00.my-project/17.P-Stage-T1003/4-STAGE/fe/feature.py\"><span style=\"color: #7f7f7f\">feature.py</span></a><span style=\"color: #7f7f7f\">:105</span>\n",
       "</pre>\n"
      ],
      "text/plain": [
       "<rich.jupyter.JupyterRenderable at 0x7f1c04ac93a0>"
      ]
     },
     "metadata": {},
     "output_type": "display_data"
    },
    {
     "name": "stderr",
     "output_type": "stream",
     "text": [
      "[Examples]\n"
     ]
    },
    {
     "data": {
      "text/html": [
       "<pre style=\"white-space:pre;overflow-x:auto;line-height:normal;font-family:Menlo,'DejaVu Sans Mono',consolas,'Courier New',monospace\"><span style=\"color: #7fbfbf\">           </span><span style=\"color: #000080\">INFO    </span> <span style=\"font-weight: bold\">[</span>Examples<span style=\"font-weight: bold\">]</span>                                                 <a href=\"file:///home/j-gunmo/desktop/00.my-project/17.P-Stage-T1003/4-STAGE/fe/feature.py\"><span style=\"color: #7f7f7f\">feature.py</span></a><span style=\"color: #7f7f7f\">:106</span>\n",
       "</pre>\n"
      ],
      "text/plain": [
       "<rich.jupyter.JupyterRenderable at 0x7f1c04ac9a00>"
      ]
     },
     "metadata": {},
     "output_type": "display_data"
    },
    {
     "name": "stderr",
     "output_type": "stream",
     "text": [
      "INDEX 0000: 745\n"
     ]
    },
    {
     "data": {
      "text/html": [
       "<pre style=\"white-space:pre;overflow-x:auto;line-height:normal;font-family:Menlo,'DejaVu Sans Mono',consolas,'Courier New',monospace\"><span style=\"color: #7fbfbf\">           </span><span style=\"color: #000080\">INFO    </span> INDEX <span style=\"color: #000080; font-weight: bold\">0000</span>: <span style=\"color: #000080; font-weight: bold\">745</span>                                            <a href=\"file:///home/j-gunmo/desktop/00.my-project/17.P-Stage-T1003/4-STAGE/fe/feature.py\"><span style=\"color: #7f7f7f\">feature.py</span></a><span style=\"color: #7f7f7f\">:109</span>\n",
       "</pre>\n"
      ],
      "text/plain": [
       "<rich.jupyter.JupyterRenderable at 0x7f1c04ac9d60>"
      ]
     },
     "metadata": {},
     "output_type": "display_data"
    },
    {
     "name": "stderr",
     "output_type": "stream",
     "text": [
      "INDEX 1000: 745\n"
     ]
    },
    {
     "data": {
      "text/html": [
       "<pre style=\"white-space:pre;overflow-x:auto;line-height:normal;font-family:Menlo,'DejaVu Sans Mono',consolas,'Courier New',monospace\"><span style=\"color: #7fbfbf\">           </span><span style=\"color: #000080\">INFO    </span> INDEX <span style=\"color: #000080; font-weight: bold\">1000</span>: <span style=\"color: #000080; font-weight: bold\">745</span>                                            <a href=\"file:///home/j-gunmo/desktop/00.my-project/17.P-Stage-T1003/4-STAGE/fe/feature.py\"><span style=\"color: #7f7f7f\">feature.py</span></a><span style=\"color: #7f7f7f\">:109</span>\n",
       "</pre>\n"
      ],
      "text/plain": [
       "<rich.jupyter.JupyterRenderable at 0x7f1c04ac9e20>"
      ]
     },
     "metadata": {},
     "output_type": "display_data"
    },
    {
     "name": "stderr",
     "output_type": "stream",
     "text": [
      "INDEX 2000: 745\n"
     ]
    },
    {
     "data": {
      "text/html": [
       "<pre style=\"white-space:pre;overflow-x:auto;line-height:normal;font-family:Menlo,'DejaVu Sans Mono',consolas,'Courier New',monospace\"><span style=\"color: #7fbfbf\">           </span><span style=\"color: #000080\">INFO    </span> INDEX <span style=\"color: #000080; font-weight: bold\">2000</span>: <span style=\"color: #000080; font-weight: bold\">745</span>                                            <a href=\"file:///home/j-gunmo/desktop/00.my-project/17.P-Stage-T1003/4-STAGE/fe/feature.py\"><span style=\"color: #7f7f7f\">feature.py</span></a><span style=\"color: #7f7f7f\">:109</span>\n",
       "</pre>\n"
      ],
      "text/plain": [
       "<rich.jupyter.JupyterRenderable at 0x7f1c04ac9d30>"
      ]
     },
     "metadata": {},
     "output_type": "display_data"
    },
    {
     "name": "stderr",
     "output_type": "stream",
     "text": [
      "INDEX 3000: 745\n"
     ]
    },
    {
     "data": {
      "text/html": [
       "<pre style=\"white-space:pre;overflow-x:auto;line-height:normal;font-family:Menlo,'DejaVu Sans Mono',consolas,'Courier New',monospace\"><span style=\"color: #7fbfbf\">           </span><span style=\"color: #000080\">INFO    </span> INDEX <span style=\"color: #000080; font-weight: bold\">3000</span>: <span style=\"color: #000080; font-weight: bold\">745</span>                                            <a href=\"file:///home/j-gunmo/desktop/00.my-project/17.P-Stage-T1003/4-STAGE/fe/feature.py\"><span style=\"color: #7f7f7f\">feature.py</span></a><span style=\"color: #7f7f7f\">:109</span>\n",
       "</pre>\n"
      ],
      "text/plain": [
       "<rich.jupyter.JupyterRenderable at 0x7f1c04ac9340>"
      ]
     },
     "metadata": {},
     "output_type": "display_data"
    },
    {
     "name": "stderr",
     "output_type": "stream",
     "text": [
      "INDEX 4000: 745\n"
     ]
    },
    {
     "data": {
      "text/html": [
       "<pre style=\"white-space:pre;overflow-x:auto;line-height:normal;font-family:Menlo,'DejaVu Sans Mono',consolas,'Courier New',monospace\"><span style=\"color: #7fbfbf\">           </span><span style=\"color: #000080\">INFO    </span> INDEX <span style=\"color: #000080; font-weight: bold\">4000</span>: <span style=\"color: #000080; font-weight: bold\">745</span>                                            <a href=\"file:///home/j-gunmo/desktop/00.my-project/17.P-Stage-T1003/4-STAGE/fe/feature.py\"><span style=\"color: #7f7f7f\">feature.py</span></a><span style=\"color: #7f7f7f\">:109</span>\n",
       "</pre>\n"
      ],
      "text/plain": [
       "<rich.jupyter.JupyterRenderable at 0x7f1c04ac9b50>"
      ]
     },
     "metadata": {},
     "output_type": "display_data"
    },
    {
     "name": "stderr",
     "output_type": "stream",
     "text": [
      "INDEX 5000: 745\n"
     ]
    },
    {
     "data": {
      "text/html": [
       "<pre style=\"white-space:pre;overflow-x:auto;line-height:normal;font-family:Menlo,'DejaVu Sans Mono',consolas,'Courier New',monospace\"><span style=\"color: #7fbfbf\">           </span><span style=\"color: #000080\">INFO    </span> INDEX <span style=\"color: #000080; font-weight: bold\">5000</span>: <span style=\"color: #000080; font-weight: bold\">745</span>                                            <a href=\"file:///home/j-gunmo/desktop/00.my-project/17.P-Stage-T1003/4-STAGE/fe/feature.py\"><span style=\"color: #7f7f7f\">feature.py</span></a><span style=\"color: #7f7f7f\">:109</span>\n",
       "</pre>\n"
      ],
      "text/plain": [
       "<rich.jupyter.JupyterRenderable at 0x7f1c04ac9a60>"
      ]
     },
     "metadata": {},
     "output_type": "display_data"
    },
    {
     "name": "stderr",
     "output_type": "stream",
     "text": [
      "INDEX 6000: 745\n"
     ]
    },
    {
     "data": {
      "text/html": [
       "<pre style=\"white-space:pre;overflow-x:auto;line-height:normal;font-family:Menlo,'DejaVu Sans Mono',consolas,'Courier New',monospace\"><span style=\"color: #7fbfbf\">           </span><span style=\"color: #000080\">INFO    </span> INDEX <span style=\"color: #000080; font-weight: bold\">6000</span>: <span style=\"color: #000080; font-weight: bold\">745</span>                                            <a href=\"file:///home/j-gunmo/desktop/00.my-project/17.P-Stage-T1003/4-STAGE/fe/feature.py\"><span style=\"color: #7f7f7f\">feature.py</span></a><span style=\"color: #7f7f7f\">:109</span>\n",
       "</pre>\n"
      ],
      "text/plain": [
       "<rich.jupyter.JupyterRenderable at 0x7f1c04ac9f40>"
      ]
     },
     "metadata": {},
     "output_type": "display_data"
    },
    {
     "name": "stderr",
     "output_type": "stream",
     "text": [
      "INDEX 7000: 745\n"
     ]
    },
    {
     "data": {
      "text/html": [
       "<pre style=\"white-space:pre;overflow-x:auto;line-height:normal;font-family:Menlo,'DejaVu Sans Mono',consolas,'Courier New',monospace\"><span style=\"color: #7fbfbf\">           </span><span style=\"color: #000080\">INFO    </span> INDEX <span style=\"color: #000080; font-weight: bold\">7000</span>: <span style=\"color: #000080; font-weight: bold\">745</span>                                            <a href=\"file:///home/j-gunmo/desktop/00.my-project/17.P-Stage-T1003/4-STAGE/fe/feature.py\"><span style=\"color: #7f7f7f\">feature.py</span></a><span style=\"color: #7f7f7f\">:109</span>\n",
       "</pre>\n"
      ],
      "text/plain": [
       "<rich.jupyter.JupyterRenderable at 0x7f1c04ac9e20>"
      ]
     },
     "metadata": {},
     "output_type": "display_data"
    },
    {
     "name": "stderr",
     "output_type": "stream",
     "text": [
      "INDEX 8000: 933\n"
     ]
    },
    {
     "data": {
      "text/html": [
       "<pre style=\"white-space:pre;overflow-x:auto;line-height:normal;font-family:Menlo,'DejaVu Sans Mono',consolas,'Courier New',monospace\"><span style=\"color: #7fbfbf\">           </span><span style=\"color: #000080\">INFO    </span> INDEX <span style=\"color: #000080; font-weight: bold\">8000</span>: <span style=\"color: #000080; font-weight: bold\">933</span>                                            <a href=\"file:///home/j-gunmo/desktop/00.my-project/17.P-Stage-T1003/4-STAGE/fe/feature.py\"><span style=\"color: #7f7f7f\">feature.py</span></a><span style=\"color: #7f7f7f\">:109</span>\n",
       "</pre>\n"
      ],
      "text/plain": [
       "<rich.jupyter.JupyterRenderable at 0x7f1c04ac97f0>"
      ]
     },
     "metadata": {},
     "output_type": "display_data"
    },
    {
     "name": "stderr",
     "output_type": "stream",
     "text": [
      "INDEX 9000: 933\n"
     ]
    },
    {
     "data": {
      "text/html": [
       "<pre style=\"white-space:pre;overflow-x:auto;line-height:normal;font-family:Menlo,'DejaVu Sans Mono',consolas,'Courier New',monospace\"><span style=\"color: #7fbfbf\">           </span><span style=\"color: #000080\">INFO    </span> INDEX <span style=\"color: #000080; font-weight: bold\">9000</span>: <span style=\"color: #000080; font-weight: bold\">933</span>                                            <a href=\"file:///home/j-gunmo/desktop/00.my-project/17.P-Stage-T1003/4-STAGE/fe/feature.py\"><span style=\"color: #7f7f7f\">feature.py</span></a><span style=\"color: #7f7f7f\">:109</span>\n",
       "</pre>\n"
      ],
      "text/plain": [
       "<rich.jupyter.JupyterRenderable at 0x7f1c04ac9fa0>"
      ]
     },
     "metadata": {},
     "output_type": "display_data"
    },
    {
     "name": "stdout",
     "output_type": "stream",
     "text": [
      "load features /home/j-gunmo/features/train_make_correct_percent.pkl to dataframe ... \n"
     ]
    },
    {
     "name": "stderr",
     "output_type": "stream",
     "text": [
      "\n",
      "Feature Engineering Name: make_correct_percent\n"
     ]
    },
    {
     "data": {
      "text/html": [
       "<pre style=\"white-space:pre;overflow-x:auto;line-height:normal;font-family:Menlo,'DejaVu Sans Mono',consolas,'Courier New',monospace\"><span style=\"color: #7fbfbf\">[06:02:08] </span><span style=\"color: #000080\">INFO    </span>                                                            <a href=\"file:///home/j-gunmo/desktop/00.my-project/17.P-Stage-T1003/4-STAGE/fe/feature.py\"><span style=\"color: #7f7f7f\">feature.py</span></a><span style=\"color: #7f7f7f\">:101</span>\n",
       "                    Feature Engineering Name: make_correct_percent                           \n",
       "</pre>\n"
      ],
      "text/plain": [
       "<rich.jupyter.JupyterRenderable at 0x7f1c04ac9580>"
      ]
     },
     "metadata": {},
     "output_type": "display_data"
    },
    {
     "name": "stderr",
     "output_type": "stream",
     "text": [
      "\n",
      "correctPer      : 사용자가 푼 전체 문항에 대한 정답률입니다.\n"
     ]
    },
    {
     "data": {
      "text/html": [
       "<pre style=\"white-space:pre;overflow-x:auto;line-height:normal;font-family:Menlo,'DejaVu Sans Mono',consolas,'Courier New',monospace\"><span style=\"color: #7fbfbf\">           </span><span style=\"color: #000080\">INFO    </span>                                                            <a href=\"file:///home/j-gunmo/desktop/00.my-project/17.P-Stage-T1003/4-STAGE/fe/feature.py\"><span style=\"color: #7f7f7f\">feature.py</span></a><span style=\"color: #7f7f7f\">:104</span>\n",
       "                    correctPer      : 사용자가 푼 전체 문항에 대한                           \n",
       "                    정답률입니다.                                                            \n",
       "</pre>\n"
      ],
      "text/plain": [
       "<rich.jupyter.JupyterRenderable at 0x7f1c04ac9eb0>"
      ]
     },
     "metadata": {},
     "output_type": "display_data"
    },
    {
     "name": "stderr",
     "output_type": "stream",
     "text": [
      "dtype: float64\n"
     ]
    },
    {
     "data": {
      "text/html": [
       "<pre style=\"white-space:pre;overflow-x:auto;line-height:normal;font-family:Menlo,'DejaVu Sans Mono',consolas,'Courier New',monospace\"><span style=\"color: #7fbfbf\">           </span><span style=\"color: #000080\">INFO    </span> dtype: float64                                             <a href=\"file:///home/j-gunmo/desktop/00.my-project/17.P-Stage-T1003/4-STAGE/fe/feature.py\"><span style=\"color: #7f7f7f\">feature.py</span></a><span style=\"color: #7f7f7f\">:105</span>\n",
       "</pre>\n"
      ],
      "text/plain": [
       "<rich.jupyter.JupyterRenderable at 0x7f1c04ac9310>"
      ]
     },
     "metadata": {},
     "output_type": "display_data"
    },
    {
     "name": "stderr",
     "output_type": "stream",
     "text": [
      "[Examples]\n"
     ]
    },
    {
     "data": {
      "text/html": [
       "<pre style=\"white-space:pre;overflow-x:auto;line-height:normal;font-family:Menlo,'DejaVu Sans Mono',consolas,'Courier New',monospace\"><span style=\"color: #7fbfbf\">           </span><span style=\"color: #000080\">INFO    </span> <span style=\"font-weight: bold\">[</span>Examples<span style=\"font-weight: bold\">]</span>                                                 <a href=\"file:///home/j-gunmo/desktop/00.my-project/17.P-Stage-T1003/4-STAGE/fe/feature.py\"><span style=\"color: #7f7f7f\">feature.py</span></a><span style=\"color: #7f7f7f\">:106</span>\n",
       "</pre>\n"
      ],
      "text/plain": [
       "<rich.jupyter.JupyterRenderable at 0x7f1c04ac9c40>"
      ]
     },
     "metadata": {},
     "output_type": "display_data"
    },
    {
     "name": "stderr",
     "output_type": "stream",
     "text": [
      "INDEX 0000: 0.6308724832214765\n"
     ]
    },
    {
     "data": {
      "text/html": [
       "<pre style=\"white-space:pre;overflow-x:auto;line-height:normal;font-family:Menlo,'DejaVu Sans Mono',consolas,'Courier New',monospace\"><span style=\"color: #7fbfbf\">           </span><span style=\"color: #000080\">INFO    </span> INDEX <span style=\"color: #000080; font-weight: bold\">0000</span>: <span style=\"color: #000080; font-weight: bold\">0.6308724832214765</span>                             <a href=\"file:///home/j-gunmo/desktop/00.my-project/17.P-Stage-T1003/4-STAGE/fe/feature.py\"><span style=\"color: #7f7f7f\">feature.py</span></a><span style=\"color: #7f7f7f\">:109</span>\n",
       "</pre>\n"
      ],
      "text/plain": [
       "<rich.jupyter.JupyterRenderable at 0x7f1c04ac9eb0>"
      ]
     },
     "metadata": {},
     "output_type": "display_data"
    },
    {
     "name": "stderr",
     "output_type": "stream",
     "text": [
      "INDEX 1000: 0.6308724832214765\n"
     ]
    },
    {
     "data": {
      "text/html": [
       "<pre style=\"white-space:pre;overflow-x:auto;line-height:normal;font-family:Menlo,'DejaVu Sans Mono',consolas,'Courier New',monospace\"><span style=\"color: #7fbfbf\">           </span><span style=\"color: #000080\">INFO    </span> INDEX <span style=\"color: #000080; font-weight: bold\">1000</span>: <span style=\"color: #000080; font-weight: bold\">0.6308724832214765</span>                             <a href=\"file:///home/j-gunmo/desktop/00.my-project/17.P-Stage-T1003/4-STAGE/fe/feature.py\"><span style=\"color: #7f7f7f\">feature.py</span></a><span style=\"color: #7f7f7f\">:109</span>\n",
       "</pre>\n"
      ],
      "text/plain": [
       "<rich.jupyter.JupyterRenderable at 0x7f1c04ac9e80>"
      ]
     },
     "metadata": {},
     "output_type": "display_data"
    },
    {
     "name": "stderr",
     "output_type": "stream",
     "text": [
      "INDEX 2000: 0.6308724832214765\n"
     ]
    },
    {
     "data": {
      "text/html": [
       "<pre style=\"white-space:pre;overflow-x:auto;line-height:normal;font-family:Menlo,'DejaVu Sans Mono',consolas,'Courier New',monospace\"><span style=\"color: #7fbfbf\">           </span><span style=\"color: #000080\">INFO    </span> INDEX <span style=\"color: #000080; font-weight: bold\">2000</span>: <span style=\"color: #000080; font-weight: bold\">0.6308724832214765</span>                             <a href=\"file:///home/j-gunmo/desktop/00.my-project/17.P-Stage-T1003/4-STAGE/fe/feature.py\"><span style=\"color: #7f7f7f\">feature.py</span></a><span style=\"color: #7f7f7f\">:109</span>\n",
       "</pre>\n"
      ],
      "text/plain": [
       "<rich.jupyter.JupyterRenderable at 0x7f1c04ac97f0>"
      ]
     },
     "metadata": {},
     "output_type": "display_data"
    },
    {
     "name": "stderr",
     "output_type": "stream",
     "text": [
      "INDEX 3000: 0.6308724832214765\n"
     ]
    },
    {
     "data": {
      "text/html": [
       "<pre style=\"white-space:pre;overflow-x:auto;line-height:normal;font-family:Menlo,'DejaVu Sans Mono',consolas,'Courier New',monospace\"><span style=\"color: #7fbfbf\">           </span><span style=\"color: #000080\">INFO    </span> INDEX <span style=\"color: #000080; font-weight: bold\">3000</span>: <span style=\"color: #000080; font-weight: bold\">0.6308724832214765</span>                             <a href=\"file:///home/j-gunmo/desktop/00.my-project/17.P-Stage-T1003/4-STAGE/fe/feature.py\"><span style=\"color: #7f7f7f\">feature.py</span></a><span style=\"color: #7f7f7f\">:109</span>\n",
       "</pre>\n"
      ],
      "text/plain": [
       "<rich.jupyter.JupyterRenderable at 0x7f1c04ac9c40>"
      ]
     },
     "metadata": {},
     "output_type": "display_data"
    },
    {
     "name": "stderr",
     "output_type": "stream",
     "text": [
      "INDEX 4000: 0.6308724832214765\n"
     ]
    },
    {
     "data": {
      "text/html": [
       "<pre style=\"white-space:pre;overflow-x:auto;line-height:normal;font-family:Menlo,'DejaVu Sans Mono',consolas,'Courier New',monospace\"><span style=\"color: #7fbfbf\">           </span><span style=\"color: #000080\">INFO    </span> INDEX <span style=\"color: #000080; font-weight: bold\">4000</span>: <span style=\"color: #000080; font-weight: bold\">0.6308724832214765</span>                             <a href=\"file:///home/j-gunmo/desktop/00.my-project/17.P-Stage-T1003/4-STAGE/fe/feature.py\"><span style=\"color: #7f7f7f\">feature.py</span></a><span style=\"color: #7f7f7f\">:109</span>\n",
       "</pre>\n"
      ],
      "text/plain": [
       "<rich.jupyter.JupyterRenderable at 0x7f1c04ac9e80>"
      ]
     },
     "metadata": {},
     "output_type": "display_data"
    },
    {
     "name": "stderr",
     "output_type": "stream",
     "text": [
      "INDEX 5000: 0.6308724832214765\n"
     ]
    },
    {
     "data": {
      "text/html": [
       "<pre style=\"white-space:pre;overflow-x:auto;line-height:normal;font-family:Menlo,'DejaVu Sans Mono',consolas,'Courier New',monospace\"><span style=\"color: #7fbfbf\">           </span><span style=\"color: #000080\">INFO    </span> INDEX <span style=\"color: #000080; font-weight: bold\">5000</span>: <span style=\"color: #000080; font-weight: bold\">0.6308724832214765</span>                             <a href=\"file:///home/j-gunmo/desktop/00.my-project/17.P-Stage-T1003/4-STAGE/fe/feature.py\"><span style=\"color: #7f7f7f\">feature.py</span></a><span style=\"color: #7f7f7f\">:109</span>\n",
       "</pre>\n"
      ],
      "text/plain": [
       "<rich.jupyter.JupyterRenderable at 0x7f1c04ac97f0>"
      ]
     },
     "metadata": {},
     "output_type": "display_data"
    },
    {
     "name": "stderr",
     "output_type": "stream",
     "text": [
      "INDEX 6000: 0.6308724832214765\n"
     ]
    },
    {
     "data": {
      "text/html": [
       "<pre style=\"white-space:pre;overflow-x:auto;line-height:normal;font-family:Menlo,'DejaVu Sans Mono',consolas,'Courier New',monospace\"><span style=\"color: #7fbfbf\">           </span><span style=\"color: #000080\">INFO    </span> INDEX <span style=\"color: #000080; font-weight: bold\">6000</span>: <span style=\"color: #000080; font-weight: bold\">0.6308724832214765</span>                             <a href=\"file:///home/j-gunmo/desktop/00.my-project/17.P-Stage-T1003/4-STAGE/fe/feature.py\"><span style=\"color: #7f7f7f\">feature.py</span></a><span style=\"color: #7f7f7f\">:109</span>\n",
       "</pre>\n"
      ],
      "text/plain": [
       "<rich.jupyter.JupyterRenderable at 0x7f1c04ac9ca0>"
      ]
     },
     "metadata": {},
     "output_type": "display_data"
    },
    {
     "name": "stderr",
     "output_type": "stream",
     "text": [
      "INDEX 7000: 0.6308724832214765\n"
     ]
    },
    {
     "data": {
      "text/html": [
       "<pre style=\"white-space:pre;overflow-x:auto;line-height:normal;font-family:Menlo,'DejaVu Sans Mono',consolas,'Courier New',monospace\"><span style=\"color: #7fbfbf\">           </span><span style=\"color: #000080\">INFO    </span> INDEX <span style=\"color: #000080; font-weight: bold\">7000</span>: <span style=\"color: #000080; font-weight: bold\">0.6308724832214765</span>                             <a href=\"file:///home/j-gunmo/desktop/00.my-project/17.P-Stage-T1003/4-STAGE/fe/feature.py\"><span style=\"color: #7f7f7f\">feature.py</span></a><span style=\"color: #7f7f7f\">:109</span>\n",
       "</pre>\n"
      ],
      "text/plain": [
       "<rich.jupyter.JupyterRenderable at 0x7f1c04ac9730>"
      ]
     },
     "metadata": {},
     "output_type": "display_data"
    },
    {
     "name": "stderr",
     "output_type": "stream",
     "text": [
      "INDEX 8000: 0.8531618435155413\n"
     ]
    },
    {
     "data": {
      "text/html": [
       "<pre style=\"white-space:pre;overflow-x:auto;line-height:normal;font-family:Menlo,'DejaVu Sans Mono',consolas,'Courier New',monospace\"><span style=\"color: #7fbfbf\">           </span><span style=\"color: #000080\">INFO    </span> INDEX <span style=\"color: #000080; font-weight: bold\">8000</span>: <span style=\"color: #000080; font-weight: bold\">0.8531618435155413</span>                             <a href=\"file:///home/j-gunmo/desktop/00.my-project/17.P-Stage-T1003/4-STAGE/fe/feature.py\"><span style=\"color: #7f7f7f\">feature.py</span></a><span style=\"color: #7f7f7f\">:109</span>\n",
       "</pre>\n"
      ],
      "text/plain": [
       "<rich.jupyter.JupyterRenderable at 0x7f1c04ac9f40>"
      ]
     },
     "metadata": {},
     "output_type": "display_data"
    },
    {
     "name": "stderr",
     "output_type": "stream",
     "text": [
      "INDEX 9000: 0.8531618435155413\n"
     ]
    },
    {
     "data": {
      "text/html": [
       "<pre style=\"white-space:pre;overflow-x:auto;line-height:normal;font-family:Menlo,'DejaVu Sans Mono',consolas,'Courier New',monospace\"><span style=\"color: #7fbfbf\">           </span><span style=\"color: #000080\">INFO    </span> INDEX <span style=\"color: #000080; font-weight: bold\">9000</span>: <span style=\"color: #000080; font-weight: bold\">0.8531618435155413</span>                             <a href=\"file:///home/j-gunmo/desktop/00.my-project/17.P-Stage-T1003/4-STAGE/fe/feature.py\"><span style=\"color: #7f7f7f\">feature.py</span></a><span style=\"color: #7f7f7f\">:109</span>\n",
       "</pre>\n"
      ],
      "text/plain": [
       "<rich.jupyter.JupyterRenderable at 0x7f1c04ac9490>"
      ]
     },
     "metadata": {},
     "output_type": "display_data"
    },
    {
     "name": "stdout",
     "output_type": "stream",
     "text": [
      "load features /home/j-gunmo/features/train_make_topn_correct_percent.pkl to dataframe ... \n"
     ]
    },
    {
     "name": "stderr",
     "output_type": "stream",
     "text": [
      "\n",
      "Feature Engineering Name: make_topn_correct_percent\n"
     ]
    },
    {
     "data": {
      "text/html": [
       "<pre style=\"white-space:pre;overflow-x:auto;line-height:normal;font-family:Menlo,'DejaVu Sans Mono',consolas,'Courier New',monospace\"><span style=\"color: #7fbfbf\">           </span><span style=\"color: #000080\">INFO    </span>                                                            <a href=\"file:///home/j-gunmo/desktop/00.my-project/17.P-Stage-T1003/4-STAGE/fe/feature.py\"><span style=\"color: #7f7f7f\">feature.py</span></a><span style=\"color: #7f7f7f\">:101</span>\n",
       "                    Feature Engineering Name: make_topn_correct_percent                      \n",
       "</pre>\n"
      ],
      "text/plain": [
       "<rich.jupyter.JupyterRenderable at 0x7f1c04ac9fd0>"
      ]
     },
     "metadata": {},
     "output_type": "display_data"
    },
    {
     "name": "stderr",
     "output_type": "stream",
     "text": [
      "\n",
      "top10CorrectPer : 사용자가 최근 푼 TOP-10개에 대한 정답률입니다.\n"
     ]
    },
    {
     "data": {
      "text/html": [
       "<pre style=\"white-space:pre;overflow-x:auto;line-height:normal;font-family:Menlo,'DejaVu Sans Mono',consolas,'Courier New',monospace\"><span style=\"color: #7fbfbf\">           </span><span style=\"color: #000080\">INFO    </span>                                                            <a href=\"file:///home/j-gunmo/desktop/00.my-project/17.P-Stage-T1003/4-STAGE/fe/feature.py\"><span style=\"color: #7f7f7f\">feature.py</span></a><span style=\"color: #7f7f7f\">:104</span>\n",
       "                    top10CorrectPer : 사용자가 최근 푼 TOP-10개에 대한                       \n",
       "                    정답률입니다.                                                            \n",
       "</pre>\n"
      ],
      "text/plain": [
       "<rich.jupyter.JupyterRenderable at 0x7f1c04ac9ee0>"
      ]
     },
     "metadata": {},
     "output_type": "display_data"
    },
    {
     "name": "stderr",
     "output_type": "stream",
     "text": [
      "dtype: float64\n"
     ]
    },
    {
     "data": {
      "text/html": [
       "<pre style=\"white-space:pre;overflow-x:auto;line-height:normal;font-family:Menlo,'DejaVu Sans Mono',consolas,'Courier New',monospace\"><span style=\"color: #7fbfbf\">           </span><span style=\"color: #000080\">INFO    </span> dtype: float64                                             <a href=\"file:///home/j-gunmo/desktop/00.my-project/17.P-Stage-T1003/4-STAGE/fe/feature.py\"><span style=\"color: #7f7f7f\">feature.py</span></a><span style=\"color: #7f7f7f\">:105</span>\n",
       "</pre>\n"
      ],
      "text/plain": [
       "<rich.jupyter.JupyterRenderable at 0x7f1c04ac9bb0>"
      ]
     },
     "metadata": {},
     "output_type": "display_data"
    },
    {
     "name": "stderr",
     "output_type": "stream",
     "text": [
      "[Examples]\n"
     ]
    },
    {
     "data": {
      "text/html": [
       "<pre style=\"white-space:pre;overflow-x:auto;line-height:normal;font-family:Menlo,'DejaVu Sans Mono',consolas,'Courier New',monospace\"><span style=\"color: #7fbfbf\">           </span><span style=\"color: #000080\">INFO    </span> <span style=\"font-weight: bold\">[</span>Examples<span style=\"font-weight: bold\">]</span>                                                 <a href=\"file:///home/j-gunmo/desktop/00.my-project/17.P-Stage-T1003/4-STAGE/fe/feature.py\"><span style=\"color: #7f7f7f\">feature.py</span></a><span style=\"color: #7f7f7f\">:106</span>\n",
       "</pre>\n"
      ],
      "text/plain": [
       "<rich.jupyter.JupyterRenderable at 0x7f1c04ac97c0>"
      ]
     },
     "metadata": {},
     "output_type": "display_data"
    },
    {
     "name": "stderr",
     "output_type": "stream",
     "text": [
      "INDEX 0000: 0.5\n"
     ]
    },
    {
     "data": {
      "text/html": [
       "<pre style=\"white-space:pre;overflow-x:auto;line-height:normal;font-family:Menlo,'DejaVu Sans Mono',consolas,'Courier New',monospace\"><span style=\"color: #7fbfbf\">           </span><span style=\"color: #000080\">INFO    </span> INDEX <span style=\"color: #000080; font-weight: bold\">0000</span>: <span style=\"color: #000080; font-weight: bold\">0.5</span>                                            <a href=\"file:///home/j-gunmo/desktop/00.my-project/17.P-Stage-T1003/4-STAGE/fe/feature.py\"><span style=\"color: #7f7f7f\">feature.py</span></a><span style=\"color: #7f7f7f\">:109</span>\n",
       "</pre>\n"
      ],
      "text/plain": [
       "<rich.jupyter.JupyterRenderable at 0x7f1c04ac93a0>"
      ]
     },
     "metadata": {},
     "output_type": "display_data"
    },
    {
     "name": "stderr",
     "output_type": "stream",
     "text": [
      "INDEX 1000: 0.5\n"
     ]
    },
    {
     "data": {
      "text/html": [
       "<pre style=\"white-space:pre;overflow-x:auto;line-height:normal;font-family:Menlo,'DejaVu Sans Mono',consolas,'Courier New',monospace\"><span style=\"color: #7fbfbf\">           </span><span style=\"color: #000080\">INFO    </span> INDEX <span style=\"color: #000080; font-weight: bold\">1000</span>: <span style=\"color: #000080; font-weight: bold\">0.5</span>                                            <a href=\"file:///home/j-gunmo/desktop/00.my-project/17.P-Stage-T1003/4-STAGE/fe/feature.py\"><span style=\"color: #7f7f7f\">feature.py</span></a><span style=\"color: #7f7f7f\">:109</span>\n",
       "</pre>\n"
      ],
      "text/plain": [
       "<rich.jupyter.JupyterRenderable at 0x7f1c04ac9310>"
      ]
     },
     "metadata": {},
     "output_type": "display_data"
    },
    {
     "name": "stderr",
     "output_type": "stream",
     "text": [
      "INDEX 2000: 0.5\n"
     ]
    },
    {
     "data": {
      "text/html": [
       "<pre style=\"white-space:pre;overflow-x:auto;line-height:normal;font-family:Menlo,'DejaVu Sans Mono',consolas,'Courier New',monospace\"><span style=\"color: #7fbfbf\">           </span><span style=\"color: #000080\">INFO    </span> INDEX <span style=\"color: #000080; font-weight: bold\">2000</span>: <span style=\"color: #000080; font-weight: bold\">0.5</span>                                            <a href=\"file:///home/j-gunmo/desktop/00.my-project/17.P-Stage-T1003/4-STAGE/fe/feature.py\"><span style=\"color: #7f7f7f\">feature.py</span></a><span style=\"color: #7f7f7f\">:109</span>\n",
       "</pre>\n"
      ],
      "text/plain": [
       "<rich.jupyter.JupyterRenderable at 0x7f1c04ac9640>"
      ]
     },
     "metadata": {},
     "output_type": "display_data"
    },
    {
     "name": "stderr",
     "output_type": "stream",
     "text": [
      "INDEX 3000: 0.5\n"
     ]
    },
    {
     "data": {
      "text/html": [
       "<pre style=\"white-space:pre;overflow-x:auto;line-height:normal;font-family:Menlo,'DejaVu Sans Mono',consolas,'Courier New',monospace\"><span style=\"color: #7fbfbf\">           </span><span style=\"color: #000080\">INFO    </span> INDEX <span style=\"color: #000080; font-weight: bold\">3000</span>: <span style=\"color: #000080; font-weight: bold\">0.5</span>                                            <a href=\"file:///home/j-gunmo/desktop/00.my-project/17.P-Stage-T1003/4-STAGE/fe/feature.py\"><span style=\"color: #7f7f7f\">feature.py</span></a><span style=\"color: #7f7f7f\">:109</span>\n",
       "</pre>\n"
      ],
      "text/plain": [
       "<rich.jupyter.JupyterRenderable at 0x7f1c04ac9be0>"
      ]
     },
     "metadata": {},
     "output_type": "display_data"
    },
    {
     "name": "stderr",
     "output_type": "stream",
     "text": [
      "INDEX 4000: 0.5\n"
     ]
    },
    {
     "data": {
      "text/html": [
       "<pre style=\"white-space:pre;overflow-x:auto;line-height:normal;font-family:Menlo,'DejaVu Sans Mono',consolas,'Courier New',monospace\"><span style=\"color: #7fbfbf\">           </span><span style=\"color: #000080\">INFO    </span> INDEX <span style=\"color: #000080; font-weight: bold\">4000</span>: <span style=\"color: #000080; font-weight: bold\">0.5</span>                                            <a href=\"file:///home/j-gunmo/desktop/00.my-project/17.P-Stage-T1003/4-STAGE/fe/feature.py\"><span style=\"color: #7f7f7f\">feature.py</span></a><span style=\"color: #7f7f7f\">:109</span>\n",
       "</pre>\n"
      ],
      "text/plain": [
       "<rich.jupyter.JupyterRenderable at 0x7f1c04ac92b0>"
      ]
     },
     "metadata": {},
     "output_type": "display_data"
    },
    {
     "name": "stderr",
     "output_type": "stream",
     "text": [
      "INDEX 5000: 0.5\n"
     ]
    },
    {
     "data": {
      "text/html": [
       "<pre style=\"white-space:pre;overflow-x:auto;line-height:normal;font-family:Menlo,'DejaVu Sans Mono',consolas,'Courier New',monospace\"><span style=\"color: #7fbfbf\">           </span><span style=\"color: #000080\">INFO    </span> INDEX <span style=\"color: #000080; font-weight: bold\">5000</span>: <span style=\"color: #000080; font-weight: bold\">0.5</span>                                            <a href=\"file:///home/j-gunmo/desktop/00.my-project/17.P-Stage-T1003/4-STAGE/fe/feature.py\"><span style=\"color: #7f7f7f\">feature.py</span></a><span style=\"color: #7f7f7f\">:109</span>\n",
       "</pre>\n"
      ],
      "text/plain": [
       "<rich.jupyter.JupyterRenderable at 0x7f1c04ac9a60>"
      ]
     },
     "metadata": {},
     "output_type": "display_data"
    },
    {
     "name": "stderr",
     "output_type": "stream",
     "text": [
      "INDEX 6000: 0.5\n"
     ]
    },
    {
     "data": {
      "text/html": [
       "<pre style=\"white-space:pre;overflow-x:auto;line-height:normal;font-family:Menlo,'DejaVu Sans Mono',consolas,'Courier New',monospace\"><span style=\"color: #7fbfbf\">           </span><span style=\"color: #000080\">INFO    </span> INDEX <span style=\"color: #000080; font-weight: bold\">6000</span>: <span style=\"color: #000080; font-weight: bold\">0.5</span>                                            <a href=\"file:///home/j-gunmo/desktop/00.my-project/17.P-Stage-T1003/4-STAGE/fe/feature.py\"><span style=\"color: #7f7f7f\">feature.py</span></a><span style=\"color: #7f7f7f\">:109</span>\n",
       "</pre>\n"
      ],
      "text/plain": [
       "<rich.jupyter.JupyterRenderable at 0x7f1c04ac9640>"
      ]
     },
     "metadata": {},
     "output_type": "display_data"
    },
    {
     "name": "stderr",
     "output_type": "stream",
     "text": [
      "INDEX 7000: 0.5\n"
     ]
    },
    {
     "data": {
      "text/html": [
       "<pre style=\"white-space:pre;overflow-x:auto;line-height:normal;font-family:Menlo,'DejaVu Sans Mono',consolas,'Courier New',monospace\"><span style=\"color: #7fbfbf\">           </span><span style=\"color: #000080\">INFO    </span> INDEX <span style=\"color: #000080; font-weight: bold\">7000</span>: <span style=\"color: #000080; font-weight: bold\">0.5</span>                                            <a href=\"file:///home/j-gunmo/desktop/00.my-project/17.P-Stage-T1003/4-STAGE/fe/feature.py\"><span style=\"color: #7f7f7f\">feature.py</span></a><span style=\"color: #7f7f7f\">:109</span>\n",
       "</pre>\n"
      ],
      "text/plain": [
       "<rich.jupyter.JupyterRenderable at 0x7f1c04ac9730>"
      ]
     },
     "metadata": {},
     "output_type": "display_data"
    },
    {
     "name": "stderr",
     "output_type": "stream",
     "text": [
      "INDEX 8000: 0.9\n"
     ]
    },
    {
     "data": {
      "text/html": [
       "<pre style=\"white-space:pre;overflow-x:auto;line-height:normal;font-family:Menlo,'DejaVu Sans Mono',consolas,'Courier New',monospace\"><span style=\"color: #7fbfbf\">           </span><span style=\"color: #000080\">INFO    </span> INDEX <span style=\"color: #000080; font-weight: bold\">8000</span>: <span style=\"color: #000080; font-weight: bold\">0.9</span>                                            <a href=\"file:///home/j-gunmo/desktop/00.my-project/17.P-Stage-T1003/4-STAGE/fe/feature.py\"><span style=\"color: #7f7f7f\">feature.py</span></a><span style=\"color: #7f7f7f\">:109</span>\n",
       "</pre>\n"
      ],
      "text/plain": [
       "<rich.jupyter.JupyterRenderable at 0x7f1c04ac93d0>"
      ]
     },
     "metadata": {},
     "output_type": "display_data"
    },
    {
     "name": "stderr",
     "output_type": "stream",
     "text": [
      "INDEX 9000: 0.9\n"
     ]
    },
    {
     "data": {
      "text/html": [
       "<pre style=\"white-space:pre;overflow-x:auto;line-height:normal;font-family:Menlo,'DejaVu Sans Mono',consolas,'Courier New',monospace\"><span style=\"color: #7fbfbf\">           </span><span style=\"color: #000080\">INFO    </span> INDEX <span style=\"color: #000080; font-weight: bold\">9000</span>: <span style=\"color: #000080; font-weight: bold\">0.9</span>                                            <a href=\"file:///home/j-gunmo/desktop/00.my-project/17.P-Stage-T1003/4-STAGE/fe/feature.py\"><span style=\"color: #7f7f7f\">feature.py</span></a><span style=\"color: #7f7f7f\">:109</span>\n",
       "</pre>\n"
      ],
      "text/plain": [
       "<rich.jupyter.JupyterRenderable at 0x7f1c04ac9640>"
      ]
     },
     "metadata": {},
     "output_type": "display_data"
    },
    {
     "name": "stderr",
     "output_type": "stream",
     "text": [
      "\n",
      "top30CorrectPer : 사용자가 최근 푼 TOP-30개에 대한 정답률입니다.\n"
     ]
    },
    {
     "data": {
      "text/html": [
       "<pre style=\"white-space:pre;overflow-x:auto;line-height:normal;font-family:Menlo,'DejaVu Sans Mono',consolas,'Courier New',monospace\"><span style=\"color: #7fbfbf\">           </span><span style=\"color: #000080\">INFO    </span>                                                            <a href=\"file:///home/j-gunmo/desktop/00.my-project/17.P-Stage-T1003/4-STAGE/fe/feature.py\"><span style=\"color: #7f7f7f\">feature.py</span></a><span style=\"color: #7f7f7f\">:104</span>\n",
       "                    top30CorrectPer : 사용자가 최근 푼 TOP-30개에 대한                       \n",
       "                    정답률입니다.                                                            \n",
       "</pre>\n"
      ],
      "text/plain": [
       "<rich.jupyter.JupyterRenderable at 0x7f1c04ac9070>"
      ]
     },
     "metadata": {},
     "output_type": "display_data"
    },
    {
     "name": "stderr",
     "output_type": "stream",
     "text": [
      "dtype: float64\n"
     ]
    },
    {
     "data": {
      "text/html": [
       "<pre style=\"white-space:pre;overflow-x:auto;line-height:normal;font-family:Menlo,'DejaVu Sans Mono',consolas,'Courier New',monospace\"><span style=\"color: #7fbfbf\">           </span><span style=\"color: #000080\">INFO    </span> dtype: float64                                             <a href=\"file:///home/j-gunmo/desktop/00.my-project/17.P-Stage-T1003/4-STAGE/fe/feature.py\"><span style=\"color: #7f7f7f\">feature.py</span></a><span style=\"color: #7f7f7f\">:105</span>\n",
       "</pre>\n"
      ],
      "text/plain": [
       "<rich.jupyter.JupyterRenderable at 0x7f1c04ac9ee0>"
      ]
     },
     "metadata": {},
     "output_type": "display_data"
    },
    {
     "name": "stderr",
     "output_type": "stream",
     "text": [
      "[Examples]\n"
     ]
    },
    {
     "data": {
      "text/html": [
       "<pre style=\"white-space:pre;overflow-x:auto;line-height:normal;font-family:Menlo,'DejaVu Sans Mono',consolas,'Courier New',monospace\"><span style=\"color: #7fbfbf\">           </span><span style=\"color: #000080\">INFO    </span> <span style=\"font-weight: bold\">[</span>Examples<span style=\"font-weight: bold\">]</span>                                                 <a href=\"file:///home/j-gunmo/desktop/00.my-project/17.P-Stage-T1003/4-STAGE/fe/feature.py\"><span style=\"color: #7f7f7f\">feature.py</span></a><span style=\"color: #7f7f7f\">:106</span>\n",
       "</pre>\n"
      ],
      "text/plain": [
       "<rich.jupyter.JupyterRenderable at 0x7f1c04ac9fd0>"
      ]
     },
     "metadata": {},
     "output_type": "display_data"
    },
    {
     "name": "stderr",
     "output_type": "stream",
     "text": [
      "INDEX 0000: 0.6333333333333333\n"
     ]
    },
    {
     "data": {
      "text/html": [
       "<pre style=\"white-space:pre;overflow-x:auto;line-height:normal;font-family:Menlo,'DejaVu Sans Mono',consolas,'Courier New',monospace\"><span style=\"color: #7fbfbf\">           </span><span style=\"color: #000080\">INFO    </span> INDEX <span style=\"color: #000080; font-weight: bold\">0000</span>: <span style=\"color: #000080; font-weight: bold\">0.6333333333333333</span>                             <a href=\"file:///home/j-gunmo/desktop/00.my-project/17.P-Stage-T1003/4-STAGE/fe/feature.py\"><span style=\"color: #7f7f7f\">feature.py</span></a><span style=\"color: #7f7f7f\">:109</span>\n",
       "</pre>\n"
      ],
      "text/plain": [
       "<rich.jupyter.JupyterRenderable at 0x7f1c04ac9e80>"
      ]
     },
     "metadata": {},
     "output_type": "display_data"
    },
    {
     "name": "stderr",
     "output_type": "stream",
     "text": [
      "INDEX 1000: 0.6333333333333333\n"
     ]
    },
    {
     "data": {
      "text/html": [
       "<pre style=\"white-space:pre;overflow-x:auto;line-height:normal;font-family:Menlo,'DejaVu Sans Mono',consolas,'Courier New',monospace\"><span style=\"color: #7fbfbf\">           </span><span style=\"color: #000080\">INFO    </span> INDEX <span style=\"color: #000080; font-weight: bold\">1000</span>: <span style=\"color: #000080; font-weight: bold\">0.6333333333333333</span>                             <a href=\"file:///home/j-gunmo/desktop/00.my-project/17.P-Stage-T1003/4-STAGE/fe/feature.py\"><span style=\"color: #7f7f7f\">feature.py</span></a><span style=\"color: #7f7f7f\">:109</span>\n",
       "</pre>\n"
      ],
      "text/plain": [
       "<rich.jupyter.JupyterRenderable at 0x7f1c04ac92b0>"
      ]
     },
     "metadata": {},
     "output_type": "display_data"
    },
    {
     "name": "stderr",
     "output_type": "stream",
     "text": [
      "INDEX 2000: 0.6333333333333333\n"
     ]
    },
    {
     "data": {
      "text/html": [
       "<pre style=\"white-space:pre;overflow-x:auto;line-height:normal;font-family:Menlo,'DejaVu Sans Mono',consolas,'Courier New',monospace\"><span style=\"color: #7fbfbf\">           </span><span style=\"color: #000080\">INFO    </span> INDEX <span style=\"color: #000080; font-weight: bold\">2000</span>: <span style=\"color: #000080; font-weight: bold\">0.6333333333333333</span>                             <a href=\"file:///home/j-gunmo/desktop/00.my-project/17.P-Stage-T1003/4-STAGE/fe/feature.py\"><span style=\"color: #7f7f7f\">feature.py</span></a><span style=\"color: #7f7f7f\">:109</span>\n",
       "</pre>\n"
      ],
      "text/plain": [
       "<rich.jupyter.JupyterRenderable at 0x7f1c04ac97c0>"
      ]
     },
     "metadata": {},
     "output_type": "display_data"
    },
    {
     "name": "stderr",
     "output_type": "stream",
     "text": [
      "INDEX 3000: 0.6333333333333333\n"
     ]
    },
    {
     "data": {
      "text/html": [
       "<pre style=\"white-space:pre;overflow-x:auto;line-height:normal;font-family:Menlo,'DejaVu Sans Mono',consolas,'Courier New',monospace\"><span style=\"color: #7fbfbf\">           </span><span style=\"color: #000080\">INFO    </span> INDEX <span style=\"color: #000080; font-weight: bold\">3000</span>: <span style=\"color: #000080; font-weight: bold\">0.6333333333333333</span>                             <a href=\"file:///home/j-gunmo/desktop/00.my-project/17.P-Stage-T1003/4-STAGE/fe/feature.py\"><span style=\"color: #7f7f7f\">feature.py</span></a><span style=\"color: #7f7f7f\">:109</span>\n",
       "</pre>\n"
      ],
      "text/plain": [
       "<rich.jupyter.JupyterRenderable at 0x7f1c04ac9a60>"
      ]
     },
     "metadata": {},
     "output_type": "display_data"
    },
    {
     "name": "stderr",
     "output_type": "stream",
     "text": [
      "INDEX 4000: 0.6333333333333333\n"
     ]
    },
    {
     "data": {
      "text/html": [
       "<pre style=\"white-space:pre;overflow-x:auto;line-height:normal;font-family:Menlo,'DejaVu Sans Mono',consolas,'Courier New',monospace\"><span style=\"color: #7fbfbf\">           </span><span style=\"color: #000080\">INFO    </span> INDEX <span style=\"color: #000080; font-weight: bold\">4000</span>: <span style=\"color: #000080; font-weight: bold\">0.6333333333333333</span>                             <a href=\"file:///home/j-gunmo/desktop/00.my-project/17.P-Stage-T1003/4-STAGE/fe/feature.py\"><span style=\"color: #7f7f7f\">feature.py</span></a><span style=\"color: #7f7f7f\">:109</span>\n",
       "</pre>\n"
      ],
      "text/plain": [
       "<rich.jupyter.JupyterRenderable at 0x7f1c04ac93d0>"
      ]
     },
     "metadata": {},
     "output_type": "display_data"
    },
    {
     "name": "stderr",
     "output_type": "stream",
     "text": [
      "INDEX 5000: 0.6333333333333333\n"
     ]
    },
    {
     "data": {
      "text/html": [
       "<pre style=\"white-space:pre;overflow-x:auto;line-height:normal;font-family:Menlo,'DejaVu Sans Mono',consolas,'Courier New',monospace\"><span style=\"color: #7fbfbf\">           </span><span style=\"color: #000080\">INFO    </span> INDEX <span style=\"color: #000080; font-weight: bold\">5000</span>: <span style=\"color: #000080; font-weight: bold\">0.6333333333333333</span>                             <a href=\"file:///home/j-gunmo/desktop/00.my-project/17.P-Stage-T1003/4-STAGE/fe/feature.py\"><span style=\"color: #7f7f7f\">feature.py</span></a><span style=\"color: #7f7f7f\">:109</span>\n",
       "</pre>\n"
      ],
      "text/plain": [
       "<rich.jupyter.JupyterRenderable at 0x7f1c04ac9070>"
      ]
     },
     "metadata": {},
     "output_type": "display_data"
    },
    {
     "name": "stderr",
     "output_type": "stream",
     "text": [
      "INDEX 6000: 0.6333333333333333\n"
     ]
    },
    {
     "data": {
      "text/html": [
       "<pre style=\"white-space:pre;overflow-x:auto;line-height:normal;font-family:Menlo,'DejaVu Sans Mono',consolas,'Courier New',monospace\"><span style=\"color: #7fbfbf\">           </span><span style=\"color: #000080\">INFO    </span> INDEX <span style=\"color: #000080; font-weight: bold\">6000</span>: <span style=\"color: #000080; font-weight: bold\">0.6333333333333333</span>                             <a href=\"file:///home/j-gunmo/desktop/00.my-project/17.P-Stage-T1003/4-STAGE/fe/feature.py\"><span style=\"color: #7f7f7f\">feature.py</span></a><span style=\"color: #7f7f7f\">:109</span>\n",
       "</pre>\n"
      ],
      "text/plain": [
       "<rich.jupyter.JupyterRenderable at 0x7f1c04ac9c40>"
      ]
     },
     "metadata": {},
     "output_type": "display_data"
    },
    {
     "name": "stderr",
     "output_type": "stream",
     "text": [
      "INDEX 7000: 0.6333333333333333\n"
     ]
    },
    {
     "data": {
      "text/html": [
       "<pre style=\"white-space:pre;overflow-x:auto;line-height:normal;font-family:Menlo,'DejaVu Sans Mono',consolas,'Courier New',monospace\"><span style=\"color: #7fbfbf\">           </span><span style=\"color: #000080\">INFO    </span> INDEX <span style=\"color: #000080; font-weight: bold\">7000</span>: <span style=\"color: #000080; font-weight: bold\">0.6333333333333333</span>                             <a href=\"file:///home/j-gunmo/desktop/00.my-project/17.P-Stage-T1003/4-STAGE/fe/feature.py\"><span style=\"color: #7f7f7f\">feature.py</span></a><span style=\"color: #7f7f7f\">:109</span>\n",
       "</pre>\n"
      ],
      "text/plain": [
       "<rich.jupyter.JupyterRenderable at 0x7f1c04ac9df0>"
      ]
     },
     "metadata": {},
     "output_type": "display_data"
    },
    {
     "name": "stderr",
     "output_type": "stream",
     "text": [
      "INDEX 8000: 0.8333333333333334\n"
     ]
    },
    {
     "data": {
      "text/html": [
       "<pre style=\"white-space:pre;overflow-x:auto;line-height:normal;font-family:Menlo,'DejaVu Sans Mono',consolas,'Courier New',monospace\"><span style=\"color: #7fbfbf\">           </span><span style=\"color: #000080\">INFO    </span> INDEX <span style=\"color: #000080; font-weight: bold\">8000</span>: <span style=\"color: #000080; font-weight: bold\">0.8333333333333334</span>                             <a href=\"file:///home/j-gunmo/desktop/00.my-project/17.P-Stage-T1003/4-STAGE/fe/feature.py\"><span style=\"color: #7f7f7f\">feature.py</span></a><span style=\"color: #7f7f7f\">:109</span>\n",
       "</pre>\n"
      ],
      "text/plain": [
       "<rich.jupyter.JupyterRenderable at 0x7f1c04ac9fd0>"
      ]
     },
     "metadata": {},
     "output_type": "display_data"
    },
    {
     "name": "stderr",
     "output_type": "stream",
     "text": [
      "INDEX 9000: 0.8333333333333334\n"
     ]
    },
    {
     "data": {
      "text/html": [
       "<pre style=\"white-space:pre;overflow-x:auto;line-height:normal;font-family:Menlo,'DejaVu Sans Mono',consolas,'Courier New',monospace\"><span style=\"color: #7fbfbf\">           </span><span style=\"color: #000080\">INFO    </span> INDEX <span style=\"color: #000080; font-weight: bold\">9000</span>: <span style=\"color: #000080; font-weight: bold\">0.8333333333333334</span>                             <a href=\"file:///home/j-gunmo/desktop/00.my-project/17.P-Stage-T1003/4-STAGE/fe/feature.py\"><span style=\"color: #7f7f7f\">feature.py</span></a><span style=\"color: #7f7f7f\">:109</span>\n",
       "</pre>\n"
      ],
      "text/plain": [
       "<rich.jupyter.JupyterRenderable at 0x7f1c04ac93a0>"
      ]
     },
     "metadata": {},
     "output_type": "display_data"
    },
    {
     "name": "stderr",
     "output_type": "stream",
     "text": [
      "\n",
      "top50CorrectPer : 사용자가 최근 푼 TOP-50개에 대한 정답률입니다.\n"
     ]
    },
    {
     "data": {
      "text/html": [
       "<pre style=\"white-space:pre;overflow-x:auto;line-height:normal;font-family:Menlo,'DejaVu Sans Mono',consolas,'Courier New',monospace\"><span style=\"color: #7fbfbf\">           </span><span style=\"color: #000080\">INFO    </span>                                                            <a href=\"file:///home/j-gunmo/desktop/00.my-project/17.P-Stage-T1003/4-STAGE/fe/feature.py\"><span style=\"color: #7f7f7f\">feature.py</span></a><span style=\"color: #7f7f7f\">:104</span>\n",
       "                    top50CorrectPer : 사용자가 최근 푼 TOP-50개에 대한                       \n",
       "                    정답률입니다.                                                            \n",
       "</pre>\n"
      ],
      "text/plain": [
       "<rich.jupyter.JupyterRenderable at 0x7f1c04ac9d60>"
      ]
     },
     "metadata": {},
     "output_type": "display_data"
    },
    {
     "name": "stderr",
     "output_type": "stream",
     "text": [
      "dtype: float64\n"
     ]
    },
    {
     "data": {
      "text/html": [
       "<pre style=\"white-space:pre;overflow-x:auto;line-height:normal;font-family:Menlo,'DejaVu Sans Mono',consolas,'Courier New',monospace\"><span style=\"color: #7fbfbf\">           </span><span style=\"color: #000080\">INFO    </span> dtype: float64                                             <a href=\"file:///home/j-gunmo/desktop/00.my-project/17.P-Stage-T1003/4-STAGE/fe/feature.py\"><span style=\"color: #7f7f7f\">feature.py</span></a><span style=\"color: #7f7f7f\">:105</span>\n",
       "</pre>\n"
      ],
      "text/plain": [
       "<rich.jupyter.JupyterRenderable at 0x7f1c04ac9e80>"
      ]
     },
     "metadata": {},
     "output_type": "display_data"
    },
    {
     "name": "stderr",
     "output_type": "stream",
     "text": [
      "[Examples]\n"
     ]
    },
    {
     "data": {
      "text/html": [
       "<pre style=\"white-space:pre;overflow-x:auto;line-height:normal;font-family:Menlo,'DejaVu Sans Mono',consolas,'Courier New',monospace\"><span style=\"color: #7fbfbf\">           </span><span style=\"color: #000080\">INFO    </span> <span style=\"font-weight: bold\">[</span>Examples<span style=\"font-weight: bold\">]</span>                                                 <a href=\"file:///home/j-gunmo/desktop/00.my-project/17.P-Stage-T1003/4-STAGE/fe/feature.py\"><span style=\"color: #7f7f7f\">feature.py</span></a><span style=\"color: #7f7f7f\">:106</span>\n",
       "</pre>\n"
      ],
      "text/plain": [
       "<rich.jupyter.JupyterRenderable at 0x7f1c04ac9490>"
      ]
     },
     "metadata": {},
     "output_type": "display_data"
    },
    {
     "name": "stderr",
     "output_type": "stream",
     "text": [
      "INDEX 0000: 0.58\n"
     ]
    },
    {
     "data": {
      "text/html": [
       "<pre style=\"white-space:pre;overflow-x:auto;line-height:normal;font-family:Menlo,'DejaVu Sans Mono',consolas,'Courier New',monospace\"><span style=\"color: #7fbfbf\">           </span><span style=\"color: #000080\">INFO    </span> INDEX <span style=\"color: #000080; font-weight: bold\">0000</span>: <span style=\"color: #000080; font-weight: bold\">0.58</span>                                           <a href=\"file:///home/j-gunmo/desktop/00.my-project/17.P-Stage-T1003/4-STAGE/fe/feature.py\"><span style=\"color: #7f7f7f\">feature.py</span></a><span style=\"color: #7f7f7f\">:109</span>\n",
       "</pre>\n"
      ],
      "text/plain": [
       "<rich.jupyter.JupyterRenderable at 0x7f1c04ac92b0>"
      ]
     },
     "metadata": {},
     "output_type": "display_data"
    },
    {
     "name": "stderr",
     "output_type": "stream",
     "text": [
      "INDEX 1000: 0.58\n"
     ]
    },
    {
     "data": {
      "text/html": [
       "<pre style=\"white-space:pre;overflow-x:auto;line-height:normal;font-family:Menlo,'DejaVu Sans Mono',consolas,'Courier New',monospace\"><span style=\"color: #7fbfbf\">           </span><span style=\"color: #000080\">INFO    </span> INDEX <span style=\"color: #000080; font-weight: bold\">1000</span>: <span style=\"color: #000080; font-weight: bold\">0.58</span>                                           <a href=\"file:///home/j-gunmo/desktop/00.my-project/17.P-Stage-T1003/4-STAGE/fe/feature.py\"><span style=\"color: #7f7f7f\">feature.py</span></a><span style=\"color: #7f7f7f\">:109</span>\n",
       "</pre>\n"
      ],
      "text/plain": [
       "<rich.jupyter.JupyterRenderable at 0x7f1c04ac9730>"
      ]
     },
     "metadata": {},
     "output_type": "display_data"
    },
    {
     "name": "stderr",
     "output_type": "stream",
     "text": [
      "INDEX 2000: 0.58\n"
     ]
    },
    {
     "data": {
      "text/html": [
       "<pre style=\"white-space:pre;overflow-x:auto;line-height:normal;font-family:Menlo,'DejaVu Sans Mono',consolas,'Courier New',monospace\"><span style=\"color: #7fbfbf\">           </span><span style=\"color: #000080\">INFO    </span> INDEX <span style=\"color: #000080; font-weight: bold\">2000</span>: <span style=\"color: #000080; font-weight: bold\">0.58</span>                                           <a href=\"file:///home/j-gunmo/desktop/00.my-project/17.P-Stage-T1003/4-STAGE/fe/feature.py\"><span style=\"color: #7f7f7f\">feature.py</span></a><span style=\"color: #7f7f7f\">:109</span>\n",
       "</pre>\n"
      ],
      "text/plain": [
       "<rich.jupyter.JupyterRenderable at 0x7f1c04ac9310>"
      ]
     },
     "metadata": {},
     "output_type": "display_data"
    },
    {
     "name": "stderr",
     "output_type": "stream",
     "text": [
      "INDEX 3000: 0.58\n"
     ]
    },
    {
     "data": {
      "text/html": [
       "<pre style=\"white-space:pre;overflow-x:auto;line-height:normal;font-family:Menlo,'DejaVu Sans Mono',consolas,'Courier New',monospace\"><span style=\"color: #7fbfbf\">           </span><span style=\"color: #000080\">INFO    </span> INDEX <span style=\"color: #000080; font-weight: bold\">3000</span>: <span style=\"color: #000080; font-weight: bold\">0.58</span>                                           <a href=\"file:///home/j-gunmo/desktop/00.my-project/17.P-Stage-T1003/4-STAGE/fe/feature.py\"><span style=\"color: #7f7f7f\">feature.py</span></a><span style=\"color: #7f7f7f\">:109</span>\n",
       "</pre>\n"
      ],
      "text/plain": [
       "<rich.jupyter.JupyterRenderable at 0x7f1c04ac9be0>"
      ]
     },
     "metadata": {},
     "output_type": "display_data"
    },
    {
     "name": "stderr",
     "output_type": "stream",
     "text": [
      "INDEX 4000: 0.58\n"
     ]
    },
    {
     "data": {
      "text/html": [
       "<pre style=\"white-space:pre;overflow-x:auto;line-height:normal;font-family:Menlo,'DejaVu Sans Mono',consolas,'Courier New',monospace\"><span style=\"color: #7fbfbf\">           </span><span style=\"color: #000080\">INFO    </span> INDEX <span style=\"color: #000080; font-weight: bold\">4000</span>: <span style=\"color: #000080; font-weight: bold\">0.58</span>                                           <a href=\"file:///home/j-gunmo/desktop/00.my-project/17.P-Stage-T1003/4-STAGE/fe/feature.py\"><span style=\"color: #7f7f7f\">feature.py</span></a><span style=\"color: #7f7f7f\">:109</span>\n",
       "</pre>\n"
      ],
      "text/plain": [
       "<rich.jupyter.JupyterRenderable at 0x7f1c04ac9df0>"
      ]
     },
     "metadata": {},
     "output_type": "display_data"
    },
    {
     "name": "stderr",
     "output_type": "stream",
     "text": [
      "INDEX 5000: 0.58\n"
     ]
    },
    {
     "data": {
      "text/html": [
       "<pre style=\"white-space:pre;overflow-x:auto;line-height:normal;font-family:Menlo,'DejaVu Sans Mono',consolas,'Courier New',monospace\"><span style=\"color: #7fbfbf\">           </span><span style=\"color: #000080\">INFO    </span> INDEX <span style=\"color: #000080; font-weight: bold\">5000</span>: <span style=\"color: #000080; font-weight: bold\">0.58</span>                                           <a href=\"file:///home/j-gunmo/desktop/00.my-project/17.P-Stage-T1003/4-STAGE/fe/feature.py\"><span style=\"color: #7f7f7f\">feature.py</span></a><span style=\"color: #7f7f7f\">:109</span>\n",
       "</pre>\n"
      ],
      "text/plain": [
       "<rich.jupyter.JupyterRenderable at 0x7f1c04ac9fa0>"
      ]
     },
     "metadata": {},
     "output_type": "display_data"
    },
    {
     "name": "stderr",
     "output_type": "stream",
     "text": [
      "INDEX 6000: 0.58\n"
     ]
    },
    {
     "data": {
      "text/html": [
       "<pre style=\"white-space:pre;overflow-x:auto;line-height:normal;font-family:Menlo,'DejaVu Sans Mono',consolas,'Courier New',monospace\"><span style=\"color: #7fbfbf\">           </span><span style=\"color: #000080\">INFO    </span> INDEX <span style=\"color: #000080; font-weight: bold\">6000</span>: <span style=\"color: #000080; font-weight: bold\">0.58</span>                                           <a href=\"file:///home/j-gunmo/desktop/00.my-project/17.P-Stage-T1003/4-STAGE/fe/feature.py\"><span style=\"color: #7f7f7f\">feature.py</span></a><span style=\"color: #7f7f7f\">:109</span>\n",
       "</pre>\n"
      ],
      "text/plain": [
       "<rich.jupyter.JupyterRenderable at 0x7f1c04ac9730>"
      ]
     },
     "metadata": {},
     "output_type": "display_data"
    },
    {
     "name": "stderr",
     "output_type": "stream",
     "text": [
      "INDEX 7000: 0.58\n"
     ]
    },
    {
     "data": {
      "text/html": [
       "<pre style=\"white-space:pre;overflow-x:auto;line-height:normal;font-family:Menlo,'DejaVu Sans Mono',consolas,'Courier New',monospace\"><span style=\"color: #7fbfbf\">           </span><span style=\"color: #000080\">INFO    </span> INDEX <span style=\"color: #000080; font-weight: bold\">7000</span>: <span style=\"color: #000080; font-weight: bold\">0.58</span>                                           <a href=\"file:///home/j-gunmo/desktop/00.my-project/17.P-Stage-T1003/4-STAGE/fe/feature.py\"><span style=\"color: #7f7f7f\">feature.py</span></a><span style=\"color: #7f7f7f\">:109</span>\n",
       "</pre>\n"
      ],
      "text/plain": [
       "<rich.jupyter.JupyterRenderable at 0x7f1c04ac9ee0>"
      ]
     },
     "metadata": {},
     "output_type": "display_data"
    },
    {
     "name": "stderr",
     "output_type": "stream",
     "text": [
      "INDEX 8000: 0.82\n"
     ]
    },
    {
     "data": {
      "text/html": [
       "<pre style=\"white-space:pre;overflow-x:auto;line-height:normal;font-family:Menlo,'DejaVu Sans Mono',consolas,'Courier New',monospace\"><span style=\"color: #7fbfbf\">           </span><span style=\"color: #000080\">INFO    </span> INDEX <span style=\"color: #000080; font-weight: bold\">8000</span>: <span style=\"color: #000080; font-weight: bold\">0.82</span>                                           <a href=\"file:///home/j-gunmo/desktop/00.my-project/17.P-Stage-T1003/4-STAGE/fe/feature.py\"><span style=\"color: #7f7f7f\">feature.py</span></a><span style=\"color: #7f7f7f\">:109</span>\n",
       "</pre>\n"
      ],
      "text/plain": [
       "<rich.jupyter.JupyterRenderable at 0x7f1c04ac9df0>"
      ]
     },
     "metadata": {},
     "output_type": "display_data"
    },
    {
     "name": "stderr",
     "output_type": "stream",
     "text": [
      "INDEX 9000: 0.82\n"
     ]
    },
    {
     "data": {
      "text/html": [
       "<pre style=\"white-space:pre;overflow-x:auto;line-height:normal;font-family:Menlo,'DejaVu Sans Mono',consolas,'Courier New',monospace\"><span style=\"color: #7fbfbf\">           </span><span style=\"color: #000080\">INFO    </span> INDEX <span style=\"color: #000080; font-weight: bold\">9000</span>: <span style=\"color: #000080; font-weight: bold\">0.82</span>                                           <a href=\"file:///home/j-gunmo/desktop/00.my-project/17.P-Stage-T1003/4-STAGE/fe/feature.py\"><span style=\"color: #7f7f7f\">feature.py</span></a><span style=\"color: #7f7f7f\">:109</span>\n",
       "</pre>\n"
      ],
      "text/plain": [
       "<rich.jupyter.JupyterRenderable at 0x7f1c04ac9d30>"
      ]
     },
     "metadata": {},
     "output_type": "display_data"
    },
    {
     "name": "stderr",
     "output_type": "stream",
     "text": [
      "\n",
      "top100CorrectPer : 사용자가 최근 푼 TOP-100개에 대한 정답률입니다.\n"
     ]
    },
    {
     "data": {
      "text/html": [
       "<pre style=\"white-space:pre;overflow-x:auto;line-height:normal;font-family:Menlo,'DejaVu Sans Mono',consolas,'Courier New',monospace\"><span style=\"color: #7fbfbf\">           </span><span style=\"color: #000080\">INFO    </span>                                                            <a href=\"file:///home/j-gunmo/desktop/00.my-project/17.P-Stage-T1003/4-STAGE/fe/feature.py\"><span style=\"color: #7f7f7f\">feature.py</span></a><span style=\"color: #7f7f7f\">:104</span>\n",
       "                    top100CorrectPer : 사용자가 최근 푼 TOP-100개에 대한                     \n",
       "                    정답률입니다.                                                            \n",
       "</pre>\n"
      ],
      "text/plain": [
       "<rich.jupyter.JupyterRenderable at 0x7f1c04ac92b0>"
      ]
     },
     "metadata": {},
     "output_type": "display_data"
    },
    {
     "name": "stderr",
     "output_type": "stream",
     "text": [
      "dtype: float64\n"
     ]
    },
    {
     "data": {
      "text/html": [
       "<pre style=\"white-space:pre;overflow-x:auto;line-height:normal;font-family:Menlo,'DejaVu Sans Mono',consolas,'Courier New',monospace\"><span style=\"color: #7fbfbf\">           </span><span style=\"color: #000080\">INFO    </span> dtype: float64                                             <a href=\"file:///home/j-gunmo/desktop/00.my-project/17.P-Stage-T1003/4-STAGE/fe/feature.py\"><span style=\"color: #7f7f7f\">feature.py</span></a><span style=\"color: #7f7f7f\">:105</span>\n",
       "</pre>\n"
      ],
      "text/plain": [
       "<rich.jupyter.JupyterRenderable at 0x7f1c04ac9ee0>"
      ]
     },
     "metadata": {},
     "output_type": "display_data"
    },
    {
     "name": "stderr",
     "output_type": "stream",
     "text": [
      "[Examples]\n"
     ]
    },
    {
     "data": {
      "text/html": [
       "<pre style=\"white-space:pre;overflow-x:auto;line-height:normal;font-family:Menlo,'DejaVu Sans Mono',consolas,'Courier New',monospace\"><span style=\"color: #7fbfbf\">           </span><span style=\"color: #000080\">INFO    </span> <span style=\"font-weight: bold\">[</span>Examples<span style=\"font-weight: bold\">]</span>                                                 <a href=\"file:///home/j-gunmo/desktop/00.my-project/17.P-Stage-T1003/4-STAGE/fe/feature.py\"><span style=\"color: #7f7f7f\">feature.py</span></a><span style=\"color: #7f7f7f\">:106</span>\n",
       "</pre>\n"
      ],
      "text/plain": [
       "<rich.jupyter.JupyterRenderable at 0x7f1c04ac9eb0>"
      ]
     },
     "metadata": {},
     "output_type": "display_data"
    },
    {
     "name": "stderr",
     "output_type": "stream",
     "text": [
      "INDEX 0000: 0.66\n"
     ]
    },
    {
     "data": {
      "text/html": [
       "<pre style=\"white-space:pre;overflow-x:auto;line-height:normal;font-family:Menlo,'DejaVu Sans Mono',consolas,'Courier New',monospace\"><span style=\"color: #7fbfbf\">           </span><span style=\"color: #000080\">INFO    </span> INDEX <span style=\"color: #000080; font-weight: bold\">0000</span>: <span style=\"color: #000080; font-weight: bold\">0.66</span>                                           <a href=\"file:///home/j-gunmo/desktop/00.my-project/17.P-Stage-T1003/4-STAGE/fe/feature.py\"><span style=\"color: #7f7f7f\">feature.py</span></a><span style=\"color: #7f7f7f\">:109</span>\n",
       "</pre>\n"
      ],
      "text/plain": [
       "<rich.jupyter.JupyterRenderable at 0x7f1c04ac92b0>"
      ]
     },
     "metadata": {},
     "output_type": "display_data"
    },
    {
     "name": "stderr",
     "output_type": "stream",
     "text": [
      "INDEX 1000: 0.66\n"
     ]
    },
    {
     "data": {
      "text/html": [
       "<pre style=\"white-space:pre;overflow-x:auto;line-height:normal;font-family:Menlo,'DejaVu Sans Mono',consolas,'Courier New',monospace\"><span style=\"color: #7fbfbf\">           </span><span style=\"color: #000080\">INFO    </span> INDEX <span style=\"color: #000080; font-weight: bold\">1000</span>: <span style=\"color: #000080; font-weight: bold\">0.66</span>                                           <a href=\"file:///home/j-gunmo/desktop/00.my-project/17.P-Stage-T1003/4-STAGE/fe/feature.py\"><span style=\"color: #7f7f7f\">feature.py</span></a><span style=\"color: #7f7f7f\">:109</span>\n",
       "</pre>\n"
      ],
      "text/plain": [
       "<rich.jupyter.JupyterRenderable at 0x7f1c04ac9df0>"
      ]
     },
     "metadata": {},
     "output_type": "display_data"
    },
    {
     "name": "stderr",
     "output_type": "stream",
     "text": [
      "INDEX 2000: 0.66\n"
     ]
    },
    {
     "data": {
      "text/html": [
       "<pre style=\"white-space:pre;overflow-x:auto;line-height:normal;font-family:Menlo,'DejaVu Sans Mono',consolas,'Courier New',monospace\"><span style=\"color: #7fbfbf\">           </span><span style=\"color: #000080\">INFO    </span> INDEX <span style=\"color: #000080; font-weight: bold\">2000</span>: <span style=\"color: #000080; font-weight: bold\">0.66</span>                                           <a href=\"file:///home/j-gunmo/desktop/00.my-project/17.P-Stage-T1003/4-STAGE/fe/feature.py\"><span style=\"color: #7f7f7f\">feature.py</span></a><span style=\"color: #7f7f7f\">:109</span>\n",
       "</pre>\n"
      ],
      "text/plain": [
       "<rich.jupyter.JupyterRenderable at 0x7f1c04ac9c40>"
      ]
     },
     "metadata": {},
     "output_type": "display_data"
    },
    {
     "name": "stderr",
     "output_type": "stream",
     "text": [
      "INDEX 3000: 0.66\n"
     ]
    },
    {
     "data": {
      "text/html": [
       "<pre style=\"white-space:pre;overflow-x:auto;line-height:normal;font-family:Menlo,'DejaVu Sans Mono',consolas,'Courier New',monospace\"><span style=\"color: #7fbfbf\">           </span><span style=\"color: #000080\">INFO    </span> INDEX <span style=\"color: #000080; font-weight: bold\">3000</span>: <span style=\"color: #000080; font-weight: bold\">0.66</span>                                           <a href=\"file:///home/j-gunmo/desktop/00.my-project/17.P-Stage-T1003/4-STAGE/fe/feature.py\"><span style=\"color: #7f7f7f\">feature.py</span></a><span style=\"color: #7f7f7f\">:109</span>\n",
       "</pre>\n"
      ],
      "text/plain": [
       "<rich.jupyter.JupyterRenderable at 0x7f1c04ac92b0>"
      ]
     },
     "metadata": {},
     "output_type": "display_data"
    },
    {
     "name": "stderr",
     "output_type": "stream",
     "text": [
      "INDEX 4000: 0.66\n"
     ]
    },
    {
     "data": {
      "text/html": [
       "<pre style=\"white-space:pre;overflow-x:auto;line-height:normal;font-family:Menlo,'DejaVu Sans Mono',consolas,'Courier New',monospace\"><span style=\"color: #7fbfbf\">           </span><span style=\"color: #000080\">INFO    </span> INDEX <span style=\"color: #000080; font-weight: bold\">4000</span>: <span style=\"color: #000080; font-weight: bold\">0.66</span>                                           <a href=\"file:///home/j-gunmo/desktop/00.my-project/17.P-Stage-T1003/4-STAGE/fe/feature.py\"><span style=\"color: #7f7f7f\">feature.py</span></a><span style=\"color: #7f7f7f\">:109</span>\n",
       "</pre>\n"
      ],
      "text/plain": [
       "<rich.jupyter.JupyterRenderable at 0x7f1c04ac9640>"
      ]
     },
     "metadata": {},
     "output_type": "display_data"
    },
    {
     "name": "stderr",
     "output_type": "stream",
     "text": [
      "INDEX 5000: 0.66\n"
     ]
    },
    {
     "data": {
      "text/html": [
       "<pre style=\"white-space:pre;overflow-x:auto;line-height:normal;font-family:Menlo,'DejaVu Sans Mono',consolas,'Courier New',monospace\"><span style=\"color: #7fbfbf\">           </span><span style=\"color: #000080\">INFO    </span> INDEX <span style=\"color: #000080; font-weight: bold\">5000</span>: <span style=\"color: #000080; font-weight: bold\">0.66</span>                                           <a href=\"file:///home/j-gunmo/desktop/00.my-project/17.P-Stage-T1003/4-STAGE/fe/feature.py\"><span style=\"color: #7f7f7f\">feature.py</span></a><span style=\"color: #7f7f7f\">:109</span>\n",
       "</pre>\n"
      ],
      "text/plain": [
       "<rich.jupyter.JupyterRenderable at 0x7f1c04ac9d60>"
      ]
     },
     "metadata": {},
     "output_type": "display_data"
    },
    {
     "name": "stderr",
     "output_type": "stream",
     "text": [
      "INDEX 6000: 0.66\n"
     ]
    },
    {
     "data": {
      "text/html": [
       "<pre style=\"white-space:pre;overflow-x:auto;line-height:normal;font-family:Menlo,'DejaVu Sans Mono',consolas,'Courier New',monospace\"><span style=\"color: #7fbfbf\">           </span><span style=\"color: #000080\">INFO    </span> INDEX <span style=\"color: #000080; font-weight: bold\">6000</span>: <span style=\"color: #000080; font-weight: bold\">0.66</span>                                           <a href=\"file:///home/j-gunmo/desktop/00.my-project/17.P-Stage-T1003/4-STAGE/fe/feature.py\"><span style=\"color: #7f7f7f\">feature.py</span></a><span style=\"color: #7f7f7f\">:109</span>\n",
       "</pre>\n"
      ],
      "text/plain": [
       "<rich.jupyter.JupyterRenderable at 0x7f1c04ac9ca0>"
      ]
     },
     "metadata": {},
     "output_type": "display_data"
    },
    {
     "name": "stderr",
     "output_type": "stream",
     "text": [
      "INDEX 7000: 0.66\n"
     ]
    },
    {
     "data": {
      "text/html": [
       "<pre style=\"white-space:pre;overflow-x:auto;line-height:normal;font-family:Menlo,'DejaVu Sans Mono',consolas,'Courier New',monospace\"><span style=\"color: #7fbfbf\">           </span><span style=\"color: #000080\">INFO    </span> INDEX <span style=\"color: #000080; font-weight: bold\">7000</span>: <span style=\"color: #000080; font-weight: bold\">0.66</span>                                           <a href=\"file:///home/j-gunmo/desktop/00.my-project/17.P-Stage-T1003/4-STAGE/fe/feature.py\"><span style=\"color: #7f7f7f\">feature.py</span></a><span style=\"color: #7f7f7f\">:109</span>\n",
       "</pre>\n"
      ],
      "text/plain": [
       "<rich.jupyter.JupyterRenderable at 0x7f1c04ac9cd0>"
      ]
     },
     "metadata": {},
     "output_type": "display_data"
    },
    {
     "name": "stderr",
     "output_type": "stream",
     "text": [
      "INDEX 8000: 0.85\n"
     ]
    },
    {
     "data": {
      "text/html": [
       "<pre style=\"white-space:pre;overflow-x:auto;line-height:normal;font-family:Menlo,'DejaVu Sans Mono',consolas,'Courier New',monospace\"><span style=\"color: #7fbfbf\">           </span><span style=\"color: #000080\">INFO    </span> INDEX <span style=\"color: #000080; font-weight: bold\">8000</span>: <span style=\"color: #000080; font-weight: bold\">0.85</span>                                           <a href=\"file:///home/j-gunmo/desktop/00.my-project/17.P-Stage-T1003/4-STAGE/fe/feature.py\"><span style=\"color: #7f7f7f\">feature.py</span></a><span style=\"color: #7f7f7f\">:109</span>\n",
       "</pre>\n"
      ],
      "text/plain": [
       "<rich.jupyter.JupyterRenderable at 0x7f1c04ac97c0>"
      ]
     },
     "metadata": {},
     "output_type": "display_data"
    },
    {
     "name": "stderr",
     "output_type": "stream",
     "text": [
      "INDEX 9000: 0.85\n"
     ]
    },
    {
     "data": {
      "text/html": [
       "<pre style=\"white-space:pre;overflow-x:auto;line-height:normal;font-family:Menlo,'DejaVu Sans Mono',consolas,'Courier New',monospace\"><span style=\"color: #7fbfbf\">           </span><span style=\"color: #000080\">INFO    </span> INDEX <span style=\"color: #000080; font-weight: bold\">9000</span>: <span style=\"color: #000080; font-weight: bold\">0.85</span>                                           <a href=\"file:///home/j-gunmo/desktop/00.my-project/17.P-Stage-T1003/4-STAGE/fe/feature.py\"><span style=\"color: #7f7f7f\">feature.py</span></a><span style=\"color: #7f7f7f\">:109</span>\n",
       "</pre>\n"
      ],
      "text/plain": [
       "<rich.jupyter.JupyterRenderable at 0x7f1c04ac9ca0>"
      ]
     },
     "metadata": {},
     "output_type": "display_data"
    },
    {
     "name": "stderr",
     "output_type": "stream",
     "text": [
      "Feature Engineering End ... \n"
     ]
    },
    {
     "data": {
      "text/html": [
       "<pre style=\"white-space:pre;overflow-x:auto;line-height:normal;font-family:Menlo,'DejaVu Sans Mono',consolas,'Courier New',monospace\"><span style=\"color: #7fbfbf\">           </span><span style=\"color: #000080\">INFO    </span> Feature Engineering End <span style=\"color: #808000\">...</span>                                <a href=\"file:///home/j-gunmo/desktop/00.my-project/17.P-Stage-T1003/4-STAGE/fe/feature.py\"><span style=\"color: #7f7f7f\">feature.py</span></a><span style=\"color: #7f7f7f\">:111</span>\n",
       "</pre>\n"
      ],
      "text/plain": [
       "<rich.jupyter.JupyterRenderable at 0x7f1c04ac9ee0>"
      ]
     },
     "metadata": {},
     "output_type": "display_data"
    },
    {
     "name": "stderr",
     "output_type": "stream",
     "text": [
      "Original DataFrame Keywords: Index(['userID', 'assessmentItemID', 'testId', 'answerCode', 'Timestamp',\n",
      "       'KnowledgeTag'],\n",
      "      dtype='object')\n"
     ]
    },
    {
     "data": {
      "text/html": [
       "<pre style=\"white-space:pre;overflow-x:auto;line-height:normal;font-family:Menlo,'DejaVu Sans Mono',consolas,'Courier New',monospace\"><span style=\"color: #7fbfbf\">           </span><span style=\"color: #000080\">INFO    </span> Original DataFrame Keywords: Index<span style=\"font-weight: bold\">([</span><span style=\"color: #008000\">'userID'</span>,              <a href=\"file:///home/j-gunmo/desktop/00.my-project/17.P-Stage-T1003/4-STAGE/fe/feature.py\"><span style=\"color: #7f7f7f\">feature.py</span></a><span style=\"color: #7f7f7f\">:112</span>\n",
       "                    <span style=\"color: #008000\">'assessmentItemID'</span>, <span style=\"color: #008000\">'testId'</span>, <span style=\"color: #008000\">'answerCode'</span>, <span style=\"color: #008000\">'Timestamp'</span>,                 \n",
       "                           <span style=\"color: #008000\">'KnowledgeTag'</span><span style=\"font-weight: bold\">]</span>,                                                  \n",
       "                          <span style=\"color: #808000\">dtype</span>=<span style=\"color: #008000\">'object'</span><span style=\"font-weight: bold\">)</span>                                                    \n",
       "</pre>\n"
      ],
      "text/plain": [
       "<rich.jupyter.JupyterRenderable at 0x7f1c04ac9580>"
      ]
     },
     "metadata": {},
     "output_type": "display_data"
    },
    {
     "name": "stderr",
     "output_type": "stream",
     "text": [
      "Feature Added DataFrame Keywords: Index(['userID', 'assessmentItemID', 'testId', 'answerCode', 'Timestamp',\n",
      "       'KnowledgeTag', 'testPaper', 'testPaperCnt', 'timeSec', 'firstClass',\n",
      "       'secondClass', 'correctCnt', 'quesCnt', 'correctPer', 'top10CorrectPer',\n",
      "       'top30CorrectPer', 'top50CorrectPer', 'top100CorrectPer'],\n",
      "      dtype='object')\n"
     ]
    },
    {
     "data": {
      "text/html": [
       "<pre style=\"white-space:pre;overflow-x:auto;line-height:normal;font-family:Menlo,'DejaVu Sans Mono',consolas,'Courier New',monospace\"><span style=\"color: #7fbfbf\">           </span><span style=\"color: #000080\">INFO    </span> Feature Added DataFrame Keywords: Index<span style=\"font-weight: bold\">([</span><span style=\"color: #008000\">'userID'</span>,         <a href=\"file:///home/j-gunmo/desktop/00.my-project/17.P-Stage-T1003/4-STAGE/fe/feature.py\"><span style=\"color: #7f7f7f\">feature.py</span></a><span style=\"color: #7f7f7f\">:113</span>\n",
       "                    <span style=\"color: #008000\">'assessmentItemID'</span>, <span style=\"color: #008000\">'testId'</span>, <span style=\"color: #008000\">'answerCode'</span>, <span style=\"color: #008000\">'Timestamp'</span>,                 \n",
       "                           <span style=\"color: #008000\">'KnowledgeTag'</span>, <span style=\"color: #008000\">'testPaper'</span>, <span style=\"color: #008000\">'testPaperCnt'</span>,                      \n",
       "                    <span style=\"color: #008000\">'timeSec'</span>, <span style=\"color: #008000\">'firstClass'</span>,                                                 \n",
       "                           <span style=\"color: #008000\">'secondClass'</span>, <span style=\"color: #008000\">'correctCnt'</span>, <span style=\"color: #008000\">'quesCnt'</span>,                           \n",
       "                    <span style=\"color: #008000\">'correctPer'</span>, <span style=\"color: #008000\">'top10CorrectPer'</span>,                                         \n",
       "                           <span style=\"color: #008000\">'top30CorrectPer'</span>, <span style=\"color: #008000\">'top50CorrectPer'</span>,                             \n",
       "                    <span style=\"color: #008000\">'top100CorrectPer'</span><span style=\"font-weight: bold\">]</span>,                                                     \n",
       "                          <span style=\"color: #808000\">dtype</span>=<span style=\"color: #008000\">'object'</span><span style=\"font-weight: bold\">)</span>                                                    \n",
       "</pre>\n"
      ],
      "text/plain": [
       "<rich.jupyter.JupyterRenderable at 0x7f1c04ac9ca0>"
      ]
     },
     "metadata": {},
     "output_type": "display_data"
    },
    {
     "name": "stderr",
     "output_type": "stream",
     "text": [
      "Feature Engineering Start ... \n"
     ]
    },
    {
     "data": {
      "text/html": [
       "<pre style=\"white-space:pre;overflow-x:auto;line-height:normal;font-family:Menlo,'DejaVu Sans Mono',consolas,'Courier New',monospace\"><span style=\"color: #7fbfbf\">[06:02:09] </span><span style=\"color: #000080\">INFO    </span> Feature Engineering Start <span style=\"color: #808000\">...</span>                               <a href=\"file:///home/j-gunmo/desktop/00.my-project/17.P-Stage-T1003/4-STAGE/fe/feature.py\"><span style=\"color: #7f7f7f\">feature.py</span></a><span style=\"color: #7f7f7f\">:95</span>\n",
       "</pre>\n"
      ],
      "text/plain": [
       "<rich.jupyter.JupyterRenderable at 0x7f1c04ac9fa0>"
      ]
     },
     "metadata": {},
     "output_type": "display_data"
    },
    {
     "name": "stderr",
     "output_type": "stream",
     "text": [
      "\n",
      "Feature Engineering Name: split_assessmentitem_id\n"
     ]
    },
    {
     "name": "stdout",
     "output_type": "stream",
     "text": [
      "load features /home/j-gunmo/features/test_split_assessmentitem_id.pkl to dataframe ... \n"
     ]
    },
    {
     "data": {
      "text/html": [
       "<pre style=\"white-space:pre;overflow-x:auto;line-height:normal;font-family:Menlo,'DejaVu Sans Mono',consolas,'Courier New',monospace\"><span style=\"color: #7fbfbf\">           </span><span style=\"color: #000080\">INFO    </span>                                                            <a href=\"file:///home/j-gunmo/desktop/00.my-project/17.P-Stage-T1003/4-STAGE/fe/feature.py\"><span style=\"color: #7f7f7f\">feature.py</span></a><span style=\"color: #7f7f7f\">:101</span>\n",
       "                    Feature Engineering Name: split_assessmentitem_id                        \n",
       "</pre>\n"
      ],
      "text/plain": [
       "<rich.jupyter.JupyterRenderable at 0x7f1c04ac92b0>"
      ]
     },
     "metadata": {},
     "output_type": "display_data"
    },
    {
     "name": "stderr",
     "output_type": "stream",
     "text": [
      "\n",
      "testPaper       : 시험지 번호입니다.\n"
     ]
    },
    {
     "data": {
      "text/html": [
       "<pre style=\"white-space:pre;overflow-x:auto;line-height:normal;font-family:Menlo,'DejaVu Sans Mono',consolas,'Courier New',monospace\"><span style=\"color: #7fbfbf\">           </span><span style=\"color: #000080\">INFO    </span>                                                            <a href=\"file:///home/j-gunmo/desktop/00.my-project/17.P-Stage-T1003/4-STAGE/fe/feature.py\"><span style=\"color: #7f7f7f\">feature.py</span></a><span style=\"color: #7f7f7f\">:104</span>\n",
       "                    testPaper       : 시험지 번호입니다.                                     \n",
       "</pre>\n"
      ],
      "text/plain": [
       "<rich.jupyter.JupyterRenderable at 0x7f1c04ac9f10>"
      ]
     },
     "metadata": {},
     "output_type": "display_data"
    },
    {
     "name": "stderr",
     "output_type": "stream",
     "text": [
      "dtype: object\n"
     ]
    },
    {
     "data": {
      "text/html": [
       "<pre style=\"white-space:pre;overflow-x:auto;line-height:normal;font-family:Menlo,'DejaVu Sans Mono',consolas,'Courier New',monospace\"><span style=\"color: #7fbfbf\">           </span><span style=\"color: #000080\">INFO    </span> dtype: object                                              <a href=\"file:///home/j-gunmo/desktop/00.my-project/17.P-Stage-T1003/4-STAGE/fe/feature.py\"><span style=\"color: #7f7f7f\">feature.py</span></a><span style=\"color: #7f7f7f\">:105</span>\n",
       "</pre>\n"
      ],
      "text/plain": [
       "<rich.jupyter.JupyterRenderable at 0x7f1c04ac9d60>"
      ]
     },
     "metadata": {},
     "output_type": "display_data"
    },
    {
     "name": "stderr",
     "output_type": "stream",
     "text": [
      "[Examples]\n"
     ]
    },
    {
     "data": {
      "text/html": [
       "<pre style=\"white-space:pre;overflow-x:auto;line-height:normal;font-family:Menlo,'DejaVu Sans Mono',consolas,'Courier New',monospace\"><span style=\"color: #7fbfbf\">           </span><span style=\"color: #000080\">INFO    </span> <span style=\"font-weight: bold\">[</span>Examples<span style=\"font-weight: bold\">]</span>                                                 <a href=\"file:///home/j-gunmo/desktop/00.my-project/17.P-Stage-T1003/4-STAGE/fe/feature.py\"><span style=\"color: #7f7f7f\">feature.py</span></a><span style=\"color: #7f7f7f\">:106</span>\n",
       "</pre>\n"
      ],
      "text/plain": [
       "<rich.jupyter.JupyterRenderable at 0x7f1c04ac93a0>"
      ]
     },
     "metadata": {},
     "output_type": "display_data"
    },
    {
     "name": "stderr",
     "output_type": "stream",
     "text": [
      "INDEX 0000: 050023\n"
     ]
    },
    {
     "data": {
      "text/html": [
       "<pre style=\"white-space:pre;overflow-x:auto;line-height:normal;font-family:Menlo,'DejaVu Sans Mono',consolas,'Courier New',monospace\"><span style=\"color: #7fbfbf\">           </span><span style=\"color: #000080\">INFO    </span> INDEX <span style=\"color: #000080; font-weight: bold\">0000</span>: <span style=\"color: #000080; font-weight: bold\">050023</span>                                         <a href=\"file:///home/j-gunmo/desktop/00.my-project/17.P-Stage-T1003/4-STAGE/fe/feature.py\"><span style=\"color: #7f7f7f\">feature.py</span></a><span style=\"color: #7f7f7f\">:109</span>\n",
       "</pre>\n"
      ],
      "text/plain": [
       "<rich.jupyter.JupyterRenderable at 0x7f1c04ac9310>"
      ]
     },
     "metadata": {},
     "output_type": "display_data"
    },
    {
     "name": "stderr",
     "output_type": "stream",
     "text": [
      "INDEX 1000: 020035\n"
     ]
    },
    {
     "data": {
      "text/html": [
       "<pre style=\"white-space:pre;overflow-x:auto;line-height:normal;font-family:Menlo,'DejaVu Sans Mono',consolas,'Courier New',monospace\"><span style=\"color: #7fbfbf\">           </span><span style=\"color: #000080\">INFO    </span> INDEX <span style=\"color: #000080; font-weight: bold\">1000</span>: <span style=\"color: #000080; font-weight: bold\">020035</span>                                         <a href=\"file:///home/j-gunmo/desktop/00.my-project/17.P-Stage-T1003/4-STAGE/fe/feature.py\"><span style=\"color: #7f7f7f\">feature.py</span></a><span style=\"color: #7f7f7f\">:109</span>\n",
       "</pre>\n"
      ],
      "text/plain": [
       "<rich.jupyter.JupyterRenderable at 0x7f1c04ac92b0>"
      ]
     },
     "metadata": {},
     "output_type": "display_data"
    },
    {
     "name": "stderr",
     "output_type": "stream",
     "text": [
      "INDEX 2000: 050006\n"
     ]
    },
    {
     "data": {
      "text/html": [
       "<pre style=\"white-space:pre;overflow-x:auto;line-height:normal;font-family:Menlo,'DejaVu Sans Mono',consolas,'Courier New',monospace\"><span style=\"color: #7fbfbf\">           </span><span style=\"color: #000080\">INFO    </span> INDEX <span style=\"color: #000080; font-weight: bold\">2000</span>: <span style=\"color: #000080; font-weight: bold\">050006</span>                                         <a href=\"file:///home/j-gunmo/desktop/00.my-project/17.P-Stage-T1003/4-STAGE/fe/feature.py\"><span style=\"color: #7f7f7f\">feature.py</span></a><span style=\"color: #7f7f7f\">:109</span>\n",
       "</pre>\n"
      ],
      "text/plain": [
       "<rich.jupyter.JupyterRenderable at 0x7f1c04ac9dc0>"
      ]
     },
     "metadata": {},
     "output_type": "display_data"
    },
    {
     "name": "stderr",
     "output_type": "stream",
     "text": [
      "INDEX 3000: 020037\n"
     ]
    },
    {
     "data": {
      "text/html": [
       "<pre style=\"white-space:pre;overflow-x:auto;line-height:normal;font-family:Menlo,'DejaVu Sans Mono',consolas,'Courier New',monospace\"><span style=\"color: #7fbfbf\">           </span><span style=\"color: #000080\">INFO    </span> INDEX <span style=\"color: #000080; font-weight: bold\">3000</span>: <span style=\"color: #000080; font-weight: bold\">020037</span>                                         <a href=\"file:///home/j-gunmo/desktop/00.my-project/17.P-Stage-T1003/4-STAGE/fe/feature.py\"><span style=\"color: #7f7f7f\">feature.py</span></a><span style=\"color: #7f7f7f\">:109</span>\n",
       "</pre>\n"
      ],
      "text/plain": [
       "<rich.jupyter.JupyterRenderable at 0x7f1c04ac9310>"
      ]
     },
     "metadata": {},
     "output_type": "display_data"
    },
    {
     "name": "stderr",
     "output_type": "stream",
     "text": [
      "INDEX 4000: 050009\n"
     ]
    },
    {
     "data": {
      "text/html": [
       "<pre style=\"white-space:pre;overflow-x:auto;line-height:normal;font-family:Menlo,'DejaVu Sans Mono',consolas,'Courier New',monospace\"><span style=\"color: #7fbfbf\">           </span><span style=\"color: #000080\">INFO    </span> INDEX <span style=\"color: #000080; font-weight: bold\">4000</span>: <span style=\"color: #000080; font-weight: bold\">050009</span>                                         <a href=\"file:///home/j-gunmo/desktop/00.my-project/17.P-Stage-T1003/4-STAGE/fe/feature.py\"><span style=\"color: #7f7f7f\">feature.py</span></a><span style=\"color: #7f7f7f\">:109</span>\n",
       "</pre>\n"
      ],
      "text/plain": [
       "<rich.jupyter.JupyterRenderable at 0x7f1c04ac9940>"
      ]
     },
     "metadata": {},
     "output_type": "display_data"
    },
    {
     "name": "stderr",
     "output_type": "stream",
     "text": [
      "INDEX 5000: 050045\n"
     ]
    },
    {
     "data": {
      "text/html": [
       "<pre style=\"white-space:pre;overflow-x:auto;line-height:normal;font-family:Menlo,'DejaVu Sans Mono',consolas,'Courier New',monospace\"><span style=\"color: #7fbfbf\">           </span><span style=\"color: #000080\">INFO    </span> INDEX <span style=\"color: #000080; font-weight: bold\">5000</span>: <span style=\"color: #000080; font-weight: bold\">050045</span>                                         <a href=\"file:///home/j-gunmo/desktop/00.my-project/17.P-Stage-T1003/4-STAGE/fe/feature.py\"><span style=\"color: #7f7f7f\">feature.py</span></a><span style=\"color: #7f7f7f\">:109</span>\n",
       "</pre>\n"
      ],
      "text/plain": [
       "<rich.jupyter.JupyterRenderable at 0x7f1c04ac9dc0>"
      ]
     },
     "metadata": {},
     "output_type": "display_data"
    },
    {
     "name": "stderr",
     "output_type": "stream",
     "text": [
      "INDEX 6000: 050072\n"
     ]
    },
    {
     "data": {
      "text/html": [
       "<pre style=\"white-space:pre;overflow-x:auto;line-height:normal;font-family:Menlo,'DejaVu Sans Mono',consolas,'Courier New',monospace\"><span style=\"color: #7fbfbf\">           </span><span style=\"color: #000080\">INFO    </span> INDEX <span style=\"color: #000080; font-weight: bold\">6000</span>: <span style=\"color: #000080; font-weight: bold\">050072</span>                                         <a href=\"file:///home/j-gunmo/desktop/00.my-project/17.P-Stage-T1003/4-STAGE/fe/feature.py\"><span style=\"color: #7f7f7f\">feature.py</span></a><span style=\"color: #7f7f7f\">:109</span>\n",
       "</pre>\n"
      ],
      "text/plain": [
       "<rich.jupyter.JupyterRenderable at 0x7f1c04ac9ca0>"
      ]
     },
     "metadata": {},
     "output_type": "display_data"
    },
    {
     "name": "stderr",
     "output_type": "stream",
     "text": [
      "INDEX 7000: 050089\n"
     ]
    },
    {
     "data": {
      "text/html": [
       "<pre style=\"white-space:pre;overflow-x:auto;line-height:normal;font-family:Menlo,'DejaVu Sans Mono',consolas,'Courier New',monospace\"><span style=\"color: #7fbfbf\">           </span><span style=\"color: #000080\">INFO    </span> INDEX <span style=\"color: #000080; font-weight: bold\">7000</span>: <span style=\"color: #000080; font-weight: bold\">050089</span>                                         <a href=\"file:///home/j-gunmo/desktop/00.my-project/17.P-Stage-T1003/4-STAGE/fe/feature.py\"><span style=\"color: #7f7f7f\">feature.py</span></a><span style=\"color: #7f7f7f\">:109</span>\n",
       "</pre>\n"
      ],
      "text/plain": [
       "<rich.jupyter.JupyterRenderable at 0x7f1c04ac93d0>"
      ]
     },
     "metadata": {},
     "output_type": "display_data"
    },
    {
     "name": "stderr",
     "output_type": "stream",
     "text": [
      "INDEX 8000: 050089\n"
     ]
    },
    {
     "data": {
      "text/html": [
       "<pre style=\"white-space:pre;overflow-x:auto;line-height:normal;font-family:Menlo,'DejaVu Sans Mono',consolas,'Courier New',monospace\"><span style=\"color: #7fbfbf\">           </span><span style=\"color: #000080\">INFO    </span> INDEX <span style=\"color: #000080; font-weight: bold\">8000</span>: <span style=\"color: #000080; font-weight: bold\">050089</span>                                         <a href=\"file:///home/j-gunmo/desktop/00.my-project/17.P-Stage-T1003/4-STAGE/fe/feature.py\"><span style=\"color: #7f7f7f\">feature.py</span></a><span style=\"color: #7f7f7f\">:109</span>\n",
       "</pre>\n"
      ],
      "text/plain": [
       "<rich.jupyter.JupyterRenderable at 0x7f1c04ac9730>"
      ]
     },
     "metadata": {},
     "output_type": "display_data"
    },
    {
     "name": "stderr",
     "output_type": "stream",
     "text": [
      "INDEX 9000: 050105\n"
     ]
    },
    {
     "data": {
      "text/html": [
       "<pre style=\"white-space:pre;overflow-x:auto;line-height:normal;font-family:Menlo,'DejaVu Sans Mono',consolas,'Courier New',monospace\"><span style=\"color: #7fbfbf\">           </span><span style=\"color: #000080\">INFO    </span> INDEX <span style=\"color: #000080; font-weight: bold\">9000</span>: <span style=\"color: #000080; font-weight: bold\">050105</span>                                         <a href=\"file:///home/j-gunmo/desktop/00.my-project/17.P-Stage-T1003/4-STAGE/fe/feature.py\"><span style=\"color: #7f7f7f\">feature.py</span></a><span style=\"color: #7f7f7f\">:109</span>\n",
       "</pre>\n"
      ],
      "text/plain": [
       "<rich.jupyter.JupyterRenderable at 0x7f1c04ac9ca0>"
      ]
     },
     "metadata": {},
     "output_type": "display_data"
    },
    {
     "name": "stderr",
     "output_type": "stream",
     "text": [
      "\n",
      "testPaperCnt    : 시험지의 문항 번호입니다.\n"
     ]
    },
    {
     "data": {
      "text/html": [
       "<pre style=\"white-space:pre;overflow-x:auto;line-height:normal;font-family:Menlo,'DejaVu Sans Mono',consolas,'Courier New',monospace\"><span style=\"color: #7fbfbf\">           </span><span style=\"color: #000080\">INFO    </span>                                                            <a href=\"file:///home/j-gunmo/desktop/00.my-project/17.P-Stage-T1003/4-STAGE/fe/feature.py\"><span style=\"color: #7f7f7f\">feature.py</span></a><span style=\"color: #7f7f7f\">:104</span>\n",
       "                    testPaperCnt    : 시험지의 문항 번호입니다.                              \n",
       "</pre>\n"
      ],
      "text/plain": [
       "<rich.jupyter.JupyterRenderable at 0x7f1c04ac9fa0>"
      ]
     },
     "metadata": {},
     "output_type": "display_data"
    },
    {
     "name": "stderr",
     "output_type": "stream",
     "text": [
      "dtype: object\n"
     ]
    },
    {
     "data": {
      "text/html": [
       "<pre style=\"white-space:pre;overflow-x:auto;line-height:normal;font-family:Menlo,'DejaVu Sans Mono',consolas,'Courier New',monospace\"><span style=\"color: #7fbfbf\">           </span><span style=\"color: #000080\">INFO    </span> dtype: object                                              <a href=\"file:///home/j-gunmo/desktop/00.my-project/17.P-Stage-T1003/4-STAGE/fe/feature.py\"><span style=\"color: #7f7f7f\">feature.py</span></a><span style=\"color: #7f7f7f\">:105</span>\n",
       "</pre>\n"
      ],
      "text/plain": [
       "<rich.jupyter.JupyterRenderable at 0x7f1c04ac9580>"
      ]
     },
     "metadata": {},
     "output_type": "display_data"
    },
    {
     "name": "stderr",
     "output_type": "stream",
     "text": [
      "[Examples]\n"
     ]
    },
    {
     "data": {
      "text/html": [
       "<pre style=\"white-space:pre;overflow-x:auto;line-height:normal;font-family:Menlo,'DejaVu Sans Mono',consolas,'Courier New',monospace\"><span style=\"color: #7fbfbf\">           </span><span style=\"color: #000080\">INFO    </span> <span style=\"font-weight: bold\">[</span>Examples<span style=\"font-weight: bold\">]</span>                                                 <a href=\"file:///home/j-gunmo/desktop/00.my-project/17.P-Stage-T1003/4-STAGE/fe/feature.py\"><span style=\"color: #7f7f7f\">feature.py</span></a><span style=\"color: #7f7f7f\">:106</span>\n",
       "</pre>\n"
      ],
      "text/plain": [
       "<rich.jupyter.JupyterRenderable at 0x7f1c04ac99a0>"
      ]
     },
     "metadata": {},
     "output_type": "display_data"
    },
    {
     "name": "stderr",
     "output_type": "stream",
     "text": [
      "INDEX 0000: 001\n"
     ]
    },
    {
     "data": {
      "text/html": [
       "<pre style=\"white-space:pre;overflow-x:auto;line-height:normal;font-family:Menlo,'DejaVu Sans Mono',consolas,'Courier New',monospace\"><span style=\"color: #7fbfbf\">           </span><span style=\"color: #000080\">INFO    </span> INDEX <span style=\"color: #000080; font-weight: bold\">0000</span>: <span style=\"color: #000080; font-weight: bold\">001</span>                                            <a href=\"file:///home/j-gunmo/desktop/00.my-project/17.P-Stage-T1003/4-STAGE/fe/feature.py\"><span style=\"color: #7f7f7f\">feature.py</span></a><span style=\"color: #7f7f7f\">:109</span>\n",
       "</pre>\n"
      ],
      "text/plain": [
       "<rich.jupyter.JupyterRenderable at 0x7f1c04ac9fa0>"
      ]
     },
     "metadata": {},
     "output_type": "display_data"
    },
    {
     "name": "stderr",
     "output_type": "stream",
     "text": [
      "INDEX 1000: 003\n"
     ]
    },
    {
     "data": {
      "text/html": [
       "<pre style=\"white-space:pre;overflow-x:auto;line-height:normal;font-family:Menlo,'DejaVu Sans Mono',consolas,'Courier New',monospace\"><span style=\"color: #7fbfbf\">           </span><span style=\"color: #000080\">INFO    </span> INDEX <span style=\"color: #000080; font-weight: bold\">1000</span>: <span style=\"color: #000080; font-weight: bold\">003</span>                                            <a href=\"file:///home/j-gunmo/desktop/00.my-project/17.P-Stage-T1003/4-STAGE/fe/feature.py\"><span style=\"color: #7f7f7f\">feature.py</span></a><span style=\"color: #7f7f7f\">:109</span>\n",
       "</pre>\n"
      ],
      "text/plain": [
       "<rich.jupyter.JupyterRenderable at 0x7f1c04ac9bb0>"
      ]
     },
     "metadata": {},
     "output_type": "display_data"
    },
    {
     "name": "stderr",
     "output_type": "stream",
     "text": [
      "INDEX 2000: 001\n"
     ]
    },
    {
     "data": {
      "text/html": [
       "<pre style=\"white-space:pre;overflow-x:auto;line-height:normal;font-family:Menlo,'DejaVu Sans Mono',consolas,'Courier New',monospace\"><span style=\"color: #7fbfbf\">           </span><span style=\"color: #000080\">INFO    </span> INDEX <span style=\"color: #000080; font-weight: bold\">2000</span>: <span style=\"color: #000080; font-weight: bold\">001</span>                                            <a href=\"file:///home/j-gunmo/desktop/00.my-project/17.P-Stage-T1003/4-STAGE/fe/feature.py\"><span style=\"color: #7f7f7f\">feature.py</span></a><span style=\"color: #7f7f7f\">:109</span>\n",
       "</pre>\n"
      ],
      "text/plain": [
       "<rich.jupyter.JupyterRenderable at 0x7f1c04ac9be0>"
      ]
     },
     "metadata": {},
     "output_type": "display_data"
    },
    {
     "name": "stderr",
     "output_type": "stream",
     "text": [
      "INDEX 3000: 003\n"
     ]
    },
    {
     "data": {
      "text/html": [
       "<pre style=\"white-space:pre;overflow-x:auto;line-height:normal;font-family:Menlo,'DejaVu Sans Mono',consolas,'Courier New',monospace\"><span style=\"color: #7fbfbf\">           </span><span style=\"color: #000080\">INFO    </span> INDEX <span style=\"color: #000080; font-weight: bold\">3000</span>: <span style=\"color: #000080; font-weight: bold\">003</span>                                            <a href=\"file:///home/j-gunmo/desktop/00.my-project/17.P-Stage-T1003/4-STAGE/fe/feature.py\"><span style=\"color: #7f7f7f\">feature.py</span></a><span style=\"color: #7f7f7f\">:109</span>\n",
       "</pre>\n"
      ],
      "text/plain": [
       "<rich.jupyter.JupyterRenderable at 0x7f1c04ac95b0>"
      ]
     },
     "metadata": {},
     "output_type": "display_data"
    },
    {
     "name": "stderr",
     "output_type": "stream",
     "text": [
      "INDEX 4000: 003\n"
     ]
    },
    {
     "data": {
      "text/html": [
       "<pre style=\"white-space:pre;overflow-x:auto;line-height:normal;font-family:Menlo,'DejaVu Sans Mono',consolas,'Courier New',monospace\"><span style=\"color: #7fbfbf\">           </span><span style=\"color: #000080\">INFO    </span> INDEX <span style=\"color: #000080; font-weight: bold\">4000</span>: <span style=\"color: #000080; font-weight: bold\">003</span>                                            <a href=\"file:///home/j-gunmo/desktop/00.my-project/17.P-Stage-T1003/4-STAGE/fe/feature.py\"><span style=\"color: #7f7f7f\">feature.py</span></a><span style=\"color: #7f7f7f\">:109</span>\n",
       "</pre>\n"
      ],
      "text/plain": [
       "<rich.jupyter.JupyterRenderable at 0x7f1c04ac9bb0>"
      ]
     },
     "metadata": {},
     "output_type": "display_data"
    },
    {
     "name": "stderr",
     "output_type": "stream",
     "text": [
      "INDEX 5000: 001\n"
     ]
    },
    {
     "data": {
      "text/html": [
       "<pre style=\"white-space:pre;overflow-x:auto;line-height:normal;font-family:Menlo,'DejaVu Sans Mono',consolas,'Courier New',monospace\"><span style=\"color: #7fbfbf\">           </span><span style=\"color: #000080\">INFO    </span> INDEX <span style=\"color: #000080; font-weight: bold\">5000</span>: <span style=\"color: #000080; font-weight: bold\">001</span>                                            <a href=\"file:///home/j-gunmo/desktop/00.my-project/17.P-Stage-T1003/4-STAGE/fe/feature.py\"><span style=\"color: #7f7f7f\">feature.py</span></a><span style=\"color: #7f7f7f\">:109</span>\n",
       "</pre>\n"
      ],
      "text/plain": [
       "<rich.jupyter.JupyterRenderable at 0x7f1c04ac9be0>"
      ]
     },
     "metadata": {},
     "output_type": "display_data"
    },
    {
     "name": "stderr",
     "output_type": "stream",
     "text": [
      "INDEX 6000: 001\n"
     ]
    },
    {
     "data": {
      "text/html": [
       "<pre style=\"white-space:pre;overflow-x:auto;line-height:normal;font-family:Menlo,'DejaVu Sans Mono',consolas,'Courier New',monospace\"><span style=\"color: #7fbfbf\">           </span><span style=\"color: #000080\">INFO    </span> INDEX <span style=\"color: #000080; font-weight: bold\">6000</span>: <span style=\"color: #000080; font-weight: bold\">001</span>                                            <a href=\"file:///home/j-gunmo/desktop/00.my-project/17.P-Stage-T1003/4-STAGE/fe/feature.py\"><span style=\"color: #7f7f7f\">feature.py</span></a><span style=\"color: #7f7f7f\">:109</span>\n",
       "</pre>\n"
      ],
      "text/plain": [
       "<rich.jupyter.JupyterRenderable at 0x7f1c04ac95b0>"
      ]
     },
     "metadata": {},
     "output_type": "display_data"
    },
    {
     "name": "stderr",
     "output_type": "stream",
     "text": [
      "INDEX 7000: 003\n"
     ]
    },
    {
     "data": {
      "text/html": [
       "<pre style=\"white-space:pre;overflow-x:auto;line-height:normal;font-family:Menlo,'DejaVu Sans Mono',consolas,'Courier New',monospace\"><span style=\"color: #7fbfbf\">           </span><span style=\"color: #000080\">INFO    </span> INDEX <span style=\"color: #000080; font-weight: bold\">7000</span>: <span style=\"color: #000080; font-weight: bold\">003</span>                                            <a href=\"file:///home/j-gunmo/desktop/00.my-project/17.P-Stage-T1003/4-STAGE/fe/feature.py\"><span style=\"color: #7f7f7f\">feature.py</span></a><span style=\"color: #7f7f7f\">:109</span>\n",
       "</pre>\n"
      ],
      "text/plain": [
       "<rich.jupyter.JupyterRenderable at 0x7f1c04ac9bb0>"
      ]
     },
     "metadata": {},
     "output_type": "display_data"
    },
    {
     "name": "stderr",
     "output_type": "stream",
     "text": [
      "INDEX 8000: 006\n"
     ]
    },
    {
     "data": {
      "text/html": [
       "<pre style=\"white-space:pre;overflow-x:auto;line-height:normal;font-family:Menlo,'DejaVu Sans Mono',consolas,'Courier New',monospace\"><span style=\"color: #7fbfbf\">           </span><span style=\"color: #000080\">INFO    </span> INDEX <span style=\"color: #000080; font-weight: bold\">8000</span>: <span style=\"color: #000080; font-weight: bold\">006</span>                                            <a href=\"file:///home/j-gunmo/desktop/00.my-project/17.P-Stage-T1003/4-STAGE/fe/feature.py\"><span style=\"color: #7f7f7f\">feature.py</span></a><span style=\"color: #7f7f7f\">:109</span>\n",
       "</pre>\n"
      ],
      "text/plain": [
       "<rich.jupyter.JupyterRenderable at 0x7f1c04ac9be0>"
      ]
     },
     "metadata": {},
     "output_type": "display_data"
    },
    {
     "name": "stderr",
     "output_type": "stream",
     "text": [
      "INDEX 9000: 004\n"
     ]
    },
    {
     "data": {
      "text/html": [
       "<pre style=\"white-space:pre;overflow-x:auto;line-height:normal;font-family:Menlo,'DejaVu Sans Mono',consolas,'Courier New',monospace\"><span style=\"color: #7fbfbf\">           </span><span style=\"color: #000080\">INFO    </span> INDEX <span style=\"color: #000080; font-weight: bold\">9000</span>: <span style=\"color: #000080; font-weight: bold\">004</span>                                            <a href=\"file:///home/j-gunmo/desktop/00.my-project/17.P-Stage-T1003/4-STAGE/fe/feature.py\"><span style=\"color: #7f7f7f\">feature.py</span></a><span style=\"color: #7f7f7f\">:109</span>\n",
       "</pre>\n"
      ],
      "text/plain": [
       "<rich.jupyter.JupyterRenderable at 0x7f1c04ac95b0>"
      ]
     },
     "metadata": {},
     "output_type": "display_data"
    },
    {
     "name": "stderr",
     "output_type": "stream",
     "text": [
      "\n",
      "Feature Engineering Name: convert_time\n"
     ]
    },
    {
     "name": "stdout",
     "output_type": "stream",
     "text": [
      "load features /home/j-gunmo/features/test_convert_time.pkl to dataframe ... \n"
     ]
    },
    {
     "data": {
      "text/html": [
       "<pre style=\"white-space:pre;overflow-x:auto;line-height:normal;font-family:Menlo,'DejaVu Sans Mono',consolas,'Courier New',monospace\"><span style=\"color: #7fbfbf\">           </span><span style=\"color: #000080\">INFO    </span>                                                            <a href=\"file:///home/j-gunmo/desktop/00.my-project/17.P-Stage-T1003/4-STAGE/fe/feature.py\"><span style=\"color: #7f7f7f\">feature.py</span></a><span style=\"color: #7f7f7f\">:101</span>\n",
       "                    Feature Engineering Name: convert_time                                   \n",
       "</pre>\n"
      ],
      "text/plain": [
       "<rich.jupyter.JupyterRenderable at 0x7f1c04ac9fa0>"
      ]
     },
     "metadata": {},
     "output_type": "display_data"
    },
    {
     "name": "stderr",
     "output_type": "stream",
     "text": [
      "\n",
      "timeSec         : 사용자가 문항을 푼 타임스태프 정보입니다.\n"
     ]
    },
    {
     "data": {
      "text/html": [
       "<pre style=\"white-space:pre;overflow-x:auto;line-height:normal;font-family:Menlo,'DejaVu Sans Mono',consolas,'Courier New',monospace\"><span style=\"color: #7fbfbf\">           </span><span style=\"color: #000080\">INFO    </span>                                                            <a href=\"file:///home/j-gunmo/desktop/00.my-project/17.P-Stage-T1003/4-STAGE/fe/feature.py\"><span style=\"color: #7f7f7f\">feature.py</span></a><span style=\"color: #7f7f7f\">:104</span>\n",
       "                    timeSec         : 사용자가 문항을 푼 타임스태프                          \n",
       "                    정보입니다.                                                              \n",
       "</pre>\n"
      ],
      "text/plain": [
       "<rich.jupyter.JupyterRenderable at 0x7f1c04ac9a60>"
      ]
     },
     "metadata": {},
     "output_type": "display_data"
    },
    {
     "name": "stderr",
     "output_type": "stream",
     "text": [
      "dtype: int64\n"
     ]
    },
    {
     "data": {
      "text/html": [
       "<pre style=\"white-space:pre;overflow-x:auto;line-height:normal;font-family:Menlo,'DejaVu Sans Mono',consolas,'Courier New',monospace\"><span style=\"color: #7fbfbf\">           </span><span style=\"color: #000080\">INFO    </span> dtype: int64                                               <a href=\"file:///home/j-gunmo/desktop/00.my-project/17.P-Stage-T1003/4-STAGE/fe/feature.py\"><span style=\"color: #7f7f7f\">feature.py</span></a><span style=\"color: #7f7f7f\">:105</span>\n",
       "</pre>\n"
      ],
      "text/plain": [
       "<rich.jupyter.JupyterRenderable at 0x7f1c04ac9940>"
      ]
     },
     "metadata": {},
     "output_type": "display_data"
    },
    {
     "name": "stderr",
     "output_type": "stream",
     "text": [
      "[Examples]\n"
     ]
    },
    {
     "data": {
      "text/html": [
       "<pre style=\"white-space:pre;overflow-x:auto;line-height:normal;font-family:Menlo,'DejaVu Sans Mono',consolas,'Courier New',monospace\"><span style=\"color: #7fbfbf\">           </span><span style=\"color: #000080\">INFO    </span> <span style=\"font-weight: bold\">[</span>Examples<span style=\"font-weight: bold\">]</span>                                                 <a href=\"file:///home/j-gunmo/desktop/00.my-project/17.P-Stage-T1003/4-STAGE/fe/feature.py\"><span style=\"color: #7f7f7f\">feature.py</span></a><span style=\"color: #7f7f7f\">:106</span>\n",
       "</pre>\n"
      ],
      "text/plain": [
       "<rich.jupyter.JupyterRenderable at 0x7f1c04ac97c0>"
      ]
     },
     "metadata": {},
     "output_type": "display_data"
    },
    {
     "name": "stderr",
     "output_type": "stream",
     "text": [
      "INDEX 0000: 1578534991\n"
     ]
    },
    {
     "data": {
      "text/html": [
       "<pre style=\"white-space:pre;overflow-x:auto;line-height:normal;font-family:Menlo,'DejaVu Sans Mono',consolas,'Courier New',monospace\"><span style=\"color: #7fbfbf\">           </span><span style=\"color: #000080\">INFO    </span> INDEX <span style=\"color: #000080; font-weight: bold\">0000</span>: <span style=\"color: #000080; font-weight: bold\">1578534991</span>                                     <a href=\"file:///home/j-gunmo/desktop/00.my-project/17.P-Stage-T1003/4-STAGE/fe/feature.py\"><span style=\"color: #7f7f7f\">feature.py</span></a><span style=\"color: #7f7f7f\">:109</span>\n",
       "</pre>\n"
      ],
      "text/plain": [
       "<rich.jupyter.JupyterRenderable at 0x7f1c04ac9eb0>"
      ]
     },
     "metadata": {},
     "output_type": "display_data"
    },
    {
     "name": "stderr",
     "output_type": "stream",
     "text": [
      "INDEX 1000: 1582080021\n"
     ]
    },
    {
     "data": {
      "text/html": [
       "<pre style=\"white-space:pre;overflow-x:auto;line-height:normal;font-family:Menlo,'DejaVu Sans Mono',consolas,'Courier New',monospace\"><span style=\"color: #7fbfbf\">           </span><span style=\"color: #000080\">INFO    </span> INDEX <span style=\"color: #000080; font-weight: bold\">1000</span>: <span style=\"color: #000080; font-weight: bold\">1582080021</span>                                     <a href=\"file:///home/j-gunmo/desktop/00.my-project/17.P-Stage-T1003/4-STAGE/fe/feature.py\"><span style=\"color: #7f7f7f\">feature.py</span></a><span style=\"color: #7f7f7f\">:109</span>\n",
       "</pre>\n"
      ],
      "text/plain": [
       "<rich.jupyter.JupyterRenderable at 0x7f1c04ac9d30>"
      ]
     },
     "metadata": {},
     "output_type": "display_data"
    },
    {
     "name": "stderr",
     "output_type": "stream",
     "text": [
      "INDEX 2000: 1583876850\n"
     ]
    },
    {
     "data": {
      "text/html": [
       "<pre style=\"white-space:pre;overflow-x:auto;line-height:normal;font-family:Menlo,'DejaVu Sans Mono',consolas,'Courier New',monospace\"><span style=\"color: #7fbfbf\">           </span><span style=\"color: #000080\">INFO    </span> INDEX <span style=\"color: #000080; font-weight: bold\">2000</span>: <span style=\"color: #000080; font-weight: bold\">1583876850</span>                                     <a href=\"file:///home/j-gunmo/desktop/00.my-project/17.P-Stage-T1003/4-STAGE/fe/feature.py\"><span style=\"color: #7f7f7f\">feature.py</span></a><span style=\"color: #7f7f7f\">:109</span>\n",
       "</pre>\n"
      ],
      "text/plain": [
       "<rich.jupyter.JupyterRenderable at 0x7f1c04ac97c0>"
      ]
     },
     "metadata": {},
     "output_type": "display_data"
    },
    {
     "name": "stderr",
     "output_type": "stream",
     "text": [
      "INDEX 3000: 1586022801\n"
     ]
    },
    {
     "data": {
      "text/html": [
       "<pre style=\"white-space:pre;overflow-x:auto;line-height:normal;font-family:Menlo,'DejaVu Sans Mono',consolas,'Courier New',monospace\"><span style=\"color: #7fbfbf\">           </span><span style=\"color: #000080\">INFO    </span> INDEX <span style=\"color: #000080; font-weight: bold\">3000</span>: <span style=\"color: #000080; font-weight: bold\">1586022801</span>                                     <a href=\"file:///home/j-gunmo/desktop/00.my-project/17.P-Stage-T1003/4-STAGE/fe/feature.py\"><span style=\"color: #7f7f7f\">feature.py</span></a><span style=\"color: #7f7f7f\">:109</span>\n",
       "</pre>\n"
      ],
      "text/plain": [
       "<rich.jupyter.JupyterRenderable at 0x7f1c04ac9490>"
      ]
     },
     "metadata": {},
     "output_type": "display_data"
    },
    {
     "name": "stderr",
     "output_type": "stream",
     "text": [
      "INDEX 4000: 1588743149\n"
     ]
    },
    {
     "data": {
      "text/html": [
       "<pre style=\"white-space:pre;overflow-x:auto;line-height:normal;font-family:Menlo,'DejaVu Sans Mono',consolas,'Courier New',monospace\"><span style=\"color: #7fbfbf\">           </span><span style=\"color: #000080\">INFO    </span> INDEX <span style=\"color: #000080; font-weight: bold\">4000</span>: <span style=\"color: #000080; font-weight: bold\">1588743149</span>                                     <a href=\"file:///home/j-gunmo/desktop/00.my-project/17.P-Stage-T1003/4-STAGE/fe/feature.py\"><span style=\"color: #7f7f7f\">feature.py</span></a><span style=\"color: #7f7f7f\">:109</span>\n",
       "</pre>\n"
      ],
      "text/plain": [
       "<rich.jupyter.JupyterRenderable at 0x7f1c04ac9dc0>"
      ]
     },
     "metadata": {},
     "output_type": "display_data"
    },
    {
     "name": "stderr",
     "output_type": "stream",
     "text": [
      "INDEX 5000: 1591764737\n"
     ]
    },
    {
     "data": {
      "text/html": [
       "<pre style=\"white-space:pre;overflow-x:auto;line-height:normal;font-family:Menlo,'DejaVu Sans Mono',consolas,'Courier New',monospace\"><span style=\"color: #7fbfbf\">           </span><span style=\"color: #000080\">INFO    </span> INDEX <span style=\"color: #000080; font-weight: bold\">5000</span>: <span style=\"color: #000080; font-weight: bold\">1591764737</span>                                     <a href=\"file:///home/j-gunmo/desktop/00.my-project/17.P-Stage-T1003/4-STAGE/fe/feature.py\"><span style=\"color: #7f7f7f\">feature.py</span></a><span style=\"color: #7f7f7f\">:109</span>\n",
       "</pre>\n"
      ],
      "text/plain": [
       "<rich.jupyter.JupyterRenderable at 0x7f1c04ac93a0>"
      ]
     },
     "metadata": {},
     "output_type": "display_data"
    },
    {
     "name": "stderr",
     "output_type": "stream",
     "text": [
      "INDEX 6000: 1594353821\n"
     ]
    },
    {
     "data": {
      "text/html": [
       "<pre style=\"white-space:pre;overflow-x:auto;line-height:normal;font-family:Menlo,'DejaVu Sans Mono',consolas,'Courier New',monospace\"><span style=\"color: #7fbfbf\">           </span><span style=\"color: #000080\">INFO    </span> INDEX <span style=\"color: #000080; font-weight: bold\">6000</span>: <span style=\"color: #000080; font-weight: bold\">1594353821</span>                                     <a href=\"file:///home/j-gunmo/desktop/00.my-project/17.P-Stage-T1003/4-STAGE/fe/feature.py\"><span style=\"color: #7f7f7f\">feature.py</span></a><span style=\"color: #7f7f7f\">:109</span>\n",
       "</pre>\n"
      ],
      "text/plain": [
       "<rich.jupyter.JupyterRenderable at 0x7f1c04ac9eb0>"
      ]
     },
     "metadata": {},
     "output_type": "display_data"
    },
    {
     "name": "stderr",
     "output_type": "stream",
     "text": [
      "INDEX 7000: 1595904396\n"
     ]
    },
    {
     "data": {
      "text/html": [
       "<pre style=\"white-space:pre;overflow-x:auto;line-height:normal;font-family:Menlo,'DejaVu Sans Mono',consolas,'Courier New',monospace\"><span style=\"color: #7fbfbf\">           </span><span style=\"color: #000080\">INFO    </span> INDEX <span style=\"color: #000080; font-weight: bold\">7000</span>: <span style=\"color: #000080; font-weight: bold\">1595904396</span>                                     <a href=\"file:///home/j-gunmo/desktop/00.my-project/17.P-Stage-T1003/4-STAGE/fe/feature.py\"><span style=\"color: #7f7f7f\">feature.py</span></a><span style=\"color: #7f7f7f\">:109</span>\n",
       "</pre>\n"
      ],
      "text/plain": [
       "<rich.jupyter.JupyterRenderable at 0x7f1c04ac9ee0>"
      ]
     },
     "metadata": {},
     "output_type": "display_data"
    },
    {
     "name": "stderr",
     "output_type": "stream",
     "text": [
      "INDEX 8000: 1597130998\n"
     ]
    },
    {
     "data": {
      "text/html": [
       "<pre style=\"white-space:pre;overflow-x:auto;line-height:normal;font-family:Menlo,'DejaVu Sans Mono',consolas,'Courier New',monospace\"><span style=\"color: #7fbfbf\">           </span><span style=\"color: #000080\">INFO    </span> INDEX <span style=\"color: #000080; font-weight: bold\">8000</span>: <span style=\"color: #000080; font-weight: bold\">1597130998</span>                                     <a href=\"file:///home/j-gunmo/desktop/00.my-project/17.P-Stage-T1003/4-STAGE/fe/feature.py\"><span style=\"color: #7f7f7f\">feature.py</span></a><span style=\"color: #7f7f7f\">:109</span>\n",
       "</pre>\n"
      ],
      "text/plain": [
       "<rich.jupyter.JupyterRenderable at 0x7f1c04ac93d0>"
      ]
     },
     "metadata": {},
     "output_type": "display_data"
    },
    {
     "name": "stderr",
     "output_type": "stream",
     "text": [
      "INDEX 9000: 1599087082\n"
     ]
    },
    {
     "data": {
      "text/html": [
       "<pre style=\"white-space:pre;overflow-x:auto;line-height:normal;font-family:Menlo,'DejaVu Sans Mono',consolas,'Courier New',monospace\"><span style=\"color: #7fbfbf\">           </span><span style=\"color: #000080\">INFO    </span> INDEX <span style=\"color: #000080; font-weight: bold\">9000</span>: <span style=\"color: #000080; font-weight: bold\">1599087082</span>                                     <a href=\"file:///home/j-gunmo/desktop/00.my-project/17.P-Stage-T1003/4-STAGE/fe/feature.py\"><span style=\"color: #7f7f7f\">feature.py</span></a><span style=\"color: #7f7f7f\">:109</span>\n",
       "</pre>\n"
      ],
      "text/plain": [
       "<rich.jupyter.JupyterRenderable at 0x7f1c04ac9bb0>"
      ]
     },
     "metadata": {},
     "output_type": "display_data"
    },
    {
     "name": "stderr",
     "output_type": "stream",
     "text": [
      "\n",
      "Feature Engineering Name: make_first_class\n"
     ]
    },
    {
     "name": "stdout",
     "output_type": "stream",
     "text": [
      "load features /home/j-gunmo/features/test_make_first_class.pkl to dataframe ... \n"
     ]
    },
    {
     "data": {
      "text/html": [
       "<pre style=\"white-space:pre;overflow-x:auto;line-height:normal;font-family:Menlo,'DejaVu Sans Mono',consolas,'Courier New',monospace\"><span style=\"color: #7fbfbf\">           </span><span style=\"color: #000080\">INFO    </span>                                                            <a href=\"file:///home/j-gunmo/desktop/00.my-project/17.P-Stage-T1003/4-STAGE/fe/feature.py\"><span style=\"color: #7f7f7f\">feature.py</span></a><span style=\"color: #7f7f7f\">:101</span>\n",
       "                    Feature Engineering Name: make_first_class                               \n",
       "</pre>\n"
      ],
      "text/plain": [
       "<rich.jupyter.JupyterRenderable at 0x7f1c04ac93d0>"
      ]
     },
     "metadata": {},
     "output_type": "display_data"
    },
    {
     "name": "stderr",
     "output_type": "stream",
     "text": [
      "\n",
      "firstClass      : 대분류에 해당합니다.\n"
     ]
    },
    {
     "data": {
      "text/html": [
       "<pre style=\"white-space:pre;overflow-x:auto;line-height:normal;font-family:Menlo,'DejaVu Sans Mono',consolas,'Courier New',monospace\"><span style=\"color: #7fbfbf\">           </span><span style=\"color: #000080\">INFO    </span>                                                            <a href=\"file:///home/j-gunmo/desktop/00.my-project/17.P-Stage-T1003/4-STAGE/fe/feature.py\"><span style=\"color: #7f7f7f\">feature.py</span></a><span style=\"color: #7f7f7f\">:104</span>\n",
       "                    firstClass      : 대분류에 해당합니다.                                   \n",
       "</pre>\n"
      ],
      "text/plain": [
       "<rich.jupyter.JupyterRenderable at 0x7f1c04ac92b0>"
      ]
     },
     "metadata": {},
     "output_type": "display_data"
    },
    {
     "name": "stderr",
     "output_type": "stream",
     "text": [
      "dtype: object\n"
     ]
    },
    {
     "data": {
      "text/html": [
       "<pre style=\"white-space:pre;overflow-x:auto;line-height:normal;font-family:Menlo,'DejaVu Sans Mono',consolas,'Courier New',monospace\"><span style=\"color: #7fbfbf\">           </span><span style=\"color: #000080\">INFO    </span> dtype: object                                              <a href=\"file:///home/j-gunmo/desktop/00.my-project/17.P-Stage-T1003/4-STAGE/fe/feature.py\"><span style=\"color: #7f7f7f\">feature.py</span></a><span style=\"color: #7f7f7f\">:105</span>\n",
       "</pre>\n"
      ],
      "text/plain": [
       "<rich.jupyter.JupyterRenderable at 0x7f1c04ac93d0>"
      ]
     },
     "metadata": {},
     "output_type": "display_data"
    },
    {
     "name": "stderr",
     "output_type": "stream",
     "text": [
      "[Examples]\n"
     ]
    },
    {
     "data": {
      "text/html": [
       "<pre style=\"white-space:pre;overflow-x:auto;line-height:normal;font-family:Menlo,'DejaVu Sans Mono',consolas,'Courier New',monospace\"><span style=\"color: #7fbfbf\">           </span><span style=\"color: #000080\">INFO    </span> <span style=\"font-weight: bold\">[</span>Examples<span style=\"font-weight: bold\">]</span>                                                 <a href=\"file:///home/j-gunmo/desktop/00.my-project/17.P-Stage-T1003/4-STAGE/fe/feature.py\"><span style=\"color: #7f7f7f\">feature.py</span></a><span style=\"color: #7f7f7f\">:106</span>\n",
       "</pre>\n"
      ],
      "text/plain": [
       "<rich.jupyter.JupyterRenderable at 0x7f1c04ac9bb0>"
      ]
     },
     "metadata": {},
     "output_type": "display_data"
    },
    {
     "name": "stderr",
     "output_type": "stream",
     "text": [
      "INDEX 0000: 5\n"
     ]
    },
    {
     "data": {
      "text/html": [
       "<pre style=\"white-space:pre;overflow-x:auto;line-height:normal;font-family:Menlo,'DejaVu Sans Mono',consolas,'Courier New',monospace\"><span style=\"color: #7fbfbf\">           </span><span style=\"color: #000080\">INFO    </span> INDEX <span style=\"color: #000080; font-weight: bold\">0000</span>: <span style=\"color: #000080; font-weight: bold\">5</span>                                              <a href=\"file:///home/j-gunmo/desktop/00.my-project/17.P-Stage-T1003/4-STAGE/fe/feature.py\"><span style=\"color: #7f7f7f\">feature.py</span></a><span style=\"color: #7f7f7f\">:109</span>\n",
       "</pre>\n"
      ],
      "text/plain": [
       "<rich.jupyter.JupyterRenderable at 0x7f1c04ac9580>"
      ]
     },
     "metadata": {},
     "output_type": "display_data"
    },
    {
     "name": "stderr",
     "output_type": "stream",
     "text": [
      "INDEX 1000: 2\n"
     ]
    },
    {
     "data": {
      "text/html": [
       "<pre style=\"white-space:pre;overflow-x:auto;line-height:normal;font-family:Menlo,'DejaVu Sans Mono',consolas,'Courier New',monospace\"><span style=\"color: #7fbfbf\">           </span><span style=\"color: #000080\">INFO    </span> INDEX <span style=\"color: #000080; font-weight: bold\">1000</span>: <span style=\"color: #000080; font-weight: bold\">2</span>                                              <a href=\"file:///home/j-gunmo/desktop/00.my-project/17.P-Stage-T1003/4-STAGE/fe/feature.py\"><span style=\"color: #7f7f7f\">feature.py</span></a><span style=\"color: #7f7f7f\">:109</span>\n",
       "</pre>\n"
      ],
      "text/plain": [
       "<rich.jupyter.JupyterRenderable at 0x7f1c04ac9640>"
      ]
     },
     "metadata": {},
     "output_type": "display_data"
    },
    {
     "name": "stderr",
     "output_type": "stream",
     "text": [
      "INDEX 2000: 5\n"
     ]
    },
    {
     "data": {
      "text/html": [
       "<pre style=\"white-space:pre;overflow-x:auto;line-height:normal;font-family:Menlo,'DejaVu Sans Mono',consolas,'Courier New',monospace\"><span style=\"color: #7fbfbf\">           </span><span style=\"color: #000080\">INFO    </span> INDEX <span style=\"color: #000080; font-weight: bold\">2000</span>: <span style=\"color: #000080; font-weight: bold\">5</span>                                              <a href=\"file:///home/j-gunmo/desktop/00.my-project/17.P-Stage-T1003/4-STAGE/fe/feature.py\"><span style=\"color: #7f7f7f\">feature.py</span></a><span style=\"color: #7f7f7f\">:109</span>\n",
       "</pre>\n"
      ],
      "text/plain": [
       "<rich.jupyter.JupyterRenderable at 0x7f1c04ac92b0>"
      ]
     },
     "metadata": {},
     "output_type": "display_data"
    },
    {
     "name": "stderr",
     "output_type": "stream",
     "text": [
      "INDEX 3000: 2\n"
     ]
    },
    {
     "data": {
      "text/html": [
       "<pre style=\"white-space:pre;overflow-x:auto;line-height:normal;font-family:Menlo,'DejaVu Sans Mono',consolas,'Courier New',monospace\"><span style=\"color: #7fbfbf\">           </span><span style=\"color: #000080\">INFO    </span> INDEX <span style=\"color: #000080; font-weight: bold\">3000</span>: <span style=\"color: #000080; font-weight: bold\">2</span>                                              <a href=\"file:///home/j-gunmo/desktop/00.my-project/17.P-Stage-T1003/4-STAGE/fe/feature.py\"><span style=\"color: #7f7f7f\">feature.py</span></a><span style=\"color: #7f7f7f\">:109</span>\n",
       "</pre>\n"
      ],
      "text/plain": [
       "<rich.jupyter.JupyterRenderable at 0x7f1c04ac9c40>"
      ]
     },
     "metadata": {},
     "output_type": "display_data"
    },
    {
     "name": "stderr",
     "output_type": "stream",
     "text": [
      "INDEX 4000: 5\n"
     ]
    },
    {
     "data": {
      "text/html": [
       "<pre style=\"white-space:pre;overflow-x:auto;line-height:normal;font-family:Menlo,'DejaVu Sans Mono',consolas,'Courier New',monospace\"><span style=\"color: #7fbfbf\">           </span><span style=\"color: #000080\">INFO    </span> INDEX <span style=\"color: #000080; font-weight: bold\">4000</span>: <span style=\"color: #000080; font-weight: bold\">5</span>                                              <a href=\"file:///home/j-gunmo/desktop/00.my-project/17.P-Stage-T1003/4-STAGE/fe/feature.py\"><span style=\"color: #7f7f7f\">feature.py</span></a><span style=\"color: #7f7f7f\">:109</span>\n",
       "</pre>\n"
      ],
      "text/plain": [
       "<rich.jupyter.JupyterRenderable at 0x7f1c04ac92b0>"
      ]
     },
     "metadata": {},
     "output_type": "display_data"
    },
    {
     "name": "stderr",
     "output_type": "stream",
     "text": [
      "INDEX 5000: 5\n"
     ]
    },
    {
     "data": {
      "text/html": [
       "<pre style=\"white-space:pre;overflow-x:auto;line-height:normal;font-family:Menlo,'DejaVu Sans Mono',consolas,'Courier New',monospace\"><span style=\"color: #7fbfbf\">           </span><span style=\"color: #000080\">INFO    </span> INDEX <span style=\"color: #000080; font-weight: bold\">5000</span>: <span style=\"color: #000080; font-weight: bold\">5</span>                                              <a href=\"file:///home/j-gunmo/desktop/00.my-project/17.P-Stage-T1003/4-STAGE/fe/feature.py\"><span style=\"color: #7f7f7f\">feature.py</span></a><span style=\"color: #7f7f7f\">:109</span>\n",
       "</pre>\n"
      ],
      "text/plain": [
       "<rich.jupyter.JupyterRenderable at 0x7f1c04ac9be0>"
      ]
     },
     "metadata": {},
     "output_type": "display_data"
    },
    {
     "name": "stderr",
     "output_type": "stream",
     "text": [
      "INDEX 6000: 5\n"
     ]
    },
    {
     "data": {
      "text/html": [
       "<pre style=\"white-space:pre;overflow-x:auto;line-height:normal;font-family:Menlo,'DejaVu Sans Mono',consolas,'Courier New',monospace\"><span style=\"color: #7fbfbf\">           </span><span style=\"color: #000080\">INFO    </span> INDEX <span style=\"color: #000080; font-weight: bold\">6000</span>: <span style=\"color: #000080; font-weight: bold\">5</span>                                              <a href=\"file:///home/j-gunmo/desktop/00.my-project/17.P-Stage-T1003/4-STAGE/fe/feature.py\"><span style=\"color: #7f7f7f\">feature.py</span></a><span style=\"color: #7f7f7f\">:109</span>\n",
       "</pre>\n"
      ],
      "text/plain": [
       "<rich.jupyter.JupyterRenderable at 0x7f1c04ac9d60>"
      ]
     },
     "metadata": {},
     "output_type": "display_data"
    },
    {
     "name": "stderr",
     "output_type": "stream",
     "text": [
      "INDEX 7000: 5\n"
     ]
    },
    {
     "data": {
      "text/html": [
       "<pre style=\"white-space:pre;overflow-x:auto;line-height:normal;font-family:Menlo,'DejaVu Sans Mono',consolas,'Courier New',monospace\"><span style=\"color: #7fbfbf\">           </span><span style=\"color: #000080\">INFO    </span> INDEX <span style=\"color: #000080; font-weight: bold\">7000</span>: <span style=\"color: #000080; font-weight: bold\">5</span>                                              <a href=\"file:///home/j-gunmo/desktop/00.my-project/17.P-Stage-T1003/4-STAGE/fe/feature.py\"><span style=\"color: #7f7f7f\">feature.py</span></a><span style=\"color: #7f7f7f\">:109</span>\n",
       "</pre>\n"
      ],
      "text/plain": [
       "<rich.jupyter.JupyterRenderable at 0x7f1c04ac9730>"
      ]
     },
     "metadata": {},
     "output_type": "display_data"
    },
    {
     "name": "stderr",
     "output_type": "stream",
     "text": [
      "INDEX 8000: 5\n"
     ]
    },
    {
     "data": {
      "text/html": [
       "<pre style=\"white-space:pre;overflow-x:auto;line-height:normal;font-family:Menlo,'DejaVu Sans Mono',consolas,'Courier New',monospace\"><span style=\"color: #7fbfbf\">           </span><span style=\"color: #000080\">INFO    </span> INDEX <span style=\"color: #000080; font-weight: bold\">8000</span>: <span style=\"color: #000080; font-weight: bold\">5</span>                                              <a href=\"file:///home/j-gunmo/desktop/00.my-project/17.P-Stage-T1003/4-STAGE/fe/feature.py\"><span style=\"color: #7f7f7f\">feature.py</span></a><span style=\"color: #7f7f7f\">:109</span>\n",
       "</pre>\n"
      ],
      "text/plain": [
       "<rich.jupyter.JupyterRenderable at 0x7f1c04ac9d60>"
      ]
     },
     "metadata": {},
     "output_type": "display_data"
    },
    {
     "name": "stderr",
     "output_type": "stream",
     "text": [
      "INDEX 9000: 5\n"
     ]
    },
    {
     "data": {
      "text/html": [
       "<pre style=\"white-space:pre;overflow-x:auto;line-height:normal;font-family:Menlo,'DejaVu Sans Mono',consolas,'Courier New',monospace\"><span style=\"color: #7fbfbf\">           </span><span style=\"color: #000080\">INFO    </span> INDEX <span style=\"color: #000080; font-weight: bold\">9000</span>: <span style=\"color: #000080; font-weight: bold\">5</span>                                              <a href=\"file:///home/j-gunmo/desktop/00.my-project/17.P-Stage-T1003/4-STAGE/fe/feature.py\"><span style=\"color: #7f7f7f\">feature.py</span></a><span style=\"color: #7f7f7f\">:109</span>\n",
       "</pre>\n"
      ],
      "text/plain": [
       "<rich.jupyter.JupyterRenderable at 0x7f1c04ac9df0>"
      ]
     },
     "metadata": {},
     "output_type": "display_data"
    },
    {
     "name": "stderr",
     "output_type": "stream",
     "text": [
      "\n",
      "Feature Engineering Name: make_second_class\n"
     ]
    },
    {
     "name": "stdout",
     "output_type": "stream",
     "text": [
      "load features /home/j-gunmo/features/test_make_second_class.pkl to dataframe ... \n"
     ]
    },
    {
     "data": {
      "text/html": [
       "<pre style=\"white-space:pre;overflow-x:auto;line-height:normal;font-family:Menlo,'DejaVu Sans Mono',consolas,'Courier New',monospace\"><span style=\"color: #7fbfbf\">[06:02:10] </span><span style=\"color: #000080\">INFO    </span>                                                            <a href=\"file:///home/j-gunmo/desktop/00.my-project/17.P-Stage-T1003/4-STAGE/fe/feature.py\"><span style=\"color: #7f7f7f\">feature.py</span></a><span style=\"color: #7f7f7f\">:101</span>\n",
       "                    Feature Engineering Name: make_second_class                              \n",
       "</pre>\n"
      ],
      "text/plain": [
       "<rich.jupyter.JupyterRenderable at 0x7f1c04ac97c0>"
      ]
     },
     "metadata": {},
     "output_type": "display_data"
    },
    {
     "name": "stderr",
     "output_type": "stream",
     "text": [
      "\n",
      "secondClass     : 중분류에 해당합니다.\n"
     ]
    },
    {
     "data": {
      "text/html": [
       "<pre style=\"white-space:pre;overflow-x:auto;line-height:normal;font-family:Menlo,'DejaVu Sans Mono',consolas,'Courier New',monospace\"><span style=\"color: #7fbfbf\">           </span><span style=\"color: #000080\">INFO    </span>                                                            <a href=\"file:///home/j-gunmo/desktop/00.my-project/17.P-Stage-T1003/4-STAGE/fe/feature.py\"><span style=\"color: #7f7f7f\">feature.py</span></a><span style=\"color: #7f7f7f\">:104</span>\n",
       "                    secondClass     : 중분류에 해당합니다.                                   \n",
       "</pre>\n"
      ],
      "text/plain": [
       "<rich.jupyter.JupyterRenderable at 0x7f1c04ac99a0>"
      ]
     },
     "metadata": {},
     "output_type": "display_data"
    },
    {
     "name": "stderr",
     "output_type": "stream",
     "text": [
      "dtype: object\n"
     ]
    },
    {
     "data": {
      "text/html": [
       "<pre style=\"white-space:pre;overflow-x:auto;line-height:normal;font-family:Menlo,'DejaVu Sans Mono',consolas,'Courier New',monospace\"><span style=\"color: #7fbfbf\">           </span><span style=\"color: #000080\">INFO    </span> dtype: object                                              <a href=\"file:///home/j-gunmo/desktop/00.my-project/17.P-Stage-T1003/4-STAGE/fe/feature.py\"><span style=\"color: #7f7f7f\">feature.py</span></a><span style=\"color: #7f7f7f\">:105</span>\n",
       "</pre>\n"
      ],
      "text/plain": [
       "<rich.jupyter.JupyterRenderable at 0x7f1c04ac9fa0>"
      ]
     },
     "metadata": {},
     "output_type": "display_data"
    },
    {
     "name": "stderr",
     "output_type": "stream",
     "text": [
      "[Examples]\n"
     ]
    },
    {
     "data": {
      "text/html": [
       "<pre style=\"white-space:pre;overflow-x:auto;line-height:normal;font-family:Menlo,'DejaVu Sans Mono',consolas,'Courier New',monospace\"><span style=\"color: #7fbfbf\">           </span><span style=\"color: #000080\">INFO    </span> <span style=\"font-weight: bold\">[</span>Examples<span style=\"font-weight: bold\">]</span>                                                 <a href=\"file:///home/j-gunmo/desktop/00.my-project/17.P-Stage-T1003/4-STAGE/fe/feature.py\"><span style=\"color: #7f7f7f\">feature.py</span></a><span style=\"color: #7f7f7f\">:106</span>\n",
       "</pre>\n"
      ],
      "text/plain": [
       "<rich.jupyter.JupyterRenderable at 0x7f1c04ac9c40>"
      ]
     },
     "metadata": {},
     "output_type": "display_data"
    },
    {
     "name": "stderr",
     "output_type": "stream",
     "text": [
      "INDEX 0000: 2626\n"
     ]
    },
    {
     "data": {
      "text/html": [
       "<pre style=\"white-space:pre;overflow-x:auto;line-height:normal;font-family:Menlo,'DejaVu Sans Mono',consolas,'Courier New',monospace\"><span style=\"color: #7fbfbf\">           </span><span style=\"color: #000080\">INFO    </span> INDEX <span style=\"color: #000080; font-weight: bold\">0000</span>: <span style=\"color: #000080; font-weight: bold\">2626</span>                                           <a href=\"file:///home/j-gunmo/desktop/00.my-project/17.P-Stage-T1003/4-STAGE/fe/feature.py\"><span style=\"color: #7f7f7f\">feature.py</span></a><span style=\"color: #7f7f7f\">:109</span>\n",
       "</pre>\n"
      ],
      "text/plain": [
       "<rich.jupyter.JupyterRenderable at 0x7f1c04ac9df0>"
      ]
     },
     "metadata": {},
     "output_type": "display_data"
    },
    {
     "name": "stderr",
     "output_type": "stream",
     "text": [
      "INDEX 1000: 7693\n"
     ]
    },
    {
     "data": {
      "text/html": [
       "<pre style=\"white-space:pre;overflow-x:auto;line-height:normal;font-family:Menlo,'DejaVu Sans Mono',consolas,'Courier New',monospace\"><span style=\"color: #7fbfbf\">           </span><span style=\"color: #000080\">INFO    </span> INDEX <span style=\"color: #000080; font-weight: bold\">1000</span>: <span style=\"color: #000080; font-weight: bold\">7693</span>                                           <a href=\"file:///home/j-gunmo/desktop/00.my-project/17.P-Stage-T1003/4-STAGE/fe/feature.py\"><span style=\"color: #7f7f7f\">feature.py</span></a><span style=\"color: #7f7f7f\">:109</span>\n",
       "</pre>\n"
      ],
      "text/plain": [
       "<rich.jupyter.JupyterRenderable at 0x7f1c04ac9cd0>"
      ]
     },
     "metadata": {},
     "output_type": "display_data"
    },
    {
     "name": "stderr",
     "output_type": "stream",
     "text": [
      "INDEX 2000: 2617\n"
     ]
    },
    {
     "data": {
      "text/html": [
       "<pre style=\"white-space:pre;overflow-x:auto;line-height:normal;font-family:Menlo,'DejaVu Sans Mono',consolas,'Courier New',monospace\"><span style=\"color: #7fbfbf\">           </span><span style=\"color: #000080\">INFO    </span> INDEX <span style=\"color: #000080; font-weight: bold\">2000</span>: <span style=\"color: #000080; font-weight: bold\">2617</span>                                           <a href=\"file:///home/j-gunmo/desktop/00.my-project/17.P-Stage-T1003/4-STAGE/fe/feature.py\"><span style=\"color: #7f7f7f\">feature.py</span></a><span style=\"color: #7f7f7f\">:109</span>\n",
       "</pre>\n"
      ],
      "text/plain": [
       "<rich.jupyter.JupyterRenderable at 0x7f1c04ac9310>"
      ]
     },
     "metadata": {},
     "output_type": "display_data"
    },
    {
     "name": "stderr",
     "output_type": "stream",
     "text": [
      "INDEX 3000: 7924\n"
     ]
    },
    {
     "data": {
      "text/html": [
       "<pre style=\"white-space:pre;overflow-x:auto;line-height:normal;font-family:Menlo,'DejaVu Sans Mono',consolas,'Courier New',monospace\"><span style=\"color: #7fbfbf\">           </span><span style=\"color: #000080\">INFO    </span> INDEX <span style=\"color: #000080; font-weight: bold\">3000</span>: <span style=\"color: #000080; font-weight: bold\">7924</span>                                           <a href=\"file:///home/j-gunmo/desktop/00.my-project/17.P-Stage-T1003/4-STAGE/fe/feature.py\"><span style=\"color: #7f7f7f\">feature.py</span></a><span style=\"color: #7f7f7f\">:109</span>\n",
       "</pre>\n"
      ],
      "text/plain": [
       "<rich.jupyter.JupyterRenderable at 0x7f1c04ac9e80>"
      ]
     },
     "metadata": {},
     "output_type": "display_data"
    },
    {
     "name": "stderr",
     "output_type": "stream",
     "text": [
      "INDEX 4000: 2618\n"
     ]
    },
    {
     "data": {
      "text/html": [
       "<pre style=\"white-space:pre;overflow-x:auto;line-height:normal;font-family:Menlo,'DejaVu Sans Mono',consolas,'Courier New',monospace\"><span style=\"color: #7fbfbf\">           </span><span style=\"color: #000080\">INFO    </span> INDEX <span style=\"color: #000080; font-weight: bold\">4000</span>: <span style=\"color: #000080; font-weight: bold\">2618</span>                                           <a href=\"file:///home/j-gunmo/desktop/00.my-project/17.P-Stage-T1003/4-STAGE/fe/feature.py\"><span style=\"color: #7f7f7f\">feature.py</span></a><span style=\"color: #7f7f7f\">:109</span>\n",
       "</pre>\n"
      ],
      "text/plain": [
       "<rich.jupyter.JupyterRenderable at 0x7f1c04ac92b0>"
      ]
     },
     "metadata": {},
     "output_type": "display_data"
    },
    {
     "name": "stderr",
     "output_type": "stream",
     "text": [
      "INDEX 5000: 3729\n"
     ]
    },
    {
     "data": {
      "text/html": [
       "<pre style=\"white-space:pre;overflow-x:auto;line-height:normal;font-family:Menlo,'DejaVu Sans Mono',consolas,'Courier New',monospace\"><span style=\"color: #7fbfbf\">           </span><span style=\"color: #000080\">INFO    </span> INDEX <span style=\"color: #000080; font-weight: bold\">5000</span>: <span style=\"color: #000080; font-weight: bold\">3729</span>                                           <a href=\"file:///home/j-gunmo/desktop/00.my-project/17.P-Stage-T1003/4-STAGE/fe/feature.py\"><span style=\"color: #7f7f7f\">feature.py</span></a><span style=\"color: #7f7f7f\">:109</span>\n",
       "</pre>\n"
      ],
      "text/plain": [
       "<rich.jupyter.JupyterRenderable at 0x7f1c04ac9ee0>"
      ]
     },
     "metadata": {},
     "output_type": "display_data"
    },
    {
     "name": "stderr",
     "output_type": "stream",
     "text": [
      "INDEX 6000: 3827\n"
     ]
    },
    {
     "data": {
      "text/html": [
       "<pre style=\"white-space:pre;overflow-x:auto;line-height:normal;font-family:Menlo,'DejaVu Sans Mono',consolas,'Courier New',monospace\"><span style=\"color: #7fbfbf\">           </span><span style=\"color: #000080\">INFO    </span> INDEX <span style=\"color: #000080; font-weight: bold\">6000</span>: <span style=\"color: #000080; font-weight: bold\">3827</span>                                           <a href=\"file:///home/j-gunmo/desktop/00.my-project/17.P-Stage-T1003/4-STAGE/fe/feature.py\"><span style=\"color: #7f7f7f\">feature.py</span></a><span style=\"color: #7f7f7f\">:109</span>\n",
       "</pre>\n"
      ],
      "text/plain": [
       "<rich.jupyter.JupyterRenderable at 0x7f1c04ac9f10>"
      ]
     },
     "metadata": {},
     "output_type": "display_data"
    },
    {
     "name": "stderr",
     "output_type": "stream",
     "text": [
      "INDEX 7000: 395\n"
     ]
    },
    {
     "data": {
      "text/html": [
       "<pre style=\"white-space:pre;overflow-x:auto;line-height:normal;font-family:Menlo,'DejaVu Sans Mono',consolas,'Courier New',monospace\"><span style=\"color: #7fbfbf\">           </span><span style=\"color: #000080\">INFO    </span> INDEX <span style=\"color: #000080; font-weight: bold\">7000</span>: <span style=\"color: #000080; font-weight: bold\">395</span>                                            <a href=\"file:///home/j-gunmo/desktop/00.my-project/17.P-Stage-T1003/4-STAGE/fe/feature.py\"><span style=\"color: #7f7f7f\">feature.py</span></a><span style=\"color: #7f7f7f\">:109</span>\n",
       "</pre>\n"
      ],
      "text/plain": [
       "<rich.jupyter.JupyterRenderable at 0x7f1c04ac92b0>"
      ]
     },
     "metadata": {},
     "output_type": "display_data"
    },
    {
     "name": "stderr",
     "output_type": "stream",
     "text": [
      "INDEX 8000: 394\n"
     ]
    },
    {
     "data": {
      "text/html": [
       "<pre style=\"white-space:pre;overflow-x:auto;line-height:normal;font-family:Menlo,'DejaVu Sans Mono',consolas,'Courier New',monospace\"><span style=\"color: #7fbfbf\">           </span><span style=\"color: #000080\">INFO    </span> INDEX <span style=\"color: #000080; font-weight: bold\">8000</span>: <span style=\"color: #000080; font-weight: bold\">394</span>                                            <a href=\"file:///home/j-gunmo/desktop/00.my-project/17.P-Stage-T1003/4-STAGE/fe/feature.py\"><span style=\"color: #7f7f7f\">feature.py</span></a><span style=\"color: #7f7f7f\">:109</span>\n",
       "</pre>\n"
      ],
      "text/plain": [
       "<rich.jupyter.JupyterRenderable at 0x7f1c04ac93d0>"
      ]
     },
     "metadata": {},
     "output_type": "display_data"
    },
    {
     "name": "stderr",
     "output_type": "stream",
     "text": [
      "INDEX 9000: 5269\n"
     ]
    },
    {
     "data": {
      "text/html": [
       "<pre style=\"white-space:pre;overflow-x:auto;line-height:normal;font-family:Menlo,'DejaVu Sans Mono',consolas,'Courier New',monospace\"><span style=\"color: #7fbfbf\">           </span><span style=\"color: #000080\">INFO    </span> INDEX <span style=\"color: #000080; font-weight: bold\">9000</span>: <span style=\"color: #000080; font-weight: bold\">5269</span>                                           <a href=\"file:///home/j-gunmo/desktop/00.my-project/17.P-Stage-T1003/4-STAGE/fe/feature.py\"><span style=\"color: #7f7f7f\">feature.py</span></a><span style=\"color: #7f7f7f\">:109</span>\n",
       "</pre>\n"
      ],
      "text/plain": [
       "<rich.jupyter.JupyterRenderable at 0x7f1c04ac9f10>"
      ]
     },
     "metadata": {},
     "output_type": "display_data"
    },
    {
     "name": "stderr",
     "output_type": "stream",
     "text": [
      "\n",
      "Feature Engineering Name: make_correct_count\n"
     ]
    },
    {
     "name": "stdout",
     "output_type": "stream",
     "text": [
      "load features /home/j-gunmo/features/test_make_correct_count.pkl to dataframe ... \n"
     ]
    },
    {
     "data": {
      "text/html": [
       "<pre style=\"white-space:pre;overflow-x:auto;line-height:normal;font-family:Menlo,'DejaVu Sans Mono',consolas,'Courier New',monospace\"><span style=\"color: #7fbfbf\">           </span><span style=\"color: #000080\">INFO    </span>                                                            <a href=\"file:///home/j-gunmo/desktop/00.my-project/17.P-Stage-T1003/4-STAGE/fe/feature.py\"><span style=\"color: #7f7f7f\">feature.py</span></a><span style=\"color: #7f7f7f\">:101</span>\n",
       "                    Feature Engineering Name: make_correct_count                             \n",
       "</pre>\n"
      ],
      "text/plain": [
       "<rich.jupyter.JupyterRenderable at 0x7f1cdc7cf8e0>"
      ]
     },
     "metadata": {},
     "output_type": "display_data"
    },
    {
     "name": "stderr",
     "output_type": "stream",
     "text": [
      "\n",
      "correctCnt      : 사용자가 맞춘 문항수를 나타냅니다.\n"
     ]
    },
    {
     "data": {
      "text/html": [
       "<pre style=\"white-space:pre;overflow-x:auto;line-height:normal;font-family:Menlo,'DejaVu Sans Mono',consolas,'Courier New',monospace\"><span style=\"color: #7fbfbf\">           </span><span style=\"color: #000080\">INFO    </span>                                                            <a href=\"file:///home/j-gunmo/desktop/00.my-project/17.P-Stage-T1003/4-STAGE/fe/feature.py\"><span style=\"color: #7f7f7f\">feature.py</span></a><span style=\"color: #7f7f7f\">:104</span>\n",
       "                    correctCnt      : 사용자가 맞춘 문항수를 나타냅니다.                     \n",
       "</pre>\n"
      ],
      "text/plain": [
       "<rich.jupyter.JupyterRenderable at 0x7f1c04ac9f10>"
      ]
     },
     "metadata": {},
     "output_type": "display_data"
    },
    {
     "name": "stderr",
     "output_type": "stream",
     "text": [
      "dtype: int64\n"
     ]
    },
    {
     "data": {
      "text/html": [
       "<pre style=\"white-space:pre;overflow-x:auto;line-height:normal;font-family:Menlo,'DejaVu Sans Mono',consolas,'Courier New',monospace\"><span style=\"color: #7fbfbf\">           </span><span style=\"color: #000080\">INFO    </span> dtype: int64                                               <a href=\"file:///home/j-gunmo/desktop/00.my-project/17.P-Stage-T1003/4-STAGE/fe/feature.py\"><span style=\"color: #7f7f7f\">feature.py</span></a><span style=\"color: #7f7f7f\">:105</span>\n",
       "</pre>\n"
      ],
      "text/plain": [
       "<rich.jupyter.JupyterRenderable at 0x7f1c04ac9ca0>"
      ]
     },
     "metadata": {},
     "output_type": "display_data"
    },
    {
     "name": "stderr",
     "output_type": "stream",
     "text": [
      "[Examples]\n"
     ]
    },
    {
     "data": {
      "text/html": [
       "<pre style=\"white-space:pre;overflow-x:auto;line-height:normal;font-family:Menlo,'DejaVu Sans Mono',consolas,'Courier New',monospace\"><span style=\"color: #7fbfbf\">           </span><span style=\"color: #000080\">INFO    </span> <span style=\"font-weight: bold\">[</span>Examples<span style=\"font-weight: bold\">]</span>                                                 <a href=\"file:///home/j-gunmo/desktop/00.my-project/17.P-Stage-T1003/4-STAGE/fe/feature.py\"><span style=\"color: #7f7f7f\">feature.py</span></a><span style=\"color: #7f7f7f\">:106</span>\n",
       "</pre>\n"
      ],
      "text/plain": [
       "<rich.jupyter.JupyterRenderable at 0x7f1cdc7e72e0>"
      ]
     },
     "metadata": {},
     "output_type": "display_data"
    },
    {
     "name": "stderr",
     "output_type": "stream",
     "text": [
      "INDEX 0000: 716\n"
     ]
    },
    {
     "data": {
      "text/html": [
       "<pre style=\"white-space:pre;overflow-x:auto;line-height:normal;font-family:Menlo,'DejaVu Sans Mono',consolas,'Courier New',monospace\"><span style=\"color: #7fbfbf\">           </span><span style=\"color: #000080\">INFO    </span> INDEX <span style=\"color: #000080; font-weight: bold\">0000</span>: <span style=\"color: #000080; font-weight: bold\">716</span>                                            <a href=\"file:///home/j-gunmo/desktop/00.my-project/17.P-Stage-T1003/4-STAGE/fe/feature.py\"><span style=\"color: #7f7f7f\">feature.py</span></a><span style=\"color: #7f7f7f\">:109</span>\n",
       "</pre>\n"
      ],
      "text/plain": [
       "<rich.jupyter.JupyterRenderable at 0x7f1c1048e370>"
      ]
     },
     "metadata": {},
     "output_type": "display_data"
    },
    {
     "name": "stderr",
     "output_type": "stream",
     "text": [
      "INDEX 1000: 716\n"
     ]
    },
    {
     "data": {
      "text/html": [
       "<pre style=\"white-space:pre;overflow-x:auto;line-height:normal;font-family:Menlo,'DejaVu Sans Mono',consolas,'Courier New',monospace\"><span style=\"color: #7fbfbf\">           </span><span style=\"color: #000080\">INFO    </span> INDEX <span style=\"color: #000080; font-weight: bold\">1000</span>: <span style=\"color: #000080; font-weight: bold\">716</span>                                            <a href=\"file:///home/j-gunmo/desktop/00.my-project/17.P-Stage-T1003/4-STAGE/fe/feature.py\"><span style=\"color: #7f7f7f\">feature.py</span></a><span style=\"color: #7f7f7f\">:109</span>\n",
       "</pre>\n"
      ],
      "text/plain": [
       "<rich.jupyter.JupyterRenderable at 0x7f1cdc7dc820>"
      ]
     },
     "metadata": {},
     "output_type": "display_data"
    },
    {
     "name": "stderr",
     "output_type": "stream",
     "text": [
      "INDEX 2000: 716\n"
     ]
    },
    {
     "data": {
      "text/html": [
       "<pre style=\"white-space:pre;overflow-x:auto;line-height:normal;font-family:Menlo,'DejaVu Sans Mono',consolas,'Courier New',monospace\"><span style=\"color: #7fbfbf\">           </span><span style=\"color: #000080\">INFO    </span> INDEX <span style=\"color: #000080; font-weight: bold\">2000</span>: <span style=\"color: #000080; font-weight: bold\">716</span>                                            <a href=\"file:///home/j-gunmo/desktop/00.my-project/17.P-Stage-T1003/4-STAGE/fe/feature.py\"><span style=\"color: #7f7f7f\">feature.py</span></a><span style=\"color: #7f7f7f\">:109</span>\n",
       "</pre>\n"
      ],
      "text/plain": [
       "<rich.jupyter.JupyterRenderable at 0x7f1c04ac9f10>"
      ]
     },
     "metadata": {},
     "output_type": "display_data"
    },
    {
     "name": "stderr",
     "output_type": "stream",
     "text": [
      "INDEX 3000: 716\n"
     ]
    },
    {
     "data": {
      "text/html": [
       "<pre style=\"white-space:pre;overflow-x:auto;line-height:normal;font-family:Menlo,'DejaVu Sans Mono',consolas,'Courier New',monospace\"><span style=\"color: #7fbfbf\">           </span><span style=\"color: #000080\">INFO    </span> INDEX <span style=\"color: #000080; font-weight: bold\">3000</span>: <span style=\"color: #000080; font-weight: bold\">716</span>                                            <a href=\"file:///home/j-gunmo/desktop/00.my-project/17.P-Stage-T1003/4-STAGE/fe/feature.py\"><span style=\"color: #7f7f7f\">feature.py</span></a><span style=\"color: #7f7f7f\">:109</span>\n",
       "</pre>\n"
      ],
      "text/plain": [
       "<rich.jupyter.JupyterRenderable at 0x7f1c04ac9640>"
      ]
     },
     "metadata": {},
     "output_type": "display_data"
    },
    {
     "name": "stderr",
     "output_type": "stream",
     "text": [
      "INDEX 4000: 716\n"
     ]
    },
    {
     "data": {
      "text/html": [
       "<pre style=\"white-space:pre;overflow-x:auto;line-height:normal;font-family:Menlo,'DejaVu Sans Mono',consolas,'Courier New',monospace\"><span style=\"color: #7fbfbf\">           </span><span style=\"color: #000080\">INFO    </span> INDEX <span style=\"color: #000080; font-weight: bold\">4000</span>: <span style=\"color: #000080; font-weight: bold\">716</span>                                            <a href=\"file:///home/j-gunmo/desktop/00.my-project/17.P-Stage-T1003/4-STAGE/fe/feature.py\"><span style=\"color: #7f7f7f\">feature.py</span></a><span style=\"color: #7f7f7f\">:109</span>\n",
       "</pre>\n"
      ],
      "text/plain": [
       "<rich.jupyter.JupyterRenderable at 0x7f1c04ac9ee0>"
      ]
     },
     "metadata": {},
     "output_type": "display_data"
    },
    {
     "name": "stderr",
     "output_type": "stream",
     "text": [
      "INDEX 5000: 716\n"
     ]
    },
    {
     "data": {
      "text/html": [
       "<pre style=\"white-space:pre;overflow-x:auto;line-height:normal;font-family:Menlo,'DejaVu Sans Mono',consolas,'Courier New',monospace\"><span style=\"color: #7fbfbf\">           </span><span style=\"color: #000080\">INFO    </span> INDEX <span style=\"color: #000080; font-weight: bold\">5000</span>: <span style=\"color: #000080; font-weight: bold\">716</span>                                            <a href=\"file:///home/j-gunmo/desktop/00.my-project/17.P-Stage-T1003/4-STAGE/fe/feature.py\"><span style=\"color: #7f7f7f\">feature.py</span></a><span style=\"color: #7f7f7f\">:109</span>\n",
       "</pre>\n"
      ],
      "text/plain": [
       "<rich.jupyter.JupyterRenderable at 0x7f1c04ac92b0>"
      ]
     },
     "metadata": {},
     "output_type": "display_data"
    },
    {
     "name": "stderr",
     "output_type": "stream",
     "text": [
      "INDEX 6000: 716\n"
     ]
    },
    {
     "data": {
      "text/html": [
       "<pre style=\"white-space:pre;overflow-x:auto;line-height:normal;font-family:Menlo,'DejaVu Sans Mono',consolas,'Courier New',monospace\"><span style=\"color: #7fbfbf\">           </span><span style=\"color: #000080\">INFO    </span> INDEX <span style=\"color: #000080; font-weight: bold\">6000</span>: <span style=\"color: #000080; font-weight: bold\">716</span>                                            <a href=\"file:///home/j-gunmo/desktop/00.my-project/17.P-Stage-T1003/4-STAGE/fe/feature.py\"><span style=\"color: #7f7f7f\">feature.py</span></a><span style=\"color: #7f7f7f\">:109</span>\n",
       "</pre>\n"
      ],
      "text/plain": [
       "<rich.jupyter.JupyterRenderable at 0x7f1c04ac9d60>"
      ]
     },
     "metadata": {},
     "output_type": "display_data"
    },
    {
     "name": "stderr",
     "output_type": "stream",
     "text": [
      "INDEX 7000: 716\n"
     ]
    },
    {
     "data": {
      "text/html": [
       "<pre style=\"white-space:pre;overflow-x:auto;line-height:normal;font-family:Menlo,'DejaVu Sans Mono',consolas,'Courier New',monospace\"><span style=\"color: #7fbfbf\">           </span><span style=\"color: #000080\">INFO    </span> INDEX <span style=\"color: #000080; font-weight: bold\">7000</span>: <span style=\"color: #000080; font-weight: bold\">716</span>                                            <a href=\"file:///home/j-gunmo/desktop/00.my-project/17.P-Stage-T1003/4-STAGE/fe/feature.py\"><span style=\"color: #7f7f7f\">feature.py</span></a><span style=\"color: #7f7f7f\">:109</span>\n",
       "</pre>\n"
      ],
      "text/plain": [
       "<rich.jupyter.JupyterRenderable at 0x7f1c04ac9cd0>"
      ]
     },
     "metadata": {},
     "output_type": "display_data"
    },
    {
     "name": "stderr",
     "output_type": "stream",
     "text": [
      "INDEX 8000: 716\n"
     ]
    },
    {
     "data": {
      "text/html": [
       "<pre style=\"white-space:pre;overflow-x:auto;line-height:normal;font-family:Menlo,'DejaVu Sans Mono',consolas,'Courier New',monospace\"><span style=\"color: #7fbfbf\">           </span><span style=\"color: #000080\">INFO    </span> INDEX <span style=\"color: #000080; font-weight: bold\">8000</span>: <span style=\"color: #000080; font-weight: bold\">716</span>                                            <a href=\"file:///home/j-gunmo/desktop/00.my-project/17.P-Stage-T1003/4-STAGE/fe/feature.py\"><span style=\"color: #7f7f7f\">feature.py</span></a><span style=\"color: #7f7f7f\">:109</span>\n",
       "</pre>\n"
      ],
      "text/plain": [
       "<rich.jupyter.JupyterRenderable at 0x7f1c04ac9f10>"
      ]
     },
     "metadata": {},
     "output_type": "display_data"
    },
    {
     "name": "stderr",
     "output_type": "stream",
     "text": [
      "INDEX 9000: 716\n"
     ]
    },
    {
     "data": {
      "text/html": [
       "<pre style=\"white-space:pre;overflow-x:auto;line-height:normal;font-family:Menlo,'DejaVu Sans Mono',consolas,'Courier New',monospace\"><span style=\"color: #7fbfbf\">           </span><span style=\"color: #000080\">INFO    </span> INDEX <span style=\"color: #000080; font-weight: bold\">9000</span>: <span style=\"color: #000080; font-weight: bold\">716</span>                                            <a href=\"file:///home/j-gunmo/desktop/00.my-project/17.P-Stage-T1003/4-STAGE/fe/feature.py\"><span style=\"color: #7f7f7f\">feature.py</span></a><span style=\"color: #7f7f7f\">:109</span>\n",
       "</pre>\n"
      ],
      "text/plain": [
       "<rich.jupyter.JupyterRenderable at 0x7f1c04ac9640>"
      ]
     },
     "metadata": {},
     "output_type": "display_data"
    },
    {
     "name": "stdout",
     "output_type": "stream",
     "text": [
      "load features /home/j-gunmo/features/test_make_question_count.pkl to dataframe ... \n"
     ]
    },
    {
     "name": "stderr",
     "output_type": "stream",
     "text": [
      "\n",
      "Feature Engineering Name: make_question_count\n"
     ]
    },
    {
     "data": {
      "text/html": [
       "<pre style=\"white-space:pre;overflow-x:auto;line-height:normal;font-family:Menlo,'DejaVu Sans Mono',consolas,'Courier New',monospace\"><span style=\"color: #7fbfbf\">           </span><span style=\"color: #000080\">INFO    </span>                                                            <a href=\"file:///home/j-gunmo/desktop/00.my-project/17.P-Stage-T1003/4-STAGE/fe/feature.py\"><span style=\"color: #7f7f7f\">feature.py</span></a><span style=\"color: #7f7f7f\">:101</span>\n",
       "                    Feature Engineering Name: make_question_count                            \n",
       "</pre>\n"
      ],
      "text/plain": [
       "<rich.jupyter.JupyterRenderable at 0x7f1c04ac9490>"
      ]
     },
     "metadata": {},
     "output_type": "display_data"
    },
    {
     "name": "stderr",
     "output_type": "stream",
     "text": [
      "\n",
      "quesCnt         : 사용자가 푼 문항수를 나타냅니다.\n"
     ]
    },
    {
     "data": {
      "text/html": [
       "<pre style=\"white-space:pre;overflow-x:auto;line-height:normal;font-family:Menlo,'DejaVu Sans Mono',consolas,'Courier New',monospace\"><span style=\"color: #7fbfbf\">           </span><span style=\"color: #000080\">INFO    </span>                                                            <a href=\"file:///home/j-gunmo/desktop/00.my-project/17.P-Stage-T1003/4-STAGE/fe/feature.py\"><span style=\"color: #7f7f7f\">feature.py</span></a><span style=\"color: #7f7f7f\">:104</span>\n",
       "                    quesCnt         : 사용자가 푼 문항수를 나타냅니다.                       \n",
       "</pre>\n"
      ],
      "text/plain": [
       "<rich.jupyter.JupyterRenderable at 0x7f1c04ac9ca0>"
      ]
     },
     "metadata": {},
     "output_type": "display_data"
    },
    {
     "name": "stderr",
     "output_type": "stream",
     "text": [
      "dtype: int64\n"
     ]
    },
    {
     "data": {
      "text/html": [
       "<pre style=\"white-space:pre;overflow-x:auto;line-height:normal;font-family:Menlo,'DejaVu Sans Mono',consolas,'Courier New',monospace\"><span style=\"color: #7fbfbf\">           </span><span style=\"color: #000080\">INFO    </span> dtype: int64                                               <a href=\"file:///home/j-gunmo/desktop/00.my-project/17.P-Stage-T1003/4-STAGE/fe/feature.py\"><span style=\"color: #7f7f7f\">feature.py</span></a><span style=\"color: #7f7f7f\">:105</span>\n",
       "</pre>\n"
      ],
      "text/plain": [
       "<rich.jupyter.JupyterRenderable at 0x7f1cdc7c9550>"
      ]
     },
     "metadata": {},
     "output_type": "display_data"
    },
    {
     "name": "stderr",
     "output_type": "stream",
     "text": [
      "[Examples]\n"
     ]
    },
    {
     "data": {
      "text/html": [
       "<pre style=\"white-space:pre;overflow-x:auto;line-height:normal;font-family:Menlo,'DejaVu Sans Mono',consolas,'Courier New',monospace\"><span style=\"color: #7fbfbf\">           </span><span style=\"color: #000080\">INFO    </span> <span style=\"font-weight: bold\">[</span>Examples<span style=\"font-weight: bold\">]</span>                                                 <a href=\"file:///home/j-gunmo/desktop/00.my-project/17.P-Stage-T1003/4-STAGE/fe/feature.py\"><span style=\"color: #7f7f7f\">feature.py</span></a><span style=\"color: #7f7f7f\">:106</span>\n",
       "</pre>\n"
      ],
      "text/plain": [
       "<rich.jupyter.JupyterRenderable at 0x7f1c04ac93d0>"
      ]
     },
     "metadata": {},
     "output_type": "display_data"
    },
    {
     "name": "stderr",
     "output_type": "stream",
     "text": [
      "INDEX 0000: 1036\n"
     ]
    },
    {
     "data": {
      "text/html": [
       "<pre style=\"white-space:pre;overflow-x:auto;line-height:normal;font-family:Menlo,'DejaVu Sans Mono',consolas,'Courier New',monospace\"><span style=\"color: #7fbfbf\">           </span><span style=\"color: #000080\">INFO    </span> INDEX <span style=\"color: #000080; font-weight: bold\">0000</span>: <span style=\"color: #000080; font-weight: bold\">1036</span>                                           <a href=\"file:///home/j-gunmo/desktop/00.my-project/17.P-Stage-T1003/4-STAGE/fe/feature.py\"><span style=\"color: #7f7f7f\">feature.py</span></a><span style=\"color: #7f7f7f\">:109</span>\n",
       "</pre>\n"
      ],
      "text/plain": [
       "<rich.jupyter.JupyterRenderable at 0x7f1cdc7cfcd0>"
      ]
     },
     "metadata": {},
     "output_type": "display_data"
    },
    {
     "name": "stderr",
     "output_type": "stream",
     "text": [
      "INDEX 1000: 1036\n"
     ]
    },
    {
     "data": {
      "text/html": [
       "<pre style=\"white-space:pre;overflow-x:auto;line-height:normal;font-family:Menlo,'DejaVu Sans Mono',consolas,'Courier New',monospace\"><span style=\"color: #7fbfbf\">           </span><span style=\"color: #000080\">INFO    </span> INDEX <span style=\"color: #000080; font-weight: bold\">1000</span>: <span style=\"color: #000080; font-weight: bold\">1036</span>                                           <a href=\"file:///home/j-gunmo/desktop/00.my-project/17.P-Stage-T1003/4-STAGE/fe/feature.py\"><span style=\"color: #7f7f7f\">feature.py</span></a><span style=\"color: #7f7f7f\">:109</span>\n",
       "</pre>\n"
      ],
      "text/plain": [
       "<rich.jupyter.JupyterRenderable at 0x7f1cdc7c9550>"
      ]
     },
     "metadata": {},
     "output_type": "display_data"
    },
    {
     "name": "stderr",
     "output_type": "stream",
     "text": [
      "INDEX 2000: 1036\n"
     ]
    },
    {
     "data": {
      "text/html": [
       "<pre style=\"white-space:pre;overflow-x:auto;line-height:normal;font-family:Menlo,'DejaVu Sans Mono',consolas,'Courier New',monospace\"><span style=\"color: #7fbfbf\">           </span><span style=\"color: #000080\">INFO    </span> INDEX <span style=\"color: #000080; font-weight: bold\">2000</span>: <span style=\"color: #000080; font-weight: bold\">1036</span>                                           <a href=\"file:///home/j-gunmo/desktop/00.my-project/17.P-Stage-T1003/4-STAGE/fe/feature.py\"><span style=\"color: #7f7f7f\">feature.py</span></a><span style=\"color: #7f7f7f\">:109</span>\n",
       "</pre>\n"
      ],
      "text/plain": [
       "<rich.jupyter.JupyterRenderable at 0x7f1cdc7e7250>"
      ]
     },
     "metadata": {},
     "output_type": "display_data"
    },
    {
     "name": "stderr",
     "output_type": "stream",
     "text": [
      "INDEX 3000: 1036\n"
     ]
    },
    {
     "data": {
      "text/html": [
       "<pre style=\"white-space:pre;overflow-x:auto;line-height:normal;font-family:Menlo,'DejaVu Sans Mono',consolas,'Courier New',monospace\"><span style=\"color: #7fbfbf\">           </span><span style=\"color: #000080\">INFO    </span> INDEX <span style=\"color: #000080; font-weight: bold\">3000</span>: <span style=\"color: #000080; font-weight: bold\">1036</span>                                           <a href=\"file:///home/j-gunmo/desktop/00.my-project/17.P-Stage-T1003/4-STAGE/fe/feature.py\"><span style=\"color: #7f7f7f\">feature.py</span></a><span style=\"color: #7f7f7f\">:109</span>\n",
       "</pre>\n"
      ],
      "text/plain": [
       "<rich.jupyter.JupyterRenderable at 0x7f1c04ac9fa0>"
      ]
     },
     "metadata": {},
     "output_type": "display_data"
    },
    {
     "name": "stderr",
     "output_type": "stream",
     "text": [
      "INDEX 4000: 1036\n"
     ]
    },
    {
     "data": {
      "text/html": [
       "<pre style=\"white-space:pre;overflow-x:auto;line-height:normal;font-family:Menlo,'DejaVu Sans Mono',consolas,'Courier New',monospace\"><span style=\"color: #7fbfbf\">           </span><span style=\"color: #000080\">INFO    </span> INDEX <span style=\"color: #000080; font-weight: bold\">4000</span>: <span style=\"color: #000080; font-weight: bold\">1036</span>                                           <a href=\"file:///home/j-gunmo/desktop/00.my-project/17.P-Stage-T1003/4-STAGE/fe/feature.py\"><span style=\"color: #7f7f7f\">feature.py</span></a><span style=\"color: #7f7f7f\">:109</span>\n",
       "</pre>\n"
      ],
      "text/plain": [
       "<rich.jupyter.JupyterRenderable at 0x7f1c04ac9cd0>"
      ]
     },
     "metadata": {},
     "output_type": "display_data"
    },
    {
     "name": "stderr",
     "output_type": "stream",
     "text": [
      "INDEX 5000: 1036\n"
     ]
    },
    {
     "data": {
      "text/html": [
       "<pre style=\"white-space:pre;overflow-x:auto;line-height:normal;font-family:Menlo,'DejaVu Sans Mono',consolas,'Courier New',monospace\"><span style=\"color: #7fbfbf\">           </span><span style=\"color: #000080\">INFO    </span> INDEX <span style=\"color: #000080; font-weight: bold\">5000</span>: <span style=\"color: #000080; font-weight: bold\">1036</span>                                           <a href=\"file:///home/j-gunmo/desktop/00.my-project/17.P-Stage-T1003/4-STAGE/fe/feature.py\"><span style=\"color: #7f7f7f\">feature.py</span></a><span style=\"color: #7f7f7f\">:109</span>\n",
       "</pre>\n"
      ],
      "text/plain": [
       "<rich.jupyter.JupyterRenderable at 0x7f1c04ac9e80>"
      ]
     },
     "metadata": {},
     "output_type": "display_data"
    },
    {
     "name": "stderr",
     "output_type": "stream",
     "text": [
      "INDEX 6000: 1036\n"
     ]
    },
    {
     "data": {
      "text/html": [
       "<pre style=\"white-space:pre;overflow-x:auto;line-height:normal;font-family:Menlo,'DejaVu Sans Mono',consolas,'Courier New',monospace\"><span style=\"color: #7fbfbf\">           </span><span style=\"color: #000080\">INFO    </span> INDEX <span style=\"color: #000080; font-weight: bold\">6000</span>: <span style=\"color: #000080; font-weight: bold\">1036</span>                                           <a href=\"file:///home/j-gunmo/desktop/00.my-project/17.P-Stage-T1003/4-STAGE/fe/feature.py\"><span style=\"color: #7f7f7f\">feature.py</span></a><span style=\"color: #7f7f7f\">:109</span>\n",
       "</pre>\n"
      ],
      "text/plain": [
       "<rich.jupyter.JupyterRenderable at 0x7f1cdc7cf7c0>"
      ]
     },
     "metadata": {},
     "output_type": "display_data"
    },
    {
     "name": "stderr",
     "output_type": "stream",
     "text": [
      "INDEX 7000: 1036\n"
     ]
    },
    {
     "data": {
      "text/html": [
       "<pre style=\"white-space:pre;overflow-x:auto;line-height:normal;font-family:Menlo,'DejaVu Sans Mono',consolas,'Courier New',monospace\"><span style=\"color: #7fbfbf\">           </span><span style=\"color: #000080\">INFO    </span> INDEX <span style=\"color: #000080; font-weight: bold\">7000</span>: <span style=\"color: #000080; font-weight: bold\">1036</span>                                           <a href=\"file:///home/j-gunmo/desktop/00.my-project/17.P-Stage-T1003/4-STAGE/fe/feature.py\"><span style=\"color: #7f7f7f\">feature.py</span></a><span style=\"color: #7f7f7f\">:109</span>\n",
       "</pre>\n"
      ],
      "text/plain": [
       "<rich.jupyter.JupyterRenderable at 0x7f1c04ac97c0>"
      ]
     },
     "metadata": {},
     "output_type": "display_data"
    },
    {
     "name": "stderr",
     "output_type": "stream",
     "text": [
      "INDEX 8000: 1036\n"
     ]
    },
    {
     "data": {
      "text/html": [
       "<pre style=\"white-space:pre;overflow-x:auto;line-height:normal;font-family:Menlo,'DejaVu Sans Mono',consolas,'Courier New',monospace\"><span style=\"color: #7fbfbf\">           </span><span style=\"color: #000080\">INFO    </span> INDEX <span style=\"color: #000080; font-weight: bold\">8000</span>: <span style=\"color: #000080; font-weight: bold\">1036</span>                                           <a href=\"file:///home/j-gunmo/desktop/00.my-project/17.P-Stage-T1003/4-STAGE/fe/feature.py\"><span style=\"color: #7f7f7f\">feature.py</span></a><span style=\"color: #7f7f7f\">:109</span>\n",
       "</pre>\n"
      ],
      "text/plain": [
       "<rich.jupyter.JupyterRenderable at 0x7f1c04ac9bb0>"
      ]
     },
     "metadata": {},
     "output_type": "display_data"
    },
    {
     "name": "stderr",
     "output_type": "stream",
     "text": [
      "INDEX 9000: 1036\n"
     ]
    },
    {
     "data": {
      "text/html": [
       "<pre style=\"white-space:pre;overflow-x:auto;line-height:normal;font-family:Menlo,'DejaVu Sans Mono',consolas,'Courier New',monospace\"><span style=\"color: #7fbfbf\">           </span><span style=\"color: #000080\">INFO    </span> INDEX <span style=\"color: #000080; font-weight: bold\">9000</span>: <span style=\"color: #000080; font-weight: bold\">1036</span>                                           <a href=\"file:///home/j-gunmo/desktop/00.my-project/17.P-Stage-T1003/4-STAGE/fe/feature.py\"><span style=\"color: #7f7f7f\">feature.py</span></a><span style=\"color: #7f7f7f\">:109</span>\n",
       "</pre>\n"
      ],
      "text/plain": [
       "<rich.jupyter.JupyterRenderable at 0x7f1cdc7e7250>"
      ]
     },
     "metadata": {},
     "output_type": "display_data"
    },
    {
     "name": "stdout",
     "output_type": "stream",
     "text": [
      "load features /home/j-gunmo/features/test_make_correct_percent.pkl to dataframe ... \n"
     ]
    },
    {
     "name": "stderr",
     "output_type": "stream",
     "text": [
      "\n",
      "Feature Engineering Name: make_correct_percent\n"
     ]
    },
    {
     "data": {
      "text/html": [
       "<pre style=\"white-space:pre;overflow-x:auto;line-height:normal;font-family:Menlo,'DejaVu Sans Mono',consolas,'Courier New',monospace\"><span style=\"color: #7fbfbf\">           </span><span style=\"color: #000080\">INFO    </span>                                                            <a href=\"file:///home/j-gunmo/desktop/00.my-project/17.P-Stage-T1003/4-STAGE/fe/feature.py\"><span style=\"color: #7f7f7f\">feature.py</span></a><span style=\"color: #7f7f7f\">:101</span>\n",
       "                    Feature Engineering Name: make_correct_percent                           \n",
       "</pre>\n"
      ],
      "text/plain": [
       "<rich.jupyter.JupyterRenderable at 0x7f1cdc7dc820>"
      ]
     },
     "metadata": {},
     "output_type": "display_data"
    },
    {
     "name": "stderr",
     "output_type": "stream",
     "text": [
      "\n",
      "correctPer      : 사용자가 푼 전체 문항에 대한 정답률입니다.\n"
     ]
    },
    {
     "data": {
      "text/html": [
       "<pre style=\"white-space:pre;overflow-x:auto;line-height:normal;font-family:Menlo,'DejaVu Sans Mono',consolas,'Courier New',monospace\"><span style=\"color: #7fbfbf\">           </span><span style=\"color: #000080\">INFO    </span>                                                            <a href=\"file:///home/j-gunmo/desktop/00.my-project/17.P-Stage-T1003/4-STAGE/fe/feature.py\"><span style=\"color: #7f7f7f\">feature.py</span></a><span style=\"color: #7f7f7f\">:104</span>\n",
       "                    correctPer      : 사용자가 푼 전체 문항에 대한                           \n",
       "                    정답률입니다.                                                            \n",
       "</pre>\n"
      ],
      "text/plain": [
       "<rich.jupyter.JupyterRenderable at 0x7f1c04ac99a0>"
      ]
     },
     "metadata": {},
     "output_type": "display_data"
    },
    {
     "name": "stderr",
     "output_type": "stream",
     "text": [
      "dtype: float64\n"
     ]
    },
    {
     "data": {
      "text/html": [
       "<pre style=\"white-space:pre;overflow-x:auto;line-height:normal;font-family:Menlo,'DejaVu Sans Mono',consolas,'Courier New',monospace\"><span style=\"color: #7fbfbf\">           </span><span style=\"color: #000080\">INFO    </span> dtype: float64                                             <a href=\"file:///home/j-gunmo/desktop/00.my-project/17.P-Stage-T1003/4-STAGE/fe/feature.py\"><span style=\"color: #7f7f7f\">feature.py</span></a><span style=\"color: #7f7f7f\">:105</span>\n",
       "</pre>\n"
      ],
      "text/plain": [
       "<rich.jupyter.JupyterRenderable at 0x7f1c04ac9940>"
      ]
     },
     "metadata": {},
     "output_type": "display_data"
    },
    {
     "name": "stderr",
     "output_type": "stream",
     "text": [
      "[Examples]\n"
     ]
    },
    {
     "data": {
      "text/html": [
       "<pre style=\"white-space:pre;overflow-x:auto;line-height:normal;font-family:Menlo,'DejaVu Sans Mono',consolas,'Courier New',monospace\"><span style=\"color: #7fbfbf\">           </span><span style=\"color: #000080\">INFO    </span> <span style=\"font-weight: bold\">[</span>Examples<span style=\"font-weight: bold\">]</span>                                                 <a href=\"file:///home/j-gunmo/desktop/00.my-project/17.P-Stage-T1003/4-STAGE/fe/feature.py\"><span style=\"color: #7f7f7f\">feature.py</span></a><span style=\"color: #7f7f7f\">:106</span>\n",
       "</pre>\n"
      ],
      "text/plain": [
       "<rich.jupyter.JupyterRenderable at 0x7f1c04ac9310>"
      ]
     },
     "metadata": {},
     "output_type": "display_data"
    },
    {
     "name": "stderr",
     "output_type": "stream",
     "text": [
      "INDEX 0000: 0.6911196911196911\n"
     ]
    },
    {
     "data": {
      "text/html": [
       "<pre style=\"white-space:pre;overflow-x:auto;line-height:normal;font-family:Menlo,'DejaVu Sans Mono',consolas,'Courier New',monospace\"><span style=\"color: #7fbfbf\">           </span><span style=\"color: #000080\">INFO    </span> INDEX <span style=\"color: #000080; font-weight: bold\">0000</span>: <span style=\"color: #000080; font-weight: bold\">0.6911196911196911</span>                             <a href=\"file:///home/j-gunmo/desktop/00.my-project/17.P-Stage-T1003/4-STAGE/fe/feature.py\"><span style=\"color: #7f7f7f\">feature.py</span></a><span style=\"color: #7f7f7f\">:109</span>\n",
       "</pre>\n"
      ],
      "text/plain": [
       "<rich.jupyter.JupyterRenderable at 0x7f1cdc7dc820>"
      ]
     },
     "metadata": {},
     "output_type": "display_data"
    },
    {
     "name": "stderr",
     "output_type": "stream",
     "text": [
      "INDEX 1000: 0.6911196911196911\n"
     ]
    },
    {
     "data": {
      "text/html": [
       "<pre style=\"white-space:pre;overflow-x:auto;line-height:normal;font-family:Menlo,'DejaVu Sans Mono',consolas,'Courier New',monospace\"><span style=\"color: #7fbfbf\">           </span><span style=\"color: #000080\">INFO    </span> INDEX <span style=\"color: #000080; font-weight: bold\">1000</span>: <span style=\"color: #000080; font-weight: bold\">0.6911196911196911</span>                             <a href=\"file:///home/j-gunmo/desktop/00.my-project/17.P-Stage-T1003/4-STAGE/fe/feature.py\"><span style=\"color: #7f7f7f\">feature.py</span></a><span style=\"color: #7f7f7f\">:109</span>\n",
       "</pre>\n"
      ],
      "text/plain": [
       "<rich.jupyter.JupyterRenderable at 0x7f1c04ac9490>"
      ]
     },
     "metadata": {},
     "output_type": "display_data"
    },
    {
     "name": "stderr",
     "output_type": "stream",
     "text": [
      "INDEX 2000: 0.6911196911196911\n"
     ]
    },
    {
     "data": {
      "text/html": [
       "<pre style=\"white-space:pre;overflow-x:auto;line-height:normal;font-family:Menlo,'DejaVu Sans Mono',consolas,'Courier New',monospace\"><span style=\"color: #7fbfbf\">           </span><span style=\"color: #000080\">INFO    </span> INDEX <span style=\"color: #000080; font-weight: bold\">2000</span>: <span style=\"color: #000080; font-weight: bold\">0.6911196911196911</span>                             <a href=\"file:///home/j-gunmo/desktop/00.my-project/17.P-Stage-T1003/4-STAGE/fe/feature.py\"><span style=\"color: #7f7f7f\">feature.py</span></a><span style=\"color: #7f7f7f\">:109</span>\n",
       "</pre>\n"
      ],
      "text/plain": [
       "<rich.jupyter.JupyterRenderable at 0x7f1c04ac9310>"
      ]
     },
     "metadata": {},
     "output_type": "display_data"
    },
    {
     "name": "stderr",
     "output_type": "stream",
     "text": [
      "INDEX 3000: 0.6911196911196911\n"
     ]
    },
    {
     "data": {
      "text/html": [
       "<pre style=\"white-space:pre;overflow-x:auto;line-height:normal;font-family:Menlo,'DejaVu Sans Mono',consolas,'Courier New',monospace\"><span style=\"color: #7fbfbf\">           </span><span style=\"color: #000080\">INFO    </span> INDEX <span style=\"color: #000080; font-weight: bold\">3000</span>: <span style=\"color: #000080; font-weight: bold\">0.6911196911196911</span>                             <a href=\"file:///home/j-gunmo/desktop/00.my-project/17.P-Stage-T1003/4-STAGE/fe/feature.py\"><span style=\"color: #7f7f7f\">feature.py</span></a><span style=\"color: #7f7f7f\">:109</span>\n",
       "</pre>\n"
      ],
      "text/plain": [
       "<rich.jupyter.JupyterRenderable at 0x7f1c04ac9ca0>"
      ]
     },
     "metadata": {},
     "output_type": "display_data"
    },
    {
     "name": "stderr",
     "output_type": "stream",
     "text": [
      "INDEX 4000: 0.6911196911196911\n"
     ]
    },
    {
     "data": {
      "text/html": [
       "<pre style=\"white-space:pre;overflow-x:auto;line-height:normal;font-family:Menlo,'DejaVu Sans Mono',consolas,'Courier New',monospace\"><span style=\"color: #7fbfbf\">           </span><span style=\"color: #000080\">INFO    </span> INDEX <span style=\"color: #000080; font-weight: bold\">4000</span>: <span style=\"color: #000080; font-weight: bold\">0.6911196911196911</span>                             <a href=\"file:///home/j-gunmo/desktop/00.my-project/17.P-Stage-T1003/4-STAGE/fe/feature.py\"><span style=\"color: #7f7f7f\">feature.py</span></a><span style=\"color: #7f7f7f\">:109</span>\n",
       "</pre>\n"
      ],
      "text/plain": [
       "<rich.jupyter.JupyterRenderable at 0x7f1c04ac9ee0>"
      ]
     },
     "metadata": {},
     "output_type": "display_data"
    },
    {
     "name": "stderr",
     "output_type": "stream",
     "text": [
      "INDEX 5000: 0.6911196911196911\n"
     ]
    },
    {
     "data": {
      "text/html": [
       "<pre style=\"white-space:pre;overflow-x:auto;line-height:normal;font-family:Menlo,'DejaVu Sans Mono',consolas,'Courier New',monospace\"><span style=\"color: #7fbfbf\">           </span><span style=\"color: #000080\">INFO    </span> INDEX <span style=\"color: #000080; font-weight: bold\">5000</span>: <span style=\"color: #000080; font-weight: bold\">0.6911196911196911</span>                             <a href=\"file:///home/j-gunmo/desktop/00.my-project/17.P-Stage-T1003/4-STAGE/fe/feature.py\"><span style=\"color: #7f7f7f\">feature.py</span></a><span style=\"color: #7f7f7f\">:109</span>\n",
       "</pre>\n"
      ],
      "text/plain": [
       "<rich.jupyter.JupyterRenderable at 0x7f1c04ac9310>"
      ]
     },
     "metadata": {},
     "output_type": "display_data"
    },
    {
     "name": "stderr",
     "output_type": "stream",
     "text": [
      "INDEX 6000: 0.6911196911196911\n"
     ]
    },
    {
     "data": {
      "text/html": [
       "<pre style=\"white-space:pre;overflow-x:auto;line-height:normal;font-family:Menlo,'DejaVu Sans Mono',consolas,'Courier New',monospace\"><span style=\"color: #7fbfbf\">           </span><span style=\"color: #000080\">INFO    </span> INDEX <span style=\"color: #000080; font-weight: bold\">6000</span>: <span style=\"color: #000080; font-weight: bold\">0.6911196911196911</span>                             <a href=\"file:///home/j-gunmo/desktop/00.my-project/17.P-Stage-T1003/4-STAGE/fe/feature.py\"><span style=\"color: #7f7f7f\">feature.py</span></a><span style=\"color: #7f7f7f\">:109</span>\n",
       "</pre>\n"
      ],
      "text/plain": [
       "<rich.jupyter.JupyterRenderable at 0x7f1c04ac9730>"
      ]
     },
     "metadata": {},
     "output_type": "display_data"
    },
    {
     "name": "stderr",
     "output_type": "stream",
     "text": [
      "INDEX 7000: 0.6911196911196911\n"
     ]
    },
    {
     "data": {
      "text/html": [
       "<pre style=\"white-space:pre;overflow-x:auto;line-height:normal;font-family:Menlo,'DejaVu Sans Mono',consolas,'Courier New',monospace\"><span style=\"color: #7fbfbf\">           </span><span style=\"color: #000080\">INFO    </span> INDEX <span style=\"color: #000080; font-weight: bold\">7000</span>: <span style=\"color: #000080; font-weight: bold\">0.6911196911196911</span>                             <a href=\"file:///home/j-gunmo/desktop/00.my-project/17.P-Stage-T1003/4-STAGE/fe/feature.py\"><span style=\"color: #7f7f7f\">feature.py</span></a><span style=\"color: #7f7f7f\">:109</span>\n",
       "</pre>\n"
      ],
      "text/plain": [
       "<rich.jupyter.JupyterRenderable at 0x7f1c04ac9fa0>"
      ]
     },
     "metadata": {},
     "output_type": "display_data"
    },
    {
     "name": "stderr",
     "output_type": "stream",
     "text": [
      "INDEX 8000: 0.6911196911196911\n"
     ]
    },
    {
     "data": {
      "text/html": [
       "<pre style=\"white-space:pre;overflow-x:auto;line-height:normal;font-family:Menlo,'DejaVu Sans Mono',consolas,'Courier New',monospace\"><span style=\"color: #7fbfbf\">           </span><span style=\"color: #000080\">INFO    </span> INDEX <span style=\"color: #000080; font-weight: bold\">8000</span>: <span style=\"color: #000080; font-weight: bold\">0.6911196911196911</span>                             <a href=\"file:///home/j-gunmo/desktop/00.my-project/17.P-Stage-T1003/4-STAGE/fe/feature.py\"><span style=\"color: #7f7f7f\">feature.py</span></a><span style=\"color: #7f7f7f\">:109</span>\n",
       "</pre>\n"
      ],
      "text/plain": [
       "<rich.jupyter.JupyterRenderable at 0x7f1c04ac97c0>"
      ]
     },
     "metadata": {},
     "output_type": "display_data"
    },
    {
     "name": "stderr",
     "output_type": "stream",
     "text": [
      "INDEX 9000: 0.6911196911196911\n"
     ]
    },
    {
     "data": {
      "text/html": [
       "<pre style=\"white-space:pre;overflow-x:auto;line-height:normal;font-family:Menlo,'DejaVu Sans Mono',consolas,'Courier New',monospace\"><span style=\"color: #7fbfbf\">           </span><span style=\"color: #000080\">INFO    </span> INDEX <span style=\"color: #000080; font-weight: bold\">9000</span>: <span style=\"color: #000080; font-weight: bold\">0.6911196911196911</span>                             <a href=\"file:///home/j-gunmo/desktop/00.my-project/17.P-Stage-T1003/4-STAGE/fe/feature.py\"><span style=\"color: #7f7f7f\">feature.py</span></a><span style=\"color: #7f7f7f\">:109</span>\n",
       "</pre>\n"
      ],
      "text/plain": [
       "<rich.jupyter.JupyterRenderable at 0x7f1c04ac93d0>"
      ]
     },
     "metadata": {},
     "output_type": "display_data"
    },
    {
     "name": "stdout",
     "output_type": "stream",
     "text": [
      "load features /home/j-gunmo/features/test_make_topn_correct_percent.pkl to dataframe ... \n"
     ]
    },
    {
     "name": "stderr",
     "output_type": "stream",
     "text": [
      "\n",
      "Feature Engineering Name: make_topn_correct_percent\n"
     ]
    },
    {
     "data": {
      "text/html": [
       "<pre style=\"white-space:pre;overflow-x:auto;line-height:normal;font-family:Menlo,'DejaVu Sans Mono',consolas,'Courier New',monospace\"><span style=\"color: #7fbfbf\">           </span><span style=\"color: #000080\">INFO    </span>                                                            <a href=\"file:///home/j-gunmo/desktop/00.my-project/17.P-Stage-T1003/4-STAGE/fe/feature.py\"><span style=\"color: #7f7f7f\">feature.py</span></a><span style=\"color: #7f7f7f\">:101</span>\n",
       "                    Feature Engineering Name: make_topn_correct_percent                      \n",
       "</pre>\n"
      ],
      "text/plain": [
       "<rich.jupyter.JupyterRenderable at 0x7f1cdc7e7880>"
      ]
     },
     "metadata": {},
     "output_type": "display_data"
    },
    {
     "name": "stderr",
     "output_type": "stream",
     "text": [
      "\n",
      "top10CorrectPer : 사용자가 최근 푼 TOP-10개에 대한 정답률입니다.\n"
     ]
    },
    {
     "data": {
      "text/html": [
       "<pre style=\"white-space:pre;overflow-x:auto;line-height:normal;font-family:Menlo,'DejaVu Sans Mono',consolas,'Courier New',monospace\"><span style=\"color: #7fbfbf\">           </span><span style=\"color: #000080\">INFO    </span>                                                            <a href=\"file:///home/j-gunmo/desktop/00.my-project/17.P-Stage-T1003/4-STAGE/fe/feature.py\"><span style=\"color: #7f7f7f\">feature.py</span></a><span style=\"color: #7f7f7f\">:104</span>\n",
       "                    top10CorrectPer : 사용자가 최근 푼 TOP-10개에 대한                       \n",
       "                    정답률입니다.                                                            \n",
       "</pre>\n"
      ],
      "text/plain": [
       "<rich.jupyter.JupyterRenderable at 0x7f1cdc7dc820>"
      ]
     },
     "metadata": {},
     "output_type": "display_data"
    },
    {
     "name": "stderr",
     "output_type": "stream",
     "text": [
      "dtype: float64\n"
     ]
    },
    {
     "data": {
      "text/html": [
       "<pre style=\"white-space:pre;overflow-x:auto;line-height:normal;font-family:Menlo,'DejaVu Sans Mono',consolas,'Courier New',monospace\"><span style=\"color: #7fbfbf\">           </span><span style=\"color: #000080\">INFO    </span> dtype: float64                                             <a href=\"file:///home/j-gunmo/desktop/00.my-project/17.P-Stage-T1003/4-STAGE/fe/feature.py\"><span style=\"color: #7f7f7f\">feature.py</span></a><span style=\"color: #7f7f7f\">:105</span>\n",
       "</pre>\n"
      ],
      "text/plain": [
       "<rich.jupyter.JupyterRenderable at 0x7f1c1048e370>"
      ]
     },
     "metadata": {},
     "output_type": "display_data"
    },
    {
     "name": "stderr",
     "output_type": "stream",
     "text": [
      "[Examples]\n"
     ]
    },
    {
     "data": {
      "text/html": [
       "<pre style=\"white-space:pre;overflow-x:auto;line-height:normal;font-family:Menlo,'DejaVu Sans Mono',consolas,'Courier New',monospace\"><span style=\"color: #7fbfbf\">           </span><span style=\"color: #000080\">INFO    </span> <span style=\"font-weight: bold\">[</span>Examples<span style=\"font-weight: bold\">]</span>                                                 <a href=\"file:///home/j-gunmo/desktop/00.my-project/17.P-Stage-T1003/4-STAGE/fe/feature.py\"><span style=\"color: #7f7f7f\">feature.py</span></a><span style=\"color: #7f7f7f\">:106</span>\n",
       "</pre>\n"
      ],
      "text/plain": [
       "<rich.jupyter.JupyterRenderable at 0x7f1c04ac9580>"
      ]
     },
     "metadata": {},
     "output_type": "display_data"
    },
    {
     "name": "stderr",
     "output_type": "stream",
     "text": [
      "INDEX 0000: 0.6\n"
     ]
    },
    {
     "data": {
      "text/html": [
       "<pre style=\"white-space:pre;overflow-x:auto;line-height:normal;font-family:Menlo,'DejaVu Sans Mono',consolas,'Courier New',monospace\"><span style=\"color: #7fbfbf\">           </span><span style=\"color: #000080\">INFO    </span> INDEX <span style=\"color: #000080; font-weight: bold\">0000</span>: <span style=\"color: #000080; font-weight: bold\">0.6</span>                                            <a href=\"file:///home/j-gunmo/desktop/00.my-project/17.P-Stage-T1003/4-STAGE/fe/feature.py\"><span style=\"color: #7f7f7f\">feature.py</span></a><span style=\"color: #7f7f7f\">:109</span>\n",
       "</pre>\n"
      ],
      "text/plain": [
       "<rich.jupyter.JupyterRenderable at 0x7f1c04ac97c0>"
      ]
     },
     "metadata": {},
     "output_type": "display_data"
    },
    {
     "name": "stderr",
     "output_type": "stream",
     "text": [
      "INDEX 1000: 0.6\n"
     ]
    },
    {
     "data": {
      "text/html": [
       "<pre style=\"white-space:pre;overflow-x:auto;line-height:normal;font-family:Menlo,'DejaVu Sans Mono',consolas,'Courier New',monospace\"><span style=\"color: #7fbfbf\">           </span><span style=\"color: #000080\">INFO    </span> INDEX <span style=\"color: #000080; font-weight: bold\">1000</span>: <span style=\"color: #000080; font-weight: bold\">0.6</span>                                            <a href=\"file:///home/j-gunmo/desktop/00.my-project/17.P-Stage-T1003/4-STAGE/fe/feature.py\"><span style=\"color: #7f7f7f\">feature.py</span></a><span style=\"color: #7f7f7f\">:109</span>\n",
       "</pre>\n"
      ],
      "text/plain": [
       "<rich.jupyter.JupyterRenderable at 0x7f1cdc7e72e0>"
      ]
     },
     "metadata": {},
     "output_type": "display_data"
    },
    {
     "name": "stderr",
     "output_type": "stream",
     "text": [
      "INDEX 2000: 0.6\n"
     ]
    },
    {
     "data": {
      "text/html": [
       "<pre style=\"white-space:pre;overflow-x:auto;line-height:normal;font-family:Menlo,'DejaVu Sans Mono',consolas,'Courier New',monospace\"><span style=\"color: #7fbfbf\">           </span><span style=\"color: #000080\">INFO    </span> INDEX <span style=\"color: #000080; font-weight: bold\">2000</span>: <span style=\"color: #000080; font-weight: bold\">0.6</span>                                            <a href=\"file:///home/j-gunmo/desktop/00.my-project/17.P-Stage-T1003/4-STAGE/fe/feature.py\"><span style=\"color: #7f7f7f\">feature.py</span></a><span style=\"color: #7f7f7f\">:109</span>\n",
       "</pre>\n"
      ],
      "text/plain": [
       "<rich.jupyter.JupyterRenderable at 0x7f1c04ac9f10>"
      ]
     },
     "metadata": {},
     "output_type": "display_data"
    },
    {
     "name": "stderr",
     "output_type": "stream",
     "text": [
      "INDEX 3000: 0.6\n"
     ]
    },
    {
     "data": {
      "text/html": [
       "<pre style=\"white-space:pre;overflow-x:auto;line-height:normal;font-family:Menlo,'DejaVu Sans Mono',consolas,'Courier New',monospace\"><span style=\"color: #7fbfbf\">           </span><span style=\"color: #000080\">INFO    </span> INDEX <span style=\"color: #000080; font-weight: bold\">3000</span>: <span style=\"color: #000080; font-weight: bold\">0.6</span>                                            <a href=\"file:///home/j-gunmo/desktop/00.my-project/17.P-Stage-T1003/4-STAGE/fe/feature.py\"><span style=\"color: #7f7f7f\">feature.py</span></a><span style=\"color: #7f7f7f\">:109</span>\n",
       "</pre>\n"
      ],
      "text/plain": [
       "<rich.jupyter.JupyterRenderable at 0x7f1c04ac9310>"
      ]
     },
     "metadata": {},
     "output_type": "display_data"
    },
    {
     "name": "stderr",
     "output_type": "stream",
     "text": [
      "INDEX 4000: 0.6\n"
     ]
    },
    {
     "data": {
      "text/html": [
       "<pre style=\"white-space:pre;overflow-x:auto;line-height:normal;font-family:Menlo,'DejaVu Sans Mono',consolas,'Courier New',monospace\"><span style=\"color: #7fbfbf\">           </span><span style=\"color: #000080\">INFO    </span> INDEX <span style=\"color: #000080; font-weight: bold\">4000</span>: <span style=\"color: #000080; font-weight: bold\">0.6</span>                                            <a href=\"file:///home/j-gunmo/desktop/00.my-project/17.P-Stage-T1003/4-STAGE/fe/feature.py\"><span style=\"color: #7f7f7f\">feature.py</span></a><span style=\"color: #7f7f7f\">:109</span>\n",
       "</pre>\n"
      ],
      "text/plain": [
       "<rich.jupyter.JupyterRenderable at 0x7f1c04ac9fa0>"
      ]
     },
     "metadata": {},
     "output_type": "display_data"
    },
    {
     "name": "stderr",
     "output_type": "stream",
     "text": [
      "INDEX 5000: 0.6\n"
     ]
    },
    {
     "data": {
      "text/html": [
       "<pre style=\"white-space:pre;overflow-x:auto;line-height:normal;font-family:Menlo,'DejaVu Sans Mono',consolas,'Courier New',monospace\"><span style=\"color: #7fbfbf\">           </span><span style=\"color: #000080\">INFO    </span> INDEX <span style=\"color: #000080; font-weight: bold\">5000</span>: <span style=\"color: #000080; font-weight: bold\">0.6</span>                                            <a href=\"file:///home/j-gunmo/desktop/00.my-project/17.P-Stage-T1003/4-STAGE/fe/feature.py\"><span style=\"color: #7f7f7f\">feature.py</span></a><span style=\"color: #7f7f7f\">:109</span>\n",
       "</pre>\n"
      ],
      "text/plain": [
       "<rich.jupyter.JupyterRenderable at 0x7f1c04ac9d60>"
      ]
     },
     "metadata": {},
     "output_type": "display_data"
    },
    {
     "name": "stderr",
     "output_type": "stream",
     "text": [
      "INDEX 6000: 0.6\n"
     ]
    },
    {
     "data": {
      "text/html": [
       "<pre style=\"white-space:pre;overflow-x:auto;line-height:normal;font-family:Menlo,'DejaVu Sans Mono',consolas,'Courier New',monospace\"><span style=\"color: #7fbfbf\">           </span><span style=\"color: #000080\">INFO    </span> INDEX <span style=\"color: #000080; font-weight: bold\">6000</span>: <span style=\"color: #000080; font-weight: bold\">0.6</span>                                            <a href=\"file:///home/j-gunmo/desktop/00.my-project/17.P-Stage-T1003/4-STAGE/fe/feature.py\"><span style=\"color: #7f7f7f\">feature.py</span></a><span style=\"color: #7f7f7f\">:109</span>\n",
       "</pre>\n"
      ],
      "text/plain": [
       "<rich.jupyter.JupyterRenderable at 0x7f1c04ac9e80>"
      ]
     },
     "metadata": {},
     "output_type": "display_data"
    },
    {
     "name": "stderr",
     "output_type": "stream",
     "text": [
      "INDEX 7000: 0.6\n"
     ]
    },
    {
     "data": {
      "text/html": [
       "<pre style=\"white-space:pre;overflow-x:auto;line-height:normal;font-family:Menlo,'DejaVu Sans Mono',consolas,'Courier New',monospace\"><span style=\"color: #7fbfbf\">           </span><span style=\"color: #000080\">INFO    </span> INDEX <span style=\"color: #000080; font-weight: bold\">7000</span>: <span style=\"color: #000080; font-weight: bold\">0.6</span>                                            <a href=\"file:///home/j-gunmo/desktop/00.my-project/17.P-Stage-T1003/4-STAGE/fe/feature.py\"><span style=\"color: #7f7f7f\">feature.py</span></a><span style=\"color: #7f7f7f\">:109</span>\n",
       "</pre>\n"
      ],
      "text/plain": [
       "<rich.jupyter.JupyterRenderable at 0x7f1cdc7cf7c0>"
      ]
     },
     "metadata": {},
     "output_type": "display_data"
    },
    {
     "name": "stderr",
     "output_type": "stream",
     "text": [
      "INDEX 8000: 0.6\n"
     ]
    },
    {
     "data": {
      "text/html": [
       "<pre style=\"white-space:pre;overflow-x:auto;line-height:normal;font-family:Menlo,'DejaVu Sans Mono',consolas,'Courier New',monospace\"><span style=\"color: #7fbfbf\">           </span><span style=\"color: #000080\">INFO    </span> INDEX <span style=\"color: #000080; font-weight: bold\">8000</span>: <span style=\"color: #000080; font-weight: bold\">0.6</span>                                            <a href=\"file:///home/j-gunmo/desktop/00.my-project/17.P-Stage-T1003/4-STAGE/fe/feature.py\"><span style=\"color: #7f7f7f\">feature.py</span></a><span style=\"color: #7f7f7f\">:109</span>\n",
       "</pre>\n"
      ],
      "text/plain": [
       "<rich.jupyter.JupyterRenderable at 0x7f1cdc7e71c0>"
      ]
     },
     "metadata": {},
     "output_type": "display_data"
    },
    {
     "name": "stderr",
     "output_type": "stream",
     "text": [
      "INDEX 9000: 0.6\n"
     ]
    },
    {
     "data": {
      "text/html": [
       "<pre style=\"white-space:pre;overflow-x:auto;line-height:normal;font-family:Menlo,'DejaVu Sans Mono',consolas,'Courier New',monospace\"><span style=\"color: #7fbfbf\">           </span><span style=\"color: #000080\">INFO    </span> INDEX <span style=\"color: #000080; font-weight: bold\">9000</span>: <span style=\"color: #000080; font-weight: bold\">0.6</span>                                            <a href=\"file:///home/j-gunmo/desktop/00.my-project/17.P-Stage-T1003/4-STAGE/fe/feature.py\"><span style=\"color: #7f7f7f\">feature.py</span></a><span style=\"color: #7f7f7f\">:109</span>\n",
       "</pre>\n"
      ],
      "text/plain": [
       "<rich.jupyter.JupyterRenderable at 0x7f1c04ac9d60>"
      ]
     },
     "metadata": {},
     "output_type": "display_data"
    },
    {
     "name": "stderr",
     "output_type": "stream",
     "text": [
      "\n",
      "top30CorrectPer : 사용자가 최근 푼 TOP-30개에 대한 정답률입니다.\n"
     ]
    },
    {
     "data": {
      "text/html": [
       "<pre style=\"white-space:pre;overflow-x:auto;line-height:normal;font-family:Menlo,'DejaVu Sans Mono',consolas,'Courier New',monospace\"><span style=\"color: #7fbfbf\">           </span><span style=\"color: #000080\">INFO    </span>                                                            <a href=\"file:///home/j-gunmo/desktop/00.my-project/17.P-Stage-T1003/4-STAGE/fe/feature.py\"><span style=\"color: #7f7f7f\">feature.py</span></a><span style=\"color: #7f7f7f\">:104</span>\n",
       "                    top30CorrectPer : 사용자가 최근 푼 TOP-30개에 대한                       \n",
       "                    정답률입니다.                                                            \n",
       "</pre>\n"
      ],
      "text/plain": [
       "<rich.jupyter.JupyterRenderable at 0x7f1c04ac9940>"
      ]
     },
     "metadata": {},
     "output_type": "display_data"
    },
    {
     "name": "stderr",
     "output_type": "stream",
     "text": [
      "dtype: float64\n"
     ]
    },
    {
     "data": {
      "text/html": [
       "<pre style=\"white-space:pre;overflow-x:auto;line-height:normal;font-family:Menlo,'DejaVu Sans Mono',consolas,'Courier New',monospace\"><span style=\"color: #7fbfbf\">           </span><span style=\"color: #000080\">INFO    </span> dtype: float64                                             <a href=\"file:///home/j-gunmo/desktop/00.my-project/17.P-Stage-T1003/4-STAGE/fe/feature.py\"><span style=\"color: #7f7f7f\">feature.py</span></a><span style=\"color: #7f7f7f\">:105</span>\n",
       "</pre>\n"
      ],
      "text/plain": [
       "<rich.jupyter.JupyterRenderable at 0x7f1cdc7e71c0>"
      ]
     },
     "metadata": {},
     "output_type": "display_data"
    },
    {
     "name": "stderr",
     "output_type": "stream",
     "text": [
      "[Examples]\n"
     ]
    },
    {
     "data": {
      "text/html": [
       "<pre style=\"white-space:pre;overflow-x:auto;line-height:normal;font-family:Menlo,'DejaVu Sans Mono',consolas,'Courier New',monospace\"><span style=\"color: #7fbfbf\">           </span><span style=\"color: #000080\">INFO    </span> <span style=\"font-weight: bold\">[</span>Examples<span style=\"font-weight: bold\">]</span>                                                 <a href=\"file:///home/j-gunmo/desktop/00.my-project/17.P-Stage-T1003/4-STAGE/fe/feature.py\"><span style=\"color: #7f7f7f\">feature.py</span></a><span style=\"color: #7f7f7f\">:106</span>\n",
       "</pre>\n"
      ],
      "text/plain": [
       "<rich.jupyter.JupyterRenderable at 0x7f1c04ac93a0>"
      ]
     },
     "metadata": {},
     "output_type": "display_data"
    },
    {
     "name": "stderr",
     "output_type": "stream",
     "text": [
      "INDEX 0000: 0.6666666666666666\n"
     ]
    },
    {
     "data": {
      "text/html": [
       "<pre style=\"white-space:pre;overflow-x:auto;line-height:normal;font-family:Menlo,'DejaVu Sans Mono',consolas,'Courier New',monospace\"><span style=\"color: #7fbfbf\">           </span><span style=\"color: #000080\">INFO    </span> INDEX <span style=\"color: #000080; font-weight: bold\">0000</span>: <span style=\"color: #000080; font-weight: bold\">0.6666666666666666</span>                             <a href=\"file:///home/j-gunmo/desktop/00.my-project/17.P-Stage-T1003/4-STAGE/fe/feature.py\"><span style=\"color: #7f7f7f\">feature.py</span></a><span style=\"color: #7f7f7f\">:109</span>\n",
       "</pre>\n"
      ],
      "text/plain": [
       "<rich.jupyter.JupyterRenderable at 0x7f1c04ac97c0>"
      ]
     },
     "metadata": {},
     "output_type": "display_data"
    },
    {
     "name": "stderr",
     "output_type": "stream",
     "text": [
      "INDEX 1000: 0.6666666666666666\n"
     ]
    },
    {
     "data": {
      "text/html": [
       "<pre style=\"white-space:pre;overflow-x:auto;line-height:normal;font-family:Menlo,'DejaVu Sans Mono',consolas,'Courier New',monospace\"><span style=\"color: #7fbfbf\">           </span><span style=\"color: #000080\">INFO    </span> INDEX <span style=\"color: #000080; font-weight: bold\">1000</span>: <span style=\"color: #000080; font-weight: bold\">0.6666666666666666</span>                             <a href=\"file:///home/j-gunmo/desktop/00.my-project/17.P-Stage-T1003/4-STAGE/fe/feature.py\"><span style=\"color: #7f7f7f\">feature.py</span></a><span style=\"color: #7f7f7f\">:109</span>\n",
       "</pre>\n"
      ],
      "text/plain": [
       "<rich.jupyter.JupyterRenderable at 0x7f1cdc7e72e0>"
      ]
     },
     "metadata": {},
     "output_type": "display_data"
    },
    {
     "name": "stderr",
     "output_type": "stream",
     "text": [
      "INDEX 2000: 0.6666666666666666\n"
     ]
    },
    {
     "data": {
      "text/html": [
       "<pre style=\"white-space:pre;overflow-x:auto;line-height:normal;font-family:Menlo,'DejaVu Sans Mono',consolas,'Courier New',monospace\"><span style=\"color: #7fbfbf\">           </span><span style=\"color: #000080\">INFO    </span> INDEX <span style=\"color: #000080; font-weight: bold\">2000</span>: <span style=\"color: #000080; font-weight: bold\">0.6666666666666666</span>                             <a href=\"file:///home/j-gunmo/desktop/00.my-project/17.P-Stage-T1003/4-STAGE/fe/feature.py\"><span style=\"color: #7f7f7f\">feature.py</span></a><span style=\"color: #7f7f7f\">:109</span>\n",
       "</pre>\n"
      ],
      "text/plain": [
       "<rich.jupyter.JupyterRenderable at 0x7f1c04ac95b0>"
      ]
     },
     "metadata": {},
     "output_type": "display_data"
    },
    {
     "name": "stderr",
     "output_type": "stream",
     "text": [
      "INDEX 3000: 0.6666666666666666\n"
     ]
    },
    {
     "data": {
      "text/html": [
       "<pre style=\"white-space:pre;overflow-x:auto;line-height:normal;font-family:Menlo,'DejaVu Sans Mono',consolas,'Courier New',monospace\"><span style=\"color: #7fbfbf\">           </span><span style=\"color: #000080\">INFO    </span> INDEX <span style=\"color: #000080; font-weight: bold\">3000</span>: <span style=\"color: #000080; font-weight: bold\">0.6666666666666666</span>                             <a href=\"file:///home/j-gunmo/desktop/00.my-project/17.P-Stage-T1003/4-STAGE/fe/feature.py\"><span style=\"color: #7f7f7f\">feature.py</span></a><span style=\"color: #7f7f7f\">:109</span>\n",
       "</pre>\n"
      ],
      "text/plain": [
       "<rich.jupyter.JupyterRenderable at 0x7f1cdc7e71c0>"
      ]
     },
     "metadata": {},
     "output_type": "display_data"
    },
    {
     "name": "stderr",
     "output_type": "stream",
     "text": [
      "INDEX 4000: 0.6666666666666666\n"
     ]
    },
    {
     "data": {
      "text/html": [
       "<pre style=\"white-space:pre;overflow-x:auto;line-height:normal;font-family:Menlo,'DejaVu Sans Mono',consolas,'Courier New',monospace\"><span style=\"color: #7fbfbf\">           </span><span style=\"color: #000080\">INFO    </span> INDEX <span style=\"color: #000080; font-weight: bold\">4000</span>: <span style=\"color: #000080; font-weight: bold\">0.6666666666666666</span>                             <a href=\"file:///home/j-gunmo/desktop/00.my-project/17.P-Stage-T1003/4-STAGE/fe/feature.py\"><span style=\"color: #7f7f7f\">feature.py</span></a><span style=\"color: #7f7f7f\">:109</span>\n",
       "</pre>\n"
      ],
      "text/plain": [
       "<rich.jupyter.JupyterRenderable at 0x7f1c04ac9bb0>"
      ]
     },
     "metadata": {},
     "output_type": "display_data"
    },
    {
     "name": "stderr",
     "output_type": "stream",
     "text": [
      "INDEX 5000: 0.6666666666666666\n"
     ]
    },
    {
     "data": {
      "text/html": [
       "<pre style=\"white-space:pre;overflow-x:auto;line-height:normal;font-family:Menlo,'DejaVu Sans Mono',consolas,'Courier New',monospace\"><span style=\"color: #7fbfbf\">           </span><span style=\"color: #000080\">INFO    </span> INDEX <span style=\"color: #000080; font-weight: bold\">5000</span>: <span style=\"color: #000080; font-weight: bold\">0.6666666666666666</span>                             <a href=\"file:///home/j-gunmo/desktop/00.my-project/17.P-Stage-T1003/4-STAGE/fe/feature.py\"><span style=\"color: #7f7f7f\">feature.py</span></a><span style=\"color: #7f7f7f\">:109</span>\n",
       "</pre>\n"
      ],
      "text/plain": [
       "<rich.jupyter.JupyterRenderable at 0x7f1c04ac9e80>"
      ]
     },
     "metadata": {},
     "output_type": "display_data"
    },
    {
     "name": "stderr",
     "output_type": "stream",
     "text": [
      "INDEX 6000: 0.6666666666666666\n"
     ]
    },
    {
     "data": {
      "text/html": [
       "<pre style=\"white-space:pre;overflow-x:auto;line-height:normal;font-family:Menlo,'DejaVu Sans Mono',consolas,'Courier New',monospace\"><span style=\"color: #7fbfbf\">           </span><span style=\"color: #000080\">INFO    </span> INDEX <span style=\"color: #000080; font-weight: bold\">6000</span>: <span style=\"color: #000080; font-weight: bold\">0.6666666666666666</span>                             <a href=\"file:///home/j-gunmo/desktop/00.my-project/17.P-Stage-T1003/4-STAGE/fe/feature.py\"><span style=\"color: #7f7f7f\">feature.py</span></a><span style=\"color: #7f7f7f\">:109</span>\n",
       "</pre>\n"
      ],
      "text/plain": [
       "<rich.jupyter.JupyterRenderable at 0x7f1cdc7e72e0>"
      ]
     },
     "metadata": {},
     "output_type": "display_data"
    },
    {
     "name": "stderr",
     "output_type": "stream",
     "text": [
      "INDEX 7000: 0.6666666666666666\n"
     ]
    },
    {
     "data": {
      "text/html": [
       "<pre style=\"white-space:pre;overflow-x:auto;line-height:normal;font-family:Menlo,'DejaVu Sans Mono',consolas,'Courier New',monospace\"><span style=\"color: #7fbfbf\">           </span><span style=\"color: #000080\">INFO    </span> INDEX <span style=\"color: #000080; font-weight: bold\">7000</span>: <span style=\"color: #000080; font-weight: bold\">0.6666666666666666</span>                             <a href=\"file:///home/j-gunmo/desktop/00.my-project/17.P-Stage-T1003/4-STAGE/fe/feature.py\"><span style=\"color: #7f7f7f\">feature.py</span></a><span style=\"color: #7f7f7f\">:109</span>\n",
       "</pre>\n"
      ],
      "text/plain": [
       "<rich.jupyter.JupyterRenderable at 0x7f1c04ac9ca0>"
      ]
     },
     "metadata": {},
     "output_type": "display_data"
    },
    {
     "name": "stderr",
     "output_type": "stream",
     "text": [
      "INDEX 8000: 0.6666666666666666\n"
     ]
    },
    {
     "data": {
      "text/html": [
       "<pre style=\"white-space:pre;overflow-x:auto;line-height:normal;font-family:Menlo,'DejaVu Sans Mono',consolas,'Courier New',monospace\"><span style=\"color: #7fbfbf\">           </span><span style=\"color: #000080\">INFO    </span> INDEX <span style=\"color: #000080; font-weight: bold\">8000</span>: <span style=\"color: #000080; font-weight: bold\">0.6666666666666666</span>                             <a href=\"file:///home/j-gunmo/desktop/00.my-project/17.P-Stage-T1003/4-STAGE/fe/feature.py\"><span style=\"color: #7f7f7f\">feature.py</span></a><span style=\"color: #7f7f7f\">:109</span>\n",
       "</pre>\n"
      ],
      "text/plain": [
       "<rich.jupyter.JupyterRenderable at 0x7f1cdc7e71c0>"
      ]
     },
     "metadata": {},
     "output_type": "display_data"
    },
    {
     "name": "stderr",
     "output_type": "stream",
     "text": [
      "INDEX 9000: 0.6666666666666666\n"
     ]
    },
    {
     "data": {
      "text/html": [
       "<pre style=\"white-space:pre;overflow-x:auto;line-height:normal;font-family:Menlo,'DejaVu Sans Mono',consolas,'Courier New',monospace\"><span style=\"color: #7fbfbf\">           </span><span style=\"color: #000080\">INFO    </span> INDEX <span style=\"color: #000080; font-weight: bold\">9000</span>: <span style=\"color: #000080; font-weight: bold\">0.6666666666666666</span>                             <a href=\"file:///home/j-gunmo/desktop/00.my-project/17.P-Stage-T1003/4-STAGE/fe/feature.py\"><span style=\"color: #7f7f7f\">feature.py</span></a><span style=\"color: #7f7f7f\">:109</span>\n",
       "</pre>\n"
      ],
      "text/plain": [
       "<rich.jupyter.JupyterRenderable at 0x7f1c04ac9490>"
      ]
     },
     "metadata": {},
     "output_type": "display_data"
    },
    {
     "name": "stderr",
     "output_type": "stream",
     "text": [
      "\n",
      "top50CorrectPer : 사용자가 최근 푼 TOP-50개에 대한 정답률입니다.\n"
     ]
    },
    {
     "data": {
      "text/html": [
       "<pre style=\"white-space:pre;overflow-x:auto;line-height:normal;font-family:Menlo,'DejaVu Sans Mono',consolas,'Courier New',monospace\"><span style=\"color: #7fbfbf\">           </span><span style=\"color: #000080\">INFO    </span>                                                            <a href=\"file:///home/j-gunmo/desktop/00.my-project/17.P-Stage-T1003/4-STAGE/fe/feature.py\"><span style=\"color: #7f7f7f\">feature.py</span></a><span style=\"color: #7f7f7f\">:104</span>\n",
       "                    top50CorrectPer : 사용자가 최근 푼 TOP-50개에 대한                       \n",
       "                    정답률입니다.                                                            \n",
       "</pre>\n"
      ],
      "text/plain": [
       "<rich.jupyter.JupyterRenderable at 0x7f1cdc7e72e0>"
      ]
     },
     "metadata": {},
     "output_type": "display_data"
    },
    {
     "name": "stderr",
     "output_type": "stream",
     "text": [
      "dtype: float64\n"
     ]
    },
    {
     "data": {
      "text/html": [
       "<pre style=\"white-space:pre;overflow-x:auto;line-height:normal;font-family:Menlo,'DejaVu Sans Mono',consolas,'Courier New',monospace\"><span style=\"color: #7fbfbf\">           </span><span style=\"color: #000080\">INFO    </span> dtype: float64                                             <a href=\"file:///home/j-gunmo/desktop/00.my-project/17.P-Stage-T1003/4-STAGE/fe/feature.py\"><span style=\"color: #7f7f7f\">feature.py</span></a><span style=\"color: #7f7f7f\">:105</span>\n",
       "</pre>\n"
      ],
      "text/plain": [
       "<rich.jupyter.JupyterRenderable at 0x7f1c04ac9580>"
      ]
     },
     "metadata": {},
     "output_type": "display_data"
    },
    {
     "name": "stderr",
     "output_type": "stream",
     "text": [
      "[Examples]\n"
     ]
    },
    {
     "data": {
      "text/html": [
       "<pre style=\"white-space:pre;overflow-x:auto;line-height:normal;font-family:Menlo,'DejaVu Sans Mono',consolas,'Courier New',monospace\"><span style=\"color: #7fbfbf\">           </span><span style=\"color: #000080\">INFO    </span> <span style=\"font-weight: bold\">[</span>Examples<span style=\"font-weight: bold\">]</span>                                                 <a href=\"file:///home/j-gunmo/desktop/00.my-project/17.P-Stage-T1003/4-STAGE/fe/feature.py\"><span style=\"color: #7f7f7f\">feature.py</span></a><span style=\"color: #7f7f7f\">:106</span>\n",
       "</pre>\n"
      ],
      "text/plain": [
       "<rich.jupyter.JupyterRenderable at 0x7f1c04ac9f10>"
      ]
     },
     "metadata": {},
     "output_type": "display_data"
    },
    {
     "name": "stderr",
     "output_type": "stream",
     "text": [
      "INDEX 0000: 0.52\n"
     ]
    },
    {
     "data": {
      "text/html": [
       "<pre style=\"white-space:pre;overflow-x:auto;line-height:normal;font-family:Menlo,'DejaVu Sans Mono',consolas,'Courier New',monospace\"><span style=\"color: #7fbfbf\">           </span><span style=\"color: #000080\">INFO    </span> INDEX <span style=\"color: #000080; font-weight: bold\">0000</span>: <span style=\"color: #000080; font-weight: bold\">0.52</span>                                           <a href=\"file:///home/j-gunmo/desktop/00.my-project/17.P-Stage-T1003/4-STAGE/fe/feature.py\"><span style=\"color: #7f7f7f\">feature.py</span></a><span style=\"color: #7f7f7f\">:109</span>\n",
       "</pre>\n"
      ],
      "text/plain": [
       "<rich.jupyter.JupyterRenderable at 0x7f1cdc7e71c0>"
      ]
     },
     "metadata": {},
     "output_type": "display_data"
    },
    {
     "name": "stderr",
     "output_type": "stream",
     "text": [
      "INDEX 1000: 0.52\n"
     ]
    },
    {
     "data": {
      "text/html": [
       "<pre style=\"white-space:pre;overflow-x:auto;line-height:normal;font-family:Menlo,'DejaVu Sans Mono',consolas,'Courier New',monospace\"><span style=\"color: #7fbfbf\">           </span><span style=\"color: #000080\">INFO    </span> INDEX <span style=\"color: #000080; font-weight: bold\">1000</span>: <span style=\"color: #000080; font-weight: bold\">0.52</span>                                           <a href=\"file:///home/j-gunmo/desktop/00.my-project/17.P-Stage-T1003/4-STAGE/fe/feature.py\"><span style=\"color: #7f7f7f\">feature.py</span></a><span style=\"color: #7f7f7f\">:109</span>\n",
       "</pre>\n"
      ],
      "text/plain": [
       "<rich.jupyter.JupyterRenderable at 0x7f1c04ac9be0>"
      ]
     },
     "metadata": {},
     "output_type": "display_data"
    },
    {
     "name": "stderr",
     "output_type": "stream",
     "text": [
      "INDEX 2000: 0.52\n"
     ]
    },
    {
     "data": {
      "text/html": [
       "<pre style=\"white-space:pre;overflow-x:auto;line-height:normal;font-family:Menlo,'DejaVu Sans Mono',consolas,'Courier New',monospace\"><span style=\"color: #7fbfbf\">           </span><span style=\"color: #000080\">INFO    </span> INDEX <span style=\"color: #000080; font-weight: bold\">2000</span>: <span style=\"color: #000080; font-weight: bold\">0.52</span>                                           <a href=\"file:///home/j-gunmo/desktop/00.my-project/17.P-Stage-T1003/4-STAGE/fe/feature.py\"><span style=\"color: #7f7f7f\">feature.py</span></a><span style=\"color: #7f7f7f\">:109</span>\n",
       "</pre>\n"
      ],
      "text/plain": [
       "<rich.jupyter.JupyterRenderable at 0x7f1cdc7e71c0>"
      ]
     },
     "metadata": {},
     "output_type": "display_data"
    },
    {
     "name": "stderr",
     "output_type": "stream",
     "text": [
      "INDEX 3000: 0.52\n"
     ]
    },
    {
     "data": {
      "text/html": [
       "<pre style=\"white-space:pre;overflow-x:auto;line-height:normal;font-family:Menlo,'DejaVu Sans Mono',consolas,'Courier New',monospace\"><span style=\"color: #7fbfbf\">           </span><span style=\"color: #000080\">INFO    </span> INDEX <span style=\"color: #000080; font-weight: bold\">3000</span>: <span style=\"color: #000080; font-weight: bold\">0.52</span>                                           <a href=\"file:///home/j-gunmo/desktop/00.my-project/17.P-Stage-T1003/4-STAGE/fe/feature.py\"><span style=\"color: #7f7f7f\">feature.py</span></a><span style=\"color: #7f7f7f\">:109</span>\n",
       "</pre>\n"
      ],
      "text/plain": [
       "<rich.jupyter.JupyterRenderable at 0x7f1c04ac9be0>"
      ]
     },
     "metadata": {},
     "output_type": "display_data"
    },
    {
     "name": "stderr",
     "output_type": "stream",
     "text": [
      "INDEX 4000: 0.52\n"
     ]
    },
    {
     "data": {
      "text/html": [
       "<pre style=\"white-space:pre;overflow-x:auto;line-height:normal;font-family:Menlo,'DejaVu Sans Mono',consolas,'Courier New',monospace\"><span style=\"color: #7fbfbf\">           </span><span style=\"color: #000080\">INFO    </span> INDEX <span style=\"color: #000080; font-weight: bold\">4000</span>: <span style=\"color: #000080; font-weight: bold\">0.52</span>                                           <a href=\"file:///home/j-gunmo/desktop/00.my-project/17.P-Stage-T1003/4-STAGE/fe/feature.py\"><span style=\"color: #7f7f7f\">feature.py</span></a><span style=\"color: #7f7f7f\">:109</span>\n",
       "</pre>\n"
      ],
      "text/plain": [
       "<rich.jupyter.JupyterRenderable at 0x7f1cdc7cfcd0>"
      ]
     },
     "metadata": {},
     "output_type": "display_data"
    },
    {
     "name": "stderr",
     "output_type": "stream",
     "text": [
      "INDEX 5000: 0.52\n"
     ]
    },
    {
     "data": {
      "text/html": [
       "<pre style=\"white-space:pre;overflow-x:auto;line-height:normal;font-family:Menlo,'DejaVu Sans Mono',consolas,'Courier New',monospace\"><span style=\"color: #7fbfbf\">           </span><span style=\"color: #000080\">INFO    </span> INDEX <span style=\"color: #000080; font-weight: bold\">5000</span>: <span style=\"color: #000080; font-weight: bold\">0.52</span>                                           <a href=\"file:///home/j-gunmo/desktop/00.my-project/17.P-Stage-T1003/4-STAGE/fe/feature.py\"><span style=\"color: #7f7f7f\">feature.py</span></a><span style=\"color: #7f7f7f\">:109</span>\n",
       "</pre>\n"
      ],
      "text/plain": [
       "<rich.jupyter.JupyterRenderable at 0x7f1cdc7e7910>"
      ]
     },
     "metadata": {},
     "output_type": "display_data"
    },
    {
     "name": "stderr",
     "output_type": "stream",
     "text": [
      "INDEX 6000: 0.52\n"
     ]
    },
    {
     "data": {
      "text/html": [
       "<pre style=\"white-space:pre;overflow-x:auto;line-height:normal;font-family:Menlo,'DejaVu Sans Mono',consolas,'Courier New',monospace\"><span style=\"color: #7fbfbf\">           </span><span style=\"color: #000080\">INFO    </span> INDEX <span style=\"color: #000080; font-weight: bold\">6000</span>: <span style=\"color: #000080; font-weight: bold\">0.52</span>                                           <a href=\"file:///home/j-gunmo/desktop/00.my-project/17.P-Stage-T1003/4-STAGE/fe/feature.py\"><span style=\"color: #7f7f7f\">feature.py</span></a><span style=\"color: #7f7f7f\">:109</span>\n",
       "</pre>\n"
      ],
      "text/plain": [
       "<rich.jupyter.JupyterRenderable at 0x7f1cdc7cfa60>"
      ]
     },
     "metadata": {},
     "output_type": "display_data"
    },
    {
     "name": "stderr",
     "output_type": "stream",
     "text": [
      "INDEX 7000: 0.52\n"
     ]
    },
    {
     "data": {
      "text/html": [
       "<pre style=\"white-space:pre;overflow-x:auto;line-height:normal;font-family:Menlo,'DejaVu Sans Mono',consolas,'Courier New',monospace\"><span style=\"color: #7fbfbf\">           </span><span style=\"color: #000080\">INFO    </span> INDEX <span style=\"color: #000080; font-weight: bold\">7000</span>: <span style=\"color: #000080; font-weight: bold\">0.52</span>                                           <a href=\"file:///home/j-gunmo/desktop/00.my-project/17.P-Stage-T1003/4-STAGE/fe/feature.py\"><span style=\"color: #7f7f7f\">feature.py</span></a><span style=\"color: #7f7f7f\">:109</span>\n",
       "</pre>\n"
      ],
      "text/plain": [
       "<rich.jupyter.JupyterRenderable at 0x7f1cdc7e71c0>"
      ]
     },
     "metadata": {},
     "output_type": "display_data"
    },
    {
     "name": "stderr",
     "output_type": "stream",
     "text": [
      "INDEX 8000: 0.52\n"
     ]
    },
    {
     "data": {
      "text/html": [
       "<pre style=\"white-space:pre;overflow-x:auto;line-height:normal;font-family:Menlo,'DejaVu Sans Mono',consolas,'Courier New',monospace\"><span style=\"color: #7fbfbf\">           </span><span style=\"color: #000080\">INFO    </span> INDEX <span style=\"color: #000080; font-weight: bold\">8000</span>: <span style=\"color: #000080; font-weight: bold\">0.52</span>                                           <a href=\"file:///home/j-gunmo/desktop/00.my-project/17.P-Stage-T1003/4-STAGE/fe/feature.py\"><span style=\"color: #7f7f7f\">feature.py</span></a><span style=\"color: #7f7f7f\">:109</span>\n",
       "</pre>\n"
      ],
      "text/plain": [
       "<rich.jupyter.JupyterRenderable at 0x7f1c04ac97c0>"
      ]
     },
     "metadata": {},
     "output_type": "display_data"
    },
    {
     "name": "stderr",
     "output_type": "stream",
     "text": [
      "INDEX 9000: 0.52\n"
     ]
    },
    {
     "data": {
      "text/html": [
       "<pre style=\"white-space:pre;overflow-x:auto;line-height:normal;font-family:Menlo,'DejaVu Sans Mono',consolas,'Courier New',monospace\"><span style=\"color: #7fbfbf\">           </span><span style=\"color: #000080\">INFO    </span> INDEX <span style=\"color: #000080; font-weight: bold\">9000</span>: <span style=\"color: #000080; font-weight: bold\">0.52</span>                                           <a href=\"file:///home/j-gunmo/desktop/00.my-project/17.P-Stage-T1003/4-STAGE/fe/feature.py\"><span style=\"color: #7f7f7f\">feature.py</span></a><span style=\"color: #7f7f7f\">:109</span>\n",
       "</pre>\n"
      ],
      "text/plain": [
       "<rich.jupyter.JupyterRenderable at 0x7f1c04ac9490>"
      ]
     },
     "metadata": {},
     "output_type": "display_data"
    },
    {
     "name": "stderr",
     "output_type": "stream",
     "text": [
      "\n",
      "top100CorrectPer : 사용자가 최근 푼 TOP-100개에 대한 정답률입니다.\n"
     ]
    },
    {
     "data": {
      "text/html": [
       "<pre style=\"white-space:pre;overflow-x:auto;line-height:normal;font-family:Menlo,'DejaVu Sans Mono',consolas,'Courier New',monospace\"><span style=\"color: #7fbfbf\">           </span><span style=\"color: #000080\">INFO    </span>                                                            <a href=\"file:///home/j-gunmo/desktop/00.my-project/17.P-Stage-T1003/4-STAGE/fe/feature.py\"><span style=\"color: #7f7f7f\">feature.py</span></a><span style=\"color: #7f7f7f\">:104</span>\n",
       "                    top100CorrectPer : 사용자가 최근 푼 TOP-100개에 대한                     \n",
       "                    정답률입니다.                                                            \n",
       "</pre>\n"
      ],
      "text/plain": [
       "<rich.jupyter.JupyterRenderable at 0x7f1cdc7e72e0>"
      ]
     },
     "metadata": {},
     "output_type": "display_data"
    },
    {
     "name": "stderr",
     "output_type": "stream",
     "text": [
      "dtype: float64\n"
     ]
    },
    {
     "data": {
      "text/html": [
       "<pre style=\"white-space:pre;overflow-x:auto;line-height:normal;font-family:Menlo,'DejaVu Sans Mono',consolas,'Courier New',monospace\"><span style=\"color: #7fbfbf\">           </span><span style=\"color: #000080\">INFO    </span> dtype: float64                                             <a href=\"file:///home/j-gunmo/desktop/00.my-project/17.P-Stage-T1003/4-STAGE/fe/feature.py\"><span style=\"color: #7f7f7f\">feature.py</span></a><span style=\"color: #7f7f7f\">:105</span>\n",
       "</pre>\n"
      ],
      "text/plain": [
       "<rich.jupyter.JupyterRenderable at 0x7f1c04ac9d60>"
      ]
     },
     "metadata": {},
     "output_type": "display_data"
    },
    {
     "name": "stderr",
     "output_type": "stream",
     "text": [
      "[Examples]\n"
     ]
    },
    {
     "data": {
      "text/html": [
       "<pre style=\"white-space:pre;overflow-x:auto;line-height:normal;font-family:Menlo,'DejaVu Sans Mono',consolas,'Courier New',monospace\"><span style=\"color: #7fbfbf\">           </span><span style=\"color: #000080\">INFO    </span> <span style=\"font-weight: bold\">[</span>Examples<span style=\"font-weight: bold\">]</span>                                                 <a href=\"file:///home/j-gunmo/desktop/00.my-project/17.P-Stage-T1003/4-STAGE/fe/feature.py\"><span style=\"color: #7f7f7f\">feature.py</span></a><span style=\"color: #7f7f7f\">:106</span>\n",
       "</pre>\n"
      ],
      "text/plain": [
       "<rich.jupyter.JupyterRenderable at 0x7f1c04ac9580>"
      ]
     },
     "metadata": {},
     "output_type": "display_data"
    },
    {
     "name": "stderr",
     "output_type": "stream",
     "text": [
      "INDEX 0000: 0.58\n"
     ]
    },
    {
     "data": {
      "text/html": [
       "<pre style=\"white-space:pre;overflow-x:auto;line-height:normal;font-family:Menlo,'DejaVu Sans Mono',consolas,'Courier New',monospace\"><span style=\"color: #7fbfbf\">           </span><span style=\"color: #000080\">INFO    </span> INDEX <span style=\"color: #000080; font-weight: bold\">0000</span>: <span style=\"color: #000080; font-weight: bold\">0.58</span>                                           <a href=\"file:///home/j-gunmo/desktop/00.my-project/17.P-Stage-T1003/4-STAGE/fe/feature.py\"><span style=\"color: #7f7f7f\">feature.py</span></a><span style=\"color: #7f7f7f\">:109</span>\n",
       "</pre>\n"
      ],
      "text/plain": [
       "<rich.jupyter.JupyterRenderable at 0x7f1c04ac9fa0>"
      ]
     },
     "metadata": {},
     "output_type": "display_data"
    },
    {
     "name": "stderr",
     "output_type": "stream",
     "text": [
      "INDEX 1000: 0.58\n"
     ]
    },
    {
     "data": {
      "text/html": [
       "<pre style=\"white-space:pre;overflow-x:auto;line-height:normal;font-family:Menlo,'DejaVu Sans Mono',consolas,'Courier New',monospace\"><span style=\"color: #7fbfbf\">           </span><span style=\"color: #000080\">INFO    </span> INDEX <span style=\"color: #000080; font-weight: bold\">1000</span>: <span style=\"color: #000080; font-weight: bold\">0.58</span>                                           <a href=\"file:///home/j-gunmo/desktop/00.my-project/17.P-Stage-T1003/4-STAGE/fe/feature.py\"><span style=\"color: #7f7f7f\">feature.py</span></a><span style=\"color: #7f7f7f\">:109</span>\n",
       "</pre>\n"
      ],
      "text/plain": [
       "<rich.jupyter.JupyterRenderable at 0x7f1c04ac9cd0>"
      ]
     },
     "metadata": {},
     "output_type": "display_data"
    },
    {
     "name": "stderr",
     "output_type": "stream",
     "text": [
      "INDEX 2000: 0.58\n"
     ]
    },
    {
     "data": {
      "text/html": [
       "<pre style=\"white-space:pre;overflow-x:auto;line-height:normal;font-family:Menlo,'DejaVu Sans Mono',consolas,'Courier New',monospace\"><span style=\"color: #7fbfbf\">           </span><span style=\"color: #000080\">INFO    </span> INDEX <span style=\"color: #000080; font-weight: bold\">2000</span>: <span style=\"color: #000080; font-weight: bold\">0.58</span>                                           <a href=\"file:///home/j-gunmo/desktop/00.my-project/17.P-Stage-T1003/4-STAGE/fe/feature.py\"><span style=\"color: #7f7f7f\">feature.py</span></a><span style=\"color: #7f7f7f\">:109</span>\n",
       "</pre>\n"
      ],
      "text/plain": [
       "<rich.jupyter.JupyterRenderable at 0x7f1c04ac9be0>"
      ]
     },
     "metadata": {},
     "output_type": "display_data"
    },
    {
     "name": "stderr",
     "output_type": "stream",
     "text": [
      "INDEX 3000: 0.58\n"
     ]
    },
    {
     "data": {
      "text/html": [
       "<pre style=\"white-space:pre;overflow-x:auto;line-height:normal;font-family:Menlo,'DejaVu Sans Mono',consolas,'Courier New',monospace\"><span style=\"color: #7fbfbf\">           </span><span style=\"color: #000080\">INFO    </span> INDEX <span style=\"color: #000080; font-weight: bold\">3000</span>: <span style=\"color: #000080; font-weight: bold\">0.58</span>                                           <a href=\"file:///home/j-gunmo/desktop/00.my-project/17.P-Stage-T1003/4-STAGE/fe/feature.py\"><span style=\"color: #7f7f7f\">feature.py</span></a><span style=\"color: #7f7f7f\">:109</span>\n",
       "</pre>\n"
      ],
      "text/plain": [
       "<rich.jupyter.JupyterRenderable at 0x7f1c04ac93a0>"
      ]
     },
     "metadata": {},
     "output_type": "display_data"
    },
    {
     "name": "stderr",
     "output_type": "stream",
     "text": [
      "INDEX 4000: 0.58\n"
     ]
    },
    {
     "data": {
      "text/html": [
       "<pre style=\"white-space:pre;overflow-x:auto;line-height:normal;font-family:Menlo,'DejaVu Sans Mono',consolas,'Courier New',monospace\"><span style=\"color: #7fbfbf\">           </span><span style=\"color: #000080\">INFO    </span> INDEX <span style=\"color: #000080; font-weight: bold\">4000</span>: <span style=\"color: #000080; font-weight: bold\">0.58</span>                                           <a href=\"file:///home/j-gunmo/desktop/00.my-project/17.P-Stage-T1003/4-STAGE/fe/feature.py\"><span style=\"color: #7f7f7f\">feature.py</span></a><span style=\"color: #7f7f7f\">:109</span>\n",
       "</pre>\n"
      ],
      "text/plain": [
       "<rich.jupyter.JupyterRenderable at 0x7f1c04ac9940>"
      ]
     },
     "metadata": {},
     "output_type": "display_data"
    },
    {
     "name": "stderr",
     "output_type": "stream",
     "text": [
      "INDEX 5000: 0.58\n"
     ]
    },
    {
     "data": {
      "text/html": [
       "<pre style=\"white-space:pre;overflow-x:auto;line-height:normal;font-family:Menlo,'DejaVu Sans Mono',consolas,'Courier New',monospace\"><span style=\"color: #7fbfbf\">           </span><span style=\"color: #000080\">INFO    </span> INDEX <span style=\"color: #000080; font-weight: bold\">5000</span>: <span style=\"color: #000080; font-weight: bold\">0.58</span>                                           <a href=\"file:///home/j-gunmo/desktop/00.my-project/17.P-Stage-T1003/4-STAGE/fe/feature.py\"><span style=\"color: #7f7f7f\">feature.py</span></a><span style=\"color: #7f7f7f\">:109</span>\n",
       "</pre>\n"
      ],
      "text/plain": [
       "<rich.jupyter.JupyterRenderable at 0x7f1c04ac9d30>"
      ]
     },
     "metadata": {},
     "output_type": "display_data"
    },
    {
     "name": "stderr",
     "output_type": "stream",
     "text": [
      "INDEX 6000: 0.58\n"
     ]
    },
    {
     "data": {
      "text/html": [
       "<pre style=\"white-space:pre;overflow-x:auto;line-height:normal;font-family:Menlo,'DejaVu Sans Mono',consolas,'Courier New',monospace\"><span style=\"color: #7fbfbf\">           </span><span style=\"color: #000080\">INFO    </span> INDEX <span style=\"color: #000080; font-weight: bold\">6000</span>: <span style=\"color: #000080; font-weight: bold\">0.58</span>                                           <a href=\"file:///home/j-gunmo/desktop/00.my-project/17.P-Stage-T1003/4-STAGE/fe/feature.py\"><span style=\"color: #7f7f7f\">feature.py</span></a><span style=\"color: #7f7f7f\">:109</span>\n",
       "</pre>\n"
      ],
      "text/plain": [
       "<rich.jupyter.JupyterRenderable at 0x7f1cdc7e7250>"
      ]
     },
     "metadata": {},
     "output_type": "display_data"
    },
    {
     "name": "stderr",
     "output_type": "stream",
     "text": [
      "INDEX 7000: 0.58\n"
     ]
    },
    {
     "data": {
      "text/html": [
       "<pre style=\"white-space:pre;overflow-x:auto;line-height:normal;font-family:Menlo,'DejaVu Sans Mono',consolas,'Courier New',monospace\"><span style=\"color: #7fbfbf\">           </span><span style=\"color: #000080\">INFO    </span> INDEX <span style=\"color: #000080; font-weight: bold\">7000</span>: <span style=\"color: #000080; font-weight: bold\">0.58</span>                                           <a href=\"file:///home/j-gunmo/desktop/00.my-project/17.P-Stage-T1003/4-STAGE/fe/feature.py\"><span style=\"color: #7f7f7f\">feature.py</span></a><span style=\"color: #7f7f7f\">:109</span>\n",
       "</pre>\n"
      ],
      "text/plain": [
       "<rich.jupyter.JupyterRenderable at 0x7f1c04ac9730>"
      ]
     },
     "metadata": {},
     "output_type": "display_data"
    },
    {
     "name": "stderr",
     "output_type": "stream",
     "text": [
      "INDEX 8000: 0.58\n"
     ]
    },
    {
     "data": {
      "text/html": [
       "<pre style=\"white-space:pre;overflow-x:auto;line-height:normal;font-family:Menlo,'DejaVu Sans Mono',consolas,'Courier New',monospace\"><span style=\"color: #7fbfbf\">           </span><span style=\"color: #000080\">INFO    </span> INDEX <span style=\"color: #000080; font-weight: bold\">8000</span>: <span style=\"color: #000080; font-weight: bold\">0.58</span>                                           <a href=\"file:///home/j-gunmo/desktop/00.my-project/17.P-Stage-T1003/4-STAGE/fe/feature.py\"><span style=\"color: #7f7f7f\">feature.py</span></a><span style=\"color: #7f7f7f\">:109</span>\n",
       "</pre>\n"
      ],
      "text/plain": [
       "<rich.jupyter.JupyterRenderable at 0x7f1c04ac9be0>"
      ]
     },
     "metadata": {},
     "output_type": "display_data"
    },
    {
     "name": "stderr",
     "output_type": "stream",
     "text": [
      "INDEX 9000: 0.58\n"
     ]
    },
    {
     "data": {
      "text/html": [
       "<pre style=\"white-space:pre;overflow-x:auto;line-height:normal;font-family:Menlo,'DejaVu Sans Mono',consolas,'Courier New',monospace\"><span style=\"color: #7fbfbf\">           </span><span style=\"color: #000080\">INFO    </span> INDEX <span style=\"color: #000080; font-weight: bold\">9000</span>: <span style=\"color: #000080; font-weight: bold\">0.58</span>                                           <a href=\"file:///home/j-gunmo/desktop/00.my-project/17.P-Stage-T1003/4-STAGE/fe/feature.py\"><span style=\"color: #7f7f7f\">feature.py</span></a><span style=\"color: #7f7f7f\">:109</span>\n",
       "</pre>\n"
      ],
      "text/plain": [
       "<rich.jupyter.JupyterRenderable at 0x7f1c04ac9490>"
      ]
     },
     "metadata": {},
     "output_type": "display_data"
    },
    {
     "name": "stderr",
     "output_type": "stream",
     "text": [
      "Feature Engineering End ... \n"
     ]
    },
    {
     "data": {
      "text/html": [
       "<pre style=\"white-space:pre;overflow-x:auto;line-height:normal;font-family:Menlo,'DejaVu Sans Mono',consolas,'Courier New',monospace\"><span style=\"color: #7fbfbf\">           </span><span style=\"color: #000080\">INFO    </span> Feature Engineering End <span style=\"color: #808000\">...</span>                                <a href=\"file:///home/j-gunmo/desktop/00.my-project/17.P-Stage-T1003/4-STAGE/fe/feature.py\"><span style=\"color: #7f7f7f\">feature.py</span></a><span style=\"color: #7f7f7f\">:111</span>\n",
       "</pre>\n"
      ],
      "text/plain": [
       "<rich.jupyter.JupyterRenderable at 0x7f1cdc7e7910>"
      ]
     },
     "metadata": {},
     "output_type": "display_data"
    },
    {
     "name": "stderr",
     "output_type": "stream",
     "text": [
      "Original DataFrame Keywords: Index(['userID', 'assessmentItemID', 'testId', 'answerCode', 'Timestamp',\n",
      "       'KnowledgeTag'],\n",
      "      dtype='object')\n"
     ]
    },
    {
     "data": {
      "text/html": [
       "<pre style=\"white-space:pre;overflow-x:auto;line-height:normal;font-family:Menlo,'DejaVu Sans Mono',consolas,'Courier New',monospace\"><span style=\"color: #7fbfbf\">           </span><span style=\"color: #000080\">INFO    </span> Original DataFrame Keywords: Index<span style=\"font-weight: bold\">([</span><span style=\"color: #008000\">'userID'</span>,              <a href=\"file:///home/j-gunmo/desktop/00.my-project/17.P-Stage-T1003/4-STAGE/fe/feature.py\"><span style=\"color: #7f7f7f\">feature.py</span></a><span style=\"color: #7f7f7f\">:112</span>\n",
       "                    <span style=\"color: #008000\">'assessmentItemID'</span>, <span style=\"color: #008000\">'testId'</span>, <span style=\"color: #008000\">'answerCode'</span>, <span style=\"color: #008000\">'Timestamp'</span>,                 \n",
       "                           <span style=\"color: #008000\">'KnowledgeTag'</span><span style=\"font-weight: bold\">]</span>,                                                  \n",
       "                          <span style=\"color: #808000\">dtype</span>=<span style=\"color: #008000\">'object'</span><span style=\"font-weight: bold\">)</span>                                                    \n",
       "</pre>\n"
      ],
      "text/plain": [
       "<rich.jupyter.JupyterRenderable at 0x7f1c04ac9ca0>"
      ]
     },
     "metadata": {},
     "output_type": "display_data"
    },
    {
     "name": "stderr",
     "output_type": "stream",
     "text": [
      "Feature Added DataFrame Keywords: Index(['userID', 'assessmentItemID', 'testId', 'answerCode', 'Timestamp',\n",
      "       'KnowledgeTag', 'testPaper', 'testPaperCnt', 'timeSec', 'firstClass',\n",
      "       'secondClass', 'correctCnt', 'quesCnt', 'correctPer', 'top10CorrectPer',\n",
      "       'top30CorrectPer', 'top50CorrectPer', 'top100CorrectPer'],\n",
      "      dtype='object')\n"
     ]
    },
    {
     "data": {
      "text/html": [
       "<pre style=\"white-space:pre;overflow-x:auto;line-height:normal;font-family:Menlo,'DejaVu Sans Mono',consolas,'Courier New',monospace\"><span style=\"color: #7fbfbf\">           </span><span style=\"color: #000080\">INFO    </span> Feature Added DataFrame Keywords: Index<span style=\"font-weight: bold\">([</span><span style=\"color: #008000\">'userID'</span>,         <a href=\"file:///home/j-gunmo/desktop/00.my-project/17.P-Stage-T1003/4-STAGE/fe/feature.py\"><span style=\"color: #7f7f7f\">feature.py</span></a><span style=\"color: #7f7f7f\">:113</span>\n",
       "                    <span style=\"color: #008000\">'assessmentItemID'</span>, <span style=\"color: #008000\">'testId'</span>, <span style=\"color: #008000\">'answerCode'</span>, <span style=\"color: #008000\">'Timestamp'</span>,                 \n",
       "                           <span style=\"color: #008000\">'KnowledgeTag'</span>, <span style=\"color: #008000\">'testPaper'</span>, <span style=\"color: #008000\">'testPaperCnt'</span>,                      \n",
       "                    <span style=\"color: #008000\">'timeSec'</span>, <span style=\"color: #008000\">'firstClass'</span>,                                                 \n",
       "                           <span style=\"color: #008000\">'secondClass'</span>, <span style=\"color: #008000\">'correctCnt'</span>, <span style=\"color: #008000\">'quesCnt'</span>,                           \n",
       "                    <span style=\"color: #008000\">'correctPer'</span>, <span style=\"color: #008000\">'top10CorrectPer'</span>,                                         \n",
       "                           <span style=\"color: #008000\">'top30CorrectPer'</span>, <span style=\"color: #008000\">'top50CorrectPer'</span>,                             \n",
       "                    <span style=\"color: #008000\">'top100CorrectPer'</span><span style=\"font-weight: bold\">]</span>,                                                     \n",
       "                          <span style=\"color: #808000\">dtype</span>=<span style=\"color: #008000\">'object'</span><span style=\"font-weight: bold\">)</span>                                                    \n",
       "</pre>\n"
      ],
      "text/plain": [
       "<rich.jupyter.JupyterRenderable at 0x7f1cdc7e7250>"
      ]
     },
     "metadata": {},
     "output_type": "display_data"
    },
    {
     "name": "stderr",
     "output_type": "stream",
     "text": [
      "Split based on User\n"
     ]
    },
    {
     "data": {
      "text/html": [
       "<pre style=\"white-space:pre;overflow-x:auto;line-height:normal;font-family:Menlo,'DejaVu Sans Mono',consolas,'Courier New',monospace\"><span style=\"color: #7fbfbf\">           </span><span style=\"color: #000080\">INFO    </span> Split based on User                                     <a href=\"file:///home/j-gunmo/desktop/00.my-project/17.P-Stage-T1003/4-STAGE/dkt_dataset.py\"><span style=\"color: #7f7f7f\">dkt_dataset.py</span></a><span style=\"color: #7f7f7f\">:43</span>\n",
       "</pre>\n"
      ],
      "text/plain": [
       "<rich.jupyter.JupyterRenderable at 0x7f1c04ac9310>"
      ]
     },
     "metadata": {},
     "output_type": "display_data"
    },
    {
     "name": "stderr",
     "output_type": "stream",
     "text": [
      "Original Train Dataset: 2266586\n"
     ]
    },
    {
     "data": {
      "text/html": [
       "<pre style=\"white-space:pre;overflow-x:auto;line-height:normal;font-family:Menlo,'DejaVu Sans Mono',consolas,'Courier New',monospace\"><span style=\"color: #7fbfbf\">           </span><span style=\"color: #000080\">INFO    </span> Original Train Dataset: <span style=\"color: #000080; font-weight: bold\">2266586</span>                         <a href=\"file:///home/j-gunmo/desktop/00.my-project/17.P-Stage-T1003/4-STAGE/dkt_dataset.py\"><span style=\"color: #7f7f7f\">dkt_dataset.py</span></a><span style=\"color: #7f7f7f\">:44</span>\n",
       "</pre>\n"
      ],
      "text/plain": [
       "<rich.jupyter.JupyterRenderable at 0x7f1c04ac9be0>"
      ]
     },
     "metadata": {},
     "output_type": "display_data"
    },
    {
     "name": "stderr",
     "output_type": "stream",
     "text": [
      "Split Train Dataset: 2047600\n"
     ]
    },
    {
     "data": {
      "text/html": [
       "<pre style=\"white-space:pre;overflow-x:auto;line-height:normal;font-family:Menlo,'DejaVu Sans Mono',consolas,'Courier New',monospace\"><span style=\"color: #7fbfbf\">[06:02:11] </span><span style=\"color: #000080\">INFO    </span> Split Train Dataset: <span style=\"color: #000080; font-weight: bold\">2047600</span>                            <a href=\"file:///home/j-gunmo/desktop/00.my-project/17.P-Stage-T1003/4-STAGE/dkt_dataset.py\"><span style=\"color: #7f7f7f\">dkt_dataset.py</span></a><span style=\"color: #7f7f7f\">:57</span>\n",
       "</pre>\n"
      ],
      "text/plain": [
       "<rich.jupyter.JupyterRenderable at 0x7f1bca0707f0>"
      ]
     },
     "metadata": {},
     "output_type": "display_data"
    },
    {
     "name": "stderr",
     "output_type": "stream",
     "text": [
      "Split Valid Dataset: 218986\n"
     ]
    },
    {
     "data": {
      "text/html": [
       "<pre style=\"white-space:pre;overflow-x:auto;line-height:normal;font-family:Menlo,'DejaVu Sans Mono',consolas,'Courier New',monospace\"><span style=\"color: #7fbfbf\">           </span><span style=\"color: #000080\">INFO    </span> Split Valid Dataset: <span style=\"color: #000080; font-weight: bold\">218986</span>                             <a href=\"file:///home/j-gunmo/desktop/00.my-project/17.P-Stage-T1003/4-STAGE/dkt_dataset.py\"><span style=\"color: #7f7f7f\">dkt_dataset.py</span></a><span style=\"color: #7f7f7f\">:58</span>\n",
       "</pre>\n"
      ],
      "text/plain": [
       "<rich.jupyter.JupyterRenderable at 0x7f1bca070400>"
      ]
     },
     "metadata": {},
     "output_type": "display_data"
    },
    {
     "name": "stderr",
     "output_type": "stream",
     "text": [
      "Preprocessing Labels .. \n"
     ]
    },
    {
     "data": {
      "text/html": [
       "<pre style=\"white-space:pre;overflow-x:auto;line-height:normal;font-family:Menlo,'DejaVu Sans Mono',consolas,'Courier New',monospace\"><span style=\"color: #7fbfbf\">           </span><span style=\"color: #000080\">INFO    </span> Preprocessing Labels ..                                <a href=\"file:///home/j-gunmo/desktop/00.my-project/17.P-Stage-T1003/4-STAGE/dkt_dataset.py\"><span style=\"color: #7f7f7f\">dkt_dataset.py</span></a><span style=\"color: #7f7f7f\">:158</span>\n",
       "</pre>\n"
      ],
      "text/plain": [
       "<rich.jupyter.JupyterRenderable at 0x7f1bca070e20>"
      ]
     },
     "metadata": {},
     "output_type": "display_data"
    },
    {
     "name": "stderr",
     "output_type": "stream",
     "text": [
      "Label Columns: ['testPaper', 'firstClass', 'secondClass']\n"
     ]
    },
    {
     "data": {
      "text/html": [
       "<pre style=\"white-space:pre;overflow-x:auto;line-height:normal;font-family:Menlo,'DejaVu Sans Mono',consolas,'Courier New',monospace\"><span style=\"color: #7fbfbf\">           </span><span style=\"color: #000080\">INFO    </span> Label Columns: <span style=\"font-weight: bold\">[</span><span style=\"color: #008000\">'testPaper'</span>, <span style=\"color: #008000\">'firstClass'</span>,             <a href=\"file:///home/j-gunmo/desktop/00.my-project/17.P-Stage-T1003/4-STAGE/dkt_dataset.py\"><span style=\"color: #7f7f7f\">dkt_dataset.py</span></a><span style=\"color: #7f7f7f\">:159</span>\n",
       "                    <span style=\"color: #008000\">'secondClass'</span><span style=\"font-weight: bold\">]</span>                                                           \n",
       "</pre>\n"
      ],
      "text/plain": [
       "<rich.jupyter.JupyterRenderable at 0x7f1bca0707f0>"
      ]
     },
     "metadata": {},
     "output_type": "display_data"
    },
    {
     "name": "stderr",
     "output_type": "stream",
     "text": [
      "\n",
      "Length of testPaper            : 1538\n"
     ]
    },
    {
     "data": {
      "text/html": [
       "<pre style=\"white-space:pre;overflow-x:auto;line-height:normal;font-family:Menlo,'DejaVu Sans Mono',consolas,'Courier New',monospace\"><span style=\"color: #7fbfbf\">           </span><span style=\"color: #000080\">INFO    </span>                                                        <a href=\"file:///home/j-gunmo/desktop/00.my-project/17.P-Stage-T1003/4-STAGE/dkt_dataset.py\"><span style=\"color: #7f7f7f\">dkt_dataset.py</span></a><span style=\"color: #7f7f7f\">:167</span>\n",
       "                    Length of testPaper            : <span style=\"color: #000080; font-weight: bold\">1538</span>                                    \n",
       "</pre>\n"
      ],
      "text/plain": [
       "<rich.jupyter.JupyterRenderable at 0x7f1bca070af0>"
      ]
     },
     "metadata": {},
     "output_type": "display_data"
    },
    {
     "name": "stderr",
     "output_type": "stream",
     "text": [
      "Before : 0    060001\n",
      "1    060001\n",
      "2    060001\n",
      "3    060001\n",
      "4    060001\n",
      "5    060001\n",
      "6    060003\n",
      "7    060003\n",
      "8    060003\n",
      "9    060003\n",
      "Name: testPaper, dtype: object\n"
     ]
    },
    {
     "data": {
      "text/html": [
       "<pre style=\"white-space:pre;overflow-x:auto;line-height:normal;font-family:Menlo,'DejaVu Sans Mono',consolas,'Courier New',monospace\"><span style=\"color: #7fbfbf\">           </span><span style=\"color: #000080\">INFO    </span> Before : <span style=\"color: #000080; font-weight: bold\">0</span>    <span style=\"color: #000080; font-weight: bold\">060001</span>                                   <a href=\"file:///home/j-gunmo/desktop/00.my-project/17.P-Stage-T1003/4-STAGE/dkt_dataset.py\"><span style=\"color: #7f7f7f\">dkt_dataset.py</span></a><span style=\"color: #7f7f7f\">:172</span>\n",
       "                    <span style=\"color: #000080; font-weight: bold\">1</span>    <span style=\"color: #000080; font-weight: bold\">060001</span>                                                              \n",
       "                    <span style=\"color: #000080; font-weight: bold\">2</span>    <span style=\"color: #000080; font-weight: bold\">060001</span>                                                              \n",
       "                    <span style=\"color: #000080; font-weight: bold\">3</span>    <span style=\"color: #000080; font-weight: bold\">060001</span>                                                              \n",
       "                    <span style=\"color: #000080; font-weight: bold\">4</span>    <span style=\"color: #000080; font-weight: bold\">060001</span>                                                              \n",
       "                    <span style=\"color: #000080; font-weight: bold\">5</span>    <span style=\"color: #000080; font-weight: bold\">060001</span>                                                              \n",
       "                    <span style=\"color: #000080; font-weight: bold\">6</span>    <span style=\"color: #000080; font-weight: bold\">060003</span>                                                              \n",
       "                    <span style=\"color: #000080; font-weight: bold\">7</span>    <span style=\"color: #000080; font-weight: bold\">060003</span>                                                              \n",
       "                    <span style=\"color: #000080; font-weight: bold\">8</span>    <span style=\"color: #000080; font-weight: bold\">060003</span>                                                              \n",
       "                    <span style=\"color: #000080; font-weight: bold\">9</span>    <span style=\"color: #000080; font-weight: bold\">060003</span>                                                              \n",
       "                    Name: testPaper, dtype: object                                           \n",
       "</pre>\n"
      ],
      "text/plain": [
       "<rich.jupyter.JupyterRenderable at 0x7f1bca070e20>"
      ]
     },
     "metadata": {},
     "output_type": "display_data"
    },
    {
     "name": "stderr",
     "output_type": "stream",
     "text": [
      "After : 0    975\n",
      "1    975\n",
      "2    975\n",
      "3    975\n",
      "4    975\n",
      "5    975\n",
      "6    977\n",
      "7    977\n",
      "8    977\n",
      "9    977\n",
      "Name: testPaper, dtype: int64\n"
     ]
    },
    {
     "data": {
      "text/html": [
       "<pre style=\"white-space:pre;overflow-x:auto;line-height:normal;font-family:Menlo,'DejaVu Sans Mono',consolas,'Courier New',monospace\"><span style=\"color: #7fbfbf\">[06:02:12] </span><span style=\"color: #000080\">INFO    </span> After : <span style=\"color: #000080; font-weight: bold\">0</span>    <span style=\"color: #000080; font-weight: bold\">975</span>                                       <a href=\"file:///home/j-gunmo/desktop/00.my-project/17.P-Stage-T1003/4-STAGE/dkt_dataset.py\"><span style=\"color: #7f7f7f\">dkt_dataset.py</span></a><span style=\"color: #7f7f7f\">:175</span>\n",
       "                    <span style=\"color: #000080; font-weight: bold\">1</span>    <span style=\"color: #000080; font-weight: bold\">975</span>                                                                 \n",
       "                    <span style=\"color: #000080; font-weight: bold\">2</span>    <span style=\"color: #000080; font-weight: bold\">975</span>                                                                 \n",
       "                    <span style=\"color: #000080; font-weight: bold\">3</span>    <span style=\"color: #000080; font-weight: bold\">975</span>                                                                 \n",
       "                    <span style=\"color: #000080; font-weight: bold\">4</span>    <span style=\"color: #000080; font-weight: bold\">975</span>                                                                 \n",
       "                    <span style=\"color: #000080; font-weight: bold\">5</span>    <span style=\"color: #000080; font-weight: bold\">975</span>                                                                 \n",
       "                    <span style=\"color: #000080; font-weight: bold\">6</span>    <span style=\"color: #000080; font-weight: bold\">977</span>                                                                 \n",
       "                    <span style=\"color: #000080; font-weight: bold\">7</span>    <span style=\"color: #000080; font-weight: bold\">977</span>                                                                 \n",
       "                    <span style=\"color: #000080; font-weight: bold\">8</span>    <span style=\"color: #000080; font-weight: bold\">977</span>                                                                 \n",
       "                    <span style=\"color: #000080; font-weight: bold\">9</span>    <span style=\"color: #000080; font-weight: bold\">977</span>                                                                 \n",
       "                    Name: testPaper, dtype: int64                                            \n",
       "</pre>\n"
      ],
      "text/plain": [
       "<rich.jupyter.JupyterRenderable at 0x7f1bca070dc0>"
      ]
     },
     "metadata": {},
     "output_type": "display_data"
    },
    {
     "name": "stderr",
     "output_type": "stream",
     "text": [
      "/home/j-gunmo/desktop/00.my-project/17.P-Stage-T1003/4-STAGE/dkt_dataset.py:183: SettingWithCopyWarning: \n",
      "A value is trying to be set on a copy of a slice from a DataFrame.\n",
      "Try using .loc[row_indexer,col_indexer] = value instead\n",
      "\n",
      "See the caveats in the documentation: https://pandas.pydata.org/pandas-docs/stable/user_guide/indexing.html#returning-a-view-versus-a-copy\n",
      "  self.datas[\"test\"][k] = self.datas[\"test\"][k].apply(lambda x: x if x in labels else \"unknown\")\n",
      "/home/j-gunmo/desktop/00.my-project/17.P-Stage-T1003/4-STAGE/dkt_dataset.py:184: SettingWithCopyWarning: \n",
      "A value is trying to be set on a copy of a slice from a DataFrame.\n",
      "Try using .loc[row_indexer,col_indexer] = value instead\n",
      "\n",
      "See the caveats in the documentation: https://pandas.pydata.org/pandas-docs/stable/user_guide/indexing.html#returning-a-view-versus-a-copy\n",
      "  self.datas[\"test\"][k] = self.datas[\"test\"][k].astype(str)\n",
      "/home/j-gunmo/desktop/00.my-project/17.P-Stage-T1003/4-STAGE/dkt_dataset.py:185: SettingWithCopyWarning: \n",
      "A value is trying to be set on a copy of a slice from a DataFrame.\n",
      "Try using .loc[row_indexer,col_indexer] = value instead\n",
      "\n",
      "See the caveats in the documentation: https://pandas.pydata.org/pandas-docs/stable/user_guide/indexing.html#returning-a-view-versus-a-copy\n",
      "  self.datas[\"test\"][k] = encoders[k].transform(self.datas[\"test\"][k])\n",
      "\n",
      "Length of firstClass           : 10\n"
     ]
    },
    {
     "data": {
      "text/html": [
       "<pre style=\"white-space:pre;overflow-x:auto;line-height:normal;font-family:Menlo,'DejaVu Sans Mono',consolas,'Courier New',monospace\"><span style=\"color: #7fbfbf\">[06:02:16] </span><span style=\"color: #000080\">INFO    </span>                                                        <a href=\"file:///home/j-gunmo/desktop/00.my-project/17.P-Stage-T1003/4-STAGE/dkt_dataset.py\"><span style=\"color: #7f7f7f\">dkt_dataset.py</span></a><span style=\"color: #7f7f7f\">:167</span>\n",
       "                    Length of firstClass           : <span style=\"color: #000080; font-weight: bold\">10</span>                                      \n",
       "</pre>\n"
      ],
      "text/plain": [
       "<rich.jupyter.JupyterRenderable at 0x7f1bca070d00>"
      ]
     },
     "metadata": {},
     "output_type": "display_data"
    },
    {
     "name": "stderr",
     "output_type": "stream",
     "text": [
      "Before : 0    6\n",
      "1    6\n",
      "2    6\n",
      "3    6\n",
      "4    6\n",
      "5    6\n",
      "6    6\n",
      "7    6\n",
      "8    6\n",
      "9    6\n",
      "Name: firstClass, dtype: object\n"
     ]
    },
    {
     "data": {
      "text/html": [
       "<pre style=\"white-space:pre;overflow-x:auto;line-height:normal;font-family:Menlo,'DejaVu Sans Mono',consolas,'Courier New',monospace\"><span style=\"color: #7fbfbf\">           </span><span style=\"color: #000080\">INFO    </span> Before : <span style=\"color: #000080; font-weight: bold\">0</span>    <span style=\"color: #000080; font-weight: bold\">6</span>                                        <a href=\"file:///home/j-gunmo/desktop/00.my-project/17.P-Stage-T1003/4-STAGE/dkt_dataset.py\"><span style=\"color: #7f7f7f\">dkt_dataset.py</span></a><span style=\"color: #7f7f7f\">:172</span>\n",
       "                    <span style=\"color: #000080; font-weight: bold\">1</span>    <span style=\"color: #000080; font-weight: bold\">6</span>                                                                   \n",
       "                    <span style=\"color: #000080; font-weight: bold\">2</span>    <span style=\"color: #000080; font-weight: bold\">6</span>                                                                   \n",
       "                    <span style=\"color: #000080; font-weight: bold\">3</span>    <span style=\"color: #000080; font-weight: bold\">6</span>                                                                   \n",
       "                    <span style=\"color: #000080; font-weight: bold\">4</span>    <span style=\"color: #000080; font-weight: bold\">6</span>                                                                   \n",
       "                    <span style=\"color: #000080; font-weight: bold\">5</span>    <span style=\"color: #000080; font-weight: bold\">6</span>                                                                   \n",
       "                    <span style=\"color: #000080; font-weight: bold\">6</span>    <span style=\"color: #000080; font-weight: bold\">6</span>                                                                   \n",
       "                    <span style=\"color: #000080; font-weight: bold\">7</span>    <span style=\"color: #000080; font-weight: bold\">6</span>                                                                   \n",
       "                    <span style=\"color: #000080; font-weight: bold\">8</span>    <span style=\"color: #000080; font-weight: bold\">6</span>                                                                   \n",
       "                    <span style=\"color: #000080; font-weight: bold\">9</span>    <span style=\"color: #000080; font-weight: bold\">6</span>                                                                   \n",
       "                    Name: firstClass, dtype: object                                          \n",
       "</pre>\n"
      ],
      "text/plain": [
       "<rich.jupyter.JupyterRenderable at 0x7f1bca070ee0>"
      ]
     },
     "metadata": {},
     "output_type": "display_data"
    },
    {
     "name": "stderr",
     "output_type": "stream",
     "text": [
      "After : 0    5\n",
      "1    5\n",
      "2    5\n",
      "3    5\n",
      "4    5\n",
      "5    5\n",
      "6    5\n",
      "7    5\n",
      "8    5\n",
      "9    5\n",
      "Name: firstClass, dtype: int64\n"
     ]
    },
    {
     "data": {
      "text/html": [
       "<pre style=\"white-space:pre;overflow-x:auto;line-height:normal;font-family:Menlo,'DejaVu Sans Mono',consolas,'Courier New',monospace\"><span style=\"color: #7fbfbf\">           </span><span style=\"color: #000080\">INFO    </span> After : <span style=\"color: #000080; font-weight: bold\">0</span>    <span style=\"color: #000080; font-weight: bold\">5</span>                                         <a href=\"file:///home/j-gunmo/desktop/00.my-project/17.P-Stage-T1003/4-STAGE/dkt_dataset.py\"><span style=\"color: #7f7f7f\">dkt_dataset.py</span></a><span style=\"color: #7f7f7f\">:175</span>\n",
       "                    <span style=\"color: #000080; font-weight: bold\">1</span>    <span style=\"color: #000080; font-weight: bold\">5</span>                                                                   \n",
       "                    <span style=\"color: #000080; font-weight: bold\">2</span>    <span style=\"color: #000080; font-weight: bold\">5</span>                                                                   \n",
       "                    <span style=\"color: #000080; font-weight: bold\">3</span>    <span style=\"color: #000080; font-weight: bold\">5</span>                                                                   \n",
       "                    <span style=\"color: #000080; font-weight: bold\">4</span>    <span style=\"color: #000080; font-weight: bold\">5</span>                                                                   \n",
       "                    <span style=\"color: #000080; font-weight: bold\">5</span>    <span style=\"color: #000080; font-weight: bold\">5</span>                                                                   \n",
       "                    <span style=\"color: #000080; font-weight: bold\">6</span>    <span style=\"color: #000080; font-weight: bold\">5</span>                                                                   \n",
       "                    <span style=\"color: #000080; font-weight: bold\">7</span>    <span style=\"color: #000080; font-weight: bold\">5</span>                                                                   \n",
       "                    <span style=\"color: #000080; font-weight: bold\">8</span>    <span style=\"color: #000080; font-weight: bold\">5</span>                                                                   \n",
       "                    <span style=\"color: #000080; font-weight: bold\">9</span>    <span style=\"color: #000080; font-weight: bold\">5</span>                                                                   \n",
       "                    Name: firstClass, dtype: int64                                           \n",
       "</pre>\n"
      ],
      "text/plain": [
       "<rich.jupyter.JupyterRenderable at 0x7f1bca070e20>"
      ]
     },
     "metadata": {},
     "output_type": "display_data"
    },
    {
     "name": "stderr",
     "output_type": "stream",
     "text": [
      "\n",
      "Length of secondClass          : 913\n"
     ]
    },
    {
     "data": {
      "text/html": [
       "<pre style=\"white-space:pre;overflow-x:auto;line-height:normal;font-family:Menlo,'DejaVu Sans Mono',consolas,'Courier New',monospace\"><span style=\"color: #7fbfbf\">[06:02:17] </span><span style=\"color: #000080\">INFO    </span>                                                        <a href=\"file:///home/j-gunmo/desktop/00.my-project/17.P-Stage-T1003/4-STAGE/dkt_dataset.py\"><span style=\"color: #7f7f7f\">dkt_dataset.py</span></a><span style=\"color: #7f7f7f\">:167</span>\n",
       "                    Length of secondClass          : <span style=\"color: #000080; font-weight: bold\">913</span>                                     \n",
       "</pre>\n"
      ],
      "text/plain": [
       "<rich.jupyter.JupyterRenderable at 0x7f1bca070c40>"
      ]
     },
     "metadata": {},
     "output_type": "display_data"
    },
    {
     "name": "stderr",
     "output_type": "stream",
     "text": [
      "Before : 0    7224\n",
      "1    7225\n",
      "2    7225\n",
      "3    7225\n",
      "4    7225\n",
      "5    7225\n",
      "6    7226\n",
      "7    7226\n",
      "8    7226\n",
      "9    7226\n",
      "Name: secondClass, dtype: object\n"
     ]
    },
    {
     "data": {
      "text/html": [
       "<pre style=\"white-space:pre;overflow-x:auto;line-height:normal;font-family:Menlo,'DejaVu Sans Mono',consolas,'Courier New',monospace\"><span style=\"color: #7fbfbf\">           </span><span style=\"color: #000080\">INFO    </span> Before : <span style=\"color: #000080; font-weight: bold\">0</span>    <span style=\"color: #000080; font-weight: bold\">7224</span>                                     <a href=\"file:///home/j-gunmo/desktop/00.my-project/17.P-Stage-T1003/4-STAGE/dkt_dataset.py\"><span style=\"color: #7f7f7f\">dkt_dataset.py</span></a><span style=\"color: #7f7f7f\">:172</span>\n",
       "                    <span style=\"color: #000080; font-weight: bold\">1</span>    <span style=\"color: #000080; font-weight: bold\">7225</span>                                                                \n",
       "                    <span style=\"color: #000080; font-weight: bold\">2</span>    <span style=\"color: #000080; font-weight: bold\">7225</span>                                                                \n",
       "                    <span style=\"color: #000080; font-weight: bold\">3</span>    <span style=\"color: #000080; font-weight: bold\">7225</span>                                                                \n",
       "                    <span style=\"color: #000080; font-weight: bold\">4</span>    <span style=\"color: #000080; font-weight: bold\">7225</span>                                                                \n",
       "                    <span style=\"color: #000080; font-weight: bold\">5</span>    <span style=\"color: #000080; font-weight: bold\">7225</span>                                                                \n",
       "                    <span style=\"color: #000080; font-weight: bold\">6</span>    <span style=\"color: #000080; font-weight: bold\">7226</span>                                                                \n",
       "                    <span style=\"color: #000080; font-weight: bold\">7</span>    <span style=\"color: #000080; font-weight: bold\">7226</span>                                                                \n",
       "                    <span style=\"color: #000080; font-weight: bold\">8</span>    <span style=\"color: #000080; font-weight: bold\">7226</span>                                                                \n",
       "                    <span style=\"color: #000080; font-weight: bold\">9</span>    <span style=\"color: #000080; font-weight: bold\">7226</span>                                                                \n",
       "                    Name: secondClass, dtype: object                                         \n",
       "</pre>\n"
      ],
      "text/plain": [
       "<rich.jupyter.JupyterRenderable at 0x7f1bca070910>"
      ]
     },
     "metadata": {},
     "output_type": "display_data"
    },
    {
     "name": "stderr",
     "output_type": "stream",
     "text": [
      "After : 0    618\n",
      "1    619\n",
      "2    619\n",
      "3    619\n",
      "4    619\n",
      "5    619\n",
      "6    620\n",
      "7    620\n",
      "8    620\n",
      "9    620\n",
      "Name: secondClass, dtype: int64\n"
     ]
    },
    {
     "data": {
      "text/html": [
       "<pre style=\"white-space:pre;overflow-x:auto;line-height:normal;font-family:Menlo,'DejaVu Sans Mono',consolas,'Courier New',monospace\"><span style=\"color: #7fbfbf\">           </span><span style=\"color: #000080\">INFO    </span> After : <span style=\"color: #000080; font-weight: bold\">0</span>    <span style=\"color: #000080; font-weight: bold\">618</span>                                       <a href=\"file:///home/j-gunmo/desktop/00.my-project/17.P-Stage-T1003/4-STAGE/dkt_dataset.py\"><span style=\"color: #7f7f7f\">dkt_dataset.py</span></a><span style=\"color: #7f7f7f\">:175</span>\n",
       "                    <span style=\"color: #000080; font-weight: bold\">1</span>    <span style=\"color: #000080; font-weight: bold\">619</span>                                                                 \n",
       "                    <span style=\"color: #000080; font-weight: bold\">2</span>    <span style=\"color: #000080; font-weight: bold\">619</span>                                                                 \n",
       "                    <span style=\"color: #000080; font-weight: bold\">3</span>    <span style=\"color: #000080; font-weight: bold\">619</span>                                                                 \n",
       "                    <span style=\"color: #000080; font-weight: bold\">4</span>    <span style=\"color: #000080; font-weight: bold\">619</span>                                                                 \n",
       "                    <span style=\"color: #000080; font-weight: bold\">5</span>    <span style=\"color: #000080; font-weight: bold\">619</span>                                                                 \n",
       "                    <span style=\"color: #000080; font-weight: bold\">6</span>    <span style=\"color: #000080; font-weight: bold\">620</span>                                                                 \n",
       "                    <span style=\"color: #000080; font-weight: bold\">7</span>    <span style=\"color: #000080; font-weight: bold\">620</span>                                                                 \n",
       "                    <span style=\"color: #000080; font-weight: bold\">8</span>    <span style=\"color: #000080; font-weight: bold\">620</span>                                                                 \n",
       "                    <span style=\"color: #000080; font-weight: bold\">9</span>    <span style=\"color: #000080; font-weight: bold\">620</span>                                                                 \n",
       "                    Name: secondClass, dtype: int64                                          \n",
       "</pre>\n"
      ],
      "text/plain": [
       "<rich.jupyter.JupyterRenderable at 0x7f1bca0707f0>"
      ]
     },
     "metadata": {},
     "output_type": "display_data"
    },
    {
     "name": "stderr",
     "output_type": "stream",
     "text": [
      "Preprocessing Min Max .. \n"
     ]
    },
    {
     "data": {
      "text/html": [
       "<pre style=\"white-space:pre;overflow-x:auto;line-height:normal;font-family:Menlo,'DejaVu Sans Mono',consolas,'Courier New',monospace\"><span style=\"color: #7fbfbf\">[06:02:20] </span><span style=\"color: #000080\">INFO    </span> Preprocessing Min Max ..                               <a href=\"file:///home/j-gunmo/desktop/00.my-project/17.P-Stage-T1003/4-STAGE/dkt_dataset.py\"><span style=\"color: #7f7f7f\">dkt_dataset.py</span></a><span style=\"color: #7f7f7f\">:187</span>\n",
       "</pre>\n"
      ],
      "text/plain": [
       "<rich.jupyter.JupyterRenderable at 0x7f1bca0704c0>"
      ]
     },
     "metadata": {},
     "output_type": "display_data"
    },
    {
     "name": "stderr",
     "output_type": "stream",
     "text": [
      "Min Max Columns: ['top10CorrectPer', 'correctPer']\n"
     ]
    },
    {
     "data": {
      "text/html": [
       "<pre style=\"white-space:pre;overflow-x:auto;line-height:normal;font-family:Menlo,'DejaVu Sans Mono',consolas,'Courier New',monospace\"><span style=\"color: #7fbfbf\">           </span><span style=\"color: #000080\">INFO    </span> Min Max Columns: <span style=\"font-weight: bold\">[</span><span style=\"color: #008000\">'top10CorrectPer'</span>, <span style=\"color: #008000\">'correctPer'</span><span style=\"font-weight: bold\">]</span>     <a href=\"file:///home/j-gunmo/desktop/00.my-project/17.P-Stage-T1003/4-STAGE/dkt_dataset.py\"><span style=\"color: #7f7f7f\">dkt_dataset.py</span></a><span style=\"color: #7f7f7f\">:188</span>\n",
       "</pre>\n"
      ],
      "text/plain": [
       "<rich.jupyter.JupyterRenderable at 0x7f1bca070ca0>"
      ]
     },
     "metadata": {},
     "output_type": "display_data"
    },
    {
     "name": "stderr",
     "output_type": "stream",
     "text": [
      "MAX: [1. 1.] MIN: [0. 0.]\n"
     ]
    },
    {
     "data": {
      "text/html": [
       "<pre style=\"white-space:pre;overflow-x:auto;line-height:normal;font-family:Menlo,'DejaVu Sans Mono',consolas,'Courier New',monospace\"><span style=\"color: #7fbfbf\">           </span><span style=\"color: #000080\">INFO    </span> MAX: <span style=\"font-weight: bold\">[</span><span style=\"color: #000080; font-weight: bold\">1</span>. <span style=\"color: #000080; font-weight: bold\">1</span>.<span style=\"font-weight: bold\">]</span> MIN: <span style=\"font-weight: bold\">[</span><span style=\"color: #000080; font-weight: bold\">0</span>. <span style=\"color: #000080; font-weight: bold\">0</span>.<span style=\"font-weight: bold\">]</span>                              <a href=\"file:///home/j-gunmo/desktop/00.my-project/17.P-Stage-T1003/4-STAGE/dkt_dataset.py\"><span style=\"color: #7f7f7f\">dkt_dataset.py</span></a><span style=\"color: #7f7f7f\">:197</span>\n",
       "</pre>\n"
      ],
      "text/plain": [
       "<rich.jupyter.JupyterRenderable at 0x7f1bca0706a0>"
      ]
     },
     "metadata": {},
     "output_type": "display_data"
    },
    {
     "name": "stderr",
     "output_type": "stream",
     "text": [
      "/home/j-gunmo/desktop/00.my-project/17.P-Stage-T1003/4-STAGE/dkt_dataset.py:203: SettingWithCopyWarning: \n",
      "A value is trying to be set on a copy of a slice from a DataFrame.\n",
      "Try using .loc[row_indexer,col_indexer] = value instead\n",
      "\n",
      "See the caveats in the documentation: https://pandas.pydata.org/pandas-docs/stable/user_guide/indexing.html#returning-a-view-versus-a-copy\n",
      "  self.datas[\"test\"][mm_cols] = mm_encoder.transform(self.datas[\"test\"][mm_cols])\n",
      "/home/j-gunmo/anaconda3/envs/baseline_code/lib/python3.8/site-packages/pandas/core/indexing.py:1734: SettingWithCopyWarning: \n",
      "A value is trying to be set on a copy of a slice from a DataFrame.\n",
      "Try using .loc[row_indexer,col_indexer] = value instead\n",
      "\n",
      "See the caveats in the documentation: https://pandas.pydata.org/pandas-docs/stable/user_guide/indexing.html#returning-a-view-versus-a-copy\n",
      "  isetter(loc, value[:, i].tolist())\n",
      "Preprocessing Min Max .. \n"
     ]
    },
    {
     "data": {
      "text/html": [
       "<pre style=\"white-space:pre;overflow-x:auto;line-height:normal;font-family:Menlo,'DejaVu Sans Mono',consolas,'Courier New',monospace\"><span style=\"color: #7fbfbf\">           </span><span style=\"color: #000080\">INFO    </span> Preprocessing Min Max ..                               <a href=\"file:///home/j-gunmo/desktop/00.my-project/17.P-Stage-T1003/4-STAGE/dkt_dataset.py\"><span style=\"color: #7f7f7f\">dkt_dataset.py</span></a><span style=\"color: #7f7f7f\">:205</span>\n",
       "</pre>\n"
      ],
      "text/plain": [
       "<rich.jupyter.JupyterRenderable at 0x7f1bca070ee0>"
      ]
     },
     "metadata": {},
     "output_type": "display_data"
    },
    {
     "name": "stderr",
     "output_type": "stream",
     "text": [
      "Standard Columns: ['timeSec']\n"
     ]
    },
    {
     "data": {
      "text/html": [
       "<pre style=\"white-space:pre;overflow-x:auto;line-height:normal;font-family:Menlo,'DejaVu Sans Mono',consolas,'Courier New',monospace\"><span style=\"color: #7fbfbf\">           </span><span style=\"color: #000080\">INFO    </span> Standard Columns: <span style=\"font-weight: bold\">[</span><span style=\"color: #008000\">'timeSec'</span><span style=\"font-weight: bold\">]</span>                          <a href=\"file:///home/j-gunmo/desktop/00.my-project/17.P-Stage-T1003/4-STAGE/dkt_dataset.py\"><span style=\"color: #7f7f7f\">dkt_dataset.py</span></a><span style=\"color: #7f7f7f\">:206</span>\n",
       "</pre>\n"
      ],
      "text/plain": [
       "<rich.jupyter.JupyterRenderable at 0x7f1bca070d30>"
      ]
     },
     "metadata": {},
     "output_type": "display_data"
    },
    {
     "name": "stderr",
     "output_type": "stream",
     "text": [
      "MEAN: [1.59502972e+09] VAR: [4.92225516e+13]\n"
     ]
    },
    {
     "data": {
      "text/html": [
       "<pre style=\"white-space:pre;overflow-x:auto;line-height:normal;font-family:Menlo,'DejaVu Sans Mono',consolas,'Courier New',monospace\"><span style=\"color: #7fbfbf\">[06:02:21] </span><span style=\"color: #000080\">INFO    </span> MEAN: <span style=\"font-weight: bold\">[</span><span style=\"color: #000080; font-weight: bold\">1.59502972e+09</span><span style=\"font-weight: bold\">]</span> VAR: <span style=\"font-weight: bold\">[</span><span style=\"color: #000080; font-weight: bold\">4.92225516e+13</span><span style=\"font-weight: bold\">]</span>           <a href=\"file:///home/j-gunmo/desktop/00.my-project/17.P-Stage-T1003/4-STAGE/dkt_dataset.py\"><span style=\"color: #7f7f7f\">dkt_dataset.py</span></a><span style=\"color: #7f7f7f\">:215</span>\n",
       "</pre>\n"
      ],
      "text/plain": [
       "<rich.jupyter.JupyterRenderable at 0x7f1bca070f40>"
      ]
     },
     "metadata": {},
     "output_type": "display_data"
    },
    {
     "name": "stderr",
     "output_type": "stream",
     "text": [
      "/home/j-gunmo/desktop/00.my-project/17.P-Stage-T1003/4-STAGE/dkt_dataset.py:221: SettingWithCopyWarning: \n",
      "A value is trying to be set on a copy of a slice from a DataFrame.\n",
      "Try using .loc[row_indexer,col_indexer] = value instead\n",
      "\n",
      "See the caveats in the documentation: https://pandas.pydata.org/pandas-docs/stable/user_guide/indexing.html#returning-a-view-versus-a-copy\n",
      "  self.datas[\"test\"][std_cols] = std_encoder.transform(self.datas[\"test\"][std_cols])\n",
      "/home/j-gunmo/anaconda3/envs/baseline_code/lib/python3.8/site-packages/pandas/core/indexing.py:1734: SettingWithCopyWarning: \n",
      "A value is trying to be set on a copy of a slice from a DataFrame.\n",
      "Try using .loc[row_indexer,col_indexer] = value instead\n",
      "\n",
      "See the caveats in the documentation: https://pandas.pydata.org/pandas-docs/stable/user_guide/indexing.html#returning-a-view-versus-a-copy\n",
      "  isetter(loc, value[:, i].tolist())\n",
      "Use the test datast for data augmentation\n"
     ]
    },
    {
     "data": {
      "text/html": [
       "<pre style=\"white-space:pre;overflow-x:auto;line-height:normal;font-family:Menlo,'DejaVu Sans Mono',consolas,'Courier New',monospace\"><span style=\"color: #7fbfbf\">           </span><span style=\"color: #000080\">INFO    </span> Use the test datast for data augmentation               <a href=\"file:///home/j-gunmo/desktop/00.my-project/17.P-Stage-T1003/4-STAGE/dkt_dataset.py\"><span style=\"color: #7f7f7f\">dkt_dataset.py</span></a><span style=\"color: #7f7f7f\">:71</span>\n",
       "</pre>\n"
      ],
      "text/plain": [
       "<rich.jupyter.JupyterRenderable at 0x7f1bca070b80>"
      ]
     },
     "metadata": {},
     "output_type": "display_data"
    },
    {
     "name": "stderr",
     "output_type": "stream",
     "text": [
      "Before Length: 2047600\n"
     ]
    },
    {
     "data": {
      "text/html": [
       "<pre style=\"white-space:pre;overflow-x:auto;line-height:normal;font-family:Menlo,'DejaVu Sans Mono',consolas,'Courier New',monospace\"><span style=\"color: #7fbfbf\">           </span><span style=\"color: #000080\">INFO    </span> Before Length: <span style=\"color: #000080; font-weight: bold\">2047600</span>                                  <a href=\"file:///home/j-gunmo/desktop/00.my-project/17.P-Stage-T1003/4-STAGE/dkt_dataset.py\"><span style=\"color: #7f7f7f\">dkt_dataset.py</span></a><span style=\"color: #7f7f7f\">:72</span>\n",
       "</pre>\n"
      ],
      "text/plain": [
       "<rich.jupyter.JupyterRenderable at 0x7f1bca070d30>"
      ]
     },
     "metadata": {},
     "output_type": "display_data"
    },
    {
     "name": "stderr",
     "output_type": "stream",
     "text": [
      "After Length: 2306970\n"
     ]
    },
    {
     "data": {
      "text/html": [
       "<pre style=\"white-space:pre;overflow-x:auto;line-height:normal;font-family:Menlo,'DejaVu Sans Mono',consolas,'Courier New',monospace\"><span style=\"color: #7fbfbf\">           </span><span style=\"color: #000080\">INFO    </span> After Length: <span style=\"color: #000080; font-weight: bold\">2306970</span>                                   <a href=\"file:///home/j-gunmo/desktop/00.my-project/17.P-Stage-T1003/4-STAGE/dkt_dataset.py\"><span style=\"color: #7f7f7f\">dkt_dataset.py</span></a><span style=\"color: #7f7f7f\">:77</span>\n",
       "</pre>\n"
      ],
      "text/plain": [
       "<rich.jupyter.JupyterRenderable at 0x7f1bca070640>"
      ]
     },
     "metadata": {},
     "output_type": "display_data"
    },
    {
     "name": "stderr",
     "output_type": "stream",
     "text": [
      "Group By (userID, firstClass)\n"
     ]
    },
    {
     "data": {
      "text/html": [
       "<pre style=\"white-space:pre;overflow-x:auto;line-height:normal;font-family:Menlo,'DejaVu Sans Mono',consolas,'Courier New',monospace\"><span style=\"color: #7fbfbf\">           </span><span style=\"color: #000080\">INFO    </span> Group By <span style=\"font-weight: bold\">(</span>userID, firstClass<span style=\"font-weight: bold\">)</span>                           <a href=\"file:///home/j-gunmo/desktop/00.my-project/17.P-Stage-T1003/4-STAGE/dkt_dataset.py\"><span style=\"color: #7f7f7f\">dkt_dataset.py</span></a><span style=\"color: #7f7f7f\">:98</span>\n",
       "</pre>\n"
      ],
      "text/plain": [
       "<rich.jupyter.JupyterRenderable at 0x7f1bca070400>"
      ]
     },
     "metadata": {},
     "output_type": "display_data"
    },
    {
     "name": "stderr",
     "output_type": "stream",
     "text": [
      "Group By (userID, firstClass) Length: 17967\n"
     ]
    },
    {
     "data": {
      "text/html": [
       "<pre style=\"white-space:pre;overflow-x:auto;line-height:normal;font-family:Menlo,'DejaVu Sans Mono',consolas,'Courier New',monospace\"><span style=\"color: #7fbfbf\">[06:02:23] </span><span style=\"color: #000080\">INFO    </span> Group By <span style=\"font-weight: bold\">(</span>userID, firstClass<span style=\"font-weight: bold\">)</span> Length: <span style=\"color: #000080; font-weight: bold\">17967</span>            <a href=\"file:///home/j-gunmo/desktop/00.my-project/17.P-Stage-T1003/4-STAGE/dkt_dataset.py\"><span style=\"color: #7f7f7f\">dkt_dataset.py</span></a><span style=\"color: #7f7f7f\">:113</span>\n",
       "</pre>\n"
      ],
      "text/plain": [
       "<rich.jupyter.JupyterRenderable at 0x7f1bca0707c0>"
      ]
     },
     "metadata": {},
     "output_type": "display_data"
    },
    {
     "name": "stderr",
     "output_type": "stream",
     "text": [
      "Group By (userID, firstClass) Length: 1772\n"
     ]
    },
    {
     "data": {
      "text/html": [
       "<pre style=\"white-space:pre;overflow-x:auto;line-height:normal;font-family:Menlo,'DejaVu Sans Mono',consolas,'Courier New',monospace\"><span style=\"color: #7fbfbf\">           </span><span style=\"color: #000080\">INFO    </span> Group By <span style=\"font-weight: bold\">(</span>userID, firstClass<span style=\"font-weight: bold\">)</span> Length: <span style=\"color: #000080; font-weight: bold\">1772</span>             <a href=\"file:///home/j-gunmo/desktop/00.my-project/17.P-Stage-T1003/4-STAGE/dkt_dataset.py\"><span style=\"color: #7f7f7f\">dkt_dataset.py</span></a><span style=\"color: #7f7f7f\">:114</span>\n",
       "</pre>\n"
      ],
      "text/plain": [
       "<rich.jupyter.JupyterRenderable at 0x7f1bca070ee0>"
      ]
     },
     "metadata": {},
     "output_type": "display_data"
    },
    {
     "name": "stderr",
     "output_type": "stream",
     "text": [
      "Group By (userID, firstClass) Length: 1987\n"
     ]
    },
    {
     "data": {
      "text/html": [
       "<pre style=\"white-space:pre;overflow-x:auto;line-height:normal;font-family:Menlo,'DejaVu Sans Mono',consolas,'Courier New',monospace\"><span style=\"color: #7fbfbf\">           </span><span style=\"color: #000080\">INFO    </span> Group By <span style=\"font-weight: bold\">(</span>userID, firstClass<span style=\"font-weight: bold\">)</span> Length: <span style=\"color: #000080; font-weight: bold\">1987</span>             <a href=\"file:///home/j-gunmo/desktop/00.my-project/17.P-Stage-T1003/4-STAGE/dkt_dataset.py\"><span style=\"color: #7f7f7f\">dkt_dataset.py</span></a><span style=\"color: #7f7f7f\">:115</span>\n",
       "</pre>\n"
      ],
      "text/plain": [
       "<rich.jupyter.JupyterRenderable at 0x7f1c04ac9cd0>"
      ]
     },
     "metadata": {},
     "output_type": "display_data"
    }
   ],
   "source": [
    "preprocess.feature_engineering()\n",
    "preprocess.split_data()\n",
    "preprocess.preprocessing(pre_encoders)\n",
    "preprocess.data_augmentation(choices=[1, 3])"
   ]
  },
  {
   "cell_type": "code",
   "execution_count": 8,
   "metadata": {},
   "outputs": [],
   "source": [
    "train_dataset = preprocess.get_data('train_grouped')\n",
    "valid_dataset = preprocess.get_data('valid_grouped')\n",
    "test_dataset = preprocess.get_data('test_grouped')"
   ]
  },
  {
   "cell_type": "code",
   "execution_count": 9,
   "metadata": {},
   "outputs": [],
   "source": [
    "import os\n",
    "import json\n",
    "import logging\n",
    "import os.path as p\n",
    "from datetime import datetime\n",
    "\n",
    "import wandb\n",
    "import torch\n",
    "import numpy as np\n",
    "import pandas as pd\n",
    "from ray import tune\n",
    "from torchinfo import summary\n",
    "from sklearn.model_selection import train_test_split\n",
    "from sklearn.metrics import roc_auc_score, accuracy_score\n",
    "\n",
    "from logger import get_logger\n",
    "from dkt_dataset import DKTDataset\n",
    "from utils import get_args, get_criterion, get_optimizer, get_scheduler, set_seeds\n",
    "\n",
    "\n",
    "class CustomStopper(tune.Stopper):\n",
    "    def __init__(self, args):\n",
    "        self.should_stop = False\n",
    "        self.args = args\n",
    "\n",
    "    def __call__(self, trial_id, result):\n",
    "        if not self.should_stop and result[\"valid_auc\"] > 0.83:\n",
    "            self.should_stop = True\n",
    "\n",
    "        return self.should_stop or result[\"training_iteration\"] >= self.args.n_epochs\n",
    "\n",
    "    def stop_all(self):\n",
    "        return self.should_stop\n",
    "\n",
    "\n",
    "class DKTTrainer:\n",
    "    def __init__(self, args, Model):\n",
    "        self.args = get_args()\n",
    "        self.args.update(**args)\n",
    "        self.create_model = Model\n",
    "\n",
    "        self._helper_init()\n",
    "\n",
    "    def _helper_init(self):\n",
    "        self.prefix_save_path = datetime.now().strftime(\"[%m.%d_%H:%M]\")\n",
    "        self.prefix_save_path = p.join(self.args.root_dir, f\"LOG_{self.prefix_save_path}\")\n",
    "\n",
    "        os.mkdir(self.prefix_save_path)\n",
    "\n",
    "    def _save_config(self, args, filename=\"run_config.json\"):\n",
    "        save_path = p.join(self.prefix_save_path, filename)\n",
    "\n",
    "        with open(save_path, \"w\") as writer:\n",
    "            writer.write(json.dumps(args, indent=4, ensure_ascii=False) + \"\\n\")\n",
    "\n",
    "    def _get_model(self):\n",
    "        model = self.create_model(self.args).to(self.args.device)\n",
    "        return model\n",
    "\n",
    "    def _update_params(self, loss, model, optimizer):\n",
    "        loss.backward()\n",
    "        torch.nn.utils.clip_grad_norm_(model.parameters(), self.args.clip_grad)\n",
    "        optimizer.step()\n",
    "        optimizer.zero_grad()\n",
    "\n",
    "    def _collate_fn(self, batches):\n",
    "        \"\"\" key값으로 batch 형성 \"\"\"\n",
    "        new_batches = {k: [] for k in batches[0].keys()}\n",
    "\n",
    "        max_seq_len = 20\n",
    "\n",
    "        # batch의 값들을 각 column끼리 그룹화\n",
    "        for k in batches[0].keys():\n",
    "            for batch in batches:\n",
    "                pre_padded = torch.zeros(max_seq_len)\n",
    "                pre_padded[-len(batch[k]) :] = batch[k]\n",
    "                new_batches[k].append(pre_padded)\n",
    "\n",
    "        for k in batches[0].keys():\n",
    "            new_batches[k] = torch.stack(new_batches[k])\n",
    "\n",
    "        return new_batches\n",
    "\n",
    "    def _get_loaders(self, train_data, valid_data):\n",
    "        trainset = DKTDataset(train_data, self.args, self.args.columns)\n",
    "        validset = DKTDataset(valid_data, self.args, self.args.columns)\n",
    "\n",
    "        train_loader = torch.utils.data.DataLoader(\n",
    "            trainset,\n",
    "            num_workers=self.args.num_workers,\n",
    "            shuffle=True,\n",
    "            batch_size=self.args.batch_size,\n",
    "            pin_memory=True,\n",
    "            collate_fn=self._collate_fn,\n",
    "        )\n",
    "\n",
    "        valid_loader = torch.utils.data.DataLoader(\n",
    "            validset,\n",
    "            num_workers=self.args.num_workers,\n",
    "            shuffle=False,\n",
    "            batch_size=self.args.batch_size,\n",
    "            pin_memory=True,\n",
    "            collate_fn=self._collate_fn,\n",
    "        )\n",
    "\n",
    "        return train_loader, valid_loader\n",
    "\n",
    "    def _to_numpy(self, preds):\n",
    "        if self.args.device == \"cuda\":\n",
    "            preds = preds.to(\"cpu\").detach().numpy()\n",
    "        else:  # cpu\n",
    "            preds = preds.detach().numpy()\n",
    "        return preds\n",
    "\n",
    "    def _save_model(self, model, prefix=None):\n",
    "        save_path = p.join(self.args.root_dir, self.prefix_save_path)\n",
    "        assert p.exists(save_path), f\"{save_path} does not exist\"\n",
    "\n",
    "        # get original model if use torch.nn.DataParallel\n",
    "        model = model.module if hasattr(model, \"module\") else model\n",
    "        save_path = f\"{save_path}/{prefix}_model.pth\" if prefix else f\"{save_path}/model.pth\"\n",
    "        torch.save(model.state_dict(), save_path)\n",
    "\n",
    "    def _load_model(self, prefix=None):\n",
    "        load_path = p.join(self.args.root_dir, self.prefix_save_path)\n",
    "        load_path = f\"{load_path}/{prefix}_model.pth\" if prefix else f\"{load_path}/model.pth\"\n",
    "        assert p.exists(load_path), f\"{load_path} does not exist\"\n",
    "\n",
    "        model = self._get_model()\n",
    "        # strict=False, 일치하지 않는 키들을 무시\n",
    "        model.load_state_dict(torch.load(load_path), strict=False)\n",
    "        return model\n",
    "\n",
    "    def _get_metric(self, targets, preds):\n",
    "        auc = roc_auc_score(targets, preds)\n",
    "        acc = accuracy_score(targets, np.where(preds >= 0.5, 1, 0))\n",
    "        return auc, acc\n",
    "\n",
    "    def _compute_loss(self, preds, targets):\n",
    "        loss = get_criterion(preds, targets)\n",
    "\n",
    "        # 마지막 Sequence에 대한 값만 Loss를 계산한다.\n",
    "        loss = loss[:, -1]\n",
    "        loss = torch.mean(loss)\n",
    "        return loss\n",
    "\n",
    "    def _process_batch(self, batch):\n",
    "        raise NotImplementedError\n",
    "\n",
    "    def _hyper(self, checkpoint_dir):\n",
    "        step = 0\n",
    "        checkpoint_path = p.join(checkpoint_dir, \"checkpoint\")\n",
    "\n",
    "        model = self._get_model()\n",
    "        optimizer = get_optimizer(model, self.args)\n",
    "        scheduler = get_scheduler(optimizer, self.args)\n",
    "\n",
    "        if checkpoint_dir is not None:\n",
    "            checkpoint = torch.load(checkpoint_path)\n",
    "            model.load_state_dict(checkpoint[\"model\"])\n",
    "            optimizer.load_state_dict(checkpoint[\"optimizer\"])\n",
    "            scheduler.load_state_dict(checkpoint[\"scheduler\"])\n",
    "            step = checkpoint[\"step\"]\n",
    "\n",
    "        while True:\n",
    "            train_auc, train_acc, train_loss = self._train(model, self.train_loader, optimizer)\n",
    "            valid_auc, valid_acc, _, _ = self._validate(model, self.valid_loader)\n",
    "\n",
    "            tune.report(\n",
    "                valid_auc=valid_auc,\n",
    "                valid_acc=valid_acc,\n",
    "                train_auc=train_auc,\n",
    "                train_acc=train_acc,\n",
    "                train_loss=train_loss,\n",
    "            )\n",
    "\n",
    "            step += 1\n",
    "\n",
    "            with tune.checkpoint_dir(step=step) as checkpoint_dir:\n",
    "                torch.save(\n",
    "                    {\n",
    "                        \"model\": model.state_dict(),\n",
    "                        \"optimizer\": optimizer.state_dict(),\n",
    "                        \"scheduler\": scheduler.state_dict(),\n",
    "                        \"step\": step,\n",
    "                    },\n",
    "                    checkpoint_path,\n",
    "                )\n",
    "\n",
    "    def hyper(self, args, tune_args, train_data, valid_data):\n",
    "        self.train_loader, self.valid_loader = self._get_loaders(train_data, valid_data)\n",
    "\n",
    "        pbt_scheduler = tune.schedulers.PopulationBasedTraining(\n",
    "            time_attr=\"training_iteration\", \n",
    "            **tune_args\n",
    "        )\n",
    "\n",
    "        stopper = CustomStopper(self.args)\n",
    "\n",
    "        analysis = tune.run(\n",
    "            self._hyper,\n",
    "            name=\"pbt_lstm\",\n",
    "            stop=stopper,\n",
    "            max_failures=3,\n",
    "            num_samples=4,\n",
    "            metric=\"\",\n",
    "            scheduler=pbt_scheduler,\n",
    "            keep_checkpoints_num=2,\n",
    "            local_dir=\"~/ray_results\",\n",
    "            checkpoint_score_attr=\"max-valid_auc\",\n",
    "            resources_per_trial={\"cpu\": 3, \"gpu\": 1},\n",
    "            config=self.args,  # custom search algorithm may ignore this\n",
    "        )\n",
    "\n",
    "        return analysis\n",
    "\n",
    "    def _train(self, model, train_loader, optimizer):\n",
    "        model.train()\n",
    "\n",
    "        total_preds, total_targets = [], []\n",
    "        losses = []\n",
    "\n",
    "        for step, batch in enumerate(train_loader):\n",
    "            batch = self._process_batch(batch)\n",
    "            preds = model(batch)\n",
    "            targets = batch[\"answerCode\"]  # correct\n",
    "\n",
    "            loss = self._compute_loss(preds, targets)\n",
    "            self._update_params(loss, model, optimizer)\n",
    "\n",
    "            if step % self.args.log_steps == 0:\n",
    "                print(f\"Training steps: {step} Loss: {str(loss.item())}\")\n",
    "                wandb.log({\"step_train_loss\": loss})\n",
    "\n",
    "            preds, targets = preds[:, -1], targets[:, -1]\n",
    "\n",
    "            if self.args.device == \"cuda\":\n",
    "                preds = preds.to(\"cpu\").detach().numpy()\n",
    "                targets = targets.to(\"cpu\").detach().numpy()\n",
    "            else:\n",
    "                preds = preds.detach().numpy()\n",
    "                targets = targets.detach().numpy()\n",
    "\n",
    "            total_preds.append(preds)\n",
    "            total_targets.append(targets)\n",
    "            losses.append(loss)\n",
    "\n",
    "        total_preds = np.concatenate(total_preds)\n",
    "        total_targets = np.concatenate(total_targets)\n",
    "\n",
    "        # Train AUC / ACC\n",
    "        auc, acc = self._get_metric(total_targets, total_preds)\n",
    "        loss_avg = sum(losses) / len(losses)\n",
    "\n",
    "        return auc, acc, loss_avg\n",
    "\n",
    "    def _validate(self, model, valid_loader):\n",
    "        model.eval()\n",
    "\n",
    "        total_preds = []\n",
    "        total_targets = []\n",
    "\n",
    "        for step, batch in enumerate(valid_loader):\n",
    "            batch = self._process_batch(batch)\n",
    "\n",
    "            preds = model(batch)\n",
    "            targets = batch[\"answerCode\"]  # correct\n",
    "\n",
    "            # predictions\n",
    "            preds = preds[:, -1]\n",
    "            targets = targets[:, -1]\n",
    "\n",
    "            if self.args.device == \"cuda\":\n",
    "                preds = preds.to(\"cpu\").detach().numpy()\n",
    "                targets = targets.to(\"cpu\").detach().numpy()\n",
    "            else:  # cpu\n",
    "                preds = preds.detach().numpy()\n",
    "                targets = targets.detach().numpy()\n",
    "\n",
    "            total_preds.append(preds)\n",
    "            total_targets.append(targets)\n",
    "\n",
    "        total_preds = np.concatenate(total_preds)\n",
    "        total_targets = np.concatenate(total_targets)\n",
    "\n",
    "        # Train AUC / ACC\n",
    "        auc, acc = self._get_metric(total_targets, total_preds)\n",
    "        print(f\"VALID AUC : {auc} ACC : {acc}\\n\")\n",
    "\n",
    "        return auc, acc, total_preds, total_targets\n",
    "\n",
    "    def _inference(self, test_data, prefix=None):\n",
    "        model = self._load_model(prefix)  # loaded best model to self.model\n",
    "        model.eval()\n",
    "\n",
    "        _, test_loader = self._get_loaders(test_data, test_data)\n",
    "\n",
    "        total_proba_preds = []\n",
    "\n",
    "        for step, batch in enumerate(test_loader):\n",
    "            batch = self._process_batch(batch)\n",
    "\n",
    "            fancy_index = torch.where(batch[\"answerCode\"][:, -1] == -1)\n",
    "            if fancy_index[0].size(0) == 0:\n",
    "                continue\n",
    "\n",
    "            for k in batch.keys():\n",
    "                batch[k] = batch[k][fancy_index]\n",
    "\n",
    "            preds = model(batch)\n",
    "            preds = preds[:, -1]\n",
    "\n",
    "            preds = self._to_numpy(preds)\n",
    "            total_proba_preds += list(preds)\n",
    "\n",
    "        write_path = os.path.join(self.prefix_save_path, f\"{prefix}_test_results.csv\")\n",
    "\n",
    "        with open(write_path, \"w\", encoding=\"utf8\") as w:\n",
    "            w.write(\"id,prediction\\n\")\n",
    "            for idx, proba in enumerate(total_proba_preds):\n",
    "                w.write(f\"{idx},{proba}\\n\")\n",
    "\n",
    "    def debug(self, train_data, valid_data, test_data):\n",
    "        \"\"\"간단한 입,출력을 테스트합니다.\n",
    "        1. Model Summary\n",
    "        3. 한 개 데이터가 잘 생성되는지 체크합니다.\n",
    "        4. 배치 데이터가 잘 생성되는지 체크합니다.\n",
    "        5. forward를 체크합니다.\n",
    "        6. Loss 계산 및, Predict를 체크합니다.\n",
    "        \"\"\"\n",
    "        debug_file_handler = logging.FileHandler(f\"{self.prefix_save_path}/debug.log\")\n",
    "        logger = get_logger(\"debug\")\n",
    "        logger.setLevel(logging.INFO)\n",
    "        logger.addHandler(debug_file_handler)\n",
    "\n",
    "        model = self._get_model()\n",
    "        logger.info(\"MODEl SUMMARY\\n\")\n",
    "        logger.info(summary(model))\n",
    "\n",
    "        logger.info(\"\\nCHECK DATASET\")\n",
    "\n",
    "        for dataset, name in zip([train_data, valid_data, test_data], [\"TRAIN\", \"VALID\", \"TEST\"]):\n",
    "            logger.info(f\"\\n{name} EXAMPLES\")\n",
    "            for column, data in zip(self.args.columns, dataset[0]):\n",
    "                logger.info(f\"{column} : {data[:10]}\")\n",
    "\n",
    "        train_loader, valid_loader = self._get_loaders(train_data, valid_data)\n",
    "        _, test_loader = self._get_loaders(test_data, test_data)\n",
    "\n",
    "        logger.info(\"\\nCHECK BATCH SHAPE\")\n",
    "        for data_loader, name in zip([train_loader, test_loader, valid_loader], [\"TRAIN\", \"TEST\", \"VALID\"]):\n",
    "            batch = next(iter(data_loader))\n",
    "            logger.info(f\"\\n{name} BATCH TYPE : {type(batch)}\")\n",
    "            logger.info(f\"\\n{name} BATCH LEN : {len(batch)}\")\n",
    "            logger.info(f\"\\n{name} BATCH DICT VALUE SHAPE : {batch['answerCode'].shape}\")\n",
    "\n",
    "        logger.info(\"\\nCHECK MODEL FORWARD\")\n",
    "\n",
    "        batch = self._process_batch(batch)\n",
    "        preds = model(batch)\n",
    "\n",
    "        logger.info(f\"\\nPREDS SHAPE: {preds.shape}\")\n",
    "        logger.info(f\"\\nPREDS EXAMPLES: {preds[0]}\")\n",
    "\n",
    "        logger.info(\"\\nCHECK METRICS\")\n",
    "\n",
    "        gt = batch[\"answerCode\"]\n",
    "        loss = self._compute_loss(preds, gt)\n",
    "\n",
    "        logger.info(f\"\\nLOSS : {loss.item()}\")\n",
    "\n",
    "        auc, acc = self._get_metric(self._to_numpy(gt[:, -1]), self._to_numpy(preds[:, -1]))\n",
    "        logger.info(f\"AUC: {auc} ACC: {acc}\")\n",
    "\n",
    "    def run(self, train_data, valid_data, test_data, prefix=\"run\"):\n",
    "        self._save_config(self.args)\n",
    "        set_seeds(self.args.seed)\n",
    "\n",
    "        run_file_handler = logging.FileHandler(f\"{self.prefix_save_path}/{prefix}.log\")\n",
    "        logger = get_logger(\"run\")\n",
    "        logger.setLevel(logging.DEBUG)\n",
    "        logger.addHandler(run_file_handler)\n",
    "\n",
    "        model = self._get_model()\n",
    "        wandb.init(project=\"p-stage-4\", reinit=True)\n",
    "        wandb.config.update(self.args)\n",
    "        wandb.watch(model)\n",
    "        wandb.run.name = f\"{self.prefix_save_path}_{prefix}\"\n",
    "\n",
    "        train_loader, valid_loader = self._get_loaders(train_data, valid_data)\n",
    "\n",
    "        self.args.total_steps = int(len(train_loader.dataset) / self.args.batch_size) * (self.args.n_epochs)\n",
    "        self.args.warmup_steps = self.args.total_steps // 10\n",
    "\n",
    "        if self.args.scheduler == \"linear_warmup\":\n",
    "            self.args.scheduler_hp = {\n",
    "                \"num_training_steps\": self.args.total_steps,\n",
    "                \"num_warmup_steps\": self.args.warmup_steps,\n",
    "            }\n",
    "\n",
    "        optimizer = get_optimizer(model, self.args)\n",
    "        scheduler = get_scheduler(optimizer, self.args)\n",
    "\n",
    "        best_auc, best_acc = -1, -1\n",
    "        early_stopping_counter = 0\n",
    "\n",
    "        for epoch in range(self.args.n_epochs):\n",
    "            logger.info(f\"Start Training: Epoch {epoch + 1}\")\n",
    "\n",
    "            train_auc, train_acc, train_loss = self._train(model, train_loader, optimizer)\n",
    "            valid_auc, valid_acc, _, _ = self._validate(model, valid_loader)\n",
    "\n",
    "            wandb.log(\n",
    "                {\n",
    "                    \"epoch\": epoch,\n",
    "                    \"train_loss\": train_loss,\n",
    "                    \"train_auc\": train_auc,\n",
    "                    \"train_acc\": train_acc,\n",
    "                    \"valid_auc\": valid_auc,\n",
    "                    \"valid_acc\": valid_acc,\n",
    "                }\n",
    "            )\n",
    "\n",
    "            logger.info(f\"TRAIN_LOSS: {train_loss}\")\n",
    "            logger.info(f\"TRAIN AUC: {train_auc} TRAIN ACC: {train_acc}\")\n",
    "            logger.info(f\"VALID AUC: {valid_auc} VALID ACC: {valid_acc}\\n\")\n",
    "\n",
    "            if valid_auc > best_auc:\n",
    "                best_auc, best_acc = valid_auc, valid_acc\n",
    "                self._save_model(model, prefix)\n",
    "                early_stopping_counter = 0\n",
    "            else:\n",
    "                early_stopping_counter += 1\n",
    "                logger.info(f\"EarlyStopping counter: {early_stopping_counter}\")\n",
    "                if early_stopping_counter >= self.args.patience:\n",
    "                    logger.info(f\"EarlyStopping counter: {early_stopping_counter} out of {self.args.patience}\")\n",
    "                    break\n",
    "\n",
    "            if self.args.scheduler == \"plateau\":\n",
    "                scheduler.step(best_auc)\n",
    "            else:\n",
    "                scheduler.step()\n",
    "\n",
    "        self._inference(test_data, prefix)\n",
    "        return best_auc, best_acc\n",
    "\n",
    "    def run_cv(self, train_data, valid_data, test_data, test_size:float, folds: int, seeds: list):\n",
    "        assert folds == len(seeds), \"fold와 len(seeds)는 같은 수여야 합니다.\"\n",
    "\n",
    "        total_data = np.concatenate([train_data, valid_data])\n",
    "        self.args.seeds = seeds\n",
    "\n",
    "        valid_results = {}\n",
    "\n",
    "        for n_fold, seed in enumerate(seeds):\n",
    "            self.args.seed = seed\n",
    "            # TODO: User 패턴이 학습이 된다면, 충분히 데이터 유출될 수 있음\n",
    "            train_data, valid_data = train_test_split(total_data, test_size=test_size, random_state=seed)\n",
    "            prefix = f\"cv_{n_fold}\"\n",
    "\n",
    "            best_auc, best_acc = self.run(train_data, valid_data, test_data, prefix=prefix)\n",
    "            valid_results[prefix] = f\"best_auc:{best_auc},best_acc:{best_acc}\"\n",
    "\n",
    "        self._save_config(valid_results, \"valid_cv_results.json\")\n",
    "\n",
    "        new_df = pd.DataFrame([])\n",
    "\n",
    "        for idx in range(folds):\n",
    "            df = pd.read_csv(p.join(self.prefix_save_path, f\"cv_{idx}_test_results.csv\"))\n",
    "\n",
    "            if idx == 0:\n",
    "                new_df[\"id\"] = df[\"id\"]\n",
    "                new_df[\"prediction\"] = df[\"prediction\"]\n",
    "            else:\n",
    "                new_df[\"prediction\"] += df[\"prediction\"]\n",
    "\n",
    "        new_df[\"prediction\"] /= folds\n",
    "        new_df.to_csv(p.join(self.prefix_save_path, \"cv_ensemble_test_results.csv\"))"
   ]
  },
  {
   "cell_type": "code",
   "execution_count": 10,
   "metadata": {},
   "outputs": [],
   "source": [
    "import torch\n",
    "import torch.nn as nn\n",
    "\n",
    "class EmbeddingLayer(nn.Module):\n",
    "    def __init__(self, args, hidden_dim):\n",
    "        super(EmbeddingLayer, self).__init__()\n",
    "\n",
    "        self.args = args\n",
    "        self.device = args.device\n",
    "        self.hidden_dim = hidden_dim\n",
    "\n",
    "        labels_dim = self.hidden_dim // (len(self.args.n_embeddings) + 1)\n",
    "        interaction_dim = self.hidden_dim - (labels_dim * len(self.args.n_embeddings))\n",
    "\n",
    "        self.embedding_interaction = nn.Embedding(3, interaction_dim)\n",
    "        self.embeddings = nn.ModuleDict(\n",
    "            {k: nn.Embedding(v + 1, labels_dim) for k, v in self.args.n_embeddings.items()}  # plus 1 for padding\n",
    "        )\n",
    "\n",
    "    def forward(self, batch):\n",
    "        embed_interaction = self.embedding_interaction(batch[\"interaction\"])\n",
    "        embed = torch.cat(\n",
    "            [embed_interaction] + [self.embeddings[k](batch[k]) for k in self.args.n_embeddings.keys()], 2\n",
    "        )\n",
    "        return embed\n",
    "\n",
    "\n",
    "class LinearLayer(nn.Module):\n",
    "    def __init__(self, args, hidden_dim):\n",
    "        super(LinearLayer, self).__init__()\n",
    "\n",
    "        self.args = args\n",
    "        self.device = args.device\n",
    "\n",
    "        self.hidden_dim = hidden_dim\n",
    "        in_features = len(self.args.n_linears)\n",
    "        self.fc_layer = nn.Linear(in_features, self.hidden_dim)\n",
    "\n",
    "    def forward(self, batch):\n",
    "        cont_v = torch.stack([batch[k] for k in self.args.n_linears]).permute(1, 2, 0)\n",
    "        output = self.fc_layer(cont_v)\n",
    "        return output\n",
    "\n",
    "\n",
    "class LSTM(nn.Module):\n",
    "    def __init__(self, args):\n",
    "        super(LSTM, self).__init__()\n",
    "        self.args = args\n",
    "        self.device = args.device\n",
    "\n",
    "        self.hidden_dim = self.args.hidden_dim\n",
    "        self.n_layers = self.args.n_layers\n",
    "\n",
    "        self.emb_layer = EmbeddingLayer(args, self.hidden_dim // 2)\n",
    "        self.nli_layer = LinearLayer(args, self.hidden_dim // 2)\n",
    "\n",
    "        self.comb_proj = nn.Linear(self.hidden_dim, self.hidden_dim)\n",
    "\n",
    "        self.lstm = nn.LSTM(self.hidden_dim, self.hidden_dim, self.n_layers, batch_first=True)\n",
    "\n",
    "        # Fully connected layer\n",
    "        self.fc = nn.Linear(self.hidden_dim, 1)\n",
    "        self.activation = nn.Sigmoid()\n",
    "\n",
    "    def init_hidden(self, batch_size):\n",
    "        h = torch.zeros(self.n_layers, batch_size, self.hidden_dim)\n",
    "        h = h.to(self.device)\n",
    "\n",
    "        c = torch.zeros(self.n_layers, batch_size, self.hidden_dim)\n",
    "        c = c.to(self.device)\n",
    "\n",
    "        return (h, c)\n",
    "\n",
    "    def forward(self, batch):\n",
    "        batch_size = batch[\"interaction\"].size(0)\n",
    "\n",
    "        embed = self.emb_layer(batch)\n",
    "        nnbed = self.nli_layer(batch)\n",
    "\n",
    "        embed = torch.cat([embed, nnbed], 2)\n",
    "        X = self.comb_proj(embed)\n",
    "\n",
    "        hidden = self.init_hidden(batch_size)\n",
    "        out, hidden = self.lstm(X, hidden)\n",
    "        out = out.contiguous().view(batch_size, -1, self.hidden_dim)\n",
    "\n",
    "        out = self.fc(out)\n",
    "        preds = self.activation(out).view(batch_size, -1)\n",
    "\n",
    "        return preds\n",
    "\n",
    "    \n",
    "\n",
    "class LSTMTrainer(DKTTrainer):\n",
    "    def _process_batch(self, batch):\n",
    "        batch['mask'] = batch['mask'].type(torch.FloatTensor)\n",
    "        batch['answerCode'] = batch['answerCode'].type(torch.FloatTensor)\n",
    "        batch['correctPer'] = batch['correctPer'].type(torch.FloatTensor)\n",
    "        batch['timeSec'] = batch['timeSec'].type(torch.FloatTensor)\n",
    "\n",
    "        batch['interaction'] = batch['answerCode'] + 1\n",
    "        batch['interaction'] = batch['interaction'].roll(shifts=1, dims=1)\n",
    "        batch['mask'] = batch['mask'].roll(shifts=1, dims=1)\n",
    "        batch['mask'][:, 0] = 0\n",
    "        batch['interaction'] = (batch['interaction'] * batch['mask']).to(torch.int64)\n",
    "\n",
    "        batch['testPaper'] = batch['testPaper'].to(torch.int64)\n",
    "        batch['firstClass'] = batch['firstClass'].to(torch.int64)\n",
    "        batch['secondClass'] = batch['secondClass'].to(torch.int64)\n",
    "        \n",
    "        for k in batch.keys():\n",
    "            batch[k] = batch[k].to(self.args.device)\n",
    "\n",
    "        return batch"
   ]
  },
  {
   "cell_type": "code",
   "execution_count": 11,
   "metadata": {},
   "outputs": [],
   "source": [
    "args.columns = columns[1:]\n",
    "args.hidden_dim = 512\n",
    "args.n_epochs = 20\n",
    "args.lr = 0.000144\n",
    "args.batch_size = 60\n",
    "args.n_layers = 2\n",
    "args.weight_decay = 0.00096"
   ]
  },
  {
   "cell_type": "code",
   "execution_count": 12,
   "metadata": {},
   "outputs": [],
   "source": [
    "trainer = LSTMTrainer(args, LSTM)"
   ]
  },
  {
   "cell_type": "code",
   "execution_count": 13,
   "metadata": {
    "scrolled": true
   },
   "outputs": [
    {
     "name": "stderr",
     "output_type": "stream",
     "text": [
      "\u001b[34m\u001b[1mwandb\u001b[0m: Currently logged in as: \u001b[33mggm1207\u001b[0m (use `wandb login --relogin` to force relogin)\n",
      "\u001b[34m\u001b[1mwandb\u001b[0m: wandb version 0.10.31 is available!  To upgrade, please run:\n",
      "\u001b[34m\u001b[1mwandb\u001b[0m:  $ pip install wandb --upgrade\n"
     ]
    },
    {
     "data": {
      "text/html": [
       "\n",
       "                Tracking run with wandb version 0.10.27<br/>\n",
       "                Syncing run <strong style=\"color:#cdcd00\">blooming-salad-81</strong> to <a href=\"https://wandb.ai\" target=\"_blank\">Weights & Biases</a> <a href=\"https://docs.wandb.com/integrations/jupyter.html\" target=\"_blank\">(Documentation)</a>.<br/>\n",
       "                Project page: <a href=\"https://wandb.ai/ggm1207/p-stage-4\" target=\"_blank\">https://wandb.ai/ggm1207/p-stage-4</a><br/>\n",
       "                Run page: <a href=\"https://wandb.ai/ggm1207/p-stage-4/runs/3h050jqx\" target=\"_blank\">https://wandb.ai/ggm1207/p-stage-4/runs/3h050jqx</a><br/>\n",
       "                Run data is saved locally in <code>/home/j-gunmo/desktop/00.my-project/17.P-Stage-T1003/4-STAGE/notebook/wandb/run-20210608_060340-3h050jqx</code><br/><br/>\n",
       "            "
      ],
      "text/plain": [
       "<IPython.core.display.HTML object>"
      ]
     },
     "metadata": {},
     "output_type": "display_data"
    },
    {
     "data": {
      "text/html": [
       "<pre style=\"white-space:pre;overflow-x:auto;line-height:normal;font-family:Menlo,'DejaVu Sans Mono',consolas,'Courier New',monospace\"><span style=\"color: #7fbfbf\">[06:03:42] </span><span style=\"color: #000080\">INFO    </span> Start Training: Epoch <span style=\"color: #000080; font-weight: bold\">1</span>                <a href=\"file://<ipython-input-9-5c2bae223fd1>\"><span style=\"color: #7f7f7f\">&lt;ipython-input-9-5c2bae223fd1&gt;</span></a><span style=\"color: #7f7f7f\">:408</span>\n",
       "</pre>\n"
      ],
      "text/plain": [
       "<rich.jupyter.JupyterRenderable at 0x7f1cb4bdd8b0>"
      ]
     },
     "metadata": {},
     "output_type": "display_data"
    },
    {
     "name": "stdout",
     "output_type": "stream",
     "text": [
      "Training steps: 0 Loss: 0.6920971870422363\n",
      "Training steps: 50 Loss: 0.575532853603363\n",
      "Training steps: 100 Loss: 0.5530985593795776\n",
      "Training steps: 150 Loss: 0.6510840654373169\n",
      "VALID AUC : 0.7628190249140673 ACC : 0.7004052684903749\n",
      "\n"
     ]
    },
    {
     "data": {
      "text/html": [
       "<pre style=\"white-space:pre;overflow-x:auto;line-height:normal;font-family:Menlo,'DejaVu Sans Mono',consolas,'Courier New',monospace\"><span style=\"color: #7fbfbf\">[06:03:47] </span><span style=\"color: #000080\">INFO    </span> TRAIN_LOSS: <span style=\"color: #000080; font-weight: bold\">0.6019054651260376</span>         <a href=\"file://<ipython-input-9-5c2bae223fd1>\"><span style=\"color: #7f7f7f\">&lt;ipython-input-9-5c2bae223fd1&gt;</span></a><span style=\"color: #7f7f7f\">:424</span>\n",
       "</pre>\n"
      ],
      "text/plain": [
       "<rich.jupyter.JupyterRenderable at 0x7f1cb4bdd5e0>"
      ]
     },
     "metadata": {},
     "output_type": "display_data"
    },
    {
     "data": {
      "text/html": [
       "<pre style=\"white-space:pre;overflow-x:auto;line-height:normal;font-family:Menlo,'DejaVu Sans Mono',consolas,'Courier New',monospace\"><span style=\"color: #7fbfbf\">           </span><span style=\"color: #000080\">INFO    </span> TRAIN AUC: <span style=\"color: #000080; font-weight: bold\">0.7455198704754226</span> TRAIN    <a href=\"file://<ipython-input-9-5c2bae223fd1>\"><span style=\"color: #7f7f7f\">&lt;ipython-input-9-5c2bae223fd1&gt;</span></a><span style=\"color: #7f7f7f\">:425</span>\n",
       "                    ACC: <span style=\"color: #000080; font-weight: bold\">0.6927753571790455</span>                                                  \n",
       "</pre>\n"
      ],
      "text/plain": [
       "<rich.jupyter.JupyterRenderable at 0x7f1cb4bc3dc0>"
      ]
     },
     "metadata": {},
     "output_type": "display_data"
    },
    {
     "data": {
      "text/html": [
       "<pre style=\"white-space:pre;overflow-x:auto;line-height:normal;font-family:Menlo,'DejaVu Sans Mono',consolas,'Courier New',monospace\"><span style=\"color: #7fbfbf\">           </span><span style=\"color: #000080\">INFO    </span> VALID AUC: <span style=\"color: #000080; font-weight: bold\">0.7628190249140673</span> VALID    <a href=\"file://<ipython-input-9-5c2bae223fd1>\"><span style=\"color: #7f7f7f\">&lt;ipython-input-9-5c2bae223fd1&gt;</span></a><span style=\"color: #7f7f7f\">:426</span>\n",
       "                    ACC: <span style=\"color: #000080; font-weight: bold\">0.7004052684903749</span>                                                  \n",
       "                                                                                             \n",
       "</pre>\n"
      ],
      "text/plain": [
       "<rich.jupyter.JupyterRenderable at 0x7f1cb4bddb20>"
      ]
     },
     "metadata": {},
     "output_type": "display_data"
    },
    {
     "data": {
      "text/html": [
       "<pre style=\"white-space:pre;overflow-x:auto;line-height:normal;font-family:Menlo,'DejaVu Sans Mono',consolas,'Courier New',monospace\"><span style=\"color: #7fbfbf\">           </span><span style=\"color: #000080\">INFO    </span> Start Training: Epoch <span style=\"color: #000080; font-weight: bold\">2</span>                <a href=\"file://<ipython-input-9-5c2bae223fd1>\"><span style=\"color: #7f7f7f\">&lt;ipython-input-9-5c2bae223fd1&gt;</span></a><span style=\"color: #7f7f7f\">:408</span>\n",
       "</pre>\n"
      ],
      "text/plain": [
       "<rich.jupyter.JupyterRenderable at 0x7f1cb4bdd790>"
      ]
     },
     "metadata": {},
     "output_type": "display_data"
    },
    {
     "name": "stdout",
     "output_type": "stream",
     "text": [
      "Training steps: 0 Loss: 0.6171114444732666\n",
      "Training steps: 50 Loss: 0.639782190322876\n",
      "Training steps: 100 Loss: 0.5409539341926575\n",
      "Training steps: 150 Loss: 0.6039746999740601\n",
      "VALID AUC : 0.7661859024091989 ACC : 0.7038500506585613\n",
      "\n"
     ]
    },
    {
     "data": {
      "text/html": [
       "<pre style=\"white-space:pre;overflow-x:auto;line-height:normal;font-family:Menlo,'DejaVu Sans Mono',consolas,'Courier New',monospace\"><span style=\"color: #7fbfbf\">[06:03:51] </span><span style=\"color: #000080\">INFO    </span> TRAIN_LOSS: <span style=\"color: #000080; font-weight: bold\">0.5744282603263855</span>         <a href=\"file://<ipython-input-9-5c2bae223fd1>\"><span style=\"color: #7f7f7f\">&lt;ipython-input-9-5c2bae223fd1&gt;</span></a><span style=\"color: #7f7f7f\">:424</span>\n",
       "</pre>\n"
      ],
      "text/plain": [
       "<rich.jupyter.JupyterRenderable at 0x7f1cb4b69fd0>"
      ]
     },
     "metadata": {},
     "output_type": "display_data"
    },
    {
     "data": {
      "text/html": [
       "<pre style=\"white-space:pre;overflow-x:auto;line-height:normal;font-family:Menlo,'DejaVu Sans Mono',consolas,'Courier New',monospace\"><span style=\"color: #7fbfbf\">           </span><span style=\"color: #000080\">INFO    </span> TRAIN AUC: <span style=\"color: #000080; font-weight: bold\">0.7698187684306267</span> TRAIN    <a href=\"file://<ipython-input-9-5c2bae223fd1>\"><span style=\"color: #7f7f7f\">&lt;ipython-input-9-5c2bae223fd1&gt;</span></a><span style=\"color: #7f7f7f\">:425</span>\n",
       "                    ACC: <span style=\"color: #000080; font-weight: bold\">0.7044280068902624</span>                                                  \n",
       "</pre>\n"
      ],
      "text/plain": [
       "<rich.jupyter.JupyterRenderable at 0x7f1cb4b69bb0>"
      ]
     },
     "metadata": {},
     "output_type": "display_data"
    },
    {
     "data": {
      "text/html": [
       "<pre style=\"white-space:pre;overflow-x:auto;line-height:normal;font-family:Menlo,'DejaVu Sans Mono',consolas,'Courier New',monospace\"><span style=\"color: #7fbfbf\">           </span><span style=\"color: #000080\">INFO    </span> VALID AUC: <span style=\"color: #000080; font-weight: bold\">0.7661859024091989</span> VALID    <a href=\"file://<ipython-input-9-5c2bae223fd1>\"><span style=\"color: #7f7f7f\">&lt;ipython-input-9-5c2bae223fd1&gt;</span></a><span style=\"color: #7f7f7f\">:426</span>\n",
       "                    ACC: <span style=\"color: #000080; font-weight: bold\">0.7038500506585613</span>                                                  \n",
       "                                                                                             \n",
       "</pre>\n"
      ],
      "text/plain": [
       "<rich.jupyter.JupyterRenderable at 0x7f1cb4b69d30>"
      ]
     },
     "metadata": {},
     "output_type": "display_data"
    },
    {
     "data": {
      "text/html": [
       "<pre style=\"white-space:pre;overflow-x:auto;line-height:normal;font-family:Menlo,'DejaVu Sans Mono',consolas,'Courier New',monospace\"><span style=\"color: #7fbfbf\">           </span><span style=\"color: #000080\">INFO    </span> Start Training: Epoch <span style=\"color: #000080; font-weight: bold\">3</span>                <a href=\"file://<ipython-input-9-5c2bae223fd1>\"><span style=\"color: #7f7f7f\">&lt;ipython-input-9-5c2bae223fd1&gt;</span></a><span style=\"color: #7f7f7f\">:408</span>\n",
       "</pre>\n"
      ],
      "text/plain": [
       "<rich.jupyter.JupyterRenderable at 0x7f1cb4b693a0>"
      ]
     },
     "metadata": {},
     "output_type": "display_data"
    },
    {
     "name": "stdout",
     "output_type": "stream",
     "text": [
      "Training steps: 0 Loss: 0.6034331321716309\n",
      "Training steps: 50 Loss: 0.6079415678977966\n",
      "Training steps: 100 Loss: 0.622562825679779\n",
      "Training steps: 150 Loss: 0.635938823223114\n",
      "VALID AUC : 0.7657850577252105 ACC : 0.7050658561296859\n",
      "\n"
     ]
    },
    {
     "data": {
      "text/html": [
       "<pre style=\"white-space:pre;overflow-x:auto;line-height:normal;font-family:Menlo,'DejaVu Sans Mono',consolas,'Courier New',monospace\"><span style=\"color: #7fbfbf\">[06:03:56] </span><span style=\"color: #000080\">INFO    </span> TRAIN_LOSS: <span style=\"color: #000080; font-weight: bold\">0.5726211667060852</span>         <a href=\"file://<ipython-input-9-5c2bae223fd1>\"><span style=\"color: #7f7f7f\">&lt;ipython-input-9-5c2bae223fd1&gt;</span></a><span style=\"color: #7f7f7f\">:424</span>\n",
       "</pre>\n"
      ],
      "text/plain": [
       "<rich.jupyter.JupyterRenderable at 0x7f1cb4c45fa0>"
      ]
     },
     "metadata": {},
     "output_type": "display_data"
    },
    {
     "data": {
      "text/html": [
       "<pre style=\"white-space:pre;overflow-x:auto;line-height:normal;font-family:Menlo,'DejaVu Sans Mono',consolas,'Courier New',monospace\"><span style=\"color: #7fbfbf\">           </span><span style=\"color: #000080\">INFO    </span> TRAIN AUC: <span style=\"color: #000080; font-weight: bold\">0.7719990662349729</span> TRAIN    <a href=\"file://<ipython-input-9-5c2bae223fd1>\"><span style=\"color: #7f7f7f\">&lt;ipython-input-9-5c2bae223fd1&gt;</span></a><span style=\"color: #7f7f7f\">:425</span>\n",
       "                    ACC: <span style=\"color: #000080; font-weight: bold\">0.7035160603911237</span>                                                  \n",
       "</pre>\n"
      ],
      "text/plain": [
       "<rich.jupyter.JupyterRenderable at 0x7f1cb4b69eb0>"
      ]
     },
     "metadata": {},
     "output_type": "display_data"
    },
    {
     "data": {
      "text/html": [
       "<pre style=\"white-space:pre;overflow-x:auto;line-height:normal;font-family:Menlo,'DejaVu Sans Mono',consolas,'Courier New',monospace\"><span style=\"color: #7fbfbf\">           </span><span style=\"color: #000080\">INFO    </span> VALID AUC: <span style=\"color: #000080; font-weight: bold\">0.7657850577252105</span> VALID    <a href=\"file://<ipython-input-9-5c2bae223fd1>\"><span style=\"color: #7f7f7f\">&lt;ipython-input-9-5c2bae223fd1&gt;</span></a><span style=\"color: #7f7f7f\">:426</span>\n",
       "                    ACC: <span style=\"color: #000080; font-weight: bold\">0.7050658561296859</span>                                                  \n",
       "                                                                                             \n",
       "</pre>\n"
      ],
      "text/plain": [
       "<rich.jupyter.JupyterRenderable at 0x7f1cb4b69580>"
      ]
     },
     "metadata": {},
     "output_type": "display_data"
    },
    {
     "data": {
      "text/html": [
       "<pre style=\"white-space:pre;overflow-x:auto;line-height:normal;font-family:Menlo,'DejaVu Sans Mono',consolas,'Courier New',monospace\"><span style=\"color: #7fbfbf\">           </span><span style=\"color: #000080\">INFO    </span> EarlyStopping counter: <span style=\"color: #000080; font-weight: bold\">1</span>               <a href=\"file://<ipython-input-9-5c2bae223fd1>\"><span style=\"color: #7f7f7f\">&lt;ipython-input-9-5c2bae223fd1&gt;</span></a><span style=\"color: #7f7f7f\">:434</span>\n",
       "</pre>\n"
      ],
      "text/plain": [
       "<rich.jupyter.JupyterRenderable at 0x7f1cb4b69fd0>"
      ]
     },
     "metadata": {},
     "output_type": "display_data"
    },
    {
     "data": {
      "text/html": [
       "<pre style=\"white-space:pre;overflow-x:auto;line-height:normal;font-family:Menlo,'DejaVu Sans Mono',consolas,'Courier New',monospace\"><span style=\"color: #7fbfbf\">           </span><span style=\"color: #000080\">INFO    </span> Start Training: Epoch <span style=\"color: #000080; font-weight: bold\">4</span>                <a href=\"file://<ipython-input-9-5c2bae223fd1>\"><span style=\"color: #7f7f7f\">&lt;ipython-input-9-5c2bae223fd1&gt;</span></a><span style=\"color: #7f7f7f\">:408</span>\n",
       "</pre>\n"
      ],
      "text/plain": [
       "<rich.jupyter.JupyterRenderable at 0x7f1cb4b69190>"
      ]
     },
     "metadata": {},
     "output_type": "display_data"
    },
    {
     "name": "stdout",
     "output_type": "stream",
     "text": [
      "Training steps: 0 Loss: 0.5911692380905151\n",
      "Training steps: 50 Loss: 0.5026051998138428\n",
      "Training steps: 100 Loss: 0.6213133335113525\n",
      "Training steps: 150 Loss: 0.5442060232162476\n",
      "VALID AUC : 0.7655037019149253 ACC : 0.7056737588652482\n",
      "\n"
     ]
    },
    {
     "data": {
      "text/html": [
       "<pre style=\"white-space:pre;overflow-x:auto;line-height:normal;font-family:Menlo,'DejaVu Sans Mono',consolas,'Courier New',monospace\"><span style=\"color: #7fbfbf\">[06:04:01] </span><span style=\"color: #000080\">INFO    </span> TRAIN_LOSS: <span style=\"color: #000080; font-weight: bold\">0.5700153708457947</span>         <a href=\"file://<ipython-input-9-5c2bae223fd1>\"><span style=\"color: #7f7f7f\">&lt;ipython-input-9-5c2bae223fd1&gt;</span></a><span style=\"color: #7f7f7f\">:424</span>\n",
       "</pre>\n"
      ],
      "text/plain": [
       "<rich.jupyter.JupyterRenderable at 0x7f1cb4be7130>"
      ]
     },
     "metadata": {},
     "output_type": "display_data"
    },
    {
     "data": {
      "text/html": [
       "<pre style=\"white-space:pre;overflow-x:auto;line-height:normal;font-family:Menlo,'DejaVu Sans Mono',consolas,'Courier New',monospace\"><span style=\"color: #7fbfbf\">           </span><span style=\"color: #000080\">INFO    </span> TRAIN AUC: <span style=\"color: #000080; font-weight: bold\">0.774903734230497</span> TRAIN     <a href=\"file://<ipython-input-9-5c2bae223fd1>\"><span style=\"color: #7f7f7f\">&lt;ipython-input-9-5c2bae223fd1&gt;</span></a><span style=\"color: #7f7f7f\">:425</span>\n",
       "                    ACC: <span style=\"color: #000080; font-weight: bold\">0.7103049954402675</span>                                                  \n",
       "</pre>\n"
      ],
      "text/plain": [
       "<rich.jupyter.JupyterRenderable at 0x7f1cb4be7610>"
      ]
     },
     "metadata": {},
     "output_type": "display_data"
    },
    {
     "data": {
      "text/html": [
       "<pre style=\"white-space:pre;overflow-x:auto;line-height:normal;font-family:Menlo,'DejaVu Sans Mono',consolas,'Courier New',monospace\"><span style=\"color: #7fbfbf\">           </span><span style=\"color: #000080\">INFO    </span> VALID AUC: <span style=\"color: #000080; font-weight: bold\">0.7655037019149253</span> VALID    <a href=\"file://<ipython-input-9-5c2bae223fd1>\"><span style=\"color: #7f7f7f\">&lt;ipython-input-9-5c2bae223fd1&gt;</span></a><span style=\"color: #7f7f7f\">:426</span>\n",
       "                    ACC: <span style=\"color: #000080; font-weight: bold\">0.7056737588652482</span>                                                  \n",
       "                                                                                             \n",
       "</pre>\n"
      ],
      "text/plain": [
       "<rich.jupyter.JupyterRenderable at 0x7f1cb4be7550>"
      ]
     },
     "metadata": {},
     "output_type": "display_data"
    },
    {
     "data": {
      "text/html": [
       "<pre style=\"white-space:pre;overflow-x:auto;line-height:normal;font-family:Menlo,'DejaVu Sans Mono',consolas,'Courier New',monospace\"><span style=\"color: #7fbfbf\">           </span><span style=\"color: #000080\">INFO    </span> EarlyStopping counter: <span style=\"color: #000080; font-weight: bold\">2</span>               <a href=\"file://<ipython-input-9-5c2bae223fd1>\"><span style=\"color: #7f7f7f\">&lt;ipython-input-9-5c2bae223fd1&gt;</span></a><span style=\"color: #7f7f7f\">:434</span>\n",
       "</pre>\n"
      ],
      "text/plain": [
       "<rich.jupyter.JupyterRenderable at 0x7f1cb4b4dbb0>"
      ]
     },
     "metadata": {},
     "output_type": "display_data"
    },
    {
     "data": {
      "text/html": [
       "<pre style=\"white-space:pre;overflow-x:auto;line-height:normal;font-family:Menlo,'DejaVu Sans Mono',consolas,'Courier New',monospace\"><span style=\"color: #7fbfbf\">           </span><span style=\"color: #000080\">INFO    </span> Start Training: Epoch <span style=\"color: #000080; font-weight: bold\">5</span>                <a href=\"file://<ipython-input-9-5c2bae223fd1>\"><span style=\"color: #7f7f7f\">&lt;ipython-input-9-5c2bae223fd1&gt;</span></a><span style=\"color: #7f7f7f\">:408</span>\n",
       "</pre>\n"
      ],
      "text/plain": [
       "<rich.jupyter.JupyterRenderable at 0x7f1cb4bc3dc0>"
      ]
     },
     "metadata": {},
     "output_type": "display_data"
    },
    {
     "name": "stdout",
     "output_type": "stream",
     "text": [
      "Training steps: 0 Loss: 0.48414477705955505\n",
      "Training steps: 50 Loss: 0.581581175327301\n",
      "Training steps: 100 Loss: 0.583236575126648\n",
      "Training steps: 150 Loss: 0.6167846918106079\n",
      "VALID AUC : 0.7657725005009531 ACC : 0.7019250253292807\n",
      "\n"
     ]
    },
    {
     "data": {
      "text/html": [
       "<pre style=\"white-space:pre;overflow-x:auto;line-height:normal;font-family:Menlo,'DejaVu Sans Mono',consolas,'Courier New',monospace\"><span style=\"color: #7fbfbf\">[06:04:05] </span><span style=\"color: #000080\">INFO    </span> TRAIN_LOSS: <span style=\"color: #000080; font-weight: bold\">0.5709487199783325</span>         <a href=\"file://<ipython-input-9-5c2bae223fd1>\"><span style=\"color: #7f7f7f\">&lt;ipython-input-9-5c2bae223fd1&gt;</span></a><span style=\"color: #7f7f7f\">:424</span>\n",
       "</pre>\n"
      ],
      "text/plain": [
       "<rich.jupyter.JupyterRenderable at 0x7f1cb4be7550>"
      ]
     },
     "metadata": {},
     "output_type": "display_data"
    },
    {
     "data": {
      "text/html": [
       "<pre style=\"white-space:pre;overflow-x:auto;line-height:normal;font-family:Menlo,'DejaVu Sans Mono',consolas,'Courier New',monospace\"><span style=\"color: #7fbfbf\">           </span><span style=\"color: #000080\">INFO    </span> TRAIN AUC: <span style=\"color: #000080; font-weight: bold\">0.7738446238979615</span> TRAIN    <a href=\"file://<ipython-input-9-5c2bae223fd1>\"><span style=\"color: #7f7f7f\">&lt;ipython-input-9-5c2bae223fd1&gt;</span></a><span style=\"color: #7f7f7f\">:425</span>\n",
       "                    ACC: <span style=\"color: #000080; font-weight: bold\">0.7113182693281994</span>                                                  \n",
       "</pre>\n"
      ],
      "text/plain": [
       "<rich.jupyter.JupyterRenderable at 0x7f1cb4bc3dc0>"
      ]
     },
     "metadata": {},
     "output_type": "display_data"
    },
    {
     "data": {
      "text/html": [
       "<pre style=\"white-space:pre;overflow-x:auto;line-height:normal;font-family:Menlo,'DejaVu Sans Mono',consolas,'Courier New',monospace\"><span style=\"color: #7fbfbf\">           </span><span style=\"color: #000080\">INFO    </span> VALID AUC: <span style=\"color: #000080; font-weight: bold\">0.7657725005009531</span> VALID    <a href=\"file://<ipython-input-9-5c2bae223fd1>\"><span style=\"color: #7f7f7f\">&lt;ipython-input-9-5c2bae223fd1&gt;</span></a><span style=\"color: #7f7f7f\">:426</span>\n",
       "                    ACC: <span style=\"color: #000080; font-weight: bold\">0.7019250253292807</span>                                                  \n",
       "                                                                                             \n",
       "</pre>\n"
      ],
      "text/plain": [
       "<rich.jupyter.JupyterRenderable at 0x7f1cb4bd8d00>"
      ]
     },
     "metadata": {},
     "output_type": "display_data"
    },
    {
     "data": {
      "text/html": [
       "<pre style=\"white-space:pre;overflow-x:auto;line-height:normal;font-family:Menlo,'DejaVu Sans Mono',consolas,'Courier New',monospace\"><span style=\"color: #7fbfbf\">           </span><span style=\"color: #000080\">INFO    </span> EarlyStopping counter: <span style=\"color: #000080; font-weight: bold\">3</span>               <a href=\"file://<ipython-input-9-5c2bae223fd1>\"><span style=\"color: #7f7f7f\">&lt;ipython-input-9-5c2bae223fd1&gt;</span></a><span style=\"color: #7f7f7f\">:434</span>\n",
       "</pre>\n"
      ],
      "text/plain": [
       "<rich.jupyter.JupyterRenderable at 0x7f1cb4bc3ca0>"
      ]
     },
     "metadata": {},
     "output_type": "display_data"
    },
    {
     "data": {
      "text/html": [
       "<pre style=\"white-space:pre;overflow-x:auto;line-height:normal;font-family:Menlo,'DejaVu Sans Mono',consolas,'Courier New',monospace\"><span style=\"color: #7fbfbf\">           </span><span style=\"color: #000080\">INFO    </span> Start Training: Epoch <span style=\"color: #000080; font-weight: bold\">6</span>                <a href=\"file://<ipython-input-9-5c2bae223fd1>\"><span style=\"color: #7f7f7f\">&lt;ipython-input-9-5c2bae223fd1&gt;</span></a><span style=\"color: #7f7f7f\">:408</span>\n",
       "</pre>\n"
      ],
      "text/plain": [
       "<rich.jupyter.JupyterRenderable at 0x7f1cb4be7dc0>"
      ]
     },
     "metadata": {},
     "output_type": "display_data"
    },
    {
     "name": "stdout",
     "output_type": "stream",
     "text": [
      "Training steps: 0 Loss: 0.6138796806335449\n",
      "Training steps: 50 Loss: 0.6201583743095398\n",
      "Training steps: 100 Loss: 0.5724982023239136\n",
      "Training steps: 150 Loss: 0.5251679420471191\n",
      "VALID AUC : 0.7650487851245189 ACC : 0.7048632218844985\n",
      "\n"
     ]
    },
    {
     "data": {
      "text/html": [
       "<pre style=\"white-space:pre;overflow-x:auto;line-height:normal;font-family:Menlo,'DejaVu Sans Mono',consolas,'Courier New',monospace\"><span style=\"color: #7fbfbf\">[06:04:10] </span><span style=\"color: #000080\">INFO    </span> TRAIN_LOSS: <span style=\"color: #000080; font-weight: bold\">0.5683688521385193</span>         <a href=\"file://<ipython-input-9-5c2bae223fd1>\"><span style=\"color: #7f7f7f\">&lt;ipython-input-9-5c2bae223fd1&gt;</span></a><span style=\"color: #7f7f7f\">:424</span>\n",
       "</pre>\n"
      ],
      "text/plain": [
       "<rich.jupyter.JupyterRenderable at 0x7f1cb4bd8f70>"
      ]
     },
     "metadata": {},
     "output_type": "display_data"
    },
    {
     "data": {
      "text/html": [
       "<pre style=\"white-space:pre;overflow-x:auto;line-height:normal;font-family:Menlo,'DejaVu Sans Mono',consolas,'Courier New',monospace\"><span style=\"color: #7fbfbf\">           </span><span style=\"color: #000080\">INFO    </span> TRAIN AUC: <span style=\"color: #000080; font-weight: bold\">0.776551684116031</span> TRAIN     <a href=\"file://<ipython-input-9-5c2bae223fd1>\"><span style=\"color: #7f7f7f\">&lt;ipython-input-9-5c2bae223fd1&gt;</span></a><span style=\"color: #7f7f7f\">:425</span>\n",
       "                    ACC: <span style=\"color: #000080; font-weight: bold\">0.7114195967169926</span>                                                  \n",
       "</pre>\n"
      ],
      "text/plain": [
       "<rich.jupyter.JupyterRenderable at 0x7f1cb4b4dc10>"
      ]
     },
     "metadata": {},
     "output_type": "display_data"
    },
    {
     "data": {
      "text/html": [
       "<pre style=\"white-space:pre;overflow-x:auto;line-height:normal;font-family:Menlo,'DejaVu Sans Mono',consolas,'Courier New',monospace\"><span style=\"color: #7fbfbf\">           </span><span style=\"color: #000080\">INFO    </span> VALID AUC: <span style=\"color: #000080; font-weight: bold\">0.7650487851245189</span> VALID    <a href=\"file://<ipython-input-9-5c2bae223fd1>\"><span style=\"color: #7f7f7f\">&lt;ipython-input-9-5c2bae223fd1&gt;</span></a><span style=\"color: #7f7f7f\">:426</span>\n",
       "                    ACC: <span style=\"color: #000080; font-weight: bold\">0.7048632218844985</span>                                                  \n",
       "                                                                                             \n",
       "</pre>\n"
      ],
      "text/plain": [
       "<rich.jupyter.JupyterRenderable at 0x7f1cb4bd8f70>"
      ]
     },
     "metadata": {},
     "output_type": "display_data"
    },
    {
     "data": {
      "text/html": [
       "<pre style=\"white-space:pre;overflow-x:auto;line-height:normal;font-family:Menlo,'DejaVu Sans Mono',consolas,'Courier New',monospace\"><span style=\"color: #7fbfbf\">           </span><span style=\"color: #000080\">INFO    </span> EarlyStopping counter: <span style=\"color: #000080; font-weight: bold\">4</span>               <a href=\"file://<ipython-input-9-5c2bae223fd1>\"><span style=\"color: #7f7f7f\">&lt;ipython-input-9-5c2bae223fd1&gt;</span></a><span style=\"color: #7f7f7f\">:434</span>\n",
       "</pre>\n"
      ],
      "text/plain": [
       "<rich.jupyter.JupyterRenderable at 0x7f1cb4b4daf0>"
      ]
     },
     "metadata": {},
     "output_type": "display_data"
    },
    {
     "data": {
      "text/html": [
       "<pre style=\"white-space:pre;overflow-x:auto;line-height:normal;font-family:Menlo,'DejaVu Sans Mono',consolas,'Courier New',monospace\"><span style=\"color: #7fbfbf\">           </span><span style=\"color: #000080\">INFO    </span> Start Training: Epoch <span style=\"color: #000080; font-weight: bold\">7</span>                <a href=\"file://<ipython-input-9-5c2bae223fd1>\"><span style=\"color: #7f7f7f\">&lt;ipython-input-9-5c2bae223fd1&gt;</span></a><span style=\"color: #7f7f7f\">:408</span>\n",
       "</pre>\n"
      ],
      "text/plain": [
       "<rich.jupyter.JupyterRenderable at 0x7f1cb4c45fa0>"
      ]
     },
     "metadata": {},
     "output_type": "display_data"
    },
    {
     "name": "stdout",
     "output_type": "stream",
     "text": [
      "Training steps: 0 Loss: 0.5781430006027222\n",
      "Training steps: 50 Loss: 0.5723870992660522\n",
      "Training steps: 100 Loss: 0.6044377684593201\n",
      "Training steps: 150 Loss: 0.47730836272239685\n",
      "VALID AUC : 0.7655357629130294 ACC : 0.7048632218844985\n",
      "\n"
     ]
    },
    {
     "data": {
      "text/html": [
       "<pre style=\"white-space:pre;overflow-x:auto;line-height:normal;font-family:Menlo,'DejaVu Sans Mono',consolas,'Courier New',monospace\"><span style=\"color: #7fbfbf\">[06:04:14] </span><span style=\"color: #000080\">INFO    </span> TRAIN_LOSS: <span style=\"color: #000080; font-weight: bold\">0.56871098279953</span>           <a href=\"file://<ipython-input-9-5c2bae223fd1>\"><span style=\"color: #7f7f7f\">&lt;ipython-input-9-5c2bae223fd1&gt;</span></a><span style=\"color: #7f7f7f\">:424</span>\n",
       "</pre>\n"
      ],
      "text/plain": [
       "<rich.jupyter.JupyterRenderable at 0x7f1cb4c45fa0>"
      ]
     },
     "metadata": {},
     "output_type": "display_data"
    },
    {
     "data": {
      "text/html": [
       "<pre style=\"white-space:pre;overflow-x:auto;line-height:normal;font-family:Menlo,'DejaVu Sans Mono',consolas,'Courier New',monospace\"><span style=\"color: #7fbfbf\">           </span><span style=\"color: #000080\">INFO    </span> TRAIN AUC: <span style=\"color: #000080; font-weight: bold\">0.7762279712402342</span> TRAIN    <a href=\"file://<ipython-input-9-5c2bae223fd1>\"><span style=\"color: #7f7f7f\">&lt;ipython-input-9-5c2bae223fd1&gt;</span></a><span style=\"color: #7f7f7f\">:425</span>\n",
       "                    ACC: <span style=\"color: #000080; font-weight: bold\">0.7098996858850948</span>                                                  \n",
       "</pre>\n"
      ],
      "text/plain": [
       "<rich.jupyter.JupyterRenderable at 0x7f1cb4be75e0>"
      ]
     },
     "metadata": {},
     "output_type": "display_data"
    },
    {
     "data": {
      "text/html": [
       "<pre style=\"white-space:pre;overflow-x:auto;line-height:normal;font-family:Menlo,'DejaVu Sans Mono',consolas,'Courier New',monospace\"><span style=\"color: #7fbfbf\">           </span><span style=\"color: #000080\">INFO    </span> VALID AUC: <span style=\"color: #000080; font-weight: bold\">0.7655357629130294</span> VALID    <a href=\"file://<ipython-input-9-5c2bae223fd1>\"><span style=\"color: #7f7f7f\">&lt;ipython-input-9-5c2bae223fd1&gt;</span></a><span style=\"color: #7f7f7f\">:426</span>\n",
       "                    ACC: <span style=\"color: #000080; font-weight: bold\">0.7048632218844985</span>                                                  \n",
       "                                                                                             \n",
       "</pre>\n"
      ],
      "text/plain": [
       "<rich.jupyter.JupyterRenderable at 0x7f1cb4be78b0>"
      ]
     },
     "metadata": {},
     "output_type": "display_data"
    },
    {
     "data": {
      "text/html": [
       "<pre style=\"white-space:pre;overflow-x:auto;line-height:normal;font-family:Menlo,'DejaVu Sans Mono',consolas,'Courier New',monospace\"><span style=\"color: #7fbfbf\">           </span><span style=\"color: #000080\">INFO    </span> EarlyStopping counter: <span style=\"color: #000080; font-weight: bold\">5</span>               <a href=\"file://<ipython-input-9-5c2bae223fd1>\"><span style=\"color: #7f7f7f\">&lt;ipython-input-9-5c2bae223fd1&gt;</span></a><span style=\"color: #7f7f7f\">:434</span>\n",
       "</pre>\n"
      ],
      "text/plain": [
       "<rich.jupyter.JupyterRenderable at 0x7f1cb4be76d0>"
      ]
     },
     "metadata": {},
     "output_type": "display_data"
    },
    {
     "data": {
      "text/html": [
       "<pre style=\"white-space:pre;overflow-x:auto;line-height:normal;font-family:Menlo,'DejaVu Sans Mono',consolas,'Courier New',monospace\"><span style=\"color: #7fbfbf\">           </span><span style=\"color: #000080\">INFO    </span> EarlyStopping counter: <span style=\"color: #000080; font-weight: bold\">5</span> out of <span style=\"color: #000080; font-weight: bold\">5</span>      <a href=\"file://<ipython-input-9-5c2bae223fd1>\"><span style=\"color: #7f7f7f\">&lt;ipython-input-9-5c2bae223fd1&gt;</span></a><span style=\"color: #7f7f7f\">:436</span>\n",
       "</pre>\n"
      ],
      "text/plain": [
       "<rich.jupyter.JupyterRenderable at 0x7f1cb4be7490>"
      ]
     },
     "metadata": {},
     "output_type": "display_data"
    },
    {
     "data": {
      "text/html": [
       "Finishing last run (ID:3h050jqx) before initializing another..."
      ],
      "text/plain": [
       "<IPython.core.display.HTML object>"
      ]
     },
     "metadata": {},
     "output_type": "display_data"
    },
    {
     "data": {
      "text/html": [
       "<br/>Waiting for W&B process to finish, PID 23585<br/>Program ended successfully."
      ],
      "text/plain": [
       "<IPython.core.display.HTML object>"
      ]
     },
     "metadata": {},
     "output_type": "display_data"
    },
    {
     "data": {
      "application/vnd.jupyter.widget-view+json": {
       "model_id": "e30be68ff80e4f79839fb7b05a0e46ad",
       "version_major": 2,
       "version_minor": 0
      },
      "text/plain": [
       "VBox(children=(Label(value=' 2.23MB of 2.23MB uploaded (0.00MB deduped)\\r'), FloatProgress(value=1.0, max=1.0)…"
      ]
     },
     "metadata": {},
     "output_type": "display_data"
    },
    {
     "data": {
      "text/html": [
       "Find user logs for this run at: <code>/home/j-gunmo/desktop/00.my-project/17.P-Stage-T1003/4-STAGE/notebook/wandb/run-20210608_060340-3h050jqx/logs/debug.log</code>"
      ],
      "text/plain": [
       "<IPython.core.display.HTML object>"
      ]
     },
     "metadata": {},
     "output_type": "display_data"
    },
    {
     "data": {
      "text/html": [
       "Find internal logs for this run at: <code>/home/j-gunmo/desktop/00.my-project/17.P-Stage-T1003/4-STAGE/notebook/wandb/run-20210608_060340-3h050jqx/logs/debug-internal.log</code>"
      ],
      "text/plain": [
       "<IPython.core.display.HTML object>"
      ]
     },
     "metadata": {},
     "output_type": "display_data"
    },
    {
     "data": {
      "text/html": [
       "<h3>Run summary:</h3><br/><style>\n",
       "    table.wandb td:nth-child(1) { padding: 0 10px; text-align: right }\n",
       "    </style><table class=\"wandb\">\n",
       "<tr><td>step_train_loss</td><td>0.47731</td></tr><tr><td>_runtime</td><td>34</td></tr><tr><td>_timestamp</td><td>1623099854</td></tr><tr><td>_step</td><td>34</td></tr><tr><td>epoch</td><td>6</td></tr><tr><td>train_loss</td><td>0.56871</td></tr><tr><td>train_auc</td><td>0.77623</td></tr><tr><td>train_acc</td><td>0.7099</td></tr><tr><td>valid_auc</td><td>0.76554</td></tr><tr><td>valid_acc</td><td>0.70486</td></tr></table>"
      ],
      "text/plain": [
       "<IPython.core.display.HTML object>"
      ]
     },
     "metadata": {},
     "output_type": "display_data"
    },
    {
     "data": {
      "text/html": [
       "<h3>Run history:</h3><br/><style>\n",
       "    table.wandb td:nth-child(1) { padding: 0 10px; text-align: right }\n",
       "    </style><table class=\"wandb\">\n",
       "<tr><td>step_train_loss</td><td>█▄▃▇▆▆▃▅▅▅▆▆▅▂▆▃▁▄▄▆▅▆▄▃▄▄▅▁</td></tr><tr><td>_runtime</td><td>▁▁▁▂▂▂▂▃▃▃▃▃▃▄▄▄▄▅▅▅▅▅▆▆▆▆▆▆▇▇▇▇███</td></tr><tr><td>_timestamp</td><td>▁▁▁▂▂▂▂▃▃▃▃▃▃▄▄▄▄▅▅▅▅▅▆▆▆▆▆▆▇▇▇▇███</td></tr><tr><td>_step</td><td>▁▁▁▂▂▂▂▂▃▃▃▃▃▄▄▄▄▅▅▅▅▅▆▆▆▆▆▇▇▇▇▇███</td></tr><tr><td>epoch</td><td>▁▂▃▅▆▇█</td></tr><tr><td>train_loss</td><td>█▂▂▁▂▁▁</td></tr><tr><td>train_auc</td><td>▁▆▇█▇██</td></tr><tr><td>train_acc</td><td>▁▅▅███▇</td></tr><tr><td>valid_auc</td><td>▁█▇▇▇▆▇</td></tr><tr><td>valid_acc</td><td>▁▆▇█▃▇▇</td></tr></table><br/>"
      ],
      "text/plain": [
       "<IPython.core.display.HTML object>"
      ]
     },
     "metadata": {},
     "output_type": "display_data"
    },
    {
     "data": {
      "text/html": [
       "Synced 6 W&B file(s), 1 media file(s), 0 artifact file(s) and 2 other file(s)"
      ],
      "text/plain": [
       "<IPython.core.display.HTML object>"
      ]
     },
     "metadata": {},
     "output_type": "display_data"
    },
    {
     "data": {
      "text/html": [
       "\n",
       "                    <br/>Synced <strong style=\"color:#cdcd00\">blooming-salad-81</strong>: <a href=\"https://wandb.ai/ggm1207/p-stage-4/runs/3h050jqx\" target=\"_blank\">https://wandb.ai/ggm1207/p-stage-4/runs/3h050jqx</a><br/>\n",
       "                "
      ],
      "text/plain": [
       "<IPython.core.display.HTML object>"
      ]
     },
     "metadata": {},
     "output_type": "display_data"
    },
    {
     "data": {
      "text/html": [
       "...Successfully finished last run (ID:3h050jqx). Initializing new run:<br/><br/>"
      ],
      "text/plain": [
       "<IPython.core.display.HTML object>"
      ]
     },
     "metadata": {},
     "output_type": "display_data"
    },
    {
     "name": "stderr",
     "output_type": "stream",
     "text": [
      "\u001b[34m\u001b[1mwandb\u001b[0m: wandb version 0.10.31 is available!  To upgrade, please run:\n",
      "\u001b[34m\u001b[1mwandb\u001b[0m:  $ pip install wandb --upgrade\n"
     ]
    },
    {
     "data": {
      "text/html": [
       "\n",
       "                Tracking run with wandb version 0.10.27<br/>\n",
       "                Syncing run <strong style=\"color:#cdcd00\">spring-pine-82</strong> to <a href=\"https://wandb.ai\" target=\"_blank\">Weights & Biases</a> <a href=\"https://docs.wandb.com/integrations/jupyter.html\" target=\"_blank\">(Documentation)</a>.<br/>\n",
       "                Project page: <a href=\"https://wandb.ai/ggm1207/p-stage-4\" target=\"_blank\">https://wandb.ai/ggm1207/p-stage-4</a><br/>\n",
       "                Run page: <a href=\"https://wandb.ai/ggm1207/p-stage-4/runs/otniqa2w\" target=\"_blank\">https://wandb.ai/ggm1207/p-stage-4/runs/otniqa2w</a><br/>\n",
       "                Run data is saved locally in <code>/home/j-gunmo/desktop/00.my-project/17.P-Stage-T1003/4-STAGE/notebook/wandb/run-20210608_060414-otniqa2w</code><br/><br/>\n",
       "            "
      ],
      "text/plain": [
       "<IPython.core.display.HTML object>"
      ]
     },
     "metadata": {},
     "output_type": "display_data"
    },
    {
     "data": {
      "text/html": [
       "<pre style=\"white-space:pre;overflow-x:auto;line-height:normal;font-family:Menlo,'DejaVu Sans Mono',consolas,'Courier New',monospace\"><span style=\"color: #7fbfbf\">[06:04:20] </span><span style=\"color: #000080\">INFO    </span> Start Training: Epoch <span style=\"color: #000080; font-weight: bold\">1</span>                <a href=\"file://<ipython-input-9-5c2bae223fd1>\"><span style=\"color: #7f7f7f\">&lt;ipython-input-9-5c2bae223fd1&gt;</span></a><span style=\"color: #7f7f7f\">:408</span>\n",
       "</pre>\n"
      ],
      "text/plain": [
       "<rich.jupyter.JupyterRenderable at 0x7f1cb4ba9a90>"
      ]
     },
     "metadata": {},
     "output_type": "display_data"
    },
    {
     "name": "stdout",
     "output_type": "stream",
     "text": [
      "Training steps: 0 Loss: 0.6939772367477417\n",
      "Training steps: 50 Loss: 0.5656082630157471\n",
      "Training steps: 100 Loss: 0.5424333214759827\n",
      "Training steps: 150 Loss: 0.5935598015785217\n",
      "VALID AUC : 0.7659575451020411 ACC : 0.7062816616008105\n",
      "\n"
     ]
    },
    {
     "data": {
      "text/html": [
       "<pre style=\"white-space:pre;overflow-x:auto;line-height:normal;font-family:Menlo,'DejaVu Sans Mono',consolas,'Courier New',monospace\"><span style=\"color: #7fbfbf\">[06:04:25] </span><span style=\"color: #000080\">INFO    </span> TRAIN_LOSS: <span style=\"color: #000080; font-weight: bold\">0.6085625886917114</span>         <a href=\"file://<ipython-input-9-5c2bae223fd1>\"><span style=\"color: #7f7f7f\">&lt;ipython-input-9-5c2bae223fd1&gt;</span></a><span style=\"color: #7f7f7f\">:424</span>\n",
       "</pre>\n"
      ],
      "text/plain": [
       "<rich.jupyter.JupyterRenderable at 0x7f1cb4ba97c0>"
      ]
     },
     "metadata": {},
     "output_type": "display_data"
    },
    {
     "data": {
      "text/html": [
       "<pre style=\"white-space:pre;overflow-x:auto;line-height:normal;font-family:Menlo,'DejaVu Sans Mono',consolas,'Courier New',monospace\"><span style=\"color: #7fbfbf\">           </span><span style=\"color: #000080\">INFO    </span> TRAIN AUC: <span style=\"color: #000080; font-weight: bold\">0.7349051031363993</span> TRAIN    <a href=\"file://<ipython-input-9-5c2bae223fd1>\"><span style=\"color: #7f7f7f\">&lt;ipython-input-9-5c2bae223fd1&gt;</span></a><span style=\"color: #7f7f7f\">:425</span>\n",
       "                    ACC: <span style=\"color: #000080; font-weight: bold\">0.6795014692471375</span>                                                  \n",
       "</pre>\n"
      ],
      "text/plain": [
       "<rich.jupyter.JupyterRenderable at 0x7f1cb4b69ee0>"
      ]
     },
     "metadata": {},
     "output_type": "display_data"
    },
    {
     "data": {
      "text/html": [
       "<pre style=\"white-space:pre;overflow-x:auto;line-height:normal;font-family:Menlo,'DejaVu Sans Mono',consolas,'Courier New',monospace\"><span style=\"color: #7fbfbf\">           </span><span style=\"color: #000080\">INFO    </span> VALID AUC: <span style=\"color: #000080; font-weight: bold\">0.7659575451020411</span> VALID    <a href=\"file://<ipython-input-9-5c2bae223fd1>\"><span style=\"color: #7f7f7f\">&lt;ipython-input-9-5c2bae223fd1&gt;</span></a><span style=\"color: #7f7f7f\">:426</span>\n",
       "                    ACC: <span style=\"color: #000080; font-weight: bold\">0.7062816616008105</span>                                                  \n",
       "                                                                                             \n",
       "</pre>\n"
      ],
      "text/plain": [
       "<rich.jupyter.JupyterRenderable at 0x7f1cb4ba9850>"
      ]
     },
     "metadata": {},
     "output_type": "display_data"
    },
    {
     "data": {
      "text/html": [
       "<pre style=\"white-space:pre;overflow-x:auto;line-height:normal;font-family:Menlo,'DejaVu Sans Mono',consolas,'Courier New',monospace\"><span style=\"color: #7fbfbf\">           </span><span style=\"color: #000080\">INFO    </span> Start Training: Epoch <span style=\"color: #000080; font-weight: bold\">2</span>                <a href=\"file://<ipython-input-9-5c2bae223fd1>\"><span style=\"color: #7f7f7f\">&lt;ipython-input-9-5c2bae223fd1&gt;</span></a><span style=\"color: #7f7f7f\">:408</span>\n",
       "</pre>\n"
      ],
      "text/plain": [
       "<rich.jupyter.JupyterRenderable at 0x7f1cb4ba9dc0>"
      ]
     },
     "metadata": {},
     "output_type": "display_data"
    },
    {
     "name": "stdout",
     "output_type": "stream",
     "text": [
      "Training steps: 0 Loss: 0.5487687587738037\n",
      "Training steps: 50 Loss: 0.6077823042869568\n",
      "Training steps: 100 Loss: 0.5843160152435303\n",
      "Training steps: 150 Loss: 0.5977464318275452\n",
      "VALID AUC : 0.7684010886292449 ACC : 0.7092198581560284\n",
      "\n"
     ]
    },
    {
     "data": {
      "text/html": [
       "<pre style=\"white-space:pre;overflow-x:auto;line-height:normal;font-family:Menlo,'DejaVu Sans Mono',consolas,'Courier New',monospace\"><span style=\"color: #7fbfbf\">[06:04:29] </span><span style=\"color: #000080\">INFO    </span> TRAIN_LOSS: <span style=\"color: #000080; font-weight: bold\">0.5773782134056091</span>         <a href=\"file://<ipython-input-9-5c2bae223fd1>\"><span style=\"color: #7f7f7f\">&lt;ipython-input-9-5c2bae223fd1&gt;</span></a><span style=\"color: #7f7f7f\">:424</span>\n",
       "</pre>\n"
      ],
      "text/plain": [
       "<rich.jupyter.JupyterRenderable at 0x7f1cb4b88f10>"
      ]
     },
     "metadata": {},
     "output_type": "display_data"
    },
    {
     "data": {
      "text/html": [
       "<pre style=\"white-space:pre;overflow-x:auto;line-height:normal;font-family:Menlo,'DejaVu Sans Mono',consolas,'Courier New',monospace\"><span style=\"color: #7fbfbf\">           </span><span style=\"color: #000080\">INFO    </span> TRAIN AUC: <span style=\"color: #000080; font-weight: bold\">0.7670403405170622</span> TRAIN    <a href=\"file://<ipython-input-9-5c2bae223fd1>\"><span style=\"color: #7f7f7f\">&lt;ipython-input-9-5c2bae223fd1&gt;</span></a><span style=\"color: #7f7f7f\">:425</span>\n",
       "                    ACC: <span style=\"color: #000080; font-weight: bold\">0.7014895126152599</span>                                                  \n",
       "</pre>\n"
      ],
      "text/plain": [
       "<rich.jupyter.JupyterRenderable at 0x7f1cb4bd87c0>"
      ]
     },
     "metadata": {},
     "output_type": "display_data"
    },
    {
     "data": {
      "text/html": [
       "<pre style=\"white-space:pre;overflow-x:auto;line-height:normal;font-family:Menlo,'DejaVu Sans Mono',consolas,'Courier New',monospace\"><span style=\"color: #7fbfbf\">           </span><span style=\"color: #000080\">INFO    </span> VALID AUC: <span style=\"color: #000080; font-weight: bold\">0.7684010886292449</span> VALID    <a href=\"file://<ipython-input-9-5c2bae223fd1>\"><span style=\"color: #7f7f7f\">&lt;ipython-input-9-5c2bae223fd1&gt;</span></a><span style=\"color: #7f7f7f\">:426</span>\n",
       "                    ACC: <span style=\"color: #000080; font-weight: bold\">0.7092198581560284</span>                                                  \n",
       "                                                                                             \n",
       "</pre>\n"
      ],
      "text/plain": [
       "<rich.jupyter.JupyterRenderable at 0x7f1cb4be71c0>"
      ]
     },
     "metadata": {},
     "output_type": "display_data"
    },
    {
     "data": {
      "text/html": [
       "<pre style=\"white-space:pre;overflow-x:auto;line-height:normal;font-family:Menlo,'DejaVu Sans Mono',consolas,'Courier New',monospace\"><span style=\"color: #7fbfbf\">           </span><span style=\"color: #000080\">INFO    </span> Start Training: Epoch <span style=\"color: #000080; font-weight: bold\">3</span>                <a href=\"file://<ipython-input-9-5c2bae223fd1>\"><span style=\"color: #7f7f7f\">&lt;ipython-input-9-5c2bae223fd1&gt;</span></a><span style=\"color: #7f7f7f\">:408</span>\n",
       "</pre>\n"
      ],
      "text/plain": [
       "<rich.jupyter.JupyterRenderable at 0x7f1cb4bc3a90>"
      ]
     },
     "metadata": {},
     "output_type": "display_data"
    },
    {
     "name": "stdout",
     "output_type": "stream",
     "text": [
      "Training steps: 0 Loss: 0.5988295674324036\n",
      "Training steps: 50 Loss: 0.5057459473609924\n",
      "Training steps: 100 Loss: 0.6168819069862366\n",
      "Training steps: 150 Loss: 0.5458585619926453\n",
      "VALID AUC : 0.7691797193011995 ACC : 0.7025329280648429\n",
      "\n"
     ]
    },
    {
     "data": {
      "text/html": [
       "<pre style=\"white-space:pre;overflow-x:auto;line-height:normal;font-family:Menlo,'DejaVu Sans Mono',consolas,'Courier New',monospace\"><span style=\"color: #7fbfbf\">[06:04:34] </span><span style=\"color: #000080\">INFO    </span> TRAIN_LOSS: <span style=\"color: #000080; font-weight: bold\">0.5758552551269531</span>         <a href=\"file://<ipython-input-9-5c2bae223fd1>\"><span style=\"color: #7f7f7f\">&lt;ipython-input-9-5c2bae223fd1&gt;</span></a><span style=\"color: #7f7f7f\">:424</span>\n",
       "</pre>\n"
      ],
      "text/plain": [
       "<rich.jupyter.JupyterRenderable at 0x7f1cb4c27cd0>"
      ]
     },
     "metadata": {},
     "output_type": "display_data"
    },
    {
     "data": {
      "text/html": [
       "<pre style=\"white-space:pre;overflow-x:auto;line-height:normal;font-family:Menlo,'DejaVu Sans Mono',consolas,'Courier New',monospace\"><span style=\"color: #7fbfbf\">           </span><span style=\"color: #000080\">INFO    </span> TRAIN AUC: <span style=\"color: #000080; font-weight: bold\">0.7682787162698116</span> TRAIN    <a href=\"file://<ipython-input-9-5c2bae223fd1>\"><span style=\"color: #7f7f7f\">&lt;ipython-input-9-5c2bae223fd1&gt;</span></a><span style=\"color: #7f7f7f\">:425</span>\n",
       "                    ACC: <span style=\"color: #000080; font-weight: bold\">0.7063532272773331</span>                                                  \n",
       "</pre>\n"
      ],
      "text/plain": [
       "<rich.jupyter.JupyterRenderable at 0x7f1cb4b88f10>"
      ]
     },
     "metadata": {},
     "output_type": "display_data"
    },
    {
     "data": {
      "text/html": [
       "<pre style=\"white-space:pre;overflow-x:auto;line-height:normal;font-family:Menlo,'DejaVu Sans Mono',consolas,'Courier New',monospace\"><span style=\"color: #7fbfbf\">           </span><span style=\"color: #000080\">INFO    </span> VALID AUC: <span style=\"color: #000080; font-weight: bold\">0.7691797193011995</span> VALID    <a href=\"file://<ipython-input-9-5c2bae223fd1>\"><span style=\"color: #7f7f7f\">&lt;ipython-input-9-5c2bae223fd1&gt;</span></a><span style=\"color: #7f7f7f\">:426</span>\n",
       "                    ACC: <span style=\"color: #000080; font-weight: bold\">0.7025329280648429</span>                                                  \n",
       "                                                                                             \n",
       "</pre>\n"
      ],
      "text/plain": [
       "<rich.jupyter.JupyterRenderable at 0x7f1cb4bc3a90>"
      ]
     },
     "metadata": {},
     "output_type": "display_data"
    },
    {
     "data": {
      "text/html": [
       "<pre style=\"white-space:pre;overflow-x:auto;line-height:normal;font-family:Menlo,'DejaVu Sans Mono',consolas,'Courier New',monospace\"><span style=\"color: #7fbfbf\">           </span><span style=\"color: #000080\">INFO    </span> Start Training: Epoch <span style=\"color: #000080; font-weight: bold\">4</span>                <a href=\"file://<ipython-input-9-5c2bae223fd1>\"><span style=\"color: #7f7f7f\">&lt;ipython-input-9-5c2bae223fd1&gt;</span></a><span style=\"color: #7f7f7f\">:408</span>\n",
       "</pre>\n"
      ],
      "text/plain": [
       "<rich.jupyter.JupyterRenderable at 0x7f1cb4b88f10>"
      ]
     },
     "metadata": {},
     "output_type": "display_data"
    },
    {
     "name": "stdout",
     "output_type": "stream",
     "text": [
      "Training steps: 0 Loss: 0.5044910907745361\n",
      "Training steps: 50 Loss: 0.5169557929039001\n",
      "Training steps: 100 Loss: 0.6652311086654663\n",
      "Training steps: 150 Loss: 0.6489245295524597\n",
      "VALID AUC : 0.7686349529653443 ACC : 0.70790273556231\n",
      "\n"
     ]
    },
    {
     "data": {
      "text/html": [
       "<pre style=\"white-space:pre;overflow-x:auto;line-height:normal;font-family:Menlo,'DejaVu Sans Mono',consolas,'Courier New',monospace\"><span style=\"color: #7fbfbf\">[06:04:39] </span><span style=\"color: #000080\">INFO    </span> TRAIN_LOSS: <span style=\"color: #000080; font-weight: bold\">0.5724169611930847</span>         <a href=\"file://<ipython-input-9-5c2bae223fd1>\"><span style=\"color: #7f7f7f\">&lt;ipython-input-9-5c2bae223fd1&gt;</span></a><span style=\"color: #7f7f7f\">:424</span>\n",
       "</pre>\n"
      ],
      "text/plain": [
       "<rich.jupyter.JupyterRenderable at 0x7f1cb4bd87c0>"
      ]
     },
     "metadata": {},
     "output_type": "display_data"
    },
    {
     "data": {
      "text/html": [
       "<pre style=\"white-space:pre;overflow-x:auto;line-height:normal;font-family:Menlo,'DejaVu Sans Mono',consolas,'Courier New',monospace\"><span style=\"color: #7fbfbf\">           </span><span style=\"color: #000080\">INFO    </span> TRAIN AUC: <span style=\"color: #000080; font-weight: bold\">0.7711816648300875</span> TRAIN    <a href=\"file://<ipython-input-9-5c2bae223fd1>\"><span style=\"color: #7f7f7f\">&lt;ipython-input-9-5c2bae223fd1&gt;</span></a><span style=\"color: #7f7f7f\">:425</span>\n",
       "                    ACC: <span style=\"color: #000080; font-weight: bold\">0.7050359712230215</span>                                                  \n",
       "</pre>\n"
      ],
      "text/plain": [
       "<rich.jupyter.JupyterRenderable at 0x7f1cb4bdd820>"
      ]
     },
     "metadata": {},
     "output_type": "display_data"
    },
    {
     "data": {
      "text/html": [
       "<pre style=\"white-space:pre;overflow-x:auto;line-height:normal;font-family:Menlo,'DejaVu Sans Mono',consolas,'Courier New',monospace\"><span style=\"color: #7fbfbf\">           </span><span style=\"color: #000080\">INFO    </span> VALID AUC: <span style=\"color: #000080; font-weight: bold\">0.7686349529653443</span> VALID    <a href=\"file://<ipython-input-9-5c2bae223fd1>\"><span style=\"color: #7f7f7f\">&lt;ipython-input-9-5c2bae223fd1&gt;</span></a><span style=\"color: #7f7f7f\">:426</span>\n",
       "                    ACC: <span style=\"color: #000080; font-weight: bold\">0.70790273556231</span>                                                    \n",
       "                                                                                             \n",
       "</pre>\n"
      ],
      "text/plain": [
       "<rich.jupyter.JupyterRenderable at 0x7f1cb4bddc70>"
      ]
     },
     "metadata": {},
     "output_type": "display_data"
    },
    {
     "data": {
      "text/html": [
       "<pre style=\"white-space:pre;overflow-x:auto;line-height:normal;font-family:Menlo,'DejaVu Sans Mono',consolas,'Courier New',monospace\"><span style=\"color: #7fbfbf\">           </span><span style=\"color: #000080\">INFO    </span> EarlyStopping counter: <span style=\"color: #000080; font-weight: bold\">1</span>               <a href=\"file://<ipython-input-9-5c2bae223fd1>\"><span style=\"color: #7f7f7f\">&lt;ipython-input-9-5c2bae223fd1&gt;</span></a><span style=\"color: #7f7f7f\">:434</span>\n",
       "</pre>\n"
      ],
      "text/plain": [
       "<rich.jupyter.JupyterRenderable at 0x7f1cb4c62f70>"
      ]
     },
     "metadata": {},
     "output_type": "display_data"
    },
    {
     "data": {
      "text/html": [
       "<pre style=\"white-space:pre;overflow-x:auto;line-height:normal;font-family:Menlo,'DejaVu Sans Mono',consolas,'Courier New',monospace\"><span style=\"color: #7fbfbf\">           </span><span style=\"color: #000080\">INFO    </span> Start Training: Epoch <span style=\"color: #000080; font-weight: bold\">5</span>                <a href=\"file://<ipython-input-9-5c2bae223fd1>\"><span style=\"color: #7f7f7f\">&lt;ipython-input-9-5c2bae223fd1&gt;</span></a><span style=\"color: #7f7f7f\">:408</span>\n",
       "</pre>\n"
      ],
      "text/plain": [
       "<rich.jupyter.JupyterRenderable at 0x7f1cb4c27cd0>"
      ]
     },
     "metadata": {},
     "output_type": "display_data"
    },
    {
     "name": "stdout",
     "output_type": "stream",
     "text": [
      "Training steps: 0 Loss: 0.5382675528526306\n",
      "Training steps: 50 Loss: 0.5469913482666016\n",
      "Training steps: 100 Loss: 0.5733548402786255\n",
      "Training steps: 150 Loss: 0.6744528412818909\n",
      "VALID AUC : 0.7688103614836321 ACC : 0.705775075987842\n",
      "\n"
     ]
    },
    {
     "data": {
      "text/html": [
       "<pre style=\"white-space:pre;overflow-x:auto;line-height:normal;font-family:Menlo,'DejaVu Sans Mono',consolas,'Courier New',monospace\"><span style=\"color: #7fbfbf\">[06:04:42] </span><span style=\"color: #000080\">INFO    </span> TRAIN_LOSS: <span style=\"color: #000080; font-weight: bold\">0.5723122358322144</span>         <a href=\"file://<ipython-input-9-5c2bae223fd1>\"><span style=\"color: #7f7f7f\">&lt;ipython-input-9-5c2bae223fd1&gt;</span></a><span style=\"color: #7f7f7f\">:424</span>\n",
       "</pre>\n"
      ],
      "text/plain": [
       "<rich.jupyter.JupyterRenderable at 0x7f1cb4b12af0>"
      ]
     },
     "metadata": {},
     "output_type": "display_data"
    },
    {
     "data": {
      "text/html": [
       "<pre style=\"white-space:pre;overflow-x:auto;line-height:normal;font-family:Menlo,'DejaVu Sans Mono',consolas,'Courier New',monospace\"><span style=\"color: #7fbfbf\">           </span><span style=\"color: #000080\">INFO    </span> TRAIN AUC: <span style=\"color: #000080; font-weight: bold\">0.7715490491572479</span> TRAIN    <a href=\"file://<ipython-input-9-5c2bae223fd1>\"><span style=\"color: #7f7f7f\">&lt;ipython-input-9-5c2bae223fd1&gt;</span></a><span style=\"color: #7f7f7f\">:425</span>\n",
       "                    ACC: <span style=\"color: #000080; font-weight: bold\">0.7016921673928462</span>                                                  \n",
       "</pre>\n"
      ],
      "text/plain": [
       "<rich.jupyter.JupyterRenderable at 0x7f1cb4c62f40>"
      ]
     },
     "metadata": {},
     "output_type": "display_data"
    },
    {
     "data": {
      "text/html": [
       "<pre style=\"white-space:pre;overflow-x:auto;line-height:normal;font-family:Menlo,'DejaVu Sans Mono',consolas,'Courier New',monospace\"><span style=\"color: #7fbfbf\">           </span><span style=\"color: #000080\">INFO    </span> VALID AUC: <span style=\"color: #000080; font-weight: bold\">0.7688103614836321</span> VALID    <a href=\"file://<ipython-input-9-5c2bae223fd1>\"><span style=\"color: #7f7f7f\">&lt;ipython-input-9-5c2bae223fd1&gt;</span></a><span style=\"color: #7f7f7f\">:426</span>\n",
       "                    ACC: <span style=\"color: #000080; font-weight: bold\">0.705775075987842</span>                                                   \n",
       "                                                                                             \n",
       "</pre>\n"
      ],
      "text/plain": [
       "<rich.jupyter.JupyterRenderable at 0x7f1cb4b4ddc0>"
      ]
     },
     "metadata": {},
     "output_type": "display_data"
    },
    {
     "data": {
      "text/html": [
       "<pre style=\"white-space:pre;overflow-x:auto;line-height:normal;font-family:Menlo,'DejaVu Sans Mono',consolas,'Courier New',monospace\"><span style=\"color: #7fbfbf\">           </span><span style=\"color: #000080\">INFO    </span> EarlyStopping counter: <span style=\"color: #000080; font-weight: bold\">2</span>               <a href=\"file://<ipython-input-9-5c2bae223fd1>\"><span style=\"color: #7f7f7f\">&lt;ipython-input-9-5c2bae223fd1&gt;</span></a><span style=\"color: #7f7f7f\">:434</span>\n",
       "</pre>\n"
      ],
      "text/plain": [
       "<rich.jupyter.JupyterRenderable at 0x7f1cb4b4da60>"
      ]
     },
     "metadata": {},
     "output_type": "display_data"
    },
    {
     "data": {
      "text/html": [
       "<pre style=\"white-space:pre;overflow-x:auto;line-height:normal;font-family:Menlo,'DejaVu Sans Mono',consolas,'Courier New',monospace\"><span style=\"color: #7fbfbf\">           </span><span style=\"color: #000080\">INFO    </span> Start Training: Epoch <span style=\"color: #000080; font-weight: bold\">6</span>                <a href=\"file://<ipython-input-9-5c2bae223fd1>\"><span style=\"color: #7f7f7f\">&lt;ipython-input-9-5c2bae223fd1&gt;</span></a><span style=\"color: #7f7f7f\">:408</span>\n",
       "</pre>\n"
      ],
      "text/plain": [
       "<rich.jupyter.JupyterRenderable at 0x7f1cb4b7a100>"
      ]
     },
     "metadata": {},
     "output_type": "display_data"
    },
    {
     "name": "stdout",
     "output_type": "stream",
     "text": [
      "Training steps: 0 Loss: 0.5820040106773376\n",
      "Training steps: 50 Loss: 0.619733989238739\n",
      "Training steps: 100 Loss: 0.5875741243362427\n",
      "Training steps: 150 Loss: 0.5354179739952087\n",
      "VALID AUC : 0.7688594955798819 ACC : 0.70790273556231\n",
      "\n"
     ]
    },
    {
     "data": {
      "text/html": [
       "<pre style=\"white-space:pre;overflow-x:auto;line-height:normal;font-family:Menlo,'DejaVu Sans Mono',consolas,'Courier New',monospace\"><span style=\"color: #7fbfbf\">[06:04:48] </span><span style=\"color: #000080\">INFO    </span> TRAIN_LOSS: <span style=\"color: #000080; font-weight: bold\">0.5730081796646118</span>         <a href=\"file://<ipython-input-9-5c2bae223fd1>\"><span style=\"color: #7f7f7f\">&lt;ipython-input-9-5c2bae223fd1&gt;</span></a><span style=\"color: #7f7f7f\">:424</span>\n",
       "</pre>\n"
      ],
      "text/plain": [
       "<rich.jupyter.JupyterRenderable at 0x7f1cb4bc3a90>"
      ]
     },
     "metadata": {},
     "output_type": "display_data"
    },
    {
     "data": {
      "text/html": [
       "<pre style=\"white-space:pre;overflow-x:auto;line-height:normal;font-family:Menlo,'DejaVu Sans Mono',consolas,'Courier New',monospace\"><span style=\"color: #7fbfbf\">           </span><span style=\"color: #000080\">INFO    </span> TRAIN AUC: <span style=\"color: #000080; font-weight: bold\">0.7706132445440612</span> TRAIN    <a href=\"file://<ipython-input-9-5c2bae223fd1>\"><span style=\"color: #7f7f7f\">&lt;ipython-input-9-5c2bae223fd1&gt;</span></a><span style=\"color: #7f7f7f\">:425</span>\n",
       "                    ACC: <span style=\"color: #000080; font-weight: bold\">0.7030094234471578</span>                                                  \n",
       "</pre>\n"
      ],
      "text/plain": [
       "<rich.jupyter.JupyterRenderable at 0x7f1cb4ac6940>"
      ]
     },
     "metadata": {},
     "output_type": "display_data"
    },
    {
     "data": {
      "text/html": [
       "<pre style=\"white-space:pre;overflow-x:auto;line-height:normal;font-family:Menlo,'DejaVu Sans Mono',consolas,'Courier New',monospace\"><span style=\"color: #7fbfbf\">           </span><span style=\"color: #000080\">INFO    </span> VALID AUC: <span style=\"color: #000080; font-weight: bold\">0.7688594955798819</span> VALID    <a href=\"file://<ipython-input-9-5c2bae223fd1>\"><span style=\"color: #7f7f7f\">&lt;ipython-input-9-5c2bae223fd1&gt;</span></a><span style=\"color: #7f7f7f\">:426</span>\n",
       "                    ACC: <span style=\"color: #000080; font-weight: bold\">0.70790273556231</span>                                                    \n",
       "                                                                                             \n",
       "</pre>\n"
      ],
      "text/plain": [
       "<rich.jupyter.JupyterRenderable at 0x7f1cb4ac6c40>"
      ]
     },
     "metadata": {},
     "output_type": "display_data"
    },
    {
     "data": {
      "text/html": [
       "<pre style=\"white-space:pre;overflow-x:auto;line-height:normal;font-family:Menlo,'DejaVu Sans Mono',consolas,'Courier New',monospace\"><span style=\"color: #7fbfbf\">           </span><span style=\"color: #000080\">INFO    </span> EarlyStopping counter: <span style=\"color: #000080; font-weight: bold\">3</span>               <a href=\"file://<ipython-input-9-5c2bae223fd1>\"><span style=\"color: #7f7f7f\">&lt;ipython-input-9-5c2bae223fd1&gt;</span></a><span style=\"color: #7f7f7f\">:434</span>\n",
       "</pre>\n"
      ],
      "text/plain": [
       "<rich.jupyter.JupyterRenderable at 0x7f1cb4bd87c0>"
      ]
     },
     "metadata": {},
     "output_type": "display_data"
    },
    {
     "data": {
      "text/html": [
       "<pre style=\"white-space:pre;overflow-x:auto;line-height:normal;font-family:Menlo,'DejaVu Sans Mono',consolas,'Courier New',monospace\"><span style=\"color: #7fbfbf\">           </span><span style=\"color: #000080\">INFO    </span> Start Training: Epoch <span style=\"color: #000080; font-weight: bold\">7</span>                <a href=\"file://<ipython-input-9-5c2bae223fd1>\"><span style=\"color: #7f7f7f\">&lt;ipython-input-9-5c2bae223fd1&gt;</span></a><span style=\"color: #7f7f7f\">:408</span>\n",
       "</pre>\n"
      ],
      "text/plain": [
       "<rich.jupyter.JupyterRenderable at 0x7f1cb4ac6940>"
      ]
     },
     "metadata": {},
     "output_type": "display_data"
    },
    {
     "name": "stdout",
     "output_type": "stream",
     "text": [
      "Training steps: 0 Loss: 0.5300924181938171\n",
      "Training steps: 50 Loss: 0.5471101999282837\n",
      "Training steps: 100 Loss: 0.5490304827690125\n",
      "Training steps: 150 Loss: 0.5400621891021729\n",
      "VALID AUC : 0.7695823191170236 ACC : 0.7068895643363728\n",
      "\n"
     ]
    },
    {
     "data": {
      "text/html": [
       "<pre style=\"white-space:pre;overflow-x:auto;line-height:normal;font-family:Menlo,'DejaVu Sans Mono',consolas,'Courier New',monospace\"><span style=\"color: #7fbfbf\">[06:04:51] </span><span style=\"color: #000080\">INFO    </span> TRAIN_LOSS: <span style=\"color: #000080; font-weight: bold\">0.5737556219100952</span>         <a href=\"file://<ipython-input-9-5c2bae223fd1>\"><span style=\"color: #7f7f7f\">&lt;ipython-input-9-5c2bae223fd1&gt;</span></a><span style=\"color: #7f7f7f\">:424</span>\n",
       "</pre>\n"
      ],
      "text/plain": [
       "<rich.jupyter.JupyterRenderable at 0x7f1cb4bc3a90>"
      ]
     },
     "metadata": {},
     "output_type": "display_data"
    },
    {
     "data": {
      "text/html": [
       "<pre style=\"white-space:pre;overflow-x:auto;line-height:normal;font-family:Menlo,'DejaVu Sans Mono',consolas,'Courier New',monospace\"><span style=\"color: #7fbfbf\">           </span><span style=\"color: #000080\">INFO    </span> TRAIN AUC: <span style=\"color: #000080; font-weight: bold\">0.7700089242457544</span> TRAIN    <a href=\"file://<ipython-input-9-5c2bae223fd1>\"><span style=\"color: #7f7f7f\">&lt;ipython-input-9-5c2bae223fd1&gt;</span></a><span style=\"color: #7f7f7f\">:425</span>\n",
       "                    ACC: <span style=\"color: #000080; font-weight: bold\">0.705745262944574</span>                                                   \n",
       "</pre>\n"
      ],
      "text/plain": [
       "<rich.jupyter.JupyterRenderable at 0x7f1cb4ac6df0>"
      ]
     },
     "metadata": {},
     "output_type": "display_data"
    },
    {
     "data": {
      "text/html": [
       "<pre style=\"white-space:pre;overflow-x:auto;line-height:normal;font-family:Menlo,'DejaVu Sans Mono',consolas,'Courier New',monospace\"><span style=\"color: #7fbfbf\">           </span><span style=\"color: #000080\">INFO    </span> VALID AUC: <span style=\"color: #000080; font-weight: bold\">0.7695823191170236</span> VALID    <a href=\"file://<ipython-input-9-5c2bae223fd1>\"><span style=\"color: #7f7f7f\">&lt;ipython-input-9-5c2bae223fd1&gt;</span></a><span style=\"color: #7f7f7f\">:426</span>\n",
       "                    ACC: <span style=\"color: #000080; font-weight: bold\">0.7068895643363728</span>                                                  \n",
       "                                                                                             \n",
       "</pre>\n"
      ],
      "text/plain": [
       "<rich.jupyter.JupyterRenderable at 0x7f1cb4ac6730>"
      ]
     },
     "metadata": {},
     "output_type": "display_data"
    },
    {
     "data": {
      "text/html": [
       "<pre style=\"white-space:pre;overflow-x:auto;line-height:normal;font-family:Menlo,'DejaVu Sans Mono',consolas,'Courier New',monospace\"><span style=\"color: #7fbfbf\">           </span><span style=\"color: #000080\">INFO    </span> Start Training: Epoch <span style=\"color: #000080; font-weight: bold\">8</span>                <a href=\"file://<ipython-input-9-5c2bae223fd1>\"><span style=\"color: #7f7f7f\">&lt;ipython-input-9-5c2bae223fd1&gt;</span></a><span style=\"color: #7f7f7f\">:408</span>\n",
       "</pre>\n"
      ],
      "text/plain": [
       "<rich.jupyter.JupyterRenderable at 0x7f1cb4be7c10>"
      ]
     },
     "metadata": {},
     "output_type": "display_data"
    },
    {
     "name": "stdout",
     "output_type": "stream",
     "text": [
      "Training steps: 0 Loss: 0.45800089836120605\n",
      "Training steps: 50 Loss: 0.46001774072647095\n",
      "Training steps: 100 Loss: 0.5950084924697876\n",
      "Training steps: 150 Loss: 0.5084618926048279\n",
      "VALID AUC : 0.7697012223980025 ACC : 0.7083080040526849\n",
      "\n"
     ]
    },
    {
     "data": {
      "text/html": [
       "<pre style=\"white-space:pre;overflow-x:auto;line-height:normal;font-family:Menlo,'DejaVu Sans Mono',consolas,'Courier New',monospace\"><span style=\"color: #7fbfbf\">[06:04:55] </span><span style=\"color: #000080\">INFO    </span> TRAIN_LOSS: <span style=\"color: #000080; font-weight: bold\">0.57319176197052</span>           <a href=\"file://<ipython-input-9-5c2bae223fd1>\"><span style=\"color: #7f7f7f\">&lt;ipython-input-9-5c2bae223fd1&gt;</span></a><span style=\"color: #7f7f7f\">:424</span>\n",
       "</pre>\n"
      ],
      "text/plain": [
       "<rich.jupyter.JupyterRenderable at 0x7f1cb4bd87c0>"
      ]
     },
     "metadata": {},
     "output_type": "display_data"
    },
    {
     "data": {
      "text/html": [
       "<pre style=\"white-space:pre;overflow-x:auto;line-height:normal;font-family:Menlo,'DejaVu Sans Mono',consolas,'Courier New',monospace\"><span style=\"color: #7fbfbf\">           </span><span style=\"color: #000080\">INFO    </span> TRAIN AUC: <span style=\"color: #000080; font-weight: bold\">0.7712698222729512</span> TRAIN    <a href=\"file://<ipython-input-9-5c2bae223fd1>\"><span style=\"color: #7f7f7f\">&lt;ipython-input-9-5c2bae223fd1&gt;</span></a><span style=\"color: #7f7f7f\">:425</span>\n",
       "                    ACC: <span style=\"color: #000080; font-weight: bold\">0.7032120782247442</span>                                                  \n",
       "</pre>\n"
      ],
      "text/plain": [
       "<rich.jupyter.JupyterRenderable at 0x7f1cb4b00d90>"
      ]
     },
     "metadata": {},
     "output_type": "display_data"
    },
    {
     "data": {
      "text/html": [
       "<pre style=\"white-space:pre;overflow-x:auto;line-height:normal;font-family:Menlo,'DejaVu Sans Mono',consolas,'Courier New',monospace\"><span style=\"color: #7fbfbf\">           </span><span style=\"color: #000080\">INFO    </span> VALID AUC: <span style=\"color: #000080; font-weight: bold\">0.7697012223980025</span> VALID    <a href=\"file://<ipython-input-9-5c2bae223fd1>\"><span style=\"color: #7f7f7f\">&lt;ipython-input-9-5c2bae223fd1&gt;</span></a><span style=\"color: #7f7f7f\">:426</span>\n",
       "                    ACC: <span style=\"color: #000080; font-weight: bold\">0.7083080040526849</span>                                                  \n",
       "                                                                                             \n",
       "</pre>\n"
      ],
      "text/plain": [
       "<rich.jupyter.JupyterRenderable at 0x7f1cb4ac6700>"
      ]
     },
     "metadata": {},
     "output_type": "display_data"
    },
    {
     "data": {
      "text/html": [
       "<pre style=\"white-space:pre;overflow-x:auto;line-height:normal;font-family:Menlo,'DejaVu Sans Mono',consolas,'Courier New',monospace\"><span style=\"color: #7fbfbf\">           </span><span style=\"color: #000080\">INFO    </span> Start Training: Epoch <span style=\"color: #000080; font-weight: bold\">9</span>                <a href=\"file://<ipython-input-9-5c2bae223fd1>\"><span style=\"color: #7f7f7f\">&lt;ipython-input-9-5c2bae223fd1&gt;</span></a><span style=\"color: #7f7f7f\">:408</span>\n",
       "</pre>\n"
      ],
      "text/plain": [
       "<rich.jupyter.JupyterRenderable at 0x7f1cb4ac6c70>"
      ]
     },
     "metadata": {},
     "output_type": "display_data"
    },
    {
     "name": "stdout",
     "output_type": "stream",
     "text": [
      "Training steps: 0 Loss: 0.5743739008903503\n",
      "Training steps: 50 Loss: 0.5514424443244934\n",
      "Training steps: 100 Loss: 0.5078632831573486\n",
      "Training steps: 150 Loss: 0.5746181011199951\n",
      "VALID AUC : 0.7689036197641028 ACC : 0.7108409321175279\n",
      "\n"
     ]
    },
    {
     "data": {
      "text/html": [
       "<pre style=\"white-space:pre;overflow-x:auto;line-height:normal;font-family:Menlo,'DejaVu Sans Mono',consolas,'Courier New',monospace\"><span style=\"color: #7fbfbf\">[06:05:00] </span><span style=\"color: #000080\">INFO    </span> TRAIN_LOSS: <span style=\"color: #000080; font-weight: bold\">0.5712245106697083</span>         <a href=\"file://<ipython-input-9-5c2bae223fd1>\"><span style=\"color: #7f7f7f\">&lt;ipython-input-9-5c2bae223fd1&gt;</span></a><span style=\"color: #7f7f7f\">:424</span>\n",
       "</pre>\n"
      ],
      "text/plain": [
       "<rich.jupyter.JupyterRenderable at 0x7f1cb4b12af0>"
      ]
     },
     "metadata": {},
     "output_type": "display_data"
    },
    {
     "data": {
      "text/html": [
       "<pre style=\"white-space:pre;overflow-x:auto;line-height:normal;font-family:Menlo,'DejaVu Sans Mono',consolas,'Courier New',monospace\"><span style=\"color: #7fbfbf\">           </span><span style=\"color: #000080\">INFO    </span> TRAIN AUC: <span style=\"color: #000080; font-weight: bold\">0.7728952687934817</span> TRAIN    <a href=\"file://<ipython-input-9-5c2bae223fd1>\"><span style=\"color: #7f7f7f\">&lt;ipython-input-9-5c2bae223fd1&gt;</span></a><span style=\"color: #7f7f7f\">:425</span>\n",
       "                    ACC: <span style=\"color: #000080; font-weight: bold\">0.7060492451109535</span>                                                  \n",
       "</pre>\n"
      ],
      "text/plain": [
       "<rich.jupyter.JupyterRenderable at 0x7f1cb4be7e20>"
      ]
     },
     "metadata": {},
     "output_type": "display_data"
    },
    {
     "data": {
      "text/html": [
       "<pre style=\"white-space:pre;overflow-x:auto;line-height:normal;font-family:Menlo,'DejaVu Sans Mono',consolas,'Courier New',monospace\"><span style=\"color: #7fbfbf\">           </span><span style=\"color: #000080\">INFO    </span> VALID AUC: <span style=\"color: #000080; font-weight: bold\">0.7689036197641028</span> VALID    <a href=\"file://<ipython-input-9-5c2bae223fd1>\"><span style=\"color: #7f7f7f\">&lt;ipython-input-9-5c2bae223fd1&gt;</span></a><span style=\"color: #7f7f7f\">:426</span>\n",
       "                    ACC: <span style=\"color: #000080; font-weight: bold\">0.7108409321175279</span>                                                  \n",
       "                                                                                             \n",
       "</pre>\n"
      ],
      "text/plain": [
       "<rich.jupyter.JupyterRenderable at 0x7f1cb4b7a100>"
      ]
     },
     "metadata": {},
     "output_type": "display_data"
    },
    {
     "data": {
      "text/html": [
       "<pre style=\"white-space:pre;overflow-x:auto;line-height:normal;font-family:Menlo,'DejaVu Sans Mono',consolas,'Courier New',monospace\"><span style=\"color: #7fbfbf\">           </span><span style=\"color: #000080\">INFO    </span> EarlyStopping counter: <span style=\"color: #000080; font-weight: bold\">1</span>               <a href=\"file://<ipython-input-9-5c2bae223fd1>\"><span style=\"color: #7f7f7f\">&lt;ipython-input-9-5c2bae223fd1&gt;</span></a><span style=\"color: #7f7f7f\">:434</span>\n",
       "</pre>\n"
      ],
      "text/plain": [
       "<rich.jupyter.JupyterRenderable at 0x7f1cb4b7a520>"
      ]
     },
     "metadata": {},
     "output_type": "display_data"
    },
    {
     "data": {
      "text/html": [
       "<pre style=\"white-space:pre;overflow-x:auto;line-height:normal;font-family:Menlo,'DejaVu Sans Mono',consolas,'Courier New',monospace\"><span style=\"color: #7fbfbf\">           </span><span style=\"color: #000080\">INFO    </span> Start Training: Epoch <span style=\"color: #000080; font-weight: bold\">10</span>               <a href=\"file://<ipython-input-9-5c2bae223fd1>\"><span style=\"color: #7f7f7f\">&lt;ipython-input-9-5c2bae223fd1&gt;</span></a><span style=\"color: #7f7f7f\">:408</span>\n",
       "</pre>\n"
      ],
      "text/plain": [
       "<rich.jupyter.JupyterRenderable at 0x7f1cb4be7e20>"
      ]
     },
     "metadata": {},
     "output_type": "display_data"
    },
    {
     "name": "stdout",
     "output_type": "stream",
     "text": [
      "Training steps: 0 Loss: 0.5223076939582825\n",
      "Training steps: 50 Loss: 0.4579819142818451\n",
      "Training steps: 100 Loss: 0.625764787197113\n",
      "Training steps: 150 Loss: 0.5936248898506165\n",
      "VALID AUC : 0.7684222780932357 ACC : 0.709321175278622\n",
      "\n"
     ]
    },
    {
     "data": {
      "text/html": [
       "<pre style=\"white-space:pre;overflow-x:auto;line-height:normal;font-family:Menlo,'DejaVu Sans Mono',consolas,'Courier New',monospace\"><span style=\"color: #7fbfbf\">[06:05:05] </span><span style=\"color: #000080\">INFO    </span> TRAIN_LOSS: <span style=\"color: #000080; font-weight: bold\">0.572003960609436</span>          <a href=\"file://<ipython-input-9-5c2bae223fd1>\"><span style=\"color: #7f7f7f\">&lt;ipython-input-9-5c2bae223fd1&gt;</span></a><span style=\"color: #7f7f7f\">:424</span>\n",
       "</pre>\n"
      ],
      "text/plain": [
       "<rich.jupyter.JupyterRenderable at 0x7f1cb4ba9cd0>"
      ]
     },
     "metadata": {},
     "output_type": "display_data"
    },
    {
     "data": {
      "text/html": [
       "<pre style=\"white-space:pre;overflow-x:auto;line-height:normal;font-family:Menlo,'DejaVu Sans Mono',consolas,'Courier New',monospace\"><span style=\"color: #7fbfbf\">           </span><span style=\"color: #000080\">INFO    </span> TRAIN AUC: <span style=\"color: #000080; font-weight: bold\">0.7721195654943631</span> TRAIN    <a href=\"file://<ipython-input-9-5c2bae223fd1>\"><span style=\"color: #7f7f7f\">&lt;ipython-input-9-5c2bae223fd1&gt;</span></a><span style=\"color: #7f7f7f\">:425</span>\n",
       "                    ACC: <span style=\"color: #000080; font-weight: bold\">0.7029080960583646</span>                                                  \n",
       "</pre>\n"
      ],
      "text/plain": [
       "<rich.jupyter.JupyterRenderable at 0x7f1cb4b12fd0>"
      ]
     },
     "metadata": {},
     "output_type": "display_data"
    },
    {
     "data": {
      "text/html": [
       "<pre style=\"white-space:pre;overflow-x:auto;line-height:normal;font-family:Menlo,'DejaVu Sans Mono',consolas,'Courier New',monospace\"><span style=\"color: #7fbfbf\">           </span><span style=\"color: #000080\">INFO    </span> VALID AUC: <span style=\"color: #000080; font-weight: bold\">0.7684222780932357</span> VALID    <a href=\"file://<ipython-input-9-5c2bae223fd1>\"><span style=\"color: #7f7f7f\">&lt;ipython-input-9-5c2bae223fd1&gt;</span></a><span style=\"color: #7f7f7f\">:426</span>\n",
       "                    ACC: <span style=\"color: #000080; font-weight: bold\">0.709321175278622</span>                                                   \n",
       "                                                                                             \n",
       "</pre>\n"
      ],
      "text/plain": [
       "<rich.jupyter.JupyterRenderable at 0x7f1cb4b7a160>"
      ]
     },
     "metadata": {},
     "output_type": "display_data"
    },
    {
     "data": {
      "text/html": [
       "<pre style=\"white-space:pre;overflow-x:auto;line-height:normal;font-family:Menlo,'DejaVu Sans Mono',consolas,'Courier New',monospace\"><span style=\"color: #7fbfbf\">           </span><span style=\"color: #000080\">INFO    </span> EarlyStopping counter: <span style=\"color: #000080; font-weight: bold\">2</span>               <a href=\"file://<ipython-input-9-5c2bae223fd1>\"><span style=\"color: #7f7f7f\">&lt;ipython-input-9-5c2bae223fd1&gt;</span></a><span style=\"color: #7f7f7f\">:434</span>\n",
       "</pre>\n"
      ],
      "text/plain": [
       "<rich.jupyter.JupyterRenderable at 0x7f1cb4b7a100>"
      ]
     },
     "metadata": {},
     "output_type": "display_data"
    },
    {
     "data": {
      "text/html": [
       "<pre style=\"white-space:pre;overflow-x:auto;line-height:normal;font-family:Menlo,'DejaVu Sans Mono',consolas,'Courier New',monospace\"><span style=\"color: #7fbfbf\">           </span><span style=\"color: #000080\">INFO    </span> Start Training: Epoch <span style=\"color: #000080; font-weight: bold\">11</span>               <a href=\"file://<ipython-input-9-5c2bae223fd1>\"><span style=\"color: #7f7f7f\">&lt;ipython-input-9-5c2bae223fd1&gt;</span></a><span style=\"color: #7f7f7f\">:408</span>\n",
       "</pre>\n"
      ],
      "text/plain": [
       "<rich.jupyter.JupyterRenderable at 0x7f1cb4c62f70>"
      ]
     },
     "metadata": {},
     "output_type": "display_data"
    },
    {
     "name": "stdout",
     "output_type": "stream",
     "text": [
      "Training steps: 0 Loss: 0.5156750082969666\n",
      "Training steps: 50 Loss: 0.6670067310333252\n",
      "Training steps: 100 Loss: 0.7118312120437622\n",
      "Training steps: 150 Loss: 0.5333460569381714\n",
      "VALID AUC : 0.7688714659844426 ACC : 0.7068895643363728\n",
      "\n"
     ]
    },
    {
     "data": {
      "text/html": [
       "<pre style=\"white-space:pre;overflow-x:auto;line-height:normal;font-family:Menlo,'DejaVu Sans Mono',consolas,'Courier New',monospace\"><span style=\"color: #7fbfbf\">[06:05:10] </span><span style=\"color: #000080\">INFO    </span> TRAIN_LOSS: <span style=\"color: #000080; font-weight: bold\">0.5726526975631714</span>         <a href=\"file://<ipython-input-9-5c2bae223fd1>\"><span style=\"color: #7f7f7f\">&lt;ipython-input-9-5c2bae223fd1&gt;</span></a><span style=\"color: #7f7f7f\">:424</span>\n",
       "</pre>\n"
      ],
      "text/plain": [
       "<rich.jupyter.JupyterRenderable at 0x7f1cb4bc3a90>"
      ]
     },
     "metadata": {},
     "output_type": "display_data"
    },
    {
     "data": {
      "text/html": [
       "<pre style=\"white-space:pre;overflow-x:auto;line-height:normal;font-family:Menlo,'DejaVu Sans Mono',consolas,'Courier New',monospace\"><span style=\"color: #7fbfbf\">           </span><span style=\"color: #000080\">INFO    </span> TRAIN AUC: <span style=\"color: #000080; font-weight: bold\">0.7716102456292403</span> TRAIN    <a href=\"file://<ipython-input-9-5c2bae223fd1>\"><span style=\"color: #7f7f7f\">&lt;ipython-input-9-5c2bae223fd1&gt;</span></a><span style=\"color: #7f7f7f\">:425</span>\n",
       "                    ACC: <span style=\"color: #000080; font-weight: bold\">0.7021988043368123</span>                                                  \n",
       "</pre>\n"
      ],
      "text/plain": [
       "<rich.jupyter.JupyterRenderable at 0x7f1cb4ac67f0>"
      ]
     },
     "metadata": {},
     "output_type": "display_data"
    },
    {
     "data": {
      "text/html": [
       "<pre style=\"white-space:pre;overflow-x:auto;line-height:normal;font-family:Menlo,'DejaVu Sans Mono',consolas,'Courier New',monospace\"><span style=\"color: #7fbfbf\">           </span><span style=\"color: #000080\">INFO    </span> VALID AUC: <span style=\"color: #000080; font-weight: bold\">0.7688714659844426</span> VALID    <a href=\"file://<ipython-input-9-5c2bae223fd1>\"><span style=\"color: #7f7f7f\">&lt;ipython-input-9-5c2bae223fd1&gt;</span></a><span style=\"color: #7f7f7f\">:426</span>\n",
       "                    ACC: <span style=\"color: #000080; font-weight: bold\">0.7068895643363728</span>                                                  \n",
       "                                                                                             \n",
       "</pre>\n"
      ],
      "text/plain": [
       "<rich.jupyter.JupyterRenderable at 0x7f1cb4ac6730>"
      ]
     },
     "metadata": {},
     "output_type": "display_data"
    },
    {
     "data": {
      "text/html": [
       "<pre style=\"white-space:pre;overflow-x:auto;line-height:normal;font-family:Menlo,'DejaVu Sans Mono',consolas,'Courier New',monospace\"><span style=\"color: #7fbfbf\">           </span><span style=\"color: #000080\">INFO    </span> EarlyStopping counter: <span style=\"color: #000080; font-weight: bold\">3</span>               <a href=\"file://<ipython-input-9-5c2bae223fd1>\"><span style=\"color: #7f7f7f\">&lt;ipython-input-9-5c2bae223fd1&gt;</span></a><span style=\"color: #7f7f7f\">:434</span>\n",
       "</pre>\n"
      ],
      "text/plain": [
       "<rich.jupyter.JupyterRenderable at 0x7f1cb4ac6c10>"
      ]
     },
     "metadata": {},
     "output_type": "display_data"
    },
    {
     "data": {
      "text/html": [
       "<pre style=\"white-space:pre;overflow-x:auto;line-height:normal;font-family:Menlo,'DejaVu Sans Mono',consolas,'Courier New',monospace\"><span style=\"color: #7fbfbf\">           </span><span style=\"color: #000080\">INFO    </span> Start Training: Epoch <span style=\"color: #000080; font-weight: bold\">12</span>               <a href=\"file://<ipython-input-9-5c2bae223fd1>\"><span style=\"color: #7f7f7f\">&lt;ipython-input-9-5c2bae223fd1&gt;</span></a><span style=\"color: #7f7f7f\">:408</span>\n",
       "</pre>\n"
      ],
      "text/plain": [
       "<rich.jupyter.JupyterRenderable at 0x7f1cb4b7a160>"
      ]
     },
     "metadata": {},
     "output_type": "display_data"
    },
    {
     "name": "stdout",
     "output_type": "stream",
     "text": [
      "Training steps: 0 Loss: 0.6097995042800903\n",
      "Training steps: 50 Loss: 0.545741856098175\n",
      "Training steps: 100 Loss: 0.5570980310440063\n",
      "Training steps: 150 Loss: 0.5551632046699524\n",
      "VALID AUC : 0.7690568121970824 ACC : 0.7081053698074975\n",
      "\n"
     ]
    },
    {
     "data": {
      "text/html": [
       "<pre style=\"white-space:pre;overflow-x:auto;line-height:normal;font-family:Menlo,'DejaVu Sans Mono',consolas,'Courier New',monospace\"><span style=\"color: #7fbfbf\">[06:05:14] </span><span style=\"color: #000080\">INFO    </span> TRAIN_LOSS: <span style=\"color: #000080; font-weight: bold\">0.5725983381271362</span>         <a href=\"file://<ipython-input-9-5c2bae223fd1>\"><span style=\"color: #7f7f7f\">&lt;ipython-input-9-5c2bae223fd1&gt;</span></a><span style=\"color: #7f7f7f\">:424</span>\n",
       "</pre>\n"
      ],
      "text/plain": [
       "<rich.jupyter.JupyterRenderable at 0x7f1cb4b88fd0>"
      ]
     },
     "metadata": {},
     "output_type": "display_data"
    },
    {
     "data": {
      "text/html": [
       "<pre style=\"white-space:pre;overflow-x:auto;line-height:normal;font-family:Menlo,'DejaVu Sans Mono',consolas,'Courier New',monospace\"><span style=\"color: #7fbfbf\">           </span><span style=\"color: #000080\">INFO    </span> TRAIN AUC: <span style=\"color: #000080; font-weight: bold\">0.7719082547752565</span> TRAIN    <a href=\"file://<ipython-input-9-5c2bae223fd1>\"><span style=\"color: #7f7f7f\">&lt;ipython-input-9-5c2bae223fd1&gt;</span></a><span style=\"color: #7f7f7f\">:425</span>\n",
       "                    ACC: <span style=\"color: #000080; font-weight: bold\">0.7056439355557808</span>                                                  \n",
       "</pre>\n"
      ],
      "text/plain": [
       "<rich.jupyter.JupyterRenderable at 0x7f1cb4bdd640>"
      ]
     },
     "metadata": {},
     "output_type": "display_data"
    },
    {
     "data": {
      "text/html": [
       "<pre style=\"white-space:pre;overflow-x:auto;line-height:normal;font-family:Menlo,'DejaVu Sans Mono',consolas,'Courier New',monospace\"><span style=\"color: #7fbfbf\">           </span><span style=\"color: #000080\">INFO    </span> VALID AUC: <span style=\"color: #000080; font-weight: bold\">0.7690568121970824</span> VALID    <a href=\"file://<ipython-input-9-5c2bae223fd1>\"><span style=\"color: #7f7f7f\">&lt;ipython-input-9-5c2bae223fd1&gt;</span></a><span style=\"color: #7f7f7f\">:426</span>\n",
       "                    ACC: <span style=\"color: #000080; font-weight: bold\">0.7081053698074975</span>                                                  \n",
       "                                                                                             \n",
       "</pre>\n"
      ],
      "text/plain": [
       "<rich.jupyter.JupyterRenderable at 0x7f1cb4bd8e20>"
      ]
     },
     "metadata": {},
     "output_type": "display_data"
    },
    {
     "data": {
      "text/html": [
       "<pre style=\"white-space:pre;overflow-x:auto;line-height:normal;font-family:Menlo,'DejaVu Sans Mono',consolas,'Courier New',monospace\"><span style=\"color: #7fbfbf\">           </span><span style=\"color: #000080\">INFO    </span> EarlyStopping counter: <span style=\"color: #000080; font-weight: bold\">4</span>               <a href=\"file://<ipython-input-9-5c2bae223fd1>\"><span style=\"color: #7f7f7f\">&lt;ipython-input-9-5c2bae223fd1&gt;</span></a><span style=\"color: #7f7f7f\">:434</span>\n",
       "</pre>\n"
      ],
      "text/plain": [
       "<rich.jupyter.JupyterRenderable at 0x7f1cb4b4d760>"
      ]
     },
     "metadata": {},
     "output_type": "display_data"
    },
    {
     "data": {
      "text/html": [
       "<pre style=\"white-space:pre;overflow-x:auto;line-height:normal;font-family:Menlo,'DejaVu Sans Mono',consolas,'Courier New',monospace\"><span style=\"color: #7fbfbf\">           </span><span style=\"color: #000080\">INFO    </span> Start Training: Epoch <span style=\"color: #000080; font-weight: bold\">13</span>               <a href=\"file://<ipython-input-9-5c2bae223fd1>\"><span style=\"color: #7f7f7f\">&lt;ipython-input-9-5c2bae223fd1&gt;</span></a><span style=\"color: #7f7f7f\">:408</span>\n",
       "</pre>\n"
      ],
      "text/plain": [
       "<rich.jupyter.JupyterRenderable at 0x7f1cb4ba9c70>"
      ]
     },
     "metadata": {},
     "output_type": "display_data"
    },
    {
     "name": "stdout",
     "output_type": "stream",
     "text": [
      "Training steps: 0 Loss: 0.6280754208564758\n",
      "Training steps: 50 Loss: 0.6341596245765686\n",
      "Training steps: 100 Loss: 0.5214053392410278\n",
      "Training steps: 150 Loss: 0.6706625819206238\n",
      "VALID AUC : 0.7685138937795988 ACC : 0.7082066869300911\n",
      "\n"
     ]
    },
    {
     "data": {
      "text/html": [
       "<pre style=\"white-space:pre;overflow-x:auto;line-height:normal;font-family:Menlo,'DejaVu Sans Mono',consolas,'Courier New',monospace\"><span style=\"color: #7fbfbf\">[06:05:19] </span><span style=\"color: #000080\">INFO    </span> TRAIN_LOSS: <span style=\"color: #000080; font-weight: bold\">0.5729365348815918</span>         <a href=\"file://<ipython-input-9-5c2bae223fd1>\"><span style=\"color: #7f7f7f\">&lt;ipython-input-9-5c2bae223fd1&gt;</span></a><span style=\"color: #7f7f7f\">:424</span>\n",
       "</pre>\n"
      ],
      "text/plain": [
       "<rich.jupyter.JupyterRenderable at 0x7f1cb4bd87c0>"
      ]
     },
     "metadata": {},
     "output_type": "display_data"
    },
    {
     "data": {
      "text/html": [
       "<pre style=\"white-space:pre;overflow-x:auto;line-height:normal;font-family:Menlo,'DejaVu Sans Mono',consolas,'Courier New',monospace\"><span style=\"color: #7fbfbf\">           </span><span style=\"color: #000080\">INFO    </span> TRAIN AUC: <span style=\"color: #000080; font-weight: bold\">0.7710532714261219</span> TRAIN    <a href=\"file://<ipython-input-9-5c2bae223fd1>\"><span style=\"color: #7f7f7f\">&lt;ipython-input-9-5c2bae223fd1&gt;</span></a><span style=\"color: #7f7f7f\">:425</span>\n",
       "                    ACC: <span style=\"color: #000080; font-weight: bold\">0.7040226973350897</span>                                                  \n",
       "</pre>\n"
      ],
      "text/plain": [
       "<rich.jupyter.JupyterRenderable at 0x7f1cb4b7ab80>"
      ]
     },
     "metadata": {},
     "output_type": "display_data"
    },
    {
     "data": {
      "text/html": [
       "<pre style=\"white-space:pre;overflow-x:auto;line-height:normal;font-family:Menlo,'DejaVu Sans Mono',consolas,'Courier New',monospace\"><span style=\"color: #7fbfbf\">           </span><span style=\"color: #000080\">INFO    </span> VALID AUC: <span style=\"color: #000080; font-weight: bold\">0.7685138937795988</span> VALID    <a href=\"file://<ipython-input-9-5c2bae223fd1>\"><span style=\"color: #7f7f7f\">&lt;ipython-input-9-5c2bae223fd1&gt;</span></a><span style=\"color: #7f7f7f\">:426</span>\n",
       "                    ACC: <span style=\"color: #000080; font-weight: bold\">0.7082066869300911</span>                                                  \n",
       "                                                                                             \n",
       "</pre>\n"
      ],
      "text/plain": [
       "<rich.jupyter.JupyterRenderable at 0x7f1cb4b88a60>"
      ]
     },
     "metadata": {},
     "output_type": "display_data"
    },
    {
     "data": {
      "text/html": [
       "<pre style=\"white-space:pre;overflow-x:auto;line-height:normal;font-family:Menlo,'DejaVu Sans Mono',consolas,'Courier New',monospace\"><span style=\"color: #7fbfbf\">           </span><span style=\"color: #000080\">INFO    </span> EarlyStopping counter: <span style=\"color: #000080; font-weight: bold\">5</span>               <a href=\"file://<ipython-input-9-5c2bae223fd1>\"><span style=\"color: #7f7f7f\">&lt;ipython-input-9-5c2bae223fd1&gt;</span></a><span style=\"color: #7f7f7f\">:434</span>\n",
       "</pre>\n"
      ],
      "text/plain": [
       "<rich.jupyter.JupyterRenderable at 0x7f1cb4bd8cd0>"
      ]
     },
     "metadata": {},
     "output_type": "display_data"
    },
    {
     "data": {
      "text/html": [
       "<pre style=\"white-space:pre;overflow-x:auto;line-height:normal;font-family:Menlo,'DejaVu Sans Mono',consolas,'Courier New',monospace\"><span style=\"color: #7fbfbf\">           </span><span style=\"color: #000080\">INFO    </span> EarlyStopping counter: <span style=\"color: #000080; font-weight: bold\">5</span> out of <span style=\"color: #000080; font-weight: bold\">5</span>      <a href=\"file://<ipython-input-9-5c2bae223fd1>\"><span style=\"color: #7f7f7f\">&lt;ipython-input-9-5c2bae223fd1&gt;</span></a><span style=\"color: #7f7f7f\">:436</span>\n",
       "</pre>\n"
      ],
      "text/plain": [
       "<rich.jupyter.JupyterRenderable at 0x7f1cb4b88d30>"
      ]
     },
     "metadata": {},
     "output_type": "display_data"
    },
    {
     "data": {
      "text/html": [
       "Finishing last run (ID:otniqa2w) before initializing another..."
      ],
      "text/plain": [
       "<IPython.core.display.HTML object>"
      ]
     },
     "metadata": {},
     "output_type": "display_data"
    },
    {
     "data": {
      "text/html": [
       "<br/>Waiting for W&B process to finish, PID 24123<br/>Program ended successfully."
      ],
      "text/plain": [
       "<IPython.core.display.HTML object>"
      ]
     },
     "metadata": {},
     "output_type": "display_data"
    },
    {
     "data": {
      "application/vnd.jupyter.widget-view+json": {
       "model_id": "268f153d5d10471d80d3f10cba14bc9d",
       "version_major": 2,
       "version_minor": 0
      },
      "text/plain": [
       "VBox(children=(Label(value=' 2.23MB of 2.23MB uploaded (0.00MB deduped)\\r'), FloatProgress(value=1.0, max=1.0)…"
      ]
     },
     "metadata": {},
     "output_type": "display_data"
    },
    {
     "data": {
      "text/html": [
       "Find user logs for this run at: <code>/home/j-gunmo/desktop/00.my-project/17.P-Stage-T1003/4-STAGE/notebook/wandb/run-20210608_060414-otniqa2w/logs/debug.log</code>"
      ],
      "text/plain": [
       "<IPython.core.display.HTML object>"
      ]
     },
     "metadata": {},
     "output_type": "display_data"
    },
    {
     "data": {
      "text/html": [
       "Find internal logs for this run at: <code>/home/j-gunmo/desktop/00.my-project/17.P-Stage-T1003/4-STAGE/notebook/wandb/run-20210608_060414-otniqa2w/logs/debug-internal.log</code>"
      ],
      "text/plain": [
       "<IPython.core.display.HTML object>"
      ]
     },
     "metadata": {},
     "output_type": "display_data"
    },
    {
     "data": {
      "text/html": [
       "<h3>Run summary:</h3><br/><style>\n",
       "    table.wandb td:nth-child(1) { padding: 0 10px; text-align: right }\n",
       "    </style><table class=\"wandb\">\n",
       "<tr><td>step_train_loss</td><td>0.67066</td></tr><tr><td>_runtime</td><td>61</td></tr><tr><td>_timestamp</td><td>1623099919</td></tr><tr><td>_step</td><td>64</td></tr><tr><td>epoch</td><td>12</td></tr><tr><td>train_loss</td><td>0.57294</td></tr><tr><td>train_auc</td><td>0.77105</td></tr><tr><td>train_acc</td><td>0.70402</td></tr><tr><td>valid_auc</td><td>0.76851</td></tr><tr><td>valid_acc</td><td>0.70821</td></tr></table>"
      ],
      "text/plain": [
       "<IPython.core.display.HTML object>"
      ]
     },
     "metadata": {},
     "output_type": "display_data"
    },
    {
     "data": {
      "text/html": [
       "<h3>Run history:</h3><br/><style>\n",
       "    table.wandb td:nth-child(1) { padding: 0 10px; text-align: right }\n",
       "    </style><table class=\"wandb\">\n",
       "<tr><td>step_train_loss</td><td>█▄▄▅▅▅▅▂▆▄▃▇▇▄▄▇▅▅▃▃▄▃▁▅▂▄▂▄▃▁▅▃▇▃▆▄▄▆▆▇</td></tr><tr><td>_runtime</td><td>▁▁▁▂▂▂▂▂▂▃▃▃▃▃▃▄▄▄▄▄▄▅▅▅▅▅▅▆▆▆▆▆▇▇▇▇▇▇██</td></tr><tr><td>_timestamp</td><td>▁▁▁▂▂▂▂▂▂▃▃▃▃▃▃▄▄▄▄▄▄▅▅▅▅▅▅▆▆▆▆▆▇▇▇▇▇▇██</td></tr><tr><td>_step</td><td>▁▁▁▁▂▂▂▂▂▃▃▃▃▃▃▄▄▄▄▄▅▅▅▅▅▅▆▆▆▆▆▆▇▇▇▇▇███</td></tr><tr><td>epoch</td><td>▁▂▂▃▃▄▅▅▆▆▇▇█</td></tr><tr><td>train_loss</td><td>█▂▂▁▁▁▁▁▁▁▁▁▁</td></tr><tr><td>train_auc</td><td>▁▇▇███▇██████</td></tr><tr><td>train_acc</td><td>▁▇██▇▇█▇█▇▇█▇</td></tr><tr><td>valid_auc</td><td>▁▆▇▆▆▆██▇▆▆▇▆</td></tr><tr><td>valid_acc</td><td>▄▇▁▆▄▆▅▆█▇▅▆▆</td></tr></table><br/>"
      ],
      "text/plain": [
       "<IPython.core.display.HTML object>"
      ]
     },
     "metadata": {},
     "output_type": "display_data"
    },
    {
     "data": {
      "text/html": [
       "Synced 6 W&B file(s), 1 media file(s), 0 artifact file(s) and 1 other file(s)"
      ],
      "text/plain": [
       "<IPython.core.display.HTML object>"
      ]
     },
     "metadata": {},
     "output_type": "display_data"
    },
    {
     "data": {
      "text/html": [
       "\n",
       "                    <br/>Synced <strong style=\"color:#cdcd00\">spring-pine-82</strong>: <a href=\"https://wandb.ai/ggm1207/p-stage-4/runs/otniqa2w\" target=\"_blank\">https://wandb.ai/ggm1207/p-stage-4/runs/otniqa2w</a><br/>\n",
       "                "
      ],
      "text/plain": [
       "<IPython.core.display.HTML object>"
      ]
     },
     "metadata": {},
     "output_type": "display_data"
    },
    {
     "data": {
      "text/html": [
       "...Successfully finished last run (ID:otniqa2w). Initializing new run:<br/><br/>"
      ],
      "text/plain": [
       "<IPython.core.display.HTML object>"
      ]
     },
     "metadata": {},
     "output_type": "display_data"
    },
    {
     "name": "stderr",
     "output_type": "stream",
     "text": [
      "\u001b[34m\u001b[1mwandb\u001b[0m: wandb version 0.10.31 is available!  To upgrade, please run:\n",
      "\u001b[34m\u001b[1mwandb\u001b[0m:  $ pip install wandb --upgrade\n"
     ]
    },
    {
     "data": {
      "text/html": [
       "\n",
       "                Tracking run with wandb version 0.10.27<br/>\n",
       "                Syncing run <strong style=\"color:#cdcd00\">smooth-grass-83</strong> to <a href=\"https://wandb.ai\" target=\"_blank\">Weights & Biases</a> <a href=\"https://docs.wandb.com/integrations/jupyter.html\" target=\"_blank\">(Documentation)</a>.<br/>\n",
       "                Project page: <a href=\"https://wandb.ai/ggm1207/p-stage-4\" target=\"_blank\">https://wandb.ai/ggm1207/p-stage-4</a><br/>\n",
       "                Run page: <a href=\"https://wandb.ai/ggm1207/p-stage-4/runs/2r143od4\" target=\"_blank\">https://wandb.ai/ggm1207/p-stage-4/runs/2r143od4</a><br/>\n",
       "                Run data is saved locally in <code>/home/j-gunmo/desktop/00.my-project/17.P-Stage-T1003/4-STAGE/notebook/wandb/run-20210608_060520-2r143od4</code><br/><br/>\n",
       "            "
      ],
      "text/plain": [
       "<IPython.core.display.HTML object>"
      ]
     },
     "metadata": {},
     "output_type": "display_data"
    },
    {
     "data": {
      "text/html": [
       "<pre style=\"white-space:pre;overflow-x:auto;line-height:normal;font-family:Menlo,'DejaVu Sans Mono',consolas,'Courier New',monospace\"><span style=\"color: #7fbfbf\">[06:05:25] </span><span style=\"color: #000080\">INFO    </span> Start Training: Epoch <span style=\"color: #000080; font-weight: bold\">1</span>                <a href=\"file://<ipython-input-9-5c2bae223fd1>\"><span style=\"color: #7f7f7f\">&lt;ipython-input-9-5c2bae223fd1&gt;</span></a><span style=\"color: #7f7f7f\">:408</span>\n",
       "</pre>\n"
      ],
      "text/plain": [
       "<rich.jupyter.JupyterRenderable at 0x7f1cb4a88fd0>"
      ]
     },
     "metadata": {},
     "output_type": "display_data"
    },
    {
     "name": "stdout",
     "output_type": "stream",
     "text": [
      "Training steps: 0 Loss: 0.7001041769981384\n",
      "Training steps: 50 Loss: 0.6515963673591614\n",
      "Training steps: 100 Loss: 0.5495533347129822\n",
      "Training steps: 150 Loss: 0.6098531484603882\n",
      "VALID AUC : 0.7630983360468905 ACC : 0.7047619047619048\n",
      "\n"
     ]
    },
    {
     "data": {
      "text/html": [
       "<pre style=\"white-space:pre;overflow-x:auto;line-height:normal;font-family:Menlo,'DejaVu Sans Mono',consolas,'Courier New',monospace\"><span style=\"color: #7fbfbf\">[06:05:28] </span><span style=\"color: #000080\">INFO    </span> TRAIN_LOSS: <span style=\"color: #000080; font-weight: bold\">0.5970654487609863</span>         <a href=\"file://<ipython-input-9-5c2bae223fd1>\"><span style=\"color: #7f7f7f\">&lt;ipython-input-9-5c2bae223fd1&gt;</span></a><span style=\"color: #7f7f7f\">:424</span>\n",
       "</pre>\n"
      ],
      "text/plain": [
       "<rich.jupyter.JupyterRenderable at 0x7f1cb4b4d160>"
      ]
     },
     "metadata": {},
     "output_type": "display_data"
    },
    {
     "data": {
      "text/html": [
       "<pre style=\"white-space:pre;overflow-x:auto;line-height:normal;font-family:Menlo,'DejaVu Sans Mono',consolas,'Courier New',monospace\"><span style=\"color: #7fbfbf\">           </span><span style=\"color: #000080\">INFO    </span> TRAIN AUC: <span style=\"color: #000080; font-weight: bold\">0.7491972139515415</span> TRAIN    <a href=\"file://<ipython-input-9-5c2bae223fd1>\"><span style=\"color: #7f7f7f\">&lt;ipython-input-9-5c2bae223fd1&gt;</span></a><span style=\"color: #7f7f7f\">:425</span>\n",
       "                    ACC: <span style=\"color: #000080; font-weight: bold\">0.6938899584557706</span>                                                  \n",
       "</pre>\n"
      ],
      "text/plain": [
       "<rich.jupyter.JupyterRenderable at 0x7f1cb4b697c0>"
      ]
     },
     "metadata": {},
     "output_type": "display_data"
    },
    {
     "data": {
      "text/html": [
       "<pre style=\"white-space:pre;overflow-x:auto;line-height:normal;font-family:Menlo,'DejaVu Sans Mono',consolas,'Courier New',monospace\"><span style=\"color: #7fbfbf\">           </span><span style=\"color: #000080\">INFO    </span> VALID AUC: <span style=\"color: #000080; font-weight: bold\">0.7630983360468905</span> VALID    <a href=\"file://<ipython-input-9-5c2bae223fd1>\"><span style=\"color: #7f7f7f\">&lt;ipython-input-9-5c2bae223fd1&gt;</span></a><span style=\"color: #7f7f7f\">:426</span>\n",
       "                    ACC: <span style=\"color: #000080; font-weight: bold\">0.7047619047619048</span>                                                  \n",
       "                                                                                             \n",
       "</pre>\n"
      ],
      "text/plain": [
       "<rich.jupyter.JupyterRenderable at 0x7f1cb4bdde80>"
      ]
     },
     "metadata": {},
     "output_type": "display_data"
    },
    {
     "data": {
      "text/html": [
       "<pre style=\"white-space:pre;overflow-x:auto;line-height:normal;font-family:Menlo,'DejaVu Sans Mono',consolas,'Courier New',monospace\"><span style=\"color: #7fbfbf\">           </span><span style=\"color: #000080\">INFO    </span> Start Training: Epoch <span style=\"color: #000080; font-weight: bold\">2</span>                <a href=\"file://<ipython-input-9-5c2bae223fd1>\"><span style=\"color: #7f7f7f\">&lt;ipython-input-9-5c2bae223fd1&gt;</span></a><span style=\"color: #7f7f7f\">:408</span>\n",
       "</pre>\n"
      ],
      "text/plain": [
       "<rich.jupyter.JupyterRenderable at 0x7f1cb4b697c0>"
      ]
     },
     "metadata": {},
     "output_type": "display_data"
    },
    {
     "name": "stdout",
     "output_type": "stream",
     "text": [
      "Training steps: 0 Loss: 0.4927167594432831\n",
      "Training steps: 50 Loss: 0.5672284364700317\n",
      "Training steps: 100 Loss: 0.5991107225418091\n",
      "Training steps: 150 Loss: 0.5526065826416016\n",
      "VALID AUC : 0.7668078543255836 ACC : 0.707193515704154\n",
      "\n"
     ]
    },
    {
     "data": {
      "text/html": [
       "<pre style=\"white-space:pre;overflow-x:auto;line-height:normal;font-family:Menlo,'DejaVu Sans Mono',consolas,'Courier New',monospace\"><span style=\"color: #7fbfbf\">[06:05:32] </span><span style=\"color: #000080\">INFO    </span> TRAIN_LOSS: <span style=\"color: #000080; font-weight: bold\">0.5733842253684998</span>         <a href=\"file://<ipython-input-9-5c2bae223fd1>\"><span style=\"color: #7f7f7f\">&lt;ipython-input-9-5c2bae223fd1&gt;</span></a><span style=\"color: #7f7f7f\">:424</span>\n",
       "</pre>\n"
      ],
      "text/plain": [
       "<rich.jupyter.JupyterRenderable at 0x7f1cb4b12a00>"
      ]
     },
     "metadata": {},
     "output_type": "display_data"
    },
    {
     "data": {
      "text/html": [
       "<pre style=\"white-space:pre;overflow-x:auto;line-height:normal;font-family:Menlo,'DejaVu Sans Mono',consolas,'Courier New',monospace\"><span style=\"color: #7fbfbf\">           </span><span style=\"color: #000080\">INFO    </span> TRAIN AUC: <span style=\"color: #000080; font-weight: bold\">0.7701622598277299</span> TRAIN    <a href=\"file://<ipython-input-9-5c2bae223fd1>\"><span style=\"color: #7f7f7f\">&lt;ipython-input-9-5c2bae223fd1&gt;</span></a><span style=\"color: #7f7f7f\">:425</span>\n",
       "                    ACC: <span style=\"color: #000080; font-weight: bold\">0.7054412807781943</span>                                                  \n",
       "</pre>\n"
      ],
      "text/plain": [
       "<rich.jupyter.JupyterRenderable at 0x7f1cb4be79d0>"
      ]
     },
     "metadata": {},
     "output_type": "display_data"
    },
    {
     "data": {
      "text/html": [
       "<pre style=\"white-space:pre;overflow-x:auto;line-height:normal;font-family:Menlo,'DejaVu Sans Mono',consolas,'Courier New',monospace\"><span style=\"color: #7fbfbf\">           </span><span style=\"color: #000080\">INFO    </span> VALID AUC: <span style=\"color: #000080; font-weight: bold\">0.7668078543255836</span> VALID    <a href=\"file://<ipython-input-9-5c2bae223fd1>\"><span style=\"color: #7f7f7f\">&lt;ipython-input-9-5c2bae223fd1&gt;</span></a><span style=\"color: #7f7f7f\">:426</span>\n",
       "                    ACC: <span style=\"color: #000080; font-weight: bold\">0.707193515704154</span>                                                   \n",
       "                                                                                             \n",
       "</pre>\n"
      ],
      "text/plain": [
       "<rich.jupyter.JupyterRenderable at 0x7f1cb4b88cd0>"
      ]
     },
     "metadata": {},
     "output_type": "display_data"
    },
    {
     "data": {
      "text/html": [
       "<pre style=\"white-space:pre;overflow-x:auto;line-height:normal;font-family:Menlo,'DejaVu Sans Mono',consolas,'Courier New',monospace\"><span style=\"color: #7fbfbf\">           </span><span style=\"color: #000080\">INFO    </span> Start Training: Epoch <span style=\"color: #000080; font-weight: bold\">3</span>                <a href=\"file://<ipython-input-9-5c2bae223fd1>\"><span style=\"color: #7f7f7f\">&lt;ipython-input-9-5c2bae223fd1&gt;</span></a><span style=\"color: #7f7f7f\">:408</span>\n",
       "</pre>\n"
      ],
      "text/plain": [
       "<rich.jupyter.JupyterRenderable at 0x7f1cb4be79d0>"
      ]
     },
     "metadata": {},
     "output_type": "display_data"
    },
    {
     "name": "stdout",
     "output_type": "stream",
     "text": [
      "Training steps: 0 Loss: 0.5771178007125854\n",
      "Training steps: 50 Loss: 0.5835651159286499\n",
      "Training steps: 100 Loss: 0.47201138734817505\n",
      "Training steps: 150 Loss: 0.6813755631446838\n",
      "VALID AUC : 0.7680698934974888 ACC : 0.7045592705167173\n",
      "\n"
     ]
    },
    {
     "data": {
      "text/html": [
       "<pre style=\"white-space:pre;overflow-x:auto;line-height:normal;font-family:Menlo,'DejaVu Sans Mono',consolas,'Courier New',monospace\"><span style=\"color: #7fbfbf\">[06:05:37] </span><span style=\"color: #000080\">INFO    </span> TRAIN_LOSS: <span style=\"color: #000080; font-weight: bold\">0.5697299838066101</span>         <a href=\"file://<ipython-input-9-5c2bae223fd1>\"><span style=\"color: #7f7f7f\">&lt;ipython-input-9-5c2bae223fd1&gt;</span></a><span style=\"color: #7f7f7f\">:424</span>\n",
       "</pre>\n"
      ],
      "text/plain": [
       "<rich.jupyter.JupyterRenderable at 0x7f1cb4b00b50>"
      ]
     },
     "metadata": {},
     "output_type": "display_data"
    },
    {
     "data": {
      "text/html": [
       "<pre style=\"white-space:pre;overflow-x:auto;line-height:normal;font-family:Menlo,'DejaVu Sans Mono',consolas,'Courier New',monospace\"><span style=\"color: #7fbfbf\">           </span><span style=\"color: #000080\">INFO    </span> TRAIN AUC: <span style=\"color: #000080; font-weight: bold\">0.7746749782694334</span> TRAIN    <a href=\"file://<ipython-input-9-5c2bae223fd1>\"><span style=\"color: #7f7f7f\">&lt;ipython-input-9-5c2bae223fd1&gt;</span></a><span style=\"color: #7f7f7f\">:425</span>\n",
       "                    ACC: <span style=\"color: #000080; font-weight: bold\">0.707366501165265</span>                                                   \n",
       "</pre>\n"
      ],
      "text/plain": [
       "<rich.jupyter.JupyterRenderable at 0x7f1cb4b4da90>"
      ]
     },
     "metadata": {},
     "output_type": "display_data"
    },
    {
     "data": {
      "text/html": [
       "<pre style=\"white-space:pre;overflow-x:auto;line-height:normal;font-family:Menlo,'DejaVu Sans Mono',consolas,'Courier New',monospace\"><span style=\"color: #7fbfbf\">           </span><span style=\"color: #000080\">INFO    </span> VALID AUC: <span style=\"color: #000080; font-weight: bold\">0.7680698934974888</span> VALID    <a href=\"file://<ipython-input-9-5c2bae223fd1>\"><span style=\"color: #7f7f7f\">&lt;ipython-input-9-5c2bae223fd1&gt;</span></a><span style=\"color: #7f7f7f\">:426</span>\n",
       "                    ACC: <span style=\"color: #000080; font-weight: bold\">0.7045592705167173</span>                                                  \n",
       "                                                                                             \n",
       "</pre>\n"
      ],
      "text/plain": [
       "<rich.jupyter.JupyterRenderable at 0x7f1cb4b88fd0>"
      ]
     },
     "metadata": {},
     "output_type": "display_data"
    },
    {
     "data": {
      "text/html": [
       "<pre style=\"white-space:pre;overflow-x:auto;line-height:normal;font-family:Menlo,'DejaVu Sans Mono',consolas,'Courier New',monospace\"><span style=\"color: #7fbfbf\">           </span><span style=\"color: #000080\">INFO    </span> Start Training: Epoch <span style=\"color: #000080; font-weight: bold\">4</span>                <a href=\"file://<ipython-input-9-5c2bae223fd1>\"><span style=\"color: #7f7f7f\">&lt;ipython-input-9-5c2bae223fd1&gt;</span></a><span style=\"color: #7f7f7f\">:408</span>\n",
       "</pre>\n"
      ],
      "text/plain": [
       "<rich.jupyter.JupyterRenderable at 0x7f1cb4b00b50>"
      ]
     },
     "metadata": {},
     "output_type": "display_data"
    },
    {
     "name": "stdout",
     "output_type": "stream",
     "text": [
      "Training steps: 0 Loss: 0.5463827848434448\n",
      "Training steps: 50 Loss: 0.538460910320282\n",
      "Training steps: 100 Loss: 0.5373997092247009\n",
      "Training steps: 150 Loss: 0.5226815938949585\n",
      "VALID AUC : 0.7678660327398693 ACC : 0.705369807497467\n",
      "\n"
     ]
    },
    {
     "data": {
      "text/html": [
       "<pre style=\"white-space:pre;overflow-x:auto;line-height:normal;font-family:Menlo,'DejaVu Sans Mono',consolas,'Courier New',monospace\"><span style=\"color: #7fbfbf\">[06:05:42] </span><span style=\"color: #000080\">INFO    </span> TRAIN_LOSS: <span style=\"color: #000080; font-weight: bold\">0.568235456943512</span>          <a href=\"file://<ipython-input-9-5c2bae223fd1>\"><span style=\"color: #7f7f7f\">&lt;ipython-input-9-5c2bae223fd1&gt;</span></a><span style=\"color: #7f7f7f\">:424</span>\n",
       "</pre>\n"
      ],
      "text/plain": [
       "<rich.jupyter.JupyterRenderable at 0x7f1cb4be79d0>"
      ]
     },
     "metadata": {},
     "output_type": "display_data"
    },
    {
     "data": {
      "text/html": [
       "<pre style=\"white-space:pre;overflow-x:auto;line-height:normal;font-family:Menlo,'DejaVu Sans Mono',consolas,'Courier New',monospace\"><span style=\"color: #7fbfbf\">           </span><span style=\"color: #000080\">INFO    </span> TRAIN AUC: <span style=\"color: #000080; font-weight: bold\">0.7757365671900573</span> TRAIN    <a href=\"file://<ipython-input-9-5c2bae223fd1>\"><span style=\"color: #7f7f7f\">&lt;ipython-input-9-5c2bae223fd1&gt;</span></a><span style=\"color: #7f7f7f\">:425</span>\n",
       "                    ACC: <span style=\"color: #000080; font-weight: bold\">0.7096970311075084</span>                                                  \n",
       "</pre>\n"
      ],
      "text/plain": [
       "<rich.jupyter.JupyterRenderable at 0x7f1cb4be7d00>"
      ]
     },
     "metadata": {},
     "output_type": "display_data"
    },
    {
     "data": {
      "text/html": [
       "<pre style=\"white-space:pre;overflow-x:auto;line-height:normal;font-family:Menlo,'DejaVu Sans Mono',consolas,'Courier New',monospace\"><span style=\"color: #7fbfbf\">           </span><span style=\"color: #000080\">INFO    </span> VALID AUC: <span style=\"color: #000080; font-weight: bold\">0.7678660327398693</span> VALID    <a href=\"file://<ipython-input-9-5c2bae223fd1>\"><span style=\"color: #7f7f7f\">&lt;ipython-input-9-5c2bae223fd1&gt;</span></a><span style=\"color: #7f7f7f\">:426</span>\n",
       "                    ACC: <span style=\"color: #000080; font-weight: bold\">0.705369807497467</span>                                                   \n",
       "                                                                                             \n",
       "</pre>\n"
      ],
      "text/plain": [
       "<rich.jupyter.JupyterRenderable at 0x7f1cb4b12820>"
      ]
     },
     "metadata": {},
     "output_type": "display_data"
    },
    {
     "data": {
      "text/html": [
       "<pre style=\"white-space:pre;overflow-x:auto;line-height:normal;font-family:Menlo,'DejaVu Sans Mono',consolas,'Courier New',monospace\"><span style=\"color: #7fbfbf\">           </span><span style=\"color: #000080\">INFO    </span> EarlyStopping counter: <span style=\"color: #000080; font-weight: bold\">1</span>               <a href=\"file://<ipython-input-9-5c2bae223fd1>\"><span style=\"color: #7f7f7f\">&lt;ipython-input-9-5c2bae223fd1&gt;</span></a><span style=\"color: #7f7f7f\">:434</span>\n",
       "</pre>\n"
      ],
      "text/plain": [
       "<rich.jupyter.JupyterRenderable at 0x7f1cb4bdd7c0>"
      ]
     },
     "metadata": {},
     "output_type": "display_data"
    },
    {
     "data": {
      "text/html": [
       "<pre style=\"white-space:pre;overflow-x:auto;line-height:normal;font-family:Menlo,'DejaVu Sans Mono',consolas,'Courier New',monospace\"><span style=\"color: #7fbfbf\">           </span><span style=\"color: #000080\">INFO    </span> Start Training: Epoch <span style=\"color: #000080; font-weight: bold\">5</span>                <a href=\"file://<ipython-input-9-5c2bae223fd1>\"><span style=\"color: #7f7f7f\">&lt;ipython-input-9-5c2bae223fd1&gt;</span></a><span style=\"color: #7f7f7f\">:408</span>\n",
       "</pre>\n"
      ],
      "text/plain": [
       "<rich.jupyter.JupyterRenderable at 0x7f1cb4bd8e20>"
      ]
     },
     "metadata": {},
     "output_type": "display_data"
    },
    {
     "name": "stdout",
     "output_type": "stream",
     "text": [
      "Training steps: 0 Loss: 0.6196378469467163\n",
      "Training steps: 50 Loss: 0.5584770441055298\n",
      "Training steps: 100 Loss: 0.6440292596817017\n",
      "Training steps: 150 Loss: 0.568621039390564\n",
      "VALID AUC : 0.7685795967315086 ACC : 0.7083080040526849\n",
      "\n"
     ]
    },
    {
     "data": {
      "text/html": [
       "<pre style=\"white-space:pre;overflow-x:auto;line-height:normal;font-family:Menlo,'DejaVu Sans Mono',consolas,'Courier New',monospace\"><span style=\"color: #7fbfbf\">[06:05:47] </span><span style=\"color: #000080\">INFO    </span> TRAIN_LOSS: <span style=\"color: #000080; font-weight: bold\">0.5670852065086365</span>         <a href=\"file://<ipython-input-9-5c2bae223fd1>\"><span style=\"color: #7f7f7f\">&lt;ipython-input-9-5c2bae223fd1&gt;</span></a><span style=\"color: #7f7f7f\">:424</span>\n",
       "</pre>\n"
      ],
      "text/plain": [
       "<rich.jupyter.JupyterRenderable at 0x7f1cb4b880a0>"
      ]
     },
     "metadata": {},
     "output_type": "display_data"
    },
    {
     "data": {
      "text/html": [
       "<pre style=\"white-space:pre;overflow-x:auto;line-height:normal;font-family:Menlo,'DejaVu Sans Mono',consolas,'Courier New',monospace\"><span style=\"color: #7fbfbf\">           </span><span style=\"color: #000080\">INFO    </span> TRAIN AUC: <span style=\"color: #000080; font-weight: bold\">0.777494918852008</span> TRAIN     <a href=\"file://<ipython-input-9-5c2bae223fd1>\"><span style=\"color: #7f7f7f\">&lt;ipython-input-9-5c2bae223fd1&gt;</span></a><span style=\"color: #7f7f7f\">:425</span>\n",
       "                    ACC: <span style=\"color: #000080; font-weight: bold\">0.7101023406626811</span>                                                  \n",
       "</pre>\n"
      ],
      "text/plain": [
       "<rich.jupyter.JupyterRenderable at 0x7f1cb4b7ab80>"
      ]
     },
     "metadata": {},
     "output_type": "display_data"
    },
    {
     "data": {
      "text/html": [
       "<pre style=\"white-space:pre;overflow-x:auto;line-height:normal;font-family:Menlo,'DejaVu Sans Mono',consolas,'Courier New',monospace\"><span style=\"color: #7fbfbf\">           </span><span style=\"color: #000080\">INFO    </span> VALID AUC: <span style=\"color: #000080; font-weight: bold\">0.7685795967315086</span> VALID    <a href=\"file://<ipython-input-9-5c2bae223fd1>\"><span style=\"color: #7f7f7f\">&lt;ipython-input-9-5c2bae223fd1&gt;</span></a><span style=\"color: #7f7f7f\">:426</span>\n",
       "                    ACC: <span style=\"color: #000080; font-weight: bold\">0.7083080040526849</span>                                                  \n",
       "                                                                                             \n",
       "</pre>\n"
      ],
      "text/plain": [
       "<rich.jupyter.JupyterRenderable at 0x7f1cb4b7aa00>"
      ]
     },
     "metadata": {},
     "output_type": "display_data"
    },
    {
     "data": {
      "text/html": [
       "<pre style=\"white-space:pre;overflow-x:auto;line-height:normal;font-family:Menlo,'DejaVu Sans Mono',consolas,'Courier New',monospace\"><span style=\"color: #7fbfbf\">           </span><span style=\"color: #000080\">INFO    </span> Start Training: Epoch <span style=\"color: #000080; font-weight: bold\">6</span>                <a href=\"file://<ipython-input-9-5c2bae223fd1>\"><span style=\"color: #7f7f7f\">&lt;ipython-input-9-5c2bae223fd1&gt;</span></a><span style=\"color: #7f7f7f\">:408</span>\n",
       "</pre>\n"
      ],
      "text/plain": [
       "<rich.jupyter.JupyterRenderable at 0x7f1cb4b4da90>"
      ]
     },
     "metadata": {},
     "output_type": "display_data"
    },
    {
     "name": "stdout",
     "output_type": "stream",
     "text": [
      "Training steps: 0 Loss: 0.547674834728241\n",
      "Training steps: 50 Loss: 0.5732818245887756\n",
      "Training steps: 100 Loss: 0.5672615170478821\n",
      "Training steps: 150 Loss: 0.5543819665908813\n",
      "VALID AUC : 0.7686691747132489 ACC : 0.7078014184397163\n",
      "\n"
     ]
    },
    {
     "data": {
      "text/html": [
       "<pre style=\"white-space:pre;overflow-x:auto;line-height:normal;font-family:Menlo,'DejaVu Sans Mono',consolas,'Courier New',monospace\"><span style=\"color: #7fbfbf\">[06:05:51] </span><span style=\"color: #000080\">INFO    </span> TRAIN_LOSS: <span style=\"color: #000080; font-weight: bold\">0.5688629150390625</span>         <a href=\"file://<ipython-input-9-5c2bae223fd1>\"><span style=\"color: #7f7f7f\">&lt;ipython-input-9-5c2bae223fd1&gt;</span></a><span style=\"color: #7f7f7f\">:424</span>\n",
       "</pre>\n"
      ],
      "text/plain": [
       "<rich.jupyter.JupyterRenderable at 0x7f1cb4ac66d0>"
      ]
     },
     "metadata": {},
     "output_type": "display_data"
    },
    {
     "data": {
      "text/html": [
       "<pre style=\"white-space:pre;overflow-x:auto;line-height:normal;font-family:Menlo,'DejaVu Sans Mono',consolas,'Courier New',monospace\"><span style=\"color: #7fbfbf\">           </span><span style=\"color: #000080\">INFO    </span> TRAIN AUC: <span style=\"color: #000080; font-weight: bold\">0.7764722797841882</span> TRAIN    <a href=\"file://<ipython-input-9-5c2bae223fd1>\"><span style=\"color: #7f7f7f\">&lt;ipython-input-9-5c2bae223fd1&gt;</span></a><span style=\"color: #7f7f7f\">:425</span>\n",
       "                    ACC: <span style=\"color: #000080; font-weight: bold\">0.7102036680514743</span>                                                  \n",
       "</pre>\n"
      ],
      "text/plain": [
       "<rich.jupyter.JupyterRenderable at 0x7f1cb4b12820>"
      ]
     },
     "metadata": {},
     "output_type": "display_data"
    },
    {
     "data": {
      "text/html": [
       "<pre style=\"white-space:pre;overflow-x:auto;line-height:normal;font-family:Menlo,'DejaVu Sans Mono',consolas,'Courier New',monospace\"><span style=\"color: #7fbfbf\">           </span><span style=\"color: #000080\">INFO    </span> VALID AUC: <span style=\"color: #000080; font-weight: bold\">0.7686691747132489</span> VALID    <a href=\"file://<ipython-input-9-5c2bae223fd1>\"><span style=\"color: #7f7f7f\">&lt;ipython-input-9-5c2bae223fd1&gt;</span></a><span style=\"color: #7f7f7f\">:426</span>\n",
       "                    ACC: <span style=\"color: #000080; font-weight: bold\">0.7078014184397163</span>                                                  \n",
       "                                                                                             \n",
       "</pre>\n"
      ],
      "text/plain": [
       "<rich.jupyter.JupyterRenderable at 0x7f1cb4b003a0>"
      ]
     },
     "metadata": {},
     "output_type": "display_data"
    },
    {
     "data": {
      "text/html": [
       "<pre style=\"white-space:pre;overflow-x:auto;line-height:normal;font-family:Menlo,'DejaVu Sans Mono',consolas,'Courier New',monospace\"><span style=\"color: #7fbfbf\">           </span><span style=\"color: #000080\">INFO    </span> Start Training: Epoch <span style=\"color: #000080; font-weight: bold\">7</span>                <a href=\"file://<ipython-input-9-5c2bae223fd1>\"><span style=\"color: #7f7f7f\">&lt;ipython-input-9-5c2bae223fd1&gt;</span></a><span style=\"color: #7f7f7f\">:408</span>\n",
       "</pre>\n"
      ],
      "text/plain": [
       "<rich.jupyter.JupyterRenderable at 0x7f1cb4be79d0>"
      ]
     },
     "metadata": {},
     "output_type": "display_data"
    },
    {
     "name": "stdout",
     "output_type": "stream",
     "text": [
      "Training steps: 0 Loss: 0.540597140789032\n",
      "Training steps: 50 Loss: 0.5826511979103088\n",
      "Training steps: 100 Loss: 0.5686967372894287\n",
      "Training steps: 150 Loss: 0.6458607316017151\n",
      "VALID AUC : 0.768535095244477 ACC : 0.7056737588652482\n",
      "\n"
     ]
    },
    {
     "data": {
      "text/html": [
       "<pre style=\"white-space:pre;overflow-x:auto;line-height:normal;font-family:Menlo,'DejaVu Sans Mono',consolas,'Courier New',monospace\"><span style=\"color: #7fbfbf\">[06:05:56] </span><span style=\"color: #000080\">INFO    </span> TRAIN_LOSS: <span style=\"color: #000080; font-weight: bold\">0.5675421357154846</span>         <a href=\"file://<ipython-input-9-5c2bae223fd1>\"><span style=\"color: #7f7f7f\">&lt;ipython-input-9-5c2bae223fd1&gt;</span></a><span style=\"color: #7f7f7f\">:424</span>\n",
       "</pre>\n"
      ],
      "text/plain": [
       "<rich.jupyter.JupyterRenderable at 0x7f1cb4b12a00>"
      ]
     },
     "metadata": {},
     "output_type": "display_data"
    },
    {
     "data": {
      "text/html": [
       "<pre style=\"white-space:pre;overflow-x:auto;line-height:normal;font-family:Menlo,'DejaVu Sans Mono',consolas,'Courier New',monospace\"><span style=\"color: #7fbfbf\">           </span><span style=\"color: #000080\">INFO    </span> TRAIN AUC: <span style=\"color: #000080; font-weight: bold\">0.7778500281112757</span> TRAIN    <a href=\"file://<ipython-input-9-5c2bae223fd1>\"><span style=\"color: #7f7f7f\">&lt;ipython-input-9-5c2bae223fd1&gt;</span></a><span style=\"color: #7f7f7f\">:425</span>\n",
       "                    ACC: <span style=\"color: #000080; font-weight: bold\">0.7129395075488905</span>                                                  \n",
       "</pre>\n"
      ],
      "text/plain": [
       "<rich.jupyter.JupyterRenderable at 0x7f1cb4c62f40>"
      ]
     },
     "metadata": {},
     "output_type": "display_data"
    },
    {
     "data": {
      "text/html": [
       "<pre style=\"white-space:pre;overflow-x:auto;line-height:normal;font-family:Menlo,'DejaVu Sans Mono',consolas,'Courier New',monospace\"><span style=\"color: #7fbfbf\">           </span><span style=\"color: #000080\">INFO    </span> VALID AUC: <span style=\"color: #000080; font-weight: bold\">0.768535095244477</span> VALID     <a href=\"file://<ipython-input-9-5c2bae223fd1>\"><span style=\"color: #7f7f7f\">&lt;ipython-input-9-5c2bae223fd1&gt;</span></a><span style=\"color: #7f7f7f\">:426</span>\n",
       "                    ACC: <span style=\"color: #000080; font-weight: bold\">0.7056737588652482</span>                                                  \n",
       "                                                                                             \n",
       "</pre>\n"
      ],
      "text/plain": [
       "<rich.jupyter.JupyterRenderable at 0x7f1cb4b4d820>"
      ]
     },
     "metadata": {},
     "output_type": "display_data"
    },
    {
     "data": {
      "text/html": [
       "<pre style=\"white-space:pre;overflow-x:auto;line-height:normal;font-family:Menlo,'DejaVu Sans Mono',consolas,'Courier New',monospace\"><span style=\"color: #7fbfbf\">           </span><span style=\"color: #000080\">INFO    </span> EarlyStopping counter: <span style=\"color: #000080; font-weight: bold\">1</span>               <a href=\"file://<ipython-input-9-5c2bae223fd1>\"><span style=\"color: #7f7f7f\">&lt;ipython-input-9-5c2bae223fd1&gt;</span></a><span style=\"color: #7f7f7f\">:434</span>\n",
       "</pre>\n"
      ],
      "text/plain": [
       "<rich.jupyter.JupyterRenderable at 0x7f1cb4bd8e50>"
      ]
     },
     "metadata": {},
     "output_type": "display_data"
    },
    {
     "data": {
      "text/html": [
       "<pre style=\"white-space:pre;overflow-x:auto;line-height:normal;font-family:Menlo,'DejaVu Sans Mono',consolas,'Courier New',monospace\"><span style=\"color: #7fbfbf\">           </span><span style=\"color: #000080\">INFO    </span> Start Training: Epoch <span style=\"color: #000080; font-weight: bold\">8</span>                <a href=\"file://<ipython-input-9-5c2bae223fd1>\"><span style=\"color: #7f7f7f\">&lt;ipython-input-9-5c2bae223fd1&gt;</span></a><span style=\"color: #7f7f7f\">:408</span>\n",
       "</pre>\n"
      ],
      "text/plain": [
       "<rich.jupyter.JupyterRenderable at 0x7f1cb4b4da00>"
      ]
     },
     "metadata": {},
     "output_type": "display_data"
    },
    {
     "name": "stdout",
     "output_type": "stream",
     "text": [
      "Training steps: 0 Loss: 0.5405254364013672\n",
      "Training steps: 50 Loss: 0.5855568051338196\n",
      "Training steps: 100 Loss: 0.5902345776557922\n",
      "Training steps: 150 Loss: 0.5645533800125122\n",
      "VALID AUC : 0.7690921339319381 ACC : 0.7085106382978723\n",
      "\n"
     ]
    },
    {
     "data": {
      "text/html": [
       "<pre style=\"white-space:pre;overflow-x:auto;line-height:normal;font-family:Menlo,'DejaVu Sans Mono',consolas,'Courier New',monospace\"><span style=\"color: #7fbfbf\">[06:06:01] </span><span style=\"color: #000080\">INFO    </span> TRAIN_LOSS: <span style=\"color: #000080; font-weight: bold\">0.5677369832992554</span>         <a href=\"file://<ipython-input-9-5c2bae223fd1>\"><span style=\"color: #7f7f7f\">&lt;ipython-input-9-5c2bae223fd1&gt;</span></a><span style=\"color: #7f7f7f\">:424</span>\n",
       "</pre>\n"
      ],
      "text/plain": [
       "<rich.jupyter.JupyterRenderable at 0x7f1cb4c62f40>"
      ]
     },
     "metadata": {},
     "output_type": "display_data"
    },
    {
     "data": {
      "text/html": [
       "<pre style=\"white-space:pre;overflow-x:auto;line-height:normal;font-family:Menlo,'DejaVu Sans Mono',consolas,'Courier New',monospace\"><span style=\"color: #7fbfbf\">           </span><span style=\"color: #000080\">INFO    </span> TRAIN AUC: <span style=\"color: #000080; font-weight: bold\">0.7766488483415991</span> TRAIN    <a href=\"file://<ipython-input-9-5c2bae223fd1>\"><span style=\"color: #7f7f7f\">&lt;ipython-input-9-5c2bae223fd1&gt;</span></a><span style=\"color: #7f7f7f\">:425</span>\n",
       "                    ACC: <span style=\"color: #000080; font-weight: bold\">0.7123315432161313</span>                                                  \n",
       "</pre>\n"
      ],
      "text/plain": [
       "<rich.jupyter.JupyterRenderable at 0x7f1cb4bd8e50>"
      ]
     },
     "metadata": {},
     "output_type": "display_data"
    },
    {
     "data": {
      "text/html": [
       "<pre style=\"white-space:pre;overflow-x:auto;line-height:normal;font-family:Menlo,'DejaVu Sans Mono',consolas,'Courier New',monospace\"><span style=\"color: #7fbfbf\">           </span><span style=\"color: #000080\">INFO    </span> VALID AUC: <span style=\"color: #000080; font-weight: bold\">0.7690921339319381</span> VALID    <a href=\"file://<ipython-input-9-5c2bae223fd1>\"><span style=\"color: #7f7f7f\">&lt;ipython-input-9-5c2bae223fd1&gt;</span></a><span style=\"color: #7f7f7f\">:426</span>\n",
       "                    ACC: <span style=\"color: #000080; font-weight: bold\">0.7085106382978723</span>                                                  \n",
       "                                                                                             \n",
       "</pre>\n"
      ],
      "text/plain": [
       "<rich.jupyter.JupyterRenderable at 0x7f1cb4c62c70>"
      ]
     },
     "metadata": {},
     "output_type": "display_data"
    },
    {
     "data": {
      "text/html": [
       "<pre style=\"white-space:pre;overflow-x:auto;line-height:normal;font-family:Menlo,'DejaVu Sans Mono',consolas,'Courier New',monospace\"><span style=\"color: #7fbfbf\">           </span><span style=\"color: #000080\">INFO    </span> Start Training: Epoch <span style=\"color: #000080; font-weight: bold\">9</span>                <a href=\"file://<ipython-input-9-5c2bae223fd1>\"><span style=\"color: #7f7f7f\">&lt;ipython-input-9-5c2bae223fd1&gt;</span></a><span style=\"color: #7f7f7f\">:408</span>\n",
       "</pre>\n"
      ],
      "text/plain": [
       "<rich.jupyter.JupyterRenderable at 0x7f1cb4c62f40>"
      ]
     },
     "metadata": {},
     "output_type": "display_data"
    },
    {
     "name": "stdout",
     "output_type": "stream",
     "text": [
      "Training steps: 0 Loss: 0.605832040309906\n",
      "Training steps: 50 Loss: 0.579571545124054\n",
      "Training steps: 100 Loss: 0.5531253218650818\n",
      "Training steps: 150 Loss: 0.5346544981002808\n",
      "VALID AUC : 0.7685452194867967 ACC : 0.7060790273556231\n",
      "\n"
     ]
    },
    {
     "data": {
      "text/html": [
       "<pre style=\"white-space:pre;overflow-x:auto;line-height:normal;font-family:Menlo,'DejaVu Sans Mono',consolas,'Courier New',monospace\"><span style=\"color: #7fbfbf\">[06:06:05] </span><span style=\"color: #000080\">INFO    </span> TRAIN_LOSS: <span style=\"color: #000080; font-weight: bold\">0.5668355822563171</span>         <a href=\"file://<ipython-input-9-5c2bae223fd1>\"><span style=\"color: #7f7f7f\">&lt;ipython-input-9-5c2bae223fd1&gt;</span></a><span style=\"color: #7f7f7f\">:424</span>\n",
       "</pre>\n"
      ],
      "text/plain": [
       "<rich.jupyter.JupyterRenderable at 0x7f1cb4bd8e50>"
      ]
     },
     "metadata": {},
     "output_type": "display_data"
    },
    {
     "data": {
      "text/html": [
       "<pre style=\"white-space:pre;overflow-x:auto;line-height:normal;font-family:Menlo,'DejaVu Sans Mono',consolas,'Courier New',monospace\"><span style=\"color: #7fbfbf\">           </span><span style=\"color: #000080\">INFO    </span> TRAIN AUC: <span style=\"color: #000080; font-weight: bold\">0.7780013901974888</span> TRAIN    <a href=\"file://<ipython-input-9-5c2bae223fd1>\"><span style=\"color: #7f7f7f\">&lt;ipython-input-9-5c2bae223fd1&gt;</span></a><span style=\"color: #7f7f7f\">:425</span>\n",
       "                    ACC: <span style=\"color: #000080; font-weight: bold\">0.7151687101023406</span>                                                  \n",
       "</pre>\n"
      ],
      "text/plain": [
       "<rich.jupyter.JupyterRenderable at 0x7f1cb4b88e50>"
      ]
     },
     "metadata": {},
     "output_type": "display_data"
    },
    {
     "data": {
      "text/html": [
       "<pre style=\"white-space:pre;overflow-x:auto;line-height:normal;font-family:Menlo,'DejaVu Sans Mono',consolas,'Courier New',monospace\"><span style=\"color: #7fbfbf\">           </span><span style=\"color: #000080\">INFO    </span> VALID AUC: <span style=\"color: #000080; font-weight: bold\">0.7685452194867967</span> VALID    <a href=\"file://<ipython-input-9-5c2bae223fd1>\"><span style=\"color: #7f7f7f\">&lt;ipython-input-9-5c2bae223fd1&gt;</span></a><span style=\"color: #7f7f7f\">:426</span>\n",
       "                    ACC: <span style=\"color: #000080; font-weight: bold\">0.7060790273556231</span>                                                  \n",
       "                                                                                             \n",
       "</pre>\n"
      ],
      "text/plain": [
       "<rich.jupyter.JupyterRenderable at 0x7f1cb4b00b50>"
      ]
     },
     "metadata": {},
     "output_type": "display_data"
    },
    {
     "data": {
      "text/html": [
       "<pre style=\"white-space:pre;overflow-x:auto;line-height:normal;font-family:Menlo,'DejaVu Sans Mono',consolas,'Courier New',monospace\"><span style=\"color: #7fbfbf\">           </span><span style=\"color: #000080\">INFO    </span> EarlyStopping counter: <span style=\"color: #000080; font-weight: bold\">1</span>               <a href=\"file://<ipython-input-9-5c2bae223fd1>\"><span style=\"color: #7f7f7f\">&lt;ipython-input-9-5c2bae223fd1&gt;</span></a><span style=\"color: #7f7f7f\">:434</span>\n",
       "</pre>\n"
      ],
      "text/plain": [
       "<rich.jupyter.JupyterRenderable at 0x7f1cb4b88e50>"
      ]
     },
     "metadata": {},
     "output_type": "display_data"
    },
    {
     "data": {
      "text/html": [
       "<pre style=\"white-space:pre;overflow-x:auto;line-height:normal;font-family:Menlo,'DejaVu Sans Mono',consolas,'Courier New',monospace\"><span style=\"color: #7fbfbf\">           </span><span style=\"color: #000080\">INFO    </span> Start Training: Epoch <span style=\"color: #000080; font-weight: bold\">10</span>               <a href=\"file://<ipython-input-9-5c2bae223fd1>\"><span style=\"color: #7f7f7f\">&lt;ipython-input-9-5c2bae223fd1&gt;</span></a><span style=\"color: #7f7f7f\">:408</span>\n",
       "</pre>\n"
      ],
      "text/plain": [
       "<rich.jupyter.JupyterRenderable at 0x7f1cb4b4db20>"
      ]
     },
     "metadata": {},
     "output_type": "display_data"
    },
    {
     "name": "stdout",
     "output_type": "stream",
     "text": [
      "Training steps: 0 Loss: 0.6999281644821167\n",
      "Training steps: 50 Loss: 0.5503233671188354\n",
      "Training steps: 100 Loss: 0.5078456997871399\n",
      "Training steps: 150 Loss: 0.5061591863632202\n",
      "VALID AUC : 0.7692540807370745 ACC : 0.7077001013171226\n",
      "\n"
     ]
    },
    {
     "data": {
      "text/html": [
       "<pre style=\"white-space:pre;overflow-x:auto;line-height:normal;font-family:Menlo,'DejaVu Sans Mono',consolas,'Courier New',monospace\"><span style=\"color: #7fbfbf\">[06:06:08] </span><span style=\"color: #000080\">INFO    </span> TRAIN_LOSS: <span style=\"color: #000080; font-weight: bold\">0.5658079981803894</span>         <a href=\"file://<ipython-input-9-5c2bae223fd1>\"><span style=\"color: #7f7f7f\">&lt;ipython-input-9-5c2bae223fd1&gt;</span></a><span style=\"color: #7f7f7f\">:424</span>\n",
       "</pre>\n"
      ],
      "text/plain": [
       "<rich.jupyter.JupyterRenderable at 0x7f1cb4ac6880>"
      ]
     },
     "metadata": {},
     "output_type": "display_data"
    },
    {
     "data": {
      "text/html": [
       "<pre style=\"white-space:pre;overflow-x:auto;line-height:normal;font-family:Menlo,'DejaVu Sans Mono',consolas,'Courier New',monospace\"><span style=\"color: #7fbfbf\">           </span><span style=\"color: #000080\">INFO    </span> TRAIN AUC: <span style=\"color: #000080; font-weight: bold\">0.7787876800793854</span> TRAIN    <a href=\"file://<ipython-input-9-5c2bae223fd1>\"><span style=\"color: #7f7f7f\">&lt;ipython-input-9-5c2bae223fd1&gt;</span></a><span style=\"color: #7f7f7f\">:425</span>\n",
       "                    ACC: <span style=\"color: #000080; font-weight: bold\">0.7144594183807883</span>                                                  \n",
       "</pre>\n"
      ],
      "text/plain": [
       "<rich.jupyter.JupyterRenderable at 0x7f1cb4ba98e0>"
      ]
     },
     "metadata": {},
     "output_type": "display_data"
    },
    {
     "data": {
      "text/html": [
       "<pre style=\"white-space:pre;overflow-x:auto;line-height:normal;font-family:Menlo,'DejaVu Sans Mono',consolas,'Courier New',monospace\"><span style=\"color: #7fbfbf\">           </span><span style=\"color: #000080\">INFO    </span> VALID AUC: <span style=\"color: #000080; font-weight: bold\">0.7692540807370745</span> VALID    <a href=\"file://<ipython-input-9-5c2bae223fd1>\"><span style=\"color: #7f7f7f\">&lt;ipython-input-9-5c2bae223fd1&gt;</span></a><span style=\"color: #7f7f7f\">:426</span>\n",
       "                    ACC: <span style=\"color: #000080; font-weight: bold\">0.7077001013171226</span>                                                  \n",
       "                                                                                             \n",
       "</pre>\n"
      ],
      "text/plain": [
       "<rich.jupyter.JupyterRenderable at 0x7f1cb4be7d30>"
      ]
     },
     "metadata": {},
     "output_type": "display_data"
    },
    {
     "data": {
      "text/html": [
       "<pre style=\"white-space:pre;overflow-x:auto;line-height:normal;font-family:Menlo,'DejaVu Sans Mono',consolas,'Courier New',monospace\"><span style=\"color: #7fbfbf\">[06:06:09] </span><span style=\"color: #000080\">INFO    </span> Start Training: Epoch <span style=\"color: #000080; font-weight: bold\">11</span>               <a href=\"file://<ipython-input-9-5c2bae223fd1>\"><span style=\"color: #7f7f7f\">&lt;ipython-input-9-5c2bae223fd1&gt;</span></a><span style=\"color: #7f7f7f\">:408</span>\n",
       "</pre>\n"
      ],
      "text/plain": [
       "<rich.jupyter.JupyterRenderable at 0x7f1cb4b00b50>"
      ]
     },
     "metadata": {},
     "output_type": "display_data"
    },
    {
     "name": "stdout",
     "output_type": "stream",
     "text": [
      "Training steps: 0 Loss: 0.6285519003868103\n",
      "Training steps: 50 Loss: 0.5420950651168823\n",
      "Training steps: 100 Loss: 0.48766908049583435\n",
      "Training steps: 150 Loss: 0.5454977750778198\n",
      "VALID AUC : 0.7694576334548667 ACC : 0.7065856129685917\n",
      "\n"
     ]
    },
    {
     "data": {
      "text/html": [
       "<pre style=\"white-space:pre;overflow-x:auto;line-height:normal;font-family:Menlo,'DejaVu Sans Mono',consolas,'Courier New',monospace\"><span style=\"color: #7fbfbf\">[06:06:13] </span><span style=\"color: #000080\">INFO    </span> TRAIN_LOSS: <span style=\"color: #000080; font-weight: bold\">0.5657742619514465</span>         <a href=\"file://<ipython-input-9-5c2bae223fd1>\"><span style=\"color: #7f7f7f\">&lt;ipython-input-9-5c2bae223fd1&gt;</span></a><span style=\"color: #7f7f7f\">:424</span>\n",
       "</pre>\n"
      ],
      "text/plain": [
       "<rich.jupyter.JupyterRenderable at 0x7f1cb4c62f40>"
      ]
     },
     "metadata": {},
     "output_type": "display_data"
    },
    {
     "data": {
      "text/html": [
       "<pre style=\"white-space:pre;overflow-x:auto;line-height:normal;font-family:Menlo,'DejaVu Sans Mono',consolas,'Courier New',monospace\"><span style=\"color: #7fbfbf\">           </span><span style=\"color: #000080\">INFO    </span> TRAIN AUC: <span style=\"color: #000080; font-weight: bold\">0.7788734683627766</span> TRAIN    <a href=\"file://<ipython-input-9-5c2bae223fd1>\"><span style=\"color: #7f7f7f\">&lt;ipython-input-9-5c2bae223fd1&gt;</span></a><span style=\"color: #7f7f7f\">:425</span>\n",
       "                    ACC: <span style=\"color: #000080; font-weight: bold\">0.7159793292126861</span>                                                  \n",
       "</pre>\n"
      ],
      "text/plain": [
       "<rich.jupyter.JupyterRenderable at 0x7f1cb4ba9cd0>"
      ]
     },
     "metadata": {},
     "output_type": "display_data"
    },
    {
     "data": {
      "text/html": [
       "<pre style=\"white-space:pre;overflow-x:auto;line-height:normal;font-family:Menlo,'DejaVu Sans Mono',consolas,'Courier New',monospace\"><span style=\"color: #7fbfbf\">           </span><span style=\"color: #000080\">INFO    </span> VALID AUC: <span style=\"color: #000080; font-weight: bold\">0.7694576334548667</span> VALID    <a href=\"file://<ipython-input-9-5c2bae223fd1>\"><span style=\"color: #7f7f7f\">&lt;ipython-input-9-5c2bae223fd1&gt;</span></a><span style=\"color: #7f7f7f\">:426</span>\n",
       "                    ACC: <span style=\"color: #000080; font-weight: bold\">0.7065856129685917</span>                                                  \n",
       "                                                                                             \n",
       "</pre>\n"
      ],
      "text/plain": [
       "<rich.jupyter.JupyterRenderable at 0x7f1cb4bd8e50>"
      ]
     },
     "metadata": {},
     "output_type": "display_data"
    },
    {
     "data": {
      "text/html": [
       "<pre style=\"white-space:pre;overflow-x:auto;line-height:normal;font-family:Menlo,'DejaVu Sans Mono',consolas,'Courier New',monospace\"><span style=\"color: #7fbfbf\">           </span><span style=\"color: #000080\">INFO    </span> Start Training: Epoch <span style=\"color: #000080; font-weight: bold\">12</span>               <a href=\"file://<ipython-input-9-5c2bae223fd1>\"><span style=\"color: #7f7f7f\">&lt;ipython-input-9-5c2bae223fd1&gt;</span></a><span style=\"color: #7f7f7f\">:408</span>\n",
       "</pre>\n"
      ],
      "text/plain": [
       "<rich.jupyter.JupyterRenderable at 0x7f1cb4a88d30>"
      ]
     },
     "metadata": {},
     "output_type": "display_data"
    },
    {
     "name": "stdout",
     "output_type": "stream",
     "text": [
      "Training steps: 0 Loss: 0.7043665647506714\n",
      "Training steps: 50 Loss: 0.4715009331703186\n",
      "Training steps: 100 Loss: 0.5665283203125\n",
      "Training steps: 150 Loss: 0.5250775218009949\n",
      "VALID AUC : 0.7693550767284083 ACC : 0.7068895643363728\n",
      "\n"
     ]
    },
    {
     "data": {
      "text/html": [
       "<pre style=\"white-space:pre;overflow-x:auto;line-height:normal;font-family:Menlo,'DejaVu Sans Mono',consolas,'Courier New',monospace\"><span style=\"color: #7fbfbf\">[06:06:18] </span><span style=\"color: #000080\">INFO    </span> TRAIN_LOSS: <span style=\"color: #000080; font-weight: bold\">0.5657581686973572</span>         <a href=\"file://<ipython-input-9-5c2bae223fd1>\"><span style=\"color: #7f7f7f\">&lt;ipython-input-9-5c2bae223fd1&gt;</span></a><span style=\"color: #7f7f7f\">:424</span>\n",
       "</pre>\n"
      ],
      "text/plain": [
       "<rich.jupyter.JupyterRenderable at 0x7f1cb4c62c70>"
      ]
     },
     "metadata": {},
     "output_type": "display_data"
    },
    {
     "data": {
      "text/html": [
       "<pre style=\"white-space:pre;overflow-x:auto;line-height:normal;font-family:Menlo,'DejaVu Sans Mono',consolas,'Courier New',monospace\"><span style=\"color: #7fbfbf\">           </span><span style=\"color: #000080\">INFO    </span> TRAIN AUC: <span style=\"color: #000080; font-weight: bold\">0.7792590636882684</span> TRAIN    <a href=\"file://<ipython-input-9-5c2bae223fd1>\"><span style=\"color: #7f7f7f\">&lt;ipython-input-9-5c2bae223fd1&gt;</span></a><span style=\"color: #7f7f7f\">:425</span>\n",
       "                    ACC: <span style=\"color: #000080; font-weight: bold\">0.7156753470463066</span>                                                  \n",
       "</pre>\n"
      ],
      "text/plain": [
       "<rich.jupyter.JupyterRenderable at 0x7f1cb4b4da00>"
      ]
     },
     "metadata": {},
     "output_type": "display_data"
    },
    {
     "data": {
      "text/html": [
       "<pre style=\"white-space:pre;overflow-x:auto;line-height:normal;font-family:Menlo,'DejaVu Sans Mono',consolas,'Courier New',monospace\"><span style=\"color: #7fbfbf\">           </span><span style=\"color: #000080\">INFO    </span> VALID AUC: <span style=\"color: #000080; font-weight: bold\">0.7693550767284083</span> VALID    <a href=\"file://<ipython-input-9-5c2bae223fd1>\"><span style=\"color: #7f7f7f\">&lt;ipython-input-9-5c2bae223fd1&gt;</span></a><span style=\"color: #7f7f7f\">:426</span>\n",
       "                    ACC: <span style=\"color: #000080; font-weight: bold\">0.7068895643363728</span>                                                  \n",
       "                                                                                             \n",
       "</pre>\n"
      ],
      "text/plain": [
       "<rich.jupyter.JupyterRenderable at 0x7f1cb4b003a0>"
      ]
     },
     "metadata": {},
     "output_type": "display_data"
    },
    {
     "data": {
      "text/html": [
       "<pre style=\"white-space:pre;overflow-x:auto;line-height:normal;font-family:Menlo,'DejaVu Sans Mono',consolas,'Courier New',monospace\"><span style=\"color: #7fbfbf\">           </span><span style=\"color: #000080\">INFO    </span> EarlyStopping counter: <span style=\"color: #000080; font-weight: bold\">1</span>               <a href=\"file://<ipython-input-9-5c2bae223fd1>\"><span style=\"color: #7f7f7f\">&lt;ipython-input-9-5c2bae223fd1&gt;</span></a><span style=\"color: #7f7f7f\">:434</span>\n",
       "</pre>\n"
      ],
      "text/plain": [
       "<rich.jupyter.JupyterRenderable at 0x7f1cb4be7d30>"
      ]
     },
     "metadata": {},
     "output_type": "display_data"
    },
    {
     "data": {
      "text/html": [
       "<pre style=\"white-space:pre;overflow-x:auto;line-height:normal;font-family:Menlo,'DejaVu Sans Mono',consolas,'Courier New',monospace\"><span style=\"color: #7fbfbf\">           </span><span style=\"color: #000080\">INFO    </span> Start Training: Epoch <span style=\"color: #000080; font-weight: bold\">13</span>               <a href=\"file://<ipython-input-9-5c2bae223fd1>\"><span style=\"color: #7f7f7f\">&lt;ipython-input-9-5c2bae223fd1&gt;</span></a><span style=\"color: #7f7f7f\">:408</span>\n",
       "</pre>\n"
      ],
      "text/plain": [
       "<rich.jupyter.JupyterRenderable at 0x7f1cb4a88f40>"
      ]
     },
     "metadata": {},
     "output_type": "display_data"
    },
    {
     "name": "stdout",
     "output_type": "stream",
     "text": [
      "Training steps: 0 Loss: 0.5464432239532471\n",
      "Training steps: 50 Loss: 0.5235557556152344\n",
      "Training steps: 100 Loss: 0.5870537757873535\n",
      "Training steps: 150 Loss: 0.6034534573554993\n",
      "VALID AUC : 0.7695822663689388 ACC : 0.707193515704154\n",
      "\n"
     ]
    },
    {
     "data": {
      "text/html": [
       "<pre style=\"white-space:pre;overflow-x:auto;line-height:normal;font-family:Menlo,'DejaVu Sans Mono',consolas,'Courier New',monospace\"><span style=\"color: #7fbfbf\">[06:06:22] </span><span style=\"color: #000080\">INFO    </span> TRAIN_LOSS: <span style=\"color: #000080; font-weight: bold\">0.566968560218811</span>          <a href=\"file://<ipython-input-9-5c2bae223fd1>\"><span style=\"color: #7f7f7f\">&lt;ipython-input-9-5c2bae223fd1&gt;</span></a><span style=\"color: #7f7f7f\">:424</span>\n",
       "</pre>\n"
      ],
      "text/plain": [
       "<rich.jupyter.JupyterRenderable at 0x7f1cb4ba96a0>"
      ]
     },
     "metadata": {},
     "output_type": "display_data"
    },
    {
     "data": {
      "text/html": [
       "<pre style=\"white-space:pre;overflow-x:auto;line-height:normal;font-family:Menlo,'DejaVu Sans Mono',consolas,'Courier New',monospace\"><span style=\"color: #7fbfbf\">           </span><span style=\"color: #000080\">INFO    </span> TRAIN AUC: <span style=\"color: #000080; font-weight: bold\">0.7785048827831297</span> TRAIN    <a href=\"file://<ipython-input-9-5c2bae223fd1>\"><span style=\"color: #7f7f7f\">&lt;ipython-input-9-5c2bae223fd1&gt;</span></a><span style=\"color: #7f7f7f\">:425</span>\n",
       "                    ACC: <span style=\"color: #000080; font-weight: bold\">0.7146620731583747</span>                                                  \n",
       "</pre>\n"
      ],
      "text/plain": [
       "<rich.jupyter.JupyterRenderable at 0x7f1cb4b4df40>"
      ]
     },
     "metadata": {},
     "output_type": "display_data"
    },
    {
     "data": {
      "text/html": [
       "<pre style=\"white-space:pre;overflow-x:auto;line-height:normal;font-family:Menlo,'DejaVu Sans Mono',consolas,'Courier New',monospace\"><span style=\"color: #7fbfbf\">           </span><span style=\"color: #000080\">INFO    </span> VALID AUC: <span style=\"color: #000080; font-weight: bold\">0.7695822663689388</span> VALID    <a href=\"file://<ipython-input-9-5c2bae223fd1>\"><span style=\"color: #7f7f7f\">&lt;ipython-input-9-5c2bae223fd1&gt;</span></a><span style=\"color: #7f7f7f\">:426</span>\n",
       "                    ACC: <span style=\"color: #000080; font-weight: bold\">0.707193515704154</span>                                                   \n",
       "                                                                                             \n",
       "</pre>\n"
      ],
      "text/plain": [
       "<rich.jupyter.JupyterRenderable at 0x7f1cb4c62f40>"
      ]
     },
     "metadata": {},
     "output_type": "display_data"
    },
    {
     "data": {
      "text/html": [
       "<pre style=\"white-space:pre;overflow-x:auto;line-height:normal;font-family:Menlo,'DejaVu Sans Mono',consolas,'Courier New',monospace\"><span style=\"color: #7fbfbf\">           </span><span style=\"color: #000080\">INFO    </span> Start Training: Epoch <span style=\"color: #000080; font-weight: bold\">14</span>               <a href=\"file://<ipython-input-9-5c2bae223fd1>\"><span style=\"color: #7f7f7f\">&lt;ipython-input-9-5c2bae223fd1&gt;</span></a><span style=\"color: #7f7f7f\">:408</span>\n",
       "</pre>\n"
      ],
      "text/plain": [
       "<rich.jupyter.JupyterRenderable at 0x7f1cb4b12820>"
      ]
     },
     "metadata": {},
     "output_type": "display_data"
    },
    {
     "name": "stdout",
     "output_type": "stream",
     "text": [
      "Training steps: 0 Loss: 0.5449433326721191\n",
      "Training steps: 50 Loss: 0.5335748791694641\n",
      "Training steps: 100 Loss: 0.5351054668426514\n",
      "Training steps: 150 Loss: 0.6496914029121399\n",
      "VALID AUC : 0.7690167257822477 ACC : 0.705775075987842\n",
      "\n"
     ]
    },
    {
     "data": {
      "text/html": [
       "<pre style=\"white-space:pre;overflow-x:auto;line-height:normal;font-family:Menlo,'DejaVu Sans Mono',consolas,'Courier New',monospace\"><span style=\"color: #7fbfbf\">[06:06:27] </span><span style=\"color: #000080\">INFO    </span> TRAIN_LOSS: <span style=\"color: #000080; font-weight: bold\">0.5657524466514587</span>         <a href=\"file://<ipython-input-9-5c2bae223fd1>\"><span style=\"color: #7f7f7f\">&lt;ipython-input-9-5c2bae223fd1&gt;</span></a><span style=\"color: #7f7f7f\">:424</span>\n",
       "</pre>\n"
      ],
      "text/plain": [
       "<rich.jupyter.JupyterRenderable at 0x7f1cb4b4d4c0>"
      ]
     },
     "metadata": {},
     "output_type": "display_data"
    },
    {
     "data": {
      "text/html": [
       "<pre style=\"white-space:pre;overflow-x:auto;line-height:normal;font-family:Menlo,'DejaVu Sans Mono',consolas,'Courier New',monospace\"><span style=\"color: #7fbfbf\">           </span><span style=\"color: #000080\">INFO    </span> TRAIN AUC: <span style=\"color: #000080; font-weight: bold\">0.7796277108974292</span> TRAIN    <a href=\"file://<ipython-input-9-5c2bae223fd1>\"><span style=\"color: #7f7f7f\">&lt;ipython-input-9-5c2bae223fd1&gt;</span></a><span style=\"color: #7f7f7f\">:425</span>\n",
       "                    ACC: <span style=\"color: #000080; font-weight: bold\">0.7151687101023406</span>                                                  \n",
       "</pre>\n"
      ],
      "text/plain": [
       "<rich.jupyter.JupyterRenderable at 0x7f1cb4b7ab80>"
      ]
     },
     "metadata": {},
     "output_type": "display_data"
    },
    {
     "data": {
      "text/html": [
       "<pre style=\"white-space:pre;overflow-x:auto;line-height:normal;font-family:Menlo,'DejaVu Sans Mono',consolas,'Courier New',monospace\"><span style=\"color: #7fbfbf\">           </span><span style=\"color: #000080\">INFO    </span> VALID AUC: <span style=\"color: #000080; font-weight: bold\">0.7690167257822477</span> VALID    <a href=\"file://<ipython-input-9-5c2bae223fd1>\"><span style=\"color: #7f7f7f\">&lt;ipython-input-9-5c2bae223fd1&gt;</span></a><span style=\"color: #7f7f7f\">:426</span>\n",
       "                    ACC: <span style=\"color: #000080; font-weight: bold\">0.705775075987842</span>                                                   \n",
       "                                                                                             \n",
       "</pre>\n"
      ],
      "text/plain": [
       "<rich.jupyter.JupyterRenderable at 0x7f1cb4b12820>"
      ]
     },
     "metadata": {},
     "output_type": "display_data"
    },
    {
     "data": {
      "text/html": [
       "<pre style=\"white-space:pre;overflow-x:auto;line-height:normal;font-family:Menlo,'DejaVu Sans Mono',consolas,'Courier New',monospace\"><span style=\"color: #7fbfbf\">           </span><span style=\"color: #000080\">INFO    </span> EarlyStopping counter: <span style=\"color: #000080; font-weight: bold\">1</span>               <a href=\"file://<ipython-input-9-5c2bae223fd1>\"><span style=\"color: #7f7f7f\">&lt;ipython-input-9-5c2bae223fd1&gt;</span></a><span style=\"color: #7f7f7f\">:434</span>\n",
       "</pre>\n"
      ],
      "text/plain": [
       "<rich.jupyter.JupyterRenderable at 0x7f1cb4b003a0>"
      ]
     },
     "metadata": {},
     "output_type": "display_data"
    },
    {
     "data": {
      "text/html": [
       "<pre style=\"white-space:pre;overflow-x:auto;line-height:normal;font-family:Menlo,'DejaVu Sans Mono',consolas,'Courier New',monospace\"><span style=\"color: #7fbfbf\">           </span><span style=\"color: #000080\">INFO    </span> Start Training: Epoch <span style=\"color: #000080; font-weight: bold\">15</span>               <a href=\"file://<ipython-input-9-5c2bae223fd1>\"><span style=\"color: #7f7f7f\">&lt;ipython-input-9-5c2bae223fd1&gt;</span></a><span style=\"color: #7f7f7f\">:408</span>\n",
       "</pre>\n"
      ],
      "text/plain": [
       "<rich.jupyter.JupyterRenderable at 0x7f1cb4ab91f0>"
      ]
     },
     "metadata": {},
     "output_type": "display_data"
    },
    {
     "name": "stdout",
     "output_type": "stream",
     "text": [
      "Training steps: 0 Loss: 0.6459300518035889\n",
      "Training steps: 50 Loss: 0.5506805777549744\n",
      "Training steps: 100 Loss: 0.5701553225517273\n",
      "Training steps: 150 Loss: 0.49873659014701843\n",
      "VALID AUC : 0.7684054515492166 ACC : 0.7067882472137791\n",
      "\n"
     ]
    },
    {
     "data": {
      "text/html": [
       "<pre style=\"white-space:pre;overflow-x:auto;line-height:normal;font-family:Menlo,'DejaVu Sans Mono',consolas,'Courier New',monospace\"><span style=\"color: #7fbfbf\">[06:06:31] </span><span style=\"color: #000080\">INFO    </span> TRAIN_LOSS: <span style=\"color: #000080; font-weight: bold\">0.5658601522445679</span>         <a href=\"file://<ipython-input-9-5c2bae223fd1>\"><span style=\"color: #7f7f7f\">&lt;ipython-input-9-5c2bae223fd1&gt;</span></a><span style=\"color: #7f7f7f\">:424</span>\n",
       "</pre>\n"
      ],
      "text/plain": [
       "<rich.jupyter.JupyterRenderable at 0x7f1cb4a88820>"
      ]
     },
     "metadata": {},
     "output_type": "display_data"
    },
    {
     "data": {
      "text/html": [
       "<pre style=\"white-space:pre;overflow-x:auto;line-height:normal;font-family:Menlo,'DejaVu Sans Mono',consolas,'Courier New',monospace\"><span style=\"color: #7fbfbf\">           </span><span style=\"color: #000080\">INFO    </span> TRAIN AUC: <span style=\"color: #000080; font-weight: bold\">0.7795620549219219</span> TRAIN    <a href=\"file://<ipython-input-9-5c2bae223fd1>\"><span style=\"color: #7f7f7f\">&lt;ipython-input-9-5c2bae223fd1&gt;</span></a><span style=\"color: #7f7f7f\">:425</span>\n",
       "                    ACC: <span style=\"color: #000080; font-weight: bold\">0.7157766744350998</span>                                                  \n",
       "</pre>\n"
      ],
      "text/plain": [
       "<rich.jupyter.JupyterRenderable at 0x7f1cb4ac66d0>"
      ]
     },
     "metadata": {},
     "output_type": "display_data"
    },
    {
     "data": {
      "text/html": [
       "<pre style=\"white-space:pre;overflow-x:auto;line-height:normal;font-family:Menlo,'DejaVu Sans Mono',consolas,'Courier New',monospace\"><span style=\"color: #7fbfbf\">           </span><span style=\"color: #000080\">INFO    </span> VALID AUC: <span style=\"color: #000080; font-weight: bold\">0.7684054515492166</span> VALID    <a href=\"file://<ipython-input-9-5c2bae223fd1>\"><span style=\"color: #7f7f7f\">&lt;ipython-input-9-5c2bae223fd1&gt;</span></a><span style=\"color: #7f7f7f\">:426</span>\n",
       "                    ACC: <span style=\"color: #000080; font-weight: bold\">0.7067882472137791</span>                                                  \n",
       "                                                                                             \n",
       "</pre>\n"
      ],
      "text/plain": [
       "<rich.jupyter.JupyterRenderable at 0x7f1cb4ac6880>"
      ]
     },
     "metadata": {},
     "output_type": "display_data"
    },
    {
     "data": {
      "text/html": [
       "<pre style=\"white-space:pre;overflow-x:auto;line-height:normal;font-family:Menlo,'DejaVu Sans Mono',consolas,'Courier New',monospace\"><span style=\"color: #7fbfbf\">           </span><span style=\"color: #000080\">INFO    </span> EarlyStopping counter: <span style=\"color: #000080; font-weight: bold\">2</span>               <a href=\"file://<ipython-input-9-5c2bae223fd1>\"><span style=\"color: #7f7f7f\">&lt;ipython-input-9-5c2bae223fd1&gt;</span></a><span style=\"color: #7f7f7f\">:434</span>\n",
       "</pre>\n"
      ],
      "text/plain": [
       "<rich.jupyter.JupyterRenderable at 0x7f1cb4a881f0>"
      ]
     },
     "metadata": {},
     "output_type": "display_data"
    },
    {
     "data": {
      "text/html": [
       "<pre style=\"white-space:pre;overflow-x:auto;line-height:normal;font-family:Menlo,'DejaVu Sans Mono',consolas,'Courier New',monospace\"><span style=\"color: #7fbfbf\">           </span><span style=\"color: #000080\">INFO    </span> Start Training: Epoch <span style=\"color: #000080; font-weight: bold\">16</span>               <a href=\"file://<ipython-input-9-5c2bae223fd1>\"><span style=\"color: #7f7f7f\">&lt;ipython-input-9-5c2bae223fd1&gt;</span></a><span style=\"color: #7f7f7f\">:408</span>\n",
       "</pre>\n"
      ],
      "text/plain": [
       "<rich.jupyter.JupyterRenderable at 0x7f1cb4a88820>"
      ]
     },
     "metadata": {},
     "output_type": "display_data"
    },
    {
     "name": "stdout",
     "output_type": "stream",
     "text": [
      "Training steps: 0 Loss: 0.5293064713478088\n",
      "Training steps: 50 Loss: 0.5559449791908264\n",
      "Training steps: 100 Loss: 0.5682984590530396\n",
      "Training steps: 150 Loss: 0.49361392855644226\n",
      "VALID AUC : 0.767981198563253 ACC : 0.7073961499493414\n",
      "\n"
     ]
    },
    {
     "data": {
      "text/html": [
       "<pre style=\"white-space:pre;overflow-x:auto;line-height:normal;font-family:Menlo,'DejaVu Sans Mono',consolas,'Courier New',monospace\"><span style=\"color: #7fbfbf\">[06:06:36] </span><span style=\"color: #000080\">INFO    </span> TRAIN_LOSS: <span style=\"color: #000080; font-weight: bold\">0.5669553279876709</span>         <a href=\"file://<ipython-input-9-5c2bae223fd1>\"><span style=\"color: #7f7f7f\">&lt;ipython-input-9-5c2bae223fd1&gt;</span></a><span style=\"color: #7f7f7f\">:424</span>\n",
       "</pre>\n"
      ],
      "text/plain": [
       "<rich.jupyter.JupyterRenderable at 0x7f1cb4be7b50>"
      ]
     },
     "metadata": {},
     "output_type": "display_data"
    },
    {
     "data": {
      "text/html": [
       "<pre style=\"white-space:pre;overflow-x:auto;line-height:normal;font-family:Menlo,'DejaVu Sans Mono',consolas,'Courier New',monospace\"><span style=\"color: #7fbfbf\">           </span><span style=\"color: #000080\">INFO    </span> TRAIN AUC: <span style=\"color: #000080; font-weight: bold\">0.7783051826148236</span> TRAIN    <a href=\"file://<ipython-input-9-5c2bae223fd1>\"><span style=\"color: #7f7f7f\">&lt;ipython-input-9-5c2bae223fd1&gt;</span></a><span style=\"color: #7f7f7f\">:425</span>\n",
       "                    ACC: <span style=\"color: #000080; font-weight: bold\">0.7148647279359611</span>                                                  \n",
       "</pre>\n"
      ],
      "text/plain": [
       "<rich.jupyter.JupyterRenderable at 0x7f1cb4b69cd0>"
      ]
     },
     "metadata": {},
     "output_type": "display_data"
    },
    {
     "data": {
      "text/html": [
       "<pre style=\"white-space:pre;overflow-x:auto;line-height:normal;font-family:Menlo,'DejaVu Sans Mono',consolas,'Courier New',monospace\"><span style=\"color: #7fbfbf\">           </span><span style=\"color: #000080\">INFO    </span> VALID AUC: <span style=\"color: #000080; font-weight: bold\">0.767981198563253</span> VALID     <a href=\"file://<ipython-input-9-5c2bae223fd1>\"><span style=\"color: #7f7f7f\">&lt;ipython-input-9-5c2bae223fd1&gt;</span></a><span style=\"color: #7f7f7f\">:426</span>\n",
       "                    ACC: <span style=\"color: #000080; font-weight: bold\">0.7073961499493414</span>                                                  \n",
       "                                                                                             \n",
       "</pre>\n"
      ],
      "text/plain": [
       "<rich.jupyter.JupyterRenderable at 0x7f1cb4a56130>"
      ]
     },
     "metadata": {},
     "output_type": "display_data"
    },
    {
     "data": {
      "text/html": [
       "<pre style=\"white-space:pre;overflow-x:auto;line-height:normal;font-family:Menlo,'DejaVu Sans Mono',consolas,'Courier New',monospace\"><span style=\"color: #7fbfbf\">           </span><span style=\"color: #000080\">INFO    </span> EarlyStopping counter: <span style=\"color: #000080; font-weight: bold\">3</span>               <a href=\"file://<ipython-input-9-5c2bae223fd1>\"><span style=\"color: #7f7f7f\">&lt;ipython-input-9-5c2bae223fd1&gt;</span></a><span style=\"color: #7f7f7f\">:434</span>\n",
       "</pre>\n"
      ],
      "text/plain": [
       "<rich.jupyter.JupyterRenderable at 0x7f1cb4a568e0>"
      ]
     },
     "metadata": {},
     "output_type": "display_data"
    },
    {
     "data": {
      "text/html": [
       "<pre style=\"white-space:pre;overflow-x:auto;line-height:normal;font-family:Menlo,'DejaVu Sans Mono',consolas,'Courier New',monospace\"><span style=\"color: #7fbfbf\">           </span><span style=\"color: #000080\">INFO    </span> Start Training: Epoch <span style=\"color: #000080; font-weight: bold\">17</span>               <a href=\"file://<ipython-input-9-5c2bae223fd1>\"><span style=\"color: #7f7f7f\">&lt;ipython-input-9-5c2bae223fd1&gt;</span></a><span style=\"color: #7f7f7f\">:408</span>\n",
       "</pre>\n"
      ],
      "text/plain": [
       "<rich.jupyter.JupyterRenderable at 0x7f1cb4ac66d0>"
      ]
     },
     "metadata": {},
     "output_type": "display_data"
    },
    {
     "name": "stdout",
     "output_type": "stream",
     "text": [
      "Training steps: 0 Loss: 0.5432067513465881\n",
      "Training steps: 50 Loss: 0.6235931515693665\n",
      "Training steps: 100 Loss: 0.4975557029247284\n",
      "Training steps: 150 Loss: 0.5805210471153259\n",
      "VALID AUC : 0.7691650366910345 ACC : 0.7066869300911854\n",
      "\n"
     ]
    },
    {
     "data": {
      "text/html": [
       "<pre style=\"white-space:pre;overflow-x:auto;line-height:normal;font-family:Menlo,'DejaVu Sans Mono',consolas,'Courier New',monospace\"><span style=\"color: #7fbfbf\">[06:06:41] </span><span style=\"color: #000080\">INFO    </span> TRAIN_LOSS: <span style=\"color: #000080; font-weight: bold\">0.5663149356842041</span>         <a href=\"file://<ipython-input-9-5c2bae223fd1>\"><span style=\"color: #7f7f7f\">&lt;ipython-input-9-5c2bae223fd1&gt;</span></a><span style=\"color: #7f7f7f\">:424</span>\n",
       "</pre>\n"
      ],
      "text/plain": [
       "<rich.jupyter.JupyterRenderable at 0x7f1cb4bd8e20>"
      ]
     },
     "metadata": {},
     "output_type": "display_data"
    },
    {
     "data": {
      "text/html": [
       "<pre style=\"white-space:pre;overflow-x:auto;line-height:normal;font-family:Menlo,'DejaVu Sans Mono',consolas,'Courier New',monospace\"><span style=\"color: #7fbfbf\">           </span><span style=\"color: #000080\">INFO    </span> TRAIN AUC: <span style=\"color: #000080; font-weight: bold\">0.7787355415106002</span> TRAIN    <a href=\"file://<ipython-input-9-5c2bae223fd1>\"><span style=\"color: #7f7f7f\">&lt;ipython-input-9-5c2bae223fd1&gt;</span></a><span style=\"color: #7f7f7f\">:425</span>\n",
       "                    ACC: <span style=\"color: #000080; font-weight: bold\">0.7128381801600973</span>                                                  \n",
       "</pre>\n"
      ],
      "text/plain": [
       "<rich.jupyter.JupyterRenderable at 0x7f1cb4ab9a00>"
      ]
     },
     "metadata": {},
     "output_type": "display_data"
    },
    {
     "data": {
      "text/html": [
       "<pre style=\"white-space:pre;overflow-x:auto;line-height:normal;font-family:Menlo,'DejaVu Sans Mono',consolas,'Courier New',monospace\"><span style=\"color: #7fbfbf\">           </span><span style=\"color: #000080\">INFO    </span> VALID AUC: <span style=\"color: #000080; font-weight: bold\">0.7691650366910345</span> VALID    <a href=\"file://<ipython-input-9-5c2bae223fd1>\"><span style=\"color: #7f7f7f\">&lt;ipython-input-9-5c2bae223fd1&gt;</span></a><span style=\"color: #7f7f7f\">:426</span>\n",
       "                    ACC: <span style=\"color: #000080; font-weight: bold\">0.7066869300911854</span>                                                  \n",
       "                                                                                             \n",
       "</pre>\n"
      ],
      "text/plain": [
       "<rich.jupyter.JupyterRenderable at 0x7f1cb4ab9100>"
      ]
     },
     "metadata": {},
     "output_type": "display_data"
    },
    {
     "data": {
      "text/html": [
       "<pre style=\"white-space:pre;overflow-x:auto;line-height:normal;font-family:Menlo,'DejaVu Sans Mono',consolas,'Courier New',monospace\"><span style=\"color: #7fbfbf\">           </span><span style=\"color: #000080\">INFO    </span> EarlyStopping counter: <span style=\"color: #000080; font-weight: bold\">4</span>               <a href=\"file://<ipython-input-9-5c2bae223fd1>\"><span style=\"color: #7f7f7f\">&lt;ipython-input-9-5c2bae223fd1&gt;</span></a><span style=\"color: #7f7f7f\">:434</span>\n",
       "</pre>\n"
      ],
      "text/plain": [
       "<rich.jupyter.JupyterRenderable at 0x7f1cb4b88bb0>"
      ]
     },
     "metadata": {},
     "output_type": "display_data"
    },
    {
     "data": {
      "text/html": [
       "<pre style=\"white-space:pre;overflow-x:auto;line-height:normal;font-family:Menlo,'DejaVu Sans Mono',consolas,'Courier New',monospace\"><span style=\"color: #7fbfbf\">           </span><span style=\"color: #000080\">INFO    </span> Start Training: Epoch <span style=\"color: #000080; font-weight: bold\">18</span>               <a href=\"file://<ipython-input-9-5c2bae223fd1>\"><span style=\"color: #7f7f7f\">&lt;ipython-input-9-5c2bae223fd1&gt;</span></a><span style=\"color: #7f7f7f\">:408</span>\n",
       "</pre>\n"
      ],
      "text/plain": [
       "<rich.jupyter.JupyterRenderable at 0x7f1cb4ac66d0>"
      ]
     },
     "metadata": {},
     "output_type": "display_data"
    },
    {
     "name": "stdout",
     "output_type": "stream",
     "text": [
      "Training steps: 0 Loss: 0.49574148654937744\n",
      "Training steps: 50 Loss: 0.5355111360549927\n",
      "Training steps: 100 Loss: 0.5569016337394714\n",
      "Training steps: 150 Loss: 0.5846492648124695\n",
      "VALID AUC : 0.76827993558764 ACC : 0.7087132725430598\n",
      "\n"
     ]
    },
    {
     "data": {
      "text/html": [
       "<pre style=\"white-space:pre;overflow-x:auto;line-height:normal;font-family:Menlo,'DejaVu Sans Mono',consolas,'Courier New',monospace\"><span style=\"color: #7fbfbf\">[06:06:45] </span><span style=\"color: #000080\">INFO    </span> TRAIN_LOSS: <span style=\"color: #000080; font-weight: bold\">0.5663138628005981</span>         <a href=\"file://<ipython-input-9-5c2bae223fd1>\"><span style=\"color: #7f7f7f\">&lt;ipython-input-9-5c2bae223fd1&gt;</span></a><span style=\"color: #7f7f7f\">:424</span>\n",
       "</pre>\n"
      ],
      "text/plain": [
       "<rich.jupyter.JupyterRenderable at 0x7f1cb4be71c0>"
      ]
     },
     "metadata": {},
     "output_type": "display_data"
    },
    {
     "data": {
      "text/html": [
       "<pre style=\"white-space:pre;overflow-x:auto;line-height:normal;font-family:Menlo,'DejaVu Sans Mono',consolas,'Courier New',monospace\"><span style=\"color: #7fbfbf\">           </span><span style=\"color: #000080\">INFO    </span> TRAIN AUC: <span style=\"color: #000080; font-weight: bold\">0.7789718906965237</span> TRAIN    <a href=\"file://<ipython-input-9-5c2bae223fd1>\"><span style=\"color: #7f7f7f\">&lt;ipython-input-9-5c2bae223fd1&gt;</span></a><span style=\"color: #7f7f7f\">:425</span>\n",
       "                    ACC: <span style=\"color: #000080; font-weight: bold\">0.712736852771304</span>                                                   \n",
       "</pre>\n"
      ],
      "text/plain": [
       "<rich.jupyter.JupyterRenderable at 0x7f1cb4be7040>"
      ]
     },
     "metadata": {},
     "output_type": "display_data"
    },
    {
     "data": {
      "text/html": [
       "<pre style=\"white-space:pre;overflow-x:auto;line-height:normal;font-family:Menlo,'DejaVu Sans Mono',consolas,'Courier New',monospace\"><span style=\"color: #7fbfbf\">           </span><span style=\"color: #000080\">INFO    </span> VALID AUC: <span style=\"color: #000080; font-weight: bold\">0.76827993558764</span> VALID ACC: <a href=\"file://<ipython-input-9-5c2bae223fd1>\"><span style=\"color: #7f7f7f\">&lt;ipython-input-9-5c2bae223fd1&gt;</span></a><span style=\"color: #7f7f7f\">:426</span>\n",
       "                    <span style=\"color: #000080; font-weight: bold\">0.7087132725430598</span>                                                       \n",
       "                                                                                             \n",
       "</pre>\n"
      ],
      "text/plain": [
       "<rich.jupyter.JupyterRenderable at 0x7f1cb4b12ac0>"
      ]
     },
     "metadata": {},
     "output_type": "display_data"
    },
    {
     "data": {
      "text/html": [
       "<pre style=\"white-space:pre;overflow-x:auto;line-height:normal;font-family:Menlo,'DejaVu Sans Mono',consolas,'Courier New',monospace\"><span style=\"color: #7fbfbf\">           </span><span style=\"color: #000080\">INFO    </span> EarlyStopping counter: <span style=\"color: #000080; font-weight: bold\">5</span>               <a href=\"file://<ipython-input-9-5c2bae223fd1>\"><span style=\"color: #7f7f7f\">&lt;ipython-input-9-5c2bae223fd1&gt;</span></a><span style=\"color: #7f7f7f\">:434</span>\n",
       "</pre>\n"
      ],
      "text/plain": [
       "<rich.jupyter.JupyterRenderable at 0x7f1cb4b88f10>"
      ]
     },
     "metadata": {},
     "output_type": "display_data"
    },
    {
     "data": {
      "text/html": [
       "<pre style=\"white-space:pre;overflow-x:auto;line-height:normal;font-family:Menlo,'DejaVu Sans Mono',consolas,'Courier New',monospace\"><span style=\"color: #7fbfbf\">           </span><span style=\"color: #000080\">INFO    </span> EarlyStopping counter: <span style=\"color: #000080; font-weight: bold\">5</span> out of <span style=\"color: #000080; font-weight: bold\">5</span>      <a href=\"file://<ipython-input-9-5c2bae223fd1>\"><span style=\"color: #7f7f7f\">&lt;ipython-input-9-5c2bae223fd1&gt;</span></a><span style=\"color: #7f7f7f\">:436</span>\n",
       "</pre>\n"
      ],
      "text/plain": [
       "<rich.jupyter.JupyterRenderable at 0x7f1cb4be7b50>"
      ]
     },
     "metadata": {},
     "output_type": "display_data"
    },
    {
     "data": {
      "text/html": [
       "Finishing last run (ID:2r143od4) before initializing another..."
      ],
      "text/plain": [
       "<IPython.core.display.HTML object>"
      ]
     },
     "metadata": {},
     "output_type": "display_data"
    },
    {
     "data": {
      "text/html": [
       "<br/>Waiting for W&B process to finish, PID 24934<br/>Program ended successfully."
      ],
      "text/plain": [
       "<IPython.core.display.HTML object>"
      ]
     },
     "metadata": {},
     "output_type": "display_data"
    },
    {
     "data": {
      "application/vnd.jupyter.widget-view+json": {
       "model_id": "3d6a22d6231d410d9f20a4d531724019",
       "version_major": 2,
       "version_minor": 0
      },
      "text/plain": [
       "VBox(children=(Label(value=' 2.23MB of 2.23MB uploaded (0.00MB deduped)\\r'), FloatProgress(value=1.0, max=1.0)…"
      ]
     },
     "metadata": {},
     "output_type": "display_data"
    },
    {
     "data": {
      "text/html": [
       "Find user logs for this run at: <code>/home/j-gunmo/desktop/00.my-project/17.P-Stage-T1003/4-STAGE/notebook/wandb/run-20210608_060520-2r143od4/logs/debug.log</code>"
      ],
      "text/plain": [
       "<IPython.core.display.HTML object>"
      ]
     },
     "metadata": {},
     "output_type": "display_data"
    },
    {
     "data": {
      "text/html": [
       "Find internal logs for this run at: <code>/home/j-gunmo/desktop/00.my-project/17.P-Stage-T1003/4-STAGE/notebook/wandb/run-20210608_060520-2r143od4/logs/debug-internal.log</code>"
      ],
      "text/plain": [
       "<IPython.core.display.HTML object>"
      ]
     },
     "metadata": {},
     "output_type": "display_data"
    },
    {
     "data": {
      "text/html": [
       "<h3>Run summary:</h3><br/><style>\n",
       "    table.wandb td:nth-child(1) { padding: 0 10px; text-align: right }\n",
       "    </style><table class=\"wandb\">\n",
       "<tr><td>step_train_loss</td><td>0.58465</td></tr><tr><td>_runtime</td><td>82</td></tr><tr><td>_timestamp</td><td>1623100005</td></tr><tr><td>_step</td><td>89</td></tr><tr><td>epoch</td><td>17</td></tr><tr><td>train_loss</td><td>0.56631</td></tr><tr><td>train_auc</td><td>0.77897</td></tr><tr><td>train_acc</td><td>0.71274</td></tr><tr><td>valid_auc</td><td>0.76828</td></tr><tr><td>valid_acc</td><td>0.70871</td></tr></table>"
      ],
      "text/plain": [
       "<IPython.core.display.HTML object>"
      ]
     },
     "metadata": {},
     "output_type": "display_data"
    },
    {
     "data": {
      "text/html": [
       "<h3>Run history:</h3><br/><style>\n",
       "    table.wandb td:nth-child(1) { padding: 0 10px; text-align: right }\n",
       "    </style><table class=\"wandb\">\n",
       "<tr><td>step_train_loss</td><td>█▇▅▄▃▄▁▃▃▆▆▃▄▄▄▆▄▅▅▃█▂▆▃▃▁▃▃▅▃▃▆▄▃▄▂▆▄▃▄</td></tr><tr><td>_runtime</td><td>▁▁▁▁▂▂▂▂▂▂▃▃▃▃▃▄▄▄▄▄▅▅▅▅▅▅▆▆▆▆▆▆▇▇▇▇▇███</td></tr><tr><td>_timestamp</td><td>▁▁▁▁▂▂▂▂▂▂▃▃▃▃▃▄▄▄▄▄▅▅▅▅▅▅▆▆▆▆▆▆▇▇▇▇▇███</td></tr><tr><td>_step</td><td>▁▁▁▁▂▂▂▂▂▃▃▃▃▃▃▄▄▄▄▄▅▅▅▅▅▅▆▆▆▆▆▇▇▇▇▇▇███</td></tr><tr><td>epoch</td><td>▁▁▂▂▃▃▃▄▄▅▅▆▆▆▇▇██</td></tr><tr><td>train_loss</td><td>█▃▂▂▁▂▁▁▁▁▁▁▁▁▁▁▁▁</td></tr><tr><td>train_auc</td><td>▁▆▇▇█▇█▇██████████</td></tr><tr><td>train_acc</td><td>▁▅▅▆▆▆▇▇████████▇▇</td></tr><tr><td>valid_auc</td><td>▁▅▆▆▇▇▇▇▇████▇▇▆█▇</td></tr><tr><td>valid_acc</td><td>▁▅▁▂▇▆▃█▄▆▄▅▅▃▅▆▅█</td></tr></table><br/>"
      ],
      "text/plain": [
       "<IPython.core.display.HTML object>"
      ]
     },
     "metadata": {},
     "output_type": "display_data"
    },
    {
     "data": {
      "text/html": [
       "Synced 6 W&B file(s), 1 media file(s), 0 artifact file(s) and 2 other file(s)"
      ],
      "text/plain": [
       "<IPython.core.display.HTML object>"
      ]
     },
     "metadata": {},
     "output_type": "display_data"
    },
    {
     "data": {
      "text/html": [
       "\n",
       "                    <br/>Synced <strong style=\"color:#cdcd00\">smooth-grass-83</strong>: <a href=\"https://wandb.ai/ggm1207/p-stage-4/runs/2r143od4\" target=\"_blank\">https://wandb.ai/ggm1207/p-stage-4/runs/2r143od4</a><br/>\n",
       "                "
      ],
      "text/plain": [
       "<IPython.core.display.HTML object>"
      ]
     },
     "metadata": {},
     "output_type": "display_data"
    },
    {
     "data": {
      "text/html": [
       "...Successfully finished last run (ID:2r143od4). Initializing new run:<br/><br/>"
      ],
      "text/plain": [
       "<IPython.core.display.HTML object>"
      ]
     },
     "metadata": {},
     "output_type": "display_data"
    },
    {
     "name": "stderr",
     "output_type": "stream",
     "text": [
      "\u001b[34m\u001b[1mwandb\u001b[0m: wandb version 0.10.31 is available!  To upgrade, please run:\n",
      "\u001b[34m\u001b[1mwandb\u001b[0m:  $ pip install wandb --upgrade\n"
     ]
    },
    {
     "data": {
      "text/html": [
       "\n",
       "                Tracking run with wandb version 0.10.27<br/>\n",
       "                Syncing run <strong style=\"color:#cdcd00\">upbeat-silence-84</strong> to <a href=\"https://wandb.ai\" target=\"_blank\">Weights & Biases</a> <a href=\"https://docs.wandb.com/integrations/jupyter.html\" target=\"_blank\">(Documentation)</a>.<br/>\n",
       "                Project page: <a href=\"https://wandb.ai/ggm1207/p-stage-4\" target=\"_blank\">https://wandb.ai/ggm1207/p-stage-4</a><br/>\n",
       "                Run page: <a href=\"https://wandb.ai/ggm1207/p-stage-4/runs/x4qnfsoq\" target=\"_blank\">https://wandb.ai/ggm1207/p-stage-4/runs/x4qnfsoq</a><br/>\n",
       "                Run data is saved locally in <code>/home/j-gunmo/desktop/00.my-project/17.P-Stage-T1003/4-STAGE/notebook/wandb/run-20210608_060645-x4qnfsoq</code><br/><br/>\n",
       "            "
      ],
      "text/plain": [
       "<IPython.core.display.HTML object>"
      ]
     },
     "metadata": {},
     "output_type": "display_data"
    },
    {
     "data": {
      "text/html": [
       "<pre style=\"white-space:pre;overflow-x:auto;line-height:normal;font-family:Menlo,'DejaVu Sans Mono',consolas,'Courier New',monospace\"><span style=\"color: #7fbfbf\">[06:06:51] </span><span style=\"color: #000080\">INFO    </span> Start Training: Epoch <span style=\"color: #000080; font-weight: bold\">1</span>                <a href=\"file://<ipython-input-9-5c2bae223fd1>\"><span style=\"color: #7f7f7f\">&lt;ipython-input-9-5c2bae223fd1&gt;</span></a><span style=\"color: #7f7f7f\">:408</span>\n",
       "</pre>\n"
      ],
      "text/plain": [
       "<rich.jupyter.JupyterRenderable at 0x7f1cb4a56af0>"
      ]
     },
     "metadata": {},
     "output_type": "display_data"
    },
    {
     "name": "stdout",
     "output_type": "stream",
     "text": [
      "Training steps: 0 Loss: 0.6912305951118469\n",
      "Training steps: 50 Loss: 0.6118088960647583\n",
      "Training steps: 100 Loss: 0.5190432667732239\n",
      "Training steps: 150 Loss: 0.5605455040931702\n",
      "VALID AUC : 0.7606485065903648 ACC : 0.6977710233029382\n",
      "\n"
     ]
    },
    {
     "data": {
      "text/html": [
       "<pre style=\"white-space:pre;overflow-x:auto;line-height:normal;font-family:Menlo,'DejaVu Sans Mono',consolas,'Courier New',monospace\"><span style=\"color: #7fbfbf\">[06:06:56] </span><span style=\"color: #000080\">INFO    </span> TRAIN_LOSS: <span style=\"color: #000080; font-weight: bold\">0.5995126962661743</span>         <a href=\"file://<ipython-input-9-5c2bae223fd1>\"><span style=\"color: #7f7f7f\">&lt;ipython-input-9-5c2bae223fd1&gt;</span></a><span style=\"color: #7f7f7f\">:424</span>\n",
       "</pre>\n"
      ],
      "text/plain": [
       "<rich.jupyter.JupyterRenderable at 0x7f1cb4ba9070>"
      ]
     },
     "metadata": {},
     "output_type": "display_data"
    },
    {
     "data": {
      "text/html": [
       "<pre style=\"white-space:pre;overflow-x:auto;line-height:normal;font-family:Menlo,'DejaVu Sans Mono',consolas,'Courier New',monospace\"><span style=\"color: #7fbfbf\">           </span><span style=\"color: #000080\">INFO    </span> TRAIN AUC: <span style=\"color: #000080; font-weight: bold\">0.7462941949556176</span> TRAIN    <a href=\"file://<ipython-input-9-5c2bae223fd1>\"><span style=\"color: #7f7f7f\">&lt;ipython-input-9-5c2bae223fd1&gt;</span></a><span style=\"color: #7f7f7f\">:425</span>\n",
       "                    ACC: <span style=\"color: #000080; font-weight: bold\">0.6943965953997365</span>                                                  \n",
       "</pre>\n"
      ],
      "text/plain": [
       "<rich.jupyter.JupyterRenderable at 0x7f1cb4a560d0>"
      ]
     },
     "metadata": {},
     "output_type": "display_data"
    },
    {
     "data": {
      "text/html": [
       "<pre style=\"white-space:pre;overflow-x:auto;line-height:normal;font-family:Menlo,'DejaVu Sans Mono',consolas,'Courier New',monospace\"><span style=\"color: #7fbfbf\">           </span><span style=\"color: #000080\">INFO    </span> VALID AUC: <span style=\"color: #000080; font-weight: bold\">0.7606485065903648</span> VALID    <a href=\"file://<ipython-input-9-5c2bae223fd1>\"><span style=\"color: #7f7f7f\">&lt;ipython-input-9-5c2bae223fd1&gt;</span></a><span style=\"color: #7f7f7f\">:426</span>\n",
       "                    ACC: <span style=\"color: #000080; font-weight: bold\">0.6977710233029382</span>                                                  \n",
       "                                                                                             \n",
       "</pre>\n"
      ],
      "text/plain": [
       "<rich.jupyter.JupyterRenderable at 0x7f1caa722130>"
      ]
     },
     "metadata": {},
     "output_type": "display_data"
    },
    {
     "data": {
      "text/html": [
       "<pre style=\"white-space:pre;overflow-x:auto;line-height:normal;font-family:Menlo,'DejaVu Sans Mono',consolas,'Courier New',monospace\"><span style=\"color: #7fbfbf\">           </span><span style=\"color: #000080\">INFO    </span> Start Training: Epoch <span style=\"color: #000080; font-weight: bold\">2</span>                <a href=\"file://<ipython-input-9-5c2bae223fd1>\"><span style=\"color: #7f7f7f\">&lt;ipython-input-9-5c2bae223fd1&gt;</span></a><span style=\"color: #7f7f7f\">:408</span>\n",
       "</pre>\n"
      ],
      "text/plain": [
       "<rich.jupyter.JupyterRenderable at 0x7f1cb4b4d250>"
      ]
     },
     "metadata": {},
     "output_type": "display_data"
    },
    {
     "name": "stdout",
     "output_type": "stream",
     "text": [
      "Training steps: 0 Loss: 0.6223378777503967\n",
      "Training steps: 50 Loss: 0.6943544149398804\n",
      "Training steps: 100 Loss: 0.6367961168289185\n",
      "Training steps: 150 Loss: 0.5247640013694763\n",
      "VALID AUC : 0.7640139732034441 ACC : 0.6987841945288754\n",
      "\n"
     ]
    },
    {
     "data": {
      "text/html": [
       "<pre style=\"white-space:pre;overflow-x:auto;line-height:normal;font-family:Menlo,'DejaVu Sans Mono',consolas,'Courier New',monospace\"><span style=\"color: #7fbfbf\">[06:07:01] </span><span style=\"color: #000080\">INFO    </span> TRAIN_LOSS: <span style=\"color: #000080; font-weight: bold\">0.5726701021194458</span>         <a href=\"file://<ipython-input-9-5c2bae223fd1>\"><span style=\"color: #7f7f7f\">&lt;ipython-input-9-5c2bae223fd1&gt;</span></a><span style=\"color: #7f7f7f\">:424</span>\n",
       "</pre>\n"
      ],
      "text/plain": [
       "<rich.jupyter.JupyterRenderable at 0x7f1cb4b4d4f0>"
      ]
     },
     "metadata": {},
     "output_type": "display_data"
    },
    {
     "data": {
      "text/html": [
       "<pre style=\"white-space:pre;overflow-x:auto;line-height:normal;font-family:Menlo,'DejaVu Sans Mono',consolas,'Courier New',monospace\"><span style=\"color: #7fbfbf\">           </span><span style=\"color: #000080\">INFO    </span> TRAIN AUC: <span style=\"color: #000080; font-weight: bold\">0.7707892095153477</span> TRAIN    <a href=\"file://<ipython-input-9-5c2bae223fd1>\"><span style=\"color: #7f7f7f\">&lt;ipython-input-9-5c2bae223fd1&gt;</span></a><span style=\"color: #7f7f7f\">:425</span>\n",
       "                    ACC: <span style=\"color: #000080; font-weight: bold\">0.7056439355557808</span>                                                  \n",
       "</pre>\n"
      ],
      "text/plain": [
       "<rich.jupyter.JupyterRenderable at 0x7f1cb4ba9d00>"
      ]
     },
     "metadata": {},
     "output_type": "display_data"
    },
    {
     "data": {
      "text/html": [
       "<pre style=\"white-space:pre;overflow-x:auto;line-height:normal;font-family:Menlo,'DejaVu Sans Mono',consolas,'Courier New',monospace\"><span style=\"color: #7fbfbf\">           </span><span style=\"color: #000080\">INFO    </span> VALID AUC: <span style=\"color: #000080; font-weight: bold\">0.7640139732034441</span> VALID    <a href=\"file://<ipython-input-9-5c2bae223fd1>\"><span style=\"color: #7f7f7f\">&lt;ipython-input-9-5c2bae223fd1&gt;</span></a><span style=\"color: #7f7f7f\">:426</span>\n",
       "                    ACC: <span style=\"color: #000080; font-weight: bold\">0.6987841945288754</span>                                                  \n",
       "                                                                                             \n",
       "</pre>\n"
      ],
      "text/plain": [
       "<rich.jupyter.JupyterRenderable at 0x7f1caa7283a0>"
      ]
     },
     "metadata": {},
     "output_type": "display_data"
    },
    {
     "data": {
      "text/html": [
       "<pre style=\"white-space:pre;overflow-x:auto;line-height:normal;font-family:Menlo,'DejaVu Sans Mono',consolas,'Courier New',monospace\"><span style=\"color: #7fbfbf\">           </span><span style=\"color: #000080\">INFO    </span> Start Training: Epoch <span style=\"color: #000080; font-weight: bold\">3</span>                <a href=\"file://<ipython-input-9-5c2bae223fd1>\"><span style=\"color: #7f7f7f\">&lt;ipython-input-9-5c2bae223fd1&gt;</span></a><span style=\"color: #7f7f7f\">:408</span>\n",
       "</pre>\n"
      ],
      "text/plain": [
       "<rich.jupyter.JupyterRenderable at 0x7f1cb4ba90d0>"
      ]
     },
     "metadata": {},
     "output_type": "display_data"
    },
    {
     "name": "stdout",
     "output_type": "stream",
     "text": [
      "Training steps: 0 Loss: 0.582683801651001\n",
      "Training steps: 50 Loss: 0.6453969478607178\n",
      "Training steps: 100 Loss: 0.5457646250724792\n",
      "Training steps: 150 Loss: 0.5579679012298584\n",
      "VALID AUC : 0.7652149661042069 ACC : 0.7\n",
      "\n"
     ]
    },
    {
     "data": {
      "text/html": [
       "<pre style=\"white-space:pre;overflow-x:auto;line-height:normal;font-family:Menlo,'DejaVu Sans Mono',consolas,'Courier New',monospace\"><span style=\"color: #7fbfbf\">[06:07:06] </span><span style=\"color: #000080\">INFO    </span> TRAIN_LOSS: <span style=\"color: #000080; font-weight: bold\">0.5702595114707947</span>         <a href=\"file://<ipython-input-9-5c2bae223fd1>\"><span style=\"color: #7f7f7f\">&lt;ipython-input-9-5c2bae223fd1&gt;</span></a><span style=\"color: #7f7f7f\">:424</span>\n",
       "</pre>\n"
      ],
      "text/plain": [
       "<rich.jupyter.JupyterRenderable at 0x7f1cb4ba9070>"
      ]
     },
     "metadata": {},
     "output_type": "display_data"
    },
    {
     "data": {
      "text/html": [
       "<pre style=\"white-space:pre;overflow-x:auto;line-height:normal;font-family:Menlo,'DejaVu Sans Mono',consolas,'Courier New',monospace\"><span style=\"color: #7fbfbf\">           </span><span style=\"color: #000080\">INFO    </span> TRAIN AUC: <span style=\"color: #000080; font-weight: bold\">0.7731198878471072</span> TRAIN    <a href=\"file://<ipython-input-9-5c2bae223fd1>\"><span style=\"color: #7f7f7f\">&lt;ipython-input-9-5c2bae223fd1&gt;</span></a><span style=\"color: #7f7f7f\">:425</span>\n",
       "                    ACC: <span style=\"color: #000080; font-weight: bold\">0.7104063228290607</span>                                                  \n",
       "</pre>\n"
      ],
      "text/plain": [
       "<rich.jupyter.JupyterRenderable at 0x7f1cb4ba9d00>"
      ]
     },
     "metadata": {},
     "output_type": "display_data"
    },
    {
     "data": {
      "text/html": [
       "<pre style=\"white-space:pre;overflow-x:auto;line-height:normal;font-family:Menlo,'DejaVu Sans Mono',consolas,'Courier New',monospace\"><span style=\"color: #7fbfbf\">           </span><span style=\"color: #000080\">INFO    </span> VALID AUC: <span style=\"color: #000080; font-weight: bold\">0.7652149661042069</span> VALID    <a href=\"file://<ipython-input-9-5c2bae223fd1>\"><span style=\"color: #7f7f7f\">&lt;ipython-input-9-5c2bae223fd1&gt;</span></a><span style=\"color: #7f7f7f\">:426</span>\n",
       "                    ACC: <span style=\"color: #000080; font-weight: bold\">0.7</span>                                                                 \n",
       "                                                                                             \n",
       "</pre>\n"
      ],
      "text/plain": [
       "<rich.jupyter.JupyterRenderable at 0x7f1cb4ba9070>"
      ]
     },
     "metadata": {},
     "output_type": "display_data"
    },
    {
     "data": {
      "text/html": [
       "<pre style=\"white-space:pre;overflow-x:auto;line-height:normal;font-family:Menlo,'DejaVu Sans Mono',consolas,'Courier New',monospace\"><span style=\"color: #7fbfbf\">           </span><span style=\"color: #000080\">INFO    </span> Start Training: Epoch <span style=\"color: #000080; font-weight: bold\">4</span>                <a href=\"file://<ipython-input-9-5c2bae223fd1>\"><span style=\"color: #7f7f7f\">&lt;ipython-input-9-5c2bae223fd1&gt;</span></a><span style=\"color: #7f7f7f\">:408</span>\n",
       "</pre>\n"
      ],
      "text/plain": [
       "<rich.jupyter.JupyterRenderable at 0x7f1cb4ba90d0>"
      ]
     },
     "metadata": {},
     "output_type": "display_data"
    },
    {
     "name": "stdout",
     "output_type": "stream",
     "text": [
      "Training steps: 0 Loss: 0.5837329626083374\n",
      "Training steps: 50 Loss: 0.5753031969070435\n",
      "Training steps: 100 Loss: 0.6579641103744507\n",
      "Training steps: 150 Loss: 0.6144315004348755\n",
      "VALID AUC : 0.7654200061583903 ACC : 0.7002026342451875\n",
      "\n"
     ]
    },
    {
     "data": {
      "text/html": [
       "<pre style=\"white-space:pre;overflow-x:auto;line-height:normal;font-family:Menlo,'DejaVu Sans Mono',consolas,'Courier New',monospace\"><span style=\"color: #7fbfbf\">[06:07:10] </span><span style=\"color: #000080\">INFO    </span> TRAIN_LOSS: <span style=\"color: #000080; font-weight: bold\">0.5690149664878845</span>         <a href=\"file://<ipython-input-9-5c2bae223fd1>\"><span style=\"color: #7f7f7f\">&lt;ipython-input-9-5c2bae223fd1&gt;</span></a><span style=\"color: #7f7f7f\">:424</span>\n",
       "</pre>\n"
      ],
      "text/plain": [
       "<rich.jupyter.JupyterRenderable at 0x7f1cb4bdd0d0>"
      ]
     },
     "metadata": {},
     "output_type": "display_data"
    },
    {
     "data": {
      "text/html": [
       "<pre style=\"white-space:pre;overflow-x:auto;line-height:normal;font-family:Menlo,'DejaVu Sans Mono',consolas,'Courier New',monospace\"><span style=\"color: #7fbfbf\">           </span><span style=\"color: #000080\">INFO    </span> TRAIN AUC: <span style=\"color: #000080; font-weight: bold\">0.774190998749347</span> TRAIN     <a href=\"file://<ipython-input-9-5c2bae223fd1>\"><span style=\"color: #7f7f7f\">&lt;ipython-input-9-5c2bae223fd1&gt;</span></a><span style=\"color: #7f7f7f\">:425</span>\n",
       "                    ACC: <span style=\"color: #000080; font-weight: bold\">0.7108116323842335</span>                                                  \n",
       "</pre>\n"
      ],
      "text/plain": [
       "<rich.jupyter.JupyterRenderable at 0x7f1caa780730>"
      ]
     },
     "metadata": {},
     "output_type": "display_data"
    },
    {
     "data": {
      "text/html": [
       "<pre style=\"white-space:pre;overflow-x:auto;line-height:normal;font-family:Menlo,'DejaVu Sans Mono',consolas,'Courier New',monospace\"><span style=\"color: #7fbfbf\">           </span><span style=\"color: #000080\">INFO    </span> VALID AUC: <span style=\"color: #000080; font-weight: bold\">0.7654200061583903</span> VALID    <a href=\"file://<ipython-input-9-5c2bae223fd1>\"><span style=\"color: #7f7f7f\">&lt;ipython-input-9-5c2bae223fd1&gt;</span></a><span style=\"color: #7f7f7f\">:426</span>\n",
       "                    ACC: <span style=\"color: #000080; font-weight: bold\">0.7002026342451875</span>                                                  \n",
       "                                                                                             \n",
       "</pre>\n"
      ],
      "text/plain": [
       "<rich.jupyter.JupyterRenderable at 0x7f1caa744ac0>"
      ]
     },
     "metadata": {},
     "output_type": "display_data"
    },
    {
     "data": {
      "text/html": [
       "<pre style=\"white-space:pre;overflow-x:auto;line-height:normal;font-family:Menlo,'DejaVu Sans Mono',consolas,'Courier New',monospace\"><span style=\"color: #7fbfbf\">           </span><span style=\"color: #000080\">INFO    </span> Start Training: Epoch <span style=\"color: #000080; font-weight: bold\">5</span>                <a href=\"file://<ipython-input-9-5c2bae223fd1>\"><span style=\"color: #7f7f7f\">&lt;ipython-input-9-5c2bae223fd1&gt;</span></a><span style=\"color: #7f7f7f\">:408</span>\n",
       "</pre>\n"
      ],
      "text/plain": [
       "<rich.jupyter.JupyterRenderable at 0x7f1caa744790>"
      ]
     },
     "metadata": {},
     "output_type": "display_data"
    },
    {
     "name": "stdout",
     "output_type": "stream",
     "text": [
      "Training steps: 0 Loss: 0.47259968519210815\n",
      "Training steps: 50 Loss: 0.5314704775810242\n",
      "Training steps: 100 Loss: 0.5117726922035217\n",
      "Training steps: 150 Loss: 0.5763505101203918\n",
      "VALID AUC : 0.7654832044201073 ACC : 0.7\n",
      "\n"
     ]
    },
    {
     "data": {
      "text/html": [
       "<pre style=\"white-space:pre;overflow-x:auto;line-height:normal;font-family:Menlo,'DejaVu Sans Mono',consolas,'Courier New',monospace\"><span style=\"color: #7fbfbf\">[06:07:15] </span><span style=\"color: #000080\">INFO    </span> TRAIN_LOSS: <span style=\"color: #000080; font-weight: bold\">0.5695469379425049</span>         <a href=\"file://<ipython-input-9-5c2bae223fd1>\"><span style=\"color: #7f7f7f\">&lt;ipython-input-9-5c2bae223fd1&gt;</span></a><span style=\"color: #7f7f7f\">:424</span>\n",
       "</pre>\n"
      ],
      "text/plain": [
       "<rich.jupyter.JupyterRenderable at 0x7f1cb4b128b0>"
      ]
     },
     "metadata": {},
     "output_type": "display_data"
    },
    {
     "data": {
      "text/html": [
       "<pre style=\"white-space:pre;overflow-x:auto;line-height:normal;font-family:Menlo,'DejaVu Sans Mono',consolas,'Courier New',monospace\"><span style=\"color: #7fbfbf\">           </span><span style=\"color: #000080\">INFO    </span> TRAIN AUC: <span style=\"color: #000080; font-weight: bold\">0.7745543757982957</span> TRAIN    <a href=\"file://<ipython-input-9-5c2bae223fd1>\"><span style=\"color: #7f7f7f\">&lt;ipython-input-9-5c2bae223fd1&gt;</span></a><span style=\"color: #7f7f7f\">:425</span>\n",
       "                    ACC: <span style=\"color: #000080; font-weight: bold\">0.7120275610497517</span>                                                  \n",
       "</pre>\n"
      ],
      "text/plain": [
       "<rich.jupyter.JupyterRenderable at 0x7f1caa744d60>"
      ]
     },
     "metadata": {},
     "output_type": "display_data"
    },
    {
     "data": {
      "text/html": [
       "<pre style=\"white-space:pre;overflow-x:auto;line-height:normal;font-family:Menlo,'DejaVu Sans Mono',consolas,'Courier New',monospace\"><span style=\"color: #7fbfbf\">           </span><span style=\"color: #000080\">INFO    </span> VALID AUC: <span style=\"color: #000080; font-weight: bold\">0.7654832044201073</span> VALID    <a href=\"file://<ipython-input-9-5c2bae223fd1>\"><span style=\"color: #7f7f7f\">&lt;ipython-input-9-5c2bae223fd1&gt;</span></a><span style=\"color: #7f7f7f\">:426</span>\n",
       "                    ACC: <span style=\"color: #000080; font-weight: bold\">0.7</span>                                                                 \n",
       "                                                                                             \n",
       "</pre>\n"
      ],
      "text/plain": [
       "<rich.jupyter.JupyterRenderable at 0x7f1caa780b50>"
      ]
     },
     "metadata": {},
     "output_type": "display_data"
    },
    {
     "data": {
      "text/html": [
       "<pre style=\"white-space:pre;overflow-x:auto;line-height:normal;font-family:Menlo,'DejaVu Sans Mono',consolas,'Courier New',monospace\"><span style=\"color: #7fbfbf\">           </span><span style=\"color: #000080\">INFO    </span> Start Training: Epoch <span style=\"color: #000080; font-weight: bold\">6</span>                <a href=\"file://<ipython-input-9-5c2bae223fd1>\"><span style=\"color: #7f7f7f\">&lt;ipython-input-9-5c2bae223fd1&gt;</span></a><span style=\"color: #7f7f7f\">:408</span>\n",
       "</pre>\n"
      ],
      "text/plain": [
       "<rich.jupyter.JupyterRenderable at 0x7f1caa780b50>"
      ]
     },
     "metadata": {},
     "output_type": "display_data"
    },
    {
     "name": "stdout",
     "output_type": "stream",
     "text": [
      "Training steps: 0 Loss: 0.5865265130996704\n",
      "Training steps: 50 Loss: 0.5864701867103577\n",
      "Training steps: 100 Loss: 0.6040176153182983\n",
      "Training steps: 150 Loss: 0.6036890745162964\n",
      "VALID AUC : 0.7653013117305504 ACC : 0.6965552178318136\n",
      "\n"
     ]
    },
    {
     "data": {
      "text/html": [
       "<pre style=\"white-space:pre;overflow-x:auto;line-height:normal;font-family:Menlo,'DejaVu Sans Mono',consolas,'Courier New',monospace\"><span style=\"color: #7fbfbf\">[06:07:20] </span><span style=\"color: #000080\">INFO    </span> TRAIN_LOSS: <span style=\"color: #000080; font-weight: bold\">0.5684835314750671</span>         <a href=\"file://<ipython-input-9-5c2bae223fd1>\"><span style=\"color: #7f7f7f\">&lt;ipython-input-9-5c2bae223fd1&gt;</span></a><span style=\"color: #7f7f7f\">:424</span>\n",
       "</pre>\n"
      ],
      "text/plain": [
       "<rich.jupyter.JupyterRenderable at 0x7f1cb4bdd0d0>"
      ]
     },
     "metadata": {},
     "output_type": "display_data"
    },
    {
     "data": {
      "text/html": [
       "<pre style=\"white-space:pre;overflow-x:auto;line-height:normal;font-family:Menlo,'DejaVu Sans Mono',consolas,'Courier New',monospace\"><span style=\"color: #7fbfbf\">           </span><span style=\"color: #000080\">INFO    </span> TRAIN AUC: <span style=\"color: #000080; font-weight: bold\">0.7755684875873802</span> TRAIN    <a href=\"file://<ipython-input-9-5c2bae223fd1>\"><span style=\"color: #7f7f7f\">&lt;ipython-input-9-5c2bae223fd1&gt;</span></a><span style=\"color: #7f7f7f\">:425</span>\n",
       "                    ACC: <span style=\"color: #000080; font-weight: bold\">0.7128381801600973</span>                                                  \n",
       "</pre>\n"
      ],
      "text/plain": [
       "<rich.jupyter.JupyterRenderable at 0x7f1cb4bdd0d0>"
      ]
     },
     "metadata": {},
     "output_type": "display_data"
    },
    {
     "data": {
      "text/html": [
       "<pre style=\"white-space:pre;overflow-x:auto;line-height:normal;font-family:Menlo,'DejaVu Sans Mono',consolas,'Courier New',monospace\"><span style=\"color: #7fbfbf\">           </span><span style=\"color: #000080\">INFO    </span> VALID AUC: <span style=\"color: #000080; font-weight: bold\">0.7653013117305504</span> VALID    <a href=\"file://<ipython-input-9-5c2bae223fd1>\"><span style=\"color: #7f7f7f\">&lt;ipython-input-9-5c2bae223fd1&gt;</span></a><span style=\"color: #7f7f7f\">:426</span>\n",
       "                    ACC: <span style=\"color: #000080; font-weight: bold\">0.6965552178318136</span>                                                  \n",
       "                                                                                             \n",
       "</pre>\n"
      ],
      "text/plain": [
       "<rich.jupyter.JupyterRenderable at 0x7f1cb4bdd0d0>"
      ]
     },
     "metadata": {},
     "output_type": "display_data"
    },
    {
     "data": {
      "text/html": [
       "<pre style=\"white-space:pre;overflow-x:auto;line-height:normal;font-family:Menlo,'DejaVu Sans Mono',consolas,'Courier New',monospace\"><span style=\"color: #7fbfbf\">           </span><span style=\"color: #000080\">INFO    </span> EarlyStopping counter: <span style=\"color: #000080; font-weight: bold\">1</span>               <a href=\"file://<ipython-input-9-5c2bae223fd1>\"><span style=\"color: #7f7f7f\">&lt;ipython-input-9-5c2bae223fd1&gt;</span></a><span style=\"color: #7f7f7f\">:434</span>\n",
       "</pre>\n"
      ],
      "text/plain": [
       "<rich.jupyter.JupyterRenderable at 0x7f1cb4b4de50>"
      ]
     },
     "metadata": {},
     "output_type": "display_data"
    },
    {
     "data": {
      "text/html": [
       "<pre style=\"white-space:pre;overflow-x:auto;line-height:normal;font-family:Menlo,'DejaVu Sans Mono',consolas,'Courier New',monospace\"><span style=\"color: #7fbfbf\">           </span><span style=\"color: #000080\">INFO    </span> Start Training: Epoch <span style=\"color: #000080; font-weight: bold\">7</span>                <a href=\"file://<ipython-input-9-5c2bae223fd1>\"><span style=\"color: #7f7f7f\">&lt;ipython-input-9-5c2bae223fd1&gt;</span></a><span style=\"color: #7f7f7f\">:408</span>\n",
       "</pre>\n"
      ],
      "text/plain": [
       "<rich.jupyter.JupyterRenderable at 0x7f1cb4b69f70>"
      ]
     },
     "metadata": {},
     "output_type": "display_data"
    },
    {
     "name": "stdout",
     "output_type": "stream",
     "text": [
      "Training steps: 0 Loss: 0.4542074501514435\n",
      "Training steps: 50 Loss: 0.5062698125839233\n",
      "Training steps: 100 Loss: 0.6157039999961853\n",
      "Training steps: 150 Loss: 0.5447930693626404\n",
      "VALID AUC : 0.7655641072322308 ACC : 0.6980749746707193\n",
      "\n"
     ]
    },
    {
     "data": {
      "text/html": [
       "<pre style=\"white-space:pre;overflow-x:auto;line-height:normal;font-family:Menlo,'DejaVu Sans Mono',consolas,'Courier New',monospace\"><span style=\"color: #7fbfbf\">[06:07:24] </span><span style=\"color: #000080\">INFO    </span> TRAIN_LOSS: <span style=\"color: #000080; font-weight: bold\">0.5675522089004517</span>         <a href=\"file://<ipython-input-9-5c2bae223fd1>\"><span style=\"color: #7f7f7f\">&lt;ipython-input-9-5c2bae223fd1&gt;</span></a><span style=\"color: #7f7f7f\">:424</span>\n",
       "</pre>\n"
      ],
      "text/plain": [
       "<rich.jupyter.JupyterRenderable at 0x7f1cb4a56280>"
      ]
     },
     "metadata": {},
     "output_type": "display_data"
    },
    {
     "data": {
      "text/html": [
       "<pre style=\"white-space:pre;overflow-x:auto;line-height:normal;font-family:Menlo,'DejaVu Sans Mono',consolas,'Courier New',monospace\"><span style=\"color: #7fbfbf\">           </span><span style=\"color: #000080\">INFO    </span> TRAIN AUC: <span style=\"color: #000080; font-weight: bold\">0.7771995249129053</span> TRAIN    <a href=\"file://<ipython-input-9-5c2bae223fd1>\"><span style=\"color: #7f7f7f\">&lt;ipython-input-9-5c2bae223fd1&gt;</span></a><span style=\"color: #7f7f7f\">:425</span>\n",
       "                    ACC: <span style=\"color: #000080; font-weight: bold\">0.7109129597730266</span>                                                  \n",
       "</pre>\n"
      ],
      "text/plain": [
       "<rich.jupyter.JupyterRenderable at 0x7f1cb4a560d0>"
      ]
     },
     "metadata": {},
     "output_type": "display_data"
    },
    {
     "data": {
      "text/html": [
       "<pre style=\"white-space:pre;overflow-x:auto;line-height:normal;font-family:Menlo,'DejaVu Sans Mono',consolas,'Courier New',monospace\"><span style=\"color: #7fbfbf\">           </span><span style=\"color: #000080\">INFO    </span> VALID AUC: <span style=\"color: #000080; font-weight: bold\">0.7655641072322308</span> VALID    <a href=\"file://<ipython-input-9-5c2bae223fd1>\"><span style=\"color: #7f7f7f\">&lt;ipython-input-9-5c2bae223fd1&gt;</span></a><span style=\"color: #7f7f7f\">:426</span>\n",
       "                    ACC: <span style=\"color: #000080; font-weight: bold\">0.6980749746707193</span>                                                  \n",
       "                                                                                             \n",
       "</pre>\n"
      ],
      "text/plain": [
       "<rich.jupyter.JupyterRenderable at 0x7f1caa780340>"
      ]
     },
     "metadata": {},
     "output_type": "display_data"
    },
    {
     "data": {
      "text/html": [
       "<pre style=\"white-space:pre;overflow-x:auto;line-height:normal;font-family:Menlo,'DejaVu Sans Mono',consolas,'Courier New',monospace\"><span style=\"color: #7fbfbf\">           </span><span style=\"color: #000080\">INFO    </span> Start Training: Epoch <span style=\"color: #000080; font-weight: bold\">8</span>                <a href=\"file://<ipython-input-9-5c2bae223fd1>\"><span style=\"color: #7f7f7f\">&lt;ipython-input-9-5c2bae223fd1&gt;</span></a><span style=\"color: #7f7f7f\">:408</span>\n",
       "</pre>\n"
      ],
      "text/plain": [
       "<rich.jupyter.JupyterRenderable at 0x7f1cb4a56250>"
      ]
     },
     "metadata": {},
     "output_type": "display_data"
    },
    {
     "name": "stdout",
     "output_type": "stream",
     "text": [
      "Training steps: 0 Loss: 0.5300652980804443\n",
      "Training steps: 50 Loss: 0.6887621879577637\n",
      "Training steps: 100 Loss: 0.4943042993545532\n",
      "Training steps: 150 Loss: 0.555027425289154\n",
      "VALID AUC : 0.7655860838783267 ACC : 0.6993920972644377\n",
      "\n"
     ]
    },
    {
     "data": {
      "text/html": [
       "<pre style=\"white-space:pre;overflow-x:auto;line-height:normal;font-family:Menlo,'DejaVu Sans Mono',consolas,'Courier New',monospace\"><span style=\"color: #7fbfbf\">[06:07:28] </span><span style=\"color: #000080\">INFO    </span> TRAIN_LOSS: <span style=\"color: #000080; font-weight: bold\">0.5678432583808899</span>         <a href=\"file://<ipython-input-9-5c2bae223fd1>\"><span style=\"color: #7f7f7f\">&lt;ipython-input-9-5c2bae223fd1&gt;</span></a><span style=\"color: #7f7f7f\">:424</span>\n",
       "</pre>\n"
      ],
      "text/plain": [
       "<rich.jupyter.JupyterRenderable at 0x7f1cb4b12520>"
      ]
     },
     "metadata": {},
     "output_type": "display_data"
    },
    {
     "data": {
      "text/html": [
       "<pre style=\"white-space:pre;overflow-x:auto;line-height:normal;font-family:Menlo,'DejaVu Sans Mono',consolas,'Courier New',monospace\"><span style=\"color: #7fbfbf\">           </span><span style=\"color: #000080\">INFO    </span> TRAIN AUC: <span style=\"color: #000080; font-weight: bold\">0.7764569343046503</span> TRAIN    <a href=\"file://<ipython-input-9-5c2bae223fd1>\"><span style=\"color: #7f7f7f\">&lt;ipython-input-9-5c2bae223fd1&gt;</span></a><span style=\"color: #7f7f7f\">:425</span>\n",
       "                    ACC: <span style=\"color: #000080; font-weight: bold\">0.7107103049954403</span>                                                  \n",
       "</pre>\n"
      ],
      "text/plain": [
       "<rich.jupyter.JupyterRenderable at 0x7f1caa7447f0>"
      ]
     },
     "metadata": {},
     "output_type": "display_data"
    },
    {
     "data": {
      "text/html": [
       "<pre style=\"white-space:pre;overflow-x:auto;line-height:normal;font-family:Menlo,'DejaVu Sans Mono',consolas,'Courier New',monospace\"><span style=\"color: #7fbfbf\">           </span><span style=\"color: #000080\">INFO    </span> VALID AUC: <span style=\"color: #000080; font-weight: bold\">0.7655860838783267</span> VALID    <a href=\"file://<ipython-input-9-5c2bae223fd1>\"><span style=\"color: #7f7f7f\">&lt;ipython-input-9-5c2bae223fd1&gt;</span></a><span style=\"color: #7f7f7f\">:426</span>\n",
       "                    ACC: <span style=\"color: #000080; font-weight: bold\">0.6993920972644377</span>                                                  \n",
       "                                                                                             \n",
       "</pre>\n"
      ],
      "text/plain": [
       "<rich.jupyter.JupyterRenderable at 0x7f1caa744dc0>"
      ]
     },
     "metadata": {},
     "output_type": "display_data"
    },
    {
     "data": {
      "text/html": [
       "<pre style=\"white-space:pre;overflow-x:auto;line-height:normal;font-family:Menlo,'DejaVu Sans Mono',consolas,'Courier New',monospace\"><span style=\"color: #7fbfbf\">           </span><span style=\"color: #000080\">INFO    </span> Start Training: Epoch <span style=\"color: #000080; font-weight: bold\">9</span>                <a href=\"file://<ipython-input-9-5c2bae223fd1>\"><span style=\"color: #7f7f7f\">&lt;ipython-input-9-5c2bae223fd1&gt;</span></a><span style=\"color: #7f7f7f\">:408</span>\n",
       "</pre>\n"
      ],
      "text/plain": [
       "<rich.jupyter.JupyterRenderable at 0x7f1cb4ba9ac0>"
      ]
     },
     "metadata": {},
     "output_type": "display_data"
    },
    {
     "name": "stdout",
     "output_type": "stream",
     "text": [
      "Training steps: 0 Loss: 0.7037352323532104\n",
      "Training steps: 50 Loss: 0.6268665790557861\n",
      "Training steps: 100 Loss: 0.5522401332855225\n",
      "Training steps: 150 Loss: 0.5730817317962646\n",
      "VALID AUC : 0.7657598020770928 ACC : 0.7005065856129686\n",
      "\n"
     ]
    },
    {
     "data": {
      "text/html": [
       "<pre style=\"white-space:pre;overflow-x:auto;line-height:normal;font-family:Menlo,'DejaVu Sans Mono',consolas,'Courier New',monospace\"><span style=\"color: #7fbfbf\">[06:07:33] </span><span style=\"color: #000080\">INFO    </span> TRAIN_LOSS: <span style=\"color: #000080; font-weight: bold\">0.5656808018684387</span>         <a href=\"file://<ipython-input-9-5c2bae223fd1>\"><span style=\"color: #7f7f7f\">&lt;ipython-input-9-5c2bae223fd1&gt;</span></a><span style=\"color: #7f7f7f\">:424</span>\n",
       "</pre>\n"
      ],
      "text/plain": [
       "<rich.jupyter.JupyterRenderable at 0x7f1caa744790>"
      ]
     },
     "metadata": {},
     "output_type": "display_data"
    },
    {
     "data": {
      "text/html": [
       "<pre style=\"white-space:pre;overflow-x:auto;line-height:normal;font-family:Menlo,'DejaVu Sans Mono',consolas,'Courier New',monospace\"><span style=\"color: #7fbfbf\">           </span><span style=\"color: #000080\">INFO    </span> TRAIN AUC: <span style=\"color: #000080; font-weight: bold\">0.7782606738079811</span> TRAIN    <a href=\"file://<ipython-input-9-5c2bae223fd1>\"><span style=\"color: #7f7f7f\">&lt;ipython-input-9-5c2bae223fd1&gt;</span></a><span style=\"color: #7f7f7f\">:425</span>\n",
       "                    ACC: <span style=\"color: #000080; font-weight: bold\">0.711115614550613</span>                                                   \n",
       "</pre>\n"
      ],
      "text/plain": [
       "<rich.jupyter.JupyterRenderable at 0x7f1cb4b4dca0>"
      ]
     },
     "metadata": {},
     "output_type": "display_data"
    },
    {
     "data": {
      "text/html": [
       "<pre style=\"white-space:pre;overflow-x:auto;line-height:normal;font-family:Menlo,'DejaVu Sans Mono',consolas,'Courier New',monospace\"><span style=\"color: #7fbfbf\">           </span><span style=\"color: #000080\">INFO    </span> VALID AUC: <span style=\"color: #000080; font-weight: bold\">0.7657598020770928</span> VALID    <a href=\"file://<ipython-input-9-5c2bae223fd1>\"><span style=\"color: #7f7f7f\">&lt;ipython-input-9-5c2bae223fd1&gt;</span></a><span style=\"color: #7f7f7f\">:426</span>\n",
       "                    ACC: <span style=\"color: #000080; font-weight: bold\">0.7005065856129686</span>                                                  \n",
       "                                                                                             \n",
       "</pre>\n"
      ],
      "text/plain": [
       "<rich.jupyter.JupyterRenderable at 0x7f1cb4b69c40>"
      ]
     },
     "metadata": {},
     "output_type": "display_data"
    },
    {
     "data": {
      "text/html": [
       "<pre style=\"white-space:pre;overflow-x:auto;line-height:normal;font-family:Menlo,'DejaVu Sans Mono',consolas,'Courier New',monospace\"><span style=\"color: #7fbfbf\">           </span><span style=\"color: #000080\">INFO    </span> Start Training: Epoch <span style=\"color: #000080; font-weight: bold\">10</span>               <a href=\"file://<ipython-input-9-5c2bae223fd1>\"><span style=\"color: #7f7f7f\">&lt;ipython-input-9-5c2bae223fd1&gt;</span></a><span style=\"color: #7f7f7f\">:408</span>\n",
       "</pre>\n"
      ],
      "text/plain": [
       "<rich.jupyter.JupyterRenderable at 0x7f1cb4b690a0>"
      ]
     },
     "metadata": {},
     "output_type": "display_data"
    },
    {
     "name": "stdout",
     "output_type": "stream",
     "text": [
      "Training steps: 0 Loss: 0.49235469102859497\n",
      "Training steps: 50 Loss: 0.6359086036682129\n",
      "Training steps: 100 Loss: 0.5914226174354553\n",
      "Training steps: 150 Loss: 0.4957057535648346\n",
      "VALID AUC : 0.7659160416535902 ACC : 0.700709219858156\n",
      "\n"
     ]
    },
    {
     "data": {
      "text/html": [
       "<pre style=\"white-space:pre;overflow-x:auto;line-height:normal;font-family:Menlo,'DejaVu Sans Mono',consolas,'Courier New',monospace\"><span style=\"color: #7fbfbf\">[06:07:38] </span><span style=\"color: #000080\">INFO    </span> TRAIN_LOSS: <span style=\"color: #000080; font-weight: bold\">0.5665924549102783</span>         <a href=\"file://<ipython-input-9-5c2bae223fd1>\"><span style=\"color: #7f7f7f\">&lt;ipython-input-9-5c2bae223fd1&gt;</span></a><span style=\"color: #7f7f7f\">:424</span>\n",
       "</pre>\n"
      ],
      "text/plain": [
       "<rich.jupyter.JupyterRenderable at 0x7f1cb4b128b0>"
      ]
     },
     "metadata": {},
     "output_type": "display_data"
    },
    {
     "data": {
      "text/html": [
       "<pre style=\"white-space:pre;overflow-x:auto;line-height:normal;font-family:Menlo,'DejaVu Sans Mono',consolas,'Courier New',monospace\"><span style=\"color: #7fbfbf\">           </span><span style=\"color: #000080\">INFO    </span> TRAIN AUC: <span style=\"color: #000080; font-weight: bold\">0.7776403796753035</span> TRAIN    <a href=\"file://<ipython-input-9-5c2bae223fd1>\"><span style=\"color: #7f7f7f\">&lt;ipython-input-9-5c2bae223fd1&gt;</span></a><span style=\"color: #7f7f7f\">:425</span>\n",
       "                    ACC: <span style=\"color: #000080; font-weight: bold\">0.7124328706049246</span>                                                  \n",
       "</pre>\n"
      ],
      "text/plain": [
       "<rich.jupyter.JupyterRenderable at 0x7f1cb4ba9970>"
      ]
     },
     "metadata": {},
     "output_type": "display_data"
    },
    {
     "data": {
      "text/html": [
       "<pre style=\"white-space:pre;overflow-x:auto;line-height:normal;font-family:Menlo,'DejaVu Sans Mono',consolas,'Courier New',monospace\"><span style=\"color: #7fbfbf\">           </span><span style=\"color: #000080\">INFO    </span> VALID AUC: <span style=\"color: #000080; font-weight: bold\">0.7659160416535902</span> VALID    <a href=\"file://<ipython-input-9-5c2bae223fd1>\"><span style=\"color: #7f7f7f\">&lt;ipython-input-9-5c2bae223fd1&gt;</span></a><span style=\"color: #7f7f7f\">:426</span>\n",
       "                    ACC: <span style=\"color: #000080; font-weight: bold\">0.700709219858156</span>                                                   \n",
       "                                                                                             \n",
       "</pre>\n"
      ],
      "text/plain": [
       "<rich.jupyter.JupyterRenderable at 0x7f1cb4b69c40>"
      ]
     },
     "metadata": {},
     "output_type": "display_data"
    },
    {
     "data": {
      "text/html": [
       "<pre style=\"white-space:pre;overflow-x:auto;line-height:normal;font-family:Menlo,'DejaVu Sans Mono',consolas,'Courier New',monospace\"><span style=\"color: #7fbfbf\">           </span><span style=\"color: #000080\">INFO    </span> Start Training: Epoch <span style=\"color: #000080; font-weight: bold\">11</span>               <a href=\"file://<ipython-input-9-5c2bae223fd1>\"><span style=\"color: #7f7f7f\">&lt;ipython-input-9-5c2bae223fd1&gt;</span></a><span style=\"color: #7f7f7f\">:408</span>\n",
       "</pre>\n"
      ],
      "text/plain": [
       "<rich.jupyter.JupyterRenderable at 0x7f1cb4a2e4f0>"
      ]
     },
     "metadata": {},
     "output_type": "display_data"
    },
    {
     "name": "stdout",
     "output_type": "stream",
     "text": [
      "Training steps: 0 Loss: 0.5625631213188171\n",
      "Training steps: 50 Loss: 0.680475652217865\n",
      "Training steps: 100 Loss: 0.5394958853721619\n",
      "Training steps: 150 Loss: 0.5170425772666931\n",
      "VALID AUC : 0.7655008473537489 ACC : 0.6995947315096251\n",
      "\n"
     ]
    },
    {
     "data": {
      "text/html": [
       "<pre style=\"white-space:pre;overflow-x:auto;line-height:normal;font-family:Menlo,'DejaVu Sans Mono',consolas,'Courier New',monospace\"><span style=\"color: #7fbfbf\">[06:07:42] </span><span style=\"color: #000080\">INFO    </span> TRAIN_LOSS: <span style=\"color: #000080; font-weight: bold\">0.5660259127616882</span>         <a href=\"file://<ipython-input-9-5c2bae223fd1>\"><span style=\"color: #7f7f7f\">&lt;ipython-input-9-5c2bae223fd1&gt;</span></a><span style=\"color: #7f7f7f\">:424</span>\n",
       "</pre>\n"
      ],
      "text/plain": [
       "<rich.jupyter.JupyterRenderable at 0x7f1caa780460>"
      ]
     },
     "metadata": {},
     "output_type": "display_data"
    },
    {
     "data": {
      "text/html": [
       "<pre style=\"white-space:pre;overflow-x:auto;line-height:normal;font-family:Menlo,'DejaVu Sans Mono',consolas,'Courier New',monospace\"><span style=\"color: #7fbfbf\">           </span><span style=\"color: #000080\">INFO    </span> TRAIN AUC: <span style=\"color: #000080; font-weight: bold\">0.7781314758181622</span> TRAIN    <a href=\"file://<ipython-input-9-5c2bae223fd1>\"><span style=\"color: #7f7f7f\">&lt;ipython-input-9-5c2bae223fd1&gt;</span></a><span style=\"color: #7f7f7f\">:425</span>\n",
       "                    ACC: <span style=\"color: #000080; font-weight: bold\">0.7147634005471679</span>                                                  \n",
       "</pre>\n"
      ],
      "text/plain": [
       "<rich.jupyter.JupyterRenderable at 0x7f1caa780730>"
      ]
     },
     "metadata": {},
     "output_type": "display_data"
    },
    {
     "data": {
      "text/html": [
       "<pre style=\"white-space:pre;overflow-x:auto;line-height:normal;font-family:Menlo,'DejaVu Sans Mono',consolas,'Courier New',monospace\"><span style=\"color: #7fbfbf\">           </span><span style=\"color: #000080\">INFO    </span> VALID AUC: <span style=\"color: #000080; font-weight: bold\">0.7655008473537489</span> VALID    <a href=\"file://<ipython-input-9-5c2bae223fd1>\"><span style=\"color: #7f7f7f\">&lt;ipython-input-9-5c2bae223fd1&gt;</span></a><span style=\"color: #7f7f7f\">:426</span>\n",
       "                    ACC: <span style=\"color: #000080; font-weight: bold\">0.6995947315096251</span>                                                  \n",
       "                                                                                             \n",
       "</pre>\n"
      ],
      "text/plain": [
       "<rich.jupyter.JupyterRenderable at 0x7f1caa780a30>"
      ]
     },
     "metadata": {},
     "output_type": "display_data"
    },
    {
     "data": {
      "text/html": [
       "<pre style=\"white-space:pre;overflow-x:auto;line-height:normal;font-family:Menlo,'DejaVu Sans Mono',consolas,'Courier New',monospace\"><span style=\"color: #7fbfbf\">           </span><span style=\"color: #000080\">INFO    </span> EarlyStopping counter: <span style=\"color: #000080; font-weight: bold\">1</span>               <a href=\"file://<ipython-input-9-5c2bae223fd1>\"><span style=\"color: #7f7f7f\">&lt;ipython-input-9-5c2bae223fd1&gt;</span></a><span style=\"color: #7f7f7f\">:434</span>\n",
       "</pre>\n"
      ],
      "text/plain": [
       "<rich.jupyter.JupyterRenderable at 0x7f1cb4a56310>"
      ]
     },
     "metadata": {},
     "output_type": "display_data"
    },
    {
     "data": {
      "text/html": [
       "<pre style=\"white-space:pre;overflow-x:auto;line-height:normal;font-family:Menlo,'DejaVu Sans Mono',consolas,'Courier New',monospace\"><span style=\"color: #7fbfbf\">           </span><span style=\"color: #000080\">INFO    </span> Start Training: Epoch <span style=\"color: #000080; font-weight: bold\">12</span>               <a href=\"file://<ipython-input-9-5c2bae223fd1>\"><span style=\"color: #7f7f7f\">&lt;ipython-input-9-5c2bae223fd1&gt;</span></a><span style=\"color: #7f7f7f\">:408</span>\n",
       "</pre>\n"
      ],
      "text/plain": [
       "<rich.jupyter.JupyterRenderable at 0x7f1caa780730>"
      ]
     },
     "metadata": {},
     "output_type": "display_data"
    },
    {
     "name": "stdout",
     "output_type": "stream",
     "text": [
      "Training steps: 0 Loss: 0.5241779685020447\n",
      "Training steps: 50 Loss: 0.5585733652114868\n",
      "Training steps: 100 Loss: 0.509527325630188\n",
      "Training steps: 150 Loss: 0.5723485350608826\n",
      "VALID AUC : 0.7656945499232173 ACC : 0.6988855116514691\n",
      "\n"
     ]
    },
    {
     "data": {
      "text/html": [
       "<pre style=\"white-space:pre;overflow-x:auto;line-height:normal;font-family:Menlo,'DejaVu Sans Mono',consolas,'Courier New',monospace\"><span style=\"color: #7fbfbf\">[06:07:47] </span><span style=\"color: #000080\">INFO    </span> TRAIN_LOSS: <span style=\"color: #000080; font-weight: bold\">0.5658010840415955</span>         <a href=\"file://<ipython-input-9-5c2bae223fd1>\"><span style=\"color: #7f7f7f\">&lt;ipython-input-9-5c2bae223fd1&gt;</span></a><span style=\"color: #7f7f7f\">:424</span>\n",
       "</pre>\n"
      ],
      "text/plain": [
       "<rich.jupyter.JupyterRenderable at 0x7f1cb4b12520>"
      ]
     },
     "metadata": {},
     "output_type": "display_data"
    },
    {
     "data": {
      "text/html": [
       "<pre style=\"white-space:pre;overflow-x:auto;line-height:normal;font-family:Menlo,'DejaVu Sans Mono',consolas,'Courier New',monospace\"><span style=\"color: #7fbfbf\">           </span><span style=\"color: #000080\">INFO    </span> TRAIN AUC: <span style=\"color: #000080; font-weight: bold\">0.7779377199138757</span> TRAIN    <a href=\"file://<ipython-input-9-5c2bae223fd1>\"><span style=\"color: #7f7f7f\">&lt;ipython-input-9-5c2bae223fd1&gt;</span></a><span style=\"color: #7f7f7f\">:425</span>\n",
       "                    ACC: <span style=\"color: #000080; font-weight: bold\">0.711622251494579</span>                                                   \n",
       "</pre>\n"
      ],
      "text/plain": [
       "<rich.jupyter.JupyterRenderable at 0x7f1caa780a30>"
      ]
     },
     "metadata": {},
     "output_type": "display_data"
    },
    {
     "data": {
      "text/html": [
       "<pre style=\"white-space:pre;overflow-x:auto;line-height:normal;font-family:Menlo,'DejaVu Sans Mono',consolas,'Courier New',monospace\"><span style=\"color: #7fbfbf\">           </span><span style=\"color: #000080\">INFO    </span> VALID AUC: <span style=\"color: #000080; font-weight: bold\">0.7656945499232173</span> VALID    <a href=\"file://<ipython-input-9-5c2bae223fd1>\"><span style=\"color: #7f7f7f\">&lt;ipython-input-9-5c2bae223fd1&gt;</span></a><span style=\"color: #7f7f7f\">:426</span>\n",
       "                    ACC: <span style=\"color: #000080; font-weight: bold\">0.6988855116514691</span>                                                  \n",
       "                                                                                             \n",
       "</pre>\n"
      ],
      "text/plain": [
       "<rich.jupyter.JupyterRenderable at 0x7f1caa7805b0>"
      ]
     },
     "metadata": {},
     "output_type": "display_data"
    },
    {
     "data": {
      "text/html": [
       "<pre style=\"white-space:pre;overflow-x:auto;line-height:normal;font-family:Menlo,'DejaVu Sans Mono',consolas,'Courier New',monospace\"><span style=\"color: #7fbfbf\">           </span><span style=\"color: #000080\">INFO    </span> EarlyStopping counter: <span style=\"color: #000080; font-weight: bold\">2</span>               <a href=\"file://<ipython-input-9-5c2bae223fd1>\"><span style=\"color: #7f7f7f\">&lt;ipython-input-9-5c2bae223fd1&gt;</span></a><span style=\"color: #7f7f7f\">:434</span>\n",
       "</pre>\n"
      ],
      "text/plain": [
       "<rich.jupyter.JupyterRenderable at 0x7f1caa722970>"
      ]
     },
     "metadata": {},
     "output_type": "display_data"
    },
    {
     "data": {
      "text/html": [
       "<pre style=\"white-space:pre;overflow-x:auto;line-height:normal;font-family:Menlo,'DejaVu Sans Mono',consolas,'Courier New',monospace\"><span style=\"color: #7fbfbf\">           </span><span style=\"color: #000080\">INFO    </span> Start Training: Epoch <span style=\"color: #000080; font-weight: bold\">13</span>               <a href=\"file://<ipython-input-9-5c2bae223fd1>\"><span style=\"color: #7f7f7f\">&lt;ipython-input-9-5c2bae223fd1&gt;</span></a><span style=\"color: #7f7f7f\">:408</span>\n",
       "</pre>\n"
      ],
      "text/plain": [
       "<rich.jupyter.JupyterRenderable at 0x7f1cb4b12520>"
      ]
     },
     "metadata": {},
     "output_type": "display_data"
    },
    {
     "name": "stdout",
     "output_type": "stream",
     "text": [
      "Training steps: 0 Loss: 0.5363513231277466\n",
      "Training steps: 50 Loss: 0.6622883677482605\n",
      "Training steps: 100 Loss: 0.6162733435630798\n",
      "Training steps: 150 Loss: 0.5894209742546082\n",
      "VALID AUC : 0.766073944882736 ACC : 0.7004052684903749\n",
      "\n"
     ]
    },
    {
     "data": {
      "text/html": [
       "<pre style=\"white-space:pre;overflow-x:auto;line-height:normal;font-family:Menlo,'DejaVu Sans Mono',consolas,'Courier New',monospace\"><span style=\"color: #7fbfbf\">[06:07:52] </span><span style=\"color: #000080\">INFO    </span> TRAIN_LOSS: <span style=\"color: #000080; font-weight: bold\">0.5649067163467407</span>         <a href=\"file://<ipython-input-9-5c2bae223fd1>\"><span style=\"color: #7f7f7f\">&lt;ipython-input-9-5c2bae223fd1&gt;</span></a><span style=\"color: #7f7f7f\">:424</span>\n",
       "</pre>\n"
      ],
      "text/plain": [
       "<rich.jupyter.JupyterRenderable at 0x7f1cb4a2efd0>"
      ]
     },
     "metadata": {},
     "output_type": "display_data"
    },
    {
     "data": {
      "text/html": [
       "<pre style=\"white-space:pre;overflow-x:auto;line-height:normal;font-family:Menlo,'DejaVu Sans Mono',consolas,'Courier New',monospace\"><span style=\"color: #7fbfbf\">           </span><span style=\"color: #000080\">INFO    </span> TRAIN AUC: <span style=\"color: #000080; font-weight: bold\">0.7791964862747779</span> TRAIN    <a href=\"file://<ipython-input-9-5c2bae223fd1>\"><span style=\"color: #7f7f7f\">&lt;ipython-input-9-5c2bae223fd1&gt;</span></a><span style=\"color: #7f7f7f\">:425</span>\n",
       "                    ACC: <span style=\"color: #000080; font-weight: bold\">0.7141554362144088</span>                                                  \n",
       "</pre>\n"
      ],
      "text/plain": [
       "<rich.jupyter.JupyterRenderable at 0x7f1cb4b12b20>"
      ]
     },
     "metadata": {},
     "output_type": "display_data"
    },
    {
     "data": {
      "text/html": [
       "<pre style=\"white-space:pre;overflow-x:auto;line-height:normal;font-family:Menlo,'DejaVu Sans Mono',consolas,'Courier New',monospace\"><span style=\"color: #7fbfbf\">           </span><span style=\"color: #000080\">INFO    </span> VALID AUC: <span style=\"color: #000080; font-weight: bold\">0.766073944882736</span> VALID     <a href=\"file://<ipython-input-9-5c2bae223fd1>\"><span style=\"color: #7f7f7f\">&lt;ipython-input-9-5c2bae223fd1&gt;</span></a><span style=\"color: #7f7f7f\">:426</span>\n",
       "                    ACC: <span style=\"color: #000080; font-weight: bold\">0.7004052684903749</span>                                                  \n",
       "                                                                                             \n",
       "</pre>\n"
      ],
      "text/plain": [
       "<rich.jupyter.JupyterRenderable at 0x7f1cb4bdd0d0>"
      ]
     },
     "metadata": {},
     "output_type": "display_data"
    },
    {
     "data": {
      "text/html": [
       "<pre style=\"white-space:pre;overflow-x:auto;line-height:normal;font-family:Menlo,'DejaVu Sans Mono',consolas,'Courier New',monospace\"><span style=\"color: #7fbfbf\">           </span><span style=\"color: #000080\">INFO    </span> Start Training: Epoch <span style=\"color: #000080; font-weight: bold\">14</span>               <a href=\"file://<ipython-input-9-5c2bae223fd1>\"><span style=\"color: #7f7f7f\">&lt;ipython-input-9-5c2bae223fd1&gt;</span></a><span style=\"color: #7f7f7f\">:408</span>\n",
       "</pre>\n"
      ],
      "text/plain": [
       "<rich.jupyter.JupyterRenderable at 0x7f1caa780460>"
      ]
     },
     "metadata": {},
     "output_type": "display_data"
    },
    {
     "name": "stdout",
     "output_type": "stream",
     "text": [
      "Training steps: 0 Loss: 0.5096485018730164\n",
      "Training steps: 50 Loss: 0.5241687297821045\n",
      "Training steps: 100 Loss: 0.5340245962142944\n",
      "Training steps: 150 Loss: 0.481601357460022\n",
      "VALID AUC : 0.7658122174049778 ACC : 0.696757852077001\n",
      "\n"
     ]
    },
    {
     "data": {
      "text/html": [
       "<pre style=\"white-space:pre;overflow-x:auto;line-height:normal;font-family:Menlo,'DejaVu Sans Mono',consolas,'Courier New',monospace\"><span style=\"color: #7fbfbf\">[06:07:55] </span><span style=\"color: #000080\">INFO    </span> TRAIN_LOSS: <span style=\"color: #000080; font-weight: bold\">0.5655456185340881</span>         <a href=\"file://<ipython-input-9-5c2bae223fd1>\"><span style=\"color: #7f7f7f\">&lt;ipython-input-9-5c2bae223fd1&gt;</span></a><span style=\"color: #7f7f7f\">:424</span>\n",
       "</pre>\n"
      ],
      "text/plain": [
       "<rich.jupyter.JupyterRenderable at 0x7f1caa722d90>"
      ]
     },
     "metadata": {},
     "output_type": "display_data"
    },
    {
     "data": {
      "text/html": [
       "<pre style=\"white-space:pre;overflow-x:auto;line-height:normal;font-family:Menlo,'DejaVu Sans Mono',consolas,'Courier New',monospace\"><span style=\"color: #7fbfbf\">           </span><span style=\"color: #000080\">INFO    </span> TRAIN AUC: <span style=\"color: #000080; font-weight: bold\">0.7783968965533673</span> TRAIN    <a href=\"file://<ipython-input-9-5c2bae223fd1>\"><span style=\"color: #7f7f7f\">&lt;ipython-input-9-5c2bae223fd1&gt;</span></a><span style=\"color: #7f7f7f\">:425</span>\n",
       "                    ACC: <span style=\"color: #000080; font-weight: bold\">0.7133448171040633</span>                                                  \n",
       "</pre>\n"
      ],
      "text/plain": [
       "<rich.jupyter.JupyterRenderable at 0x7f1caa728d60>"
      ]
     },
     "metadata": {},
     "output_type": "display_data"
    },
    {
     "data": {
      "text/html": [
       "<pre style=\"white-space:pre;overflow-x:auto;line-height:normal;font-family:Menlo,'DejaVu Sans Mono',consolas,'Courier New',monospace\"><span style=\"color: #7fbfbf\">           </span><span style=\"color: #000080\">INFO    </span> VALID AUC: <span style=\"color: #000080; font-weight: bold\">0.7658122174049778</span> VALID    <a href=\"file://<ipython-input-9-5c2bae223fd1>\"><span style=\"color: #7f7f7f\">&lt;ipython-input-9-5c2bae223fd1&gt;</span></a><span style=\"color: #7f7f7f\">:426</span>\n",
       "                    ACC: <span style=\"color: #000080; font-weight: bold\">0.696757852077001</span>                                                   \n",
       "                                                                                             \n",
       "</pre>\n"
      ],
      "text/plain": [
       "<rich.jupyter.JupyterRenderable at 0x7f1cb4a56b20>"
      ]
     },
     "metadata": {},
     "output_type": "display_data"
    },
    {
     "data": {
      "text/html": [
       "<pre style=\"white-space:pre;overflow-x:auto;line-height:normal;font-family:Menlo,'DejaVu Sans Mono',consolas,'Courier New',monospace\"><span style=\"color: #7fbfbf\">           </span><span style=\"color: #000080\">INFO    </span> EarlyStopping counter: <span style=\"color: #000080; font-weight: bold\">1</span>               <a href=\"file://<ipython-input-9-5c2bae223fd1>\"><span style=\"color: #7f7f7f\">&lt;ipython-input-9-5c2bae223fd1&gt;</span></a><span style=\"color: #7f7f7f\">:434</span>\n",
       "</pre>\n"
      ],
      "text/plain": [
       "<rich.jupyter.JupyterRenderable at 0x7f1cb4b12fd0>"
      ]
     },
     "metadata": {},
     "output_type": "display_data"
    },
    {
     "data": {
      "text/html": [
       "<pre style=\"white-space:pre;overflow-x:auto;line-height:normal;font-family:Menlo,'DejaVu Sans Mono',consolas,'Courier New',monospace\"><span style=\"color: #7fbfbf\">           </span><span style=\"color: #000080\">INFO    </span> Start Training: Epoch <span style=\"color: #000080; font-weight: bold\">15</span>               <a href=\"file://<ipython-input-9-5c2bae223fd1>\"><span style=\"color: #7f7f7f\">&lt;ipython-input-9-5c2bae223fd1&gt;</span></a><span style=\"color: #7f7f7f\">:408</span>\n",
       "</pre>\n"
      ],
      "text/plain": [
       "<rich.jupyter.JupyterRenderable at 0x7f1cb4ba9d00>"
      ]
     },
     "metadata": {},
     "output_type": "display_data"
    },
    {
     "name": "stdout",
     "output_type": "stream",
     "text": [
      "Training steps: 0 Loss: 0.5083456039428711\n",
      "Training steps: 50 Loss: 0.6289308071136475\n",
      "Training steps: 100 Loss: 0.4640214443206787\n",
      "Training steps: 150 Loss: 0.5439263582229614\n",
      "VALID AUC : 0.7650075640740412 ACC : 0.6995947315096251\n",
      "\n"
     ]
    },
    {
     "data": {
      "text/html": [
       "<pre style=\"white-space:pre;overflow-x:auto;line-height:normal;font-family:Menlo,'DejaVu Sans Mono',consolas,'Courier New',monospace\"><span style=\"color: #7fbfbf\">[06:08:00] </span><span style=\"color: #000080\">INFO    </span> TRAIN_LOSS: <span style=\"color: #000080; font-weight: bold\">0.5657692551612854</span>         <a href=\"file://<ipython-input-9-5c2bae223fd1>\"><span style=\"color: #7f7f7f\">&lt;ipython-input-9-5c2bae223fd1&gt;</span></a><span style=\"color: #7f7f7f\">:424</span>\n",
       "</pre>\n"
      ],
      "text/plain": [
       "<rich.jupyter.JupyterRenderable at 0x7f1caa7243d0>"
      ]
     },
     "metadata": {},
     "output_type": "display_data"
    },
    {
     "data": {
      "text/html": [
       "<pre style=\"white-space:pre;overflow-x:auto;line-height:normal;font-family:Menlo,'DejaVu Sans Mono',consolas,'Courier New',monospace\"><span style=\"color: #7fbfbf\">           </span><span style=\"color: #000080\">INFO    </span> TRAIN AUC: <span style=\"color: #000080; font-weight: bold\">0.7786417154469527</span> TRAIN    <a href=\"file://<ipython-input-9-5c2bae223fd1>\"><span style=\"color: #7f7f7f\">&lt;ipython-input-9-5c2bae223fd1&gt;</span></a><span style=\"color: #7f7f7f\">:425</span>\n",
       "                    ACC: <span style=\"color: #000080; font-weight: bold\">0.7118249062721653</span>                                                  \n",
       "</pre>\n"
      ],
      "text/plain": [
       "<rich.jupyter.JupyterRenderable at 0x7f1caa76bca0>"
      ]
     },
     "metadata": {},
     "output_type": "display_data"
    },
    {
     "data": {
      "text/html": [
       "<pre style=\"white-space:pre;overflow-x:auto;line-height:normal;font-family:Menlo,'DejaVu Sans Mono',consolas,'Courier New',monospace\"><span style=\"color: #7fbfbf\">           </span><span style=\"color: #000080\">INFO    </span> VALID AUC: <span style=\"color: #000080; font-weight: bold\">0.7650075640740412</span> VALID    <a href=\"file://<ipython-input-9-5c2bae223fd1>\"><span style=\"color: #7f7f7f\">&lt;ipython-input-9-5c2bae223fd1&gt;</span></a><span style=\"color: #7f7f7f\">:426</span>\n",
       "                    ACC: <span style=\"color: #000080; font-weight: bold\">0.6995947315096251</span>                                                  \n",
       "                                                                                             \n",
       "</pre>\n"
      ],
      "text/plain": [
       "<rich.jupyter.JupyterRenderable at 0x7f1caa76b1c0>"
      ]
     },
     "metadata": {},
     "output_type": "display_data"
    },
    {
     "data": {
      "text/html": [
       "<pre style=\"white-space:pre;overflow-x:auto;line-height:normal;font-family:Menlo,'DejaVu Sans Mono',consolas,'Courier New',monospace\"><span style=\"color: #7fbfbf\">           </span><span style=\"color: #000080\">INFO    </span> EarlyStopping counter: <span style=\"color: #000080; font-weight: bold\">2</span>               <a href=\"file://<ipython-input-9-5c2bae223fd1>\"><span style=\"color: #7f7f7f\">&lt;ipython-input-9-5c2bae223fd1&gt;</span></a><span style=\"color: #7f7f7f\">:434</span>\n",
       "</pre>\n"
      ],
      "text/plain": [
       "<rich.jupyter.JupyterRenderable at 0x7f1cb4b12a00>"
      ]
     },
     "metadata": {},
     "output_type": "display_data"
    },
    {
     "data": {
      "text/html": [
       "<pre style=\"white-space:pre;overflow-x:auto;line-height:normal;font-family:Menlo,'DejaVu Sans Mono',consolas,'Courier New',monospace\"><span style=\"color: #7fbfbf\">           </span><span style=\"color: #000080\">INFO    </span> Start Training: Epoch <span style=\"color: #000080; font-weight: bold\">16</span>               <a href=\"file://<ipython-input-9-5c2bae223fd1>\"><span style=\"color: #7f7f7f\">&lt;ipython-input-9-5c2bae223fd1&gt;</span></a><span style=\"color: #7f7f7f\">:408</span>\n",
       "</pre>\n"
      ],
      "text/plain": [
       "<rich.jupyter.JupyterRenderable at 0x7f1caa7283a0>"
      ]
     },
     "metadata": {},
     "output_type": "display_data"
    },
    {
     "name": "stdout",
     "output_type": "stream",
     "text": [
      "Training steps: 0 Loss: 0.6096076369285583\n",
      "Training steps: 50 Loss: 0.5665196776390076\n",
      "Training steps: 100 Loss: 0.5685922503471375\n",
      "Training steps: 150 Loss: 0.5799347162246704\n",
      "VALID AUC : 0.7656642960917226 ACC : 0.6996960486322188\n",
      "\n"
     ]
    },
    {
     "data": {
      "text/html": [
       "<pre style=\"white-space:pre;overflow-x:auto;line-height:normal;font-family:Menlo,'DejaVu Sans Mono',consolas,'Courier New',monospace\"><span style=\"color: #7fbfbf\">[06:08:04] </span><span style=\"color: #000080\">INFO    </span> TRAIN_LOSS: <span style=\"color: #000080; font-weight: bold\">0.5647841691970825</span>         <a href=\"file://<ipython-input-9-5c2bae223fd1>\"><span style=\"color: #7f7f7f\">&lt;ipython-input-9-5c2bae223fd1&gt;</span></a><span style=\"color: #7f7f7f\">:424</span>\n",
       "</pre>\n"
      ],
      "text/plain": [
       "<rich.jupyter.JupyterRenderable at 0x7f1cb4b697c0>"
      ]
     },
     "metadata": {},
     "output_type": "display_data"
    },
    {
     "data": {
      "text/html": [
       "<pre style=\"white-space:pre;overflow-x:auto;line-height:normal;font-family:Menlo,'DejaVu Sans Mono',consolas,'Courier New',monospace\"><span style=\"color: #7fbfbf\">           </span><span style=\"color: #000080\">INFO    </span> TRAIN AUC: <span style=\"color: #000080; font-weight: bold\">0.7787038085349055</span> TRAIN    <a href=\"file://<ipython-input-9-5c2bae223fd1>\"><span style=\"color: #7f7f7f\">&lt;ipython-input-9-5c2bae223fd1&gt;</span></a><span style=\"color: #7f7f7f\">:425</span>\n",
       "                    ACC: <span style=\"color: #000080; font-weight: bold\">0.7105076502178539</span>                                                  \n",
       "</pre>\n"
      ],
      "text/plain": [
       "<rich.jupyter.JupyterRenderable at 0x7f1cb4b4d430>"
      ]
     },
     "metadata": {},
     "output_type": "display_data"
    },
    {
     "data": {
      "text/html": [
       "<pre style=\"white-space:pre;overflow-x:auto;line-height:normal;font-family:Menlo,'DejaVu Sans Mono',consolas,'Courier New',monospace\"><span style=\"color: #7fbfbf\">           </span><span style=\"color: #000080\">INFO    </span> VALID AUC: <span style=\"color: #000080; font-weight: bold\">0.7656642960917226</span> VALID    <a href=\"file://<ipython-input-9-5c2bae223fd1>\"><span style=\"color: #7f7f7f\">&lt;ipython-input-9-5c2bae223fd1&gt;</span></a><span style=\"color: #7f7f7f\">:426</span>\n",
       "                    ACC: <span style=\"color: #000080; font-weight: bold\">0.6996960486322188</span>                                                  \n",
       "                                                                                             \n",
       "</pre>\n"
      ],
      "text/plain": [
       "<rich.jupyter.JupyterRenderable at 0x7f1cb4a56160>"
      ]
     },
     "metadata": {},
     "output_type": "display_data"
    },
    {
     "data": {
      "text/html": [
       "<pre style=\"white-space:pre;overflow-x:auto;line-height:normal;font-family:Menlo,'DejaVu Sans Mono',consolas,'Courier New',monospace\"><span style=\"color: #7fbfbf\">           </span><span style=\"color: #000080\">INFO    </span> EarlyStopping counter: <span style=\"color: #000080; font-weight: bold\">3</span>               <a href=\"file://<ipython-input-9-5c2bae223fd1>\"><span style=\"color: #7f7f7f\">&lt;ipython-input-9-5c2bae223fd1&gt;</span></a><span style=\"color: #7f7f7f\">:434</span>\n",
       "</pre>\n"
      ],
      "text/plain": [
       "<rich.jupyter.JupyterRenderable at 0x7f1caa76bca0>"
      ]
     },
     "metadata": {},
     "output_type": "display_data"
    },
    {
     "data": {
      "text/html": [
       "<pre style=\"white-space:pre;overflow-x:auto;line-height:normal;font-family:Menlo,'DejaVu Sans Mono',consolas,'Courier New',monospace\"><span style=\"color: #7fbfbf\">           </span><span style=\"color: #000080\">INFO    </span> Start Training: Epoch <span style=\"color: #000080; font-weight: bold\">17</span>               <a href=\"file://<ipython-input-9-5c2bae223fd1>\"><span style=\"color: #7f7f7f\">&lt;ipython-input-9-5c2bae223fd1&gt;</span></a><span style=\"color: #7f7f7f\">:408</span>\n",
       "</pre>\n"
      ],
      "text/plain": [
       "<rich.jupyter.JupyterRenderable at 0x7f1cb4a560d0>"
      ]
     },
     "metadata": {},
     "output_type": "display_data"
    },
    {
     "name": "stdout",
     "output_type": "stream",
     "text": [
      "Training steps: 0 Loss: 0.5412495136260986\n",
      "Training steps: 50 Loss: 0.423947274684906\n",
      "Training steps: 100 Loss: 0.5943970084190369\n",
      "Training steps: 150 Loss: 0.6731114983558655\n",
      "VALID AUC : 0.7650756095212524 ACC : 0.7017223910840932\n",
      "\n"
     ]
    },
    {
     "data": {
      "text/html": [
       "<pre style=\"white-space:pre;overflow-x:auto;line-height:normal;font-family:Menlo,'DejaVu Sans Mono',consolas,'Courier New',monospace\"><span style=\"color: #7fbfbf\">[06:08:08] </span><span style=\"color: #000080\">INFO    </span> TRAIN_LOSS: <span style=\"color: #000080; font-weight: bold\">0.5672995448112488</span>         <a href=\"file://<ipython-input-9-5c2bae223fd1>\"><span style=\"color: #7f7f7f\">&lt;ipython-input-9-5c2bae223fd1&gt;</span></a><span style=\"color: #7f7f7f\">:424</span>\n",
       "</pre>\n"
      ],
      "text/plain": [
       "<rich.jupyter.JupyterRenderable at 0x7f1cb4bdd0d0>"
      ]
     },
     "metadata": {},
     "output_type": "display_data"
    },
    {
     "data": {
      "text/html": [
       "<pre style=\"white-space:pre;overflow-x:auto;line-height:normal;font-family:Menlo,'DejaVu Sans Mono',consolas,'Courier New',monospace\"><span style=\"color: #7fbfbf\">           </span><span style=\"color: #000080\">INFO    </span> TRAIN AUC: <span style=\"color: #000080; font-weight: bold\">0.7766524566679389</span> TRAIN    <a href=\"file://<ipython-input-9-5c2bae223fd1>\"><span style=\"color: #7f7f7f\">&lt;ipython-input-9-5c2bae223fd1&gt;</span></a><span style=\"color: #7f7f7f\">:425</span>\n",
       "                    ACC: <span style=\"color: #000080; font-weight: bold\">0.710001013273888</span>                                                   \n",
       "</pre>\n"
      ],
      "text/plain": [
       "<rich.jupyter.JupyterRenderable at 0x7f1cb4b12b20>"
      ]
     },
     "metadata": {},
     "output_type": "display_data"
    },
    {
     "data": {
      "text/html": [
       "<pre style=\"white-space:pre;overflow-x:auto;line-height:normal;font-family:Menlo,'DejaVu Sans Mono',consolas,'Courier New',monospace\"><span style=\"color: #7fbfbf\">           </span><span style=\"color: #000080\">INFO    </span> VALID AUC: <span style=\"color: #000080; font-weight: bold\">0.7650756095212524</span> VALID    <a href=\"file://<ipython-input-9-5c2bae223fd1>\"><span style=\"color: #7f7f7f\">&lt;ipython-input-9-5c2bae223fd1&gt;</span></a><span style=\"color: #7f7f7f\">:426</span>\n",
       "                    ACC: <span style=\"color: #000080; font-weight: bold\">0.7017223910840932</span>                                                  \n",
       "                                                                                             \n",
       "</pre>\n"
      ],
      "text/plain": [
       "<rich.jupyter.JupyterRenderable at 0x7f1cb4a2edf0>"
      ]
     },
     "metadata": {},
     "output_type": "display_data"
    },
    {
     "data": {
      "text/html": [
       "<pre style=\"white-space:pre;overflow-x:auto;line-height:normal;font-family:Menlo,'DejaVu Sans Mono',consolas,'Courier New',monospace\"><span style=\"color: #7fbfbf\">           </span><span style=\"color: #000080\">INFO    </span> EarlyStopping counter: <span style=\"color: #000080; font-weight: bold\">4</span>               <a href=\"file://<ipython-input-9-5c2bae223fd1>\"><span style=\"color: #7f7f7f\">&lt;ipython-input-9-5c2bae223fd1&gt;</span></a><span style=\"color: #7f7f7f\">:434</span>\n",
       "</pre>\n"
      ],
      "text/plain": [
       "<rich.jupyter.JupyterRenderable at 0x7f1caa76b280>"
      ]
     },
     "metadata": {},
     "output_type": "display_data"
    },
    {
     "data": {
      "text/html": [
       "<pre style=\"white-space:pre;overflow-x:auto;line-height:normal;font-family:Menlo,'DejaVu Sans Mono',consolas,'Courier New',monospace\"><span style=\"color: #7fbfbf\">           </span><span style=\"color: #000080\">INFO    </span> Start Training: Epoch <span style=\"color: #000080; font-weight: bold\">18</span>               <a href=\"file://<ipython-input-9-5c2bae223fd1>\"><span style=\"color: #7f7f7f\">&lt;ipython-input-9-5c2bae223fd1&gt;</span></a><span style=\"color: #7f7f7f\">:408</span>\n",
       "</pre>\n"
      ],
      "text/plain": [
       "<rich.jupyter.JupyterRenderable at 0x7f1cb4a56b20>"
      ]
     },
     "metadata": {},
     "output_type": "display_data"
    },
    {
     "name": "stdout",
     "output_type": "stream",
     "text": [
      "Training steps: 0 Loss: 0.4657229483127594\n",
      "Training steps: 50 Loss: 0.5562278032302856\n",
      "Training steps: 100 Loss: 0.5812209844589233\n",
      "Training steps: 150 Loss: 0.5252683758735657\n",
      "VALID AUC : 0.7651389926332639 ACC : 0.701418439716312\n",
      "\n"
     ]
    },
    {
     "data": {
      "text/html": [
       "<pre style=\"white-space:pre;overflow-x:auto;line-height:normal;font-family:Menlo,'DejaVu Sans Mono',consolas,'Courier New',monospace\"><span style=\"color: #7fbfbf\">[06:08:13] </span><span style=\"color: #000080\">INFO    </span> TRAIN_LOSS: <span style=\"color: #000080; font-weight: bold\">0.564346194267273</span>          <a href=\"file://<ipython-input-9-5c2bae223fd1>\"><span style=\"color: #7f7f7f\">&lt;ipython-input-9-5c2bae223fd1&gt;</span></a><span style=\"color: #7f7f7f\">:424</span>\n",
       "</pre>\n"
      ],
      "text/plain": [
       "<rich.jupyter.JupyterRenderable at 0x7f1caa7283a0>"
      ]
     },
     "metadata": {},
     "output_type": "display_data"
    },
    {
     "data": {
      "text/html": [
       "<pre style=\"white-space:pre;overflow-x:auto;line-height:normal;font-family:Menlo,'DejaVu Sans Mono',consolas,'Courier New',monospace\"><span style=\"color: #7fbfbf\">           </span><span style=\"color: #000080\">INFO    </span> TRAIN AUC: <span style=\"color: #000080; font-weight: bold\">0.7794450640287983</span> TRAIN    <a href=\"file://<ipython-input-9-5c2bae223fd1>\"><span style=\"color: #7f7f7f\">&lt;ipython-input-9-5c2bae223fd1&gt;</span></a><span style=\"color: #7f7f7f\">:425</span>\n",
       "                    ACC: <span style=\"color: #000080; font-weight: bold\">0.7131421623264769</span>                                                  \n",
       "</pre>\n"
      ],
      "text/plain": [
       "<rich.jupyter.JupyterRenderable at 0x7f1caa724610>"
      ]
     },
     "metadata": {},
     "output_type": "display_data"
    },
    {
     "data": {
      "text/html": [
       "<pre style=\"white-space:pre;overflow-x:auto;line-height:normal;font-family:Menlo,'DejaVu Sans Mono',consolas,'Courier New',monospace\"><span style=\"color: #7fbfbf\">           </span><span style=\"color: #000080\">INFO    </span> VALID AUC: <span style=\"color: #000080; font-weight: bold\">0.7651389926332639</span> VALID    <a href=\"file://<ipython-input-9-5c2bae223fd1>\"><span style=\"color: #7f7f7f\">&lt;ipython-input-9-5c2bae223fd1&gt;</span></a><span style=\"color: #7f7f7f\">:426</span>\n",
       "                    ACC: <span style=\"color: #000080; font-weight: bold\">0.701418439716312</span>                                                   \n",
       "                                                                                             \n",
       "</pre>\n"
      ],
      "text/plain": [
       "<rich.jupyter.JupyterRenderable at 0x7f1cb4b12520>"
      ]
     },
     "metadata": {},
     "output_type": "display_data"
    },
    {
     "data": {
      "text/html": [
       "<pre style=\"white-space:pre;overflow-x:auto;line-height:normal;font-family:Menlo,'DejaVu Sans Mono',consolas,'Courier New',monospace\"><span style=\"color: #7fbfbf\">           </span><span style=\"color: #000080\">INFO    </span> EarlyStopping counter: <span style=\"color: #000080; font-weight: bold\">5</span>               <a href=\"file://<ipython-input-9-5c2bae223fd1>\"><span style=\"color: #7f7f7f\">&lt;ipython-input-9-5c2bae223fd1&gt;</span></a><span style=\"color: #7f7f7f\">:434</span>\n",
       "</pre>\n"
      ],
      "text/plain": [
       "<rich.jupyter.JupyterRenderable at 0x7f1cb4b12b20>"
      ]
     },
     "metadata": {},
     "output_type": "display_data"
    },
    {
     "data": {
      "text/html": [
       "<pre style=\"white-space:pre;overflow-x:auto;line-height:normal;font-family:Menlo,'DejaVu Sans Mono',consolas,'Courier New',monospace\"><span style=\"color: #7fbfbf\">           </span><span style=\"color: #000080\">INFO    </span> EarlyStopping counter: <span style=\"color: #000080; font-weight: bold\">5</span> out of <span style=\"color: #000080; font-weight: bold\">5</span>      <a href=\"file://<ipython-input-9-5c2bae223fd1>\"><span style=\"color: #7f7f7f\">&lt;ipython-input-9-5c2bae223fd1&gt;</span></a><span style=\"color: #7f7f7f\">:436</span>\n",
       "</pre>\n"
      ],
      "text/plain": [
       "<rich.jupyter.JupyterRenderable at 0x7f1cb4b128b0>"
      ]
     },
     "metadata": {},
     "output_type": "display_data"
    },
    {
     "data": {
      "text/html": [
       "Finishing last run (ID:x4qnfsoq) before initializing another..."
      ],
      "text/plain": [
       "<IPython.core.display.HTML object>"
      ]
     },
     "metadata": {},
     "output_type": "display_data"
    },
    {
     "data": {
      "text/html": [
       "<br/>Waiting for W&B process to finish, PID 26144<br/>Program ended successfully."
      ],
      "text/plain": [
       "<IPython.core.display.HTML object>"
      ]
     },
     "metadata": {},
     "output_type": "display_data"
    },
    {
     "data": {
      "application/vnd.jupyter.widget-view+json": {
       "model_id": "989f2bbf8b474aa59972d44ae970811e",
       "version_major": 2,
       "version_minor": 0
      },
      "text/plain": [
       "VBox(children=(Label(value=' 2.23MB of 2.23MB uploaded (0.00MB deduped)\\r'), FloatProgress(value=1.0, max=1.0)…"
      ]
     },
     "metadata": {},
     "output_type": "display_data"
    },
    {
     "data": {
      "text/html": [
       "Find user logs for this run at: <code>/home/j-gunmo/desktop/00.my-project/17.P-Stage-T1003/4-STAGE/notebook/wandb/run-20210608_060645-x4qnfsoq/logs/debug.log</code>"
      ],
      "text/plain": [
       "<IPython.core.display.HTML object>"
      ]
     },
     "metadata": {},
     "output_type": "display_data"
    },
    {
     "data": {
      "text/html": [
       "Find internal logs for this run at: <code>/home/j-gunmo/desktop/00.my-project/17.P-Stage-T1003/4-STAGE/notebook/wandb/run-20210608_060645-x4qnfsoq/logs/debug-internal.log</code>"
      ],
      "text/plain": [
       "<IPython.core.display.HTML object>"
      ]
     },
     "metadata": {},
     "output_type": "display_data"
    },
    {
     "data": {
      "text/html": [
       "<h3>Run summary:</h3><br/><style>\n",
       "    table.wandb td:nth-child(1) { padding: 0 10px; text-align: right }\n",
       "    </style><table class=\"wandb\">\n",
       "<tr><td>step_train_loss</td><td>0.52527</td></tr><tr><td>_runtime</td><td>84</td></tr><tr><td>_timestamp</td><td>1623100093</td></tr><tr><td>_step</td><td>89</td></tr><tr><td>epoch</td><td>17</td></tr><tr><td>train_loss</td><td>0.56435</td></tr><tr><td>train_auc</td><td>0.77945</td></tr><tr><td>train_acc</td><td>0.71314</td></tr><tr><td>valid_auc</td><td>0.76514</td></tr><tr><td>valid_acc</td><td>0.70142</td></tr></table>"
      ],
      "text/plain": [
       "<IPython.core.display.HTML object>"
      ]
     },
     "metadata": {},
     "output_type": "display_data"
    },
    {
     "data": {
      "text/html": [
       "<h3>Run history:</h3><br/><style>\n",
       "    table.wandb td:nth-child(1) { padding: 0 10px; text-align: right }\n",
       "    </style><table class=\"wandb\">\n",
       "<tr><td>step_train_loss</td><td>█▆▄█▄▇▄▅▇▂▃▅▅▅▃▄█▃█▄▃▅▄▇▃▄▅▇▆▃▄▃▂▆▅▅▁▇▄▄</td></tr><tr><td>_runtime</td><td>▁▁▁▂▂▂▂▂▂▃▃▃▃▃▄▄▄▄▄▄▅▅▅▅▅▆▆▆▆▆▆▆▇▇▇▇▇███</td></tr><tr><td>_timestamp</td><td>▁▁▁▂▂▂▂▂▂▃▃▃▃▃▄▄▄▄▄▄▅▅▅▅▅▆▆▆▆▆▆▆▇▇▇▇▇███</td></tr><tr><td>_step</td><td>▁▁▁▁▂▂▂▂▂▃▃▃▃▃▃▄▄▄▄▄▅▅▅▅▅▅▆▆▆▆▆▇▇▇▇▇▇███</td></tr><tr><td>epoch</td><td>▁▁▂▂▃▃▃▄▄▅▅▆▆▆▇▇██</td></tr><tr><td>train_loss</td><td>█▃▂▂▂▂▂▂▁▁▁▁▁▁▁▁▂▁</td></tr><tr><td>train_auc</td><td>▁▆▇▇▇▇█▇████████▇█</td></tr><tr><td>train_acc</td><td>▁▅▇▇▇▇▇▇▇▇█▇██▇▇▆▇</td></tr><tr><td>valid_auc</td><td>▁▅▇▇▇▇▇▇██▇███▇▇▇▇</td></tr><tr><td>valid_acc</td><td>▃▄▆▆▆▁▃▅▆▇▅▄▆▁▅▅██</td></tr></table><br/>"
      ],
      "text/plain": [
       "<IPython.core.display.HTML object>"
      ]
     },
     "metadata": {},
     "output_type": "display_data"
    },
    {
     "data": {
      "text/html": [
       "Synced 6 W&B file(s), 1 media file(s), 0 artifact file(s) and 1 other file(s)"
      ],
      "text/plain": [
       "<IPython.core.display.HTML object>"
      ]
     },
     "metadata": {},
     "output_type": "display_data"
    },
    {
     "data": {
      "text/html": [
       "\n",
       "                    <br/>Synced <strong style=\"color:#cdcd00\">upbeat-silence-84</strong>: <a href=\"https://wandb.ai/ggm1207/p-stage-4/runs/x4qnfsoq\" target=\"_blank\">https://wandb.ai/ggm1207/p-stage-4/runs/x4qnfsoq</a><br/>\n",
       "                "
      ],
      "text/plain": [
       "<IPython.core.display.HTML object>"
      ]
     },
     "metadata": {},
     "output_type": "display_data"
    },
    {
     "data": {
      "text/html": [
       "...Successfully finished last run (ID:x4qnfsoq). Initializing new run:<br/><br/>"
      ],
      "text/plain": [
       "<IPython.core.display.HTML object>"
      ]
     },
     "metadata": {},
     "output_type": "display_data"
    },
    {
     "name": "stderr",
     "output_type": "stream",
     "text": [
      "\u001b[34m\u001b[1mwandb\u001b[0m: wandb version 0.10.31 is available!  To upgrade, please run:\n",
      "\u001b[34m\u001b[1mwandb\u001b[0m:  $ pip install wandb --upgrade\n"
     ]
    },
    {
     "data": {
      "text/html": [
       "\n",
       "                Tracking run with wandb version 0.10.27<br/>\n",
       "                Syncing run <strong style=\"color:#cdcd00\">vibrant-microwave-85</strong> to <a href=\"https://wandb.ai\" target=\"_blank\">Weights & Biases</a> <a href=\"https://docs.wandb.com/integrations/jupyter.html\" target=\"_blank\">(Documentation)</a>.<br/>\n",
       "                Project page: <a href=\"https://wandb.ai/ggm1207/p-stage-4\" target=\"_blank\">https://wandb.ai/ggm1207/p-stage-4</a><br/>\n",
       "                Run page: <a href=\"https://wandb.ai/ggm1207/p-stage-4/runs/1pn1v83i\" target=\"_blank\">https://wandb.ai/ggm1207/p-stage-4/runs/1pn1v83i</a><br/>\n",
       "                Run data is saved locally in <code>/home/j-gunmo/desktop/00.my-project/17.P-Stage-T1003/4-STAGE/notebook/wandb/run-20210608_060814-1pn1v83i</code><br/><br/>\n",
       "            "
      ],
      "text/plain": [
       "<IPython.core.display.HTML object>"
      ]
     },
     "metadata": {},
     "output_type": "display_data"
    },
    {
     "data": {
      "text/html": [
       "<pre style=\"white-space:pre;overflow-x:auto;line-height:normal;font-family:Menlo,'DejaVu Sans Mono',consolas,'Courier New',monospace\"><span style=\"color: #7fbfbf\">[06:08:18] </span><span style=\"color: #000080\">INFO    </span> Start Training: Epoch <span style=\"color: #000080; font-weight: bold\">1</span>                <a href=\"file://<ipython-input-9-5c2bae223fd1>\"><span style=\"color: #7f7f7f\">&lt;ipython-input-9-5c2bae223fd1&gt;</span></a><span style=\"color: #7f7f7f\">:408</span>\n",
       "</pre>\n"
      ],
      "text/plain": [
       "<rich.jupyter.JupyterRenderable at 0x7f1caa7285e0>"
      ]
     },
     "metadata": {},
     "output_type": "display_data"
    },
    {
     "name": "stdout",
     "output_type": "stream",
     "text": [
      "Training steps: 0 Loss: 0.6939135193824768\n",
      "Training steps: 50 Loss: 0.5450733304023743\n",
      "Training steps: 100 Loss: 0.55817711353302\n",
      "Training steps: 150 Loss: 0.527776837348938\n",
      "VALID AUC : 0.767287344968185 ACC : 0.703242147922999\n",
      "\n"
     ]
    },
    {
     "data": {
      "text/html": [
       "<pre style=\"white-space:pre;overflow-x:auto;line-height:normal;font-family:Menlo,'DejaVu Sans Mono',consolas,'Courier New',monospace\"><span style=\"color: #7fbfbf\">[06:08:23] </span><span style=\"color: #000080\">INFO    </span> TRAIN_LOSS: <span style=\"color: #000080; font-weight: bold\">0.6068216562271118</span>         <a href=\"file://<ipython-input-9-5c2bae223fd1>\"><span style=\"color: #7f7f7f\">&lt;ipython-input-9-5c2bae223fd1&gt;</span></a><span style=\"color: #7f7f7f\">:424</span>\n",
       "</pre>\n"
      ],
      "text/plain": [
       "<rich.jupyter.JupyterRenderable at 0x7f1caa761e80>"
      ]
     },
     "metadata": {},
     "output_type": "display_data"
    },
    {
     "data": {
      "text/html": [
       "<pre style=\"white-space:pre;overflow-x:auto;line-height:normal;font-family:Menlo,'DejaVu Sans Mono',consolas,'Courier New',monospace\"><span style=\"color: #7fbfbf\">           </span><span style=\"color: #000080\">INFO    </span> TRAIN AUC: <span style=\"color: #000080; font-weight: bold\">0.7376730267479061</span> TRAIN    <a href=\"file://<ipython-input-9-5c2bae223fd1>\"><span style=\"color: #7f7f7f\">&lt;ipython-input-9-5c2bae223fd1&gt;</span></a><span style=\"color: #7f7f7f\">:425</span>\n",
       "                    ACC: <span style=\"color: #000080; font-weight: bold\">0.6840612017428311</span>                                                  \n",
       "</pre>\n"
      ],
      "text/plain": [
       "<rich.jupyter.JupyterRenderable at 0x7f1cb4ba96d0>"
      ]
     },
     "metadata": {},
     "output_type": "display_data"
    },
    {
     "data": {
      "text/html": [
       "<pre style=\"white-space:pre;overflow-x:auto;line-height:normal;font-family:Menlo,'DejaVu Sans Mono',consolas,'Courier New',monospace\"><span style=\"color: #7fbfbf\">           </span><span style=\"color: #000080\">INFO    </span> VALID AUC: <span style=\"color: #000080; font-weight: bold\">0.767287344968185</span> VALID     <a href=\"file://<ipython-input-9-5c2bae223fd1>\"><span style=\"color: #7f7f7f\">&lt;ipython-input-9-5c2bae223fd1&gt;</span></a><span style=\"color: #7f7f7f\">:426</span>\n",
       "                    ACC: <span style=\"color: #000080; font-weight: bold\">0.703242147922999</span>                                                   \n",
       "                                                                                             \n",
       "</pre>\n"
      ],
      "text/plain": [
       "<rich.jupyter.JupyterRenderable at 0x7f1cb4b7afa0>"
      ]
     },
     "metadata": {},
     "output_type": "display_data"
    },
    {
     "data": {
      "text/html": [
       "<pre style=\"white-space:pre;overflow-x:auto;line-height:normal;font-family:Menlo,'DejaVu Sans Mono',consolas,'Courier New',monospace\"><span style=\"color: #7fbfbf\">           </span><span style=\"color: #000080\">INFO    </span> Start Training: Epoch <span style=\"color: #000080; font-weight: bold\">2</span>                <a href=\"file://<ipython-input-9-5c2bae223fd1>\"><span style=\"color: #7f7f7f\">&lt;ipython-input-9-5c2bae223fd1&gt;</span></a><span style=\"color: #7f7f7f\">:408</span>\n",
       "</pre>\n"
      ],
      "text/plain": [
       "<rich.jupyter.JupyterRenderable at 0x7f1caa7447f0>"
      ]
     },
     "metadata": {},
     "output_type": "display_data"
    },
    {
     "name": "stdout",
     "output_type": "stream",
     "text": [
      "Training steps: 0 Loss: 0.5818948149681091\n",
      "Training steps: 50 Loss: 0.6454010605812073\n",
      "Training steps: 100 Loss: 0.5357780456542969\n",
      "Training steps: 150 Loss: 0.6046144366264343\n",
      "VALID AUC : 0.7680727333961042 ACC : 0.704660587639311\n",
      "\n"
     ]
    },
    {
     "data": {
      "text/html": [
       "<pre style=\"white-space:pre;overflow-x:auto;line-height:normal;font-family:Menlo,'DejaVu Sans Mono',consolas,'Courier New',monospace\"><span style=\"color: #7fbfbf\">[06:08:28] </span><span style=\"color: #000080\">INFO    </span> TRAIN_LOSS: <span style=\"color: #000080; font-weight: bold\">0.5814196467399597</span>         <a href=\"file://<ipython-input-9-5c2bae223fd1>\"><span style=\"color: #7f7f7f\">&lt;ipython-input-9-5c2bae223fd1&gt;</span></a><span style=\"color: #7f7f7f\">:424</span>\n",
       "</pre>\n"
      ],
      "text/plain": [
       "<rich.jupyter.JupyterRenderable at 0x7f1cb4a88730>"
      ]
     },
     "metadata": {},
     "output_type": "display_data"
    },
    {
     "data": {
      "text/html": [
       "<pre style=\"white-space:pre;overflow-x:auto;line-height:normal;font-family:Menlo,'DejaVu Sans Mono',consolas,'Courier New',monospace\"><span style=\"color: #7fbfbf\">           </span><span style=\"color: #000080\">INFO    </span> TRAIN AUC: <span style=\"color: #000080; font-weight: bold\">0.7610588630116353</span> TRAIN    <a href=\"file://<ipython-input-9-5c2bae223fd1>\"><span style=\"color: #7f7f7f\">&lt;ipython-input-9-5c2bae223fd1&gt;</span></a><span style=\"color: #7f7f7f\">:425</span>\n",
       "                    ACC: <span style=\"color: #000080; font-weight: bold\">0.7011855304488803</span>                                                  \n",
       "</pre>\n"
      ],
      "text/plain": [
       "<rich.jupyter.JupyterRenderable at 0x7f1caa73d8e0>"
      ]
     },
     "metadata": {},
     "output_type": "display_data"
    },
    {
     "data": {
      "text/html": [
       "<pre style=\"white-space:pre;overflow-x:auto;line-height:normal;font-family:Menlo,'DejaVu Sans Mono',consolas,'Courier New',monospace\"><span style=\"color: #7fbfbf\">           </span><span style=\"color: #000080\">INFO    </span> VALID AUC: <span style=\"color: #000080; font-weight: bold\">0.7680727333961042</span> VALID    <a href=\"file://<ipython-input-9-5c2bae223fd1>\"><span style=\"color: #7f7f7f\">&lt;ipython-input-9-5c2bae223fd1&gt;</span></a><span style=\"color: #7f7f7f\">:426</span>\n",
       "                    ACC: <span style=\"color: #000080; font-weight: bold\">0.704660587639311</span>                                                   \n",
       "                                                                                             \n",
       "</pre>\n"
      ],
      "text/plain": [
       "<rich.jupyter.JupyterRenderable at 0x7f1caa744580>"
      ]
     },
     "metadata": {},
     "output_type": "display_data"
    },
    {
     "data": {
      "text/html": [
       "<pre style=\"white-space:pre;overflow-x:auto;line-height:normal;font-family:Menlo,'DejaVu Sans Mono',consolas,'Courier New',monospace\"><span style=\"color: #7fbfbf\">           </span><span style=\"color: #000080\">INFO    </span> Start Training: Epoch <span style=\"color: #000080; font-weight: bold\">3</span>                <a href=\"file://<ipython-input-9-5c2bae223fd1>\"><span style=\"color: #7f7f7f\">&lt;ipython-input-9-5c2bae223fd1&gt;</span></a><span style=\"color: #7f7f7f\">:408</span>\n",
       "</pre>\n"
      ],
      "text/plain": [
       "<rich.jupyter.JupyterRenderable at 0x7f1cb4ba9b80>"
      ]
     },
     "metadata": {},
     "output_type": "display_data"
    },
    {
     "name": "stdout",
     "output_type": "stream",
     "text": [
      "Training steps: 0 Loss: 0.5527403354644775\n",
      "Training steps: 50 Loss: 0.542732834815979\n",
      "Training steps: 100 Loss: 0.6141574382781982\n",
      "Training steps: 150 Loss: 0.5232219696044922\n",
      "VALID AUC : 0.7703990192142419 ACC : 0.7065856129685917\n",
      "\n"
     ]
    },
    {
     "data": {
      "text/html": [
       "<pre style=\"white-space:pre;overflow-x:auto;line-height:normal;font-family:Menlo,'DejaVu Sans Mono',consolas,'Courier New',monospace\"><span style=\"color: #7fbfbf\">[06:08:32] </span><span style=\"color: #000080\">INFO    </span> TRAIN_LOSS: <span style=\"color: #000080; font-weight: bold\">0.5788629055023193</span>         <a href=\"file://<ipython-input-9-5c2bae223fd1>\"><span style=\"color: #7f7f7f\">&lt;ipython-input-9-5c2bae223fd1&gt;</span></a><span style=\"color: #7f7f7f\">:424</span>\n",
       "</pre>\n"
      ],
      "text/plain": [
       "<rich.jupyter.JupyterRenderable at 0x7f1caa743220>"
      ]
     },
     "metadata": {},
     "output_type": "display_data"
    },
    {
     "data": {
      "text/html": [
       "<pre style=\"white-space:pre;overflow-x:auto;line-height:normal;font-family:Menlo,'DejaVu Sans Mono',consolas,'Courier New',monospace\"><span style=\"color: #7fbfbf\">           </span><span style=\"color: #000080\">INFO    </span> TRAIN AUC: <span style=\"color: #000080; font-weight: bold\">0.7641334058218192</span> TRAIN    <a href=\"file://<ipython-input-9-5c2bae223fd1>\"><span style=\"color: #7f7f7f\">&lt;ipython-input-9-5c2bae223fd1&gt;</span></a><span style=\"color: #7f7f7f\">:425</span>\n",
       "                    ACC: <span style=\"color: #000080; font-weight: bold\">0.7051372986118147</span>                                                  \n",
       "</pre>\n"
      ],
      "text/plain": [
       "<rich.jupyter.JupyterRenderable at 0x7f1caa73d8e0>"
      ]
     },
     "metadata": {},
     "output_type": "display_data"
    },
    {
     "data": {
      "text/html": [
       "<pre style=\"white-space:pre;overflow-x:auto;line-height:normal;font-family:Menlo,'DejaVu Sans Mono',consolas,'Courier New',monospace\"><span style=\"color: #7fbfbf\">           </span><span style=\"color: #000080\">INFO    </span> VALID AUC: <span style=\"color: #000080; font-weight: bold\">0.7703990192142419</span> VALID    <a href=\"file://<ipython-input-9-5c2bae223fd1>\"><span style=\"color: #7f7f7f\">&lt;ipython-input-9-5c2bae223fd1&gt;</span></a><span style=\"color: #7f7f7f\">:426</span>\n",
       "                    ACC: <span style=\"color: #000080; font-weight: bold\">0.7065856129685917</span>                                                  \n",
       "                                                                                             \n",
       "</pre>\n"
      ],
      "text/plain": [
       "<rich.jupyter.JupyterRenderable at 0x7f1cb4b7afa0>"
      ]
     },
     "metadata": {},
     "output_type": "display_data"
    },
    {
     "data": {
      "text/html": [
       "<pre style=\"white-space:pre;overflow-x:auto;line-height:normal;font-family:Menlo,'DejaVu Sans Mono',consolas,'Courier New',monospace\"><span style=\"color: #7fbfbf\">           </span><span style=\"color: #000080\">INFO    </span> Start Training: Epoch <span style=\"color: #000080; font-weight: bold\">4</span>                <a href=\"file://<ipython-input-9-5c2bae223fd1>\"><span style=\"color: #7f7f7f\">&lt;ipython-input-9-5c2bae223fd1&gt;</span></a><span style=\"color: #7f7f7f\">:408</span>\n",
       "</pre>\n"
      ],
      "text/plain": [
       "<rich.jupyter.JupyterRenderable at 0x7f1caa7447f0>"
      ]
     },
     "metadata": {},
     "output_type": "display_data"
    },
    {
     "name": "stdout",
     "output_type": "stream",
     "text": [
      "Training steps: 0 Loss: 0.5261073112487793\n",
      "Training steps: 50 Loss: 0.6449102759361267\n",
      "Training steps: 100 Loss: 0.6048198342323303\n",
      "Training steps: 150 Loss: 0.6135616898536682\n",
      "VALID AUC : 0.7700187388401223 ACC : 0.7073961499493414\n",
      "\n"
     ]
    },
    {
     "data": {
      "text/html": [
       "<pre style=\"white-space:pre;overflow-x:auto;line-height:normal;font-family:Menlo,'DejaVu Sans Mono',consolas,'Courier New',monospace\"><span style=\"color: #7fbfbf\">[06:08:37] </span><span style=\"color: #000080\">INFO    </span> TRAIN_LOSS: <span style=\"color: #000080; font-weight: bold\">0.5777078866958618</span>         <a href=\"file://<ipython-input-9-5c2bae223fd1>\"><span style=\"color: #7f7f7f\">&lt;ipython-input-9-5c2bae223fd1&gt;</span></a><span style=\"color: #7f7f7f\">:424</span>\n",
       "</pre>\n"
      ],
      "text/plain": [
       "<rich.jupyter.JupyterRenderable at 0x7f1caa780a30>"
      ]
     },
     "metadata": {},
     "output_type": "display_data"
    },
    {
     "data": {
      "text/html": [
       "<pre style=\"white-space:pre;overflow-x:auto;line-height:normal;font-family:Menlo,'DejaVu Sans Mono',consolas,'Courier New',monospace\"><span style=\"color: #7fbfbf\">           </span><span style=\"color: #000080\">INFO    </span> TRAIN AUC: <span style=\"color: #000080; font-weight: bold\">0.7651705658399599</span> TRAIN    <a href=\"file://<ipython-input-9-5c2bae223fd1>\"><span style=\"color: #7f7f7f\">&lt;ipython-input-9-5c2bae223fd1&gt;</span></a><span style=\"color: #7f7f7f\">:425</span>\n",
       "                    ACC: <span style=\"color: #000080; font-weight: bold\">0.7059479177221603</span>                                                  \n",
       "</pre>\n"
      ],
      "text/plain": [
       "<rich.jupyter.JupyterRenderable at 0x7f1caa66f970>"
      ]
     },
     "metadata": {},
     "output_type": "display_data"
    },
    {
     "data": {
      "text/html": [
       "<pre style=\"white-space:pre;overflow-x:auto;line-height:normal;font-family:Menlo,'DejaVu Sans Mono',consolas,'Courier New',monospace\"><span style=\"color: #7fbfbf\">           </span><span style=\"color: #000080\">INFO    </span> VALID AUC: <span style=\"color: #000080; font-weight: bold\">0.7700187388401223</span> VALID    <a href=\"file://<ipython-input-9-5c2bae223fd1>\"><span style=\"color: #7f7f7f\">&lt;ipython-input-9-5c2bae223fd1&gt;</span></a><span style=\"color: #7f7f7f\">:426</span>\n",
       "                    ACC: <span style=\"color: #000080; font-weight: bold\">0.7073961499493414</span>                                                  \n",
       "                                                                                             \n",
       "</pre>\n"
      ],
      "text/plain": [
       "<rich.jupyter.JupyterRenderable at 0x7f1cb4ba9a00>"
      ]
     },
     "metadata": {},
     "output_type": "display_data"
    },
    {
     "data": {
      "text/html": [
       "<pre style=\"white-space:pre;overflow-x:auto;line-height:normal;font-family:Menlo,'DejaVu Sans Mono',consolas,'Courier New',monospace\"><span style=\"color: #7fbfbf\">           </span><span style=\"color: #000080\">INFO    </span> EarlyStopping counter: <span style=\"color: #000080; font-weight: bold\">1</span>               <a href=\"file://<ipython-input-9-5c2bae223fd1>\"><span style=\"color: #7f7f7f\">&lt;ipython-input-9-5c2bae223fd1&gt;</span></a><span style=\"color: #7f7f7f\">:434</span>\n",
       "</pre>\n"
      ],
      "text/plain": [
       "<rich.jupyter.JupyterRenderable at 0x7f1cb4ba90d0>"
      ]
     },
     "metadata": {},
     "output_type": "display_data"
    },
    {
     "data": {
      "text/html": [
       "<pre style=\"white-space:pre;overflow-x:auto;line-height:normal;font-family:Menlo,'DejaVu Sans Mono',consolas,'Courier New',monospace\"><span style=\"color: #7fbfbf\">           </span><span style=\"color: #000080\">INFO    </span> Start Training: Epoch <span style=\"color: #000080; font-weight: bold\">5</span>                <a href=\"file://<ipython-input-9-5c2bae223fd1>\"><span style=\"color: #7f7f7f\">&lt;ipython-input-9-5c2bae223fd1&gt;</span></a><span style=\"color: #7f7f7f\">:408</span>\n",
       "</pre>\n"
      ],
      "text/plain": [
       "<rich.jupyter.JupyterRenderable at 0x7f1caa724bb0>"
      ]
     },
     "metadata": {},
     "output_type": "display_data"
    },
    {
     "name": "stdout",
     "output_type": "stream",
     "text": [
      "Training steps: 0 Loss: 0.6172245144844055\n",
      "Training steps: 50 Loss: 0.6562529802322388\n",
      "Training steps: 100 Loss: 0.5579624176025391\n",
      "Training steps: 150 Loss: 0.5857707262039185\n",
      "VALID AUC : 0.7700323540193016 ACC : 0.7024316109422493\n",
      "\n"
     ]
    },
    {
     "data": {
      "text/html": [
       "<pre style=\"white-space:pre;overflow-x:auto;line-height:normal;font-family:Menlo,'DejaVu Sans Mono',consolas,'Courier New',monospace\"><span style=\"color: #7fbfbf\">[06:08:41] </span><span style=\"color: #000080\">INFO    </span> TRAIN_LOSS: <span style=\"color: #000080; font-weight: bold\">0.5766154527664185</span>         <a href=\"file://<ipython-input-9-5c2bae223fd1>\"><span style=\"color: #7f7f7f\">&lt;ipython-input-9-5c2bae223fd1&gt;</span></a><span style=\"color: #7f7f7f\">:424</span>\n",
       "</pre>\n"
      ],
      "text/plain": [
       "<rich.jupyter.JupyterRenderable at 0x7f1caa73d8e0>"
      ]
     },
     "metadata": {},
     "output_type": "display_data"
    },
    {
     "data": {
      "text/html": [
       "<pre style=\"white-space:pre;overflow-x:auto;line-height:normal;font-family:Menlo,'DejaVu Sans Mono',consolas,'Courier New',monospace\"><span style=\"color: #7fbfbf\">           </span><span style=\"color: #000080\">INFO    </span> TRAIN AUC: <span style=\"color: #000080; font-weight: bold\">0.766849197188102</span> TRAIN     <a href=\"file://<ipython-input-9-5c2bae223fd1>\"><span style=\"color: #7f7f7f\">&lt;ipython-input-9-5c2bae223fd1&gt;</span></a><span style=\"color: #7f7f7f\">:425</span>\n",
       "                    ACC: <span style=\"color: #000080; font-weight: bold\">0.7069611916100922</span>                                                  \n",
       "</pre>\n"
      ],
      "text/plain": [
       "<rich.jupyter.JupyterRenderable at 0x7f1caa6bfd60>"
      ]
     },
     "metadata": {},
     "output_type": "display_data"
    },
    {
     "data": {
      "text/html": [
       "<pre style=\"white-space:pre;overflow-x:auto;line-height:normal;font-family:Menlo,'DejaVu Sans Mono',consolas,'Courier New',monospace\"><span style=\"color: #7fbfbf\">           </span><span style=\"color: #000080\">INFO    </span> VALID AUC: <span style=\"color: #000080; font-weight: bold\">0.7700323540193016</span> VALID    <a href=\"file://<ipython-input-9-5c2bae223fd1>\"><span style=\"color: #7f7f7f\">&lt;ipython-input-9-5c2bae223fd1&gt;</span></a><span style=\"color: #7f7f7f\">:426</span>\n",
       "                    ACC: <span style=\"color: #000080; font-weight: bold\">0.7024316109422493</span>                                                  \n",
       "                                                                                             \n",
       "</pre>\n"
      ],
      "text/plain": [
       "<rich.jupyter.JupyterRenderable at 0x7f1caa724310>"
      ]
     },
     "metadata": {},
     "output_type": "display_data"
    },
    {
     "data": {
      "text/html": [
       "<pre style=\"white-space:pre;overflow-x:auto;line-height:normal;font-family:Menlo,'DejaVu Sans Mono',consolas,'Courier New',monospace\"><span style=\"color: #7fbfbf\">           </span><span style=\"color: #000080\">INFO    </span> EarlyStopping counter: <span style=\"color: #000080; font-weight: bold\">2</span>               <a href=\"file://<ipython-input-9-5c2bae223fd1>\"><span style=\"color: #7f7f7f\">&lt;ipython-input-9-5c2bae223fd1&gt;</span></a><span style=\"color: #7f7f7f\">:434</span>\n",
       "</pre>\n"
      ],
      "text/plain": [
       "<rich.jupyter.JupyterRenderable at 0x7f1caa6bfe50>"
      ]
     },
     "metadata": {},
     "output_type": "display_data"
    },
    {
     "data": {
      "text/html": [
       "<pre style=\"white-space:pre;overflow-x:auto;line-height:normal;font-family:Menlo,'DejaVu Sans Mono',consolas,'Courier New',monospace\"><span style=\"color: #7fbfbf\">           </span><span style=\"color: #000080\">INFO    </span> Start Training: Epoch <span style=\"color: #000080; font-weight: bold\">6</span>                <a href=\"file://<ipython-input-9-5c2bae223fd1>\"><span style=\"color: #7f7f7f\">&lt;ipython-input-9-5c2bae223fd1&gt;</span></a><span style=\"color: #7f7f7f\">:408</span>\n",
       "</pre>\n"
      ],
      "text/plain": [
       "<rich.jupyter.JupyterRenderable at 0x7f1caa6bfe50>"
      ]
     },
     "metadata": {},
     "output_type": "display_data"
    },
    {
     "name": "stdout",
     "output_type": "stream",
     "text": [
      "Training steps: 0 Loss: 0.5508071184158325\n",
      "Training steps: 50 Loss: 0.592018187046051\n",
      "Training steps: 100 Loss: 0.6317665576934814\n",
      "Training steps: 150 Loss: 0.5763674974441528\n",
      "VALID AUC : 0.7702307700995881 ACC : 0.7044579533941236\n",
      "\n"
     ]
    },
    {
     "data": {
      "text/html": [
       "<pre style=\"white-space:pre;overflow-x:auto;line-height:normal;font-family:Menlo,'DejaVu Sans Mono',consolas,'Courier New',monospace\"><span style=\"color: #7fbfbf\">[06:08:44] </span><span style=\"color: #000080\">INFO    </span> TRAIN_LOSS: <span style=\"color: #000080; font-weight: bold\">0.5777421593666077</span>         <a href=\"file://<ipython-input-9-5c2bae223fd1>\"><span style=\"color: #7f7f7f\">&lt;ipython-input-9-5c2bae223fd1&gt;</span></a><span style=\"color: #7f7f7f\">:424</span>\n",
       "</pre>\n"
      ],
      "text/plain": [
       "<rich.jupyter.JupyterRenderable at 0x7f1caa6bfeb0>"
      ]
     },
     "metadata": {},
     "output_type": "display_data"
    },
    {
     "data": {
      "text/html": [
       "<pre style=\"white-space:pre;overflow-x:auto;line-height:normal;font-family:Menlo,'DejaVu Sans Mono',consolas,'Courier New',monospace\"><span style=\"color: #7fbfbf\">           </span><span style=\"color: #000080\">INFO    </span> TRAIN AUC: <span style=\"color: #000080; font-weight: bold\">0.7656079373248511</span> TRAIN    <a href=\"file://<ipython-input-9-5c2bae223fd1>\"><span style=\"color: #7f7f7f\">&lt;ipython-input-9-5c2bae223fd1&gt;</span></a><span style=\"color: #7f7f7f\">:425</span>\n",
       "                    ACC: <span style=\"color: #000080; font-weight: bold\">0.7045293342790556</span>                                                  \n",
       "</pre>\n"
      ],
      "text/plain": [
       "<rich.jupyter.JupyterRenderable at 0x7f1caa7447f0>"
      ]
     },
     "metadata": {},
     "output_type": "display_data"
    },
    {
     "data": {
      "text/html": [
       "<pre style=\"white-space:pre;overflow-x:auto;line-height:normal;font-family:Menlo,'DejaVu Sans Mono',consolas,'Courier New',monospace\"><span style=\"color: #7fbfbf\">           </span><span style=\"color: #000080\">INFO    </span> VALID AUC: <span style=\"color: #000080; font-weight: bold\">0.7702307700995881</span> VALID    <a href=\"file://<ipython-input-9-5c2bae223fd1>\"><span style=\"color: #7f7f7f\">&lt;ipython-input-9-5c2bae223fd1&gt;</span></a><span style=\"color: #7f7f7f\">:426</span>\n",
       "                    ACC: <span style=\"color: #000080; font-weight: bold\">0.7044579533941236</span>                                                  \n",
       "                                                                                             \n",
       "</pre>\n"
      ],
      "text/plain": [
       "<rich.jupyter.JupyterRenderable at 0x7f1caa6bffa0>"
      ]
     },
     "metadata": {},
     "output_type": "display_data"
    },
    {
     "data": {
      "text/html": [
       "<pre style=\"white-space:pre;overflow-x:auto;line-height:normal;font-family:Menlo,'DejaVu Sans Mono',consolas,'Courier New',monospace\"><span style=\"color: #7fbfbf\">           </span><span style=\"color: #000080\">INFO    </span> EarlyStopping counter: <span style=\"color: #000080; font-weight: bold\">3</span>               <a href=\"file://<ipython-input-9-5c2bae223fd1>\"><span style=\"color: #7f7f7f\">&lt;ipython-input-9-5c2bae223fd1&gt;</span></a><span style=\"color: #7f7f7f\">:434</span>\n",
       "</pre>\n"
      ],
      "text/plain": [
       "<rich.jupyter.JupyterRenderable at 0x7f1caa743cd0>"
      ]
     },
     "metadata": {},
     "output_type": "display_data"
    },
    {
     "data": {
      "text/html": [
       "<pre style=\"white-space:pre;overflow-x:auto;line-height:normal;font-family:Menlo,'DejaVu Sans Mono',consolas,'Courier New',monospace\"><span style=\"color: #7fbfbf\">           </span><span style=\"color: #000080\">INFO    </span> Start Training: Epoch <span style=\"color: #000080; font-weight: bold\">7</span>                <a href=\"file://<ipython-input-9-5c2bae223fd1>\"><span style=\"color: #7f7f7f\">&lt;ipython-input-9-5c2bae223fd1&gt;</span></a><span style=\"color: #7f7f7f\">:408</span>\n",
       "</pre>\n"
      ],
      "text/plain": [
       "<rich.jupyter.JupyterRenderable at 0x7f1caa761580>"
      ]
     },
     "metadata": {},
     "output_type": "display_data"
    },
    {
     "name": "stdout",
     "output_type": "stream",
     "text": [
      "Training steps: 0 Loss: 0.6042513847351074\n",
      "Training steps: 50 Loss: 0.5858402848243713\n",
      "Training steps: 100 Loss: 0.6575174927711487\n",
      "Training steps: 150 Loss: 0.6711153984069824\n",
      "VALID AUC : 0.7696744781104679 ACC : 0.7054711246200608\n",
      "\n"
     ]
    },
    {
     "data": {
      "text/html": [
       "<pre style=\"white-space:pre;overflow-x:auto;line-height:normal;font-family:Menlo,'DejaVu Sans Mono',consolas,'Courier New',monospace\"><span style=\"color: #7fbfbf\">[06:08:50] </span><span style=\"color: #000080\">INFO    </span> TRAIN_LOSS: <span style=\"color: #000080; font-weight: bold\">0.5748170018196106</span>         <a href=\"file://<ipython-input-9-5c2bae223fd1>\"><span style=\"color: #7f7f7f\">&lt;ipython-input-9-5c2bae223fd1&gt;</span></a><span style=\"color: #7f7f7f\">:424</span>\n",
       "</pre>\n"
      ],
      "text/plain": [
       "<rich.jupyter.JupyterRenderable at 0x7f1caa73de20>"
      ]
     },
     "metadata": {},
     "output_type": "display_data"
    },
    {
     "data": {
      "text/html": [
       "<pre style=\"white-space:pre;overflow-x:auto;line-height:normal;font-family:Menlo,'DejaVu Sans Mono',consolas,'Courier New',monospace\"><span style=\"color: #7fbfbf\">           </span><span style=\"color: #000080\">INFO    </span> TRAIN AUC: <span style=\"color: #000080; font-weight: bold\">0.7687747821585962</span> TRAIN    <a href=\"file://<ipython-input-9-5c2bae223fd1>\"><span style=\"color: #7f7f7f\">&lt;ipython-input-9-5c2bae223fd1&gt;</span></a><span style=\"color: #7f7f7f\">:425</span>\n",
       "                    ACC: <span style=\"color: #000080; font-weight: bold\">0.7035160603911237</span>                                                  \n",
       "</pre>\n"
      ],
      "text/plain": [
       "<rich.jupyter.JupyterRenderable at 0x7f1caa6bfe80>"
      ]
     },
     "metadata": {},
     "output_type": "display_data"
    },
    {
     "data": {
      "text/html": [
       "<pre style=\"white-space:pre;overflow-x:auto;line-height:normal;font-family:Menlo,'DejaVu Sans Mono',consolas,'Courier New',monospace\"><span style=\"color: #7fbfbf\">           </span><span style=\"color: #000080\">INFO    </span> VALID AUC: <span style=\"color: #000080; font-weight: bold\">0.7696744781104679</span> VALID    <a href=\"file://<ipython-input-9-5c2bae223fd1>\"><span style=\"color: #7f7f7f\">&lt;ipython-input-9-5c2bae223fd1&gt;</span></a><span style=\"color: #7f7f7f\">:426</span>\n",
       "                    ACC: <span style=\"color: #000080; font-weight: bold\">0.7054711246200608</span>                                                  \n",
       "                                                                                             \n",
       "</pre>\n"
      ],
      "text/plain": [
       "<rich.jupyter.JupyterRenderable at 0x7f1cb4ab96d0>"
      ]
     },
     "metadata": {},
     "output_type": "display_data"
    },
    {
     "data": {
      "text/html": [
       "<pre style=\"white-space:pre;overflow-x:auto;line-height:normal;font-family:Menlo,'DejaVu Sans Mono',consolas,'Courier New',monospace\"><span style=\"color: #7fbfbf\">           </span><span style=\"color: #000080\">INFO    </span> EarlyStopping counter: <span style=\"color: #000080; font-weight: bold\">4</span>               <a href=\"file://<ipython-input-9-5c2bae223fd1>\"><span style=\"color: #7f7f7f\">&lt;ipython-input-9-5c2bae223fd1&gt;</span></a><span style=\"color: #7f7f7f\">:434</span>\n",
       "</pre>\n"
      ],
      "text/plain": [
       "<rich.jupyter.JupyterRenderable at 0x7f1cb4a2eca0>"
      ]
     },
     "metadata": {},
     "output_type": "display_data"
    },
    {
     "data": {
      "text/html": [
       "<pre style=\"white-space:pre;overflow-x:auto;line-height:normal;font-family:Menlo,'DejaVu Sans Mono',consolas,'Courier New',monospace\"><span style=\"color: #7fbfbf\">           </span><span style=\"color: #000080\">INFO    </span> Start Training: Epoch <span style=\"color: #000080; font-weight: bold\">8</span>                <a href=\"file://<ipython-input-9-5c2bae223fd1>\"><span style=\"color: #7f7f7f\">&lt;ipython-input-9-5c2bae223fd1&gt;</span></a><span style=\"color: #7f7f7f\">:408</span>\n",
       "</pre>\n"
      ],
      "text/plain": [
       "<rich.jupyter.JupyterRenderable at 0x7f1cb4bdd820>"
      ]
     },
     "metadata": {},
     "output_type": "display_data"
    },
    {
     "name": "stdout",
     "output_type": "stream",
     "text": [
      "Training steps: 0 Loss: 0.5623224973678589\n",
      "Training steps: 50 Loss: 0.5081357359886169\n",
      "Training steps: 100 Loss: 0.5935376882553101\n",
      "Training steps: 150 Loss: 0.6056705117225647\n",
      "VALID AUC : 0.7696602673955477 ACC : 0.704660587639311\n",
      "\n"
     ]
    },
    {
     "data": {
      "text/html": [
       "<pre style=\"white-space:pre;overflow-x:auto;line-height:normal;font-family:Menlo,'DejaVu Sans Mono',consolas,'Courier New',monospace\"><span style=\"color: #7fbfbf\">[06:08:55] </span><span style=\"color: #000080\">INFO    </span> TRAIN_LOSS: <span style=\"color: #000080; font-weight: bold\">0.5759397149085999</span>         <a href=\"file://<ipython-input-9-5c2bae223fd1>\"><span style=\"color: #7f7f7f\">&lt;ipython-input-9-5c2bae223fd1&gt;</span></a><span style=\"color: #7f7f7f\">:424</span>\n",
       "</pre>\n"
      ],
      "text/plain": [
       "<rich.jupyter.JupyterRenderable at 0x7f1cb4ba94c0>"
      ]
     },
     "metadata": {},
     "output_type": "display_data"
    },
    {
     "data": {
      "text/html": [
       "<pre style=\"white-space:pre;overflow-x:auto;line-height:normal;font-family:Menlo,'DejaVu Sans Mono',consolas,'Courier New',monospace\"><span style=\"color: #7fbfbf\">           </span><span style=\"color: #000080\">INFO    </span> TRAIN AUC: <span style=\"color: #000080; font-weight: bold\">0.7675086440958053</span> TRAIN    <a href=\"file://<ipython-input-9-5c2bae223fd1>\"><span style=\"color: #7f7f7f\">&lt;ipython-input-9-5c2bae223fd1&gt;</span></a><span style=\"color: #7f7f7f\">:425</span>\n",
       "                    ACC: <span style=\"color: #000080; font-weight: bold\">0.7039213699462965</span>                                                  \n",
       "</pre>\n"
      ],
      "text/plain": [
       "<rich.jupyter.JupyterRenderable at 0x7f1caa780a30>"
      ]
     },
     "metadata": {},
     "output_type": "display_data"
    },
    {
     "data": {
      "text/html": [
       "<pre style=\"white-space:pre;overflow-x:auto;line-height:normal;font-family:Menlo,'DejaVu Sans Mono',consolas,'Courier New',monospace\"><span style=\"color: #7fbfbf\">           </span><span style=\"color: #000080\">INFO    </span> VALID AUC: <span style=\"color: #000080; font-weight: bold\">0.7696602673955477</span> VALID    <a href=\"file://<ipython-input-9-5c2bae223fd1>\"><span style=\"color: #7f7f7f\">&lt;ipython-input-9-5c2bae223fd1&gt;</span></a><span style=\"color: #7f7f7f\">:426</span>\n",
       "                    ACC: <span style=\"color: #000080; font-weight: bold\">0.704660587639311</span>                                                   \n",
       "                                                                                             \n",
       "</pre>\n"
      ],
      "text/plain": [
       "<rich.jupyter.JupyterRenderable at 0x7f1cb4ba9a00>"
      ]
     },
     "metadata": {},
     "output_type": "display_data"
    },
    {
     "data": {
      "text/html": [
       "<pre style=\"white-space:pre;overflow-x:auto;line-height:normal;font-family:Menlo,'DejaVu Sans Mono',consolas,'Courier New',monospace\"><span style=\"color: #7fbfbf\">           </span><span style=\"color: #000080\">INFO    </span> EarlyStopping counter: <span style=\"color: #000080; font-weight: bold\">5</span>               <a href=\"file://<ipython-input-9-5c2bae223fd1>\"><span style=\"color: #7f7f7f\">&lt;ipython-input-9-5c2bae223fd1&gt;</span></a><span style=\"color: #7f7f7f\">:434</span>\n",
       "</pre>\n"
      ],
      "text/plain": [
       "<rich.jupyter.JupyterRenderable at 0x7f1cb4a562e0>"
      ]
     },
     "metadata": {},
     "output_type": "display_data"
    },
    {
     "data": {
      "text/html": [
       "<pre style=\"white-space:pre;overflow-x:auto;line-height:normal;font-family:Menlo,'DejaVu Sans Mono',consolas,'Courier New',monospace\"><span style=\"color: #7fbfbf\">           </span><span style=\"color: #000080\">INFO    </span> EarlyStopping counter: <span style=\"color: #000080; font-weight: bold\">5</span> out of <span style=\"color: #000080; font-weight: bold\">5</span>      <a href=\"file://<ipython-input-9-5c2bae223fd1>\"><span style=\"color: #7f7f7f\">&lt;ipython-input-9-5c2bae223fd1&gt;</span></a><span style=\"color: #7f7f7f\">:436</span>\n",
       "</pre>\n"
      ],
      "text/plain": [
       "<rich.jupyter.JupyterRenderable at 0x7f1cb4bdd0d0>"
      ]
     },
     "metadata": {},
     "output_type": "display_data"
    }
   ],
   "source": [
    "trainer.run_cv(train_dataset, valid_dataset, test_dataset, \n",
    "               test_size=0.5,\n",
    "               folds=5,\n",
    "               seeds=[0, 1, 2, 3, 4]\n",
    "              )"
   ]
  },
  {
   "cell_type": "code",
   "execution_count": 14,
   "metadata": {},
   "outputs": [],
   "source": [
    "def metric_result(prefix_path, fold):\n",
    "    print(prefix_path)\n",
    "    file_path = f\"{prefix_path}/valid_cv_results.json\"\n",
    "    total_auc = 0\n",
    "    \n",
    "    with open(file_path, \"r\") as f:\n",
    "        temp = json.load(f)\n",
    "        \n",
    "    for v in temp.values():\n",
    "        print(v)\n",
    "        auc = float(v.split(\",\")[0].split(\":\")[1])\n",
    "        print(auc)\n",
    "        total_auc += auc\n",
    "        \n",
    "    return total_auc / fold"
   ]
  },
  {
   "cell_type": "markdown",
   "metadata": {},
   "source": [
    "**(folds=5, test_size=0.5)**"
   ]
  },
  {
   "cell_type": "code",
   "execution_count": 16,
   "metadata": {},
   "outputs": [
    {
     "name": "stdout",
     "output_type": "stream",
     "text": [
      "/home/j-gunmo/desktop/00.my-project/17.P-Stage-T1003/4-STAGE/models/lstm/hyper_test/LOG_[06.08_06:02]\n",
      "best_auc:0.7661859024091989,best_acc:0.7038500506585613\n",
      "0.7661859024091989\n",
      "best_auc:0.7697012223980025,best_acc:0.7083080040526849\n",
      "0.7697012223980025\n",
      "best_auc:0.7695822663689388,best_acc:0.707193515704154\n",
      "0.7695822663689388\n",
      "best_auc:0.766073944882736,best_acc:0.7004052684903749\n",
      "0.766073944882736\n",
      "best_auc:0.7703990192142419,best_acc:0.7065856129685917\n",
      "0.7703990192142419\n"
     ]
    },
    {
     "data": {
      "text/plain": [
       "0.7683884710546237"
      ]
     },
     "execution_count": 16,
     "metadata": {},
     "output_type": "execute_result"
    }
   ],
   "source": [
    "metric_result(trainer.prefix_save_path, 5)"
   ]
  },
  {
   "cell_type": "markdown",
   "metadata": {},
   "source": [
    "**(folds=3, test_size=0.1)**\n",
    "\n",
    "'/home/j-gunmo/desktop/00.my-project/17.P-Stage-T1003/4-STAGE/models/lstm/hyper_test/LOG_[06.07_16:15]'"
   ]
  },
  {
   "cell_type": "code",
   "execution_count": 47,
   "metadata": {},
   "outputs": [
    {
     "name": "stdout",
     "output_type": "stream",
     "text": [
      "best_auc:0.7787203082239915,best_acc:0.7031408308004052\n",
      "0.7787203082239915\n",
      "best_auc:0.7568773386852548,best_acc:0.6930091185410334\n",
      "0.7568773386852548\n",
      "best_auc:0.7832042699233832,best_acc:0.7173252279635258\n",
      "0.7832042699233832\n"
     ]
    },
    {
     "data": {
      "text/plain": [
       "0.7729339722775431"
      ]
     },
     "execution_count": 47,
     "metadata": {},
     "output_type": "execute_result"
    }
   ],
   "source": [
    "metric_result(trainer.prefix_save_path, 3)"
   ]
  },
  {
   "cell_type": "markdown",
   "metadata": {},
   "source": [
    "**(folds=3, test_size=0.2)**"
   ]
  },
  {
   "cell_type": "code",
   "execution_count": 51,
   "metadata": {},
   "outputs": [
    {
     "name": "stdout",
     "output_type": "stream",
     "text": [
      "/home/j-gunmo/desktop/00.my-project/17.P-Stage-T1003/4-STAGE/models/lstm/hyper_test/LOG_[06.07_16:15]\n",
      "best_auc:0.7711663795329549,best_acc:0.7021276595744681\n",
      "0.7711663795329549\n",
      "best_auc:0.7694992957225927,best_acc:0.708966565349544\n",
      "0.7694992957225927\n",
      "best_auc:0.7688831714676145,best_acc:0.705420466058764\n",
      "0.7688831714676145\n"
     ]
    },
    {
     "data": {
      "text/plain": [
       "0.7698496155743874"
      ]
     },
     "execution_count": 51,
     "metadata": {},
     "output_type": "execute_result"
    }
   ],
   "source": [
    "metric_result(trainer.prefix_save_path, 3)"
   ]
  },
  {
   "cell_type": "markdown",
   "metadata": {},
   "source": [
    "**(folds=3, test_size=0.3)**"
   ]
  },
  {
   "cell_type": "code",
   "execution_count": 53,
   "metadata": {},
   "outputs": [
    {
     "name": "stdout",
     "output_type": "stream",
     "text": [
      "/home/j-gunmo/desktop/00.my-project/17.P-Stage-T1003/4-STAGE/models/lstm/hyper_test/LOG_[06.07_16:15]\n",
      "best_auc:0.7716193510849351,best_acc:0.706855791962175\n",
      "0.7716193510849351\n",
      "best_auc:0.7674919575633128,best_acc:0.7007767646065518\n",
      "0.7674919575633128\n",
      "best_auc:0.7670384501490044,best_acc:0.707531239446133\n",
      "0.7670384501490044\n"
     ]
    },
    {
     "data": {
      "text/plain": [
       "0.7687165862657507"
      ]
     },
     "execution_count": 53,
     "metadata": {},
     "output_type": "execute_result"
    }
   ],
   "source": [
    "metric_result(trainer.prefix_save_path, 3)"
   ]
  },
  {
   "cell_type": "markdown",
   "metadata": {},
   "source": [
    "**(folds=5, test_size=0.1)**"
   ]
  },
  {
   "cell_type": "code",
   "execution_count": 55,
   "metadata": {},
   "outputs": [
    {
     "name": "stdout",
     "output_type": "stream",
     "text": [
      "/home/j-gunmo/desktop/00.my-project/17.P-Stage-T1003/4-STAGE/models/lstm/hyper_test/LOG_[06.07_16:15]\n",
      "best_auc:0.7787203082239915,best_acc:0.7031408308004052\n",
      "0.7787203082239915\n",
      "best_auc:0.7568773386852548,best_acc:0.6930091185410334\n",
      "0.7568773386852548\n",
      "best_auc:0.7832042699233832,best_acc:0.7173252279635258\n",
      "0.7832042699233832\n",
      "best_auc:0.763088549745266,best_acc:0.6990881458966566\n",
      "0.763088549745266\n",
      "best_auc:0.7603983572895276,best_acc:0.7001013171225937\n",
      "0.7603983572895276\n"
     ]
    },
    {
     "data": {
      "text/plain": [
       "0.7684577647734846"
      ]
     },
     "execution_count": 55,
     "metadata": {},
     "output_type": "execute_result"
    }
   ],
   "source": [
    "metric_result(trainer.prefix_save_path, 5)"
   ]
  },
  {
   "cell_type": "markdown",
   "metadata": {},
   "source": [
    "**(folds=5, test_size=0.2)**"
   ]
  },
  {
   "cell_type": "code",
   "execution_count": 58,
   "metadata": {},
   "outputs": [
    {
     "name": "stdout",
     "output_type": "stream",
     "text": [
      "/home/j-gunmo/desktop/00.my-project/17.P-Stage-T1003/4-STAGE/models/lstm/hyper_test/LOG_[06.07_16:15]\n",
      "best_auc:0.7711662510614954,best_acc:0.7021276595744681\n",
      "0.7711662510614954\n",
      "best_auc:0.7694992957225927,best_acc:0.708966565349544\n",
      "0.7694992957225927\n",
      "best_auc:0.7688831714676148,best_acc:0.705420466058764\n",
      "0.7688831714676148\n",
      "best_auc:0.7611421154394541,best_acc:0.7008611955420466\n",
      "0.7611421154394541\n",
      "best_auc:0.7683923069322051,best_acc:0.7031408308004052\n",
      "0.7683923069322051\n"
     ]
    },
    {
     "data": {
      "text/plain": [
       "0.7678166281246723"
      ]
     },
     "execution_count": 58,
     "metadata": {},
     "output_type": "execute_result"
    }
   ],
   "source": [
    "metric_result(trainer.prefix_save_path, 5)"
   ]
  },
  {
   "cell_type": "markdown",
   "metadata": {},
   "source": [
    "**(folds=5, test_size=0.3)**"
   ]
  },
  {
   "cell_type": "code",
   "execution_count": 60,
   "metadata": {},
   "outputs": [
    {
     "name": "stdout",
     "output_type": "stream",
     "text": [
      "/home/j-gunmo/desktop/00.my-project/17.P-Stage-T1003/4-STAGE/models/lstm/hyper_test/LOG_[06.07_16:15]\n",
      "best_auc:0.7716193510849351,best_acc:0.706855791962175\n",
      "0.7716193510849351\n",
      "best_auc:0.7674919575633128,best_acc:0.7007767646065518\n",
      "0.7674919575633128\n",
      "best_auc:0.7670384501490044,best_acc:0.707531239446133\n",
      "0.7670384501490044\n",
      "best_auc:0.761875755153294,best_acc:0.698919284025667\n",
      "0.761875755153294\n",
      "best_auc:0.7712231208940146,best_acc:0.7060114826072272\n",
      "0.7712231208940146\n"
     ]
    },
    {
     "data": {
      "text/plain": [
       "0.7678497269689121"
      ]
     },
     "execution_count": 60,
     "metadata": {},
     "output_type": "execute_result"
    }
   ],
   "source": [
    "metric_result(trainer.prefix_save_path, 5)"
   ]
  },
  {
   "cell_type": "markdown",
   "metadata": {},
   "source": [
    "**(folds=10, test_size=0.1)**"
   ]
  },
  {
   "cell_type": "code",
   "execution_count": 62,
   "metadata": {},
   "outputs": [
    {
     "name": "stdout",
     "output_type": "stream",
     "text": [
      "/home/j-gunmo/desktop/00.my-project/17.P-Stage-T1003/4-STAGE/models/lstm/hyper_test/LOG_[06.07_16:15]\n",
      "best_auc:0.7787203082239915,best_acc:0.7031408308004052\n",
      "0.7787203082239915\n",
      "best_auc:0.7568773386852548,best_acc:0.6930091185410334\n",
      "0.7568773386852548\n",
      "best_auc:0.7832042699233832,best_acc:0.7173252279635258\n",
      "0.7832042699233832\n",
      "best_auc:0.763088549745266,best_acc:0.6990881458966566\n",
      "0.763088549745266\n",
      "best_auc:0.7603983572895276,best_acc:0.7001013171225937\n",
      "0.7603983572895276\n",
      "best_auc:0.7687280830111568,best_acc:0.7102330293819655\n",
      "0.7687280830111568\n",
      "best_auc:0.7894953798767967,best_acc:0.7264437689969605\n",
      "0.7894953798767967\n",
      "best_auc:0.7855520736077601,best_acc:0.7137791286727457\n",
      "0.7855520736077601\n",
      "best_auc:0.7867072490505839,best_acc:0.7137791286727457\n",
      "0.7867072490505839\n",
      "best_auc:0.76207450000411,best_acc:0.7036474164133738\n",
      "0.76207450000411\n"
     ]
    },
    {
     "data": {
      "text/plain": [
       "0.773484610941783"
      ]
     },
     "execution_count": 62,
     "metadata": {},
     "output_type": "execute_result"
    }
   ],
   "source": [
    "metric_result(trainer.prefix_save_path, 10)"
   ]
  },
  {
   "cell_type": "markdown",
   "metadata": {},
   "source": [
    "**(folds=10, test_size=0.2)**"
   ]
  },
  {
   "cell_type": "code",
   "execution_count": 64,
   "metadata": {},
   "outputs": [
    {
     "name": "stdout",
     "output_type": "stream",
     "text": [
      "/home/j-gunmo/desktop/00.my-project/17.P-Stage-T1003/4-STAGE/models/lstm/hyper_test/LOG_[06.07_16:15]\n",
      "best_auc:0.7711662510614954,best_acc:0.7021276595744681\n",
      "0.7711662510614954\n",
      "best_auc:0.7694992957225927,best_acc:0.708966565349544\n",
      "0.7694992957225927\n",
      "best_auc:0.7688831714676145,best_acc:0.705420466058764\n",
      "0.7688831714676145\n",
      "best_auc:0.761142115439454,best_acc:0.7008611955420466\n",
      "0.761142115439454\n",
      "best_auc:0.7683923069322051,best_acc:0.7031408308004052\n",
      "0.7683923069322051\n",
      "best_auc:0.772597449538329,best_acc:0.7102330293819655\n",
      "0.772597449538329\n",
      "best_auc:0.7781345440173286,best_acc:0.7193515704154002\n",
      "0.7781345440173286\n",
      "best_auc:0.7746736038092428,best_acc:0.7074468085106383\n",
      "0.7746736038092428\n",
      "best_auc:0.7780290602025899,best_acc:0.7079533941236069\n",
      "0.7780290602025899\n",
      "best_auc:0.7647608510883205,best_acc:0.7084599797365755\n",
      "0.7647608510883205\n"
     ]
    },
    {
     "data": {
      "text/plain": [
       "0.7707278649279171"
      ]
     },
     "execution_count": 64,
     "metadata": {},
     "output_type": "execute_result"
    }
   ],
   "source": [
    "metric_result(trainer.prefix_save_path, 10)"
   ]
  },
  {
   "cell_type": "markdown",
   "metadata": {},
   "source": [
    "**(folds=10, test_size=0.3)**"
   ]
  },
  {
   "cell_type": "code",
   "execution_count": 66,
   "metadata": {},
   "outputs": [
    {
     "name": "stdout",
     "output_type": "stream",
     "text": [
      "/home/j-gunmo/desktop/00.my-project/17.P-Stage-T1003/4-STAGE/models/lstm/hyper_test/LOG_[06.07_16:15]\n",
      "best_auc:0.7716193510849351,best_acc:0.706855791962175\n",
      "0.7716193510849351\n",
      "best_auc:0.7674919575633128,best_acc:0.7007767646065518\n",
      "0.7674919575633128\n",
      "best_auc:0.7670384501490044,best_acc:0.707531239446133\n",
      "0.7670384501490044\n",
      "best_auc:0.761875755153294,best_acc:0.698919284025667\n",
      "0.761875755153294\n",
      "best_auc:0.7712231208940146,best_acc:0.7060114826072272\n",
      "0.7712231208940146\n",
      "best_auc:0.7697955602890236,best_acc:0.7012833502195205\n",
      "0.7697955602890236\n",
      "best_auc:0.7769459937007558,best_acc:0.7102330293819655\n",
      "0.7769459937007558\n",
      "best_auc:0.7756501346153429,best_acc:0.7051671732522796\n",
      "0.7756501346153429\n",
      "best_auc:0.7749429001964473,best_acc:0.704322863897332\n",
      "0.7749429001964473\n",
      "best_auc:0.7714736603336819,best_acc:0.7066869300911854\n",
      "0.7714736603336819\n"
     ]
    },
    {
     "data": {
      "text/plain": [
       "0.7708056883979812"
      ]
     },
     "execution_count": 66,
     "metadata": {},
     "output_type": "execute_result"
    }
   ],
   "source": [
    "metric_result(trainer.prefix_save_path, 10)"
   ]
  },
  {
   "cell_type": "code",
   "execution_count": 71,
   "metadata": {},
   "outputs": [],
   "source": [
    "df = pd.read_csv(\n",
    "    \"../models/lstm/hyper_test/LOG_[06.07_16:15]/cv_ensemble_test_results.csv\",\n",
    "    index_col=['Unnamed: 0']\n",
    ")"
   ]
  },
  {
   "cell_type": "code",
   "execution_count": 72,
   "metadata": {},
   "outputs": [
    {
     "data": {
      "text/html": [
       "<div>\n",
       "<style scoped>\n",
       "    .dataframe tbody tr th:only-of-type {\n",
       "        vertical-align: middle;\n",
       "    }\n",
       "\n",
       "    .dataframe tbody tr th {\n",
       "        vertical-align: top;\n",
       "    }\n",
       "\n",
       "    .dataframe thead th {\n",
       "        text-align: right;\n",
       "    }\n",
       "</style>\n",
       "<table border=\"1\" class=\"dataframe\">\n",
       "  <thead>\n",
       "    <tr style=\"text-align: right;\">\n",
       "      <th></th>\n",
       "      <th>id</th>\n",
       "      <th>prediction</th>\n",
       "    </tr>\n",
       "  </thead>\n",
       "  <tbody>\n",
       "    <tr>\n",
       "      <th>0</th>\n",
       "      <td>0</td>\n",
       "      <td>0.589862</td>\n",
       "    </tr>\n",
       "    <tr>\n",
       "      <th>1</th>\n",
       "      <td>1</td>\n",
       "      <td>0.594878</td>\n",
       "    </tr>\n",
       "    <tr>\n",
       "      <th>2</th>\n",
       "      <td>2</td>\n",
       "      <td>0.262907</td>\n",
       "    </tr>\n",
       "    <tr>\n",
       "      <th>3</th>\n",
       "      <td>3</td>\n",
       "      <td>0.788662</td>\n",
       "    </tr>\n",
       "    <tr>\n",
       "      <th>4</th>\n",
       "      <td>4</td>\n",
       "      <td>0.433151</td>\n",
       "    </tr>\n",
       "  </tbody>\n",
       "</table>\n",
       "</div>"
      ],
      "text/plain": [
       "   id  prediction\n",
       "0   0    0.589862\n",
       "1   1    0.594878\n",
       "2   2    0.262907\n",
       "3   3    0.788662\n",
       "4   4    0.433151"
      ]
     },
     "execution_count": 72,
     "metadata": {},
     "output_type": "execute_result"
    }
   ],
   "source": [
    "df.head()"
   ]
  },
  {
   "cell_type": "code",
   "execution_count": 75,
   "metadata": {},
   "outputs": [
    {
     "data": {
      "text/plain": [
       "'/home/j-gunmo/desktop/00.my-project/17.P-Stage-T1003/4-STAGE/models/lstm/hyper_test/LOG_[06.07_16:15]'"
      ]
     },
     "execution_count": 75,
     "metadata": {},
     "output_type": "execute_result"
    }
   ],
   "source": [
    "trainer.prefix_save_path"
   ]
  },
  {
   "cell_type": "code",
   "execution_count": 74,
   "metadata": {},
   "outputs": [],
   "source": [
    "df.to_csv(\n",
    "    \"../models/lstm/hyper_test/LOG_[06.07_16:15]/cv_ensembles_test_results.csv\",\n",
    "    index=False\n",
    ")"
   ]
  },
  {
   "cell_type": "code",
   "execution_count": 73,
   "metadata": {},
   "outputs": [],
   "source": [
    "df.to_csv??"
   ]
  }
 ],
 "metadata": {
  "kernelspec": {
   "display_name": "baseline_code",
   "language": "python",
   "name": "baseline_code"
  },
  "language_info": {
   "codemirror_mode": {
    "name": "ipython",
    "version": 3
   },
   "file_extension": ".py",
   "mimetype": "text/x-python",
   "name": "python",
   "nbconvert_exporter": "python",
   "pygments_lexer": "ipython3",
   "version": "3.8.8"
  }
 },
 "nbformat": 4,
 "nbformat_minor": 4
}
