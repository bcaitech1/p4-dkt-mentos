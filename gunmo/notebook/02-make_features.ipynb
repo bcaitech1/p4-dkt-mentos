{
 "cells": [
  {
   "cell_type": "code",
   "execution_count": 1,
   "metadata": {},
   "outputs": [],
   "source": [
    "import sys\n",
    "sys.path.append(\"/home/j-gunmo/desktop/00.my-project/17.P-Stage-T1003/4-STAGE/\")\n",
    "\n",
    "from fe.feature import FEBase\n",
    "\n",
    "from fe.agg import (\n",
    "    MakeCorrectCount, \n",
    "    MakeCorrectPercent, \n",
    "    MakeQuestionCount, \n",
    "    MakeTopNCorrectPercent\n",
    ")\n",
    "\n",
    "from fe.seq import (\n",
    "    SplitAssessmentItemID,\n",
    "    MakeFirstClass,\n",
    "    MakeSecondClass,\n",
    "    MakeTimeDiff,\n",
    "    MakeYMD,\n",
    "    ConvertTime\n",
    ")\n",
    "\n",
    "from dkt_dataset import Preprocess\n",
    "from utils import get_args, get_root_dir\n",
    "from fe.feature import FEPipeline\n",
    "import easydict\n",
    "from IPython.display import clear_output"
   ]
  },
  {
   "cell_type": "code",
   "execution_count": 2,
   "metadata": {},
   "outputs": [],
   "source": [
    "args = get_args()\n",
    "args.data_dir = \"../../input/data/train_dataset/\""
   ]
  },
  {
   "cell_type": "code",
   "execution_count": 3,
   "metadata": {},
   "outputs": [],
   "source": [
    "args.root_dir = get_root_dir(\"../feature_test/\")"
   ]
  },
  {
   "cell_type": "code",
   "execution_count": 4,
   "metadata": {},
   "outputs": [],
   "source": [
    "import os.path as p\n",
    "import pandas as pd\n",
    "df = pd.read_csv(p.join(args.data_dir, \"train_data.csv\"))"
   ]
  },
  {
   "cell_type": "markdown",
   "metadata": {},
   "source": [
    "# Prepare"
   ]
  },
  {
   "cell_type": "code",
   "execution_count": 5,
   "metadata": {},
   "outputs": [],
   "source": [
    "args.num_workers = 2\n",
    "args.n_epochs = 10\n",
    "args.hidden_dim = 512\n",
    "args.use_dynamic = True"
   ]
  },
  {
   "cell_type": "code",
   "execution_count": 6,
   "metadata": {},
   "outputs": [
    {
     "data": {
      "text/plain": [
       "{'seed': 42,\n",
       " 'device': 'cuda',\n",
       " 'use_dynamic': True,\n",
       " 'max_seq_len': 20,\n",
       " 'num_workers': 2,\n",
       " 'data_dir': '../../input/data/train_dataset/',\n",
       " 'hidden_dim': 512,\n",
       " 'n_layers': 2,\n",
       " 'dropout': 0.2,\n",
       " 'n_epochs': 10,\n",
       " 'batch_size': 64,\n",
       " 'lr': 0.0001,\n",
       " 'clip_grad': 10,\n",
       " 'log_steps': 50,\n",
       " 'patience': 5,\n",
       " 'loss': 'bce_loss',\n",
       " 'loss_hp': {'reduction': 'none'},\n",
       " 'optimizer': 'adam',\n",
       " 'optimizer_hp': {'lr': 0.0001, 'weight_decay': 0.01},\n",
       " 'scheduler': 'plateau',\n",
       " 'scheduler_hp': {'patience': 10,\n",
       "  'factor': 0.5,\n",
       "  'mode': 'max',\n",
       "  'verbose': True},\n",
       " 'root_dir': '../feature_test/'}"
      ]
     },
     "execution_count": 6,
     "metadata": {},
     "output_type": "execute_result"
    }
   ],
   "source": [
    "args"
   ]
  },
  {
   "cell_type": "code",
   "execution_count": 7,
   "metadata": {},
   "outputs": [],
   "source": [
    "import torch\n",
    "from trainer import DKTTrainer\n",
    "from models.lstm.model import LSTM\n",
    "\n",
    "class FeatureTestTrainer(DKTTrainer):\n",
    "    def _process_batch(self, batch):\n",
    "        batch['mask'] = batch['mask'].type(torch.FloatTensor)\n",
    "        batch[\"answerCode\"] = batch[\"answerCode\"].type(torch.FloatTensor)\n",
    "\n",
    "        batch[\"interaction\"] = batch[\"answerCode\"] + 1\n",
    "        batch[\"interaction\"] = batch[\"interaction\"].roll(shifts=1, dims=1)\n",
    "        batch[\"mask\"] = batch[\"mask\"].roll(shifts=1, dims=1)\n",
    "        batch[\"mask\"][:, 0] = 0\n",
    "        batch[\"interaction\"] = (batch[\"interaction\"] * batch[\"mask\"]).to(torch.int64)\n",
    "        \n",
    "        \n",
    "        for k in self.args.n_linears: # 수치형\n",
    "            batch[k] = batch[k].type(torch.FloatTensor)\n",
    "            \n",
    "        for k, v in self.args.n_embeddings.items(): # 범주형\n",
    "            batch[k] = batch[k].to(torch.int64)\n",
    "            \n",
    "        for k in batch.keys():\n",
    "            batch[k] = batch[k].to(self.args.device)\n",
    "        \n",
    "        return batch"
   ]
  },
  {
   "cell_type": "code",
   "execution_count": 8,
   "metadata": {},
   "outputs": [],
   "source": [
    "def test_pipeline(args, feature=[], column_name=[], pre_enc=dict()):\n",
    "    fe_list = [\n",
    "        SplitAssessmentItemID,\n",
    "        ConvertTime,\n",
    "        MakeFirstClass,\n",
    "        MakeSecondClass,\n",
    "        MakeCorrectCount,\n",
    "        MakeQuestionCount,\n",
    "        MakeCorrectPercent\n",
    "    ] + feature\n",
    "    \n",
    "    fe_pipeline = FEPipeline(\n",
    "        args, fe_list\n",
    "    )\n",
    "    \n",
    "    columns = [\n",
    "        \"userID\",\n",
    "        \"answerCode\",\n",
    "        \"testPaper\",\n",
    "        \"timeSec\",\n",
    "        \"firstClass\",\n",
    "        \"secondClass\",\n",
    "        \"correctPer\"\n",
    "    ] + column_name\n",
    "    \n",
    "    pre_encoders = {\n",
    "        \"label\": [\"testPaper\", \"firstClass\", \"secondClass\"],\n",
    "        \"min_max\": [\"correctPer\"],\n",
    "        \"std\": [\"timeSec\"],\n",
    "    }\n",
    "    \n",
    "    for k in pre_enc.keys():\n",
    "        pre_encoders[k] += pre_enc[k]\n",
    "\n",
    "    preprocess = Preprocess(args, fe_pipeline, columns)\n",
    "\n",
    "    preprocess.feature_engineering() # feature \n",
    "    preprocess.split_data() # train => train, valid\n",
    "    preprocess.scaling(pre_encoders) # vector로 바꿔주고 Scaling해주고\n",
    "    preprocess.data_augmentation(choices=[1, 3]) # [1, 2] 1: test_data추가, 2: user_id 기준 group_by \n",
    "    # 3: user_id, test_paer group_by\n",
    "\n",
    "    train_dataset = preprocess.get_data(\"train_grouped\")\n",
    "    valid_dataset = preprocess.get_data(\"valid_grouped\")\n",
    "    test_dataset = preprocess.get_data(\"test_grouped\")\n",
    "\n",
    "    args.columns = columns[1:]\n",
    "    \n",
    "    trainer = FeatureTestTrainer(args, LSTM)\n",
    "    return trainer, train_dataset, valid_dataset, test_dataset, preprocess\n",
    "\n",
    "def log_notebook_fold5(trainer, train_data, valid_data, test_data):\n",
    "    auc, acc = trainer.run_cv(train_data, valid_data, test_data, \n",
    "                              folds=5, seeds=[0, 1, 2, 3, 4])\n",
    "    clear_output()\n",
    "    print(f\"auc: {auc}, acc: {acc}\")"
   ]
  },
  {
   "cell_type": "markdown",
   "metadata": {},
   "source": [
    "# Base Feature CV Score\n",
    "- testPaper : 시험지 번호\n",
    "- firstClass : 대분류 ( 1 ~ 9 )\n",
    "- secondClass : 중분류 ( KnowledgeTag )\n",
    "- correctPer : 전체 문항에 대한 정답률\n",
    "- timeSec : 사용자가 문제를 푼 시간 정보입니다."
   ]
  },
  {
   "cell_type": "markdown",
   "metadata": {},
   "source": [
    "# Dynamic DKTDataset Test\n",
    "\n",
    "- SequenceFeature 영향을 받으려면 마지막 Sequence말고 중간 Sequence도 뽑아야 할 것 같아서.."
   ]
  },
  {
   "cell_type": "markdown",
   "metadata": {},
   "source": [
    "## Dynamic 적용 전"
   ]
  },
  {
   "cell_type": "code",
   "execution_count": 11,
   "metadata": {},
   "outputs": [
    {
     "name": "stdout",
     "output_type": "stream",
     "text": [
      "auc: 0.7605497004766788, acc: 0.6969604863221884\n"
     ]
    }
   ],
   "source": [
    "trainer, train_data, valid_data, test_data, preprocess = test_pipeline(args)\n",
    "log_notebook_fold5(trainer, train_data, valid_data, test_data)"
   ]
  },
  {
   "cell_type": "markdown",
   "metadata": {},
   "source": [
    "## Dynamic 적용 후"
   ]
  },
  {
   "cell_type": "code",
   "execution_count": 8,
   "metadata": {},
   "outputs": [
    {
     "data": {
      "text/plain": [
       "True"
      ]
     },
     "execution_count": 8,
     "metadata": {},
     "output_type": "execute_result"
    }
   ],
   "source": [
    "args.use_dynamic"
   ]
  },
  {
   "cell_type": "code",
   "execution_count": 9,
   "metadata": {},
   "outputs": [
    {
     "name": "stdout",
     "output_type": "stream",
     "text": [
      "auc: 0.7672647713883387, acc: 0.7218844984802433\n"
     ]
    }
   ],
   "source": [
    "trainer, train_data, valid_data, test_data, preprocess = test_pipeline(args)\n",
    "log_notebook_fold5(trainer, train_data, valid_data, test_data)"
   ]
  },
  {
   "cell_type": "markdown",
   "metadata": {},
   "source": [
    "## Dynamic 적용 후 + epochs 20"
   ]
  },
  {
   "cell_type": "code",
   "execution_count": 158,
   "metadata": {},
   "outputs": [],
   "source": [
    "args.n_epochs = 20"
   ]
  },
  {
   "cell_type": "code",
   "execution_count": 159,
   "metadata": {},
   "outputs": [
    {
     "name": "stdout",
     "output_type": "stream",
     "text": [
      "auc: 0.767276291572018, acc: 0.7231003039513679\n"
     ]
    }
   ],
   "source": [
    "trainer, train_data, valid_data, test_data, preprocess = test_pipeline(args)\n",
    "log_notebook_fold5(trainer, train_data, valid_data, test_data)"
   ]
  },
  {
   "cell_type": "markdown",
   "metadata": {},
   "source": [
    "# Seed Test\n",
    "\n",
    "3번의 결과값이 같게 나오는지를 봐서 시드 고정을 체크한다."
   ]
  },
  {
   "cell_type": "markdown",
   "metadata": {},
   "source": [
    "## Dynamic 적용 전"
   ]
  },
  {
   "cell_type": "code",
   "execution_count": 52,
   "metadata": {},
   "outputs": [
    {
     "name": "stdout",
     "output_type": "stream",
     "text": [
      "auc: 0.7662840384422888, acc: 0.7018743667679839\n"
     ]
    }
   ],
   "source": [
    "trainer, train_data, valid_data, test_data, preprocess = test_pipeline(args)\n",
    "log_notebook_fold5(trainer, train_data, valid_data, test_data)"
   ]
  },
  {
   "cell_type": "code",
   "execution_count": 53,
   "metadata": {},
   "outputs": [
    {
     "name": "stdout",
     "output_type": "stream",
     "text": [
      "auc: 0.7662840384422888, acc: 0.7018743667679839\n"
     ]
    }
   ],
   "source": [
    "trainer, train_data, valid_data, test_data, preprocess = test_pipeline(args)\n",
    "log_notebook_fold5(trainer, train_data, valid_data, test_data)"
   ]
  },
  {
   "cell_type": "code",
   "execution_count": 54,
   "metadata": {},
   "outputs": [
    {
     "name": "stdout",
     "output_type": "stream",
     "text": [
      "auc: 0.7662840384422888, acc: 0.7018743667679839\n"
     ]
    }
   ],
   "source": [
    "trainer, train_data, valid_data, test_data, preprocess = test_pipeline(args)\n",
    "log_notebook_fold5(trainer, train_data, valid_data, test_data)"
   ]
  },
  {
   "cell_type": "code",
   "execution_count": 17,
   "metadata": {},
   "outputs": [],
   "source": [
    "import os.path as p\n",
    "import pandas as pd\n",
    "from fe.seq import SeqFeBase\n",
    "from fe.agg import AggFeBase\n",
    "import seaborn as sns\n",
    "import matplotlib.pyplot as plt\n",
    "\n",
    "train_dataset = pd.read_csv(p.join(args.data_dir, \"train_data.csv\"))"
   ]
  },
  {
   "cell_type": "code",
   "execution_count": 56,
   "metadata": {},
   "outputs": [],
   "source": [
    "vi_df = preprocess.get_data(\"train\")"
   ]
  },
  {
   "cell_type": "code",
   "execution_count": 20,
   "metadata": {},
   "outputs": [],
   "source": [
    "ne_df = ConvertTime._transform(train_dataset)"
   ]
  },
  {
   "cell_type": "code",
   "execution_count": 21,
   "metadata": {},
   "outputs": [
    {
     "data": {
      "text/html": [
       "<div>\n",
       "<style scoped>\n",
       "    .dataframe tbody tr th:only-of-type {\n",
       "        vertical-align: middle;\n",
       "    }\n",
       "\n",
       "    .dataframe tbody tr th {\n",
       "        vertical-align: top;\n",
       "    }\n",
       "\n",
       "    .dataframe thead th {\n",
       "        text-align: right;\n",
       "    }\n",
       "</style>\n",
       "<table border=\"1\" class=\"dataframe\">\n",
       "  <thead>\n",
       "    <tr style=\"text-align: right;\">\n",
       "      <th></th>\n",
       "      <th>timeSec</th>\n",
       "    </tr>\n",
       "  </thead>\n",
       "  <tbody>\n",
       "    <tr>\n",
       "      <th>0</th>\n",
       "      <td>NaN</td>\n",
       "    </tr>\n",
       "    <tr>\n",
       "      <th>1</th>\n",
       "      <td>3.0</td>\n",
       "    </tr>\n",
       "    <tr>\n",
       "      <th>2</th>\n",
       "      <td>8.0</td>\n",
       "    </tr>\n",
       "    <tr>\n",
       "      <th>3</th>\n",
       "      <td>7.0</td>\n",
       "    </tr>\n",
       "    <tr>\n",
       "      <th>4</th>\n",
       "      <td>7.0</td>\n",
       "    </tr>\n",
       "    <tr>\n",
       "      <th>...</th>\n",
       "      <td>...</td>\n",
       "    </tr>\n",
       "    <tr>\n",
       "      <th>2266581</th>\n",
       "      <td>24.0</td>\n",
       "    </tr>\n",
       "    <tr>\n",
       "      <th>2266582</th>\n",
       "      <td>6632178.0</td>\n",
       "    </tr>\n",
       "    <tr>\n",
       "      <th>2266583</th>\n",
       "      <td>11.0</td>\n",
       "    </tr>\n",
       "    <tr>\n",
       "      <th>2266584</th>\n",
       "      <td>46.0</td>\n",
       "    </tr>\n",
       "    <tr>\n",
       "      <th>2266585</th>\n",
       "      <td>73.0</td>\n",
       "    </tr>\n",
       "  </tbody>\n",
       "</table>\n",
       "<p>2266586 rows × 1 columns</p>\n",
       "</div>"
      ],
      "text/plain": [
       "           timeSec\n",
       "0              NaN\n",
       "1              3.0\n",
       "2              8.0\n",
       "3              7.0\n",
       "4              7.0\n",
       "...            ...\n",
       "2266581       24.0\n",
       "2266582  6632178.0\n",
       "2266583       11.0\n",
       "2266584       46.0\n",
       "2266585       73.0\n",
       "\n",
       "[2266586 rows x 1 columns]"
      ]
     },
     "execution_count": 21,
     "metadata": {},
     "output_type": "execute_result"
    }
   ],
   "source": [
    "ne_df - ne_df.shift(1)"
   ]
  },
  {
   "cell_type": "markdown",
   "metadata": {},
   "source": [
    "## TimeDiff\n",
    "\n",
    "사용자가 한 문제를 푸는데 걸린 시간"
   ]
  },
  {
   "cell_type": "code",
   "execution_count": 22,
   "metadata": {},
   "outputs": [],
   "source": [
    "from fe.seq import SeqFeBase\n",
    "\n",
    "class MakeTimeDiff(SeqFeBase):\n",
    "    name = \"make_time_diff\"\n",
    "    description = {\"timeDiff\": \"사용자가 한 문제를 푸는데 걸린 시간입니다.\"}\n",
    "    pre_fe = {\"split_assessmentitem_id\", \"convert_time\"}\n",
    "    \n",
    "    @classmethod\n",
    "    def _transform(cls, df):\n",
    "        new_df = pd.DataFrame()\n",
    "        new_df['timeDiff'] = df.groupby([\"userID\", \"testPaper\"]).timeSec.apply(lambda x: x - x.shift(1, fill_value=list(x)[0]))\n",
    "        new_df['timeDiff'] = new_df['timeDiff'].apply(lambda x: x if x < 200 else 200)  # quantile: 0.95\n",
    "        # 0.95 == 224, 이상치 데이터는 200으로\n",
    "        return new_df"
   ]
  },
  {
   "cell_type": "code",
   "execution_count": 59,
   "metadata": {},
   "outputs": [
    {
     "data": {
      "text/html": [
       "<div>\n",
       "<style scoped>\n",
       "    .dataframe tbody tr th:only-of-type {\n",
       "        vertical-align: middle;\n",
       "    }\n",
       "\n",
       "    .dataframe tbody tr th {\n",
       "        vertical-align: top;\n",
       "    }\n",
       "\n",
       "    .dataframe thead th {\n",
       "        text-align: right;\n",
       "    }\n",
       "</style>\n",
       "<table border=\"1\" class=\"dataframe\">\n",
       "  <thead>\n",
       "    <tr style=\"text-align: right;\">\n",
       "      <th></th>\n",
       "      <th>userID</th>\n",
       "      <th>answerCode</th>\n",
       "      <th>testPaper</th>\n",
       "      <th>timeSec</th>\n",
       "      <th>firstClass</th>\n",
       "      <th>secondClass</th>\n",
       "      <th>correctPer</th>\n",
       "      <th>timeDiff</th>\n",
       "    </tr>\n",
       "  </thead>\n",
       "  <tbody>\n",
       "    <tr>\n",
       "      <th>0</th>\n",
       "      <td>0</td>\n",
       "      <td>1</td>\n",
       "      <td>975</td>\n",
       "      <td>-1.432905</td>\n",
       "      <td>5</td>\n",
       "      <td>618</td>\n",
       "      <td>0.630872</td>\n",
       "      <td>0.000000e+00</td>\n",
       "    </tr>\n",
       "    <tr>\n",
       "      <th>1</th>\n",
       "      <td>0</td>\n",
       "      <td>1</td>\n",
       "      <td>975</td>\n",
       "      <td>-1.432904</td>\n",
       "      <td>5</td>\n",
       "      <td>619</td>\n",
       "      <td>0.630872</td>\n",
       "      <td>1.045446e-07</td>\n",
       "    </tr>\n",
       "    <tr>\n",
       "      <th>2</th>\n",
       "      <td>0</td>\n",
       "      <td>1</td>\n",
       "      <td>975</td>\n",
       "      <td>-1.432903</td>\n",
       "      <td>5</td>\n",
       "      <td>619</td>\n",
       "      <td>0.630872</td>\n",
       "      <td>2.787857e-07</td>\n",
       "    </tr>\n",
       "  </tbody>\n",
       "</table>\n",
       "</div>"
      ],
      "text/plain": [
       "   userID  answerCode  testPaper   timeSec  firstClass  secondClass  \\\n",
       "0       0           1        975 -1.432905           5          618   \n",
       "1       0           1        975 -1.432904           5          619   \n",
       "2       0           1        975 -1.432903           5          619   \n",
       "\n",
       "   correctPer      timeDiff  \n",
       "0    0.630872  0.000000e+00  \n",
       "1    0.630872  1.045446e-07  \n",
       "2    0.630872  2.787857e-07  "
      ]
     },
     "execution_count": 59,
     "metadata": {},
     "output_type": "execute_result"
    }
   ],
   "source": [
    "vi_df.head(3)"
   ]
  },
  {
   "cell_type": "markdown",
   "metadata": {},
   "source": [
    "### Dynamic 적용 전"
   ]
  },
  {
   "cell_type": "code",
   "execution_count": 52,
   "metadata": {},
   "outputs": [],
   "source": [
    "args.use_dynamic = False"
   ]
  },
  {
   "cell_type": "code",
   "execution_count": 53,
   "metadata": {},
   "outputs": [
    {
     "name": "stdout",
     "output_type": "stream",
     "text": [
      "auc: 0.7659187855940672, acc: 0.7022796352583587\n"
     ]
    }
   ],
   "source": [
    "# min_max, std\n",
    "fe = [MakeTimeDiff]\n",
    "cn = [\"timeDiff\"]\n",
    "pre_e = {\n",
    "    \"min_max\" : [\"timeDiff\"]\n",
    "}\n",
    "\n",
    "trainer, train_data, valid_data, test_data, preprocess = test_pipeline(args, fe, cn, pre_e)\n",
    "log_notebook_fold5(trainer, train_data, valid_data, test_data)"
   ]
  },
  {
   "cell_type": "code",
   "execution_count": 26,
   "metadata": {},
   "outputs": [
    {
     "name": "stdout",
     "output_type": "stream",
     "text": [
      "auc: 0.7658911101756501, acc: 0.7022796352583587\n"
     ]
    }
   ],
   "source": [
    "fe = [MakeTimeDiff]\n",
    "cn = [\"timeDiff\"]\n",
    "pre_e = {\n",
    "    \"std\" : [\"timeDiff\"]\n",
    "}\n",
    "\n",
    "trainer, train_data, valid_data, test_data, preprocess = test_pipeline(args, fe, cn, pre_e)\n",
    "log_notebook_fold5(trainer, train_data, valid_data, test_data)"
   ]
  },
  {
   "cell_type": "markdown",
   "metadata": {},
   "source": [
    "### Dynamic 적용 후"
   ]
  },
  {
   "cell_type": "code",
   "execution_count": 61,
   "metadata": {},
   "outputs": [],
   "source": [
    "args.use_dynamic = True"
   ]
  },
  {
   "cell_type": "code",
   "execution_count": 62,
   "metadata": {},
   "outputs": [
    {
     "name": "stdout",
     "output_type": "stream",
     "text": [
      "auc: 0.7665029770728836, acc: 0.7204660587639312\n"
     ]
    }
   ],
   "source": [
    "fe = [MakeTimeDiff]\n",
    "cn = [\"timeDiff\"]\n",
    "pre_e = {\n",
    "    \"min_max\" : [\"timeDiff\"]\n",
    "}\n",
    "\n",
    "trainer, train_data, valid_data, test_data, preprocess = test_pipeline(args, fe, cn, pre_e)\n",
    "log_notebook_fold5(trainer, train_data, valid_data, test_data)"
   ]
  },
  {
   "cell_type": "code",
   "execution_count": 30,
   "metadata": {},
   "outputs": [
    {
     "name": "stdout",
     "output_type": "stream",
     "text": [
      "auc: 0.7665893949570677, acc: 0.7205167173252279\n"
     ]
    }
   ],
   "source": [
    "fe = [MakeTimeDiff]\n",
    "cn = [\"timeDiff\"]\n",
    "pre_e = {\n",
    "    \"std\" : [\"timeDiff\"]\n",
    "}\n",
    "\n",
    "trainer, train_data, valid_data, test_data, preprocess = test_pipeline(args, fe, cn, pre_e)\n",
    "log_notebook_fold5(trainer, train_data, valid_data, test_data)"
   ]
  },
  {
   "cell_type": "markdown",
   "metadata": {},
   "source": [
    "## UserCurNAccuracy\n",
    "\n",
    "사용자가 최근 푼 N개의 정답률"
   ]
  },
  {
   "cell_type": "code",
   "execution_count": 31,
   "metadata": {},
   "outputs": [],
   "source": [
    "class MakeUserCurAccuracy(SeqFeBase):\n",
    "    name = \"make_user_cur_accuracy\"\n",
    "    description = {\n",
    "        \"userCur10Accuracy\": \"사용자의 최근 푼 10개 문항의 정답률을 나타냅니다.\",\n",
    "        \"userCur20Accuracy\": \"사용자의 최근 푼 20개 문항의 정답률을 나타냅니다.\",\n",
    "        \"userCur30Accuracy\": \"사용자의 최근 푼 30개 문항의 정답률을 나타냅니다.\",\n",
    "        \"userCur40Accuracy\": \"사용자의 최근 푼 40개 문항의 정답률을 나타냅니다.\"\n",
    "    }\n",
    "    \n",
    "    @classmethod\n",
    "    def _transform(cls, df):\n",
    "        new_df = pd.DataFrame()\n",
    "        new_df['userCur10Accuracy'] = df['answerCode'].rolling(window=10, min_periods=1).mean()\n",
    "        new_df['userCur20Accuracy'] = df['answerCode'].rolling(window=20, min_periods=1).mean()\n",
    "        new_df['userCur30Accuracy'] = df['answerCode'].rolling(window=30, min_periods=1).mean()\n",
    "        new_df['userCur40Accuracy'] = df['answerCode'].rolling(window=40, min_periods=1).mean()\n",
    "        return new_df"
   ]
  },
  {
   "cell_type": "code",
   "execution_count": 73,
   "metadata": {},
   "outputs": [
    {
     "name": "stdout",
     "output_type": "stream",
     "text": [
      "auc: 0.7675818746349291, acc: 0.7017223910840933\n"
     ]
    }
   ],
   "source": [
    "fe = [MakeUserCurAccuracy]\n",
    "cn = [\"userCur10Accuracy\"]\n",
    "pre_e = {\n",
    "    \"min_max\" : [\"userCur10Accuracy\"]\n",
    "}\n",
    "\n",
    "trainer, train_data, valid_data, test_data, preprocess = test_pipeline(args, fe, cn, pre_e)\n",
    "log_notebook_fold5(trainer, train_data, valid_data, test_data)"
   ]
  },
  {
   "cell_type": "code",
   "execution_count": 74,
   "metadata": {},
   "outputs": [
    {
     "name": "stdout",
     "output_type": "stream",
     "text": [
      "auc: 0.7666365511513533, acc: 0.7015704154002027\n"
     ]
    }
   ],
   "source": [
    "fe = [MakeUserCurAccuracy]\n",
    "cn = [\"userCur20Accuracy\"]\n",
    "pre_e = {\n",
    "    \"min_max\" : [\"userCur20Accuracy\"]\n",
    "}\n",
    "\n",
    "trainer, train_data, valid_data, test_data, preprocess = test_pipeline(args, fe, cn, pre_e)\n",
    "log_notebook_fold5(trainer, train_data, valid_data, test_data)"
   ]
  },
  {
   "cell_type": "code",
   "execution_count": 75,
   "metadata": {},
   "outputs": [
    {
     "name": "stdout",
     "output_type": "stream",
     "text": [
      "auc: 0.7665253725938547, acc: 0.7023809523809523\n"
     ]
    }
   ],
   "source": [
    "fe = [MakeUserCurAccuracy]\n",
    "cn = [\"userCur30Accuracy\"]\n",
    "pre_e = {\n",
    "    \"min_max\" : [\"userCur30Accuracy\"]\n",
    "}\n",
    "\n",
    "trainer, train_data, valid_data, test_data, preprocess = test_pipeline(args, fe, cn, pre_e)\n",
    "log_notebook_fold5(trainer, train_data, valid_data, test_data)"
   ]
  },
  {
   "cell_type": "code",
   "execution_count": 76,
   "metadata": {},
   "outputs": [
    {
     "name": "stdout",
     "output_type": "stream",
     "text": [
      "auc: 0.7665131375039842, acc: 0.7034447821681864\n"
     ]
    }
   ],
   "source": [
    "fe = [MakeUserCurAccuracy]\n",
    "cn = [\"userCur40Accuracy\"]\n",
    "pre_e = {\n",
    "    \"min_max\" : [\"userCur40Accuracy\"]\n",
    "}\n",
    "\n",
    "trainer, train_data, valid_data, test_data, preprocess = test_pipeline(args, fe, cn, pre_e)\n",
    "log_notebook_fold5(trainer, train_data, valid_data, test_data)"
   ]
  },
  {
   "cell_type": "markdown",
   "metadata": {},
   "source": [
    "## TODOLIST\n",
    "\n",
    "- [x] 문제별 난이도 특성 추가\n",
    "- [x] 지금까지 풀어온 대분류별 정답률 특성 추가 ( 현재 문제 대분류의 정답률로만...! )\n",
    "    - 대분류가 9라면 지금까지 풀어온 9라는 대분류의 정답률 추가\n",
    "    - 만약 지금까지 정보가 없다면 현재까지의 정답률, 또는 0.5의 값\n",
    "    - 대분류 특성은 이미 있으므로 패스\n",
    "- [x] 각 문제 종류별로 이전에 몇번 풀었는지\n",
    "- 태그 간에 규칙이 있는지 체크해보기...\n",
    "    - 이전에 시험지에 등장하는 최대 태그가 한 3개가 있다고 그랬던 것 같은데\n",
    "    - Matrix 만들어볼까...? 시험지하고 태그, 대분류하고 태그..?"
   ]
  },
  {
   "cell_type": "markdown",
   "metadata": {},
   "source": [
    "## 문제별 난이도 특성\n",
    "\n",
    "문제의 전체 정답률(난이도)을 나타냅니다."
   ]
  },
  {
   "cell_type": "code",
   "execution_count": 32,
   "metadata": {},
   "outputs": [],
   "source": [
    "from fe.agg import AggFeBase\n",
    "\n",
    "class MakeDifficultyByAssessmentItem(AggFeBase):\n",
    "    name = \"make_difficulty_by_assessmentitem_id\"\n",
    "    description = {\n",
    "        \"problemDifficulty\" : \"문제의 전체 정답률(난이도)을 나타냅니다.\"\n",
    "    }\n",
    "    agg_column = [\"assessmentItemID\"]\n",
    "    \n",
    "    @classmethod\n",
    "    def _transform(cls, df):\n",
    "        grouped_df = df.groupby(cls.agg_column).answerCode.mean()\n",
    "        right_df = pd.DataFrame({\"assessmentItemID\" : grouped_df.index, \"problemDifficulty\": list(grouped_df)})\n",
    "        return right_df"
   ]
  },
  {
   "cell_type": "code",
   "execution_count": 25,
   "metadata": {},
   "outputs": [
    {
     "data": {
      "text/plain": [
       "<AxesSubplot:xlabel='assessmentItemID'>"
      ]
     },
     "execution_count": 25,
     "metadata": {},
     "output_type": "execute_result"
    },
    {
     "data": {
      "image/png": "[encoded data removed]",
      "text/plain": [
       "<Figure size 432x288 with 1 Axes>"
      ]
     },
     "metadata": {
      "needs_background": "light"
     },
     "output_type": "display_data"
    }
   ],
   "source": [
    "temp.sort_values().plot()"
   ]
  },
  {
   "cell_type": "code",
   "execution_count": 33,
   "metadata": {},
   "outputs": [
    {
     "name": "stdout",
     "output_type": "stream",
     "text": [
      "auc: 0.7683197274447398, acc: 0.7224924012158056\n"
     ]
    }
   ],
   "source": [
    "fe = [MakeDifficultyByAssessmentItem]\n",
    "cn = [\"problemDifficulty\"]\n",
    "pre_e = {\n",
    "    \"min_max\" : [\"problemDifficulty\"]\n",
    "}\n",
    "\n",
    "trainer, train_data, valid_data, test_data, preprocess = test_pipeline(args, fe, cn, pre_e)\n",
    "log_notebook_fold5(trainer, train_data, valid_data, test_data)"
   ]
  },
  {
   "cell_type": "code",
   "execution_count": 34,
   "metadata": {},
   "outputs": [
    {
     "name": "stdout",
     "output_type": "stream",
     "text": [
      "auc: 0.7768259920069956, acc: 0.7268996960486322\n"
     ]
    }
   ],
   "source": [
    "fe = [MakeDifficultyByAssessmentItem]\n",
    "cn = [\"problemDifficulty\"]\n",
    "pre_e = {\n",
    "    \"std\" : [\"problemDifficulty\"]\n",
    "}\n",
    "\n",
    "trainer, train_data, valid_data, test_data, preprocess = test_pipeline(args, fe, cn, pre_e)\n",
    "log_notebook_fold5(trainer, train_data, valid_data, test_data)"
   ]
  },
  {
   "cell_type": "code",
   "execution_count": 40,
   "metadata": {},
   "outputs": [
    {
     "data": {
      "text/html": [
       "<div>\n",
       "<style scoped>\n",
       "    .dataframe tbody tr th:only-of-type {\n",
       "        vertical-align: middle;\n",
       "    }\n",
       "\n",
       "    .dataframe tbody tr th {\n",
       "        vertical-align: top;\n",
       "    }\n",
       "\n",
       "    .dataframe thead th {\n",
       "        text-align: right;\n",
       "    }\n",
       "</style>\n",
       "<table border=\"1\" class=\"dataframe\">\n",
       "  <thead>\n",
       "    <tr style=\"text-align: right;\">\n",
       "      <th></th>\n",
       "      <th>firstClass</th>\n",
       "    </tr>\n",
       "  </thead>\n",
       "  <tbody>\n",
       "    <tr>\n",
       "      <th>0</th>\n",
       "      <td>6</td>\n",
       "    </tr>\n",
       "    <tr>\n",
       "      <th>1</th>\n",
       "      <td>6</td>\n",
       "    </tr>\n",
       "    <tr>\n",
       "      <th>2</th>\n",
       "      <td>6</td>\n",
       "    </tr>\n",
       "    <tr>\n",
       "      <th>3</th>\n",
       "      <td>6</td>\n",
       "    </tr>\n",
       "    <tr>\n",
       "      <th>4</th>\n",
       "      <td>6</td>\n",
       "    </tr>\n",
       "    <tr>\n",
       "      <th>...</th>\n",
       "      <td>...</td>\n",
       "    </tr>\n",
       "    <tr>\n",
       "      <th>2266581</th>\n",
       "      <td>3</td>\n",
       "    </tr>\n",
       "    <tr>\n",
       "      <th>2266582</th>\n",
       "      <td>4</td>\n",
       "    </tr>\n",
       "    <tr>\n",
       "      <th>2266583</th>\n",
       "      <td>4</td>\n",
       "    </tr>\n",
       "    <tr>\n",
       "      <th>2266584</th>\n",
       "      <td>4</td>\n",
       "    </tr>\n",
       "    <tr>\n",
       "      <th>2266585</th>\n",
       "      <td>4</td>\n",
       "    </tr>\n",
       "  </tbody>\n",
       "</table>\n",
       "<p>2266586 rows × 1 columns</p>\n",
       "</div>"
      ],
      "text/plain": [
       "        firstClass\n",
       "0                6\n",
       "1                6\n",
       "2                6\n",
       "3                6\n",
       "4                6\n",
       "...            ...\n",
       "2266581          3\n",
       "2266582          4\n",
       "2266583          4\n",
       "2266584          4\n",
       "2266585          4\n",
       "\n",
       "[2266586 rows x 1 columns]"
      ]
     },
     "execution_count": 40,
     "metadata": {},
     "output_type": "execute_result"
    }
   ],
   "source": [
    "MakeFirstClass._transform(df)"
   ]
  },
  {
   "cell_type": "markdown",
   "metadata": {},
   "source": [
    "## 대분류별 정답률 특성 추가\n",
    "\n",
    "- 유저의 대분류별 정답률을 나타냅니다."
   ]
  },
  {
   "cell_type": "code",
   "execution_count": 10,
   "metadata": {},
   "outputs": [],
   "source": [
    "from fe.agg import AggFeBase\n",
    "\n",
    "class MakeDifficultyByFirstClass(AggFeBase):\n",
    "    name = \"make_difficulty_by_firstclass\"\n",
    "    description = {\n",
    "        \"firstClassDifficulty\" : \"유저의 대분류별 정답률을 나타냅니다.\"\n",
    "    }\n",
    "    \n",
    "    pre_fe = {\"make_first_class\"}\n",
    "    agg_column = [\"userID\", \"firstClass\"]\n",
    "    \n",
    "    @classmethod\n",
    "    def _transform(cls, df):\n",
    "        grouped_df = df.groupby(cls.agg_column).answerCode.mean()\n",
    "        a, b = zip(*grouped_df.index)\n",
    "        \n",
    "        right_df = pd.DataFrame(\n",
    "            {\"userID\": a, \"firstClass\": b, \"firstClassDifficulty\": list(grouped_df)}\n",
    "        )\n",
    "        \n",
    "        return right_df"
   ]
  },
  {
   "cell_type": "code",
   "execution_count": 18,
   "metadata": {},
   "outputs": [
    {
     "name": "stdout",
     "output_type": "stream",
     "text": [
      "auc: 0.7810246989556201, acc: 0.7034954407294831\n"
     ]
    }
   ],
   "source": [
    "fe = [MakeDifficultyByFirstClass]\n",
    "cn = [\"firstClassDifficulty\"]\n",
    "pre_e = {\n",
    "    \"min_max\" : [\"firstClassDifficulty\"]\n",
    "}\n",
    "\n",
    "trainer, train_data, valid_data, test_data, preprocess = test_pipeline(args, fe, cn, pre_e)\n",
    "log_notebook_fold5(trainer, train_data, valid_data, test_data)"
   ]
  },
  {
   "cell_type": "code",
   "execution_count": 16,
   "metadata": {},
   "outputs": [
    {
     "name": "stdout",
     "output_type": "stream",
     "text": [
      "auc: 0.7838349380100875, acc: 0.6931104356636272\n"
     ]
    }
   ],
   "source": [
    "fe = [MakeDifficultyByFirstClass]\n",
    "cn = [\"firstClassDifficulty\"]\n",
    "pre_e = {\n",
    "    \"std\" : [\"firstClassDifficulty\"]\n",
    "}\n",
    "\n",
    "trainer, train_data, valid_data, test_data, preprocess = test_pipeline(args, fe, cn, pre_e)\n",
    "log_notebook_fold5(trainer, train_data, valid_data, test_data)"
   ]
  },
  {
   "cell_type": "markdown",
   "metadata": {},
   "source": [
    "### args.use_dynamic = False 로 CV Score, LB Score 비교"
   ]
  },
  {
   "cell_type": "code",
   "execution_count": 12,
   "metadata": {},
   "outputs": [],
   "source": [
    "args.use_dynamic = False"
   ]
  },
  {
   "cell_type": "code",
   "execution_count": 13,
   "metadata": {},
   "outputs": [
    {
     "name": "stdout",
     "output_type": "stream",
     "text": [
      "auc: 0.7958974961259273, acc: 0.7222391084093213\n",
      "logging path: ../feature_test/LOG_[06.11_15:05]\n"
     ]
    }
   ],
   "source": [
    "fe = [MakeDifficultyByFirstClass]\n",
    "cn = [\"firstClassDifficulty\"]\n",
    "pre_e = {\n",
    "    \"std\" : [\"firstClassDifficulty\"]\n",
    "}\n",
    "\n",
    "trainer, train_data, valid_data, test_data, preprocess = test_pipeline(args, fe, cn, pre_e)\n",
    "log_notebook_fold5(trainer, train_data, valid_data, test_data)\n",
    "print(f\"logging path: {trainer.prefix_save_path}\")"
   ]
  },
  {
   "cell_type": "markdown",
   "metadata": {},
   "source": [
    "**LB AUC: 0.7394 LB ACC : 0.6989**"
   ]
  },
  {
   "cell_type": "code",
   "execution_count": 15,
   "metadata": {},
   "outputs": [
    {
     "name": "stdout",
     "output_type": "stream",
     "text": [
      "auc: 0.7884153577405428, acc: 0.6969098277608916\n",
      "logging path: ../feature_test/LOG_[06.11_15:31]\n"
     ]
    }
   ],
   "source": [
    "args.use_dynamic = True\n",
    "fe = [MakeDifficultyByFirstClass]\n",
    "cn = [\"firstClassDifficulty\"]\n",
    "pre_e = {\n",
    "    \"std\" : [\"firstClassDifficulty\"]\n",
    "}\n",
    "\n",
    "trainer, train_data, valid_data, test_data, preprocess = test_pipeline(args, fe, cn, pre_e)\n",
    "log_notebook_fold5(trainer, train_data, valid_data, test_data)\n",
    "print(f\"logging path: {trainer.prefix_save_path}\")"
   ]
  },
  {
   "cell_type": "markdown",
   "metadata": {},
   "source": [
    "## 지금까지 풀어온 대분류별 정답률 특성 추가\n",
    "\n",
    "- 유저가 푸는 문제의 대분류의 현재까지의 정답률을 나타냅니다.\n",
    "- 처음 정답률은 0.5로 설정\n",
    "- 대분류가 연속적으로 등장해서... 중분류를 좀 더 확장시키는 특성이 더 있으면 좋을 것 같다."
   ]
  },
  {
   "cell_type": "code",
   "execution_count": 47,
   "metadata": {},
   "outputs": [],
   "source": [
    "from fe.seq import SeqFeBase\n",
    "\n",
    "class MakeDifficultyByCurFirstClass(SeqFeBase):\n",
    "    name = \"make_difficulty_by_cur_firstclass\"\n",
    "    description = {\n",
    "        \"curFCDifficulty\" : \"유저가 지금까지 풀어왔던 문제의 대분류의 정답률을 나타냅니다\",\n",
    "        \"curFCMADifficulty\" : \"유저가 지금까지 풀어왔던 문제의 대분류의 이동 평균 정답률을 나타냅니다\"\n",
    "    }\n",
    "    pre_fe = {\"make_first_class\", \"split_assessmentitem_id\"}\n",
    "        \n",
    "    @classmethod\n",
    "    def _transform(cls, df):\n",
    "        \"\"\" 반복문 돌면 1분 35초 걸린다... \"\"\"\n",
    "        new_df = pd.DataFrame()\n",
    "        grouped_df = df.groupby([\"userID\", \"firstClass\"])\n",
    "        new_df[\"cum_sum\"] = grouped_df.answerCode.apply(lambda x: x.cumsum())\n",
    "        new_df[\"cum_count\"] = grouped_df.answerCode.cumcount() + 1\n",
    "        \n",
    "        new_df[\"userID\"] = df[\"userID\"]\n",
    "        new_df[\"firstClass\"] = df[\"firstClass\"]\n",
    "        new_df[\"cum_per\"] = new_df[\"cum_sum\"] / (new_df[\"cum_count\"])\n",
    "        \n",
    "        grouped_df = new_df.groupby([\"userID\", \"firstClass\"])\n",
    "        \n",
    "        new_df[\"curFCDifficulty\"] = grouped_df.cum_per.shift(1)\n",
    "        new_df[\"curFCDifficulty\"].fillna(0.5, inplace=True)  # 처음 정답률은 0.5, 맞출지 못맞출지 모르니깐\n",
    "        \n",
    "        grouped_df = new_df.groupby([\"userID\", \"firstClass\"])\n",
    "        \n",
    "        new_df[\"curFCMADifficulty\"] = list(grouped_df.curFCDifficulty.apply(lambda x: x.rolling(window=10, min_periods=1).mean()))\n",
    "        \n",
    "        return new_df[[\"curFCDifficulty\", \"curFCMADifficulty\"]]"
   ]
  },
  {
   "cell_type": "code",
   "execution_count": 268,
   "metadata": {},
   "outputs": [
    {
     "data": {
      "text/plain": [
       "<AxesSubplot:>"
      ]
     },
     "execution_count": 268,
     "metadata": {},
     "output_type": "execute_result"
    },
    {
     "data": {
      "image/png": "[encoded data removed]",
      "text/plain": [
       "<Figure size 432x288 with 1 Axes>"
      ]
     },
     "metadata": {
      "needs_background": "light"
     },
     "output_type": "display_data"
    }
   ],
   "source": [
    "plt.xlim([0, 30])\n",
    "grouped_df.count().testId.hist(bins=200)"
   ]
  },
  {
   "cell_type": "code",
   "execution_count": 48,
   "metadata": {},
   "outputs": [
    {
     "name": "stdout",
     "output_type": "stream",
     "text": [
      "auc: 0.7694437226674198, acc: 0.72193515704154\n"
     ]
    }
   ],
   "source": [
    "fe = [MakeDifficultyByCurFirstClass]\n",
    "cn = [\"curFCDifficulty\"]\n",
    "pre_e = {\n",
    "    \"std\" : [\"curFCDifficulty\"]\n",
    "}\n",
    "\n",
    "trainer, train_data, valid_data, test_data, preprocess = test_pipeline(args, fe, cn, pre_e)\n",
    "log_notebook_fold5(trainer, train_data, valid_data, test_data)"
   ]
  },
  {
   "cell_type": "code",
   "execution_count": 49,
   "metadata": {},
   "outputs": [
    {
     "name": "stdout",
     "output_type": "stream",
     "text": [
      "auc: 0.7692124629526644, acc: 0.7196048632218845\n"
     ]
    }
   ],
   "source": [
    "fe = [MakeDifficultyByCurFirstClass]\n",
    "cn = [\"curFCDifficulty\"]\n",
    "pre_e = {\n",
    "    \"min_max\" : [\"curFCDifficulty\"]\n",
    "}\n",
    "\n",
    "trainer, train_data, valid_data, test_data, preprocess = test_pipeline(args, fe, cn, pre_e)\n",
    "log_notebook_fold5(trainer, train_data, valid_data, test_data)"
   ]
  },
  {
   "cell_type": "code",
   "execution_count": 50,
   "metadata": {},
   "outputs": [
    {
     "name": "stdout",
     "output_type": "stream",
     "text": [
      "auc: 0.7699093338388746, acc: 0.72370820668693\n"
     ]
    }
   ],
   "source": [
    "fe = [MakeDifficultyByCurFirstClass]\n",
    "cn = [\"curFCMADifficulty\"]\n",
    "pre_e = {\n",
    "    \"std\" : [\"curFCMADifficulty\"]\n",
    "}\n",
    "\n",
    "trainer, train_data, valid_data, test_data, preprocess = test_pipeline(args, fe, cn, pre_e)\n",
    "log_notebook_fold5(trainer, train_data, valid_data, test_data)"
   ]
  },
  {
   "cell_type": "code",
   "execution_count": 51,
   "metadata": {},
   "outputs": [
    {
     "name": "stdout",
     "output_type": "stream",
     "text": [
      "auc: 0.7695624123608785, acc: 0.719756838905775\n"
     ]
    }
   ],
   "source": [
    "fe = [MakeDifficultyByCurFirstClass]\n",
    "cn = [\"curFCMADifficulty\"]\n",
    "pre_e = {\n",
    "    \"min_max\" : [\"curFCMADifficulty\"]\n",
    "}\n",
    "\n",
    "trainer, train_data, valid_data, test_data, preprocess = test_pipeline(args, fe, cn, pre_e)\n",
    "log_notebook_fold5(trainer, train_data, valid_data, test_data)"
   ]
  },
  {
   "cell_type": "markdown",
   "metadata": {},
   "source": [
    "## 각 문제 종류별로 이전에 몇번 풀었는지 특성 추가\n",
    "\n",
    "- 좀 직접적인 특성이다.\n",
    "- 생각해보니깐 대분류가 연속으로 등장해서 큰 의미가 없을 것 같다..."
   ]
  },
  {
   "cell_type": "markdown",
   "metadata": {},
   "source": [
    "## 순서 바꿔서 성능 테스트 해보기"
   ]
  },
  {
   "cell_type": "markdown",
   "metadata": {},
   "source": [
    "### Qcut\n",
    "\n",
    "- Qcut 현재 문제가 있어서 Cut으로 바꿈\n",
    "- 지금 PR은 Cut으로 공유할 코드\n",
    "- Cut도 잘 나온다.\n",
    "    - 비슷한 성능이 나오는데\n",
    "    - 600기준, 1초 기준으로 짜른다.\n",
    "    - BatchSize를 낮춰서 돌리고 제출해봤는데 8181 나왔다."
   ]
  }
 ],
 "metadata": {
  "kernelspec": {
   "display_name": "baseline_code",
   "language": "python",
   "name": "baseline_code"
  },
  "language_info": {
   "codemirror_mode": {
    "name": "ipython",
    "version": 3
   },
   "file_extension": ".py",
   "mimetype": "text/x-python",
   "name": "python",
   "nbconvert_exporter": "python",
   "pygments_lexer": "ipython3",
   "version": "3.8.8"
  }
 },
 "nbformat": 4,
 "nbformat_minor": 4
}
