{
 "cells": [
  {
   "cell_type": "code",
   "execution_count": 36,
   "metadata": {},
   "outputs": [],
   "source": [
    "import sys\n",
    "sys.path.append(\"/home/j-gunmo/desktop/00.my-project/17.P-Stage-T1003/4-STAGE/\")\n",
    "\n",
    "from fe.agg import AggFeBase\n",
    "from fe.seq import SeqFeBase\n",
    "\n",
    "from fe.agg import (\n",
    "    MakeCorrectCount, \n",
    "    MakeCorrectPercent, \n",
    "    MakeQuestionCount, \n",
    "    MakeTopNCorrectPercent\n",
    ")\n",
    "\n",
    "from fe.seq import (\n",
    "    SplitAssessmentItemID,\n",
    "    MakeFirstClass,\n",
    "    MakeSecondClass,\n",
    "    MakeTimeDiff,\n",
    "    MakeYMD,\n",
    "    ConvertTime\n",
    ")\n",
    "\n",
    "import easydict\n",
    "from fe.feature import FEPipeline\n",
    "from dkt_dataset import Preprocess\n",
    "from utils import get_args, get_root_dir\n",
    "from IPython.display import clear_output"
   ]
  },
  {
   "cell_type": "code",
   "execution_count": 101,
   "metadata": {},
   "outputs": [],
   "source": [
    "def make_df_pipeline(train_data, test_data):\n",
    "    train_data = MakeFirstClass.transform(train_data, key=\"train\")\n",
    "    test_data = MakeFirstClass.transform(test_data, key=\"test\")\n",
    "    \n",
    "    feature_data = pd.merge(train_data, train_data.groupby([\"userID\", \"firstClass\"]).answerCode.mean(), \n",
    "                        on=[\"userID\", \"firstClass\"], how=\"inner\", suffixes=['', '_userper'])\n",
    "    \n",
    "    t_data = pd.merge(test_data, test_data.groupby([\"userID\", \"firstClass\"]).answerCode.mean(), \n",
    "                        on=[\"userID\", \"firstClass\"], how=\"inner\", suffixes=['', '_userper'])\n",
    "    \n",
    "    feature_data = pd.merge(feature_data, \n",
    "                        train_data.groupby(\"assessmentItemID\").answerCode.mean(),\n",
    "                       on=\"assessmentItemID\", how=\"inner\", suffixes=['', '_assper'])\n",
    "    \n",
    "    t_data = pd.merge(t_data, \n",
    "                        train_data.groupby(\"assessmentItemID\").answerCode.mean(),\n",
    "                       on=\"assessmentItemID\", how=\"inner\", suffixes=['', '_assper'])\n",
    "    \n",
    "    feature_data['firstClass'] = feature_data['testId'].apply(lambda x: int(x[2:3]))\n",
    "    t_data['firstClass'] = t_data['testId'].apply(lambda x: int(x[2:3]))\n",
    "    \n",
    "    feature_data = pd.merge(feature_data, \n",
    "                        feature_data.groupby(\"firstClass\").answerCode.mean(),\n",
    "                       on=\"firstClass\", how=\"inner\", suffixes=[\"\", \"_firper\"])\n",
    "    \n",
    "    t_data = pd.merge(t_data, \n",
    "                        feature_data.groupby(\"firstClass\").answerCode.mean(),\n",
    "                       on=\"firstClass\", how=\"inner\", suffixes=[\"\", \"_firper\"])\n",
    "    \n",
    "    feature_data = pd.merge(feature_data, \n",
    "                        feature_data.groupby(\"testId\").answerCode.mean(),\n",
    "                       on=\"testId\", how=\"inner\", suffixes=[\"\", \"_testper\"])\n",
    "    \n",
    "    t_data = pd.merge(t_data, \n",
    "                        feature_data.groupby(\"testId\").answerCode.mean(),\n",
    "                       on=\"testId\", how=\"inner\", suffixes=[\"\", \"_testper\"])\n",
    "    \n",
    "    feature_data = pd.merge(feature_data, \n",
    "                        feature_data.groupby([\"userID\", \"KnowledgeTag\"]).answerCode.mean(),\n",
    "                       on=[\"userID\", \"KnowledgeTag\"], how=\"inner\", suffixes=[\"\", \"_knowper\"])\n",
    "    \n",
    "    t_data = pd.merge(t_data, \n",
    "                        feature_data.groupby([\"userID\", \"KnowledgeTag\"]).answerCode.mean(),\n",
    "                       on=[\"userID\", \"KnowledgeTag\"], how=\"inner\", suffixes=[\"\", \"_knowper\"])\n",
    "    \n",
    "    \n",
    "    feature_data = feature_data.rename(columns={\n",
    "        \"answerCode_firper\" : \"firPer\",\n",
    "        \"answerCode_userper\": \"userPer\",\n",
    "        \"answerCode_assper\": \"assPer\",\n",
    "        \"answerCode_testper\" : \"testPer\",\n",
    "        \"answerCode_knowper\" : \"secPer\"\n",
    "    })\n",
    "\n",
    "    t_data = t_data.rename(columns={\n",
    "        \"answerCode_firper\" : \"firPer\",\n",
    "        \"answerCode_userper\": \"userPer\",\n",
    "        \"answerCode_assper\": \"assPer\",\n",
    "        \"answerCode_testper\" : \"testPer\",\n",
    "        \"answerCode_knowper\" : \"secPer\"\n",
    "    })\n",
    "\n",
    "    return feature_data, t_data"
   ]
  },
  {
   "cell_type": "code",
   "execution_count": 102,
   "metadata": {},
   "outputs": [],
   "source": [
    "args = get_args()\n",
    "args.data_dir = \"../../input/data/train_dataset/\"\n",
    "args.root_dir = get_root_dir(\"../last_lstm/\")"
   ]
  },
  {
   "cell_type": "code",
   "execution_count": 103,
   "metadata": {},
   "outputs": [],
   "source": [
    "import os.path as p\n",
    "import pandas as pd\n",
    "\n",
    "train_data = pd.read_csv(p.join(args.data_dir, \"train_data.csv\"))\n",
    "test_data = pd.read_csv(p.join(args.data_dir, \"test_data.csv\"))"
   ]
  },
  {
   "cell_type": "code",
   "execution_count": 104,
   "metadata": {},
   "outputs": [],
   "source": [
    "import torch\n",
    "from trainer import DKTTrainer\n",
    "from models.lstm.model import LSTM\n",
    "\n",
    "class FeatureTestTrainer(DKTTrainer):\n",
    "    def _process_batch(self, batch):\n",
    "        batch['mask'] = batch['mask'].type(torch.FloatTensor)\n",
    "        batch[\"answerCode\"] = batch[\"answerCode\"].type(torch.FloatTensor)\n",
    "\n",
    "        batch[\"interaction\"] = batch[\"answerCode\"] + 1\n",
    "        batch[\"interaction\"] = batch[\"interaction\"].roll(shifts=1, dims=1)\n",
    "        batch[\"mask\"] = batch[\"mask\"].roll(shifts=1, dims=1)\n",
    "        batch[\"mask\"][:, 0] = 0\n",
    "        batch[\"interaction\"] = (batch[\"interaction\"] * batch[\"mask\"]).to(torch.int64)\n",
    "        \n",
    "        \n",
    "        for k in self.args.n_linears: # 수치형\n",
    "            batch[k] = batch[k].type(torch.FloatTensor)\n",
    "            \n",
    "        for k, v in self.args.n_embeddings.items(): # 범주형\n",
    "            batch[k] = batch[k].to(torch.int64)\n",
    "            \n",
    "        for k in batch.keys():\n",
    "            batch[k] = batch[k].to(self.args.device)\n",
    "        \n",
    "        return batch"
   ]
  },
  {
   "cell_type": "code",
   "execution_count": 105,
   "metadata": {},
   "outputs": [],
   "source": [
    "train_data[\"org_index\"] = train_data.index\n",
    "test_data[\"org_index\"] = test_data.index"
   ]
  },
  {
   "cell_type": "code",
   "execution_count": 106,
   "metadata": {},
   "outputs": [
    {
     "name": "stdout",
     "output_type": "stream",
     "text": [
      "load features /home/j-gunmo/features/train_make_first_class.pkl to dataframe ... \n",
      "load features /home/j-gunmo/features/test_make_first_class.pkl to dataframe ... \n"
     ]
    }
   ],
   "source": [
    "train_set, test_set = make_df_pipeline(train_data, test_data)"
   ]
  },
  {
   "cell_type": "code",
   "execution_count": 107,
   "metadata": {},
   "outputs": [],
   "source": [
    "train_set = train_set.sort_values([\"org_index\"], axis=0).reset_index(drop=True)\n",
    "test_set = test_set.sort_values([\"org_index\"], axis=0).reset_index(drop=True)"
   ]
  },
  {
   "cell_type": "code",
   "execution_count": 108,
   "metadata": {},
   "outputs": [
    {
     "data": {
      "text/html": [
       "<div>\n",
       "<style scoped>\n",
       "    .dataframe tbody tr th:only-of-type {\n",
       "        vertical-align: middle;\n",
       "    }\n",
       "\n",
       "    .dataframe tbody tr th {\n",
       "        vertical-align: top;\n",
       "    }\n",
       "\n",
       "    .dataframe thead th {\n",
       "        text-align: right;\n",
       "    }\n",
       "</style>\n",
       "<table border=\"1\" class=\"dataframe\">\n",
       "  <thead>\n",
       "    <tr style=\"text-align: right;\">\n",
       "      <th></th>\n",
       "      <th>userID</th>\n",
       "      <th>assessmentItemID</th>\n",
       "      <th>testId</th>\n",
       "      <th>answerCode</th>\n",
       "      <th>Timestamp</th>\n",
       "      <th>KnowledgeTag</th>\n",
       "      <th>org_index</th>\n",
       "      <th>firstClass</th>\n",
       "      <th>userPer</th>\n",
       "      <th>assPer</th>\n",
       "      <th>firPer</th>\n",
       "      <th>testPer</th>\n",
       "      <th>secPer</th>\n",
       "    </tr>\n",
       "  </thead>\n",
       "  <tbody>\n",
       "    <tr>\n",
       "      <th>0</th>\n",
       "      <td>3</td>\n",
       "      <td>A050023001</td>\n",
       "      <td>A050000023</td>\n",
       "      <td>1</td>\n",
       "      <td>2020-01-09 10:56:31</td>\n",
       "      <td>2626</td>\n",
       "      <td>0</td>\n",
       "      <td>5</td>\n",
       "      <td>0.653132</td>\n",
       "      <td>0.646789</td>\n",
       "      <td>0.658208</td>\n",
       "      <td>0.560944</td>\n",
       "      <td>0.641379</td>\n",
       "    </tr>\n",
       "    <tr>\n",
       "      <th>1</th>\n",
       "      <td>3</td>\n",
       "      <td>A050023002</td>\n",
       "      <td>A050000023</td>\n",
       "      <td>1</td>\n",
       "      <td>2020-01-09 10:56:57</td>\n",
       "      <td>2626</td>\n",
       "      <td>1</td>\n",
       "      <td>5</td>\n",
       "      <td>0.653132</td>\n",
       "      <td>0.628440</td>\n",
       "      <td>0.658208</td>\n",
       "      <td>0.560944</td>\n",
       "      <td>0.641379</td>\n",
       "    </tr>\n",
       "  </tbody>\n",
       "</table>\n",
       "</div>"
      ],
      "text/plain": [
       "   userID assessmentItemID      testId  answerCode            Timestamp  \\\n",
       "0       3       A050023001  A050000023           1  2020-01-09 10:56:31   \n",
       "1       3       A050023002  A050000023           1  2020-01-09 10:56:57   \n",
       "\n",
       "   KnowledgeTag  org_index  firstClass   userPer    assPer    firPer  \\\n",
       "0          2626          0           5  0.653132  0.646789  0.658208   \n",
       "1          2626          1           5  0.653132  0.628440  0.658208   \n",
       "\n",
       "    testPer    secPer  \n",
       "0  0.560944  0.641379  \n",
       "1  0.560944  0.641379  "
      ]
     },
     "execution_count": 108,
     "metadata": {},
     "output_type": "execute_result"
    }
   ],
   "source": [
    "test_set.head(2)"
   ]
  },
  {
   "cell_type": "code",
   "execution_count": 109,
   "metadata": {},
   "outputs": [],
   "source": [
    "fe_list = [\n",
    "    SplitAssessmentItemID,\n",
    "    ConvertTime,\n",
    "    MakeFirstClass,\n",
    "    MakeSecondClass,\n",
    "    MakeCorrectCount,\n",
    "    MakeQuestionCount,\n",
    "    MakeCorrectPercent\n",
    "]\n",
    "\n",
    "fe_pipeline = FEPipeline(\n",
    "    args, fe_list\n",
    ")\n",
    "\n",
    "columns = [\n",
    "    \"userID\",\n",
    "    \"answerCode\",\n",
    "    \"testPaper\",\n",
    "    \"firstClass\",\n",
    "    \"secondClass\",\n",
    "    \"timeSec\"\n",
    "]\n",
    "\n",
    "add_columns =[\n",
    "    'userPer',\n",
    "    'assPer',\n",
    "    'firPer',\n",
    "    'testPer',\n",
    "    'secPer'\n",
    "]\n",
    "\n",
    "pre_encodes = {\n",
    "    \"label\" : ['testPaper', 'firstClass', 'secondClass'],\n",
    "    \"min_max\" : ['userPer', 'assPer', 'firPer', 'testPer', 'secPer'],\n",
    "    \"std\" : [\"timeSec\"]\n",
    "}\n",
    "\n",
    "preprocess = Preprocess(args, fe_pipeline, columns)"
   ]
  },
  {
   "cell_type": "code",
   "execution_count": 110,
   "metadata": {
    "collapsed": true,
    "jupyter": {
     "outputs_hidden": true
    }
   },
   "outputs": [
    {
     "name": "stderr",
     "output_type": "stream",
     "text": [
      "Feature Engineering Start ... \n",
      "Feature Engineering Start ... \n",
      "Feature Engineering Start ... \n",
      "Feature Engineering Start ... \n",
      "Feature Engineering Start ... \n"
     ]
    },
    {
     "data": {
      "text/html": [
       "<pre style=\"white-space:pre;overflow-x:auto;line-height:normal;font-family:Menlo,'DejaVu Sans Mono',consolas,'Courier New',monospace\"><span style=\"color: #7fbfbf\">[13:46:38] </span><span style=\"color: #000080\">INFO    </span> Feature Engineering Start <span style=\"color: #808000\">...</span>                               <a href=\"file:///home/j-gunmo/desktop/00.my-project/17.P-Stage-T1003/4-STAGE/fe/feature.py\"><span style=\"color: #7f7f7f\">feature.py</span></a><span style=\"color: #7f7f7f\">:92</span>\n",
       "</pre>\n"
      ],
      "text/plain": [
       "<rich.jupyter.JupyterRenderable at 0x7fa940c0ee20>"
      ]
     },
     "metadata": {},
     "output_type": "display_data"
    },
    {
     "name": "stdout",
     "output_type": "stream",
     "text": [
      "load features /home/j-gunmo/features/train_split_assessmentitem_id.pkl to dataframe ... \n"
     ]
    },
    {
     "name": "stderr",
     "output_type": "stream",
     "text": [
      "\n",
      "Feature Engineering Name: split_assessmentitem_id\n",
      "\n",
      "Feature Engineering Name: split_assessmentitem_id\n",
      "\n",
      "Feature Engineering Name: split_assessmentitem_id\n",
      "\n",
      "Feature Engineering Name: split_assessmentitem_id\n",
      "\n",
      "Feature Engineering Name: split_assessmentitem_id\n"
     ]
    },
    {
     "data": {
      "text/html": [
       "<pre style=\"white-space:pre;overflow-x:auto;line-height:normal;font-family:Menlo,'DejaVu Sans Mono',consolas,'Courier New',monospace\"><span style=\"color: #7fbfbf\">[13:46:39] </span><span style=\"color: #000080\">INFO    </span>                                                             <a href=\"file:///home/j-gunmo/desktop/00.my-project/17.P-Stage-T1003/4-STAGE/fe/feature.py\"><span style=\"color: #7f7f7f\">feature.py</span></a><span style=\"color: #7f7f7f\">:97</span>\n",
       "                    Feature Engineering Name: split_assessmentitem_id                        \n",
       "</pre>\n"
      ],
      "text/plain": [
       "<rich.jupyter.JupyterRenderable at 0x7fa9458ccbb0>"
      ]
     },
     "metadata": {},
     "output_type": "display_data"
    },
    {
     "name": "stderr",
     "output_type": "stream",
     "text": [
      "\n",
      "testPaper       : 시험지 번호입니다.\n",
      "\n",
      "testPaper       : 시험지 번호입니다.\n",
      "\n",
      "testPaper       : 시험지 번호입니다.\n",
      "\n",
      "testPaper       : 시험지 번호입니다.\n",
      "\n",
      "testPaper       : 시험지 번호입니다.\n"
     ]
    },
    {
     "data": {
      "text/html": [
       "<pre style=\"white-space:pre;overflow-x:auto;line-height:normal;font-family:Menlo,'DejaVu Sans Mono',consolas,'Courier New',monospace\"><span style=\"color: #7fbfbf\">           </span><span style=\"color: #000080\">INFO    </span>                                                            <a href=\"file:///home/j-gunmo/desktop/00.my-project/17.P-Stage-T1003/4-STAGE/fe/feature.py\"><span style=\"color: #7f7f7f\">feature.py</span></a><span style=\"color: #7f7f7f\">:100</span>\n",
       "                    testPaper       : 시험지 번호입니다.                                     \n",
       "</pre>\n"
      ],
      "text/plain": [
       "<rich.jupyter.JupyterRenderable at 0x7fa9536d9eb0>"
      ]
     },
     "metadata": {},
     "output_type": "display_data"
    },
    {
     "name": "stderr",
     "output_type": "stream",
     "text": [
      "dtype: object\n",
      "dtype: object\n",
      "dtype: object\n",
      "dtype: object\n",
      "dtype: object\n"
     ]
    },
    {
     "data": {
      "text/html": [
       "<pre style=\"white-space:pre;overflow-x:auto;line-height:normal;font-family:Menlo,'DejaVu Sans Mono',consolas,'Courier New',monospace\"><span style=\"color: #7fbfbf\">           </span><span style=\"color: #000080\">INFO    </span> dtype: object                                              <a href=\"file:///home/j-gunmo/desktop/00.my-project/17.P-Stage-T1003/4-STAGE/fe/feature.py\"><span style=\"color: #7f7f7f\">feature.py</span></a><span style=\"color: #7f7f7f\">:101</span>\n",
       "</pre>\n"
      ],
      "text/plain": [
       "<rich.jupyter.JupyterRenderable at 0x7fa94129f5e0>"
      ]
     },
     "metadata": {},
     "output_type": "display_data"
    },
    {
     "name": "stderr",
     "output_type": "stream",
     "text": [
      "[Examples]\n",
      "[Examples]\n",
      "[Examples]\n",
      "[Examples]\n",
      "[Examples]\n"
     ]
    },
    {
     "data": {
      "text/html": [
       "<pre style=\"white-space:pre;overflow-x:auto;line-height:normal;font-family:Menlo,'DejaVu Sans Mono',consolas,'Courier New',monospace\"><span style=\"color: #7fbfbf\">           </span><span style=\"color: #000080\">INFO    </span> <span style=\"font-weight: bold\">[</span>Examples<span style=\"font-weight: bold\">]</span>                                                 <a href=\"file:///home/j-gunmo/desktop/00.my-project/17.P-Stage-T1003/4-STAGE/fe/feature.py\"><span style=\"color: #7f7f7f\">feature.py</span></a><span style=\"color: #7f7f7f\">:102</span>\n",
       "</pre>\n"
      ],
      "text/plain": [
       "<rich.jupyter.JupyterRenderable at 0x7fa940c33400>"
      ]
     },
     "metadata": {},
     "output_type": "display_data"
    },
    {
     "name": "stderr",
     "output_type": "stream",
     "text": [
      "INDEX 0000: 060001\n",
      "INDEX 0000: 060001\n",
      "INDEX 0000: 060001\n",
      "INDEX 0000: 060001\n",
      "INDEX 0000: 060001\n"
     ]
    },
    {
     "data": {
      "text/html": [
       "<pre style=\"white-space:pre;overflow-x:auto;line-height:normal;font-family:Menlo,'DejaVu Sans Mono',consolas,'Courier New',monospace\"><span style=\"color: #7fbfbf\">           </span><span style=\"color: #000080\">INFO    </span> INDEX <span style=\"color: #000080; font-weight: bold\">0000</span>: <span style=\"color: #000080; font-weight: bold\">060001</span>                                         <a href=\"file:///home/j-gunmo/desktop/00.my-project/17.P-Stage-T1003/4-STAGE/fe/feature.py\"><span style=\"color: #7f7f7f\">feature.py</span></a><span style=\"color: #7f7f7f\">:105</span>\n",
       "</pre>\n"
      ],
      "text/plain": [
       "<rich.jupyter.JupyterRenderable at 0x7fa9458cc6a0>"
      ]
     },
     "metadata": {},
     "output_type": "display_data"
    },
    {
     "name": "stderr",
     "output_type": "stream",
     "text": [
      "INDEX 1000: 080012\n",
      "INDEX 1000: 080012\n",
      "INDEX 1000: 080012\n",
      "INDEX 1000: 080012\n",
      "INDEX 1000: 080012\n"
     ]
    },
    {
     "data": {
      "text/html": [
       "<pre style=\"white-space:pre;overflow-x:auto;line-height:normal;font-family:Menlo,'DejaVu Sans Mono',consolas,'Courier New',monospace\"><span style=\"color: #7fbfbf\">           </span><span style=\"color: #000080\">INFO    </span> INDEX <span style=\"color: #000080; font-weight: bold\">1000</span>: <span style=\"color: #000080; font-weight: bold\">080012</span>                                         <a href=\"file:///home/j-gunmo/desktop/00.my-project/17.P-Stage-T1003/4-STAGE/fe/feature.py\"><span style=\"color: #7f7f7f\">feature.py</span></a><span style=\"color: #7f7f7f\">:105</span>\n",
       "</pre>\n"
      ],
      "text/plain": [
       "<rich.jupyter.JupyterRenderable at 0x7fa9536d99d0>"
      ]
     },
     "metadata": {},
     "output_type": "display_data"
    },
    {
     "name": "stderr",
     "output_type": "stream",
     "text": [
      "INDEX 2000: 060041\n",
      "INDEX 2000: 060041\n",
      "INDEX 2000: 060041\n",
      "INDEX 2000: 060041\n",
      "INDEX 2000: 060041\n"
     ]
    },
    {
     "data": {
      "text/html": [
       "<pre style=\"white-space:pre;overflow-x:auto;line-height:normal;font-family:Menlo,'DejaVu Sans Mono',consolas,'Courier New',monospace\"><span style=\"color: #7fbfbf\">           </span><span style=\"color: #000080\">INFO    </span> INDEX <span style=\"color: #000080; font-weight: bold\">2000</span>: <span style=\"color: #000080; font-weight: bold\">060041</span>                                         <a href=\"file:///home/j-gunmo/desktop/00.my-project/17.P-Stage-T1003/4-STAGE/fe/feature.py\"><span style=\"color: #7f7f7f\">feature.py</span></a><span style=\"color: #7f7f7f\">:105</span>\n",
       "</pre>\n"
      ],
      "text/plain": [
       "<rich.jupyter.JupyterRenderable at 0x7fa940c0e370>"
      ]
     },
     "metadata": {},
     "output_type": "display_data"
    },
    {
     "name": "stderr",
     "output_type": "stream",
     "text": [
      "INDEX 3000: 080041\n",
      "INDEX 3000: 080041\n",
      "INDEX 3000: 080041\n",
      "INDEX 3000: 080041\n",
      "INDEX 3000: 080041\n"
     ]
    },
    {
     "data": {
      "text/html": [
       "<pre style=\"white-space:pre;overflow-x:auto;line-height:normal;font-family:Menlo,'DejaVu Sans Mono',consolas,'Courier New',monospace\"><span style=\"color: #7fbfbf\">           </span><span style=\"color: #000080\">INFO    </span> INDEX <span style=\"color: #000080; font-weight: bold\">3000</span>: <span style=\"color: #000080; font-weight: bold\">080041</span>                                         <a href=\"file:///home/j-gunmo/desktop/00.my-project/17.P-Stage-T1003/4-STAGE/fe/feature.py\"><span style=\"color: #7f7f7f\">feature.py</span></a><span style=\"color: #7f7f7f\">:105</span>\n",
       "</pre>\n"
      ],
      "text/plain": [
       "<rich.jupyter.JupyterRenderable at 0x7fa9536d9130>"
      ]
     },
     "metadata": {},
     "output_type": "display_data"
    },
    {
     "name": "stderr",
     "output_type": "stream",
     "text": [
      "INDEX 4000: 060091\n",
      "INDEX 4000: 060091\n",
      "INDEX 4000: 060091\n",
      "INDEX 4000: 060091\n",
      "INDEX 4000: 060091\n"
     ]
    },
    {
     "data": {
      "text/html": [
       "<pre style=\"white-space:pre;overflow-x:auto;line-height:normal;font-family:Menlo,'DejaVu Sans Mono',consolas,'Courier New',monospace\"><span style=\"color: #7fbfbf\">           </span><span style=\"color: #000080\">INFO    </span> INDEX <span style=\"color: #000080; font-weight: bold\">4000</span>: <span style=\"color: #000080; font-weight: bold\">060091</span>                                         <a href=\"file:///home/j-gunmo/desktop/00.my-project/17.P-Stage-T1003/4-STAGE/fe/feature.py\"><span style=\"color: #7f7f7f\">feature.py</span></a><span style=\"color: #7f7f7f\">:105</span>\n",
       "</pre>\n"
      ],
      "text/plain": [
       "<rich.jupyter.JupyterRenderable at 0x7fa94129f040>"
      ]
     },
     "metadata": {},
     "output_type": "display_data"
    },
    {
     "name": "stderr",
     "output_type": "stream",
     "text": [
      "INDEX 5000: 060101\n",
      "INDEX 5000: 060101\n",
      "INDEX 5000: 060101\n",
      "INDEX 5000: 060101\n",
      "INDEX 5000: 060101\n"
     ]
    },
    {
     "data": {
      "text/html": [
       "<pre style=\"white-space:pre;overflow-x:auto;line-height:normal;font-family:Menlo,'DejaVu Sans Mono',consolas,'Courier New',monospace\"><span style=\"color: #7fbfbf\">           </span><span style=\"color: #000080\">INFO    </span> INDEX <span style=\"color: #000080; font-weight: bold\">5000</span>: <span style=\"color: #000080; font-weight: bold\">060101</span>                                         <a href=\"file:///home/j-gunmo/desktop/00.my-project/17.P-Stage-T1003/4-STAGE/fe/feature.py\"><span style=\"color: #7f7f7f\">feature.py</span></a><span style=\"color: #7f7f7f\">:105</span>\n",
       "</pre>\n"
      ],
      "text/plain": [
       "<rich.jupyter.JupyterRenderable at 0x7fa940c33fd0>"
      ]
     },
     "metadata": {},
     "output_type": "display_data"
    },
    {
     "name": "stderr",
     "output_type": "stream",
     "text": [
      "INDEX 6000: 080100\n",
      "INDEX 6000: 080100\n",
      "INDEX 6000: 080100\n",
      "INDEX 6000: 080100\n",
      "INDEX 6000: 080100\n"
     ]
    },
    {
     "data": {
      "text/html": [
       "<pre style=\"white-space:pre;overflow-x:auto;line-height:normal;font-family:Menlo,'DejaVu Sans Mono',consolas,'Courier New',monospace\"><span style=\"color: #7fbfbf\">           </span><span style=\"color: #000080\">INFO    </span> INDEX <span style=\"color: #000080; font-weight: bold\">6000</span>: <span style=\"color: #000080; font-weight: bold\">080100</span>                                         <a href=\"file:///home/j-gunmo/desktop/00.my-project/17.P-Stage-T1003/4-STAGE/fe/feature.py\"><span style=\"color: #7f7f7f\">feature.py</span></a><span style=\"color: #7f7f7f\">:105</span>\n",
       "</pre>\n"
      ],
      "text/plain": [
       "<rich.jupyter.JupyterRenderable at 0x7fa9536d9eb0>"
      ]
     },
     "metadata": {},
     "output_type": "display_data"
    },
    {
     "name": "stderr",
     "output_type": "stream",
     "text": [
      "INDEX 7000: 080112\n",
      "INDEX 7000: 080112\n",
      "INDEX 7000: 080112\n",
      "INDEX 7000: 080112\n",
      "INDEX 7000: 080112\n"
     ]
    },
    {
     "data": {
      "text/html": [
       "<pre style=\"white-space:pre;overflow-x:auto;line-height:normal;font-family:Menlo,'DejaVu Sans Mono',consolas,'Courier New',monospace\"><span style=\"color: #7fbfbf\">           </span><span style=\"color: #000080\">INFO    </span> INDEX <span style=\"color: #000080; font-weight: bold\">7000</span>: <span style=\"color: #000080; font-weight: bold\">080112</span>                                         <a href=\"file:///home/j-gunmo/desktop/00.my-project/17.P-Stage-T1003/4-STAGE/fe/feature.py\"><span style=\"color: #7f7f7f\">feature.py</span></a><span style=\"color: #7f7f7f\">:105</span>\n",
       "</pre>\n"
      ],
      "text/plain": [
       "<rich.jupyter.JupyterRenderable at 0x7fa9412a4640>"
      ]
     },
     "metadata": {},
     "output_type": "display_data"
    },
    {
     "name": "stderr",
     "output_type": "stream",
     "text": [
      "INDEX 8000: 040049\n",
      "INDEX 8000: 040049\n",
      "INDEX 8000: 040049\n",
      "INDEX 8000: 040049\n",
      "INDEX 8000: 040049\n"
     ]
    },
    {
     "data": {
      "text/html": [
       "<pre style=\"white-space:pre;overflow-x:auto;line-height:normal;font-family:Menlo,'DejaVu Sans Mono',consolas,'Courier New',monospace\"><span style=\"color: #7fbfbf\">           </span><span style=\"color: #000080\">INFO    </span> INDEX <span style=\"color: #000080; font-weight: bold\">8000</span>: <span style=\"color: #000080; font-weight: bold\">040049</span>                                         <a href=\"file:///home/j-gunmo/desktop/00.my-project/17.P-Stage-T1003/4-STAGE/fe/feature.py\"><span style=\"color: #7f7f7f\">feature.py</span></a><span style=\"color: #7f7f7f\">:105</span>\n",
       "</pre>\n"
      ],
      "text/plain": [
       "<rich.jupyter.JupyterRenderable at 0x7fa9458ccf70>"
      ]
     },
     "metadata": {},
     "output_type": "display_data"
    },
    {
     "name": "stderr",
     "output_type": "stream",
     "text": [
      "INDEX 9000: 090011\n",
      "INDEX 9000: 090011\n",
      "INDEX 9000: 090011\n",
      "INDEX 9000: 090011\n",
      "INDEX 9000: 090011\n"
     ]
    },
    {
     "data": {
      "text/html": [
       "<pre style=\"white-space:pre;overflow-x:auto;line-height:normal;font-family:Menlo,'DejaVu Sans Mono',consolas,'Courier New',monospace\"><span style=\"color: #7fbfbf\">           </span><span style=\"color: #000080\">INFO    </span> INDEX <span style=\"color: #000080; font-weight: bold\">9000</span>: <span style=\"color: #000080; font-weight: bold\">090011</span>                                         <a href=\"file:///home/j-gunmo/desktop/00.my-project/17.P-Stage-T1003/4-STAGE/fe/feature.py\"><span style=\"color: #7f7f7f\">feature.py</span></a><span style=\"color: #7f7f7f\">:105</span>\n",
       "</pre>\n"
      ],
      "text/plain": [
       "<rich.jupyter.JupyterRenderable at 0x7fa9412a43d0>"
      ]
     },
     "metadata": {},
     "output_type": "display_data"
    },
    {
     "name": "stderr",
     "output_type": "stream",
     "text": [
      "\n",
      "testPaperCnt    : 시험지의 문항 번호입니다.\n",
      "\n",
      "testPaperCnt    : 시험지의 문항 번호입니다.\n",
      "\n",
      "testPaperCnt    : 시험지의 문항 번호입니다.\n",
      "\n",
      "testPaperCnt    : 시험지의 문항 번호입니다.\n",
      "\n",
      "testPaperCnt    : 시험지의 문항 번호입니다.\n"
     ]
    },
    {
     "data": {
      "text/html": [
       "<pre style=\"white-space:pre;overflow-x:auto;line-height:normal;font-family:Menlo,'DejaVu Sans Mono',consolas,'Courier New',monospace\"><span style=\"color: #7fbfbf\">           </span><span style=\"color: #000080\">INFO    </span>                                                            <a href=\"file:///home/j-gunmo/desktop/00.my-project/17.P-Stage-T1003/4-STAGE/fe/feature.py\"><span style=\"color: #7f7f7f\">feature.py</span></a><span style=\"color: #7f7f7f\">:100</span>\n",
       "                    testPaperCnt    : 시험지의 문항 번호입니다.                              \n",
       "</pre>\n"
      ],
      "text/plain": [
       "<rich.jupyter.JupyterRenderable at 0x7fa94129cd00>"
      ]
     },
     "metadata": {},
     "output_type": "display_data"
    },
    {
     "name": "stderr",
     "output_type": "stream",
     "text": [
      "dtype: object\n",
      "dtype: object\n",
      "dtype: object\n",
      "dtype: object\n",
      "dtype: object\n"
     ]
    },
    {
     "data": {
      "text/html": [
       "<pre style=\"white-space:pre;overflow-x:auto;line-height:normal;font-family:Menlo,'DejaVu Sans Mono',consolas,'Courier New',monospace\"><span style=\"color: #7fbfbf\">           </span><span style=\"color: #000080\">INFO    </span> dtype: object                                              <a href=\"file:///home/j-gunmo/desktop/00.my-project/17.P-Stage-T1003/4-STAGE/fe/feature.py\"><span style=\"color: #7f7f7f\">feature.py</span></a><span style=\"color: #7f7f7f\">:101</span>\n",
       "</pre>\n"
      ],
      "text/plain": [
       "<rich.jupyter.JupyterRenderable at 0x7fa9412a4220>"
      ]
     },
     "metadata": {},
     "output_type": "display_data"
    },
    {
     "name": "stderr",
     "output_type": "stream",
     "text": [
      "[Examples]\n",
      "[Examples]\n",
      "[Examples]\n",
      "[Examples]\n",
      "[Examples]\n"
     ]
    },
    {
     "data": {
      "text/html": [
       "<pre style=\"white-space:pre;overflow-x:auto;line-height:normal;font-family:Menlo,'DejaVu Sans Mono',consolas,'Courier New',monospace\"><span style=\"color: #7fbfbf\">           </span><span style=\"color: #000080\">INFO    </span> <span style=\"font-weight: bold\">[</span>Examples<span style=\"font-weight: bold\">]</span>                                                 <a href=\"file:///home/j-gunmo/desktop/00.my-project/17.P-Stage-T1003/4-STAGE/fe/feature.py\"><span style=\"color: #7f7f7f\">feature.py</span></a><span style=\"color: #7f7f7f\">:102</span>\n",
       "</pre>\n"
      ],
      "text/plain": [
       "<rich.jupyter.JupyterRenderable at 0x7fa94502e5e0>"
      ]
     },
     "metadata": {},
     "output_type": "display_data"
    },
    {
     "name": "stderr",
     "output_type": "stream",
     "text": [
      "INDEX 0000: 001\n",
      "INDEX 0000: 001\n",
      "INDEX 0000: 001\n",
      "INDEX 0000: 001\n",
      "INDEX 0000: 001\n"
     ]
    },
    {
     "data": {
      "text/html": [
       "<pre style=\"white-space:pre;overflow-x:auto;line-height:normal;font-family:Menlo,'DejaVu Sans Mono',consolas,'Courier New',monospace\"><span style=\"color: #7fbfbf\">           </span><span style=\"color: #000080\">INFO    </span> INDEX <span style=\"color: #000080; font-weight: bold\">0000</span>: <span style=\"color: #000080; font-weight: bold\">001</span>                                            <a href=\"file:///home/j-gunmo/desktop/00.my-project/17.P-Stage-T1003/4-STAGE/fe/feature.py\"><span style=\"color: #7f7f7f\">feature.py</span></a><span style=\"color: #7f7f7f\">:105</span>\n",
       "</pre>\n"
      ],
      "text/plain": [
       "<rich.jupyter.JupyterRenderable at 0x7fa941e507c0>"
      ]
     },
     "metadata": {},
     "output_type": "display_data"
    },
    {
     "name": "stderr",
     "output_type": "stream",
     "text": [
      "INDEX 1000: 001\n",
      "INDEX 1000: 001\n",
      "INDEX 1000: 001\n",
      "INDEX 1000: 001\n",
      "INDEX 1000: 001\n"
     ]
    },
    {
     "data": {
      "text/html": [
       "<pre style=\"white-space:pre;overflow-x:auto;line-height:normal;font-family:Menlo,'DejaVu Sans Mono',consolas,'Courier New',monospace\"><span style=\"color: #7fbfbf\">           </span><span style=\"color: #000080\">INFO    </span> INDEX <span style=\"color: #000080; font-weight: bold\">1000</span>: <span style=\"color: #000080; font-weight: bold\">001</span>                                            <a href=\"file:///home/j-gunmo/desktop/00.my-project/17.P-Stage-T1003/4-STAGE/fe/feature.py\"><span style=\"color: #7f7f7f\">feature.py</span></a><span style=\"color: #7f7f7f\">:105</span>\n",
       "</pre>\n"
      ],
      "text/plain": [
       "<rich.jupyter.JupyterRenderable at 0x7fa940c3fb20>"
      ]
     },
     "metadata": {},
     "output_type": "display_data"
    },
    {
     "name": "stderr",
     "output_type": "stream",
     "text": [
      "INDEX 2000: 007\n",
      "INDEX 2000: 007\n",
      "INDEX 2000: 007\n",
      "INDEX 2000: 007\n",
      "INDEX 2000: 007\n"
     ]
    },
    {
     "data": {
      "text/html": [
       "<pre style=\"white-space:pre;overflow-x:auto;line-height:normal;font-family:Menlo,'DejaVu Sans Mono',consolas,'Courier New',monospace\"><span style=\"color: #7fbfbf\">           </span><span style=\"color: #000080\">INFO    </span> INDEX <span style=\"color: #000080; font-weight: bold\">2000</span>: <span style=\"color: #000080; font-weight: bold\">007</span>                                            <a href=\"file:///home/j-gunmo/desktop/00.my-project/17.P-Stage-T1003/4-STAGE/fe/feature.py\"><span style=\"color: #7f7f7f\">feature.py</span></a><span style=\"color: #7f7f7f\">:105</span>\n",
       "</pre>\n"
      ],
      "text/plain": [
       "<rich.jupyter.JupyterRenderable at 0x7fa94129cbb0>"
      ]
     },
     "metadata": {},
     "output_type": "display_data"
    },
    {
     "name": "stderr",
     "output_type": "stream",
     "text": [
      "INDEX 3000: 005\n",
      "INDEX 3000: 005\n",
      "INDEX 3000: 005\n",
      "INDEX 3000: 005\n",
      "INDEX 3000: 005\n"
     ]
    },
    {
     "data": {
      "text/html": [
       "<pre style=\"white-space:pre;overflow-x:auto;line-height:normal;font-family:Menlo,'DejaVu Sans Mono',consolas,'Courier New',monospace\"><span style=\"color: #7fbfbf\">           </span><span style=\"color: #000080\">INFO    </span> INDEX <span style=\"color: #000080; font-weight: bold\">3000</span>: <span style=\"color: #000080; font-weight: bold\">005</span>                                            <a href=\"file:///home/j-gunmo/desktop/00.my-project/17.P-Stage-T1003/4-STAGE/fe/feature.py\"><span style=\"color: #7f7f7f\">feature.py</span></a><span style=\"color: #7f7f7f\">:105</span>\n",
       "</pre>\n"
      ],
      "text/plain": [
       "<rich.jupyter.JupyterRenderable at 0x7fa945022100>"
      ]
     },
     "metadata": {},
     "output_type": "display_data"
    },
    {
     "name": "stderr",
     "output_type": "stream",
     "text": [
      "INDEX 4000: 003\n",
      "INDEX 4000: 003\n",
      "INDEX 4000: 003\n",
      "INDEX 4000: 003\n",
      "INDEX 4000: 003\n"
     ]
    },
    {
     "data": {
      "text/html": [
       "<pre style=\"white-space:pre;overflow-x:auto;line-height:normal;font-family:Menlo,'DejaVu Sans Mono',consolas,'Courier New',monospace\"><span style=\"color: #7fbfbf\">           </span><span style=\"color: #000080\">INFO    </span> INDEX <span style=\"color: #000080; font-weight: bold\">4000</span>: <span style=\"color: #000080; font-weight: bold\">003</span>                                            <a href=\"file:///home/j-gunmo/desktop/00.my-project/17.P-Stage-T1003/4-STAGE/fe/feature.py\"><span style=\"color: #7f7f7f\">feature.py</span></a><span style=\"color: #7f7f7f\">:105</span>\n",
       "</pre>\n"
      ],
      "text/plain": [
       "<rich.jupyter.JupyterRenderable at 0x7fa940c3fb20>"
      ]
     },
     "metadata": {},
     "output_type": "display_data"
    },
    {
     "name": "stderr",
     "output_type": "stream",
     "text": [
      "INDEX 5000: 003\n",
      "INDEX 5000: 003\n",
      "INDEX 5000: 003\n",
      "INDEX 5000: 003\n",
      "INDEX 5000: 003\n"
     ]
    },
    {
     "data": {
      "text/html": [
       "<pre style=\"white-space:pre;overflow-x:auto;line-height:normal;font-family:Menlo,'DejaVu Sans Mono',consolas,'Courier New',monospace\"><span style=\"color: #7fbfbf\">           </span><span style=\"color: #000080\">INFO    </span> INDEX <span style=\"color: #000080; font-weight: bold\">5000</span>: <span style=\"color: #000080; font-weight: bold\">003</span>                                            <a href=\"file:///home/j-gunmo/desktop/00.my-project/17.P-Stage-T1003/4-STAGE/fe/feature.py\"><span style=\"color: #7f7f7f\">feature.py</span></a><span style=\"color: #7f7f7f\">:105</span>\n",
       "</pre>\n"
      ],
      "text/plain": [
       "<rich.jupyter.JupyterRenderable at 0x7fa945022040>"
      ]
     },
     "metadata": {},
     "output_type": "display_data"
    },
    {
     "name": "stderr",
     "output_type": "stream",
     "text": [
      "INDEX 6000: 004\n",
      "INDEX 6000: 004\n",
      "INDEX 6000: 004\n",
      "INDEX 6000: 004\n",
      "INDEX 6000: 004\n"
     ]
    },
    {
     "data": {
      "text/html": [
       "<pre style=\"white-space:pre;overflow-x:auto;line-height:normal;font-family:Menlo,'DejaVu Sans Mono',consolas,'Courier New',monospace\"><span style=\"color: #7fbfbf\">           </span><span style=\"color: #000080\">INFO    </span> INDEX <span style=\"color: #000080; font-weight: bold\">6000</span>: <span style=\"color: #000080; font-weight: bold\">004</span>                                            <a href=\"file:///home/j-gunmo/desktop/00.my-project/17.P-Stage-T1003/4-STAGE/fe/feature.py\"><span style=\"color: #7f7f7f\">feature.py</span></a><span style=\"color: #7f7f7f\">:105</span>\n",
       "</pre>\n"
      ],
      "text/plain": [
       "<rich.jupyter.JupyterRenderable at 0x7fa9458ccf70>"
      ]
     },
     "metadata": {},
     "output_type": "display_data"
    },
    {
     "name": "stderr",
     "output_type": "stream",
     "text": [
      "INDEX 7000: 002\n",
      "INDEX 7000: 002\n",
      "INDEX 7000: 002\n",
      "INDEX 7000: 002\n",
      "INDEX 7000: 002\n"
     ]
    },
    {
     "data": {
      "text/html": [
       "<pre style=\"white-space:pre;overflow-x:auto;line-height:normal;font-family:Menlo,'DejaVu Sans Mono',consolas,'Courier New',monospace\"><span style=\"color: #7fbfbf\">           </span><span style=\"color: #000080\">INFO    </span> INDEX <span style=\"color: #000080; font-weight: bold\">7000</span>: <span style=\"color: #000080; font-weight: bold\">002</span>                                            <a href=\"file:///home/j-gunmo/desktop/00.my-project/17.P-Stage-T1003/4-STAGE/fe/feature.py\"><span style=\"color: #7f7f7f\">feature.py</span></a><span style=\"color: #7f7f7f\">:105</span>\n",
       "</pre>\n"
      ],
      "text/plain": [
       "<rich.jupyter.JupyterRenderable at 0x7fa94502efd0>"
      ]
     },
     "metadata": {},
     "output_type": "display_data"
    },
    {
     "name": "stderr",
     "output_type": "stream",
     "text": [
      "INDEX 8000: 003\n",
      "INDEX 8000: 003\n",
      "INDEX 8000: 003\n",
      "INDEX 8000: 003\n",
      "INDEX 8000: 003\n"
     ]
    },
    {
     "data": {
      "text/html": [
       "<pre style=\"white-space:pre;overflow-x:auto;line-height:normal;font-family:Menlo,'DejaVu Sans Mono',consolas,'Courier New',monospace\"><span style=\"color: #7fbfbf\">           </span><span style=\"color: #000080\">INFO    </span> INDEX <span style=\"color: #000080; font-weight: bold\">8000</span>: <span style=\"color: #000080; font-weight: bold\">003</span>                                            <a href=\"file:///home/j-gunmo/desktop/00.my-project/17.P-Stage-T1003/4-STAGE/fe/feature.py\"><span style=\"color: #7f7f7f\">feature.py</span></a><span style=\"color: #7f7f7f\">:105</span>\n",
       "</pre>\n"
      ],
      "text/plain": [
       "<rich.jupyter.JupyterRenderable at 0x7fa94502e5e0>"
      ]
     },
     "metadata": {},
     "output_type": "display_data"
    },
    {
     "name": "stderr",
     "output_type": "stream",
     "text": [
      "INDEX 9000: 007\n",
      "INDEX 9000: 007\n",
      "INDEX 9000: 007\n",
      "INDEX 9000: 007\n",
      "INDEX 9000: 007\n"
     ]
    },
    {
     "data": {
      "text/html": [
       "<pre style=\"white-space:pre;overflow-x:auto;line-height:normal;font-family:Menlo,'DejaVu Sans Mono',consolas,'Courier New',monospace\"><span style=\"color: #7fbfbf\">           </span><span style=\"color: #000080\">INFO    </span> INDEX <span style=\"color: #000080; font-weight: bold\">9000</span>: <span style=\"color: #000080; font-weight: bold\">007</span>                                            <a href=\"file:///home/j-gunmo/desktop/00.my-project/17.P-Stage-T1003/4-STAGE/fe/feature.py\"><span style=\"color: #7f7f7f\">feature.py</span></a><span style=\"color: #7f7f7f\">:105</span>\n",
       "</pre>\n"
      ],
      "text/plain": [
       "<rich.jupyter.JupyterRenderable at 0x7fa94129cd00>"
      ]
     },
     "metadata": {},
     "output_type": "display_data"
    },
    {
     "name": "stdout",
     "output_type": "stream",
     "text": [
      "load features /home/j-gunmo/features/train_convert_time.pkl to dataframe ... \n"
     ]
    },
    {
     "name": "stderr",
     "output_type": "stream",
     "text": [
      "\n",
      "Feature Engineering Name: convert_time\n",
      "\n",
      "Feature Engineering Name: convert_time\n",
      "\n",
      "Feature Engineering Name: convert_time\n",
      "\n",
      "Feature Engineering Name: convert_time\n",
      "\n",
      "Feature Engineering Name: convert_time\n"
     ]
    },
    {
     "data": {
      "text/html": [
       "<pre style=\"white-space:pre;overflow-x:auto;line-height:normal;font-family:Menlo,'DejaVu Sans Mono',consolas,'Courier New',monospace\"><span style=\"color: #7fbfbf\">[13:46:40] </span><span style=\"color: #000080\">INFO    </span>                                                             <a href=\"file:///home/j-gunmo/desktop/00.my-project/17.P-Stage-T1003/4-STAGE/fe/feature.py\"><span style=\"color: #7f7f7f\">feature.py</span></a><span style=\"color: #7f7f7f\">:97</span>\n",
       "                    Feature Engineering Name: convert_time                                   \n",
       "</pre>\n"
      ],
      "text/plain": [
       "<rich.jupyter.JupyterRenderable at 0x7fa9450228e0>"
      ]
     },
     "metadata": {},
     "output_type": "display_data"
    },
    {
     "name": "stderr",
     "output_type": "stream",
     "text": [
      "\n",
      "timeSec         : 사용자가 문항을 푼 타임스태프 정보입니다.\n",
      "\n",
      "timeSec         : 사용자가 문항을 푼 타임스태프 정보입니다.\n",
      "\n",
      "timeSec         : 사용자가 문항을 푼 타임스태프 정보입니다.\n",
      "\n",
      "timeSec         : 사용자가 문항을 푼 타임스태프 정보입니다.\n",
      "\n",
      "timeSec         : 사용자가 문항을 푼 타임스태프 정보입니다.\n"
     ]
    },
    {
     "data": {
      "text/html": [
       "<pre style=\"white-space:pre;overflow-x:auto;line-height:normal;font-family:Menlo,'DejaVu Sans Mono',consolas,'Courier New',monospace\"><span style=\"color: #7fbfbf\">           </span><span style=\"color: #000080\">INFO    </span>                                                            <a href=\"file:///home/j-gunmo/desktop/00.my-project/17.P-Stage-T1003/4-STAGE/fe/feature.py\"><span style=\"color: #7f7f7f\">feature.py</span></a><span style=\"color: #7f7f7f\">:100</span>\n",
       "                    timeSec         : 사용자가 문항을 푼 타임스태프                          \n",
       "                    정보입니다.                                                              \n",
       "</pre>\n"
      ],
      "text/plain": [
       "<rich.jupyter.JupyterRenderable at 0x7fa94129fd00>"
      ]
     },
     "metadata": {},
     "output_type": "display_data"
    },
    {
     "name": "stderr",
     "output_type": "stream",
     "text": [
      "dtype: int64\n",
      "dtype: int64\n",
      "dtype: int64\n",
      "dtype: int64\n",
      "dtype: int64\n"
     ]
    },
    {
     "data": {
      "text/html": [
       "<pre style=\"white-space:pre;overflow-x:auto;line-height:normal;font-family:Menlo,'DejaVu Sans Mono',consolas,'Courier New',monospace\"><span style=\"color: #7fbfbf\">           </span><span style=\"color: #000080\">INFO    </span> dtype: int64                                               <a href=\"file:///home/j-gunmo/desktop/00.my-project/17.P-Stage-T1003/4-STAGE/fe/feature.py\"><span style=\"color: #7f7f7f\">feature.py</span></a><span style=\"color: #7f7f7f\">:101</span>\n",
       "</pre>\n"
      ],
      "text/plain": [
       "<rich.jupyter.JupyterRenderable at 0x7fa941e507c0>"
      ]
     },
     "metadata": {},
     "output_type": "display_data"
    },
    {
     "name": "stderr",
     "output_type": "stream",
     "text": [
      "[Examples]\n",
      "[Examples]\n",
      "[Examples]\n",
      "[Examples]\n",
      "[Examples]\n"
     ]
    },
    {
     "data": {
      "text/html": [
       "<pre style=\"white-space:pre;overflow-x:auto;line-height:normal;font-family:Menlo,'DejaVu Sans Mono',consolas,'Courier New',monospace\"><span style=\"color: #7fbfbf\">           </span><span style=\"color: #000080\">INFO    </span> <span style=\"font-weight: bold\">[</span>Examples<span style=\"font-weight: bold\">]</span>                                                 <a href=\"file:///home/j-gunmo/desktop/00.my-project/17.P-Stage-T1003/4-STAGE/fe/feature.py\"><span style=\"color: #7f7f7f\">feature.py</span></a><span style=\"color: #7f7f7f\">:102</span>\n",
       "</pre>\n"
      ],
      "text/plain": [
       "<rich.jupyter.JupyterRenderable at 0x7fa9510cf7c0>"
      ]
     },
     "metadata": {},
     "output_type": "display_data"
    },
    {
     "name": "stderr",
     "output_type": "stream",
     "text": [
      "INDEX 0000: 1584976631\n",
      "INDEX 0000: 1584976631\n",
      "INDEX 0000: 1584976631\n",
      "INDEX 0000: 1584976631\n",
      "INDEX 0000: 1584976631\n"
     ]
    },
    {
     "data": {
      "text/html": [
       "<pre style=\"white-space:pre;overflow-x:auto;line-height:normal;font-family:Menlo,'DejaVu Sans Mono',consolas,'Courier New',monospace\"><span style=\"color: #7fbfbf\">           </span><span style=\"color: #000080\">INFO    </span> INDEX <span style=\"color: #000080; font-weight: bold\">0000</span>: <span style=\"color: #000080; font-weight: bold\">1584976631</span>                                     <a href=\"file:///home/j-gunmo/desktop/00.my-project/17.P-Stage-T1003/4-STAGE/fe/feature.py\"><span style=\"color: #7f7f7f\">feature.py</span></a><span style=\"color: #7f7f7f\">:105</span>\n",
       "</pre>\n"
      ],
      "text/plain": [
       "<rich.jupyter.JupyterRenderable at 0x7fa945022100>"
      ]
     },
     "metadata": {},
     "output_type": "display_data"
    },
    {
     "name": "stderr",
     "output_type": "stream",
     "text": [
      "INDEX 1000: 1588175753\n",
      "INDEX 1000: 1588175753\n",
      "INDEX 1000: 1588175753\n",
      "INDEX 1000: 1588175753\n",
      "INDEX 1000: 1588175753\n"
     ]
    },
    {
     "data": {
      "text/html": [
       "<pre style=\"white-space:pre;overflow-x:auto;line-height:normal;font-family:Menlo,'DejaVu Sans Mono',consolas,'Courier New',monospace\"><span style=\"color: #7fbfbf\">           </span><span style=\"color: #000080\">INFO    </span> INDEX <span style=\"color: #000080; font-weight: bold\">1000</span>: <span style=\"color: #000080; font-weight: bold\">1588175753</span>                                     <a href=\"file:///home/j-gunmo/desktop/00.my-project/17.P-Stage-T1003/4-STAGE/fe/feature.py\"><span style=\"color: #7f7f7f\">feature.py</span></a><span style=\"color: #7f7f7f\">:105</span>\n",
       "</pre>\n"
      ],
      "text/plain": [
       "<rich.jupyter.JupyterRenderable at 0x7fa94129cd00>"
      ]
     },
     "metadata": {},
     "output_type": "display_data"
    },
    {
     "name": "stderr",
     "output_type": "stream",
     "text": [
      "INDEX 2000: 1590428625\n",
      "INDEX 2000: 1590428625\n",
      "INDEX 2000: 1590428625\n",
      "INDEX 2000: 1590428625\n",
      "INDEX 2000: 1590428625\n"
     ]
    },
    {
     "data": {
      "text/html": [
       "<pre style=\"white-space:pre;overflow-x:auto;line-height:normal;font-family:Menlo,'DejaVu Sans Mono',consolas,'Courier New',monospace\"><span style=\"color: #7fbfbf\">           </span><span style=\"color: #000080\">INFO    </span> INDEX <span style=\"color: #000080; font-weight: bold\">2000</span>: <span style=\"color: #000080; font-weight: bold\">1590428625</span>                                     <a href=\"file:///home/j-gunmo/desktop/00.my-project/17.P-Stage-T1003/4-STAGE/fe/feature.py\"><span style=\"color: #7f7f7f\">feature.py</span></a><span style=\"color: #7f7f7f\">:105</span>\n",
       "</pre>\n"
      ],
      "text/plain": [
       "<rich.jupyter.JupyterRenderable at 0x7fa94129c1f0>"
      ]
     },
     "metadata": {},
     "output_type": "display_data"
    },
    {
     "name": "stderr",
     "output_type": "stream",
     "text": [
      "INDEX 3000: 1592332726\n",
      "INDEX 3000: 1592332726\n",
      "INDEX 3000: 1592332726\n",
      "INDEX 3000: 1592332726\n",
      "INDEX 3000: 1592332726\n"
     ]
    },
    {
     "data": {
      "text/html": [
       "<pre style=\"white-space:pre;overflow-x:auto;line-height:normal;font-family:Menlo,'DejaVu Sans Mono',consolas,'Courier New',monospace\"><span style=\"color: #7fbfbf\">           </span><span style=\"color: #000080\">INFO    </span> INDEX <span style=\"color: #000080; font-weight: bold\">3000</span>: <span style=\"color: #000080; font-weight: bold\">1592332726</span>                                     <a href=\"file:///home/j-gunmo/desktop/00.my-project/17.P-Stage-T1003/4-STAGE/fe/feature.py\"><span style=\"color: #7f7f7f\">feature.py</span></a><span style=\"color: #7f7f7f\">:105</span>\n",
       "</pre>\n"
      ],
      "text/plain": [
       "<rich.jupyter.JupyterRenderable at 0x7fa94129c1f0>"
      ]
     },
     "metadata": {},
     "output_type": "display_data"
    },
    {
     "name": "stderr",
     "output_type": "stream",
     "text": [
      "INDEX 4000: 1594832366\n",
      "INDEX 4000: 1594832366\n",
      "INDEX 4000: 1594832366\n",
      "INDEX 4000: 1594832366\n",
      "INDEX 4000: 1594832366\n"
     ]
    },
    {
     "data": {
      "text/html": [
       "<pre style=\"white-space:pre;overflow-x:auto;line-height:normal;font-family:Menlo,'DejaVu Sans Mono',consolas,'Courier New',monospace\"><span style=\"color: #7fbfbf\">           </span><span style=\"color: #000080\">INFO    </span> INDEX <span style=\"color: #000080; font-weight: bold\">4000</span>: <span style=\"color: #000080; font-weight: bold\">1594832366</span>                                     <a href=\"file:///home/j-gunmo/desktop/00.my-project/17.P-Stage-T1003/4-STAGE/fe/feature.py\"><span style=\"color: #7f7f7f\">feature.py</span></a><span style=\"color: #7f7f7f\">:105</span>\n",
       "</pre>\n"
      ],
      "text/plain": [
       "<rich.jupyter.JupyterRenderable at 0x7fa9510cf7c0>"
      ]
     },
     "metadata": {},
     "output_type": "display_data"
    },
    {
     "name": "stderr",
     "output_type": "stream",
     "text": [
      "INDEX 5000: 1599493405\n",
      "INDEX 5000: 1599493405\n",
      "INDEX 5000: 1599493405\n",
      "INDEX 5000: 1599493405\n",
      "INDEX 5000: 1599493405\n"
     ]
    },
    {
     "data": {
      "text/html": [
       "<pre style=\"white-space:pre;overflow-x:auto;line-height:normal;font-family:Menlo,'DejaVu Sans Mono',consolas,'Courier New',monospace\"><span style=\"color: #7fbfbf\">           </span><span style=\"color: #000080\">INFO    </span> INDEX <span style=\"color: #000080; font-weight: bold\">5000</span>: <span style=\"color: #000080; font-weight: bold\">1599493405</span>                                     <a href=\"file:///home/j-gunmo/desktop/00.my-project/17.P-Stage-T1003/4-STAGE/fe/feature.py\"><span style=\"color: #7f7f7f\">feature.py</span></a><span style=\"color: #7f7f7f\">:105</span>\n",
       "</pre>\n"
      ],
      "text/plain": [
       "<rich.jupyter.JupyterRenderable at 0x7fa94502e8e0>"
      ]
     },
     "metadata": {},
     "output_type": "display_data"
    },
    {
     "name": "stderr",
     "output_type": "stream",
     "text": [
      "INDEX 6000: 1602576550\n",
      "INDEX 6000: 1602576550\n",
      "INDEX 6000: 1602576550\n",
      "INDEX 6000: 1602576550\n",
      "INDEX 6000: 1602576550\n"
     ]
    },
    {
     "data": {
      "text/html": [
       "<pre style=\"white-space:pre;overflow-x:auto;line-height:normal;font-family:Menlo,'DejaVu Sans Mono',consolas,'Courier New',monospace\"><span style=\"color: #7fbfbf\">           </span><span style=\"color: #000080\">INFO    </span> INDEX <span style=\"color: #000080; font-weight: bold\">6000</span>: <span style=\"color: #000080; font-weight: bold\">1602576550</span>                                     <a href=\"file:///home/j-gunmo/desktop/00.my-project/17.P-Stage-T1003/4-STAGE/fe/feature.py\"><span style=\"color: #7f7f7f\">feature.py</span></a><span style=\"color: #7f7f7f\">:105</span>\n",
       "</pre>\n"
      ],
      "text/plain": [
       "<rich.jupyter.JupyterRenderable at 0x7fa945022040>"
      ]
     },
     "metadata": {},
     "output_type": "display_data"
    },
    {
     "name": "stderr",
     "output_type": "stream",
     "text": [
      "INDEX 7000: 1604429286\n",
      "INDEX 7000: 1604429286\n",
      "INDEX 7000: 1604429286\n",
      "INDEX 7000: 1604429286\n",
      "INDEX 7000: 1604429286\n"
     ]
    },
    {
     "data": {
      "text/html": [
       "<pre style=\"white-space:pre;overflow-x:auto;line-height:normal;font-family:Menlo,'DejaVu Sans Mono',consolas,'Courier New',monospace\"><span style=\"color: #7fbfbf\">           </span><span style=\"color: #000080\">INFO    </span> INDEX <span style=\"color: #000080; font-weight: bold\">7000</span>: <span style=\"color: #000080; font-weight: bold\">1604429286</span>                                     <a href=\"file:///home/j-gunmo/desktop/00.my-project/17.P-Stage-T1003/4-STAGE/fe/feature.py\"><span style=\"color: #7f7f7f\">feature.py</span></a><span style=\"color: #7f7f7f\">:105</span>\n",
       "</pre>\n"
      ],
      "text/plain": [
       "<rich.jupyter.JupyterRenderable at 0x7fa9450220a0>"
      ]
     },
     "metadata": {},
     "output_type": "display_data"
    },
    {
     "name": "stderr",
     "output_type": "stream",
     "text": [
      "INDEX 8000: 1581193055\n",
      "INDEX 8000: 1581193055\n",
      "INDEX 8000: 1581193055\n",
      "INDEX 8000: 1581193055\n",
      "INDEX 8000: 1581193055\n"
     ]
    },
    {
     "data": {
      "text/html": [
       "<pre style=\"white-space:pre;overflow-x:auto;line-height:normal;font-family:Menlo,'DejaVu Sans Mono',consolas,'Courier New',monospace\"><span style=\"color: #7fbfbf\">           </span><span style=\"color: #000080\">INFO    </span> INDEX <span style=\"color: #000080; font-weight: bold\">8000</span>: <span style=\"color: #000080; font-weight: bold\">1581193055</span>                                     <a href=\"file:///home/j-gunmo/desktop/00.my-project/17.P-Stage-T1003/4-STAGE/fe/feature.py\"><span style=\"color: #7f7f7f\">feature.py</span></a><span style=\"color: #7f7f7f\">:105</span>\n",
       "</pre>\n"
      ],
      "text/plain": [
       "<rich.jupyter.JupyterRenderable at 0x7fa941e507c0>"
      ]
     },
     "metadata": {},
     "output_type": "display_data"
    },
    {
     "name": "stderr",
     "output_type": "stream",
     "text": [
      "INDEX 9000: 1584613367\n",
      "INDEX 9000: 1584613367\n",
      "INDEX 9000: 1584613367\n",
      "INDEX 9000: 1584613367\n",
      "INDEX 9000: 1584613367\n"
     ]
    },
    {
     "data": {
      "text/html": [
       "<pre style=\"white-space:pre;overflow-x:auto;line-height:normal;font-family:Menlo,'DejaVu Sans Mono',consolas,'Courier New',monospace\"><span style=\"color: #7fbfbf\">           </span><span style=\"color: #000080\">INFO    </span> INDEX <span style=\"color: #000080; font-weight: bold\">9000</span>: <span style=\"color: #000080; font-weight: bold\">1584613367</span>                                     <a href=\"file:///home/j-gunmo/desktop/00.my-project/17.P-Stage-T1003/4-STAGE/fe/feature.py\"><span style=\"color: #7f7f7f\">feature.py</span></a><span style=\"color: #7f7f7f\">:105</span>\n",
       "</pre>\n"
      ],
      "text/plain": [
       "<rich.jupyter.JupyterRenderable at 0x7fa940c3fa90>"
      ]
     },
     "metadata": {},
     "output_type": "display_data"
    },
    {
     "name": "stdout",
     "output_type": "stream",
     "text": [
      "load features /home/j-gunmo/features/train_make_first_class.pkl to dataframe ... \n"
     ]
    },
    {
     "name": "stderr",
     "output_type": "stream",
     "text": [
      "\n",
      "Feature Engineering Name: make_first_class\n",
      "\n",
      "Feature Engineering Name: make_first_class\n",
      "\n",
      "Feature Engineering Name: make_first_class\n",
      "\n",
      "Feature Engineering Name: make_first_class\n",
      "\n",
      "Feature Engineering Name: make_first_class\n"
     ]
    },
    {
     "data": {
      "text/html": [
       "<pre style=\"white-space:pre;overflow-x:auto;line-height:normal;font-family:Menlo,'DejaVu Sans Mono',consolas,'Courier New',monospace\"><span style=\"color: #7fbfbf\">           </span><span style=\"color: #000080\">INFO    </span>                                                             <a href=\"file:///home/j-gunmo/desktop/00.my-project/17.P-Stage-T1003/4-STAGE/fe/feature.py\"><span style=\"color: #7f7f7f\">feature.py</span></a><span style=\"color: #7f7f7f\">:97</span>\n",
       "                    Feature Engineering Name: make_first_class                               \n",
       "</pre>\n"
      ],
      "text/plain": [
       "<rich.jupyter.JupyterRenderable at 0x7fa94129fd00>"
      ]
     },
     "metadata": {},
     "output_type": "display_data"
    },
    {
     "name": "stderr",
     "output_type": "stream",
     "text": [
      "\n",
      "firstClass      : 대분류에 해당합니다.\n",
      "\n",
      "firstClass      : 대분류에 해당합니다.\n",
      "\n",
      "firstClass      : 대분류에 해당합니다.\n",
      "\n",
      "firstClass      : 대분류에 해당합니다.\n",
      "\n",
      "firstClass      : 대분류에 해당합니다.\n"
     ]
    },
    {
     "data": {
      "text/html": [
       "<pre style=\"white-space:pre;overflow-x:auto;line-height:normal;font-family:Menlo,'DejaVu Sans Mono',consolas,'Courier New',monospace\"><span style=\"color: #7fbfbf\">           </span><span style=\"color: #000080\">INFO    </span>                                                            <a href=\"file:///home/j-gunmo/desktop/00.my-project/17.P-Stage-T1003/4-STAGE/fe/feature.py\"><span style=\"color: #7f7f7f\">feature.py</span></a><span style=\"color: #7f7f7f\">:100</span>\n",
       "                    firstClass      : 대분류에 해당합니다.                                   \n",
       "</pre>\n"
      ],
      "text/plain": [
       "<rich.jupyter.JupyterRenderable at 0x7fa9412a4b20>"
      ]
     },
     "metadata": {},
     "output_type": "display_data"
    },
    {
     "name": "stderr",
     "output_type": "stream",
     "text": [
      "dtype: object\n",
      "dtype: object\n",
      "dtype: object\n",
      "dtype: object\n",
      "dtype: object\n"
     ]
    },
    {
     "data": {
      "text/html": [
       "<pre style=\"white-space:pre;overflow-x:auto;line-height:normal;font-family:Menlo,'DejaVu Sans Mono',consolas,'Courier New',monospace\"><span style=\"color: #7fbfbf\">           </span><span style=\"color: #000080\">INFO    </span> dtype: object                                              <a href=\"file:///home/j-gunmo/desktop/00.my-project/17.P-Stage-T1003/4-STAGE/fe/feature.py\"><span style=\"color: #7f7f7f\">feature.py</span></a><span style=\"color: #7f7f7f\">:101</span>\n",
       "</pre>\n"
      ],
      "text/plain": [
       "<rich.jupyter.JupyterRenderable at 0x7fa94129fd00>"
      ]
     },
     "metadata": {},
     "output_type": "display_data"
    },
    {
     "name": "stderr",
     "output_type": "stream",
     "text": [
      "[Examples]\n",
      "[Examples]\n",
      "[Examples]\n",
      "[Examples]\n",
      "[Examples]\n"
     ]
    },
    {
     "data": {
      "text/html": [
       "<pre style=\"white-space:pre;overflow-x:auto;line-height:normal;font-family:Menlo,'DejaVu Sans Mono',consolas,'Courier New',monospace\"><span style=\"color: #7fbfbf\">           </span><span style=\"color: #000080\">INFO    </span> <span style=\"font-weight: bold\">[</span>Examples<span style=\"font-weight: bold\">]</span>                                                 <a href=\"file:///home/j-gunmo/desktop/00.my-project/17.P-Stage-T1003/4-STAGE/fe/feature.py\"><span style=\"color: #7f7f7f\">feature.py</span></a><span style=\"color: #7f7f7f\">:102</span>\n",
       "</pre>\n"
      ],
      "text/plain": [
       "<rich.jupyter.JupyterRenderable at 0x7fa940c3f820>"
      ]
     },
     "metadata": {},
     "output_type": "display_data"
    },
    {
     "name": "stderr",
     "output_type": "stream",
     "text": [
      "INDEX 0000: 6\n",
      "INDEX 0000: 6\n",
      "INDEX 0000: 6\n",
      "INDEX 0000: 6\n",
      "INDEX 0000: 6\n"
     ]
    },
    {
     "data": {
      "text/html": [
       "<pre style=\"white-space:pre;overflow-x:auto;line-height:normal;font-family:Menlo,'DejaVu Sans Mono',consolas,'Courier New',monospace\"><span style=\"color: #7fbfbf\">           </span><span style=\"color: #000080\">INFO    </span> INDEX <span style=\"color: #000080; font-weight: bold\">0000</span>: <span style=\"color: #000080; font-weight: bold\">6</span>                                              <a href=\"file:///home/j-gunmo/desktop/00.my-project/17.P-Stage-T1003/4-STAGE/fe/feature.py\"><span style=\"color: #7f7f7f\">feature.py</span></a><span style=\"color: #7f7f7f\">:105</span>\n",
       "</pre>\n"
      ],
      "text/plain": [
       "<rich.jupyter.JupyterRenderable at 0x7faafc4c1430>"
      ]
     },
     "metadata": {},
     "output_type": "display_data"
    },
    {
     "name": "stderr",
     "output_type": "stream",
     "text": [
      "INDEX 1000: 8\n",
      "INDEX 1000: 8\n",
      "INDEX 1000: 8\n",
      "INDEX 1000: 8\n",
      "INDEX 1000: 8\n"
     ]
    },
    {
     "data": {
      "text/html": [
       "<pre style=\"white-space:pre;overflow-x:auto;line-height:normal;font-family:Menlo,'DejaVu Sans Mono',consolas,'Courier New',monospace\"><span style=\"color: #7fbfbf\">           </span><span style=\"color: #000080\">INFO    </span> INDEX <span style=\"color: #000080; font-weight: bold\">1000</span>: <span style=\"color: #000080; font-weight: bold\">8</span>                                              <a href=\"file:///home/j-gunmo/desktop/00.my-project/17.P-Stage-T1003/4-STAGE/fe/feature.py\"><span style=\"color: #7f7f7f\">feature.py</span></a><span style=\"color: #7f7f7f\">:105</span>\n",
       "</pre>\n"
      ],
      "text/plain": [
       "<rich.jupyter.JupyterRenderable at 0x7fa94129c5e0>"
      ]
     },
     "metadata": {},
     "output_type": "display_data"
    },
    {
     "name": "stderr",
     "output_type": "stream",
     "text": [
      "INDEX 2000: 6\n",
      "INDEX 2000: 6\n",
      "INDEX 2000: 6\n",
      "INDEX 2000: 6\n",
      "INDEX 2000: 6\n"
     ]
    },
    {
     "data": {
      "text/html": [
       "<pre style=\"white-space:pre;overflow-x:auto;line-height:normal;font-family:Menlo,'DejaVu Sans Mono',consolas,'Courier New',monospace\"><span style=\"color: #7fbfbf\">           </span><span style=\"color: #000080\">INFO    </span> INDEX <span style=\"color: #000080; font-weight: bold\">2000</span>: <span style=\"color: #000080; font-weight: bold\">6</span>                                              <a href=\"file:///home/j-gunmo/desktop/00.my-project/17.P-Stage-T1003/4-STAGE/fe/feature.py\"><span style=\"color: #7f7f7f\">feature.py</span></a><span style=\"color: #7f7f7f\">:105</span>\n",
       "</pre>\n"
      ],
      "text/plain": [
       "<rich.jupyter.JupyterRenderable at 0x7fa9412a4dc0>"
      ]
     },
     "metadata": {},
     "output_type": "display_data"
    },
    {
     "name": "stderr",
     "output_type": "stream",
     "text": [
      "INDEX 3000: 8\n",
      "INDEX 3000: 8\n",
      "INDEX 3000: 8\n",
      "INDEX 3000: 8\n",
      "INDEX 3000: 8\n"
     ]
    },
    {
     "data": {
      "text/html": [
       "<pre style=\"white-space:pre;overflow-x:auto;line-height:normal;font-family:Menlo,'DejaVu Sans Mono',consolas,'Courier New',monospace\"><span style=\"color: #7fbfbf\">           </span><span style=\"color: #000080\">INFO    </span> INDEX <span style=\"color: #000080; font-weight: bold\">3000</span>: <span style=\"color: #000080; font-weight: bold\">8</span>                                              <a href=\"file:///home/j-gunmo/desktop/00.my-project/17.P-Stage-T1003/4-STAGE/fe/feature.py\"><span style=\"color: #7f7f7f\">feature.py</span></a><span style=\"color: #7f7f7f\">:105</span>\n",
       "</pre>\n"
      ],
      "text/plain": [
       "<rich.jupyter.JupyterRenderable at 0x7fa940c3fb80>"
      ]
     },
     "metadata": {},
     "output_type": "display_data"
    },
    {
     "name": "stderr",
     "output_type": "stream",
     "text": [
      "INDEX 4000: 6\n",
      "INDEX 4000: 6\n",
      "INDEX 4000: 6\n",
      "INDEX 4000: 6\n",
      "INDEX 4000: 6\n"
     ]
    },
    {
     "data": {
      "text/html": [
       "<pre style=\"white-space:pre;overflow-x:auto;line-height:normal;font-family:Menlo,'DejaVu Sans Mono',consolas,'Courier New',monospace\"><span style=\"color: #7fbfbf\">           </span><span style=\"color: #000080\">INFO    </span> INDEX <span style=\"color: #000080; font-weight: bold\">4000</span>: <span style=\"color: #000080; font-weight: bold\">6</span>                                              <a href=\"file:///home/j-gunmo/desktop/00.my-project/17.P-Stage-T1003/4-STAGE/fe/feature.py\"><span style=\"color: #7f7f7f\">feature.py</span></a><span style=\"color: #7f7f7f\">:105</span>\n",
       "</pre>\n"
      ],
      "text/plain": [
       "<rich.jupyter.JupyterRenderable at 0x7fa94129fd00>"
      ]
     },
     "metadata": {},
     "output_type": "display_data"
    },
    {
     "name": "stderr",
     "output_type": "stream",
     "text": [
      "INDEX 5000: 6\n",
      "INDEX 5000: 6\n",
      "INDEX 5000: 6\n",
      "INDEX 5000: 6\n",
      "INDEX 5000: 6\n"
     ]
    },
    {
     "data": {
      "text/html": [
       "<pre style=\"white-space:pre;overflow-x:auto;line-height:normal;font-family:Menlo,'DejaVu Sans Mono',consolas,'Courier New',monospace\"><span style=\"color: #7fbfbf\">           </span><span style=\"color: #000080\">INFO    </span> INDEX <span style=\"color: #000080; font-weight: bold\">5000</span>: <span style=\"color: #000080; font-weight: bold\">6</span>                                              <a href=\"file:///home/j-gunmo/desktop/00.my-project/17.P-Stage-T1003/4-STAGE/fe/feature.py\"><span style=\"color: #7f7f7f\">feature.py</span></a><span style=\"color: #7f7f7f\">:105</span>\n",
       "</pre>\n"
      ],
      "text/plain": [
       "<rich.jupyter.JupyterRenderable at 0x7fa940c3fb80>"
      ]
     },
     "metadata": {},
     "output_type": "display_data"
    },
    {
     "name": "stderr",
     "output_type": "stream",
     "text": [
      "INDEX 6000: 8\n",
      "INDEX 6000: 8\n",
      "INDEX 6000: 8\n",
      "INDEX 6000: 8\n",
      "INDEX 6000: 8\n"
     ]
    },
    {
     "data": {
      "text/html": [
       "<pre style=\"white-space:pre;overflow-x:auto;line-height:normal;font-family:Menlo,'DejaVu Sans Mono',consolas,'Courier New',monospace\"><span style=\"color: #7fbfbf\">           </span><span style=\"color: #000080\">INFO    </span> INDEX <span style=\"color: #000080; font-weight: bold\">6000</span>: <span style=\"color: #000080; font-weight: bold\">8</span>                                              <a href=\"file:///home/j-gunmo/desktop/00.my-project/17.P-Stage-T1003/4-STAGE/fe/feature.py\"><span style=\"color: #7f7f7f\">feature.py</span></a><span style=\"color: #7f7f7f\">:105</span>\n",
       "</pre>\n"
      ],
      "text/plain": [
       "<rich.jupyter.JupyterRenderable at 0x7fa94129cd00>"
      ]
     },
     "metadata": {},
     "output_type": "display_data"
    },
    {
     "name": "stderr",
     "output_type": "stream",
     "text": [
      "INDEX 7000: 8\n",
      "INDEX 7000: 8\n",
      "INDEX 7000: 8\n",
      "INDEX 7000: 8\n",
      "INDEX 7000: 8\n"
     ]
    },
    {
     "data": {
      "text/html": [
       "<pre style=\"white-space:pre;overflow-x:auto;line-height:normal;font-family:Menlo,'DejaVu Sans Mono',consolas,'Courier New',monospace\"><span style=\"color: #7fbfbf\">           </span><span style=\"color: #000080\">INFO    </span> INDEX <span style=\"color: #000080; font-weight: bold\">7000</span>: <span style=\"color: #000080; font-weight: bold\">8</span>                                              <a href=\"file:///home/j-gunmo/desktop/00.my-project/17.P-Stage-T1003/4-STAGE/fe/feature.py\"><span style=\"color: #7f7f7f\">feature.py</span></a><span style=\"color: #7f7f7f\">:105</span>\n",
       "</pre>\n"
      ],
      "text/plain": [
       "<rich.jupyter.JupyterRenderable at 0x7faafc4c1430>"
      ]
     },
     "metadata": {},
     "output_type": "display_data"
    },
    {
     "name": "stderr",
     "output_type": "stream",
     "text": [
      "INDEX 8000: 4\n",
      "INDEX 8000: 4\n",
      "INDEX 8000: 4\n",
      "INDEX 8000: 4\n",
      "INDEX 8000: 4\n"
     ]
    },
    {
     "data": {
      "text/html": [
       "<pre style=\"white-space:pre;overflow-x:auto;line-height:normal;font-family:Menlo,'DejaVu Sans Mono',consolas,'Courier New',monospace\"><span style=\"color: #7fbfbf\">           </span><span style=\"color: #000080\">INFO    </span> INDEX <span style=\"color: #000080; font-weight: bold\">8000</span>: <span style=\"color: #000080; font-weight: bold\">4</span>                                              <a href=\"file:///home/j-gunmo/desktop/00.my-project/17.P-Stage-T1003/4-STAGE/fe/feature.py\"><span style=\"color: #7f7f7f\">feature.py</span></a><span style=\"color: #7f7f7f\">:105</span>\n",
       "</pre>\n"
      ],
      "text/plain": [
       "<rich.jupyter.JupyterRenderable at 0x7faafc4c1430>"
      ]
     },
     "metadata": {},
     "output_type": "display_data"
    },
    {
     "name": "stderr",
     "output_type": "stream",
     "text": [
      "INDEX 9000: 9\n",
      "INDEX 9000: 9\n",
      "INDEX 9000: 9\n",
      "INDEX 9000: 9\n",
      "INDEX 9000: 9\n"
     ]
    },
    {
     "data": {
      "text/html": [
       "<pre style=\"white-space:pre;overflow-x:auto;line-height:normal;font-family:Menlo,'DejaVu Sans Mono',consolas,'Courier New',monospace\"><span style=\"color: #7fbfbf\">           </span><span style=\"color: #000080\">INFO    </span> INDEX <span style=\"color: #000080; font-weight: bold\">9000</span>: <span style=\"color: #000080; font-weight: bold\">9</span>                                              <a href=\"file:///home/j-gunmo/desktop/00.my-project/17.P-Stage-T1003/4-STAGE/fe/feature.py\"><span style=\"color: #7f7f7f\">feature.py</span></a><span style=\"color: #7f7f7f\">:105</span>\n",
       "</pre>\n"
      ],
      "text/plain": [
       "<rich.jupyter.JupyterRenderable at 0x7fa94129c5e0>"
      ]
     },
     "metadata": {},
     "output_type": "display_data"
    },
    {
     "name": "stdout",
     "output_type": "stream",
     "text": [
      "load features /home/j-gunmo/features/train_make_second_class.pkl to dataframe ... \n"
     ]
    },
    {
     "name": "stderr",
     "output_type": "stream",
     "text": [
      "\n",
      "Feature Engineering Name: make_second_class\n",
      "\n",
      "Feature Engineering Name: make_second_class\n",
      "\n",
      "Feature Engineering Name: make_second_class\n",
      "\n",
      "Feature Engineering Name: make_second_class\n",
      "\n",
      "Feature Engineering Name: make_second_class\n"
     ]
    },
    {
     "data": {
      "text/html": [
       "<pre style=\"white-space:pre;overflow-x:auto;line-height:normal;font-family:Menlo,'DejaVu Sans Mono',consolas,'Courier New',monospace\"><span style=\"color: #7fbfbf\">[13:46:41] </span><span style=\"color: #000080\">INFO    </span>                                                             <a href=\"file:///home/j-gunmo/desktop/00.my-project/17.P-Stage-T1003/4-STAGE/fe/feature.py\"><span style=\"color: #7f7f7f\">feature.py</span></a><span style=\"color: #7f7f7f\">:97</span>\n",
       "                    Feature Engineering Name: make_second_class                              \n",
       "</pre>\n"
      ],
      "text/plain": [
       "<rich.jupyter.JupyterRenderable at 0x7fa940c0eee0>"
      ]
     },
     "metadata": {},
     "output_type": "display_data"
    },
    {
     "name": "stderr",
     "output_type": "stream",
     "text": [
      "\n",
      "secondClass     : 중분류에 해당합니다.\n",
      "\n",
      "secondClass     : 중분류에 해당합니다.\n",
      "\n",
      "secondClass     : 중분류에 해당합니다.\n",
      "\n",
      "secondClass     : 중분류에 해당합니다.\n",
      "\n",
      "secondClass     : 중분류에 해당합니다.\n"
     ]
    },
    {
     "data": {
      "text/html": [
       "<pre style=\"white-space:pre;overflow-x:auto;line-height:normal;font-family:Menlo,'DejaVu Sans Mono',consolas,'Courier New',monospace\"><span style=\"color: #7fbfbf\">           </span><span style=\"color: #000080\">INFO    </span>                                                            <a href=\"file:///home/j-gunmo/desktop/00.my-project/17.P-Stage-T1003/4-STAGE/fe/feature.py\"><span style=\"color: #7f7f7f\">feature.py</span></a><span style=\"color: #7f7f7f\">:100</span>\n",
       "                    secondClass     : 중분류에 해당합니다.                                   \n",
       "</pre>\n"
      ],
      "text/plain": [
       "<rich.jupyter.JupyterRenderable at 0x7fa941e50400>"
      ]
     },
     "metadata": {},
     "output_type": "display_data"
    },
    {
     "name": "stderr",
     "output_type": "stream",
     "text": [
      "dtype: object\n",
      "dtype: object\n",
      "dtype: object\n",
      "dtype: object\n",
      "dtype: object\n"
     ]
    },
    {
     "data": {
      "text/html": [
       "<pre style=\"white-space:pre;overflow-x:auto;line-height:normal;font-family:Menlo,'DejaVu Sans Mono',consolas,'Courier New',monospace\"><span style=\"color: #7fbfbf\">           </span><span style=\"color: #000080\">INFO    </span> dtype: object                                              <a href=\"file:///home/j-gunmo/desktop/00.my-project/17.P-Stage-T1003/4-STAGE/fe/feature.py\"><span style=\"color: #7f7f7f\">feature.py</span></a><span style=\"color: #7f7f7f\">:101</span>\n",
       "</pre>\n"
      ],
      "text/plain": [
       "<rich.jupyter.JupyterRenderable at 0x7fa945022790>"
      ]
     },
     "metadata": {},
     "output_type": "display_data"
    },
    {
     "name": "stderr",
     "output_type": "stream",
     "text": [
      "[Examples]\n",
      "[Examples]\n",
      "[Examples]\n",
      "[Examples]\n",
      "[Examples]\n"
     ]
    },
    {
     "data": {
      "text/html": [
       "<pre style=\"white-space:pre;overflow-x:auto;line-height:normal;font-family:Menlo,'DejaVu Sans Mono',consolas,'Courier New',monospace\"><span style=\"color: #7fbfbf\">           </span><span style=\"color: #000080\">INFO    </span> <span style=\"font-weight: bold\">[</span>Examples<span style=\"font-weight: bold\">]</span>                                                 <a href=\"file:///home/j-gunmo/desktop/00.my-project/17.P-Stage-T1003/4-STAGE/fe/feature.py\"><span style=\"color: #7f7f7f\">feature.py</span></a><span style=\"color: #7f7f7f\">:102</span>\n",
       "</pre>\n"
      ],
      "text/plain": [
       "<rich.jupyter.JupyterRenderable at 0x7fa9510cf7c0>"
      ]
     },
     "metadata": {},
     "output_type": "display_data"
    },
    {
     "name": "stderr",
     "output_type": "stream",
     "text": [
      "INDEX 0000: 7224\n",
      "INDEX 0000: 7224\n",
      "INDEX 0000: 7224\n",
      "INDEX 0000: 7224\n",
      "INDEX 0000: 7224\n"
     ]
    },
    {
     "data": {
      "text/html": [
       "<pre style=\"white-space:pre;overflow-x:auto;line-height:normal;font-family:Menlo,'DejaVu Sans Mono',consolas,'Courier New',monospace\"><span style=\"color: #7fbfbf\">           </span><span style=\"color: #000080\">INFO    </span> INDEX <span style=\"color: #000080; font-weight: bold\">0000</span>: <span style=\"color: #000080; font-weight: bold\">7224</span>                                           <a href=\"file:///home/j-gunmo/desktop/00.my-project/17.P-Stage-T1003/4-STAGE/fe/feature.py\"><span style=\"color: #7f7f7f\">feature.py</span></a><span style=\"color: #7f7f7f\">:105</span>\n",
       "</pre>\n"
      ],
      "text/plain": [
       "<rich.jupyter.JupyterRenderable at 0x7faa0f62b3d0>"
      ]
     },
     "metadata": {},
     "output_type": "display_data"
    },
    {
     "name": "stderr",
     "output_type": "stream",
     "text": [
      "INDEX 1000: 4659\n",
      "INDEX 1000: 4659\n",
      "INDEX 1000: 4659\n",
      "INDEX 1000: 4659\n",
      "INDEX 1000: 4659\n"
     ]
    },
    {
     "data": {
      "text/html": [
       "<pre style=\"white-space:pre;overflow-x:auto;line-height:normal;font-family:Menlo,'DejaVu Sans Mono',consolas,'Courier New',monospace\"><span style=\"color: #7fbfbf\">           </span><span style=\"color: #000080\">INFO    </span> INDEX <span style=\"color: #000080; font-weight: bold\">1000</span>: <span style=\"color: #000080; font-weight: bold\">4659</span>                                           <a href=\"file:///home/j-gunmo/desktop/00.my-project/17.P-Stage-T1003/4-STAGE/fe/feature.py\"><span style=\"color: #7f7f7f\">feature.py</span></a><span style=\"color: #7f7f7f\">:105</span>\n",
       "</pre>\n"
      ],
      "text/plain": [
       "<rich.jupyter.JupyterRenderable at 0x7fa940c3f7f0>"
      ]
     },
     "metadata": {},
     "output_type": "display_data"
    },
    {
     "name": "stderr",
     "output_type": "stream",
     "text": [
      "INDEX 2000: 602\n",
      "INDEX 2000: 602\n",
      "INDEX 2000: 602\n",
      "INDEX 2000: 602\n",
      "INDEX 2000: 602\n"
     ]
    },
    {
     "data": {
      "text/html": [
       "<pre style=\"white-space:pre;overflow-x:auto;line-height:normal;font-family:Menlo,'DejaVu Sans Mono',consolas,'Courier New',monospace\"><span style=\"color: #7fbfbf\">           </span><span style=\"color: #000080\">INFO    </span> INDEX <span style=\"color: #000080; font-weight: bold\">2000</span>: <span style=\"color: #000080; font-weight: bold\">602</span>                                            <a href=\"file:///home/j-gunmo/desktop/00.my-project/17.P-Stage-T1003/4-STAGE/fe/feature.py\"><span style=\"color: #7f7f7f\">feature.py</span></a><span style=\"color: #7f7f7f\">:105</span>\n",
       "</pre>\n"
      ],
      "text/plain": [
       "<rich.jupyter.JupyterRenderable at 0x7fa9412a4d00>"
      ]
     },
     "metadata": {},
     "output_type": "display_data"
    },
    {
     "name": "stderr",
     "output_type": "stream",
     "text": [
      "INDEX 3000: 4795\n",
      "INDEX 3000: 4795\n",
      "INDEX 3000: 4795\n",
      "INDEX 3000: 4795\n",
      "INDEX 3000: 4795\n"
     ]
    },
    {
     "data": {
      "text/html": [
       "<pre style=\"white-space:pre;overflow-x:auto;line-height:normal;font-family:Menlo,'DejaVu Sans Mono',consolas,'Courier New',monospace\"><span style=\"color: #7fbfbf\">           </span><span style=\"color: #000080\">INFO    </span> INDEX <span style=\"color: #000080; font-weight: bold\">3000</span>: <span style=\"color: #000080; font-weight: bold\">4795</span>                                           <a href=\"file:///home/j-gunmo/desktop/00.my-project/17.P-Stage-T1003/4-STAGE/fe/feature.py\"><span style=\"color: #7f7f7f\">feature.py</span></a><span style=\"color: #7f7f7f\">:105</span>\n",
       "</pre>\n"
      ],
      "text/plain": [
       "<rich.jupyter.JupyterRenderable at 0x7fa940c3f820>"
      ]
     },
     "metadata": {},
     "output_type": "display_data"
    },
    {
     "name": "stderr",
     "output_type": "stream",
     "text": [
      "INDEX 4000: 628\n",
      "INDEX 4000: 628\n",
      "INDEX 4000: 628\n",
      "INDEX 4000: 628\n",
      "INDEX 4000: 628\n"
     ]
    },
    {
     "data": {
      "text/html": [
       "<pre style=\"white-space:pre;overflow-x:auto;line-height:normal;font-family:Menlo,'DejaVu Sans Mono',consolas,'Courier New',monospace\"><span style=\"color: #7fbfbf\">           </span><span style=\"color: #000080\">INFO    </span> INDEX <span style=\"color: #000080; font-weight: bold\">4000</span>: <span style=\"color: #000080; font-weight: bold\">628</span>                                            <a href=\"file:///home/j-gunmo/desktop/00.my-project/17.P-Stage-T1003/4-STAGE/fe/feature.py\"><span style=\"color: #7f7f7f\">feature.py</span></a><span style=\"color: #7f7f7f\">:105</span>\n",
       "</pre>\n"
      ],
      "text/plain": [
       "<rich.jupyter.JupyterRenderable at 0x7fa945022970>"
      ]
     },
     "metadata": {},
     "output_type": "display_data"
    },
    {
     "name": "stderr",
     "output_type": "stream",
     "text": [
      "INDEX 5000: 706\n",
      "INDEX 5000: 706\n",
      "INDEX 5000: 706\n",
      "INDEX 5000: 706\n",
      "INDEX 5000: 706\n"
     ]
    },
    {
     "data": {
      "text/html": [
       "<pre style=\"white-space:pre;overflow-x:auto;line-height:normal;font-family:Menlo,'DejaVu Sans Mono',consolas,'Courier New',monospace\"><span style=\"color: #7fbfbf\">           </span><span style=\"color: #000080\">INFO    </span> INDEX <span style=\"color: #000080; font-weight: bold\">5000</span>: <span style=\"color: #000080; font-weight: bold\">706</span>                                            <a href=\"file:///home/j-gunmo/desktop/00.my-project/17.P-Stage-T1003/4-STAGE/fe/feature.py\"><span style=\"color: #7f7f7f\">feature.py</span></a><span style=\"color: #7f7f7f\">:105</span>\n",
       "</pre>\n"
      ],
      "text/plain": [
       "<rich.jupyter.JupyterRenderable at 0x7fa94129cd00>"
      ]
     },
     "metadata": {},
     "output_type": "display_data"
    },
    {
     "name": "stderr",
     "output_type": "stream",
     "text": [
      "INDEX 6000: 7171\n",
      "INDEX 6000: 7171\n",
      "INDEX 6000: 7171\n",
      "INDEX 6000: 7171\n",
      "INDEX 6000: 7171\n"
     ]
    },
    {
     "data": {
      "text/html": [
       "<pre style=\"white-space:pre;overflow-x:auto;line-height:normal;font-family:Menlo,'DejaVu Sans Mono',consolas,'Courier New',monospace\"><span style=\"color: #7fbfbf\">           </span><span style=\"color: #000080\">INFO    </span> INDEX <span style=\"color: #000080; font-weight: bold\">6000</span>: <span style=\"color: #000080; font-weight: bold\">7171</span>                                           <a href=\"file:///home/j-gunmo/desktop/00.my-project/17.P-Stage-T1003/4-STAGE/fe/feature.py\"><span style=\"color: #7f7f7f\">feature.py</span></a><span style=\"color: #7f7f7f\">:105</span>\n",
       "</pre>\n"
      ],
      "text/plain": [
       "<rich.jupyter.JupyterRenderable at 0x7fa9510cf7c0>"
      ]
     },
     "metadata": {},
     "output_type": "display_data"
    },
    {
     "name": "stderr",
     "output_type": "stream",
     "text": [
      "INDEX 7000: 2711\n",
      "INDEX 7000: 2711\n",
      "INDEX 7000: 2711\n",
      "INDEX 7000: 2711\n",
      "INDEX 7000: 2711\n"
     ]
    },
    {
     "data": {
      "text/html": [
       "<pre style=\"white-space:pre;overflow-x:auto;line-height:normal;font-family:Menlo,'DejaVu Sans Mono',consolas,'Courier New',monospace\"><span style=\"color: #7fbfbf\">           </span><span style=\"color: #000080\">INFO    </span> INDEX <span style=\"color: #000080; font-weight: bold\">7000</span>: <span style=\"color: #000080; font-weight: bold\">2711</span>                                           <a href=\"file:///home/j-gunmo/desktop/00.my-project/17.P-Stage-T1003/4-STAGE/fe/feature.py\"><span style=\"color: #7f7f7f\">feature.py</span></a><span style=\"color: #7f7f7f\">:105</span>\n",
       "</pre>\n"
      ],
      "text/plain": [
       "<rich.jupyter.JupyterRenderable at 0x7fa94129cd00>"
      ]
     },
     "metadata": {},
     "output_type": "display_data"
    },
    {
     "name": "stderr",
     "output_type": "stream",
     "text": [
      "INDEX 8000: 2071\n",
      "INDEX 8000: 2071\n",
      "INDEX 8000: 2071\n",
      "INDEX 8000: 2071\n",
      "INDEX 8000: 2071\n"
     ]
    },
    {
     "data": {
      "text/html": [
       "<pre style=\"white-space:pre;overflow-x:auto;line-height:normal;font-family:Menlo,'DejaVu Sans Mono',consolas,'Courier New',monospace\"><span style=\"color: #7fbfbf\">           </span><span style=\"color: #000080\">INFO    </span> INDEX <span style=\"color: #000080; font-weight: bold\">8000</span>: <span style=\"color: #000080; font-weight: bold\">2071</span>                                           <a href=\"file:///home/j-gunmo/desktop/00.my-project/17.P-Stage-T1003/4-STAGE/fe/feature.py\"><span style=\"color: #7f7f7f\">feature.py</span></a><span style=\"color: #7f7f7f\">:105</span>\n",
       "</pre>\n"
      ],
      "text/plain": [
       "<rich.jupyter.JupyterRenderable at 0x7fa940c3fb80>"
      ]
     },
     "metadata": {},
     "output_type": "display_data"
    },
    {
     "name": "stderr",
     "output_type": "stream",
     "text": [
      "INDEX 9000: 5261\n",
      "INDEX 9000: 5261\n",
      "INDEX 9000: 5261\n",
      "INDEX 9000: 5261\n",
      "INDEX 9000: 5261\n"
     ]
    },
    {
     "data": {
      "text/html": [
       "<pre style=\"white-space:pre;overflow-x:auto;line-height:normal;font-family:Menlo,'DejaVu Sans Mono',consolas,'Courier New',monospace\"><span style=\"color: #7fbfbf\">           </span><span style=\"color: #000080\">INFO    </span> INDEX <span style=\"color: #000080; font-weight: bold\">9000</span>: <span style=\"color: #000080; font-weight: bold\">5261</span>                                           <a href=\"file:///home/j-gunmo/desktop/00.my-project/17.P-Stage-T1003/4-STAGE/fe/feature.py\"><span style=\"color: #7f7f7f\">feature.py</span></a><span style=\"color: #7f7f7f\">:105</span>\n",
       "</pre>\n"
      ],
      "text/plain": [
       "<rich.jupyter.JupyterRenderable at 0x7fa94129cbb0>"
      ]
     },
     "metadata": {},
     "output_type": "display_data"
    },
    {
     "name": "stdout",
     "output_type": "stream",
     "text": [
      "load features /home/j-gunmo/features/train_make_correct_count.pkl to dataframe ... \n"
     ]
    },
    {
     "name": "stderr",
     "output_type": "stream",
     "text": [
      "\n",
      "Feature Engineering Name: make_correct_count\n",
      "\n",
      "Feature Engineering Name: make_correct_count\n",
      "\n",
      "Feature Engineering Name: make_correct_count\n",
      "\n",
      "Feature Engineering Name: make_correct_count\n",
      "\n",
      "Feature Engineering Name: make_correct_count\n"
     ]
    },
    {
     "data": {
      "text/html": [
       "<pre style=\"white-space:pre;overflow-x:auto;line-height:normal;font-family:Menlo,'DejaVu Sans Mono',consolas,'Courier New',monospace\"><span style=\"color: #7fbfbf\">[13:46:42] </span><span style=\"color: #000080\">INFO    </span>                                                             <a href=\"file:///home/j-gunmo/desktop/00.my-project/17.P-Stage-T1003/4-STAGE/fe/feature.py\"><span style=\"color: #7f7f7f\">feature.py</span></a><span style=\"color: #7f7f7f\">:97</span>\n",
       "                    Feature Engineering Name: make_correct_count                             \n",
       "</pre>\n"
      ],
      "text/plain": [
       "<rich.jupyter.JupyterRenderable at 0x7fa941e50400>"
      ]
     },
     "metadata": {},
     "output_type": "display_data"
    },
    {
     "name": "stderr",
     "output_type": "stream",
     "text": [
      "\n",
      "correctCnt      : 사용자가 맞춘 문항수를 나타냅니다.\n",
      "\n",
      "correctCnt      : 사용자가 맞춘 문항수를 나타냅니다.\n",
      "\n",
      "correctCnt      : 사용자가 맞춘 문항수를 나타냅니다.\n",
      "\n",
      "correctCnt      : 사용자가 맞춘 문항수를 나타냅니다.\n",
      "\n",
      "correctCnt      : 사용자가 맞춘 문항수를 나타냅니다.\n"
     ]
    },
    {
     "data": {
      "text/html": [
       "<pre style=\"white-space:pre;overflow-x:auto;line-height:normal;font-family:Menlo,'DejaVu Sans Mono',consolas,'Courier New',monospace\"><span style=\"color: #7fbfbf\">           </span><span style=\"color: #000080\">INFO    </span>                                                            <a href=\"file:///home/j-gunmo/desktop/00.my-project/17.P-Stage-T1003/4-STAGE/fe/feature.py\"><span style=\"color: #7f7f7f\">feature.py</span></a><span style=\"color: #7f7f7f\">:100</span>\n",
       "                    correctCnt      : 사용자가 맞춘 문항수를 나타냅니다.                     \n",
       "</pre>\n"
      ],
      "text/plain": [
       "<rich.jupyter.JupyterRenderable at 0x7fa940c0ec10>"
      ]
     },
     "metadata": {},
     "output_type": "display_data"
    },
    {
     "name": "stderr",
     "output_type": "stream",
     "text": [
      "dtype: int64\n",
      "dtype: int64\n",
      "dtype: int64\n",
      "dtype: int64\n",
      "dtype: int64\n"
     ]
    },
    {
     "data": {
      "text/html": [
       "<pre style=\"white-space:pre;overflow-x:auto;line-height:normal;font-family:Menlo,'DejaVu Sans Mono',consolas,'Courier New',monospace\"><span style=\"color: #7fbfbf\">           </span><span style=\"color: #000080\">INFO    </span> dtype: int64                                               <a href=\"file:///home/j-gunmo/desktop/00.my-project/17.P-Stage-T1003/4-STAGE/fe/feature.py\"><span style=\"color: #7f7f7f\">feature.py</span></a><span style=\"color: #7f7f7f\">:101</span>\n",
       "</pre>\n"
      ],
      "text/plain": [
       "<rich.jupyter.JupyterRenderable at 0x7fa941e50400>"
      ]
     },
     "metadata": {},
     "output_type": "display_data"
    },
    {
     "name": "stderr",
     "output_type": "stream",
     "text": [
      "[Examples]\n",
      "[Examples]\n",
      "[Examples]\n",
      "[Examples]\n",
      "[Examples]\n"
     ]
    },
    {
     "data": {
      "text/html": [
       "<pre style=\"white-space:pre;overflow-x:auto;line-height:normal;font-family:Menlo,'DejaVu Sans Mono',consolas,'Courier New',monospace\"><span style=\"color: #7fbfbf\">           </span><span style=\"color: #000080\">INFO    </span> <span style=\"font-weight: bold\">[</span>Examples<span style=\"font-weight: bold\">]</span>                                                 <a href=\"file:///home/j-gunmo/desktop/00.my-project/17.P-Stage-T1003/4-STAGE/fe/feature.py\"><span style=\"color: #7f7f7f\">feature.py</span></a><span style=\"color: #7f7f7f\">:102</span>\n",
       "</pre>\n"
      ],
      "text/plain": [
       "<rich.jupyter.JupyterRenderable at 0x7fa94502e520>"
      ]
     },
     "metadata": {},
     "output_type": "display_data"
    },
    {
     "name": "stderr",
     "output_type": "stream",
     "text": [
      "INDEX 0000: 470\n",
      "INDEX 0000: 470\n",
      "INDEX 0000: 470\n",
      "INDEX 0000: 470\n",
      "INDEX 0000: 470\n"
     ]
    },
    {
     "data": {
      "text/html": [
       "<pre style=\"white-space:pre;overflow-x:auto;line-height:normal;font-family:Menlo,'DejaVu Sans Mono',consolas,'Courier New',monospace\"><span style=\"color: #7fbfbf\">           </span><span style=\"color: #000080\">INFO    </span> INDEX <span style=\"color: #000080; font-weight: bold\">0000</span>: <span style=\"color: #000080; font-weight: bold\">470</span>                                            <a href=\"file:///home/j-gunmo/desktop/00.my-project/17.P-Stage-T1003/4-STAGE/fe/feature.py\"><span style=\"color: #7f7f7f\">feature.py</span></a><span style=\"color: #7f7f7f\">:105</span>\n",
       "</pre>\n"
      ],
      "text/plain": [
       "<rich.jupyter.JupyterRenderable at 0x7fa94129cd90>"
      ]
     },
     "metadata": {},
     "output_type": "display_data"
    },
    {
     "name": "stderr",
     "output_type": "stream",
     "text": [
      "INDEX 1000: 470\n",
      "INDEX 1000: 470\n",
      "INDEX 1000: 470\n",
      "INDEX 1000: 470\n",
      "INDEX 1000: 470\n"
     ]
    },
    {
     "data": {
      "text/html": [
       "<pre style=\"white-space:pre;overflow-x:auto;line-height:normal;font-family:Menlo,'DejaVu Sans Mono',consolas,'Courier New',monospace\"><span style=\"color: #7fbfbf\">           </span><span style=\"color: #000080\">INFO    </span> INDEX <span style=\"color: #000080; font-weight: bold\">1000</span>: <span style=\"color: #000080; font-weight: bold\">470</span>                                            <a href=\"file:///home/j-gunmo/desktop/00.my-project/17.P-Stage-T1003/4-STAGE/fe/feature.py\"><span style=\"color: #7f7f7f\">feature.py</span></a><span style=\"color: #7f7f7f\">:105</span>\n",
       "</pre>\n"
      ],
      "text/plain": [
       "<rich.jupyter.JupyterRenderable at 0x7fa945022100>"
      ]
     },
     "metadata": {},
     "output_type": "display_data"
    },
    {
     "name": "stderr",
     "output_type": "stream",
     "text": [
      "INDEX 2000: 470\n",
      "INDEX 2000: 470\n",
      "INDEX 2000: 470\n",
      "INDEX 2000: 470\n",
      "INDEX 2000: 470\n"
     ]
    },
    {
     "data": {
      "text/html": [
       "<pre style=\"white-space:pre;overflow-x:auto;line-height:normal;font-family:Menlo,'DejaVu Sans Mono',consolas,'Courier New',monospace\"><span style=\"color: #7fbfbf\">           </span><span style=\"color: #000080\">INFO    </span> INDEX <span style=\"color: #000080; font-weight: bold\">2000</span>: <span style=\"color: #000080; font-weight: bold\">470</span>                                            <a href=\"file:///home/j-gunmo/desktop/00.my-project/17.P-Stage-T1003/4-STAGE/fe/feature.py\"><span style=\"color: #7f7f7f\">feature.py</span></a><span style=\"color: #7f7f7f\">:105</span>\n",
       "</pre>\n"
      ],
      "text/plain": [
       "<rich.jupyter.JupyterRenderable at 0x7fa94129cd90>"
      ]
     },
     "metadata": {},
     "output_type": "display_data"
    },
    {
     "name": "stderr",
     "output_type": "stream",
     "text": [
      "INDEX 3000: 470\n",
      "INDEX 3000: 470\n",
      "INDEX 3000: 470\n",
      "INDEX 3000: 470\n",
      "INDEX 3000: 470\n"
     ]
    },
    {
     "data": {
      "text/html": [
       "<pre style=\"white-space:pre;overflow-x:auto;line-height:normal;font-family:Menlo,'DejaVu Sans Mono',consolas,'Courier New',monospace\"><span style=\"color: #7fbfbf\">           </span><span style=\"color: #000080\">INFO    </span> INDEX <span style=\"color: #000080; font-weight: bold\">3000</span>: <span style=\"color: #000080; font-weight: bold\">470</span>                                            <a href=\"file:///home/j-gunmo/desktop/00.my-project/17.P-Stage-T1003/4-STAGE/fe/feature.py\"><span style=\"color: #7f7f7f\">feature.py</span></a><span style=\"color: #7f7f7f\">:105</span>\n",
       "</pre>\n"
      ],
      "text/plain": [
       "<rich.jupyter.JupyterRenderable at 0x7fa9412a4160>"
      ]
     },
     "metadata": {},
     "output_type": "display_data"
    },
    {
     "name": "stderr",
     "output_type": "stream",
     "text": [
      "INDEX 4000: 470\n",
      "INDEX 4000: 470\n",
      "INDEX 4000: 470\n",
      "INDEX 4000: 470\n",
      "INDEX 4000: 470\n"
     ]
    },
    {
     "data": {
      "text/html": [
       "<pre style=\"white-space:pre;overflow-x:auto;line-height:normal;font-family:Menlo,'DejaVu Sans Mono',consolas,'Courier New',monospace\"><span style=\"color: #7fbfbf\">           </span><span style=\"color: #000080\">INFO    </span> INDEX <span style=\"color: #000080; font-weight: bold\">4000</span>: <span style=\"color: #000080; font-weight: bold\">470</span>                                            <a href=\"file:///home/j-gunmo/desktop/00.my-project/17.P-Stage-T1003/4-STAGE/fe/feature.py\"><span style=\"color: #7f7f7f\">feature.py</span></a><span style=\"color: #7f7f7f\">:105</span>\n",
       "</pre>\n"
      ],
      "text/plain": [
       "<rich.jupyter.JupyterRenderable at 0x7fa94129cd90>"
      ]
     },
     "metadata": {},
     "output_type": "display_data"
    },
    {
     "name": "stderr",
     "output_type": "stream",
     "text": [
      "INDEX 5000: 470\n",
      "INDEX 5000: 470\n",
      "INDEX 5000: 470\n",
      "INDEX 5000: 470\n",
      "INDEX 5000: 470\n"
     ]
    },
    {
     "data": {
      "text/html": [
       "<pre style=\"white-space:pre;overflow-x:auto;line-height:normal;font-family:Menlo,'DejaVu Sans Mono',consolas,'Courier New',monospace\"><span style=\"color: #7fbfbf\">           </span><span style=\"color: #000080\">INFO    </span> INDEX <span style=\"color: #000080; font-weight: bold\">5000</span>: <span style=\"color: #000080; font-weight: bold\">470</span>                                            <a href=\"file:///home/j-gunmo/desktop/00.my-project/17.P-Stage-T1003/4-STAGE/fe/feature.py\"><span style=\"color: #7f7f7f\">feature.py</span></a><span style=\"color: #7f7f7f\">:105</span>\n",
       "</pre>\n"
      ],
      "text/plain": [
       "<rich.jupyter.JupyterRenderable at 0x7fa940c3f970>"
      ]
     },
     "metadata": {},
     "output_type": "display_data"
    },
    {
     "name": "stderr",
     "output_type": "stream",
     "text": [
      "INDEX 6000: 470\n",
      "INDEX 6000: 470\n",
      "INDEX 6000: 470\n",
      "INDEX 6000: 470\n",
      "INDEX 6000: 470\n"
     ]
    },
    {
     "data": {
      "text/html": [
       "<pre style=\"white-space:pre;overflow-x:auto;line-height:normal;font-family:Menlo,'DejaVu Sans Mono',consolas,'Courier New',monospace\"><span style=\"color: #7fbfbf\">           </span><span style=\"color: #000080\">INFO    </span> INDEX <span style=\"color: #000080; font-weight: bold\">6000</span>: <span style=\"color: #000080; font-weight: bold\">470</span>                                            <a href=\"file:///home/j-gunmo/desktop/00.my-project/17.P-Stage-T1003/4-STAGE/fe/feature.py\"><span style=\"color: #7f7f7f\">feature.py</span></a><span style=\"color: #7f7f7f\">:105</span>\n",
       "</pre>\n"
      ],
      "text/plain": [
       "<rich.jupyter.JupyterRenderable at 0x7fa9510cf7c0>"
      ]
     },
     "metadata": {},
     "output_type": "display_data"
    },
    {
     "name": "stderr",
     "output_type": "stream",
     "text": [
      "INDEX 7000: 470\n",
      "INDEX 7000: 470\n",
      "INDEX 7000: 470\n",
      "INDEX 7000: 470\n",
      "INDEX 7000: 470\n"
     ]
    },
    {
     "data": {
      "text/html": [
       "<pre style=\"white-space:pre;overflow-x:auto;line-height:normal;font-family:Menlo,'DejaVu Sans Mono',consolas,'Courier New',monospace\"><span style=\"color: #7fbfbf\">           </span><span style=\"color: #000080\">INFO    </span> INDEX <span style=\"color: #000080; font-weight: bold\">7000</span>: <span style=\"color: #000080; font-weight: bold\">470</span>                                            <a href=\"file:///home/j-gunmo/desktop/00.my-project/17.P-Stage-T1003/4-STAGE/fe/feature.py\"><span style=\"color: #7f7f7f\">feature.py</span></a><span style=\"color: #7f7f7f\">:105</span>\n",
       "</pre>\n"
      ],
      "text/plain": [
       "<rich.jupyter.JupyterRenderable at 0x7fa9450228e0>"
      ]
     },
     "metadata": {},
     "output_type": "display_data"
    },
    {
     "name": "stderr",
     "output_type": "stream",
     "text": [
      "INDEX 8000: 796\n",
      "INDEX 8000: 796\n",
      "INDEX 8000: 796\n",
      "INDEX 8000: 796\n",
      "INDEX 8000: 796\n"
     ]
    },
    {
     "data": {
      "text/html": [
       "<pre style=\"white-space:pre;overflow-x:auto;line-height:normal;font-family:Menlo,'DejaVu Sans Mono',consolas,'Courier New',monospace\"><span style=\"color: #7fbfbf\">           </span><span style=\"color: #000080\">INFO    </span> INDEX <span style=\"color: #000080; font-weight: bold\">8000</span>: <span style=\"color: #000080; font-weight: bold\">796</span>                                            <a href=\"file:///home/j-gunmo/desktop/00.my-project/17.P-Stage-T1003/4-STAGE/fe/feature.py\"><span style=\"color: #7f7f7f\">feature.py</span></a><span style=\"color: #7f7f7f\">:105</span>\n",
       "</pre>\n"
      ],
      "text/plain": [
       "<rich.jupyter.JupyterRenderable at 0x7fa94502e520>"
      ]
     },
     "metadata": {},
     "output_type": "display_data"
    },
    {
     "name": "stderr",
     "output_type": "stream",
     "text": [
      "INDEX 9000: 796\n",
      "INDEX 9000: 796\n",
      "INDEX 9000: 796\n",
      "INDEX 9000: 796\n",
      "INDEX 9000: 796\n"
     ]
    },
    {
     "data": {
      "text/html": [
       "<pre style=\"white-space:pre;overflow-x:auto;line-height:normal;font-family:Menlo,'DejaVu Sans Mono',consolas,'Courier New',monospace\"><span style=\"color: #7fbfbf\">           </span><span style=\"color: #000080\">INFO    </span> INDEX <span style=\"color: #000080; font-weight: bold\">9000</span>: <span style=\"color: #000080; font-weight: bold\">796</span>                                            <a href=\"file:///home/j-gunmo/desktop/00.my-project/17.P-Stage-T1003/4-STAGE/fe/feature.py\"><span style=\"color: #7f7f7f\">feature.py</span></a><span style=\"color: #7f7f7f\">:105</span>\n",
       "</pre>\n"
      ],
      "text/plain": [
       "<rich.jupyter.JupyterRenderable at 0x7fa9450228e0>"
      ]
     },
     "metadata": {},
     "output_type": "display_data"
    },
    {
     "name": "stdout",
     "output_type": "stream",
     "text": [
      "load features /home/j-gunmo/features/train_make_question_count.pkl to dataframe ... \n"
     ]
    },
    {
     "name": "stderr",
     "output_type": "stream",
     "text": [
      "\n",
      "Feature Engineering Name: make_question_count\n",
      "\n",
      "Feature Engineering Name: make_question_count\n",
      "\n",
      "Feature Engineering Name: make_question_count\n",
      "\n",
      "Feature Engineering Name: make_question_count\n",
      "\n",
      "Feature Engineering Name: make_question_count\n"
     ]
    },
    {
     "data": {
      "text/html": [
       "<pre style=\"white-space:pre;overflow-x:auto;line-height:normal;font-family:Menlo,'DejaVu Sans Mono',consolas,'Courier New',monospace\"><span style=\"color: #7fbfbf\">           </span><span style=\"color: #000080\">INFO    </span>                                                             <a href=\"file:///home/j-gunmo/desktop/00.my-project/17.P-Stage-T1003/4-STAGE/fe/feature.py\"><span style=\"color: #7f7f7f\">feature.py</span></a><span style=\"color: #7f7f7f\">:97</span>\n",
       "                    Feature Engineering Name: make_question_count                            \n",
       "</pre>\n"
      ],
      "text/plain": [
       "<rich.jupyter.JupyterRenderable at 0x7fa940c0ec10>"
      ]
     },
     "metadata": {},
     "output_type": "display_data"
    },
    {
     "name": "stderr",
     "output_type": "stream",
     "text": [
      "\n",
      "quesCnt         : 사용자가 푼 문항수를 나타냅니다.\n",
      "\n",
      "quesCnt         : 사용자가 푼 문항수를 나타냅니다.\n",
      "\n",
      "quesCnt         : 사용자가 푼 문항수를 나타냅니다.\n",
      "\n",
      "quesCnt         : 사용자가 푼 문항수를 나타냅니다.\n",
      "\n",
      "quesCnt         : 사용자가 푼 문항수를 나타냅니다.\n"
     ]
    },
    {
     "data": {
      "text/html": [
       "<pre style=\"white-space:pre;overflow-x:auto;line-height:normal;font-family:Menlo,'DejaVu Sans Mono',consolas,'Courier New',monospace\"><span style=\"color: #7fbfbf\">           </span><span style=\"color: #000080\">INFO    </span>                                                            <a href=\"file:///home/j-gunmo/desktop/00.my-project/17.P-Stage-T1003/4-STAGE/fe/feature.py\"><span style=\"color: #7f7f7f\">feature.py</span></a><span style=\"color: #7f7f7f\">:100</span>\n",
       "                    quesCnt         : 사용자가 푼 문항수를 나타냅니다.                       \n",
       "</pre>\n"
      ],
      "text/plain": [
       "<rich.jupyter.JupyterRenderable at 0x7fa94129c5e0>"
      ]
     },
     "metadata": {},
     "output_type": "display_data"
    },
    {
     "name": "stderr",
     "output_type": "stream",
     "text": [
      "dtype: int64\n",
      "dtype: int64\n",
      "dtype: int64\n",
      "dtype: int64\n",
      "dtype: int64\n"
     ]
    },
    {
     "data": {
      "text/html": [
       "<pre style=\"white-space:pre;overflow-x:auto;line-height:normal;font-family:Menlo,'DejaVu Sans Mono',consolas,'Courier New',monospace\"><span style=\"color: #7fbfbf\">           </span><span style=\"color: #000080\">INFO    </span> dtype: int64                                               <a href=\"file:///home/j-gunmo/desktop/00.my-project/17.P-Stage-T1003/4-STAGE/fe/feature.py\"><span style=\"color: #7f7f7f\">feature.py</span></a><span style=\"color: #7f7f7f\">:101</span>\n",
       "</pre>\n"
      ],
      "text/plain": [
       "<rich.jupyter.JupyterRenderable at 0x7fa945022790>"
      ]
     },
     "metadata": {},
     "output_type": "display_data"
    },
    {
     "name": "stderr",
     "output_type": "stream",
     "text": [
      "[Examples]\n",
      "[Examples]\n",
      "[Examples]\n",
      "[Examples]\n",
      "[Examples]\n"
     ]
    },
    {
     "data": {
      "text/html": [
       "<pre style=\"white-space:pre;overflow-x:auto;line-height:normal;font-family:Menlo,'DejaVu Sans Mono',consolas,'Courier New',monospace\"><span style=\"color: #7fbfbf\">           </span><span style=\"color: #000080\">INFO    </span> <span style=\"font-weight: bold\">[</span>Examples<span style=\"font-weight: bold\">]</span>                                                 <a href=\"file:///home/j-gunmo/desktop/00.my-project/17.P-Stage-T1003/4-STAGE/fe/feature.py\"><span style=\"color: #7f7f7f\">feature.py</span></a><span style=\"color: #7f7f7f\">:102</span>\n",
       "</pre>\n"
      ],
      "text/plain": [
       "<rich.jupyter.JupyterRenderable at 0x7fa9450220a0>"
      ]
     },
     "metadata": {},
     "output_type": "display_data"
    },
    {
     "name": "stderr",
     "output_type": "stream",
     "text": [
      "INDEX 0000: 745\n",
      "INDEX 0000: 745\n",
      "INDEX 0000: 745\n",
      "INDEX 0000: 745\n",
      "INDEX 0000: 745\n"
     ]
    },
    {
     "data": {
      "text/html": [
       "<pre style=\"white-space:pre;overflow-x:auto;line-height:normal;font-family:Menlo,'DejaVu Sans Mono',consolas,'Courier New',monospace\"><span style=\"color: #7fbfbf\">           </span><span style=\"color: #000080\">INFO    </span> INDEX <span style=\"color: #000080; font-weight: bold\">0000</span>: <span style=\"color: #000080; font-weight: bold\">745</span>                                            <a href=\"file:///home/j-gunmo/desktop/00.my-project/17.P-Stage-T1003/4-STAGE/fe/feature.py\"><span style=\"color: #7f7f7f\">feature.py</span></a><span style=\"color: #7f7f7f\">:105</span>\n",
       "</pre>\n"
      ],
      "text/plain": [
       "<rich.jupyter.JupyterRenderable at 0x7fa940c0eee0>"
      ]
     },
     "metadata": {},
     "output_type": "display_data"
    },
    {
     "name": "stderr",
     "output_type": "stream",
     "text": [
      "INDEX 1000: 745\n",
      "INDEX 1000: 745\n",
      "INDEX 1000: 745\n",
      "INDEX 1000: 745\n",
      "INDEX 1000: 745\n"
     ]
    },
    {
     "data": {
      "text/html": [
       "<pre style=\"white-space:pre;overflow-x:auto;line-height:normal;font-family:Menlo,'DejaVu Sans Mono',consolas,'Courier New',monospace\"><span style=\"color: #7fbfbf\">           </span><span style=\"color: #000080\">INFO    </span> INDEX <span style=\"color: #000080; font-weight: bold\">1000</span>: <span style=\"color: #000080; font-weight: bold\">745</span>                                            <a href=\"file:///home/j-gunmo/desktop/00.my-project/17.P-Stage-T1003/4-STAGE/fe/feature.py\"><span style=\"color: #7f7f7f\">feature.py</span></a><span style=\"color: #7f7f7f\">:105</span>\n",
       "</pre>\n"
      ],
      "text/plain": [
       "<rich.jupyter.JupyterRenderable at 0x7fa940c3f7f0>"
      ]
     },
     "metadata": {},
     "output_type": "display_data"
    },
    {
     "name": "stderr",
     "output_type": "stream",
     "text": [
      "INDEX 2000: 745\n",
      "INDEX 2000: 745\n",
      "INDEX 2000: 745\n",
      "INDEX 2000: 745\n",
      "INDEX 2000: 745\n"
     ]
    },
    {
     "data": {
      "text/html": [
       "<pre style=\"white-space:pre;overflow-x:auto;line-height:normal;font-family:Menlo,'DejaVu Sans Mono',consolas,'Courier New',monospace\"><span style=\"color: #7fbfbf\">           </span><span style=\"color: #000080\">INFO    </span> INDEX <span style=\"color: #000080; font-weight: bold\">2000</span>: <span style=\"color: #000080; font-weight: bold\">745</span>                                            <a href=\"file:///home/j-gunmo/desktop/00.my-project/17.P-Stage-T1003/4-STAGE/fe/feature.py\"><span style=\"color: #7f7f7f\">feature.py</span></a><span style=\"color: #7f7f7f\">:105</span>\n",
       "</pre>\n"
      ],
      "text/plain": [
       "<rich.jupyter.JupyterRenderable at 0x7fa94129c1f0>"
      ]
     },
     "metadata": {},
     "output_type": "display_data"
    },
    {
     "name": "stderr",
     "output_type": "stream",
     "text": [
      "INDEX 3000: 745\n",
      "INDEX 3000: 745\n",
      "INDEX 3000: 745\n",
      "INDEX 3000: 745\n",
      "INDEX 3000: 745\n"
     ]
    },
    {
     "data": {
      "text/html": [
       "<pre style=\"white-space:pre;overflow-x:auto;line-height:normal;font-family:Menlo,'DejaVu Sans Mono',consolas,'Courier New',monospace\"><span style=\"color: #7fbfbf\">           </span><span style=\"color: #000080\">INFO    </span> INDEX <span style=\"color: #000080; font-weight: bold\">3000</span>: <span style=\"color: #000080; font-weight: bold\">745</span>                                            <a href=\"file:///home/j-gunmo/desktop/00.my-project/17.P-Stage-T1003/4-STAGE/fe/feature.py\"><span style=\"color: #7f7f7f\">feature.py</span></a><span style=\"color: #7f7f7f\">:105</span>\n",
       "</pre>\n"
      ],
      "text/plain": [
       "<rich.jupyter.JupyterRenderable at 0x7fa940c0eee0>"
      ]
     },
     "metadata": {},
     "output_type": "display_data"
    },
    {
     "name": "stderr",
     "output_type": "stream",
     "text": [
      "INDEX 4000: 745\n",
      "INDEX 4000: 745\n",
      "INDEX 4000: 745\n",
      "INDEX 4000: 745\n",
      "INDEX 4000: 745\n"
     ]
    },
    {
     "data": {
      "text/html": [
       "<pre style=\"white-space:pre;overflow-x:auto;line-height:normal;font-family:Menlo,'DejaVu Sans Mono',consolas,'Courier New',monospace\"><span style=\"color: #7fbfbf\">           </span><span style=\"color: #000080\">INFO    </span> INDEX <span style=\"color: #000080; font-weight: bold\">4000</span>: <span style=\"color: #000080; font-weight: bold\">745</span>                                            <a href=\"file:///home/j-gunmo/desktop/00.my-project/17.P-Stage-T1003/4-STAGE/fe/feature.py\"><span style=\"color: #7f7f7f\">feature.py</span></a><span style=\"color: #7f7f7f\">:105</span>\n",
       "</pre>\n"
      ],
      "text/plain": [
       "<rich.jupyter.JupyterRenderable at 0x7fa94502ef40>"
      ]
     },
     "metadata": {},
     "output_type": "display_data"
    },
    {
     "name": "stderr",
     "output_type": "stream",
     "text": [
      "INDEX 5000: 745\n",
      "INDEX 5000: 745\n",
      "INDEX 5000: 745\n",
      "INDEX 5000: 745\n",
      "INDEX 5000: 745\n"
     ]
    },
    {
     "data": {
      "text/html": [
       "<pre style=\"white-space:pre;overflow-x:auto;line-height:normal;font-family:Menlo,'DejaVu Sans Mono',consolas,'Courier New',monospace\"><span style=\"color: #7fbfbf\">           </span><span style=\"color: #000080\">INFO    </span> INDEX <span style=\"color: #000080; font-weight: bold\">5000</span>: <span style=\"color: #000080; font-weight: bold\">745</span>                                            <a href=\"file:///home/j-gunmo/desktop/00.my-project/17.P-Stage-T1003/4-STAGE/fe/feature.py\"><span style=\"color: #7f7f7f\">feature.py</span></a><span style=\"color: #7f7f7f\">:105</span>\n",
       "</pre>\n"
      ],
      "text/plain": [
       "<rich.jupyter.JupyterRenderable at 0x7fa940c3fb80>"
      ]
     },
     "metadata": {},
     "output_type": "display_data"
    },
    {
     "name": "stderr",
     "output_type": "stream",
     "text": [
      "INDEX 6000: 745\n",
      "INDEX 6000: 745\n",
      "INDEX 6000: 745\n",
      "INDEX 6000: 745\n",
      "INDEX 6000: 745\n"
     ]
    },
    {
     "data": {
      "text/html": [
       "<pre style=\"white-space:pre;overflow-x:auto;line-height:normal;font-family:Menlo,'DejaVu Sans Mono',consolas,'Courier New',monospace\"><span style=\"color: #7fbfbf\">           </span><span style=\"color: #000080\">INFO    </span> INDEX <span style=\"color: #000080; font-weight: bold\">6000</span>: <span style=\"color: #000080; font-weight: bold\">745</span>                                            <a href=\"file:///home/j-gunmo/desktop/00.my-project/17.P-Stage-T1003/4-STAGE/fe/feature.py\"><span style=\"color: #7f7f7f\">feature.py</span></a><span style=\"color: #7f7f7f\">:105</span>\n",
       "</pre>\n"
      ],
      "text/plain": [
       "<rich.jupyter.JupyterRenderable at 0x7fa9412a4b20>"
      ]
     },
     "metadata": {},
     "output_type": "display_data"
    },
    {
     "name": "stderr",
     "output_type": "stream",
     "text": [
      "INDEX 7000: 745\n",
      "INDEX 7000: 745\n",
      "INDEX 7000: 745\n",
      "INDEX 7000: 745\n",
      "INDEX 7000: 745\n"
     ]
    },
    {
     "data": {
      "text/html": [
       "<pre style=\"white-space:pre;overflow-x:auto;line-height:normal;font-family:Menlo,'DejaVu Sans Mono',consolas,'Courier New',monospace\"><span style=\"color: #7fbfbf\">           </span><span style=\"color: #000080\">INFO    </span> INDEX <span style=\"color: #000080; font-weight: bold\">7000</span>: <span style=\"color: #000080; font-weight: bold\">745</span>                                            <a href=\"file:///home/j-gunmo/desktop/00.my-project/17.P-Stage-T1003/4-STAGE/fe/feature.py\"><span style=\"color: #7f7f7f\">feature.py</span></a><span style=\"color: #7f7f7f\">:105</span>\n",
       "</pre>\n"
      ],
      "text/plain": [
       "<rich.jupyter.JupyterRenderable at 0x7fa94502e8e0>"
      ]
     },
     "metadata": {},
     "output_type": "display_data"
    },
    {
     "name": "stderr",
     "output_type": "stream",
     "text": [
      "INDEX 8000: 933\n",
      "INDEX 8000: 933\n",
      "INDEX 8000: 933\n",
      "INDEX 8000: 933\n",
      "INDEX 8000: 933\n"
     ]
    },
    {
     "data": {
      "text/html": [
       "<pre style=\"white-space:pre;overflow-x:auto;line-height:normal;font-family:Menlo,'DejaVu Sans Mono',consolas,'Courier New',monospace\"><span style=\"color: #7fbfbf\">           </span><span style=\"color: #000080\">INFO    </span> INDEX <span style=\"color: #000080; font-weight: bold\">8000</span>: <span style=\"color: #000080; font-weight: bold\">933</span>                                            <a href=\"file:///home/j-gunmo/desktop/00.my-project/17.P-Stage-T1003/4-STAGE/fe/feature.py\"><span style=\"color: #7f7f7f\">feature.py</span></a><span style=\"color: #7f7f7f\">:105</span>\n",
       "</pre>\n"
      ],
      "text/plain": [
       "<rich.jupyter.JupyterRenderable at 0x7fa9458ccf70>"
      ]
     },
     "metadata": {},
     "output_type": "display_data"
    },
    {
     "name": "stderr",
     "output_type": "stream",
     "text": [
      "INDEX 9000: 933\n",
      "INDEX 9000: 933\n",
      "INDEX 9000: 933\n",
      "INDEX 9000: 933\n",
      "INDEX 9000: 933\n"
     ]
    },
    {
     "data": {
      "text/html": [
       "<pre style=\"white-space:pre;overflow-x:auto;line-height:normal;font-family:Menlo,'DejaVu Sans Mono',consolas,'Courier New',monospace\"><span style=\"color: #7fbfbf\">           </span><span style=\"color: #000080\">INFO    </span> INDEX <span style=\"color: #000080; font-weight: bold\">9000</span>: <span style=\"color: #000080; font-weight: bold\">933</span>                                            <a href=\"file:///home/j-gunmo/desktop/00.my-project/17.P-Stage-T1003/4-STAGE/fe/feature.py\"><span style=\"color: #7f7f7f\">feature.py</span></a><span style=\"color: #7f7f7f\">:105</span>\n",
       "</pre>\n"
      ],
      "text/plain": [
       "<rich.jupyter.JupyterRenderable at 0x7fa94502e8e0>"
      ]
     },
     "metadata": {},
     "output_type": "display_data"
    },
    {
     "name": "stdout",
     "output_type": "stream",
     "text": [
      "load features /home/j-gunmo/features/train_make_correct_percent.pkl to dataframe ... \n"
     ]
    },
    {
     "name": "stderr",
     "output_type": "stream",
     "text": [
      "\n",
      "Feature Engineering Name: make_correct_percent\n",
      "\n",
      "Feature Engineering Name: make_correct_percent\n",
      "\n",
      "Feature Engineering Name: make_correct_percent\n",
      "\n",
      "Feature Engineering Name: make_correct_percent\n",
      "\n",
      "Feature Engineering Name: make_correct_percent\n"
     ]
    },
    {
     "data": {
      "text/html": [
       "<pre style=\"white-space:pre;overflow-x:auto;line-height:normal;font-family:Menlo,'DejaVu Sans Mono',consolas,'Courier New',monospace\"><span style=\"color: #7fbfbf\">[13:46:43] </span><span style=\"color: #000080\">INFO    </span>                                                             <a href=\"file:///home/j-gunmo/desktop/00.my-project/17.P-Stage-T1003/4-STAGE/fe/feature.py\"><span style=\"color: #7f7f7f\">feature.py</span></a><span style=\"color: #7f7f7f\">:97</span>\n",
       "                    Feature Engineering Name: make_correct_percent                           \n",
       "</pre>\n"
      ],
      "text/plain": [
       "<rich.jupyter.JupyterRenderable at 0x7fa940c3f820>"
      ]
     },
     "metadata": {},
     "output_type": "display_data"
    },
    {
     "name": "stderr",
     "output_type": "stream",
     "text": [
      "\n",
      "correctPer      : 사용자가 푼 전체 문항에 대한 정답률입니다.\n",
      "\n",
      "correctPer      : 사용자가 푼 전체 문항에 대한 정답률입니다.\n",
      "\n",
      "correctPer      : 사용자가 푼 전체 문항에 대한 정답률입니다.\n",
      "\n",
      "correctPer      : 사용자가 푼 전체 문항에 대한 정답률입니다.\n",
      "\n",
      "correctPer      : 사용자가 푼 전체 문항에 대한 정답률입니다.\n"
     ]
    },
    {
     "data": {
      "text/html": [
       "<pre style=\"white-space:pre;overflow-x:auto;line-height:normal;font-family:Menlo,'DejaVu Sans Mono',consolas,'Courier New',monospace\"><span style=\"color: #7fbfbf\">           </span><span style=\"color: #000080\">INFO    </span>                                                            <a href=\"file:///home/j-gunmo/desktop/00.my-project/17.P-Stage-T1003/4-STAGE/fe/feature.py\"><span style=\"color: #7f7f7f\">feature.py</span></a><span style=\"color: #7f7f7f\">:100</span>\n",
       "                    correctPer      : 사용자가 푼 전체 문항에 대한                           \n",
       "                    정답률입니다.                                                            \n",
       "</pre>\n"
      ],
      "text/plain": [
       "<rich.jupyter.JupyterRenderable at 0x7fa94129fd00>"
      ]
     },
     "metadata": {},
     "output_type": "display_data"
    },
    {
     "name": "stderr",
     "output_type": "stream",
     "text": [
      "dtype: float64\n",
      "dtype: float64\n",
      "dtype: float64\n",
      "dtype: float64\n",
      "dtype: float64\n"
     ]
    },
    {
     "data": {
      "text/html": [
       "<pre style=\"white-space:pre;overflow-x:auto;line-height:normal;font-family:Menlo,'DejaVu Sans Mono',consolas,'Courier New',monospace\"><span style=\"color: #7fbfbf\">           </span><span style=\"color: #000080\">INFO    </span> dtype: float64                                             <a href=\"file:///home/j-gunmo/desktop/00.my-project/17.P-Stage-T1003/4-STAGE/fe/feature.py\"><span style=\"color: #7f7f7f\">feature.py</span></a><span style=\"color: #7f7f7f\">:101</span>\n",
       "</pre>\n"
      ],
      "text/plain": [
       "<rich.jupyter.JupyterRenderable at 0x7fa94129cd90>"
      ]
     },
     "metadata": {},
     "output_type": "display_data"
    },
    {
     "name": "stderr",
     "output_type": "stream",
     "text": [
      "[Examples]\n",
      "[Examples]\n",
      "[Examples]\n",
      "[Examples]\n",
      "[Examples]\n"
     ]
    },
    {
     "data": {
      "text/html": [
       "<pre style=\"white-space:pre;overflow-x:auto;line-height:normal;font-family:Menlo,'DejaVu Sans Mono',consolas,'Courier New',monospace\"><span style=\"color: #7fbfbf\">           </span><span style=\"color: #000080\">INFO    </span> <span style=\"font-weight: bold\">[</span>Examples<span style=\"font-weight: bold\">]</span>                                                 <a href=\"file:///home/j-gunmo/desktop/00.my-project/17.P-Stage-T1003/4-STAGE/fe/feature.py\"><span style=\"color: #7f7f7f\">feature.py</span></a><span style=\"color: #7f7f7f\">:102</span>\n",
       "</pre>\n"
      ],
      "text/plain": [
       "<rich.jupyter.JupyterRenderable at 0x7fa940c3f820>"
      ]
     },
     "metadata": {},
     "output_type": "display_data"
    },
    {
     "name": "stderr",
     "output_type": "stream",
     "text": [
      "INDEX 0000: 0.6308724832214765\n",
      "INDEX 0000: 0.6308724832214765\n",
      "INDEX 0000: 0.6308724832214765\n",
      "INDEX 0000: 0.6308724832214765\n",
      "INDEX 0000: 0.6308724832214765\n"
     ]
    },
    {
     "data": {
      "text/html": [
       "<pre style=\"white-space:pre;overflow-x:auto;line-height:normal;font-family:Menlo,'DejaVu Sans Mono',consolas,'Courier New',monospace\"><span style=\"color: #7fbfbf\">           </span><span style=\"color: #000080\">INFO    </span> INDEX <span style=\"color: #000080; font-weight: bold\">0000</span>: <span style=\"color: #000080; font-weight: bold\">0.6308724832214765</span>                             <a href=\"file:///home/j-gunmo/desktop/00.my-project/17.P-Stage-T1003/4-STAGE/fe/feature.py\"><span style=\"color: #7f7f7f\">feature.py</span></a><span style=\"color: #7f7f7f\">:105</span>\n",
       "</pre>\n"
      ],
      "text/plain": [
       "<rich.jupyter.JupyterRenderable at 0x7fa945022040>"
      ]
     },
     "metadata": {},
     "output_type": "display_data"
    },
    {
     "name": "stderr",
     "output_type": "stream",
     "text": [
      "INDEX 1000: 0.6308724832214765\n",
      "INDEX 1000: 0.6308724832214765\n",
      "INDEX 1000: 0.6308724832214765\n",
      "INDEX 1000: 0.6308724832214765\n",
      "INDEX 1000: 0.6308724832214765\n"
     ]
    },
    {
     "data": {
      "text/html": [
       "<pre style=\"white-space:pre;overflow-x:auto;line-height:normal;font-family:Menlo,'DejaVu Sans Mono',consolas,'Courier New',monospace\"><span style=\"color: #7fbfbf\">           </span><span style=\"color: #000080\">INFO    </span> INDEX <span style=\"color: #000080; font-weight: bold\">1000</span>: <span style=\"color: #000080; font-weight: bold\">0.6308724832214765</span>                             <a href=\"file:///home/j-gunmo/desktop/00.my-project/17.P-Stage-T1003/4-STAGE/fe/feature.py\"><span style=\"color: #7f7f7f\">feature.py</span></a><span style=\"color: #7f7f7f\">:105</span>\n",
       "</pre>\n"
      ],
      "text/plain": [
       "<rich.jupyter.JupyterRenderable at 0x7fa940c0eee0>"
      ]
     },
     "metadata": {},
     "output_type": "display_data"
    },
    {
     "name": "stderr",
     "output_type": "stream",
     "text": [
      "INDEX 2000: 0.6308724832214765\n",
      "INDEX 2000: 0.6308724832214765\n",
      "INDEX 2000: 0.6308724832214765\n",
      "INDEX 2000: 0.6308724832214765\n",
      "INDEX 2000: 0.6308724832214765\n"
     ]
    },
    {
     "data": {
      "text/html": [
       "<pre style=\"white-space:pre;overflow-x:auto;line-height:normal;font-family:Menlo,'DejaVu Sans Mono',consolas,'Courier New',monospace\"><span style=\"color: #7fbfbf\">           </span><span style=\"color: #000080\">INFO    </span> INDEX <span style=\"color: #000080; font-weight: bold\">2000</span>: <span style=\"color: #000080; font-weight: bold\">0.6308724832214765</span>                             <a href=\"file:///home/j-gunmo/desktop/00.my-project/17.P-Stage-T1003/4-STAGE/fe/feature.py\"><span style=\"color: #7f7f7f\">feature.py</span></a><span style=\"color: #7f7f7f\">:105</span>\n",
       "</pre>\n"
      ],
      "text/plain": [
       "<rich.jupyter.JupyterRenderable at 0x7fa941940550>"
      ]
     },
     "metadata": {},
     "output_type": "display_data"
    },
    {
     "name": "stderr",
     "output_type": "stream",
     "text": [
      "INDEX 3000: 0.6308724832214765\n",
      "INDEX 3000: 0.6308724832214765\n",
      "INDEX 3000: 0.6308724832214765\n",
      "INDEX 3000: 0.6308724832214765\n",
      "INDEX 3000: 0.6308724832214765\n"
     ]
    },
    {
     "data": {
      "text/html": [
       "<pre style=\"white-space:pre;overflow-x:auto;line-height:normal;font-family:Menlo,'DejaVu Sans Mono',consolas,'Courier New',monospace\"><span style=\"color: #7fbfbf\">           </span><span style=\"color: #000080\">INFO    </span> INDEX <span style=\"color: #000080; font-weight: bold\">3000</span>: <span style=\"color: #000080; font-weight: bold\">0.6308724832214765</span>                             <a href=\"file:///home/j-gunmo/desktop/00.my-project/17.P-Stage-T1003/4-STAGE/fe/feature.py\"><span style=\"color: #7f7f7f\">feature.py</span></a><span style=\"color: #7f7f7f\">:105</span>\n",
       "</pre>\n"
      ],
      "text/plain": [
       "<rich.jupyter.JupyterRenderable at 0x7fa945022970>"
      ]
     },
     "metadata": {},
     "output_type": "display_data"
    },
    {
     "name": "stderr",
     "output_type": "stream",
     "text": [
      "INDEX 4000: 0.6308724832214765\n",
      "INDEX 4000: 0.6308724832214765\n",
      "INDEX 4000: 0.6308724832214765\n",
      "INDEX 4000: 0.6308724832214765\n",
      "INDEX 4000: 0.6308724832214765\n"
     ]
    },
    {
     "data": {
      "text/html": [
       "<pre style=\"white-space:pre;overflow-x:auto;line-height:normal;font-family:Menlo,'DejaVu Sans Mono',consolas,'Courier New',monospace\"><span style=\"color: #7fbfbf\">           </span><span style=\"color: #000080\">INFO    </span> INDEX <span style=\"color: #000080; font-weight: bold\">4000</span>: <span style=\"color: #000080; font-weight: bold\">0.6308724832214765</span>                             <a href=\"file:///home/j-gunmo/desktop/00.my-project/17.P-Stage-T1003/4-STAGE/fe/feature.py\"><span style=\"color: #7f7f7f\">feature.py</span></a><span style=\"color: #7f7f7f\">:105</span>\n",
       "</pre>\n"
      ],
      "text/plain": [
       "<rich.jupyter.JupyterRenderable at 0x7fa94502e520>"
      ]
     },
     "metadata": {},
     "output_type": "display_data"
    },
    {
     "name": "stderr",
     "output_type": "stream",
     "text": [
      "INDEX 5000: 0.6308724832214765\n",
      "INDEX 5000: 0.6308724832214765\n",
      "INDEX 5000: 0.6308724832214765\n",
      "INDEX 5000: 0.6308724832214765\n",
      "INDEX 5000: 0.6308724832214765\n"
     ]
    },
    {
     "data": {
      "text/html": [
       "<pre style=\"white-space:pre;overflow-x:auto;line-height:normal;font-family:Menlo,'DejaVu Sans Mono',consolas,'Courier New',monospace\"><span style=\"color: #7fbfbf\">           </span><span style=\"color: #000080\">INFO    </span> INDEX <span style=\"color: #000080; font-weight: bold\">5000</span>: <span style=\"color: #000080; font-weight: bold\">0.6308724832214765</span>                             <a href=\"file:///home/j-gunmo/desktop/00.my-project/17.P-Stage-T1003/4-STAGE/fe/feature.py\"><span style=\"color: #7f7f7f\">feature.py</span></a><span style=\"color: #7f7f7f\">:105</span>\n",
       "</pre>\n"
      ],
      "text/plain": [
       "<rich.jupyter.JupyterRenderable at 0x7fa9412a4d00>"
      ]
     },
     "metadata": {},
     "output_type": "display_data"
    },
    {
     "name": "stderr",
     "output_type": "stream",
     "text": [
      "INDEX 6000: 0.6308724832214765\n",
      "INDEX 6000: 0.6308724832214765\n",
      "INDEX 6000: 0.6308724832214765\n",
      "INDEX 6000: 0.6308724832214765\n",
      "INDEX 6000: 0.6308724832214765\n"
     ]
    },
    {
     "data": {
      "text/html": [
       "<pre style=\"white-space:pre;overflow-x:auto;line-height:normal;font-family:Menlo,'DejaVu Sans Mono',consolas,'Courier New',monospace\"><span style=\"color: #7fbfbf\">           </span><span style=\"color: #000080\">INFO    </span> INDEX <span style=\"color: #000080; font-weight: bold\">6000</span>: <span style=\"color: #000080; font-weight: bold\">0.6308724832214765</span>                             <a href=\"file:///home/j-gunmo/desktop/00.my-project/17.P-Stage-T1003/4-STAGE/fe/feature.py\"><span style=\"color: #7f7f7f\">feature.py</span></a><span style=\"color: #7f7f7f\">:105</span>\n",
       "</pre>\n"
      ],
      "text/plain": [
       "<rich.jupyter.JupyterRenderable at 0x7fa940c0ec10>"
      ]
     },
     "metadata": {},
     "output_type": "display_data"
    },
    {
     "name": "stderr",
     "output_type": "stream",
     "text": [
      "INDEX 7000: 0.6308724832214765\n",
      "INDEX 7000: 0.6308724832214765\n",
      "INDEX 7000: 0.6308724832214765\n",
      "INDEX 7000: 0.6308724832214765\n",
      "INDEX 7000: 0.6308724832214765\n"
     ]
    },
    {
     "data": {
      "text/html": [
       "<pre style=\"white-space:pre;overflow-x:auto;line-height:normal;font-family:Menlo,'DejaVu Sans Mono',consolas,'Courier New',monospace\"><span style=\"color: #7fbfbf\">           </span><span style=\"color: #000080\">INFO    </span> INDEX <span style=\"color: #000080; font-weight: bold\">7000</span>: <span style=\"color: #000080; font-weight: bold\">0.6308724832214765</span>                             <a href=\"file:///home/j-gunmo/desktop/00.my-project/17.P-Stage-T1003/4-STAGE/fe/feature.py\"><span style=\"color: #7f7f7f\">feature.py</span></a><span style=\"color: #7f7f7f\">:105</span>\n",
       "</pre>\n"
      ],
      "text/plain": [
       "<rich.jupyter.JupyterRenderable at 0x7fa94502e520>"
      ]
     },
     "metadata": {},
     "output_type": "display_data"
    },
    {
     "name": "stderr",
     "output_type": "stream",
     "text": [
      "INDEX 8000: 0.8531618435155413\n",
      "INDEX 8000: 0.8531618435155413\n",
      "INDEX 8000: 0.8531618435155413\n",
      "INDEX 8000: 0.8531618435155413\n",
      "INDEX 8000: 0.8531618435155413\n"
     ]
    },
    {
     "data": {
      "text/html": [
       "<pre style=\"white-space:pre;overflow-x:auto;line-height:normal;font-family:Menlo,'DejaVu Sans Mono',consolas,'Courier New',monospace\"><span style=\"color: #7fbfbf\">           </span><span style=\"color: #000080\">INFO    </span> INDEX <span style=\"color: #000080; font-weight: bold\">8000</span>: <span style=\"color: #000080; font-weight: bold\">0.8531618435155413</span>                             <a href=\"file:///home/j-gunmo/desktop/00.my-project/17.P-Stage-T1003/4-STAGE/fe/feature.py\"><span style=\"color: #7f7f7f\">feature.py</span></a><span style=\"color: #7f7f7f\">:105</span>\n",
       "</pre>\n"
      ],
      "text/plain": [
       "<rich.jupyter.JupyterRenderable at 0x7fa9510cf7c0>"
      ]
     },
     "metadata": {},
     "output_type": "display_data"
    },
    {
     "name": "stderr",
     "output_type": "stream",
     "text": [
      "INDEX 9000: 0.8531618435155413\n",
      "INDEX 9000: 0.8531618435155413\n",
      "INDEX 9000: 0.8531618435155413\n",
      "INDEX 9000: 0.8531618435155413\n",
      "INDEX 9000: 0.8531618435155413\n"
     ]
    },
    {
     "data": {
      "text/html": [
       "<pre style=\"white-space:pre;overflow-x:auto;line-height:normal;font-family:Menlo,'DejaVu Sans Mono',consolas,'Courier New',monospace\"><span style=\"color: #7fbfbf\">           </span><span style=\"color: #000080\">INFO    </span> INDEX <span style=\"color: #000080; font-weight: bold\">9000</span>: <span style=\"color: #000080; font-weight: bold\">0.8531618435155413</span>                             <a href=\"file:///home/j-gunmo/desktop/00.my-project/17.P-Stage-T1003/4-STAGE/fe/feature.py\"><span style=\"color: #7f7f7f\">feature.py</span></a><span style=\"color: #7f7f7f\">:105</span>\n",
       "</pre>\n"
      ],
      "text/plain": [
       "<rich.jupyter.JupyterRenderable at 0x7fa94129cd90>"
      ]
     },
     "metadata": {},
     "output_type": "display_data"
    },
    {
     "name": "stderr",
     "output_type": "stream",
     "text": [
      "Feature Engineering End ... \n",
      "Feature Engineering End ... \n",
      "Feature Engineering End ... \n",
      "Feature Engineering End ... \n",
      "Feature Engineering End ... \n"
     ]
    },
    {
     "data": {
      "text/html": [
       "<pre style=\"white-space:pre;overflow-x:auto;line-height:normal;font-family:Menlo,'DejaVu Sans Mono',consolas,'Courier New',monospace\"><span style=\"color: #7fbfbf\">           </span><span style=\"color: #000080\">INFO    </span> Feature Engineering End <span style=\"color: #808000\">...</span>                                <a href=\"file:///home/j-gunmo/desktop/00.my-project/17.P-Stage-T1003/4-STAGE/fe/feature.py\"><span style=\"color: #7f7f7f\">feature.py</span></a><span style=\"color: #7f7f7f\">:107</span>\n",
       "</pre>\n"
      ],
      "text/plain": [
       "<rich.jupyter.JupyterRenderable at 0x7fa9412a4b20>"
      ]
     },
     "metadata": {},
     "output_type": "display_data"
    },
    {
     "name": "stderr",
     "output_type": "stream",
     "text": [
      "Original DataFrame Keywords: Index(['userID', 'assessmentItemID', 'testId', 'answerCode', 'Timestamp',\n",
      "       'KnowledgeTag'],\n",
      "      dtype='object')\n",
      "Original DataFrame Keywords: Index(['userID', 'assessmentItemID', 'testId', 'answerCode', 'Timestamp',\n",
      "       'KnowledgeTag'],\n",
      "      dtype='object')\n",
      "Original DataFrame Keywords: Index(['userID', 'assessmentItemID', 'testId', 'answerCode', 'Timestamp',\n",
      "       'KnowledgeTag'],\n",
      "      dtype='object')\n",
      "Original DataFrame Keywords: Index(['userID', 'assessmentItemID', 'testId', 'answerCode', 'Timestamp',\n",
      "       'KnowledgeTag'],\n",
      "      dtype='object')\n",
      "Original DataFrame Keywords: Index(['userID', 'assessmentItemID', 'testId', 'answerCode', 'Timestamp',\n",
      "       'KnowledgeTag'],\n",
      "      dtype='object')\n"
     ]
    },
    {
     "data": {
      "text/html": [
       "<pre style=\"white-space:pre;overflow-x:auto;line-height:normal;font-family:Menlo,'DejaVu Sans Mono',consolas,'Courier New',monospace\"><span style=\"color: #7fbfbf\">           </span><span style=\"color: #000080\">INFO    </span> Original DataFrame Keywords: Index<span style=\"font-weight: bold\">([</span><span style=\"color: #008000\">'userID'</span>,              <a href=\"file:///home/j-gunmo/desktop/00.my-project/17.P-Stage-T1003/4-STAGE/fe/feature.py\"><span style=\"color: #7f7f7f\">feature.py</span></a><span style=\"color: #7f7f7f\">:108</span>\n",
       "                    <span style=\"color: #008000\">'assessmentItemID'</span>, <span style=\"color: #008000\">'testId'</span>, <span style=\"color: #008000\">'answerCode'</span>, <span style=\"color: #008000\">'Timestamp'</span>,                 \n",
       "                           <span style=\"color: #008000\">'KnowledgeTag'</span><span style=\"font-weight: bold\">]</span>,                                                  \n",
       "                          <span style=\"color: #808000\">dtype</span>=<span style=\"color: #008000\">'object'</span><span style=\"font-weight: bold\">)</span>                                                    \n",
       "</pre>\n"
      ],
      "text/plain": [
       "<rich.jupyter.JupyterRenderable at 0x7fa9510cf7c0>"
      ]
     },
     "metadata": {},
     "output_type": "display_data"
    },
    {
     "name": "stderr",
     "output_type": "stream",
     "text": [
      "Feature Added DataFrame Keywords: Index(['userID', 'assessmentItemID', 'testId', 'answerCode', 'Timestamp',\n",
      "       'KnowledgeTag', 'testPaper', 'testPaperCnt', 'timeSec', 'firstClass',\n",
      "       'secondClass', 'correctCnt', 'quesCnt', 'correctPer'],\n",
      "      dtype='object')\n",
      "Feature Added DataFrame Keywords: Index(['userID', 'assessmentItemID', 'testId', 'answerCode', 'Timestamp',\n",
      "       'KnowledgeTag', 'testPaper', 'testPaperCnt', 'timeSec', 'firstClass',\n",
      "       'secondClass', 'correctCnt', 'quesCnt', 'correctPer'],\n",
      "      dtype='object')\n",
      "Feature Added DataFrame Keywords: Index(['userID', 'assessmentItemID', 'testId', 'answerCode', 'Timestamp',\n",
      "       'KnowledgeTag', 'testPaper', 'testPaperCnt', 'timeSec', 'firstClass',\n",
      "       'secondClass', 'correctCnt', 'quesCnt', 'correctPer'],\n",
      "      dtype='object')\n",
      "Feature Added DataFrame Keywords: Index(['userID', 'assessmentItemID', 'testId', 'answerCode', 'Timestamp',\n",
      "       'KnowledgeTag', 'testPaper', 'testPaperCnt', 'timeSec', 'firstClass',\n",
      "       'secondClass', 'correctCnt', 'quesCnt', 'correctPer'],\n",
      "      dtype='object')\n",
      "Feature Added DataFrame Keywords: Index(['userID', 'assessmentItemID', 'testId', 'answerCode', 'Timestamp',\n",
      "       'KnowledgeTag', 'testPaper', 'testPaperCnt', 'timeSec', 'firstClass',\n",
      "       'secondClass', 'correctCnt', 'quesCnt', 'correctPer'],\n",
      "      dtype='object')\n"
     ]
    },
    {
     "data": {
      "text/html": [
       "<pre style=\"white-space:pre;overflow-x:auto;line-height:normal;font-family:Menlo,'DejaVu Sans Mono',consolas,'Courier New',monospace\"><span style=\"color: #7fbfbf\">           </span><span style=\"color: #000080\">INFO    </span> Feature Added DataFrame Keywords: Index<span style=\"font-weight: bold\">([</span><span style=\"color: #008000\">'userID'</span>,         <a href=\"file:///home/j-gunmo/desktop/00.my-project/17.P-Stage-T1003/4-STAGE/fe/feature.py\"><span style=\"color: #7f7f7f\">feature.py</span></a><span style=\"color: #7f7f7f\">:109</span>\n",
       "                    <span style=\"color: #008000\">'assessmentItemID'</span>, <span style=\"color: #008000\">'testId'</span>, <span style=\"color: #008000\">'answerCode'</span>, <span style=\"color: #008000\">'Timestamp'</span>,                 \n",
       "                           <span style=\"color: #008000\">'KnowledgeTag'</span>, <span style=\"color: #008000\">'testPaper'</span>, <span style=\"color: #008000\">'testPaperCnt'</span>,                      \n",
       "                    <span style=\"color: #008000\">'timeSec'</span>, <span style=\"color: #008000\">'firstClass'</span>,                                                 \n",
       "                           <span style=\"color: #008000\">'secondClass'</span>, <span style=\"color: #008000\">'correctCnt'</span>, <span style=\"color: #008000\">'quesCnt'</span>,                           \n",
       "                    <span style=\"color: #008000\">'correctPer'</span><span style=\"font-weight: bold\">]</span>,                                                           \n",
       "                          <span style=\"color: #808000\">dtype</span>=<span style=\"color: #008000\">'object'</span><span style=\"font-weight: bold\">)</span>                                                    \n",
       "</pre>\n"
      ],
      "text/plain": [
       "<rich.jupyter.JupyterRenderable at 0x7fa9412a4160>"
      ]
     },
     "metadata": {},
     "output_type": "display_data"
    },
    {
     "name": "stderr",
     "output_type": "stream",
     "text": [
      "Feature Engineering Start ... \n",
      "Feature Engineering Start ... \n",
      "Feature Engineering Start ... \n",
      "Feature Engineering Start ... \n",
      "Feature Engineering Start ... \n"
     ]
    },
    {
     "data": {
      "text/html": [
       "<pre style=\"white-space:pre;overflow-x:auto;line-height:normal;font-family:Menlo,'DejaVu Sans Mono',consolas,'Courier New',monospace\"><span style=\"color: #7fbfbf\">[13:46:47] </span><span style=\"color: #000080\">INFO    </span> Feature Engineering Start <span style=\"color: #808000\">...</span>                               <a href=\"file:///home/j-gunmo/desktop/00.my-project/17.P-Stage-T1003/4-STAGE/fe/feature.py\"><span style=\"color: #7f7f7f\">feature.py</span></a><span style=\"color: #7f7f7f\">:92</span>\n",
       "</pre>\n"
      ],
      "text/plain": [
       "<rich.jupyter.JupyterRenderable at 0x7fa940c3fa90>"
      ]
     },
     "metadata": {},
     "output_type": "display_data"
    },
    {
     "name": "stderr",
     "output_type": "stream",
     "text": [
      "\n",
      "Feature Engineering Name: split_assessmentitem_id\n",
      "\n",
      "Feature Engineering Name: split_assessmentitem_id\n",
      "\n",
      "Feature Engineering Name: split_assessmentitem_id\n",
      "\n",
      "Feature Engineering Name: split_assessmentitem_id\n",
      "\n",
      "Feature Engineering Name: split_assessmentitem_id\n"
     ]
    },
    {
     "name": "stdout",
     "output_type": "stream",
     "text": [
      "load features /home/j-gunmo/features/test_split_assessmentitem_id.pkl to dataframe ... \n"
     ]
    },
    {
     "data": {
      "text/html": [
       "<pre style=\"white-space:pre;overflow-x:auto;line-height:normal;font-family:Menlo,'DejaVu Sans Mono',consolas,'Courier New',monospace\"><span style=\"color: #7fbfbf\">           </span><span style=\"color: #000080\">INFO    </span>                                                             <a href=\"file:///home/j-gunmo/desktop/00.my-project/17.P-Stage-T1003/4-STAGE/fe/feature.py\"><span style=\"color: #7f7f7f\">feature.py</span></a><span style=\"color: #7f7f7f\">:97</span>\n",
       "                    Feature Engineering Name: split_assessmentitem_id                        \n",
       "</pre>\n"
      ],
      "text/plain": [
       "<rich.jupyter.JupyterRenderable at 0x7fa9450226a0>"
      ]
     },
     "metadata": {},
     "output_type": "display_data"
    },
    {
     "name": "stderr",
     "output_type": "stream",
     "text": [
      "\n",
      "testPaper       : 시험지 번호입니다.\n",
      "\n",
      "testPaper       : 시험지 번호입니다.\n",
      "\n",
      "testPaper       : 시험지 번호입니다.\n",
      "\n",
      "testPaper       : 시험지 번호입니다.\n",
      "\n",
      "testPaper       : 시험지 번호입니다.\n"
     ]
    },
    {
     "data": {
      "text/html": [
       "<pre style=\"white-space:pre;overflow-x:auto;line-height:normal;font-family:Menlo,'DejaVu Sans Mono',consolas,'Courier New',monospace\"><span style=\"color: #7fbfbf\">           </span><span style=\"color: #000080\">INFO    </span>                                                            <a href=\"file:///home/j-gunmo/desktop/00.my-project/17.P-Stage-T1003/4-STAGE/fe/feature.py\"><span style=\"color: #7f7f7f\">feature.py</span></a><span style=\"color: #7f7f7f\">:100</span>\n",
       "                    testPaper       : 시험지 번호입니다.                                     \n",
       "</pre>\n"
      ],
      "text/plain": [
       "<rich.jupyter.JupyterRenderable at 0x7fa941940550>"
      ]
     },
     "metadata": {},
     "output_type": "display_data"
    },
    {
     "name": "stderr",
     "output_type": "stream",
     "text": [
      "dtype: object\n",
      "dtype: object\n",
      "dtype: object\n",
      "dtype: object\n",
      "dtype: object\n"
     ]
    },
    {
     "data": {
      "text/html": [
       "<pre style=\"white-space:pre;overflow-x:auto;line-height:normal;font-family:Menlo,'DejaVu Sans Mono',consolas,'Courier New',monospace\"><span style=\"color: #7fbfbf\">           </span><span style=\"color: #000080\">INFO    </span> dtype: object                                              <a href=\"file:///home/j-gunmo/desktop/00.my-project/17.P-Stage-T1003/4-STAGE/fe/feature.py\"><span style=\"color: #7f7f7f\">feature.py</span></a><span style=\"color: #7f7f7f\">:101</span>\n",
       "</pre>\n"
      ],
      "text/plain": [
       "<rich.jupyter.JupyterRenderable at 0x7fa9510cf7c0>"
      ]
     },
     "metadata": {},
     "output_type": "display_data"
    },
    {
     "name": "stderr",
     "output_type": "stream",
     "text": [
      "[Examples]\n",
      "[Examples]\n",
      "[Examples]\n",
      "[Examples]\n",
      "[Examples]\n"
     ]
    },
    {
     "data": {
      "text/html": [
       "<pre style=\"white-space:pre;overflow-x:auto;line-height:normal;font-family:Menlo,'DejaVu Sans Mono',consolas,'Courier New',monospace\"><span style=\"color: #7fbfbf\">           </span><span style=\"color: #000080\">INFO    </span> <span style=\"font-weight: bold\">[</span>Examples<span style=\"font-weight: bold\">]</span>                                                 <a href=\"file:///home/j-gunmo/desktop/00.my-project/17.P-Stage-T1003/4-STAGE/fe/feature.py\"><span style=\"color: #7f7f7f\">feature.py</span></a><span style=\"color: #7f7f7f\">:102</span>\n",
       "</pre>\n"
      ],
      "text/plain": [
       "<rich.jupyter.JupyterRenderable at 0x7fa94129f520>"
      ]
     },
     "metadata": {},
     "output_type": "display_data"
    },
    {
     "name": "stderr",
     "output_type": "stream",
     "text": [
      "INDEX 0000: 050023\n",
      "INDEX 0000: 050023\n",
      "INDEX 0000: 050023\n",
      "INDEX 0000: 050023\n",
      "INDEX 0000: 050023\n"
     ]
    },
    {
     "data": {
      "text/html": [
       "<pre style=\"white-space:pre;overflow-x:auto;line-height:normal;font-family:Menlo,'DejaVu Sans Mono',consolas,'Courier New',monospace\"><span style=\"color: #7fbfbf\">           </span><span style=\"color: #000080\">INFO    </span> INDEX <span style=\"color: #000080; font-weight: bold\">0000</span>: <span style=\"color: #000080; font-weight: bold\">050023</span>                                         <a href=\"file:///home/j-gunmo/desktop/00.my-project/17.P-Stage-T1003/4-STAGE/fe/feature.py\"><span style=\"color: #7f7f7f\">feature.py</span></a><span style=\"color: #7f7f7f\">:105</span>\n",
       "</pre>\n"
      ],
      "text/plain": [
       "<rich.jupyter.JupyterRenderable at 0x7fa940c3fb80>"
      ]
     },
     "metadata": {},
     "output_type": "display_data"
    },
    {
     "name": "stderr",
     "output_type": "stream",
     "text": [
      "INDEX 1000: 020035\n",
      "INDEX 1000: 020035\n",
      "INDEX 1000: 020035\n",
      "INDEX 1000: 020035\n",
      "INDEX 1000: 020035\n"
     ]
    },
    {
     "data": {
      "text/html": [
       "<pre style=\"white-space:pre;overflow-x:auto;line-height:normal;font-family:Menlo,'DejaVu Sans Mono',consolas,'Courier New',monospace\"><span style=\"color: #7fbfbf\">           </span><span style=\"color: #000080\">INFO    </span> INDEX <span style=\"color: #000080; font-weight: bold\">1000</span>: <span style=\"color: #000080; font-weight: bold\">020035</span>                                         <a href=\"file:///home/j-gunmo/desktop/00.my-project/17.P-Stage-T1003/4-STAGE/fe/feature.py\"><span style=\"color: #7f7f7f\">feature.py</span></a><span style=\"color: #7f7f7f\">:105</span>\n",
       "</pre>\n"
      ],
      "text/plain": [
       "<rich.jupyter.JupyterRenderable at 0x7fa9510cf7c0>"
      ]
     },
     "metadata": {},
     "output_type": "display_data"
    },
    {
     "name": "stderr",
     "output_type": "stream",
     "text": [
      "INDEX 2000: 050006\n",
      "INDEX 2000: 050006\n",
      "INDEX 2000: 050006\n",
      "INDEX 2000: 050006\n",
      "INDEX 2000: 050006\n"
     ]
    },
    {
     "data": {
      "text/html": [
       "<pre style=\"white-space:pre;overflow-x:auto;line-height:normal;font-family:Menlo,'DejaVu Sans Mono',consolas,'Courier New',monospace\"><span style=\"color: #7fbfbf\">           </span><span style=\"color: #000080\">INFO    </span> INDEX <span style=\"color: #000080; font-weight: bold\">2000</span>: <span style=\"color: #000080; font-weight: bold\">050006</span>                                         <a href=\"file:///home/j-gunmo/desktop/00.my-project/17.P-Stage-T1003/4-STAGE/fe/feature.py\"><span style=\"color: #7f7f7f\">feature.py</span></a><span style=\"color: #7f7f7f\">:105</span>\n",
       "</pre>\n"
      ],
      "text/plain": [
       "<rich.jupyter.JupyterRenderable at 0x7fa9536d9fa0>"
      ]
     },
     "metadata": {},
     "output_type": "display_data"
    },
    {
     "name": "stderr",
     "output_type": "stream",
     "text": [
      "INDEX 3000: 020037\n",
      "INDEX 3000: 020037\n",
      "INDEX 3000: 020037\n",
      "INDEX 3000: 020037\n",
      "INDEX 3000: 020037\n"
     ]
    },
    {
     "data": {
      "text/html": [
       "<pre style=\"white-space:pre;overflow-x:auto;line-height:normal;font-family:Menlo,'DejaVu Sans Mono',consolas,'Courier New',monospace\"><span style=\"color: #7fbfbf\">           </span><span style=\"color: #000080\">INFO    </span> INDEX <span style=\"color: #000080; font-weight: bold\">3000</span>: <span style=\"color: #000080; font-weight: bold\">020037</span>                                         <a href=\"file:///home/j-gunmo/desktop/00.my-project/17.P-Stage-T1003/4-STAGE/fe/feature.py\"><span style=\"color: #7f7f7f\">feature.py</span></a><span style=\"color: #7f7f7f\">:105</span>\n",
       "</pre>\n"
      ],
      "text/plain": [
       "<rich.jupyter.JupyterRenderable at 0x7fa940c0e640>"
      ]
     },
     "metadata": {},
     "output_type": "display_data"
    },
    {
     "name": "stderr",
     "output_type": "stream",
     "text": [
      "INDEX 4000: 050009\n",
      "INDEX 4000: 050009\n",
      "INDEX 4000: 050009\n",
      "INDEX 4000: 050009\n",
      "INDEX 4000: 050009\n"
     ]
    },
    {
     "data": {
      "text/html": [
       "<pre style=\"white-space:pre;overflow-x:auto;line-height:normal;font-family:Menlo,'DejaVu Sans Mono',consolas,'Courier New',monospace\"><span style=\"color: #7fbfbf\">           </span><span style=\"color: #000080\">INFO    </span> INDEX <span style=\"color: #000080; font-weight: bold\">4000</span>: <span style=\"color: #000080; font-weight: bold\">050009</span>                                         <a href=\"file:///home/j-gunmo/desktop/00.my-project/17.P-Stage-T1003/4-STAGE/fe/feature.py\"><span style=\"color: #7f7f7f\">feature.py</span></a><span style=\"color: #7f7f7f\">:105</span>\n",
       "</pre>\n"
      ],
      "text/plain": [
       "<rich.jupyter.JupyterRenderable at 0x7fa9536d9130>"
      ]
     },
     "metadata": {},
     "output_type": "display_data"
    },
    {
     "name": "stderr",
     "output_type": "stream",
     "text": [
      "INDEX 5000: 050045\n",
      "INDEX 5000: 050045\n",
      "INDEX 5000: 050045\n",
      "INDEX 5000: 050045\n",
      "INDEX 5000: 050045\n"
     ]
    },
    {
     "data": {
      "text/html": [
       "<pre style=\"white-space:pre;overflow-x:auto;line-height:normal;font-family:Menlo,'DejaVu Sans Mono',consolas,'Courier New',monospace\"><span style=\"color: #7fbfbf\">           </span><span style=\"color: #000080\">INFO    </span> INDEX <span style=\"color: #000080; font-weight: bold\">5000</span>: <span style=\"color: #000080; font-weight: bold\">050045</span>                                         <a href=\"file:///home/j-gunmo/desktop/00.my-project/17.P-Stage-T1003/4-STAGE/fe/feature.py\"><span style=\"color: #7f7f7f\">feature.py</span></a><span style=\"color: #7f7f7f\">:105</span>\n",
       "</pre>\n"
      ],
      "text/plain": [
       "<rich.jupyter.JupyterRenderable at 0x7fa945022790>"
      ]
     },
     "metadata": {},
     "output_type": "display_data"
    },
    {
     "name": "stderr",
     "output_type": "stream",
     "text": [
      "INDEX 6000: 050072\n",
      "INDEX 6000: 050072\n",
      "INDEX 6000: 050072\n",
      "INDEX 6000: 050072\n",
      "INDEX 6000: 050072\n"
     ]
    },
    {
     "data": {
      "text/html": [
       "<pre style=\"white-space:pre;overflow-x:auto;line-height:normal;font-family:Menlo,'DejaVu Sans Mono',consolas,'Courier New',monospace\"><span style=\"color: #7fbfbf\">           </span><span style=\"color: #000080\">INFO    </span> INDEX <span style=\"color: #000080; font-weight: bold\">6000</span>: <span style=\"color: #000080; font-weight: bold\">050072</span>                                         <a href=\"file:///home/j-gunmo/desktop/00.my-project/17.P-Stage-T1003/4-STAGE/fe/feature.py\"><span style=\"color: #7f7f7f\">feature.py</span></a><span style=\"color: #7f7f7f\">:105</span>\n",
       "</pre>\n"
      ],
      "text/plain": [
       "<rich.jupyter.JupyterRenderable at 0x7fa9536d9fa0>"
      ]
     },
     "metadata": {},
     "output_type": "display_data"
    },
    {
     "name": "stderr",
     "output_type": "stream",
     "text": [
      "INDEX 7000: 050089\n",
      "INDEX 7000: 050089\n",
      "INDEX 7000: 050089\n",
      "INDEX 7000: 050089\n",
      "INDEX 7000: 050089\n"
     ]
    },
    {
     "data": {
      "text/html": [
       "<pre style=\"white-space:pre;overflow-x:auto;line-height:normal;font-family:Menlo,'DejaVu Sans Mono',consolas,'Courier New',monospace\"><span style=\"color: #7fbfbf\">           </span><span style=\"color: #000080\">INFO    </span> INDEX <span style=\"color: #000080; font-weight: bold\">7000</span>: <span style=\"color: #000080; font-weight: bold\">050089</span>                                         <a href=\"file:///home/j-gunmo/desktop/00.my-project/17.P-Stage-T1003/4-STAGE/fe/feature.py\"><span style=\"color: #7f7f7f\">feature.py</span></a><span style=\"color: #7f7f7f\">:105</span>\n",
       "</pre>\n"
      ],
      "text/plain": [
       "<rich.jupyter.JupyterRenderable at 0x7fa945022970>"
      ]
     },
     "metadata": {},
     "output_type": "display_data"
    },
    {
     "name": "stderr",
     "output_type": "stream",
     "text": [
      "INDEX 8000: 050089\n",
      "INDEX 8000: 050089\n",
      "INDEX 8000: 050089\n",
      "INDEX 8000: 050089\n",
      "INDEX 8000: 050089\n"
     ]
    },
    {
     "data": {
      "text/html": [
       "<pre style=\"white-space:pre;overflow-x:auto;line-height:normal;font-family:Menlo,'DejaVu Sans Mono',consolas,'Courier New',monospace\"><span style=\"color: #7fbfbf\">           </span><span style=\"color: #000080\">INFO    </span> INDEX <span style=\"color: #000080; font-weight: bold\">8000</span>: <span style=\"color: #000080; font-weight: bold\">050089</span>                                         <a href=\"file:///home/j-gunmo/desktop/00.my-project/17.P-Stage-T1003/4-STAGE/fe/feature.py\"><span style=\"color: #7f7f7f\">feature.py</span></a><span style=\"color: #7f7f7f\">:105</span>\n",
       "</pre>\n"
      ],
      "text/plain": [
       "<rich.jupyter.JupyterRenderable at 0x7fa9536d92b0>"
      ]
     },
     "metadata": {},
     "output_type": "display_data"
    },
    {
     "name": "stderr",
     "output_type": "stream",
     "text": [
      "INDEX 9000: 050105\n",
      "INDEX 9000: 050105\n",
      "INDEX 9000: 050105\n",
      "INDEX 9000: 050105\n",
      "INDEX 9000: 050105\n"
     ]
    },
    {
     "data": {
      "text/html": [
       "<pre style=\"white-space:pre;overflow-x:auto;line-height:normal;font-family:Menlo,'DejaVu Sans Mono',consolas,'Courier New',monospace\"><span style=\"color: #7fbfbf\">           </span><span style=\"color: #000080\">INFO    </span> INDEX <span style=\"color: #000080; font-weight: bold\">9000</span>: <span style=\"color: #000080; font-weight: bold\">050105</span>                                         <a href=\"file:///home/j-gunmo/desktop/00.my-project/17.P-Stage-T1003/4-STAGE/fe/feature.py\"><span style=\"color: #7f7f7f\">feature.py</span></a><span style=\"color: #7f7f7f\">:105</span>\n",
       "</pre>\n"
      ],
      "text/plain": [
       "<rich.jupyter.JupyterRenderable at 0x7fa94129fd00>"
      ]
     },
     "metadata": {},
     "output_type": "display_data"
    },
    {
     "name": "stderr",
     "output_type": "stream",
     "text": [
      "\n",
      "testPaperCnt    : 시험지의 문항 번호입니다.\n",
      "\n",
      "testPaperCnt    : 시험지의 문항 번호입니다.\n",
      "\n",
      "testPaperCnt    : 시험지의 문항 번호입니다.\n",
      "\n",
      "testPaperCnt    : 시험지의 문항 번호입니다.\n",
      "\n",
      "testPaperCnt    : 시험지의 문항 번호입니다.\n"
     ]
    },
    {
     "data": {
      "text/html": [
       "<pre style=\"white-space:pre;overflow-x:auto;line-height:normal;font-family:Menlo,'DejaVu Sans Mono',consolas,'Courier New',monospace\"><span style=\"color: #7fbfbf\">           </span><span style=\"color: #000080\">INFO    </span>                                                            <a href=\"file:///home/j-gunmo/desktop/00.my-project/17.P-Stage-T1003/4-STAGE/fe/feature.py\"><span style=\"color: #7f7f7f\">feature.py</span></a><span style=\"color: #7f7f7f\">:100</span>\n",
       "                    testPaperCnt    : 시험지의 문항 번호입니다.                              \n",
       "</pre>\n"
      ],
      "text/plain": [
       "<rich.jupyter.JupyterRenderable at 0x7fa94502e520>"
      ]
     },
     "metadata": {},
     "output_type": "display_data"
    },
    {
     "name": "stderr",
     "output_type": "stream",
     "text": [
      "dtype: object\n",
      "dtype: object\n",
      "dtype: object\n",
      "dtype: object\n",
      "dtype: object\n"
     ]
    },
    {
     "data": {
      "text/html": [
       "<pre style=\"white-space:pre;overflow-x:auto;line-height:normal;font-family:Menlo,'DejaVu Sans Mono',consolas,'Courier New',monospace\"><span style=\"color: #7fbfbf\">           </span><span style=\"color: #000080\">INFO    </span> dtype: object                                              <a href=\"file:///home/j-gunmo/desktop/00.my-project/17.P-Stage-T1003/4-STAGE/fe/feature.py\"><span style=\"color: #7f7f7f\">feature.py</span></a><span style=\"color: #7f7f7f\">:101</span>\n",
       "</pre>\n"
      ],
      "text/plain": [
       "<rich.jupyter.JupyterRenderable at 0x7fa94129ff10>"
      ]
     },
     "metadata": {},
     "output_type": "display_data"
    },
    {
     "name": "stderr",
     "output_type": "stream",
     "text": [
      "[Examples]\n",
      "[Examples]\n",
      "[Examples]\n",
      "[Examples]\n",
      "[Examples]\n"
     ]
    },
    {
     "data": {
      "text/html": [
       "<pre style=\"white-space:pre;overflow-x:auto;line-height:normal;font-family:Menlo,'DejaVu Sans Mono',consolas,'Courier New',monospace\"><span style=\"color: #7fbfbf\">           </span><span style=\"color: #000080\">INFO    </span> <span style=\"font-weight: bold\">[</span>Examples<span style=\"font-weight: bold\">]</span>                                                 <a href=\"file:///home/j-gunmo/desktop/00.my-project/17.P-Stage-T1003/4-STAGE/fe/feature.py\"><span style=\"color: #7f7f7f\">feature.py</span></a><span style=\"color: #7f7f7f\">:102</span>\n",
       "</pre>\n"
      ],
      "text/plain": [
       "<rich.jupyter.JupyterRenderable at 0x7fa940c0ec10>"
      ]
     },
     "metadata": {},
     "output_type": "display_data"
    },
    {
     "name": "stderr",
     "output_type": "stream",
     "text": [
      "INDEX 0000: 001\n",
      "INDEX 0000: 001\n",
      "INDEX 0000: 001\n",
      "INDEX 0000: 001\n",
      "INDEX 0000: 001\n"
     ]
    },
    {
     "data": {
      "text/html": [
       "<pre style=\"white-space:pre;overflow-x:auto;line-height:normal;font-family:Menlo,'DejaVu Sans Mono',consolas,'Courier New',monospace\"><span style=\"color: #7fbfbf\">           </span><span style=\"color: #000080\">INFO    </span> INDEX <span style=\"color: #000080; font-weight: bold\">0000</span>: <span style=\"color: #000080; font-weight: bold\">001</span>                                            <a href=\"file:///home/j-gunmo/desktop/00.my-project/17.P-Stage-T1003/4-STAGE/fe/feature.py\"><span style=\"color: #7f7f7f\">feature.py</span></a><span style=\"color: #7f7f7f\">:105</span>\n",
       "</pre>\n"
      ],
      "text/plain": [
       "<rich.jupyter.JupyterRenderable at 0x7fa94129ff10>"
      ]
     },
     "metadata": {},
     "output_type": "display_data"
    },
    {
     "name": "stderr",
     "output_type": "stream",
     "text": [
      "INDEX 1000: 003\n",
      "INDEX 1000: 003\n",
      "INDEX 1000: 003\n",
      "INDEX 1000: 003\n",
      "INDEX 1000: 003\n"
     ]
    },
    {
     "data": {
      "text/html": [
       "<pre style=\"white-space:pre;overflow-x:auto;line-height:normal;font-family:Menlo,'DejaVu Sans Mono',consolas,'Courier New',monospace\"><span style=\"color: #7fbfbf\">           </span><span style=\"color: #000080\">INFO    </span> INDEX <span style=\"color: #000080; font-weight: bold\">1000</span>: <span style=\"color: #000080; font-weight: bold\">003</span>                                            <a href=\"file:///home/j-gunmo/desktop/00.my-project/17.P-Stage-T1003/4-STAGE/fe/feature.py\"><span style=\"color: #7f7f7f\">feature.py</span></a><span style=\"color: #7f7f7f\">:105</span>\n",
       "</pre>\n"
      ],
      "text/plain": [
       "<rich.jupyter.JupyterRenderable at 0x7fa940c3f430>"
      ]
     },
     "metadata": {},
     "output_type": "display_data"
    },
    {
     "name": "stderr",
     "output_type": "stream",
     "text": [
      "INDEX 2000: 001\n",
      "INDEX 2000: 001\n",
      "INDEX 2000: 001\n",
      "INDEX 2000: 001\n",
      "INDEX 2000: 001\n"
     ]
    },
    {
     "data": {
      "text/html": [
       "<pre style=\"white-space:pre;overflow-x:auto;line-height:normal;font-family:Menlo,'DejaVu Sans Mono',consolas,'Courier New',monospace\"><span style=\"color: #7fbfbf\">           </span><span style=\"color: #000080\">INFO    </span> INDEX <span style=\"color: #000080; font-weight: bold\">2000</span>: <span style=\"color: #000080; font-weight: bold\">001</span>                                            <a href=\"file:///home/j-gunmo/desktop/00.my-project/17.P-Stage-T1003/4-STAGE/fe/feature.py\"><span style=\"color: #7f7f7f\">feature.py</span></a><span style=\"color: #7f7f7f\">:105</span>\n",
       "</pre>\n"
      ],
      "text/plain": [
       "<rich.jupyter.JupyterRenderable at 0x7fa94129cbb0>"
      ]
     },
     "metadata": {},
     "output_type": "display_data"
    },
    {
     "name": "stderr",
     "output_type": "stream",
     "text": [
      "INDEX 3000: 003\n",
      "INDEX 3000: 003\n",
      "INDEX 3000: 003\n",
      "INDEX 3000: 003\n",
      "INDEX 3000: 003\n"
     ]
    },
    {
     "data": {
      "text/html": [
       "<pre style=\"white-space:pre;overflow-x:auto;line-height:normal;font-family:Menlo,'DejaVu Sans Mono',consolas,'Courier New',monospace\"><span style=\"color: #7fbfbf\">           </span><span style=\"color: #000080\">INFO    </span> INDEX <span style=\"color: #000080; font-weight: bold\">3000</span>: <span style=\"color: #000080; font-weight: bold\">003</span>                                            <a href=\"file:///home/j-gunmo/desktop/00.my-project/17.P-Stage-T1003/4-STAGE/fe/feature.py\"><span style=\"color: #7f7f7f\">feature.py</span></a><span style=\"color: #7f7f7f\">:105</span>\n",
       "</pre>\n"
      ],
      "text/plain": [
       "<rich.jupyter.JupyterRenderable at 0x7fa94502ef40>"
      ]
     },
     "metadata": {},
     "output_type": "display_data"
    },
    {
     "name": "stderr",
     "output_type": "stream",
     "text": [
      "INDEX 4000: 003\n",
      "INDEX 4000: 003\n",
      "INDEX 4000: 003\n",
      "INDEX 4000: 003\n",
      "INDEX 4000: 003\n"
     ]
    },
    {
     "data": {
      "text/html": [
       "<pre style=\"white-space:pre;overflow-x:auto;line-height:normal;font-family:Menlo,'DejaVu Sans Mono',consolas,'Courier New',monospace\"><span style=\"color: #7fbfbf\">           </span><span style=\"color: #000080\">INFO    </span> INDEX <span style=\"color: #000080; font-weight: bold\">4000</span>: <span style=\"color: #000080; font-weight: bold\">003</span>                                            <a href=\"file:///home/j-gunmo/desktop/00.my-project/17.P-Stage-T1003/4-STAGE/fe/feature.py\"><span style=\"color: #7f7f7f\">feature.py</span></a><span style=\"color: #7f7f7f\">:105</span>\n",
       "</pre>\n"
      ],
      "text/plain": [
       "<rich.jupyter.JupyterRenderable at 0x7fa940c0ec10>"
      ]
     },
     "metadata": {},
     "output_type": "display_data"
    },
    {
     "name": "stderr",
     "output_type": "stream",
     "text": [
      "INDEX 5000: 001\n",
      "INDEX 5000: 001\n",
      "INDEX 5000: 001\n",
      "INDEX 5000: 001\n",
      "INDEX 5000: 001\n"
     ]
    },
    {
     "data": {
      "text/html": [
       "<pre style=\"white-space:pre;overflow-x:auto;line-height:normal;font-family:Menlo,'DejaVu Sans Mono',consolas,'Courier New',monospace\"><span style=\"color: #7fbfbf\">           </span><span style=\"color: #000080\">INFO    </span> INDEX <span style=\"color: #000080; font-weight: bold\">5000</span>: <span style=\"color: #000080; font-weight: bold\">001</span>                                            <a href=\"file:///home/j-gunmo/desktop/00.my-project/17.P-Stage-T1003/4-STAGE/fe/feature.py\"><span style=\"color: #7f7f7f\">feature.py</span></a><span style=\"color: #7f7f7f\">:105</span>\n",
       "</pre>\n"
      ],
      "text/plain": [
       "<rich.jupyter.JupyterRenderable at 0x7fa94129ff10>"
      ]
     },
     "metadata": {},
     "output_type": "display_data"
    },
    {
     "name": "stderr",
     "output_type": "stream",
     "text": [
      "INDEX 6000: 001\n",
      "INDEX 6000: 001\n",
      "INDEX 6000: 001\n",
      "INDEX 6000: 001\n",
      "INDEX 6000: 001\n"
     ]
    },
    {
     "data": {
      "text/html": [
       "<pre style=\"white-space:pre;overflow-x:auto;line-height:normal;font-family:Menlo,'DejaVu Sans Mono',consolas,'Courier New',monospace\"><span style=\"color: #7fbfbf\">           </span><span style=\"color: #000080\">INFO    </span> INDEX <span style=\"color: #000080; font-weight: bold\">6000</span>: <span style=\"color: #000080; font-weight: bold\">001</span>                                            <a href=\"file:///home/j-gunmo/desktop/00.my-project/17.P-Stage-T1003/4-STAGE/fe/feature.py\"><span style=\"color: #7f7f7f\">feature.py</span></a><span style=\"color: #7f7f7f\">:105</span>\n",
       "</pre>\n"
      ],
      "text/plain": [
       "<rich.jupyter.JupyterRenderable at 0x7fa940c3f430>"
      ]
     },
     "metadata": {},
     "output_type": "display_data"
    },
    {
     "name": "stderr",
     "output_type": "stream",
     "text": [
      "INDEX 7000: 003\n",
      "INDEX 7000: 003\n",
      "INDEX 7000: 003\n",
      "INDEX 7000: 003\n",
      "INDEX 7000: 003\n"
     ]
    },
    {
     "data": {
      "text/html": [
       "<pre style=\"white-space:pre;overflow-x:auto;line-height:normal;font-family:Menlo,'DejaVu Sans Mono',consolas,'Courier New',monospace\"><span style=\"color: #7fbfbf\">           </span><span style=\"color: #000080\">INFO    </span> INDEX <span style=\"color: #000080; font-weight: bold\">7000</span>: <span style=\"color: #000080; font-weight: bold\">003</span>                                            <a href=\"file:///home/j-gunmo/desktop/00.my-project/17.P-Stage-T1003/4-STAGE/fe/feature.py\"><span style=\"color: #7f7f7f\">feature.py</span></a><span style=\"color: #7f7f7f\">:105</span>\n",
       "</pre>\n"
      ],
      "text/plain": [
       "<rich.jupyter.JupyterRenderable at 0x7fa94129cbb0>"
      ]
     },
     "metadata": {},
     "output_type": "display_data"
    },
    {
     "name": "stderr",
     "output_type": "stream",
     "text": [
      "INDEX 8000: 006\n",
      "INDEX 8000: 006\n",
      "INDEX 8000: 006\n",
      "INDEX 8000: 006\n",
      "INDEX 8000: 006\n"
     ]
    },
    {
     "data": {
      "text/html": [
       "<pre style=\"white-space:pre;overflow-x:auto;line-height:normal;font-family:Menlo,'DejaVu Sans Mono',consolas,'Courier New',monospace\"><span style=\"color: #7fbfbf\">           </span><span style=\"color: #000080\">INFO    </span> INDEX <span style=\"color: #000080; font-weight: bold\">8000</span>: <span style=\"color: #000080; font-weight: bold\">006</span>                                            <a href=\"file:///home/j-gunmo/desktop/00.my-project/17.P-Stage-T1003/4-STAGE/fe/feature.py\"><span style=\"color: #7f7f7f\">feature.py</span></a><span style=\"color: #7f7f7f\">:105</span>\n",
       "</pre>\n"
      ],
      "text/plain": [
       "<rich.jupyter.JupyterRenderable at 0x7fa940c0e460>"
      ]
     },
     "metadata": {},
     "output_type": "display_data"
    },
    {
     "name": "stderr",
     "output_type": "stream",
     "text": [
      "INDEX 9000: 004\n",
      "INDEX 9000: 004\n",
      "INDEX 9000: 004\n",
      "INDEX 9000: 004\n",
      "INDEX 9000: 004\n"
     ]
    },
    {
     "data": {
      "text/html": [
       "<pre style=\"white-space:pre;overflow-x:auto;line-height:normal;font-family:Menlo,'DejaVu Sans Mono',consolas,'Courier New',monospace\"><span style=\"color: #7fbfbf\">           </span><span style=\"color: #000080\">INFO    </span> INDEX <span style=\"color: #000080; font-weight: bold\">9000</span>: <span style=\"color: #000080; font-weight: bold\">004</span>                                            <a href=\"file:///home/j-gunmo/desktop/00.my-project/17.P-Stage-T1003/4-STAGE/fe/feature.py\"><span style=\"color: #7f7f7f\">feature.py</span></a><span style=\"color: #7f7f7f\">:105</span>\n",
       "</pre>\n"
      ],
      "text/plain": [
       "<rich.jupyter.JupyterRenderable at 0x7fa94502e5e0>"
      ]
     },
     "metadata": {},
     "output_type": "display_data"
    },
    {
     "name": "stdout",
     "output_type": "stream",
     "text": [
      "load features /home/j-gunmo/features/test_convert_time.pkl to dataframe ... \n"
     ]
    },
    {
     "name": "stderr",
     "output_type": "stream",
     "text": [
      "\n",
      "Feature Engineering Name: convert_time\n",
      "\n",
      "Feature Engineering Name: convert_time\n",
      "\n",
      "Feature Engineering Name: convert_time\n",
      "\n",
      "Feature Engineering Name: convert_time\n",
      "\n",
      "Feature Engineering Name: convert_time\n"
     ]
    },
    {
     "data": {
      "text/html": [
       "<pre style=\"white-space:pre;overflow-x:auto;line-height:normal;font-family:Menlo,'DejaVu Sans Mono',consolas,'Courier New',monospace\"><span style=\"color: #7fbfbf\">           </span><span style=\"color: #000080\">INFO    </span>                                                             <a href=\"file:///home/j-gunmo/desktop/00.my-project/17.P-Stage-T1003/4-STAGE/fe/feature.py\"><span style=\"color: #7f7f7f\">feature.py</span></a><span style=\"color: #7f7f7f\">:97</span>\n",
       "                    Feature Engineering Name: convert_time                                   \n",
       "</pre>\n"
      ],
      "text/plain": [
       "<rich.jupyter.JupyterRenderable at 0x7fa940c0ec10>"
      ]
     },
     "metadata": {},
     "output_type": "display_data"
    },
    {
     "name": "stderr",
     "output_type": "stream",
     "text": [
      "\n",
      "timeSec         : 사용자가 문항을 푼 타임스태프 정보입니다.\n",
      "\n",
      "timeSec         : 사용자가 문항을 푼 타임스태프 정보입니다.\n",
      "\n",
      "timeSec         : 사용자가 문항을 푼 타임스태프 정보입니다.\n",
      "\n",
      "timeSec         : 사용자가 문항을 푼 타임스태프 정보입니다.\n",
      "\n",
      "timeSec         : 사용자가 문항을 푼 타임스태프 정보입니다.\n"
     ]
    },
    {
     "data": {
      "text/html": [
       "<pre style=\"white-space:pre;overflow-x:auto;line-height:normal;font-family:Menlo,'DejaVu Sans Mono',consolas,'Courier New',monospace\"><span style=\"color: #7fbfbf\">           </span><span style=\"color: #000080\">INFO    </span>                                                            <a href=\"file:///home/j-gunmo/desktop/00.my-project/17.P-Stage-T1003/4-STAGE/fe/feature.py\"><span style=\"color: #7f7f7f\">feature.py</span></a><span style=\"color: #7f7f7f\">:100</span>\n",
       "                    timeSec         : 사용자가 문항을 푼 타임스태프                          \n",
       "                    정보입니다.                                                              \n",
       "</pre>\n"
      ],
      "text/plain": [
       "<rich.jupyter.JupyterRenderable at 0x7fa940c3f820>"
      ]
     },
     "metadata": {},
     "output_type": "display_data"
    },
    {
     "name": "stderr",
     "output_type": "stream",
     "text": [
      "dtype: int64\n",
      "dtype: int64\n",
      "dtype: int64\n",
      "dtype: int64\n",
      "dtype: int64\n"
     ]
    },
    {
     "data": {
      "text/html": [
       "<pre style=\"white-space:pre;overflow-x:auto;line-height:normal;font-family:Menlo,'DejaVu Sans Mono',consolas,'Courier New',monospace\"><span style=\"color: #7fbfbf\">           </span><span style=\"color: #000080\">INFO    </span> dtype: int64                                               <a href=\"file:///home/j-gunmo/desktop/00.my-project/17.P-Stage-T1003/4-STAGE/fe/feature.py\"><span style=\"color: #7f7f7f\">feature.py</span></a><span style=\"color: #7f7f7f\">:101</span>\n",
       "</pre>\n"
      ],
      "text/plain": [
       "<rich.jupyter.JupyterRenderable at 0x7fa940c0ec10>"
      ]
     },
     "metadata": {},
     "output_type": "display_data"
    },
    {
     "name": "stderr",
     "output_type": "stream",
     "text": [
      "[Examples]\n",
      "[Examples]\n",
      "[Examples]\n",
      "[Examples]\n",
      "[Examples]\n"
     ]
    },
    {
     "data": {
      "text/html": [
       "<pre style=\"white-space:pre;overflow-x:auto;line-height:normal;font-family:Menlo,'DejaVu Sans Mono',consolas,'Courier New',monospace\"><span style=\"color: #7fbfbf\">           </span><span style=\"color: #000080\">INFO    </span> <span style=\"font-weight: bold\">[</span>Examples<span style=\"font-weight: bold\">]</span>                                                 <a href=\"file:///home/j-gunmo/desktop/00.my-project/17.P-Stage-T1003/4-STAGE/fe/feature.py\"><span style=\"color: #7f7f7f\">feature.py</span></a><span style=\"color: #7f7f7f\">:102</span>\n",
       "</pre>\n"
      ],
      "text/plain": [
       "<rich.jupyter.JupyterRenderable at 0x7fa9536d9940>"
      ]
     },
     "metadata": {},
     "output_type": "display_data"
    },
    {
     "name": "stderr",
     "output_type": "stream",
     "text": [
      "INDEX 0000: 1578534991\n",
      "INDEX 0000: 1578534991\n",
      "INDEX 0000: 1578534991\n",
      "INDEX 0000: 1578534991\n",
      "INDEX 0000: 1578534991\n"
     ]
    },
    {
     "data": {
      "text/html": [
       "<pre style=\"white-space:pre;overflow-x:auto;line-height:normal;font-family:Menlo,'DejaVu Sans Mono',consolas,'Courier New',monospace\"><span style=\"color: #7fbfbf\">           </span><span style=\"color: #000080\">INFO    </span> INDEX <span style=\"color: #000080; font-weight: bold\">0000</span>: <span style=\"color: #000080; font-weight: bold\">1578534991</span>                                     <a href=\"file:///home/j-gunmo/desktop/00.my-project/17.P-Stage-T1003/4-STAGE/fe/feature.py\"><span style=\"color: #7f7f7f\">feature.py</span></a><span style=\"color: #7f7f7f\">:105</span>\n",
       "</pre>\n"
      ],
      "text/plain": [
       "<rich.jupyter.JupyterRenderable at 0x7fa940c3f7f0>"
      ]
     },
     "metadata": {},
     "output_type": "display_data"
    },
    {
     "name": "stderr",
     "output_type": "stream",
     "text": [
      "INDEX 1000: 1582080021\n",
      "INDEX 1000: 1582080021\n",
      "INDEX 1000: 1582080021\n",
      "INDEX 1000: 1582080021\n",
      "INDEX 1000: 1582080021\n"
     ]
    },
    {
     "data": {
      "text/html": [
       "<pre style=\"white-space:pre;overflow-x:auto;line-height:normal;font-family:Menlo,'DejaVu Sans Mono',consolas,'Courier New',monospace\"><span style=\"color: #7fbfbf\">           </span><span style=\"color: #000080\">INFO    </span> INDEX <span style=\"color: #000080; font-weight: bold\">1000</span>: <span style=\"color: #000080; font-weight: bold\">1582080021</span>                                     <a href=\"file:///home/j-gunmo/desktop/00.my-project/17.P-Stage-T1003/4-STAGE/fe/feature.py\"><span style=\"color: #7f7f7f\">feature.py</span></a><span style=\"color: #7f7f7f\">:105</span>\n",
       "</pre>\n"
      ],
      "text/plain": [
       "<rich.jupyter.JupyterRenderable at 0x7fa9536d9940>"
      ]
     },
     "metadata": {},
     "output_type": "display_data"
    },
    {
     "name": "stderr",
     "output_type": "stream",
     "text": [
      "INDEX 2000: 1583876850\n",
      "INDEX 2000: 1583876850\n",
      "INDEX 2000: 1583876850\n",
      "INDEX 2000: 1583876850\n",
      "INDEX 2000: 1583876850\n"
     ]
    },
    {
     "data": {
      "text/html": [
       "<pre style=\"white-space:pre;overflow-x:auto;line-height:normal;font-family:Menlo,'DejaVu Sans Mono',consolas,'Courier New',monospace\"><span style=\"color: #7fbfbf\">           </span><span style=\"color: #000080\">INFO    </span> INDEX <span style=\"color: #000080; font-weight: bold\">2000</span>: <span style=\"color: #000080; font-weight: bold\">1583876850</span>                                     <a href=\"file:///home/j-gunmo/desktop/00.my-project/17.P-Stage-T1003/4-STAGE/fe/feature.py\"><span style=\"color: #7f7f7f\">feature.py</span></a><span style=\"color: #7f7f7f\">:105</span>\n",
       "</pre>\n"
      ],
      "text/plain": [
       "<rich.jupyter.JupyterRenderable at 0x7fa94129fd00>"
      ]
     },
     "metadata": {},
     "output_type": "display_data"
    },
    {
     "name": "stderr",
     "output_type": "stream",
     "text": [
      "INDEX 3000: 1586022801\n",
      "INDEX 3000: 1586022801\n",
      "INDEX 3000: 1586022801\n",
      "INDEX 3000: 1586022801\n",
      "INDEX 3000: 1586022801\n"
     ]
    },
    {
     "data": {
      "text/html": [
       "<pre style=\"white-space:pre;overflow-x:auto;line-height:normal;font-family:Menlo,'DejaVu Sans Mono',consolas,'Courier New',monospace\"><span style=\"color: #7fbfbf\">           </span><span style=\"color: #000080\">INFO    </span> INDEX <span style=\"color: #000080; font-weight: bold\">3000</span>: <span style=\"color: #000080; font-weight: bold\">1586022801</span>                                     <a href=\"file:///home/j-gunmo/desktop/00.my-project/17.P-Stage-T1003/4-STAGE/fe/feature.py\"><span style=\"color: #7f7f7f\">feature.py</span></a><span style=\"color: #7f7f7f\">:105</span>\n",
       "</pre>\n"
      ],
      "text/plain": [
       "<rich.jupyter.JupyterRenderable at 0x7fa940c0ec10>"
      ]
     },
     "metadata": {},
     "output_type": "display_data"
    },
    {
     "name": "stderr",
     "output_type": "stream",
     "text": [
      "INDEX 4000: 1588743149\n",
      "INDEX 4000: 1588743149\n",
      "INDEX 4000: 1588743149\n",
      "INDEX 4000: 1588743149\n",
      "INDEX 4000: 1588743149\n"
     ]
    },
    {
     "data": {
      "text/html": [
       "<pre style=\"white-space:pre;overflow-x:auto;line-height:normal;font-family:Menlo,'DejaVu Sans Mono',consolas,'Courier New',monospace\"><span style=\"color: #7fbfbf\">           </span><span style=\"color: #000080\">INFO    </span> INDEX <span style=\"color: #000080; font-weight: bold\">4000</span>: <span style=\"color: #000080; font-weight: bold\">1588743149</span>                                     <a href=\"file:///home/j-gunmo/desktop/00.my-project/17.P-Stage-T1003/4-STAGE/fe/feature.py\"><span style=\"color: #7f7f7f\">feature.py</span></a><span style=\"color: #7f7f7f\">:105</span>\n",
       "</pre>\n"
      ],
      "text/plain": [
       "<rich.jupyter.JupyterRenderable at 0x7fa94129c5e0>"
      ]
     },
     "metadata": {},
     "output_type": "display_data"
    },
    {
     "name": "stderr",
     "output_type": "stream",
     "text": [
      "INDEX 5000: 1591764737\n",
      "INDEX 5000: 1591764737\n",
      "INDEX 5000: 1591764737\n",
      "INDEX 5000: 1591764737\n",
      "INDEX 5000: 1591764737\n"
     ]
    },
    {
     "data": {
      "text/html": [
       "<pre style=\"white-space:pre;overflow-x:auto;line-height:normal;font-family:Menlo,'DejaVu Sans Mono',consolas,'Courier New',monospace\"><span style=\"color: #7fbfbf\">           </span><span style=\"color: #000080\">INFO    </span> INDEX <span style=\"color: #000080; font-weight: bold\">5000</span>: <span style=\"color: #000080; font-weight: bold\">1591764737</span>                                     <a href=\"file:///home/j-gunmo/desktop/00.my-project/17.P-Stage-T1003/4-STAGE/fe/feature.py\"><span style=\"color: #7f7f7f\">feature.py</span></a><span style=\"color: #7f7f7f\">:105</span>\n",
       "</pre>\n"
      ],
      "text/plain": [
       "<rich.jupyter.JupyterRenderable at 0x7fa9536d92b0>"
      ]
     },
     "metadata": {},
     "output_type": "display_data"
    },
    {
     "name": "stderr",
     "output_type": "stream",
     "text": [
      "INDEX 6000: 1594353821\n",
      "INDEX 6000: 1594353821\n",
      "INDEX 6000: 1594353821\n",
      "INDEX 6000: 1594353821\n",
      "INDEX 6000: 1594353821\n"
     ]
    },
    {
     "data": {
      "text/html": [
       "<pre style=\"white-space:pre;overflow-x:auto;line-height:normal;font-family:Menlo,'DejaVu Sans Mono',consolas,'Courier New',monospace\"><span style=\"color: #7fbfbf\">           </span><span style=\"color: #000080\">INFO    </span> INDEX <span style=\"color: #000080; font-weight: bold\">6000</span>: <span style=\"color: #000080; font-weight: bold\">1594353821</span>                                     <a href=\"file:///home/j-gunmo/desktop/00.my-project/17.P-Stage-T1003/4-STAGE/fe/feature.py\"><span style=\"color: #7f7f7f\">feature.py</span></a><span style=\"color: #7f7f7f\">:105</span>\n",
       "</pre>\n"
      ],
      "text/plain": [
       "<rich.jupyter.JupyterRenderable at 0x7fa940c3f7f0>"
      ]
     },
     "metadata": {},
     "output_type": "display_data"
    },
    {
     "name": "stderr",
     "output_type": "stream",
     "text": [
      "INDEX 7000: 1595904396\n",
      "INDEX 7000: 1595904396\n",
      "INDEX 7000: 1595904396\n",
      "INDEX 7000: 1595904396\n",
      "INDEX 7000: 1595904396\n"
     ]
    },
    {
     "data": {
      "text/html": [
       "<pre style=\"white-space:pre;overflow-x:auto;line-height:normal;font-family:Menlo,'DejaVu Sans Mono',consolas,'Courier New',monospace\"><span style=\"color: #7fbfbf\">           </span><span style=\"color: #000080\">INFO    </span> INDEX <span style=\"color: #000080; font-weight: bold\">7000</span>: <span style=\"color: #000080; font-weight: bold\">1595904396</span>                                     <a href=\"file:///home/j-gunmo/desktop/00.my-project/17.P-Stage-T1003/4-STAGE/fe/feature.py\"><span style=\"color: #7f7f7f\">feature.py</span></a><span style=\"color: #7f7f7f\">:105</span>\n",
       "</pre>\n"
      ],
      "text/plain": [
       "<rich.jupyter.JupyterRenderable at 0x7fa9536d9eb0>"
      ]
     },
     "metadata": {},
     "output_type": "display_data"
    },
    {
     "name": "stderr",
     "output_type": "stream",
     "text": [
      "INDEX 8000: 1597130998\n",
      "INDEX 8000: 1597130998\n",
      "INDEX 8000: 1597130998\n",
      "INDEX 8000: 1597130998\n",
      "INDEX 8000: 1597130998\n"
     ]
    },
    {
     "data": {
      "text/html": [
       "<pre style=\"white-space:pre;overflow-x:auto;line-height:normal;font-family:Menlo,'DejaVu Sans Mono',consolas,'Courier New',monospace\"><span style=\"color: #7fbfbf\">[13:46:48] </span><span style=\"color: #000080\">INFO    </span> INDEX <span style=\"color: #000080; font-weight: bold\">8000</span>: <span style=\"color: #000080; font-weight: bold\">1597130998</span>                                     <a href=\"file:///home/j-gunmo/desktop/00.my-project/17.P-Stage-T1003/4-STAGE/fe/feature.py\"><span style=\"color: #7f7f7f\">feature.py</span></a><span style=\"color: #7f7f7f\">:105</span>\n",
       "</pre>\n"
      ],
      "text/plain": [
       "<rich.jupyter.JupyterRenderable at 0x7fa940c0ec10>"
      ]
     },
     "metadata": {},
     "output_type": "display_data"
    },
    {
     "name": "stderr",
     "output_type": "stream",
     "text": [
      "INDEX 9000: 1599087082\n",
      "INDEX 9000: 1599087082\n",
      "INDEX 9000: 1599087082\n",
      "INDEX 9000: 1599087082\n",
      "INDEX 9000: 1599087082\n"
     ]
    },
    {
     "data": {
      "text/html": [
       "<pre style=\"white-space:pre;overflow-x:auto;line-height:normal;font-family:Menlo,'DejaVu Sans Mono',consolas,'Courier New',monospace\"><span style=\"color: #7fbfbf\">           </span><span style=\"color: #000080\">INFO    </span> INDEX <span style=\"color: #000080; font-weight: bold\">9000</span>: <span style=\"color: #000080; font-weight: bold\">1599087082</span>                                     <a href=\"file:///home/j-gunmo/desktop/00.my-project/17.P-Stage-T1003/4-STAGE/fe/feature.py\"><span style=\"color: #7f7f7f\">feature.py</span></a><span style=\"color: #7f7f7f\">:105</span>\n",
       "</pre>\n"
      ],
      "text/plain": [
       "<rich.jupyter.JupyterRenderable at 0x7fa940c3fb80>"
      ]
     },
     "metadata": {},
     "output_type": "display_data"
    },
    {
     "name": "stderr",
     "output_type": "stream",
     "text": [
      "\n",
      "Feature Engineering Name: make_first_class\n",
      "\n",
      "Feature Engineering Name: make_first_class\n",
      "\n",
      "Feature Engineering Name: make_first_class\n",
      "\n",
      "Feature Engineering Name: make_first_class\n"
     ]
    },
    {
     "name": "stdout",
     "output_type": "stream",
     "text": [
      "load features /home/j-gunmo/features/test_make_first_class.pkl to dataframe ... \n"
     ]
    },
    {
     "name": "stderr",
     "output_type": "stream",
     "text": [
      "\n",
      "Feature Engineering Name: make_first_class\n"
     ]
    },
    {
     "data": {
      "text/html": [
       "<pre style=\"white-space:pre;overflow-x:auto;line-height:normal;font-family:Menlo,'DejaVu Sans Mono',consolas,'Courier New',monospace\"><span style=\"color: #7fbfbf\">           </span><span style=\"color: #000080\">INFO    </span>                                                             <a href=\"file:///home/j-gunmo/desktop/00.my-project/17.P-Stage-T1003/4-STAGE/fe/feature.py\"><span style=\"color: #7f7f7f\">feature.py</span></a><span style=\"color: #7f7f7f\">:97</span>\n",
       "                    Feature Engineering Name: make_first_class                               \n",
       "</pre>\n"
      ],
      "text/plain": [
       "<rich.jupyter.JupyterRenderable at 0x7fa94129c1f0>"
      ]
     },
     "metadata": {},
     "output_type": "display_data"
    },
    {
     "name": "stderr",
     "output_type": "stream",
     "text": [
      "\n",
      "firstClass      : 대분류에 해당합니다.\n",
      "\n",
      "firstClass      : 대분류에 해당합니다.\n",
      "\n",
      "firstClass      : 대분류에 해당합니다.\n",
      "\n",
      "firstClass      : 대분류에 해당합니다.\n",
      "\n",
      "firstClass      : 대분류에 해당합니다.\n"
     ]
    },
    {
     "data": {
      "text/html": [
       "<pre style=\"white-space:pre;overflow-x:auto;line-height:normal;font-family:Menlo,'DejaVu Sans Mono',consolas,'Courier New',monospace\"><span style=\"color: #7fbfbf\">           </span><span style=\"color: #000080\">INFO    </span>                                                            <a href=\"file:///home/j-gunmo/desktop/00.my-project/17.P-Stage-T1003/4-STAGE/fe/feature.py\"><span style=\"color: #7f7f7f\">feature.py</span></a><span style=\"color: #7f7f7f\">:100</span>\n",
       "                    firstClass      : 대분류에 해당합니다.                                   \n",
       "</pre>\n"
      ],
      "text/plain": [
       "<rich.jupyter.JupyterRenderable at 0x7fa940c3fb80>"
      ]
     },
     "metadata": {},
     "output_type": "display_data"
    },
    {
     "name": "stderr",
     "output_type": "stream",
     "text": [
      "dtype: object\n",
      "dtype: object\n",
      "dtype: object\n",
      "dtype: object\n",
      "dtype: object\n"
     ]
    },
    {
     "data": {
      "text/html": [
       "<pre style=\"white-space:pre;overflow-x:auto;line-height:normal;font-family:Menlo,'DejaVu Sans Mono',consolas,'Courier New',monospace\"><span style=\"color: #7fbfbf\">           </span><span style=\"color: #000080\">INFO    </span> dtype: object                                              <a href=\"file:///home/j-gunmo/desktop/00.my-project/17.P-Stage-T1003/4-STAGE/fe/feature.py\"><span style=\"color: #7f7f7f\">feature.py</span></a><span style=\"color: #7f7f7f\">:101</span>\n",
       "</pre>\n"
      ],
      "text/plain": [
       "<rich.jupyter.JupyterRenderable at 0x7fa9510cf7c0>"
      ]
     },
     "metadata": {},
     "output_type": "display_data"
    },
    {
     "name": "stderr",
     "output_type": "stream",
     "text": [
      "[Examples]\n",
      "[Examples]\n",
      "[Examples]\n",
      "[Examples]\n",
      "[Examples]\n"
     ]
    },
    {
     "data": {
      "text/html": [
       "<pre style=\"white-space:pre;overflow-x:auto;line-height:normal;font-family:Menlo,'DejaVu Sans Mono',consolas,'Courier New',monospace\"><span style=\"color: #7fbfbf\">           </span><span style=\"color: #000080\">INFO    </span> <span style=\"font-weight: bold\">[</span>Examples<span style=\"font-weight: bold\">]</span>                                                 <a href=\"file:///home/j-gunmo/desktop/00.my-project/17.P-Stage-T1003/4-STAGE/fe/feature.py\"><span style=\"color: #7f7f7f\">feature.py</span></a><span style=\"color: #7f7f7f\">:102</span>\n",
       "</pre>\n"
      ],
      "text/plain": [
       "<rich.jupyter.JupyterRenderable at 0x7fa94129fd00>"
      ]
     },
     "metadata": {},
     "output_type": "display_data"
    },
    {
     "name": "stderr",
     "output_type": "stream",
     "text": [
      "INDEX 0000: 5\n",
      "INDEX 0000: 5\n",
      "INDEX 0000: 5\n",
      "INDEX 0000: 5\n",
      "INDEX 0000: 5\n"
     ]
    },
    {
     "data": {
      "text/html": [
       "<pre style=\"white-space:pre;overflow-x:auto;line-height:normal;font-family:Menlo,'DejaVu Sans Mono',consolas,'Courier New',monospace\"><span style=\"color: #7fbfbf\">           </span><span style=\"color: #000080\">INFO    </span> INDEX <span style=\"color: #000080; font-weight: bold\">0000</span>: <span style=\"color: #000080; font-weight: bold\">5</span>                                              <a href=\"file:///home/j-gunmo/desktop/00.my-project/17.P-Stage-T1003/4-STAGE/fe/feature.py\"><span style=\"color: #7f7f7f\">feature.py</span></a><span style=\"color: #7f7f7f\">:105</span>\n",
       "</pre>\n"
      ],
      "text/plain": [
       "<rich.jupyter.JupyterRenderable at 0x7fa9510cf7c0>"
      ]
     },
     "metadata": {},
     "output_type": "display_data"
    },
    {
     "name": "stderr",
     "output_type": "stream",
     "text": [
      "INDEX 1000: 2\n",
      "INDEX 1000: 2\n",
      "INDEX 1000: 2\n",
      "INDEX 1000: 2\n",
      "INDEX 1000: 2\n"
     ]
    },
    {
     "data": {
      "text/html": [
       "<pre style=\"white-space:pre;overflow-x:auto;line-height:normal;font-family:Menlo,'DejaVu Sans Mono',consolas,'Courier New',monospace\"><span style=\"color: #7fbfbf\">           </span><span style=\"color: #000080\">INFO    </span> INDEX <span style=\"color: #000080; font-weight: bold\">1000</span>: <span style=\"color: #000080; font-weight: bold\">2</span>                                              <a href=\"file:///home/j-gunmo/desktop/00.my-project/17.P-Stage-T1003/4-STAGE/fe/feature.py\"><span style=\"color: #7f7f7f\">feature.py</span></a><span style=\"color: #7f7f7f\">:105</span>\n",
       "</pre>\n"
      ],
      "text/plain": [
       "<rich.jupyter.JupyterRenderable at 0x7fa9536d9940>"
      ]
     },
     "metadata": {},
     "output_type": "display_data"
    },
    {
     "name": "stderr",
     "output_type": "stream",
     "text": [
      "INDEX 2000: 5\n",
      "INDEX 2000: 5\n",
      "INDEX 2000: 5\n",
      "INDEX 2000: 5\n",
      "INDEX 2000: 5\n"
     ]
    },
    {
     "data": {
      "text/html": [
       "<pre style=\"white-space:pre;overflow-x:auto;line-height:normal;font-family:Menlo,'DejaVu Sans Mono',consolas,'Courier New',monospace\"><span style=\"color: #7fbfbf\">           </span><span style=\"color: #000080\">INFO    </span> INDEX <span style=\"color: #000080; font-weight: bold\">2000</span>: <span style=\"color: #000080; font-weight: bold\">5</span>                                              <a href=\"file:///home/j-gunmo/desktop/00.my-project/17.P-Stage-T1003/4-STAGE/fe/feature.py\"><span style=\"color: #7f7f7f\">feature.py</span></a><span style=\"color: #7f7f7f\">:105</span>\n",
       "</pre>\n"
      ],
      "text/plain": [
       "<rich.jupyter.JupyterRenderable at 0x7fa94502ef40>"
      ]
     },
     "metadata": {},
     "output_type": "display_data"
    },
    {
     "name": "stderr",
     "output_type": "stream",
     "text": [
      "INDEX 3000: 2\n",
      "INDEX 3000: 2\n",
      "INDEX 3000: 2\n",
      "INDEX 3000: 2\n",
      "INDEX 3000: 2\n"
     ]
    },
    {
     "data": {
      "text/html": [
       "<pre style=\"white-space:pre;overflow-x:auto;line-height:normal;font-family:Menlo,'DejaVu Sans Mono',consolas,'Courier New',monospace\"><span style=\"color: #7fbfbf\">           </span><span style=\"color: #000080\">INFO    </span> INDEX <span style=\"color: #000080; font-weight: bold\">3000</span>: <span style=\"color: #000080; font-weight: bold\">2</span>                                              <a href=\"file:///home/j-gunmo/desktop/00.my-project/17.P-Stage-T1003/4-STAGE/fe/feature.py\"><span style=\"color: #7f7f7f\">feature.py</span></a><span style=\"color: #7f7f7f\">:105</span>\n",
       "</pre>\n"
      ],
      "text/plain": [
       "<rich.jupyter.JupyterRenderable at 0x7fa940c3f7f0>"
      ]
     },
     "metadata": {},
     "output_type": "display_data"
    },
    {
     "name": "stderr",
     "output_type": "stream",
     "text": [
      "INDEX 4000: 5\n",
      "INDEX 4000: 5\n",
      "INDEX 4000: 5\n",
      "INDEX 4000: 5\n",
      "INDEX 4000: 5\n"
     ]
    },
    {
     "data": {
      "text/html": [
       "<pre style=\"white-space:pre;overflow-x:auto;line-height:normal;font-family:Menlo,'DejaVu Sans Mono',consolas,'Courier New',monospace\"><span style=\"color: #7fbfbf\">           </span><span style=\"color: #000080\">INFO    </span> INDEX <span style=\"color: #000080; font-weight: bold\">4000</span>: <span style=\"color: #000080; font-weight: bold\">5</span>                                              <a href=\"file:///home/j-gunmo/desktop/00.my-project/17.P-Stage-T1003/4-STAGE/fe/feature.py\"><span style=\"color: #7f7f7f\">feature.py</span></a><span style=\"color: #7f7f7f\">:105</span>\n",
       "</pre>\n"
      ],
      "text/plain": [
       "<rich.jupyter.JupyterRenderable at 0x7fa9450226a0>"
      ]
     },
     "metadata": {},
     "output_type": "display_data"
    },
    {
     "name": "stderr",
     "output_type": "stream",
     "text": [
      "INDEX 5000: 5\n",
      "INDEX 5000: 5\n",
      "INDEX 5000: 5\n",
      "INDEX 5000: 5\n",
      "INDEX 5000: 5\n"
     ]
    },
    {
     "data": {
      "text/html": [
       "<pre style=\"white-space:pre;overflow-x:auto;line-height:normal;font-family:Menlo,'DejaVu Sans Mono',consolas,'Courier New',monospace\"><span style=\"color: #7fbfbf\">           </span><span style=\"color: #000080\">INFO    </span> INDEX <span style=\"color: #000080; font-weight: bold\">5000</span>: <span style=\"color: #000080; font-weight: bold\">5</span>                                              <a href=\"file:///home/j-gunmo/desktop/00.my-project/17.P-Stage-T1003/4-STAGE/fe/feature.py\"><span style=\"color: #7f7f7f\">feature.py</span></a><span style=\"color: #7f7f7f\">:105</span>\n",
       "</pre>\n"
      ],
      "text/plain": [
       "<rich.jupyter.JupyterRenderable at 0x7fa940c0e460>"
      ]
     },
     "metadata": {},
     "output_type": "display_data"
    },
    {
     "name": "stderr",
     "output_type": "stream",
     "text": [
      "INDEX 6000: 5\n",
      "INDEX 6000: 5\n",
      "INDEX 6000: 5\n",
      "INDEX 6000: 5\n",
      "INDEX 6000: 5\n"
     ]
    },
    {
     "data": {
      "text/html": [
       "<pre style=\"white-space:pre;overflow-x:auto;line-height:normal;font-family:Menlo,'DejaVu Sans Mono',consolas,'Courier New',monospace\"><span style=\"color: #7fbfbf\">           </span><span style=\"color: #000080\">INFO    </span> INDEX <span style=\"color: #000080; font-weight: bold\">6000</span>: <span style=\"color: #000080; font-weight: bold\">5</span>                                              <a href=\"file:///home/j-gunmo/desktop/00.my-project/17.P-Stage-T1003/4-STAGE/fe/feature.py\"><span style=\"color: #7f7f7f\">feature.py</span></a><span style=\"color: #7f7f7f\">:105</span>\n",
       "</pre>\n"
      ],
      "text/plain": [
       "<rich.jupyter.JupyterRenderable at 0x7fa9510cf7c0>"
      ]
     },
     "metadata": {},
     "output_type": "display_data"
    },
    {
     "name": "stderr",
     "output_type": "stream",
     "text": [
      "INDEX 7000: 5\n",
      "INDEX 7000: 5\n",
      "INDEX 7000: 5\n",
      "INDEX 7000: 5\n",
      "INDEX 7000: 5\n"
     ]
    },
    {
     "data": {
      "text/html": [
       "<pre style=\"white-space:pre;overflow-x:auto;line-height:normal;font-family:Menlo,'DejaVu Sans Mono',consolas,'Courier New',monospace\"><span style=\"color: #7fbfbf\">           </span><span style=\"color: #000080\">INFO    </span> INDEX <span style=\"color: #000080; font-weight: bold\">7000</span>: <span style=\"color: #000080; font-weight: bold\">5</span>                                              <a href=\"file:///home/j-gunmo/desktop/00.my-project/17.P-Stage-T1003/4-STAGE/fe/feature.py\"><span style=\"color: #7f7f7f\">feature.py</span></a><span style=\"color: #7f7f7f\">:105</span>\n",
       "</pre>\n"
      ],
      "text/plain": [
       "<rich.jupyter.JupyterRenderable at 0x7fa945022040>"
      ]
     },
     "metadata": {},
     "output_type": "display_data"
    },
    {
     "name": "stderr",
     "output_type": "stream",
     "text": [
      "INDEX 8000: 5\n",
      "INDEX 8000: 5\n",
      "INDEX 8000: 5\n",
      "INDEX 8000: 5\n",
      "INDEX 8000: 5\n"
     ]
    },
    {
     "data": {
      "text/html": [
       "<pre style=\"white-space:pre;overflow-x:auto;line-height:normal;font-family:Menlo,'DejaVu Sans Mono',consolas,'Courier New',monospace\"><span style=\"color: #7fbfbf\">           </span><span style=\"color: #000080\">INFO    </span> INDEX <span style=\"color: #000080; font-weight: bold\">8000</span>: <span style=\"color: #000080; font-weight: bold\">5</span>                                              <a href=\"file:///home/j-gunmo/desktop/00.my-project/17.P-Stage-T1003/4-STAGE/fe/feature.py\"><span style=\"color: #7f7f7f\">feature.py</span></a><span style=\"color: #7f7f7f\">:105</span>\n",
       "</pre>\n"
      ],
      "text/plain": [
       "<rich.jupyter.JupyterRenderable at 0x7fa9510cf7c0>"
      ]
     },
     "metadata": {},
     "output_type": "display_data"
    },
    {
     "name": "stderr",
     "output_type": "stream",
     "text": [
      "INDEX 9000: 5\n",
      "INDEX 9000: 5\n",
      "INDEX 9000: 5\n",
      "INDEX 9000: 5\n",
      "INDEX 9000: 5\n"
     ]
    },
    {
     "data": {
      "text/html": [
       "<pre style=\"white-space:pre;overflow-x:auto;line-height:normal;font-family:Menlo,'DejaVu Sans Mono',consolas,'Courier New',monospace\"><span style=\"color: #7fbfbf\">           </span><span style=\"color: #000080\">INFO    </span> INDEX <span style=\"color: #000080; font-weight: bold\">9000</span>: <span style=\"color: #000080; font-weight: bold\">5</span>                                              <a href=\"file:///home/j-gunmo/desktop/00.my-project/17.P-Stage-T1003/4-STAGE/fe/feature.py\"><span style=\"color: #7f7f7f\">feature.py</span></a><span style=\"color: #7f7f7f\">:105</span>\n",
       "</pre>\n"
      ],
      "text/plain": [
       "<rich.jupyter.JupyterRenderable at 0x7fa940c3f820>"
      ]
     },
     "metadata": {},
     "output_type": "display_data"
    },
    {
     "name": "stdout",
     "output_type": "stream",
     "text": [
      "load features /home/j-gunmo/features/test_make_second_class.pkl to dataframe ... \n"
     ]
    },
    {
     "name": "stderr",
     "output_type": "stream",
     "text": [
      "\n",
      "Feature Engineering Name: make_second_class\n",
      "\n",
      "Feature Engineering Name: make_second_class\n",
      "\n",
      "Feature Engineering Name: make_second_class\n",
      "\n",
      "Feature Engineering Name: make_second_class\n",
      "\n",
      "Feature Engineering Name: make_second_class\n"
     ]
    },
    {
     "data": {
      "text/html": [
       "<pre style=\"white-space:pre;overflow-x:auto;line-height:normal;font-family:Menlo,'DejaVu Sans Mono',consolas,'Courier New',monospace\"><span style=\"color: #7fbfbf\">           </span><span style=\"color: #000080\">INFO    </span>                                                             <a href=\"file:///home/j-gunmo/desktop/00.my-project/17.P-Stage-T1003/4-STAGE/fe/feature.py\"><span style=\"color: #7f7f7f\">feature.py</span></a><span style=\"color: #7f7f7f\">:97</span>\n",
       "                    Feature Engineering Name: make_second_class                              \n",
       "</pre>\n"
      ],
      "text/plain": [
       "<rich.jupyter.JupyterRenderable at 0x7fa940c0e460>"
      ]
     },
     "metadata": {},
     "output_type": "display_data"
    },
    {
     "name": "stderr",
     "output_type": "stream",
     "text": [
      "\n",
      "secondClass     : 중분류에 해당합니다.\n",
      "\n",
      "secondClass     : 중분류에 해당합니다.\n",
      "\n",
      "secondClass     : 중분류에 해당합니다.\n",
      "\n",
      "secondClass     : 중분류에 해당합니다.\n",
      "\n",
      "secondClass     : 중분류에 해당합니다.\n"
     ]
    },
    {
     "data": {
      "text/html": [
       "<pre style=\"white-space:pre;overflow-x:auto;line-height:normal;font-family:Menlo,'DejaVu Sans Mono',consolas,'Courier New',monospace\"><span style=\"color: #7fbfbf\">           </span><span style=\"color: #000080\">INFO    </span>                                                            <a href=\"file:///home/j-gunmo/desktop/00.my-project/17.P-Stage-T1003/4-STAGE/fe/feature.py\"><span style=\"color: #7f7f7f\">feature.py</span></a><span style=\"color: #7f7f7f\">:100</span>\n",
       "                    secondClass     : 중분류에 해당합니다.                                   \n",
       "</pre>\n"
      ],
      "text/plain": [
       "<rich.jupyter.JupyterRenderable at 0x7fa94129c5e0>"
      ]
     },
     "metadata": {},
     "output_type": "display_data"
    },
    {
     "name": "stderr",
     "output_type": "stream",
     "text": [
      "dtype: object\n",
      "dtype: object\n",
      "dtype: object\n",
      "dtype: object\n",
      "dtype: object\n"
     ]
    },
    {
     "data": {
      "text/html": [
       "<pre style=\"white-space:pre;overflow-x:auto;line-height:normal;font-family:Menlo,'DejaVu Sans Mono',consolas,'Courier New',monospace\"><span style=\"color: #7fbfbf\">           </span><span style=\"color: #000080\">INFO    </span> dtype: object                                              <a href=\"file:///home/j-gunmo/desktop/00.my-project/17.P-Stage-T1003/4-STAGE/fe/feature.py\"><span style=\"color: #7f7f7f\">feature.py</span></a><span style=\"color: #7f7f7f\">:101</span>\n",
       "</pre>\n"
      ],
      "text/plain": [
       "<rich.jupyter.JupyterRenderable at 0x7fa9458ccf70>"
      ]
     },
     "metadata": {},
     "output_type": "display_data"
    },
    {
     "name": "stderr",
     "output_type": "stream",
     "text": [
      "[Examples]\n",
      "[Examples]\n",
      "[Examples]\n",
      "[Examples]\n",
      "[Examples]\n"
     ]
    },
    {
     "data": {
      "text/html": [
       "<pre style=\"white-space:pre;overflow-x:auto;line-height:normal;font-family:Menlo,'DejaVu Sans Mono',consolas,'Courier New',monospace\"><span style=\"color: #7fbfbf\">           </span><span style=\"color: #000080\">INFO    </span> <span style=\"font-weight: bold\">[</span>Examples<span style=\"font-weight: bold\">]</span>                                                 <a href=\"file:///home/j-gunmo/desktop/00.my-project/17.P-Stage-T1003/4-STAGE/fe/feature.py\"><span style=\"color: #7f7f7f\">feature.py</span></a><span style=\"color: #7f7f7f\">:102</span>\n",
       "</pre>\n"
      ],
      "text/plain": [
       "<rich.jupyter.JupyterRenderable at 0x7fa945022100>"
      ]
     },
     "metadata": {},
     "output_type": "display_data"
    },
    {
     "name": "stderr",
     "output_type": "stream",
     "text": [
      "INDEX 0000: 2626\n",
      "INDEX 0000: 2626\n",
      "INDEX 0000: 2626\n",
      "INDEX 0000: 2626\n",
      "INDEX 0000: 2626\n"
     ]
    },
    {
     "data": {
      "text/html": [
       "<pre style=\"white-space:pre;overflow-x:auto;line-height:normal;font-family:Menlo,'DejaVu Sans Mono',consolas,'Courier New',monospace\"><span style=\"color: #7fbfbf\">           </span><span style=\"color: #000080\">INFO    </span> INDEX <span style=\"color: #000080; font-weight: bold\">0000</span>: <span style=\"color: #000080; font-weight: bold\">2626</span>                                           <a href=\"file:///home/j-gunmo/desktop/00.my-project/17.P-Stage-T1003/4-STAGE/fe/feature.py\"><span style=\"color: #7f7f7f\">feature.py</span></a><span style=\"color: #7f7f7f\">:105</span>\n",
       "</pre>\n"
      ],
      "text/plain": [
       "<rich.jupyter.JupyterRenderable at 0x7fa945022040>"
      ]
     },
     "metadata": {},
     "output_type": "display_data"
    },
    {
     "name": "stderr",
     "output_type": "stream",
     "text": [
      "INDEX 1000: 7693\n",
      "INDEX 1000: 7693\n",
      "INDEX 1000: 7693\n",
      "INDEX 1000: 7693\n",
      "INDEX 1000: 7693\n"
     ]
    },
    {
     "data": {
      "text/html": [
       "<pre style=\"white-space:pre;overflow-x:auto;line-height:normal;font-family:Menlo,'DejaVu Sans Mono',consolas,'Courier New',monospace\"><span style=\"color: #7fbfbf\">           </span><span style=\"color: #000080\">INFO    </span> INDEX <span style=\"color: #000080; font-weight: bold\">1000</span>: <span style=\"color: #000080; font-weight: bold\">7693</span>                                           <a href=\"file:///home/j-gunmo/desktop/00.my-project/17.P-Stage-T1003/4-STAGE/fe/feature.py\"><span style=\"color: #7f7f7f\">feature.py</span></a><span style=\"color: #7f7f7f\">:105</span>\n",
       "</pre>\n"
      ],
      "text/plain": [
       "<rich.jupyter.JupyterRenderable at 0x7fa94129fd00>"
      ]
     },
     "metadata": {},
     "output_type": "display_data"
    },
    {
     "name": "stderr",
     "output_type": "stream",
     "text": [
      "INDEX 2000: 2617\n",
      "INDEX 2000: 2617\n",
      "INDEX 2000: 2617\n",
      "INDEX 2000: 2617\n",
      "INDEX 2000: 2617\n"
     ]
    },
    {
     "data": {
      "text/html": [
       "<pre style=\"white-space:pre;overflow-x:auto;line-height:normal;font-family:Menlo,'DejaVu Sans Mono',consolas,'Courier New',monospace\"><span style=\"color: #7fbfbf\">           </span><span style=\"color: #000080\">INFO    </span> INDEX <span style=\"color: #000080; font-weight: bold\">2000</span>: <span style=\"color: #000080; font-weight: bold\">2617</span>                                           <a href=\"file:///home/j-gunmo/desktop/00.my-project/17.P-Stage-T1003/4-STAGE/fe/feature.py\"><span style=\"color: #7f7f7f\">feature.py</span></a><span style=\"color: #7f7f7f\">:105</span>\n",
       "</pre>\n"
      ],
      "text/plain": [
       "<rich.jupyter.JupyterRenderable at 0x7fa9450226a0>"
      ]
     },
     "metadata": {},
     "output_type": "display_data"
    },
    {
     "name": "stderr",
     "output_type": "stream",
     "text": [
      "INDEX 3000: 7924\n",
      "INDEX 3000: 7924\n",
      "INDEX 3000: 7924\n",
      "INDEX 3000: 7924\n",
      "INDEX 3000: 7924\n"
     ]
    },
    {
     "data": {
      "text/html": [
       "<pre style=\"white-space:pre;overflow-x:auto;line-height:normal;font-family:Menlo,'DejaVu Sans Mono',consolas,'Courier New',monospace\"><span style=\"color: #7fbfbf\">           </span><span style=\"color: #000080\">INFO    </span> INDEX <span style=\"color: #000080; font-weight: bold\">3000</span>: <span style=\"color: #000080; font-weight: bold\">7924</span>                                           <a href=\"file:///home/j-gunmo/desktop/00.my-project/17.P-Stage-T1003/4-STAGE/fe/feature.py\"><span style=\"color: #7f7f7f\">feature.py</span></a><span style=\"color: #7f7f7f\">:105</span>\n",
       "</pre>\n"
      ],
      "text/plain": [
       "<rich.jupyter.JupyterRenderable at 0x7fa940c3f7f0>"
      ]
     },
     "metadata": {},
     "output_type": "display_data"
    },
    {
     "name": "stderr",
     "output_type": "stream",
     "text": [
      "INDEX 4000: 2618\n",
      "INDEX 4000: 2618\n",
      "INDEX 4000: 2618\n",
      "INDEX 4000: 2618\n",
      "INDEX 4000: 2618\n"
     ]
    },
    {
     "data": {
      "text/html": [
       "<pre style=\"white-space:pre;overflow-x:auto;line-height:normal;font-family:Menlo,'DejaVu Sans Mono',consolas,'Courier New',monospace\"><span style=\"color: #7fbfbf\">           </span><span style=\"color: #000080\">INFO    </span> INDEX <span style=\"color: #000080; font-weight: bold\">4000</span>: <span style=\"color: #000080; font-weight: bold\">2618</span>                                           <a href=\"file:///home/j-gunmo/desktop/00.my-project/17.P-Stage-T1003/4-STAGE/fe/feature.py\"><span style=\"color: #7f7f7f\">feature.py</span></a><span style=\"color: #7f7f7f\">:105</span>\n",
       "</pre>\n"
      ],
      "text/plain": [
       "<rich.jupyter.JupyterRenderable at 0x7fa9536d9670>"
      ]
     },
     "metadata": {},
     "output_type": "display_data"
    },
    {
     "name": "stderr",
     "output_type": "stream",
     "text": [
      "INDEX 5000: 3729\n",
      "INDEX 5000: 3729\n",
      "INDEX 5000: 3729\n",
      "INDEX 5000: 3729\n",
      "INDEX 5000: 3729\n"
     ]
    },
    {
     "data": {
      "text/html": [
       "<pre style=\"white-space:pre;overflow-x:auto;line-height:normal;font-family:Menlo,'DejaVu Sans Mono',consolas,'Courier New',monospace\"><span style=\"color: #7fbfbf\">           </span><span style=\"color: #000080\">INFO    </span> INDEX <span style=\"color: #000080; font-weight: bold\">5000</span>: <span style=\"color: #000080; font-weight: bold\">3729</span>                                           <a href=\"file:///home/j-gunmo/desktop/00.my-project/17.P-Stage-T1003/4-STAGE/fe/feature.py\"><span style=\"color: #7f7f7f\">feature.py</span></a><span style=\"color: #7f7f7f\">:105</span>\n",
       "</pre>\n"
      ],
      "text/plain": [
       "<rich.jupyter.JupyterRenderable at 0x7fa94129f520>"
      ]
     },
     "metadata": {},
     "output_type": "display_data"
    },
    {
     "name": "stderr",
     "output_type": "stream",
     "text": [
      "INDEX 6000: 3827\n",
      "INDEX 6000: 3827\n",
      "INDEX 6000: 3827\n",
      "INDEX 6000: 3827\n",
      "INDEX 6000: 3827\n"
     ]
    },
    {
     "data": {
      "text/html": [
       "<pre style=\"white-space:pre;overflow-x:auto;line-height:normal;font-family:Menlo,'DejaVu Sans Mono',consolas,'Courier New',monospace\"><span style=\"color: #7fbfbf\">           </span><span style=\"color: #000080\">INFO    </span> INDEX <span style=\"color: #000080; font-weight: bold\">6000</span>: <span style=\"color: #000080; font-weight: bold\">3827</span>                                           <a href=\"file:///home/j-gunmo/desktop/00.my-project/17.P-Stage-T1003/4-STAGE/fe/feature.py\"><span style=\"color: #7f7f7f\">feature.py</span></a><span style=\"color: #7f7f7f\">:105</span>\n",
       "</pre>\n"
      ],
      "text/plain": [
       "<rich.jupyter.JupyterRenderable at 0x7fa94129cbb0>"
      ]
     },
     "metadata": {},
     "output_type": "display_data"
    },
    {
     "name": "stderr",
     "output_type": "stream",
     "text": [
      "INDEX 7000: 395\n",
      "INDEX 7000: 395\n",
      "INDEX 7000: 395\n",
      "INDEX 7000: 395\n",
      "INDEX 7000: 395\n"
     ]
    },
    {
     "data": {
      "text/html": [
       "<pre style=\"white-space:pre;overflow-x:auto;line-height:normal;font-family:Menlo,'DejaVu Sans Mono',consolas,'Courier New',monospace\"><span style=\"color: #7fbfbf\">           </span><span style=\"color: #000080\">INFO    </span> INDEX <span style=\"color: #000080; font-weight: bold\">7000</span>: <span style=\"color: #000080; font-weight: bold\">395</span>                                            <a href=\"file:///home/j-gunmo/desktop/00.my-project/17.P-Stage-T1003/4-STAGE/fe/feature.py\"><span style=\"color: #7f7f7f\">feature.py</span></a><span style=\"color: #7f7f7f\">:105</span>\n",
       "</pre>\n"
      ],
      "text/plain": [
       "<rich.jupyter.JupyterRenderable at 0x7fa945022790>"
      ]
     },
     "metadata": {},
     "output_type": "display_data"
    },
    {
     "name": "stderr",
     "output_type": "stream",
     "text": [
      "INDEX 8000: 394\n",
      "INDEX 8000: 394\n",
      "INDEX 8000: 394\n",
      "INDEX 8000: 394\n",
      "INDEX 8000: 394\n"
     ]
    },
    {
     "data": {
      "text/html": [
       "<pre style=\"white-space:pre;overflow-x:auto;line-height:normal;font-family:Menlo,'DejaVu Sans Mono',consolas,'Courier New',monospace\"><span style=\"color: #7fbfbf\">           </span><span style=\"color: #000080\">INFO    </span> INDEX <span style=\"color: #000080; font-weight: bold\">8000</span>: <span style=\"color: #000080; font-weight: bold\">394</span>                                            <a href=\"file:///home/j-gunmo/desktop/00.my-project/17.P-Stage-T1003/4-STAGE/fe/feature.py\"><span style=\"color: #7f7f7f\">feature.py</span></a><span style=\"color: #7f7f7f\">:105</span>\n",
       "</pre>\n"
      ],
      "text/plain": [
       "<rich.jupyter.JupyterRenderable at 0x7fa94502e5e0>"
      ]
     },
     "metadata": {},
     "output_type": "display_data"
    },
    {
     "name": "stderr",
     "output_type": "stream",
     "text": [
      "INDEX 9000: 5269\n",
      "INDEX 9000: 5269\n",
      "INDEX 9000: 5269\n",
      "INDEX 9000: 5269\n",
      "INDEX 9000: 5269\n"
     ]
    },
    {
     "data": {
      "text/html": [
       "<pre style=\"white-space:pre;overflow-x:auto;line-height:normal;font-family:Menlo,'DejaVu Sans Mono',consolas,'Courier New',monospace\"><span style=\"color: #7fbfbf\">           </span><span style=\"color: #000080\">INFO    </span> INDEX <span style=\"color: #000080; font-weight: bold\">9000</span>: <span style=\"color: #000080; font-weight: bold\">5269</span>                                           <a href=\"file:///home/j-gunmo/desktop/00.my-project/17.P-Stage-T1003/4-STAGE/fe/feature.py\"><span style=\"color: #7f7f7f\">feature.py</span></a><span style=\"color: #7f7f7f\">:105</span>\n",
       "</pre>\n"
      ],
      "text/plain": [
       "<rich.jupyter.JupyterRenderable at 0x7fa9536d9eb0>"
      ]
     },
     "metadata": {},
     "output_type": "display_data"
    },
    {
     "name": "stderr",
     "output_type": "stream",
     "text": [
      "\n",
      "Feature Engineering Name: make_correct_count\n",
      "\n",
      "Feature Engineering Name: make_correct_count\n",
      "\n",
      "Feature Engineering Name: make_correct_count\n",
      "\n",
      "Feature Engineering Name: make_correct_count\n",
      "\n",
      "Feature Engineering Name: make_correct_count\n"
     ]
    },
    {
     "name": "stdout",
     "output_type": "stream",
     "text": [
      "load features /home/j-gunmo/features/test_make_correct_count.pkl to dataframe ... \n"
     ]
    },
    {
     "data": {
      "text/html": [
       "<pre style=\"white-space:pre;overflow-x:auto;line-height:normal;font-family:Menlo,'DejaVu Sans Mono',consolas,'Courier New',monospace\"><span style=\"color: #7fbfbf\">           </span><span style=\"color: #000080\">INFO    </span>                                                             <a href=\"file:///home/j-gunmo/desktop/00.my-project/17.P-Stage-T1003/4-STAGE/fe/feature.py\"><span style=\"color: #7f7f7f\">feature.py</span></a><span style=\"color: #7f7f7f\">:97</span>\n",
       "                    Feature Engineering Name: make_correct_count                             \n",
       "</pre>\n"
      ],
      "text/plain": [
       "<rich.jupyter.JupyterRenderable at 0x7fa940c0e460>"
      ]
     },
     "metadata": {},
     "output_type": "display_data"
    },
    {
     "name": "stderr",
     "output_type": "stream",
     "text": [
      "\n",
      "correctCnt      : 사용자가 맞춘 문항수를 나타냅니다.\n",
      "\n",
      "correctCnt      : 사용자가 맞춘 문항수를 나타냅니다.\n",
      "\n",
      "correctCnt      : 사용자가 맞춘 문항수를 나타냅니다.\n",
      "\n",
      "correctCnt      : 사용자가 맞춘 문항수를 나타냅니다.\n",
      "\n",
      "correctCnt      : 사용자가 맞춘 문항수를 나타냅니다.\n"
     ]
    },
    {
     "data": {
      "text/html": [
       "<pre style=\"white-space:pre;overflow-x:auto;line-height:normal;font-family:Menlo,'DejaVu Sans Mono',consolas,'Courier New',monospace\"><span style=\"color: #7fbfbf\">           </span><span style=\"color: #000080\">INFO    </span>                                                            <a href=\"file:///home/j-gunmo/desktop/00.my-project/17.P-Stage-T1003/4-STAGE/fe/feature.py\"><span style=\"color: #7f7f7f\">feature.py</span></a><span style=\"color: #7f7f7f\">:100</span>\n",
       "                    correctCnt      : 사용자가 맞춘 문항수를 나타냅니다.                     \n",
       "</pre>\n"
      ],
      "text/plain": [
       "<rich.jupyter.JupyterRenderable at 0x7fa9536d9670>"
      ]
     },
     "metadata": {},
     "output_type": "display_data"
    },
    {
     "name": "stderr",
     "output_type": "stream",
     "text": [
      "dtype: int64\n",
      "dtype: int64\n",
      "dtype: int64\n",
      "dtype: int64\n",
      "dtype: int64\n"
     ]
    },
    {
     "data": {
      "text/html": [
       "<pre style=\"white-space:pre;overflow-x:auto;line-height:normal;font-family:Menlo,'DejaVu Sans Mono',consolas,'Courier New',monospace\"><span style=\"color: #7fbfbf\">           </span><span style=\"color: #000080\">INFO    </span> dtype: int64                                               <a href=\"file:///home/j-gunmo/desktop/00.my-project/17.P-Stage-T1003/4-STAGE/fe/feature.py\"><span style=\"color: #7f7f7f\">feature.py</span></a><span style=\"color: #7f7f7f\">:101</span>\n",
       "</pre>\n"
      ],
      "text/plain": [
       "<rich.jupyter.JupyterRenderable at 0x7fa9412a4d00>"
      ]
     },
     "metadata": {},
     "output_type": "display_data"
    },
    {
     "name": "stderr",
     "output_type": "stream",
     "text": [
      "[Examples]\n",
      "[Examples]\n",
      "[Examples]\n",
      "[Examples]\n",
      "[Examples]\n"
     ]
    },
    {
     "data": {
      "text/html": [
       "<pre style=\"white-space:pre;overflow-x:auto;line-height:normal;font-family:Menlo,'DejaVu Sans Mono',consolas,'Courier New',monospace\"><span style=\"color: #7fbfbf\">           </span><span style=\"color: #000080\">INFO    </span> <span style=\"font-weight: bold\">[</span>Examples<span style=\"font-weight: bold\">]</span>                                                 <a href=\"file:///home/j-gunmo/desktop/00.my-project/17.P-Stage-T1003/4-STAGE/fe/feature.py\"><span style=\"color: #7f7f7f\">feature.py</span></a><span style=\"color: #7f7f7f\">:102</span>\n",
       "</pre>\n"
      ],
      "text/plain": [
       "<rich.jupyter.JupyterRenderable at 0x7fa940c0ec10>"
      ]
     },
     "metadata": {},
     "output_type": "display_data"
    },
    {
     "name": "stderr",
     "output_type": "stream",
     "text": [
      "INDEX 0000: 716\n",
      "INDEX 0000: 716\n",
      "INDEX 0000: 716\n",
      "INDEX 0000: 716\n",
      "INDEX 0000: 716\n"
     ]
    },
    {
     "data": {
      "text/html": [
       "<pre style=\"white-space:pre;overflow-x:auto;line-height:normal;font-family:Menlo,'DejaVu Sans Mono',consolas,'Courier New',monospace\"><span style=\"color: #7fbfbf\">           </span><span style=\"color: #000080\">INFO    </span> INDEX <span style=\"color: #000080; font-weight: bold\">0000</span>: <span style=\"color: #000080; font-weight: bold\">716</span>                                            <a href=\"file:///home/j-gunmo/desktop/00.my-project/17.P-Stage-T1003/4-STAGE/fe/feature.py\"><span style=\"color: #7f7f7f\">feature.py</span></a><span style=\"color: #7f7f7f\">:105</span>\n",
       "</pre>\n"
      ],
      "text/plain": [
       "<rich.jupyter.JupyterRenderable at 0x7fa945022100>"
      ]
     },
     "metadata": {},
     "output_type": "display_data"
    },
    {
     "name": "stderr",
     "output_type": "stream",
     "text": [
      "INDEX 1000: 716\n",
      "INDEX 1000: 716\n",
      "INDEX 1000: 716\n",
      "INDEX 1000: 716\n",
      "INDEX 1000: 716\n"
     ]
    },
    {
     "data": {
      "text/html": [
       "<pre style=\"white-space:pre;overflow-x:auto;line-height:normal;font-family:Menlo,'DejaVu Sans Mono',consolas,'Courier New',monospace\"><span style=\"color: #7fbfbf\">           </span><span style=\"color: #000080\">INFO    </span> INDEX <span style=\"color: #000080; font-weight: bold\">1000</span>: <span style=\"color: #000080; font-weight: bold\">716</span>                                            <a href=\"file:///home/j-gunmo/desktop/00.my-project/17.P-Stage-T1003/4-STAGE/fe/feature.py\"><span style=\"color: #7f7f7f\">feature.py</span></a><span style=\"color: #7f7f7f\">:105</span>\n",
       "</pre>\n"
      ],
      "text/plain": [
       "<rich.jupyter.JupyterRenderable at 0x7fa940c0e460>"
      ]
     },
     "metadata": {},
     "output_type": "display_data"
    },
    {
     "name": "stderr",
     "output_type": "stream",
     "text": [
      "INDEX 2000: 716\n",
      "INDEX 2000: 716\n",
      "INDEX 2000: 716\n",
      "INDEX 2000: 716\n",
      "INDEX 2000: 716\n"
     ]
    },
    {
     "data": {
      "text/html": [
       "<pre style=\"white-space:pre;overflow-x:auto;line-height:normal;font-family:Menlo,'DejaVu Sans Mono',consolas,'Courier New',monospace\"><span style=\"color: #7fbfbf\">           </span><span style=\"color: #000080\">INFO    </span> INDEX <span style=\"color: #000080; font-weight: bold\">2000</span>: <span style=\"color: #000080; font-weight: bold\">716</span>                                            <a href=\"file:///home/j-gunmo/desktop/00.my-project/17.P-Stage-T1003/4-STAGE/fe/feature.py\"><span style=\"color: #7f7f7f\">feature.py</span></a><span style=\"color: #7f7f7f\">:105</span>\n",
       "</pre>\n"
      ],
      "text/plain": [
       "<rich.jupyter.JupyterRenderable at 0x7fa940c3fa90>"
      ]
     },
     "metadata": {},
     "output_type": "display_data"
    },
    {
     "name": "stderr",
     "output_type": "stream",
     "text": [
      "INDEX 3000: 716\n",
      "INDEX 3000: 716\n",
      "INDEX 3000: 716\n",
      "INDEX 3000: 716\n",
      "INDEX 3000: 716\n"
     ]
    },
    {
     "data": {
      "text/html": [
       "<pre style=\"white-space:pre;overflow-x:auto;line-height:normal;font-family:Menlo,'DejaVu Sans Mono',consolas,'Courier New',monospace\"><span style=\"color: #7fbfbf\">           </span><span style=\"color: #000080\">INFO    </span> INDEX <span style=\"color: #000080; font-weight: bold\">3000</span>: <span style=\"color: #000080; font-weight: bold\">716</span>                                            <a href=\"file:///home/j-gunmo/desktop/00.my-project/17.P-Stage-T1003/4-STAGE/fe/feature.py\"><span style=\"color: #7f7f7f\">feature.py</span></a><span style=\"color: #7f7f7f\">:105</span>\n",
       "</pre>\n"
      ],
      "text/plain": [
       "<rich.jupyter.JupyterRenderable at 0x7fa94502e520>"
      ]
     },
     "metadata": {},
     "output_type": "display_data"
    },
    {
     "name": "stderr",
     "output_type": "stream",
     "text": [
      "INDEX 4000: 716\n",
      "INDEX 4000: 716\n",
      "INDEX 4000: 716\n",
      "INDEX 4000: 716\n",
      "INDEX 4000: 716\n"
     ]
    },
    {
     "data": {
      "text/html": [
       "<pre style=\"white-space:pre;overflow-x:auto;line-height:normal;font-family:Menlo,'DejaVu Sans Mono',consolas,'Courier New',monospace\"><span style=\"color: #7fbfbf\">           </span><span style=\"color: #000080\">INFO    </span> INDEX <span style=\"color: #000080; font-weight: bold\">4000</span>: <span style=\"color: #000080; font-weight: bold\">716</span>                                            <a href=\"file:///home/j-gunmo/desktop/00.my-project/17.P-Stage-T1003/4-STAGE/fe/feature.py\"><span style=\"color: #7f7f7f\">feature.py</span></a><span style=\"color: #7f7f7f\">:105</span>\n",
       "</pre>\n"
      ],
      "text/plain": [
       "<rich.jupyter.JupyterRenderable at 0x7fa940c0ec10>"
      ]
     },
     "metadata": {},
     "output_type": "display_data"
    },
    {
     "name": "stderr",
     "output_type": "stream",
     "text": [
      "INDEX 5000: 716\n",
      "INDEX 5000: 716\n",
      "INDEX 5000: 716\n",
      "INDEX 5000: 716\n",
      "INDEX 5000: 716\n"
     ]
    },
    {
     "data": {
      "text/html": [
       "<pre style=\"white-space:pre;overflow-x:auto;line-height:normal;font-family:Menlo,'DejaVu Sans Mono',consolas,'Courier New',monospace\"><span style=\"color: #7fbfbf\">           </span><span style=\"color: #000080\">INFO    </span> INDEX <span style=\"color: #000080; font-weight: bold\">5000</span>: <span style=\"color: #000080; font-weight: bold\">716</span>                                            <a href=\"file:///home/j-gunmo/desktop/00.my-project/17.P-Stage-T1003/4-STAGE/fe/feature.py\"><span style=\"color: #7f7f7f\">feature.py</span></a><span style=\"color: #7f7f7f\">:105</span>\n",
       "</pre>\n"
      ],
      "text/plain": [
       "<rich.jupyter.JupyterRenderable at 0x7fa940c3f7f0>"
      ]
     },
     "metadata": {},
     "output_type": "display_data"
    },
    {
     "name": "stderr",
     "output_type": "stream",
     "text": [
      "INDEX 6000: 716\n",
      "INDEX 6000: 716\n",
      "INDEX 6000: 716\n",
      "INDEX 6000: 716\n",
      "INDEX 6000: 716\n"
     ]
    },
    {
     "data": {
      "text/html": [
       "<pre style=\"white-space:pre;overflow-x:auto;line-height:normal;font-family:Menlo,'DejaVu Sans Mono',consolas,'Courier New',monospace\"><span style=\"color: #7fbfbf\">           </span><span style=\"color: #000080\">INFO    </span> INDEX <span style=\"color: #000080; font-weight: bold\">6000</span>: <span style=\"color: #000080; font-weight: bold\">716</span>                                            <a href=\"file:///home/j-gunmo/desktop/00.my-project/17.P-Stage-T1003/4-STAGE/fe/feature.py\"><span style=\"color: #7f7f7f\">feature.py</span></a><span style=\"color: #7f7f7f\">:105</span>\n",
       "</pre>\n"
      ],
      "text/plain": [
       "<rich.jupyter.JupyterRenderable at 0x7fa945022100>"
      ]
     },
     "metadata": {},
     "output_type": "display_data"
    },
    {
     "name": "stderr",
     "output_type": "stream",
     "text": [
      "INDEX 7000: 716\n",
      "INDEX 7000: 716\n",
      "INDEX 7000: 716\n",
      "INDEX 7000: 716\n",
      "INDEX 7000: 716\n"
     ]
    },
    {
     "data": {
      "text/html": [
       "<pre style=\"white-space:pre;overflow-x:auto;line-height:normal;font-family:Menlo,'DejaVu Sans Mono',consolas,'Courier New',monospace\"><span style=\"color: #7fbfbf\">           </span><span style=\"color: #000080\">INFO    </span> INDEX <span style=\"color: #000080; font-weight: bold\">7000</span>: <span style=\"color: #000080; font-weight: bold\">716</span>                                            <a href=\"file:///home/j-gunmo/desktop/00.my-project/17.P-Stage-T1003/4-STAGE/fe/feature.py\"><span style=\"color: #7f7f7f\">feature.py</span></a><span style=\"color: #7f7f7f\">:105</span>\n",
       "</pre>\n"
      ],
      "text/plain": [
       "<rich.jupyter.JupyterRenderable at 0x7fa94129fd00>"
      ]
     },
     "metadata": {},
     "output_type": "display_data"
    },
    {
     "name": "stderr",
     "output_type": "stream",
     "text": [
      "INDEX 8000: 716\n",
      "INDEX 8000: 716\n",
      "INDEX 8000: 716\n",
      "INDEX 8000: 716\n",
      "INDEX 8000: 716\n"
     ]
    },
    {
     "data": {
      "text/html": [
       "<pre style=\"white-space:pre;overflow-x:auto;line-height:normal;font-family:Menlo,'DejaVu Sans Mono',consolas,'Courier New',monospace\"><span style=\"color: #7fbfbf\">           </span><span style=\"color: #000080\">INFO    </span> INDEX <span style=\"color: #000080; font-weight: bold\">8000</span>: <span style=\"color: #000080; font-weight: bold\">716</span>                                            <a href=\"file:///home/j-gunmo/desktop/00.my-project/17.P-Stage-T1003/4-STAGE/fe/feature.py\"><span style=\"color: #7f7f7f\">feature.py</span></a><span style=\"color: #7f7f7f\">:105</span>\n",
       "</pre>\n"
      ],
      "text/plain": [
       "<rich.jupyter.JupyterRenderable at 0x7fa9536d9eb0>"
      ]
     },
     "metadata": {},
     "output_type": "display_data"
    },
    {
     "name": "stderr",
     "output_type": "stream",
     "text": [
      "INDEX 9000: 716\n",
      "INDEX 9000: 716\n",
      "INDEX 9000: 716\n",
      "INDEX 9000: 716\n",
      "INDEX 9000: 716\n"
     ]
    },
    {
     "data": {
      "text/html": [
       "<pre style=\"white-space:pre;overflow-x:auto;line-height:normal;font-family:Menlo,'DejaVu Sans Mono',consolas,'Courier New',monospace\"><span style=\"color: #7fbfbf\">           </span><span style=\"color: #000080\">INFO    </span> INDEX <span style=\"color: #000080; font-weight: bold\">9000</span>: <span style=\"color: #000080; font-weight: bold\">716</span>                                            <a href=\"file:///home/j-gunmo/desktop/00.my-project/17.P-Stage-T1003/4-STAGE/fe/feature.py\"><span style=\"color: #7f7f7f\">feature.py</span></a><span style=\"color: #7f7f7f\">:105</span>\n",
       "</pre>\n"
      ],
      "text/plain": [
       "<rich.jupyter.JupyterRenderable at 0x7fa94502e520>"
      ]
     },
     "metadata": {},
     "output_type": "display_data"
    },
    {
     "name": "stderr",
     "output_type": "stream",
     "text": [
      "\n",
      "Feature Engineering Name: make_question_count\n",
      "\n",
      "Feature Engineering Name: make_question_count\n",
      "\n",
      "Feature Engineering Name: make_question_count\n",
      "\n",
      "Feature Engineering Name: make_question_count\n",
      "\n",
      "Feature Engineering Name: make_question_count\n"
     ]
    },
    {
     "name": "stdout",
     "output_type": "stream",
     "text": [
      "load features /home/j-gunmo/features/test_make_question_count.pkl to dataframe ... \n"
     ]
    },
    {
     "data": {
      "text/html": [
       "<pre style=\"white-space:pre;overflow-x:auto;line-height:normal;font-family:Menlo,'DejaVu Sans Mono',consolas,'Courier New',monospace\"><span style=\"color: #7fbfbf\">           </span><span style=\"color: #000080\">INFO    </span>                                                             <a href=\"file:///home/j-gunmo/desktop/00.my-project/17.P-Stage-T1003/4-STAGE/fe/feature.py\"><span style=\"color: #7f7f7f\">feature.py</span></a><span style=\"color: #7f7f7f\">:97</span>\n",
       "                    Feature Engineering Name: make_question_count                            \n",
       "</pre>\n"
      ],
      "text/plain": [
       "<rich.jupyter.JupyterRenderable at 0x7fa9458ccf70>"
      ]
     },
     "metadata": {},
     "output_type": "display_data"
    },
    {
     "name": "stderr",
     "output_type": "stream",
     "text": [
      "\n",
      "quesCnt         : 사용자가 푼 문항수를 나타냅니다.\n",
      "\n",
      "quesCnt         : 사용자가 푼 문항수를 나타냅니다.\n",
      "\n",
      "quesCnt         : 사용자가 푼 문항수를 나타냅니다.\n",
      "\n",
      "quesCnt         : 사용자가 푼 문항수를 나타냅니다.\n",
      "\n",
      "quesCnt         : 사용자가 푼 문항수를 나타냅니다.\n"
     ]
    },
    {
     "data": {
      "text/html": [
       "<pre style=\"white-space:pre;overflow-x:auto;line-height:normal;font-family:Menlo,'DejaVu Sans Mono',consolas,'Courier New',monospace\"><span style=\"color: #7fbfbf\">           </span><span style=\"color: #000080\">INFO    </span>                                                            <a href=\"file:///home/j-gunmo/desktop/00.my-project/17.P-Stage-T1003/4-STAGE/fe/feature.py\"><span style=\"color: #7f7f7f\">feature.py</span></a><span style=\"color: #7f7f7f\">:100</span>\n",
       "                    quesCnt         : 사용자가 푼 문항수를 나타냅니다.                       \n",
       "</pre>\n"
      ],
      "text/plain": [
       "<rich.jupyter.JupyterRenderable at 0x7fa9450228e0>"
      ]
     },
     "metadata": {},
     "output_type": "display_data"
    },
    {
     "name": "stderr",
     "output_type": "stream",
     "text": [
      "dtype: int64\n",
      "dtype: int64\n",
      "dtype: int64\n",
      "dtype: int64\n",
      "dtype: int64\n"
     ]
    },
    {
     "data": {
      "text/html": [
       "<pre style=\"white-space:pre;overflow-x:auto;line-height:normal;font-family:Menlo,'DejaVu Sans Mono',consolas,'Courier New',monospace\"><span style=\"color: #7fbfbf\">           </span><span style=\"color: #000080\">INFO    </span> dtype: int64                                               <a href=\"file:///home/j-gunmo/desktop/00.my-project/17.P-Stage-T1003/4-STAGE/fe/feature.py\"><span style=\"color: #7f7f7f\">feature.py</span></a><span style=\"color: #7f7f7f\">:101</span>\n",
       "</pre>\n"
      ],
      "text/plain": [
       "<rich.jupyter.JupyterRenderable at 0x7fa9450226a0>"
      ]
     },
     "metadata": {},
     "output_type": "display_data"
    },
    {
     "name": "stderr",
     "output_type": "stream",
     "text": [
      "[Examples]\n",
      "[Examples]\n",
      "[Examples]\n",
      "[Examples]\n",
      "[Examples]\n"
     ]
    },
    {
     "data": {
      "text/html": [
       "<pre style=\"white-space:pre;overflow-x:auto;line-height:normal;font-family:Menlo,'DejaVu Sans Mono',consolas,'Courier New',monospace\"><span style=\"color: #7fbfbf\">           </span><span style=\"color: #000080\">INFO    </span> <span style=\"font-weight: bold\">[</span>Examples<span style=\"font-weight: bold\">]</span>                                                 <a href=\"file:///home/j-gunmo/desktop/00.my-project/17.P-Stage-T1003/4-STAGE/fe/feature.py\"><span style=\"color: #7f7f7f\">feature.py</span></a><span style=\"color: #7f7f7f\">:102</span>\n",
       "</pre>\n"
      ],
      "text/plain": [
       "<rich.jupyter.JupyterRenderable at 0x7fa9536d9940>"
      ]
     },
     "metadata": {},
     "output_type": "display_data"
    },
    {
     "name": "stderr",
     "output_type": "stream",
     "text": [
      "INDEX 0000: 1036\n",
      "INDEX 0000: 1036\n",
      "INDEX 0000: 1036\n",
      "INDEX 0000: 1036\n",
      "INDEX 0000: 1036\n"
     ]
    },
    {
     "data": {
      "text/html": [
       "<pre style=\"white-space:pre;overflow-x:auto;line-height:normal;font-family:Menlo,'DejaVu Sans Mono',consolas,'Courier New',monospace\"><span style=\"color: #7fbfbf\">           </span><span style=\"color: #000080\">INFO    </span> INDEX <span style=\"color: #000080; font-weight: bold\">0000</span>: <span style=\"color: #000080; font-weight: bold\">1036</span>                                           <a href=\"file:///home/j-gunmo/desktop/00.my-project/17.P-Stage-T1003/4-STAGE/fe/feature.py\"><span style=\"color: #7f7f7f\">feature.py</span></a><span style=\"color: #7f7f7f\">:105</span>\n",
       "</pre>\n"
      ],
      "text/plain": [
       "<rich.jupyter.JupyterRenderable at 0x7fa945022040>"
      ]
     },
     "metadata": {},
     "output_type": "display_data"
    },
    {
     "name": "stderr",
     "output_type": "stream",
     "text": [
      "INDEX 1000: 1036\n",
      "INDEX 1000: 1036\n",
      "INDEX 1000: 1036\n",
      "INDEX 1000: 1036\n",
      "INDEX 1000: 1036\n"
     ]
    },
    {
     "data": {
      "text/html": [
       "<pre style=\"white-space:pre;overflow-x:auto;line-height:normal;font-family:Menlo,'DejaVu Sans Mono',consolas,'Courier New',monospace\"><span style=\"color: #7fbfbf\">           </span><span style=\"color: #000080\">INFO    </span> INDEX <span style=\"color: #000080; font-weight: bold\">1000</span>: <span style=\"color: #000080; font-weight: bold\">1036</span>                                           <a href=\"file:///home/j-gunmo/desktop/00.my-project/17.P-Stage-T1003/4-STAGE/fe/feature.py\"><span style=\"color: #7f7f7f\">feature.py</span></a><span style=\"color: #7f7f7f\">:105</span>\n",
       "</pre>\n"
      ],
      "text/plain": [
       "<rich.jupyter.JupyterRenderable at 0x7fa940c3f7f0>"
      ]
     },
     "metadata": {},
     "output_type": "display_data"
    },
    {
     "name": "stderr",
     "output_type": "stream",
     "text": [
      "INDEX 2000: 1036\n",
      "INDEX 2000: 1036\n",
      "INDEX 2000: 1036\n",
      "INDEX 2000: 1036\n",
      "INDEX 2000: 1036\n"
     ]
    },
    {
     "data": {
      "text/html": [
       "<pre style=\"white-space:pre;overflow-x:auto;line-height:normal;font-family:Menlo,'DejaVu Sans Mono',consolas,'Courier New',monospace\"><span style=\"color: #7fbfbf\">           </span><span style=\"color: #000080\">INFO    </span> INDEX <span style=\"color: #000080; font-weight: bold\">2000</span>: <span style=\"color: #000080; font-weight: bold\">1036</span>                                           <a href=\"file:///home/j-gunmo/desktop/00.my-project/17.P-Stage-T1003/4-STAGE/fe/feature.py\"><span style=\"color: #7f7f7f\">feature.py</span></a><span style=\"color: #7f7f7f\">:105</span>\n",
       "</pre>\n"
      ],
      "text/plain": [
       "<rich.jupyter.JupyterRenderable at 0x7fa9412a4d00>"
      ]
     },
     "metadata": {},
     "output_type": "display_data"
    },
    {
     "name": "stderr",
     "output_type": "stream",
     "text": [
      "INDEX 3000: 1036\n",
      "INDEX 3000: 1036\n",
      "INDEX 3000: 1036\n",
      "INDEX 3000: 1036\n",
      "INDEX 3000: 1036\n"
     ]
    },
    {
     "data": {
      "text/html": [
       "<pre style=\"white-space:pre;overflow-x:auto;line-height:normal;font-family:Menlo,'DejaVu Sans Mono',consolas,'Courier New',monospace\"><span style=\"color: #7fbfbf\">           </span><span style=\"color: #000080\">INFO    </span> INDEX <span style=\"color: #000080; font-weight: bold\">3000</span>: <span style=\"color: #000080; font-weight: bold\">1036</span>                                           <a href=\"file:///home/j-gunmo/desktop/00.my-project/17.P-Stage-T1003/4-STAGE/fe/feature.py\"><span style=\"color: #7f7f7f\">feature.py</span></a><span style=\"color: #7f7f7f\">:105</span>\n",
       "</pre>\n"
      ],
      "text/plain": [
       "<rich.jupyter.JupyterRenderable at 0x7fa9536d9e80>"
      ]
     },
     "metadata": {},
     "output_type": "display_data"
    },
    {
     "name": "stderr",
     "output_type": "stream",
     "text": [
      "INDEX 4000: 1036\n",
      "INDEX 4000: 1036\n",
      "INDEX 4000: 1036\n",
      "INDEX 4000: 1036\n",
      "INDEX 4000: 1036\n"
     ]
    },
    {
     "data": {
      "text/html": [
       "<pre style=\"white-space:pre;overflow-x:auto;line-height:normal;font-family:Menlo,'DejaVu Sans Mono',consolas,'Courier New',monospace\"><span style=\"color: #7fbfbf\">           </span><span style=\"color: #000080\">INFO    </span> INDEX <span style=\"color: #000080; font-weight: bold\">4000</span>: <span style=\"color: #000080; font-weight: bold\">1036</span>                                           <a href=\"file:///home/j-gunmo/desktop/00.my-project/17.P-Stage-T1003/4-STAGE/fe/feature.py\"><span style=\"color: #7f7f7f\">feature.py</span></a><span style=\"color: #7f7f7f\">:105</span>\n",
       "</pre>\n"
      ],
      "text/plain": [
       "<rich.jupyter.JupyterRenderable at 0x7fa945022100>"
      ]
     },
     "metadata": {},
     "output_type": "display_data"
    },
    {
     "name": "stderr",
     "output_type": "stream",
     "text": [
      "INDEX 5000: 1036\n",
      "INDEX 5000: 1036\n",
      "INDEX 5000: 1036\n",
      "INDEX 5000: 1036\n",
      "INDEX 5000: 1036\n"
     ]
    },
    {
     "data": {
      "text/html": [
       "<pre style=\"white-space:pre;overflow-x:auto;line-height:normal;font-family:Menlo,'DejaVu Sans Mono',consolas,'Courier New',monospace\"><span style=\"color: #7fbfbf\">           </span><span style=\"color: #000080\">INFO    </span> INDEX <span style=\"color: #000080; font-weight: bold\">5000</span>: <span style=\"color: #000080; font-weight: bold\">1036</span>                                           <a href=\"file:///home/j-gunmo/desktop/00.my-project/17.P-Stage-T1003/4-STAGE/fe/feature.py\"><span style=\"color: #7f7f7f\">feature.py</span></a><span style=\"color: #7f7f7f\">:105</span>\n",
       "</pre>\n"
      ],
      "text/plain": [
       "<rich.jupyter.JupyterRenderable at 0x7fa94129c1f0>"
      ]
     },
     "metadata": {},
     "output_type": "display_data"
    },
    {
     "name": "stderr",
     "output_type": "stream",
     "text": [
      "INDEX 6000: 1036\n",
      "INDEX 6000: 1036\n",
      "INDEX 6000: 1036\n",
      "INDEX 6000: 1036\n",
      "INDEX 6000: 1036\n"
     ]
    },
    {
     "data": {
      "text/html": [
       "<pre style=\"white-space:pre;overflow-x:auto;line-height:normal;font-family:Menlo,'DejaVu Sans Mono',consolas,'Courier New',monospace\"><span style=\"color: #7fbfbf\">           </span><span style=\"color: #000080\">INFO    </span> INDEX <span style=\"color: #000080; font-weight: bold\">6000</span>: <span style=\"color: #000080; font-weight: bold\">1036</span>                                           <a href=\"file:///home/j-gunmo/desktop/00.my-project/17.P-Stage-T1003/4-STAGE/fe/feature.py\"><span style=\"color: #7f7f7f\">feature.py</span></a><span style=\"color: #7f7f7f\">:105</span>\n",
       "</pre>\n"
      ],
      "text/plain": [
       "<rich.jupyter.JupyterRenderable at 0x7fa9536d9670>"
      ]
     },
     "metadata": {},
     "output_type": "display_data"
    },
    {
     "name": "stderr",
     "output_type": "stream",
     "text": [
      "INDEX 7000: 1036\n",
      "INDEX 7000: 1036\n",
      "INDEX 7000: 1036\n",
      "INDEX 7000: 1036\n",
      "INDEX 7000: 1036\n"
     ]
    },
    {
     "data": {
      "text/html": [
       "<pre style=\"white-space:pre;overflow-x:auto;line-height:normal;font-family:Menlo,'DejaVu Sans Mono',consolas,'Courier New',monospace\"><span style=\"color: #7fbfbf\">           </span><span style=\"color: #000080\">INFO    </span> INDEX <span style=\"color: #000080; font-weight: bold\">7000</span>: <span style=\"color: #000080; font-weight: bold\">1036</span>                                           <a href=\"file:///home/j-gunmo/desktop/00.my-project/17.P-Stage-T1003/4-STAGE/fe/feature.py\"><span style=\"color: #7f7f7f\">feature.py</span></a><span style=\"color: #7f7f7f\">:105</span>\n",
       "</pre>\n"
      ],
      "text/plain": [
       "<rich.jupyter.JupyterRenderable at 0x7fa9450228e0>"
      ]
     },
     "metadata": {},
     "output_type": "display_data"
    },
    {
     "name": "stderr",
     "output_type": "stream",
     "text": [
      "INDEX 8000: 1036\n",
      "INDEX 8000: 1036\n",
      "INDEX 8000: 1036\n",
      "INDEX 8000: 1036\n",
      "INDEX 8000: 1036\n"
     ]
    },
    {
     "data": {
      "text/html": [
       "<pre style=\"white-space:pre;overflow-x:auto;line-height:normal;font-family:Menlo,'DejaVu Sans Mono',consolas,'Courier New',monospace\"><span style=\"color: #7fbfbf\">           </span><span style=\"color: #000080\">INFO    </span> INDEX <span style=\"color: #000080; font-weight: bold\">8000</span>: <span style=\"color: #000080; font-weight: bold\">1036</span>                                           <a href=\"file:///home/j-gunmo/desktop/00.my-project/17.P-Stage-T1003/4-STAGE/fe/feature.py\"><span style=\"color: #7f7f7f\">feature.py</span></a><span style=\"color: #7f7f7f\">:105</span>\n",
       "</pre>\n"
      ],
      "text/plain": [
       "<rich.jupyter.JupyterRenderable at 0x7fa940c3f430>"
      ]
     },
     "metadata": {},
     "output_type": "display_data"
    },
    {
     "name": "stderr",
     "output_type": "stream",
     "text": [
      "INDEX 9000: 1036\n",
      "INDEX 9000: 1036\n",
      "INDEX 9000: 1036\n",
      "INDEX 9000: 1036\n",
      "INDEX 9000: 1036\n"
     ]
    },
    {
     "data": {
      "text/html": [
       "<pre style=\"white-space:pre;overflow-x:auto;line-height:normal;font-family:Menlo,'DejaVu Sans Mono',consolas,'Courier New',monospace\"><span style=\"color: #7fbfbf\">           </span><span style=\"color: #000080\">INFO    </span> INDEX <span style=\"color: #000080; font-weight: bold\">9000</span>: <span style=\"color: #000080; font-weight: bold\">1036</span>                                           <a href=\"file:///home/j-gunmo/desktop/00.my-project/17.P-Stage-T1003/4-STAGE/fe/feature.py\"><span style=\"color: #7f7f7f\">feature.py</span></a><span style=\"color: #7f7f7f\">:105</span>\n",
       "</pre>\n"
      ],
      "text/plain": [
       "<rich.jupyter.JupyterRenderable at 0x7fa945022040>"
      ]
     },
     "metadata": {},
     "output_type": "display_data"
    },
    {
     "name": "stderr",
     "output_type": "stream",
     "text": [
      "\n",
      "Feature Engineering Name: make_correct_percent\n",
      "\n",
      "Feature Engineering Name: make_correct_percent\n",
      "\n",
      "Feature Engineering Name: make_correct_percent\n",
      "\n",
      "Feature Engineering Name: make_correct_percent\n",
      "\n",
      "Feature Engineering Name: make_correct_percent\n"
     ]
    },
    {
     "name": "stdout",
     "output_type": "stream",
     "text": [
      "load features /home/j-gunmo/features/test_make_correct_percent.pkl to dataframe ... \n"
     ]
    },
    {
     "data": {
      "text/html": [
       "<pre style=\"white-space:pre;overflow-x:auto;line-height:normal;font-family:Menlo,'DejaVu Sans Mono',consolas,'Courier New',monospace\"><span style=\"color: #7fbfbf\">           </span><span style=\"color: #000080\">INFO    </span>                                                             <a href=\"file:///home/j-gunmo/desktop/00.my-project/17.P-Stage-T1003/4-STAGE/fe/feature.py\"><span style=\"color: #7f7f7f\">feature.py</span></a><span style=\"color: #7f7f7f\">:97</span>\n",
       "                    Feature Engineering Name: make_correct_percent                           \n",
       "</pre>\n"
      ],
      "text/plain": [
       "<rich.jupyter.JupyterRenderable at 0x7fa9510f4670>"
      ]
     },
     "metadata": {},
     "output_type": "display_data"
    },
    {
     "name": "stderr",
     "output_type": "stream",
     "text": [
      "\n",
      "correctPer      : 사용자가 푼 전체 문항에 대한 정답률입니다.\n",
      "\n",
      "correctPer      : 사용자가 푼 전체 문항에 대한 정답률입니다.\n",
      "\n",
      "correctPer      : 사용자가 푼 전체 문항에 대한 정답률입니다.\n",
      "\n",
      "correctPer      : 사용자가 푼 전체 문항에 대한 정답률입니다.\n",
      "\n",
      "correctPer      : 사용자가 푼 전체 문항에 대한 정답률입니다.\n"
     ]
    },
    {
     "data": {
      "text/html": [
       "<pre style=\"white-space:pre;overflow-x:auto;line-height:normal;font-family:Menlo,'DejaVu Sans Mono',consolas,'Courier New',monospace\"><span style=\"color: #7fbfbf\">           </span><span style=\"color: #000080\">INFO    </span>                                                            <a href=\"file:///home/j-gunmo/desktop/00.my-project/17.P-Stage-T1003/4-STAGE/fe/feature.py\"><span style=\"color: #7f7f7f\">feature.py</span></a><span style=\"color: #7f7f7f\">:100</span>\n",
       "                    correctPer      : 사용자가 푼 전체 문항에 대한                           \n",
       "                    정답률입니다.                                                            \n",
       "</pre>\n"
      ],
      "text/plain": [
       "<rich.jupyter.JupyterRenderable at 0x7fa940c3f430>"
      ]
     },
     "metadata": {},
     "output_type": "display_data"
    },
    {
     "name": "stderr",
     "output_type": "stream",
     "text": [
      "dtype: float64\n",
      "dtype: float64\n",
      "dtype: float64\n",
      "dtype: float64\n",
      "dtype: float64\n"
     ]
    },
    {
     "data": {
      "text/html": [
       "<pre style=\"white-space:pre;overflow-x:auto;line-height:normal;font-family:Menlo,'DejaVu Sans Mono',consolas,'Courier New',monospace\"><span style=\"color: #7fbfbf\">           </span><span style=\"color: #000080\">INFO    </span> dtype: float64                                             <a href=\"file:///home/j-gunmo/desktop/00.my-project/17.P-Stage-T1003/4-STAGE/fe/feature.py\"><span style=\"color: #7f7f7f\">feature.py</span></a><span style=\"color: #7f7f7f\">:101</span>\n",
       "</pre>\n"
      ],
      "text/plain": [
       "<rich.jupyter.JupyterRenderable at 0x7fa94129fd00>"
      ]
     },
     "metadata": {},
     "output_type": "display_data"
    },
    {
     "name": "stderr",
     "output_type": "stream",
     "text": [
      "[Examples]\n",
      "[Examples]\n",
      "[Examples]\n",
      "[Examples]\n",
      "[Examples]\n"
     ]
    },
    {
     "data": {
      "text/html": [
       "<pre style=\"white-space:pre;overflow-x:auto;line-height:normal;font-family:Menlo,'DejaVu Sans Mono',consolas,'Courier New',monospace\"><span style=\"color: #7fbfbf\">           </span><span style=\"color: #000080\">INFO    </span> <span style=\"font-weight: bold\">[</span>Examples<span style=\"font-weight: bold\">]</span>                                                 <a href=\"file:///home/j-gunmo/desktop/00.my-project/17.P-Stage-T1003/4-STAGE/fe/feature.py\"><span style=\"color: #7f7f7f\">feature.py</span></a><span style=\"color: #7f7f7f\">:102</span>\n",
       "</pre>\n"
      ],
      "text/plain": [
       "<rich.jupyter.JupyterRenderable at 0x7fa9536d9e80>"
      ]
     },
     "metadata": {},
     "output_type": "display_data"
    },
    {
     "name": "stderr",
     "output_type": "stream",
     "text": [
      "INDEX 0000: 0.6911196911196911\n",
      "INDEX 0000: 0.6911196911196911\n",
      "INDEX 0000: 0.6911196911196911\n",
      "INDEX 0000: 0.6911196911196911\n",
      "INDEX 0000: 0.6911196911196911\n"
     ]
    },
    {
     "data": {
      "text/html": [
       "<pre style=\"white-space:pre;overflow-x:auto;line-height:normal;font-family:Menlo,'DejaVu Sans Mono',consolas,'Courier New',monospace\"><span style=\"color: #7fbfbf\">           </span><span style=\"color: #000080\">INFO    </span> INDEX <span style=\"color: #000080; font-weight: bold\">0000</span>: <span style=\"color: #000080; font-weight: bold\">0.6911196911196911</span>                             <a href=\"file:///home/j-gunmo/desktop/00.my-project/17.P-Stage-T1003/4-STAGE/fe/feature.py\"><span style=\"color: #7f7f7f\">feature.py</span></a><span style=\"color: #7f7f7f\">:105</span>\n",
       "</pre>\n"
      ],
      "text/plain": [
       "<rich.jupyter.JupyterRenderable at 0x7fa940c3f7f0>"
      ]
     },
     "metadata": {},
     "output_type": "display_data"
    },
    {
     "name": "stderr",
     "output_type": "stream",
     "text": [
      "INDEX 1000: 0.6911196911196911\n",
      "INDEX 1000: 0.6911196911196911\n",
      "INDEX 1000: 0.6911196911196911\n",
      "INDEX 1000: 0.6911196911196911\n",
      "INDEX 1000: 0.6911196911196911\n"
     ]
    },
    {
     "data": {
      "text/html": [
       "<pre style=\"white-space:pre;overflow-x:auto;line-height:normal;font-family:Menlo,'DejaVu Sans Mono',consolas,'Courier New',monospace\"><span style=\"color: #7fbfbf\">           </span><span style=\"color: #000080\">INFO    </span> INDEX <span style=\"color: #000080; font-weight: bold\">1000</span>: <span style=\"color: #000080; font-weight: bold\">0.6911196911196911</span>                             <a href=\"file:///home/j-gunmo/desktop/00.my-project/17.P-Stage-T1003/4-STAGE/fe/feature.py\"><span style=\"color: #7f7f7f\">feature.py</span></a><span style=\"color: #7f7f7f\">:105</span>\n",
       "</pre>\n"
      ],
      "text/plain": [
       "<rich.jupyter.JupyterRenderable at 0x7fa9536d9eb0>"
      ]
     },
     "metadata": {},
     "output_type": "display_data"
    },
    {
     "name": "stderr",
     "output_type": "stream",
     "text": [
      "INDEX 2000: 0.6911196911196911\n",
      "INDEX 2000: 0.6911196911196911\n",
      "INDEX 2000: 0.6911196911196911\n",
      "INDEX 2000: 0.6911196911196911\n",
      "INDEX 2000: 0.6911196911196911\n"
     ]
    },
    {
     "data": {
      "text/html": [
       "<pre style=\"white-space:pre;overflow-x:auto;line-height:normal;font-family:Menlo,'DejaVu Sans Mono',consolas,'Courier New',monospace\"><span style=\"color: #7fbfbf\">           </span><span style=\"color: #000080\">INFO    </span> INDEX <span style=\"color: #000080; font-weight: bold\">2000</span>: <span style=\"color: #000080; font-weight: bold\">0.6911196911196911</span>                             <a href=\"file:///home/j-gunmo/desktop/00.my-project/17.P-Stage-T1003/4-STAGE/fe/feature.py\"><span style=\"color: #7f7f7f\">feature.py</span></a><span style=\"color: #7f7f7f\">:105</span>\n",
       "</pre>\n"
      ],
      "text/plain": [
       "<rich.jupyter.JupyterRenderable at 0x7fa94129cbb0>"
      ]
     },
     "metadata": {},
     "output_type": "display_data"
    },
    {
     "name": "stderr",
     "output_type": "stream",
     "text": [
      "INDEX 3000: 0.6911196911196911\n",
      "INDEX 3000: 0.6911196911196911\n",
      "INDEX 3000: 0.6911196911196911\n",
      "INDEX 3000: 0.6911196911196911\n",
      "INDEX 3000: 0.6911196911196911\n"
     ]
    },
    {
     "data": {
      "text/html": [
       "<pre style=\"white-space:pre;overflow-x:auto;line-height:normal;font-family:Menlo,'DejaVu Sans Mono',consolas,'Courier New',monospace\"><span style=\"color: #7fbfbf\">           </span><span style=\"color: #000080\">INFO    </span> INDEX <span style=\"color: #000080; font-weight: bold\">3000</span>: <span style=\"color: #000080; font-weight: bold\">0.6911196911196911</span>                             <a href=\"file:///home/j-gunmo/desktop/00.my-project/17.P-Stage-T1003/4-STAGE/fe/feature.py\"><span style=\"color: #7f7f7f\">feature.py</span></a><span style=\"color: #7f7f7f\">:105</span>\n",
       "</pre>\n"
      ],
      "text/plain": [
       "<rich.jupyter.JupyterRenderable at 0x7fa94502e520>"
      ]
     },
     "metadata": {},
     "output_type": "display_data"
    },
    {
     "name": "stderr",
     "output_type": "stream",
     "text": [
      "INDEX 4000: 0.6911196911196911\n",
      "INDEX 4000: 0.6911196911196911\n",
      "INDEX 4000: 0.6911196911196911\n",
      "INDEX 4000: 0.6911196911196911\n",
      "INDEX 4000: 0.6911196911196911\n"
     ]
    },
    {
     "data": {
      "text/html": [
       "<pre style=\"white-space:pre;overflow-x:auto;line-height:normal;font-family:Menlo,'DejaVu Sans Mono',consolas,'Courier New',monospace\"><span style=\"color: #7fbfbf\">           </span><span style=\"color: #000080\">INFO    </span> INDEX <span style=\"color: #000080; font-weight: bold\">4000</span>: <span style=\"color: #000080; font-weight: bold\">0.6911196911196911</span>                             <a href=\"file:///home/j-gunmo/desktop/00.my-project/17.P-Stage-T1003/4-STAGE/fe/feature.py\"><span style=\"color: #7f7f7f\">feature.py</span></a><span style=\"color: #7f7f7f\">:105</span>\n",
       "</pre>\n"
      ],
      "text/plain": [
       "<rich.jupyter.JupyterRenderable at 0x7fa9412a4d00>"
      ]
     },
     "metadata": {},
     "output_type": "display_data"
    },
    {
     "name": "stderr",
     "output_type": "stream",
     "text": [
      "INDEX 5000: 0.6911196911196911\n",
      "INDEX 5000: 0.6911196911196911\n",
      "INDEX 5000: 0.6911196911196911\n",
      "INDEX 5000: 0.6911196911196911\n",
      "INDEX 5000: 0.6911196911196911\n"
     ]
    },
    {
     "data": {
      "text/html": [
       "<pre style=\"white-space:pre;overflow-x:auto;line-height:normal;font-family:Menlo,'DejaVu Sans Mono',consolas,'Courier New',monospace\"><span style=\"color: #7fbfbf\">           </span><span style=\"color: #000080\">INFO    </span> INDEX <span style=\"color: #000080; font-weight: bold\">5000</span>: <span style=\"color: #000080; font-weight: bold\">0.6911196911196911</span>                             <a href=\"file:///home/j-gunmo/desktop/00.my-project/17.P-Stage-T1003/4-STAGE/fe/feature.py\"><span style=\"color: #7f7f7f\">feature.py</span></a><span style=\"color: #7f7f7f\">:105</span>\n",
       "</pre>\n"
      ],
      "text/plain": [
       "<rich.jupyter.JupyterRenderable at 0x7fa94129cbb0>"
      ]
     },
     "metadata": {},
     "output_type": "display_data"
    },
    {
     "name": "stderr",
     "output_type": "stream",
     "text": [
      "INDEX 6000: 0.6911196911196911\n",
      "INDEX 6000: 0.6911196911196911\n",
      "INDEX 6000: 0.6911196911196911\n",
      "INDEX 6000: 0.6911196911196911\n",
      "INDEX 6000: 0.6911196911196911\n"
     ]
    },
    {
     "data": {
      "text/html": [
       "<pre style=\"white-space:pre;overflow-x:auto;line-height:normal;font-family:Menlo,'DejaVu Sans Mono',consolas,'Courier New',monospace\"><span style=\"color: #7fbfbf\">           </span><span style=\"color: #000080\">INFO    </span> INDEX <span style=\"color: #000080; font-weight: bold\">6000</span>: <span style=\"color: #000080; font-weight: bold\">0.6911196911196911</span>                             <a href=\"file:///home/j-gunmo/desktop/00.my-project/17.P-Stage-T1003/4-STAGE/fe/feature.py\"><span style=\"color: #7f7f7f\">feature.py</span></a><span style=\"color: #7f7f7f\">:105</span>\n",
       "</pre>\n"
      ],
      "text/plain": [
       "<rich.jupyter.JupyterRenderable at 0x7fa945022100>"
      ]
     },
     "metadata": {},
     "output_type": "display_data"
    },
    {
     "name": "stderr",
     "output_type": "stream",
     "text": [
      "INDEX 7000: 0.6911196911196911\n",
      "INDEX 7000: 0.6911196911196911\n",
      "INDEX 7000: 0.6911196911196911\n",
      "INDEX 7000: 0.6911196911196911\n",
      "INDEX 7000: 0.6911196911196911\n"
     ]
    },
    {
     "data": {
      "text/html": [
       "<pre style=\"white-space:pre;overflow-x:auto;line-height:normal;font-family:Menlo,'DejaVu Sans Mono',consolas,'Courier New',monospace\"><span style=\"color: #7fbfbf\">           </span><span style=\"color: #000080\">INFO    </span> INDEX <span style=\"color: #000080; font-weight: bold\">7000</span>: <span style=\"color: #000080; font-weight: bold\">0.6911196911196911</span>                             <a href=\"file:///home/j-gunmo/desktop/00.my-project/17.P-Stage-T1003/4-STAGE/fe/feature.py\"><span style=\"color: #7f7f7f\">feature.py</span></a><span style=\"color: #7f7f7f\">:105</span>\n",
       "</pre>\n"
      ],
      "text/plain": [
       "<rich.jupyter.JupyterRenderable at 0x7fa9412a4dc0>"
      ]
     },
     "metadata": {},
     "output_type": "display_data"
    },
    {
     "name": "stderr",
     "output_type": "stream",
     "text": [
      "INDEX 8000: 0.6911196911196911\n",
      "INDEX 8000: 0.6911196911196911\n",
      "INDEX 8000: 0.6911196911196911\n",
      "INDEX 8000: 0.6911196911196911\n",
      "INDEX 8000: 0.6911196911196911\n"
     ]
    },
    {
     "data": {
      "text/html": [
       "<pre style=\"white-space:pre;overflow-x:auto;line-height:normal;font-family:Menlo,'DejaVu Sans Mono',consolas,'Courier New',monospace\"><span style=\"color: #7fbfbf\">           </span><span style=\"color: #000080\">INFO    </span> INDEX <span style=\"color: #000080; font-weight: bold\">8000</span>: <span style=\"color: #000080; font-weight: bold\">0.6911196911196911</span>                             <a href=\"file:///home/j-gunmo/desktop/00.my-project/17.P-Stage-T1003/4-STAGE/fe/feature.py\"><span style=\"color: #7f7f7f\">feature.py</span></a><span style=\"color: #7f7f7f\">:105</span>\n",
       "</pre>\n"
      ],
      "text/plain": [
       "<rich.jupyter.JupyterRenderable at 0x7fa9450226a0>"
      ]
     },
     "metadata": {},
     "output_type": "display_data"
    },
    {
     "name": "stderr",
     "output_type": "stream",
     "text": [
      "INDEX 9000: 0.6911196911196911\n",
      "INDEX 9000: 0.6911196911196911\n",
      "INDEX 9000: 0.6911196911196911\n",
      "INDEX 9000: 0.6911196911196911\n",
      "INDEX 9000: 0.6911196911196911\n"
     ]
    },
    {
     "data": {
      "text/html": [
       "<pre style=\"white-space:pre;overflow-x:auto;line-height:normal;font-family:Menlo,'DejaVu Sans Mono',consolas,'Courier New',monospace\"><span style=\"color: #7fbfbf\">           </span><span style=\"color: #000080\">INFO    </span> INDEX <span style=\"color: #000080; font-weight: bold\">9000</span>: <span style=\"color: #000080; font-weight: bold\">0.6911196911196911</span>                             <a href=\"file:///home/j-gunmo/desktop/00.my-project/17.P-Stage-T1003/4-STAGE/fe/feature.py\"><span style=\"color: #7f7f7f\">feature.py</span></a><span style=\"color: #7f7f7f\">:105</span>\n",
       "</pre>\n"
      ],
      "text/plain": [
       "<rich.jupyter.JupyterRenderable at 0x7fa9536d9940>"
      ]
     },
     "metadata": {},
     "output_type": "display_data"
    },
    {
     "name": "stderr",
     "output_type": "stream",
     "text": [
      "Feature Engineering End ... \n",
      "Feature Engineering End ... \n",
      "Feature Engineering End ... \n",
      "Feature Engineering End ... \n",
      "Feature Engineering End ... \n"
     ]
    },
    {
     "data": {
      "text/html": [
       "<pre style=\"white-space:pre;overflow-x:auto;line-height:normal;font-family:Menlo,'DejaVu Sans Mono',consolas,'Courier New',monospace\"><span style=\"color: #7fbfbf\">           </span><span style=\"color: #000080\">INFO    </span> Feature Engineering End <span style=\"color: #808000\">...</span>                                <a href=\"file:///home/j-gunmo/desktop/00.my-project/17.P-Stage-T1003/4-STAGE/fe/feature.py\"><span style=\"color: #7f7f7f\">feature.py</span></a><span style=\"color: #7f7f7f\">:107</span>\n",
       "</pre>\n"
      ],
      "text/plain": [
       "<rich.jupyter.JupyterRenderable at 0x7fa94129c5e0>"
      ]
     },
     "metadata": {},
     "output_type": "display_data"
    },
    {
     "name": "stderr",
     "output_type": "stream",
     "text": [
      "Original DataFrame Keywords: Index(['userID', 'assessmentItemID', 'testId', 'answerCode', 'Timestamp',\n",
      "       'KnowledgeTag'],\n",
      "      dtype='object')\n",
      "Original DataFrame Keywords: Index(['userID', 'assessmentItemID', 'testId', 'answerCode', 'Timestamp',\n",
      "       'KnowledgeTag'],\n",
      "      dtype='object')\n",
      "Original DataFrame Keywords: Index(['userID', 'assessmentItemID', 'testId', 'answerCode', 'Timestamp',\n",
      "       'KnowledgeTag'],\n",
      "      dtype='object')\n",
      "Original DataFrame Keywords: Index(['userID', 'assessmentItemID', 'testId', 'answerCode', 'Timestamp',\n",
      "       'KnowledgeTag'],\n",
      "      dtype='object')\n",
      "Original DataFrame Keywords: Index(['userID', 'assessmentItemID', 'testId', 'answerCode', 'Timestamp',\n",
      "       'KnowledgeTag'],\n",
      "      dtype='object')\n"
     ]
    },
    {
     "data": {
      "text/html": [
       "<pre style=\"white-space:pre;overflow-x:auto;line-height:normal;font-family:Menlo,'DejaVu Sans Mono',consolas,'Courier New',monospace\"><span style=\"color: #7fbfbf\">           </span><span style=\"color: #000080\">INFO    </span> Original DataFrame Keywords: Index<span style=\"font-weight: bold\">([</span><span style=\"color: #008000\">'userID'</span>,              <a href=\"file:///home/j-gunmo/desktop/00.my-project/17.P-Stage-T1003/4-STAGE/fe/feature.py\"><span style=\"color: #7f7f7f\">feature.py</span></a><span style=\"color: #7f7f7f\">:108</span>\n",
       "                    <span style=\"color: #008000\">'assessmentItemID'</span>, <span style=\"color: #008000\">'testId'</span>, <span style=\"color: #008000\">'answerCode'</span>, <span style=\"color: #008000\">'Timestamp'</span>,                 \n",
       "                           <span style=\"color: #008000\">'KnowledgeTag'</span><span style=\"font-weight: bold\">]</span>,                                                  \n",
       "                          <span style=\"color: #808000\">dtype</span>=<span style=\"color: #008000\">'object'</span><span style=\"font-weight: bold\">)</span>                                                    \n",
       "</pre>\n"
      ],
      "text/plain": [
       "<rich.jupyter.JupyterRenderable at 0x7fa94129fd00>"
      ]
     },
     "metadata": {},
     "output_type": "display_data"
    },
    {
     "name": "stderr",
     "output_type": "stream",
     "text": [
      "Feature Added DataFrame Keywords: Index(['userID', 'assessmentItemID', 'testId', 'answerCode', 'Timestamp',\n",
      "       'KnowledgeTag', 'testPaper', 'testPaperCnt', 'timeSec', 'firstClass',\n",
      "       'secondClass', 'correctCnt', 'quesCnt', 'correctPer'],\n",
      "      dtype='object')\n",
      "Feature Added DataFrame Keywords: Index(['userID', 'assessmentItemID', 'testId', 'answerCode', 'Timestamp',\n",
      "       'KnowledgeTag', 'testPaper', 'testPaperCnt', 'timeSec', 'firstClass',\n",
      "       'secondClass', 'correctCnt', 'quesCnt', 'correctPer'],\n",
      "      dtype='object')\n",
      "Feature Added DataFrame Keywords: Index(['userID', 'assessmentItemID', 'testId', 'answerCode', 'Timestamp',\n",
      "       'KnowledgeTag', 'testPaper', 'testPaperCnt', 'timeSec', 'firstClass',\n",
      "       'secondClass', 'correctCnt', 'quesCnt', 'correctPer'],\n",
      "      dtype='object')\n",
      "Feature Added DataFrame Keywords: Index(['userID', 'assessmentItemID', 'testId', 'answerCode', 'Timestamp',\n",
      "       'KnowledgeTag', 'testPaper', 'testPaperCnt', 'timeSec', 'firstClass',\n",
      "       'secondClass', 'correctCnt', 'quesCnt', 'correctPer'],\n",
      "      dtype='object')\n",
      "Feature Added DataFrame Keywords: Index(['userID', 'assessmentItemID', 'testId', 'answerCode', 'Timestamp',\n",
      "       'KnowledgeTag', 'testPaper', 'testPaperCnt', 'timeSec', 'firstClass',\n",
      "       'secondClass', 'correctCnt', 'quesCnt', 'correctPer'],\n",
      "      dtype='object')\n"
     ]
    },
    {
     "data": {
      "text/html": [
       "<pre style=\"white-space:pre;overflow-x:auto;line-height:normal;font-family:Menlo,'DejaVu Sans Mono',consolas,'Courier New',monospace\"><span style=\"color: #7fbfbf\">           </span><span style=\"color: #000080\">INFO    </span> Feature Added DataFrame Keywords: Index<span style=\"font-weight: bold\">([</span><span style=\"color: #008000\">'userID'</span>,         <a href=\"file:///home/j-gunmo/desktop/00.my-project/17.P-Stage-T1003/4-STAGE/fe/feature.py\"><span style=\"color: #7f7f7f\">feature.py</span></a><span style=\"color: #7f7f7f\">:109</span>\n",
       "                    <span style=\"color: #008000\">'assessmentItemID'</span>, <span style=\"color: #008000\">'testId'</span>, <span style=\"color: #008000\">'answerCode'</span>, <span style=\"color: #008000\">'Timestamp'</span>,                 \n",
       "                           <span style=\"color: #008000\">'KnowledgeTag'</span>, <span style=\"color: #008000\">'testPaper'</span>, <span style=\"color: #008000\">'testPaperCnt'</span>,                      \n",
       "                    <span style=\"color: #008000\">'timeSec'</span>, <span style=\"color: #008000\">'firstClass'</span>,                                                 \n",
       "                           <span style=\"color: #008000\">'secondClass'</span>, <span style=\"color: #008000\">'correctCnt'</span>, <span style=\"color: #008000\">'quesCnt'</span>,                           \n",
       "                    <span style=\"color: #008000\">'correctPer'</span><span style=\"font-weight: bold\">]</span>,                                                           \n",
       "                          <span style=\"color: #808000\">dtype</span>=<span style=\"color: #008000\">'object'</span><span style=\"font-weight: bold\">)</span>                                                    \n",
       "</pre>\n"
      ],
      "text/plain": [
       "<rich.jupyter.JupyterRenderable at 0x7fa9450228e0>"
      ]
     },
     "metadata": {},
     "output_type": "display_data"
    }
   ],
   "source": [
    "preprocess.feature_engineering()"
   ]
  },
  {
   "cell_type": "code",
   "execution_count": 111,
   "metadata": {},
   "outputs": [],
   "source": [
    "preprocess.datas['train'] = pd.concat([preprocess.datas['train'], train_set[add_columns]], axis=1)\n",
    "preprocess.datas['test'] = pd.concat([preprocess.datas['test'], test_set[add_columns]], axis=1)"
   ]
  },
  {
   "cell_type": "code",
   "execution_count": 112,
   "metadata": {},
   "outputs": [],
   "source": [
    "preprocess.columns += add_columns"
   ]
  },
  {
   "cell_type": "code",
   "execution_count": 113,
   "metadata": {},
   "outputs": [
    {
     "name": "stdout",
     "output_type": "stream",
     "text": [
      "['userID', 'answerCode', 'testPaper', 'firstClass', 'secondClass', 'timeSec', 'userPer', 'assPer', 'firPer', 'testPer', 'secPer']\n"
     ]
    }
   ],
   "source": [
    "print(preprocess.columns)"
   ]
  },
  {
   "cell_type": "code",
   "execution_count": 114,
   "metadata": {
    "collapsed": true,
    "jupyter": {
     "outputs_hidden": true
    }
   },
   "outputs": [
    {
     "name": "stderr",
     "output_type": "stream",
     "text": [
      "Split based on User\n",
      "Split based on User\n",
      "Split based on User\n",
      "Split based on User\n",
      "Split based on User\n"
     ]
    },
    {
     "data": {
      "text/html": [
       "<pre style=\"white-space:pre;overflow-x:auto;line-height:normal;font-family:Menlo,'DejaVu Sans Mono',consolas,'Courier New',monospace\"><span style=\"color: #7fbfbf\">[13:47:01] </span><span style=\"color: #000080\">INFO    </span> Split based on User                                     <a href=\"file:///home/j-gunmo/desktop/00.my-project/17.P-Stage-T1003/4-STAGE/dkt_dataset.py\"><span style=\"color: #7f7f7f\">dkt_dataset.py</span></a><span style=\"color: #7f7f7f\">:91</span>\n",
       "</pre>\n"
      ],
      "text/plain": [
       "<rich.jupyter.JupyterRenderable at 0x7fa9536d9eb0>"
      ]
     },
     "metadata": {},
     "output_type": "display_data"
    },
    {
     "name": "stderr",
     "output_type": "stream",
     "text": [
      "Original Train Dataset: 2266586\n",
      "Original Train Dataset: 2266586\n",
      "Original Train Dataset: 2266586\n",
      "Original Train Dataset: 2266586\n",
      "Original Train Dataset: 2266586\n"
     ]
    },
    {
     "data": {
      "text/html": [
       "<pre style=\"white-space:pre;overflow-x:auto;line-height:normal;font-family:Menlo,'DejaVu Sans Mono',consolas,'Courier New',monospace\"><span style=\"color: #7fbfbf\">           </span><span style=\"color: #000080\">INFO    </span> Original Train Dataset: <span style=\"color: #000080; font-weight: bold\">2266586</span>                         <a href=\"file:///home/j-gunmo/desktop/00.my-project/17.P-Stage-T1003/4-STAGE/dkt_dataset.py\"><span style=\"color: #7f7f7f\">dkt_dataset.py</span></a><span style=\"color: #7f7f7f\">:92</span>\n",
       "</pre>\n"
      ],
      "text/plain": [
       "<rich.jupyter.JupyterRenderable at 0x7fa94129cd90>"
      ]
     },
     "metadata": {},
     "output_type": "display_data"
    },
    {
     "name": "stderr",
     "output_type": "stream",
     "text": [
      "Split Train Dataset: 1582219\n",
      "Split Train Dataset: 1582219\n",
      "Split Train Dataset: 1582219\n",
      "Split Train Dataset: 1582219\n",
      "Split Train Dataset: 1582219\n"
     ]
    },
    {
     "data": {
      "text/html": [
       "<pre style=\"white-space:pre;overflow-x:auto;line-height:normal;font-family:Menlo,'DejaVu Sans Mono',consolas,'Courier New',monospace\"><span style=\"color: #7fbfbf\">[13:47:02] </span><span style=\"color: #000080\">INFO    </span> Split Train Dataset: <span style=\"color: #000080; font-weight: bold\">1582219</span>                           <a href=\"file:///home/j-gunmo/desktop/00.my-project/17.P-Stage-T1003/4-STAGE/dkt_dataset.py\"><span style=\"color: #7f7f7f\">dkt_dataset.py</span></a><span style=\"color: #7f7f7f\">:105</span>\n",
       "</pre>\n"
      ],
      "text/plain": [
       "<rich.jupyter.JupyterRenderable at 0x7fa9510f48b0>"
      ]
     },
     "metadata": {},
     "output_type": "display_data"
    },
    {
     "name": "stderr",
     "output_type": "stream",
     "text": [
      "Split Valid Dataset: 684367\n",
      "Split Valid Dataset: 684367\n",
      "Split Valid Dataset: 684367\n",
      "Split Valid Dataset: 684367\n",
      "Split Valid Dataset: 684367\n"
     ]
    },
    {
     "data": {
      "text/html": [
       "<pre style=\"white-space:pre;overflow-x:auto;line-height:normal;font-family:Menlo,'DejaVu Sans Mono',consolas,'Courier New',monospace\"><span style=\"color: #7fbfbf\">           </span><span style=\"color: #000080\">INFO    </span> Split Valid Dataset: <span style=\"color: #000080; font-weight: bold\">684367</span>                            <a href=\"file:///home/j-gunmo/desktop/00.my-project/17.P-Stage-T1003/4-STAGE/dkt_dataset.py\"><span style=\"color: #7f7f7f\">dkt_dataset.py</span></a><span style=\"color: #7f7f7f\">:106</span>\n",
       "</pre>\n"
      ],
      "text/plain": [
       "<rich.jupyter.JupyterRenderable at 0x7fa9510cffd0>"
      ]
     },
     "metadata": {},
     "output_type": "display_data"
    }
   ],
   "source": [
    "preprocess.split_data()"
   ]
  },
  {
   "cell_type": "code",
   "execution_count": 118,
   "metadata": {},
   "outputs": [
    {
     "data": {
      "text/html": [
       "<div>\n",
       "<style scoped>\n",
       "    .dataframe tbody tr th:only-of-type {\n",
       "        vertical-align: middle;\n",
       "    }\n",
       "\n",
       "    .dataframe tbody tr th {\n",
       "        vertical-align: top;\n",
       "    }\n",
       "\n",
       "    .dataframe thead th {\n",
       "        text-align: right;\n",
       "    }\n",
       "</style>\n",
       "<table border=\"1\" class=\"dataframe\">\n",
       "  <thead>\n",
       "    <tr style=\"text-align: right;\">\n",
       "      <th></th>\n",
       "      <th>userID</th>\n",
       "      <th>answerCode</th>\n",
       "      <th>testPaper</th>\n",
       "      <th>firstClass</th>\n",
       "      <th>secondClass</th>\n",
       "      <th>timeSec</th>\n",
       "      <th>userPer</th>\n",
       "      <th>assPer</th>\n",
       "      <th>firPer</th>\n",
       "      <th>testPer</th>\n",
       "      <th>secPer</th>\n",
       "    </tr>\n",
       "  </thead>\n",
       "  <tbody>\n",
       "    <tr>\n",
       "      <th>0</th>\n",
       "      <td>0</td>\n",
       "      <td>1</td>\n",
       "      <td>975</td>\n",
       "      <td>5</td>\n",
       "      <td>618</td>\n",
       "      <td>-1.435761</td>\n",
       "      <td>0.791908</td>\n",
       "      <td>0.984954</td>\n",
       "      <td>0.738852</td>\n",
       "      <td>0.987599</td>\n",
       "      <td>0.971153</td>\n",
       "    </tr>\n",
       "    <tr>\n",
       "      <th>1</th>\n",
       "      <td>0</td>\n",
       "      <td>1</td>\n",
       "      <td>975</td>\n",
       "      <td>5</td>\n",
       "      <td>619</td>\n",
       "      <td>-1.435760</td>\n",
       "      <td>0.791908</td>\n",
       "      <td>0.966010</td>\n",
       "      <td>0.738852</td>\n",
       "      <td>0.987599</td>\n",
       "      <td>0.918119</td>\n",
       "    </tr>\n",
       "    <tr>\n",
       "      <th>2</th>\n",
       "      <td>0</td>\n",
       "      <td>1</td>\n",
       "      <td>975</td>\n",
       "      <td>5</td>\n",
       "      <td>619</td>\n",
       "      <td>-1.435759</td>\n",
       "      <td>0.791908</td>\n",
       "      <td>0.909180</td>\n",
       "      <td>0.738852</td>\n",
       "      <td>0.987599</td>\n",
       "      <td>0.918119</td>\n",
       "    </tr>\n",
       "  </tbody>\n",
       "</table>\n",
       "</div>"
      ],
      "text/plain": [
       "   userID  answerCode  testPaper  firstClass  secondClass   timeSec   userPer  \\\n",
       "0       0           1        975           5          618 -1.435761  0.791908   \n",
       "1       0           1        975           5          619 -1.435760  0.791908   \n",
       "2       0           1        975           5          619 -1.435759  0.791908   \n",
       "\n",
       "     assPer    firPer   testPer    secPer  \n",
       "0  0.984954  0.738852  0.987599  0.971153  \n",
       "1  0.966010  0.738852  0.987599  0.918119  \n",
       "2  0.909180  0.738852  0.987599  0.918119  "
      ]
     },
     "execution_count": 118,
     "metadata": {},
     "output_type": "execute_result"
    }
   ],
   "source": [
    "preprocess.datas['train'].head(3)"
   ]
  },
  {
   "cell_type": "code",
   "execution_count": 116,
   "metadata": {
    "collapsed": true,
    "jupyter": {
     "outputs_hidden": true
    }
   },
   "outputs": [
    {
     "name": "stderr",
     "output_type": "stream",
     "text": [
      "Preprocessing Labels .. \n",
      "Preprocessing Labels .. \n",
      "Preprocessing Labels .. \n",
      "Preprocessing Labels .. \n",
      "Preprocessing Labels .. \n"
     ]
    },
    {
     "data": {
      "text/html": [
       "<pre style=\"white-space:pre;overflow-x:auto;line-height:normal;font-family:Menlo,'DejaVu Sans Mono',consolas,'Courier New',monospace\"><span style=\"color: #7fbfbf\">[13:47:10] </span><span style=\"color: #000080\">INFO    </span> Preprocessing Labels ..                                <a href=\"file:///home/j-gunmo/desktop/00.my-project/17.P-Stage-T1003/4-STAGE/dkt_dataset.py\"><span style=\"color: #7f7f7f\">dkt_dataset.py</span></a><span style=\"color: #7f7f7f\">:207</span>\n",
       "</pre>\n"
      ],
      "text/plain": [
       "<rich.jupyter.JupyterRenderable at 0x7fa951744190>"
      ]
     },
     "metadata": {},
     "output_type": "display_data"
    },
    {
     "name": "stderr",
     "output_type": "stream",
     "text": [
      "Label Columns: ['testPaper', 'firstClass', 'secondClass']\n",
      "Label Columns: ['testPaper', 'firstClass', 'secondClass']\n",
      "Label Columns: ['testPaper', 'firstClass', 'secondClass']\n",
      "Label Columns: ['testPaper', 'firstClass', 'secondClass']\n",
      "Label Columns: ['testPaper', 'firstClass', 'secondClass']\n"
     ]
    },
    {
     "data": {
      "text/html": [
       "<pre style=\"white-space:pre;overflow-x:auto;line-height:normal;font-family:Menlo,'DejaVu Sans Mono',consolas,'Courier New',monospace\"><span style=\"color: #7fbfbf\">           </span><span style=\"color: #000080\">INFO    </span> Label Columns: <span style=\"font-weight: bold\">[</span><span style=\"color: #008000\">'testPaper'</span>, <span style=\"color: #008000\">'firstClass'</span>,             <a href=\"file:///home/j-gunmo/desktop/00.my-project/17.P-Stage-T1003/4-STAGE/dkt_dataset.py\"><span style=\"color: #7f7f7f\">dkt_dataset.py</span></a><span style=\"color: #7f7f7f\">:208</span>\n",
       "                    <span style=\"color: #008000\">'secondClass'</span><span style=\"font-weight: bold\">]</span>                                                           \n",
       "</pre>\n"
      ],
      "text/plain": [
       "<rich.jupyter.JupyterRenderable at 0x7fa940c0dac0>"
      ]
     },
     "metadata": {},
     "output_type": "display_data"
    },
    {
     "name": "stderr",
     "output_type": "stream",
     "text": [
      "\n",
      "Length of testPaper            : 1538\n",
      "\n",
      "Length of testPaper            : 1538\n",
      "\n",
      "Length of testPaper            : 1538\n",
      "\n",
      "Length of testPaper            : 1538\n",
      "\n",
      "Length of testPaper            : 1538\n"
     ]
    },
    {
     "data": {
      "text/html": [
       "<pre style=\"white-space:pre;overflow-x:auto;line-height:normal;font-family:Menlo,'DejaVu Sans Mono',consolas,'Courier New',monospace\"><span style=\"color: #7fbfbf\">           </span><span style=\"color: #000080\">INFO    </span>                                                        <a href=\"file:///home/j-gunmo/desktop/00.my-project/17.P-Stage-T1003/4-STAGE/dkt_dataset.py\"><span style=\"color: #7f7f7f\">dkt_dataset.py</span></a><span style=\"color: #7f7f7f\">:216</span>\n",
       "                    Length of testPaper            : <span style=\"color: #000080; font-weight: bold\">1538</span>                                    \n",
       "</pre>\n"
      ],
      "text/plain": [
       "<rich.jupyter.JupyterRenderable at 0x7fa94502eac0>"
      ]
     },
     "metadata": {},
     "output_type": "display_data"
    },
    {
     "name": "stderr",
     "output_type": "stream",
     "text": [
      "Before : 0    060001\n",
      "1    060001\n",
      "2    060001\n",
      "3    060001\n",
      "4    060001\n",
      "5    060001\n",
      "6    060003\n",
      "7    060003\n",
      "8    060003\n",
      "9    060003\n",
      "Name: testPaper, dtype: object\n",
      "Before : 0    060001\n",
      "1    060001\n",
      "2    060001\n",
      "3    060001\n",
      "4    060001\n",
      "5    060001\n",
      "6    060003\n",
      "7    060003\n",
      "8    060003\n",
      "9    060003\n",
      "Name: testPaper, dtype: object\n",
      "Before : 0    060001\n",
      "1    060001\n",
      "2    060001\n",
      "3    060001\n",
      "4    060001\n",
      "5    060001\n",
      "6    060003\n",
      "7    060003\n",
      "8    060003\n",
      "9    060003\n",
      "Name: testPaper, dtype: object\n",
      "Before : 0    060001\n",
      "1    060001\n",
      "2    060001\n",
      "3    060001\n",
      "4    060001\n",
      "5    060001\n",
      "6    060003\n",
      "7    060003\n",
      "8    060003\n",
      "9    060003\n",
      "Name: testPaper, dtype: object\n",
      "Before : 0    060001\n",
      "1    060001\n",
      "2    060001\n",
      "3    060001\n",
      "4    060001\n",
      "5    060001\n",
      "6    060003\n",
      "7    060003\n",
      "8    060003\n",
      "9    060003\n",
      "Name: testPaper, dtype: object\n"
     ]
    },
    {
     "data": {
      "text/html": [
       "<pre style=\"white-space:pre;overflow-x:auto;line-height:normal;font-family:Menlo,'DejaVu Sans Mono',consolas,'Courier New',monospace\"><span style=\"color: #7fbfbf\">           </span><span style=\"color: #000080\">INFO    </span> Before : <span style=\"color: #000080; font-weight: bold\">0</span>    <span style=\"color: #000080; font-weight: bold\">060001</span>                                   <a href=\"file:///home/j-gunmo/desktop/00.my-project/17.P-Stage-T1003/4-STAGE/dkt_dataset.py\"><span style=\"color: #7f7f7f\">dkt_dataset.py</span></a><span style=\"color: #7f7f7f\">:221</span>\n",
       "                    <span style=\"color: #000080; font-weight: bold\">1</span>    <span style=\"color: #000080; font-weight: bold\">060001</span>                                                              \n",
       "                    <span style=\"color: #000080; font-weight: bold\">2</span>    <span style=\"color: #000080; font-weight: bold\">060001</span>                                                              \n",
       "                    <span style=\"color: #000080; font-weight: bold\">3</span>    <span style=\"color: #000080; font-weight: bold\">060001</span>                                                              \n",
       "                    <span style=\"color: #000080; font-weight: bold\">4</span>    <span style=\"color: #000080; font-weight: bold\">060001</span>                                                              \n",
       "                    <span style=\"color: #000080; font-weight: bold\">5</span>    <span style=\"color: #000080; font-weight: bold\">060001</span>                                                              \n",
       "                    <span style=\"color: #000080; font-weight: bold\">6</span>    <span style=\"color: #000080; font-weight: bold\">060003</span>                                                              \n",
       "                    <span style=\"color: #000080; font-weight: bold\">7</span>    <span style=\"color: #000080; font-weight: bold\">060003</span>                                                              \n",
       "                    <span style=\"color: #000080; font-weight: bold\">8</span>    <span style=\"color: #000080; font-weight: bold\">060003</span>                                                              \n",
       "                    <span style=\"color: #000080; font-weight: bold\">9</span>    <span style=\"color: #000080; font-weight: bold\">060003</span>                                                              \n",
       "                    Name: testPaper, dtype: object                                           \n",
       "</pre>\n"
      ],
      "text/plain": [
       "<rich.jupyter.JupyterRenderable at 0x7fa940c0e040>"
      ]
     },
     "metadata": {},
     "output_type": "display_data"
    },
    {
     "name": "stderr",
     "output_type": "stream",
     "text": [
      "After : 0    975\n",
      "1    975\n",
      "2    975\n",
      "3    975\n",
      "4    975\n",
      "5    975\n",
      "6    977\n",
      "7    977\n",
      "8    977\n",
      "9    977\n",
      "Name: testPaper, dtype: int64\n",
      "After : 0    975\n",
      "1    975\n",
      "2    975\n",
      "3    975\n",
      "4    975\n",
      "5    975\n",
      "6    977\n",
      "7    977\n",
      "8    977\n",
      "9    977\n",
      "Name: testPaper, dtype: int64\n",
      "After : 0    975\n",
      "1    975\n",
      "2    975\n",
      "3    975\n",
      "4    975\n",
      "5    975\n",
      "6    977\n",
      "7    977\n",
      "8    977\n",
      "9    977\n",
      "Name: testPaper, dtype: int64\n",
      "After : 0    975\n",
      "1    975\n",
      "2    975\n",
      "3    975\n",
      "4    975\n",
      "5    975\n",
      "6    977\n",
      "7    977\n",
      "8    977\n",
      "9    977\n",
      "Name: testPaper, dtype: int64\n",
      "After : 0    975\n",
      "1    975\n",
      "2    975\n",
      "3    975\n",
      "4    975\n",
      "5    975\n",
      "6    977\n",
      "7    977\n",
      "8    977\n",
      "9    977\n",
      "Name: testPaper, dtype: int64\n"
     ]
    },
    {
     "data": {
      "text/html": [
       "<pre style=\"white-space:pre;overflow-x:auto;line-height:normal;font-family:Menlo,'DejaVu Sans Mono',consolas,'Courier New',monospace\"><span style=\"color: #7fbfbf\">[13:47:11] </span><span style=\"color: #000080\">INFO    </span> After : <span style=\"color: #000080; font-weight: bold\">0</span>    <span style=\"color: #000080; font-weight: bold\">975</span>                                       <a href=\"file:///home/j-gunmo/desktop/00.my-project/17.P-Stage-T1003/4-STAGE/dkt_dataset.py\"><span style=\"color: #7f7f7f\">dkt_dataset.py</span></a><span style=\"color: #7f7f7f\">:224</span>\n",
       "                    <span style=\"color: #000080; font-weight: bold\">1</span>    <span style=\"color: #000080; font-weight: bold\">975</span>                                                                 \n",
       "                    <span style=\"color: #000080; font-weight: bold\">2</span>    <span style=\"color: #000080; font-weight: bold\">975</span>                                                                 \n",
       "                    <span style=\"color: #000080; font-weight: bold\">3</span>    <span style=\"color: #000080; font-weight: bold\">975</span>                                                                 \n",
       "                    <span style=\"color: #000080; font-weight: bold\">4</span>    <span style=\"color: #000080; font-weight: bold\">975</span>                                                                 \n",
       "                    <span style=\"color: #000080; font-weight: bold\">5</span>    <span style=\"color: #000080; font-weight: bold\">975</span>                                                                 \n",
       "                    <span style=\"color: #000080; font-weight: bold\">6</span>    <span style=\"color: #000080; font-weight: bold\">977</span>                                                                 \n",
       "                    <span style=\"color: #000080; font-weight: bold\">7</span>    <span style=\"color: #000080; font-weight: bold\">977</span>                                                                 \n",
       "                    <span style=\"color: #000080; font-weight: bold\">8</span>    <span style=\"color: #000080; font-weight: bold\">977</span>                                                                 \n",
       "                    <span style=\"color: #000080; font-weight: bold\">9</span>    <span style=\"color: #000080; font-weight: bold\">977</span>                                                                 \n",
       "                    Name: testPaper, dtype: int64                                            \n",
       "</pre>\n"
      ],
      "text/plain": [
       "<rich.jupyter.JupyterRenderable at 0x7fa94129f7f0>"
      ]
     },
     "metadata": {},
     "output_type": "display_data"
    },
    {
     "name": "stderr",
     "output_type": "stream",
     "text": [
      "\n",
      "Length of firstClass           : 10\n",
      "\n",
      "Length of firstClass           : 10\n",
      "\n",
      "Length of firstClass           : 10\n",
      "\n",
      "Length of firstClass           : 10\n",
      "\n",
      "Length of firstClass           : 10\n"
     ]
    },
    {
     "data": {
      "text/html": [
       "<pre style=\"white-space:pre;overflow-x:auto;line-height:normal;font-family:Menlo,'DejaVu Sans Mono',consolas,'Courier New',monospace\"><span style=\"color: #7fbfbf\">[13:47:18] </span><span style=\"color: #000080\">INFO    </span>                                                        <a href=\"file:///home/j-gunmo/desktop/00.my-project/17.P-Stage-T1003/4-STAGE/dkt_dataset.py\"><span style=\"color: #7f7f7f\">dkt_dataset.py</span></a><span style=\"color: #7f7f7f\">:216</span>\n",
       "                    Length of firstClass           : <span style=\"color: #000080; font-weight: bold\">10</span>                                      \n",
       "</pre>\n"
      ],
      "text/plain": [
       "<rich.jupyter.JupyterRenderable at 0x7fa9536d9940>"
      ]
     },
     "metadata": {},
     "output_type": "display_data"
    },
    {
     "name": "stderr",
     "output_type": "stream",
     "text": [
      "Before : 0    6\n",
      "1    6\n",
      "2    6\n",
      "3    6\n",
      "4    6\n",
      "5    6\n",
      "6    6\n",
      "7    6\n",
      "8    6\n",
      "9    6\n",
      "Name: firstClass, dtype: object\n",
      "Before : 0    6\n",
      "1    6\n",
      "2    6\n",
      "3    6\n",
      "4    6\n",
      "5    6\n",
      "6    6\n",
      "7    6\n",
      "8    6\n",
      "9    6\n",
      "Name: firstClass, dtype: object\n",
      "Before : 0    6\n",
      "1    6\n",
      "2    6\n",
      "3    6\n",
      "4    6\n",
      "5    6\n",
      "6    6\n",
      "7    6\n",
      "8    6\n",
      "9    6\n",
      "Name: firstClass, dtype: object\n",
      "Before : 0    6\n",
      "1    6\n",
      "2    6\n",
      "3    6\n",
      "4    6\n",
      "5    6\n",
      "6    6\n",
      "7    6\n",
      "8    6\n",
      "9    6\n",
      "Name: firstClass, dtype: object\n",
      "Before : 0    6\n",
      "1    6\n",
      "2    6\n",
      "3    6\n",
      "4    6\n",
      "5    6\n",
      "6    6\n",
      "7    6\n",
      "8    6\n",
      "9    6\n",
      "Name: firstClass, dtype: object\n"
     ]
    },
    {
     "data": {
      "text/html": [
       "<pre style=\"white-space:pre;overflow-x:auto;line-height:normal;font-family:Menlo,'DejaVu Sans Mono',consolas,'Courier New',monospace\"><span style=\"color: #7fbfbf\">[13:47:19] </span><span style=\"color: #000080\">INFO    </span> Before : <span style=\"color: #000080; font-weight: bold\">0</span>    <span style=\"color: #000080; font-weight: bold\">6</span>                                        <a href=\"file:///home/j-gunmo/desktop/00.my-project/17.P-Stage-T1003/4-STAGE/dkt_dataset.py\"><span style=\"color: #7f7f7f\">dkt_dataset.py</span></a><span style=\"color: #7f7f7f\">:221</span>\n",
       "                    <span style=\"color: #000080; font-weight: bold\">1</span>    <span style=\"color: #000080; font-weight: bold\">6</span>                                                                   \n",
       "                    <span style=\"color: #000080; font-weight: bold\">2</span>    <span style=\"color: #000080; font-weight: bold\">6</span>                                                                   \n",
       "                    <span style=\"color: #000080; font-weight: bold\">3</span>    <span style=\"color: #000080; font-weight: bold\">6</span>                                                                   \n",
       "                    <span style=\"color: #000080; font-weight: bold\">4</span>    <span style=\"color: #000080; font-weight: bold\">6</span>                                                                   \n",
       "                    <span style=\"color: #000080; font-weight: bold\">5</span>    <span style=\"color: #000080; font-weight: bold\">6</span>                                                                   \n",
       "                    <span style=\"color: #000080; font-weight: bold\">6</span>    <span style=\"color: #000080; font-weight: bold\">6</span>                                                                   \n",
       "                    <span style=\"color: #000080; font-weight: bold\">7</span>    <span style=\"color: #000080; font-weight: bold\">6</span>                                                                   \n",
       "                    <span style=\"color: #000080; font-weight: bold\">8</span>    <span style=\"color: #000080; font-weight: bold\">6</span>                                                                   \n",
       "                    <span style=\"color: #000080; font-weight: bold\">9</span>    <span style=\"color: #000080; font-weight: bold\">6</span>                                                                   \n",
       "                    Name: firstClass, dtype: object                                          \n",
       "</pre>\n"
      ],
      "text/plain": [
       "<rich.jupyter.JupyterRenderable at 0x7fa94502e520>"
      ]
     },
     "metadata": {},
     "output_type": "display_data"
    },
    {
     "name": "stderr",
     "output_type": "stream",
     "text": [
      "After : 0    5\n",
      "1    5\n",
      "2    5\n",
      "3    5\n",
      "4    5\n",
      "5    5\n",
      "6    5\n",
      "7    5\n",
      "8    5\n",
      "9    5\n",
      "Name: firstClass, dtype: int64\n",
      "After : 0    5\n",
      "1    5\n",
      "2    5\n",
      "3    5\n",
      "4    5\n",
      "5    5\n",
      "6    5\n",
      "7    5\n",
      "8    5\n",
      "9    5\n",
      "Name: firstClass, dtype: int64\n",
      "After : 0    5\n",
      "1    5\n",
      "2    5\n",
      "3    5\n",
      "4    5\n",
      "5    5\n",
      "6    5\n",
      "7    5\n",
      "8    5\n",
      "9    5\n",
      "Name: firstClass, dtype: int64\n",
      "After : 0    5\n",
      "1    5\n",
      "2    5\n",
      "3    5\n",
      "4    5\n",
      "5    5\n",
      "6    5\n",
      "7    5\n",
      "8    5\n",
      "9    5\n",
      "Name: firstClass, dtype: int64\n",
      "After : 0    5\n",
      "1    5\n",
      "2    5\n",
      "3    5\n",
      "4    5\n",
      "5    5\n",
      "6    5\n",
      "7    5\n",
      "8    5\n",
      "9    5\n",
      "Name: firstClass, dtype: int64\n"
     ]
    },
    {
     "data": {
      "text/html": [
       "<pre style=\"white-space:pre;overflow-x:auto;line-height:normal;font-family:Menlo,'DejaVu Sans Mono',consolas,'Courier New',monospace\"><span style=\"color: #7fbfbf\">           </span><span style=\"color: #000080\">INFO    </span> After : <span style=\"color: #000080; font-weight: bold\">0</span>    <span style=\"color: #000080; font-weight: bold\">5</span>                                         <a href=\"file:///home/j-gunmo/desktop/00.my-project/17.P-Stage-T1003/4-STAGE/dkt_dataset.py\"><span style=\"color: #7f7f7f\">dkt_dataset.py</span></a><span style=\"color: #7f7f7f\">:224</span>\n",
       "                    <span style=\"color: #000080; font-weight: bold\">1</span>    <span style=\"color: #000080; font-weight: bold\">5</span>                                                                   \n",
       "                    <span style=\"color: #000080; font-weight: bold\">2</span>    <span style=\"color: #000080; font-weight: bold\">5</span>                                                                   \n",
       "                    <span style=\"color: #000080; font-weight: bold\">3</span>    <span style=\"color: #000080; font-weight: bold\">5</span>                                                                   \n",
       "                    <span style=\"color: #000080; font-weight: bold\">4</span>    <span style=\"color: #000080; font-weight: bold\">5</span>                                                                   \n",
       "                    <span style=\"color: #000080; font-weight: bold\">5</span>    <span style=\"color: #000080; font-weight: bold\">5</span>                                                                   \n",
       "                    <span style=\"color: #000080; font-weight: bold\">6</span>    <span style=\"color: #000080; font-weight: bold\">5</span>                                                                   \n",
       "                    <span style=\"color: #000080; font-weight: bold\">7</span>    <span style=\"color: #000080; font-weight: bold\">5</span>                                                                   \n",
       "                    <span style=\"color: #000080; font-weight: bold\">8</span>    <span style=\"color: #000080; font-weight: bold\">5</span>                                                                   \n",
       "                    <span style=\"color: #000080; font-weight: bold\">9</span>    <span style=\"color: #000080; font-weight: bold\">5</span>                                                                   \n",
       "                    Name: firstClass, dtype: int64                                           \n",
       "</pre>\n"
      ],
      "text/plain": [
       "<rich.jupyter.JupyterRenderable at 0x7fa951744d60>"
      ]
     },
     "metadata": {},
     "output_type": "display_data"
    },
    {
     "name": "stderr",
     "output_type": "stream",
     "text": [
      "\n",
      "Length of secondClass          : 913\n",
      "\n",
      "Length of secondClass          : 913\n",
      "\n",
      "Length of secondClass          : 913\n",
      "\n",
      "Length of secondClass          : 913\n",
      "\n",
      "Length of secondClass          : 913\n"
     ]
    },
    {
     "data": {
      "text/html": [
       "<pre style=\"white-space:pre;overflow-x:auto;line-height:normal;font-family:Menlo,'DejaVu Sans Mono',consolas,'Courier New',monospace\"><span style=\"color: #7fbfbf\">           </span><span style=\"color: #000080\">INFO    </span>                                                        <a href=\"file:///home/j-gunmo/desktop/00.my-project/17.P-Stage-T1003/4-STAGE/dkt_dataset.py\"><span style=\"color: #7f7f7f\">dkt_dataset.py</span></a><span style=\"color: #7f7f7f\">:216</span>\n",
       "                    Length of secondClass          : <span style=\"color: #000080; font-weight: bold\">913</span>                                     \n",
       "</pre>\n"
      ],
      "text/plain": [
       "<rich.jupyter.JupyterRenderable at 0x7fa940c0dac0>"
      ]
     },
     "metadata": {},
     "output_type": "display_data"
    },
    {
     "name": "stderr",
     "output_type": "stream",
     "text": [
      "Before : 0    7224\n",
      "1    7225\n",
      "2    7225\n",
      "3    7225\n",
      "4    7225\n",
      "5    7225\n",
      "6    7226\n",
      "7    7226\n",
      "8    7226\n",
      "9    7226\n",
      "Name: secondClass, dtype: object\n",
      "Before : 0    7224\n",
      "1    7225\n",
      "2    7225\n",
      "3    7225\n",
      "4    7225\n",
      "5    7225\n",
      "6    7226\n",
      "7    7226\n",
      "8    7226\n",
      "9    7226\n",
      "Name: secondClass, dtype: object\n",
      "Before : 0    7224\n",
      "1    7225\n",
      "2    7225\n",
      "3    7225\n",
      "4    7225\n",
      "5    7225\n",
      "6    7226\n",
      "7    7226\n",
      "8    7226\n",
      "9    7226\n",
      "Name: secondClass, dtype: object\n",
      "Before : 0    7224\n",
      "1    7225\n",
      "2    7225\n",
      "3    7225\n",
      "4    7225\n",
      "5    7225\n",
      "6    7226\n",
      "7    7226\n",
      "8    7226\n",
      "9    7226\n",
      "Name: secondClass, dtype: object\n",
      "Before : 0    7224\n",
      "1    7225\n",
      "2    7225\n",
      "3    7225\n",
      "4    7225\n",
      "5    7225\n",
      "6    7226\n",
      "7    7226\n",
      "8    7226\n",
      "9    7226\n",
      "Name: secondClass, dtype: object\n"
     ]
    },
    {
     "data": {
      "text/html": [
       "<pre style=\"white-space:pre;overflow-x:auto;line-height:normal;font-family:Menlo,'DejaVu Sans Mono',consolas,'Courier New',monospace\"><span style=\"color: #7fbfbf\">           </span><span style=\"color: #000080\">INFO    </span> Before : <span style=\"color: #000080; font-weight: bold\">0</span>    <span style=\"color: #000080; font-weight: bold\">7224</span>                                     <a href=\"file:///home/j-gunmo/desktop/00.my-project/17.P-Stage-T1003/4-STAGE/dkt_dataset.py\"><span style=\"color: #7f7f7f\">dkt_dataset.py</span></a><span style=\"color: #7f7f7f\">:221</span>\n",
       "                    <span style=\"color: #000080; font-weight: bold\">1</span>    <span style=\"color: #000080; font-weight: bold\">7225</span>                                                                \n",
       "                    <span style=\"color: #000080; font-weight: bold\">2</span>    <span style=\"color: #000080; font-weight: bold\">7225</span>                                                                \n",
       "                    <span style=\"color: #000080; font-weight: bold\">3</span>    <span style=\"color: #000080; font-weight: bold\">7225</span>                                                                \n",
       "                    <span style=\"color: #000080; font-weight: bold\">4</span>    <span style=\"color: #000080; font-weight: bold\">7225</span>                                                                \n",
       "                    <span style=\"color: #000080; font-weight: bold\">5</span>    <span style=\"color: #000080; font-weight: bold\">7225</span>                                                                \n",
       "                    <span style=\"color: #000080; font-weight: bold\">6</span>    <span style=\"color: #000080; font-weight: bold\">7226</span>                                                                \n",
       "                    <span style=\"color: #000080; font-weight: bold\">7</span>    <span style=\"color: #000080; font-weight: bold\">7226</span>                                                                \n",
       "                    <span style=\"color: #000080; font-weight: bold\">8</span>    <span style=\"color: #000080; font-weight: bold\">7226</span>                                                                \n",
       "                    <span style=\"color: #000080; font-weight: bold\">9</span>    <span style=\"color: #000080; font-weight: bold\">7226</span>                                                                \n",
       "                    Name: secondClass, dtype: object                                         \n",
       "</pre>\n"
      ],
      "text/plain": [
       "<rich.jupyter.JupyterRenderable at 0x7fa940c0e0d0>"
      ]
     },
     "metadata": {},
     "output_type": "display_data"
    },
    {
     "name": "stderr",
     "output_type": "stream",
     "text": [
      "After : 0    618\n",
      "1    619\n",
      "2    619\n",
      "3    619\n",
      "4    619\n",
      "5    619\n",
      "6    620\n",
      "7    620\n",
      "8    620\n",
      "9    620\n",
      "Name: secondClass, dtype: int64\n",
      "After : 0    618\n",
      "1    619\n",
      "2    619\n",
      "3    619\n",
      "4    619\n",
      "5    619\n",
      "6    620\n",
      "7    620\n",
      "8    620\n",
      "9    620\n",
      "Name: secondClass, dtype: int64\n",
      "After : 0    618\n",
      "1    619\n",
      "2    619\n",
      "3    619\n",
      "4    619\n",
      "5    619\n",
      "6    620\n",
      "7    620\n",
      "8    620\n",
      "9    620\n",
      "Name: secondClass, dtype: int64\n",
      "After : 0    618\n",
      "1    619\n",
      "2    619\n",
      "3    619\n",
      "4    619\n",
      "5    619\n",
      "6    620\n",
      "7    620\n",
      "8    620\n",
      "9    620\n",
      "Name: secondClass, dtype: int64\n",
      "After : 0    618\n",
      "1    619\n",
      "2    619\n",
      "3    619\n",
      "4    619\n",
      "5    619\n",
      "6    620\n",
      "7    620\n",
      "8    620\n",
      "9    620\n",
      "Name: secondClass, dtype: int64\n"
     ]
    },
    {
     "data": {
      "text/html": [
       "<pre style=\"white-space:pre;overflow-x:auto;line-height:normal;font-family:Menlo,'DejaVu Sans Mono',consolas,'Courier New',monospace\"><span style=\"color: #7fbfbf\">[13:47:20] </span><span style=\"color: #000080\">INFO    </span> After : <span style=\"color: #000080; font-weight: bold\">0</span>    <span style=\"color: #000080; font-weight: bold\">618</span>                                       <a href=\"file:///home/j-gunmo/desktop/00.my-project/17.P-Stage-T1003/4-STAGE/dkt_dataset.py\"><span style=\"color: #7f7f7f\">dkt_dataset.py</span></a><span style=\"color: #7f7f7f\">:224</span>\n",
       "                    <span style=\"color: #000080; font-weight: bold\">1</span>    <span style=\"color: #000080; font-weight: bold\">619</span>                                                                 \n",
       "                    <span style=\"color: #000080; font-weight: bold\">2</span>    <span style=\"color: #000080; font-weight: bold\">619</span>                                                                 \n",
       "                    <span style=\"color: #000080; font-weight: bold\">3</span>    <span style=\"color: #000080; font-weight: bold\">619</span>                                                                 \n",
       "                    <span style=\"color: #000080; font-weight: bold\">4</span>    <span style=\"color: #000080; font-weight: bold\">619</span>                                                                 \n",
       "                    <span style=\"color: #000080; font-weight: bold\">5</span>    <span style=\"color: #000080; font-weight: bold\">619</span>                                                                 \n",
       "                    <span style=\"color: #000080; font-weight: bold\">6</span>    <span style=\"color: #000080; font-weight: bold\">620</span>                                                                 \n",
       "                    <span style=\"color: #000080; font-weight: bold\">7</span>    <span style=\"color: #000080; font-weight: bold\">620</span>                                                                 \n",
       "                    <span style=\"color: #000080; font-weight: bold\">8</span>    <span style=\"color: #000080; font-weight: bold\">620</span>                                                                 \n",
       "                    <span style=\"color: #000080; font-weight: bold\">9</span>    <span style=\"color: #000080; font-weight: bold\">620</span>                                                                 \n",
       "                    Name: secondClass, dtype: int64                                          \n",
       "</pre>\n"
      ],
      "text/plain": [
       "<rich.jupyter.JupyterRenderable at 0x7fa9517440d0>"
      ]
     },
     "metadata": {},
     "output_type": "display_data"
    },
    {
     "name": "stderr",
     "output_type": "stream",
     "text": [
      "Preprocessing Min Max .. \n",
      "Preprocessing Min Max .. \n",
      "Preprocessing Min Max .. \n",
      "Preprocessing Min Max .. \n",
      "Preprocessing Min Max .. \n"
     ]
    },
    {
     "data": {
      "text/html": [
       "<pre style=\"white-space:pre;overflow-x:auto;line-height:normal;font-family:Menlo,'DejaVu Sans Mono',consolas,'Courier New',monospace\"><span style=\"color: #7fbfbf\">[13:47:24] </span><span style=\"color: #000080\">INFO    </span> Preprocessing Min Max ..                               <a href=\"file:///home/j-gunmo/desktop/00.my-project/17.P-Stage-T1003/4-STAGE/dkt_dataset.py\"><span style=\"color: #7f7f7f\">dkt_dataset.py</span></a><span style=\"color: #7f7f7f\">:236</span>\n",
       "</pre>\n"
      ],
      "text/plain": [
       "<rich.jupyter.JupyterRenderable at 0x7fa951724ca0>"
      ]
     },
     "metadata": {},
     "output_type": "display_data"
    },
    {
     "name": "stderr",
     "output_type": "stream",
     "text": [
      "Min Max Columns: ['userPer', 'assPer', 'firPer', 'testPer', 'secPer']\n",
      "Min Max Columns: ['userPer', 'assPer', 'firPer', 'testPer', 'secPer']\n",
      "Min Max Columns: ['userPer', 'assPer', 'firPer', 'testPer', 'secPer']\n",
      "Min Max Columns: ['userPer', 'assPer', 'firPer', 'testPer', 'secPer']\n",
      "Min Max Columns: ['userPer', 'assPer', 'firPer', 'testPer', 'secPer']\n"
     ]
    },
    {
     "data": {
      "text/html": [
       "<pre style=\"white-space:pre;overflow-x:auto;line-height:normal;font-family:Menlo,'DejaVu Sans Mono',consolas,'Courier New',monospace\"><span style=\"color: #7fbfbf\">           </span><span style=\"color: #000080\">INFO    </span> Min Max Columns: <span style=\"font-weight: bold\">[</span><span style=\"color: #008000\">'userPer'</span>, <span style=\"color: #008000\">'assPer'</span>, <span style=\"color: #008000\">'firPer'</span>,       <a href=\"file:///home/j-gunmo/desktop/00.my-project/17.P-Stage-T1003/4-STAGE/dkt_dataset.py\"><span style=\"color: #7f7f7f\">dkt_dataset.py</span></a><span style=\"color: #7f7f7f\">:237</span>\n",
       "                    <span style=\"color: #008000\">'testPer'</span>, <span style=\"color: #008000\">'secPer'</span><span style=\"font-weight: bold\">]</span>                                                     \n",
       "</pre>\n"
      ],
      "text/plain": [
       "<rich.jupyter.JupyterRenderable at 0x7fa951744eb0>"
      ]
     },
     "metadata": {},
     "output_type": "display_data"
    },
    {
     "name": "stderr",
     "output_type": "stream",
     "text": [
      "MAX: [1.         0.99630996 0.80087621 0.95547445 0.97777778] MIN: [0.         0.04942966 0.44994765 0.32718579 0.18894009]\n",
      "MAX: [1.         0.99630996 0.80087621 0.95547445 0.97777778] MIN: [0.         0.04942966 0.44994765 0.32718579 0.18894009]\n",
      "MAX: [1.         0.99630996 0.80087621 0.95547445 0.97777778] MIN: [0.         0.04942966 0.44994765 0.32718579 0.18894009]\n",
      "MAX: [1.         0.99630996 0.80087621 0.95547445 0.97777778] MIN: [0.         0.04942966 0.44994765 0.32718579 0.18894009]\n",
      "MAX: [1.         0.99630996 0.80087621 0.95547445 0.97777778] MIN: [0.         0.04942966 0.44994765 0.32718579 0.18894009]\n"
     ]
    },
    {
     "data": {
      "text/html": [
       "<pre style=\"white-space:pre;overflow-x:auto;line-height:normal;font-family:Menlo,'DejaVu Sans Mono',consolas,'Courier New',monospace\"><span style=\"color: #7fbfbf\">[13:47:25] </span><span style=\"color: #000080\">INFO    </span> MAX: <span style=\"font-weight: bold\">[</span><span style=\"color: #000080; font-weight: bold\">1</span>.         <span style=\"color: #000080; font-weight: bold\">0.99630996</span> <span style=\"color: #000080; font-weight: bold\">0.80087621</span> <span style=\"color: #000080; font-weight: bold\">0.95547445</span>      <a href=\"file:///home/j-gunmo/desktop/00.my-project/17.P-Stage-T1003/4-STAGE/dkt_dataset.py\"><span style=\"color: #7f7f7f\">dkt_dataset.py</span></a><span style=\"color: #7f7f7f\">:246</span>\n",
       "                    <span style=\"color: #000080; font-weight: bold\">0.97777778</span><span style=\"font-weight: bold\">]</span> MIN: <span style=\"font-weight: bold\">[</span><span style=\"color: #000080; font-weight: bold\">0</span>.         <span style=\"color: #000080; font-weight: bold\">0.04942966</span> <span style=\"color: #000080; font-weight: bold\">0.44994765</span>                       \n",
       "                    <span style=\"color: #000080; font-weight: bold\">0.32718579</span> <span style=\"color: #000080; font-weight: bold\">0.18894009</span><span style=\"font-weight: bold\">]</span>                                                   \n",
       "</pre>\n"
      ],
      "text/plain": [
       "<rich.jupyter.JupyterRenderable at 0x7fa940c0eb20>"
      ]
     },
     "metadata": {},
     "output_type": "display_data"
    },
    {
     "name": "stderr",
     "output_type": "stream",
     "text": [
      "Preprocessing Min Max .. \n",
      "Preprocessing Min Max .. \n",
      "Preprocessing Min Max .. \n",
      "Preprocessing Min Max .. \n",
      "Preprocessing Min Max .. \n"
     ]
    },
    {
     "data": {
      "text/html": [
       "<pre style=\"white-space:pre;overflow-x:auto;line-height:normal;font-family:Menlo,'DejaVu Sans Mono',consolas,'Courier New',monospace\"><span style=\"color: #7fbfbf\">           </span><span style=\"color: #000080\">INFO    </span> Preprocessing Min Max ..                               <a href=\"file:///home/j-gunmo/desktop/00.my-project/17.P-Stage-T1003/4-STAGE/dkt_dataset.py\"><span style=\"color: #7f7f7f\">dkt_dataset.py</span></a><span style=\"color: #7f7f7f\">:254</span>\n",
       "</pre>\n"
      ],
      "text/plain": [
       "<rich.jupyter.JupyterRenderable at 0x7fa94502e520>"
      ]
     },
     "metadata": {},
     "output_type": "display_data"
    },
    {
     "name": "stderr",
     "output_type": "stream",
     "text": [
      "Standard Columns: ['timeSec']\n",
      "Standard Columns: ['timeSec']\n",
      "Standard Columns: ['timeSec']\n",
      "Standard Columns: ['timeSec']\n",
      "Standard Columns: ['timeSec']\n"
     ]
    },
    {
     "data": {
      "text/html": [
       "<pre style=\"white-space:pre;overflow-x:auto;line-height:normal;font-family:Menlo,'DejaVu Sans Mono',consolas,'Courier New',monospace\"><span style=\"color: #7fbfbf\">           </span><span style=\"color: #000080\">INFO    </span> Standard Columns: <span style=\"font-weight: bold\">[</span><span style=\"color: #008000\">'timeSec'</span><span style=\"font-weight: bold\">]</span>                          <a href=\"file:///home/j-gunmo/desktop/00.my-project/17.P-Stage-T1003/4-STAGE/dkt_dataset.py\"><span style=\"color: #7f7f7f\">dkt_dataset.py</span></a><span style=\"color: #7f7f7f\">:255</span>\n",
       "</pre>\n"
      ],
      "text/plain": [
       "<rich.jupyter.JupyterRenderable at 0x7fa951724ca0>"
      ]
     },
     "metadata": {},
     "output_type": "display_data"
    },
    {
     "name": "stderr",
     "output_type": "stream",
     "text": [
      "MEAN: [1.59503981e+09] VAR: [4.91254683e+13]\n",
      "MEAN: [1.59503981e+09] VAR: [4.91254683e+13]\n",
      "MEAN: [1.59503981e+09] VAR: [4.91254683e+13]\n",
      "MEAN: [1.59503981e+09] VAR: [4.91254683e+13]\n",
      "MEAN: [1.59503981e+09] VAR: [4.91254683e+13]\n"
     ]
    },
    {
     "data": {
      "text/html": [
       "<pre style=\"white-space:pre;overflow-x:auto;line-height:normal;font-family:Menlo,'DejaVu Sans Mono',consolas,'Courier New',monospace\"><span style=\"color: #7fbfbf\">[13:47:26] </span><span style=\"color: #000080\">INFO    </span> MEAN: <span style=\"font-weight: bold\">[</span><span style=\"color: #000080; font-weight: bold\">1.59503981e+09</span><span style=\"font-weight: bold\">]</span> VAR: <span style=\"font-weight: bold\">[</span><span style=\"color: #000080; font-weight: bold\">4.91254683e+13</span><span style=\"font-weight: bold\">]</span>           <a href=\"file:///home/j-gunmo/desktop/00.my-project/17.P-Stage-T1003/4-STAGE/dkt_dataset.py\"><span style=\"color: #7f7f7f\">dkt_dataset.py</span></a><span style=\"color: #7f7f7f\">:264</span>\n",
       "</pre>\n"
      ],
      "text/plain": [
       "<rich.jupyter.JupyterRenderable at 0x7fa94502ef40>"
      ]
     },
     "metadata": {},
     "output_type": "display_data"
    }
   ],
   "source": [
    "preprocess.scaling(pre_encodes)"
   ]
  },
  {
   "cell_type": "code",
   "execution_count": 117,
   "metadata": {
    "collapsed": true,
    "jupyter": {
     "outputs_hidden": true
    }
   },
   "outputs": [
    {
     "name": "stderr",
     "output_type": "stream",
     "text": [
      "Use the test datast for data augmentation\n",
      "Use the test datast for data augmentation\n",
      "Use the test datast for data augmentation\n",
      "Use the test datast for data augmentation\n",
      "Use the test datast for data augmentation\n"
     ]
    },
    {
     "data": {
      "text/html": [
       "<pre style=\"white-space:pre;overflow-x:auto;line-height:normal;font-family:Menlo,'DejaVu Sans Mono',consolas,'Courier New',monospace\"><span style=\"color: #7fbfbf\">           </span><span style=\"color: #000080\">INFO    </span> Use the test datast for data augmentation              <a href=\"file:///home/j-gunmo/desktop/00.my-project/17.P-Stage-T1003/4-STAGE/dkt_dataset.py\"><span style=\"color: #7f7f7f\">dkt_dataset.py</span></a><span style=\"color: #7f7f7f\">:119</span>\n",
       "</pre>\n"
      ],
      "text/plain": [
       "<rich.jupyter.JupyterRenderable at 0x7fa940c333a0>"
      ]
     },
     "metadata": {},
     "output_type": "display_data"
    },
    {
     "name": "stderr",
     "output_type": "stream",
     "text": [
      "Before Length: 1582219\n",
      "Before Length: 1582219\n",
      "Before Length: 1582219\n",
      "Before Length: 1582219\n",
      "Before Length: 1582219\n"
     ]
    },
    {
     "data": {
      "text/html": [
       "<pre style=\"white-space:pre;overflow-x:auto;line-height:normal;font-family:Menlo,'DejaVu Sans Mono',consolas,'Courier New',monospace\"><span style=\"color: #7fbfbf\">           </span><span style=\"color: #000080\">INFO    </span> Before Length: <span style=\"color: #000080; font-weight: bold\">1582219</span>                                 <a href=\"file:///home/j-gunmo/desktop/00.my-project/17.P-Stage-T1003/4-STAGE/dkt_dataset.py\"><span style=\"color: #7f7f7f\">dkt_dataset.py</span></a><span style=\"color: #7f7f7f\">:120</span>\n",
       "</pre>\n"
      ],
      "text/plain": [
       "<rich.jupyter.JupyterRenderable at 0x7fa94129c1f0>"
      ]
     },
     "metadata": {},
     "output_type": "display_data"
    },
    {
     "name": "stderr",
     "output_type": "stream",
     "text": [
      "After Length: 1841589\n",
      "After Length: 1841589\n",
      "After Length: 1841589\n",
      "After Length: 1841589\n",
      "After Length: 1841589\n"
     ]
    },
    {
     "data": {
      "text/html": [
       "<pre style=\"white-space:pre;overflow-x:auto;line-height:normal;font-family:Menlo,'DejaVu Sans Mono',consolas,'Courier New',monospace\"><span style=\"color: #7fbfbf\">           </span><span style=\"color: #000080\">INFO    </span> After Length: <span style=\"color: #000080; font-weight: bold\">1841589</span>                                  <a href=\"file:///home/j-gunmo/desktop/00.my-project/17.P-Stage-T1003/4-STAGE/dkt_dataset.py\"><span style=\"color: #7f7f7f\">dkt_dataset.py</span></a><span style=\"color: #7f7f7f\">:126</span>\n",
       "</pre>\n"
      ],
      "text/plain": [
       "<rich.jupyter.JupyterRenderable at 0x7fa951724280>"
      ]
     },
     "metadata": {},
     "output_type": "display_data"
    },
    {
     "name": "stderr",
     "output_type": "stream",
     "text": [
      "Group By (userID, firstClass)\n",
      "Group By (userID, firstClass)\n",
      "Group By (userID, firstClass)\n",
      "Group By (userID, firstClass)\n",
      "Group By (userID, firstClass)\n"
     ]
    },
    {
     "data": {
      "text/html": [
       "<pre style=\"white-space:pre;overflow-x:auto;line-height:normal;font-family:Menlo,'DejaVu Sans Mono',consolas,'Courier New',monospace\"><span style=\"color: #7fbfbf\">           </span><span style=\"color: #000080\">INFO    </span> Group By <span style=\"font-weight: bold\">(</span>userID, firstClass<span style=\"font-weight: bold\">)</span>                          <a href=\"file:///home/j-gunmo/desktop/00.my-project/17.P-Stage-T1003/4-STAGE/dkt_dataset.py\"><span style=\"color: #7f7f7f\">dkt_dataset.py</span></a><span style=\"color: #7f7f7f\">:147</span>\n",
       "</pre>\n"
      ],
      "text/plain": [
       "<rich.jupyter.JupyterRenderable at 0x7fa9510f4490>"
      ]
     },
     "metadata": {},
     "output_type": "display_data"
    },
    {
     "name": "stderr",
     "output_type": "stream",
     "text": [
      "Group By (userID, firstClass) Length: 14429\n",
      "Group By (userID, firstClass) Length: 14429\n",
      "Group By (userID, firstClass) Length: 14429\n",
      "Group By (userID, firstClass) Length: 14429\n",
      "Group By (userID, firstClass) Length: 14429\n"
     ]
    },
    {
     "data": {
      "text/html": [
       "<pre style=\"white-space:pre;overflow-x:auto;line-height:normal;font-family:Menlo,'DejaVu Sans Mono',consolas,'Courier New',monospace\"><span style=\"color: #7fbfbf\">[13:47:29] </span><span style=\"color: #000080\">INFO    </span> Group By <span style=\"font-weight: bold\">(</span>userID, firstClass<span style=\"font-weight: bold\">)</span> Length: <span style=\"color: #000080; font-weight: bold\">14429</span>            <a href=\"file:///home/j-gunmo/desktop/00.my-project/17.P-Stage-T1003/4-STAGE/dkt_dataset.py\"><span style=\"color: #7f7f7f\">dkt_dataset.py</span></a><span style=\"color: #7f7f7f\">:162</span>\n",
       "</pre>\n"
      ],
      "text/plain": [
       "<rich.jupyter.JupyterRenderable at 0x7fa940c0eee0>"
      ]
     },
     "metadata": {},
     "output_type": "display_data"
    },
    {
     "name": "stderr",
     "output_type": "stream",
     "text": [
      "Group By (userID, firstClass) Length: 5310\n",
      "Group By (userID, firstClass) Length: 5310\n",
      "Group By (userID, firstClass) Length: 5310\n",
      "Group By (userID, firstClass) Length: 5310\n",
      "Group By (userID, firstClass) Length: 5310\n"
     ]
    },
    {
     "data": {
      "text/html": [
       "<pre style=\"white-space:pre;overflow-x:auto;line-height:normal;font-family:Menlo,'DejaVu Sans Mono',consolas,'Courier New',monospace\"><span style=\"color: #7fbfbf\">           </span><span style=\"color: #000080\">INFO    </span> Group By <span style=\"font-weight: bold\">(</span>userID, firstClass<span style=\"font-weight: bold\">)</span> Length: <span style=\"color: #000080; font-weight: bold\">5310</span>             <a href=\"file:///home/j-gunmo/desktop/00.my-project/17.P-Stage-T1003/4-STAGE/dkt_dataset.py\"><span style=\"color: #7f7f7f\">dkt_dataset.py</span></a><span style=\"color: #7f7f7f\">:163</span>\n",
       "</pre>\n"
      ],
      "text/plain": [
       "<rich.jupyter.JupyterRenderable at 0x7fa9536f3220>"
      ]
     },
     "metadata": {},
     "output_type": "display_data"
    },
    {
     "name": "stderr",
     "output_type": "stream",
     "text": [
      "Group By (userID, firstClass) Length: 1987\n",
      "Group By (userID, firstClass) Length: 1987\n",
      "Group By (userID, firstClass) Length: 1987\n",
      "Group By (userID, firstClass) Length: 1987\n",
      "Group By (userID, firstClass) Length: 1987\n"
     ]
    },
    {
     "data": {
      "text/html": [
       "<pre style=\"white-space:pre;overflow-x:auto;line-height:normal;font-family:Menlo,'DejaVu Sans Mono',consolas,'Courier New',monospace\"><span style=\"color: #7fbfbf\">           </span><span style=\"color: #000080\">INFO    </span> Group By <span style=\"font-weight: bold\">(</span>userID, firstClass<span style=\"font-weight: bold\">)</span> Length: <span style=\"color: #000080; font-weight: bold\">1987</span>             <a href=\"file:///home/j-gunmo/desktop/00.my-project/17.P-Stage-T1003/4-STAGE/dkt_dataset.py\"><span style=\"color: #7f7f7f\">dkt_dataset.py</span></a><span style=\"color: #7f7f7f\">:164</span>\n",
       "</pre>\n"
      ],
      "text/plain": [
       "<rich.jupyter.JupyterRenderable at 0x7fa9536f3b20>"
      ]
     },
     "metadata": {},
     "output_type": "display_data"
    }
   ],
   "source": [
    "preprocess.data_augmentation(choices=[1, 3])"
   ]
  },
  {
   "cell_type": "code",
   "execution_count": 120,
   "metadata": {},
   "outputs": [],
   "source": [
    "args.columns = columns[1:]"
   ]
  },
  {
   "cell_type": "code",
   "execution_count": 121,
   "metadata": {},
   "outputs": [],
   "source": [
    "train_dataset = preprocess.datas['train_grouped']\n",
    "valid_dataset = preprocess.datas['valid_grouped']\n",
    "test_dataset = preprocess.datas['test_grouped']"
   ]
  },
  {
   "cell_type": "code",
   "execution_count": 122,
   "metadata": {},
   "outputs": [],
   "source": [
    "args.hidden_dim = 1024\n",
    "args.batch_size = 256"
   ]
  },
  {
   "cell_type": "code",
   "execution_count": 123,
   "metadata": {},
   "outputs": [],
   "source": [
    "trainer = FeatureTestTrainer(args, LSTM)"
   ]
  },
  {
   "cell_type": "code",
   "execution_count": 124,
   "metadata": {
    "collapsed": true,
    "jupyter": {
     "outputs_hidden": true
    }
   },
   "outputs": [
    {
     "data": {
      "text/html": [
       "<pre style=\"white-space:pre;overflow-x:auto;line-height:normal;font-family:Menlo,'DejaVu Sans Mono',consolas,'Courier New',monospace\"><span style=\"color: #7fbfbf\">[13:48:05] </span><span style=\"color: #000080\">INFO    </span> MODEl SUMMARY                                              <a href=\"file:///home/j-gunmo/desktop/00.my-project/17.P-Stage-T1003/4-STAGE/trainer.py\"><span style=\"color: #7f7f7f\">trainer.py</span></a><span style=\"color: #7f7f7f\">:335</span>\n",
       "                                                                                             \n",
       "</pre>\n"
      ],
      "text/plain": [
       "<rich.jupyter.JupyterRenderable at 0x7fa94502efa0>"
      ]
     },
     "metadata": {},
     "output_type": "display_data"
    },
    {
     "data": {
      "text/html": [
       "<pre style=\"white-space:pre;overflow-x:auto;line-height:normal;font-family:Menlo,'DejaVu Sans Mono',consolas,'Courier New',monospace\"><span style=\"color: #7fbfbf\">           </span><span style=\"color: #000080\">INFO    </span> ========================================================== <a href=\"file:///home/j-gunmo/desktop/00.my-project/17.P-Stage-T1003/4-STAGE/trainer.py\"><span style=\"color: #7f7f7f\">trainer.py</span></a><span style=\"color: #7f7f7f\">:336</span>\n",
       "                    =======                                                                  \n",
       "                    Layer <span style=\"font-weight: bold\">(</span>typ<span style=\"color: #00ff00; font-weight: bold\">e:de</span>pth-idx<span style=\"font-weight: bold\">)</span>                   Param #                         \n",
       "                    ==========================================================               \n",
       "                    =======                                                                  \n",
       "                    LSTM                                     --                              \n",
       "                    ├─EmbeddingLayer: <span style=\"color: #000080; font-weight: bold\">1</span>-<span style=\"color: #000080; font-weight: bold\">1</span>                    --                              \n",
       "                    │    └─Embedding: <span style=\"color: #000080; font-weight: bold\">2</span>-<span style=\"color: #000080; font-weight: bold\">1</span>                    <span style=\"color: #000080; font-weight: bold\">384</span>                             \n",
       "                    │    └─ModuleDict: <span style=\"color: #000080; font-weight: bold\">2</span>-<span style=\"color: #000080; font-weight: bold\">2</span>                   --                              \n",
       "                    │    │    └─Embedding: <span style=\"color: #000080; font-weight: bold\">3</span>-<span style=\"color: #000080; font-weight: bold\">1</span>               <span style=\"color: #000080; font-weight: bold\">1</span>,<span style=\"color: #000080; font-weight: bold\">408</span>                           \n",
       "                    │    │    └─Embedding: <span style=\"color: #000080; font-weight: bold\">3</span>-<span style=\"color: #000080; font-weight: bold\">2</span>               <span style=\"color: #000080; font-weight: bold\">116</span>,<span style=\"color: #000080; font-weight: bold\">992</span>                         \n",
       "                    │    │    └─Embedding: <span style=\"color: #000080; font-weight: bold\">3</span>-<span style=\"color: #000080; font-weight: bold\">3</span>               <span style=\"color: #000080; font-weight: bold\">196</span>,<span style=\"color: #000080; font-weight: bold\">992</span>                         \n",
       "                    ├─LinearLayer: <span style=\"color: #000080; font-weight: bold\">1</span>-<span style=\"color: #000080; font-weight: bold\">2</span>                       --                              \n",
       "                    │    └─Linear: <span style=\"color: #000080; font-weight: bold\">2</span>-<span style=\"color: #000080; font-weight: bold\">3</span>                       <span style=\"color: #000080; font-weight: bold\">3</span>,<span style=\"color: #000080; font-weight: bold\">584</span>                           \n",
       "                    ├─Linear: <span style=\"color: #000080; font-weight: bold\">1</span>-<span style=\"color: #000080; font-weight: bold\">3</span>                            <span style=\"color: #000080; font-weight: bold\">1</span>,<span style=\"color: #000080; font-weight: bold\">049</span>,<span style=\"color: #000080; font-weight: bold\">600</span>                       \n",
       "                    ├─LSTM: <span style=\"color: #000080; font-weight: bold\">1</span>-<span style=\"color: #000080; font-weight: bold\">4</span>                              <span style=\"color: #000080; font-weight: bold\">16</span>,<span style=\"color: #000080; font-weight: bold\">793</span>,<span style=\"color: #000080; font-weight: bold\">600</span>                      \n",
       "                    ├─Linear: <span style=\"color: #000080; font-weight: bold\">1</span>-<span style=\"color: #000080; font-weight: bold\">5</span>                            <span style=\"color: #000080; font-weight: bold\">1</span>,<span style=\"color: #000080; font-weight: bold\">025</span>                           \n",
       "                    ├─Sigmoid: <span style=\"color: #000080; font-weight: bold\">1</span>-<span style=\"color: #000080; font-weight: bold\">6</span>                           --                              \n",
       "                    ==========================================================               \n",
       "                    =======                                                                  \n",
       "                    Total params: <span style=\"color: #000080; font-weight: bold\">18</span>,<span style=\"color: #000080; font-weight: bold\">163</span>,<span style=\"color: #000080; font-weight: bold\">585</span>                                                 \n",
       "                    Trainable params: <span style=\"color: #000080; font-weight: bold\">18</span>,<span style=\"color: #000080; font-weight: bold\">163</span>,<span style=\"color: #000080; font-weight: bold\">585</span>                                             \n",
       "                    Non-trainable params: <span style=\"color: #000080; font-weight: bold\">0</span>                                                  \n",
       "                    ==========================================================               \n",
       "                    =======                                                                  \n",
       "</pre>\n"
      ],
      "text/plain": [
       "<rich.jupyter.JupyterRenderable at 0x7fa951744190>"
      ]
     },
     "metadata": {},
     "output_type": "display_data"
    },
    {
     "data": {
      "text/html": [
       "<pre style=\"white-space:pre;overflow-x:auto;line-height:normal;font-family:Menlo,'DejaVu Sans Mono',consolas,'Courier New',monospace\"><span style=\"color: #7fbfbf\">           </span><span style=\"color: #000080\">INFO    </span>                                                            <a href=\"file:///home/j-gunmo/desktop/00.my-project/17.P-Stage-T1003/4-STAGE/trainer.py\"><span style=\"color: #7f7f7f\">trainer.py</span></a><span style=\"color: #7f7f7f\">:338</span>\n",
       "                    CHECK DATASET                                                            \n",
       "</pre>\n"
      ],
      "text/plain": [
       "<rich.jupyter.JupyterRenderable at 0x7fa951724250>"
      ]
     },
     "metadata": {},
     "output_type": "display_data"
    },
    {
     "data": {
      "text/html": [
       "<pre style=\"white-space:pre;overflow-x:auto;line-height:normal;font-family:Menlo,'DejaVu Sans Mono',consolas,'Courier New',monospace\"><span style=\"color: #7fbfbf\">           </span><span style=\"color: #000080\">INFO    </span>                                                            <a href=\"file:///home/j-gunmo/desktop/00.my-project/17.P-Stage-T1003/4-STAGE/trainer.py\"><span style=\"color: #7f7f7f\">trainer.py</span></a><span style=\"color: #7f7f7f\">:342</span>\n",
       "                    TRAIN EXAMPLES                                                           \n",
       "</pre>\n"
      ],
      "text/plain": [
       "<rich.jupyter.JupyterRenderable at 0x7fa951744eb0>"
      ]
     },
     "metadata": {},
     "output_type": "display_data"
    },
    {
     "data": {
      "text/html": [
       "<pre style=\"white-space:pre;overflow-x:auto;line-height:normal;font-family:Menlo,'DejaVu Sans Mono',consolas,'Courier New',monospace\"><span style=\"color: #7fbfbf\">           </span><span style=\"color: #000080\">INFO    </span> answerCode : <span style=\"font-weight: bold\">[</span><span style=\"color: #000080; font-weight: bold\">1</span> <span style=\"color: #000080; font-weight: bold\">1</span> <span style=\"color: #000080; font-weight: bold\">1</span> <span style=\"color: #000080; font-weight: bold\">1</span> <span style=\"color: #000080; font-weight: bold\">0</span> <span style=\"color: #000080; font-weight: bold\">0</span> <span style=\"color: #000080; font-weight: bold\">1</span> <span style=\"color: #000080; font-weight: bold\">1</span> <span style=\"color: #000080; font-weight: bold\">1</span> <span style=\"color: #000080; font-weight: bold\">1</span><span style=\"font-weight: bold\">]</span>                         <a href=\"file:///home/j-gunmo/desktop/00.my-project/17.P-Stage-T1003/4-STAGE/trainer.py\"><span style=\"color: #7f7f7f\">trainer.py</span></a><span style=\"color: #7f7f7f\">:344</span>\n",
       "</pre>\n"
      ],
      "text/plain": [
       "<rich.jupyter.JupyterRenderable at 0x7fa940c0e730>"
      ]
     },
     "metadata": {},
     "output_type": "display_data"
    },
    {
     "data": {
      "text/html": [
       "<pre style=\"white-space:pre;overflow-x:auto;line-height:normal;font-family:Menlo,'DejaVu Sans Mono',consolas,'Courier New',monospace\"><span style=\"color: #7fbfbf\">           </span><span style=\"color: #000080\">INFO    </span> testPaper : <span style=\"font-weight: bold\">[</span><span style=\"color: #000080; font-weight: bold\">362</span> <span style=\"color: #000080; font-weight: bold\">362</span> <span style=\"color: #000080; font-weight: bold\">362</span> <span style=\"color: #000080; font-weight: bold\">362</span> <span style=\"color: #000080; font-weight: bold\">362</span> <span style=\"color: #000080; font-weight: bold\">362</span> <span style=\"color: #000080; font-weight: bold\">364</span> <span style=\"color: #000080; font-weight: bold\">364</span> <span style=\"color: #000080; font-weight: bold\">364</span> <span style=\"color: #000080; font-weight: bold\">364</span><span style=\"font-weight: bold\">]</span>      <a href=\"file:///home/j-gunmo/desktop/00.my-project/17.P-Stage-T1003/4-STAGE/trainer.py\"><span style=\"color: #7f7f7f\">trainer.py</span></a><span style=\"color: #7f7f7f\">:344</span>\n",
       "</pre>\n"
      ],
      "text/plain": [
       "<rich.jupyter.JupyterRenderable at 0x7fa9510f4670>"
      ]
     },
     "metadata": {},
     "output_type": "display_data"
    },
    {
     "data": {
      "text/html": [
       "<pre style=\"white-space:pre;overflow-x:auto;line-height:normal;font-family:Menlo,'DejaVu Sans Mono',consolas,'Courier New',monospace\"><span style=\"color: #7fbfbf\">           </span><span style=\"color: #000080\">INFO    </span> firstClass : <span style=\"font-weight: bold\">[</span><span style=\"color: #000080; font-weight: bold\">1</span> <span style=\"color: #000080; font-weight: bold\">1</span> <span style=\"color: #000080; font-weight: bold\">1</span> <span style=\"color: #000080; font-weight: bold\">1</span> <span style=\"color: #000080; font-weight: bold\">1</span> <span style=\"color: #000080; font-weight: bold\">1</span> <span style=\"color: #000080; font-weight: bold\">1</span> <span style=\"color: #000080; font-weight: bold\">1</span> <span style=\"color: #000080; font-weight: bold\">1</span> <span style=\"color: #000080; font-weight: bold\">1</span><span style=\"font-weight: bold\">]</span>                         <a href=\"file:///home/j-gunmo/desktop/00.my-project/17.P-Stage-T1003/4-STAGE/trainer.py\"><span style=\"color: #7f7f7f\">trainer.py</span></a><span style=\"color: #7f7f7f\">:344</span>\n",
       "</pre>\n"
      ],
      "text/plain": [
       "<rich.jupyter.JupyterRenderable at 0x7fa94502e520>"
      ]
     },
     "metadata": {},
     "output_type": "display_data"
    },
    {
     "data": {
      "text/html": [
       "<pre style=\"white-space:pre;overflow-x:auto;line-height:normal;font-family:Menlo,'DejaVu Sans Mono',consolas,'Courier New',monospace\"><span style=\"color: #7fbfbf\">           </span><span style=\"color: #000080\">INFO    </span> secondClass : <span style=\"font-weight: bold\">[</span><span style=\"color: #000080; font-weight: bold\">754</span> <span style=\"color: #000080; font-weight: bold\">754</span> <span style=\"color: #000080; font-weight: bold\">754</span> <span style=\"color: #000080; font-weight: bold\">754</span> <span style=\"color: #000080; font-weight: bold\">754</span> <span style=\"color: #000080; font-weight: bold\">754</span> <span style=\"color: #000080; font-weight: bold\">756</span> <span style=\"color: #000080; font-weight: bold\">756</span> <span style=\"color: #000080; font-weight: bold\">756</span> <span style=\"color: #000080; font-weight: bold\">756</span><span style=\"font-weight: bold\">]</span>    <a href=\"file:///home/j-gunmo/desktop/00.my-project/17.P-Stage-T1003/4-STAGE/trainer.py\"><span style=\"color: #7f7f7f\">trainer.py</span></a><span style=\"color: #7f7f7f\">:344</span>\n",
       "</pre>\n"
      ],
      "text/plain": [
       "<rich.jupyter.JupyterRenderable at 0x7fa940c3f7f0>"
      ]
     },
     "metadata": {},
     "output_type": "display_data"
    },
    {
     "data": {
      "text/html": [
       "<pre style=\"white-space:pre;overflow-x:auto;line-height:normal;font-family:Menlo,'DejaVu Sans Mono',consolas,'Courier New',monospace\"><span style=\"color: #7fbfbf\">           </span><span style=\"color: #000080\">INFO    </span> timeSec : <span style=\"font-weight: bold\">[</span><span style=\"color: #000080; font-weight: bold\">1.04754444</span> <span style=\"color: #000080; font-weight: bold\">1.04754573</span> <span style=\"color: #000080; font-weight: bold\">1.04754815</span> <span style=\"color: #000080; font-weight: bold\">1.04755286</span>     <a href=\"file:///home/j-gunmo/desktop/00.my-project/17.P-Stage-T1003/4-STAGE/trainer.py\"><span style=\"color: #7f7f7f\">trainer.py</span></a><span style=\"color: #7f7f7f\">:344</span>\n",
       "                    <span style=\"color: #000080; font-weight: bold\">1.04755771</span> <span style=\"color: #000080; font-weight: bold\">1.04757212</span>                                                    \n",
       "                     <span style=\"color: #000080; font-weight: bold\">1.12141635</span> <span style=\"color: #000080; font-weight: bold\">1.12142121</span> <span style=\"color: #000080; font-weight: bold\">1.1214282</span>  <span style=\"color: #000080; font-weight: bold\">1.1214339</span> <span style=\"font-weight: bold\">]</span>                            \n",
       "</pre>\n"
      ],
      "text/plain": [
       "<rich.jupyter.JupyterRenderable at 0x7fa9510f45e0>"
      ]
     },
     "metadata": {},
     "output_type": "display_data"
    },
    {
     "data": {
      "text/html": [
       "<pre style=\"white-space:pre;overflow-x:auto;line-height:normal;font-family:Menlo,'DejaVu Sans Mono',consolas,'Courier New',monospace\"><span style=\"color: #7fbfbf\">           </span><span style=\"color: #000080\">INFO    </span> userPer : <span style=\"font-weight: bold\">[</span><span style=\"color: #000080; font-weight: bold\">0.72222222</span> <span style=\"color: #000080; font-weight: bold\">0.72222222</span> <span style=\"color: #000080; font-weight: bold\">0.72222222</span> <span style=\"color: #000080; font-weight: bold\">0.72222222</span>     <a href=\"file:///home/j-gunmo/desktop/00.my-project/17.P-Stage-T1003/4-STAGE/trainer.py\"><span style=\"color: #7f7f7f\">trainer.py</span></a><span style=\"color: #7f7f7f\">:344</span>\n",
       "                    <span style=\"color: #000080; font-weight: bold\">0.72222222</span> <span style=\"color: #000080; font-weight: bold\">0.72222222</span>                                                    \n",
       "                     <span style=\"color: #000080; font-weight: bold\">0.72222222</span> <span style=\"color: #000080; font-weight: bold\">0.72222222</span> <span style=\"color: #000080; font-weight: bold\">0.72222222</span> <span style=\"color: #000080; font-weight: bold\">0.72222222</span><span style=\"font-weight: bold\">]</span>                            \n",
       "</pre>\n"
      ],
      "text/plain": [
       "<rich.jupyter.JupyterRenderable at 0x7fa940c3fa00>"
      ]
     },
     "metadata": {},
     "output_type": "display_data"
    },
    {
     "data": {
      "text/html": [
       "<pre style=\"white-space:pre;overflow-x:auto;line-height:normal;font-family:Menlo,'DejaVu Sans Mono',consolas,'Courier New',monospace\"><span style=\"color: #7fbfbf\">           </span><span style=\"color: #000080\">INFO    </span> assPer : <span style=\"font-weight: bold\">[</span><span style=\"color: #000080; font-weight: bold\">0.59112569</span> <span style=\"color: #000080; font-weight: bold\">0.53162711</span> <span style=\"color: #000080; font-weight: bold\">0.41262997</span> <span style=\"color: #000080; font-weight: bold\">0.55765774</span>      <a href=\"file:///home/j-gunmo/desktop/00.my-project/17.P-Stage-T1003/4-STAGE/trainer.py\"><span style=\"color: #7f7f7f\">trainer.py</span></a><span style=\"color: #7f7f7f\">:344</span>\n",
       "                    <span style=\"color: #000080; font-weight: bold\">0.73987212</span> <span style=\"color: #000080; font-weight: bold\">0.53906444</span>                                                    \n",
       "                     <span style=\"color: #000080; font-weight: bold\">0.75316834</span> <span style=\"color: #000080; font-weight: bold\">0.69238563</span> <span style=\"color: #000080; font-weight: bold\">0.50623856</span> <span style=\"color: #000080; font-weight: bold\">0.59741263</span><span style=\"font-weight: bold\">]</span>                            \n",
       "</pre>\n"
      ],
      "text/plain": [
       "<rich.jupyter.JupyterRenderable at 0x7fa940c0eee0>"
      ]
     },
     "metadata": {},
     "output_type": "display_data"
    },
    {
     "data": {
      "text/html": [
       "<pre style=\"white-space:pre;overflow-x:auto;line-height:normal;font-family:Menlo,'DejaVu Sans Mono',consolas,'Courier New',monospace\"><span style=\"color: #7fbfbf\">           </span><span style=\"color: #000080\">INFO    </span> firPer : <span style=\"font-weight: bold\">[</span><span style=\"color: #000080; font-weight: bold\">0.81966802</span> <span style=\"color: #000080; font-weight: bold\">0.81966802</span> <span style=\"color: #000080; font-weight: bold\">0.81966802</span> <span style=\"color: #000080; font-weight: bold\">0.81966802</span>      <a href=\"file:///home/j-gunmo/desktop/00.my-project/17.P-Stage-T1003/4-STAGE/trainer.py\"><span style=\"color: #7f7f7f\">trainer.py</span></a><span style=\"color: #7f7f7f\">:344</span>\n",
       "                    <span style=\"color: #000080; font-weight: bold\">0.81966802</span> <span style=\"color: #000080; font-weight: bold\">0.81966802</span>                                                    \n",
       "                     <span style=\"color: #000080; font-weight: bold\">0.81966802</span> <span style=\"color: #000080; font-weight: bold\">0.81966802</span> <span style=\"color: #000080; font-weight: bold\">0.81966802</span> <span style=\"color: #000080; font-weight: bold\">0.81966802</span><span style=\"font-weight: bold\">]</span>                            \n",
       "</pre>\n"
      ],
      "text/plain": [
       "<rich.jupyter.JupyterRenderable at 0x7fa94502e8e0>"
      ]
     },
     "metadata": {},
     "output_type": "display_data"
    },
    {
     "data": {
      "text/html": [
       "<pre style=\"white-space:pre;overflow-x:auto;line-height:normal;font-family:Menlo,'DejaVu Sans Mono',consolas,'Courier New',monospace\"><span style=\"color: #7fbfbf\">           </span><span style=\"color: #000080\">INFO    </span> testPer : <span style=\"font-weight: bold\">[</span><span style=\"color: #000080; font-weight: bold\">0.4048887</span>  <span style=\"color: #000080; font-weight: bold\">0.4048887</span>  <span style=\"color: #000080; font-weight: bold\">0.4048887</span>  <span style=\"color: #000080; font-weight: bold\">0.4048887</span>      <a href=\"file:///home/j-gunmo/desktop/00.my-project/17.P-Stage-T1003/4-STAGE/trainer.py\"><span style=\"color: #7f7f7f\">trainer.py</span></a><span style=\"color: #7f7f7f\">:344</span>\n",
       "                    <span style=\"color: #000080; font-weight: bold\">0.4048887</span>  <span style=\"color: #000080; font-weight: bold\">0.4048887</span>                                                     \n",
       "                     <span style=\"color: #000080; font-weight: bold\">0.35520921</span> <span style=\"color: #000080; font-weight: bold\">0.35520921</span> <span style=\"color: #000080; font-weight: bold\">0.35520921</span> <span style=\"color: #000080; font-weight: bold\">0.35520921</span><span style=\"font-weight: bold\">]</span>                            \n",
       "</pre>\n"
      ],
      "text/plain": [
       "<rich.jupyter.JupyterRenderable at 0x7fa940c3f7f0>"
      ]
     },
     "metadata": {},
     "output_type": "display_data"
    },
    {
     "data": {
      "text/html": [
       "<pre style=\"white-space:pre;overflow-x:auto;line-height:normal;font-family:Menlo,'DejaVu Sans Mono',consolas,'Courier New',monospace\"><span style=\"color: #7fbfbf\">           </span><span style=\"color: #000080\">INFO    </span> secPer : <span style=\"font-weight: bold\">[</span><span style=\"color: #000080; font-weight: bold\">0.53270708</span> <span style=\"color: #000080; font-weight: bold\">0.53270708</span> <span style=\"color: #000080; font-weight: bold\">0.53270708</span> <span style=\"color: #000080; font-weight: bold\">0.53270708</span>      <a href=\"file:///home/j-gunmo/desktop/00.my-project/17.P-Stage-T1003/4-STAGE/trainer.py\"><span style=\"color: #7f7f7f\">trainer.py</span></a><span style=\"color: #7f7f7f\">:344</span>\n",
       "                    <span style=\"color: #000080; font-weight: bold\">0.53270708</span> <span style=\"color: #000080; font-weight: bold\">0.53270708</span>                                                    \n",
       "                     <span style=\"color: #000080; font-weight: bold\">0.48999121</span> <span style=\"color: #000080; font-weight: bold\">0.48999121</span> <span style=\"color: #000080; font-weight: bold\">0.48999121</span> <span style=\"color: #000080; font-weight: bold\">0.48999121</span><span style=\"font-weight: bold\">]</span>                            \n",
       "</pre>\n"
      ],
      "text/plain": [
       "<rich.jupyter.JupyterRenderable at 0x7fa9510f4b20>"
      ]
     },
     "metadata": {},
     "output_type": "display_data"
    },
    {
     "data": {
      "text/html": [
       "<pre style=\"white-space:pre;overflow-x:auto;line-height:normal;font-family:Menlo,'DejaVu Sans Mono',consolas,'Courier New',monospace\"><span style=\"color: #7fbfbf\">           </span><span style=\"color: #000080\">INFO    </span>                                                            <a href=\"file:///home/j-gunmo/desktop/00.my-project/17.P-Stage-T1003/4-STAGE/trainer.py\"><span style=\"color: #7f7f7f\">trainer.py</span></a><span style=\"color: #7f7f7f\">:342</span>\n",
       "                    VALID EXAMPLES                                                           \n",
       "</pre>\n"
      ],
      "text/plain": [
       "<rich.jupyter.JupyterRenderable at 0x7fa940c3f7f0>"
      ]
     },
     "metadata": {},
     "output_type": "display_data"
    },
    {
     "data": {
      "text/html": [
       "<pre style=\"white-space:pre;overflow-x:auto;line-height:normal;font-family:Menlo,'DejaVu Sans Mono',consolas,'Courier New',monospace\"><span style=\"color: #7fbfbf\">           </span><span style=\"color: #000080\">INFO    </span> answerCode : <span style=\"font-weight: bold\">[</span><span style=\"color: #000080; font-weight: bold\">1</span> <span style=\"color: #000080; font-weight: bold\">1</span> <span style=\"color: #000080; font-weight: bold\">1</span> <span style=\"color: #000080; font-weight: bold\">1</span> <span style=\"color: #000080; font-weight: bold\">1</span> <span style=\"color: #000080; font-weight: bold\">1</span> <span style=\"color: #000080; font-weight: bold\">1</span> <span style=\"color: #000080; font-weight: bold\">1</span> <span style=\"color: #000080; font-weight: bold\">0</span> <span style=\"color: #000080; font-weight: bold\">0</span><span style=\"font-weight: bold\">]</span>                         <a href=\"file:///home/j-gunmo/desktop/00.my-project/17.P-Stage-T1003/4-STAGE/trainer.py\"><span style=\"color: #7f7f7f\">trainer.py</span></a><span style=\"color: #7f7f7f\">:344</span>\n",
       "</pre>\n"
      ],
      "text/plain": [
       "<rich.jupyter.JupyterRenderable at 0x7fa94502ef40>"
      ]
     },
     "metadata": {},
     "output_type": "display_data"
    },
    {
     "data": {
      "text/html": [
       "<pre style=\"white-space:pre;overflow-x:auto;line-height:normal;font-family:Menlo,'DejaVu Sans Mono',consolas,'Courier New',monospace\"><span style=\"color: #7fbfbf\">           </span><span style=\"color: #000080\">INFO    </span> testPaper : <span style=\"font-weight: bold\">[</span><span style=\"color: #000080; font-weight: bold\">683</span> <span style=\"color: #000080; font-weight: bold\">683</span> <span style=\"color: #000080; font-weight: bold\">683</span> <span style=\"color: #000080; font-weight: bold\">683</span> <span style=\"color: #000080; font-weight: bold\">683</span> <span style=\"color: #000080; font-weight: bold\">671</span> <span style=\"color: #000080; font-weight: bold\">671</span> <span style=\"color: #000080; font-weight: bold\">671</span> <span style=\"color: #000080; font-weight: bold\">671</span> <span style=\"color: #000080; font-weight: bold\">671</span><span style=\"font-weight: bold\">]</span>      <a href=\"file:///home/j-gunmo/desktop/00.my-project/17.P-Stage-T1003/4-STAGE/trainer.py\"><span style=\"color: #7f7f7f\">trainer.py</span></a><span style=\"color: #7f7f7f\">:344</span>\n",
       "</pre>\n"
      ],
      "text/plain": [
       "<rich.jupyter.JupyterRenderable at 0x7fa951744190>"
      ]
     },
     "metadata": {},
     "output_type": "display_data"
    },
    {
     "data": {
      "text/html": [
       "<pre style=\"white-space:pre;overflow-x:auto;line-height:normal;font-family:Menlo,'DejaVu Sans Mono',consolas,'Courier New',monospace\"><span style=\"color: #7fbfbf\">           </span><span style=\"color: #000080\">INFO    </span> firstClass : <span style=\"font-weight: bold\">[</span><span style=\"color: #000080; font-weight: bold\">3</span> <span style=\"color: #000080; font-weight: bold\">3</span> <span style=\"color: #000080; font-weight: bold\">3</span> <span style=\"color: #000080; font-weight: bold\">3</span> <span style=\"color: #000080; font-weight: bold\">3</span> <span style=\"color: #000080; font-weight: bold\">3</span> <span style=\"color: #000080; font-weight: bold\">3</span> <span style=\"color: #000080; font-weight: bold\">3</span> <span style=\"color: #000080; font-weight: bold\">3</span> <span style=\"color: #000080; font-weight: bold\">3</span><span style=\"font-weight: bold\">]</span>                         <a href=\"file:///home/j-gunmo/desktop/00.my-project/17.P-Stage-T1003/4-STAGE/trainer.py\"><span style=\"color: #7f7f7f\">trainer.py</span></a><span style=\"color: #7f7f7f\">:344</span>\n",
       "</pre>\n"
      ],
      "text/plain": [
       "<rich.jupyter.JupyterRenderable at 0x7fa9510f44f0>"
      ]
     },
     "metadata": {},
     "output_type": "display_data"
    },
    {
     "data": {
      "text/html": [
       "<pre style=\"white-space:pre;overflow-x:auto;line-height:normal;font-family:Menlo,'DejaVu Sans Mono',consolas,'Courier New',monospace\"><span style=\"color: #7fbfbf\">           </span><span style=\"color: #000080\">INFO    </span> secondClass : <span style=\"font-weight: bold\">[</span><span style=\"color: #000080; font-weight: bold\">202</span> <span style=\"color: #000080; font-weight: bold\">202</span> <span style=\"color: #000080; font-weight: bold\">202</span> <span style=\"color: #000080; font-weight: bold\">202</span> <span style=\"color: #000080; font-weight: bold\">202</span> <span style=\"color: #000080; font-weight: bold\">203</span> <span style=\"color: #000080; font-weight: bold\">203</span> <span style=\"color: #000080; font-weight: bold\">203</span> <span style=\"color: #000080; font-weight: bold\">203</span> <span style=\"color: #000080; font-weight: bold\">203</span><span style=\"font-weight: bold\">]</span>    <a href=\"file:///home/j-gunmo/desktop/00.my-project/17.P-Stage-T1003/4-STAGE/trainer.py\"><span style=\"color: #7f7f7f\">trainer.py</span></a><span style=\"color: #7f7f7f\">:344</span>\n",
       "</pre>\n"
      ],
      "text/plain": [
       "<rich.jupyter.JupyterRenderable at 0x7fa94502ef40>"
      ]
     },
     "metadata": {},
     "output_type": "display_data"
    },
    {
     "data": {
      "text/html": [
       "<pre style=\"white-space:pre;overflow-x:auto;line-height:normal;font-family:Menlo,'DejaVu Sans Mono',consolas,'Courier New',monospace\"><span style=\"color: #7fbfbf\">           </span><span style=\"color: #000080\">INFO    </span> timeSec : <span style=\"font-weight: bold\">[</span><span style=\"color: #000080; font-weight: bold\">-0.11447921</span> <span style=\"color: #000080; font-weight: bold\">-0.11447379</span> <span style=\"color: #000080; font-weight: bold\">-0.11447122</span> <span style=\"color: #000080; font-weight: bold\">-0.11446865</span> <a href=\"file:///home/j-gunmo/desktop/00.my-project/17.P-Stage-T1003/4-STAGE/trainer.py\"><span style=\"color: #7f7f7f\">trainer.py</span></a><span style=\"color: #7f7f7f\">:344</span>\n",
       "                    <span style=\"color: #000080; font-weight: bold\">-0.11445496</span> <span style=\"color: #000080; font-weight: bold\">-0.05420875</span>                                                  \n",
       "                     <span style=\"color: #000080; font-weight: bold\">-0.05416395</span> <span style=\"color: #000080; font-weight: bold\">-0.05415254</span> <span style=\"color: #000080; font-weight: bold\">-0.05415026</span> <span style=\"color: #000080; font-weight: bold\">-0.05411659</span><span style=\"font-weight: bold\">]</span>                        \n",
       "</pre>\n"
      ],
      "text/plain": [
       "<rich.jupyter.JupyterRenderable at 0x7fa9510f45e0>"
      ]
     },
     "metadata": {},
     "output_type": "display_data"
    },
    {
     "data": {
      "text/html": [
       "<pre style=\"white-space:pre;overflow-x:auto;line-height:normal;font-family:Menlo,'DejaVu Sans Mono',consolas,'Courier New',monospace\"><span style=\"color: #7fbfbf\">           </span><span style=\"color: #000080\">INFO    </span> userPer : <span style=\"font-weight: bold\">[</span><span style=\"color: #000080; font-weight: bold\">0.875</span> <span style=\"color: #000080; font-weight: bold\">0.875</span> <span style=\"color: #000080; font-weight: bold\">0.875</span> <span style=\"color: #000080; font-weight: bold\">0.875</span> <span style=\"color: #000080; font-weight: bold\">0.875</span> <span style=\"color: #000080; font-weight: bold\">0.875</span> <span style=\"color: #000080; font-weight: bold\">0.875</span> <span style=\"color: #000080; font-weight: bold\">0.875</span> <a href=\"file:///home/j-gunmo/desktop/00.my-project/17.P-Stage-T1003/4-STAGE/trainer.py\"><span style=\"color: #7f7f7f\">trainer.py</span></a><span style=\"color: #7f7f7f\">:344</span>\n",
       "                    <span style=\"color: #000080; font-weight: bold\">0.875</span> <span style=\"color: #000080; font-weight: bold\">0.875</span><span style=\"font-weight: bold\">]</span>                                                             \n",
       "</pre>\n"
      ],
      "text/plain": [
       "<rich.jupyter.JupyterRenderable at 0x7fa940c3faf0>"
      ]
     },
     "metadata": {},
     "output_type": "display_data"
    },
    {
     "data": {
      "text/html": [
       "<pre style=\"white-space:pre;overflow-x:auto;line-height:normal;font-family:Menlo,'DejaVu Sans Mono',consolas,'Courier New',monospace\"><span style=\"color: #7fbfbf\">           </span><span style=\"color: #000080\">INFO    </span> assPer : <span style=\"font-weight: bold\">[</span><span style=\"color: #000080; font-weight: bold\">0.80759599</span> <span style=\"color: #000080; font-weight: bold\">0.66233321</span> <span style=\"color: #000080; font-weight: bold\">0.47781021</span> <span style=\"color: #000080; font-weight: bold\">0.72514954</span>      <a href=\"file:///home/j-gunmo/desktop/00.my-project/17.P-Stage-T1003/4-STAGE/trainer.py\"><span style=\"color: #7f7f7f\">trainer.py</span></a><span style=\"color: #7f7f7f\">:344</span>\n",
       "                    <span style=\"color: #000080; font-weight: bold\">0.4935143</span>  <span style=\"color: #000080; font-weight: bold\">0.61230952</span>                                                    \n",
       "                     <span style=\"color: #000080; font-weight: bold\">0.75470498</span> <span style=\"color: #000080; font-weight: bold\">0.7032844</span>  <span style=\"color: #000080; font-weight: bold\">0.4620032</span>  <span style=\"color: #000080; font-weight: bold\">0.29587516</span><span style=\"font-weight: bold\">]</span>                            \n",
       "</pre>\n"
      ],
      "text/plain": [
       "<rich.jupyter.JupyterRenderable at 0x7fa9510f4490>"
      ]
     },
     "metadata": {},
     "output_type": "display_data"
    },
    {
     "data": {
      "text/html": [
       "<pre style=\"white-space:pre;overflow-x:auto;line-height:normal;font-family:Menlo,'DejaVu Sans Mono',consolas,'Courier New',monospace\"><span style=\"color: #7fbfbf\">           </span><span style=\"color: #000080\">INFO    </span> firPer : <span style=\"font-weight: bold\">[</span><span style=\"color: #000080; font-weight: bold\">0.66711219</span> <span style=\"color: #000080; font-weight: bold\">0.66711219</span> <span style=\"color: #000080; font-weight: bold\">0.66711219</span> <span style=\"color: #000080; font-weight: bold\">0.66711219</span>      <a href=\"file:///home/j-gunmo/desktop/00.my-project/17.P-Stage-T1003/4-STAGE/trainer.py\"><span style=\"color: #7f7f7f\">trainer.py</span></a><span style=\"color: #7f7f7f\">:344</span>\n",
       "                    <span style=\"color: #000080; font-weight: bold\">0.66711219</span> <span style=\"color: #000080; font-weight: bold\">0.66711219</span>                                                    \n",
       "                     <span style=\"color: #000080; font-weight: bold\">0.66711219</span> <span style=\"color: #000080; font-weight: bold\">0.66711219</span> <span style=\"color: #000080; font-weight: bold\">0.66711219</span> <span style=\"color: #000080; font-weight: bold\">0.66711219</span><span style=\"font-weight: bold\">]</span>                            \n",
       "</pre>\n"
      ],
      "text/plain": [
       "<rich.jupyter.JupyterRenderable at 0x7fa94502eac0>"
      ]
     },
     "metadata": {},
     "output_type": "display_data"
    },
    {
     "data": {
      "text/html": [
       "<pre style=\"white-space:pre;overflow-x:auto;line-height:normal;font-family:Menlo,'DejaVu Sans Mono',consolas,'Courier New',monospace\"><span style=\"color: #7fbfbf\">           </span><span style=\"color: #000080\">INFO    </span> testPer : <span style=\"font-weight: bold\">[</span><span style=\"color: #000080; font-weight: bold\">0.51231999</span> <span style=\"color: #000080; font-weight: bold\">0.51231999</span> <span style=\"color: #000080; font-weight: bold\">0.51231999</span> <span style=\"color: #000080; font-weight: bold\">0.51231999</span>     <a href=\"file:///home/j-gunmo/desktop/00.my-project/17.P-Stage-T1003/4-STAGE/trainer.py\"><span style=\"color: #7f7f7f\">trainer.py</span></a><span style=\"color: #7f7f7f\">:344</span>\n",
       "                    <span style=\"color: #000080; font-weight: bold\">0.51231999</span> <span style=\"color: #000080; font-weight: bold\">0.41037337</span>                                                    \n",
       "                     <span style=\"color: #000080; font-weight: bold\">0.41037337</span> <span style=\"color: #000080; font-weight: bold\">0.41037337</span> <span style=\"color: #000080; font-weight: bold\">0.41037337</span> <span style=\"color: #000080; font-weight: bold\">0.41037337</span><span style=\"font-weight: bold\">]</span>                            \n",
       "</pre>\n"
      ],
      "text/plain": [
       "<rich.jupyter.JupyterRenderable at 0x7fa9450226a0>"
      ]
     },
     "metadata": {},
     "output_type": "display_data"
    },
    {
     "data": {
      "text/html": [
       "<pre style=\"white-space:pre;overflow-x:auto;line-height:normal;font-family:Menlo,'DejaVu Sans Mono',consolas,'Courier New',monospace\"><span style=\"color: #7fbfbf\">           </span><span style=\"color: #000080\">INFO    </span> secPer : <span style=\"font-weight: bold\">[</span><span style=\"color: #000080; font-weight: bold\">0.56839746</span> <span style=\"color: #000080; font-weight: bold\">0.56839746</span> <span style=\"color: #000080; font-weight: bold\">0.56839746</span> <span style=\"color: #000080; font-weight: bold\">0.56839746</span>      <a href=\"file:///home/j-gunmo/desktop/00.my-project/17.P-Stage-T1003/4-STAGE/trainer.py\"><span style=\"color: #7f7f7f\">trainer.py</span></a><span style=\"color: #7f7f7f\">:344</span>\n",
       "                    <span style=\"color: #000080; font-weight: bold\">0.56839746</span> <span style=\"color: #000080; font-weight: bold\">0.62825613</span>                                                    \n",
       "                     <span style=\"color: #000080; font-weight: bold\">0.62825613</span> <span style=\"color: #000080; font-weight: bold\">0.62825613</span> <span style=\"color: #000080; font-weight: bold\">0.62825613</span> <span style=\"color: #000080; font-weight: bold\">0.62825613</span><span style=\"font-weight: bold\">]</span>                            \n",
       "</pre>\n"
      ],
      "text/plain": [
       "<rich.jupyter.JupyterRenderable at 0x7fa94502edc0>"
      ]
     },
     "metadata": {},
     "output_type": "display_data"
    },
    {
     "data": {
      "text/html": [
       "<pre style=\"white-space:pre;overflow-x:auto;line-height:normal;font-family:Menlo,'DejaVu Sans Mono',consolas,'Courier New',monospace\"><span style=\"color: #7fbfbf\">           </span><span style=\"color: #000080\">INFO    </span>                                                            <a href=\"file:///home/j-gunmo/desktop/00.my-project/17.P-Stage-T1003/4-STAGE/trainer.py\"><span style=\"color: #7f7f7f\">trainer.py</span></a><span style=\"color: #7f7f7f\">:342</span>\n",
       "                    TEST EXAMPLES                                                            \n",
       "</pre>\n"
      ],
      "text/plain": [
       "<rich.jupyter.JupyterRenderable at 0x7fa951744eb0>"
      ]
     },
     "metadata": {},
     "output_type": "display_data"
    },
    {
     "data": {
      "text/html": [
       "<pre style=\"white-space:pre;overflow-x:auto;line-height:normal;font-family:Menlo,'DejaVu Sans Mono',consolas,'Courier New',monospace\"><span style=\"color: #7fbfbf\">           </span><span style=\"color: #000080\">INFO    </span> answerCode : <span style=\"font-weight: bold\">[</span><span style=\"color: #000080; font-weight: bold\">1</span> <span style=\"color: #000080; font-weight: bold\">1</span> <span style=\"color: #000080; font-weight: bold\">1</span> <span style=\"color: #000080; font-weight: bold\">1</span> <span style=\"color: #000080; font-weight: bold\">1</span> <span style=\"color: #000080; font-weight: bold\">1</span> <span style=\"color: #000080; font-weight: bold\">1</span> <span style=\"color: #000080; font-weight: bold\">1</span> <span style=\"color: #000080; font-weight: bold\">1</span> <span style=\"color: #000080; font-weight: bold\">1</span><span style=\"font-weight: bold\">]</span>                         <a href=\"file:///home/j-gunmo/desktop/00.my-project/17.P-Stage-T1003/4-STAGE/trainer.py\"><span style=\"color: #7f7f7f\">trainer.py</span></a><span style=\"color: #7f7f7f\">:344</span>\n",
       "</pre>\n"
      ],
      "text/plain": [
       "<rich.jupyter.JupyterRenderable at 0x7fa9510f45e0>"
      ]
     },
     "metadata": {},
     "output_type": "display_data"
    },
    {
     "data": {
      "text/html": [
       "<pre style=\"white-space:pre;overflow-x:auto;line-height:normal;font-family:Menlo,'DejaVu Sans Mono',consolas,'Courier New',monospace\"><span style=\"color: #7fbfbf\">           </span><span style=\"color: #000080\">INFO    </span> testPaper : <span style=\"font-weight: bold\">[</span><span style=\"color: #000080; font-weight: bold\">218</span> <span style=\"color: #000080; font-weight: bold\">218</span> <span style=\"color: #000080; font-weight: bold\">218</span> <span style=\"color: #000080; font-weight: bold\">218</span> <span style=\"color: #000080; font-weight: bold\">218</span> <span style=\"color: #000080; font-weight: bold\">218</span> <span style=\"color: #000080; font-weight: bold\">219</span> <span style=\"color: #000080; font-weight: bold\">219</span> <span style=\"color: #000080; font-weight: bold\">219</span> <span style=\"color: #000080; font-weight: bold\">219</span><span style=\"font-weight: bold\">]</span>      <a href=\"file:///home/j-gunmo/desktop/00.my-project/17.P-Stage-T1003/4-STAGE/trainer.py\"><span style=\"color: #7f7f7f\">trainer.py</span></a><span style=\"color: #7f7f7f\">:344</span>\n",
       "</pre>\n"
      ],
      "text/plain": [
       "<rich.jupyter.JupyterRenderable at 0x7fa9450220a0>"
      ]
     },
     "metadata": {},
     "output_type": "display_data"
    },
    {
     "data": {
      "text/html": [
       "<pre style=\"white-space:pre;overflow-x:auto;line-height:normal;font-family:Menlo,'DejaVu Sans Mono',consolas,'Courier New',monospace\"><span style=\"color: #7fbfbf\">           </span><span style=\"color: #000080\">INFO    </span> firstClass : <span style=\"font-weight: bold\">[</span><span style=\"color: #000080; font-weight: bold\">1</span> <span style=\"color: #000080; font-weight: bold\">1</span> <span style=\"color: #000080; font-weight: bold\">1</span> <span style=\"color: #000080; font-weight: bold\">1</span> <span style=\"color: #000080; font-weight: bold\">1</span> <span style=\"color: #000080; font-weight: bold\">1</span> <span style=\"color: #000080; font-weight: bold\">1</span> <span style=\"color: #000080; font-weight: bold\">1</span> <span style=\"color: #000080; font-weight: bold\">1</span> <span style=\"color: #000080; font-weight: bold\">1</span><span style=\"font-weight: bold\">]</span>                         <a href=\"file:///home/j-gunmo/desktop/00.my-project/17.P-Stage-T1003/4-STAGE/trainer.py\"><span style=\"color: #7f7f7f\">trainer.py</span></a><span style=\"color: #7f7f7f\">:344</span>\n",
       "</pre>\n"
      ],
      "text/plain": [
       "<rich.jupyter.JupyterRenderable at 0x7fa940c3faf0>"
      ]
     },
     "metadata": {},
     "output_type": "display_data"
    },
    {
     "data": {
      "text/html": [
       "<pre style=\"white-space:pre;overflow-x:auto;line-height:normal;font-family:Menlo,'DejaVu Sans Mono',consolas,'Courier New',monospace\"><span style=\"color: #7fbfbf\">           </span><span style=\"color: #000080\">INFO    </span> secondClass : <span style=\"font-weight: bold\">[</span><span style=\"color: #000080; font-weight: bold\">696</span> <span style=\"color: #000080; font-weight: bold\">696</span> <span style=\"color: #000080; font-weight: bold\">696</span> <span style=\"color: #000080; font-weight: bold\">696</span> <span style=\"color: #000080; font-weight: bold\">696</span> <span style=\"color: #000080; font-weight: bold\">696</span> <span style=\"color: #000080; font-weight: bold\">697</span> <span style=\"color: #000080; font-weight: bold\">697</span> <span style=\"color: #000080; font-weight: bold\">697</span> <span style=\"color: #000080; font-weight: bold\">697</span><span style=\"font-weight: bold\">]</span>    <a href=\"file:///home/j-gunmo/desktop/00.my-project/17.P-Stage-T1003/4-STAGE/trainer.py\"><span style=\"color: #7f7f7f\">trainer.py</span></a><span style=\"color: #7f7f7f\">:344</span>\n",
       "</pre>\n"
      ],
      "text/plain": [
       "<rich.jupyter.JupyterRenderable at 0x7fa951744eb0>"
      ]
     },
     "metadata": {},
     "output_type": "display_data"
    },
    {
     "data": {
      "text/html": [
       "<pre style=\"white-space:pre;overflow-x:auto;line-height:normal;font-family:Menlo,'DejaVu Sans Mono',consolas,'Courier New',monospace\"><span style=\"color: #7fbfbf\">           </span><span style=\"color: #000080\">INFO    </span> timeSec : <span style=\"font-weight: bold\">[</span><span style=\"color: #000080; font-weight: bold\">-2.1944334</span>  <span style=\"color: #000080; font-weight: bold\">-2.19442042</span> <span style=\"color: #000080; font-weight: bold\">-2.19441129</span> <span style=\"color: #000080; font-weight: bold\">-2.19440886</span> <a href=\"file:///home/j-gunmo/desktop/00.my-project/17.P-Stage-T1003/4-STAGE/trainer.py\"><span style=\"color: #7f7f7f\">trainer.py</span></a><span style=\"color: #7f7f7f\">:344</span>\n",
       "                    <span style=\"color: #000080; font-weight: bold\">-2.19440686</span> <span style=\"color: #000080; font-weight: bold\">-2.19439759</span>                                                  \n",
       "                     <span style=\"color: #000080; font-weight: bold\">-2.18717512</span> <span style=\"color: #000080; font-weight: bold\">-2.18717098</span> <span style=\"color: #000080; font-weight: bold\">-2.18716912</span> <span style=\"color: #000080; font-weight: bold\">-2.18716541</span><span style=\"font-weight: bold\">]</span>                        \n",
       "</pre>\n"
      ],
      "text/plain": [
       "<rich.jupyter.JupyterRenderable at 0x7fa94502edc0>"
      ]
     },
     "metadata": {},
     "output_type": "display_data"
    },
    {
     "data": {
      "text/html": [
       "<pre style=\"white-space:pre;overflow-x:auto;line-height:normal;font-family:Menlo,'DejaVu Sans Mono',consolas,'Courier New',monospace\"><span style=\"color: #7fbfbf\">           </span><span style=\"color: #000080\">INFO    </span> userPer : <span style=\"font-weight: bold\">[</span><span style=\"color: #000080; font-weight: bold\">0.87931034</span> <span style=\"color: #000080; font-weight: bold\">0.87931034</span> <span style=\"color: #000080; font-weight: bold\">0.87931034</span> <span style=\"color: #000080; font-weight: bold\">0.87931034</span>     <a href=\"file:///home/j-gunmo/desktop/00.my-project/17.P-Stage-T1003/4-STAGE/trainer.py\"><span style=\"color: #7f7f7f\">trainer.py</span></a><span style=\"color: #7f7f7f\">:344</span>\n",
       "                    <span style=\"color: #000080; font-weight: bold\">0.87931034</span> <span style=\"color: #000080; font-weight: bold\">0.87931034</span>                                                    \n",
       "                     <span style=\"color: #000080; font-weight: bold\">0.87931034</span> <span style=\"color: #000080; font-weight: bold\">0.87931034</span> <span style=\"color: #000080; font-weight: bold\">0.87931034</span> <span style=\"color: #000080; font-weight: bold\">0.87931034</span><span style=\"font-weight: bold\">]</span>                            \n",
       "</pre>\n"
      ],
      "text/plain": [
       "<rich.jupyter.JupyterRenderable at 0x7fa9510f4670>"
      ]
     },
     "metadata": {},
     "output_type": "display_data"
    },
    {
     "data": {
      "text/html": [
       "<pre style=\"white-space:pre;overflow-x:auto;line-height:normal;font-family:Menlo,'DejaVu Sans Mono',consolas,'Courier New',monospace\"><span style=\"color: #7fbfbf\">           </span><span style=\"color: #000080\">INFO    </span> assPer : <span style=\"font-weight: bold\">[</span><span style=\"color: #000080; font-weight: bold\">0.85699596</span> <span style=\"color: #000080; font-weight: bold\">0.55128289</span> <span style=\"color: #000080; font-weight: bold\">0.61877799</span> <span style=\"color: #000080; font-weight: bold\">0.90463956</span>      <a href=\"file:///home/j-gunmo/desktop/00.my-project/17.P-Stage-T1003/4-STAGE/trainer.py\"><span style=\"color: #7f7f7f\">trainer.py</span></a><span style=\"color: #7f7f7f\">:344</span>\n",
       "                    <span style=\"color: #000080; font-weight: bold\">0.68627308</span> <span style=\"color: #000080; font-weight: bold\">0.66245128</span>                                                    \n",
       "                     <span style=\"color: #000080; font-weight: bold\">0.89230915</span> <span style=\"color: #000080; font-weight: bold\">0.86441218</span> <span style=\"color: #000080; font-weight: bold\">0.93614726</span> <span style=\"color: #000080; font-weight: bold\">0.84448577</span><span style=\"font-weight: bold\">]</span>                            \n",
       "</pre>\n"
      ],
      "text/plain": [
       "<rich.jupyter.JupyterRenderable at 0x7fa9510f4490>"
      ]
     },
     "metadata": {},
     "output_type": "display_data"
    },
    {
     "data": {
      "text/html": [
       "<pre style=\"white-space:pre;overflow-x:auto;line-height:normal;font-family:Menlo,'DejaVu Sans Mono',consolas,'Courier New',monospace\"><span style=\"color: #7fbfbf\">           </span><span style=\"color: #000080\">INFO    </span> firPer : <span style=\"font-weight: bold\">[</span><span style=\"color: #000080; font-weight: bold\">0.81966802</span> <span style=\"color: #000080; font-weight: bold\">0.81966802</span> <span style=\"color: #000080; font-weight: bold\">0.81966802</span> <span style=\"color: #000080; font-weight: bold\">0.81966802</span>      <a href=\"file:///home/j-gunmo/desktop/00.my-project/17.P-Stage-T1003/4-STAGE/trainer.py\"><span style=\"color: #7f7f7f\">trainer.py</span></a><span style=\"color: #7f7f7f\">:344</span>\n",
       "                    <span style=\"color: #000080; font-weight: bold\">0.81966802</span> <span style=\"color: #000080; font-weight: bold\">0.81966802</span>                                                    \n",
       "                     <span style=\"color: #000080; font-weight: bold\">0.81966802</span> <span style=\"color: #000080; font-weight: bold\">0.81966802</span> <span style=\"color: #000080; font-weight: bold\">0.81966802</span> <span style=\"color: #000080; font-weight: bold\">0.81966802</span><span style=\"font-weight: bold\">]</span>                            \n",
       "</pre>\n"
      ],
      "text/plain": [
       "<rich.jupyter.JupyterRenderable at 0x7fa94502efa0>"
      ]
     },
     "metadata": {},
     "output_type": "display_data"
    },
    {
     "data": {
      "text/html": [
       "<pre style=\"white-space:pre;overflow-x:auto;line-height:normal;font-family:Menlo,'DejaVu Sans Mono',consolas,'Courier New',monospace\"><span style=\"color: #7fbfbf\">           </span><span style=\"color: #000080\">INFO    </span> testPer : <span style=\"font-weight: bold\">[</span><span style=\"color: #000080; font-weight: bold\">0.63307135</span> <span style=\"color: #000080; font-weight: bold\">0.63307135</span> <span style=\"color: #000080; font-weight: bold\">0.63307135</span> <span style=\"color: #000080; font-weight: bold\">0.63307135</span>     <a href=\"file:///home/j-gunmo/desktop/00.my-project/17.P-Stage-T1003/4-STAGE/trainer.py\"><span style=\"color: #7f7f7f\">trainer.py</span></a><span style=\"color: #7f7f7f\">:344</span>\n",
       "                    <span style=\"color: #000080; font-weight: bold\">0.63307135</span> <span style=\"color: #000080; font-weight: bold\">0.63307135</span>                                                    \n",
       "                     <span style=\"color: #000080; font-weight: bold\">0.8858791</span>  <span style=\"color: #000080; font-weight: bold\">0.8858791</span>  <span style=\"color: #000080; font-weight: bold\">0.8858791</span>  <span style=\"color: #000080; font-weight: bold\">0.8858791</span> <span style=\"font-weight: bold\">]</span>                            \n",
       "</pre>\n"
      ],
      "text/plain": [
       "<rich.jupyter.JupyterRenderable at 0x7fa9450226a0>"
      ]
     },
     "metadata": {},
     "output_type": "display_data"
    },
    {
     "data": {
      "text/html": [
       "<pre style=\"white-space:pre;overflow-x:auto;line-height:normal;font-family:Menlo,'DejaVu Sans Mono',consolas,'Courier New',monospace\"><span style=\"color: #7fbfbf\">           </span><span style=\"color: #000080\">INFO    </span> secPer : <span style=\"font-weight: bold\">[</span><span style=\"color: #000080; font-weight: bold\">0.73548936</span> <span style=\"color: #000080; font-weight: bold\">0.73548936</span> <span style=\"color: #000080; font-weight: bold\">0.73548936</span> <span style=\"color: #000080; font-weight: bold\">0.73548936</span>      <a href=\"file:///home/j-gunmo/desktop/00.my-project/17.P-Stage-T1003/4-STAGE/trainer.py\"><span style=\"color: #7f7f7f\">trainer.py</span></a><span style=\"color: #7f7f7f\">:344</span>\n",
       "                    <span style=\"color: #000080; font-weight: bold\">0.73548936</span> <span style=\"color: #000080; font-weight: bold\">0.73548936</span>                                                    \n",
       "                     <span style=\"color: #000080; font-weight: bold\">0.86910734</span> <span style=\"color: #000080; font-weight: bold\">0.86910734</span> <span style=\"color: #000080; font-weight: bold\">0.86910734</span> <span style=\"color: #000080; font-weight: bold\">0.86910734</span><span style=\"font-weight: bold\">]</span>                            \n",
       "</pre>\n"
      ],
      "text/plain": [
       "<rich.jupyter.JupyterRenderable at 0x7fa9517245e0>"
      ]
     },
     "metadata": {},
     "output_type": "display_data"
    },
    {
     "data": {
      "text/html": [
       "<pre style=\"white-space:pre;overflow-x:auto;line-height:normal;font-family:Menlo,'DejaVu Sans Mono',consolas,'Courier New',monospace\"><span style=\"color: #7fbfbf\">           </span><span style=\"color: #000080\">INFO    </span>                                                            <a href=\"file:///home/j-gunmo/desktop/00.my-project/17.P-Stage-T1003/4-STAGE/trainer.py\"><span style=\"color: #7f7f7f\">trainer.py</span></a><span style=\"color: #7f7f7f\">:349</span>\n",
       "                    CHECK BATCH SHAPE                                                        \n",
       "</pre>\n"
      ],
      "text/plain": [
       "<rich.jupyter.JupyterRenderable at 0x7fa9536f3a30>"
      ]
     },
     "metadata": {},
     "output_type": "display_data"
    },
    {
     "data": {
      "text/html": [
       "<pre style=\"white-space:pre;overflow-x:auto;line-height:normal;font-family:Menlo,'DejaVu Sans Mono',consolas,'Courier New',monospace\"><span style=\"color: #7fbfbf\">           </span><span style=\"color: #000080\">INFO    </span>                                                            <a href=\"file:///home/j-gunmo/desktop/00.my-project/17.P-Stage-T1003/4-STAGE/trainer.py\"><span style=\"color: #7f7f7f\">trainer.py</span></a><span style=\"color: #7f7f7f\">:352</span>\n",
       "                    TRAIN BATCH TYPE : <span style=\"font-weight: bold\">&lt;</span><span style=\"color: #ff00ff; font-weight: bold\">class</span><span style=\"color: #000000\"> </span><span style=\"color: #008000\">'dict'</span><span style=\"font-weight: bold\">&gt;</span>                                        \n",
       "</pre>\n"
      ],
      "text/plain": [
       "<rich.jupyter.JupyterRenderable at 0x7fa951744eb0>"
      ]
     },
     "metadata": {},
     "output_type": "display_data"
    },
    {
     "data": {
      "text/html": [
       "<pre style=\"white-space:pre;overflow-x:auto;line-height:normal;font-family:Menlo,'DejaVu Sans Mono',consolas,'Courier New',monospace\"><span style=\"color: #7fbfbf\">           </span><span style=\"color: #000080\">INFO    </span>                                                            <a href=\"file:///home/j-gunmo/desktop/00.my-project/17.P-Stage-T1003/4-STAGE/trainer.py\"><span style=\"color: #7f7f7f\">trainer.py</span></a><span style=\"color: #7f7f7f\">:353</span>\n",
       "                    TRAIN BATCH LEN : <span style=\"color: #000080; font-weight: bold\">11</span>                                                     \n",
       "</pre>\n"
      ],
      "text/plain": [
       "<rich.jupyter.JupyterRenderable at 0x7fa9536f3be0>"
      ]
     },
     "metadata": {},
     "output_type": "display_data"
    },
    {
     "data": {
      "text/html": [
       "<pre style=\"white-space:pre;overflow-x:auto;line-height:normal;font-family:Menlo,'DejaVu Sans Mono',consolas,'Courier New',monospace\"><span style=\"color: #7fbfbf\">           </span><span style=\"color: #000080\">INFO    </span>                                                            <a href=\"file:///home/j-gunmo/desktop/00.my-project/17.P-Stage-T1003/4-STAGE/trainer.py\"><span style=\"color: #7f7f7f\">trainer.py</span></a><span style=\"color: #7f7f7f\">:354</span>\n",
       "                    TRAIN BATCH DICT VALUE SHAPE : torch.Size<span style=\"font-weight: bold\">([</span><span style=\"color: #000080; font-weight: bold\">256</span>, <span style=\"color: #000080; font-weight: bold\">20</span><span style=\"font-weight: bold\">])</span>                     \n",
       "</pre>\n"
      ],
      "text/plain": [
       "<rich.jupyter.JupyterRenderable at 0x7fa9536f3970>"
      ]
     },
     "metadata": {},
     "output_type": "display_data"
    },
    {
     "data": {
      "text/html": [
       "<pre style=\"white-space:pre;overflow-x:auto;line-height:normal;font-family:Menlo,'DejaVu Sans Mono',consolas,'Courier New',monospace\"><span style=\"color: #7fbfbf\">           </span><span style=\"color: #000080\">INFO    </span>                                                            <a href=\"file:///home/j-gunmo/desktop/00.my-project/17.P-Stage-T1003/4-STAGE/trainer.py\"><span style=\"color: #7f7f7f\">trainer.py</span></a><span style=\"color: #7f7f7f\">:352</span>\n",
       "                    TEST BATCH TYPE : <span style=\"font-weight: bold\">&lt;</span><span style=\"color: #ff00ff; font-weight: bold\">class</span><span style=\"color: #000000\"> </span><span style=\"color: #008000\">'dict'</span><span style=\"font-weight: bold\">&gt;</span>                                         \n",
       "</pre>\n"
      ],
      "text/plain": [
       "<rich.jupyter.JupyterRenderable at 0x7fa9510f4520>"
      ]
     },
     "metadata": {},
     "output_type": "display_data"
    },
    {
     "data": {
      "text/html": [
       "<pre style=\"white-space:pre;overflow-x:auto;line-height:normal;font-family:Menlo,'DejaVu Sans Mono',consolas,'Courier New',monospace\"><span style=\"color: #7fbfbf\">           </span><span style=\"color: #000080\">INFO    </span>                                                            <a href=\"file:///home/j-gunmo/desktop/00.my-project/17.P-Stage-T1003/4-STAGE/trainer.py\"><span style=\"color: #7f7f7f\">trainer.py</span></a><span style=\"color: #7f7f7f\">:353</span>\n",
       "                    TEST BATCH LEN : <span style=\"color: #000080; font-weight: bold\">11</span>                                                      \n",
       "</pre>\n"
      ],
      "text/plain": [
       "<rich.jupyter.JupyterRenderable at 0x7fa9536f30d0>"
      ]
     },
     "metadata": {},
     "output_type": "display_data"
    },
    {
     "data": {
      "text/html": [
       "<pre style=\"white-space:pre;overflow-x:auto;line-height:normal;font-family:Menlo,'DejaVu Sans Mono',consolas,'Courier New',monospace\"><span style=\"color: #7fbfbf\">           </span><span style=\"color: #000080\">INFO    </span>                                                            <a href=\"file:///home/j-gunmo/desktop/00.my-project/17.P-Stage-T1003/4-STAGE/trainer.py\"><span style=\"color: #7f7f7f\">trainer.py</span></a><span style=\"color: #7f7f7f\">:354</span>\n",
       "                    TEST BATCH DICT VALUE SHAPE : torch.Size<span style=\"font-weight: bold\">([</span><span style=\"color: #000080; font-weight: bold\">256</span>, <span style=\"color: #000080; font-weight: bold\">20</span><span style=\"font-weight: bold\">])</span>                      \n",
       "</pre>\n"
      ],
      "text/plain": [
       "<rich.jupyter.JupyterRenderable at 0x7fa9536f33a0>"
      ]
     },
     "metadata": {},
     "output_type": "display_data"
    },
    {
     "data": {
      "text/html": [
       "<pre style=\"white-space:pre;overflow-x:auto;line-height:normal;font-family:Menlo,'DejaVu Sans Mono',consolas,'Courier New',monospace\"><span style=\"color: #7fbfbf\">           </span><span style=\"color: #000080\">INFO    </span>                                                            <a href=\"file:///home/j-gunmo/desktop/00.my-project/17.P-Stage-T1003/4-STAGE/trainer.py\"><span style=\"color: #7f7f7f\">trainer.py</span></a><span style=\"color: #7f7f7f\">:352</span>\n",
       "                    VALID BATCH TYPE : <span style=\"font-weight: bold\">&lt;</span><span style=\"color: #ff00ff; font-weight: bold\">class</span><span style=\"color: #000000\"> </span><span style=\"color: #008000\">'dict'</span><span style=\"font-weight: bold\">&gt;</span>                                        \n",
       "</pre>\n"
      ],
      "text/plain": [
       "<rich.jupyter.JupyterRenderable at 0x7fa940c0e040>"
      ]
     },
     "metadata": {},
     "output_type": "display_data"
    },
    {
     "data": {
      "text/html": [
       "<pre style=\"white-space:pre;overflow-x:auto;line-height:normal;font-family:Menlo,'DejaVu Sans Mono',consolas,'Courier New',monospace\"><span style=\"color: #7fbfbf\">           </span><span style=\"color: #000080\">INFO    </span>                                                            <a href=\"file:///home/j-gunmo/desktop/00.my-project/17.P-Stage-T1003/4-STAGE/trainer.py\"><span style=\"color: #7f7f7f\">trainer.py</span></a><span style=\"color: #7f7f7f\">:353</span>\n",
       "                    VALID BATCH LEN : <span style=\"color: #000080; font-weight: bold\">11</span>                                                     \n",
       "</pre>\n"
      ],
      "text/plain": [
       "<rich.jupyter.JupyterRenderable at 0x7fa9536f32e0>"
      ]
     },
     "metadata": {},
     "output_type": "display_data"
    },
    {
     "data": {
      "text/html": [
       "<pre style=\"white-space:pre;overflow-x:auto;line-height:normal;font-family:Menlo,'DejaVu Sans Mono',consolas,'Courier New',monospace\"><span style=\"color: #7fbfbf\">           </span><span style=\"color: #000080\">INFO    </span>                                                            <a href=\"file:///home/j-gunmo/desktop/00.my-project/17.P-Stage-T1003/4-STAGE/trainer.py\"><span style=\"color: #7f7f7f\">trainer.py</span></a><span style=\"color: #7f7f7f\">:354</span>\n",
       "                    VALID BATCH DICT VALUE SHAPE : torch.Size<span style=\"font-weight: bold\">([</span><span style=\"color: #000080; font-weight: bold\">256</span>, <span style=\"color: #000080; font-weight: bold\">20</span><span style=\"font-weight: bold\">])</span>                     \n",
       "</pre>\n"
      ],
      "text/plain": [
       "<rich.jupyter.JupyterRenderable at 0x7fa9536f3310>"
      ]
     },
     "metadata": {},
     "output_type": "display_data"
    },
    {
     "data": {
      "text/html": [
       "<pre style=\"white-space:pre;overflow-x:auto;line-height:normal;font-family:Menlo,'DejaVu Sans Mono',consolas,'Courier New',monospace\"><span style=\"color: #7fbfbf\">           </span><span style=\"color: #000080\">INFO    </span>                                                            <a href=\"file:///home/j-gunmo/desktop/00.my-project/17.P-Stage-T1003/4-STAGE/trainer.py\"><span style=\"color: #7f7f7f\">trainer.py</span></a><span style=\"color: #7f7f7f\">:356</span>\n",
       "                    CHECK MODEL FORWARD                                                      \n",
       "</pre>\n"
      ],
      "text/plain": [
       "<rich.jupyter.JupyterRenderable at 0x7fa9536f3c10>"
      ]
     },
     "metadata": {},
     "output_type": "display_data"
    },
    {
     "data": {
      "text/html": [
       "<pre style=\"white-space:pre;overflow-x:auto;line-height:normal;font-family:Menlo,'DejaVu Sans Mono',consolas,'Courier New',monospace\"><span style=\"color: #7fbfbf\">           </span><span style=\"color: #000080\">INFO    </span>                                                            <a href=\"file:///home/j-gunmo/desktop/00.my-project/17.P-Stage-T1003/4-STAGE/trainer.py\"><span style=\"color: #7f7f7f\">trainer.py</span></a><span style=\"color: #7f7f7f\">:361</span>\n",
       "                    PREDS SHAPE: torch.Size<span style=\"font-weight: bold\">([</span><span style=\"color: #000080; font-weight: bold\">256</span>, <span style=\"color: #000080; font-weight: bold\">20</span><span style=\"font-weight: bold\">])</span>                                       \n",
       "</pre>\n"
      ],
      "text/plain": [
       "<rich.jupyter.JupyterRenderable at 0x7fa9536f3fd0>"
      ]
     },
     "metadata": {},
     "output_type": "display_data"
    },
    {
     "data": {
      "text/html": [
       "<pre style=\"white-space:pre;overflow-x:auto;line-height:normal;font-family:Menlo,'DejaVu Sans Mono',consolas,'Courier New',monospace\"><span style=\"color: #7fbfbf\">           </span><span style=\"color: #000080\">INFO    </span>                                                            <a href=\"file:///home/j-gunmo/desktop/00.my-project/17.P-Stage-T1003/4-STAGE/trainer.py\"><span style=\"color: #7f7f7f\">trainer.py</span></a><span style=\"color: #7f7f7f\">:362</span>\n",
       "                    PREDS EXAMPLES: tensor<span style=\"font-weight: bold\">([</span><span style=\"color: #000080; font-weight: bold\">0.5043</span>, <span style=\"color: #000080; font-weight: bold\">0.5067</span>, <span style=\"color: #000080; font-weight: bold\">0.5091</span>, <span style=\"color: #000080; font-weight: bold\">0.5108</span>,                  \n",
       "                    <span style=\"color: #000080; font-weight: bold\">0.5124</span>, <span style=\"color: #000080; font-weight: bold\">0.5129</span>, <span style=\"color: #000080; font-weight: bold\">0.5138</span>, <span style=\"color: #000080; font-weight: bold\">0.5143</span>, <span style=\"color: #000080; font-weight: bold\">0.5145</span>,                                  \n",
       "                            <span style=\"color: #000080; font-weight: bold\">0.5147</span>, <span style=\"color: #000080; font-weight: bold\">0.5133</span>, <span style=\"color: #000080; font-weight: bold\">0.5127</span>, <span style=\"color: #000080; font-weight: bold\">0.5122</span>, <span style=\"color: #000080; font-weight: bold\">0.5117</span>, <span style=\"color: #000080; font-weight: bold\">0.5112</span>,                  \n",
       "                    <span style=\"color: #000080; font-weight: bold\">0.5139</span>, <span style=\"color: #000080; font-weight: bold\">0.5166</span>, <span style=\"color: #000080; font-weight: bold\">0.5178</span>,                                                  \n",
       "                            <span style=\"color: #000080; font-weight: bold\">0.5193</span>, <span style=\"color: #000080; font-weight: bold\">0.5202</span><span style=\"font-weight: bold\">]</span>, <span style=\"color: #808000\">device</span>=<span style=\"color: #008000\">'cuda:0'</span>,                                \n",
       "                    <span style=\"color: #808000\">grad_fn</span>=<span style=\"font-weight: bold\">&lt;</span><span style=\"color: #ff00ff; font-weight: bold\">SelectBackward</span><span style=\"font-weight: bold\">&gt;)</span>                                                \n",
       "</pre>\n"
      ],
      "text/plain": [
       "<rich.jupyter.JupyterRenderable at 0x7fa9536f32e0>"
      ]
     },
     "metadata": {},
     "output_type": "display_data"
    },
    {
     "data": {
      "text/html": [
       "<pre style=\"white-space:pre;overflow-x:auto;line-height:normal;font-family:Menlo,'DejaVu Sans Mono',consolas,'Courier New',monospace\"><span style=\"color: #7fbfbf\">           </span><span style=\"color: #000080\">INFO    </span>                                                            <a href=\"file:///home/j-gunmo/desktop/00.my-project/17.P-Stage-T1003/4-STAGE/trainer.py\"><span style=\"color: #7f7f7f\">trainer.py</span></a><span style=\"color: #7f7f7f\">:364</span>\n",
       "                    CHECK METRICS                                                            \n",
       "</pre>\n"
      ],
      "text/plain": [
       "<rich.jupyter.JupyterRenderable at 0x7fa9536f3460>"
      ]
     },
     "metadata": {},
     "output_type": "display_data"
    },
    {
     "data": {
      "text/html": [
       "<pre style=\"white-space:pre;overflow-x:auto;line-height:normal;font-family:Menlo,'DejaVu Sans Mono',consolas,'Courier New',monospace\"><span style=\"color: #7fbfbf\">[13:48:06] </span><span style=\"color: #000080\">INFO    </span>                                                            <a href=\"file:///home/j-gunmo/desktop/00.my-project/17.P-Stage-T1003/4-STAGE/trainer.py\"><span style=\"color: #7f7f7f\">trainer.py</span></a><span style=\"color: #7f7f7f\">:370</span>\n",
       "                    LOSS : <span style=\"color: #000080; font-weight: bold\">0.6915044188499451</span>                                                \n",
       "</pre>\n"
      ],
      "text/plain": [
       "<rich.jupyter.JupyterRenderable at 0x7fa9536f3fa0>"
      ]
     },
     "metadata": {},
     "output_type": "display_data"
    },
    {
     "data": {
      "text/html": [
       "<pre style=\"white-space:pre;overflow-x:auto;line-height:normal;font-family:Menlo,'DejaVu Sans Mono',consolas,'Courier New',monospace\"><span style=\"color: #7fbfbf\">           </span><span style=\"color: #000080\">INFO    </span> AUC: <span style=\"color: #000080; font-weight: bold\">0.5758797653958945</span> ACC: <span style=\"color: #000080; font-weight: bold\">0.546875</span>                      <a href=\"file:///home/j-gunmo/desktop/00.my-project/17.P-Stage-T1003/4-STAGE/trainer.py\"><span style=\"color: #7f7f7f\">trainer.py</span></a><span style=\"color: #7f7f7f\">:373</span>\n",
       "</pre>\n"
      ],
      "text/plain": [
       "<rich.jupyter.JupyterRenderable at 0x7fa9536f32e0>"
      ]
     },
     "metadata": {},
     "output_type": "display_data"
    }
   ],
   "source": [
    "trainer.debug(train_dataset, valid_dataset, test_dataset)"
   ]
  },
  {
   "cell_type": "code",
   "execution_count": 78,
   "metadata": {
    "collapsed": true,
    "jupyter": {
     "outputs_hidden": true
    }
   },
   "outputs": [
    {
     "name": "stderr",
     "output_type": "stream",
     "text": [
      "\u001b[34m\u001b[1mwandb\u001b[0m: Currently logged in as: \u001b[33mggm1207\u001b[0m (use `wandb login --relogin` to force relogin)\n",
      "\u001b[34m\u001b[1mwandb\u001b[0m: wandb version 0.10.32 is available!  To upgrade, please run:\n",
      "\u001b[34m\u001b[1mwandb\u001b[0m:  $ pip install wandb --upgrade\n"
     ]
    },
    {
     "data": {
      "text/html": [
       "\n",
       "                Tracking run with wandb version 0.10.27<br/>\n",
       "                Syncing run <strong style=\"color:#cdcd00\">driven-night-508</strong> to <a href=\"https://wandb.ai\" target=\"_blank\">Weights & Biases</a> <a href=\"https://docs.wandb.com/integrations/jupyter.html\" target=\"_blank\">(Documentation)</a>.<br/>\n",
       "                Project page: <a href=\"https://wandb.ai/ggm1207/p-stage-4\" target=\"_blank\">https://wandb.ai/ggm1207/p-stage-4</a><br/>\n",
       "                Run page: <a href=\"https://wandb.ai/ggm1207/p-stage-4/runs/3l99t00n\" target=\"_blank\">https://wandb.ai/ggm1207/p-stage-4/runs/3l99t00n</a><br/>\n",
       "                Run data is saved locally in <code>/home/j-gunmo/desktop/00.my-project/17.P-Stage-T1003/4-STAGE/notebook/wandb/run-20210614_125856-3l99t00n</code><br/><br/>\n",
       "            "
      ],
      "text/plain": [
       "<IPython.core.display.HTML object>"
      ]
     },
     "metadata": {},
     "output_type": "display_data"
    },
    {
     "data": {
      "text/html": [
       "<pre style=\"white-space:pre;overflow-x:auto;line-height:normal;font-family:Menlo,'DejaVu Sans Mono',consolas,'Courier New',monospace\"><span style=\"color: #7fbfbf\">[12:58:59] </span><span style=\"color: #000080\">INFO    </span> Start Training: Epoch <span style=\"color: #000080; font-weight: bold\">1</span>                                    <a href=\"file:///home/j-gunmo/desktop/00.my-project/17.P-Stage-T1003/4-STAGE/trainer.py\"><span style=\"color: #7f7f7f\">trainer.py</span></a><span style=\"color: #7f7f7f\">:409</span>\n",
       "</pre>\n"
      ],
      "text/plain": [
       "<rich.jupyter.JupyterRenderable at 0x7fa941dc2c40>"
      ]
     },
     "metadata": {},
     "output_type": "display_data"
    },
    {
     "name": "stdout",
     "output_type": "stream",
     "text": [
      "Training steps: 0 Loss: 0.6900123357772827\n",
      "Training steps: 50 Loss: 0.5907658338546753\n",
      "Training steps: 100 Loss: 0.6147000789642334\n",
      "VALID AUC : 0.7775235145970394 ACC : 0.709726443768997\n",
      "\n"
     ]
    },
    {
     "data": {
      "text/html": [
       "<pre style=\"white-space:pre;overflow-x:auto;line-height:normal;font-family:Menlo,'DejaVu Sans Mono',consolas,'Courier New',monospace\"><span style=\"color: #7fbfbf\">[12:59:05] </span><span style=\"color: #000080\">INFO    </span> TRAIN_LOSS: <span style=\"color: #000080; font-weight: bold\">0.603069007396698</span>                              <a href=\"file:///home/j-gunmo/desktop/00.my-project/17.P-Stage-T1003/4-STAGE/trainer.py\"><span style=\"color: #7f7f7f\">trainer.py</span></a><span style=\"color: #7f7f7f\">:425</span>\n",
       "</pre>\n"
      ],
      "text/plain": [
       "<rich.jupyter.JupyterRenderable at 0x7faaed65ff40>"
      ]
     },
     "metadata": {},
     "output_type": "display_data"
    },
    {
     "data": {
      "text/html": [
       "<pre style=\"white-space:pre;overflow-x:auto;line-height:normal;font-family:Menlo,'DejaVu Sans Mono',consolas,'Courier New',monospace\"><span style=\"color: #7fbfbf\">           </span><span style=\"color: #000080\">INFO    </span> TRAIN AUC: <span style=\"color: #000080; font-weight: bold\">0.7409158609288152</span> TRAIN ACC:                   <a href=\"file:///home/j-gunmo/desktop/00.my-project/17.P-Stage-T1003/4-STAGE/trainer.py\"><span style=\"color: #7f7f7f\">trainer.py</span></a><span style=\"color: #7f7f7f\">:426</span>\n",
       "                    <span style=\"color: #000080; font-weight: bold\">0.6921030967006523</span>                                                       \n",
       "</pre>\n"
      ],
      "text/plain": [
       "<rich.jupyter.JupyterRenderable at 0x7faaed65d6a0>"
      ]
     },
     "metadata": {},
     "output_type": "display_data"
    },
    {
     "data": {
      "text/html": [
       "<pre style=\"white-space:pre;overflow-x:auto;line-height:normal;font-family:Menlo,'DejaVu Sans Mono',consolas,'Courier New',monospace\"><span style=\"color: #7fbfbf\">           </span><span style=\"color: #000080\">INFO    </span> VALID AUC: <span style=\"color: #000080; font-weight: bold\">0.7775235145970394</span> VALID ACC: <span style=\"color: #000080; font-weight: bold\">0.709726443768997</span> <a href=\"file:///home/j-gunmo/desktop/00.my-project/17.P-Stage-T1003/4-STAGE/trainer.py\"><span style=\"color: #7f7f7f\">trainer.py</span></a><span style=\"color: #7f7f7f\">:427</span>\n",
       "                                                                                             \n",
       "</pre>\n"
      ],
      "text/plain": [
       "<rich.jupyter.JupyterRenderable at 0x7fab085f0e80>"
      ]
     },
     "metadata": {},
     "output_type": "display_data"
    },
    {
     "data": {
      "text/html": [
       "<pre style=\"white-space:pre;overflow-x:auto;line-height:normal;font-family:Menlo,'DejaVu Sans Mono',consolas,'Courier New',monospace\"><span style=\"color: #7fbfbf\">           </span><span style=\"color: #000080\">INFO    </span> Start Training: Epoch <span style=\"color: #000080; font-weight: bold\">2</span>                                    <a href=\"file:///home/j-gunmo/desktop/00.my-project/17.P-Stage-T1003/4-STAGE/trainer.py\"><span style=\"color: #7f7f7f\">trainer.py</span></a><span style=\"color: #7f7f7f\">:409</span>\n",
       "</pre>\n"
      ],
      "text/plain": [
       "<rich.jupyter.JupyterRenderable at 0x7faaefd834f0>"
      ]
     },
     "metadata": {},
     "output_type": "display_data"
    },
    {
     "name": "stdout",
     "output_type": "stream",
     "text": [
      "Training steps: 0 Loss: 0.6053119897842407\n",
      "Training steps: 50 Loss: 0.5378944873809814\n",
      "Training steps: 100 Loss: 0.6572806239128113\n",
      "VALID AUC : 0.7812949732730264 ACC : 0.7092198581560284\n",
      "\n"
     ]
    },
    {
     "data": {
      "text/html": [
       "<pre style=\"white-space:pre;overflow-x:auto;line-height:normal;font-family:Menlo,'DejaVu Sans Mono',consolas,'Courier New',monospace\"><span style=\"color: #7fbfbf\">[12:59:12] </span><span style=\"color: #000080\">INFO    </span> TRAIN_LOSS: <span style=\"color: #000080; font-weight: bold\">0.5766077041625977</span>                             <a href=\"file:///home/j-gunmo/desktop/00.my-project/17.P-Stage-T1003/4-STAGE/trainer.py\"><span style=\"color: #7f7f7f\">trainer.py</span></a><span style=\"color: #7f7f7f\">:425</span>\n",
       "</pre>\n"
      ],
      "text/plain": [
       "<rich.jupyter.JupyterRenderable at 0x7fa9b0ec95b0>"
      ]
     },
     "metadata": {},
     "output_type": "display_data"
    },
    {
     "data": {
      "text/html": [
       "<pre style=\"white-space:pre;overflow-x:auto;line-height:normal;font-family:Menlo,'DejaVu Sans Mono',consolas,'Courier New',monospace\"><span style=\"color: #7fbfbf\">           </span><span style=\"color: #000080\">INFO    </span> TRAIN AUC: <span style=\"color: #000080; font-weight: bold\">0.7665908219769528</span> TRAIN ACC:                   <a href=\"file:///home/j-gunmo/desktop/00.my-project/17.P-Stage-T1003/4-STAGE/trainer.py\"><span style=\"color: #7f7f7f\">trainer.py</span></a><span style=\"color: #7f7f7f\">:426</span>\n",
       "                    <span style=\"color: #000080; font-weight: bold\">0.7044519029827117</span>                                                       \n",
       "</pre>\n"
      ],
      "text/plain": [
       "<rich.jupyter.JupyterRenderable at 0x7faaed65d6a0>"
      ]
     },
     "metadata": {},
     "output_type": "display_data"
    },
    {
     "data": {
      "text/html": [
       "<pre style=\"white-space:pre;overflow-x:auto;line-height:normal;font-family:Menlo,'DejaVu Sans Mono',consolas,'Courier New',monospace\"><span style=\"color: #7fbfbf\">           </span><span style=\"color: #000080\">INFO    </span> VALID AUC: <span style=\"color: #000080; font-weight: bold\">0.7812949732730264</span> VALID ACC:                   <a href=\"file:///home/j-gunmo/desktop/00.my-project/17.P-Stage-T1003/4-STAGE/trainer.py\"><span style=\"color: #7f7f7f\">trainer.py</span></a><span style=\"color: #7f7f7f\">:427</span>\n",
       "                    <span style=\"color: #000080; font-weight: bold\">0.7092198581560284</span>                                                       \n",
       "                                                                                             \n",
       "</pre>\n"
      ],
      "text/plain": [
       "<rich.jupyter.JupyterRenderable at 0x7fa9411952e0>"
      ]
     },
     "metadata": {},
     "output_type": "display_data"
    },
    {
     "data": {
      "text/html": [
       "<pre style=\"white-space:pre;overflow-x:auto;line-height:normal;font-family:Menlo,'DejaVu Sans Mono',consolas,'Courier New',monospace\"><span style=\"color: #7fbfbf\">[12:59:13] </span><span style=\"color: #000080\">INFO    </span> Start Training: Epoch <span style=\"color: #000080; font-weight: bold\">3</span>                                    <a href=\"file:///home/j-gunmo/desktop/00.my-project/17.P-Stage-T1003/4-STAGE/trainer.py\"><span style=\"color: #7f7f7f\">trainer.py</span></a><span style=\"color: #7f7f7f\">:409</span>\n",
       "</pre>\n"
      ],
      "text/plain": [
       "<rich.jupyter.JupyterRenderable at 0x7fa9b0ec95b0>"
      ]
     },
     "metadata": {},
     "output_type": "display_data"
    },
    {
     "name": "stdout",
     "output_type": "stream",
     "text": [
      "Training steps: 0 Loss: 0.5924673676490784\n",
      "Training steps: 50 Loss: 0.5560609698295593\n",
      "Training steps: 100 Loss: 0.5315614938735962\n",
      "VALID AUC : 0.7831839792351974 ACC : 0.7201114488348531\n",
      "\n"
     ]
    },
    {
     "data": {
      "text/html": [
       "<pre style=\"white-space:pre;overflow-x:auto;line-height:normal;font-family:Menlo,'DejaVu Sans Mono',consolas,'Courier New',monospace\"><span style=\"color: #7fbfbf\">[12:59:19] </span><span style=\"color: #000080\">INFO    </span> TRAIN_LOSS: <span style=\"color: #000080; font-weight: bold\">0.5731945633888245</span>                             <a href=\"file:///home/j-gunmo/desktop/00.my-project/17.P-Stage-T1003/4-STAGE/trainer.py\"><span style=\"color: #7f7f7f\">trainer.py</span></a><span style=\"color: #7f7f7f\">:425</span>\n",
       "</pre>\n"
      ],
      "text/plain": [
       "<rich.jupyter.JupyterRenderable at 0x7fa9411957f0>"
      ]
     },
     "metadata": {},
     "output_type": "display_data"
    },
    {
     "data": {
      "text/html": [
       "<pre style=\"white-space:pre;overflow-x:auto;line-height:normal;font-family:Menlo,'DejaVu Sans Mono',consolas,'Courier New',monospace\"><span style=\"color: #7fbfbf\">           </span><span style=\"color: #000080\">INFO    </span> TRAIN AUC: <span style=\"color: #000080; font-weight: bold\">0.7708104265684191</span> TRAIN ACC:                   <a href=\"file:///home/j-gunmo/desktop/00.my-project/17.P-Stage-T1003/4-STAGE/trainer.py\"><span style=\"color: #7f7f7f\">trainer.py</span></a><span style=\"color: #7f7f7f\">:426</span>\n",
       "                    <span style=\"color: #000080; font-weight: bold\">0.7090747894370211</span>                                                       \n",
       "</pre>\n"
      ],
      "text/plain": [
       "<rich.jupyter.JupyterRenderable at 0x7fab085f0b20>"
      ]
     },
     "metadata": {},
     "output_type": "display_data"
    },
    {
     "data": {
      "text/html": [
       "<pre style=\"white-space:pre;overflow-x:auto;line-height:normal;font-family:Menlo,'DejaVu Sans Mono',consolas,'Courier New',monospace\"><span style=\"color: #7fbfbf\">           </span><span style=\"color: #000080\">INFO    </span> VALID AUC: <span style=\"color: #000080; font-weight: bold\">0.7831839792351974</span> VALID ACC:                   <a href=\"file:///home/j-gunmo/desktop/00.my-project/17.P-Stage-T1003/4-STAGE/trainer.py\"><span style=\"color: #7f7f7f\">trainer.py</span></a><span style=\"color: #7f7f7f\">:427</span>\n",
       "                    <span style=\"color: #000080; font-weight: bold\">0.7201114488348531</span>                                                       \n",
       "                                                                                             \n",
       "</pre>\n"
      ],
      "text/plain": [
       "<rich.jupyter.JupyterRenderable at 0x7faaed65d3d0>"
      ]
     },
     "metadata": {},
     "output_type": "display_data"
    },
    {
     "data": {
      "text/html": [
       "<pre style=\"white-space:pre;overflow-x:auto;line-height:normal;font-family:Menlo,'DejaVu Sans Mono',consolas,'Courier New',monospace\"><span style=\"color: #7fbfbf\">[12:59:20] </span><span style=\"color: #000080\">INFO    </span> Start Training: Epoch <span style=\"color: #000080; font-weight: bold\">4</span>                                    <a href=\"file:///home/j-gunmo/desktop/00.my-project/17.P-Stage-T1003/4-STAGE/trainer.py\"><span style=\"color: #7f7f7f\">trainer.py</span></a><span style=\"color: #7f7f7f\">:409</span>\n",
       "</pre>\n"
      ],
      "text/plain": [
       "<rich.jupyter.JupyterRenderable at 0x7faaefd83e80>"
      ]
     },
     "metadata": {},
     "output_type": "display_data"
    },
    {
     "name": "stdout",
     "output_type": "stream",
     "text": [
      "Training steps: 0 Loss: 0.48299431800842285\n",
      "Training steps: 50 Loss: 0.5084896087646484\n",
      "Training steps: 100 Loss: 0.6187272071838379\n",
      "VALID AUC : 0.783579615542763 ACC : 0.7160587639311043\n",
      "\n"
     ]
    },
    {
     "data": {
      "text/html": [
       "<pre style=\"white-space:pre;overflow-x:auto;line-height:normal;font-family:Menlo,'DejaVu Sans Mono',consolas,'Courier New',monospace\"><span style=\"color: #7fbfbf\">[12:59:26] </span><span style=\"color: #000080\">INFO    </span> TRAIN_LOSS: <span style=\"color: #000080; font-weight: bold\">0.5709317326545715</span>                             <a href=\"file:///home/j-gunmo/desktop/00.my-project/17.P-Stage-T1003/4-STAGE/trainer.py\"><span style=\"color: #7f7f7f\">trainer.py</span></a><span style=\"color: #7f7f7f\">:425</span>\n",
       "</pre>\n"
      ],
      "text/plain": [
       "<rich.jupyter.JupyterRenderable at 0x7fab08609070>"
      ]
     },
     "metadata": {},
     "output_type": "display_data"
    },
    {
     "data": {
      "text/html": [
       "<pre style=\"white-space:pre;overflow-x:auto;line-height:normal;font-family:Menlo,'DejaVu Sans Mono',consolas,'Courier New',monospace\"><span style=\"color: #7fbfbf\">           </span><span style=\"color: #000080\">INFO    </span> TRAIN AUC: <span style=\"color: #000080; font-weight: bold\">0.7734475129771352</span> TRAIN ACC:                   <a href=\"file:///home/j-gunmo/desktop/00.my-project/17.P-Stage-T1003/4-STAGE/trainer.py\"><span style=\"color: #7f7f7f\">trainer.py</span></a><span style=\"color: #7f7f7f\">:426</span>\n",
       "                    <span style=\"color: #000080; font-weight: bold\">0.7097080615540498</span>                                                       \n",
       "</pre>\n"
      ],
      "text/plain": [
       "<rich.jupyter.JupyterRenderable at 0x7fa941195d30>"
      ]
     },
     "metadata": {},
     "output_type": "display_data"
    },
    {
     "data": {
      "text/html": [
       "<pre style=\"white-space:pre;overflow-x:auto;line-height:normal;font-family:Menlo,'DejaVu Sans Mono',consolas,'Courier New',monospace\"><span style=\"color: #7fbfbf\">           </span><span style=\"color: #000080\">INFO    </span> VALID AUC: <span style=\"color: #000080; font-weight: bold\">0.783579615542763</span> VALID ACC: <span style=\"color: #000080; font-weight: bold\">0.7160587639311043</span> <a href=\"file:///home/j-gunmo/desktop/00.my-project/17.P-Stage-T1003/4-STAGE/trainer.py\"><span style=\"color: #7f7f7f\">trainer.py</span></a><span style=\"color: #7f7f7f\">:427</span>\n",
       "                                                                                             \n",
       "</pre>\n"
      ],
      "text/plain": [
       "<rich.jupyter.JupyterRenderable at 0x7faaed65ff40>"
      ]
     },
     "metadata": {},
     "output_type": "display_data"
    },
    {
     "data": {
      "text/html": [
       "<pre style=\"white-space:pre;overflow-x:auto;line-height:normal;font-family:Menlo,'DejaVu Sans Mono',consolas,'Courier New',monospace\"><span style=\"color: #7fbfbf\">[12:59:27] </span><span style=\"color: #000080\">INFO    </span> Start Training: Epoch <span style=\"color: #000080; font-weight: bold\">5</span>                                    <a href=\"file:///home/j-gunmo/desktop/00.my-project/17.P-Stage-T1003/4-STAGE/trainer.py\"><span style=\"color: #7f7f7f\">trainer.py</span></a><span style=\"color: #7f7f7f\">:409</span>\n",
       "</pre>\n"
      ],
      "text/plain": [
       "<rich.jupyter.JupyterRenderable at 0x7fa941195460>"
      ]
     },
     "metadata": {},
     "output_type": "display_data"
    },
    {
     "name": "stdout",
     "output_type": "stream",
     "text": [
      "Training steps: 0 Loss: 0.49531498551368713\n",
      "Training steps: 50 Loss: 0.6231862902641296\n",
      "Training steps: 100 Loss: 0.5287169218063354\n",
      "VALID AUC : 0.7848938630756579 ACC : 0.7178318135764944\n",
      "\n"
     ]
    },
    {
     "data": {
      "text/html": [
       "<pre style=\"white-space:pre;overflow-x:auto;line-height:normal;font-family:Menlo,'DejaVu Sans Mono',consolas,'Courier New',monospace\"><span style=\"color: #7fbfbf\">[12:59:34] </span><span style=\"color: #000080\">INFO    </span> TRAIN_LOSS: <span style=\"color: #000080; font-weight: bold\">0.567794144153595</span>                              <a href=\"file:///home/j-gunmo/desktop/00.my-project/17.P-Stage-T1003/4-STAGE/trainer.py\"><span style=\"color: #7f7f7f\">trainer.py</span></a><span style=\"color: #7f7f7f\">:425</span>\n",
       "</pre>\n"
      ],
      "text/plain": [
       "<rich.jupyter.JupyterRenderable at 0x7fa9b0ec95b0>"
      ]
     },
     "metadata": {},
     "output_type": "display_data"
    },
    {
     "data": {
      "text/html": [
       "<pre style=\"white-space:pre;overflow-x:auto;line-height:normal;font-family:Menlo,'DejaVu Sans Mono',consolas,'Courier New',monospace\"><span style=\"color: #7fbfbf\">           </span><span style=\"color: #000080\">INFO    </span> TRAIN AUC: <span style=\"color: #000080; font-weight: bold\">0.7762921100076644</span> TRAIN ACC:                   <a href=\"file:///home/j-gunmo/desktop/00.my-project/17.P-Stage-T1003/4-STAGE/trainer.py\"><span style=\"color: #7f7f7f\">trainer.py</span></a><span style=\"color: #7f7f7f\">:426</span>\n",
       "                    <span style=\"color: #000080; font-weight: bold\">0.7106579697295928</span>                                                       \n",
       "</pre>\n"
      ],
      "text/plain": [
       "<rich.jupyter.JupyterRenderable at 0x7fa9b0ec95b0>"
      ]
     },
     "metadata": {},
     "output_type": "display_data"
    },
    {
     "data": {
      "text/html": [
       "<pre style=\"white-space:pre;overflow-x:auto;line-height:normal;font-family:Menlo,'DejaVu Sans Mono',consolas,'Courier New',monospace\"><span style=\"color: #7fbfbf\">           </span><span style=\"color: #000080\">INFO    </span> VALID AUC: <span style=\"color: #000080; font-weight: bold\">0.7848938630756579</span> VALID ACC:                   <a href=\"file:///home/j-gunmo/desktop/00.my-project/17.P-Stage-T1003/4-STAGE/trainer.py\"><span style=\"color: #7f7f7f\">trainer.py</span></a><span style=\"color: #7f7f7f\">:427</span>\n",
       "                    <span style=\"color: #000080; font-weight: bold\">0.7178318135764944</span>                                                       \n",
       "                                                                                             \n",
       "</pre>\n"
      ],
      "text/plain": [
       "<rich.jupyter.JupyterRenderable at 0x7fa941dc5ee0>"
      ]
     },
     "metadata": {},
     "output_type": "display_data"
    },
    {
     "data": {
      "text/html": [
       "<pre style=\"white-space:pre;overflow-x:auto;line-height:normal;font-family:Menlo,'DejaVu Sans Mono',consolas,'Courier New',monospace\"><span style=\"color: #7fbfbf\">           </span><span style=\"color: #000080\">INFO    </span> Start Training: Epoch <span style=\"color: #000080; font-weight: bold\">6</span>                                    <a href=\"file:///home/j-gunmo/desktop/00.my-project/17.P-Stage-T1003/4-STAGE/trainer.py\"><span style=\"color: #7f7f7f\">trainer.py</span></a><span style=\"color: #7f7f7f\">:409</span>\n",
       "</pre>\n"
      ],
      "text/plain": [
       "<rich.jupyter.JupyterRenderable at 0x7faaefd83e80>"
      ]
     },
     "metadata": {},
     "output_type": "display_data"
    },
    {
     "name": "stdout",
     "output_type": "stream",
     "text": [
      "Training steps: 0 Loss: 0.5620738863945007\n",
      "Training steps: 50 Loss: 0.5381721258163452\n",
      "Training steps: 100 Loss: 0.5804488658905029\n",
      "VALID AUC : 0.78572998046875 ACC : 0.7152988855116514\n",
      "\n"
     ]
    },
    {
     "data": {
      "text/html": [
       "<pre style=\"white-space:pre;overflow-x:auto;line-height:normal;font-family:Menlo,'DejaVu Sans Mono',consolas,'Courier New',monospace\"><span style=\"color: #7fbfbf\">[12:59:41] </span><span style=\"color: #000080\">INFO    </span> TRAIN_LOSS: <span style=\"color: #000080; font-weight: bold\">0.5682737827301025</span>                             <a href=\"file:///home/j-gunmo/desktop/00.my-project/17.P-Stage-T1003/4-STAGE/trainer.py\"><span style=\"color: #7f7f7f\">trainer.py</span></a><span style=\"color: #7f7f7f\">:425</span>\n",
       "</pre>\n"
      ],
      "text/plain": [
       "<rich.jupyter.JupyterRenderable at 0x7faaefdb1070>"
      ]
     },
     "metadata": {},
     "output_type": "display_data"
    },
    {
     "data": {
      "text/html": [
       "<pre style=\"white-space:pre;overflow-x:auto;line-height:normal;font-family:Menlo,'DejaVu Sans Mono',consolas,'Courier New',monospace\"><span style=\"color: #7fbfbf\">           </span><span style=\"color: #000080\">INFO    </span> TRAIN AUC: <span style=\"color: #000080; font-weight: bold\">0.7762386178815482</span> TRAIN ACC:                   <a href=\"file:///home/j-gunmo/desktop/00.my-project/17.P-Stage-T1003/4-STAGE/trainer.py\"><span style=\"color: #7f7f7f\">trainer.py</span></a><span style=\"color: #7f7f7f\">:426</span>\n",
       "                    <span style=\"color: #000080; font-weight: bold\">0.7152175289721994</span>                                                       \n",
       "</pre>\n"
      ],
      "text/plain": [
       "<rich.jupyter.JupyterRenderable at 0x7fab085f0b20>"
      ]
     },
     "metadata": {},
     "output_type": "display_data"
    },
    {
     "data": {
      "text/html": [
       "<pre style=\"white-space:pre;overflow-x:auto;line-height:normal;font-family:Menlo,'DejaVu Sans Mono',consolas,'Courier New',monospace\"><span style=\"color: #7fbfbf\">           </span><span style=\"color: #000080\">INFO    </span> VALID AUC: <span style=\"color: #000080; font-weight: bold\">0.78572998046875</span> VALID ACC: <span style=\"color: #000080; font-weight: bold\">0.7152988855116514</span>  <a href=\"file:///home/j-gunmo/desktop/00.my-project/17.P-Stage-T1003/4-STAGE/trainer.py\"><span style=\"color: #7f7f7f\">trainer.py</span></a><span style=\"color: #7f7f7f\">:427</span>\n",
       "                                                                                             \n",
       "</pre>\n"
      ],
      "text/plain": [
       "<rich.jupyter.JupyterRenderable at 0x7fa9b0ec95b0>"
      ]
     },
     "metadata": {},
     "output_type": "display_data"
    },
    {
     "data": {
      "text/html": [
       "<pre style=\"white-space:pre;overflow-x:auto;line-height:normal;font-family:Menlo,'DejaVu Sans Mono',consolas,'Courier New',monospace\"><span style=\"color: #7fbfbf\">[12:59:42] </span><span style=\"color: #000080\">INFO    </span> Start Training: Epoch <span style=\"color: #000080; font-weight: bold\">7</span>                                    <a href=\"file:///home/j-gunmo/desktop/00.my-project/17.P-Stage-T1003/4-STAGE/trainer.py\"><span style=\"color: #7f7f7f\">trainer.py</span></a><span style=\"color: #7f7f7f\">:409</span>\n",
       "</pre>\n"
      ],
      "text/plain": [
       "<rich.jupyter.JupyterRenderable at 0x7fa941dc5ee0>"
      ]
     },
     "metadata": {},
     "output_type": "display_data"
    },
    {
     "name": "stdout",
     "output_type": "stream",
     "text": [
      "Training steps: 0 Loss: 0.5542099475860596\n",
      "Training steps: 50 Loss: 0.5552836060523987\n",
      "Training steps: 100 Loss: 0.6334229111671448\n",
      "VALID AUC : 0.7867742598684211 ACC : 0.7190982776089159\n",
      "\n"
     ]
    },
    {
     "data": {
      "text/html": [
       "<pre style=\"white-space:pre;overflow-x:auto;line-height:normal;font-family:Menlo,'DejaVu Sans Mono',consolas,'Courier New',monospace\"><span style=\"color: #7fbfbf\">[12:59:48] </span><span style=\"color: #000080\">INFO    </span> TRAIN_LOSS: <span style=\"color: #000080; font-weight: bold\">0.5669419765472412</span>                             <a href=\"file:///home/j-gunmo/desktop/00.my-project/17.P-Stage-T1003/4-STAGE/trainer.py\"><span style=\"color: #7f7f7f\">trainer.py</span></a><span style=\"color: #7f7f7f\">:425</span>\n",
       "</pre>\n"
      ],
      "text/plain": [
       "<rich.jupyter.JupyterRenderable at 0x7fa9b0ec95b0>"
      ]
     },
     "metadata": {},
     "output_type": "display_data"
    },
    {
     "data": {
      "text/html": [
       "<pre style=\"white-space:pre;overflow-x:auto;line-height:normal;font-family:Menlo,'DejaVu Sans Mono',consolas,'Courier New',monospace\"><span style=\"color: #7fbfbf\">           </span><span style=\"color: #000080\">INFO    </span> TRAIN AUC: <span style=\"color: #000080; font-weight: bold\">0.7773781092699417</span> TRAIN ACC:                   <a href=\"file:///home/j-gunmo/desktop/00.my-project/17.P-Stage-T1003/4-STAGE/trainer.py\"><span style=\"color: #7f7f7f\">trainer.py</span></a><span style=\"color: #7f7f7f\">:426</span>\n",
       "                    <span style=\"color: #000080; font-weight: bold\">0.7135076942562218</span>                                                       \n",
       "</pre>\n"
      ],
      "text/plain": [
       "<rich.jupyter.JupyterRenderable at 0x7faaefd83a60>"
      ]
     },
     "metadata": {},
     "output_type": "display_data"
    },
    {
     "data": {
      "text/html": [
       "<pre style=\"white-space:pre;overflow-x:auto;line-height:normal;font-family:Menlo,'DejaVu Sans Mono',consolas,'Courier New',monospace\"><span style=\"color: #7fbfbf\">           </span><span style=\"color: #000080\">INFO    </span> VALID AUC: <span style=\"color: #000080; font-weight: bold\">0.7867742598684211</span> VALID ACC:                   <a href=\"file:///home/j-gunmo/desktop/00.my-project/17.P-Stage-T1003/4-STAGE/trainer.py\"><span style=\"color: #7f7f7f\">trainer.py</span></a><span style=\"color: #7f7f7f\">:427</span>\n",
       "                    <span style=\"color: #000080; font-weight: bold\">0.7190982776089159</span>                                                       \n",
       "                                                                                             \n",
       "</pre>\n"
      ],
      "text/plain": [
       "<rich.jupyter.JupyterRenderable at 0x7fa9411953d0>"
      ]
     },
     "metadata": {},
     "output_type": "display_data"
    },
    {
     "data": {
      "text/html": [
       "<pre style=\"white-space:pre;overflow-x:auto;line-height:normal;font-family:Menlo,'DejaVu Sans Mono',consolas,'Courier New',monospace\"><span style=\"color: #7fbfbf\">[12:59:49] </span><span style=\"color: #000080\">INFO    </span> Start Training: Epoch <span style=\"color: #000080; font-weight: bold\">8</span>                                    <a href=\"file:///home/j-gunmo/desktop/00.my-project/17.P-Stage-T1003/4-STAGE/trainer.py\"><span style=\"color: #7f7f7f\">trainer.py</span></a><span style=\"color: #7f7f7f\">:409</span>\n",
       "</pre>\n"
      ],
      "text/plain": [
       "<rich.jupyter.JupyterRenderable at 0x7fa9b0ec95b0>"
      ]
     },
     "metadata": {},
     "output_type": "display_data"
    },
    {
     "name": "stdout",
     "output_type": "stream",
     "text": [
      "Training steps: 0 Loss: 0.5800855755805969\n",
      "Training steps: 50 Loss: 0.632712721824646\n",
      "Training steps: 100 Loss: 0.5088061094284058\n",
      "VALID AUC : 0.7864337479440789 ACC : 0.71580547112462\n",
      "\n"
     ]
    },
    {
     "data": {
      "text/html": [
       "<pre style=\"white-space:pre;overflow-x:auto;line-height:normal;font-family:Menlo,'DejaVu Sans Mono',consolas,'Courier New',monospace\"><span style=\"color: #7fbfbf\">[12:59:55] </span><span style=\"color: #000080\">INFO    </span> TRAIN_LOSS: <span style=\"color: #000080; font-weight: bold\">0.567025899887085</span>                              <a href=\"file:///home/j-gunmo/desktop/00.my-project/17.P-Stage-T1003/4-STAGE/trainer.py\"><span style=\"color: #7f7f7f\">trainer.py</span></a><span style=\"color: #7f7f7f\">:425</span>\n",
       "</pre>\n"
      ],
      "text/plain": [
       "<rich.jupyter.JupyterRenderable at 0x7faaed65ddc0>"
      ]
     },
     "metadata": {},
     "output_type": "display_data"
    },
    {
     "data": {
      "text/html": [
       "<pre style=\"white-space:pre;overflow-x:auto;line-height:normal;font-family:Menlo,'DejaVu Sans Mono',consolas,'Courier New',monospace\"><span style=\"color: #7fbfbf\">           </span><span style=\"color: #000080\">INFO    </span> TRAIN AUC: <span style=\"color: #000080; font-weight: bold\">0.777044409214444</span> TRAIN ACC: <span style=\"color: #000080; font-weight: bold\">0.714900892913685</span>  <a href=\"file:///home/j-gunmo/desktop/00.my-project/17.P-Stage-T1003/4-STAGE/trainer.py\"><span style=\"color: #7f7f7f\">trainer.py</span></a><span style=\"color: #7f7f7f\">:426</span>\n",
       "</pre>\n"
      ],
      "text/plain": [
       "<rich.jupyter.JupyterRenderable at 0x7fa941dc5df0>"
      ]
     },
     "metadata": {},
     "output_type": "display_data"
    },
    {
     "data": {
      "text/html": [
       "<pre style=\"white-space:pre;overflow-x:auto;line-height:normal;font-family:Menlo,'DejaVu Sans Mono',consolas,'Courier New',monospace\"><span style=\"color: #7fbfbf\">           </span><span style=\"color: #000080\">INFO    </span> VALID AUC: <span style=\"color: #000080; font-weight: bold\">0.7864337479440789</span> VALID ACC: <span style=\"color: #000080; font-weight: bold\">0.71580547112462</span>  <a href=\"file:///home/j-gunmo/desktop/00.my-project/17.P-Stage-T1003/4-STAGE/trainer.py\"><span style=\"color: #7f7f7f\">trainer.py</span></a><span style=\"color: #7f7f7f\">:427</span>\n",
       "                                                                                             \n",
       "</pre>\n"
      ],
      "text/plain": [
       "<rich.jupyter.JupyterRenderable at 0x7fab085f0e80>"
      ]
     },
     "metadata": {},
     "output_type": "display_data"
    },
    {
     "data": {
      "text/html": [
       "<pre style=\"white-space:pre;overflow-x:auto;line-height:normal;font-family:Menlo,'DejaVu Sans Mono',consolas,'Courier New',monospace\"><span style=\"color: #7fbfbf\">           </span><span style=\"color: #000080\">INFO    </span> EarlyStopping counter: <span style=\"color: #000080; font-weight: bold\">1</span>                                   <a href=\"file:///home/j-gunmo/desktop/00.my-project/17.P-Stage-T1003/4-STAGE/trainer.py\"><span style=\"color: #7f7f7f\">trainer.py</span></a><span style=\"color: #7f7f7f\">:435</span>\n",
       "</pre>\n"
      ],
      "text/plain": [
       "<rich.jupyter.JupyterRenderable at 0x7fa941dc5df0>"
      ]
     },
     "metadata": {},
     "output_type": "display_data"
    },
    {
     "data": {
      "text/html": [
       "<pre style=\"white-space:pre;overflow-x:auto;line-height:normal;font-family:Menlo,'DejaVu Sans Mono',consolas,'Courier New',monospace\"><span style=\"color: #7fbfbf\">           </span><span style=\"color: #000080\">INFO    </span> Start Training: Epoch <span style=\"color: #000080; font-weight: bold\">9</span>                                    <a href=\"file:///home/j-gunmo/desktop/00.my-project/17.P-Stage-T1003/4-STAGE/trainer.py\"><span style=\"color: #7f7f7f\">trainer.py</span></a><span style=\"color: #7f7f7f\">:409</span>\n",
       "</pre>\n"
      ],
      "text/plain": [
       "<rich.jupyter.JupyterRenderable at 0x7fa9411957c0>"
      ]
     },
     "metadata": {},
     "output_type": "display_data"
    },
    {
     "name": "stdout",
     "output_type": "stream",
     "text": [
      "Training steps: 0 Loss: 0.5841782689094543\n",
      "Training steps: 50 Loss: 0.5900067090988159\n",
      "Training steps: 100 Loss: 0.5625967979431152\n",
      "VALID AUC : 0.7866415244654605 ACC : 0.7211246200607903\n",
      "\n"
     ]
    },
    {
     "data": {
      "text/html": [
       "<pre style=\"white-space:pre;overflow-x:auto;line-height:normal;font-family:Menlo,'DejaVu Sans Mono',consolas,'Courier New',monospace\"><span style=\"color: #7fbfbf\">[13:00:02] </span><span style=\"color: #000080\">INFO    </span> TRAIN_LOSS: <span style=\"color: #000080; font-weight: bold\">0.565370500087738</span>                              <a href=\"file:///home/j-gunmo/desktop/00.my-project/17.P-Stage-T1003/4-STAGE/trainer.py\"><span style=\"color: #7f7f7f\">trainer.py</span></a><span style=\"color: #7f7f7f\">:425</span>\n",
       "</pre>\n"
      ],
      "text/plain": [
       "<rich.jupyter.JupyterRenderable at 0x7fab08609070>"
      ]
     },
     "metadata": {},
     "output_type": "display_data"
    },
    {
     "data": {
      "text/html": [
       "<pre style=\"white-space:pre;overflow-x:auto;line-height:normal;font-family:Menlo,'DejaVu Sans Mono',consolas,'Courier New',monospace\"><span style=\"color: #7fbfbf\">           </span><span style=\"color: #000080\">INFO    </span> TRAIN AUC: <span style=\"color: #000080; font-weight: bold\">0.778955356857782</span> TRAIN ACC: <span style=\"color: #000080; font-weight: bold\">0.7143309480083592</span> <a href=\"file:///home/j-gunmo/desktop/00.my-project/17.P-Stage-T1003/4-STAGE/trainer.py\"><span style=\"color: #7f7f7f\">trainer.py</span></a><span style=\"color: #7f7f7f\">:426</span>\n",
       "</pre>\n"
      ],
      "text/plain": [
       "<rich.jupyter.JupyterRenderable at 0x7fa99f0cbca0>"
      ]
     },
     "metadata": {},
     "output_type": "display_data"
    },
    {
     "data": {
      "text/html": [
       "<pre style=\"white-space:pre;overflow-x:auto;line-height:normal;font-family:Menlo,'DejaVu Sans Mono',consolas,'Courier New',monospace\"><span style=\"color: #7fbfbf\">           </span><span style=\"color: #000080\">INFO    </span> VALID AUC: <span style=\"color: #000080; font-weight: bold\">0.7866415244654605</span> VALID ACC:                   <a href=\"file:///home/j-gunmo/desktop/00.my-project/17.P-Stage-T1003/4-STAGE/trainer.py\"><span style=\"color: #7f7f7f\">trainer.py</span></a><span style=\"color: #7f7f7f\">:427</span>\n",
       "                    <span style=\"color: #000080; font-weight: bold\">0.7211246200607903</span>                                                       \n",
       "                                                                                             \n",
       "</pre>\n"
      ],
      "text/plain": [
       "<rich.jupyter.JupyterRenderable at 0x7fab085f0b20>"
      ]
     },
     "metadata": {},
     "output_type": "display_data"
    },
    {
     "data": {
      "text/html": [
       "<pre style=\"white-space:pre;overflow-x:auto;line-height:normal;font-family:Menlo,'DejaVu Sans Mono',consolas,'Courier New',monospace\"><span style=\"color: #7fbfbf\">           </span><span style=\"color: #000080\">INFO    </span> EarlyStopping counter: <span style=\"color: #000080; font-weight: bold\">2</span>                                   <a href=\"file:///home/j-gunmo/desktop/00.my-project/17.P-Stage-T1003/4-STAGE/trainer.py\"><span style=\"color: #7f7f7f\">trainer.py</span></a><span style=\"color: #7f7f7f\">:435</span>\n",
       "</pre>\n"
      ],
      "text/plain": [
       "<rich.jupyter.JupyterRenderable at 0x7fa9b0ec9c70>"
      ]
     },
     "metadata": {},
     "output_type": "display_data"
    },
    {
     "data": {
      "text/html": [
       "<pre style=\"white-space:pre;overflow-x:auto;line-height:normal;font-family:Menlo,'DejaVu Sans Mono',consolas,'Courier New',monospace\"><span style=\"color: #7fbfbf\">           </span><span style=\"color: #000080\">INFO    </span> Start Training: Epoch <span style=\"color: #000080; font-weight: bold\">10</span>                                   <a href=\"file:///home/j-gunmo/desktop/00.my-project/17.P-Stage-T1003/4-STAGE/trainer.py\"><span style=\"color: #7f7f7f\">trainer.py</span></a><span style=\"color: #7f7f7f\">:409</span>\n",
       "</pre>\n"
      ],
      "text/plain": [
       "<rich.jupyter.JupyterRenderable at 0x7fab085f0b20>"
      ]
     },
     "metadata": {},
     "output_type": "display_data"
    },
    {
     "name": "stdout",
     "output_type": "stream",
     "text": [
      "Training steps: 0 Loss: 0.6123999953269958\n",
      "Training steps: 50 Loss: 0.6168683767318726\n",
      "Training steps: 100 Loss: 0.5065632462501526\n",
      "VALID AUC : 0.7869325657894737 ACC : 0.7223910840932117\n",
      "\n"
     ]
    },
    {
     "data": {
      "text/html": [
       "<pre style=\"white-space:pre;overflow-x:auto;line-height:normal;font-family:Menlo,'DejaVu Sans Mono',consolas,'Courier New',monospace\"><span style=\"color: #7fbfbf\">[13:00:09] </span><span style=\"color: #000080\">INFO    </span> TRAIN_LOSS: <span style=\"color: #000080; font-weight: bold\">0.5663549900054932</span>                             <a href=\"file:///home/j-gunmo/desktop/00.my-project/17.P-Stage-T1003/4-STAGE/trainer.py\"><span style=\"color: #7f7f7f\">trainer.py</span></a><span style=\"color: #7f7f7f\">:425</span>\n",
       "</pre>\n"
      ],
      "text/plain": [
       "<rich.jupyter.JupyterRenderable at 0x7faaefd83100>"
      ]
     },
     "metadata": {},
     "output_type": "display_data"
    },
    {
     "data": {
      "text/html": [
       "<pre style=\"white-space:pre;overflow-x:auto;line-height:normal;font-family:Menlo,'DejaVu Sans Mono',consolas,'Courier New',monospace\"><span style=\"color: #7fbfbf\">           </span><span style=\"color: #000080\">INFO    </span> TRAIN AUC: <span style=\"color: #000080; font-weight: bold\">0.7777352181472761</span> TRAIN ACC:                   <a href=\"file:///home/j-gunmo/desktop/00.my-project/17.P-Stage-T1003/4-STAGE/trainer.py\"><span style=\"color: #7f7f7f\">trainer.py</span></a><span style=\"color: #7f7f7f\">:426</span>\n",
       "                    <span style=\"color: #000080; font-weight: bold\">0.7122411500221645</span>                                                       \n",
       "</pre>\n"
      ],
      "text/plain": [
       "<rich.jupyter.JupyterRenderable at 0x7fa9b0ec95b0>"
      ]
     },
     "metadata": {},
     "output_type": "display_data"
    },
    {
     "data": {
      "text/html": [
       "<pre style=\"white-space:pre;overflow-x:auto;line-height:normal;font-family:Menlo,'DejaVu Sans Mono',consolas,'Courier New',monospace\"><span style=\"color: #7fbfbf\">           </span><span style=\"color: #000080\">INFO    </span> VALID AUC: <span style=\"color: #000080; font-weight: bold\">0.7869325657894737</span> VALID ACC:                   <a href=\"file:///home/j-gunmo/desktop/00.my-project/17.P-Stage-T1003/4-STAGE/trainer.py\"><span style=\"color: #7f7f7f\">trainer.py</span></a><span style=\"color: #7f7f7f\">:427</span>\n",
       "                    <span style=\"color: #000080; font-weight: bold\">0.7223910840932117</span>                                                       \n",
       "                                                                                             \n",
       "</pre>\n"
      ],
      "text/plain": [
       "<rich.jupyter.JupyterRenderable at 0x7fa941dc5dc0>"
      ]
     },
     "metadata": {},
     "output_type": "display_data"
    },
    {
     "data": {
      "text/html": [
       "<pre style=\"white-space:pre;overflow-x:auto;line-height:normal;font-family:Menlo,'DejaVu Sans Mono',consolas,'Courier New',monospace\"><span style=\"color: #7fbfbf\">[13:00:10] </span><span style=\"color: #000080\">INFO    </span> Start Training: Epoch <span style=\"color: #000080; font-weight: bold\">11</span>                                   <a href=\"file:///home/j-gunmo/desktop/00.my-project/17.P-Stage-T1003/4-STAGE/trainer.py\"><span style=\"color: #7f7f7f\">trainer.py</span></a><span style=\"color: #7f7f7f\">:409</span>\n",
       "</pre>\n"
      ],
      "text/plain": [
       "<rich.jupyter.JupyterRenderable at 0x7faaefdb1070>"
      ]
     },
     "metadata": {},
     "output_type": "display_data"
    },
    {
     "name": "stdout",
     "output_type": "stream",
     "text": [
      "Training steps: 0 Loss: 0.574791669845581\n",
      "Training steps: 50 Loss: 0.6042125225067139\n",
      "Training steps: 100 Loss: 0.5882450342178345\n",
      "VALID AUC : 0.7857474557976973 ACC : 0.7221377912867275\n",
      "\n"
     ]
    },
    {
     "data": {
      "text/html": [
       "<pre style=\"white-space:pre;overflow-x:auto;line-height:normal;font-family:Menlo,'DejaVu Sans Mono',consolas,'Courier New',monospace\"><span style=\"color: #7fbfbf\">[13:00:16] </span><span style=\"color: #000080\">INFO    </span> TRAIN_LOSS: <span style=\"color: #000080; font-weight: bold\">0.5653905272483826</span>                             <a href=\"file:///home/j-gunmo/desktop/00.my-project/17.P-Stage-T1003/4-STAGE/trainer.py\"><span style=\"color: #7f7f7f\">trainer.py</span></a><span style=\"color: #7f7f7f\">:425</span>\n",
       "</pre>\n"
      ],
      "text/plain": [
       "<rich.jupyter.JupyterRenderable at 0x7fa941dc5f40>"
      ]
     },
     "metadata": {},
     "output_type": "display_data"
    },
    {
     "data": {
      "text/html": [
       "<pre style=\"white-space:pre;overflow-x:auto;line-height:normal;font-family:Menlo,'DejaVu Sans Mono',consolas,'Courier New',monospace\"><span style=\"color: #7fbfbf\">           </span><span style=\"color: #000080\">INFO    </span> TRAIN AUC: <span style=\"color: #000080; font-weight: bold\">0.7791937048720352</span> TRAIN ACC:                   <a href=\"file:///home/j-gunmo/desktop/00.my-project/17.P-Stage-T1003/4-STAGE/trainer.py\"><span style=\"color: #7f7f7f\">trainer.py</span></a><span style=\"color: #7f7f7f\">:426</span>\n",
       "                    <span style=\"color: #000080; font-weight: bold\">0.7127477677157875</span>                                                       \n",
       "</pre>\n"
      ],
      "text/plain": [
       "<rich.jupyter.JupyterRenderable at 0x7fab085f0b20>"
      ]
     },
     "metadata": {},
     "output_type": "display_data"
    },
    {
     "data": {
      "text/html": [
       "<pre style=\"white-space:pre;overflow-x:auto;line-height:normal;font-family:Menlo,'DejaVu Sans Mono',consolas,'Courier New',monospace\"><span style=\"color: #7fbfbf\">           </span><span style=\"color: #000080\">INFO    </span> VALID AUC: <span style=\"color: #000080; font-weight: bold\">0.7857474557976973</span> VALID ACC:                   <a href=\"file:///home/j-gunmo/desktop/00.my-project/17.P-Stage-T1003/4-STAGE/trainer.py\"><span style=\"color: #7f7f7f\">trainer.py</span></a><span style=\"color: #7f7f7f\">:427</span>\n",
       "                    <span style=\"color: #000080; font-weight: bold\">0.7221377912867275</span>                                                       \n",
       "                                                                                             \n",
       "</pre>\n"
      ],
      "text/plain": [
       "<rich.jupyter.JupyterRenderable at 0x7fa9b0ec9c70>"
      ]
     },
     "metadata": {},
     "output_type": "display_data"
    },
    {
     "data": {
      "text/html": [
       "<pre style=\"white-space:pre;overflow-x:auto;line-height:normal;font-family:Menlo,'DejaVu Sans Mono',consolas,'Courier New',monospace\"><span style=\"color: #7fbfbf\">           </span><span style=\"color: #000080\">INFO    </span> EarlyStopping counter: <span style=\"color: #000080; font-weight: bold\">1</span>                                   <a href=\"file:///home/j-gunmo/desktop/00.my-project/17.P-Stage-T1003/4-STAGE/trainer.py\"><span style=\"color: #7f7f7f\">trainer.py</span></a><span style=\"color: #7f7f7f\">:435</span>\n",
       "</pre>\n"
      ],
      "text/plain": [
       "<rich.jupyter.JupyterRenderable at 0x7faaed65ddc0>"
      ]
     },
     "metadata": {},
     "output_type": "display_data"
    },
    {
     "data": {
      "text/html": [
       "<pre style=\"white-space:pre;overflow-x:auto;line-height:normal;font-family:Menlo,'DejaVu Sans Mono',consolas,'Courier New',monospace\"><span style=\"color: #7fbfbf\">           </span><span style=\"color: #000080\">INFO    </span> Start Training: Epoch <span style=\"color: #000080; font-weight: bold\">12</span>                                   <a href=\"file:///home/j-gunmo/desktop/00.my-project/17.P-Stage-T1003/4-STAGE/trainer.py\"><span style=\"color: #7f7f7f\">trainer.py</span></a><span style=\"color: #7f7f7f\">:409</span>\n",
       "</pre>\n"
      ],
      "text/plain": [
       "<rich.jupyter.JupyterRenderable at 0x7fa941dc5f40>"
      ]
     },
     "metadata": {},
     "output_type": "display_data"
    },
    {
     "name": "stdout",
     "output_type": "stream",
     "text": [
      "Training steps: 0 Loss: 0.5638935565948486\n",
      "Training steps: 50 Loss: 0.5049084424972534\n",
      "Training steps: 100 Loss: 0.6082775592803955\n",
      "VALID AUC : 0.7867584549753289 ACC : 0.7188449848024316\n",
      "\n"
     ]
    },
    {
     "data": {
      "text/html": [
       "<pre style=\"white-space:pre;overflow-x:auto;line-height:normal;font-family:Menlo,'DejaVu Sans Mono',consolas,'Courier New',monospace\"><span style=\"color: #7fbfbf\">[13:00:23] </span><span style=\"color: #000080\">INFO    </span> TRAIN_LOSS: <span style=\"color: #000080; font-weight: bold\">0.5647759437561035</span>                             <a href=\"file:///home/j-gunmo/desktop/00.my-project/17.P-Stage-T1003/4-STAGE/trainer.py\"><span style=\"color: #7f7f7f\">trainer.py</span></a><span style=\"color: #7f7f7f\">:425</span>\n",
       "</pre>\n"
      ],
      "text/plain": [
       "<rich.jupyter.JupyterRenderable at 0x7fa941dc5ee0>"
      ]
     },
     "metadata": {},
     "output_type": "display_data"
    },
    {
     "data": {
      "text/html": [
       "<pre style=\"white-space:pre;overflow-x:auto;line-height:normal;font-family:Menlo,'DejaVu Sans Mono',consolas,'Courier New',monospace\"><span style=\"color: #7fbfbf\">           </span><span style=\"color: #000080\">INFO    </span> TRAIN AUC: <span style=\"color: #000080; font-weight: bold\">0.7797728445793817</span> TRAIN ACC:                   <a href=\"file:///home/j-gunmo/desktop/00.my-project/17.P-Stage-T1003/4-STAGE/trainer.py\"><span style=\"color: #7f7f7f\">trainer.py</span></a><span style=\"color: #7f7f7f\">:426</span>\n",
       "                    <span style=\"color: #000080; font-weight: bold\">0.7148375657019821</span>                                                       \n",
       "</pre>\n"
      ],
      "text/plain": [
       "<rich.jupyter.JupyterRenderable at 0x7faaed65ddc0>"
      ]
     },
     "metadata": {},
     "output_type": "display_data"
    },
    {
     "data": {
      "text/html": [
       "<pre style=\"white-space:pre;overflow-x:auto;line-height:normal;font-family:Menlo,'DejaVu Sans Mono',consolas,'Courier New',monospace\"><span style=\"color: #7fbfbf\">           </span><span style=\"color: #000080\">INFO    </span> VALID AUC: <span style=\"color: #000080; font-weight: bold\">0.7867584549753289</span> VALID ACC:                   <a href=\"file:///home/j-gunmo/desktop/00.my-project/17.P-Stage-T1003/4-STAGE/trainer.py\"><span style=\"color: #7f7f7f\">trainer.py</span></a><span style=\"color: #7f7f7f\">:427</span>\n",
       "                    <span style=\"color: #000080; font-weight: bold\">0.7188449848024316</span>                                                       \n",
       "                                                                                             \n",
       "</pre>\n"
      ],
      "text/plain": [
       "<rich.jupyter.JupyterRenderable at 0x7faaed65ff40>"
      ]
     },
     "metadata": {},
     "output_type": "display_data"
    },
    {
     "data": {
      "text/html": [
       "<pre style=\"white-space:pre;overflow-x:auto;line-height:normal;font-family:Menlo,'DejaVu Sans Mono',consolas,'Courier New',monospace\"><span style=\"color: #7fbfbf\">           </span><span style=\"color: #000080\">INFO    </span> EarlyStopping counter: <span style=\"color: #000080; font-weight: bold\">2</span>                                   <a href=\"file:///home/j-gunmo/desktop/00.my-project/17.P-Stage-T1003/4-STAGE/trainer.py\"><span style=\"color: #7f7f7f\">trainer.py</span></a><span style=\"color: #7f7f7f\">:435</span>\n",
       "</pre>\n"
      ],
      "text/plain": [
       "<rich.jupyter.JupyterRenderable at 0x7faaed65d460>"
      ]
     },
     "metadata": {},
     "output_type": "display_data"
    },
    {
     "data": {
      "text/html": [
       "<pre style=\"white-space:pre;overflow-x:auto;line-height:normal;font-family:Menlo,'DejaVu Sans Mono',consolas,'Courier New',monospace\"><span style=\"color: #7fbfbf\">           </span><span style=\"color: #000080\">INFO    </span> Start Training: Epoch <span style=\"color: #000080; font-weight: bold\">13</span>                                   <a href=\"file:///home/j-gunmo/desktop/00.my-project/17.P-Stage-T1003/4-STAGE/trainer.py\"><span style=\"color: #7f7f7f\">trainer.py</span></a><span style=\"color: #7f7f7f\">:409</span>\n",
       "</pre>\n"
      ],
      "text/plain": [
       "<rich.jupyter.JupyterRenderable at 0x7fa9b0ec9c70>"
      ]
     },
     "metadata": {},
     "output_type": "display_data"
    },
    {
     "name": "stdout",
     "output_type": "stream",
     "text": [
      "Training steps: 0 Loss: 0.5412283539772034\n",
      "Training steps: 50 Loss: 0.5785769820213318\n",
      "Training steps: 100 Loss: 0.580246090888977\n",
      "VALID AUC : 0.7869091796875001 ACC : 0.7147922998986829\n",
      "\n"
     ]
    },
    {
     "data": {
      "text/html": [
       "<pre style=\"white-space:pre;overflow-x:auto;line-height:normal;font-family:Menlo,'DejaVu Sans Mono',consolas,'Courier New',monospace\"><span style=\"color: #7fbfbf\">[13:00:30] </span><span style=\"color: #000080\">INFO    </span> TRAIN_LOSS: <span style=\"color: #000080; font-weight: bold\">0.5659602880477905</span>                             <a href=\"file:///home/j-gunmo/desktop/00.my-project/17.P-Stage-T1003/4-STAGE/trainer.py\"><span style=\"color: #7f7f7f\">trainer.py</span></a><span style=\"color: #7f7f7f\">:425</span>\n",
       "</pre>\n"
      ],
      "text/plain": [
       "<rich.jupyter.JupyterRenderable at 0x7fab085f0e80>"
      ]
     },
     "metadata": {},
     "output_type": "display_data"
    },
    {
     "data": {
      "text/html": [
       "<pre style=\"white-space:pre;overflow-x:auto;line-height:normal;font-family:Menlo,'DejaVu Sans Mono',consolas,'Courier New',monospace\"><span style=\"color: #7fbfbf\">           </span><span style=\"color: #000080\">INFO    </span> TRAIN AUC: <span style=\"color: #000080; font-weight: bold\">0.7782805763094702</span> TRAIN ACC:                   <a href=\"file:///home/j-gunmo/desktop/00.my-project/17.P-Stage-T1003/4-STAGE/trainer.py\"><span style=\"color: #7f7f7f\">trainer.py</span></a><span style=\"color: #7f7f7f\">:426</span>\n",
       "                    <span style=\"color: #000080; font-weight: bold\">0.7151542017604965</span>                                                       \n",
       "</pre>\n"
      ],
      "text/plain": [
       "<rich.jupyter.JupyterRenderable at 0x7fa941dc5df0>"
      ]
     },
     "metadata": {},
     "output_type": "display_data"
    },
    {
     "data": {
      "text/html": [
       "<pre style=\"white-space:pre;overflow-x:auto;line-height:normal;font-family:Menlo,'DejaVu Sans Mono',consolas,'Courier New',monospace\"><span style=\"color: #7fbfbf\">           </span><span style=\"color: #000080\">INFO    </span> VALID AUC: <span style=\"color: #000080; font-weight: bold\">0.7869091796875001</span> VALID ACC:                   <a href=\"file:///home/j-gunmo/desktop/00.my-project/17.P-Stage-T1003/4-STAGE/trainer.py\"><span style=\"color: #7f7f7f\">trainer.py</span></a><span style=\"color: #7f7f7f\">:427</span>\n",
       "                    <span style=\"color: #000080; font-weight: bold\">0.7147922998986829</span>                                                       \n",
       "                                                                                             \n",
       "</pre>\n"
      ],
      "text/plain": [
       "<rich.jupyter.JupyterRenderable at 0x7faaefd83a60>"
      ]
     },
     "metadata": {},
     "output_type": "display_data"
    },
    {
     "data": {
      "text/html": [
       "<pre style=\"white-space:pre;overflow-x:auto;line-height:normal;font-family:Menlo,'DejaVu Sans Mono',consolas,'Courier New',monospace\"><span style=\"color: #7fbfbf\">           </span><span style=\"color: #000080\">INFO    </span> EarlyStopping counter: <span style=\"color: #000080; font-weight: bold\">3</span>                                   <a href=\"file:///home/j-gunmo/desktop/00.my-project/17.P-Stage-T1003/4-STAGE/trainer.py\"><span style=\"color: #7f7f7f\">trainer.py</span></a><span style=\"color: #7f7f7f\">:435</span>\n",
       "</pre>\n"
      ],
      "text/plain": [
       "<rich.jupyter.JupyterRenderable at 0x7faa0f5c6220>"
      ]
     },
     "metadata": {},
     "output_type": "display_data"
    },
    {
     "data": {
      "text/html": [
       "<pre style=\"white-space:pre;overflow-x:auto;line-height:normal;font-family:Menlo,'DejaVu Sans Mono',consolas,'Courier New',monospace\"><span style=\"color: #7fbfbf\">           </span><span style=\"color: #000080\">INFO    </span> Start Training: Epoch <span style=\"color: #000080; font-weight: bold\">14</span>                                   <a href=\"file:///home/j-gunmo/desktop/00.my-project/17.P-Stage-T1003/4-STAGE/trainer.py\"><span style=\"color: #7f7f7f\">trainer.py</span></a><span style=\"color: #7f7f7f\">:409</span>\n",
       "</pre>\n"
      ],
      "text/plain": [
       "<rich.jupyter.JupyterRenderable at 0x7fa941dc5df0>"
      ]
     },
     "metadata": {},
     "output_type": "display_data"
    },
    {
     "name": "stdout",
     "output_type": "stream",
     "text": [
      "Training steps: 0 Loss: 0.5693046450614929\n",
      "Training steps: 50 Loss: 0.5571205615997314\n",
      "Training steps: 100 Loss: 0.5613222122192383\n",
      "VALID AUC : 0.7862507709703948 ACC : 0.7173252279635258\n",
      "\n"
     ]
    },
    {
     "data": {
      "text/html": [
       "<pre style=\"white-space:pre;overflow-x:auto;line-height:normal;font-family:Menlo,'DejaVu Sans Mono',consolas,'Courier New',monospace\"><span style=\"color: #7fbfbf\">[13:00:37] </span><span style=\"color: #000080\">INFO    </span> TRAIN_LOSS: <span style=\"color: #000080; font-weight: bold\">0.5656521916389465</span>                             <a href=\"file:///home/j-gunmo/desktop/00.my-project/17.P-Stage-T1003/4-STAGE/trainer.py\"><span style=\"color: #7f7f7f\">trainer.py</span></a><span style=\"color: #7f7f7f\">:425</span>\n",
       "</pre>\n"
      ],
      "text/plain": [
       "<rich.jupyter.JupyterRenderable at 0x7fab08609070>"
      ]
     },
     "metadata": {},
     "output_type": "display_data"
    },
    {
     "data": {
      "text/html": [
       "<pre style=\"white-space:pre;overflow-x:auto;line-height:normal;font-family:Menlo,'DejaVu Sans Mono',consolas,'Courier New',monospace\"><span style=\"color: #7fbfbf\">           </span><span style=\"color: #000080\">INFO    </span> TRAIN AUC: <span style=\"color: #000080; font-weight: bold\">0.7790164139321478</span> TRAIN ACC:                   <a href=\"file:///home/j-gunmo/desktop/00.my-project/17.P-Stage-T1003/4-STAGE/trainer.py\"><span style=\"color: #7f7f7f\">trainer.py</span></a><span style=\"color: #7f7f7f\">:426</span>\n",
       "                    <span style=\"color: #000080; font-weight: bold\">0.7161041099360396</span>                                                       \n",
       "</pre>\n"
      ],
      "text/plain": [
       "<rich.jupyter.JupyterRenderable at 0x7fa941dc5dc0>"
      ]
     },
     "metadata": {},
     "output_type": "display_data"
    },
    {
     "data": {
      "text/html": [
       "<pre style=\"white-space:pre;overflow-x:auto;line-height:normal;font-family:Menlo,'DejaVu Sans Mono',consolas,'Courier New',monospace\"><span style=\"color: #7fbfbf\">           </span><span style=\"color: #000080\">INFO    </span> VALID AUC: <span style=\"color: #000080; font-weight: bold\">0.7862507709703948</span> VALID ACC:                   <a href=\"file:///home/j-gunmo/desktop/00.my-project/17.P-Stage-T1003/4-STAGE/trainer.py\"><span style=\"color: #7f7f7f\">trainer.py</span></a><span style=\"color: #7f7f7f\">:427</span>\n",
       "                    <span style=\"color: #000080; font-weight: bold\">0.7173252279635258</span>                                                       \n",
       "                                                                                             \n",
       "</pre>\n"
      ],
      "text/plain": [
       "<rich.jupyter.JupyterRenderable at 0x7faaed65ff40>"
      ]
     },
     "metadata": {},
     "output_type": "display_data"
    },
    {
     "data": {
      "text/html": [
       "<pre style=\"white-space:pre;overflow-x:auto;line-height:normal;font-family:Menlo,'DejaVu Sans Mono',consolas,'Courier New',monospace\"><span style=\"color: #7fbfbf\">           </span><span style=\"color: #000080\">INFO    </span> EarlyStopping counter: <span style=\"color: #000080; font-weight: bold\">4</span>                                   <a href=\"file:///home/j-gunmo/desktop/00.my-project/17.P-Stage-T1003/4-STAGE/trainer.py\"><span style=\"color: #7f7f7f\">trainer.py</span></a><span style=\"color: #7f7f7f\">:435</span>\n",
       "</pre>\n"
      ],
      "text/plain": [
       "<rich.jupyter.JupyterRenderable at 0x7faa0f5c6670>"
      ]
     },
     "metadata": {},
     "output_type": "display_data"
    },
    {
     "data": {
      "text/html": [
       "<pre style=\"white-space:pre;overflow-x:auto;line-height:normal;font-family:Menlo,'DejaVu Sans Mono',consolas,'Courier New',monospace\"><span style=\"color: #7fbfbf\">           </span><span style=\"color: #000080\">INFO    </span> Start Training: Epoch <span style=\"color: #000080; font-weight: bold\">15</span>                                   <a href=\"file:///home/j-gunmo/desktop/00.my-project/17.P-Stage-T1003/4-STAGE/trainer.py\"><span style=\"color: #7f7f7f\">trainer.py</span></a><span style=\"color: #7f7f7f\">:409</span>\n",
       "</pre>\n"
      ],
      "text/plain": [
       "<rich.jupyter.JupyterRenderable at 0x7faaefd83700>"
      ]
     },
     "metadata": {},
     "output_type": "display_data"
    },
    {
     "name": "stdout",
     "output_type": "stream",
     "text": [
      "Training steps: 0 Loss: 0.5333999395370483\n",
      "Training steps: 50 Loss: 0.5525428056716919\n",
      "Training steps: 100 Loss: 0.55007404088974\n",
      "VALID AUC : 0.7856954152960527 ACC : 0.7145390070921985\n",
      "\n"
     ]
    },
    {
     "data": {
      "text/html": [
       "<pre style=\"white-space:pre;overflow-x:auto;line-height:normal;font-family:Menlo,'DejaVu Sans Mono',consolas,'Courier New',monospace\"><span style=\"color: #7fbfbf\">[13:00:44] </span><span style=\"color: #000080\">INFO    </span> TRAIN_LOSS: <span style=\"color: #000080; font-weight: bold\">0.5644411444664001</span>                             <a href=\"file:///home/j-gunmo/desktop/00.my-project/17.P-Stage-T1003/4-STAGE/trainer.py\"><span style=\"color: #7f7f7f\">trainer.py</span></a><span style=\"color: #7f7f7f\">:425</span>\n",
       "</pre>\n"
      ],
      "text/plain": [
       "<rich.jupyter.JupyterRenderable at 0x7faaed65d460>"
      ]
     },
     "metadata": {},
     "output_type": "display_data"
    },
    {
     "data": {
      "text/html": [
       "<pre style=\"white-space:pre;overflow-x:auto;line-height:normal;font-family:Menlo,'DejaVu Sans Mono',consolas,'Courier New',monospace\"><span style=\"color: #7fbfbf\">           </span><span style=\"color: #000080\">INFO    </span> TRAIN AUC: <span style=\"color: #000080; font-weight: bold\">0.7804648488221706</span> TRAIN ACC:                   <a href=\"file:///home/j-gunmo/desktop/00.my-project/17.P-Stage-T1003/4-STAGE/trainer.py\"><span style=\"color: #7f7f7f\">trainer.py</span></a><span style=\"color: #7f7f7f\">:426</span>\n",
       "                    <span style=\"color: #000080; font-weight: bold\">0.7150275473370907</span>                                                       \n",
       "</pre>\n"
      ],
      "text/plain": [
       "<rich.jupyter.JupyterRenderable at 0x7fab085f0b20>"
      ]
     },
     "metadata": {},
     "output_type": "display_data"
    },
    {
     "data": {
      "text/html": [
       "<pre style=\"white-space:pre;overflow-x:auto;line-height:normal;font-family:Menlo,'DejaVu Sans Mono',consolas,'Courier New',monospace\"><span style=\"color: #7fbfbf\">           </span><span style=\"color: #000080\">INFO    </span> VALID AUC: <span style=\"color: #000080; font-weight: bold\">0.7856954152960527</span> VALID ACC:                   <a href=\"file:///home/j-gunmo/desktop/00.my-project/17.P-Stage-T1003/4-STAGE/trainer.py\"><span style=\"color: #7f7f7f\">trainer.py</span></a><span style=\"color: #7f7f7f\">:427</span>\n",
       "                    <span style=\"color: #000080; font-weight: bold\">0.7145390070921985</span>                                                       \n",
       "                                                                                             \n",
       "</pre>\n"
      ],
      "text/plain": [
       "<rich.jupyter.JupyterRenderable at 0x7faaefd83e80>"
      ]
     },
     "metadata": {},
     "output_type": "display_data"
    },
    {
     "data": {
      "text/html": [
       "<pre style=\"white-space:pre;overflow-x:auto;line-height:normal;font-family:Menlo,'DejaVu Sans Mono',consolas,'Courier New',monospace\"><span style=\"color: #7fbfbf\">           </span><span style=\"color: #000080\">INFO    </span> EarlyStopping counter: <span style=\"color: #000080; font-weight: bold\">5</span>                                   <a href=\"file:///home/j-gunmo/desktop/00.my-project/17.P-Stage-T1003/4-STAGE/trainer.py\"><span style=\"color: #7f7f7f\">trainer.py</span></a><span style=\"color: #7f7f7f\">:435</span>\n",
       "</pre>\n"
      ],
      "text/plain": [
       "<rich.jupyter.JupyterRenderable at 0x7fab08609070>"
      ]
     },
     "metadata": {},
     "output_type": "display_data"
    },
    {
     "data": {
      "text/html": [
       "<pre style=\"white-space:pre;overflow-x:auto;line-height:normal;font-family:Menlo,'DejaVu Sans Mono',consolas,'Courier New',monospace\"><span style=\"color: #7fbfbf\">           </span><span style=\"color: #000080\">INFO    </span> EarlyStopping counter: <span style=\"color: #000080; font-weight: bold\">5</span> out of <span style=\"color: #000080; font-weight: bold\">5</span>                          <a href=\"file:///home/j-gunmo/desktop/00.my-project/17.P-Stage-T1003/4-STAGE/trainer.py\"><span style=\"color: #7f7f7f\">trainer.py</span></a><span style=\"color: #7f7f7f\">:437</span>\n",
       "</pre>\n"
      ],
      "text/plain": [
       "<rich.jupyter.JupyterRenderable at 0x7faaefd83a60>"
      ]
     },
     "metadata": {},
     "output_type": "display_data"
    },
    {
     "data": {
      "text/html": [
       "Finishing last run (ID:3l99t00n) before initializing another..."
      ],
      "text/plain": [
       "<IPython.core.display.HTML object>"
      ]
     },
     "metadata": {},
     "output_type": "display_data"
    },
    {
     "data": {
      "text/html": [
       "<br/>Waiting for W&B process to finish, PID 39056<br/>Program ended successfully."
      ],
      "text/plain": [
       "<IPython.core.display.HTML object>"
      ]
     },
     "metadata": {},
     "output_type": "display_data"
    },
    {
     "data": {
      "application/vnd.jupyter.widget-view+json": {
       "model_id": "2b5ddd628955409297e60a3846a241ae",
       "version_major": 2,
       "version_minor": 0
      },
      "text/plain": [
       "VBox(children=(Label(value=' 5.91MB of 5.91MB uploaded (0.00MB deduped)\\r'), FloatProgress(value=1.0, max=1.0)…"
      ]
     },
     "metadata": {},
     "output_type": "display_data"
    },
    {
     "data": {
      "text/html": [
       "Find user logs for this run at: <code>/home/j-gunmo/desktop/00.my-project/17.P-Stage-T1003/4-STAGE/notebook/wandb/run-20210614_125856-3l99t00n/logs/debug.log</code>"
      ],
      "text/plain": [
       "<IPython.core.display.HTML object>"
      ]
     },
     "metadata": {},
     "output_type": "display_data"
    },
    {
     "data": {
      "text/html": [
       "Find internal logs for this run at: <code>/home/j-gunmo/desktop/00.my-project/17.P-Stage-T1003/4-STAGE/notebook/wandb/run-20210614_125856-3l99t00n/logs/debug-internal.log</code>"
      ],
      "text/plain": [
       "<IPython.core.display.HTML object>"
      ]
     },
     "metadata": {},
     "output_type": "display_data"
    },
    {
     "data": {
      "text/html": [
       "<h3>Run summary:</h3><br/><style>\n",
       "    table.wandb td:nth-child(1) { padding: 0 10px; text-align: right }\n",
       "    </style><table class=\"wandb\">\n",
       "<tr><td>epoch</td><td>14</td></tr><tr><td>train_loss</td><td>0.56444</td></tr><tr><td>train_auc</td><td>0.78046</td></tr><tr><td>train_acc</td><td>0.71503</td></tr><tr><td>valid_auc</td><td>0.7857</td></tr><tr><td>valid_acc</td><td>0.71454</td></tr><tr><td>_runtime</td><td>108</td></tr><tr><td>_timestamp</td><td>1623643244</td></tr><tr><td>_step</td><td>14</td></tr></table>"
      ],
      "text/plain": [
       "<IPython.core.display.HTML object>"
      ]
     },
     "metadata": {},
     "output_type": "display_data"
    },
    {
     "data": {
      "text/html": [
       "<h3>Run history:</h3><br/><style>\n",
       "    table.wandb td:nth-child(1) { padding: 0 10px; text-align: right }\n",
       "    </style><table class=\"wandb\">\n",
       "<tr><td>epoch</td><td>▁▁▂▃▃▃▄▅▅▅▆▇▇▇█</td></tr><tr><td>train_loss</td><td>█▃▃▂▂▂▁▁▁▁▁▁▁▁▁</td></tr><tr><td>train_auc</td><td>▁▆▆▇▇▇▇▇███████</td></tr><tr><td>train_acc</td><td>▁▅▆▆▆█▇█▇▇▇████</td></tr><tr><td>valid_auc</td><td>▁▄▅▆▆▇████▇██▇▇</td></tr><tr><td>valid_acc</td><td>▁▁▇▅▆▄▆▅▇██▆▄▅▄</td></tr><tr><td>_runtime</td><td>▁▁▂▂▃▄▄▅▅▆▆▇▇██</td></tr><tr><td>_timestamp</td><td>▁▁▂▂▃▄▄▅▅▆▆▇▇██</td></tr><tr><td>_step</td><td>▁▁▂▃▃▃▄▅▅▅▆▇▇▇█</td></tr></table><br/>"
      ],
      "text/plain": [
       "<IPython.core.display.HTML object>"
      ]
     },
     "metadata": {},
     "output_type": "display_data"
    },
    {
     "data": {
      "text/html": [
       "Synced 6 W&B file(s), 1 media file(s), 0 artifact file(s) and 2 other file(s)"
      ],
      "text/plain": [
       "<IPython.core.display.HTML object>"
      ]
     },
     "metadata": {},
     "output_type": "display_data"
    },
    {
     "data": {
      "text/html": [
       "\n",
       "                    <br/>Synced <strong style=\"color:#cdcd00\">driven-night-508</strong>: <a href=\"https://wandb.ai/ggm1207/p-stage-4/runs/3l99t00n\" target=\"_blank\">https://wandb.ai/ggm1207/p-stage-4/runs/3l99t00n</a><br/>\n",
       "                "
      ],
      "text/plain": [
       "<IPython.core.display.HTML object>"
      ]
     },
     "metadata": {},
     "output_type": "display_data"
    },
    {
     "data": {
      "text/html": [
       "...Successfully finished last run (ID:3l99t00n). Initializing new run:<br/><br/>"
      ],
      "text/plain": [
       "<IPython.core.display.HTML object>"
      ]
     },
     "metadata": {},
     "output_type": "display_data"
    },
    {
     "name": "stderr",
     "output_type": "stream",
     "text": [
      "\u001b[34m\u001b[1mwandb\u001b[0m: wandb version 0.10.32 is available!  To upgrade, please run:\n",
      "\u001b[34m\u001b[1mwandb\u001b[0m:  $ pip install wandb --upgrade\n"
     ]
    },
    {
     "data": {
      "text/html": [
       "\n",
       "                Tracking run with wandb version 0.10.27<br/>\n",
       "                Syncing run <strong style=\"color:#cdcd00\">fine-snowflake-509</strong> to <a href=\"https://wandb.ai\" target=\"_blank\">Weights & Biases</a> <a href=\"https://docs.wandb.com/integrations/jupyter.html\" target=\"_blank\">(Documentation)</a>.<br/>\n",
       "                Project page: <a href=\"https://wandb.ai/ggm1207/p-stage-4\" target=\"_blank\">https://wandb.ai/ggm1207/p-stage-4</a><br/>\n",
       "                Run page: <a href=\"https://wandb.ai/ggm1207/p-stage-4/runs/1zgc4960\" target=\"_blank\">https://wandb.ai/ggm1207/p-stage-4/runs/1zgc4960</a><br/>\n",
       "                Run data is saved locally in <code>/home/j-gunmo/desktop/00.my-project/17.P-Stage-T1003/4-STAGE/notebook/wandb/run-20210614_130044-1zgc4960</code><br/><br/>\n",
       "            "
      ],
      "text/plain": [
       "<IPython.core.display.HTML object>"
      ]
     },
     "metadata": {},
     "output_type": "display_data"
    },
    {
     "data": {
      "text/html": [
       "<pre style=\"white-space:pre;overflow-x:auto;line-height:normal;font-family:Menlo,'DejaVu Sans Mono',consolas,'Courier New',monospace\"><span style=\"color: #7fbfbf\">[13:00:51] </span><span style=\"color: #000080\">INFO    </span> Start Training: Epoch <span style=\"color: #000080; font-weight: bold\">1</span>                                    <a href=\"file:///home/j-gunmo/desktop/00.my-project/17.P-Stage-T1003/4-STAGE/trainer.py\"><span style=\"color: #7f7f7f\">trainer.py</span></a><span style=\"color: #7f7f7f\">:409</span>\n",
       "</pre>\n"
      ],
      "text/plain": [
       "<rich.jupyter.JupyterRenderable at 0x7fa9512df7c0>"
      ]
     },
     "metadata": {},
     "output_type": "display_data"
    },
    {
     "name": "stdout",
     "output_type": "stream",
     "text": [
      "Training steps: 0 Loss: 0.6956632137298584\n",
      "Training steps: 50 Loss: 0.6047564744949341\n",
      "Training steps: 100 Loss: 0.5139285326004028\n",
      "VALID AUC : 0.7722368522368522 ACC : 0.7120060790273556\n",
      "\n"
     ]
    },
    {
     "data": {
      "text/html": [
       "<pre style=\"white-space:pre;overflow-x:auto;line-height:normal;font-family:Menlo,'DejaVu Sans Mono',consolas,'Courier New',monospace\"><span style=\"color: #7fbfbf\">[13:00:57] </span><span style=\"color: #000080\">INFO    </span> TRAIN_LOSS: <span style=\"color: #000080; font-weight: bold\">0.5980308055877686</span>                             <a href=\"file:///home/j-gunmo/desktop/00.my-project/17.P-Stage-T1003/4-STAGE/trainer.py\"><span style=\"color: #7f7f7f\">trainer.py</span></a><span style=\"color: #7f7f7f\">:425</span>\n",
       "</pre>\n"
      ],
      "text/plain": [
       "<rich.jupyter.JupyterRenderable at 0x7fa944c7c880>"
      ]
     },
     "metadata": {},
     "output_type": "display_data"
    },
    {
     "data": {
      "text/html": [
       "<pre style=\"white-space:pre;overflow-x:auto;line-height:normal;font-family:Menlo,'DejaVu Sans Mono',consolas,'Courier New',monospace\"><span style=\"color: #7fbfbf\">           </span><span style=\"color: #000080\">INFO    </span> TRAIN AUC: <span style=\"color: #000080; font-weight: bold\">0.7471135779930762</span> TRAIN ACC:                   <a href=\"file:///home/j-gunmo/desktop/00.my-project/17.P-Stage-T1003/4-STAGE/trainer.py\"><span style=\"color: #7f7f7f\">trainer.py</span></a><span style=\"color: #7f7f7f\">:426</span>\n",
       "                    <span style=\"color: #000080; font-weight: bold\">0.6930530048761953</span>                                                       \n",
       "</pre>\n"
      ],
      "text/plain": [
       "<rich.jupyter.JupyterRenderable at 0x7fa944c7cf40>"
      ]
     },
     "metadata": {},
     "output_type": "display_data"
    },
    {
     "data": {
      "text/html": [
       "<pre style=\"white-space:pre;overflow-x:auto;line-height:normal;font-family:Menlo,'DejaVu Sans Mono',consolas,'Courier New',monospace\"><span style=\"color: #7fbfbf\">           </span><span style=\"color: #000080\">INFO    </span> VALID AUC: <span style=\"color: #000080; font-weight: bold\">0.7722368522368522</span> VALID ACC:                   <a href=\"file:///home/j-gunmo/desktop/00.my-project/17.P-Stage-T1003/4-STAGE/trainer.py\"><span style=\"color: #7f7f7f\">trainer.py</span></a><span style=\"color: #7f7f7f\">:427</span>\n",
       "                    <span style=\"color: #000080; font-weight: bold\">0.7120060790273556</span>                                                       \n",
       "                                                                                             \n",
       "</pre>\n"
      ],
      "text/plain": [
       "<rich.jupyter.JupyterRenderable at 0x7fa944c7ca00>"
      ]
     },
     "metadata": {},
     "output_type": "display_data"
    },
    {
     "data": {
      "text/html": [
       "<pre style=\"white-space:pre;overflow-x:auto;line-height:normal;font-family:Menlo,'DejaVu Sans Mono',consolas,'Courier New',monospace\"><span style=\"color: #7fbfbf\">           </span><span style=\"color: #000080\">INFO    </span> Start Training: Epoch <span style=\"color: #000080; font-weight: bold\">2</span>                                    <a href=\"file:///home/j-gunmo/desktop/00.my-project/17.P-Stage-T1003/4-STAGE/trainer.py\"><span style=\"color: #7f7f7f\">trainer.py</span></a><span style=\"color: #7f7f7f\">:409</span>\n",
       "</pre>\n"
      ],
      "text/plain": [
       "<rich.jupyter.JupyterRenderable at 0x7fa944c7c280>"
      ]
     },
     "metadata": {},
     "output_type": "display_data"
    },
    {
     "name": "stdout",
     "output_type": "stream",
     "text": [
      "Training steps: 0 Loss: 0.49331462383270264\n",
      "Training steps: 50 Loss: 0.529936671257019\n",
      "Training steps: 100 Loss: 0.5918154716491699\n",
      "VALID AUC : 0.7733615666949001 ACC : 0.7099797365754813\n",
      "\n"
     ]
    },
    {
     "data": {
      "text/html": [
       "<pre style=\"white-space:pre;overflow-x:auto;line-height:normal;font-family:Menlo,'DejaVu Sans Mono',consolas,'Courier New',monospace\"><span style=\"color: #7fbfbf\">[13:01:04] </span><span style=\"color: #000080\">INFO    </span> TRAIN_LOSS: <span style=\"color: #000080; font-weight: bold\">0.5758705735206604</span>                             <a href=\"file:///home/j-gunmo/desktop/00.my-project/17.P-Stage-T1003/4-STAGE/trainer.py\"><span style=\"color: #7f7f7f\">trainer.py</span></a><span style=\"color: #7f7f7f\">:425</span>\n",
       "</pre>\n"
      ],
      "text/plain": [
       "<rich.jupyter.JupyterRenderable at 0x7fa941dbd490>"
      ]
     },
     "metadata": {},
     "output_type": "display_data"
    },
    {
     "data": {
      "text/html": [
       "<pre style=\"white-space:pre;overflow-x:auto;line-height:normal;font-family:Menlo,'DejaVu Sans Mono',consolas,'Courier New',monospace\"><span style=\"color: #7fbfbf\">           </span><span style=\"color: #000080\">INFO    </span> TRAIN AUC: <span style=\"color: #000080; font-weight: bold\">0.7676078514632788</span> TRAIN ACC:                   <a href=\"file:///home/j-gunmo/desktop/00.my-project/17.P-Stage-T1003/4-STAGE/trainer.py\"><span style=\"color: #7f7f7f\">trainer.py</span></a><span style=\"color: #7f7f7f\">:426</span>\n",
       "                    <span style=\"color: #000080; font-weight: bold\">0.7019188145145969</span>                                                       \n",
       "</pre>\n"
      ],
      "text/plain": [
       "<rich.jupyter.JupyterRenderable at 0x7fa941dbdeb0>"
      ]
     },
     "metadata": {},
     "output_type": "display_data"
    },
    {
     "data": {
      "text/html": [
       "<pre style=\"white-space:pre;overflow-x:auto;line-height:normal;font-family:Menlo,'DejaVu Sans Mono',consolas,'Courier New',monospace\"><span style=\"color: #7fbfbf\">           </span><span style=\"color: #000080\">INFO    </span> VALID AUC: <span style=\"color: #000080; font-weight: bold\">0.7733615666949001</span> VALID ACC:                   <a href=\"file:///home/j-gunmo/desktop/00.my-project/17.P-Stage-T1003/4-STAGE/trainer.py\"><span style=\"color: #7f7f7f\">trainer.py</span></a><span style=\"color: #7f7f7f\">:427</span>\n",
       "                    <span style=\"color: #000080; font-weight: bold\">0.7099797365754813</span>                                                       \n",
       "                                                                                             \n",
       "</pre>\n"
      ],
      "text/plain": [
       "<rich.jupyter.JupyterRenderable at 0x7fa944aa09d0>"
      ]
     },
     "metadata": {},
     "output_type": "display_data"
    },
    {
     "data": {
      "text/html": [
       "<pre style=\"white-space:pre;overflow-x:auto;line-height:normal;font-family:Menlo,'DejaVu Sans Mono',consolas,'Courier New',monospace\"><span style=\"color: #7fbfbf\">           </span><span style=\"color: #000080\">INFO    </span> Start Training: Epoch <span style=\"color: #000080; font-weight: bold\">3</span>                                    <a href=\"file:///home/j-gunmo/desktop/00.my-project/17.P-Stage-T1003/4-STAGE/trainer.py\"><span style=\"color: #7f7f7f\">trainer.py</span></a><span style=\"color: #7f7f7f\">:409</span>\n",
       "</pre>\n"
      ],
      "text/plain": [
       "<rich.jupyter.JupyterRenderable at 0x7fa944aa0580>"
      ]
     },
     "metadata": {},
     "output_type": "display_data"
    },
    {
     "name": "stdout",
     "output_type": "stream",
     "text": [
      "Training steps: 0 Loss: 0.6010558605194092\n",
      "Training steps: 50 Loss: 0.5656651258468628\n",
      "Training steps: 100 Loss: 0.526378333568573\n",
      "VALID AUC : 0.7747424347424348 ACC : 0.7142857142857143\n",
      "\n"
     ]
    },
    {
     "data": {
      "text/html": [
       "<pre style=\"white-space:pre;overflow-x:auto;line-height:normal;font-family:Menlo,'DejaVu Sans Mono',consolas,'Courier New',monospace\"><span style=\"color: #7fbfbf\">[13:01:11] </span><span style=\"color: #000080\">INFO    </span> TRAIN_LOSS: <span style=\"color: #000080; font-weight: bold\">0.570747971534729</span>                              <a href=\"file:///home/j-gunmo/desktop/00.my-project/17.P-Stage-T1003/4-STAGE/trainer.py\"><span style=\"color: #7f7f7f\">trainer.py</span></a><span style=\"color: #7f7f7f\">:425</span>\n",
       "</pre>\n"
      ],
      "text/plain": [
       "<rich.jupyter.JupyterRenderable at 0x7fa94655e220>"
      ]
     },
     "metadata": {},
     "output_type": "display_data"
    },
    {
     "data": {
      "text/html": [
       "<pre style=\"white-space:pre;overflow-x:auto;line-height:normal;font-family:Menlo,'DejaVu Sans Mono',consolas,'Courier New',monospace\"><span style=\"color: #7fbfbf\">           </span><span style=\"color: #000080\">INFO    </span> TRAIN AUC: <span style=\"color: #000080; font-weight: bold\">0.7725317459400438</span> TRAIN ACC:                   <a href=\"file:///home/j-gunmo/desktop/00.my-project/17.P-Stage-T1003/4-STAGE/trainer.py\"><span style=\"color: #7f7f7f\">trainer.py</span></a><span style=\"color: #7f7f7f\">:426</span>\n",
       "                    <span style=\"color: #000080; font-weight: bold\">0.7055917927933633</span>                                                       \n",
       "</pre>\n"
      ],
      "text/plain": [
       "<rich.jupyter.JupyterRenderable at 0x7fa94655e340>"
      ]
     },
     "metadata": {},
     "output_type": "display_data"
    },
    {
     "data": {
      "text/html": [
       "<pre style=\"white-space:pre;overflow-x:auto;line-height:normal;font-family:Menlo,'DejaVu Sans Mono',consolas,'Courier New',monospace\"><span style=\"color: #7fbfbf\">           </span><span style=\"color: #000080\">INFO    </span> VALID AUC: <span style=\"color: #000080; font-weight: bold\">0.7747424347424348</span> VALID ACC:                   <a href=\"file:///home/j-gunmo/desktop/00.my-project/17.P-Stage-T1003/4-STAGE/trainer.py\"><span style=\"color: #7f7f7f\">trainer.py</span></a><span style=\"color: #7f7f7f\">:427</span>\n",
       "                    <span style=\"color: #000080; font-weight: bold\">0.7142857142857143</span>                                                       \n",
       "                                                                                             \n",
       "</pre>\n"
      ],
      "text/plain": [
       "<rich.jupyter.JupyterRenderable at 0x7fa941dc2d30>"
      ]
     },
     "metadata": {},
     "output_type": "display_data"
    },
    {
     "data": {
      "text/html": [
       "<pre style=\"white-space:pre;overflow-x:auto;line-height:normal;font-family:Menlo,'DejaVu Sans Mono',consolas,'Courier New',monospace\"><span style=\"color: #7fbfbf\">[13:01:12] </span><span style=\"color: #000080\">INFO    </span> Start Training: Epoch <span style=\"color: #000080; font-weight: bold\">4</span>                                    <a href=\"file:///home/j-gunmo/desktop/00.my-project/17.P-Stage-T1003/4-STAGE/trainer.py\"><span style=\"color: #7f7f7f\">trainer.py</span></a><span style=\"color: #7f7f7f\">:409</span>\n",
       "</pre>\n"
      ],
      "text/plain": [
       "<rich.jupyter.JupyterRenderable at 0x7fa94655e1c0>"
      ]
     },
     "metadata": {},
     "output_type": "display_data"
    },
    {
     "name": "stdout",
     "output_type": "stream",
     "text": [
      "Training steps: 0 Loss: 0.4948004484176636\n",
      "Training steps: 50 Loss: 0.5347343683242798\n",
      "Training steps: 100 Loss: 0.5812312364578247\n",
      "VALID AUC : 0.7777392777392776 ACC : 0.7021276595744681\n",
      "\n"
     ]
    },
    {
     "data": {
      "text/html": [
       "<pre style=\"white-space:pre;overflow-x:auto;line-height:normal;font-family:Menlo,'DejaVu Sans Mono',consolas,'Courier New',monospace\"><span style=\"color: #7fbfbf\">[13:01:19] </span><span style=\"color: #000080\">INFO    </span> TRAIN_LOSS: <span style=\"color: #000080; font-weight: bold\">0.5694231986999512</span>                             <a href=\"file:///home/j-gunmo/desktop/00.my-project/17.P-Stage-T1003/4-STAGE/trainer.py\"><span style=\"color: #7f7f7f\">trainer.py</span></a><span style=\"color: #7f7f7f\">:425</span>\n",
       "</pre>\n"
      ],
      "text/plain": [
       "<rich.jupyter.JupyterRenderable at 0x7fa94655edc0>"
      ]
     },
     "metadata": {},
     "output_type": "display_data"
    },
    {
     "data": {
      "text/html": [
       "<pre style=\"white-space:pre;overflow-x:auto;line-height:normal;font-family:Menlo,'DejaVu Sans Mono',consolas,'Courier New',monospace\"><span style=\"color: #7fbfbf\">           </span><span style=\"color: #000080\">INFO    </span> TRAIN AUC: <span style=\"color: #000080; font-weight: bold\">0.7740628432242911</span> TRAIN ACC:                   <a href=\"file:///home/j-gunmo/desktop/00.my-project/17.P-Stage-T1003/4-STAGE/trainer.py\"><span style=\"color: #7f7f7f\">trainer.py</span></a><span style=\"color: #7f7f7f\">:426</span>\n",
       "                    <span style=\"color: #000080; font-weight: bold\">0.7103413336710784</span>                                                       \n",
       "</pre>\n"
      ],
      "text/plain": [
       "<rich.jupyter.JupyterRenderable at 0x7fa9512dfe50>"
      ]
     },
     "metadata": {},
     "output_type": "display_data"
    },
    {
     "data": {
      "text/html": [
       "<pre style=\"white-space:pre;overflow-x:auto;line-height:normal;font-family:Menlo,'DejaVu Sans Mono',consolas,'Courier New',monospace\"><span style=\"color: #7fbfbf\">           </span><span style=\"color: #000080\">INFO    </span> VALID AUC: <span style=\"color: #000080; font-weight: bold\">0.7777392777392776</span> VALID ACC:                   <a href=\"file:///home/j-gunmo/desktop/00.my-project/17.P-Stage-T1003/4-STAGE/trainer.py\"><span style=\"color: #7f7f7f\">trainer.py</span></a><span style=\"color: #7f7f7f\">:427</span>\n",
       "                    <span style=\"color: #000080; font-weight: bold\">0.7021276595744681</span>                                                       \n",
       "                                                                                             \n",
       "</pre>\n"
      ],
      "text/plain": [
       "<rich.jupyter.JupyterRenderable at 0x7fa9512df580>"
      ]
     },
     "metadata": {},
     "output_type": "display_data"
    },
    {
     "data": {
      "text/html": [
       "<pre style=\"white-space:pre;overflow-x:auto;line-height:normal;font-family:Menlo,'DejaVu Sans Mono',consolas,'Courier New',monospace\"><span style=\"color: #7fbfbf\">           </span><span style=\"color: #000080\">INFO    </span> Start Training: Epoch <span style=\"color: #000080; font-weight: bold\">5</span>                                    <a href=\"file:///home/j-gunmo/desktop/00.my-project/17.P-Stage-T1003/4-STAGE/trainer.py\"><span style=\"color: #7f7f7f\">trainer.py</span></a><span style=\"color: #7f7f7f\">:409</span>\n",
       "</pre>\n"
      ],
      "text/plain": [
       "<rich.jupyter.JupyterRenderable at 0x7fa9512dfe50>"
      ]
     },
     "metadata": {},
     "output_type": "display_data"
    },
    {
     "name": "stdout",
     "output_type": "stream",
     "text": [
      "Training steps: 0 Loss: 0.5414777994155884\n",
      "Training steps: 50 Loss: 0.5836319923400879\n",
      "Training steps: 100 Loss: 0.529004693031311\n",
      "VALID AUC : 0.7801699135032468 ACC : 0.7180851063829787\n",
      "\n"
     ]
    },
    {
     "data": {
      "text/html": [
       "<pre style=\"white-space:pre;overflow-x:auto;line-height:normal;font-family:Menlo,'DejaVu Sans Mono',consolas,'Courier New',monospace\"><span style=\"color: #7fbfbf\">[13:01:26] </span><span style=\"color: #000080\">INFO    </span> TRAIN_LOSS: <span style=\"color: #000080; font-weight: bold\">0.5698251724243164</span>                             <a href=\"file:///home/j-gunmo/desktop/00.my-project/17.P-Stage-T1003/4-STAGE/trainer.py\"><span style=\"color: #7f7f7f\">trainer.py</span></a><span style=\"color: #7f7f7f\">:425</span>\n",
       "</pre>\n"
      ],
      "text/plain": [
       "<rich.jupyter.JupyterRenderable at 0x7fa941dc29a0>"
      ]
     },
     "metadata": {},
     "output_type": "display_data"
    },
    {
     "data": {
      "text/html": [
       "<pre style=\"white-space:pre;overflow-x:auto;line-height:normal;font-family:Menlo,'DejaVu Sans Mono',consolas,'Courier New',monospace\"><span style=\"color: #7fbfbf\">           </span><span style=\"color: #000080\">INFO    </span> TRAIN AUC: <span style=\"color: #000080; font-weight: bold\">0.7736278891822445</span> TRAIN ACC:                   <a href=\"file:///home/j-gunmo/desktop/00.my-project/17.P-Stage-T1003/4-STAGE/trainer.py\"><span style=\"color: #7f7f7f\">trainer.py</span></a><span style=\"color: #7f7f7f\">:426</span>\n",
       "                    <span style=\"color: #000080; font-weight: bold\">0.7082515356848837</span>                                                       \n",
       "</pre>\n"
      ],
      "text/plain": [
       "<rich.jupyter.JupyterRenderable at 0x7fa9512df460>"
      ]
     },
     "metadata": {},
     "output_type": "display_data"
    },
    {
     "data": {
      "text/html": [
       "<pre style=\"white-space:pre;overflow-x:auto;line-height:normal;font-family:Menlo,'DejaVu Sans Mono',consolas,'Courier New',monospace\"><span style=\"color: #7fbfbf\">           </span><span style=\"color: #000080\">INFO    </span> VALID AUC: <span style=\"color: #000080; font-weight: bold\">0.7801699135032468</span> VALID ACC:                   <a href=\"file:///home/j-gunmo/desktop/00.my-project/17.P-Stage-T1003/4-STAGE/trainer.py\"><span style=\"color: #7f7f7f\">trainer.py</span></a><span style=\"color: #7f7f7f\">:427</span>\n",
       "                    <span style=\"color: #000080; font-weight: bold\">0.7180851063829787</span>                                                       \n",
       "                                                                                             \n",
       "</pre>\n"
      ],
      "text/plain": [
       "<rich.jupyter.JupyterRenderable at 0x7fa9512dfe20>"
      ]
     },
     "metadata": {},
     "output_type": "display_data"
    },
    {
     "data": {
      "text/html": [
       "<pre style=\"white-space:pre;overflow-x:auto;line-height:normal;font-family:Menlo,'DejaVu Sans Mono',consolas,'Courier New',monospace\"><span style=\"color: #7fbfbf\">           </span><span style=\"color: #000080\">INFO    </span> Start Training: Epoch <span style=\"color: #000080; font-weight: bold\">6</span>                                    <a href=\"file:///home/j-gunmo/desktop/00.my-project/17.P-Stage-T1003/4-STAGE/trainer.py\"><span style=\"color: #7f7f7f\">trainer.py</span></a><span style=\"color: #7f7f7f\">:409</span>\n",
       "</pre>\n"
      ],
      "text/plain": [
       "<rich.jupyter.JupyterRenderable at 0x7fa9512dfe50>"
      ]
     },
     "metadata": {},
     "output_type": "display_data"
    },
    {
     "name": "stdout",
     "output_type": "stream",
     "text": [
      "Training steps: 0 Loss: 0.6129568815231323\n",
      "Training steps: 50 Loss: 0.5401780009269714\n",
      "Training steps: 100 Loss: 0.5128384828567505\n",
      "VALID AUC : 0.7808023408023408 ACC : 0.7152988855116514\n",
      "\n"
     ]
    },
    {
     "data": {
      "text/html": [
       "<pre style=\"white-space:pre;overflow-x:auto;line-height:normal;font-family:Menlo,'DejaVu Sans Mono',consolas,'Courier New',monospace\"><span style=\"color: #7fbfbf\">[13:01:32] </span><span style=\"color: #000080\">INFO    </span> TRAIN_LOSS: <span style=\"color: #000080; font-weight: bold\">0.5672706365585327</span>                             <a href=\"file:///home/j-gunmo/desktop/00.my-project/17.P-Stage-T1003/4-STAGE/trainer.py\"><span style=\"color: #7f7f7f\">trainer.py</span></a><span style=\"color: #7f7f7f\">:425</span>\n",
       "</pre>\n"
      ],
      "text/plain": [
       "<rich.jupyter.JupyterRenderable at 0x7fa941dbd580>"
      ]
     },
     "metadata": {},
     "output_type": "display_data"
    },
    {
     "data": {
      "text/html": [
       "<pre style=\"white-space:pre;overflow-x:auto;line-height:normal;font-family:Menlo,'DejaVu Sans Mono',consolas,'Courier New',monospace\"><span style=\"color: #7fbfbf\">           </span><span style=\"color: #000080\">INFO    </span> TRAIN AUC: <span style=\"color: #000080; font-weight: bold\">0.776502596227975</span> TRAIN ACC: <span style=\"color: #000080; font-weight: bold\">0.7098347159774555</span> <a href=\"file:///home/j-gunmo/desktop/00.my-project/17.P-Stage-T1003/4-STAGE/trainer.py\"><span style=\"color: #7f7f7f\">trainer.py</span></a><span style=\"color: #7f7f7f\">:426</span>\n",
       "</pre>\n"
      ],
      "text/plain": [
       "<rich.jupyter.JupyterRenderable at 0x7fa94655edc0>"
      ]
     },
     "metadata": {},
     "output_type": "display_data"
    },
    {
     "data": {
      "text/html": [
       "<pre style=\"white-space:pre;overflow-x:auto;line-height:normal;font-family:Menlo,'DejaVu Sans Mono',consolas,'Courier New',monospace\"><span style=\"color: #7fbfbf\">           </span><span style=\"color: #000080\">INFO    </span> VALID AUC: <span style=\"color: #000080; font-weight: bold\">0.7808023408023408</span> VALID ACC:                   <a href=\"file:///home/j-gunmo/desktop/00.my-project/17.P-Stage-T1003/4-STAGE/trainer.py\"><span style=\"color: #7f7f7f\">trainer.py</span></a><span style=\"color: #7f7f7f\">:427</span>\n",
       "                    <span style=\"color: #000080; font-weight: bold\">0.7152988855116514</span>                                                       \n",
       "                                                                                             \n",
       "</pre>\n"
      ],
      "text/plain": [
       "<rich.jupyter.JupyterRenderable at 0x7fa944aa0e50>"
      ]
     },
     "metadata": {},
     "output_type": "display_data"
    },
    {
     "data": {
      "text/html": [
       "<pre style=\"white-space:pre;overflow-x:auto;line-height:normal;font-family:Menlo,'DejaVu Sans Mono',consolas,'Courier New',monospace\"><span style=\"color: #7fbfbf\">[13:01:33] </span><span style=\"color: #000080\">INFO    </span> Start Training: Epoch <span style=\"color: #000080; font-weight: bold\">7</span>                                    <a href=\"file:///home/j-gunmo/desktop/00.my-project/17.P-Stage-T1003/4-STAGE/trainer.py\"><span style=\"color: #7f7f7f\">trainer.py</span></a><span style=\"color: #7f7f7f\">:409</span>\n",
       "</pre>\n"
      ],
      "text/plain": [
       "<rich.jupyter.JupyterRenderable at 0x7fa944aa08b0>"
      ]
     },
     "metadata": {},
     "output_type": "display_data"
    },
    {
     "name": "stdout",
     "output_type": "stream",
     "text": [
      "Training steps: 0 Loss: 0.5902056694030762\n",
      "Training steps: 50 Loss: 0.567690372467041\n",
      "Training steps: 100 Loss: 0.5701600313186646\n",
      "VALID AUC : 0.7813852313852314 ACC : 0.7145390070921985\n",
      "\n"
     ]
    },
    {
     "data": {
      "text/html": [
       "<pre style=\"white-space:pre;overflow-x:auto;line-height:normal;font-family:Menlo,'DejaVu Sans Mono',consolas,'Courier New',monospace\"><span style=\"color: #7fbfbf\">[13:01:40] </span><span style=\"color: #000080\">INFO    </span> TRAIN_LOSS: <span style=\"color: #000080; font-weight: bold\">0.5666607618331909</span>                             <a href=\"file:///home/j-gunmo/desktop/00.my-project/17.P-Stage-T1003/4-STAGE/trainer.py\"><span style=\"color: #7f7f7f\">trainer.py</span></a><span style=\"color: #7f7f7f\">:425</span>\n",
       "</pre>\n"
      ],
      "text/plain": [
       "<rich.jupyter.JupyterRenderable at 0x7fa9442c40a0>"
      ]
     },
     "metadata": {},
     "output_type": "display_data"
    },
    {
     "data": {
      "text/html": [
       "<pre style=\"white-space:pre;overflow-x:auto;line-height:normal;font-family:Menlo,'DejaVu Sans Mono',consolas,'Courier New',monospace\"><span style=\"color: #7fbfbf\">           </span><span style=\"color: #000080\">INFO    </span> TRAIN AUC: <span style=\"color: #000080; font-weight: bold\">0.7774304051065676</span> TRAIN ACC:                   <a href=\"file:///home/j-gunmo/desktop/00.my-project/17.P-Stage-T1003/4-STAGE/trainer.py\"><span style=\"color: #7f7f7f\">trainer.py</span></a><span style=\"color: #7f7f7f\">:426</span>\n",
       "                    <span style=\"color: #000080; font-weight: bold\">0.7112912418466215</span>                                                       \n",
       "</pre>\n"
      ],
      "text/plain": [
       "<rich.jupyter.JupyterRenderable at 0x7fa944aa08b0>"
      ]
     },
     "metadata": {},
     "output_type": "display_data"
    },
    {
     "data": {
      "text/html": [
       "<pre style=\"white-space:pre;overflow-x:auto;line-height:normal;font-family:Menlo,'DejaVu Sans Mono',consolas,'Courier New',monospace\"><span style=\"color: #7fbfbf\">           </span><span style=\"color: #000080\">INFO    </span> VALID AUC: <span style=\"color: #000080; font-weight: bold\">0.7813852313852314</span> VALID ACC:                   <a href=\"file:///home/j-gunmo/desktop/00.my-project/17.P-Stage-T1003/4-STAGE/trainer.py\"><span style=\"color: #7f7f7f\">trainer.py</span></a><span style=\"color: #7f7f7f\">:427</span>\n",
       "                    <span style=\"color: #000080; font-weight: bold\">0.7145390070921985</span>                                                       \n",
       "                                                                                             \n",
       "</pre>\n"
      ],
      "text/plain": [
       "<rich.jupyter.JupyterRenderable at 0x7fa944aa0580>"
      ]
     },
     "metadata": {},
     "output_type": "display_data"
    },
    {
     "data": {
      "text/html": [
       "<pre style=\"white-space:pre;overflow-x:auto;line-height:normal;font-family:Menlo,'DejaVu Sans Mono',consolas,'Courier New',monospace\"><span style=\"color: #7fbfbf\">           </span><span style=\"color: #000080\">INFO    </span> Start Training: Epoch <span style=\"color: #000080; font-weight: bold\">8</span>                                    <a href=\"file:///home/j-gunmo/desktop/00.my-project/17.P-Stage-T1003/4-STAGE/trainer.py\"><span style=\"color: #7f7f7f\">trainer.py</span></a><span style=\"color: #7f7f7f\">:409</span>\n",
       "</pre>\n"
      ],
      "text/plain": [
       "<rich.jupyter.JupyterRenderable at 0x7fa950b14400>"
      ]
     },
     "metadata": {},
     "output_type": "display_data"
    },
    {
     "name": "stdout",
     "output_type": "stream",
     "text": [
      "Training steps: 0 Loss: 0.5171765089035034\n",
      "Training steps: 50 Loss: 0.5627180337905884\n",
      "Training steps: 100 Loss: 0.5194752216339111\n",
      "VALID AUC : 0.7803426503426505 ACC : 0.71580547112462\n",
      "\n"
     ]
    },
    {
     "data": {
      "text/html": [
       "<pre style=\"white-space:pre;overflow-x:auto;line-height:normal;font-family:Menlo,'DejaVu Sans Mono',consolas,'Courier New',monospace\"><span style=\"color: #7fbfbf\">[13:01:47] </span><span style=\"color: #000080\">INFO    </span> TRAIN_LOSS: <span style=\"color: #000080; font-weight: bold\">0.5663174390792847</span>                             <a href=\"file:///home/j-gunmo/desktop/00.my-project/17.P-Stage-T1003/4-STAGE/trainer.py\"><span style=\"color: #7f7f7f\">trainer.py</span></a><span style=\"color: #7f7f7f\">:425</span>\n",
       "</pre>\n"
      ],
      "text/plain": [
       "<rich.jupyter.JupyterRenderable at 0x7fa944aa0340>"
      ]
     },
     "metadata": {},
     "output_type": "display_data"
    },
    {
     "data": {
      "text/html": [
       "<pre style=\"white-space:pre;overflow-x:auto;line-height:normal;font-family:Menlo,'DejaVu Sans Mono',consolas,'Courier New',monospace\"><span style=\"color: #7fbfbf\">           </span><span style=\"color: #000080\">INFO    </span> TRAIN AUC: <span style=\"color: #000080; font-weight: bold\">0.7780803688062359</span> TRAIN ACC:                   <a href=\"file:///home/j-gunmo/desktop/00.my-project/17.P-Stage-T1003/4-STAGE/trainer.py\"><span style=\"color: #7f7f7f\">trainer.py</span></a><span style=\"color: #7f7f7f\">:426</span>\n",
       "                    <span style=\"color: #000080; font-weight: bold\">0.7118611867519473</span>                                                       \n",
       "</pre>\n"
      ],
      "text/plain": [
       "<rich.jupyter.JupyterRenderable at 0x7fa9442c4820>"
      ]
     },
     "metadata": {},
     "output_type": "display_data"
    },
    {
     "data": {
      "text/html": [
       "<pre style=\"white-space:pre;overflow-x:auto;line-height:normal;font-family:Menlo,'DejaVu Sans Mono',consolas,'Courier New',monospace\"><span style=\"color: #7fbfbf\">           </span><span style=\"color: #000080\">INFO    </span> VALID AUC: <span style=\"color: #000080; font-weight: bold\">0.7803426503426505</span> VALID ACC: <span style=\"color: #000080; font-weight: bold\">0.71580547112462</span>  <a href=\"file:///home/j-gunmo/desktop/00.my-project/17.P-Stage-T1003/4-STAGE/trainer.py\"><span style=\"color: #7f7f7f\">trainer.py</span></a><span style=\"color: #7f7f7f\">:427</span>\n",
       "                                                                                             \n",
       "</pre>\n"
      ],
      "text/plain": [
       "<rich.jupyter.JupyterRenderable at 0x7fa950b14370>"
      ]
     },
     "metadata": {},
     "output_type": "display_data"
    },
    {
     "data": {
      "text/html": [
       "<pre style=\"white-space:pre;overflow-x:auto;line-height:normal;font-family:Menlo,'DejaVu Sans Mono',consolas,'Courier New',monospace\"><span style=\"color: #7fbfbf\">           </span><span style=\"color: #000080\">INFO    </span> EarlyStopping counter: <span style=\"color: #000080; font-weight: bold\">1</span>                                   <a href=\"file:///home/j-gunmo/desktop/00.my-project/17.P-Stage-T1003/4-STAGE/trainer.py\"><span style=\"color: #7f7f7f\">trainer.py</span></a><span style=\"color: #7f7f7f\">:435</span>\n",
       "</pre>\n"
      ],
      "text/plain": [
       "<rich.jupyter.JupyterRenderable at 0x7fa950b140a0>"
      ]
     },
     "metadata": {},
     "output_type": "display_data"
    },
    {
     "data": {
      "text/html": [
       "<pre style=\"white-space:pre;overflow-x:auto;line-height:normal;font-family:Menlo,'DejaVu Sans Mono',consolas,'Courier New',monospace\"><span style=\"color: #7fbfbf\">           </span><span style=\"color: #000080\">INFO    </span> Start Training: Epoch <span style=\"color: #000080; font-weight: bold\">9</span>                                    <a href=\"file:///home/j-gunmo/desktop/00.my-project/17.P-Stage-T1003/4-STAGE/trainer.py\"><span style=\"color: #7f7f7f\">trainer.py</span></a><span style=\"color: #7f7f7f\">:409</span>\n",
       "</pre>\n"
      ],
      "text/plain": [
       "<rich.jupyter.JupyterRenderable at 0x7fa950b14400>"
      ]
     },
     "metadata": {},
     "output_type": "display_data"
    },
    {
     "name": "stdout",
     "output_type": "stream",
     "text": [
      "Training steps: 0 Loss: 0.547912061214447\n",
      "Training steps: 50 Loss: 0.5491472482681274\n",
      "Training steps: 100 Loss: 0.5594881772994995\n",
      "VALID AUC : 0.7800145016811683 ACC : 0.7178318135764944\n",
      "\n"
     ]
    },
    {
     "data": {
      "text/html": [
       "<pre style=\"white-space:pre;overflow-x:auto;line-height:normal;font-family:Menlo,'DejaVu Sans Mono',consolas,'Courier New',monospace\"><span style=\"color: #7fbfbf\">[13:01:54] </span><span style=\"color: #000080\">INFO    </span> TRAIN_LOSS: <span style=\"color: #000080; font-weight: bold\">0.5656741261482239</span>                             <a href=\"file:///home/j-gunmo/desktop/00.my-project/17.P-Stage-T1003/4-STAGE/trainer.py\"><span style=\"color: #7f7f7f\">trainer.py</span></a><span style=\"color: #7f7f7f\">:425</span>\n",
       "</pre>\n"
      ],
      "text/plain": [
       "<rich.jupyter.JupyterRenderable at 0x7fa950b14880>"
      ]
     },
     "metadata": {},
     "output_type": "display_data"
    },
    {
     "data": {
      "text/html": [
       "<pre style=\"white-space:pre;overflow-x:auto;line-height:normal;font-family:Menlo,'DejaVu Sans Mono',consolas,'Courier New',monospace\"><span style=\"color: #7fbfbf\">           </span><span style=\"color: #000080\">INFO    </span> TRAIN AUC: <span style=\"color: #000080; font-weight: bold\">0.7784552876841415</span> TRAIN ACC:                   <a href=\"file:///home/j-gunmo/desktop/00.my-project/17.P-Stage-T1003/4-STAGE/trainer.py\"><span style=\"color: #7f7f7f\">trainer.py</span></a><span style=\"color: #7f7f7f\">:426</span>\n",
       "                    <span style=\"color: #000080; font-weight: bold\">0.7104679880944842</span>                                                       \n",
       "</pre>\n"
      ],
      "text/plain": [
       "<rich.jupyter.JupyterRenderable at 0x7fa950b140a0>"
      ]
     },
     "metadata": {},
     "output_type": "display_data"
    },
    {
     "data": {
      "text/html": [
       "<pre style=\"white-space:pre;overflow-x:auto;line-height:normal;font-family:Menlo,'DejaVu Sans Mono',consolas,'Courier New',monospace\"><span style=\"color: #7fbfbf\">           </span><span style=\"color: #000080\">INFO    </span> VALID AUC: <span style=\"color: #000080; font-weight: bold\">0.7800145016811683</span> VALID ACC:                   <a href=\"file:///home/j-gunmo/desktop/00.my-project/17.P-Stage-T1003/4-STAGE/trainer.py\"><span style=\"color: #7f7f7f\">trainer.py</span></a><span style=\"color: #7f7f7f\">:427</span>\n",
       "                    <span style=\"color: #000080; font-weight: bold\">0.7178318135764944</span>                                                       \n",
       "                                                                                             \n",
       "</pre>\n"
      ],
      "text/plain": [
       "<rich.jupyter.JupyterRenderable at 0x7fa944aa0df0>"
      ]
     },
     "metadata": {},
     "output_type": "display_data"
    },
    {
     "data": {
      "text/html": [
       "<pre style=\"white-space:pre;overflow-x:auto;line-height:normal;font-family:Menlo,'DejaVu Sans Mono',consolas,'Courier New',monospace\"><span style=\"color: #7fbfbf\">           </span><span style=\"color: #000080\">INFO    </span> EarlyStopping counter: <span style=\"color: #000080; font-weight: bold\">2</span>                                   <a href=\"file:///home/j-gunmo/desktop/00.my-project/17.P-Stage-T1003/4-STAGE/trainer.py\"><span style=\"color: #7f7f7f\">trainer.py</span></a><span style=\"color: #7f7f7f\">:435</span>\n",
       "</pre>\n"
      ],
      "text/plain": [
       "<rich.jupyter.JupyterRenderable at 0x7fa94655eaf0>"
      ]
     },
     "metadata": {},
     "output_type": "display_data"
    },
    {
     "data": {
      "text/html": [
       "<pre style=\"white-space:pre;overflow-x:auto;line-height:normal;font-family:Menlo,'DejaVu Sans Mono',consolas,'Courier New',monospace\"><span style=\"color: #7fbfbf\">           </span><span style=\"color: #000080\">INFO    </span> Start Training: Epoch <span style=\"color: #000080; font-weight: bold\">10</span>                                   <a href=\"file:///home/j-gunmo/desktop/00.my-project/17.P-Stage-T1003/4-STAGE/trainer.py\"><span style=\"color: #7f7f7f\">trainer.py</span></a><span style=\"color: #7f7f7f\">:409</span>\n",
       "</pre>\n"
      ],
      "text/plain": [
       "<rich.jupyter.JupyterRenderable at 0x7fa950b14370>"
      ]
     },
     "metadata": {},
     "output_type": "display_data"
    },
    {
     "name": "stdout",
     "output_type": "stream",
     "text": [
      "Training steps: 0 Loss: 0.5520672798156738\n",
      "Training steps: 50 Loss: 0.5654823780059814\n",
      "Training steps: 100 Loss: 0.5199532508850098\n",
      "VALID AUC : 0.7803834603834605 ACC : 0.7175785207700102\n",
      "\n"
     ]
    },
    {
     "data": {
      "text/html": [
       "<pre style=\"white-space:pre;overflow-x:auto;line-height:normal;font-family:Menlo,'DejaVu Sans Mono',consolas,'Courier New',monospace\"><span style=\"color: #7fbfbf\">[13:02:00] </span><span style=\"color: #000080\">INFO    </span> TRAIN_LOSS: <span style=\"color: #000080; font-weight: bold\">0.5647854804992676</span>                             <a href=\"file:///home/j-gunmo/desktop/00.my-project/17.P-Stage-T1003/4-STAGE/trainer.py\"><span style=\"color: #7f7f7f\">trainer.py</span></a><span style=\"color: #7f7f7f\">:425</span>\n",
       "</pre>\n"
      ],
      "text/plain": [
       "<rich.jupyter.JupyterRenderable at 0x7fa950b14400>"
      ]
     },
     "metadata": {},
     "output_type": "display_data"
    },
    {
     "data": {
      "text/html": [
       "<pre style=\"white-space:pre;overflow-x:auto;line-height:normal;font-family:Menlo,'DejaVu Sans Mono',consolas,'Courier New',monospace\"><span style=\"color: #7fbfbf\">           </span><span style=\"color: #000080\">INFO    </span> TRAIN AUC: <span style=\"color: #000080; font-weight: bold\">0.7796197628506705</span> TRAIN ACC:                   <a href=\"file:///home/j-gunmo/desktop/00.my-project/17.P-Stage-T1003/4-STAGE/trainer.py\"><span style=\"color: #7f7f7f\">trainer.py</span></a><span style=\"color: #7f7f7f\">:426</span>\n",
       "                    <span style=\"color: #000080; font-weight: bold\">0.7099613704008613</span>                                                       \n",
       "</pre>\n"
      ],
      "text/plain": [
       "<rich.jupyter.JupyterRenderable at 0x7fa941dc29a0>"
      ]
     },
     "metadata": {},
     "output_type": "display_data"
    },
    {
     "data": {
      "text/html": [
       "<pre style=\"white-space:pre;overflow-x:auto;line-height:normal;font-family:Menlo,'DejaVu Sans Mono',consolas,'Courier New',monospace\"><span style=\"color: #7fbfbf\">           </span><span style=\"color: #000080\">INFO    </span> VALID AUC: <span style=\"color: #000080; font-weight: bold\">0.7803834603834605</span> VALID ACC:                   <a href=\"file:///home/j-gunmo/desktop/00.my-project/17.P-Stage-T1003/4-STAGE/trainer.py\"><span style=\"color: #7f7f7f\">trainer.py</span></a><span style=\"color: #7f7f7f\">:427</span>\n",
       "                    <span style=\"color: #000080; font-weight: bold\">0.7175785207700102</span>                                                       \n",
       "                                                                                             \n",
       "</pre>\n"
      ],
      "text/plain": [
       "<rich.jupyter.JupyterRenderable at 0x7fa9442c62e0>"
      ]
     },
     "metadata": {},
     "output_type": "display_data"
    },
    {
     "data": {
      "text/html": [
       "<pre style=\"white-space:pre;overflow-x:auto;line-height:normal;font-family:Menlo,'DejaVu Sans Mono',consolas,'Courier New',monospace\"><span style=\"color: #7fbfbf\">           </span><span style=\"color: #000080\">INFO    </span> EarlyStopping counter: <span style=\"color: #000080; font-weight: bold\">3</span>                                   <a href=\"file:///home/j-gunmo/desktop/00.my-project/17.P-Stage-T1003/4-STAGE/trainer.py\"><span style=\"color: #7f7f7f\">trainer.py</span></a><span style=\"color: #7f7f7f\">:435</span>\n",
       "</pre>\n"
      ],
      "text/plain": [
       "<rich.jupyter.JupyterRenderable at 0x7fa944aa09d0>"
      ]
     },
     "metadata": {},
     "output_type": "display_data"
    },
    {
     "data": {
      "text/html": [
       "<pre style=\"white-space:pre;overflow-x:auto;line-height:normal;font-family:Menlo,'DejaVu Sans Mono',consolas,'Courier New',monospace\"><span style=\"color: #7fbfbf\">           </span><span style=\"color: #000080\">INFO    </span> Start Training: Epoch <span style=\"color: #000080; font-weight: bold\">11</span>                                   <a href=\"file:///home/j-gunmo/desktop/00.my-project/17.P-Stage-T1003/4-STAGE/trainer.py\"><span style=\"color: #7f7f7f\">trainer.py</span></a><span style=\"color: #7f7f7f\">:409</span>\n",
       "</pre>\n"
      ],
      "text/plain": [
       "<rich.jupyter.JupyterRenderable at 0x7fa9442c6940>"
      ]
     },
     "metadata": {},
     "output_type": "display_data"
    },
    {
     "name": "stdout",
     "output_type": "stream",
     "text": [
      "Training steps: 0 Loss: 0.5919545292854309\n",
      "Training steps: 50 Loss: 0.5420883893966675\n",
      "Training steps: 100 Loss: 0.6372974514961243\n",
      "VALID AUC : 0.7811976078642745 ACC : 0.7196048632218845\n",
      "\n"
     ]
    },
    {
     "data": {
      "text/html": [
       "<pre style=\"white-space:pre;overflow-x:auto;line-height:normal;font-family:Menlo,'DejaVu Sans Mono',consolas,'Courier New',monospace\"><span style=\"color: #7fbfbf\">[13:02:08] </span><span style=\"color: #000080\">INFO    </span> TRAIN_LOSS: <span style=\"color: #000080; font-weight: bold\">0.5648300051689148</span>                             <a href=\"file:///home/j-gunmo/desktop/00.my-project/17.P-Stage-T1003/4-STAGE/trainer.py\"><span style=\"color: #7f7f7f\">trainer.py</span></a><span style=\"color: #7f7f7f\">:425</span>\n",
       "</pre>\n"
      ],
      "text/plain": [
       "<rich.jupyter.JupyterRenderable at 0x7fa950b143d0>"
      ]
     },
     "metadata": {},
     "output_type": "display_data"
    },
    {
     "data": {
      "text/html": [
       "<pre style=\"white-space:pre;overflow-x:auto;line-height:normal;font-family:Menlo,'DejaVu Sans Mono',consolas,'Courier New',monospace\"><span style=\"color: #7fbfbf\">           </span><span style=\"color: #000080\">INFO    </span> TRAIN AUC: <span style=\"color: #000080; font-weight: bold\">0.7793928215853134</span> TRAIN ACC:                   <a href=\"file:///home/j-gunmo/desktop/00.my-project/17.P-Stage-T1003/4-STAGE/trainer.py\"><span style=\"color: #7f7f7f\">trainer.py</span></a><span style=\"color: #7f7f7f\">:426</span>\n",
       "                    <span style=\"color: #000080; font-weight: bold\">0.7119878411753531</span>                                                       \n",
       "</pre>\n"
      ],
      "text/plain": [
       "<rich.jupyter.JupyterRenderable at 0x7fa944c809d0>"
      ]
     },
     "metadata": {},
     "output_type": "display_data"
    },
    {
     "data": {
      "text/html": [
       "<pre style=\"white-space:pre;overflow-x:auto;line-height:normal;font-family:Menlo,'DejaVu Sans Mono',consolas,'Courier New',monospace\"><span style=\"color: #7fbfbf\">           </span><span style=\"color: #000080\">INFO    </span> VALID AUC: <span style=\"color: #000080; font-weight: bold\">0.7811976078642745</span> VALID ACC:                   <a href=\"file:///home/j-gunmo/desktop/00.my-project/17.P-Stage-T1003/4-STAGE/trainer.py\"><span style=\"color: #7f7f7f\">trainer.py</span></a><span style=\"color: #7f7f7f\">:427</span>\n",
       "                    <span style=\"color: #000080; font-weight: bold\">0.7196048632218845</span>                                                       \n",
       "                                                                                             \n",
       "</pre>\n"
      ],
      "text/plain": [
       "<rich.jupyter.JupyterRenderable at 0x7fa941dc29a0>"
      ]
     },
     "metadata": {},
     "output_type": "display_data"
    },
    {
     "data": {
      "text/html": [
       "<pre style=\"white-space:pre;overflow-x:auto;line-height:normal;font-family:Menlo,'DejaVu Sans Mono',consolas,'Courier New',monospace\"><span style=\"color: #7fbfbf\">           </span><span style=\"color: #000080\">INFO    </span> EarlyStopping counter: <span style=\"color: #000080; font-weight: bold\">4</span>                                   <a href=\"file:///home/j-gunmo/desktop/00.my-project/17.P-Stage-T1003/4-STAGE/trainer.py\"><span style=\"color: #7f7f7f\">trainer.py</span></a><span style=\"color: #7f7f7f\">:435</span>\n",
       "</pre>\n"
      ],
      "text/plain": [
       "<rich.jupyter.JupyterRenderable at 0x7fa950b14880>"
      ]
     },
     "metadata": {},
     "output_type": "display_data"
    },
    {
     "data": {
      "text/html": [
       "<pre style=\"white-space:pre;overflow-x:auto;line-height:normal;font-family:Menlo,'DejaVu Sans Mono',consolas,'Courier New',monospace\"><span style=\"color: #7fbfbf\">           </span><span style=\"color: #000080\">INFO    </span> Start Training: Epoch <span style=\"color: #000080; font-weight: bold\">12</span>                                   <a href=\"file:///home/j-gunmo/desktop/00.my-project/17.P-Stage-T1003/4-STAGE/trainer.py\"><span style=\"color: #7f7f7f\">trainer.py</span></a><span style=\"color: #7f7f7f\">:409</span>\n",
       "</pre>\n"
      ],
      "text/plain": [
       "<rich.jupyter.JupyterRenderable at 0x7fa950b14370>"
      ]
     },
     "metadata": {},
     "output_type": "display_data"
    },
    {
     "name": "stdout",
     "output_type": "stream",
     "text": [
      "Training steps: 0 Loss: 0.5964817404747009\n",
      "Training steps: 50 Loss: 0.5308734178543091\n",
      "Training steps: 100 Loss: 0.5982387661933899\n",
      "VALID AUC : 0.7800872667539335 ACC : 0.7102330293819655\n",
      "\n"
     ]
    },
    {
     "data": {
      "text/html": [
       "<pre style=\"white-space:pre;overflow-x:auto;line-height:normal;font-family:Menlo,'DejaVu Sans Mono',consolas,'Courier New',monospace\"><span style=\"color: #7fbfbf\">[13:02:15] </span><span style=\"color: #000080\">INFO    </span> TRAIN_LOSS: <span style=\"color: #000080; font-weight: bold\">0.5635735392570496</span>                             <a href=\"file:///home/j-gunmo/desktop/00.my-project/17.P-Stage-T1003/4-STAGE/trainer.py\"><span style=\"color: #7f7f7f\">trainer.py</span></a><span style=\"color: #7f7f7f\">:425</span>\n",
       "</pre>\n"
      ],
      "text/plain": [
       "<rich.jupyter.JupyterRenderable at 0x7fa9442c45e0>"
      ]
     },
     "metadata": {},
     "output_type": "display_data"
    },
    {
     "data": {
      "text/html": [
       "<pre style=\"white-space:pre;overflow-x:auto;line-height:normal;font-family:Menlo,'DejaVu Sans Mono',consolas,'Courier New',monospace\"><span style=\"color: #7fbfbf\">           </span><span style=\"color: #000080\">INFO    </span> TRAIN AUC: <span style=\"color: #000080; font-weight: bold\">0.7802376789099246</span> TRAIN ACC: <span style=\"color: #000080; font-weight: bold\">0.712937749350896</span> <a href=\"file:///home/j-gunmo/desktop/00.my-project/17.P-Stage-T1003/4-STAGE/trainer.py\"><span style=\"color: #7f7f7f\">trainer.py</span></a><span style=\"color: #7f7f7f\">:426</span>\n",
       "</pre>\n"
      ],
      "text/plain": [
       "<rich.jupyter.JupyterRenderable at 0x7fa941dc2d30>"
      ]
     },
     "metadata": {},
     "output_type": "display_data"
    },
    {
     "data": {
      "text/html": [
       "<pre style=\"white-space:pre;overflow-x:auto;line-height:normal;font-family:Menlo,'DejaVu Sans Mono',consolas,'Courier New',monospace\"><span style=\"color: #7fbfbf\">           </span><span style=\"color: #000080\">INFO    </span> VALID AUC: <span style=\"color: #000080; font-weight: bold\">0.7800872667539335</span> VALID ACC:                   <a href=\"file:///home/j-gunmo/desktop/00.my-project/17.P-Stage-T1003/4-STAGE/trainer.py\"><span style=\"color: #7f7f7f\">trainer.py</span></a><span style=\"color: #7f7f7f\">:427</span>\n",
       "                    <span style=\"color: #000080; font-weight: bold\">0.7102330293819655</span>                                                       \n",
       "                                                                                             \n",
       "</pre>\n"
      ],
      "text/plain": [
       "<rich.jupyter.JupyterRenderable at 0x7fa944c80d90>"
      ]
     },
     "metadata": {},
     "output_type": "display_data"
    },
    {
     "data": {
      "text/html": [
       "<pre style=\"white-space:pre;overflow-x:auto;line-height:normal;font-family:Menlo,'DejaVu Sans Mono',consolas,'Courier New',monospace\"><span style=\"color: #7fbfbf\">           </span><span style=\"color: #000080\">INFO    </span> EarlyStopping counter: <span style=\"color: #000080; font-weight: bold\">5</span>                                   <a href=\"file:///home/j-gunmo/desktop/00.my-project/17.P-Stage-T1003/4-STAGE/trainer.py\"><span style=\"color: #7f7f7f\">trainer.py</span></a><span style=\"color: #7f7f7f\">:435</span>\n",
       "</pre>\n"
      ],
      "text/plain": [
       "<rich.jupyter.JupyterRenderable at 0x7fa944aa08b0>"
      ]
     },
     "metadata": {},
     "output_type": "display_data"
    },
    {
     "data": {
      "text/html": [
       "<pre style=\"white-space:pre;overflow-x:auto;line-height:normal;font-family:Menlo,'DejaVu Sans Mono',consolas,'Courier New',monospace\"><span style=\"color: #7fbfbf\">           </span><span style=\"color: #000080\">INFO    </span> EarlyStopping counter: <span style=\"color: #000080; font-weight: bold\">5</span> out of <span style=\"color: #000080; font-weight: bold\">5</span>                          <a href=\"file:///home/j-gunmo/desktop/00.my-project/17.P-Stage-T1003/4-STAGE/trainer.py\"><span style=\"color: #7f7f7f\">trainer.py</span></a><span style=\"color: #7f7f7f\">:437</span>\n",
       "</pre>\n"
      ],
      "text/plain": [
       "<rich.jupyter.JupyterRenderable at 0x7fa9442c4370>"
      ]
     },
     "metadata": {},
     "output_type": "display_data"
    },
    {
     "data": {
      "text/html": [
       "Finishing last run (ID:1zgc4960) before initializing another..."
      ],
      "text/plain": [
       "<IPython.core.display.HTML object>"
      ]
     },
     "metadata": {},
     "output_type": "display_data"
    },
    {
     "data": {
      "text/html": [
       "<br/>Waiting for W&B process to finish, PID 39500<br/>Program ended successfully."
      ],
      "text/plain": [
       "<IPython.core.display.HTML object>"
      ]
     },
     "metadata": {},
     "output_type": "display_data"
    },
    {
     "data": {
      "application/vnd.jupyter.widget-view+json": {
       "model_id": "59b1f8a84bbd459ca6e5a4a310a40fef",
       "version_major": 2,
       "version_minor": 0
      },
      "text/plain": [
       "VBox(children=(Label(value=' 5.91MB of 5.91MB uploaded (0.00MB deduped)\\r'), FloatProgress(value=1.0, max=1.0)…"
      ]
     },
     "metadata": {},
     "output_type": "display_data"
    },
    {
     "data": {
      "text/html": [
       "Find user logs for this run at: <code>/home/j-gunmo/desktop/00.my-project/17.P-Stage-T1003/4-STAGE/notebook/wandb/run-20210614_130044-1zgc4960/logs/debug.log</code>"
      ],
      "text/plain": [
       "<IPython.core.display.HTML object>"
      ]
     },
     "metadata": {},
     "output_type": "display_data"
    },
    {
     "data": {
      "text/html": [
       "Find internal logs for this run at: <code>/home/j-gunmo/desktop/00.my-project/17.P-Stage-T1003/4-STAGE/notebook/wandb/run-20210614_130044-1zgc4960/logs/debug-internal.log</code>"
      ],
      "text/plain": [
       "<IPython.core.display.HTML object>"
      ]
     },
     "metadata": {},
     "output_type": "display_data"
    },
    {
     "data": {
      "text/html": [
       "<h3>Run summary:</h3><br/><style>\n",
       "    table.wandb td:nth-child(1) { padding: 0 10px; text-align: right }\n",
       "    </style><table class=\"wandb\">\n",
       "<tr><td>epoch</td><td>11</td></tr><tr><td>train_loss</td><td>0.56357</td></tr><tr><td>train_auc</td><td>0.78024</td></tr><tr><td>train_acc</td><td>0.71294</td></tr><tr><td>valid_auc</td><td>0.78009</td></tr><tr><td>valid_acc</td><td>0.71023</td></tr><tr><td>_runtime</td><td>87</td></tr><tr><td>_timestamp</td><td>1623643335</td></tr><tr><td>_step</td><td>11</td></tr></table>"
      ],
      "text/plain": [
       "<IPython.core.display.HTML object>"
      ]
     },
     "metadata": {},
     "output_type": "display_data"
    },
    {
     "data": {
      "text/html": [
       "<h3>Run history:</h3><br/><style>\n",
       "    table.wandb td:nth-child(1) { padding: 0 10px; text-align: right }\n",
       "    </style><table class=\"wandb\">\n",
       "<tr><td>epoch</td><td>▁▂▂▃▄▄▅▅▆▇▇█</td></tr><tr><td>train_loss</td><td>█▃▂▂▂▂▂▂▁▁▁▁</td></tr><tr><td>train_auc</td><td>▁▅▆▇▇▇▇█████</td></tr><tr><td>train_acc</td><td>▁▄▅▇▆▇▇█▇▇██</td></tr><tr><td>valid_auc</td><td>▁▂▃▅▇██▇▇▇█▇</td></tr><tr><td>valid_acc</td><td>▅▄▆▁▇▆▆▆▇▇█▄</td></tr><tr><td>_runtime</td><td>▁▂▂▃▄▄▅▅▆▇▇█</td></tr><tr><td>_timestamp</td><td>▁▂▂▃▄▄▅▅▆▇▇█</td></tr><tr><td>_step</td><td>▁▂▂▃▄▄▅▅▆▇▇█</td></tr></table><br/>"
      ],
      "text/plain": [
       "<IPython.core.display.HTML object>"
      ]
     },
     "metadata": {},
     "output_type": "display_data"
    },
    {
     "data": {
      "text/html": [
       "Synced 6 W&B file(s), 1 media file(s), 0 artifact file(s) and 1 other file(s)"
      ],
      "text/plain": [
       "<IPython.core.display.HTML object>"
      ]
     },
     "metadata": {},
     "output_type": "display_data"
    },
    {
     "data": {
      "text/html": [
       "\n",
       "                    <br/>Synced <strong style=\"color:#cdcd00\">fine-snowflake-509</strong>: <a href=\"https://wandb.ai/ggm1207/p-stage-4/runs/1zgc4960\" target=\"_blank\">https://wandb.ai/ggm1207/p-stage-4/runs/1zgc4960</a><br/>\n",
       "                "
      ],
      "text/plain": [
       "<IPython.core.display.HTML object>"
      ]
     },
     "metadata": {},
     "output_type": "display_data"
    },
    {
     "data": {
      "text/html": [
       "...Successfully finished last run (ID:1zgc4960). Initializing new run:<br/><br/>"
      ],
      "text/plain": [
       "<IPython.core.display.HTML object>"
      ]
     },
     "metadata": {},
     "output_type": "display_data"
    },
    {
     "name": "stderr",
     "output_type": "stream",
     "text": [
      "\u001b[34m\u001b[1mwandb\u001b[0m: wandb version 0.10.32 is available!  To upgrade, please run:\n",
      "\u001b[34m\u001b[1mwandb\u001b[0m:  $ pip install wandb --upgrade\n"
     ]
    },
    {
     "data": {
      "text/html": [
       "\n",
       "                Tracking run with wandb version 0.10.27<br/>\n",
       "                Syncing run <strong style=\"color:#cdcd00\">electric-rain-510</strong> to <a href=\"https://wandb.ai\" target=\"_blank\">Weights & Biases</a> <a href=\"https://docs.wandb.com/integrations/jupyter.html\" target=\"_blank\">(Documentation)</a>.<br/>\n",
       "                Project page: <a href=\"https://wandb.ai/ggm1207/p-stage-4\" target=\"_blank\">https://wandb.ai/ggm1207/p-stage-4</a><br/>\n",
       "                Run page: <a href=\"https://wandb.ai/ggm1207/p-stage-4/runs/2ihmgo08\" target=\"_blank\">https://wandb.ai/ggm1207/p-stage-4/runs/2ihmgo08</a><br/>\n",
       "                Run data is saved locally in <code>/home/j-gunmo/desktop/00.my-project/17.P-Stage-T1003/4-STAGE/notebook/wandb/run-20210614_130216-2ihmgo08</code><br/><br/>\n",
       "            "
      ],
      "text/plain": [
       "<IPython.core.display.HTML object>"
      ]
     },
     "metadata": {},
     "output_type": "display_data"
    },
    {
     "data": {
      "text/html": [
       "<pre style=\"white-space:pre;overflow-x:auto;line-height:normal;font-family:Menlo,'DejaVu Sans Mono',consolas,'Courier New',monospace\"><span style=\"color: #7fbfbf\">[13:02:21] </span><span style=\"color: #000080\">INFO    </span> Start Training: Epoch <span style=\"color: #000080; font-weight: bold\">1</span>                                    <a href=\"file:///home/j-gunmo/desktop/00.my-project/17.P-Stage-T1003/4-STAGE/trainer.py\"><span style=\"color: #7f7f7f\">trainer.py</span></a><span style=\"color: #7f7f7f\">:409</span>\n",
       "</pre>\n"
      ],
      "text/plain": [
       "<rich.jupyter.JupyterRenderable at 0x7fa943c5c0a0>"
      ]
     },
     "metadata": {},
     "output_type": "display_data"
    },
    {
     "name": "stdout",
     "output_type": "stream",
     "text": [
      "Training steps: 0 Loss: 0.6913742423057556\n",
      "Training steps: 50 Loss: 0.5355721116065979\n",
      "Training steps: 100 Loss: 0.5349569320678711\n",
      "VALID AUC : 0.7700127097441714 ACC : 0.702887537993921\n",
      "\n"
     ]
    },
    {
     "data": {
      "text/html": [
       "<pre style=\"white-space:pre;overflow-x:auto;line-height:normal;font-family:Menlo,'DejaVu Sans Mono',consolas,'Courier New',monospace\"><span style=\"color: #7fbfbf\">[13:02:28] </span><span style=\"color: #000080\">INFO    </span> TRAIN_LOSS: <span style=\"color: #000080; font-weight: bold\">0.5987908840179443</span>                             <a href=\"file:///home/j-gunmo/desktop/00.my-project/17.P-Stage-T1003/4-STAGE/trainer.py\"><span style=\"color: #7f7f7f\">trainer.py</span></a><span style=\"color: #7f7f7f\">:425</span>\n",
       "</pre>\n"
      ],
      "text/plain": [
       "<rich.jupyter.JupyterRenderable at 0x7fa941dbd490>"
      ]
     },
     "metadata": {},
     "output_type": "display_data"
    },
    {
     "data": {
      "text/html": [
       "<pre style=\"white-space:pre;overflow-x:auto;line-height:normal;font-family:Menlo,'DejaVu Sans Mono',consolas,'Courier New',monospace\"><span style=\"color: #7fbfbf\">           </span><span style=\"color: #000080\">INFO    </span> TRAIN AUC: <span style=\"color: #000080; font-weight: bold\">0.7461349916054364</span> TRAIN ACC:                   <a href=\"file:///home/j-gunmo/desktop/00.my-project/17.P-Stage-T1003/4-STAGE/trainer.py\"><span style=\"color: #7f7f7f\">trainer.py</span></a><span style=\"color: #7f7f7f\">:426</span>\n",
       "                    <span style=\"color: #000080; font-weight: bold\">0.6946995123804699</span>                                                       \n",
       "</pre>\n"
      ],
      "text/plain": [
       "<rich.jupyter.JupyterRenderable at 0x7fa9442c4790>"
      ]
     },
     "metadata": {},
     "output_type": "display_data"
    },
    {
     "data": {
      "text/html": [
       "<pre style=\"white-space:pre;overflow-x:auto;line-height:normal;font-family:Menlo,'DejaVu Sans Mono',consolas,'Courier New',monospace\"><span style=\"color: #7fbfbf\">           </span><span style=\"color: #000080\">INFO    </span> VALID AUC: <span style=\"color: #000080; font-weight: bold\">0.7700127097441714</span> VALID ACC: <span style=\"color: #000080; font-weight: bold\">0.702887537993921</span> <a href=\"file:///home/j-gunmo/desktop/00.my-project/17.P-Stage-T1003/4-STAGE/trainer.py\"><span style=\"color: #7f7f7f\">trainer.py</span></a><span style=\"color: #7f7f7f\">:427</span>\n",
       "                                                                                             \n",
       "</pre>\n"
      ],
      "text/plain": [
       "<rich.jupyter.JupyterRenderable at 0x7fab085f0b20>"
      ]
     },
     "metadata": {},
     "output_type": "display_data"
    },
    {
     "data": {
      "text/html": [
       "<pre style=\"white-space:pre;overflow-x:auto;line-height:normal;font-family:Menlo,'DejaVu Sans Mono',consolas,'Courier New',monospace\"><span style=\"color: #7fbfbf\">           </span><span style=\"color: #000080\">INFO    </span> Start Training: Epoch <span style=\"color: #000080; font-weight: bold\">2</span>                                    <a href=\"file:///home/j-gunmo/desktop/00.my-project/17.P-Stage-T1003/4-STAGE/trainer.py\"><span style=\"color: #7f7f7f\">trainer.py</span></a><span style=\"color: #7f7f7f\">:409</span>\n",
       "</pre>\n"
      ],
      "text/plain": [
       "<rich.jupyter.JupyterRenderable at 0x7fa950b11310>"
      ]
     },
     "metadata": {},
     "output_type": "display_data"
    },
    {
     "name": "stdout",
     "output_type": "stream",
     "text": [
      "Training steps: 0 Loss: 0.5768215656280518\n",
      "Training steps: 50 Loss: 0.614223301410675\n",
      "Training steps: 100 Loss: 0.5630612373352051\n",
      "VALID AUC : 0.7752861747368919 ACC : 0.7069402228976697\n",
      "\n"
     ]
    },
    {
     "data": {
      "text/html": [
       "<pre style=\"white-space:pre;overflow-x:auto;line-height:normal;font-family:Menlo,'DejaVu Sans Mono',consolas,'Courier New',monospace\"><span style=\"color: #7fbfbf\">[13:02:36] </span><span style=\"color: #000080\">INFO    </span> TRAIN_LOSS: <span style=\"color: #000080; font-weight: bold\">0.5752163529396057</span>                             <a href=\"file:///home/j-gunmo/desktop/00.my-project/17.P-Stage-T1003/4-STAGE/trainer.py\"><span style=\"color: #7f7f7f\">trainer.py</span></a><span style=\"color: #7f7f7f\">:425</span>\n",
       "</pre>\n"
      ],
      "text/plain": [
       "<rich.jupyter.JupyterRenderable at 0x7fa941dc5ee0>"
      ]
     },
     "metadata": {},
     "output_type": "display_data"
    },
    {
     "data": {
      "text/html": [
       "<pre style=\"white-space:pre;overflow-x:auto;line-height:normal;font-family:Menlo,'DejaVu Sans Mono',consolas,'Courier New',monospace\"><span style=\"color: #7fbfbf\">           </span><span style=\"color: #000080\">INFO    </span> TRAIN AUC: <span style=\"color: #000080; font-weight: bold\">0.7679748406335776</span> TRAIN ACC:                   <a href=\"file:///home/j-gunmo/desktop/00.my-project/17.P-Stage-T1003/4-STAGE/trainer.py\"><span style=\"color: #7f7f7f\">trainer.py</span></a><span style=\"color: #7f7f7f\">:426</span>\n",
       "                    <span style=\"color: #000080; font-weight: bold\">0.7066050281806092</span>                                                       \n",
       "</pre>\n"
      ],
      "text/plain": [
       "<rich.jupyter.JupyterRenderable at 0x7fa9442c45e0>"
      ]
     },
     "metadata": {},
     "output_type": "display_data"
    },
    {
     "data": {
      "text/html": [
       "<pre style=\"white-space:pre;overflow-x:auto;line-height:normal;font-family:Menlo,'DejaVu Sans Mono',consolas,'Courier New',monospace\"><span style=\"color: #7fbfbf\">           </span><span style=\"color: #000080\">INFO    </span> VALID AUC: <span style=\"color: #000080; font-weight: bold\">0.7752861747368919</span> VALID ACC:                   <a href=\"file:///home/j-gunmo/desktop/00.my-project/17.P-Stage-T1003/4-STAGE/trainer.py\"><span style=\"color: #7f7f7f\">trainer.py</span></a><span style=\"color: #7f7f7f\">:427</span>\n",
       "                    <span style=\"color: #000080; font-weight: bold\">0.7069402228976697</span>                                                       \n",
       "                                                                                             \n",
       "</pre>\n"
      ],
      "text/plain": [
       "<rich.jupyter.JupyterRenderable at 0x7fa941dc29a0>"
      ]
     },
     "metadata": {},
     "output_type": "display_data"
    },
    {
     "data": {
      "text/html": [
       "<pre style=\"white-space:pre;overflow-x:auto;line-height:normal;font-family:Menlo,'DejaVu Sans Mono',consolas,'Courier New',monospace\"><span style=\"color: #7fbfbf\">           </span><span style=\"color: #000080\">INFO    </span> Start Training: Epoch <span style=\"color: #000080; font-weight: bold\">3</span>                                    <a href=\"file:///home/j-gunmo/desktop/00.my-project/17.P-Stage-T1003/4-STAGE/trainer.py\"><span style=\"color: #7f7f7f\">trainer.py</span></a><span style=\"color: #7f7f7f\">:409</span>\n",
       "</pre>\n"
      ],
      "text/plain": [
       "<rich.jupyter.JupyterRenderable at 0x7fab085f0b20>"
      ]
     },
     "metadata": {},
     "output_type": "display_data"
    },
    {
     "name": "stdout",
     "output_type": "stream",
     "text": [
      "Training steps: 0 Loss: 0.5325376987457275\n",
      "Training steps: 50 Loss: 0.5577712059020996\n",
      "Training steps: 100 Loss: 0.5947613716125488\n",
      "VALID AUC : 0.7783801292345692 ACC : 0.6957953394123607\n",
      "\n"
     ]
    },
    {
     "data": {
      "text/html": [
       "<pre style=\"white-space:pre;overflow-x:auto;line-height:normal;font-family:Menlo,'DejaVu Sans Mono',consolas,'Courier New',monospace\"><span style=\"color: #7fbfbf\">[13:02:43] </span><span style=\"color: #000080\">INFO    </span> TRAIN_LOSS: <span style=\"color: #000080; font-weight: bold\">0.5699746012687683</span>                             <a href=\"file:///home/j-gunmo/desktop/00.my-project/17.P-Stage-T1003/4-STAGE/trainer.py\"><span style=\"color: #7f7f7f\">trainer.py</span></a><span style=\"color: #7f7f7f\">:425</span>\n",
       "</pre>\n"
      ],
      "text/plain": [
       "<rich.jupyter.JupyterRenderable at 0x7fa9442c6880>"
      ]
     },
     "metadata": {},
     "output_type": "display_data"
    },
    {
     "data": {
      "text/html": [
       "<pre style=\"white-space:pre;overflow-x:auto;line-height:normal;font-family:Menlo,'DejaVu Sans Mono',consolas,'Courier New',monospace\"><span style=\"color: #7fbfbf\">           </span><span style=\"color: #000080\">INFO    </span> TRAIN AUC: <span style=\"color: #000080; font-weight: bold\">0.7742608073067844</span> TRAIN ACC: <span style=\"color: #000080; font-weight: bold\">0.71059464251789</span>  <a href=\"file:///home/j-gunmo/desktop/00.my-project/17.P-Stage-T1003/4-STAGE/trainer.py\"><span style=\"color: #7f7f7f\">trainer.py</span></a><span style=\"color: #7f7f7f\">:426</span>\n",
       "</pre>\n"
      ],
      "text/plain": [
       "<rich.jupyter.JupyterRenderable at 0x7fa9442c6a60>"
      ]
     },
     "metadata": {},
     "output_type": "display_data"
    },
    {
     "data": {
      "text/html": [
       "<pre style=\"white-space:pre;overflow-x:auto;line-height:normal;font-family:Menlo,'DejaVu Sans Mono',consolas,'Courier New',monospace\"><span style=\"color: #7fbfbf\">           </span><span style=\"color: #000080\">INFO    </span> VALID AUC: <span style=\"color: #000080; font-weight: bold\">0.7783801292345692</span> VALID ACC:                   <a href=\"file:///home/j-gunmo/desktop/00.my-project/17.P-Stage-T1003/4-STAGE/trainer.py\"><span style=\"color: #7f7f7f\">trainer.py</span></a><span style=\"color: #7f7f7f\">:427</span>\n",
       "                    <span style=\"color: #000080; font-weight: bold\">0.6957953394123607</span>                                                       \n",
       "                                                                                             \n",
       "</pre>\n"
      ],
      "text/plain": [
       "<rich.jupyter.JupyterRenderable at 0x7fa950b14fa0>"
      ]
     },
     "metadata": {},
     "output_type": "display_data"
    },
    {
     "data": {
      "text/html": [
       "<pre style=\"white-space:pre;overflow-x:auto;line-height:normal;font-family:Menlo,'DejaVu Sans Mono',consolas,'Courier New',monospace\"><span style=\"color: #7fbfbf\">           </span><span style=\"color: #000080\">INFO    </span> Start Training: Epoch <span style=\"color: #000080; font-weight: bold\">4</span>                                    <a href=\"file:///home/j-gunmo/desktop/00.my-project/17.P-Stage-T1003/4-STAGE/trainer.py\"><span style=\"color: #7f7f7f\">trainer.py</span></a><span style=\"color: #7f7f7f\">:409</span>\n",
       "</pre>\n"
      ],
      "text/plain": [
       "<rich.jupyter.JupyterRenderable at 0x7fa941dc5ee0>"
      ]
     },
     "metadata": {},
     "output_type": "display_data"
    },
    {
     "name": "stdout",
     "output_type": "stream",
     "text": [
      "Training steps: 0 Loss: 0.5837271213531494\n",
      "Training steps: 50 Loss: 0.5761606693267822\n",
      "Training steps: 100 Loss: 0.5762360692024231\n",
      "VALID AUC : 0.7796893767293523 ACC : 0.7099797365754813\n",
      "\n"
     ]
    },
    {
     "data": {
      "text/html": [
       "<pre style=\"white-space:pre;overflow-x:auto;line-height:normal;font-family:Menlo,'DejaVu Sans Mono',consolas,'Courier New',monospace\"><span style=\"color: #7fbfbf\">[13:02:50] </span><span style=\"color: #000080\">INFO    </span> TRAIN_LOSS: <span style=\"color: #000080; font-weight: bold\">0.5677477121353149</span>                             <a href=\"file:///home/j-gunmo/desktop/00.my-project/17.P-Stage-T1003/4-STAGE/trainer.py\"><span style=\"color: #7f7f7f\">trainer.py</span></a><span style=\"color: #7f7f7f\">:425</span>\n",
       "</pre>\n"
      ],
      "text/plain": [
       "<rich.jupyter.JupyterRenderable at 0x7fab085f0b20>"
      ]
     },
     "metadata": {},
     "output_type": "display_data"
    },
    {
     "data": {
      "text/html": [
       "<pre style=\"white-space:pre;overflow-x:auto;line-height:normal;font-family:Menlo,'DejaVu Sans Mono',consolas,'Courier New',monospace\"><span style=\"color: #7fbfbf\">           </span><span style=\"color: #000080\">INFO    </span> TRAIN AUC: <span style=\"color: #000080; font-weight: bold\">0.7764867513895363</span> TRAIN ACC:                   <a href=\"file:///home/j-gunmo/desktop/00.my-project/17.P-Stage-T1003/4-STAGE/trainer.py\"><span style=\"color: #7f7f7f\">trainer.py</span></a><span style=\"color: #7f7f7f\">:426</span>\n",
       "                    <span style=\"color: #000080; font-weight: bold\">0.7131910581977076</span>                                                       \n",
       "</pre>\n"
      ],
      "text/plain": [
       "<rich.jupyter.JupyterRenderable at 0x7fa944c80f70>"
      ]
     },
     "metadata": {},
     "output_type": "display_data"
    },
    {
     "data": {
      "text/html": [
       "<pre style=\"white-space:pre;overflow-x:auto;line-height:normal;font-family:Menlo,'DejaVu Sans Mono',consolas,'Courier New',monospace\"><span style=\"color: #7fbfbf\">           </span><span style=\"color: #000080\">INFO    </span> VALID AUC: <span style=\"color: #000080; font-weight: bold\">0.7796893767293523</span> VALID ACC:                   <a href=\"file:///home/j-gunmo/desktop/00.my-project/17.P-Stage-T1003/4-STAGE/trainer.py\"><span style=\"color: #7f7f7f\">trainer.py</span></a><span style=\"color: #7f7f7f\">:427</span>\n",
       "                    <span style=\"color: #000080; font-weight: bold\">0.7099797365754813</span>                                                       \n",
       "                                                                                             \n",
       "</pre>\n"
      ],
      "text/plain": [
       "<rich.jupyter.JupyterRenderable at 0x7fa9442c6f10>"
      ]
     },
     "metadata": {},
     "output_type": "display_data"
    },
    {
     "data": {
      "text/html": [
       "<pre style=\"white-space:pre;overflow-x:auto;line-height:normal;font-family:Menlo,'DejaVu Sans Mono',consolas,'Courier New',monospace\"><span style=\"color: #7fbfbf\">           </span><span style=\"color: #000080\">INFO    </span> Start Training: Epoch <span style=\"color: #000080; font-weight: bold\">5</span>                                    <a href=\"file:///home/j-gunmo/desktop/00.my-project/17.P-Stage-T1003/4-STAGE/trainer.py\"><span style=\"color: #7f7f7f\">trainer.py</span></a><span style=\"color: #7f7f7f\">:409</span>\n",
       "</pre>\n"
      ],
      "text/plain": [
       "<rich.jupyter.JupyterRenderable at 0x7fa941dc2d30>"
      ]
     },
     "metadata": {},
     "output_type": "display_data"
    },
    {
     "name": "stdout",
     "output_type": "stream",
     "text": [
      "Training steps: 0 Loss: 0.47796210646629333\n",
      "Training steps: 50 Loss: 0.4875192642211914\n",
      "Training steps: 100 Loss: 0.5315066576004028\n",
      "VALID AUC : 0.779184891330146 ACC : 0.7125126646403243\n",
      "\n"
     ]
    },
    {
     "data": {
      "text/html": [
       "<pre style=\"white-space:pre;overflow-x:auto;line-height:normal;font-family:Menlo,'DejaVu Sans Mono',consolas,'Courier New',monospace\"><span style=\"color: #7fbfbf\">[13:02:58] </span><span style=\"color: #000080\">INFO    </span> TRAIN_LOSS: <span style=\"color: #000080; font-weight: bold\">0.5667691826820374</span>                             <a href=\"file:///home/j-gunmo/desktop/00.my-project/17.P-Stage-T1003/4-STAGE/trainer.py\"><span style=\"color: #7f7f7f\">trainer.py</span></a><span style=\"color: #7f7f7f\">:425</span>\n",
       "</pre>\n"
      ],
      "text/plain": [
       "<rich.jupyter.JupyterRenderable at 0x7fa944aa0df0>"
      ]
     },
     "metadata": {},
     "output_type": "display_data"
    },
    {
     "data": {
      "text/html": [
       "<pre style=\"white-space:pre;overflow-x:auto;line-height:normal;font-family:Menlo,'DejaVu Sans Mono',consolas,'Courier New',monospace\"><span style=\"color: #7fbfbf\">           </span><span style=\"color: #000080\">INFO    </span> TRAIN AUC: <span style=\"color: #000080; font-weight: bold\">0.7775878098188959</span> TRAIN ACC:                   <a href=\"file:///home/j-gunmo/desktop/00.my-project/17.P-Stage-T1003/4-STAGE/trainer.py\"><span style=\"color: #7f7f7f\">trainer.py</span></a><span style=\"color: #7f7f7f\">:426</span>\n",
       "                    <span style=\"color: #000080; font-weight: bold\">0.7123678044455702</span>                                                       \n",
       "</pre>\n"
      ],
      "text/plain": [
       "<rich.jupyter.JupyterRenderable at 0x7fa944aa0580>"
      ]
     },
     "metadata": {},
     "output_type": "display_data"
    },
    {
     "data": {
      "text/html": [
       "<pre style=\"white-space:pre;overflow-x:auto;line-height:normal;font-family:Menlo,'DejaVu Sans Mono',consolas,'Courier New',monospace\"><span style=\"color: #7fbfbf\">           </span><span style=\"color: #000080\">INFO    </span> VALID AUC: <span style=\"color: #000080; font-weight: bold\">0.779184891330146</span> VALID ACC: <span style=\"color: #000080; font-weight: bold\">0.7125126646403243</span> <a href=\"file:///home/j-gunmo/desktop/00.my-project/17.P-Stage-T1003/4-STAGE/trainer.py\"><span style=\"color: #7f7f7f\">trainer.py</span></a><span style=\"color: #7f7f7f\">:427</span>\n",
       "                                                                                             \n",
       "</pre>\n"
      ],
      "text/plain": [
       "<rich.jupyter.JupyterRenderable at 0x7fa944c7c520>"
      ]
     },
     "metadata": {},
     "output_type": "display_data"
    },
    {
     "data": {
      "text/html": [
       "<pre style=\"white-space:pre;overflow-x:auto;line-height:normal;font-family:Menlo,'DejaVu Sans Mono',consolas,'Courier New',monospace\"><span style=\"color: #7fbfbf\">           </span><span style=\"color: #000080\">INFO    </span> EarlyStopping counter: <span style=\"color: #000080; font-weight: bold\">1</span>                                   <a href=\"file:///home/j-gunmo/desktop/00.my-project/17.P-Stage-T1003/4-STAGE/trainer.py\"><span style=\"color: #7f7f7f\">trainer.py</span></a><span style=\"color: #7f7f7f\">:435</span>\n",
       "</pre>\n"
      ],
      "text/plain": [
       "<rich.jupyter.JupyterRenderable at 0x7fab085f0b20>"
      ]
     },
     "metadata": {},
     "output_type": "display_data"
    },
    {
     "data": {
      "text/html": [
       "<pre style=\"white-space:pre;overflow-x:auto;line-height:normal;font-family:Menlo,'DejaVu Sans Mono',consolas,'Courier New',monospace\"><span style=\"color: #7fbfbf\">           </span><span style=\"color: #000080\">INFO    </span> Start Training: Epoch <span style=\"color: #000080; font-weight: bold\">6</span>                                    <a href=\"file:///home/j-gunmo/desktop/00.my-project/17.P-Stage-T1003/4-STAGE/trainer.py\"><span style=\"color: #7f7f7f\">trainer.py</span></a><span style=\"color: #7f7f7f\">:409</span>\n",
       "</pre>\n"
      ],
      "text/plain": [
       "<rich.jupyter.JupyterRenderable at 0x7fa950b14250>"
      ]
     },
     "metadata": {},
     "output_type": "display_data"
    },
    {
     "name": "stdout",
     "output_type": "stream",
     "text": [
      "Training steps: 0 Loss: 0.6465626358985901\n",
      "Training steps: 50 Loss: 0.5946018099784851\n",
      "Training steps: 100 Loss: 0.6741921305656433\n",
      "VALID AUC : 0.7819092152323768 ACC : 0.7130192502532928\n",
      "\n"
     ]
    },
    {
     "data": {
      "text/html": [
       "<pre style=\"white-space:pre;overflow-x:auto;line-height:normal;font-family:Menlo,'DejaVu Sans Mono',consolas,'Courier New',monospace\"><span style=\"color: #7fbfbf\">[13:03:05] </span><span style=\"color: #000080\">INFO    </span> TRAIN_LOSS: <span style=\"color: #000080; font-weight: bold\">0.5673981308937073</span>                             <a href=\"file:///home/j-gunmo/desktop/00.my-project/17.P-Stage-T1003/4-STAGE/trainer.py\"><span style=\"color: #7f7f7f\">trainer.py</span></a><span style=\"color: #7f7f7f\">:425</span>\n",
       "</pre>\n"
      ],
      "text/plain": [
       "<rich.jupyter.JupyterRenderable at 0x7fa950b14fa0>"
      ]
     },
     "metadata": {},
     "output_type": "display_data"
    },
    {
     "data": {
      "text/html": [
       "<pre style=\"white-space:pre;overflow-x:auto;line-height:normal;font-family:Menlo,'DejaVu Sans Mono',consolas,'Courier New',monospace\"><span style=\"color: #7fbfbf\">           </span><span style=\"color: #000080\">INFO    </span> TRAIN AUC: <span style=\"color: #000080; font-weight: bold\">0.7772726727188136</span> TRAIN ACC:                   <a href=\"file:///home/j-gunmo/desktop/00.my-project/17.P-Stage-T1003/4-STAGE/trainer.py\"><span style=\"color: #7f7f7f\">trainer.py</span></a><span style=\"color: #7f7f7f\">:426</span>\n",
       "                    <span style=\"color: #000080; font-weight: bold\">0.7124311316572731</span>                                                       \n",
       "</pre>\n"
      ],
      "text/plain": [
       "<rich.jupyter.JupyterRenderable at 0x7fa9442c45e0>"
      ]
     },
     "metadata": {},
     "output_type": "display_data"
    },
    {
     "data": {
      "text/html": [
       "<pre style=\"white-space:pre;overflow-x:auto;line-height:normal;font-family:Menlo,'DejaVu Sans Mono',consolas,'Courier New',monospace\"><span style=\"color: #7fbfbf\">           </span><span style=\"color: #000080\">INFO    </span> VALID AUC: <span style=\"color: #000080; font-weight: bold\">0.7819092152323768</span> VALID ACC:                   <a href=\"file:///home/j-gunmo/desktop/00.my-project/17.P-Stage-T1003/4-STAGE/trainer.py\"><span style=\"color: #7f7f7f\">trainer.py</span></a><span style=\"color: #7f7f7f\">:427</span>\n",
       "                    <span style=\"color: #000080; font-weight: bold\">0.7130192502532928</span>                                                       \n",
       "                                                                                             \n",
       "</pre>\n"
      ],
      "text/plain": [
       "<rich.jupyter.JupyterRenderable at 0x7fa944aa7be0>"
      ]
     },
     "metadata": {},
     "output_type": "display_data"
    },
    {
     "data": {
      "text/html": [
       "<pre style=\"white-space:pre;overflow-x:auto;line-height:normal;font-family:Menlo,'DejaVu Sans Mono',consolas,'Courier New',monospace\"><span style=\"color: #7fbfbf\">           </span><span style=\"color: #000080\">INFO    </span> Start Training: Epoch <span style=\"color: #000080; font-weight: bold\">7</span>                                    <a href=\"file:///home/j-gunmo/desktop/00.my-project/17.P-Stage-T1003/4-STAGE/trainer.py\"><span style=\"color: #7f7f7f\">trainer.py</span></a><span style=\"color: #7f7f7f\">:409</span>\n",
       "</pre>\n"
      ],
      "text/plain": [
       "<rich.jupyter.JupyterRenderable at 0x7fab085f0b20>"
      ]
     },
     "metadata": {},
     "output_type": "display_data"
    },
    {
     "name": "stdout",
     "output_type": "stream",
     "text": [
      "Training steps: 0 Loss: 0.567429780960083\n",
      "Training steps: 50 Loss: 0.6065412759780884\n",
      "Training steps: 100 Loss: 0.638810396194458\n",
      "VALID AUC : 0.7801021608620022 ACC : 0.711499493414387\n",
      "\n"
     ]
    },
    {
     "data": {
      "text/html": [
       "<pre style=\"white-space:pre;overflow-x:auto;line-height:normal;font-family:Menlo,'DejaVu Sans Mono',consolas,'Courier New',monospace\"><span style=\"color: #7fbfbf\">[13:03:12] </span><span style=\"color: #000080\">INFO    </span> TRAIN_LOSS: <span style=\"color: #000080; font-weight: bold\">0.567011296749115</span>                              <a href=\"file:///home/j-gunmo/desktop/00.my-project/17.P-Stage-T1003/4-STAGE/trainer.py\"><span style=\"color: #7f7f7f\">trainer.py</span></a><span style=\"color: #7f7f7f\">:425</span>\n",
       "</pre>\n"
      ],
      "text/plain": [
       "<rich.jupyter.JupyterRenderable at 0x7fa944c80f70>"
      ]
     },
     "metadata": {},
     "output_type": "display_data"
    },
    {
     "data": {
      "text/html": [
       "<pre style=\"white-space:pre;overflow-x:auto;line-height:normal;font-family:Menlo,'DejaVu Sans Mono',consolas,'Courier New',monospace\"><span style=\"color: #7fbfbf\">           </span><span style=\"color: #000080\">INFO    </span> TRAIN AUC: <span style=\"color: #000080; font-weight: bold\">0.7794978386060332</span> TRAIN ACC:                   <a href=\"file:///home/j-gunmo/desktop/00.my-project/17.P-Stage-T1003/4-STAGE/trainer.py\"><span style=\"color: #7f7f7f\">trainer.py</span></a><span style=\"color: #7f7f7f\">:426</span>\n",
       "                    <span style=\"color: #000080; font-weight: bold\">0.7134443670445191</span>                                                       \n",
       "</pre>\n"
      ],
      "text/plain": [
       "<rich.jupyter.JupyterRenderable at 0x7fa9442c6f10>"
      ]
     },
     "metadata": {},
     "output_type": "display_data"
    },
    {
     "data": {
      "text/html": [
       "<pre style=\"white-space:pre;overflow-x:auto;line-height:normal;font-family:Menlo,'DejaVu Sans Mono',consolas,'Courier New',monospace\"><span style=\"color: #7fbfbf\">           </span><span style=\"color: #000080\">INFO    </span> VALID AUC: <span style=\"color: #000080; font-weight: bold\">0.7801021608620022</span> VALID ACC: <span style=\"color: #000080; font-weight: bold\">0.711499493414387</span> <a href=\"file:///home/j-gunmo/desktop/00.my-project/17.P-Stage-T1003/4-STAGE/trainer.py\"><span style=\"color: #7f7f7f\">trainer.py</span></a><span style=\"color: #7f7f7f\">:427</span>\n",
       "                                                                                             \n",
       "</pre>\n"
      ],
      "text/plain": [
       "<rich.jupyter.JupyterRenderable at 0x7fa950b11310>"
      ]
     },
     "metadata": {},
     "output_type": "display_data"
    },
    {
     "data": {
      "text/html": [
       "<pre style=\"white-space:pre;overflow-x:auto;line-height:normal;font-family:Menlo,'DejaVu Sans Mono',consolas,'Courier New',monospace\"><span style=\"color: #7fbfbf\">           </span><span style=\"color: #000080\">INFO    </span> EarlyStopping counter: <span style=\"color: #000080; font-weight: bold\">1</span>                                   <a href=\"file:///home/j-gunmo/desktop/00.my-project/17.P-Stage-T1003/4-STAGE/trainer.py\"><span style=\"color: #7f7f7f\">trainer.py</span></a><span style=\"color: #7f7f7f\">:435</span>\n",
       "</pre>\n"
      ],
      "text/plain": [
       "<rich.jupyter.JupyterRenderable at 0x7fa943c5c940>"
      ]
     },
     "metadata": {},
     "output_type": "display_data"
    },
    {
     "data": {
      "text/html": [
       "<pre style=\"white-space:pre;overflow-x:auto;line-height:normal;font-family:Menlo,'DejaVu Sans Mono',consolas,'Courier New',monospace\"><span style=\"color: #7fbfbf\">           </span><span style=\"color: #000080\">INFO    </span> Start Training: Epoch <span style=\"color: #000080; font-weight: bold\">8</span>                                    <a href=\"file:///home/j-gunmo/desktop/00.my-project/17.P-Stage-T1003/4-STAGE/trainer.py\"><span style=\"color: #7f7f7f\">trainer.py</span></a><span style=\"color: #7f7f7f\">:409</span>\n",
       "</pre>\n"
      ],
      "text/plain": [
       "<rich.jupyter.JupyterRenderable at 0x7fa944c80f70>"
      ]
     },
     "metadata": {},
     "output_type": "display_data"
    },
    {
     "name": "stdout",
     "output_type": "stream",
     "text": [
      "Training steps: 0 Loss: 0.5399481654167175\n",
      "Training steps: 50 Loss: 0.5218640565872192\n",
      "Training steps: 100 Loss: 0.4904070198535919\n",
      "VALID AUC : 0.7813191933576431 ACC : 0.7125126646403243\n",
      "\n"
     ]
    },
    {
     "data": {
      "text/html": [
       "<pre style=\"white-space:pre;overflow-x:auto;line-height:normal;font-family:Menlo,'DejaVu Sans Mono',consolas,'Courier New',monospace\"><span style=\"color: #7fbfbf\">[13:03:19] </span><span style=\"color: #000080\">INFO    </span> TRAIN_LOSS: <span style=\"color: #000080; font-weight: bold\">0.5655229687690735</span>                             <a href=\"file:///home/j-gunmo/desktop/00.my-project/17.P-Stage-T1003/4-STAGE/trainer.py\"><span style=\"color: #7f7f7f\">trainer.py</span></a><span style=\"color: #7f7f7f\">:425</span>\n",
       "</pre>\n"
      ],
      "text/plain": [
       "<rich.jupyter.JupyterRenderable at 0x7fa9442c6a60>"
      ]
     },
     "metadata": {},
     "output_type": "display_data"
    },
    {
     "data": {
      "text/html": [
       "<pre style=\"white-space:pre;overflow-x:auto;line-height:normal;font-family:Menlo,'DejaVu Sans Mono',consolas,'Courier New',monospace\"><span style=\"color: #7fbfbf\">           </span><span style=\"color: #000080\">INFO    </span> TRAIN AUC: <span style=\"color: #000080; font-weight: bold\">0.779906864595967</span> TRAIN ACC: <span style=\"color: #000080; font-weight: bold\">0.7141409663732506</span> <a href=\"file:///home/j-gunmo/desktop/00.my-project/17.P-Stage-T1003/4-STAGE/trainer.py\"><span style=\"color: #7f7f7f\">trainer.py</span></a><span style=\"color: #7f7f7f\">:426</span>\n",
       "</pre>\n"
      ],
      "text/plain": [
       "<rich.jupyter.JupyterRenderable at 0x7fa943c5cc40>"
      ]
     },
     "metadata": {},
     "output_type": "display_data"
    },
    {
     "data": {
      "text/html": [
       "<pre style=\"white-space:pre;overflow-x:auto;line-height:normal;font-family:Menlo,'DejaVu Sans Mono',consolas,'Courier New',monospace\"><span style=\"color: #7fbfbf\">           </span><span style=\"color: #000080\">INFO    </span> VALID AUC: <span style=\"color: #000080; font-weight: bold\">0.7813191933576431</span> VALID ACC:                   <a href=\"file:///home/j-gunmo/desktop/00.my-project/17.P-Stage-T1003/4-STAGE/trainer.py\"><span style=\"color: #7f7f7f\">trainer.py</span></a><span style=\"color: #7f7f7f\">:427</span>\n",
       "                    <span style=\"color: #000080; font-weight: bold\">0.7125126646403243</span>                                                       \n",
       "                                                                                             \n",
       "</pre>\n"
      ],
      "text/plain": [
       "<rich.jupyter.JupyterRenderable at 0x7fa94655e0a0>"
      ]
     },
     "metadata": {},
     "output_type": "display_data"
    },
    {
     "data": {
      "text/html": [
       "<pre style=\"white-space:pre;overflow-x:auto;line-height:normal;font-family:Menlo,'DejaVu Sans Mono',consolas,'Courier New',monospace\"><span style=\"color: #7fbfbf\">           </span><span style=\"color: #000080\">INFO    </span> EarlyStopping counter: <span style=\"color: #000080; font-weight: bold\">2</span>                                   <a href=\"file:///home/j-gunmo/desktop/00.my-project/17.P-Stage-T1003/4-STAGE/trainer.py\"><span style=\"color: #7f7f7f\">trainer.py</span></a><span style=\"color: #7f7f7f\">:435</span>\n",
       "</pre>\n"
      ],
      "text/plain": [
       "<rich.jupyter.JupyterRenderable at 0x7fa9442c6f10>"
      ]
     },
     "metadata": {},
     "output_type": "display_data"
    },
    {
     "data": {
      "text/html": [
       "<pre style=\"white-space:pre;overflow-x:auto;line-height:normal;font-family:Menlo,'DejaVu Sans Mono',consolas,'Courier New',monospace\"><span style=\"color: #7fbfbf\">           </span><span style=\"color: #000080\">INFO    </span> Start Training: Epoch <span style=\"color: #000080; font-weight: bold\">9</span>                                    <a href=\"file:///home/j-gunmo/desktop/00.my-project/17.P-Stage-T1003/4-STAGE/trainer.py\"><span style=\"color: #7f7f7f\">trainer.py</span></a><span style=\"color: #7f7f7f\">:409</span>\n",
       "</pre>\n"
      ],
      "text/plain": [
       "<rich.jupyter.JupyterRenderable at 0x7fa944aa09d0>"
      ]
     },
     "metadata": {},
     "output_type": "display_data"
    },
    {
     "name": "stdout",
     "output_type": "stream",
     "text": [
      "Training steps: 0 Loss: 0.5853046178817749\n",
      "Training steps: 50 Loss: 0.5416632890701294\n",
      "Training steps: 100 Loss: 0.5536460876464844\n",
      "VALID AUC : 0.7817139968497918 ACC : 0.711499493414387\n",
      "\n"
     ]
    },
    {
     "data": {
      "text/html": [
       "<pre style=\"white-space:pre;overflow-x:auto;line-height:normal;font-family:Menlo,'DejaVu Sans Mono',consolas,'Courier New',monospace\"><span style=\"color: #7fbfbf\">[13:03:26] </span><span style=\"color: #000080\">INFO    </span> TRAIN_LOSS: <span style=\"color: #000080; font-weight: bold\">0.5646666288375854</span>                             <a href=\"file:///home/j-gunmo/desktop/00.my-project/17.P-Stage-T1003/4-STAGE/trainer.py\"><span style=\"color: #7f7f7f\">trainer.py</span></a><span style=\"color: #7f7f7f\">:425</span>\n",
       "</pre>\n"
      ],
      "text/plain": [
       "<rich.jupyter.JupyterRenderable at 0x7fa94655e0a0>"
      ]
     },
     "metadata": {},
     "output_type": "display_data"
    },
    {
     "data": {
      "text/html": [
       "<pre style=\"white-space:pre;overflow-x:auto;line-height:normal;font-family:Menlo,'DejaVu Sans Mono',consolas,'Courier New',monospace\"><span style=\"color: #7fbfbf\">           </span><span style=\"color: #000080\">INFO    </span> TRAIN AUC: <span style=\"color: #000080; font-weight: bold\">0.7804653362186578</span> TRAIN ACC:                   <a href=\"file:///home/j-gunmo/desktop/00.my-project/17.P-Stage-T1003/4-STAGE/trainer.py\"><span style=\"color: #7f7f7f\">trainer.py</span></a><span style=\"color: #7f7f7f\">:426</span>\n",
       "                    <span style=\"color: #000080; font-weight: bold\">0.7159774555126338</span>                                                       \n",
       "</pre>\n"
      ],
      "text/plain": [
       "<rich.jupyter.JupyterRenderable at 0x7fa944c80d90>"
      ]
     },
     "metadata": {},
     "output_type": "display_data"
    },
    {
     "data": {
      "text/html": [
       "<pre style=\"white-space:pre;overflow-x:auto;line-height:normal;font-family:Menlo,'DejaVu Sans Mono',consolas,'Courier New',monospace\"><span style=\"color: #7fbfbf\">           </span><span style=\"color: #000080\">INFO    </span> VALID AUC: <span style=\"color: #000080; font-weight: bold\">0.7817139968497918</span> VALID ACC: <span style=\"color: #000080; font-weight: bold\">0.711499493414387</span> <a href=\"file:///home/j-gunmo/desktop/00.my-project/17.P-Stage-T1003/4-STAGE/trainer.py\"><span style=\"color: #7f7f7f\">trainer.py</span></a><span style=\"color: #7f7f7f\">:427</span>\n",
       "                                                                                             \n",
       "</pre>\n"
      ],
      "text/plain": [
       "<rich.jupyter.JupyterRenderable at 0x7fa943c5c0a0>"
      ]
     },
     "metadata": {},
     "output_type": "display_data"
    },
    {
     "data": {
      "text/html": [
       "<pre style=\"white-space:pre;overflow-x:auto;line-height:normal;font-family:Menlo,'DejaVu Sans Mono',consolas,'Courier New',monospace\"><span style=\"color: #7fbfbf\">           </span><span style=\"color: #000080\">INFO    </span> EarlyStopping counter: <span style=\"color: #000080; font-weight: bold\">3</span>                                   <a href=\"file:///home/j-gunmo/desktop/00.my-project/17.P-Stage-T1003/4-STAGE/trainer.py\"><span style=\"color: #7f7f7f\">trainer.py</span></a><span style=\"color: #7f7f7f\">:435</span>\n",
       "</pre>\n"
      ],
      "text/plain": [
       "<rich.jupyter.JupyterRenderable at 0x7fa944aa7be0>"
      ]
     },
     "metadata": {},
     "output_type": "display_data"
    },
    {
     "data": {
      "text/html": [
       "<pre style=\"white-space:pre;overflow-x:auto;line-height:normal;font-family:Menlo,'DejaVu Sans Mono',consolas,'Courier New',monospace\"><span style=\"color: #7fbfbf\">           </span><span style=\"color: #000080\">INFO    </span> Start Training: Epoch <span style=\"color: #000080; font-weight: bold\">10</span>                                   <a href=\"file:///home/j-gunmo/desktop/00.my-project/17.P-Stage-T1003/4-STAGE/trainer.py\"><span style=\"color: #7f7f7f\">trainer.py</span></a><span style=\"color: #7f7f7f\">:409</span>\n",
       "</pre>\n"
      ],
      "text/plain": [
       "<rich.jupyter.JupyterRenderable at 0x7fa944aa08b0>"
      ]
     },
     "metadata": {},
     "output_type": "display_data"
    },
    {
     "name": "stdout",
     "output_type": "stream",
     "text": [
      "Training steps: 0 Loss: 0.577796220779419\n",
      "Training steps: 50 Loss: 0.6202760338783264\n",
      "Training steps: 100 Loss: 0.5366042256355286\n",
      "VALID AUC : 0.7821347438375208 ACC : 0.7117527862208713\n",
      "\n"
     ]
    },
    {
     "data": {
      "text/html": [
       "<pre style=\"white-space:pre;overflow-x:auto;line-height:normal;font-family:Menlo,'DejaVu Sans Mono',consolas,'Courier New',monospace\"><span style=\"color: #7fbfbf\">[13:03:33] </span><span style=\"color: #000080\">INFO    </span> TRAIN_LOSS: <span style=\"color: #000080; font-weight: bold\">0.5636063814163208</span>                             <a href=\"file:///home/j-gunmo/desktop/00.my-project/17.P-Stage-T1003/4-STAGE/trainer.py\"><span style=\"color: #7f7f7f\">trainer.py</span></a><span style=\"color: #7f7f7f\">:425</span>\n",
       "</pre>\n"
      ],
      "text/plain": [
       "<rich.jupyter.JupyterRenderable at 0x7fa94655e0a0>"
      ]
     },
     "metadata": {},
     "output_type": "display_data"
    },
    {
     "data": {
      "text/html": [
       "<pre style=\"white-space:pre;overflow-x:auto;line-height:normal;font-family:Menlo,'DejaVu Sans Mono',consolas,'Courier New',monospace\"><span style=\"color: #7fbfbf\">           </span><span style=\"color: #000080\">INFO    </span> TRAIN AUC: <span style=\"color: #000080; font-weight: bold\">0.7811015311229756</span> TRAIN ACC: <span style=\"color: #000080; font-weight: bold\">0.716357418782851</span> <a href=\"file:///home/j-gunmo/desktop/00.my-project/17.P-Stage-T1003/4-STAGE/trainer.py\"><span style=\"color: #7f7f7f\">trainer.py</span></a><span style=\"color: #7f7f7f\">:426</span>\n",
       "</pre>\n"
      ],
      "text/plain": [
       "<rich.jupyter.JupyterRenderable at 0x7fa943c5c820>"
      ]
     },
     "metadata": {},
     "output_type": "display_data"
    },
    {
     "data": {
      "text/html": [
       "<pre style=\"white-space:pre;overflow-x:auto;line-height:normal;font-family:Menlo,'DejaVu Sans Mono',consolas,'Courier New',monospace\"><span style=\"color: #7fbfbf\">           </span><span style=\"color: #000080\">INFO    </span> VALID AUC: <span style=\"color: #000080; font-weight: bold\">0.7821347438375208</span> VALID ACC:                   <a href=\"file:///home/j-gunmo/desktop/00.my-project/17.P-Stage-T1003/4-STAGE/trainer.py\"><span style=\"color: #7f7f7f\">trainer.py</span></a><span style=\"color: #7f7f7f\">:427</span>\n",
       "                    <span style=\"color: #000080; font-weight: bold\">0.7117527862208713</span>                                                       \n",
       "                                                                                             \n",
       "</pre>\n"
      ],
      "text/plain": [
       "<rich.jupyter.JupyterRenderable at 0x7fa950b11310>"
      ]
     },
     "metadata": {},
     "output_type": "display_data"
    },
    {
     "data": {
      "text/html": [
       "<pre style=\"white-space:pre;overflow-x:auto;line-height:normal;font-family:Menlo,'DejaVu Sans Mono',consolas,'Courier New',monospace\"><span style=\"color: #7fbfbf\">           </span><span style=\"color: #000080\">INFO    </span> Start Training: Epoch <span style=\"color: #000080; font-weight: bold\">11</span>                                   <a href=\"file:///home/j-gunmo/desktop/00.my-project/17.P-Stage-T1003/4-STAGE/trainer.py\"><span style=\"color: #7f7f7f\">trainer.py</span></a><span style=\"color: #7f7f7f\">:409</span>\n",
       "</pre>\n"
      ],
      "text/plain": [
       "<rich.jupyter.JupyterRenderable at 0x7fa950b11310>"
      ]
     },
     "metadata": {},
     "output_type": "display_data"
    },
    {
     "name": "stdout",
     "output_type": "stream",
     "text": [
      "Training steps: 0 Loss: 0.560056746006012\n",
      "Training steps: 50 Loss: 0.5554572343826294\n",
      "Training steps: 100 Loss: 0.5694162249565125\n",
      "VALID AUC : 0.7825752695298012 ACC : 0.7112462006079028\n",
      "\n"
     ]
    },
    {
     "data": {
      "text/html": [
       "<pre style=\"white-space:pre;overflow-x:auto;line-height:normal;font-family:Menlo,'DejaVu Sans Mono',consolas,'Courier New',monospace\"><span style=\"color: #7fbfbf\">[13:03:41] </span><span style=\"color: #000080\">INFO    </span> TRAIN_LOSS: <span style=\"color: #000080; font-weight: bold\">0.5637363791465759</span>                             <a href=\"file:///home/j-gunmo/desktop/00.my-project/17.P-Stage-T1003/4-STAGE/trainer.py\"><span style=\"color: #7f7f7f\">trainer.py</span></a><span style=\"color: #7f7f7f\">:425</span>\n",
       "</pre>\n"
      ],
      "text/plain": [
       "<rich.jupyter.JupyterRenderable at 0x7fa944c809d0>"
      ]
     },
     "metadata": {},
     "output_type": "display_data"
    },
    {
     "data": {
      "text/html": [
       "<pre style=\"white-space:pre;overflow-x:auto;line-height:normal;font-family:Menlo,'DejaVu Sans Mono',consolas,'Courier New',monospace\"><span style=\"color: #7fbfbf\">           </span><span style=\"color: #000080\">INFO    </span> TRAIN AUC: <span style=\"color: #000080; font-weight: bold\">0.7815189889016161</span> TRAIN ACC:                   <a href=\"file:///home/j-gunmo/desktop/00.my-project/17.P-Stage-T1003/4-STAGE/trainer.py\"><span style=\"color: #7f7f7f\">trainer.py</span></a><span style=\"color: #7f7f7f\">:426</span>\n",
       "                    <span style=\"color: #000080; font-weight: bold\">0.7161041099360396</span>                                                       \n",
       "</pre>\n"
      ],
      "text/plain": [
       "<rich.jupyter.JupyterRenderable at 0x7fa943c5c9a0>"
      ]
     },
     "metadata": {},
     "output_type": "display_data"
    },
    {
     "data": {
      "text/html": [
       "<pre style=\"white-space:pre;overflow-x:auto;line-height:normal;font-family:Menlo,'DejaVu Sans Mono',consolas,'Courier New',monospace\"><span style=\"color: #7fbfbf\">           </span><span style=\"color: #000080\">INFO    </span> VALID AUC: <span style=\"color: #000080; font-weight: bold\">0.7825752695298012</span> VALID ACC:                   <a href=\"file:///home/j-gunmo/desktop/00.my-project/17.P-Stage-T1003/4-STAGE/trainer.py\"><span style=\"color: #7f7f7f\">trainer.py</span></a><span style=\"color: #7f7f7f\">:427</span>\n",
       "                    <span style=\"color: #000080; font-weight: bold\">0.7112462006079028</span>                                                       \n",
       "                                                                                             \n",
       "</pre>\n"
      ],
      "text/plain": [
       "<rich.jupyter.JupyterRenderable at 0x7fa941dbdfd0>"
      ]
     },
     "metadata": {},
     "output_type": "display_data"
    },
    {
     "data": {
      "text/html": [
       "<pre style=\"white-space:pre;overflow-x:auto;line-height:normal;font-family:Menlo,'DejaVu Sans Mono',consolas,'Courier New',monospace\"><span style=\"color: #7fbfbf\">           </span><span style=\"color: #000080\">INFO    </span> Start Training: Epoch <span style=\"color: #000080; font-weight: bold\">12</span>                                   <a href=\"file:///home/j-gunmo/desktop/00.my-project/17.P-Stage-T1003/4-STAGE/trainer.py\"><span style=\"color: #7f7f7f\">trainer.py</span></a><span style=\"color: #7f7f7f\">:409</span>\n",
       "</pre>\n"
      ],
      "text/plain": [
       "<rich.jupyter.JupyterRenderable at 0x7fa941dc2d30>"
      ]
     },
     "metadata": {},
     "output_type": "display_data"
    },
    {
     "name": "stdout",
     "output_type": "stream",
     "text": [
      "Training steps: 0 Loss: 0.5295521020889282\n",
      "Training steps: 50 Loss: 0.5969763994216919\n",
      "Training steps: 100 Loss: 0.575781524181366\n",
      "VALID AUC : 0.782078746985674 ACC : 0.7104863221884499\n",
      "\n"
     ]
    },
    {
     "data": {
      "text/html": [
       "<pre style=\"white-space:pre;overflow-x:auto;line-height:normal;font-family:Menlo,'DejaVu Sans Mono',consolas,'Courier New',monospace\"><span style=\"color: #7fbfbf\">[13:03:48] </span><span style=\"color: #000080\">INFO    </span> TRAIN_LOSS: <span style=\"color: #000080; font-weight: bold\">0.5626399517059326</span>                             <a href=\"file:///home/j-gunmo/desktop/00.my-project/17.P-Stage-T1003/4-STAGE/trainer.py\"><span style=\"color: #7f7f7f\">trainer.py</span></a><span style=\"color: #7f7f7f\">:425</span>\n",
       "</pre>\n"
      ],
      "text/plain": [
       "<rich.jupyter.JupyterRenderable at 0x7fa944c80f70>"
      ]
     },
     "metadata": {},
     "output_type": "display_data"
    },
    {
     "data": {
      "text/html": [
       "<pre style=\"white-space:pre;overflow-x:auto;line-height:normal;font-family:Menlo,'DejaVu Sans Mono',consolas,'Courier New',monospace\"><span style=\"color: #7fbfbf\">           </span><span style=\"color: #000080\">INFO    </span> TRAIN AUC: <span style=\"color: #000080; font-weight: bold\">0.7819232494467431</span> TRAIN ACC:                   <a href=\"file:///home/j-gunmo/desktop/00.my-project/17.P-Stage-T1003/4-STAGE/trainer.py\"><span style=\"color: #7f7f7f\">trainer.py</span></a><span style=\"color: #7f7f7f\">:426</span>\n",
       "                    <span style=\"color: #000080; font-weight: bold\">0.7164207459945539</span>                                                       \n",
       "</pre>\n"
      ],
      "text/plain": [
       "<rich.jupyter.JupyterRenderable at 0x7fa944aa7700>"
      ]
     },
     "metadata": {},
     "output_type": "display_data"
    },
    {
     "data": {
      "text/html": [
       "<pre style=\"white-space:pre;overflow-x:auto;line-height:normal;font-family:Menlo,'DejaVu Sans Mono',consolas,'Courier New',monospace\"><span style=\"color: #7fbfbf\">           </span><span style=\"color: #000080\">INFO    </span> VALID AUC: <span style=\"color: #000080; font-weight: bold\">0.782078746985674</span> VALID ACC: <span style=\"color: #000080; font-weight: bold\">0.7104863221884499</span> <a href=\"file:///home/j-gunmo/desktop/00.my-project/17.P-Stage-T1003/4-STAGE/trainer.py\"><span style=\"color: #7f7f7f\">trainer.py</span></a><span style=\"color: #7f7f7f\">:427</span>\n",
       "                                                                                             \n",
       "</pre>\n"
      ],
      "text/plain": [
       "<rich.jupyter.JupyterRenderable at 0x7fa943c5cb20>"
      ]
     },
     "metadata": {},
     "output_type": "display_data"
    },
    {
     "data": {
      "text/html": [
       "<pre style=\"white-space:pre;overflow-x:auto;line-height:normal;font-family:Menlo,'DejaVu Sans Mono',consolas,'Courier New',monospace\"><span style=\"color: #7fbfbf\">           </span><span style=\"color: #000080\">INFO    </span> EarlyStopping counter: <span style=\"color: #000080; font-weight: bold\">1</span>                                   <a href=\"file:///home/j-gunmo/desktop/00.my-project/17.P-Stage-T1003/4-STAGE/trainer.py\"><span style=\"color: #7f7f7f\">trainer.py</span></a><span style=\"color: #7f7f7f\">:435</span>\n",
       "</pre>\n"
      ],
      "text/plain": [
       "<rich.jupyter.JupyterRenderable at 0x7fa950b14250>"
      ]
     },
     "metadata": {},
     "output_type": "display_data"
    },
    {
     "data": {
      "text/html": [
       "<pre style=\"white-space:pre;overflow-x:auto;line-height:normal;font-family:Menlo,'DejaVu Sans Mono',consolas,'Courier New',monospace\"><span style=\"color: #7fbfbf\">           </span><span style=\"color: #000080\">INFO    </span> Start Training: Epoch <span style=\"color: #000080; font-weight: bold\">13</span>                                   <a href=\"file:///home/j-gunmo/desktop/00.my-project/17.P-Stage-T1003/4-STAGE/trainer.py\"><span style=\"color: #7f7f7f\">trainer.py</span></a><span style=\"color: #7f7f7f\">:409</span>\n",
       "</pre>\n"
      ],
      "text/plain": [
       "<rich.jupyter.JupyterRenderable at 0x7fa944c7c7c0>"
      ]
     },
     "metadata": {},
     "output_type": "display_data"
    },
    {
     "name": "stdout",
     "output_type": "stream",
     "text": [
      "Training steps: 0 Loss: 0.5148870944976807\n",
      "Training steps: 50 Loss: 0.5265598893165588\n",
      "Training steps: 100 Loss: 0.582970917224884\n",
      "VALID AUC : 0.781872611785642 ACC : 0.709726443768997\n",
      "\n"
     ]
    },
    {
     "data": {
      "text/html": [
       "<pre style=\"white-space:pre;overflow-x:auto;line-height:normal;font-family:Menlo,'DejaVu Sans Mono',consolas,'Courier New',monospace\"><span style=\"color: #7fbfbf\">[13:03:55] </span><span style=\"color: #000080\">INFO    </span> TRAIN_LOSS: <span style=\"color: #000080; font-weight: bold\">0.5624306201934814</span>                             <a href=\"file:///home/j-gunmo/desktop/00.my-project/17.P-Stage-T1003/4-STAGE/trainer.py\"><span style=\"color: #7f7f7f\">trainer.py</span></a><span style=\"color: #7f7f7f\">:425</span>\n",
       "</pre>\n"
      ],
      "text/plain": [
       "<rich.jupyter.JupyterRenderable at 0x7fa9512df7c0>"
      ]
     },
     "metadata": {},
     "output_type": "display_data"
    },
    {
     "data": {
      "text/html": [
       "<pre style=\"white-space:pre;overflow-x:auto;line-height:normal;font-family:Menlo,'DejaVu Sans Mono',consolas,'Courier New',monospace\"><span style=\"color: #7fbfbf\">           </span><span style=\"color: #000080\">INFO    </span> TRAIN AUC: <span style=\"color: #000080; font-weight: bold\">0.7825861196102898</span> TRAIN ACC:                   <a href=\"file:///home/j-gunmo/desktop/00.my-project/17.P-Stage-T1003/4-STAGE/trainer.py\"><span style=\"color: #7f7f7f\">trainer.py</span></a><span style=\"color: #7f7f7f\">:426</span>\n",
       "                    <span style=\"color: #000080; font-weight: bold\">0.7171806725349883</span>                                                       \n",
       "</pre>\n"
      ],
      "text/plain": [
       "<rich.jupyter.JupyterRenderable at 0x7fa9512df370>"
      ]
     },
     "metadata": {},
     "output_type": "display_data"
    },
    {
     "data": {
      "text/html": [
       "<pre style=\"white-space:pre;overflow-x:auto;line-height:normal;font-family:Menlo,'DejaVu Sans Mono',consolas,'Courier New',monospace\"><span style=\"color: #7fbfbf\">           </span><span style=\"color: #000080\">INFO    </span> VALID AUC: <span style=\"color: #000080; font-weight: bold\">0.781872611785642</span> VALID ACC: <span style=\"color: #000080; font-weight: bold\">0.709726443768997</span>  <a href=\"file:///home/j-gunmo/desktop/00.my-project/17.P-Stage-T1003/4-STAGE/trainer.py\"><span style=\"color: #7f7f7f\">trainer.py</span></a><span style=\"color: #7f7f7f\">:427</span>\n",
       "                                                                                             \n",
       "</pre>\n"
      ],
      "text/plain": [
       "<rich.jupyter.JupyterRenderable at 0x7fa941dc2d30>"
      ]
     },
     "metadata": {},
     "output_type": "display_data"
    },
    {
     "data": {
      "text/html": [
       "<pre style=\"white-space:pre;overflow-x:auto;line-height:normal;font-family:Menlo,'DejaVu Sans Mono',consolas,'Courier New',monospace\"><span style=\"color: #7fbfbf\">           </span><span style=\"color: #000080\">INFO    </span> EarlyStopping counter: <span style=\"color: #000080; font-weight: bold\">2</span>                                   <a href=\"file:///home/j-gunmo/desktop/00.my-project/17.P-Stage-T1003/4-STAGE/trainer.py\"><span style=\"color: #7f7f7f\">trainer.py</span></a><span style=\"color: #7f7f7f\">:435</span>\n",
       "</pre>\n"
      ],
      "text/plain": [
       "<rich.jupyter.JupyterRenderable at 0x7fa944c7c640>"
      ]
     },
     "metadata": {},
     "output_type": "display_data"
    },
    {
     "data": {
      "text/html": [
       "<pre style=\"white-space:pre;overflow-x:auto;line-height:normal;font-family:Menlo,'DejaVu Sans Mono',consolas,'Courier New',monospace\"><span style=\"color: #7fbfbf\">           </span><span style=\"color: #000080\">INFO    </span> Start Training: Epoch <span style=\"color: #000080; font-weight: bold\">14</span>                                   <a href=\"file:///home/j-gunmo/desktop/00.my-project/17.P-Stage-T1003/4-STAGE/trainer.py\"><span style=\"color: #7f7f7f\">trainer.py</span></a><span style=\"color: #7f7f7f\">:409</span>\n",
       "</pre>\n"
      ],
      "text/plain": [
       "<rich.jupyter.JupyterRenderable at 0x7fa941dc29a0>"
      ]
     },
     "metadata": {},
     "output_type": "display_data"
    },
    {
     "name": "stdout",
     "output_type": "stream",
     "text": [
      "Training steps: 0 Loss: 0.5209767818450928\n",
      "Training steps: 50 Loss: 0.6247624754905701\n",
      "Training steps: 100 Loss: 0.5499745607376099\n",
      "VALID AUC : 0.7815698948594889 ACC : 0.7102330293819655\n",
      "\n"
     ]
    },
    {
     "data": {
      "text/html": [
       "<pre style=\"white-space:pre;overflow-x:auto;line-height:normal;font-family:Menlo,'DejaVu Sans Mono',consolas,'Courier New',monospace\"><span style=\"color: #7fbfbf\">[13:04:02] </span><span style=\"color: #000080\">INFO    </span> TRAIN_LOSS: <span style=\"color: #000080; font-weight: bold\">0.5620366334915161</span>                             <a href=\"file:///home/j-gunmo/desktop/00.my-project/17.P-Stage-T1003/4-STAGE/trainer.py\"><span style=\"color: #7f7f7f\">trainer.py</span></a><span style=\"color: #7f7f7f\">:425</span>\n",
       "</pre>\n"
      ],
      "text/plain": [
       "<rich.jupyter.JupyterRenderable at 0x7fa9442c6f10>"
      ]
     },
     "metadata": {},
     "output_type": "display_data"
    },
    {
     "data": {
      "text/html": [
       "<pre style=\"white-space:pre;overflow-x:auto;line-height:normal;font-family:Menlo,'DejaVu Sans Mono',consolas,'Courier New',monospace\"><span style=\"color: #7fbfbf\">           </span><span style=\"color: #000080\">INFO    </span> TRAIN AUC: <span style=\"color: #000080; font-weight: bold\">0.7828664063867358</span> TRAIN ACC:                   <a href=\"file:///home/j-gunmo/desktop/00.my-project/17.P-Stage-T1003/4-STAGE/trainer.py\"><span style=\"color: #7f7f7f\">trainer.py</span></a><span style=\"color: #7f7f7f\">:426</span>\n",
       "                    <span style=\"color: #000080; font-weight: bold\">0.7131910581977076</span>                                                       \n",
       "</pre>\n"
      ],
      "text/plain": [
       "<rich.jupyter.JupyterRenderable at 0x7fa941dc2d30>"
      ]
     },
     "metadata": {},
     "output_type": "display_data"
    },
    {
     "data": {
      "text/html": [
       "<pre style=\"white-space:pre;overflow-x:auto;line-height:normal;font-family:Menlo,'DejaVu Sans Mono',consolas,'Courier New',monospace\"><span style=\"color: #7fbfbf\">           </span><span style=\"color: #000080\">INFO    </span> VALID AUC: <span style=\"color: #000080; font-weight: bold\">0.7815698948594889</span> VALID ACC:                   <a href=\"file:///home/j-gunmo/desktop/00.my-project/17.P-Stage-T1003/4-STAGE/trainer.py\"><span style=\"color: #7f7f7f\">trainer.py</span></a><span style=\"color: #7f7f7f\">:427</span>\n",
       "                    <span style=\"color: #000080; font-weight: bold\">0.7102330293819655</span>                                                       \n",
       "                                                                                             \n",
       "</pre>\n"
      ],
      "text/plain": [
       "<rich.jupyter.JupyterRenderable at 0x7fa944aa08b0>"
      ]
     },
     "metadata": {},
     "output_type": "display_data"
    },
    {
     "data": {
      "text/html": [
       "<pre style=\"white-space:pre;overflow-x:auto;line-height:normal;font-family:Menlo,'DejaVu Sans Mono',consolas,'Courier New',monospace\"><span style=\"color: #7fbfbf\">           </span><span style=\"color: #000080\">INFO    </span> EarlyStopping counter: <span style=\"color: #000080; font-weight: bold\">3</span>                                   <a href=\"file:///home/j-gunmo/desktop/00.my-project/17.P-Stage-T1003/4-STAGE/trainer.py\"><span style=\"color: #7f7f7f\">trainer.py</span></a><span style=\"color: #7f7f7f\">:435</span>\n",
       "</pre>\n"
      ],
      "text/plain": [
       "<rich.jupyter.JupyterRenderable at 0x7fa9442c41f0>"
      ]
     },
     "metadata": {},
     "output_type": "display_data"
    },
    {
     "data": {
      "text/html": [
       "<pre style=\"white-space:pre;overflow-x:auto;line-height:normal;font-family:Menlo,'DejaVu Sans Mono',consolas,'Courier New',monospace\"><span style=\"color: #7fbfbf\">           </span><span style=\"color: #000080\">INFO    </span> Start Training: Epoch <span style=\"color: #000080; font-weight: bold\">15</span>                                   <a href=\"file:///home/j-gunmo/desktop/00.my-project/17.P-Stage-T1003/4-STAGE/trainer.py\"><span style=\"color: #7f7f7f\">trainer.py</span></a><span style=\"color: #7f7f7f\">:409</span>\n",
       "</pre>\n"
      ],
      "text/plain": [
       "<rich.jupyter.JupyterRenderable at 0x7fa944aa0340>"
      ]
     },
     "metadata": {},
     "output_type": "display_data"
    },
    {
     "name": "stdout",
     "output_type": "stream",
     "text": [
      "Training steps: 0 Loss: 0.5333714485168457\n",
      "Training steps: 50 Loss: 0.6032456159591675\n",
      "Training steps: 100 Loss: 0.6091723442077637\n",
      "VALID AUC : 0.7821745581129165 ACC : 0.7087132725430598\n",
      "\n"
     ]
    },
    {
     "data": {
      "text/html": [
       "<pre style=\"white-space:pre;overflow-x:auto;line-height:normal;font-family:Menlo,'DejaVu Sans Mono',consolas,'Courier New',monospace\"><span style=\"color: #7fbfbf\">[13:04:09] </span><span style=\"color: #000080\">INFO    </span> TRAIN_LOSS: <span style=\"color: #000080; font-weight: bold\">0.5627934336662292</span>                             <a href=\"file:///home/j-gunmo/desktop/00.my-project/17.P-Stage-T1003/4-STAGE/trainer.py\"><span style=\"color: #7f7f7f\">trainer.py</span></a><span style=\"color: #7f7f7f\">:425</span>\n",
       "</pre>\n"
      ],
      "text/plain": [
       "<rich.jupyter.JupyterRenderable at 0x7fa944c7c640>"
      ]
     },
     "metadata": {},
     "output_type": "display_data"
    },
    {
     "data": {
      "text/html": [
       "<pre style=\"white-space:pre;overflow-x:auto;line-height:normal;font-family:Menlo,'DejaVu Sans Mono',consolas,'Courier New',monospace\"><span style=\"color: #7fbfbf\">           </span><span style=\"color: #000080\">INFO    </span> TRAIN AUC: <span style=\"color: #000080; font-weight: bold\">0.7821551276474934</span> TRAIN ACC:                   <a href=\"file:///home/j-gunmo/desktop/00.my-project/17.P-Stage-T1003/4-STAGE/trainer.py\"><span style=\"color: #7f7f7f\">trainer.py</span></a><span style=\"color: #7f7f7f\">:426</span>\n",
       "                    <span style=\"color: #000080; font-weight: bold\">0.7178772718637199</span>                                                       \n",
       "</pre>\n"
      ],
      "text/plain": [
       "<rich.jupyter.JupyterRenderable at 0x7fa941dc29a0>"
      ]
     },
     "metadata": {},
     "output_type": "display_data"
    },
    {
     "data": {
      "text/html": [
       "<pre style=\"white-space:pre;overflow-x:auto;line-height:normal;font-family:Menlo,'DejaVu Sans Mono',consolas,'Courier New',monospace\"><span style=\"color: #7fbfbf\">           </span><span style=\"color: #000080\">INFO    </span> VALID AUC: <span style=\"color: #000080; font-weight: bold\">0.7821745581129165</span> VALID ACC:                   <a href=\"file:///home/j-gunmo/desktop/00.my-project/17.P-Stage-T1003/4-STAGE/trainer.py\"><span style=\"color: #7f7f7f\">trainer.py</span></a><span style=\"color: #7f7f7f\">:427</span>\n",
       "                    <span style=\"color: #000080; font-weight: bold\">0.7087132725430598</span>                                                       \n",
       "                                                                                             \n",
       "</pre>\n"
      ],
      "text/plain": [
       "<rich.jupyter.JupyterRenderable at 0x7fa941dbd700>"
      ]
     },
     "metadata": {},
     "output_type": "display_data"
    },
    {
     "data": {
      "text/html": [
       "<pre style=\"white-space:pre;overflow-x:auto;line-height:normal;font-family:Menlo,'DejaVu Sans Mono',consolas,'Courier New',monospace\"><span style=\"color: #7fbfbf\">           </span><span style=\"color: #000080\">INFO    </span> EarlyStopping counter: <span style=\"color: #000080; font-weight: bold\">4</span>                                   <a href=\"file:///home/j-gunmo/desktop/00.my-project/17.P-Stage-T1003/4-STAGE/trainer.py\"><span style=\"color: #7f7f7f\">trainer.py</span></a><span style=\"color: #7f7f7f\">:435</span>\n",
       "</pre>\n"
      ],
      "text/plain": [
       "<rich.jupyter.JupyterRenderable at 0x7fa944aa08b0>"
      ]
     },
     "metadata": {},
     "output_type": "display_data"
    },
    {
     "data": {
      "text/html": [
       "<pre style=\"white-space:pre;overflow-x:auto;line-height:normal;font-family:Menlo,'DejaVu Sans Mono',consolas,'Courier New',monospace\"><span style=\"color: #7fbfbf\">           </span><span style=\"color: #000080\">INFO    </span> Start Training: Epoch <span style=\"color: #000080; font-weight: bold\">16</span>                                   <a href=\"file:///home/j-gunmo/desktop/00.my-project/17.P-Stage-T1003/4-STAGE/trainer.py\"><span style=\"color: #7f7f7f\">trainer.py</span></a><span style=\"color: #7f7f7f\">:409</span>\n",
       "</pre>\n"
      ],
      "text/plain": [
       "<rich.jupyter.JupyterRenderable at 0x7fa950b14dc0>"
      ]
     },
     "metadata": {},
     "output_type": "display_data"
    },
    {
     "name": "stdout",
     "output_type": "stream",
     "text": [
      "Training steps: 0 Loss: 0.5378310680389404\n",
      "Training steps: 50 Loss: 0.5848501920700073\n",
      "Training steps: 100 Loss: 0.5238747000694275\n",
      "VALID AUC : 0.7826245878580331 ACC : 0.7092198581560284\n",
      "\n"
     ]
    },
    {
     "data": {
      "text/html": [
       "<pre style=\"white-space:pre;overflow-x:auto;line-height:normal;font-family:Menlo,'DejaVu Sans Mono',consolas,'Courier New',monospace\"><span style=\"color: #7fbfbf\">[13:04:16] </span><span style=\"color: #000080\">INFO    </span> TRAIN_LOSS: <span style=\"color: #000080; font-weight: bold\">0.5628353357315063</span>                             <a href=\"file:///home/j-gunmo/desktop/00.my-project/17.P-Stage-T1003/4-STAGE/trainer.py\"><span style=\"color: #7f7f7f\">trainer.py</span></a><span style=\"color: #7f7f7f\">:425</span>\n",
       "</pre>\n"
      ],
      "text/plain": [
       "<rich.jupyter.JupyterRenderable at 0x7fa9442c6bb0>"
      ]
     },
     "metadata": {},
     "output_type": "display_data"
    },
    {
     "data": {
      "text/html": [
       "<pre style=\"white-space:pre;overflow-x:auto;line-height:normal;font-family:Menlo,'DejaVu Sans Mono',consolas,'Courier New',monospace\"><span style=\"color: #7fbfbf\">           </span><span style=\"color: #000080\">INFO    </span> TRAIN AUC: <span style=\"color: #000080; font-weight: bold\">0.7828530647458041</span> TRAIN ACC:                   <a href=\"file:///home/j-gunmo/desktop/00.my-project/17.P-Stage-T1003/4-STAGE/trainer.py\"><span style=\"color: #7f7f7f\">trainer.py</span></a><span style=\"color: #7f7f7f\">:426</span>\n",
       "                    <span style=\"color: #000080; font-weight: bold\">0.7181939079222341</span>                                                       \n",
       "</pre>\n"
      ],
      "text/plain": [
       "<rich.jupyter.JupyterRenderable at 0x7fa950b14250>"
      ]
     },
     "metadata": {},
     "output_type": "display_data"
    },
    {
     "data": {
      "text/html": [
       "<pre style=\"white-space:pre;overflow-x:auto;line-height:normal;font-family:Menlo,'DejaVu Sans Mono',consolas,'Courier New',monospace\"><span style=\"color: #7fbfbf\">           </span><span style=\"color: #000080\">INFO    </span> VALID AUC: <span style=\"color: #000080; font-weight: bold\">0.7826245878580331</span> VALID ACC:                   <a href=\"file:///home/j-gunmo/desktop/00.my-project/17.P-Stage-T1003/4-STAGE/trainer.py\"><span style=\"color: #7f7f7f\">trainer.py</span></a><span style=\"color: #7f7f7f\">:427</span>\n",
       "                    <span style=\"color: #000080; font-weight: bold\">0.7092198581560284</span>                                                       \n",
       "                                                                                             \n",
       "</pre>\n"
      ],
      "text/plain": [
       "<rich.jupyter.JupyterRenderable at 0x7fa943c5c940>"
      ]
     },
     "metadata": {},
     "output_type": "display_data"
    },
    {
     "data": {
      "text/html": [
       "<pre style=\"white-space:pre;overflow-x:auto;line-height:normal;font-family:Menlo,'DejaVu Sans Mono',consolas,'Courier New',monospace\"><span style=\"color: #7fbfbf\">           </span><span style=\"color: #000080\">INFO    </span> Start Training: Epoch <span style=\"color: #000080; font-weight: bold\">17</span>                                   <a href=\"file:///home/j-gunmo/desktop/00.my-project/17.P-Stage-T1003/4-STAGE/trainer.py\"><span style=\"color: #7f7f7f\">trainer.py</span></a><span style=\"color: #7f7f7f\">:409</span>\n",
       "</pre>\n"
      ],
      "text/plain": [
       "<rich.jupyter.JupyterRenderable at 0x7fa944aa7b80>"
      ]
     },
     "metadata": {},
     "output_type": "display_data"
    },
    {
     "name": "stdout",
     "output_type": "stream",
     "text": [
      "Training steps: 0 Loss: 0.5902220606803894\n",
      "Training steps: 50 Loss: 0.514001727104187\n",
      "Training steps: 100 Loss: 0.5256128311157227\n",
      "VALID AUC : 0.7818614381019019 ACC : 0.7142857142857143\n",
      "\n"
     ]
    },
    {
     "data": {
      "text/html": [
       "<pre style=\"white-space:pre;overflow-x:auto;line-height:normal;font-family:Menlo,'DejaVu Sans Mono',consolas,'Courier New',monospace\"><span style=\"color: #7fbfbf\">[13:04:23] </span><span style=\"color: #000080\">INFO    </span> TRAIN_LOSS: <span style=\"color: #000080; font-weight: bold\">0.5640107989311218</span>                             <a href=\"file:///home/j-gunmo/desktop/00.my-project/17.P-Stage-T1003/4-STAGE/trainer.py\"><span style=\"color: #7f7f7f\">trainer.py</span></a><span style=\"color: #7f7f7f\">:425</span>\n",
       "</pre>\n"
      ],
      "text/plain": [
       "<rich.jupyter.JupyterRenderable at 0x7fa950b11dc0>"
      ]
     },
     "metadata": {},
     "output_type": "display_data"
    },
    {
     "data": {
      "text/html": [
       "<pre style=\"white-space:pre;overflow-x:auto;line-height:normal;font-family:Menlo,'DejaVu Sans Mono',consolas,'Courier New',monospace\"><span style=\"color: #7fbfbf\">           </span><span style=\"color: #000080\">INFO    </span> TRAIN AUC: <span style=\"color: #000080; font-weight: bold\">0.7812663802136934</span> TRAIN ACC:                   <a href=\"file:///home/j-gunmo/desktop/00.my-project/17.P-Stage-T1003/4-STAGE/trainer.py\"><span style=\"color: #7f7f7f\">trainer.py</span></a><span style=\"color: #7f7f7f\">:426</span>\n",
       "                    <span style=\"color: #000080; font-weight: bold\">0.7169273636881768</span>                                                       \n",
       "</pre>\n"
      ],
      "text/plain": [
       "<rich.jupyter.JupyterRenderable at 0x7fa943c5c0a0>"
      ]
     },
     "metadata": {},
     "output_type": "display_data"
    },
    {
     "data": {
      "text/html": [
       "<pre style=\"white-space:pre;overflow-x:auto;line-height:normal;font-family:Menlo,'DejaVu Sans Mono',consolas,'Courier New',monospace\"><span style=\"color: #7fbfbf\">           </span><span style=\"color: #000080\">INFO    </span> VALID AUC: <span style=\"color: #000080; font-weight: bold\">0.7818614381019019</span> VALID ACC:                   <a href=\"file:///home/j-gunmo/desktop/00.my-project/17.P-Stage-T1003/4-STAGE/trainer.py\"><span style=\"color: #7f7f7f\">trainer.py</span></a><span style=\"color: #7f7f7f\">:427</span>\n",
       "                    <span style=\"color: #000080; font-weight: bold\">0.7142857142857143</span>                                                       \n",
       "                                                                                             \n",
       "</pre>\n"
      ],
      "text/plain": [
       "<rich.jupyter.JupyterRenderable at 0x7fa9442c4790>"
      ]
     },
     "metadata": {},
     "output_type": "display_data"
    },
    {
     "data": {
      "text/html": [
       "<pre style=\"white-space:pre;overflow-x:auto;line-height:normal;font-family:Menlo,'DejaVu Sans Mono',consolas,'Courier New',monospace\"><span style=\"color: #7fbfbf\">           </span><span style=\"color: #000080\">INFO    </span> EarlyStopping counter: <span style=\"color: #000080; font-weight: bold\">1</span>                                   <a href=\"file:///home/j-gunmo/desktop/00.my-project/17.P-Stage-T1003/4-STAGE/trainer.py\"><span style=\"color: #7f7f7f\">trainer.py</span></a><span style=\"color: #7f7f7f\">:435</span>\n",
       "</pre>\n"
      ],
      "text/plain": [
       "<rich.jupyter.JupyterRenderable at 0x7fa943c5cb20>"
      ]
     },
     "metadata": {},
     "output_type": "display_data"
    },
    {
     "data": {
      "text/html": [
       "<pre style=\"white-space:pre;overflow-x:auto;line-height:normal;font-family:Menlo,'DejaVu Sans Mono',consolas,'Courier New',monospace\"><span style=\"color: #7fbfbf\">           </span><span style=\"color: #000080\">INFO    </span> Start Training: Epoch <span style=\"color: #000080; font-weight: bold\">18</span>                                   <a href=\"file:///home/j-gunmo/desktop/00.my-project/17.P-Stage-T1003/4-STAGE/trainer.py\"><span style=\"color: #7f7f7f\">trainer.py</span></a><span style=\"color: #7f7f7f\">:409</span>\n",
       "</pre>\n"
      ],
      "text/plain": [
       "<rich.jupyter.JupyterRenderable at 0x7fa950b11dc0>"
      ]
     },
     "metadata": {},
     "output_type": "display_data"
    },
    {
     "name": "stdout",
     "output_type": "stream",
     "text": [
      "Training steps: 0 Loss: 0.5726213455200195\n",
      "Training steps: 50 Loss: 0.6058125495910645\n",
      "Training steps: 100 Loss: 0.6490216255187988\n",
      "VALID AUC : 0.7819914124460967 ACC : 0.7107396149949341\n",
      "\n"
     ]
    },
    {
     "data": {
      "text/html": [
       "<pre style=\"white-space:pre;overflow-x:auto;line-height:normal;font-family:Menlo,'DejaVu Sans Mono',consolas,'Courier New',monospace\"><span style=\"color: #7fbfbf\">[13:04:31] </span><span style=\"color: #000080\">INFO    </span> TRAIN_LOSS: <span style=\"color: #000080; font-weight: bold\">0.5618823170661926</span>                             <a href=\"file:///home/j-gunmo/desktop/00.my-project/17.P-Stage-T1003/4-STAGE/trainer.py\"><span style=\"color: #7f7f7f\">trainer.py</span></a><span style=\"color: #7f7f7f\">:425</span>\n",
       "</pre>\n"
      ],
      "text/plain": [
       "<rich.jupyter.JupyterRenderable at 0x7fa9442c6f10>"
      ]
     },
     "metadata": {},
     "output_type": "display_data"
    },
    {
     "data": {
      "text/html": [
       "<pre style=\"white-space:pre;overflow-x:auto;line-height:normal;font-family:Menlo,'DejaVu Sans Mono',consolas,'Courier New',monospace\"><span style=\"color: #7fbfbf\">           </span><span style=\"color: #000080\">INFO    </span> TRAIN AUC: <span style=\"color: #000080; font-weight: bold\">0.7833136201161972</span> TRAIN ACC:                   <a href=\"file:///home/j-gunmo/desktop/00.my-project/17.P-Stage-T1003/4-STAGE/trainer.py\"><span style=\"color: #7f7f7f\">trainer.py</span></a><span style=\"color: #7f7f7f\">:426</span>\n",
       "                    <span style=\"color: #000080; font-weight: bold\">0.7151542017604965</span>                                                       \n",
       "</pre>\n"
      ],
      "text/plain": [
       "<rich.jupyter.JupyterRenderable at 0x7fa9442c41f0>"
      ]
     },
     "metadata": {},
     "output_type": "display_data"
    },
    {
     "data": {
      "text/html": [
       "<pre style=\"white-space:pre;overflow-x:auto;line-height:normal;font-family:Menlo,'DejaVu Sans Mono',consolas,'Courier New',monospace\"><span style=\"color: #7fbfbf\">           </span><span style=\"color: #000080\">INFO    </span> VALID AUC: <span style=\"color: #000080; font-weight: bold\">0.7819914124460967</span> VALID ACC:                   <a href=\"file:///home/j-gunmo/desktop/00.my-project/17.P-Stage-T1003/4-STAGE/trainer.py\"><span style=\"color: #7f7f7f\">trainer.py</span></a><span style=\"color: #7f7f7f\">:427</span>\n",
       "                    <span style=\"color: #000080; font-weight: bold\">0.7107396149949341</span>                                                       \n",
       "                                                                                             \n",
       "</pre>\n"
      ],
      "text/plain": [
       "<rich.jupyter.JupyterRenderable at 0x7fa943c49970>"
      ]
     },
     "metadata": {},
     "output_type": "display_data"
    },
    {
     "data": {
      "text/html": [
       "<pre style=\"white-space:pre;overflow-x:auto;line-height:normal;font-family:Menlo,'DejaVu Sans Mono',consolas,'Courier New',monospace\"><span style=\"color: #7fbfbf\">           </span><span style=\"color: #000080\">INFO    </span> EarlyStopping counter: <span style=\"color: #000080; font-weight: bold\">2</span>                                   <a href=\"file:///home/j-gunmo/desktop/00.my-project/17.P-Stage-T1003/4-STAGE/trainer.py\"><span style=\"color: #7f7f7f\">trainer.py</span></a><span style=\"color: #7f7f7f\">:435</span>\n",
       "</pre>\n"
      ],
      "text/plain": [
       "<rich.jupyter.JupyterRenderable at 0x7fa944c80d90>"
      ]
     },
     "metadata": {},
     "output_type": "display_data"
    },
    {
     "data": {
      "text/html": [
       "<pre style=\"white-space:pre;overflow-x:auto;line-height:normal;font-family:Menlo,'DejaVu Sans Mono',consolas,'Courier New',monospace\"><span style=\"color: #7fbfbf\">           </span><span style=\"color: #000080\">INFO    </span> Start Training: Epoch <span style=\"color: #000080; font-weight: bold\">19</span>                                   <a href=\"file:///home/j-gunmo/desktop/00.my-project/17.P-Stage-T1003/4-STAGE/trainer.py\"><span style=\"color: #7f7f7f\">trainer.py</span></a><span style=\"color: #7f7f7f\">:409</span>\n",
       "</pre>\n"
      ],
      "text/plain": [
       "<rich.jupyter.JupyterRenderable at 0x7fa943c5c700>"
      ]
     },
     "metadata": {},
     "output_type": "display_data"
    },
    {
     "name": "stdout",
     "output_type": "stream",
     "text": [
      "Training steps: 0 Loss: 0.5488406419754028\n",
      "Training steps: 50 Loss: 0.49625492095947266\n",
      "Training steps: 100 Loss: 0.5783048272132874\n",
      "VALID AUC : 0.7819795965966243 ACC : 0.7142857142857143\n",
      "\n"
     ]
    },
    {
     "data": {
      "text/html": [
       "<pre style=\"white-space:pre;overflow-x:auto;line-height:normal;font-family:Menlo,'DejaVu Sans Mono',consolas,'Courier New',monospace\"><span style=\"color: #7fbfbf\">[13:04:38] </span><span style=\"color: #000080\">INFO    </span> TRAIN_LOSS: <span style=\"color: #000080; font-weight: bold\">0.5624637007713318</span>                             <a href=\"file:///home/j-gunmo/desktop/00.my-project/17.P-Stage-T1003/4-STAGE/trainer.py\"><span style=\"color: #7f7f7f\">trainer.py</span></a><span style=\"color: #7f7f7f\">:425</span>\n",
       "</pre>\n"
      ],
      "text/plain": [
       "<rich.jupyter.JupyterRenderable at 0x7fa950b14dc0>"
      ]
     },
     "metadata": {},
     "output_type": "display_data"
    },
    {
     "data": {
      "text/html": [
       "<pre style=\"white-space:pre;overflow-x:auto;line-height:normal;font-family:Menlo,'DejaVu Sans Mono',consolas,'Courier New',monospace\"><span style=\"color: #7fbfbf\">           </span><span style=\"color: #000080\">INFO    </span> TRAIN AUC: <span style=\"color: #000080; font-weight: bold\">0.7820870796628979</span> TRAIN ACC: <span style=\"color: #000080; font-weight: bold\">0.713950984738142</span> <a href=\"file:///home/j-gunmo/desktop/00.my-project/17.P-Stage-T1003/4-STAGE/trainer.py\"><span style=\"color: #7f7f7f\">trainer.py</span></a><span style=\"color: #7f7f7f\">:426</span>\n",
       "</pre>\n"
      ],
      "text/plain": [
       "<rich.jupyter.JupyterRenderable at 0x7fa9442c6880>"
      ]
     },
     "metadata": {},
     "output_type": "display_data"
    },
    {
     "data": {
      "text/html": [
       "<pre style=\"white-space:pre;overflow-x:auto;line-height:normal;font-family:Menlo,'DejaVu Sans Mono',consolas,'Courier New',monospace\"><span style=\"color: #7fbfbf\">           </span><span style=\"color: #000080\">INFO    </span> VALID AUC: <span style=\"color: #000080; font-weight: bold\">0.7819795965966243</span> VALID ACC:                   <a href=\"file:///home/j-gunmo/desktop/00.my-project/17.P-Stage-T1003/4-STAGE/trainer.py\"><span style=\"color: #7f7f7f\">trainer.py</span></a><span style=\"color: #7f7f7f\">:427</span>\n",
       "                    <span style=\"color: #000080; font-weight: bold\">0.7142857142857143</span>                                                       \n",
       "                                                                                             \n",
       "</pre>\n"
      ],
      "text/plain": [
       "<rich.jupyter.JupyterRenderable at 0x7fa950b11dc0>"
      ]
     },
     "metadata": {},
     "output_type": "display_data"
    },
    {
     "data": {
      "text/html": [
       "<pre style=\"white-space:pre;overflow-x:auto;line-height:normal;font-family:Menlo,'DejaVu Sans Mono',consolas,'Courier New',monospace\"><span style=\"color: #7fbfbf\">           </span><span style=\"color: #000080\">INFO    </span> EarlyStopping counter: <span style=\"color: #000080; font-weight: bold\">3</span>                                   <a href=\"file:///home/j-gunmo/desktop/00.my-project/17.P-Stage-T1003/4-STAGE/trainer.py\"><span style=\"color: #7f7f7f\">trainer.py</span></a><span style=\"color: #7f7f7f\">:435</span>\n",
       "</pre>\n"
      ],
      "text/plain": [
       "<rich.jupyter.JupyterRenderable at 0x7fa944aa0e50>"
      ]
     },
     "metadata": {},
     "output_type": "display_data"
    },
    {
     "data": {
      "text/html": [
       "<pre style=\"white-space:pre;overflow-x:auto;line-height:normal;font-family:Menlo,'DejaVu Sans Mono',consolas,'Courier New',monospace\"><span style=\"color: #7fbfbf\">           </span><span style=\"color: #000080\">INFO    </span> Start Training: Epoch <span style=\"color: #000080; font-weight: bold\">20</span>                                   <a href=\"file:///home/j-gunmo/desktop/00.my-project/17.P-Stage-T1003/4-STAGE/trainer.py\"><span style=\"color: #7f7f7f\">trainer.py</span></a><span style=\"color: #7f7f7f\">:409</span>\n",
       "</pre>\n"
      ],
      "text/plain": [
       "<rich.jupyter.JupyterRenderable at 0x7fa9442c6bb0>"
      ]
     },
     "metadata": {},
     "output_type": "display_data"
    },
    {
     "name": "stdout",
     "output_type": "stream",
     "text": [
      "Training steps: 0 Loss: 0.5436710715293884\n",
      "Training steps: 50 Loss: 0.5600281953811646\n",
      "Training steps: 100 Loss: 0.501496434211731\n",
      "VALID AUC : 0.7814843583839617 ACC : 0.711499493414387\n",
      "\n"
     ]
    },
    {
     "data": {
      "text/html": [
       "<pre style=\"white-space:pre;overflow-x:auto;line-height:normal;font-family:Menlo,'DejaVu Sans Mono',consolas,'Courier New',monospace\"><span style=\"color: #7fbfbf\">[13:04:45] </span><span style=\"color: #000080\">INFO    </span> TRAIN_LOSS: <span style=\"color: #000080; font-weight: bold\">0.5625953078269958</span>                             <a href=\"file:///home/j-gunmo/desktop/00.my-project/17.P-Stage-T1003/4-STAGE/trainer.py\"><span style=\"color: #7f7f7f\">trainer.py</span></a><span style=\"color: #7f7f7f\">:425</span>\n",
       "</pre>\n"
      ],
      "text/plain": [
       "<rich.jupyter.JupyterRenderable at 0x7fa9442c6f10>"
      ]
     },
     "metadata": {},
     "output_type": "display_data"
    },
    {
     "data": {
      "text/html": [
       "<pre style=\"white-space:pre;overflow-x:auto;line-height:normal;font-family:Menlo,'DejaVu Sans Mono',consolas,'Courier New',monospace\"><span style=\"color: #7fbfbf\">           </span><span style=\"color: #000080\">INFO    </span> TRAIN AUC: <span style=\"color: #000080; font-weight: bold\">0.7826857045705332</span> TRAIN ACC: <span style=\"color: #000080; font-weight: bold\">0.716800709264771</span> <a href=\"file:///home/j-gunmo/desktop/00.my-project/17.P-Stage-T1003/4-STAGE/trainer.py\"><span style=\"color: #7f7f7f\">trainer.py</span></a><span style=\"color: #7f7f7f\">:426</span>\n",
       "</pre>\n"
      ],
      "text/plain": [
       "<rich.jupyter.JupyterRenderable at 0x7fa944c7c640>"
      ]
     },
     "metadata": {},
     "output_type": "display_data"
    },
    {
     "data": {
      "text/html": [
       "<pre style=\"white-space:pre;overflow-x:auto;line-height:normal;font-family:Menlo,'DejaVu Sans Mono',consolas,'Courier New',monospace\"><span style=\"color: #7fbfbf\">           </span><span style=\"color: #000080\">INFO    </span> VALID AUC: <span style=\"color: #000080; font-weight: bold\">0.7814843583839617</span> VALID ACC: <span style=\"color: #000080; font-weight: bold\">0.711499493414387</span> <a href=\"file:///home/j-gunmo/desktop/00.my-project/17.P-Stage-T1003/4-STAGE/trainer.py\"><span style=\"color: #7f7f7f\">trainer.py</span></a><span style=\"color: #7f7f7f\">:427</span>\n",
       "                                                                                             \n",
       "</pre>\n"
      ],
      "text/plain": [
       "<rich.jupyter.JupyterRenderable at 0x7fa950b11dc0>"
      ]
     },
     "metadata": {},
     "output_type": "display_data"
    },
    {
     "data": {
      "text/html": [
       "<pre style=\"white-space:pre;overflow-x:auto;line-height:normal;font-family:Menlo,'DejaVu Sans Mono',consolas,'Courier New',monospace\"><span style=\"color: #7fbfbf\">           </span><span style=\"color: #000080\">INFO    </span> EarlyStopping counter: <span style=\"color: #000080; font-weight: bold\">4</span>                                   <a href=\"file:///home/j-gunmo/desktop/00.my-project/17.P-Stage-T1003/4-STAGE/trainer.py\"><span style=\"color: #7f7f7f\">trainer.py</span></a><span style=\"color: #7f7f7f\">:435</span>\n",
       "</pre>\n"
      ],
      "text/plain": [
       "<rich.jupyter.JupyterRenderable at 0x7fa944c80d90>"
      ]
     },
     "metadata": {},
     "output_type": "display_data"
    },
    {
     "data": {
      "text/html": [
       "Finishing last run (ID:2ihmgo08) before initializing another..."
      ],
      "text/plain": [
       "<IPython.core.display.HTML object>"
      ]
     },
     "metadata": {},
     "output_type": "display_data"
    },
    {
     "data": {
      "text/html": [
       "<br/>Waiting for W&B process to finish, PID 39802<br/>Program ended successfully."
      ],
      "text/plain": [
       "<IPython.core.display.HTML object>"
      ]
     },
     "metadata": {},
     "output_type": "display_data"
    },
    {
     "data": {
      "application/vnd.jupyter.widget-view+json": {
       "model_id": "cf43224f49c34e66bf4073c4415f65cb",
       "version_major": 2,
       "version_minor": 0
      },
      "text/plain": [
       "VBox(children=(Label(value=' 5.91MB of 5.91MB uploaded (0.00MB deduped)\\r'), FloatProgress(value=1.0, max=1.0)…"
      ]
     },
     "metadata": {},
     "output_type": "display_data"
    },
    {
     "data": {
      "text/html": [
       "Find user logs for this run at: <code>/home/j-gunmo/desktop/00.my-project/17.P-Stage-T1003/4-STAGE/notebook/wandb/run-20210614_130216-2ihmgo08/logs/debug.log</code>"
      ],
      "text/plain": [
       "<IPython.core.display.HTML object>"
      ]
     },
     "metadata": {},
     "output_type": "display_data"
    },
    {
     "data": {
      "text/html": [
       "Find internal logs for this run at: <code>/home/j-gunmo/desktop/00.my-project/17.P-Stage-T1003/4-STAGE/notebook/wandb/run-20210614_130216-2ihmgo08/logs/debug-internal.log</code>"
      ],
      "text/plain": [
       "<IPython.core.display.HTML object>"
      ]
     },
     "metadata": {},
     "output_type": "display_data"
    },
    {
     "data": {
      "text/html": [
       "<h3>Run summary:</h3><br/><style>\n",
       "    table.wandb td:nth-child(1) { padding: 0 10px; text-align: right }\n",
       "    </style><table class=\"wandb\">\n",
       "<tr><td>epoch</td><td>19</td></tr><tr><td>train_loss</td><td>0.5626</td></tr><tr><td>train_auc</td><td>0.78269</td></tr><tr><td>train_acc</td><td>0.7168</td></tr><tr><td>valid_auc</td><td>0.78148</td></tr><tr><td>valid_acc</td><td>0.7115</td></tr><tr><td>_runtime</td><td>146</td></tr><tr><td>_timestamp</td><td>1623643485</td></tr><tr><td>_step</td><td>19</td></tr></table>"
      ],
      "text/plain": [
       "<IPython.core.display.HTML object>"
      ]
     },
     "metadata": {},
     "output_type": "display_data"
    },
    {
     "data": {
      "text/html": [
       "<h3>Run history:</h3><br/><style>\n",
       "    table.wandb td:nth-child(1) { padding: 0 10px; text-align: right }\n",
       "    </style><table class=\"wandb\">\n",
       "<tr><td>epoch</td><td>▁▁▂▂▂▃▃▄▄▄▅▅▅▆▆▇▇▇██</td></tr><tr><td>train_loss</td><td>█▄▃▂▂▂▂▂▂▁▁▁▁▁▁▁▁▁▁▁</td></tr><tr><td>train_auc</td><td>▁▅▆▇▇▇▇▇▇███████████</td></tr><tr><td>train_acc</td><td>▁▅▆▇▆▆▇▇▇▇▇▇█▇███▇▇█</td></tr><tr><td>valid_auc</td><td>▁▄▆▆▆█▇▇▇████▇█████▇</td></tr><tr><td>valid_acc</td><td>▄▅▁▆▇█▇▇▇▇▇▇▆▆▆▆█▇█▇</td></tr><tr><td>_runtime</td><td>▁▁▂▂▃▃▃▄▄▄▅▅▅▆▆▇▇▇██</td></tr><tr><td>_timestamp</td><td>▁▁▂▂▃▃▃▄▄▄▅▅▅▆▆▇▇▇██</td></tr><tr><td>_step</td><td>▁▁▂▂▂▃▃▄▄▄▅▅▅▆▆▇▇▇██</td></tr></table><br/>"
      ],
      "text/plain": [
       "<IPython.core.display.HTML object>"
      ]
     },
     "metadata": {},
     "output_type": "display_data"
    },
    {
     "data": {
      "text/html": [
       "Synced 6 W&B file(s), 1 media file(s), 0 artifact file(s) and 2 other file(s)"
      ],
      "text/plain": [
       "<IPython.core.display.HTML object>"
      ]
     },
     "metadata": {},
     "output_type": "display_data"
    },
    {
     "data": {
      "text/html": [
       "\n",
       "                    <br/>Synced <strong style=\"color:#cdcd00\">electric-rain-510</strong>: <a href=\"https://wandb.ai/ggm1207/p-stage-4/runs/2ihmgo08\" target=\"_blank\">https://wandb.ai/ggm1207/p-stage-4/runs/2ihmgo08</a><br/>\n",
       "                "
      ],
      "text/plain": [
       "<IPython.core.display.HTML object>"
      ]
     },
     "metadata": {},
     "output_type": "display_data"
    },
    {
     "data": {
      "text/html": [
       "...Successfully finished last run (ID:2ihmgo08). Initializing new run:<br/><br/>"
      ],
      "text/plain": [
       "<IPython.core.display.HTML object>"
      ]
     },
     "metadata": {},
     "output_type": "display_data"
    },
    {
     "name": "stderr",
     "output_type": "stream",
     "text": [
      "\u001b[34m\u001b[1mwandb\u001b[0m: wandb version 0.10.32 is available!  To upgrade, please run:\n",
      "\u001b[34m\u001b[1mwandb\u001b[0m:  $ pip install wandb --upgrade\n"
     ]
    },
    {
     "data": {
      "text/html": [
       "\n",
       "                Tracking run with wandb version 0.10.27<br/>\n",
       "                Syncing run <strong style=\"color:#cdcd00\">volcanic-plant-511</strong> to <a href=\"https://wandb.ai\" target=\"_blank\">Weights & Biases</a> <a href=\"https://docs.wandb.com/integrations/jupyter.html\" target=\"_blank\">(Documentation)</a>.<br/>\n",
       "                Project page: <a href=\"https://wandb.ai/ggm1207/p-stage-4\" target=\"_blank\">https://wandb.ai/ggm1207/p-stage-4</a><br/>\n",
       "                Run page: <a href=\"https://wandb.ai/ggm1207/p-stage-4/runs/38yk3w05\" target=\"_blank\">https://wandb.ai/ggm1207/p-stage-4/runs/38yk3w05</a><br/>\n",
       "                Run data is saved locally in <code>/home/j-gunmo/desktop/00.my-project/17.P-Stage-T1003/4-STAGE/notebook/wandb/run-20210614_130445-38yk3w05</code><br/><br/>\n",
       "            "
      ],
      "text/plain": [
       "<IPython.core.display.HTML object>"
      ]
     },
     "metadata": {},
     "output_type": "display_data"
    },
    {
     "data": {
      "text/html": [
       "<pre style=\"white-space:pre;overflow-x:auto;line-height:normal;font-family:Menlo,'DejaVu Sans Mono',consolas,'Courier New',monospace\"><span style=\"color: #7fbfbf\">[13:04:51] </span><span style=\"color: #000080\">INFO    </span> Start Training: Epoch <span style=\"color: #000080; font-weight: bold\">1</span>                                    <a href=\"file:///home/j-gunmo/desktop/00.my-project/17.P-Stage-T1003/4-STAGE/trainer.py\"><span style=\"color: #7f7f7f\">trainer.py</span></a><span style=\"color: #7f7f7f\">:409</span>\n",
       "</pre>\n"
      ],
      "text/plain": [
       "<rich.jupyter.JupyterRenderable at 0x7fa950b143d0>"
      ]
     },
     "metadata": {},
     "output_type": "display_data"
    },
    {
     "name": "stdout",
     "output_type": "stream",
     "text": [
      "Training steps: 0 Loss: 0.6926342248916626\n",
      "Training steps: 50 Loss: 0.5687990188598633\n",
      "Training steps: 100 Loss: 0.5877044200897217\n",
      "VALID AUC : 0.7770054937651348 ACC : 0.71403242147923\n",
      "\n"
     ]
    },
    {
     "data": {
      "text/html": [
       "<pre style=\"white-space:pre;overflow-x:auto;line-height:normal;font-family:Menlo,'DejaVu Sans Mono',consolas,'Courier New',monospace\"><span style=\"color: #7fbfbf\">[13:04:59] </span><span style=\"color: #000080\">INFO    </span> TRAIN_LOSS: <span style=\"color: #000080; font-weight: bold\">0.5972601175308228</span>                             <a href=\"file:///home/j-gunmo/desktop/00.my-project/17.P-Stage-T1003/4-STAGE/trainer.py\"><span style=\"color: #7f7f7f\">trainer.py</span></a><span style=\"color: #7f7f7f\">:425</span>\n",
       "</pre>\n"
      ],
      "text/plain": [
       "<rich.jupyter.JupyterRenderable at 0x7fa9442c4340>"
      ]
     },
     "metadata": {},
     "output_type": "display_data"
    },
    {
     "data": {
      "text/html": [
       "<pre style=\"white-space:pre;overflow-x:auto;line-height:normal;font-family:Menlo,'DejaVu Sans Mono',consolas,'Courier New',monospace\"><span style=\"color: #7fbfbf\">           </span><span style=\"color: #000080\">INFO    </span> TRAIN AUC: <span style=\"color: #000080; font-weight: bold\">0.7462094371605679</span> TRAIN ACC:                   <a href=\"file:///home/j-gunmo/desktop/00.my-project/17.P-Stage-T1003/4-STAGE/trainer.py\"><span style=\"color: #7f7f7f\">trainer.py</span></a><span style=\"color: #7f7f7f\">:426</span>\n",
       "                    <span style=\"color: #000080; font-weight: bold\">0.6935596225698183</span>                                                       \n",
       "</pre>\n"
      ],
      "text/plain": [
       "<rich.jupyter.JupyterRenderable at 0x7fa944a97640>"
      ]
     },
     "metadata": {},
     "output_type": "display_data"
    },
    {
     "data": {
      "text/html": [
       "<pre style=\"white-space:pre;overflow-x:auto;line-height:normal;font-family:Menlo,'DejaVu Sans Mono',consolas,'Courier New',monospace\"><span style=\"color: #7fbfbf\">           </span><span style=\"color: #000080\">INFO    </span> VALID AUC: <span style=\"color: #000080; font-weight: bold\">0.7770054937651348</span> VALID ACC: <span style=\"color: #000080; font-weight: bold\">0.71403242147923</span>  <a href=\"file:///home/j-gunmo/desktop/00.my-project/17.P-Stage-T1003/4-STAGE/trainer.py\"><span style=\"color: #7f7f7f\">trainer.py</span></a><span style=\"color: #7f7f7f\">:427</span>\n",
       "                                                                                             \n",
       "</pre>\n"
      ],
      "text/plain": [
       "<rich.jupyter.JupyterRenderable at 0x7fa93ea96af0>"
      ]
     },
     "metadata": {},
     "output_type": "display_data"
    },
    {
     "data": {
      "text/html": [
       "<pre style=\"white-space:pre;overflow-x:auto;line-height:normal;font-family:Menlo,'DejaVu Sans Mono',consolas,'Courier New',monospace\"><span style=\"color: #7fbfbf\">           </span><span style=\"color: #000080\">INFO    </span> Start Training: Epoch <span style=\"color: #000080; font-weight: bold\">2</span>                                    <a href=\"file:///home/j-gunmo/desktop/00.my-project/17.P-Stage-T1003/4-STAGE/trainer.py\"><span style=\"color: #7f7f7f\">trainer.py</span></a><span style=\"color: #7f7f7f\">:409</span>\n",
       "</pre>\n"
      ],
      "text/plain": [
       "<rich.jupyter.JupyterRenderable at 0x7fa94655e340>"
      ]
     },
     "metadata": {},
     "output_type": "display_data"
    },
    {
     "name": "stdout",
     "output_type": "stream",
     "text": [
      "Training steps: 0 Loss: 0.598274290561676\n",
      "Training steps: 50 Loss: 0.5735397934913635\n",
      "Training steps: 100 Loss: 0.5986031889915466\n",
      "VALID AUC : 0.7817929360010368 ACC : 0.7165653495440729\n",
      "\n"
     ]
    },
    {
     "data": {
      "text/html": [
       "<pre style=\"white-space:pre;overflow-x:auto;line-height:normal;font-family:Menlo,'DejaVu Sans Mono',consolas,'Courier New',monospace\"><span style=\"color: #7fbfbf\">[13:05:06] </span><span style=\"color: #000080\">INFO    </span> TRAIN_LOSS: <span style=\"color: #000080; font-weight: bold\">0.5754896998405457</span>                             <a href=\"file:///home/j-gunmo/desktop/00.my-project/17.P-Stage-T1003/4-STAGE/trainer.py\"><span style=\"color: #7f7f7f\">trainer.py</span></a><span style=\"color: #7f7f7f\">:425</span>\n",
       "</pre>\n"
      ],
      "text/plain": [
       "<rich.jupyter.JupyterRenderable at 0x7fa964ee2820>"
      ]
     },
     "metadata": {},
     "output_type": "display_data"
    },
    {
     "data": {
      "text/html": [
       "<pre style=\"white-space:pre;overflow-x:auto;line-height:normal;font-family:Menlo,'DejaVu Sans Mono',consolas,'Courier New',monospace\"><span style=\"color: #7fbfbf\">           </span><span style=\"color: #000080\">INFO    </span> TRAIN AUC: <span style=\"color: #000080; font-weight: bold\">0.7680640761821935</span> TRAIN ACC:                   <a href=\"file:///home/j-gunmo/desktop/00.my-project/17.P-Stage-T1003/4-STAGE/trainer.py\"><span style=\"color: #7f7f7f\">trainer.py</span></a><span style=\"color: #7f7f7f\">:426</span>\n",
       "                    <span style=\"color: #000080; font-weight: bold\">0.7048951934646317</span>                                                       \n",
       "</pre>\n"
      ],
      "text/plain": [
       "<rich.jupyter.JupyterRenderable at 0x7fa964ee7220>"
      ]
     },
     "metadata": {},
     "output_type": "display_data"
    },
    {
     "data": {
      "text/html": [
       "<pre style=\"white-space:pre;overflow-x:auto;line-height:normal;font-family:Menlo,'DejaVu Sans Mono',consolas,'Courier New',monospace\"><span style=\"color: #7fbfbf\">           </span><span style=\"color: #000080\">INFO    </span> VALID AUC: <span style=\"color: #000080; font-weight: bold\">0.7817929360010368</span> VALID ACC:                   <a href=\"file:///home/j-gunmo/desktop/00.my-project/17.P-Stage-T1003/4-STAGE/trainer.py\"><span style=\"color: #7f7f7f\">trainer.py</span></a><span style=\"color: #7f7f7f\">:427</span>\n",
       "                    <span style=\"color: #000080; font-weight: bold\">0.7165653495440729</span>                                                       \n",
       "                                                                                             \n",
       "</pre>\n"
      ],
      "text/plain": [
       "<rich.jupyter.JupyterRenderable at 0x7fa943c5a2e0>"
      ]
     },
     "metadata": {},
     "output_type": "display_data"
    },
    {
     "data": {
      "text/html": [
       "<pre style=\"white-space:pre;overflow-x:auto;line-height:normal;font-family:Menlo,'DejaVu Sans Mono',consolas,'Courier New',monospace\"><span style=\"color: #7fbfbf\">           </span><span style=\"color: #000080\">INFO    </span> Start Training: Epoch <span style=\"color: #000080; font-weight: bold\">3</span>                                    <a href=\"file:///home/j-gunmo/desktop/00.my-project/17.P-Stage-T1003/4-STAGE/trainer.py\"><span style=\"color: #7f7f7f\">trainer.py</span></a><span style=\"color: #7f7f7f\">:409</span>\n",
       "</pre>\n"
      ],
      "text/plain": [
       "<rich.jupyter.JupyterRenderable at 0x7fa964ee72e0>"
      ]
     },
     "metadata": {},
     "output_type": "display_data"
    },
    {
     "name": "stdout",
     "output_type": "stream",
     "text": [
      "Training steps: 0 Loss: 0.6041520237922668\n",
      "Training steps: 50 Loss: 0.6107185482978821\n",
      "Training steps: 100 Loss: 0.6402684450149536\n",
      "VALID AUC : 0.7856438330850167 ACC : 0.7203647416413373\n",
      "\n"
     ]
    },
    {
     "data": {
      "text/html": [
       "<pre style=\"white-space:pre;overflow-x:auto;line-height:normal;font-family:Menlo,'DejaVu Sans Mono',consolas,'Courier New',monospace\"><span style=\"color: #7fbfbf\">[13:05:13] </span><span style=\"color: #000080\">INFO    </span> TRAIN_LOSS: <span style=\"color: #000080; font-weight: bold\">0.5713058710098267</span>                             <a href=\"file:///home/j-gunmo/desktop/00.my-project/17.P-Stage-T1003/4-STAGE/trainer.py\"><span style=\"color: #7f7f7f\">trainer.py</span></a><span style=\"color: #7f7f7f\">:425</span>\n",
       "</pre>\n"
      ],
      "text/plain": [
       "<rich.jupyter.JupyterRenderable at 0x7fa950b14400>"
      ]
     },
     "metadata": {},
     "output_type": "display_data"
    },
    {
     "data": {
      "text/html": [
       "<pre style=\"white-space:pre;overflow-x:auto;line-height:normal;font-family:Menlo,'DejaVu Sans Mono',consolas,'Courier New',monospace\"><span style=\"color: #7fbfbf\">           </span><span style=\"color: #000080\">INFO    </span> TRAIN AUC: <span style=\"color: #000080; font-weight: bold\">0.7731300409416959</span> TRAIN ACC:                   <a href=\"file:///home/j-gunmo/desktop/00.my-project/17.P-Stage-T1003/4-STAGE/trainer.py\"><span style=\"color: #7f7f7f\">trainer.py</span></a><span style=\"color: #7f7f7f\">:426</span>\n",
       "                    <span style=\"color: #000080; font-weight: bold\">0.7045785574061174</span>                                                       \n",
       "</pre>\n"
      ],
      "text/plain": [
       "<rich.jupyter.JupyterRenderable at 0x7fa943c5a2e0>"
      ]
     },
     "metadata": {},
     "output_type": "display_data"
    },
    {
     "data": {
      "text/html": [
       "<pre style=\"white-space:pre;overflow-x:auto;line-height:normal;font-family:Menlo,'DejaVu Sans Mono',consolas,'Courier New',monospace\"><span style=\"color: #7fbfbf\">           </span><span style=\"color: #000080\">INFO    </span> VALID AUC: <span style=\"color: #000080; font-weight: bold\">0.7856438330850167</span> VALID ACC:                   <a href=\"file:///home/j-gunmo/desktop/00.my-project/17.P-Stage-T1003/4-STAGE/trainer.py\"><span style=\"color: #7f7f7f\">trainer.py</span></a><span style=\"color: #7f7f7f\">:427</span>\n",
       "                    <span style=\"color: #000080; font-weight: bold\">0.7203647416413373</span>                                                       \n",
       "                                                                                             \n",
       "</pre>\n"
      ],
      "text/plain": [
       "<rich.jupyter.JupyterRenderable at 0x7fa964ee7220>"
      ]
     },
     "metadata": {},
     "output_type": "display_data"
    },
    {
     "data": {
      "text/html": [
       "<pre style=\"white-space:pre;overflow-x:auto;line-height:normal;font-family:Menlo,'DejaVu Sans Mono',consolas,'Courier New',monospace\"><span style=\"color: #7fbfbf\">[13:05:14] </span><span style=\"color: #000080\">INFO    </span> Start Training: Epoch <span style=\"color: #000080; font-weight: bold\">4</span>                                    <a href=\"file:///home/j-gunmo/desktop/00.my-project/17.P-Stage-T1003/4-STAGE/trainer.py\"><span style=\"color: #7f7f7f\">trainer.py</span></a><span style=\"color: #7f7f7f\">:409</span>\n",
       "</pre>\n"
      ],
      "text/plain": [
       "<rich.jupyter.JupyterRenderable at 0x7fa9512dfee0>"
      ]
     },
     "metadata": {},
     "output_type": "display_data"
    },
    {
     "name": "stdout",
     "output_type": "stream",
     "text": [
      "Training steps: 0 Loss: 0.508784830570221\n",
      "Training steps: 50 Loss: 0.5759673118591309\n",
      "Training steps: 100 Loss: 0.6266924142837524\n",
      "VALID AUC : 0.7854798286037675 ACC : 0.7211246200607903\n",
      "\n"
     ]
    },
    {
     "data": {
      "text/html": [
       "<pre style=\"white-space:pre;overflow-x:auto;line-height:normal;font-family:Menlo,'DejaVu Sans Mono',consolas,'Courier New',monospace\"><span style=\"color: #7fbfbf\">[13:05:20] </span><span style=\"color: #000080\">INFO    </span> TRAIN_LOSS: <span style=\"color: #000080; font-weight: bold\">0.5686385035514832</span>                             <a href=\"file:///home/j-gunmo/desktop/00.my-project/17.P-Stage-T1003/4-STAGE/trainer.py\"><span style=\"color: #7f7f7f\">trainer.py</span></a><span style=\"color: #7f7f7f\">:425</span>\n",
       "</pre>\n"
      ],
      "text/plain": [
       "<rich.jupyter.JupyterRenderable at 0x7fa964ee7220>"
      ]
     },
     "metadata": {},
     "output_type": "display_data"
    },
    {
     "data": {
      "text/html": [
       "<pre style=\"white-space:pre;overflow-x:auto;line-height:normal;font-family:Menlo,'DejaVu Sans Mono',consolas,'Courier New',monospace\"><span style=\"color: #7fbfbf\">           </span><span style=\"color: #000080\">INFO    </span> TRAIN AUC: <span style=\"color: #000080; font-weight: bold\">0.7756419521125404</span> TRAIN ACC:                   <a href=\"file:///home/j-gunmo/desktop/00.my-project/17.P-Stage-T1003/4-STAGE/trainer.py\"><span style=\"color: #7f7f7f\">trainer.py</span></a><span style=\"color: #7f7f7f\">:426</span>\n",
       "                    <span style=\"color: #000080; font-weight: bold\">0.7102780064593756</span>                                                       \n",
       "</pre>\n"
      ],
      "text/plain": [
       "<rich.jupyter.JupyterRenderable at 0x7fa943c49be0>"
      ]
     },
     "metadata": {},
     "output_type": "display_data"
    },
    {
     "data": {
      "text/html": [
       "<pre style=\"white-space:pre;overflow-x:auto;line-height:normal;font-family:Menlo,'DejaVu Sans Mono',consolas,'Courier New',monospace\"><span style=\"color: #7fbfbf\">           </span><span style=\"color: #000080\">INFO    </span> VALID AUC: <span style=\"color: #000080; font-weight: bold\">0.7854798286037675</span> VALID ACC:                   <a href=\"file:///home/j-gunmo/desktop/00.my-project/17.P-Stage-T1003/4-STAGE/trainer.py\"><span style=\"color: #7f7f7f\">trainer.py</span></a><span style=\"color: #7f7f7f\">:427</span>\n",
       "                    <span style=\"color: #000080; font-weight: bold\">0.7211246200607903</span>                                                       \n",
       "                                                                                             \n",
       "</pre>\n"
      ],
      "text/plain": [
       "<rich.jupyter.JupyterRenderable at 0x7fa944a97a00>"
      ]
     },
     "metadata": {},
     "output_type": "display_data"
    },
    {
     "data": {
      "text/html": [
       "<pre style=\"white-space:pre;overflow-x:auto;line-height:normal;font-family:Menlo,'DejaVu Sans Mono',consolas,'Courier New',monospace\"><span style=\"color: #7fbfbf\">           </span><span style=\"color: #000080\">INFO    </span> EarlyStopping counter: <span style=\"color: #000080; font-weight: bold\">1</span>                                   <a href=\"file:///home/j-gunmo/desktop/00.my-project/17.P-Stage-T1003/4-STAGE/trainer.py\"><span style=\"color: #7f7f7f\">trainer.py</span></a><span style=\"color: #7f7f7f\">:435</span>\n",
       "</pre>\n"
      ],
      "text/plain": [
       "<rich.jupyter.JupyterRenderable at 0x7fa944a975e0>"
      ]
     },
     "metadata": {},
     "output_type": "display_data"
    },
    {
     "data": {
      "text/html": [
       "<pre style=\"white-space:pre;overflow-x:auto;line-height:normal;font-family:Menlo,'DejaVu Sans Mono',consolas,'Courier New',monospace\"><span style=\"color: #7fbfbf\">           </span><span style=\"color: #000080\">INFO    </span> Start Training: Epoch <span style=\"color: #000080; font-weight: bold\">5</span>                                    <a href=\"file:///home/j-gunmo/desktop/00.my-project/17.P-Stage-T1003/4-STAGE/trainer.py\"><span style=\"color: #7f7f7f\">trainer.py</span></a><span style=\"color: #7f7f7f\">:409</span>\n",
       "</pre>\n"
      ],
      "text/plain": [
       "<rich.jupyter.JupyterRenderable at 0x7fa9442c41f0>"
      ]
     },
     "metadata": {},
     "output_type": "display_data"
    },
    {
     "name": "stdout",
     "output_type": "stream",
     "text": [
      "Training steps: 0 Loss: 0.5312784910202026\n",
      "Training steps: 50 Loss: 0.6370711326599121\n",
      "Training steps: 100 Loss: 0.5892148017883301\n",
      "VALID AUC : 0.786339889662713 ACC : 0.7160587639311043\n",
      "\n"
     ]
    },
    {
     "data": {
      "text/html": [
       "<pre style=\"white-space:pre;overflow-x:auto;line-height:normal;font-family:Menlo,'DejaVu Sans Mono',consolas,'Courier New',monospace\"><span style=\"color: #7fbfbf\">[13:05:27] </span><span style=\"color: #000080\">INFO    </span> TRAIN_LOSS: <span style=\"color: #000080; font-weight: bold\">0.5670556426048279</span>                             <a href=\"file:///home/j-gunmo/desktop/00.my-project/17.P-Stage-T1003/4-STAGE/trainer.py\"><span style=\"color: #7f7f7f\">trainer.py</span></a><span style=\"color: #7f7f7f\">:425</span>\n",
       "</pre>\n"
      ],
      "text/plain": [
       "<rich.jupyter.JupyterRenderable at 0x7fa964ee72e0>"
      ]
     },
     "metadata": {},
     "output_type": "display_data"
    },
    {
     "data": {
      "text/html": [
       "<pre style=\"white-space:pre;overflow-x:auto;line-height:normal;font-family:Menlo,'DejaVu Sans Mono',consolas,'Courier New',monospace\"><span style=\"color: #7fbfbf\">           </span><span style=\"color: #000080\">INFO    </span> TRAIN AUC: <span style=\"color: #000080; font-weight: bold\">0.777446100152531</span> TRAIN ACC: <span style=\"color: #000080; font-weight: bold\">0.7112279146349186</span> <a href=\"file:///home/j-gunmo/desktop/00.my-project/17.P-Stage-T1003/4-STAGE/trainer.py\"><span style=\"color: #7f7f7f\">trainer.py</span></a><span style=\"color: #7f7f7f\">:426</span>\n",
       "</pre>\n"
      ],
      "text/plain": [
       "<rich.jupyter.JupyterRenderable at 0x7fa944a97a00>"
      ]
     },
     "metadata": {},
     "output_type": "display_data"
    },
    {
     "data": {
      "text/html": [
       "<pre style=\"white-space:pre;overflow-x:auto;line-height:normal;font-family:Menlo,'DejaVu Sans Mono',consolas,'Courier New',monospace\"><span style=\"color: #7fbfbf\">           </span><span style=\"color: #000080\">INFO    </span> VALID AUC: <span style=\"color: #000080; font-weight: bold\">0.786339889662713</span> VALID ACC: <span style=\"color: #000080; font-weight: bold\">0.7160587639311043</span> <a href=\"file:///home/j-gunmo/desktop/00.my-project/17.P-Stage-T1003/4-STAGE/trainer.py\"><span style=\"color: #7f7f7f\">trainer.py</span></a><span style=\"color: #7f7f7f\">:427</span>\n",
       "                                                                                             \n",
       "</pre>\n"
      ],
      "text/plain": [
       "<rich.jupyter.JupyterRenderable at 0x7fa9512dfe80>"
      ]
     },
     "metadata": {},
     "output_type": "display_data"
    },
    {
     "data": {
      "text/html": [
       "<pre style=\"white-space:pre;overflow-x:auto;line-height:normal;font-family:Menlo,'DejaVu Sans Mono',consolas,'Courier New',monospace\"><span style=\"color: #7fbfbf\">[13:05:28] </span><span style=\"color: #000080\">INFO    </span> Start Training: Epoch <span style=\"color: #000080; font-weight: bold\">6</span>                                    <a href=\"file:///home/j-gunmo/desktop/00.my-project/17.P-Stage-T1003/4-STAGE/trainer.py\"><span style=\"color: #7f7f7f\">trainer.py</span></a><span style=\"color: #7f7f7f\">:409</span>\n",
       "</pre>\n"
      ],
      "text/plain": [
       "<rich.jupyter.JupyterRenderable at 0x7fa9512df5e0>"
      ]
     },
     "metadata": {},
     "output_type": "display_data"
    },
    {
     "name": "stdout",
     "output_type": "stream",
     "text": [
      "Training steps: 0 Loss: 0.6155085563659668\n",
      "Training steps: 50 Loss: 0.5747513771057129\n",
      "Training steps: 100 Loss: 0.5691822171211243\n",
      "VALID AUC : 0.7852531995631681 ACC : 0.7180851063829787\n",
      "\n"
     ]
    },
    {
     "data": {
      "text/html": [
       "<pre style=\"white-space:pre;overflow-x:auto;line-height:normal;font-family:Menlo,'DejaVu Sans Mono',consolas,'Courier New',monospace\"><span style=\"color: #7fbfbf\">[13:05:35] </span><span style=\"color: #000080\">INFO    </span> TRAIN_LOSS: <span style=\"color: #000080; font-weight: bold\">0.5659628510475159</span>                             <a href=\"file:///home/j-gunmo/desktop/00.my-project/17.P-Stage-T1003/4-STAGE/trainer.py\"><span style=\"color: #7f7f7f\">trainer.py</span></a><span style=\"color: #7f7f7f\">:425</span>\n",
       "</pre>\n"
      ],
      "text/plain": [
       "<rich.jupyter.JupyterRenderable at 0x7fa964ee72e0>"
      ]
     },
     "metadata": {},
     "output_type": "display_data"
    },
    {
     "data": {
      "text/html": [
       "<pre style=\"white-space:pre;overflow-x:auto;line-height:normal;font-family:Menlo,'DejaVu Sans Mono',consolas,'Courier New',monospace\"><span style=\"color: #7fbfbf\">           </span><span style=\"color: #000080\">INFO    </span> TRAIN AUC: <span style=\"color: #000080; font-weight: bold\">0.7789651449466475</span> TRAIN ACC:                   <a href=\"file:///home/j-gunmo/desktop/00.my-project/17.P-Stage-T1003/4-STAGE/trainer.py\"><span style=\"color: #7f7f7f\">trainer.py</span></a><span style=\"color: #7f7f7f\">:426</span>\n",
       "                    <span style=\"color: #000080; font-weight: bold\">0.7118611867519473</span>                                                       \n",
       "</pre>\n"
      ],
      "text/plain": [
       "<rich.jupyter.JupyterRenderable at 0x7fa943c5a250>"
      ]
     },
     "metadata": {},
     "output_type": "display_data"
    },
    {
     "data": {
      "text/html": [
       "<pre style=\"white-space:pre;overflow-x:auto;line-height:normal;font-family:Menlo,'DejaVu Sans Mono',consolas,'Courier New',monospace\"><span style=\"color: #7fbfbf\">           </span><span style=\"color: #000080\">INFO    </span> VALID AUC: <span style=\"color: #000080; font-weight: bold\">0.7852531995631681</span> VALID ACC:                   <a href=\"file:///home/j-gunmo/desktop/00.my-project/17.P-Stage-T1003/4-STAGE/trainer.py\"><span style=\"color: #7f7f7f\">trainer.py</span></a><span style=\"color: #7f7f7f\">:427</span>\n",
       "                    <span style=\"color: #000080; font-weight: bold\">0.7180851063829787</span>                                                       \n",
       "                                                                                             \n",
       "</pre>\n"
      ],
      "text/plain": [
       "<rich.jupyter.JupyterRenderable at 0x7fa944c7cbe0>"
      ]
     },
     "metadata": {},
     "output_type": "display_data"
    },
    {
     "data": {
      "text/html": [
       "<pre style=\"white-space:pre;overflow-x:auto;line-height:normal;font-family:Menlo,'DejaVu Sans Mono',consolas,'Courier New',monospace\"><span style=\"color: #7fbfbf\">           </span><span style=\"color: #000080\">INFO    </span> EarlyStopping counter: <span style=\"color: #000080; font-weight: bold\">1</span>                                   <a href=\"file:///home/j-gunmo/desktop/00.my-project/17.P-Stage-T1003/4-STAGE/trainer.py\"><span style=\"color: #7f7f7f\">trainer.py</span></a><span style=\"color: #7f7f7f\">:435</span>\n",
       "</pre>\n"
      ],
      "text/plain": [
       "<rich.jupyter.JupyterRenderable at 0x7fa964ee7220>"
      ]
     },
     "metadata": {},
     "output_type": "display_data"
    },
    {
     "data": {
      "text/html": [
       "<pre style=\"white-space:pre;overflow-x:auto;line-height:normal;font-family:Menlo,'DejaVu Sans Mono',consolas,'Courier New',monospace\"><span style=\"color: #7fbfbf\">           </span><span style=\"color: #000080\">INFO    </span> Start Training: Epoch <span style=\"color: #000080; font-weight: bold\">7</span>                                    <a href=\"file:///home/j-gunmo/desktop/00.my-project/17.P-Stage-T1003/4-STAGE/trainer.py\"><span style=\"color: #7f7f7f\">trainer.py</span></a><span style=\"color: #7f7f7f\">:409</span>\n",
       "</pre>\n"
      ],
      "text/plain": [
       "<rich.jupyter.JupyterRenderable at 0x7fa943c5a040>"
      ]
     },
     "metadata": {},
     "output_type": "display_data"
    },
    {
     "name": "stdout",
     "output_type": "stream",
     "text": [
      "Training steps: 0 Loss: 0.565617024898529\n",
      "Training steps: 50 Loss: 0.5301616787910461\n",
      "Training steps: 100 Loss: 0.5788697600364685\n",
      "VALID AUC : 0.7878913874548121 ACC : 0.7226443768996961\n",
      "\n"
     ]
    },
    {
     "data": {
      "text/html": [
       "<pre style=\"white-space:pre;overflow-x:auto;line-height:normal;font-family:Menlo,'DejaVu Sans Mono',consolas,'Courier New',monospace\"><span style=\"color: #7fbfbf\">[13:05:42] </span><span style=\"color: #000080\">INFO    </span> TRAIN_LOSS: <span style=\"color: #000080; font-weight: bold\">0.5663521885871887</span>                             <a href=\"file:///home/j-gunmo/desktop/00.my-project/17.P-Stage-T1003/4-STAGE/trainer.py\"><span style=\"color: #7f7f7f\">trainer.py</span></a><span style=\"color: #7f7f7f\">:425</span>\n",
       "</pre>\n"
      ],
      "text/plain": [
       "<rich.jupyter.JupyterRenderable at 0x7fa944aa72e0>"
      ]
     },
     "metadata": {},
     "output_type": "display_data"
    },
    {
     "data": {
      "text/html": [
       "<pre style=\"white-space:pre;overflow-x:auto;line-height:normal;font-family:Menlo,'DejaVu Sans Mono',consolas,'Courier New',monospace\"><span style=\"color: #7fbfbf\">           </span><span style=\"color: #000080\">INFO    </span> TRAIN AUC: <span style=\"color: #000080; font-weight: bold\">0.7781353758251512</span> TRAIN ACC:                   <a href=\"file:///home/j-gunmo/desktop/00.my-project/17.P-Stage-T1003/4-STAGE/trainer.py\"><span style=\"color: #7f7f7f\">trainer.py</span></a><span style=\"color: #7f7f7f\">:426</span>\n",
       "                    <span style=\"color: #000080; font-weight: bold\">0.7106579697295928</span>                                                       \n",
       "</pre>\n"
      ],
      "text/plain": [
       "<rich.jupyter.JupyterRenderable at 0x7fa94655eb20>"
      ]
     },
     "metadata": {},
     "output_type": "display_data"
    },
    {
     "data": {
      "text/html": [
       "<pre style=\"white-space:pre;overflow-x:auto;line-height:normal;font-family:Menlo,'DejaVu Sans Mono',consolas,'Courier New',monospace\"><span style=\"color: #7fbfbf\">           </span><span style=\"color: #000080\">INFO    </span> VALID AUC: <span style=\"color: #000080; font-weight: bold\">0.7878913874548121</span> VALID ACC:                   <a href=\"file:///home/j-gunmo/desktop/00.my-project/17.P-Stage-T1003/4-STAGE/trainer.py\"><span style=\"color: #7f7f7f\">trainer.py</span></a><span style=\"color: #7f7f7f\">:427</span>\n",
       "                    <span style=\"color: #000080; font-weight: bold\">0.7226443768996961</span>                                                       \n",
       "                                                                                             \n",
       "</pre>\n"
      ],
      "text/plain": [
       "<rich.jupyter.JupyterRenderable at 0x7fa964ee2d60>"
      ]
     },
     "metadata": {},
     "output_type": "display_data"
    },
    {
     "data": {
      "text/html": [
       "<pre style=\"white-space:pre;overflow-x:auto;line-height:normal;font-family:Menlo,'DejaVu Sans Mono',consolas,'Courier New',monospace\"><span style=\"color: #7fbfbf\">           </span><span style=\"color: #000080\">INFO    </span> Start Training: Epoch <span style=\"color: #000080; font-weight: bold\">8</span>                                    <a href=\"file:///home/j-gunmo/desktop/00.my-project/17.P-Stage-T1003/4-STAGE/trainer.py\"><span style=\"color: #7f7f7f\">trainer.py</span></a><span style=\"color: #7f7f7f\">:409</span>\n",
       "</pre>\n"
      ],
      "text/plain": [
       "<rich.jupyter.JupyterRenderable at 0x7fa944aa7460>"
      ]
     },
     "metadata": {},
     "output_type": "display_data"
    },
    {
     "name": "stdout",
     "output_type": "stream",
     "text": [
      "Training steps: 0 Loss: 0.597571611404419\n",
      "Training steps: 50 Loss: 0.5937321782112122\n",
      "Training steps: 100 Loss: 0.5536482334136963\n",
      "VALID AUC : 0.7863534925383094 ACC : 0.7218844984802432\n",
      "\n"
     ]
    },
    {
     "data": {
      "text/html": [
       "<pre style=\"white-space:pre;overflow-x:auto;line-height:normal;font-family:Menlo,'DejaVu Sans Mono',consolas,'Courier New',monospace\"><span style=\"color: #7fbfbf\">[13:05:49] </span><span style=\"color: #000080\">INFO    </span> TRAIN_LOSS: <span style=\"color: #000080; font-weight: bold\">0.5650960803031921</span>                             <a href=\"file:///home/j-gunmo/desktop/00.my-project/17.P-Stage-T1003/4-STAGE/trainer.py\"><span style=\"color: #7f7f7f\">trainer.py</span></a><span style=\"color: #7f7f7f\">:425</span>\n",
       "</pre>\n"
      ],
      "text/plain": [
       "<rich.jupyter.JupyterRenderable at 0x7fa94655e340>"
      ]
     },
     "metadata": {},
     "output_type": "display_data"
    },
    {
     "data": {
      "text/html": [
       "<pre style=\"white-space:pre;overflow-x:auto;line-height:normal;font-family:Menlo,'DejaVu Sans Mono',consolas,'Courier New',monospace\"><span style=\"color: #7fbfbf\">           </span><span style=\"color: #000080\">INFO    </span> TRAIN AUC: <span style=\"color: #000080; font-weight: bold\">0.7794983604737885</span> TRAIN ACC: <span style=\"color: #000080; font-weight: bold\">0.712937749350896</span> <a href=\"file:///home/j-gunmo/desktop/00.my-project/17.P-Stage-T1003/4-STAGE/trainer.py\"><span style=\"color: #7f7f7f\">trainer.py</span></a><span style=\"color: #7f7f7f\">:426</span>\n",
       "</pre>\n"
      ],
      "text/plain": [
       "<rich.jupyter.JupyterRenderable at 0x7fa9541517c0>"
      ]
     },
     "metadata": {},
     "output_type": "display_data"
    },
    {
     "data": {
      "text/html": [
       "<pre style=\"white-space:pre;overflow-x:auto;line-height:normal;font-family:Menlo,'DejaVu Sans Mono',consolas,'Courier New',monospace\"><span style=\"color: #7fbfbf\">           </span><span style=\"color: #000080\">INFO    </span> VALID AUC: <span style=\"color: #000080; font-weight: bold\">0.7863534925383094</span> VALID ACC:                   <a href=\"file:///home/j-gunmo/desktop/00.my-project/17.P-Stage-T1003/4-STAGE/trainer.py\"><span style=\"color: #7f7f7f\">trainer.py</span></a><span style=\"color: #7f7f7f\">:427</span>\n",
       "                    <span style=\"color: #000080; font-weight: bold\">0.7218844984802432</span>                                                       \n",
       "                                                                                             \n",
       "</pre>\n"
      ],
      "text/plain": [
       "<rich.jupyter.JupyterRenderable at 0x7fa954151340>"
      ]
     },
     "metadata": {},
     "output_type": "display_data"
    },
    {
     "data": {
      "text/html": [
       "<pre style=\"white-space:pre;overflow-x:auto;line-height:normal;font-family:Menlo,'DejaVu Sans Mono',consolas,'Courier New',monospace\"><span style=\"color: #7fbfbf\">           </span><span style=\"color: #000080\">INFO    </span> EarlyStopping counter: <span style=\"color: #000080; font-weight: bold\">1</span>                                   <a href=\"file:///home/j-gunmo/desktop/00.my-project/17.P-Stage-T1003/4-STAGE/trainer.py\"><span style=\"color: #7f7f7f\">trainer.py</span></a><span style=\"color: #7f7f7f\">:435</span>\n",
       "</pre>\n"
      ],
      "text/plain": [
       "<rich.jupyter.JupyterRenderable at 0x7fa954151d90>"
      ]
     },
     "metadata": {},
     "output_type": "display_data"
    },
    {
     "data": {
      "text/html": [
       "<pre style=\"white-space:pre;overflow-x:auto;line-height:normal;font-family:Menlo,'DejaVu Sans Mono',consolas,'Courier New',monospace\"><span style=\"color: #7fbfbf\">           </span><span style=\"color: #000080\">INFO    </span> Start Training: Epoch <span style=\"color: #000080; font-weight: bold\">9</span>                                    <a href=\"file:///home/j-gunmo/desktop/00.my-project/17.P-Stage-T1003/4-STAGE/trainer.py\"><span style=\"color: #7f7f7f\">trainer.py</span></a><span style=\"color: #7f7f7f\">:409</span>\n",
       "</pre>\n"
      ],
      "text/plain": [
       "<rich.jupyter.JupyterRenderable at 0x7fa951c4c940>"
      ]
     },
     "metadata": {},
     "output_type": "display_data"
    },
    {
     "name": "stdout",
     "output_type": "stream",
     "text": [
      "Training steps: 0 Loss: 0.5318087339401245\n",
      "Training steps: 50 Loss: 0.5684150457382202\n",
      "Training steps: 100 Loss: 0.542328417301178\n",
      "VALID AUC : 0.7851341102371905 ACC : 0.7178318135764944\n",
      "\n"
     ]
    },
    {
     "data": {
      "text/html": [
       "<pre style=\"white-space:pre;overflow-x:auto;line-height:normal;font-family:Menlo,'DejaVu Sans Mono',consolas,'Courier New',monospace\"><span style=\"color: #7fbfbf\">[13:05:56] </span><span style=\"color: #000080\">INFO    </span> TRAIN_LOSS: <span style=\"color: #000080; font-weight: bold\">0.5654569864273071</span>                             <a href=\"file:///home/j-gunmo/desktop/00.my-project/17.P-Stage-T1003/4-STAGE/trainer.py\"><span style=\"color: #7f7f7f\">trainer.py</span></a><span style=\"color: #7f7f7f\">:425</span>\n",
       "</pre>\n"
      ],
      "text/plain": [
       "<rich.jupyter.JupyterRenderable at 0x7fa944aa71c0>"
      ]
     },
     "metadata": {},
     "output_type": "display_data"
    },
    {
     "data": {
      "text/html": [
       "<pre style=\"white-space:pre;overflow-x:auto;line-height:normal;font-family:Menlo,'DejaVu Sans Mono',consolas,'Courier New',monospace\"><span style=\"color: #7fbfbf\">           </span><span style=\"color: #000080\">INFO    </span> TRAIN AUC: <span style=\"color: #000080; font-weight: bold\">0.7792834116755424</span> TRAIN ACC:                   <a href=\"file:///home/j-gunmo/desktop/00.my-project/17.P-Stage-T1003/4-STAGE/trainer.py\"><span style=\"color: #7f7f7f\">trainer.py</span></a><span style=\"color: #7f7f7f\">:426</span>\n",
       "                    <span style=\"color: #000080; font-weight: bold\">0.7147742384902793</span>                                                       \n",
       "</pre>\n"
      ],
      "text/plain": [
       "<rich.jupyter.JupyterRenderable at 0x7fa951c4c7c0>"
      ]
     },
     "metadata": {},
     "output_type": "display_data"
    },
    {
     "data": {
      "text/html": [
       "<pre style=\"white-space:pre;overflow-x:auto;line-height:normal;font-family:Menlo,'DejaVu Sans Mono',consolas,'Courier New',monospace\"><span style=\"color: #7fbfbf\">           </span><span style=\"color: #000080\">INFO    </span> VALID AUC: <span style=\"color: #000080; font-weight: bold\">0.7851341102371905</span> VALID ACC:                   <a href=\"file:///home/j-gunmo/desktop/00.my-project/17.P-Stage-T1003/4-STAGE/trainer.py\"><span style=\"color: #7f7f7f\">trainer.py</span></a><span style=\"color: #7f7f7f\">:427</span>\n",
       "                    <span style=\"color: #000080; font-weight: bold\">0.7178318135764944</span>                                                       \n",
       "                                                                                             \n",
       "</pre>\n"
      ],
      "text/plain": [
       "<rich.jupyter.JupyterRenderable at 0x7fa944a97d00>"
      ]
     },
     "metadata": {},
     "output_type": "display_data"
    },
    {
     "data": {
      "text/html": [
       "<pre style=\"white-space:pre;overflow-x:auto;line-height:normal;font-family:Menlo,'DejaVu Sans Mono',consolas,'Courier New',monospace\"><span style=\"color: #7fbfbf\">           </span><span style=\"color: #000080\">INFO    </span> EarlyStopping counter: <span style=\"color: #000080; font-weight: bold\">2</span>                                   <a href=\"file:///home/j-gunmo/desktop/00.my-project/17.P-Stage-T1003/4-STAGE/trainer.py\"><span style=\"color: #7f7f7f\">trainer.py</span></a><span style=\"color: #7f7f7f\">:435</span>\n",
       "</pre>\n"
      ],
      "text/plain": [
       "<rich.jupyter.JupyterRenderable at 0x7fa964ee2820>"
      ]
     },
     "metadata": {},
     "output_type": "display_data"
    },
    {
     "data": {
      "text/html": [
       "<pre style=\"white-space:pre;overflow-x:auto;line-height:normal;font-family:Menlo,'DejaVu Sans Mono',consolas,'Courier New',monospace\"><span style=\"color: #7fbfbf\">           </span><span style=\"color: #000080\">INFO    </span> Start Training: Epoch <span style=\"color: #000080; font-weight: bold\">10</span>                                   <a href=\"file:///home/j-gunmo/desktop/00.my-project/17.P-Stage-T1003/4-STAGE/trainer.py\"><span style=\"color: #7f7f7f\">trainer.py</span></a><span style=\"color: #7f7f7f\">:409</span>\n",
       "</pre>\n"
      ],
      "text/plain": [
       "<rich.jupyter.JupyterRenderable at 0x7fa9512df7c0>"
      ]
     },
     "metadata": {},
     "output_type": "display_data"
    },
    {
     "name": "stdout",
     "output_type": "stream",
     "text": [
      "Training steps: 0 Loss: 0.506584882736206\n",
      "Training steps: 50 Loss: 0.539682924747467\n",
      "Training steps: 100 Loss: 0.5789807438850403\n",
      "VALID AUC : 0.7857867916077956 ACC : 0.7163120567375887\n",
      "\n"
     ]
    },
    {
     "data": {
      "text/html": [
       "<pre style=\"white-space:pre;overflow-x:auto;line-height:normal;font-family:Menlo,'DejaVu Sans Mono',consolas,'Courier New',monospace\"><span style=\"color: #7fbfbf\">[13:06:04] </span><span style=\"color: #000080\">INFO    </span> TRAIN_LOSS: <span style=\"color: #000080; font-weight: bold\">0.565525472164154</span>                              <a href=\"file:///home/j-gunmo/desktop/00.my-project/17.P-Stage-T1003/4-STAGE/trainer.py\"><span style=\"color: #7f7f7f\">trainer.py</span></a><span style=\"color: #7f7f7f\">:425</span>\n",
       "</pre>\n"
      ],
      "text/plain": [
       "<rich.jupyter.JupyterRenderable at 0x7fa944a97d60>"
      ]
     },
     "metadata": {},
     "output_type": "display_data"
    },
    {
     "data": {
      "text/html": [
       "<pre style=\"white-space:pre;overflow-x:auto;line-height:normal;font-family:Menlo,'DejaVu Sans Mono',consolas,'Courier New',monospace\"><span style=\"color: #7fbfbf\">           </span><span style=\"color: #000080\">INFO    </span> TRAIN AUC: <span style=\"color: #000080; font-weight: bold\">0.779607953227501</span> TRAIN ACC: <span style=\"color: #000080; font-weight: bold\">0.7117978595402444</span> <a href=\"file:///home/j-gunmo/desktop/00.my-project/17.P-Stage-T1003/4-STAGE/trainer.py\"><span style=\"color: #7f7f7f\">trainer.py</span></a><span style=\"color: #7f7f7f\">:426</span>\n",
       "</pre>\n"
      ],
      "text/plain": [
       "<rich.jupyter.JupyterRenderable at 0x7fa944c7ce80>"
      ]
     },
     "metadata": {},
     "output_type": "display_data"
    },
    {
     "data": {
      "text/html": [
       "<pre style=\"white-space:pre;overflow-x:auto;line-height:normal;font-family:Menlo,'DejaVu Sans Mono',consolas,'Courier New',monospace\"><span style=\"color: #7fbfbf\">           </span><span style=\"color: #000080\">INFO    </span> VALID AUC: <span style=\"color: #000080; font-weight: bold\">0.7857867916077956</span> VALID ACC:                   <a href=\"file:///home/j-gunmo/desktop/00.my-project/17.P-Stage-T1003/4-STAGE/trainer.py\"><span style=\"color: #7f7f7f\">trainer.py</span></a><span style=\"color: #7f7f7f\">:427</span>\n",
       "                    <span style=\"color: #000080; font-weight: bold\">0.7163120567375887</span>                                                       \n",
       "                                                                                             \n",
       "</pre>\n"
      ],
      "text/plain": [
       "<rich.jupyter.JupyterRenderable at 0x7fa964ee2820>"
      ]
     },
     "metadata": {},
     "output_type": "display_data"
    },
    {
     "data": {
      "text/html": [
       "<pre style=\"white-space:pre;overflow-x:auto;line-height:normal;font-family:Menlo,'DejaVu Sans Mono',consolas,'Courier New',monospace\"><span style=\"color: #7fbfbf\">           </span><span style=\"color: #000080\">INFO    </span> EarlyStopping counter: <span style=\"color: #000080; font-weight: bold\">3</span>                                   <a href=\"file:///home/j-gunmo/desktop/00.my-project/17.P-Stage-T1003/4-STAGE/trainer.py\"><span style=\"color: #7f7f7f\">trainer.py</span></a><span style=\"color: #7f7f7f\">:435</span>\n",
       "</pre>\n"
      ],
      "text/plain": [
       "<rich.jupyter.JupyterRenderable at 0x7fa944aa71c0>"
      ]
     },
     "metadata": {},
     "output_type": "display_data"
    },
    {
     "data": {
      "text/html": [
       "<pre style=\"white-space:pre;overflow-x:auto;line-height:normal;font-family:Menlo,'DejaVu Sans Mono',consolas,'Courier New',monospace\"><span style=\"color: #7fbfbf\">           </span><span style=\"color: #000080\">INFO    </span> Start Training: Epoch <span style=\"color: #000080; font-weight: bold\">11</span>                                   <a href=\"file:///home/j-gunmo/desktop/00.my-project/17.P-Stage-T1003/4-STAGE/trainer.py\"><span style=\"color: #7f7f7f\">trainer.py</span></a><span style=\"color: #7f7f7f\">:409</span>\n",
       "</pre>\n"
      ],
      "text/plain": [
       "<rich.jupyter.JupyterRenderable at 0x7fa943c49be0>"
      ]
     },
     "metadata": {},
     "output_type": "display_data"
    },
    {
     "name": "stdout",
     "output_type": "stream",
     "text": [
      "Training steps: 0 Loss: 0.5878555178642273\n",
      "Training steps: 50 Loss: 0.6004154086112976\n",
      "Training steps: 100 Loss: 0.5787967443466187\n",
      "VALID AUC : 0.7862872747665373 ACC : 0.7180851063829787\n",
      "\n"
     ]
    },
    {
     "data": {
      "text/html": [
       "<pre style=\"white-space:pre;overflow-x:auto;line-height:normal;font-family:Menlo,'DejaVu Sans Mono',consolas,'Courier New',monospace\"><span style=\"color: #7fbfbf\">[13:06:11] </span><span style=\"color: #000080\">INFO    </span> TRAIN_LOSS: <span style=\"color: #000080; font-weight: bold\">0.5647097229957581</span>                             <a href=\"file:///home/j-gunmo/desktop/00.my-project/17.P-Stage-T1003/4-STAGE/trainer.py\"><span style=\"color: #7f7f7f\">trainer.py</span></a><span style=\"color: #7f7f7f\">:425</span>\n",
       "</pre>\n"
      ],
      "text/plain": [
       "<rich.jupyter.JupyterRenderable at 0x7fa943c49be0>"
      ]
     },
     "metadata": {},
     "output_type": "display_data"
    },
    {
     "data": {
      "text/html": [
       "<pre style=\"white-space:pre;overflow-x:auto;line-height:normal;font-family:Menlo,'DejaVu Sans Mono',consolas,'Courier New',monospace\"><span style=\"color: #7fbfbf\">           </span><span style=\"color: #000080\">INFO    </span> TRAIN AUC: <span style=\"color: #000080; font-weight: bold\">0.7799116321963836</span> TRAIN ACC:                   <a href=\"file:///home/j-gunmo/desktop/00.my-project/17.P-Stage-T1003/4-STAGE/trainer.py\"><span style=\"color: #7f7f7f\">trainer.py</span></a><span style=\"color: #7f7f7f\">:426</span>\n",
       "                    <span style=\"color: #000080; font-weight: bold\">0.7133177126211133</span>                                                       \n",
       "</pre>\n"
      ],
      "text/plain": [
       "<rich.jupyter.JupyterRenderable at 0x7fa94655ed60>"
      ]
     },
     "metadata": {},
     "output_type": "display_data"
    },
    {
     "data": {
      "text/html": [
       "<pre style=\"white-space:pre;overflow-x:auto;line-height:normal;font-family:Menlo,'DejaVu Sans Mono',consolas,'Courier New',monospace\"><span style=\"color: #7fbfbf\">           </span><span style=\"color: #000080\">INFO    </span> VALID AUC: <span style=\"color: #000080; font-weight: bold\">0.7862872747665373</span> VALID ACC:                   <a href=\"file:///home/j-gunmo/desktop/00.my-project/17.P-Stage-T1003/4-STAGE/trainer.py\"><span style=\"color: #7f7f7f\">trainer.py</span></a><span style=\"color: #7f7f7f\">:427</span>\n",
       "                    <span style=\"color: #000080; font-weight: bold\">0.7180851063829787</span>                                                       \n",
       "                                                                                             \n",
       "</pre>\n"
      ],
      "text/plain": [
       "<rich.jupyter.JupyterRenderable at 0x7fa944c7ce80>"
      ]
     },
     "metadata": {},
     "output_type": "display_data"
    },
    {
     "data": {
      "text/html": [
       "<pre style=\"white-space:pre;overflow-x:auto;line-height:normal;font-family:Menlo,'DejaVu Sans Mono',consolas,'Courier New',monospace\"><span style=\"color: #7fbfbf\">           </span><span style=\"color: #000080\">INFO    </span> EarlyStopping counter: <span style=\"color: #000080; font-weight: bold\">4</span>                                   <a href=\"file:///home/j-gunmo/desktop/00.my-project/17.P-Stage-T1003/4-STAGE/trainer.py\"><span style=\"color: #7f7f7f\">trainer.py</span></a><span style=\"color: #7f7f7f\">:435</span>\n",
       "</pre>\n"
      ],
      "text/plain": [
       "<rich.jupyter.JupyterRenderable at 0x7fa944aa72e0>"
      ]
     },
     "metadata": {},
     "output_type": "display_data"
    },
    {
     "data": {
      "text/html": [
       "<pre style=\"white-space:pre;overflow-x:auto;line-height:normal;font-family:Menlo,'DejaVu Sans Mono',consolas,'Courier New',monospace\"><span style=\"color: #7fbfbf\">           </span><span style=\"color: #000080\">INFO    </span> Start Training: Epoch <span style=\"color: #000080; font-weight: bold\">12</span>                                   <a href=\"file:///home/j-gunmo/desktop/00.my-project/17.P-Stage-T1003/4-STAGE/trainer.py\"><span style=\"color: #7f7f7f\">trainer.py</span></a><span style=\"color: #7f7f7f\">:409</span>\n",
       "</pre>\n"
      ],
      "text/plain": [
       "<rich.jupyter.JupyterRenderable at 0x7fa964ee7220>"
      ]
     },
     "metadata": {},
     "output_type": "display_data"
    },
    {
     "name": "stdout",
     "output_type": "stream",
     "text": [
      "Training steps: 0 Loss: 0.5501285791397095\n",
      "Training steps: 50 Loss: 0.5474671125411987\n",
      "Training steps: 100 Loss: 0.6256847381591797\n",
      "VALID AUC : 0.7858953579545382 ACC : 0.7221377912867275\n",
      "\n"
     ]
    },
    {
     "data": {
      "text/html": [
       "<pre style=\"white-space:pre;overflow-x:auto;line-height:normal;font-family:Menlo,'DejaVu Sans Mono',consolas,'Courier New',monospace\"><span style=\"color: #7fbfbf\">[13:06:18] </span><span style=\"color: #000080\">INFO    </span> TRAIN_LOSS: <span style=\"color: #000080; font-weight: bold\">0.5632494688034058</span>                             <a href=\"file:///home/j-gunmo/desktop/00.my-project/17.P-Stage-T1003/4-STAGE/trainer.py\"><span style=\"color: #7f7f7f\">trainer.py</span></a><span style=\"color: #7f7f7f\">:425</span>\n",
       "</pre>\n"
      ],
      "text/plain": [
       "<rich.jupyter.JupyterRenderable at 0x7fa964ee2ca0>"
      ]
     },
     "metadata": {},
     "output_type": "display_data"
    },
    {
     "data": {
      "text/html": [
       "<pre style=\"white-space:pre;overflow-x:auto;line-height:normal;font-family:Menlo,'DejaVu Sans Mono',consolas,'Courier New',monospace\"><span style=\"color: #7fbfbf\">           </span><span style=\"color: #000080\">INFO    </span> TRAIN AUC: <span style=\"color: #000080; font-weight: bold\">0.7814342477018339</span> TRAIN ACC:                   <a href=\"file:///home/j-gunmo/desktop/00.my-project/17.P-Stage-T1003/4-STAGE/trainer.py\"><span style=\"color: #7f7f7f\">trainer.py</span></a><span style=\"color: #7f7f7f\">:426</span>\n",
       "                    <span style=\"color: #000080; font-weight: bold\">0.7137610031030334</span>                                                       \n",
       "</pre>\n"
      ],
      "text/plain": [
       "<rich.jupyter.JupyterRenderable at 0x7fa951c4c940>"
      ]
     },
     "metadata": {},
     "output_type": "display_data"
    },
    {
     "data": {
      "text/html": [
       "<pre style=\"white-space:pre;overflow-x:auto;line-height:normal;font-family:Menlo,'DejaVu Sans Mono',consolas,'Courier New',monospace\"><span style=\"color: #7fbfbf\">           </span><span style=\"color: #000080\">INFO    </span> VALID AUC: <span style=\"color: #000080; font-weight: bold\">0.7858953579545382</span> VALID ACC:                   <a href=\"file:///home/j-gunmo/desktop/00.my-project/17.P-Stage-T1003/4-STAGE/trainer.py\"><span style=\"color: #7f7f7f\">trainer.py</span></a><span style=\"color: #7f7f7f\">:427</span>\n",
       "                    <span style=\"color: #000080; font-weight: bold\">0.7221377912867275</span>                                                       \n",
       "                                                                                             \n",
       "</pre>\n"
      ],
      "text/plain": [
       "<rich.jupyter.JupyterRenderable at 0x7fa9541510a0>"
      ]
     },
     "metadata": {},
     "output_type": "display_data"
    },
    {
     "data": {
      "text/html": [
       "<pre style=\"white-space:pre;overflow-x:auto;line-height:normal;font-family:Menlo,'DejaVu Sans Mono',consolas,'Courier New',monospace\"><span style=\"color: #7fbfbf\">           </span><span style=\"color: #000080\">INFO    </span> EarlyStopping counter: <span style=\"color: #000080; font-weight: bold\">5</span>                                   <a href=\"file:///home/j-gunmo/desktop/00.my-project/17.P-Stage-T1003/4-STAGE/trainer.py\"><span style=\"color: #7f7f7f\">trainer.py</span></a><span style=\"color: #7f7f7f\">:435</span>\n",
       "</pre>\n"
      ],
      "text/plain": [
       "<rich.jupyter.JupyterRenderable at 0x7fa9b0f108e0>"
      ]
     },
     "metadata": {},
     "output_type": "display_data"
    },
    {
     "data": {
      "text/html": [
       "<pre style=\"white-space:pre;overflow-x:auto;line-height:normal;font-family:Menlo,'DejaVu Sans Mono',consolas,'Courier New',monospace\"><span style=\"color: #7fbfbf\">           </span><span style=\"color: #000080\">INFO    </span> EarlyStopping counter: <span style=\"color: #000080; font-weight: bold\">5</span> out of <span style=\"color: #000080; font-weight: bold\">5</span>                          <a href=\"file:///home/j-gunmo/desktop/00.my-project/17.P-Stage-T1003/4-STAGE/trainer.py\"><span style=\"color: #7f7f7f\">trainer.py</span></a><span style=\"color: #7f7f7f\">:437</span>\n",
       "</pre>\n"
      ],
      "text/plain": [
       "<rich.jupyter.JupyterRenderable at 0x7fa943c5a040>"
      ]
     },
     "metadata": {},
     "output_type": "display_data"
    },
    {
     "data": {
      "text/html": [
       "Finishing last run (ID:38yk3w05) before initializing another..."
      ],
      "text/plain": [
       "<IPython.core.display.HTML object>"
      ]
     },
     "metadata": {},
     "output_type": "display_data"
    },
    {
     "data": {
      "text/html": [
       "<br/>Waiting for W&B process to finish, PID 40299<br/>Program ended successfully."
      ],
      "text/plain": [
       "<IPython.core.display.HTML object>"
      ]
     },
     "metadata": {},
     "output_type": "display_data"
    },
    {
     "data": {
      "application/vnd.jupyter.widget-view+json": {
       "model_id": "6c080028ef674673971ed88b00ce048b",
       "version_major": 2,
       "version_minor": 0
      },
      "text/plain": [
       "VBox(children=(Label(value=' 5.91MB of 5.91MB uploaded (0.00MB deduped)\\r'), FloatProgress(value=1.0, max=1.0)…"
      ]
     },
     "metadata": {},
     "output_type": "display_data"
    },
    {
     "data": {
      "text/html": [
       "Find user logs for this run at: <code>/home/j-gunmo/desktop/00.my-project/17.P-Stage-T1003/4-STAGE/notebook/wandb/run-20210614_130445-38yk3w05/logs/debug.log</code>"
      ],
      "text/plain": [
       "<IPython.core.display.HTML object>"
      ]
     },
     "metadata": {},
     "output_type": "display_data"
    },
    {
     "data": {
      "text/html": [
       "Find internal logs for this run at: <code>/home/j-gunmo/desktop/00.my-project/17.P-Stage-T1003/4-STAGE/notebook/wandb/run-20210614_130445-38yk3w05/logs/debug-internal.log</code>"
      ],
      "text/plain": [
       "<IPython.core.display.HTML object>"
      ]
     },
     "metadata": {},
     "output_type": "display_data"
    },
    {
     "data": {
      "text/html": [
       "<h3>Run summary:</h3><br/><style>\n",
       "    table.wandb td:nth-child(1) { padding: 0 10px; text-align: right }\n",
       "    </style><table class=\"wandb\">\n",
       "<tr><td>epoch</td><td>11</td></tr><tr><td>train_loss</td><td>0.56325</td></tr><tr><td>train_auc</td><td>0.78143</td></tr><tr><td>train_acc</td><td>0.71376</td></tr><tr><td>valid_auc</td><td>0.7859</td></tr><tr><td>valid_acc</td><td>0.72214</td></tr><tr><td>_runtime</td><td>89</td></tr><tr><td>_timestamp</td><td>1623643578</td></tr><tr><td>_step</td><td>11</td></tr></table>"
      ],
      "text/plain": [
       "<IPython.core.display.HTML object>"
      ]
     },
     "metadata": {},
     "output_type": "display_data"
    },
    {
     "data": {
      "text/html": [
       "<h3>Run history:</h3><br/><style>\n",
       "    table.wandb td:nth-child(1) { padding: 0 10px; text-align: right }\n",
       "    </style><table class=\"wandb\">\n",
       "<tr><td>epoch</td><td>▁▂▂▃▄▄▅▅▆▇▇█</td></tr><tr><td>train_loss</td><td>█▄▃▂▂▂▂▁▁▁▁▁</td></tr><tr><td>train_auc</td><td>▁▅▆▇▇█▇█████</td></tr><tr><td>train_acc</td><td>▁▅▅▇▇▇▇▇█▇██</td></tr><tr><td>valid_auc</td><td>▁▄▇▆▇▆█▇▆▇▇▇</td></tr><tr><td>valid_acc</td><td>▁▃▆▇▃▄█▇▄▃▄█</td></tr><tr><td>_runtime</td><td>▁▂▂▃▃▄▅▅▆▇▇█</td></tr><tr><td>_timestamp</td><td>▁▂▂▃▃▄▅▅▆▇▇█</td></tr><tr><td>_step</td><td>▁▂▂▃▄▄▅▅▆▇▇█</td></tr></table><br/>"
      ],
      "text/plain": [
       "<IPython.core.display.HTML object>"
      ]
     },
     "metadata": {},
     "output_type": "display_data"
    },
    {
     "data": {
      "text/html": [
       "Synced 6 W&B file(s), 1 media file(s), 0 artifact file(s) and 1 other file(s)"
      ],
      "text/plain": [
       "<IPython.core.display.HTML object>"
      ]
     },
     "metadata": {},
     "output_type": "display_data"
    },
    {
     "data": {
      "text/html": [
       "\n",
       "                    <br/>Synced <strong style=\"color:#cdcd00\">volcanic-plant-511</strong>: <a href=\"https://wandb.ai/ggm1207/p-stage-4/runs/38yk3w05\" target=\"_blank\">https://wandb.ai/ggm1207/p-stage-4/runs/38yk3w05</a><br/>\n",
       "                "
      ],
      "text/plain": [
       "<IPython.core.display.HTML object>"
      ]
     },
     "metadata": {},
     "output_type": "display_data"
    },
    {
     "data": {
      "text/html": [
       "...Successfully finished last run (ID:38yk3w05). Initializing new run:<br/><br/>"
      ],
      "text/plain": [
       "<IPython.core.display.HTML object>"
      ]
     },
     "metadata": {},
     "output_type": "display_data"
    },
    {
     "name": "stderr",
     "output_type": "stream",
     "text": [
      "\u001b[34m\u001b[1mwandb\u001b[0m: wandb version 0.10.32 is available!  To upgrade, please run:\n",
      "\u001b[34m\u001b[1mwandb\u001b[0m:  $ pip install wandb --upgrade\n"
     ]
    },
    {
     "data": {
      "text/html": [
       "\n",
       "                Tracking run with wandb version 0.10.27<br/>\n",
       "                Syncing run <strong style=\"color:#cdcd00\">rosy-disco-512</strong> to <a href=\"https://wandb.ai\" target=\"_blank\">Weights & Biases</a> <a href=\"https://docs.wandb.com/integrations/jupyter.html\" target=\"_blank\">(Documentation)</a>.<br/>\n",
       "                Project page: <a href=\"https://wandb.ai/ggm1207/p-stage-4\" target=\"_blank\">https://wandb.ai/ggm1207/p-stage-4</a><br/>\n",
       "                Run page: <a href=\"https://wandb.ai/ggm1207/p-stage-4/runs/13vj7kt1\" target=\"_blank\">https://wandb.ai/ggm1207/p-stage-4/runs/13vj7kt1</a><br/>\n",
       "                Run data is saved locally in <code>/home/j-gunmo/desktop/00.my-project/17.P-Stage-T1003/4-STAGE/notebook/wandb/run-20210614_130619-13vj7kt1</code><br/><br/>\n",
       "            "
      ],
      "text/plain": [
       "<IPython.core.display.HTML object>"
      ]
     },
     "metadata": {},
     "output_type": "display_data"
    },
    {
     "data": {
      "text/html": [
       "<pre style=\"white-space:pre;overflow-x:auto;line-height:normal;font-family:Menlo,'DejaVu Sans Mono',consolas,'Courier New',monospace\"><span style=\"color: #7fbfbf\">[13:06:24] </span><span style=\"color: #000080\">INFO    </span> Start Training: Epoch <span style=\"color: #000080; font-weight: bold\">1</span>                                    <a href=\"file:///home/j-gunmo/desktop/00.my-project/17.P-Stage-T1003/4-STAGE/trainer.py\"><span style=\"color: #7f7f7f\">trainer.py</span></a><span style=\"color: #7f7f7f\">:409</span>\n",
       "</pre>\n"
      ],
      "text/plain": [
       "<rich.jupyter.JupyterRenderable at 0x7fa93ea96af0>"
      ]
     },
     "metadata": {},
     "output_type": "display_data"
    },
    {
     "name": "stdout",
     "output_type": "stream",
     "text": [
      "Training steps: 0 Loss: 0.6933257579803467\n",
      "Training steps: 50 Loss: 0.5805238485336304\n",
      "Training steps: 100 Loss: 0.56990647315979\n",
      "VALID AUC : 0.772485226313397 ACC : 0.7107396149949341\n",
      "\n"
     ]
    },
    {
     "data": {
      "text/html": [
       "<pre style=\"white-space:pre;overflow-x:auto;line-height:normal;font-family:Menlo,'DejaVu Sans Mono',consolas,'Courier New',monospace\"><span style=\"color: #7fbfbf\">[13:06:32] </span><span style=\"color: #000080\">INFO    </span> TRAIN_LOSS: <span style=\"color: #000080; font-weight: bold\">0.5990535020828247</span>                             <a href=\"file:///home/j-gunmo/desktop/00.my-project/17.P-Stage-T1003/4-STAGE/trainer.py\"><span style=\"color: #7f7f7f\">trainer.py</span></a><span style=\"color: #7f7f7f\">:425</span>\n",
       "</pre>\n"
      ],
      "text/plain": [
       "<rich.jupyter.JupyterRenderable at 0x7fa93eabc700>"
      ]
     },
     "metadata": {},
     "output_type": "display_data"
    },
    {
     "data": {
      "text/html": [
       "<pre style=\"white-space:pre;overflow-x:auto;line-height:normal;font-family:Menlo,'DejaVu Sans Mono',consolas,'Courier New',monospace\"><span style=\"color: #7fbfbf\">           </span><span style=\"color: #000080\">INFO    </span> TRAIN AUC: <span style=\"color: #000080; font-weight: bold\">0.7451008456661113</span> TRAIN ACC:                   <a href=\"file:///home/j-gunmo/desktop/00.my-project/17.P-Stage-T1003/4-STAGE/trainer.py\"><span style=\"color: #7f7f7f\">trainer.py</span></a><span style=\"color: #7f7f7f\">:426</span>\n",
       "                    <span style=\"color: #000080; font-weight: bold\">0.6925463871825723</span>                                                       \n",
       "</pre>\n"
      ],
      "text/plain": [
       "<rich.jupyter.JupyterRenderable at 0x7fa93eabc370>"
      ]
     },
     "metadata": {},
     "output_type": "display_data"
    },
    {
     "data": {
      "text/html": [
       "<pre style=\"white-space:pre;overflow-x:auto;line-height:normal;font-family:Menlo,'DejaVu Sans Mono',consolas,'Courier New',monospace\"><span style=\"color: #7fbfbf\">           </span><span style=\"color: #000080\">INFO    </span> VALID AUC: <span style=\"color: #000080; font-weight: bold\">0.772485226313397</span> VALID ACC: <span style=\"color: #000080; font-weight: bold\">0.7107396149949341</span> <a href=\"file:///home/j-gunmo/desktop/00.my-project/17.P-Stage-T1003/4-STAGE/trainer.py\"><span style=\"color: #7f7f7f\">trainer.py</span></a><span style=\"color: #7f7f7f\">:427</span>\n",
       "                                                                                             \n",
       "</pre>\n"
      ],
      "text/plain": [
       "<rich.jupyter.JupyterRenderable at 0x7fa93eabc820>"
      ]
     },
     "metadata": {},
     "output_type": "display_data"
    },
    {
     "data": {
      "text/html": [
       "<pre style=\"white-space:pre;overflow-x:auto;line-height:normal;font-family:Menlo,'DejaVu Sans Mono',consolas,'Courier New',monospace\"><span style=\"color: #7fbfbf\">           </span><span style=\"color: #000080\">INFO    </span> Start Training: Epoch <span style=\"color: #000080; font-weight: bold\">2</span>                                    <a href=\"file:///home/j-gunmo/desktop/00.my-project/17.P-Stage-T1003/4-STAGE/trainer.py\"><span style=\"color: #7f7f7f\">trainer.py</span></a><span style=\"color: #7f7f7f\">:409</span>\n",
       "</pre>\n"
      ],
      "text/plain": [
       "<rich.jupyter.JupyterRenderable at 0x7fa93eabc940>"
      ]
     },
     "metadata": {},
     "output_type": "display_data"
    },
    {
     "name": "stdout",
     "output_type": "stream",
     "text": [
      "Training steps: 0 Loss: 0.549719512462616\n",
      "Training steps: 50 Loss: 0.5594302415847778\n",
      "Training steps: 100 Loss: 0.5625337362289429\n",
      "VALID AUC : 0.7746486284336004 ACC : 0.7125126646403243\n",
      "\n"
     ]
    },
    {
     "data": {
      "text/html": [
       "<pre style=\"white-space:pre;overflow-x:auto;line-height:normal;font-family:Menlo,'DejaVu Sans Mono',consolas,'Courier New',monospace\"><span style=\"color: #7fbfbf\">[13:06:39] </span><span style=\"color: #000080\">INFO    </span> TRAIN_LOSS: <span style=\"color: #000080; font-weight: bold\">0.5753055810928345</span>                             <a href=\"file:///home/j-gunmo/desktop/00.my-project/17.P-Stage-T1003/4-STAGE/trainer.py\"><span style=\"color: #7f7f7f\">trainer.py</span></a><span style=\"color: #7f7f7f\">:425</span>\n",
       "</pre>\n"
      ],
      "text/plain": [
       "<rich.jupyter.JupyterRenderable at 0x7fa93ea96af0>"
      ]
     },
     "metadata": {},
     "output_type": "display_data"
    },
    {
     "data": {
      "text/html": [
       "<pre style=\"white-space:pre;overflow-x:auto;line-height:normal;font-family:Menlo,'DejaVu Sans Mono',consolas,'Courier New',monospace\"><span style=\"color: #7fbfbf\">           </span><span style=\"color: #000080\">INFO    </span> TRAIN AUC: <span style=\"color: #000080; font-weight: bold\">0.7682047486659108</span> TRAIN ACC:                   <a href=\"file:///home/j-gunmo/desktop/00.my-project/17.P-Stage-T1003/4-STAGE/trainer.py\"><span style=\"color: #7f7f7f\">trainer.py</span></a><span style=\"color: #7f7f7f\">:426</span>\n",
       "                    <span style=\"color: #000080; font-weight: bold\">0.7052118295231461</span>                                                       \n",
       "</pre>\n"
      ],
      "text/plain": [
       "<rich.jupyter.JupyterRenderable at 0x7fa950b14850>"
      ]
     },
     "metadata": {},
     "output_type": "display_data"
    },
    {
     "data": {
      "text/html": [
       "<pre style=\"white-space:pre;overflow-x:auto;line-height:normal;font-family:Menlo,'DejaVu Sans Mono',consolas,'Courier New',monospace\"><span style=\"color: #7fbfbf\">           </span><span style=\"color: #000080\">INFO    </span> VALID AUC: <span style=\"color: #000080; font-weight: bold\">0.7746486284336004</span> VALID ACC:                   <a href=\"file:///home/j-gunmo/desktop/00.my-project/17.P-Stage-T1003/4-STAGE/trainer.py\"><span style=\"color: #7f7f7f\">trainer.py</span></a><span style=\"color: #7f7f7f\">:427</span>\n",
       "                    <span style=\"color: #000080; font-weight: bold\">0.7125126646403243</span>                                                       \n",
       "                                                                                             \n",
       "</pre>\n"
      ],
      "text/plain": [
       "<rich.jupyter.JupyterRenderable at 0x7faaed5b3340>"
      ]
     },
     "metadata": {},
     "output_type": "display_data"
    },
    {
     "data": {
      "text/html": [
       "<pre style=\"white-space:pre;overflow-x:auto;line-height:normal;font-family:Menlo,'DejaVu Sans Mono',consolas,'Courier New',monospace\"><span style=\"color: #7fbfbf\">           </span><span style=\"color: #000080\">INFO    </span> Start Training: Epoch <span style=\"color: #000080; font-weight: bold\">3</span>                                    <a href=\"file:///home/j-gunmo/desktop/00.my-project/17.P-Stage-T1003/4-STAGE/trainer.py\"><span style=\"color: #7f7f7f\">trainer.py</span></a><span style=\"color: #7f7f7f\">:409</span>\n",
       "</pre>\n"
      ],
      "text/plain": [
       "<rich.jupyter.JupyterRenderable at 0x7fa950b14fa0>"
      ]
     },
     "metadata": {},
     "output_type": "display_data"
    },
    {
     "name": "stdout",
     "output_type": "stream",
     "text": [
      "Training steps: 0 Loss: 0.5817434787750244\n",
      "Training steps: 50 Loss: 0.5453137755393982\n",
      "Training steps: 100 Loss: 0.5870969891548157\n",
      "VALID AUC : 0.7771609829394498 ACC : 0.7120060790273556\n",
      "\n"
     ]
    },
    {
     "data": {
      "text/html": [
       "<pre style=\"white-space:pre;overflow-x:auto;line-height:normal;font-family:Menlo,'DejaVu Sans Mono',consolas,'Courier New',monospace\"><span style=\"color: #7fbfbf\">[13:06:47] </span><span style=\"color: #000080\">INFO    </span> TRAIN_LOSS: <span style=\"color: #000080; font-weight: bold\">0.569435179233551</span>                              <a href=\"file:///home/j-gunmo/desktop/00.my-project/17.P-Stage-T1003/4-STAGE/trainer.py\"><span style=\"color: #7f7f7f\">trainer.py</span></a><span style=\"color: #7f7f7f\">:425</span>\n",
       "</pre>\n"
      ],
      "text/plain": [
       "<rich.jupyter.JupyterRenderable at 0x7fa93eabc700>"
      ]
     },
     "metadata": {},
     "output_type": "display_data"
    },
    {
     "data": {
      "text/html": [
       "<pre style=\"white-space:pre;overflow-x:auto;line-height:normal;font-family:Menlo,'DejaVu Sans Mono',consolas,'Courier New',monospace\"><span style=\"color: #7fbfbf\">           </span><span style=\"color: #000080\">INFO    </span> TRAIN AUC: <span style=\"color: #000080; font-weight: bold\">0.7744567277420888</span> TRAIN ACC: <span style=\"color: #000080; font-weight: bold\">0.710088024824267</span> <a href=\"file:///home/j-gunmo/desktop/00.my-project/17.P-Stage-T1003/4-STAGE/trainer.py\"><span style=\"color: #7f7f7f\">trainer.py</span></a><span style=\"color: #7f7f7f\">:426</span>\n",
       "</pre>\n"
      ],
      "text/plain": [
       "<rich.jupyter.JupyterRenderable at 0x7fa93eabc700>"
      ]
     },
     "metadata": {},
     "output_type": "display_data"
    },
    {
     "data": {
      "text/html": [
       "<pre style=\"white-space:pre;overflow-x:auto;line-height:normal;font-family:Menlo,'DejaVu Sans Mono',consolas,'Courier New',monospace\"><span style=\"color: #7fbfbf\">           </span><span style=\"color: #000080\">INFO    </span> VALID AUC: <span style=\"color: #000080; font-weight: bold\">0.7771609829394498</span> VALID ACC:                   <a href=\"file:///home/j-gunmo/desktop/00.my-project/17.P-Stage-T1003/4-STAGE/trainer.py\"><span style=\"color: #7f7f7f\">trainer.py</span></a><span style=\"color: #7f7f7f\">:427</span>\n",
       "                    <span style=\"color: #000080; font-weight: bold\">0.7120060790273556</span>                                                       \n",
       "                                                                                             \n",
       "</pre>\n"
      ],
      "text/plain": [
       "<rich.jupyter.JupyterRenderable at 0x7fa93eabc700>"
      ]
     },
     "metadata": {},
     "output_type": "display_data"
    },
    {
     "data": {
      "text/html": [
       "<pre style=\"white-space:pre;overflow-x:auto;line-height:normal;font-family:Menlo,'DejaVu Sans Mono',consolas,'Courier New',monospace\"><span style=\"color: #7fbfbf\">           </span><span style=\"color: #000080\">INFO    </span> Start Training: Epoch <span style=\"color: #000080; font-weight: bold\">4</span>                                    <a href=\"file:///home/j-gunmo/desktop/00.my-project/17.P-Stage-T1003/4-STAGE/trainer.py\"><span style=\"color: #7f7f7f\">trainer.py</span></a><span style=\"color: #7f7f7f\">:409</span>\n",
       "</pre>\n"
      ],
      "text/plain": [
       "<rich.jupyter.JupyterRenderable at 0x7fa93eabc700>"
      ]
     },
     "metadata": {},
     "output_type": "display_data"
    },
    {
     "name": "stdout",
     "output_type": "stream",
     "text": [
      "Training steps: 0 Loss: 0.5543053150177002\n",
      "Training steps: 50 Loss: 0.6055698394775391\n",
      "Training steps: 100 Loss: 0.6192243099212646\n",
      "VALID AUC : 0.7779723389460893 ACC : 0.7026342451874367\n",
      "\n"
     ]
    },
    {
     "data": {
      "text/html": [
       "<pre style=\"white-space:pre;overflow-x:auto;line-height:normal;font-family:Menlo,'DejaVu Sans Mono',consolas,'Courier New',monospace\"><span style=\"color: #7fbfbf\">[13:06:55] </span><span style=\"color: #000080\">INFO    </span> TRAIN_LOSS: <span style=\"color: #000080; font-weight: bold\">0.5674852728843689</span>                             <a href=\"file:///home/j-gunmo/desktop/00.my-project/17.P-Stage-T1003/4-STAGE/trainer.py\"><span style=\"color: #7f7f7f\">trainer.py</span></a><span style=\"color: #7f7f7f\">:425</span>\n",
       "</pre>\n"
      ],
      "text/plain": [
       "<rich.jupyter.JupyterRenderable at 0x7faaed5b3340>"
      ]
     },
     "metadata": {},
     "output_type": "display_data"
    },
    {
     "data": {
      "text/html": [
       "<pre style=\"white-space:pre;overflow-x:auto;line-height:normal;font-family:Menlo,'DejaVu Sans Mono',consolas,'Courier New',monospace\"><span style=\"color: #7fbfbf\">           </span><span style=\"color: #000080\">INFO    </span> TRAIN AUC: <span style=\"color: #000080; font-weight: bold\">0.7765694407080171</span> TRAIN ACC:                   <a href=\"file:///home/j-gunmo/desktop/00.my-project/17.P-Stage-T1003/4-STAGE/trainer.py\"><span style=\"color: #7f7f7f\">trainer.py</span></a><span style=\"color: #7f7f7f\">:426</span>\n",
       "                    <span style=\"color: #000080; font-weight: bold\">0.7116712051168387</span>                                                       \n",
       "</pre>\n"
      ],
      "text/plain": [
       "<rich.jupyter.JupyterRenderable at 0x7fa943c49ac0>"
      ]
     },
     "metadata": {},
     "output_type": "display_data"
    },
    {
     "data": {
      "text/html": [
       "<pre style=\"white-space:pre;overflow-x:auto;line-height:normal;font-family:Menlo,'DejaVu Sans Mono',consolas,'Courier New',monospace\"><span style=\"color: #7fbfbf\">           </span><span style=\"color: #000080\">INFO    </span> VALID AUC: <span style=\"color: #000080; font-weight: bold\">0.7779723389460893</span> VALID ACC:                   <a href=\"file:///home/j-gunmo/desktop/00.my-project/17.P-Stage-T1003/4-STAGE/trainer.py\"><span style=\"color: #7f7f7f\">trainer.py</span></a><span style=\"color: #7f7f7f\">:427</span>\n",
       "                    <span style=\"color: #000080; font-weight: bold\">0.7026342451874367</span>                                                       \n",
       "                                                                                             \n",
       "</pre>\n"
      ],
      "text/plain": [
       "<rich.jupyter.JupyterRenderable at 0x7fa941cbb700>"
      ]
     },
     "metadata": {},
     "output_type": "display_data"
    },
    {
     "data": {
      "text/html": [
       "<pre style=\"white-space:pre;overflow-x:auto;line-height:normal;font-family:Menlo,'DejaVu Sans Mono',consolas,'Courier New',monospace\"><span style=\"color: #7fbfbf\">[13:06:56] </span><span style=\"color: #000080\">INFO    </span> Start Training: Epoch <span style=\"color: #000080; font-weight: bold\">5</span>                                    <a href=\"file:///home/j-gunmo/desktop/00.my-project/17.P-Stage-T1003/4-STAGE/trainer.py\"><span style=\"color: #7f7f7f\">trainer.py</span></a><span style=\"color: #7f7f7f\">:409</span>\n",
       "</pre>\n"
      ],
      "text/plain": [
       "<rich.jupyter.JupyterRenderable at 0x7fa943c49ac0>"
      ]
     },
     "metadata": {},
     "output_type": "display_data"
    },
    {
     "name": "stdout",
     "output_type": "stream",
     "text": [
      "Training steps: 0 Loss: 0.5653420090675354\n",
      "Training steps: 50 Loss: 0.5917598009109497\n",
      "Training steps: 100 Loss: 0.5065524578094482\n",
      "VALID AUC : 0.7788619814386593 ACC : 0.7122593718338399\n",
      "\n"
     ]
    },
    {
     "data": {
      "text/html": [
       "<pre style=\"white-space:pre;overflow-x:auto;line-height:normal;font-family:Menlo,'DejaVu Sans Mono',consolas,'Courier New',monospace\"><span style=\"color: #7fbfbf\">[13:07:03] </span><span style=\"color: #000080\">INFO    </span> TRAIN_LOSS: <span style=\"color: #000080; font-weight: bold\">0.5661185383796692</span>                             <a href=\"file:///home/j-gunmo/desktop/00.my-project/17.P-Stage-T1003/4-STAGE/trainer.py\"><span style=\"color: #7f7f7f\">trainer.py</span></a><span style=\"color: #7f7f7f\">:425</span>\n",
       "</pre>\n"
      ],
      "text/plain": [
       "<rich.jupyter.JupyterRenderable at 0x7fa951c4c820>"
      ]
     },
     "metadata": {},
     "output_type": "display_data"
    },
    {
     "data": {
      "text/html": [
       "<pre style=\"white-space:pre;overflow-x:auto;line-height:normal;font-family:Menlo,'DejaVu Sans Mono',consolas,'Courier New',monospace\"><span style=\"color: #7fbfbf\">           </span><span style=\"color: #000080\">INFO    </span> TRAIN AUC: <span style=\"color: #000080; font-weight: bold\">0.7783752183362735</span> TRAIN ACC:                   <a href=\"file:///home/j-gunmo/desktop/00.my-project/17.P-Stage-T1003/4-STAGE/trainer.py\"><span style=\"color: #7f7f7f\">trainer.py</span></a><span style=\"color: #7f7f7f\">:426</span>\n",
       "                    <span style=\"color: #000080; font-weight: bold\">0.7127477677157875</span>                                                       \n",
       "</pre>\n"
      ],
      "text/plain": [
       "<rich.jupyter.JupyterRenderable at 0x7fa951c889a0>"
      ]
     },
     "metadata": {},
     "output_type": "display_data"
    },
    {
     "data": {
      "text/html": [
       "<pre style=\"white-space:pre;overflow-x:auto;line-height:normal;font-family:Menlo,'DejaVu Sans Mono',consolas,'Courier New',monospace\"><span style=\"color: #7fbfbf\">           </span><span style=\"color: #000080\">INFO    </span> VALID AUC: <span style=\"color: #000080; font-weight: bold\">0.7788619814386593</span> VALID ACC:                   <a href=\"file:///home/j-gunmo/desktop/00.my-project/17.P-Stage-T1003/4-STAGE/trainer.py\"><span style=\"color: #7f7f7f\">trainer.py</span></a><span style=\"color: #7f7f7f\">:427</span>\n",
       "                    <span style=\"color: #000080; font-weight: bold\">0.7122593718338399</span>                                                       \n",
       "                                                                                             \n",
       "</pre>\n"
      ],
      "text/plain": [
       "<rich.jupyter.JupyterRenderable at 0x7fa951c880a0>"
      ]
     },
     "metadata": {},
     "output_type": "display_data"
    },
    {
     "data": {
      "text/html": [
       "<pre style=\"white-space:pre;overflow-x:auto;line-height:normal;font-family:Menlo,'DejaVu Sans Mono',consolas,'Courier New',monospace\"><span style=\"color: #7fbfbf\">[13:07:04] </span><span style=\"color: #000080\">INFO    </span> Start Training: Epoch <span style=\"color: #000080; font-weight: bold\">6</span>                                    <a href=\"file:///home/j-gunmo/desktop/00.my-project/17.P-Stage-T1003/4-STAGE/trainer.py\"><span style=\"color: #7f7f7f\">trainer.py</span></a><span style=\"color: #7f7f7f\">:409</span>\n",
       "</pre>\n"
      ],
      "text/plain": [
       "<rich.jupyter.JupyterRenderable at 0x7fa951c880a0>"
      ]
     },
     "metadata": {},
     "output_type": "display_data"
    },
    {
     "name": "stdout",
     "output_type": "stream",
     "text": [
      "Training steps: 0 Loss: 0.5467380285263062\n",
      "Training steps: 50 Loss: 0.5646530389785767\n",
      "Training steps: 100 Loss: 0.5690449476242065\n",
      "VALID AUC : 0.77985775987199 ACC : 0.7152988855116514\n",
      "\n"
     ]
    },
    {
     "data": {
      "text/html": [
       "<pre style=\"white-space:pre;overflow-x:auto;line-height:normal;font-family:Menlo,'DejaVu Sans Mono',consolas,'Courier New',monospace\"><span style=\"color: #7fbfbf\">[13:07:11] </span><span style=\"color: #000080\">INFO    </span> TRAIN_LOSS: <span style=\"color: #000080; font-weight: bold\">0.5656391978263855</span>                             <a href=\"file:///home/j-gunmo/desktop/00.my-project/17.P-Stage-T1003/4-STAGE/trainer.py\"><span style=\"color: #7f7f7f\">trainer.py</span></a><span style=\"color: #7f7f7f\">:425</span>\n",
       "</pre>\n"
      ],
      "text/plain": [
       "<rich.jupyter.JupyterRenderable at 0x7faaed5b3340>"
      ]
     },
     "metadata": {},
     "output_type": "display_data"
    },
    {
     "data": {
      "text/html": [
       "<pre style=\"white-space:pre;overflow-x:auto;line-height:normal;font-family:Menlo,'DejaVu Sans Mono',consolas,'Courier New',monospace\"><span style=\"color: #7fbfbf\">           </span><span style=\"color: #000080\">INFO    </span> TRAIN AUC: <span style=\"color: #000080; font-weight: bold\">0.7798034509760725</span> TRAIN ACC:                   <a href=\"file:///home/j-gunmo/desktop/00.my-project/17.P-Stage-T1003/4-STAGE/trainer.py\"><span style=\"color: #7f7f7f\">trainer.py</span></a><span style=\"color: #7f7f7f\">:426</span>\n",
       "                    <span style=\"color: #000080; font-weight: bold\">0.7124311316572731</span>                                                       \n",
       "</pre>\n"
      ],
      "text/plain": [
       "<rich.jupyter.JupyterRenderable at 0x7fa9512dfee0>"
      ]
     },
     "metadata": {},
     "output_type": "display_data"
    },
    {
     "data": {
      "text/html": [
       "<pre style=\"white-space:pre;overflow-x:auto;line-height:normal;font-family:Menlo,'DejaVu Sans Mono',consolas,'Courier New',monospace\"><span style=\"color: #7fbfbf\">           </span><span style=\"color: #000080\">INFO    </span> VALID AUC: <span style=\"color: #000080; font-weight: bold\">0.77985775987199</span> VALID ACC: <span style=\"color: #000080; font-weight: bold\">0.7152988855116514</span>  <a href=\"file:///home/j-gunmo/desktop/00.my-project/17.P-Stage-T1003/4-STAGE/trainer.py\"><span style=\"color: #7f7f7f\">trainer.py</span></a><span style=\"color: #7f7f7f\">:427</span>\n",
       "                                                                                             \n",
       "</pre>\n"
      ],
      "text/plain": [
       "<rich.jupyter.JupyterRenderable at 0x7fa93ea96af0>"
      ]
     },
     "metadata": {},
     "output_type": "display_data"
    },
    {
     "data": {
      "text/html": [
       "<pre style=\"white-space:pre;overflow-x:auto;line-height:normal;font-family:Menlo,'DejaVu Sans Mono',consolas,'Courier New',monospace\"><span style=\"color: #7fbfbf\">           </span><span style=\"color: #000080\">INFO    </span> Start Training: Epoch <span style=\"color: #000080; font-weight: bold\">7</span>                                    <a href=\"file:///home/j-gunmo/desktop/00.my-project/17.P-Stage-T1003/4-STAGE/trainer.py\"><span style=\"color: #7f7f7f\">trainer.py</span></a><span style=\"color: #7f7f7f\">:409</span>\n",
       "</pre>\n"
      ],
      "text/plain": [
       "<rich.jupyter.JupyterRenderable at 0x7fa954151f40>"
      ]
     },
     "metadata": {},
     "output_type": "display_data"
    },
    {
     "name": "stdout",
     "output_type": "stream",
     "text": [
      "Training steps: 0 Loss: 0.6232166290283203\n",
      "Training steps: 50 Loss: 0.5867307186126709\n",
      "Training steps: 100 Loss: 0.5117599368095398\n",
      "VALID AUC : 0.7764942644240284 ACC : 0.711499493414387\n",
      "\n"
     ]
    },
    {
     "data": {
      "text/html": [
       "<pre style=\"white-space:pre;overflow-x:auto;line-height:normal;font-family:Menlo,'DejaVu Sans Mono',consolas,'Courier New',monospace\"><span style=\"color: #7fbfbf\">[13:07:19] </span><span style=\"color: #000080\">INFO    </span> TRAIN_LOSS: <span style=\"color: #000080; font-weight: bold\">0.561987578868866</span>                              <a href=\"file:///home/j-gunmo/desktop/00.my-project/17.P-Stage-T1003/4-STAGE/trainer.py\"><span style=\"color: #7f7f7f\">trainer.py</span></a><span style=\"color: #7f7f7f\">:425</span>\n",
       "</pre>\n"
      ],
      "text/plain": [
       "<rich.jupyter.JupyterRenderable at 0x7fa950b147f0>"
      ]
     },
     "metadata": {},
     "output_type": "display_data"
    },
    {
     "data": {
      "text/html": [
       "<pre style=\"white-space:pre;overflow-x:auto;line-height:normal;font-family:Menlo,'DejaVu Sans Mono',consolas,'Courier New',monospace\"><span style=\"color: #7fbfbf\">           </span><span style=\"color: #000080\">INFO    </span> TRAIN AUC: <span style=\"color: #000080; font-weight: bold\">0.7824459770376132</span> TRAIN ACC:                   <a href=\"file:///home/j-gunmo/desktop/00.my-project/17.P-Stage-T1003/4-STAGE/trainer.py\"><span style=\"color: #7f7f7f\">trainer.py</span></a><span style=\"color: #7f7f7f\">:426</span>\n",
       "                    <span style=\"color: #000080; font-weight: bold\">0.7148375657019821</span>                                                       \n",
       "</pre>\n"
      ],
      "text/plain": [
       "<rich.jupyter.JupyterRenderable at 0x7fa943c49c10>"
      ]
     },
     "metadata": {},
     "output_type": "display_data"
    },
    {
     "data": {
      "text/html": [
       "<pre style=\"white-space:pre;overflow-x:auto;line-height:normal;font-family:Menlo,'DejaVu Sans Mono',consolas,'Courier New',monospace\"><span style=\"color: #7fbfbf\">           </span><span style=\"color: #000080\">INFO    </span> VALID AUC: <span style=\"color: #000080; font-weight: bold\">0.7764942644240284</span> VALID ACC: <span style=\"color: #000080; font-weight: bold\">0.711499493414387</span> <a href=\"file:///home/j-gunmo/desktop/00.my-project/17.P-Stage-T1003/4-STAGE/trainer.py\"><span style=\"color: #7f7f7f\">trainer.py</span></a><span style=\"color: #7f7f7f\">:427</span>\n",
       "                                                                                             \n",
       "</pre>\n"
      ],
      "text/plain": [
       "<rich.jupyter.JupyterRenderable at 0x7fa954151c10>"
      ]
     },
     "metadata": {},
     "output_type": "display_data"
    },
    {
     "data": {
      "text/html": [
       "<pre style=\"white-space:pre;overflow-x:auto;line-height:normal;font-family:Menlo,'DejaVu Sans Mono',consolas,'Courier New',monospace\"><span style=\"color: #7fbfbf\">           </span><span style=\"color: #000080\">INFO    </span> EarlyStopping counter: <span style=\"color: #000080; font-weight: bold\">1</span>                                   <a href=\"file:///home/j-gunmo/desktop/00.my-project/17.P-Stage-T1003/4-STAGE/trainer.py\"><span style=\"color: #7f7f7f\">trainer.py</span></a><span style=\"color: #7f7f7f\">:435</span>\n",
       "</pre>\n"
      ],
      "text/plain": [
       "<rich.jupyter.JupyterRenderable at 0x7fa951c4c820>"
      ]
     },
     "metadata": {},
     "output_type": "display_data"
    },
    {
     "data": {
      "text/html": [
       "<pre style=\"white-space:pre;overflow-x:auto;line-height:normal;font-family:Menlo,'DejaVu Sans Mono',consolas,'Courier New',monospace\"><span style=\"color: #7fbfbf\">           </span><span style=\"color: #000080\">INFO    </span> Start Training: Epoch <span style=\"color: #000080; font-weight: bold\">8</span>                                    <a href=\"file:///home/j-gunmo/desktop/00.my-project/17.P-Stage-T1003/4-STAGE/trainer.py\"><span style=\"color: #7f7f7f\">trainer.py</span></a><span style=\"color: #7f7f7f\">:409</span>\n",
       "</pre>\n"
      ],
      "text/plain": [
       "<rich.jupyter.JupyterRenderable at 0x7fa9b0f104c0>"
      ]
     },
     "metadata": {},
     "output_type": "display_data"
    },
    {
     "name": "stdout",
     "output_type": "stream",
     "text": [
      "Training steps: 0 Loss: 0.6147621870040894\n",
      "Training steps: 50 Loss: 0.5941517353057861\n",
      "Training steps: 100 Loss: 0.48723554611206055\n",
      "VALID AUC : 0.778465543807449 ACC : 0.7120060790273556\n",
      "\n"
     ]
    },
    {
     "data": {
      "text/html": [
       "<pre style=\"white-space:pre;overflow-x:auto;line-height:normal;font-family:Menlo,'DejaVu Sans Mono',consolas,'Courier New',monospace\"><span style=\"color: #7fbfbf\">[13:07:27] </span><span style=\"color: #000080\">INFO    </span> TRAIN_LOSS: <span style=\"color: #000080; font-weight: bold\">0.5638684630393982</span>                             <a href=\"file:///home/j-gunmo/desktop/00.my-project/17.P-Stage-T1003/4-STAGE/trainer.py\"><span style=\"color: #7f7f7f\">trainer.py</span></a><span style=\"color: #7f7f7f\">:425</span>\n",
       "</pre>\n"
      ],
      "text/plain": [
       "<rich.jupyter.JupyterRenderable at 0x7faaed65d490>"
      ]
     },
     "metadata": {},
     "output_type": "display_data"
    },
    {
     "data": {
      "text/html": [
       "<pre style=\"white-space:pre;overflow-x:auto;line-height:normal;font-family:Menlo,'DejaVu Sans Mono',consolas,'Courier New',monospace\"><span style=\"color: #7fbfbf\">           </span><span style=\"color: #000080\">INFO    </span> TRAIN AUC: <span style=\"color: #000080; font-weight: bold\">0.7809374580153412</span> TRAIN ACC:                   <a href=\"file:///home/j-gunmo/desktop/00.my-project/17.P-Stage-T1003/4-STAGE/trainer.py\"><span style=\"color: #7f7f7f\">trainer.py</span></a><span style=\"color: #7f7f7f\">:426</span>\n",
       "                    <span style=\"color: #000080; font-weight: bold\">0.7142042935849534</span>                                                       \n",
       "</pre>\n"
      ],
      "text/plain": [
       "<rich.jupyter.JupyterRenderable at 0x7fa9541517c0>"
      ]
     },
     "metadata": {},
     "output_type": "display_data"
    },
    {
     "data": {
      "text/html": [
       "<pre style=\"white-space:pre;overflow-x:auto;line-height:normal;font-family:Menlo,'DejaVu Sans Mono',consolas,'Courier New',monospace\"><span style=\"color: #7fbfbf\">           </span><span style=\"color: #000080\">INFO    </span> VALID AUC: <span style=\"color: #000080; font-weight: bold\">0.778465543807449</span> VALID ACC: <span style=\"color: #000080; font-weight: bold\">0.7120060790273556</span> <a href=\"file:///home/j-gunmo/desktop/00.my-project/17.P-Stage-T1003/4-STAGE/trainer.py\"><span style=\"color: #7f7f7f\">trainer.py</span></a><span style=\"color: #7f7f7f\">:427</span>\n",
       "                                                                                             \n",
       "</pre>\n"
      ],
      "text/plain": [
       "<rich.jupyter.JupyterRenderable at 0x7fa93eabc940>"
      ]
     },
     "metadata": {},
     "output_type": "display_data"
    },
    {
     "data": {
      "text/html": [
       "<pre style=\"white-space:pre;overflow-x:auto;line-height:normal;font-family:Menlo,'DejaVu Sans Mono',consolas,'Courier New',monospace\"><span style=\"color: #7fbfbf\">           </span><span style=\"color: #000080\">INFO    </span> EarlyStopping counter: <span style=\"color: #000080; font-weight: bold\">2</span>                                   <a href=\"file:///home/j-gunmo/desktop/00.my-project/17.P-Stage-T1003/4-STAGE/trainer.py\"><span style=\"color: #7f7f7f\">trainer.py</span></a><span style=\"color: #7f7f7f\">:435</span>\n",
       "</pre>\n"
      ],
      "text/plain": [
       "<rich.jupyter.JupyterRenderable at 0x7fa941cbb700>"
      ]
     },
     "metadata": {},
     "output_type": "display_data"
    },
    {
     "data": {
      "text/html": [
       "<pre style=\"white-space:pre;overflow-x:auto;line-height:normal;font-family:Menlo,'DejaVu Sans Mono',consolas,'Courier New',monospace\"><span style=\"color: #7fbfbf\">           </span><span style=\"color: #000080\">INFO    </span> Start Training: Epoch <span style=\"color: #000080; font-weight: bold\">9</span>                                    <a href=\"file:///home/j-gunmo/desktop/00.my-project/17.P-Stage-T1003/4-STAGE/trainer.py\"><span style=\"color: #7f7f7f\">trainer.py</span></a><span style=\"color: #7f7f7f\">:409</span>\n",
       "</pre>\n"
      ],
      "text/plain": [
       "<rich.jupyter.JupyterRenderable at 0x7fa9541515e0>"
      ]
     },
     "metadata": {},
     "output_type": "display_data"
    },
    {
     "name": "stdout",
     "output_type": "stream",
     "text": [
      "Training steps: 0 Loss: 0.5422154664993286\n",
      "Training steps: 50 Loss: 0.5661067962646484\n",
      "Training steps: 100 Loss: 0.6025415658950806\n",
      "VALID AUC : 0.7786846176295519 ACC : 0.711499493414387\n",
      "\n"
     ]
    },
    {
     "data": {
      "text/html": [
       "<pre style=\"white-space:pre;overflow-x:auto;line-height:normal;font-family:Menlo,'DejaVu Sans Mono',consolas,'Courier New',monospace\"><span style=\"color: #7fbfbf\">[13:07:35] </span><span style=\"color: #000080\">INFO    </span> TRAIN_LOSS: <span style=\"color: #000080; font-weight: bold\">0.5641692280769348</span>                             <a href=\"file:///home/j-gunmo/desktop/00.my-project/17.P-Stage-T1003/4-STAGE/trainer.py\"><span style=\"color: #7f7f7f\">trainer.py</span></a><span style=\"color: #7f7f7f\">:425</span>\n",
       "</pre>\n"
      ],
      "text/plain": [
       "<rich.jupyter.JupyterRenderable at 0x7fa93eabc370>"
      ]
     },
     "metadata": {},
     "output_type": "display_data"
    },
    {
     "data": {
      "text/html": [
       "<pre style=\"white-space:pre;overflow-x:auto;line-height:normal;font-family:Menlo,'DejaVu Sans Mono',consolas,'Courier New',monospace\"><span style=\"color: #7fbfbf\">           </span><span style=\"color: #000080\">INFO    </span> TRAIN AUC: <span style=\"color: #000080; font-weight: bold\">0.7809713105285986</span> TRAIN ACC:                   <a href=\"file:///home/j-gunmo/desktop/00.my-project/17.P-Stage-T1003/4-STAGE/trainer.py\"><span style=\"color: #7f7f7f\">trainer.py</span></a><span style=\"color: #7f7f7f\">:426</span>\n",
       "                    <span style=\"color: #000080; font-weight: bold\">0.7131277309860047</span>                                                       \n",
       "</pre>\n"
      ],
      "text/plain": [
       "<rich.jupyter.JupyterRenderable at 0x7fa964ee7e20>"
      ]
     },
     "metadata": {},
     "output_type": "display_data"
    },
    {
     "data": {
      "text/html": [
       "<pre style=\"white-space:pre;overflow-x:auto;line-height:normal;font-family:Menlo,'DejaVu Sans Mono',consolas,'Courier New',monospace\"><span style=\"color: #7fbfbf\">           </span><span style=\"color: #000080\">INFO    </span> VALID AUC: <span style=\"color: #000080; font-weight: bold\">0.7786846176295519</span> VALID ACC: <span style=\"color: #000080; font-weight: bold\">0.711499493414387</span> <a href=\"file:///home/j-gunmo/desktop/00.my-project/17.P-Stage-T1003/4-STAGE/trainer.py\"><span style=\"color: #7f7f7f\">trainer.py</span></a><span style=\"color: #7f7f7f\">:427</span>\n",
       "                                                                                             \n",
       "</pre>\n"
      ],
      "text/plain": [
       "<rich.jupyter.JupyterRenderable at 0x7fa964ee7d00>"
      ]
     },
     "metadata": {},
     "output_type": "display_data"
    },
    {
     "data": {
      "text/html": [
       "<pre style=\"white-space:pre;overflow-x:auto;line-height:normal;font-family:Menlo,'DejaVu Sans Mono',consolas,'Courier New',monospace\"><span style=\"color: #7fbfbf\">           </span><span style=\"color: #000080\">INFO    </span> EarlyStopping counter: <span style=\"color: #000080; font-weight: bold\">3</span>                                   <a href=\"file:///home/j-gunmo/desktop/00.my-project/17.P-Stage-T1003/4-STAGE/trainer.py\"><span style=\"color: #7f7f7f\">trainer.py</span></a><span style=\"color: #7f7f7f\">:435</span>\n",
       "</pre>\n"
      ],
      "text/plain": [
       "<rich.jupyter.JupyterRenderable at 0x7fa941dc2a60>"
      ]
     },
     "metadata": {},
     "output_type": "display_data"
    },
    {
     "data": {
      "text/html": [
       "<pre style=\"white-space:pre;overflow-x:auto;line-height:normal;font-family:Menlo,'DejaVu Sans Mono',consolas,'Courier New',monospace\"><span style=\"color: #7fbfbf\">           </span><span style=\"color: #000080\">INFO    </span> Start Training: Epoch <span style=\"color: #000080; font-weight: bold\">10</span>                                   <a href=\"file:///home/j-gunmo/desktop/00.my-project/17.P-Stage-T1003/4-STAGE/trainer.py\"><span style=\"color: #7f7f7f\">trainer.py</span></a><span style=\"color: #7f7f7f\">:409</span>\n",
       "</pre>\n"
      ],
      "text/plain": [
       "<rich.jupyter.JupyterRenderable at 0x7fa964ee7d60>"
      ]
     },
     "metadata": {},
     "output_type": "display_data"
    },
    {
     "name": "stdout",
     "output_type": "stream",
     "text": [
      "Training steps: 0 Loss: 0.5817445516586304\n",
      "Training steps: 50 Loss: 0.5666242837905884\n",
      "Training steps: 100 Loss: 0.6370506882667542\n",
      "VALID AUC : 0.7784343575515786 ACC : 0.7092198581560284\n",
      "\n"
     ]
    },
    {
     "data": {
      "text/html": [
       "<pre style=\"white-space:pre;overflow-x:auto;line-height:normal;font-family:Menlo,'DejaVu Sans Mono',consolas,'Courier New',monospace\"><span style=\"color: #7fbfbf\">[13:07:42] </span><span style=\"color: #000080\">INFO    </span> TRAIN_LOSS: <span style=\"color: #000080; font-weight: bold\">0.5616604089736938</span>                             <a href=\"file:///home/j-gunmo/desktop/00.my-project/17.P-Stage-T1003/4-STAGE/trainer.py\"><span style=\"color: #7f7f7f\">trainer.py</span></a><span style=\"color: #7f7f7f\">:425</span>\n",
       "</pre>\n"
      ],
      "text/plain": [
       "<rich.jupyter.JupyterRenderable at 0x7fa93eabc370>"
      ]
     },
     "metadata": {},
     "output_type": "display_data"
    },
    {
     "data": {
      "text/html": [
       "<pre style=\"white-space:pre;overflow-x:auto;line-height:normal;font-family:Menlo,'DejaVu Sans Mono',consolas,'Courier New',monospace\"><span style=\"color: #7fbfbf\">           </span><span style=\"color: #000080\">INFO    </span> TRAIN AUC: <span style=\"color: #000080; font-weight: bold\">0.7834048159761653</span> TRAIN ACC: <span style=\"color: #000080; font-weight: bold\">0.715407510607308</span> <a href=\"file:///home/j-gunmo/desktop/00.my-project/17.P-Stage-T1003/4-STAGE/trainer.py\"><span style=\"color: #7f7f7f\">trainer.py</span></a><span style=\"color: #7f7f7f\">:426</span>\n",
       "</pre>\n"
      ],
      "text/plain": [
       "<rich.jupyter.JupyterRenderable at 0x7fa943c49ac0>"
      ]
     },
     "metadata": {},
     "output_type": "display_data"
    },
    {
     "data": {
      "text/html": [
       "<pre style=\"white-space:pre;overflow-x:auto;line-height:normal;font-family:Menlo,'DejaVu Sans Mono',consolas,'Courier New',monospace\"><span style=\"color: #7fbfbf\">           </span><span style=\"color: #000080\">INFO    </span> VALID AUC: <span style=\"color: #000080; font-weight: bold\">0.7784343575515786</span> VALID ACC:                   <a href=\"file:///home/j-gunmo/desktop/00.my-project/17.P-Stage-T1003/4-STAGE/trainer.py\"><span style=\"color: #7f7f7f\">trainer.py</span></a><span style=\"color: #7f7f7f\">:427</span>\n",
       "                    <span style=\"color: #000080; font-weight: bold\">0.7092198581560284</span>                                                       \n",
       "                                                                                             \n",
       "</pre>\n"
      ],
      "text/plain": [
       "<rich.jupyter.JupyterRenderable at 0x7fa9512dfbb0>"
      ]
     },
     "metadata": {},
     "output_type": "display_data"
    },
    {
     "data": {
      "text/html": [
       "<pre style=\"white-space:pre;overflow-x:auto;line-height:normal;font-family:Menlo,'DejaVu Sans Mono',consolas,'Courier New',monospace\"><span style=\"color: #7fbfbf\">           </span><span style=\"color: #000080\">INFO    </span> EarlyStopping counter: <span style=\"color: #000080; font-weight: bold\">4</span>                                   <a href=\"file:///home/j-gunmo/desktop/00.my-project/17.P-Stage-T1003/4-STAGE/trainer.py\"><span style=\"color: #7f7f7f\">trainer.py</span></a><span style=\"color: #7f7f7f\">:435</span>\n",
       "</pre>\n"
      ],
      "text/plain": [
       "<rich.jupyter.JupyterRenderable at 0x7fa941dc2970>"
      ]
     },
     "metadata": {},
     "output_type": "display_data"
    },
    {
     "data": {
      "text/html": [
       "<pre style=\"white-space:pre;overflow-x:auto;line-height:normal;font-family:Menlo,'DejaVu Sans Mono',consolas,'Courier New',monospace\"><span style=\"color: #7fbfbf\">           </span><span style=\"color: #000080\">INFO    </span> Start Training: Epoch <span style=\"color: #000080; font-weight: bold\">11</span>                                   <a href=\"file:///home/j-gunmo/desktop/00.my-project/17.P-Stage-T1003/4-STAGE/trainer.py\"><span style=\"color: #7f7f7f\">trainer.py</span></a><span style=\"color: #7f7f7f\">:409</span>\n",
       "</pre>\n"
      ],
      "text/plain": [
       "<rich.jupyter.JupyterRenderable at 0x7fa93eabc1f0>"
      ]
     },
     "metadata": {},
     "output_type": "display_data"
    },
    {
     "name": "stdout",
     "output_type": "stream",
     "text": [
      "Training steps: 0 Loss: 0.5707943439483643\n",
      "Training steps: 50 Loss: 0.5356687903404236\n",
      "Training steps: 100 Loss: 0.5926520824432373\n",
      "VALID AUC : 0.7784059947427415 ACC : 0.7112462006079028\n",
      "\n"
     ]
    },
    {
     "data": {
      "text/html": [
       "<pre style=\"white-space:pre;overflow-x:auto;line-height:normal;font-family:Menlo,'DejaVu Sans Mono',consolas,'Courier New',monospace\"><span style=\"color: #7fbfbf\">[13:07:50] </span><span style=\"color: #000080\">INFO    </span> TRAIN_LOSS: <span style=\"color: #000080; font-weight: bold\">0.5621997117996216</span>                             <a href=\"file:///home/j-gunmo/desktop/00.my-project/17.P-Stage-T1003/4-STAGE/trainer.py\"><span style=\"color: #7f7f7f\">trainer.py</span></a><span style=\"color: #7f7f7f\">:425</span>\n",
       "</pre>\n"
      ],
      "text/plain": [
       "<rich.jupyter.JupyterRenderable at 0x7fa93eabc940>"
      ]
     },
     "metadata": {},
     "output_type": "display_data"
    },
    {
     "data": {
      "text/html": [
       "<pre style=\"white-space:pre;overflow-x:auto;line-height:normal;font-family:Menlo,'DejaVu Sans Mono',consolas,'Courier New',monospace\"><span style=\"color: #7fbfbf\">           </span><span style=\"color: #000080\">INFO    </span> TRAIN AUC: <span style=\"color: #000080; font-weight: bold\">0.7827409087346513</span> TRAIN ACC:                   <a href=\"file:///home/j-gunmo/desktop/00.my-project/17.P-Stage-T1003/4-STAGE/trainer.py\"><span style=\"color: #7f7f7f\">trainer.py</span></a><span style=\"color: #7f7f7f\">:426</span>\n",
       "                    <span style=\"color: #000080; font-weight: bold\">0.7135710214679247</span>                                                       \n",
       "</pre>\n"
      ],
      "text/plain": [
       "<rich.jupyter.JupyterRenderable at 0x7fa944aa7400>"
      ]
     },
     "metadata": {},
     "output_type": "display_data"
    },
    {
     "data": {
      "text/html": [
       "<pre style=\"white-space:pre;overflow-x:auto;line-height:normal;font-family:Menlo,'DejaVu Sans Mono',consolas,'Courier New',monospace\"><span style=\"color: #7fbfbf\">           </span><span style=\"color: #000080\">INFO    </span> VALID AUC: <span style=\"color: #000080; font-weight: bold\">0.7784059947427415</span> VALID ACC:                   <a href=\"file:///home/j-gunmo/desktop/00.my-project/17.P-Stage-T1003/4-STAGE/trainer.py\"><span style=\"color: #7f7f7f\">trainer.py</span></a><span style=\"color: #7f7f7f\">:427</span>\n",
       "                    <span style=\"color: #000080; font-weight: bold\">0.7112462006079028</span>                                                       \n",
       "                                                                                             \n",
       "</pre>\n"
      ],
      "text/plain": [
       "<rich.jupyter.JupyterRenderable at 0x7fa941dc2970>"
      ]
     },
     "metadata": {},
     "output_type": "display_data"
    },
    {
     "data": {
      "text/html": [
       "<pre style=\"white-space:pre;overflow-x:auto;line-height:normal;font-family:Menlo,'DejaVu Sans Mono',consolas,'Courier New',monospace\"><span style=\"color: #7fbfbf\">           </span><span style=\"color: #000080\">INFO    </span> EarlyStopping counter: <span style=\"color: #000080; font-weight: bold\">5</span>                                   <a href=\"file:///home/j-gunmo/desktop/00.my-project/17.P-Stage-T1003/4-STAGE/trainer.py\"><span style=\"color: #7f7f7f\">trainer.py</span></a><span style=\"color: #7f7f7f\">:435</span>\n",
       "</pre>\n"
      ],
      "text/plain": [
       "<rich.jupyter.JupyterRenderable at 0x7fa941cbb700>"
      ]
     },
     "metadata": {},
     "output_type": "display_data"
    },
    {
     "data": {
      "text/html": [
       "<pre style=\"white-space:pre;overflow-x:auto;line-height:normal;font-family:Menlo,'DejaVu Sans Mono',consolas,'Courier New',monospace\"><span style=\"color: #7fbfbf\">           </span><span style=\"color: #000080\">INFO    </span> EarlyStopping counter: <span style=\"color: #000080; font-weight: bold\">5</span> out of <span style=\"color: #000080; font-weight: bold\">5</span>                          <a href=\"file:///home/j-gunmo/desktop/00.my-project/17.P-Stage-T1003/4-STAGE/trainer.py\"><span style=\"color: #7f7f7f\">trainer.py</span></a><span style=\"color: #7f7f7f\">:437</span>\n",
       "</pre>\n"
      ],
      "text/plain": [
       "<rich.jupyter.JupyterRenderable at 0x7fa951c4c820>"
      ]
     },
     "metadata": {},
     "output_type": "display_data"
    },
    {
     "data": {
      "text/plain": [
       "(0.7837383064719081, 0.7168186423505573)"
      ]
     },
     "execution_count": 78,
     "metadata": {},
     "output_type": "execute_result"
    }
   ],
   "source": [
    "trainer.run_cv(train_dataset, valid_dataset, test_dataset, folds=5, seeds=[0, 1, 2, 3, 4])"
   ]
  },
  {
   "cell_type": "code",
   "execution_count": 126,
   "metadata": {},
   "outputs": [
    {
     "name": "stdout",
     "output_type": "stream",
     "text": [
      "auc : 0.8026846231477597 acc : 0.7294326241134752\n",
      "logging path: ../last_lstm/LOG_[06.14_13:48]\n"
     ]
    }
   ],
   "source": [
    "auc, acc = trainer.run_cv(train_dataset, valid_dataset, test_dataset, folds=5, seeds=[0, 1, 2, 3, 4])\n",
    "clear_output()\n",
    "print(f\"auc : {auc} acc : {acc}\")\n",
    "print(f\"logging path: {trainer.prefix_save_path}\")"
   ]
  },
  {
   "cell_type": "code",
   "execution_count": 178,
   "metadata": {},
   "outputs": [],
   "source": [
    "import torch.nn as nn\n",
    "from models.lstm.model import EmbeddingLayer, LinearLayer\n",
    "\n",
    "class HiddenLayer(nn.Module):\n",
    "    def __init__(self, args):\n",
    "        super(HiddenLayer, self).__init__()\n",
    "        \n",
    "        self.args = args\n",
    "        self.hidden_dim = self.args.hidden_dim\n",
    "        self.hidden_layer = nn.Linear(2, self.hidden_dim * args.n_layers)\n",
    "        \n",
    "    def forward(self, batch):\n",
    "        batch_hid = torch.cat([batch['userPer'][:, -1:], \n",
    "                               batch['testPer'][:, -1:]], 1)\n",
    "        output = self.hidden_layer(batch_hid)\n",
    "        output = output.reshape(-1, self.args.n_layers, self.hidden_dim).permute(1, 0, 2)\n",
    "        return output.contiguous(), torch.empty_like(output).copy_(output).contiguous()\n",
    "        \n",
    "\n",
    "class LSTM(nn.Module):\n",
    "    def __init__(self, args):\n",
    "        super(LSTM, self).__init__()\n",
    "        self.args = args\n",
    "        self.device = args.device\n",
    "\n",
    "        self.hidden_dim = self.args.hidden_dim\n",
    "        self.n_layers = self.args.n_layers\n",
    "        \n",
    "        self.hid_layer = HiddenLayer(args)\n",
    "        self.emb_layer = EmbeddingLayer(args, self.hidden_dim // 2)\n",
    "        args.n_linears = ['secPer', 'timeSec', 'assPer']\n",
    "        self.nli_layer = LinearLayer(args, self.hidden_dim // 2)\n",
    "        \n",
    "        self.comb_proj = nn.Linear(self.hidden_dim, self.hidden_dim)\n",
    "        self.lstm = nn.LSTM(self.hidden_dim, self.hidden_dim, self.n_layers, batch_first=True)\n",
    "        \n",
    "        # Fully connected layer\n",
    "        self.fc = nn.Linear(self.hidden_dim, 1)\n",
    "        self.activation = nn.Sigmoid()\n",
    "\n",
    "    def forward(self, batch):\n",
    "        batch_size = batch[\"interaction\"].size(0)\n",
    "\n",
    "        embed = self.emb_layer(batch)\n",
    "        nnbed = self.nli_layer(batch)\n",
    "\n",
    "        embed = torch.cat([embed, nnbed], 2)\n",
    "        X = self.comb_proj(embed)\n",
    "        \n",
    "        hidden = self.hid_layer(batch)\n",
    "        out, hidden = self.lstm(X, hidden)\n",
    "        out = out.contiguous().view(batch_size, -1, self.hidden_dim)\n",
    "\n",
    "        out = self.fc(out)\n",
    "        preds = self.activation(out).view(batch_size, -1)\n",
    "\n",
    "        return preds"
   ]
  },
  {
   "cell_type": "code",
   "execution_count": 176,
   "metadata": {},
   "outputs": [
    {
     "data": {
      "text/plain": [
       "['userPer', 'assPer', 'firPer', 'testPer', 'secPer', 'timeSec']"
      ]
     },
     "execution_count": 176,
     "metadata": {},
     "output_type": "execute_result"
    }
   ],
   "source": [
    "args.n_linears"
   ]
  },
  {
   "cell_type": "code",
   "execution_count": 173,
   "metadata": {},
   "outputs": [],
   "source": [
    "trainer = FeatureTestTrainer(args, LSTM)"
   ]
  },
  {
   "cell_type": "code",
   "execution_count": 175,
   "metadata": {},
   "outputs": [
    {
     "name": "stdout",
     "output_type": "stream",
     "text": [
      "auc : 0.8022710933055196 acc : 0.7281661600810537\n",
      "logging path: ../last_lstm/LOG_[06.14_14:32]\n"
     ]
    }
   ],
   "source": [
    "auc, acc = trainer.run_cv(train_dataset, valid_dataset, test_dataset, folds=5, seeds=[0, 1, 2, 3, 4])\n",
    "clear_output()\n",
    "print(f\"auc : {auc} acc : {acc}\")\n",
    "print(f\"logging path: {trainer.prefix_save_path}\")"
   ]
  },
  {
   "cell_type": "code",
   "execution_count": 177,
   "metadata": {},
   "outputs": [
    {
     "data": {
      "text/plain": [
       "['userPer', 'assPer', 'firPer', 'testPer', 'secPer', 'timeSec']"
      ]
     },
     "execution_count": 177,
     "metadata": {},
     "output_type": "execute_result"
    }
   ],
   "source": [
    "args.n_linears = ['secPer', 'timeSec', 'assPer']"
   ]
  },
  {
   "cell_type": "code",
   "execution_count": 179,
   "metadata": {},
   "outputs": [],
   "source": [
    "trainer = FeatureTestTrainer(args, LSTM)"
   ]
  },
  {
   "cell_type": "code",
   "execution_count": 182,
   "metadata": {},
   "outputs": [
    {
     "data": {
      "text/plain": [
       "(2, 1024)"
      ]
     },
     "execution_count": 182,
     "metadata": {},
     "output_type": "execute_result"
    }
   ],
   "source": [
    "args.n_layers, args.hidden_dim"
   ]
  },
  {
   "cell_type": "code",
   "execution_count": 183,
   "metadata": {},
   "outputs": [
    {
     "name": "stdout",
     "output_type": "stream",
     "text": [
      "auc : 0.782386306241773 acc : 0.7152988855116514\n",
      "logging path: ../last_lstm/LOG_[06.14_14:50]\n"
     ]
    }
   ],
   "source": [
    "auc, acc = trainer.run_cv(train_dataset, valid_dataset, test_dataset, folds=5, seeds=[0, 1, 2, 3, 4])\n",
    "clear_output()\n",
    "print(f\"auc : {auc} acc : {acc}\")\n",
    "print(f\"logging path: {trainer.prefix_save_path}\")"
   ]
  },
  {
   "cell_type": "code",
   "execution_count": 188,
   "metadata": {},
   "outputs": [],
   "source": [
    "from transformers import BertConfig, BertModel"
   ]
  },
  {
   "cell_type": "code",
   "execution_count": 189,
   "metadata": {},
   "outputs": [],
   "source": [
    "class Bert(nn.Module):\n",
    "    def __init__(self, args):\n",
    "        super(Bert, self).__init__()\n",
    "        self.args = args\n",
    "        self.device = args.device\n",
    "\n",
    "        # Defining some parameters\n",
    "        self.hidden_dim = self.args.hidden_dim\n",
    "        self.n_layers = self.args.n_layers\n",
    "        \n",
    "        self.emb_layer = EmbeddingLayer(args, self.hidden_dim // 2)\n",
    "        self.nli_layer = LinearLayer(args, self.hidden_dim // 2)\n",
    "        \n",
    "        self.comb_proj = nn.Linear(self.hidden_dim, self.hidden_dim)\n",
    "\n",
    "        # Bert config\n",
    "        self.config = BertConfig(\n",
    "            3,  # not used\n",
    "            hidden_size=self.hidden_dim,\n",
    "            num_hidden_layers=self.args.n_layers,\n",
    "            num_attention_heads=self.args.n_heads,\n",
    "            max_position_embeddings=self.args.max_seq_len,\n",
    "        )\n",
    "\n",
    "        # Defining the layers\n",
    "        # Bert Layer\n",
    "        self.encoder = BertModel(self.config)\n",
    "\n",
    "        # Fully connected layer\n",
    "        self.fc = nn.Linear(self.args.hidden_dim, 1)\n",
    "        self.activation = nn.Sigmoid()\n",
    "\n",
    "    def forward(self, batch):\n",
    "        batch_size = batch[\"interaction\"].size(0)\n",
    "    \n",
    "        embed = self.emb_layer(batch)\n",
    "        nnbed = self.nli_layer(batch)\n",
    "        \n",
    "        embed = torch.cat([embed, nnbed], 2)\n",
    "        X = self.comb_proj(embed)\n",
    "\n",
    "        # Bert\n",
    "        encoded_layers = self.encoder(inputs_embeds=X, attention_mask=batch[\"mask\"])\n",
    "        out = encoded_layers[0]\n",
    "        out = out.contiguous().view(batch_size, -1, self.hidden_dim)\n",
    "        out = self.fc(out)\n",
    "        preds = self.activation(out).view(batch_size, -1)\n",
    "\n",
    "        return preds"
   ]
  },
  {
   "cell_type": "code",
   "execution_count": 193,
   "metadata": {},
   "outputs": [],
   "source": [
    "args.n_heads = 4"
   ]
  },
  {
   "cell_type": "code",
   "execution_count": 196,
   "metadata": {},
   "outputs": [],
   "source": [
    "trainer = FeatureTestTrainer(args, Bert)"
   ]
  },
  {
   "cell_type": "code",
   "execution_count": null,
   "metadata": {
    "collapsed": true,
    "jupyter": {
     "outputs_hidden": true
    }
   },
   "outputs": [
    {
     "data": {
      "text/html": [
       "Finishing last run (ID:2a7xtmt4) before initializing another..."
      ],
      "text/plain": [
       "<IPython.core.display.HTML object>"
      ]
     },
     "metadata": {},
     "output_type": "display_data"
    },
    {
     "data": {
      "text/html": [
       "<br/>Waiting for W&B process to finish, PID 86393<br/>Program ended successfully."
      ],
      "text/plain": [
       "<IPython.core.display.HTML object>"
      ]
     },
     "metadata": {},
     "output_type": "display_data"
    },
    {
     "data": {
      "application/vnd.jupyter.widget-view+json": {
       "model_id": "e4b57eefdf5342ae9924450c2d71fc96",
       "version_major": 2,
       "version_minor": 0
      },
      "text/plain": [
       "VBox(children=(Label(value=' 5.91MB of 5.91MB uploaded (0.00MB deduped)\\r'), FloatProgress(value=1.0, max=1.0)…"
      ]
     },
     "metadata": {},
     "output_type": "display_data"
    },
    {
     "data": {
      "text/html": [
       "Find user logs for this run at: <code>/home/j-gunmo/desktop/00.my-project/17.P-Stage-T1003/4-STAGE/notebook/wandb/run-20210614_145945-2a7xtmt4/logs/debug.log</code>"
      ],
      "text/plain": [
       "<IPython.core.display.HTML object>"
      ]
     },
     "metadata": {},
     "output_type": "display_data"
    },
    {
     "data": {
      "text/html": [
       "Find internal logs for this run at: <code>/home/j-gunmo/desktop/00.my-project/17.P-Stage-T1003/4-STAGE/notebook/wandb/run-20210614_145945-2a7xtmt4/logs/debug-internal.log</code>"
      ],
      "text/plain": [
       "<IPython.core.display.HTML object>"
      ]
     },
     "metadata": {},
     "output_type": "display_data"
    },
    {
     "data": {
      "text/html": [
       "<h3>Run summary:</h3><br/><style>\n",
       "    table.wandb td:nth-child(1) { padding: 0 10px; text-align: right }\n",
       "    </style><table class=\"wandb\">\n",
       "<tr><td>epoch</td><td>14</td></tr><tr><td>train_loss</td><td>0.56348</td></tr><tr><td>train_auc</td><td>0.7806</td></tr><tr><td>train_acc</td><td>0.71072</td></tr><tr><td>valid_auc</td><td>0.7776</td></tr><tr><td>valid_acc</td><td>0.71327</td></tr><tr><td>_runtime</td><td>100</td></tr><tr><td>_timestamp</td><td>1623650488</td></tr><tr><td>_step</td><td>14</td></tr></table>"
      ],
      "text/plain": [
       "<IPython.core.display.HTML object>"
      ]
     },
     "metadata": {},
     "output_type": "display_data"
    },
    {
     "data": {
      "text/html": [
       "<h3>Run history:</h3><br/><style>\n",
       "    table.wandb td:nth-child(1) { padding: 0 10px; text-align: right }\n",
       "    </style><table class=\"wandb\">\n",
       "<tr><td>epoch</td><td>▁▁▂▃▃▃▄▅▅▅▆▇▇▇█</td></tr><tr><td>train_loss</td><td>█▃▂▂▂▁▂▁▁▁▁▁▁▁▁</td></tr><tr><td>train_auc</td><td>▁▆▆▇▇▇▇█████▇██</td></tr><tr><td>train_acc</td><td>▁▆▆▆▇▇▇▇█▇█████</td></tr><tr><td>valid_auc</td><td>▁▄▆▆▇▇▆▇▇██▇█▇█</td></tr><tr><td>valid_acc</td><td>▃▁▅▆▇█▆▆▁▅██▅▇▆</td></tr><tr><td>_runtime</td><td>▁▂▂▃▃▄▄▅▅▆▆▇▇██</td></tr><tr><td>_timestamp</td><td>▁▂▂▃▃▄▄▅▅▆▆▇▇██</td></tr><tr><td>_step</td><td>▁▁▂▃▃▃▄▅▅▅▆▇▇▇█</td></tr></table><br/>"
      ],
      "text/plain": [
       "<IPython.core.display.HTML object>"
      ]
     },
     "metadata": {},
     "output_type": "display_data"
    },
    {
     "data": {
      "text/html": [
       "Synced 6 W&B file(s), 1 media file(s), 0 artifact file(s) and 2 other file(s)"
      ],
      "text/plain": [
       "<IPython.core.display.HTML object>"
      ]
     },
     "metadata": {},
     "output_type": "display_data"
    },
    {
     "data": {
      "text/html": [
       "\n",
       "                    <br/>Synced <strong style=\"color:#cdcd00\">easy-sponge-528</strong>: <a href=\"https://wandb.ai/ggm1207/p-stage-4/runs/2a7xtmt4\" target=\"_blank\">https://wandb.ai/ggm1207/p-stage-4/runs/2a7xtmt4</a><br/>\n",
       "                "
      ],
      "text/plain": [
       "<IPython.core.display.HTML object>"
      ]
     },
     "metadata": {},
     "output_type": "display_data"
    },
    {
     "data": {
      "text/html": [
       "...Successfully finished last run (ID:2a7xtmt4). Initializing new run:<br/><br/>"
      ],
      "text/plain": [
       "<IPython.core.display.HTML object>"
      ]
     },
     "metadata": {},
     "output_type": "display_data"
    },
    {
     "name": "stderr",
     "output_type": "stream",
     "text": [
      "\u001b[34m\u001b[1mwandb\u001b[0m: wandb version 0.10.32 is available!  To upgrade, please run:\n",
      "\u001b[34m\u001b[1mwandb\u001b[0m:  $ pip install wandb --upgrade\n"
     ]
    },
    {
     "data": {
      "text/html": [
       "\n",
       "                Tracking run with wandb version 0.10.27<br/>\n",
       "                Syncing run <strong style=\"color:#cdcd00\">scarlet-mountain-529</strong> to <a href=\"https://wandb.ai\" target=\"_blank\">Weights & Biases</a> <a href=\"https://docs.wandb.com/integrations/jupyter.html\" target=\"_blank\">(Documentation)</a>.<br/>\n",
       "                Project page: <a href=\"https://wandb.ai/ggm1207/p-stage-4\" target=\"_blank\">https://wandb.ai/ggm1207/p-stage-4</a><br/>\n",
       "                Run page: <a href=\"https://wandb.ai/ggm1207/p-stage-4/runs/36ywi57t\" target=\"_blank\">https://wandb.ai/ggm1207/p-stage-4/runs/36ywi57t</a><br/>\n",
       "                Run data is saved locally in <code>/home/j-gunmo/desktop/00.my-project/17.P-Stage-T1003/4-STAGE/notebook/wandb/run-20210614_150255-36ywi57t</code><br/><br/>\n",
       "            "
      ],
      "text/plain": [
       "<IPython.core.display.HTML object>"
      ]
     },
     "metadata": {},
     "output_type": "display_data"
    },
    {
     "data": {
      "text/html": [
       "<pre style=\"white-space:pre;overflow-x:auto;line-height:normal;font-family:Menlo,'DejaVu Sans Mono',consolas,'Courier New',monospace\"><span style=\"color: #7fbfbf\">[15:03:01] </span><span style=\"color: #000080\">INFO    </span> Start Training: Epoch <span style=\"color: #000080; font-weight: bold\">1</span>                                    <a href=\"file:///home/j-gunmo/desktop/00.my-project/17.P-Stage-T1003/4-STAGE/trainer.py\"><span style=\"color: #7f7f7f\">trainer.py</span></a><span style=\"color: #7f7f7f\">:409</span>\n",
       "</pre>\n"
      ],
      "text/plain": [
       "<rich.jupyter.JupyterRenderable at 0x7fa955399460>"
      ]
     },
     "metadata": {},
     "output_type": "display_data"
    },
    {
     "name": "stdout",
     "output_type": "stream",
     "text": [
      "Training steps: 0 Loss: 0.736411452293396\n",
      "Training steps: 50 Loss: 0.6395953893661499\n",
      "VALID AUC : 0.8274023437500001 ACC : 0.7454407294832827\n",
      "\n"
     ]
    },
    {
     "data": {
      "text/html": [
       "<pre style=\"white-space:pre;overflow-x:auto;line-height:normal;font-family:Menlo,'DejaVu Sans Mono',consolas,'Courier New',monospace\"><span style=\"color: #7fbfbf\">[15:03:09] </span><span style=\"color: #000080\">INFO    </span> TRAIN_LOSS: <span style=\"color: #000080; font-weight: bold\">0.5984269380569458</span>                             <a href=\"file:///home/j-gunmo/desktop/00.my-project/17.P-Stage-T1003/4-STAGE/trainer.py\"><span style=\"color: #7f7f7f\">trainer.py</span></a><span style=\"color: #7f7f7f\">:425</span>\n",
       "</pre>\n"
      ],
      "text/plain": [
       "<rich.jupyter.JupyterRenderable at 0x7fa955399130>"
      ]
     },
     "metadata": {},
     "output_type": "display_data"
    },
    {
     "data": {
      "text/html": [
       "<pre style=\"white-space:pre;overflow-x:auto;line-height:normal;font-family:Menlo,'DejaVu Sans Mono',consolas,'Courier New',monospace\"><span style=\"color: #7fbfbf\">           </span><span style=\"color: #000080\">INFO    </span> TRAIN AUC: <span style=\"color: #000080; font-weight: bold\">0.7586042341568885</span> TRAIN ACC:                   <a href=\"file:///home/j-gunmo/desktop/00.my-project/17.P-Stage-T1003/4-STAGE/trainer.py\"><span style=\"color: #7f7f7f\">trainer.py</span></a><span style=\"color: #7f7f7f\">:426</span>\n",
       "                    <span style=\"color: #000080; font-weight: bold\">0.6979925273890191</span>                                                       \n",
       "</pre>\n"
      ],
      "text/plain": [
       "<rich.jupyter.JupyterRenderable at 0x7fa955399460>"
      ]
     },
     "metadata": {},
     "output_type": "display_data"
    },
    {
     "data": {
      "text/html": [
       "<pre style=\"white-space:pre;overflow-x:auto;line-height:normal;font-family:Menlo,'DejaVu Sans Mono',consolas,'Courier New',monospace\"><span style=\"color: #7fbfbf\">           </span><span style=\"color: #000080\">INFO    </span> VALID AUC: <span style=\"color: #000080; font-weight: bold\">0.8274023437500001</span> VALID ACC:                   <a href=\"file:///home/j-gunmo/desktop/00.my-project/17.P-Stage-T1003/4-STAGE/trainer.py\"><span style=\"color: #7f7f7f\">trainer.py</span></a><span style=\"color: #7f7f7f\">:427</span>\n",
       "                    <span style=\"color: #000080; font-weight: bold\">0.7454407294832827</span>                                                       \n",
       "                                                                                             \n",
       "</pre>\n"
      ],
      "text/plain": [
       "<rich.jupyter.JupyterRenderable at 0x7fa9553996d0>"
      ]
     },
     "metadata": {},
     "output_type": "display_data"
    },
    {
     "data": {
      "text/html": [
       "<pre style=\"white-space:pre;overflow-x:auto;line-height:normal;font-family:Menlo,'DejaVu Sans Mono',consolas,'Courier New',monospace\"><span style=\"color: #7fbfbf\">           </span><span style=\"color: #000080\">INFO    </span> Start Training: Epoch <span style=\"color: #000080; font-weight: bold\">2</span>                                    <a href=\"file:///home/j-gunmo/desktop/00.my-project/17.P-Stage-T1003/4-STAGE/trainer.py\"><span style=\"color: #7f7f7f\">trainer.py</span></a><span style=\"color: #7f7f7f\">:409</span>\n",
       "</pre>\n"
      ],
      "text/plain": [
       "<rich.jupyter.JupyterRenderable at 0x7fa955399790>"
      ]
     },
     "metadata": {},
     "output_type": "display_data"
    },
    {
     "name": "stdout",
     "output_type": "stream",
     "text": [
      "Training steps: 0 Loss: 0.4838271141052246\n",
      "Training steps: 50 Loss: 0.5337360501289368\n",
      "VALID AUC : 0.8348422080592106 ACC : 0.7462006079027356\n",
      "\n"
     ]
    },
    {
     "data": {
      "text/html": [
       "<pre style=\"white-space:pre;overflow-x:auto;line-height:normal;font-family:Menlo,'DejaVu Sans Mono',consolas,'Courier New',monospace\"><span style=\"color: #7fbfbf\">[15:03:17] </span><span style=\"color: #000080\">INFO    </span> TRAIN_LOSS: <span style=\"color: #000080; font-weight: bold\">0.5230029821395874</span>                             <a href=\"file:///home/j-gunmo/desktop/00.my-project/17.P-Stage-T1003/4-STAGE/trainer.py\"><span style=\"color: #7f7f7f\">trainer.py</span></a><span style=\"color: #7f7f7f\">:425</span>\n",
       "</pre>\n"
      ],
      "text/plain": [
       "<rich.jupyter.JupyterRenderable at 0x7faaed4c4880>"
      ]
     },
     "metadata": {},
     "output_type": "display_data"
    },
    {
     "data": {
      "text/html": [
       "<pre style=\"white-space:pre;overflow-x:auto;line-height:normal;font-family:Menlo,'DejaVu Sans Mono',consolas,'Courier New',monospace\"><span style=\"color: #7fbfbf\">           </span><span style=\"color: #000080\">INFO    </span> TRAIN AUC: <span style=\"color: #000080; font-weight: bold\">0.8173868342304041</span> TRAIN ACC:                   <a href=\"file:///home/j-gunmo/desktop/00.my-project/17.P-Stage-T1003/4-STAGE/trainer.py\"><span style=\"color: #7f7f7f\">trainer.py</span></a><span style=\"color: #7f7f7f\">:426</span>\n",
       "                    <span style=\"color: #000080; font-weight: bold\">0.7383952884554493</span>                                                       \n",
       "</pre>\n"
      ],
      "text/plain": [
       "<rich.jupyter.JupyterRenderable at 0x7fa955399b50>"
      ]
     },
     "metadata": {},
     "output_type": "display_data"
    },
    {
     "data": {
      "text/html": [
       "<pre style=\"white-space:pre;overflow-x:auto;line-height:normal;font-family:Menlo,'DejaVu Sans Mono',consolas,'Courier New',monospace\"><span style=\"color: #7fbfbf\">           </span><span style=\"color: #000080\">INFO    </span> VALID AUC: <span style=\"color: #000080; font-weight: bold\">0.8348422080592106</span> VALID ACC:                   <a href=\"file:///home/j-gunmo/desktop/00.my-project/17.P-Stage-T1003/4-STAGE/trainer.py\"><span style=\"color: #7f7f7f\">trainer.py</span></a><span style=\"color: #7f7f7f\">:427</span>\n",
       "                    <span style=\"color: #000080; font-weight: bold\">0.7462006079027356</span>                                                       \n",
       "                                                                                             \n",
       "</pre>\n"
      ],
      "text/plain": [
       "<rich.jupyter.JupyterRenderable at 0x7fa955399b80>"
      ]
     },
     "metadata": {},
     "output_type": "display_data"
    },
    {
     "data": {
      "text/html": [
       "<pre style=\"white-space:pre;overflow-x:auto;line-height:normal;font-family:Menlo,'DejaVu Sans Mono',consolas,'Courier New',monospace\"><span style=\"color: #7fbfbf\">           </span><span style=\"color: #000080\">INFO    </span> Start Training: Epoch <span style=\"color: #000080; font-weight: bold\">3</span>                                    <a href=\"file:///home/j-gunmo/desktop/00.my-project/17.P-Stage-T1003/4-STAGE/trainer.py\"><span style=\"color: #7f7f7f\">trainer.py</span></a><span style=\"color: #7f7f7f\">:409</span>\n",
       "</pre>\n"
      ],
      "text/plain": [
       "<rich.jupyter.JupyterRenderable at 0x7fa955399550>"
      ]
     },
     "metadata": {},
     "output_type": "display_data"
    },
    {
     "name": "stdout",
     "output_type": "stream",
     "text": [
      "Training steps: 0 Loss: 0.5237232446670532\n",
      "Training steps: 50 Loss: 0.5032291412353516\n",
      "VALID AUC : 0.8371335320723685 ACC : 0.7616514690982776\n",
      "\n"
     ]
    },
    {
     "data": {
      "text/html": [
       "<pre style=\"white-space:pre;overflow-x:auto;line-height:normal;font-family:Menlo,'DejaVu Sans Mono',consolas,'Courier New',monospace\"><span style=\"color: #7fbfbf\">[15:03:25] </span><span style=\"color: #000080\">INFO    </span> TRAIN_LOSS: <span style=\"color: #000080; font-weight: bold\">0.5127151608467102</span>                             <a href=\"file:///home/j-gunmo/desktop/00.my-project/17.P-Stage-T1003/4-STAGE/trainer.py\"><span style=\"color: #7f7f7f\">trainer.py</span></a><span style=\"color: #7f7f7f\">:425</span>\n",
       "</pre>\n"
      ],
      "text/plain": [
       "<rich.jupyter.JupyterRenderable at 0x7fa9412f85e0>"
      ]
     },
     "metadata": {},
     "output_type": "display_data"
    },
    {
     "data": {
      "text/html": [
       "<pre style=\"white-space:pre;overflow-x:auto;line-height:normal;font-family:Menlo,'DejaVu Sans Mono',consolas,'Courier New',monospace\"><span style=\"color: #7fbfbf\">           </span><span style=\"color: #000080\">INFO    </span> TRAIN AUC: <span style=\"color: #000080; font-weight: bold\">0.8250911443897525</span> TRAIN ACC:                   <a href=\"file:///home/j-gunmo/desktop/00.my-project/17.P-Stage-T1003/4-STAGE/trainer.py\"><span style=\"color: #7f7f7f\">trainer.py</span></a><span style=\"color: #7f7f7f\">:426</span>\n",
       "                    <span style=\"color: #000080; font-weight: bold\">0.7444113735672219</span>                                                       \n",
       "</pre>\n"
      ],
      "text/plain": [
       "<rich.jupyter.JupyterRenderable at 0x7faaed4c4880>"
      ]
     },
     "metadata": {},
     "output_type": "display_data"
    },
    {
     "data": {
      "text/html": [
       "<pre style=\"white-space:pre;overflow-x:auto;line-height:normal;font-family:Menlo,'DejaVu Sans Mono',consolas,'Courier New',monospace\"><span style=\"color: #7fbfbf\">           </span><span style=\"color: #000080\">INFO    </span> VALID AUC: <span style=\"color: #000080; font-weight: bold\">0.8371335320723685</span> VALID ACC:                   <a href=\"file:///home/j-gunmo/desktop/00.my-project/17.P-Stage-T1003/4-STAGE/trainer.py\"><span style=\"color: #7f7f7f\">trainer.py</span></a><span style=\"color: #7f7f7f\">:427</span>\n",
       "                    <span style=\"color: #000080; font-weight: bold\">0.7616514690982776</span>                                                       \n",
       "                                                                                             \n",
       "</pre>\n"
      ],
      "text/plain": [
       "<rich.jupyter.JupyterRenderable at 0x7fa9536a18e0>"
      ]
     },
     "metadata": {},
     "output_type": "display_data"
    },
    {
     "data": {
      "text/html": [
       "<pre style=\"white-space:pre;overflow-x:auto;line-height:normal;font-family:Menlo,'DejaVu Sans Mono',consolas,'Courier New',monospace\"><span style=\"color: #7fbfbf\">           </span><span style=\"color: #000080\">INFO    </span> Start Training: Epoch <span style=\"color: #000080; font-weight: bold\">4</span>                                    <a href=\"file:///home/j-gunmo/desktop/00.my-project/17.P-Stage-T1003/4-STAGE/trainer.py\"><span style=\"color: #7f7f7f\">trainer.py</span></a><span style=\"color: #7f7f7f\">:409</span>\n",
       "</pre>\n"
      ],
      "text/plain": [
       "<rich.jupyter.JupyterRenderable at 0x7fa9536a90a0>"
      ]
     },
     "metadata": {},
     "output_type": "display_data"
    },
    {
     "name": "stdout",
     "output_type": "stream",
     "text": [
      "Training steps: 0 Loss: 0.472443163394928\n",
      "Training steps: 50 Loss: 0.5020096898078918\n",
      "VALID AUC : 0.835569490131579 ACC : 0.745694022289767\n",
      "\n"
     ]
    },
    {
     "data": {
      "text/html": [
       "<pre style=\"white-space:pre;overflow-x:auto;line-height:normal;font-family:Menlo,'DejaVu Sans Mono',consolas,'Courier New',monospace\"><span style=\"color: #7fbfbf\">[15:03:33] </span><span style=\"color: #000080\">INFO    </span> TRAIN_LOSS: <span style=\"color: #000080; font-weight: bold\">0.508389413356781</span>                              <a href=\"file:///home/j-gunmo/desktop/00.my-project/17.P-Stage-T1003/4-STAGE/trainer.py\"><span style=\"color: #7f7f7f\">trainer.py</span></a><span style=\"color: #7f7f7f\">:425</span>\n",
       "</pre>\n"
      ],
      "text/plain": [
       "<rich.jupyter.JupyterRenderable at 0x7fa9536a13a0>"
      ]
     },
     "metadata": {},
     "output_type": "display_data"
    },
    {
     "data": {
      "text/html": [
       "<pre style=\"white-space:pre;overflow-x:auto;line-height:normal;font-family:Menlo,'DejaVu Sans Mono',consolas,'Courier New',monospace\"><span style=\"color: #7fbfbf\">           </span><span style=\"color: #000080\">INFO    </span> TRAIN AUC: <span style=\"color: #000080; font-weight: bold\">0.8287499641005903</span> TRAIN ACC:                   <a href=\"file:///home/j-gunmo/desktop/00.my-project/17.P-Stage-T1003/4-STAGE/trainer.py\"><span style=\"color: #7f7f7f\">trainer.py</span></a><span style=\"color: #7f7f7f\">:426</span>\n",
       "                    <span style=\"color: #000080; font-weight: bold\">0.7487809511747198</span>                                                       \n",
       "</pre>\n"
      ],
      "text/plain": [
       "<rich.jupyter.JupyterRenderable at 0x7fa951c88430>"
      ]
     },
     "metadata": {},
     "output_type": "display_data"
    },
    {
     "data": {
      "text/html": [
       "<pre style=\"white-space:pre;overflow-x:auto;line-height:normal;font-family:Menlo,'DejaVu Sans Mono',consolas,'Courier New',monospace\"><span style=\"color: #7fbfbf\">           </span><span style=\"color: #000080\">INFO    </span> VALID AUC: <span style=\"color: #000080; font-weight: bold\">0.835569490131579</span> VALID ACC: <span style=\"color: #000080; font-weight: bold\">0.745694022289767</span>  <a href=\"file:///home/j-gunmo/desktop/00.my-project/17.P-Stage-T1003/4-STAGE/trainer.py\"><span style=\"color: #7f7f7f\">trainer.py</span></a><span style=\"color: #7f7f7f\">:427</span>\n",
       "                                                                                             \n",
       "</pre>\n"
      ],
      "text/plain": [
       "<rich.jupyter.JupyterRenderable at 0x7fa94024b6a0>"
      ]
     },
     "metadata": {},
     "output_type": "display_data"
    },
    {
     "data": {
      "text/html": [
       "<pre style=\"white-space:pre;overflow-x:auto;line-height:normal;font-family:Menlo,'DejaVu Sans Mono',consolas,'Courier New',monospace\"><span style=\"color: #7fbfbf\">           </span><span style=\"color: #000080\">INFO    </span> EarlyStopping counter: <span style=\"color: #000080; font-weight: bold\">1</span>                                   <a href=\"file:///home/j-gunmo/desktop/00.my-project/17.P-Stage-T1003/4-STAGE/trainer.py\"><span style=\"color: #7f7f7f\">trainer.py</span></a><span style=\"color: #7f7f7f\">:435</span>\n",
       "</pre>\n"
      ],
      "text/plain": [
       "<rich.jupyter.JupyterRenderable at 0x7fa9536a18e0>"
      ]
     },
     "metadata": {},
     "output_type": "display_data"
    },
    {
     "data": {
      "text/html": [
       "<pre style=\"white-space:pre;overflow-x:auto;line-height:normal;font-family:Menlo,'DejaVu Sans Mono',consolas,'Courier New',monospace\"><span style=\"color: #7fbfbf\">           </span><span style=\"color: #000080\">INFO    </span> Start Training: Epoch <span style=\"color: #000080; font-weight: bold\">5</span>                                    <a href=\"file:///home/j-gunmo/desktop/00.my-project/17.P-Stage-T1003/4-STAGE/trainer.py\"><span style=\"color: #7f7f7f\">trainer.py</span></a><span style=\"color: #7f7f7f\">:409</span>\n",
       "</pre>\n"
      ],
      "text/plain": [
       "<rich.jupyter.JupyterRenderable at 0x7fa94024b6d0>"
      ]
     },
     "metadata": {},
     "output_type": "display_data"
    },
    {
     "name": "stdout",
     "output_type": "stream",
     "text": [
      "Training steps: 0 Loss: 0.4279080033302307\n",
      "Training steps: 50 Loss: 0.5043120384216309\n",
      "VALID AUC : 0.8350704152960525 ACC : 0.7467071935157041\n",
      "\n"
     ]
    },
    {
     "data": {
      "text/html": [
       "<pre style=\"white-space:pre;overflow-x:auto;line-height:normal;font-family:Menlo,'DejaVu Sans Mono',consolas,'Courier New',monospace\"><span style=\"color: #7fbfbf\">[15:03:41] </span><span style=\"color: #000080\">INFO    </span> TRAIN_LOSS: <span style=\"color: #000080; font-weight: bold\">0.5011010766029358</span>                             <a href=\"file:///home/j-gunmo/desktop/00.my-project/17.P-Stage-T1003/4-STAGE/trainer.py\"><span style=\"color: #7f7f7f\">trainer.py</span></a><span style=\"color: #7f7f7f\">:425</span>\n",
       "</pre>\n"
      ],
      "text/plain": [
       "<rich.jupyter.JupyterRenderable at 0x7fa95362df40>"
      ]
     },
     "metadata": {},
     "output_type": "display_data"
    },
    {
     "data": {
      "text/html": [
       "<pre style=\"white-space:pre;overflow-x:auto;line-height:normal;font-family:Menlo,'DejaVu Sans Mono',consolas,'Courier New',monospace\"><span style=\"color: #7fbfbf\">           </span><span style=\"color: #000080\">INFO    </span> TRAIN AUC: <span style=\"color: #000080; font-weight: bold\">0.8343472797392715</span> TRAIN ACC:                   <a href=\"file:///home/j-gunmo/desktop/00.my-project/17.P-Stage-T1003/4-STAGE/trainer.py\"><span style=\"color: #7f7f7f\">trainer.py</span></a><span style=\"color: #7f7f7f\">:426</span>\n",
       "                    <span style=\"color: #000080; font-weight: bold\">0.7542904185928694</span>                                                       \n",
       "</pre>\n"
      ],
      "text/plain": [
       "<rich.jupyter.JupyterRenderable at 0x7fa9415ba760>"
      ]
     },
     "metadata": {},
     "output_type": "display_data"
    },
    {
     "data": {
      "text/html": [
       "<pre style=\"white-space:pre;overflow-x:auto;line-height:normal;font-family:Menlo,'DejaVu Sans Mono',consolas,'Courier New',monospace\"><span style=\"color: #7fbfbf\">           </span><span style=\"color: #000080\">INFO    </span> VALID AUC: <span style=\"color: #000080; font-weight: bold\">0.8350704152960525</span> VALID ACC:                   <a href=\"file:///home/j-gunmo/desktop/00.my-project/17.P-Stage-T1003/4-STAGE/trainer.py\"><span style=\"color: #7f7f7f\">trainer.py</span></a><span style=\"color: #7f7f7f\">:427</span>\n",
       "                    <span style=\"color: #000080; font-weight: bold\">0.7467071935157041</span>                                                       \n",
       "                                                                                             \n",
       "</pre>\n"
      ],
      "text/plain": [
       "<rich.jupyter.JupyterRenderable at 0x7fa93f1ae100>"
      ]
     },
     "metadata": {},
     "output_type": "display_data"
    },
    {
     "data": {
      "text/html": [
       "<pre style=\"white-space:pre;overflow-x:auto;line-height:normal;font-family:Menlo,'DejaVu Sans Mono',consolas,'Courier New',monospace\"><span style=\"color: #7fbfbf\">           </span><span style=\"color: #000080\">INFO    </span> EarlyStopping counter: <span style=\"color: #000080; font-weight: bold\">2</span>                                   <a href=\"file:///home/j-gunmo/desktop/00.my-project/17.P-Stage-T1003/4-STAGE/trainer.py\"><span style=\"color: #7f7f7f\">trainer.py</span></a><span style=\"color: #7f7f7f\">:435</span>\n",
       "</pre>\n"
      ],
      "text/plain": [
       "<rich.jupyter.JupyterRenderable at 0x7fa9412f8ee0>"
      ]
     },
     "metadata": {},
     "output_type": "display_data"
    },
    {
     "data": {
      "text/html": [
       "<pre style=\"white-space:pre;overflow-x:auto;line-height:normal;font-family:Menlo,'DejaVu Sans Mono',consolas,'Courier New',monospace\"><span style=\"color: #7fbfbf\">           </span><span style=\"color: #000080\">INFO    </span> Start Training: Epoch <span style=\"color: #000080; font-weight: bold\">6</span>                                    <a href=\"file:///home/j-gunmo/desktop/00.my-project/17.P-Stage-T1003/4-STAGE/trainer.py\"><span style=\"color: #7f7f7f\">trainer.py</span></a><span style=\"color: #7f7f7f\">:409</span>\n",
       "</pre>\n"
      ],
      "text/plain": [
       "<rich.jupyter.JupyterRenderable at 0x7fa93f1ae460>"
      ]
     },
     "metadata": {},
     "output_type": "display_data"
    },
    {
     "name": "stdout",
     "output_type": "stream",
     "text": [
      "Training steps: 0 Loss: 0.48992013931274414\n",
      "Training steps: 50 Loss: 0.43310001492500305\n",
      "VALID AUC : 0.8350585937499999 ACC : 0.7469604863221885\n",
      "\n"
     ]
    },
    {
     "data": {
      "text/html": [
       "<pre style=\"white-space:pre;overflow-x:auto;line-height:normal;font-family:Menlo,'DejaVu Sans Mono',consolas,'Courier New',monospace\"><span style=\"color: #7fbfbf\">[15:03:49] </span><span style=\"color: #000080\">INFO    </span> TRAIN_LOSS: <span style=\"color: #000080; font-weight: bold\">0.5072482228279114</span>                             <a href=\"file:///home/j-gunmo/desktop/00.my-project/17.P-Stage-T1003/4-STAGE/trainer.py\"><span style=\"color: #7f7f7f\">trainer.py</span></a><span style=\"color: #7f7f7f\">:425</span>\n",
       "</pre>\n"
      ],
      "text/plain": [
       "<rich.jupyter.JupyterRenderable at 0x7fa95363ce80>"
      ]
     },
     "metadata": {},
     "output_type": "display_data"
    },
    {
     "data": {
      "text/html": [
       "<pre style=\"white-space:pre;overflow-x:auto;line-height:normal;font-family:Menlo,'DejaVu Sans Mono',consolas,'Courier New',monospace\"><span style=\"color: #7fbfbf\">           </span><span style=\"color: #000080\">INFO    </span> TRAIN AUC: <span style=\"color: #000080; font-weight: bold\">0.8297101349288342</span> TRAIN ACC: <span style=\"color: #000080; font-weight: bold\">0.74966753213856</span>  <a href=\"file:///home/j-gunmo/desktop/00.my-project/17.P-Stage-T1003/4-STAGE/trainer.py\"><span style=\"color: #7f7f7f\">trainer.py</span></a><span style=\"color: #7f7f7f\">:426</span>\n",
       "</pre>\n"
      ],
      "text/plain": [
       "<rich.jupyter.JupyterRenderable at 0x7fa951c884f0>"
      ]
     },
     "metadata": {},
     "output_type": "display_data"
    },
    {
     "data": {
      "text/html": [
       "<pre style=\"white-space:pre;overflow-x:auto;line-height:normal;font-family:Menlo,'DejaVu Sans Mono',consolas,'Courier New',monospace\"><span style=\"color: #7fbfbf\">           </span><span style=\"color: #000080\">INFO    </span> VALID AUC: <span style=\"color: #000080; font-weight: bold\">0.8350585937499999</span> VALID ACC:                   <a href=\"file:///home/j-gunmo/desktop/00.my-project/17.P-Stage-T1003/4-STAGE/trainer.py\"><span style=\"color: #7f7f7f\">trainer.py</span></a><span style=\"color: #7f7f7f\">:427</span>\n",
       "                    <span style=\"color: #000080; font-weight: bold\">0.7469604863221885</span>                                                       \n",
       "                                                                                             \n",
       "</pre>\n"
      ],
      "text/plain": [
       "<rich.jupyter.JupyterRenderable at 0x7fa95363ce80>"
      ]
     },
     "metadata": {},
     "output_type": "display_data"
    },
    {
     "data": {
      "text/html": [
       "<pre style=\"white-space:pre;overflow-x:auto;line-height:normal;font-family:Menlo,'DejaVu Sans Mono',consolas,'Courier New',monospace\"><span style=\"color: #7fbfbf\">           </span><span style=\"color: #000080\">INFO    </span> EarlyStopping counter: <span style=\"color: #000080; font-weight: bold\">3</span>                                   <a href=\"file:///home/j-gunmo/desktop/00.my-project/17.P-Stage-T1003/4-STAGE/trainer.py\"><span style=\"color: #7f7f7f\">trainer.py</span></a><span style=\"color: #7f7f7f\">:435</span>\n",
       "</pre>\n"
      ],
      "text/plain": [
       "<rich.jupyter.JupyterRenderable at 0x7fa95362df40>"
      ]
     },
     "metadata": {},
     "output_type": "display_data"
    },
    {
     "data": {
      "text/html": [
       "<pre style=\"white-space:pre;overflow-x:auto;line-height:normal;font-family:Menlo,'DejaVu Sans Mono',consolas,'Courier New',monospace\"><span style=\"color: #7fbfbf\">           </span><span style=\"color: #000080\">INFO    </span> Start Training: Epoch <span style=\"color: #000080; font-weight: bold\">7</span>                                    <a href=\"file:///home/j-gunmo/desktop/00.my-project/17.P-Stage-T1003/4-STAGE/trainer.py\"><span style=\"color: #7f7f7f\">trainer.py</span></a><span style=\"color: #7f7f7f\">:409</span>\n",
       "</pre>\n"
      ],
      "text/plain": [
       "<rich.jupyter.JupyterRenderable at 0x7fa951c88430>"
      ]
     },
     "metadata": {},
     "output_type": "display_data"
    },
    {
     "name": "stdout",
     "output_type": "stream",
     "text": [
      "Training steps: 0 Loss: 0.4284961223602295\n",
      "Training steps: 50 Loss: 0.46940889954566956\n",
      "VALID AUC : 0.833740234375 ACC : 0.7502532928064843\n",
      "\n"
     ]
    },
    {
     "data": {
      "text/html": [
       "<pre style=\"white-space:pre;overflow-x:auto;line-height:normal;font-family:Menlo,'DejaVu Sans Mono',consolas,'Courier New',monospace\"><span style=\"color: #7fbfbf\">[15:03:57] </span><span style=\"color: #000080\">INFO    </span> TRAIN_LOSS: <span style=\"color: #000080; font-weight: bold\">0.5013934373855591</span>                             <a href=\"file:///home/j-gunmo/desktop/00.my-project/17.P-Stage-T1003/4-STAGE/trainer.py\"><span style=\"color: #7f7f7f\">trainer.py</span></a><span style=\"color: #7f7f7f\">:425</span>\n",
       "</pre>\n"
      ],
      "text/plain": [
       "<rich.jupyter.JupyterRenderable at 0x7fa951c884f0>"
      ]
     },
     "metadata": {},
     "output_type": "display_data"
    },
    {
     "data": {
      "text/html": [
       "<pre style=\"white-space:pre;overflow-x:auto;line-height:normal;font-family:Menlo,'DejaVu Sans Mono',consolas,'Courier New',monospace\"><span style=\"color: #7fbfbf\">           </span><span style=\"color: #000080\">INFO    </span> TRAIN AUC: <span style=\"color: #000080; font-weight: bold\">0.8336205072189501</span> TRAIN ACC:                   <a href=\"file:///home/j-gunmo/desktop/00.my-project/17.P-Stage-T1003/4-STAGE/trainer.py\"><span style=\"color: #7f7f7f\">trainer.py</span></a><span style=\"color: #7f7f7f\">:426</span>\n",
       "                    <span style=\"color: #000080; font-weight: bold\">0.7520106389715661</span>                                                       \n",
       "</pre>\n"
      ],
      "text/plain": [
       "<rich.jupyter.JupyterRenderable at 0x7fa9536af9d0>"
      ]
     },
     "metadata": {},
     "output_type": "display_data"
    },
    {
     "data": {
      "text/html": [
       "<pre style=\"white-space:pre;overflow-x:auto;line-height:normal;font-family:Menlo,'DejaVu Sans Mono',consolas,'Courier New',monospace\"><span style=\"color: #7fbfbf\">           </span><span style=\"color: #000080\">INFO    </span> VALID AUC: <span style=\"color: #000080; font-weight: bold\">0.833740234375</span> VALID ACC: <span style=\"color: #000080; font-weight: bold\">0.7502532928064843</span>    <a href=\"file:///home/j-gunmo/desktop/00.my-project/17.P-Stage-T1003/4-STAGE/trainer.py\"><span style=\"color: #7f7f7f\">trainer.py</span></a><span style=\"color: #7f7f7f\">:427</span>\n",
       "                                                                                             \n",
       "</pre>\n"
      ],
      "text/plain": [
       "<rich.jupyter.JupyterRenderable at 0x7fa9412f85e0>"
      ]
     },
     "metadata": {},
     "output_type": "display_data"
    },
    {
     "data": {
      "text/html": [
       "<pre style=\"white-space:pre;overflow-x:auto;line-height:normal;font-family:Menlo,'DejaVu Sans Mono',consolas,'Courier New',monospace\"><span style=\"color: #7fbfbf\">           </span><span style=\"color: #000080\">INFO    </span> EarlyStopping counter: <span style=\"color: #000080; font-weight: bold\">4</span>                                   <a href=\"file:///home/j-gunmo/desktop/00.my-project/17.P-Stage-T1003/4-STAGE/trainer.py\"><span style=\"color: #7f7f7f\">trainer.py</span></a><span style=\"color: #7f7f7f\">:435</span>\n",
       "</pre>\n"
      ],
      "text/plain": [
       "<rich.jupyter.JupyterRenderable at 0x7fa93f1ae310>"
      ]
     },
     "metadata": {},
     "output_type": "display_data"
    },
    {
     "data": {
      "text/html": [
       "<pre style=\"white-space:pre;overflow-x:auto;line-height:normal;font-family:Menlo,'DejaVu Sans Mono',consolas,'Courier New',monospace\"><span style=\"color: #7fbfbf\">           </span><span style=\"color: #000080\">INFO    </span> Start Training: Epoch <span style=\"color: #000080; font-weight: bold\">8</span>                                    <a href=\"file:///home/j-gunmo/desktop/00.my-project/17.P-Stage-T1003/4-STAGE/trainer.py\"><span style=\"color: #7f7f7f\">trainer.py</span></a><span style=\"color: #7f7f7f\">:409</span>\n",
       "</pre>\n"
      ],
      "text/plain": [
       "<rich.jupyter.JupyterRenderable at 0x7fa9536afb20>"
      ]
     },
     "metadata": {},
     "output_type": "display_data"
    },
    {
     "name": "stdout",
     "output_type": "stream",
     "text": [
      "Training steps: 0 Loss: 0.44940146803855896\n",
      "Training steps: 50 Loss: 0.5265388488769531\n",
      "VALID AUC : 0.8355103824013158 ACC : 0.7540526849037488\n",
      "\n"
     ]
    },
    {
     "data": {
      "text/html": [
       "<pre style=\"white-space:pre;overflow-x:auto;line-height:normal;font-family:Menlo,'DejaVu Sans Mono',consolas,'Courier New',monospace\"><span style=\"color: #7fbfbf\">[15:04:05] </span><span style=\"color: #000080\">INFO    </span> TRAIN_LOSS: <span style=\"color: #000080; font-weight: bold\">0.5001224279403687</span>                             <a href=\"file:///home/j-gunmo/desktop/00.my-project/17.P-Stage-T1003/4-STAGE/trainer.py\"><span style=\"color: #7f7f7f\">trainer.py</span></a><span style=\"color: #7f7f7f\">:425</span>\n",
       "</pre>\n"
      ],
      "text/plain": [
       "<rich.jupyter.JupyterRenderable at 0x7fa93fddc610>"
      ]
     },
     "metadata": {},
     "output_type": "display_data"
    },
    {
     "data": {
      "text/html": [
       "<pre style=\"white-space:pre;overflow-x:auto;line-height:normal;font-family:Menlo,'DejaVu Sans Mono',consolas,'Courier New',monospace\"><span style=\"color: #7fbfbf\">           </span><span style=\"color: #000080\">INFO    </span> TRAIN AUC: <span style=\"color: #000080; font-weight: bold\">0.83509249533067</span> TRAIN ACC: <span style=\"color: #000080; font-weight: bold\">0.7518206573364574</span>  <a href=\"file:///home/j-gunmo/desktop/00.my-project/17.P-Stage-T1003/4-STAGE/trainer.py\"><span style=\"color: #7f7f7f\">trainer.py</span></a><span style=\"color: #7f7f7f\">:426</span>\n",
       "</pre>\n"
      ],
      "text/plain": [
       "<rich.jupyter.JupyterRenderable at 0x7fa93ea416d0>"
      ]
     },
     "metadata": {},
     "output_type": "display_data"
    },
    {
     "data": {
      "text/html": [
       "<pre style=\"white-space:pre;overflow-x:auto;line-height:normal;font-family:Menlo,'DejaVu Sans Mono',consolas,'Courier New',monospace\"><span style=\"color: #7fbfbf\">           </span><span style=\"color: #000080\">INFO    </span> VALID AUC: <span style=\"color: #000080; font-weight: bold\">0.8355103824013158</span> VALID ACC:                   <a href=\"file:///home/j-gunmo/desktop/00.my-project/17.P-Stage-T1003/4-STAGE/trainer.py\"><span style=\"color: #7f7f7f\">trainer.py</span></a><span style=\"color: #7f7f7f\">:427</span>\n",
       "                    <span style=\"color: #000080; font-weight: bold\">0.7540526849037488</span>                                                       \n",
       "                                                                                             \n",
       "</pre>\n"
      ],
      "text/plain": [
       "<rich.jupyter.JupyterRenderable at 0x7faaeae80700>"
      ]
     },
     "metadata": {},
     "output_type": "display_data"
    },
    {
     "data": {
      "text/html": [
       "<pre style=\"white-space:pre;overflow-x:auto;line-height:normal;font-family:Menlo,'DejaVu Sans Mono',consolas,'Courier New',monospace\"><span style=\"color: #7fbfbf\">           </span><span style=\"color: #000080\">INFO    </span> EarlyStopping counter: <span style=\"color: #000080; font-weight: bold\">5</span>                                   <a href=\"file:///home/j-gunmo/desktop/00.my-project/17.P-Stage-T1003/4-STAGE/trainer.py\"><span style=\"color: #7f7f7f\">trainer.py</span></a><span style=\"color: #7f7f7f\">:435</span>\n",
       "</pre>\n"
      ],
      "text/plain": [
       "<rich.jupyter.JupyterRenderable at 0x7fa95362d880>"
      ]
     },
     "metadata": {},
     "output_type": "display_data"
    },
    {
     "data": {
      "text/html": [
       "<pre style=\"white-space:pre;overflow-x:auto;line-height:normal;font-family:Menlo,'DejaVu Sans Mono',consolas,'Courier New',monospace\"><span style=\"color: #7fbfbf\">           </span><span style=\"color: #000080\">INFO    </span> EarlyStopping counter: <span style=\"color: #000080; font-weight: bold\">5</span> out of <span style=\"color: #000080; font-weight: bold\">5</span>                          <a href=\"file:///home/j-gunmo/desktop/00.my-project/17.P-Stage-T1003/4-STAGE/trainer.py\"><span style=\"color: #7f7f7f\">trainer.py</span></a><span style=\"color: #7f7f7f\">:437</span>\n",
       "</pre>\n"
      ],
      "text/plain": [
       "<rich.jupyter.JupyterRenderable at 0x7fa951c88430>"
      ]
     },
     "metadata": {},
     "output_type": "display_data"
    },
    {
     "data": {
      "text/html": [
       "Finishing last run (ID:36ywi57t) before initializing another..."
      ],
      "text/plain": [
       "<IPython.core.display.HTML object>"
      ]
     },
     "metadata": {},
     "output_type": "display_data"
    },
    {
     "data": {
      "text/html": [
       "<br/>Waiting for W&B process to finish, PID 88226<br/>Program ended successfully."
      ],
      "text/plain": [
       "<IPython.core.display.HTML object>"
      ]
     },
     "metadata": {},
     "output_type": "display_data"
    },
    {
     "data": {
      "application/vnd.jupyter.widget-view+json": {
       "model_id": "3e0a4832570a44869dd631db3b5fd846",
       "version_major": 2,
       "version_minor": 0
      },
      "text/plain": [
       "VBox(children=(Label(value=' 5.91MB of 5.91MB uploaded (0.00MB deduped)\\r'), FloatProgress(value=1.0, max=1.0)…"
      ]
     },
     "metadata": {},
     "output_type": "display_data"
    },
    {
     "data": {
      "text/html": [
       "Find user logs for this run at: <code>/home/j-gunmo/desktop/00.my-project/17.P-Stage-T1003/4-STAGE/notebook/wandb/run-20210614_150255-36ywi57t/logs/debug.log</code>"
      ],
      "text/plain": [
       "<IPython.core.display.HTML object>"
      ]
     },
     "metadata": {},
     "output_type": "display_data"
    },
    {
     "data": {
      "text/html": [
       "Find internal logs for this run at: <code>/home/j-gunmo/desktop/00.my-project/17.P-Stage-T1003/4-STAGE/notebook/wandb/run-20210614_150255-36ywi57t/logs/debug-internal.log</code>"
      ],
      "text/plain": [
       "<IPython.core.display.HTML object>"
      ]
     },
     "metadata": {},
     "output_type": "display_data"
    },
    {
     "data": {
      "text/html": [
       "<h3>Run summary:</h3><br/><style>\n",
       "    table.wandb td:nth-child(1) { padding: 0 10px; text-align: right }\n",
       "    </style><table class=\"wandb\">\n",
       "<tr><td>epoch</td><td>7</td></tr><tr><td>train_loss</td><td>0.50012</td></tr><tr><td>train_auc</td><td>0.83509</td></tr><tr><td>train_acc</td><td>0.75182</td></tr><tr><td>valid_auc</td><td>0.83551</td></tr><tr><td>valid_acc</td><td>0.75405</td></tr><tr><td>_runtime</td><td>66</td></tr><tr><td>_timestamp</td><td>1623650645</td></tr><tr><td>_step</td><td>7</td></tr></table>"
      ],
      "text/plain": [
       "<IPython.core.display.HTML object>"
      ]
     },
     "metadata": {},
     "output_type": "display_data"
    },
    {
     "data": {
      "text/html": [
       "<h3>Run history:</h3><br/><style>\n",
       "    table.wandb td:nth-child(1) { padding: 0 10px; text-align: right }\n",
       "    </style><table class=\"wandb\">\n",
       "<tr><td>epoch</td><td>▁▂▃▄▅▆▇█</td></tr><tr><td>train_loss</td><td>█▃▂▂▁▂▁▁</td></tr><tr><td>train_auc</td><td>▁▆▇▇████</td></tr><tr><td>train_acc</td><td>▁▆▇▇█▇██</td></tr><tr><td>valid_auc</td><td>▁▆█▇▇▇▆▇</td></tr><tr><td>valid_acc</td><td>▁▁█▁▂▂▃▅</td></tr><tr><td>_runtime</td><td>▁▂▃▄▅▆▇█</td></tr><tr><td>_timestamp</td><td>▁▂▃▄▅▆▇█</td></tr><tr><td>_step</td><td>▁▂▃▄▅▆▇█</td></tr></table><br/>"
      ],
      "text/plain": [
       "<IPython.core.display.HTML object>"
      ]
     },
     "metadata": {},
     "output_type": "display_data"
    },
    {
     "data": {
      "text/html": [
       "Synced 6 W&B file(s), 1 media file(s), 0 artifact file(s) and 1 other file(s)"
      ],
      "text/plain": [
       "<IPython.core.display.HTML object>"
      ]
     },
     "metadata": {},
     "output_type": "display_data"
    },
    {
     "data": {
      "text/html": [
       "\n",
       "                    <br/>Synced <strong style=\"color:#cdcd00\">scarlet-mountain-529</strong>: <a href=\"https://wandb.ai/ggm1207/p-stage-4/runs/36ywi57t\" target=\"_blank\">https://wandb.ai/ggm1207/p-stage-4/runs/36ywi57t</a><br/>\n",
       "                "
      ],
      "text/plain": [
       "<IPython.core.display.HTML object>"
      ]
     },
     "metadata": {},
     "output_type": "display_data"
    },
    {
     "data": {
      "text/html": [
       "...Successfully finished last run (ID:36ywi57t). Initializing new run:<br/><br/>"
      ],
      "text/plain": [
       "<IPython.core.display.HTML object>"
      ]
     },
     "metadata": {},
     "output_type": "display_data"
    },
    {
     "name": "stderr",
     "output_type": "stream",
     "text": [
      "\u001b[34m\u001b[1mwandb\u001b[0m: wandb version 0.10.32 is available!  To upgrade, please run:\n",
      "\u001b[34m\u001b[1mwandb\u001b[0m:  $ pip install wandb --upgrade\n"
     ]
    },
    {
     "data": {
      "text/html": [
       "\n",
       "                Tracking run with wandb version 0.10.27<br/>\n",
       "                Syncing run <strong style=\"color:#cdcd00\">elated-grass-530</strong> to <a href=\"https://wandb.ai\" target=\"_blank\">Weights & Biases</a> <a href=\"https://docs.wandb.com/integrations/jupyter.html\" target=\"_blank\">(Documentation)</a>.<br/>\n",
       "                Project page: <a href=\"https://wandb.ai/ggm1207/p-stage-4\" target=\"_blank\">https://wandb.ai/ggm1207/p-stage-4</a><br/>\n",
       "                Run page: <a href=\"https://wandb.ai/ggm1207/p-stage-4/runs/2nxwjy2t\" target=\"_blank\">https://wandb.ai/ggm1207/p-stage-4/runs/2nxwjy2t</a><br/>\n",
       "                Run data is saved locally in <code>/home/j-gunmo/desktop/00.my-project/17.P-Stage-T1003/4-STAGE/notebook/wandb/run-20210614_150406-2nxwjy2t</code><br/><br/>\n",
       "            "
      ],
      "text/plain": [
       "<IPython.core.display.HTML object>"
      ]
     },
     "metadata": {},
     "output_type": "display_data"
    },
    {
     "data": {
      "text/html": [
       "<pre style=\"white-space:pre;overflow-x:auto;line-height:normal;font-family:Menlo,'DejaVu Sans Mono',consolas,'Courier New',monospace\"><span style=\"color: #7fbfbf\">[15:04:12] </span><span style=\"color: #000080\">INFO    </span> Start Training: Epoch <span style=\"color: #000080; font-weight: bold\">1</span>                                    <a href=\"file:///home/j-gunmo/desktop/00.my-project/17.P-Stage-T1003/4-STAGE/trainer.py\"><span style=\"color: #7f7f7f\">trainer.py</span></a><span style=\"color: #7f7f7f\">:409</span>\n",
       "</pre>\n"
      ],
      "text/plain": [
       "<rich.jupyter.JupyterRenderable at 0x7fa9513243d0>"
      ]
     },
     "metadata": {},
     "output_type": "display_data"
    },
    {
     "name": "stdout",
     "output_type": "stream",
     "text": [
      "Training steps: 0 Loss: 0.7974072694778442\n",
      "Training steps: 50 Loss: 0.49199768900871277\n",
      "VALID AUC : 0.8197433330766665 ACC : 0.7282168186423505\n",
      "\n"
     ]
    },
    {
     "data": {
      "text/html": [
       "<pre style=\"white-space:pre;overflow-x:auto;line-height:normal;font-family:Menlo,'DejaVu Sans Mono',consolas,'Courier New',monospace\"><span style=\"color: #7fbfbf\">[15:04:20] </span><span style=\"color: #000080\">INFO    </span> TRAIN_LOSS: <span style=\"color: #000080; font-weight: bold\">0.6094346046447754</span>                             <a href=\"file:///home/j-gunmo/desktop/00.my-project/17.P-Stage-T1003/4-STAGE/trainer.py\"><span style=\"color: #7f7f7f\">trainer.py</span></a><span style=\"color: #7f7f7f\">:425</span>\n",
       "</pre>\n"
      ],
      "text/plain": [
       "<rich.jupyter.JupyterRenderable at 0x7fa953631dc0>"
      ]
     },
     "metadata": {},
     "output_type": "display_data"
    },
    {
     "data": {
      "text/html": [
       "<pre style=\"white-space:pre;overflow-x:auto;line-height:normal;font-family:Menlo,'DejaVu Sans Mono',consolas,'Courier New',monospace\"><span style=\"color: #7fbfbf\">           </span><span style=\"color: #000080\">INFO    </span> TRAIN AUC: <span style=\"color: #000080; font-weight: bold\">0.7525617410550653</span> TRAIN ACC:                   <a href=\"file:///home/j-gunmo/desktop/00.my-project/17.P-Stage-T1003/4-STAGE/trainer.py\"><span style=\"color: #7f7f7f\">trainer.py</span></a><span style=\"color: #7f7f7f\">:426</span>\n",
       "                    <span style=\"color: #000080; font-weight: bold\">0.6948894940155785</span>                                                       \n",
       "</pre>\n"
      ],
      "text/plain": [
       "<rich.jupyter.JupyterRenderable at 0x7fa951324490>"
      ]
     },
     "metadata": {},
     "output_type": "display_data"
    },
    {
     "data": {
      "text/html": [
       "<pre style=\"white-space:pre;overflow-x:auto;line-height:normal;font-family:Menlo,'DejaVu Sans Mono',consolas,'Courier New',monospace\"><span style=\"color: #7fbfbf\">           </span><span style=\"color: #000080\">INFO    </span> VALID AUC: <span style=\"color: #000080; font-weight: bold\">0.8197433330766665</span> VALID ACC:                   <a href=\"file:///home/j-gunmo/desktop/00.my-project/17.P-Stage-T1003/4-STAGE/trainer.py\"><span style=\"color: #7f7f7f\">trainer.py</span></a><span style=\"color: #7f7f7f\">:427</span>\n",
       "                    <span style=\"color: #000080; font-weight: bold\">0.7282168186423505</span>                                                       \n",
       "                                                                                             \n",
       "</pre>\n"
      ],
      "text/plain": [
       "<rich.jupyter.JupyterRenderable at 0x7fa9513243a0>"
      ]
     },
     "metadata": {},
     "output_type": "display_data"
    },
    {
     "data": {
      "text/html": [
       "<pre style=\"white-space:pre;overflow-x:auto;line-height:normal;font-family:Menlo,'DejaVu Sans Mono',consolas,'Courier New',monospace\"><span style=\"color: #7fbfbf\">           </span><span style=\"color: #000080\">INFO    </span> Start Training: Epoch <span style=\"color: #000080; font-weight: bold\">2</span>                                    <a href=\"file:///home/j-gunmo/desktop/00.my-project/17.P-Stage-T1003/4-STAGE/trainer.py\"><span style=\"color: #7f7f7f\">trainer.py</span></a><span style=\"color: #7f7f7f\">:409</span>\n",
       "</pre>\n"
      ],
      "text/plain": [
       "<rich.jupyter.JupyterRenderable at 0x7fa951324a30>"
      ]
     },
     "metadata": {},
     "output_type": "display_data"
    },
    {
     "name": "stdout",
     "output_type": "stream",
     "text": [
      "Training steps: 0 Loss: 0.5327182412147522\n",
      "Training steps: 50 Loss: 0.5293370485305786\n",
      "VALID AUC : 0.8213051513051512 ACC : 0.7368287740628167\n",
      "\n"
     ]
    },
    {
     "data": {
      "text/html": [
       "<pre style=\"white-space:pre;overflow-x:auto;line-height:normal;font-family:Menlo,'DejaVu Sans Mono',consolas,'Courier New',monospace\"><span style=\"color: #7fbfbf\">[15:04:29] </span><span style=\"color: #000080\">INFO    </span> TRAIN_LOSS: <span style=\"color: #000080; font-weight: bold\">0.5266456604003906</span>                             <a href=\"file:///home/j-gunmo/desktop/00.my-project/17.P-Stage-T1003/4-STAGE/trainer.py\"><span style=\"color: #7f7f7f\">trainer.py</span></a><span style=\"color: #7f7f7f\">:425</span>\n",
       "</pre>\n"
      ],
      "text/plain": [
       "<rich.jupyter.JupyterRenderable at 0x7fa9442c4ac0>"
      ]
     },
     "metadata": {},
     "output_type": "display_data"
    },
    {
     "data": {
      "text/html": [
       "<pre style=\"white-space:pre;overflow-x:auto;line-height:normal;font-family:Menlo,'DejaVu Sans Mono',consolas,'Courier New',monospace\"><span style=\"color: #7fbfbf\">           </span><span style=\"color: #000080\">INFO    </span> TRAIN AUC: <span style=\"color: #000080; font-weight: bold\">0.8142631979468968</span> TRAIN ACC:                   <a href=\"file:///home/j-gunmo/desktop/00.my-project/17.P-Stage-T1003/4-STAGE/trainer.py\"><span style=\"color: #7f7f7f\">trainer.py</span></a><span style=\"color: #7f7f7f\">:426</span>\n",
       "                    <span style=\"color: #000080; font-weight: bold\">0.7383952884554493</span>                                                       \n",
       "</pre>\n"
      ],
      "text/plain": [
       "<rich.jupyter.JupyterRenderable at 0x7fa964a63b50>"
      ]
     },
     "metadata": {},
     "output_type": "display_data"
    },
    {
     "data": {
      "text/html": [
       "<pre style=\"white-space:pre;overflow-x:auto;line-height:normal;font-family:Menlo,'DejaVu Sans Mono',consolas,'Courier New',monospace\"><span style=\"color: #7fbfbf\">           </span><span style=\"color: #000080\">INFO    </span> VALID AUC: <span style=\"color: #000080; font-weight: bold\">0.8213051513051512</span> VALID ACC:                   <a href=\"file:///home/j-gunmo/desktop/00.my-project/17.P-Stage-T1003/4-STAGE/trainer.py\"><span style=\"color: #7f7f7f\">trainer.py</span></a><span style=\"color: #7f7f7f\">:427</span>\n",
       "                    <span style=\"color: #000080; font-weight: bold\">0.7368287740628167</span>                                                       \n",
       "                                                                                             \n",
       "</pre>\n"
      ],
      "text/plain": [
       "<rich.jupyter.JupyterRenderable at 0x7fa93fd98df0>"
      ]
     },
     "metadata": {},
     "output_type": "display_data"
    },
    {
     "data": {
      "text/html": [
       "<pre style=\"white-space:pre;overflow-x:auto;line-height:normal;font-family:Menlo,'DejaVu Sans Mono',consolas,'Courier New',monospace\"><span style=\"color: #7fbfbf\">           </span><span style=\"color: #000080\">INFO    </span> Start Training: Epoch <span style=\"color: #000080; font-weight: bold\">3</span>                                    <a href=\"file:///home/j-gunmo/desktop/00.my-project/17.P-Stage-T1003/4-STAGE/trainer.py\"><span style=\"color: #7f7f7f\">trainer.py</span></a><span style=\"color: #7f7f7f\">:409</span>\n",
       "</pre>\n"
      ],
      "text/plain": [
       "<rich.jupyter.JupyterRenderable at 0x7fa93eb71340>"
      ]
     },
     "metadata": {},
     "output_type": "display_data"
    },
    {
     "name": "stdout",
     "output_type": "stream",
     "text": [
      "Training steps: 0 Loss: 0.5345301032066345\n",
      "Training steps: 50 Loss: 0.5069355964660645\n",
      "VALID AUC : 0.8242185775519111 ACC : 0.7340425531914894\n",
      "\n"
     ]
    },
    {
     "data": {
      "text/html": [
       "<pre style=\"white-space:pre;overflow-x:auto;line-height:normal;font-family:Menlo,'DejaVu Sans Mono',consolas,'Courier New',monospace\"><span style=\"color: #7fbfbf\">[15:04:37] </span><span style=\"color: #000080\">INFO    </span> TRAIN_LOSS: <span style=\"color: #000080; font-weight: bold\">0.5106454491615295</span>                             <a href=\"file:///home/j-gunmo/desktop/00.my-project/17.P-Stage-T1003/4-STAGE/trainer.py\"><span style=\"color: #7f7f7f\">trainer.py</span></a><span style=\"color: #7f7f7f\">:425</span>\n",
       "</pre>\n"
      ],
      "text/plain": [
       "<rich.jupyter.JupyterRenderable at 0x7fa93eb71340>"
      ]
     },
     "metadata": {},
     "output_type": "display_data"
    },
    {
     "data": {
      "text/html": [
       "<pre style=\"white-space:pre;overflow-x:auto;line-height:normal;font-family:Menlo,'DejaVu Sans Mono',consolas,'Courier New',monospace\"><span style=\"color: #7fbfbf\">           </span><span style=\"color: #000080\">INFO    </span> TRAIN AUC: <span style=\"color: #000080; font-weight: bold\">0.8275995338408318</span> TRAIN ACC:                   <a href=\"file:///home/j-gunmo/desktop/00.my-project/17.P-Stage-T1003/4-STAGE/trainer.py\"><span style=\"color: #7f7f7f\">trainer.py</span></a><span style=\"color: #7f7f7f\">:426</span>\n",
       "                    <span style=\"color: #000080; font-weight: bold\">0.7523272750300805</span>                                                       \n",
       "</pre>\n"
      ],
      "text/plain": [
       "<rich.jupyter.JupyterRenderable at 0x7fa9442c4ac0>"
      ]
     },
     "metadata": {},
     "output_type": "display_data"
    },
    {
     "data": {
      "text/html": [
       "<pre style=\"white-space:pre;overflow-x:auto;line-height:normal;font-family:Menlo,'DejaVu Sans Mono',consolas,'Courier New',monospace\"><span style=\"color: #7fbfbf\">           </span><span style=\"color: #000080\">INFO    </span> VALID AUC: <span style=\"color: #000080; font-weight: bold\">0.8242185775519111</span> VALID ACC:                   <a href=\"file:///home/j-gunmo/desktop/00.my-project/17.P-Stage-T1003/4-STAGE/trainer.py\"><span style=\"color: #7f7f7f\">trainer.py</span></a><span style=\"color: #7f7f7f\">:427</span>\n",
       "                    <span style=\"color: #000080; font-weight: bold\">0.7340425531914894</span>                                                       \n",
       "                                                                                             \n",
       "</pre>\n"
      ],
      "text/plain": [
       "<rich.jupyter.JupyterRenderable at 0x7fa93fd98d00>"
      ]
     },
     "metadata": {},
     "output_type": "display_data"
    },
    {
     "data": {
      "text/html": [
       "<pre style=\"white-space:pre;overflow-x:auto;line-height:normal;font-family:Menlo,'DejaVu Sans Mono',consolas,'Courier New',monospace\"><span style=\"color: #7fbfbf\">[15:04:38] </span><span style=\"color: #000080\">INFO    </span> Start Training: Epoch <span style=\"color: #000080; font-weight: bold\">4</span>                                    <a href=\"file:///home/j-gunmo/desktop/00.my-project/17.P-Stage-T1003/4-STAGE/trainer.py\"><span style=\"color: #7f7f7f\">trainer.py</span></a><span style=\"color: #7f7f7f\">:409</span>\n",
       "</pre>\n"
      ],
      "text/plain": [
       "<rich.jupyter.JupyterRenderable at 0x7fa9536313a0>"
      ]
     },
     "metadata": {},
     "output_type": "display_data"
    },
    {
     "name": "stdout",
     "output_type": "stream",
     "text": [
      "Training steps: 0 Loss: 0.5496634244918823\n",
      "Training steps: 50 Loss: 0.458016961812973\n",
      "VALID AUC : 0.8243825877159211 ACC : 0.7413880445795339\n",
      "\n"
     ]
    },
    {
     "data": {
      "text/html": [
       "<pre style=\"white-space:pre;overflow-x:auto;line-height:normal;font-family:Menlo,'DejaVu Sans Mono',consolas,'Courier New',monospace\"><span style=\"color: #7fbfbf\">[15:04:46] </span><span style=\"color: #000080\">INFO    </span> TRAIN_LOSS: <span style=\"color: #000080; font-weight: bold\">0.512012243270874</span>                              <a href=\"file:///home/j-gunmo/desktop/00.my-project/17.P-Stage-T1003/4-STAGE/trainer.py\"><span style=\"color: #7f7f7f\">trainer.py</span></a><span style=\"color: #7f7f7f\">:425</span>\n",
       "</pre>\n"
      ],
      "text/plain": [
       "<rich.jupyter.JupyterRenderable at 0x7fa945a0ec70>"
      ]
     },
     "metadata": {},
     "output_type": "display_data"
    },
    {
     "data": {
      "text/html": [
       "<pre style=\"white-space:pre;overflow-x:auto;line-height:normal;font-family:Menlo,'DejaVu Sans Mono',consolas,'Courier New',monospace\"><span style=\"color: #7fbfbf\">           </span><span style=\"color: #000080\">INFO    </span> TRAIN AUC: <span style=\"color: #000080; font-weight: bold\">0.8265814314976471</span> TRAIN ACC:                   <a href=\"file:///home/j-gunmo/desktop/00.my-project/17.P-Stage-T1003/4-STAGE/trainer.py\"><span style=\"color: #7f7f7f\">trainer.py</span></a><span style=\"color: #7f7f7f\">:426</span>\n",
       "                    <span style=\"color: #000080; font-weight: bold\">0.7516940029130518</span>                                                       \n",
       "</pre>\n"
      ],
      "text/plain": [
       "<rich.jupyter.JupyterRenderable at 0x7fa9536313a0>"
      ]
     },
     "metadata": {},
     "output_type": "display_data"
    },
    {
     "data": {
      "text/html": [
       "<pre style=\"white-space:pre;overflow-x:auto;line-height:normal;font-family:Menlo,'DejaVu Sans Mono',consolas,'Courier New',monospace\"><span style=\"color: #7fbfbf\">           </span><span style=\"color: #000080\">INFO    </span> VALID AUC: <span style=\"color: #000080; font-weight: bold\">0.8243825877159211</span> VALID ACC:                   <a href=\"file:///home/j-gunmo/desktop/00.my-project/17.P-Stage-T1003/4-STAGE/trainer.py\"><span style=\"color: #7f7f7f\">trainer.py</span></a><span style=\"color: #7f7f7f\">:427</span>\n",
       "                    <span style=\"color: #000080; font-weight: bold\">0.7413880445795339</span>                                                       \n",
       "                                                                                             \n",
       "</pre>\n"
      ],
      "text/plain": [
       "<rich.jupyter.JupyterRenderable at 0x7fa93eb71310>"
      ]
     },
     "metadata": {},
     "output_type": "display_data"
    },
    {
     "data": {
      "text/html": [
       "<pre style=\"white-space:pre;overflow-x:auto;line-height:normal;font-family:Menlo,'DejaVu Sans Mono',consolas,'Courier New',monospace\"><span style=\"color: #7fbfbf\">[15:04:47] </span><span style=\"color: #000080\">INFO    </span> Start Training: Epoch <span style=\"color: #000080; font-weight: bold\">5</span>                                    <a href=\"file:///home/j-gunmo/desktop/00.my-project/17.P-Stage-T1003/4-STAGE/trainer.py\"><span style=\"color: #7f7f7f\">trainer.py</span></a><span style=\"color: #7f7f7f\">:409</span>\n",
       "</pre>\n"
      ],
      "text/plain": [
       "<rich.jupyter.JupyterRenderable at 0x7fa964a63640>"
      ]
     },
     "metadata": {},
     "output_type": "display_data"
    },
    {
     "name": "stdout",
     "output_type": "stream",
     "text": [
      "Training steps: 0 Loss: 0.511398196220398\n",
      "Training steps: 50 Loss: 0.5222494602203369\n",
      "VALID AUC : 0.8324362824362824 ACC : 0.7322695035460993\n",
      "\n"
     ]
    },
    {
     "data": {
      "text/html": [
       "<pre style=\"white-space:pre;overflow-x:auto;line-height:normal;font-family:Menlo,'DejaVu Sans Mono',consolas,'Courier New',monospace\"><span style=\"color: #7fbfbf\">[15:04:55] </span><span style=\"color: #000080\">INFO    </span> TRAIN_LOSS: <span style=\"color: #000080; font-weight: bold\">0.5041096210479736</span>                             <a href=\"file:///home/j-gunmo/desktop/00.my-project/17.P-Stage-T1003/4-STAGE/trainer.py\"><span style=\"color: #7f7f7f\">trainer.py</span></a><span style=\"color: #7f7f7f\">:425</span>\n",
       "</pre>\n"
      ],
      "text/plain": [
       "<rich.jupyter.JupyterRenderable at 0x7fa9b0ed45e0>"
      ]
     },
     "metadata": {},
     "output_type": "display_data"
    },
    {
     "data": {
      "text/html": [
       "<pre style=\"white-space:pre;overflow-x:auto;line-height:normal;font-family:Menlo,'DejaVu Sans Mono',consolas,'Courier New',monospace\"><span style=\"color: #7fbfbf\">           </span><span style=\"color: #000080\">INFO    </span> TRAIN AUC: <span style=\"color: #000080; font-weight: bold\">0.8325290932234887</span> TRAIN ACC:                   <a href=\"file:///home/j-gunmo/desktop/00.my-project/17.P-Stage-T1003/4-STAGE/trainer.py\"><span style=\"color: #7f7f7f\">trainer.py</span></a><span style=\"color: #7f7f7f\">:426</span>\n",
       "                    <span style=\"color: #000080; font-weight: bold\">0.7555569628269267</span>                                                       \n",
       "</pre>\n"
      ],
      "text/plain": [
       "<rich.jupyter.JupyterRenderable at 0x7fa951324520>"
      ]
     },
     "metadata": {},
     "output_type": "display_data"
    },
    {
     "data": {
      "text/html": [
       "<pre style=\"white-space:pre;overflow-x:auto;line-height:normal;font-family:Menlo,'DejaVu Sans Mono',consolas,'Courier New',monospace\"><span style=\"color: #7fbfbf\">           </span><span style=\"color: #000080\">INFO    </span> VALID AUC: <span style=\"color: #000080; font-weight: bold\">0.8324362824362824</span> VALID ACC:                   <a href=\"file:///home/j-gunmo/desktop/00.my-project/17.P-Stage-T1003/4-STAGE/trainer.py\"><span style=\"color: #7f7f7f\">trainer.py</span></a><span style=\"color: #7f7f7f\">:427</span>\n",
       "                    <span style=\"color: #000080; font-weight: bold\">0.7322695035460993</span>                                                       \n",
       "                                                                                             \n",
       "</pre>\n"
      ],
      "text/plain": [
       "<rich.jupyter.JupyterRenderable at 0x7fa951324a00>"
      ]
     },
     "metadata": {},
     "output_type": "display_data"
    },
    {
     "data": {
      "text/html": [
       "<pre style=\"white-space:pre;overflow-x:auto;line-height:normal;font-family:Menlo,'DejaVu Sans Mono',consolas,'Courier New',monospace\"><span style=\"color: #7fbfbf\">[15:04:56] </span><span style=\"color: #000080\">INFO    </span> Start Training: Epoch <span style=\"color: #000080; font-weight: bold\">6</span>                                    <a href=\"file:///home/j-gunmo/desktop/00.my-project/17.P-Stage-T1003/4-STAGE/trainer.py\"><span style=\"color: #7f7f7f\">trainer.py</span></a><span style=\"color: #7f7f7f\">:409</span>\n",
       "</pre>\n"
      ],
      "text/plain": [
       "<rich.jupyter.JupyterRenderable at 0x7fa951324940>"
      ]
     },
     "metadata": {},
     "output_type": "display_data"
    },
    {
     "name": "stdout",
     "output_type": "stream",
     "text": [
      "Training steps: 0 Loss: 0.4823376536369324\n",
      "Training steps: 50 Loss: 0.4921101927757263\n",
      "VALID AUC : 0.8326385359718692 ACC : 0.7489868287740629\n",
      "\n"
     ]
    },
    {
     "data": {
      "text/html": [
       "<pre style=\"white-space:pre;overflow-x:auto;line-height:normal;font-family:Menlo,'DejaVu Sans Mono',consolas,'Courier New',monospace\"><span style=\"color: #7fbfbf\">[15:05:04] </span><span style=\"color: #000080\">INFO    </span> TRAIN_LOSS: <span style=\"color: #000080; font-weight: bold\">0.5047321319580078</span>                             <a href=\"file:///home/j-gunmo/desktop/00.my-project/17.P-Stage-T1003/4-STAGE/trainer.py\"><span style=\"color: #7f7f7f\">trainer.py</span></a><span style=\"color: #7f7f7f\">:425</span>\n",
       "</pre>\n"
      ],
      "text/plain": [
       "<rich.jupyter.JupyterRenderable at 0x7fa9536f4490>"
      ]
     },
     "metadata": {},
     "output_type": "display_data"
    },
    {
     "data": {
      "text/html": [
       "<pre style=\"white-space:pre;overflow-x:auto;line-height:normal;font-family:Menlo,'DejaVu Sans Mono',consolas,'Courier New',monospace\"><span style=\"color: #7fbfbf\">           </span><span style=\"color: #000080\">INFO    </span> TRAIN AUC: <span style=\"color: #000080; font-weight: bold\">0.8316529906530657</span> TRAIN ACC:                   <a href=\"file:///home/j-gunmo/desktop/00.my-project/17.P-Stage-T1003/4-STAGE/trainer.py\"><span style=\"color: #7f7f7f\">trainer.py</span></a><span style=\"color: #7f7f7f\">:426</span>\n",
       "                    <span style=\"color: #000080; font-weight: bold\">0.7524539294534862</span>                                                       \n",
       "</pre>\n"
      ],
      "text/plain": [
       "<rich.jupyter.JupyterRenderable at 0x7fa953631040>"
      ]
     },
     "metadata": {},
     "output_type": "display_data"
    },
    {
     "data": {
      "text/html": [
       "<pre style=\"white-space:pre;overflow-x:auto;line-height:normal;font-family:Menlo,'DejaVu Sans Mono',consolas,'Courier New',monospace\"><span style=\"color: #7fbfbf\">           </span><span style=\"color: #000080\">INFO    </span> VALID AUC: <span style=\"color: #000080; font-weight: bold\">0.8326385359718692</span> VALID ACC:                   <a href=\"file:///home/j-gunmo/desktop/00.my-project/17.P-Stage-T1003/4-STAGE/trainer.py\"><span style=\"color: #7f7f7f\">trainer.py</span></a><span style=\"color: #7f7f7f\">:427</span>\n",
       "                    <span style=\"color: #000080; font-weight: bold\">0.7489868287740629</span>                                                       \n",
       "                                                                                             \n",
       "</pre>\n"
      ],
      "text/plain": [
       "<rich.jupyter.JupyterRenderable at 0x7faaeae800a0>"
      ]
     },
     "metadata": {},
     "output_type": "display_data"
    },
    {
     "data": {
      "text/html": [
       "<pre style=\"white-space:pre;overflow-x:auto;line-height:normal;font-family:Menlo,'DejaVu Sans Mono',consolas,'Courier New',monospace\"><span style=\"color: #7fbfbf\">           </span><span style=\"color: #000080\">INFO    </span> Start Training: Epoch <span style=\"color: #000080; font-weight: bold\">7</span>                                    <a href=\"file:///home/j-gunmo/desktop/00.my-project/17.P-Stage-T1003/4-STAGE/trainer.py\"><span style=\"color: #7f7f7f\">trainer.py</span></a><span style=\"color: #7f7f7f\">:409</span>\n",
       "</pre>\n"
      ],
      "text/plain": [
       "<rich.jupyter.JupyterRenderable at 0x7fa964652df0>"
      ]
     },
     "metadata": {},
     "output_type": "display_data"
    },
    {
     "name": "stdout",
     "output_type": "stream",
     "text": [
      "Training steps: 0 Loss: 0.4637526273727417\n",
      "Training steps: 50 Loss: 0.5603840947151184\n",
      "VALID AUC : 0.831415774749108 ACC : 0.7515197568389058\n",
      "\n"
     ]
    },
    {
     "data": {
      "text/html": [
       "<pre style=\"white-space:pre;overflow-x:auto;line-height:normal;font-family:Menlo,'DejaVu Sans Mono',consolas,'Courier New',monospace\"><span style=\"color: #7fbfbf\">[15:05:12] </span><span style=\"color: #000080\">INFO    </span> TRAIN_LOSS: <span style=\"color: #000080; font-weight: bold\">0.4989984631538391</span>                             <a href=\"file:///home/j-gunmo/desktop/00.my-project/17.P-Stage-T1003/4-STAGE/trainer.py\"><span style=\"color: #7f7f7f\">trainer.py</span></a><span style=\"color: #7f7f7f\">:425</span>\n",
       "</pre>\n"
      ],
      "text/plain": [
       "<rich.jupyter.JupyterRenderable at 0x7fa93fd98d00>"
      ]
     },
     "metadata": {},
     "output_type": "display_data"
    },
    {
     "data": {
      "text/html": [
       "<pre style=\"white-space:pre;overflow-x:auto;line-height:normal;font-family:Menlo,'DejaVu Sans Mono',consolas,'Courier New',monospace\"><span style=\"color: #7fbfbf\">           </span><span style=\"color: #000080\">INFO    </span> TRAIN AUC: <span style=\"color: #000080; font-weight: bold\">0.8358320302444994</span> TRAIN ACC:                   <a href=\"file:///home/j-gunmo/desktop/00.my-project/17.P-Stage-T1003/4-STAGE/trainer.py\"><span style=\"color: #7f7f7f\">trainer.py</span></a><span style=\"color: #7f7f7f\">:426</span>\n",
       "                    <span style=\"color: #000080; font-weight: bold\">0.7572667975429042</span>                                                       \n",
       "</pre>\n"
      ],
      "text/plain": [
       "<rich.jupyter.JupyterRenderable at 0x7fa964652df0>"
      ]
     },
     "metadata": {},
     "output_type": "display_data"
    },
    {
     "data": {
      "text/html": [
       "<pre style=\"white-space:pre;overflow-x:auto;line-height:normal;font-family:Menlo,'DejaVu Sans Mono',consolas,'Courier New',monospace\"><span style=\"color: #7fbfbf\">           </span><span style=\"color: #000080\">INFO    </span> VALID AUC: <span style=\"color: #000080; font-weight: bold\">0.831415774749108</span> VALID ACC: <span style=\"color: #000080; font-weight: bold\">0.7515197568389058</span> <a href=\"file:///home/j-gunmo/desktop/00.my-project/17.P-Stage-T1003/4-STAGE/trainer.py\"><span style=\"color: #7f7f7f\">trainer.py</span></a><span style=\"color: #7f7f7f\">:427</span>\n",
       "                                                                                             \n",
       "</pre>\n"
      ],
      "text/plain": [
       "<rich.jupyter.JupyterRenderable at 0x7fa9536f4490>"
      ]
     },
     "metadata": {},
     "output_type": "display_data"
    },
    {
     "data": {
      "text/html": [
       "<pre style=\"white-space:pre;overflow-x:auto;line-height:normal;font-family:Menlo,'DejaVu Sans Mono',consolas,'Courier New',monospace\"><span style=\"color: #7fbfbf\">           </span><span style=\"color: #000080\">INFO    </span> EarlyStopping counter: <span style=\"color: #000080; font-weight: bold\">1</span>                                   <a href=\"file:///home/j-gunmo/desktop/00.my-project/17.P-Stage-T1003/4-STAGE/trainer.py\"><span style=\"color: #7f7f7f\">trainer.py</span></a><span style=\"color: #7f7f7f\">:435</span>\n",
       "</pre>\n"
      ],
      "text/plain": [
       "<rich.jupyter.JupyterRenderable at 0x7fa9536afe50>"
      ]
     },
     "metadata": {},
     "output_type": "display_data"
    },
    {
     "data": {
      "text/html": [
       "<pre style=\"white-space:pre;overflow-x:auto;line-height:normal;font-family:Menlo,'DejaVu Sans Mono',consolas,'Courier New',monospace\"><span style=\"color: #7fbfbf\">           </span><span style=\"color: #000080\">INFO    </span> Start Training: Epoch <span style=\"color: #000080; font-weight: bold\">8</span>                                    <a href=\"file:///home/j-gunmo/desktop/00.my-project/17.P-Stage-T1003/4-STAGE/trainer.py\"><span style=\"color: #7f7f7f\">trainer.py</span></a><span style=\"color: #7f7f7f\">:409</span>\n",
       "</pre>\n"
      ],
      "text/plain": [
       "<rich.jupyter.JupyterRenderable at 0x7fa9536af700>"
      ]
     },
     "metadata": {},
     "output_type": "display_data"
    },
    {
     "name": "stdout",
     "output_type": "stream",
     "text": [
      "Training steps: 0 Loss: 0.48088812828063965\n",
      "Training steps: 50 Loss: 0.5347450375556946\n",
      "VALID AUC : 0.8344077410744076 ACC : 0.747467071935157\n",
      "\n"
     ]
    },
    {
     "data": {
      "text/html": [
       "<pre style=\"white-space:pre;overflow-x:auto;line-height:normal;font-family:Menlo,'DejaVu Sans Mono',consolas,'Courier New',monospace\"><span style=\"color: #7fbfbf\">[15:05:20] </span><span style=\"color: #000080\">INFO    </span> TRAIN_LOSS: <span style=\"color: #000080; font-weight: bold\">0.49893900752067566</span>                            <a href=\"file:///home/j-gunmo/desktop/00.my-project/17.P-Stage-T1003/4-STAGE/trainer.py\"><span style=\"color: #7f7f7f\">trainer.py</span></a><span style=\"color: #7f7f7f\">:425</span>\n",
       "</pre>\n"
      ],
      "text/plain": [
       "<rich.jupyter.JupyterRenderable at 0x7faaeae800a0>"
      ]
     },
     "metadata": {},
     "output_type": "display_data"
    },
    {
     "data": {
      "text/html": [
       "<pre style=\"white-space:pre;overflow-x:auto;line-height:normal;font-family:Menlo,'DejaVu Sans Mono',consolas,'Courier New',monospace\"><span style=\"color: #7fbfbf\">           </span><span style=\"color: #000080\">INFO    </span> TRAIN AUC: <span style=\"color: #000080; font-weight: bold\">0.8362486977135606</span> TRAIN ACC:                   <a href=\"file:///home/j-gunmo/desktop/00.my-project/17.P-Stage-T1003/4-STAGE/trainer.py\"><span style=\"color: #7f7f7f\">trainer.py</span></a><span style=\"color: #7f7f7f\">:426</span>\n",
       "                    <span style=\"color: #000080; font-weight: bold\">0.7548603634981952</span>                                                       \n",
       "</pre>\n"
      ],
      "text/plain": [
       "<rich.jupyter.JupyterRenderable at 0x7fa93db37a60>"
      ]
     },
     "metadata": {},
     "output_type": "display_data"
    },
    {
     "data": {
      "text/html": [
       "<pre style=\"white-space:pre;overflow-x:auto;line-height:normal;font-family:Menlo,'DejaVu Sans Mono',consolas,'Courier New',monospace\"><span style=\"color: #7fbfbf\">           </span><span style=\"color: #000080\">INFO    </span> VALID AUC: <span style=\"color: #000080; font-weight: bold\">0.8344077410744076</span> VALID ACC: <span style=\"color: #000080; font-weight: bold\">0.747467071935157</span> <a href=\"file:///home/j-gunmo/desktop/00.my-project/17.P-Stage-T1003/4-STAGE/trainer.py\"><span style=\"color: #7f7f7f\">trainer.py</span></a><span style=\"color: #7f7f7f\">:427</span>\n",
       "                                                                                             \n",
       "</pre>\n"
      ],
      "text/plain": [
       "<rich.jupyter.JupyterRenderable at 0x7fa9536f4490>"
      ]
     },
     "metadata": {},
     "output_type": "display_data"
    },
    {
     "data": {
      "text/html": [
       "<pre style=\"white-space:pre;overflow-x:auto;line-height:normal;font-family:Menlo,'DejaVu Sans Mono',consolas,'Courier New',monospace\"><span style=\"color: #7fbfbf\">           </span><span style=\"color: #000080\">INFO    </span> Start Training: Epoch <span style=\"color: #000080; font-weight: bold\">9</span>                                    <a href=\"file:///home/j-gunmo/desktop/00.my-project/17.P-Stage-T1003/4-STAGE/trainer.py\"><span style=\"color: #7f7f7f\">trainer.py</span></a><span style=\"color: #7f7f7f\">:409</span>\n",
       "</pre>\n"
      ],
      "text/plain": [
       "<rich.jupyter.JupyterRenderable at 0x7fa93ea16400>"
      ]
     },
     "metadata": {},
     "output_type": "display_data"
    },
    {
     "name": "stdout",
     "output_type": "stream",
     "text": [
      "Training steps: 0 Loss: 0.4528772234916687\n",
      "Training steps: 50 Loss: 0.5596789717674255\n",
      "VALID AUC : 0.8324837658170992 ACC : 0.7411347517730497\n",
      "\n"
     ]
    },
    {
     "data": {
      "text/html": [
       "<pre style=\"white-space:pre;overflow-x:auto;line-height:normal;font-family:Menlo,'DejaVu Sans Mono',consolas,'Courier New',monospace\"><span style=\"color: #7fbfbf\">[15:05:28] </span><span style=\"color: #000080\">INFO    </span> TRAIN_LOSS: <span style=\"color: #000080; font-weight: bold\">0.4992007315158844</span>                             <a href=\"file:///home/j-gunmo/desktop/00.my-project/17.P-Stage-T1003/4-STAGE/trainer.py\"><span style=\"color: #7f7f7f\">trainer.py</span></a><span style=\"color: #7f7f7f\">:425</span>\n",
       "</pre>\n"
      ],
      "text/plain": [
       "<rich.jupyter.JupyterRenderable at 0x7fa93ea16cd0>"
      ]
     },
     "metadata": {},
     "output_type": "display_data"
    },
    {
     "data": {
      "text/html": [
       "<pre style=\"white-space:pre;overflow-x:auto;line-height:normal;font-family:Menlo,'DejaVu Sans Mono',consolas,'Courier New',monospace\"><span style=\"color: #7fbfbf\">           </span><span style=\"color: #000080\">INFO    </span> TRAIN AUC: <span style=\"color: #000080; font-weight: bold\">0.8358860073293932</span> TRAIN ACC:                   <a href=\"file:///home/j-gunmo/desktop/00.my-project/17.P-Stage-T1003/4-STAGE/trainer.py\"><span style=\"color: #7f7f7f\">trainer.py</span></a><span style=\"color: #7f7f7f\">:426</span>\n",
       "                    <span style=\"color: #000080; font-weight: bold\">0.7565701982141726</span>                                                       \n",
       "</pre>\n"
      ],
      "text/plain": [
       "<rich.jupyter.JupyterRenderable at 0x7faaeae80760>"
      ]
     },
     "metadata": {},
     "output_type": "display_data"
    },
    {
     "data": {
      "text/html": [
       "<pre style=\"white-space:pre;overflow-x:auto;line-height:normal;font-family:Menlo,'DejaVu Sans Mono',consolas,'Courier New',monospace\"><span style=\"color: #7fbfbf\">           </span><span style=\"color: #000080\">INFO    </span> VALID AUC: <span style=\"color: #000080; font-weight: bold\">0.8324837658170992</span> VALID ACC:                   <a href=\"file:///home/j-gunmo/desktop/00.my-project/17.P-Stage-T1003/4-STAGE/trainer.py\"><span style=\"color: #7f7f7f\">trainer.py</span></a><span style=\"color: #7f7f7f\">:427</span>\n",
       "                    <span style=\"color: #000080; font-weight: bold\">0.7411347517730497</span>                                                       \n",
       "                                                                                             \n",
       "</pre>\n"
      ],
      "text/plain": [
       "<rich.jupyter.JupyterRenderable at 0x7fa93ea164f0>"
      ]
     },
     "metadata": {},
     "output_type": "display_data"
    },
    {
     "data": {
      "text/html": [
       "<pre style=\"white-space:pre;overflow-x:auto;line-height:normal;font-family:Menlo,'DejaVu Sans Mono',consolas,'Courier New',monospace\"><span style=\"color: #7fbfbf\">           </span><span style=\"color: #000080\">INFO    </span> EarlyStopping counter: <span style=\"color: #000080; font-weight: bold\">1</span>                                   <a href=\"file:///home/j-gunmo/desktop/00.my-project/17.P-Stage-T1003/4-STAGE/trainer.py\"><span style=\"color: #7f7f7f\">trainer.py</span></a><span style=\"color: #7f7f7f\">:435</span>\n",
       "</pre>\n"
      ],
      "text/plain": [
       "<rich.jupyter.JupyterRenderable at 0x7fa93fd98df0>"
      ]
     },
     "metadata": {},
     "output_type": "display_data"
    },
    {
     "data": {
      "text/html": [
       "<pre style=\"white-space:pre;overflow-x:auto;line-height:normal;font-family:Menlo,'DejaVu Sans Mono',consolas,'Courier New',monospace\"><span style=\"color: #7fbfbf\">           </span><span style=\"color: #000080\">INFO    </span> Start Training: Epoch <span style=\"color: #000080; font-weight: bold\">10</span>                                   <a href=\"file:///home/j-gunmo/desktop/00.my-project/17.P-Stage-T1003/4-STAGE/trainer.py\"><span style=\"color: #7f7f7f\">trainer.py</span></a><span style=\"color: #7f7f7f\">:409</span>\n",
       "</pre>\n"
      ],
      "text/plain": [
       "<rich.jupyter.JupyterRenderable at 0x7fa93db37a60>"
      ]
     },
     "metadata": {},
     "output_type": "display_data"
    },
    {
     "name": "stdout",
     "output_type": "stream",
     "text": [
      "Training steps: 0 Loss: 0.5551417469978333\n",
      "Training steps: 50 Loss: 0.48741453886032104\n",
      "VALID AUC : 0.8327412027412027 ACC : 0.754305977710233\n",
      "\n"
     ]
    },
    {
     "data": {
      "text/html": [
       "<pre style=\"white-space:pre;overflow-x:auto;line-height:normal;font-family:Menlo,'DejaVu Sans Mono',consolas,'Courier New',monospace\"><span style=\"color: #7fbfbf\">[15:05:36] </span><span style=\"color: #000080\">INFO    </span> TRAIN_LOSS: <span style=\"color: #000080; font-weight: bold\">0.5014861226081848</span>                             <a href=\"file:///home/j-gunmo/desktop/00.my-project/17.P-Stage-T1003/4-STAGE/trainer.py\"><span style=\"color: #7f7f7f\">trainer.py</span></a><span style=\"color: #7f7f7f\">:425</span>\n",
       "</pre>\n"
      ],
      "text/plain": [
       "<rich.jupyter.JupyterRenderable at 0x7fa93fd989d0>"
      ]
     },
     "metadata": {},
     "output_type": "display_data"
    },
    {
     "data": {
      "text/html": [
       "<pre style=\"white-space:pre;overflow-x:auto;line-height:normal;font-family:Menlo,'DejaVu Sans Mono',consolas,'Courier New',monospace\"><span style=\"color: #7fbfbf\">           </span><span style=\"color: #000080\">INFO    </span> TRAIN AUC: <span style=\"color: #000080; font-weight: bold\">0.8343427296950836</span> TRAIN ACC:                   <a href=\"file:///home/j-gunmo/desktop/00.my-project/17.P-Stage-T1003/4-STAGE/trainer.py\"><span style=\"color: #7f7f7f\">trainer.py</span></a><span style=\"color: #7f7f7f\">:426</span>\n",
       "                    <span style=\"color: #000080; font-weight: bold\">0.7551769995567095</span>                                                       \n",
       "</pre>\n"
      ],
      "text/plain": [
       "<rich.jupyter.JupyterRenderable at 0x7fa9536f4490>"
      ]
     },
     "metadata": {},
     "output_type": "display_data"
    },
    {
     "data": {
      "text/html": [
       "<pre style=\"white-space:pre;overflow-x:auto;line-height:normal;font-family:Menlo,'DejaVu Sans Mono',consolas,'Courier New',monospace\"><span style=\"color: #7fbfbf\">           </span><span style=\"color: #000080\">INFO    </span> VALID AUC: <span style=\"color: #000080; font-weight: bold\">0.8327412027412027</span> VALID ACC: <span style=\"color: #000080; font-weight: bold\">0.754305977710233</span> <a href=\"file:///home/j-gunmo/desktop/00.my-project/17.P-Stage-T1003/4-STAGE/trainer.py\"><span style=\"color: #7f7f7f\">trainer.py</span></a><span style=\"color: #7f7f7f\">:427</span>\n",
       "                                                                                             \n",
       "</pre>\n"
      ],
      "text/plain": [
       "<rich.jupyter.JupyterRenderable at 0x7fa945a0e670>"
      ]
     },
     "metadata": {},
     "output_type": "display_data"
    },
    {
     "data": {
      "text/html": [
       "<pre style=\"white-space:pre;overflow-x:auto;line-height:normal;font-family:Menlo,'DejaVu Sans Mono',consolas,'Courier New',monospace\"><span style=\"color: #7fbfbf\">           </span><span style=\"color: #000080\">INFO    </span> EarlyStopping counter: <span style=\"color: #000080; font-weight: bold\">2</span>                                   <a href=\"file:///home/j-gunmo/desktop/00.my-project/17.P-Stage-T1003/4-STAGE/trainer.py\"><span style=\"color: #7f7f7f\">trainer.py</span></a><span style=\"color: #7f7f7f\">:435</span>\n",
       "</pre>\n"
      ],
      "text/plain": [
       "<rich.jupyter.JupyterRenderable at 0x7fa9536f4490>"
      ]
     },
     "metadata": {},
     "output_type": "display_data"
    },
    {
     "data": {
      "text/html": [
       "<pre style=\"white-space:pre;overflow-x:auto;line-height:normal;font-family:Menlo,'DejaVu Sans Mono',consolas,'Courier New',monospace\"><span style=\"color: #7fbfbf\">           </span><span style=\"color: #000080\">INFO    </span> Start Training: Epoch <span style=\"color: #000080; font-weight: bold\">11</span>                                   <a href=\"file:///home/j-gunmo/desktop/00.my-project/17.P-Stage-T1003/4-STAGE/trainer.py\"><span style=\"color: #7f7f7f\">trainer.py</span></a><span style=\"color: #7f7f7f\">:409</span>\n",
       "</pre>\n"
      ],
      "text/plain": [
       "<rich.jupyter.JupyterRenderable at 0x7fa93fd98df0>"
      ]
     },
     "metadata": {},
     "output_type": "display_data"
    },
    {
     "name": "stdout",
     "output_type": "stream",
     "text": [
      "Training steps: 0 Loss: 0.5082675814628601\n",
      "Training steps: 50 Loss: 0.5236749649047852\n",
      "VALID AUC : 0.832568209234876 ACC : 0.7459473150962512\n",
      "\n"
     ]
    },
    {
     "data": {
      "text/html": [
       "<pre style=\"white-space:pre;overflow-x:auto;line-height:normal;font-family:Menlo,'DejaVu Sans Mono',consolas,'Courier New',monospace\"><span style=\"color: #7fbfbf\">[15:05:45] </span><span style=\"color: #000080\">INFO    </span> TRAIN_LOSS: <span style=\"color: #000080; font-weight: bold\">0.49706408381462097</span>                            <a href=\"file:///home/j-gunmo/desktop/00.my-project/17.P-Stage-T1003/4-STAGE/trainer.py\"><span style=\"color: #7f7f7f\">trainer.py</span></a><span style=\"color: #7f7f7f\">:425</span>\n",
       "</pre>\n"
      ],
      "text/plain": [
       "<rich.jupyter.JupyterRenderable at 0x7fa964652d00>"
      ]
     },
     "metadata": {},
     "output_type": "display_data"
    },
    {
     "data": {
      "text/html": [
       "<pre style=\"white-space:pre;overflow-x:auto;line-height:normal;font-family:Menlo,'DejaVu Sans Mono',consolas,'Courier New',monospace\"><span style=\"color: #7fbfbf\">           </span><span style=\"color: #000080\">INFO    </span> TRAIN AUC: <span style=\"color: #000080; font-weight: bold\">0.8370660890709362</span> TRAIN ACC:                   <a href=\"file:///home/j-gunmo/desktop/00.my-project/17.P-Stage-T1003/4-STAGE/trainer.py\"><span style=\"color: #7f7f7f\">trainer.py</span></a><span style=\"color: #7f7f7f\">:426</span>\n",
       "                    <span style=\"color: #000080; font-weight: bold\">0.7573934519663099</span>                                                       \n",
       "</pre>\n"
      ],
      "text/plain": [
       "<rich.jupyter.JupyterRenderable at 0x7fa93eb71310>"
      ]
     },
     "metadata": {},
     "output_type": "display_data"
    },
    {
     "data": {
      "text/html": [
       "<pre style=\"white-space:pre;overflow-x:auto;line-height:normal;font-family:Menlo,'DejaVu Sans Mono',consolas,'Courier New',monospace\"><span style=\"color: #7fbfbf\">           </span><span style=\"color: #000080\">INFO    </span> VALID AUC: <span style=\"color: #000080; font-weight: bold\">0.832568209234876</span> VALID ACC: <span style=\"color: #000080; font-weight: bold\">0.7459473150962512</span> <a href=\"file:///home/j-gunmo/desktop/00.my-project/17.P-Stage-T1003/4-STAGE/trainer.py\"><span style=\"color: #7f7f7f\">trainer.py</span></a><span style=\"color: #7f7f7f\">:427</span>\n",
       "                                                                                             \n",
       "</pre>\n"
      ],
      "text/plain": [
       "<rich.jupyter.JupyterRenderable at 0x7fa9536aff40>"
      ]
     },
     "metadata": {},
     "output_type": "display_data"
    },
    {
     "data": {
      "text/html": [
       "<pre style=\"white-space:pre;overflow-x:auto;line-height:normal;font-family:Menlo,'DejaVu Sans Mono',consolas,'Courier New',monospace\"><span style=\"color: #7fbfbf\">           </span><span style=\"color: #000080\">INFO    </span> EarlyStopping counter: <span style=\"color: #000080; font-weight: bold\">3</span>                                   <a href=\"file:///home/j-gunmo/desktop/00.my-project/17.P-Stage-T1003/4-STAGE/trainer.py\"><span style=\"color: #7f7f7f\">trainer.py</span></a><span style=\"color: #7f7f7f\">:435</span>\n",
       "</pre>\n"
      ],
      "text/plain": [
       "<rich.jupyter.JupyterRenderable at 0x7fa964652d00>"
      ]
     },
     "metadata": {},
     "output_type": "display_data"
    },
    {
     "data": {
      "text/html": [
       "<pre style=\"white-space:pre;overflow-x:auto;line-height:normal;font-family:Menlo,'DejaVu Sans Mono',consolas,'Courier New',monospace\"><span style=\"color: #7fbfbf\">           </span><span style=\"color: #000080\">INFO    </span> Start Training: Epoch <span style=\"color: #000080; font-weight: bold\">12</span>                                   <a href=\"file:///home/j-gunmo/desktop/00.my-project/17.P-Stage-T1003/4-STAGE/trainer.py\"><span style=\"color: #7f7f7f\">trainer.py</span></a><span style=\"color: #7f7f7f\">:409</span>\n",
       "</pre>\n"
      ],
      "text/plain": [
       "<rich.jupyter.JupyterRenderable at 0x7faaeae80760>"
      ]
     },
     "metadata": {},
     "output_type": "display_data"
    },
    {
     "name": "stdout",
     "output_type": "stream",
     "text": [
      "Training steps: 0 Loss: 0.45531702041625977\n"
     ]
    }
   ],
   "source": [
    "auc, acc = trainer.run_cv(train_dataset, valid_dataset, test_dataset, folds=5, seeds=[0, 1, 2, 3, 4])\n",
    "clear_output()\n",
    "print(f\"auc : {auc} acc : {acc}\")\n",
    "print(f\"logging path: {trainer.prefix_save_path}\")"
   ]
  },
  {
   "cell_type": "code",
   "execution_count": 198,
   "metadata": {},
   "outputs": [
    {
     "data": {
      "text/plain": [
       "(0.8328989350284008, 0.747872340425532)"
      ]
     },
     "execution_count": 198,
     "metadata": {},
     "output_type": "execute_result"
    }
   ],
   "source": [
    "auc, acc"
   ]
  }
 ],
 "metadata": {
  "kernelspec": {
   "display_name": "baseline_code",
   "language": "python",
   "name": "baseline_code"
  },
  "language_info": {
   "codemirror_mode": {
    "name": "ipython",
    "version": 3
   },
   "file_extension": ".py",
   "mimetype": "text/x-python",
   "name": "python",
   "nbconvert_exporter": "python",
   "pygments_lexer": "ipython3",
   "version": "3.8.8"
  }
 },
 "nbformat": 4,
 "nbformat_minor": 4
}
