{
 "cells": [
  {
   "cell_type": "markdown",
   "metadata": {},
   "source": [
    "# Refactoring\n",
    "\n",
    "지치지 말고 잘 하자..!\n",
    "\n",
    "## 발생한 문제\n",
    "\n",
    "- 01 Logging이 중복으로 발생하는 이슈\n",
    "- 02 데이터 Scaling Encoder가 증강된 데이터셋에 알맞게 처리가 안 됨\n",
    "- 03 Loss, Optimizer, Scheduler 잘 적용 가능 하도록 Refactoring\n",
    "- 04 Refactoring을 진행하면서 README 수정도 해야 된다.\n",
    "- 05 TestDataset Result가 제대로 생성이 안된다."
   ]
  },
  {
   "cell_type": "markdown",
   "metadata": {},
   "source": [
    "## 01 Logging이 중복으로 발생하는 이슈\n",
    "\n",
    "- Logger가 Trainer, Preprocess 생성될 때 마다 실행된다.\n",
    "- Module에서 전역으로 코드를 불러와서 그런 듯\n",
    "\n",
    "해결 여부 : [O] "
   ]
  },
  {
   "cell_type": "markdown",
   "metadata": {},
   "source": [
    "## 02 데이터 Scaling Encoder가 증강된 데이터셋에 알맞게 처리가 안 됨\n",
    "\n",
    "- Encoder의 Fit이 Train Dataset에 맞게만 추가 된후 TestDataset이 추가 되어서 발생한다.\n",
    "- 전처리 과정 순서를 바꿔야 된다.\n",
    "\n",
    "**지금 전처리 과정**\n",
    "\n",
    "1. Feature Engineering\n",
    "2. Split Data\n",
    "    - train, test => train, valid, test\n",
    "3. Scaling\n",
    "    - TrainData에 Fit 맞춘 후 Transform 과정 수행\n",
    "    - TestData에 Transform 과정 수행\n",
    "4. Data Augmentation\n",
    "    1. (사용) 테스트 데이터셋 추가\n",
    "    2. 사이클 증강 group by (\"userID\", \"testPaper\")\n",
    "    3. (사용) 대분류 증강 group by (\"userID\", \"firstClass\")\n",
    "    \n",
    "**바뀐 후 전처리 과정**\n",
    "\n",
    "1. 테스트 데이터셋 추가\n",
    "2. Feature Engineering  # valid dataset을 포함하여 Fit을 하는 것이 맞을까? => 맞지 않다.\n",
    "    - Test 데이터 셋의 거의 전부를 포함해서 보기 때문에 괜찮을 것 같다.\n",
    "3. Scaling\n",
    "    - Test가 Train 데이터 셋에 포함이 안 됐다면 Split Data먼저 했을 텐데...\n",
    "    - 거의 포함되니깐 Scaling을 하는게 좋을 것 같다.\n",
    "4. Split Data\n",
    "    - train은 테스트 데이터 셋 추가되고, Train 데이터 셋은 거의 모든 데이터셋이 포함된 데이터 셋\n",
    "    - train, test => train, valid, test\n",
    "5. Data Augmentation\n",
    "    - (사용) 대분류 증강 group by (\"userID\", \"firstClass\")\n",
    "    - 사이클 증강 group by (\"userID\", \"testPaper\")\n",
    "    \n",
    "`중간 중간 UserID가 정렬이 잘 됐는지 체크한다...`\n",
    "\n",
    "- 순서 바뀌면서 미리 생성된 Feature들 다 오작동 ... ㅠㅜㅠㅜ\n",
    "\n",
    "\n",
    "**실험 중인 전처리 과정**\n",
    "\n",
    "- Feature Engineering 과정은 Train, Valid 따로 따로 진행하는 것\n",
    "    - 의심 : Valid의 Feature에서 정보 유출이 진행되는 것 같다. "
   ]
  },
  {
   "cell_type": "code",
   "execution_count": 1,
   "metadata": {},
   "outputs": [],
   "source": [
    "import sys\n",
    "import os.path as p\n",
    "\n",
    "sys.path.append(\"/home/j-gunmo/desktop/00.my-project/17.P-Stage-T1003/4-STAGE/\")\n",
    "\n",
    "from fe.feature import FEBase, FEPipeline\n",
    "\n",
    "from fe.agg import (\n",
    "    MakeCorrectCount, \n",
    "    MakeCorrectPercent, \n",
    "    MakeQuestionCount, \n",
    "    MakeTopNCorrectPercent\n",
    ")\n",
    "\n",
    "from fe.seq import (\n",
    "    SplitAssessmentItemID,\n",
    "    MakeFirstClass,\n",
    "    MakeSecondClass,\n",
    "    MakeTimeDiff,\n",
    "    MakeYMD,\n",
    "    ConvertTime\n",
    ")\n",
    "\n",
    "import easydict\n",
    "from IPython.display import clear_output\n",
    "\n",
    "from dkt_dataset import Preprocess\n",
    "from utils import get_args, get_root_dir"
   ]
  },
  {
   "cell_type": "code",
   "execution_count": 2,
   "metadata": {},
   "outputs": [],
   "source": [
    "args = get_args()\n",
    "args.data_dir = \"../../input/data/train_dataset/\"\n",
    "args.root_dir = get_root_dir(\"../refactoring/\")"
   ]
  },
  {
   "cell_type": "code",
   "execution_count": 3,
   "metadata": {},
   "outputs": [],
   "source": [
    "fe_pipeline = FEPipeline(\n",
    "    args, [\n",
    "        SplitAssessmentItemID,\n",
    "        ConvertTime,\n",
    "        MakeFirstClass,\n",
    "        MakeSecondClass,\n",
    "        MakeCorrectCount,\n",
    "        MakeQuestionCount,\n",
    "        MakeCorrectPercent\n",
    "    ]\n",
    ")\n",
    "\n",
    "columns = [\n",
    "    \"userID\",\n",
    "    \"answerCode\",\n",
    "    \"testPaper\",\n",
    "    \"timeSec\",\n",
    "    \"firstClass\",\n",
    "    \"secondClass\",\n",
    "    \"correctPer\"\n",
    "]\n",
    "\n",
    "pre_encoders = {\n",
    "    \"label\": [\"testPaper\", \"firstClass\", \"secondClass\"],\n",
    "    \"min_max\": [\"correctPer\"],\n",
    "    \"std\": [\"timeSec\"],\n",
    "}"
   ]
  },
  {
   "cell_type": "code",
   "execution_count": 4,
   "metadata": {},
   "outputs": [],
   "source": [
    "preprocess = Preprocess(args, fe_pipeline, columns)"
   ]
  },
  {
   "cell_type": "code",
   "execution_count": 5,
   "metadata": {},
   "outputs": [
    {
     "name": "stderr",
     "output_type": "stream",
     "text": [
      "Use the test datast for data augmentation\n"
     ]
    },
    {
     "data": {
      "text/html": [
       "<pre style=\"white-space:pre;overflow-x:auto;line-height:normal;font-family:Menlo,'DejaVu Sans Mono',consolas,'Courier New',monospace\"><span style=\"color: #7fbfbf\">[10:05:54] </span><span style=\"color: #000080\">INFO    </span> Use the test datast for data augmentation               <a href=\"file:///home/j-gunmo/desktop/00.my-project/17.P-Stage-T1003/4-STAGE/dkt_dataset.py\"><span style=\"color: #7f7f7f\">dkt_dataset.py</span></a><span style=\"color: #7f7f7f\">:71</span>\n",
       "</pre>\n"
      ],
      "text/plain": [
       "<rich.jupyter.JupyterRenderable at 0x7f500417e700>"
      ]
     },
     "metadata": {},
     "output_type": "display_data"
    },
    {
     "name": "stderr",
     "output_type": "stream",
     "text": [
      "Before Length: 2266586\n"
     ]
    },
    {
     "data": {
      "text/html": [
       "<pre style=\"white-space:pre;overflow-x:auto;line-height:normal;font-family:Menlo,'DejaVu Sans Mono',consolas,'Courier New',monospace\"><span style=\"color: #7fbfbf\">           </span><span style=\"color: #000080\">INFO    </span> Before Length: <span style=\"color: #000080; font-weight: bold\">2266586</span>                                  <a href=\"file:///home/j-gunmo/desktop/00.my-project/17.P-Stage-T1003/4-STAGE/dkt_dataset.py\"><span style=\"color: #7f7f7f\">dkt_dataset.py</span></a><span style=\"color: #7f7f7f\">:72</span>\n",
       "</pre>\n"
      ],
      "text/plain": [
       "<rich.jupyter.JupyterRenderable at 0x7f4f2e3b9fd0>"
      ]
     },
     "metadata": {},
     "output_type": "display_data"
    },
    {
     "name": "stderr",
     "output_type": "stream",
     "text": [
      "After Length: 2525956\n"
     ]
    },
    {
     "data": {
      "text/html": [
       "<pre style=\"white-space:pre;overflow-x:auto;line-height:normal;font-family:Menlo,'DejaVu Sans Mono',consolas,'Courier New',monospace\"><span style=\"color: #7fbfbf\">           </span><span style=\"color: #000080\">INFO    </span> After Length: <span style=\"color: #000080; font-weight: bold\">2525956</span>                                   <a href=\"file:///home/j-gunmo/desktop/00.my-project/17.P-Stage-T1003/4-STAGE/dkt_dataset.py\"><span style=\"color: #7f7f7f\">dkt_dataset.py</span></a><span style=\"color: #7f7f7f\">:78</span>\n",
       "</pre>\n"
      ],
      "text/plain": [
       "<rich.jupyter.JupyterRenderable at 0x7f4f27861be0>"
      ]
     },
     "metadata": {},
     "output_type": "display_data"
    }
   ],
   "source": [
    "# 테스트 데이터셋 추가\n",
    "preprocess._data_augmentation_test_dataset()"
   ]
  },
  {
   "cell_type": "code",
   "execution_count": 6,
   "metadata": {},
   "outputs": [
    {
     "data": {
      "text/plain": [
       "(7442, 7441, 0)"
      ]
     },
     "execution_count": 6,
     "metadata": {},
     "output_type": "execute_result"
    }
   ],
   "source": [
    "user = preprocess.datas['train'].userID.unique()\n",
    "len(user), max(user), min(user)  # 0부터 시작"
   ]
  },
  {
   "cell_type": "code",
   "execution_count": 7,
   "metadata": {
    "collapsed": true,
    "jupyter": {
     "outputs_hidden": true
    }
   },
   "outputs": [
    {
     "name": "stderr",
     "output_type": "stream",
     "text": [
      "Feature Engineering Start ... \n"
     ]
    },
    {
     "data": {
      "text/html": [
       "<pre style=\"white-space:pre;overflow-x:auto;line-height:normal;font-family:Menlo,'DejaVu Sans Mono',consolas,'Courier New',monospace\"><span style=\"color: #7fbfbf\">[10:05:55] </span><span style=\"color: #000080\">INFO    </span> Feature Engineering Start <span style=\"color: #808000\">...</span>                               <a href=\"file:///home/j-gunmo/desktop/00.my-project/17.P-Stage-T1003/4-STAGE/fe/feature.py\"><span style=\"color: #7f7f7f\">feature.py</span></a><span style=\"color: #7f7f7f\">:93</span>\n",
       "</pre>\n"
      ],
      "text/plain": [
       "<rich.jupyter.JupyterRenderable at 0x7f500418e220>"
      ]
     },
     "metadata": {},
     "output_type": "display_data"
    },
    {
     "name": "stdout",
     "output_type": "stream",
     "text": [
      "load features /home/j-gunmo/features/train_split_assessmentitem_id.pkl to dataframe ... \n"
     ]
    },
    {
     "name": "stderr",
     "output_type": "stream",
     "text": [
      "\n",
      "Feature Engineering Name: split_assessmentitem_id\n"
     ]
    },
    {
     "data": {
      "text/html": [
       "<pre style=\"white-space:pre;overflow-x:auto;line-height:normal;font-family:Menlo,'DejaVu Sans Mono',consolas,'Courier New',monospace\"><span style=\"color: #7fbfbf\">[10:05:56] </span><span style=\"color: #000080\">INFO    </span>                                                             <a href=\"file:///home/j-gunmo/desktop/00.my-project/17.P-Stage-T1003/4-STAGE/fe/feature.py\"><span style=\"color: #7f7f7f\">feature.py</span></a><span style=\"color: #7f7f7f\">:98</span>\n",
       "                    Feature Engineering Name: split_assessmentitem_id                        \n",
       "</pre>\n"
      ],
      "text/plain": [
       "<rich.jupyter.JupyterRenderable at 0x7f4f27861e80>"
      ]
     },
     "metadata": {},
     "output_type": "display_data"
    },
    {
     "name": "stderr",
     "output_type": "stream",
     "text": [
      "\n",
      "testPaper       : 시험지 번호입니다.\n"
     ]
    },
    {
     "data": {
      "text/html": [
       "<pre style=\"white-space:pre;overflow-x:auto;line-height:normal;font-family:Menlo,'DejaVu Sans Mono',consolas,'Courier New',monospace\"><span style=\"color: #7fbfbf\">           </span><span style=\"color: #000080\">INFO    </span>                                                            <a href=\"file:///home/j-gunmo/desktop/00.my-project/17.P-Stage-T1003/4-STAGE/fe/feature.py\"><span style=\"color: #7f7f7f\">feature.py</span></a><span style=\"color: #7f7f7f\">:101</span>\n",
       "                    testPaper       : 시험지 번호입니다.                                     \n",
       "</pre>\n"
      ],
      "text/plain": [
       "<rich.jupyter.JupyterRenderable at 0x7f4f27861790>"
      ]
     },
     "metadata": {},
     "output_type": "display_data"
    },
    {
     "name": "stderr",
     "output_type": "stream",
     "text": [
      "dtype: object\n"
     ]
    },
    {
     "data": {
      "text/html": [
       "<pre style=\"white-space:pre;overflow-x:auto;line-height:normal;font-family:Menlo,'DejaVu Sans Mono',consolas,'Courier New',monospace\"><span style=\"color: #7fbfbf\">           </span><span style=\"color: #000080\">INFO    </span> dtype: object                                              <a href=\"file:///home/j-gunmo/desktop/00.my-project/17.P-Stage-T1003/4-STAGE/fe/feature.py\"><span style=\"color: #7f7f7f\">feature.py</span></a><span style=\"color: #7f7f7f\">:102</span>\n",
       "</pre>\n"
      ],
      "text/plain": [
       "<rich.jupyter.JupyterRenderable at 0x7f4f27861b20>"
      ]
     },
     "metadata": {},
     "output_type": "display_data"
    },
    {
     "name": "stderr",
     "output_type": "stream",
     "text": [
      "[Examples]\n"
     ]
    },
    {
     "data": {
      "text/html": [
       "<pre style=\"white-space:pre;overflow-x:auto;line-height:normal;font-family:Menlo,'DejaVu Sans Mono',consolas,'Courier New',monospace\"><span style=\"color: #7fbfbf\">           </span><span style=\"color: #000080\">INFO    </span> <span style=\"font-weight: bold\">[</span>Examples<span style=\"font-weight: bold\">]</span>                                                 <a href=\"file:///home/j-gunmo/desktop/00.my-project/17.P-Stage-T1003/4-STAGE/fe/feature.py\"><span style=\"color: #7f7f7f\">feature.py</span></a><span style=\"color: #7f7f7f\">:103</span>\n",
       "</pre>\n"
      ],
      "text/plain": [
       "<rich.jupyter.JupyterRenderable at 0x7f4f278619d0>"
      ]
     },
     "metadata": {},
     "output_type": "display_data"
    },
    {
     "name": "stderr",
     "output_type": "stream",
     "text": [
      "INDEX 0000: 060001\n"
     ]
    },
    {
     "data": {
      "text/html": [
       "<pre style=\"white-space:pre;overflow-x:auto;line-height:normal;font-family:Menlo,'DejaVu Sans Mono',consolas,'Courier New',monospace\"><span style=\"color: #7fbfbf\">           </span><span style=\"color: #000080\">INFO    </span> INDEX <span style=\"color: #000080; font-weight: bold\">0000</span>: <span style=\"color: #000080; font-weight: bold\">060001</span>                                         <a href=\"file:///home/j-gunmo/desktop/00.my-project/17.P-Stage-T1003/4-STAGE/fe/feature.py\"><span style=\"color: #7f7f7f\">feature.py</span></a><span style=\"color: #7f7f7f\">:106</span>\n",
       "</pre>\n"
      ],
      "text/plain": [
       "<rich.jupyter.JupyterRenderable at 0x7f4f27861b80>"
      ]
     },
     "metadata": {},
     "output_type": "display_data"
    },
    {
     "name": "stderr",
     "output_type": "stream",
     "text": [
      "INDEX 1000: 080012\n"
     ]
    },
    {
     "data": {
      "text/html": [
       "<pre style=\"white-space:pre;overflow-x:auto;line-height:normal;font-family:Menlo,'DejaVu Sans Mono',consolas,'Courier New',monospace\"><span style=\"color: #7fbfbf\">           </span><span style=\"color: #000080\">INFO    </span> INDEX <span style=\"color: #000080; font-weight: bold\">1000</span>: <span style=\"color: #000080; font-weight: bold\">080012</span>                                         <a href=\"file:///home/j-gunmo/desktop/00.my-project/17.P-Stage-T1003/4-STAGE/fe/feature.py\"><span style=\"color: #7f7f7f\">feature.py</span></a><span style=\"color: #7f7f7f\">:106</span>\n",
       "</pre>\n"
      ],
      "text/plain": [
       "<rich.jupyter.JupyterRenderable at 0x7f4f27861eb0>"
      ]
     },
     "metadata": {},
     "output_type": "display_data"
    },
    {
     "name": "stderr",
     "output_type": "stream",
     "text": [
      "INDEX 2000: 060041\n"
     ]
    },
    {
     "data": {
      "text/html": [
       "<pre style=\"white-space:pre;overflow-x:auto;line-height:normal;font-family:Menlo,'DejaVu Sans Mono',consolas,'Courier New',monospace\"><span style=\"color: #7fbfbf\">           </span><span style=\"color: #000080\">INFO    </span> INDEX <span style=\"color: #000080; font-weight: bold\">2000</span>: <span style=\"color: #000080; font-weight: bold\">060041</span>                                         <a href=\"file:///home/j-gunmo/desktop/00.my-project/17.P-Stage-T1003/4-STAGE/fe/feature.py\"><span style=\"color: #7f7f7f\">feature.py</span></a><span style=\"color: #7f7f7f\">:106</span>\n",
       "</pre>\n"
      ],
      "text/plain": [
       "<rich.jupyter.JupyterRenderable at 0x7f4f27861dc0>"
      ]
     },
     "metadata": {},
     "output_type": "display_data"
    },
    {
     "name": "stderr",
     "output_type": "stream",
     "text": [
      "INDEX 3000: 080041\n"
     ]
    },
    {
     "data": {
      "text/html": [
       "<pre style=\"white-space:pre;overflow-x:auto;line-height:normal;font-family:Menlo,'DejaVu Sans Mono',consolas,'Courier New',monospace\"><span style=\"color: #7fbfbf\">           </span><span style=\"color: #000080\">INFO    </span> INDEX <span style=\"color: #000080; font-weight: bold\">3000</span>: <span style=\"color: #000080; font-weight: bold\">080041</span>                                         <a href=\"file:///home/j-gunmo/desktop/00.my-project/17.P-Stage-T1003/4-STAGE/fe/feature.py\"><span style=\"color: #7f7f7f\">feature.py</span></a><span style=\"color: #7f7f7f\">:106</span>\n",
       "</pre>\n"
      ],
      "text/plain": [
       "<rich.jupyter.JupyterRenderable at 0x7f4f27861f10>"
      ]
     },
     "metadata": {},
     "output_type": "display_data"
    },
    {
     "name": "stderr",
     "output_type": "stream",
     "text": [
      "INDEX 4000: 060091\n"
     ]
    },
    {
     "data": {
      "text/html": [
       "<pre style=\"white-space:pre;overflow-x:auto;line-height:normal;font-family:Menlo,'DejaVu Sans Mono',consolas,'Courier New',monospace\"><span style=\"color: #7fbfbf\">           </span><span style=\"color: #000080\">INFO    </span> INDEX <span style=\"color: #000080; font-weight: bold\">4000</span>: <span style=\"color: #000080; font-weight: bold\">060091</span>                                         <a href=\"file:///home/j-gunmo/desktop/00.my-project/17.P-Stage-T1003/4-STAGE/fe/feature.py\"><span style=\"color: #7f7f7f\">feature.py</span></a><span style=\"color: #7f7f7f\">:106</span>\n",
       "</pre>\n"
      ],
      "text/plain": [
       "<rich.jupyter.JupyterRenderable at 0x7f4f27861af0>"
      ]
     },
     "metadata": {},
     "output_type": "display_data"
    },
    {
     "name": "stderr",
     "output_type": "stream",
     "text": [
      "INDEX 5000: 060101\n"
     ]
    },
    {
     "data": {
      "text/html": [
       "<pre style=\"white-space:pre;overflow-x:auto;line-height:normal;font-family:Menlo,'DejaVu Sans Mono',consolas,'Courier New',monospace\"><span style=\"color: #7fbfbf\">           </span><span style=\"color: #000080\">INFO    </span> INDEX <span style=\"color: #000080; font-weight: bold\">5000</span>: <span style=\"color: #000080; font-weight: bold\">060101</span>                                         <a href=\"file:///home/j-gunmo/desktop/00.my-project/17.P-Stage-T1003/4-STAGE/fe/feature.py\"><span style=\"color: #7f7f7f\">feature.py</span></a><span style=\"color: #7f7f7f\">:106</span>\n",
       "</pre>\n"
      ],
      "text/plain": [
       "<rich.jupyter.JupyterRenderable at 0x7f4f27861dc0>"
      ]
     },
     "metadata": {},
     "output_type": "display_data"
    },
    {
     "name": "stderr",
     "output_type": "stream",
     "text": [
      "INDEX 6000: 080100\n"
     ]
    },
    {
     "data": {
      "text/html": [
       "<pre style=\"white-space:pre;overflow-x:auto;line-height:normal;font-family:Menlo,'DejaVu Sans Mono',consolas,'Courier New',monospace\"><span style=\"color: #7fbfbf\">           </span><span style=\"color: #000080\">INFO    </span> INDEX <span style=\"color: #000080; font-weight: bold\">6000</span>: <span style=\"color: #000080; font-weight: bold\">080100</span>                                         <a href=\"file:///home/j-gunmo/desktop/00.my-project/17.P-Stage-T1003/4-STAGE/fe/feature.py\"><span style=\"color: #7f7f7f\">feature.py</span></a><span style=\"color: #7f7f7f\">:106</span>\n",
       "</pre>\n"
      ],
      "text/plain": [
       "<rich.jupyter.JupyterRenderable at 0x7f4f278619d0>"
      ]
     },
     "metadata": {},
     "output_type": "display_data"
    },
    {
     "name": "stderr",
     "output_type": "stream",
     "text": [
      "INDEX 7000: 080112\n"
     ]
    },
    {
     "data": {
      "text/html": [
       "<pre style=\"white-space:pre;overflow-x:auto;line-height:normal;font-family:Menlo,'DejaVu Sans Mono',consolas,'Courier New',monospace\"><span style=\"color: #7fbfbf\">           </span><span style=\"color: #000080\">INFO    </span> INDEX <span style=\"color: #000080; font-weight: bold\">7000</span>: <span style=\"color: #000080; font-weight: bold\">080112</span>                                         <a href=\"file:///home/j-gunmo/desktop/00.my-project/17.P-Stage-T1003/4-STAGE/fe/feature.py\"><span style=\"color: #7f7f7f\">feature.py</span></a><span style=\"color: #7f7f7f\">:106</span>\n",
       "</pre>\n"
      ],
      "text/plain": [
       "<rich.jupyter.JupyterRenderable at 0x7f4f27861b80>"
      ]
     },
     "metadata": {},
     "output_type": "display_data"
    },
    {
     "name": "stderr",
     "output_type": "stream",
     "text": [
      "INDEX 8000: 040049\n"
     ]
    },
    {
     "data": {
      "text/html": [
       "<pre style=\"white-space:pre;overflow-x:auto;line-height:normal;font-family:Menlo,'DejaVu Sans Mono',consolas,'Courier New',monospace\"><span style=\"color: #7fbfbf\">           </span><span style=\"color: #000080\">INFO    </span> INDEX <span style=\"color: #000080; font-weight: bold\">8000</span>: <span style=\"color: #000080; font-weight: bold\">040049</span>                                         <a href=\"file:///home/j-gunmo/desktop/00.my-project/17.P-Stage-T1003/4-STAGE/fe/feature.py\"><span style=\"color: #7f7f7f\">feature.py</span></a><span style=\"color: #7f7f7f\">:106</span>\n",
       "</pre>\n"
      ],
      "text/plain": [
       "<rich.jupyter.JupyterRenderable at 0x7f4f27861d60>"
      ]
     },
     "metadata": {},
     "output_type": "display_data"
    },
    {
     "name": "stderr",
     "output_type": "stream",
     "text": [
      "INDEX 9000: 090011\n"
     ]
    },
    {
     "data": {
      "text/html": [
       "<pre style=\"white-space:pre;overflow-x:auto;line-height:normal;font-family:Menlo,'DejaVu Sans Mono',consolas,'Courier New',monospace\"><span style=\"color: #7fbfbf\">           </span><span style=\"color: #000080\">INFO    </span> INDEX <span style=\"color: #000080; font-weight: bold\">9000</span>: <span style=\"color: #000080; font-weight: bold\">090011</span>                                         <a href=\"file:///home/j-gunmo/desktop/00.my-project/17.P-Stage-T1003/4-STAGE/fe/feature.py\"><span style=\"color: #7f7f7f\">feature.py</span></a><span style=\"color: #7f7f7f\">:106</span>\n",
       "</pre>\n"
      ],
      "text/plain": [
       "<rich.jupyter.JupyterRenderable at 0x7f4f278619d0>"
      ]
     },
     "metadata": {},
     "output_type": "display_data"
    },
    {
     "name": "stderr",
     "output_type": "stream",
     "text": [
      "\n",
      "testPaperCnt    : 시험지의 문항 번호입니다.\n"
     ]
    },
    {
     "data": {
      "text/html": [
       "<pre style=\"white-space:pre;overflow-x:auto;line-height:normal;font-family:Menlo,'DejaVu Sans Mono',consolas,'Courier New',monospace\"><span style=\"color: #7fbfbf\">           </span><span style=\"color: #000080\">INFO    </span>                                                            <a href=\"file:///home/j-gunmo/desktop/00.my-project/17.P-Stage-T1003/4-STAGE/fe/feature.py\"><span style=\"color: #7f7f7f\">feature.py</span></a><span style=\"color: #7f7f7f\">:101</span>\n",
       "                    testPaperCnt    : 시험지의 문항 번호입니다.                              \n",
       "</pre>\n"
      ],
      "text/plain": [
       "<rich.jupyter.JupyterRenderable at 0x7f5004170520>"
      ]
     },
     "metadata": {},
     "output_type": "display_data"
    },
    {
     "name": "stderr",
     "output_type": "stream",
     "text": [
      "dtype: object\n"
     ]
    },
    {
     "data": {
      "text/html": [
       "<pre style=\"white-space:pre;overflow-x:auto;line-height:normal;font-family:Menlo,'DejaVu Sans Mono',consolas,'Courier New',monospace\"><span style=\"color: #7fbfbf\">           </span><span style=\"color: #000080\">INFO    </span> dtype: object                                              <a href=\"file:///home/j-gunmo/desktop/00.my-project/17.P-Stage-T1003/4-STAGE/fe/feature.py\"><span style=\"color: #7f7f7f\">feature.py</span></a><span style=\"color: #7f7f7f\">:102</span>\n",
       "</pre>\n"
      ],
      "text/plain": [
       "<rich.jupyter.JupyterRenderable at 0x7f4f27861df0>"
      ]
     },
     "metadata": {},
     "output_type": "display_data"
    },
    {
     "name": "stderr",
     "output_type": "stream",
     "text": [
      "[Examples]\n"
     ]
    },
    {
     "data": {
      "text/html": [
       "<pre style=\"white-space:pre;overflow-x:auto;line-height:normal;font-family:Menlo,'DejaVu Sans Mono',consolas,'Courier New',monospace\"><span style=\"color: #7fbfbf\">           </span><span style=\"color: #000080\">INFO    </span> <span style=\"font-weight: bold\">[</span>Examples<span style=\"font-weight: bold\">]</span>                                                 <a href=\"file:///home/j-gunmo/desktop/00.my-project/17.P-Stage-T1003/4-STAGE/fe/feature.py\"><span style=\"color: #7f7f7f\">feature.py</span></a><span style=\"color: #7f7f7f\">:103</span>\n",
       "</pre>\n"
      ],
      "text/plain": [
       "<rich.jupyter.JupyterRenderable at 0x7f4f27861b80>"
      ]
     },
     "metadata": {},
     "output_type": "display_data"
    },
    {
     "name": "stderr",
     "output_type": "stream",
     "text": [
      "INDEX 0000: 001\n"
     ]
    },
    {
     "data": {
      "text/html": [
       "<pre style=\"white-space:pre;overflow-x:auto;line-height:normal;font-family:Menlo,'DejaVu Sans Mono',consolas,'Courier New',monospace\"><span style=\"color: #7fbfbf\">           </span><span style=\"color: #000080\">INFO    </span> INDEX <span style=\"color: #000080; font-weight: bold\">0000</span>: <span style=\"color: #000080; font-weight: bold\">001</span>                                            <a href=\"file:///home/j-gunmo/desktop/00.my-project/17.P-Stage-T1003/4-STAGE/fe/feature.py\"><span style=\"color: #7f7f7f\">feature.py</span></a><span style=\"color: #7f7f7f\">:106</span>\n",
       "</pre>\n"
      ],
      "text/plain": [
       "<rich.jupyter.JupyterRenderable at 0x7f4f27861b20>"
      ]
     },
     "metadata": {},
     "output_type": "display_data"
    },
    {
     "name": "stderr",
     "output_type": "stream",
     "text": [
      "INDEX 1000: 001\n"
     ]
    },
    {
     "data": {
      "text/html": [
       "<pre style=\"white-space:pre;overflow-x:auto;line-height:normal;font-family:Menlo,'DejaVu Sans Mono',consolas,'Courier New',monospace\"><span style=\"color: #7fbfbf\">           </span><span style=\"color: #000080\">INFO    </span> INDEX <span style=\"color: #000080; font-weight: bold\">1000</span>: <span style=\"color: #000080; font-weight: bold\">001</span>                                            <a href=\"file:///home/j-gunmo/desktop/00.my-project/17.P-Stage-T1003/4-STAGE/fe/feature.py\"><span style=\"color: #7f7f7f\">feature.py</span></a><span style=\"color: #7f7f7f\">:106</span>\n",
       "</pre>\n"
      ],
      "text/plain": [
       "<rich.jupyter.JupyterRenderable at 0x7f4f27861e20>"
      ]
     },
     "metadata": {},
     "output_type": "display_data"
    },
    {
     "name": "stderr",
     "output_type": "stream",
     "text": [
      "INDEX 2000: 007\n"
     ]
    },
    {
     "data": {
      "text/html": [
       "<pre style=\"white-space:pre;overflow-x:auto;line-height:normal;font-family:Menlo,'DejaVu Sans Mono',consolas,'Courier New',monospace\"><span style=\"color: #7fbfbf\">           </span><span style=\"color: #000080\">INFO    </span> INDEX <span style=\"color: #000080; font-weight: bold\">2000</span>: <span style=\"color: #000080; font-weight: bold\">007</span>                                            <a href=\"file:///home/j-gunmo/desktop/00.my-project/17.P-Stage-T1003/4-STAGE/fe/feature.py\"><span style=\"color: #7f7f7f\">feature.py</span></a><span style=\"color: #7f7f7f\">:106</span>\n",
       "</pre>\n"
      ],
      "text/plain": [
       "<rich.jupyter.JupyterRenderable at 0x7f4f27861e50>"
      ]
     },
     "metadata": {},
     "output_type": "display_data"
    },
    {
     "name": "stderr",
     "output_type": "stream",
     "text": [
      "INDEX 3000: 005\n"
     ]
    },
    {
     "data": {
      "text/html": [
       "<pre style=\"white-space:pre;overflow-x:auto;line-height:normal;font-family:Menlo,'DejaVu Sans Mono',consolas,'Courier New',monospace\"><span style=\"color: #7fbfbf\">           </span><span style=\"color: #000080\">INFO    </span> INDEX <span style=\"color: #000080; font-weight: bold\">3000</span>: <span style=\"color: #000080; font-weight: bold\">005</span>                                            <a href=\"file:///home/j-gunmo/desktop/00.my-project/17.P-Stage-T1003/4-STAGE/fe/feature.py\"><span style=\"color: #7f7f7f\">feature.py</span></a><span style=\"color: #7f7f7f\">:106</span>\n",
       "</pre>\n"
      ],
      "text/plain": [
       "<rich.jupyter.JupyterRenderable at 0x7f4f27861b20>"
      ]
     },
     "metadata": {},
     "output_type": "display_data"
    },
    {
     "name": "stderr",
     "output_type": "stream",
     "text": [
      "INDEX 4000: 003\n"
     ]
    },
    {
     "data": {
      "text/html": [
       "<pre style=\"white-space:pre;overflow-x:auto;line-height:normal;font-family:Menlo,'DejaVu Sans Mono',consolas,'Courier New',monospace\"><span style=\"color: #7fbfbf\">           </span><span style=\"color: #000080\">INFO    </span> INDEX <span style=\"color: #000080; font-weight: bold\">4000</span>: <span style=\"color: #000080; font-weight: bold\">003</span>                                            <a href=\"file:///home/j-gunmo/desktop/00.my-project/17.P-Stage-T1003/4-STAGE/fe/feature.py\"><span style=\"color: #7f7f7f\">feature.py</span></a><span style=\"color: #7f7f7f\">:106</span>\n",
       "</pre>\n"
      ],
      "text/plain": [
       "<rich.jupyter.JupyterRenderable at 0x7f4f27861bb0>"
      ]
     },
     "metadata": {},
     "output_type": "display_data"
    },
    {
     "name": "stderr",
     "output_type": "stream",
     "text": [
      "INDEX 5000: 003\n"
     ]
    },
    {
     "data": {
      "text/html": [
       "<pre style=\"white-space:pre;overflow-x:auto;line-height:normal;font-family:Menlo,'DejaVu Sans Mono',consolas,'Courier New',monospace\"><span style=\"color: #7fbfbf\">           </span><span style=\"color: #000080\">INFO    </span> INDEX <span style=\"color: #000080; font-weight: bold\">5000</span>: <span style=\"color: #000080; font-weight: bold\">003</span>                                            <a href=\"file:///home/j-gunmo/desktop/00.my-project/17.P-Stage-T1003/4-STAGE/fe/feature.py\"><span style=\"color: #7f7f7f\">feature.py</span></a><span style=\"color: #7f7f7f\">:106</span>\n",
       "</pre>\n"
      ],
      "text/plain": [
       "<rich.jupyter.JupyterRenderable at 0x7f4f27861f40>"
      ]
     },
     "metadata": {},
     "output_type": "display_data"
    },
    {
     "name": "stderr",
     "output_type": "stream",
     "text": [
      "INDEX 6000: 004\n"
     ]
    },
    {
     "data": {
      "text/html": [
       "<pre style=\"white-space:pre;overflow-x:auto;line-height:normal;font-family:Menlo,'DejaVu Sans Mono',consolas,'Courier New',monospace\"><span style=\"color: #7fbfbf\">           </span><span style=\"color: #000080\">INFO    </span> INDEX <span style=\"color: #000080; font-weight: bold\">6000</span>: <span style=\"color: #000080; font-weight: bold\">004</span>                                            <a href=\"file:///home/j-gunmo/desktop/00.my-project/17.P-Stage-T1003/4-STAGE/fe/feature.py\"><span style=\"color: #7f7f7f\">feature.py</span></a><span style=\"color: #7f7f7f\">:106</span>\n",
       "</pre>\n"
      ],
      "text/plain": [
       "<rich.jupyter.JupyterRenderable at 0x7f4f27861f10>"
      ]
     },
     "metadata": {},
     "output_type": "display_data"
    },
    {
     "name": "stderr",
     "output_type": "stream",
     "text": [
      "INDEX 7000: 002\n"
     ]
    },
    {
     "data": {
      "text/html": [
       "<pre style=\"white-space:pre;overflow-x:auto;line-height:normal;font-family:Menlo,'DejaVu Sans Mono',consolas,'Courier New',monospace\"><span style=\"color: #7fbfbf\">           </span><span style=\"color: #000080\">INFO    </span> INDEX <span style=\"color: #000080; font-weight: bold\">7000</span>: <span style=\"color: #000080; font-weight: bold\">002</span>                                            <a href=\"file:///home/j-gunmo/desktop/00.my-project/17.P-Stage-T1003/4-STAGE/fe/feature.py\"><span style=\"color: #7f7f7f\">feature.py</span></a><span style=\"color: #7f7f7f\">:106</span>\n",
       "</pre>\n"
      ],
      "text/plain": [
       "<rich.jupyter.JupyterRenderable at 0x7f4f27861a90>"
      ]
     },
     "metadata": {},
     "output_type": "display_data"
    },
    {
     "name": "stderr",
     "output_type": "stream",
     "text": [
      "INDEX 8000: 003\n"
     ]
    },
    {
     "data": {
      "text/html": [
       "<pre style=\"white-space:pre;overflow-x:auto;line-height:normal;font-family:Menlo,'DejaVu Sans Mono',consolas,'Courier New',monospace\"><span style=\"color: #7fbfbf\">           </span><span style=\"color: #000080\">INFO    </span> INDEX <span style=\"color: #000080; font-weight: bold\">8000</span>: <span style=\"color: #000080; font-weight: bold\">003</span>                                            <a href=\"file:///home/j-gunmo/desktop/00.my-project/17.P-Stage-T1003/4-STAGE/fe/feature.py\"><span style=\"color: #7f7f7f\">feature.py</span></a><span style=\"color: #7f7f7f\">:106</span>\n",
       "</pre>\n"
      ],
      "text/plain": [
       "<rich.jupyter.JupyterRenderable at 0x7f4f27861dc0>"
      ]
     },
     "metadata": {},
     "output_type": "display_data"
    },
    {
     "name": "stderr",
     "output_type": "stream",
     "text": [
      "INDEX 9000: 007\n"
     ]
    },
    {
     "data": {
      "text/html": [
       "<pre style=\"white-space:pre;overflow-x:auto;line-height:normal;font-family:Menlo,'DejaVu Sans Mono',consolas,'Courier New',monospace\"><span style=\"color: #7fbfbf\">           </span><span style=\"color: #000080\">INFO    </span> INDEX <span style=\"color: #000080; font-weight: bold\">9000</span>: <span style=\"color: #000080; font-weight: bold\">007</span>                                            <a href=\"file:///home/j-gunmo/desktop/00.my-project/17.P-Stage-T1003/4-STAGE/fe/feature.py\"><span style=\"color: #7f7f7f\">feature.py</span></a><span style=\"color: #7f7f7f\">:106</span>\n",
       "</pre>\n"
      ],
      "text/plain": [
       "<rich.jupyter.JupyterRenderable at 0x7f4f278619d0>"
      ]
     },
     "metadata": {},
     "output_type": "display_data"
    },
    {
     "name": "stdout",
     "output_type": "stream",
     "text": [
      "load features /home/j-gunmo/features/train_convert_time.pkl to dataframe ... \n"
     ]
    },
    {
     "name": "stderr",
     "output_type": "stream",
     "text": [
      "\n",
      "Feature Engineering Name: convert_time\n"
     ]
    },
    {
     "data": {
      "text/html": [
       "<pre style=\"white-space:pre;overflow-x:auto;line-height:normal;font-family:Menlo,'DejaVu Sans Mono',consolas,'Courier New',monospace\"><span style=\"color: #7fbfbf\">[10:05:57] </span><span style=\"color: #000080\">INFO    </span>                                                             <a href=\"file:///home/j-gunmo/desktop/00.my-project/17.P-Stage-T1003/4-STAGE/fe/feature.py\"><span style=\"color: #7f7f7f\">feature.py</span></a><span style=\"color: #7f7f7f\">:98</span>\n",
       "                    Feature Engineering Name: convert_time                                   \n",
       "</pre>\n"
      ],
      "text/plain": [
       "<rich.jupyter.JupyterRenderable at 0x7f4f27861a90>"
      ]
     },
     "metadata": {},
     "output_type": "display_data"
    },
    {
     "name": "stderr",
     "output_type": "stream",
     "text": [
      "\n",
      "timeSec         : 사용자가 문항을 푼 타임스태프 정보입니다.\n"
     ]
    },
    {
     "data": {
      "text/html": [
       "<pre style=\"white-space:pre;overflow-x:auto;line-height:normal;font-family:Menlo,'DejaVu Sans Mono',consolas,'Courier New',monospace\"><span style=\"color: #7fbfbf\">           </span><span style=\"color: #000080\">INFO    </span>                                                            <a href=\"file:///home/j-gunmo/desktop/00.my-project/17.P-Stage-T1003/4-STAGE/fe/feature.py\"><span style=\"color: #7f7f7f\">feature.py</span></a><span style=\"color: #7f7f7f\">:101</span>\n",
       "                    timeSec         : 사용자가 문항을 푼 타임스태프                          \n",
       "                    정보입니다.                                                              \n",
       "</pre>\n"
      ],
      "text/plain": [
       "<rich.jupyter.JupyterRenderable at 0x7f4f27861dc0>"
      ]
     },
     "metadata": {},
     "output_type": "display_data"
    },
    {
     "name": "stderr",
     "output_type": "stream",
     "text": [
      "dtype: int64\n"
     ]
    },
    {
     "data": {
      "text/html": [
       "<pre style=\"white-space:pre;overflow-x:auto;line-height:normal;font-family:Menlo,'DejaVu Sans Mono',consolas,'Courier New',monospace\"><span style=\"color: #7fbfbf\">           </span><span style=\"color: #000080\">INFO    </span> dtype: int64                                               <a href=\"file:///home/j-gunmo/desktop/00.my-project/17.P-Stage-T1003/4-STAGE/fe/feature.py\"><span style=\"color: #7f7f7f\">feature.py</span></a><span style=\"color: #7f7f7f\">:102</span>\n",
       "</pre>\n"
      ],
      "text/plain": [
       "<rich.jupyter.JupyterRenderable at 0x7f4f27861eb0>"
      ]
     },
     "metadata": {},
     "output_type": "display_data"
    },
    {
     "name": "stderr",
     "output_type": "stream",
     "text": [
      "[Examples]\n"
     ]
    },
    {
     "data": {
      "text/html": [
       "<pre style=\"white-space:pre;overflow-x:auto;line-height:normal;font-family:Menlo,'DejaVu Sans Mono',consolas,'Courier New',monospace\"><span style=\"color: #7fbfbf\">           </span><span style=\"color: #000080\">INFO    </span> <span style=\"font-weight: bold\">[</span>Examples<span style=\"font-weight: bold\">]</span>                                                 <a href=\"file:///home/j-gunmo/desktop/00.my-project/17.P-Stage-T1003/4-STAGE/fe/feature.py\"><span style=\"color: #7f7f7f\">feature.py</span></a><span style=\"color: #7f7f7f\">:103</span>\n",
       "</pre>\n"
      ],
      "text/plain": [
       "<rich.jupyter.JupyterRenderable at 0x7f4f27861f10>"
      ]
     },
     "metadata": {},
     "output_type": "display_data"
    },
    {
     "name": "stderr",
     "output_type": "stream",
     "text": [
      "INDEX 0000: 1584976631\n"
     ]
    },
    {
     "data": {
      "text/html": [
       "<pre style=\"white-space:pre;overflow-x:auto;line-height:normal;font-family:Menlo,'DejaVu Sans Mono',consolas,'Courier New',monospace\"><span style=\"color: #7fbfbf\">           </span><span style=\"color: #000080\">INFO    </span> INDEX <span style=\"color: #000080; font-weight: bold\">0000</span>: <span style=\"color: #000080; font-weight: bold\">1584976631</span>                                     <a href=\"file:///home/j-gunmo/desktop/00.my-project/17.P-Stage-T1003/4-STAGE/fe/feature.py\"><span style=\"color: #7f7f7f\">feature.py</span></a><span style=\"color: #7f7f7f\">:106</span>\n",
       "</pre>\n"
      ],
      "text/plain": [
       "<rich.jupyter.JupyterRenderable at 0x7f4f27861f40>"
      ]
     },
     "metadata": {},
     "output_type": "display_data"
    },
    {
     "name": "stderr",
     "output_type": "stream",
     "text": [
      "INDEX 1000: 1588175753\n"
     ]
    },
    {
     "data": {
      "text/html": [
       "<pre style=\"white-space:pre;overflow-x:auto;line-height:normal;font-family:Menlo,'DejaVu Sans Mono',consolas,'Courier New',monospace\"><span style=\"color: #7fbfbf\">           </span><span style=\"color: #000080\">INFO    </span> INDEX <span style=\"color: #000080; font-weight: bold\">1000</span>: <span style=\"color: #000080; font-weight: bold\">1588175753</span>                                     <a href=\"file:///home/j-gunmo/desktop/00.my-project/17.P-Stage-T1003/4-STAGE/fe/feature.py\"><span style=\"color: #7f7f7f\">feature.py</span></a><span style=\"color: #7f7f7f\">:106</span>\n",
       "</pre>\n"
      ],
      "text/plain": [
       "<rich.jupyter.JupyterRenderable at 0x7f4f27861700>"
      ]
     },
     "metadata": {},
     "output_type": "display_data"
    },
    {
     "name": "stderr",
     "output_type": "stream",
     "text": [
      "INDEX 2000: 1590428625\n"
     ]
    },
    {
     "data": {
      "text/html": [
       "<pre style=\"white-space:pre;overflow-x:auto;line-height:normal;font-family:Menlo,'DejaVu Sans Mono',consolas,'Courier New',monospace\"><span style=\"color: #7fbfbf\">           </span><span style=\"color: #000080\">INFO    </span> INDEX <span style=\"color: #000080; font-weight: bold\">2000</span>: <span style=\"color: #000080; font-weight: bold\">1590428625</span>                                     <a href=\"file:///home/j-gunmo/desktop/00.my-project/17.P-Stage-T1003/4-STAGE/fe/feature.py\"><span style=\"color: #7f7f7f\">feature.py</span></a><span style=\"color: #7f7f7f\">:106</span>\n",
       "</pre>\n"
      ],
      "text/plain": [
       "<rich.jupyter.JupyterRenderable at 0x7f4f27861af0>"
      ]
     },
     "metadata": {},
     "output_type": "display_data"
    },
    {
     "name": "stderr",
     "output_type": "stream",
     "text": [
      "INDEX 3000: 1592332726\n"
     ]
    },
    {
     "data": {
      "text/html": [
       "<pre style=\"white-space:pre;overflow-x:auto;line-height:normal;font-family:Menlo,'DejaVu Sans Mono',consolas,'Courier New',monospace\"><span style=\"color: #7fbfbf\">           </span><span style=\"color: #000080\">INFO    </span> INDEX <span style=\"color: #000080; font-weight: bold\">3000</span>: <span style=\"color: #000080; font-weight: bold\">1592332726</span>                                     <a href=\"file:///home/j-gunmo/desktop/00.my-project/17.P-Stage-T1003/4-STAGE/fe/feature.py\"><span style=\"color: #7f7f7f\">feature.py</span></a><span style=\"color: #7f7f7f\">:106</span>\n",
       "</pre>\n"
      ],
      "text/plain": [
       "<rich.jupyter.JupyterRenderable at 0x7f4f27861a90>"
      ]
     },
     "metadata": {},
     "output_type": "display_data"
    },
    {
     "name": "stderr",
     "output_type": "stream",
     "text": [
      "INDEX 4000: 1594832366\n"
     ]
    },
    {
     "data": {
      "text/html": [
       "<pre style=\"white-space:pre;overflow-x:auto;line-height:normal;font-family:Menlo,'DejaVu Sans Mono',consolas,'Courier New',monospace\"><span style=\"color: #7fbfbf\">           </span><span style=\"color: #000080\">INFO    </span> INDEX <span style=\"color: #000080; font-weight: bold\">4000</span>: <span style=\"color: #000080; font-weight: bold\">1594832366</span>                                     <a href=\"file:///home/j-gunmo/desktop/00.my-project/17.P-Stage-T1003/4-STAGE/fe/feature.py\"><span style=\"color: #7f7f7f\">feature.py</span></a><span style=\"color: #7f7f7f\">:106</span>\n",
       "</pre>\n"
      ],
      "text/plain": [
       "<rich.jupyter.JupyterRenderable at 0x7f4f27861f40>"
      ]
     },
     "metadata": {},
     "output_type": "display_data"
    },
    {
     "name": "stderr",
     "output_type": "stream",
     "text": [
      "INDEX 5000: 1599493405\n"
     ]
    },
    {
     "data": {
      "text/html": [
       "<pre style=\"white-space:pre;overflow-x:auto;line-height:normal;font-family:Menlo,'DejaVu Sans Mono',consolas,'Courier New',monospace\"><span style=\"color: #7fbfbf\">           </span><span style=\"color: #000080\">INFO    </span> INDEX <span style=\"color: #000080; font-weight: bold\">5000</span>: <span style=\"color: #000080; font-weight: bold\">1599493405</span>                                     <a href=\"file:///home/j-gunmo/desktop/00.my-project/17.P-Stage-T1003/4-STAGE/fe/feature.py\"><span style=\"color: #7f7f7f\">feature.py</span></a><span style=\"color: #7f7f7f\">:106</span>\n",
       "</pre>\n"
      ],
      "text/plain": [
       "<rich.jupyter.JupyterRenderable at 0x7f4f27861700>"
      ]
     },
     "metadata": {},
     "output_type": "display_data"
    },
    {
     "name": "stderr",
     "output_type": "stream",
     "text": [
      "INDEX 6000: 1602576550\n"
     ]
    },
    {
     "data": {
      "text/html": [
       "<pre style=\"white-space:pre;overflow-x:auto;line-height:normal;font-family:Menlo,'DejaVu Sans Mono',consolas,'Courier New',monospace\"><span style=\"color: #7fbfbf\">           </span><span style=\"color: #000080\">INFO    </span> INDEX <span style=\"color: #000080; font-weight: bold\">6000</span>: <span style=\"color: #000080; font-weight: bold\">1602576550</span>                                     <a href=\"file:///home/j-gunmo/desktop/00.my-project/17.P-Stage-T1003/4-STAGE/fe/feature.py\"><span style=\"color: #7f7f7f\">feature.py</span></a><span style=\"color: #7f7f7f\">:106</span>\n",
       "</pre>\n"
      ],
      "text/plain": [
       "<rich.jupyter.JupyterRenderable at 0x7f4f27861af0>"
      ]
     },
     "metadata": {},
     "output_type": "display_data"
    },
    {
     "name": "stderr",
     "output_type": "stream",
     "text": [
      "INDEX 7000: 1604429286\n"
     ]
    },
    {
     "data": {
      "text/html": [
       "<pre style=\"white-space:pre;overflow-x:auto;line-height:normal;font-family:Menlo,'DejaVu Sans Mono',consolas,'Courier New',monospace\"><span style=\"color: #7fbfbf\">           </span><span style=\"color: #000080\">INFO    </span> INDEX <span style=\"color: #000080; font-weight: bold\">7000</span>: <span style=\"color: #000080; font-weight: bold\">1604429286</span>                                     <a href=\"file:///home/j-gunmo/desktop/00.my-project/17.P-Stage-T1003/4-STAGE/fe/feature.py\"><span style=\"color: #7f7f7f\">feature.py</span></a><span style=\"color: #7f7f7f\">:106</span>\n",
       "</pre>\n"
      ],
      "text/plain": [
       "<rich.jupyter.JupyterRenderable at 0x7f4f27861a90>"
      ]
     },
     "metadata": {},
     "output_type": "display_data"
    },
    {
     "name": "stderr",
     "output_type": "stream",
     "text": [
      "INDEX 8000: 1581193055\n"
     ]
    },
    {
     "data": {
      "text/html": [
       "<pre style=\"white-space:pre;overflow-x:auto;line-height:normal;font-family:Menlo,'DejaVu Sans Mono',consolas,'Courier New',monospace\"><span style=\"color: #7fbfbf\">           </span><span style=\"color: #000080\">INFO    </span> INDEX <span style=\"color: #000080; font-weight: bold\">8000</span>: <span style=\"color: #000080; font-weight: bold\">1581193055</span>                                     <a href=\"file:///home/j-gunmo/desktop/00.my-project/17.P-Stage-T1003/4-STAGE/fe/feature.py\"><span style=\"color: #7f7f7f\">feature.py</span></a><span style=\"color: #7f7f7f\">:106</span>\n",
       "</pre>\n"
      ],
      "text/plain": [
       "<rich.jupyter.JupyterRenderable at 0x7f4f27861f70>"
      ]
     },
     "metadata": {},
     "output_type": "display_data"
    },
    {
     "name": "stderr",
     "output_type": "stream",
     "text": [
      "INDEX 9000: 1584613367\n"
     ]
    },
    {
     "data": {
      "text/html": [
       "<pre style=\"white-space:pre;overflow-x:auto;line-height:normal;font-family:Menlo,'DejaVu Sans Mono',consolas,'Courier New',monospace\"><span style=\"color: #7fbfbf\">           </span><span style=\"color: #000080\">INFO    </span> INDEX <span style=\"color: #000080; font-weight: bold\">9000</span>: <span style=\"color: #000080; font-weight: bold\">1584613367</span>                                     <a href=\"file:///home/j-gunmo/desktop/00.my-project/17.P-Stage-T1003/4-STAGE/fe/feature.py\"><span style=\"color: #7f7f7f\">feature.py</span></a><span style=\"color: #7f7f7f\">:106</span>\n",
       "</pre>\n"
      ],
      "text/plain": [
       "<rich.jupyter.JupyterRenderable at 0x7f4f27861fa0>"
      ]
     },
     "metadata": {},
     "output_type": "display_data"
    },
    {
     "name": "stdout",
     "output_type": "stream",
     "text": [
      "load features /home/j-gunmo/features/train_make_first_class.pkl to dataframe ... \n"
     ]
    },
    {
     "name": "stderr",
     "output_type": "stream",
     "text": [
      "\n",
      "Feature Engineering Name: make_first_class\n"
     ]
    },
    {
     "data": {
      "text/html": [
       "<pre style=\"white-space:pre;overflow-x:auto;line-height:normal;font-family:Menlo,'DejaVu Sans Mono',consolas,'Courier New',monospace\"><span style=\"color: #7fbfbf\">           </span><span style=\"color: #000080\">INFO    </span>                                                             <a href=\"file:///home/j-gunmo/desktop/00.my-project/17.P-Stage-T1003/4-STAGE/fe/feature.py\"><span style=\"color: #7f7f7f\">feature.py</span></a><span style=\"color: #7f7f7f\">:98</span>\n",
       "                    Feature Engineering Name: make_first_class                               \n",
       "</pre>\n"
      ],
      "text/plain": [
       "<rich.jupyter.JupyterRenderable at 0x7f4f27861700>"
      ]
     },
     "metadata": {},
     "output_type": "display_data"
    },
    {
     "name": "stderr",
     "output_type": "stream",
     "text": [
      "\n",
      "firstClass      : 대분류에 해당합니다.\n"
     ]
    },
    {
     "data": {
      "text/html": [
       "<pre style=\"white-space:pre;overflow-x:auto;line-height:normal;font-family:Menlo,'DejaVu Sans Mono',consolas,'Courier New',monospace\"><span style=\"color: #7fbfbf\">           </span><span style=\"color: #000080\">INFO    </span>                                                            <a href=\"file:///home/j-gunmo/desktop/00.my-project/17.P-Stage-T1003/4-STAGE/fe/feature.py\"><span style=\"color: #7f7f7f\">feature.py</span></a><span style=\"color: #7f7f7f\">:101</span>\n",
       "                    firstClass      : 대분류에 해당합니다.                                   \n",
       "</pre>\n"
      ],
      "text/plain": [
       "<rich.jupyter.JupyterRenderable at 0x7f4f27861eb0>"
      ]
     },
     "metadata": {},
     "output_type": "display_data"
    },
    {
     "name": "stderr",
     "output_type": "stream",
     "text": [
      "dtype: object\n"
     ]
    },
    {
     "data": {
      "text/html": [
       "<pre style=\"white-space:pre;overflow-x:auto;line-height:normal;font-family:Menlo,'DejaVu Sans Mono',consolas,'Courier New',monospace\"><span style=\"color: #7fbfbf\">           </span><span style=\"color: #000080\">INFO    </span> dtype: object                                              <a href=\"file:///home/j-gunmo/desktop/00.my-project/17.P-Stage-T1003/4-STAGE/fe/feature.py\"><span style=\"color: #7f7f7f\">feature.py</span></a><span style=\"color: #7f7f7f\">:102</span>\n",
       "</pre>\n"
      ],
      "text/plain": [
       "<rich.jupyter.JupyterRenderable at 0x7f4f27861d60>"
      ]
     },
     "metadata": {},
     "output_type": "display_data"
    },
    {
     "name": "stderr",
     "output_type": "stream",
     "text": [
      "[Examples]\n"
     ]
    },
    {
     "data": {
      "text/html": [
       "<pre style=\"white-space:pre;overflow-x:auto;line-height:normal;font-family:Menlo,'DejaVu Sans Mono',consolas,'Courier New',monospace\"><span style=\"color: #7fbfbf\">           </span><span style=\"color: #000080\">INFO    </span> <span style=\"font-weight: bold\">[</span>Examples<span style=\"font-weight: bold\">]</span>                                                 <a href=\"file:///home/j-gunmo/desktop/00.my-project/17.P-Stage-T1003/4-STAGE/fe/feature.py\"><span style=\"color: #7f7f7f\">feature.py</span></a><span style=\"color: #7f7f7f\">:103</span>\n",
       "</pre>\n"
      ],
      "text/plain": [
       "<rich.jupyter.JupyterRenderable at 0x7f4f27861e50>"
      ]
     },
     "metadata": {},
     "output_type": "display_data"
    },
    {
     "name": "stderr",
     "output_type": "stream",
     "text": [
      "INDEX 0000: 6\n"
     ]
    },
    {
     "data": {
      "text/html": [
       "<pre style=\"white-space:pre;overflow-x:auto;line-height:normal;font-family:Menlo,'DejaVu Sans Mono',consolas,'Courier New',monospace\"><span style=\"color: #7fbfbf\">           </span><span style=\"color: #000080\">INFO    </span> INDEX <span style=\"color: #000080; font-weight: bold\">0000</span>: <span style=\"color: #000080; font-weight: bold\">6</span>                                              <a href=\"file:///home/j-gunmo/desktop/00.my-project/17.P-Stage-T1003/4-STAGE/fe/feature.py\"><span style=\"color: #7f7f7f\">feature.py</span></a><span style=\"color: #7f7f7f\">:106</span>\n",
       "</pre>\n"
      ],
      "text/plain": [
       "<rich.jupyter.JupyterRenderable at 0x7f4f27861ca0>"
      ]
     },
     "metadata": {},
     "output_type": "display_data"
    },
    {
     "name": "stderr",
     "output_type": "stream",
     "text": [
      "INDEX 1000: 8\n"
     ]
    },
    {
     "data": {
      "text/html": [
       "<pre style=\"white-space:pre;overflow-x:auto;line-height:normal;font-family:Menlo,'DejaVu Sans Mono',consolas,'Courier New',monospace\"><span style=\"color: #7fbfbf\">           </span><span style=\"color: #000080\">INFO    </span> INDEX <span style=\"color: #000080; font-weight: bold\">1000</span>: <span style=\"color: #000080; font-weight: bold\">8</span>                                              <a href=\"file:///home/j-gunmo/desktop/00.my-project/17.P-Stage-T1003/4-STAGE/fe/feature.py\"><span style=\"color: #7f7f7f\">feature.py</span></a><span style=\"color: #7f7f7f\">:106</span>\n",
       "</pre>\n"
      ],
      "text/plain": [
       "<rich.jupyter.JupyterRenderable at 0x7f4f27861e50>"
      ]
     },
     "metadata": {},
     "output_type": "display_data"
    },
    {
     "name": "stderr",
     "output_type": "stream",
     "text": [
      "INDEX 2000: 6\n"
     ]
    },
    {
     "data": {
      "text/html": [
       "<pre style=\"white-space:pre;overflow-x:auto;line-height:normal;font-family:Menlo,'DejaVu Sans Mono',consolas,'Courier New',monospace\"><span style=\"color: #7fbfbf\">           </span><span style=\"color: #000080\">INFO    </span> INDEX <span style=\"color: #000080; font-weight: bold\">2000</span>: <span style=\"color: #000080; font-weight: bold\">6</span>                                              <a href=\"file:///home/j-gunmo/desktop/00.my-project/17.P-Stage-T1003/4-STAGE/fe/feature.py\"><span style=\"color: #7f7f7f\">feature.py</span></a><span style=\"color: #7f7f7f\">:106</span>\n",
       "</pre>\n"
      ],
      "text/plain": [
       "<rich.jupyter.JupyterRenderable at 0x7f4f278611f0>"
      ]
     },
     "metadata": {},
     "output_type": "display_data"
    },
    {
     "name": "stderr",
     "output_type": "stream",
     "text": [
      "INDEX 3000: 8\n"
     ]
    },
    {
     "data": {
      "text/html": [
       "<pre style=\"white-space:pre;overflow-x:auto;line-height:normal;font-family:Menlo,'DejaVu Sans Mono',consolas,'Courier New',monospace\"><span style=\"color: #7fbfbf\">           </span><span style=\"color: #000080\">INFO    </span> INDEX <span style=\"color: #000080; font-weight: bold\">3000</span>: <span style=\"color: #000080; font-weight: bold\">8</span>                                              <a href=\"file:///home/j-gunmo/desktop/00.my-project/17.P-Stage-T1003/4-STAGE/fe/feature.py\"><span style=\"color: #7f7f7f\">feature.py</span></a><span style=\"color: #7f7f7f\">:106</span>\n",
       "</pre>\n"
      ],
      "text/plain": [
       "<rich.jupyter.JupyterRenderable at 0x7f4f27861fa0>"
      ]
     },
     "metadata": {},
     "output_type": "display_data"
    },
    {
     "name": "stderr",
     "output_type": "stream",
     "text": [
      "INDEX 4000: 6\n"
     ]
    },
    {
     "data": {
      "text/html": [
       "<pre style=\"white-space:pre;overflow-x:auto;line-height:normal;font-family:Menlo,'DejaVu Sans Mono',consolas,'Courier New',monospace\"><span style=\"color: #7fbfbf\">           </span><span style=\"color: #000080\">INFO    </span> INDEX <span style=\"color: #000080; font-weight: bold\">4000</span>: <span style=\"color: #000080; font-weight: bold\">6</span>                                              <a href=\"file:///home/j-gunmo/desktop/00.my-project/17.P-Stage-T1003/4-STAGE/fe/feature.py\"><span style=\"color: #7f7f7f\">feature.py</span></a><span style=\"color: #7f7f7f\">:106</span>\n",
       "</pre>\n"
      ],
      "text/plain": [
       "<rich.jupyter.JupyterRenderable at 0x7f4f27861ac0>"
      ]
     },
     "metadata": {},
     "output_type": "display_data"
    },
    {
     "name": "stderr",
     "output_type": "stream",
     "text": [
      "INDEX 5000: 6\n"
     ]
    },
    {
     "data": {
      "text/html": [
       "<pre style=\"white-space:pre;overflow-x:auto;line-height:normal;font-family:Menlo,'DejaVu Sans Mono',consolas,'Courier New',monospace\"><span style=\"color: #7fbfbf\">           </span><span style=\"color: #000080\">INFO    </span> INDEX <span style=\"color: #000080; font-weight: bold\">5000</span>: <span style=\"color: #000080; font-weight: bold\">6</span>                                              <a href=\"file:///home/j-gunmo/desktop/00.my-project/17.P-Stage-T1003/4-STAGE/fe/feature.py\"><span style=\"color: #7f7f7f\">feature.py</span></a><span style=\"color: #7f7f7f\">:106</span>\n",
       "</pre>\n"
      ],
      "text/plain": [
       "<rich.jupyter.JupyterRenderable at 0x7f4f27861bb0>"
      ]
     },
     "metadata": {},
     "output_type": "display_data"
    },
    {
     "name": "stderr",
     "output_type": "stream",
     "text": [
      "INDEX 6000: 8\n"
     ]
    },
    {
     "data": {
      "text/html": [
       "<pre style=\"white-space:pre;overflow-x:auto;line-height:normal;font-family:Menlo,'DejaVu Sans Mono',consolas,'Courier New',monospace\"><span style=\"color: #7fbfbf\">           </span><span style=\"color: #000080\">INFO    </span> INDEX <span style=\"color: #000080; font-weight: bold\">6000</span>: <span style=\"color: #000080; font-weight: bold\">8</span>                                              <a href=\"file:///home/j-gunmo/desktop/00.my-project/17.P-Stage-T1003/4-STAGE/fe/feature.py\"><span style=\"color: #7f7f7f\">feature.py</span></a><span style=\"color: #7f7f7f\">:106</span>\n",
       "</pre>\n"
      ],
      "text/plain": [
       "<rich.jupyter.JupyterRenderable at 0x7f4f278611f0>"
      ]
     },
     "metadata": {},
     "output_type": "display_data"
    },
    {
     "name": "stderr",
     "output_type": "stream",
     "text": [
      "INDEX 7000: 8\n"
     ]
    },
    {
     "data": {
      "text/html": [
       "<pre style=\"white-space:pre;overflow-x:auto;line-height:normal;font-family:Menlo,'DejaVu Sans Mono',consolas,'Courier New',monospace\"><span style=\"color: #7fbfbf\">           </span><span style=\"color: #000080\">INFO    </span> INDEX <span style=\"color: #000080; font-weight: bold\">7000</span>: <span style=\"color: #000080; font-weight: bold\">8</span>                                              <a href=\"file:///home/j-gunmo/desktop/00.my-project/17.P-Stage-T1003/4-STAGE/fe/feature.py\"><span style=\"color: #7f7f7f\">feature.py</span></a><span style=\"color: #7f7f7f\">:106</span>\n",
       "</pre>\n"
      ],
      "text/plain": [
       "<rich.jupyter.JupyterRenderable at 0x7f4f27861fa0>"
      ]
     },
     "metadata": {},
     "output_type": "display_data"
    },
    {
     "name": "stderr",
     "output_type": "stream",
     "text": [
      "INDEX 8000: 4\n"
     ]
    },
    {
     "data": {
      "text/html": [
       "<pre style=\"white-space:pre;overflow-x:auto;line-height:normal;font-family:Menlo,'DejaVu Sans Mono',consolas,'Courier New',monospace\"><span style=\"color: #7fbfbf\">           </span><span style=\"color: #000080\">INFO    </span> INDEX <span style=\"color: #000080; font-weight: bold\">8000</span>: <span style=\"color: #000080; font-weight: bold\">4</span>                                              <a href=\"file:///home/j-gunmo/desktop/00.my-project/17.P-Stage-T1003/4-STAGE/fe/feature.py\"><span style=\"color: #7f7f7f\">feature.py</span></a><span style=\"color: #7f7f7f\">:106</span>\n",
       "</pre>\n"
      ],
      "text/plain": [
       "<rich.jupyter.JupyterRenderable at 0x7f4f27861850>"
      ]
     },
     "metadata": {},
     "output_type": "display_data"
    },
    {
     "name": "stderr",
     "output_type": "stream",
     "text": [
      "INDEX 9000: 9\n"
     ]
    },
    {
     "data": {
      "text/html": [
       "<pre style=\"white-space:pre;overflow-x:auto;line-height:normal;font-family:Menlo,'DejaVu Sans Mono',consolas,'Courier New',monospace\"><span style=\"color: #7fbfbf\">           </span><span style=\"color: #000080\">INFO    </span> INDEX <span style=\"color: #000080; font-weight: bold\">9000</span>: <span style=\"color: #000080; font-weight: bold\">9</span>                                              <a href=\"file:///home/j-gunmo/desktop/00.my-project/17.P-Stage-T1003/4-STAGE/fe/feature.py\"><span style=\"color: #7f7f7f\">feature.py</span></a><span style=\"color: #7f7f7f\">:106</span>\n",
       "</pre>\n"
      ],
      "text/plain": [
       "<rich.jupyter.JupyterRenderable at 0x7f4f27861b50>"
      ]
     },
     "metadata": {},
     "output_type": "display_data"
    },
    {
     "name": "stdout",
     "output_type": "stream",
     "text": [
      "load features /home/j-gunmo/features/train_make_second_class.pkl to dataframe ... \n"
     ]
    },
    {
     "name": "stderr",
     "output_type": "stream",
     "text": [
      "\n",
      "Feature Engineering Name: make_second_class\n"
     ]
    },
    {
     "data": {
      "text/html": [
       "<pre style=\"white-space:pre;overflow-x:auto;line-height:normal;font-family:Menlo,'DejaVu Sans Mono',consolas,'Courier New',monospace\"><span style=\"color: #7fbfbf\">[10:05:58] </span><span style=\"color: #000080\">INFO    </span>                                                             <a href=\"file:///home/j-gunmo/desktop/00.my-project/17.P-Stage-T1003/4-STAGE/fe/feature.py\"><span style=\"color: #7f7f7f\">feature.py</span></a><span style=\"color: #7f7f7f\">:98</span>\n",
       "                    Feature Engineering Name: make_second_class                              \n",
       "</pre>\n"
      ],
      "text/plain": [
       "<rich.jupyter.JupyterRenderable at 0x7f50041832b0>"
      ]
     },
     "metadata": {},
     "output_type": "display_data"
    },
    {
     "name": "stderr",
     "output_type": "stream",
     "text": [
      "\n",
      "secondClass     : 중분류에 해당합니다.\n"
     ]
    },
    {
     "data": {
      "text/html": [
       "<pre style=\"white-space:pre;overflow-x:auto;line-height:normal;font-family:Menlo,'DejaVu Sans Mono',consolas,'Courier New',monospace\"><span style=\"color: #7fbfbf\">           </span><span style=\"color: #000080\">INFO    </span>                                                            <a href=\"file:///home/j-gunmo/desktop/00.my-project/17.P-Stage-T1003/4-STAGE/fe/feature.py\"><span style=\"color: #7f7f7f\">feature.py</span></a><span style=\"color: #7f7f7f\">:101</span>\n",
       "                    secondClass     : 중분류에 해당합니다.                                   \n",
       "</pre>\n"
      ],
      "text/plain": [
       "<rich.jupyter.JupyterRenderable at 0x7f4f27861eb0>"
      ]
     },
     "metadata": {},
     "output_type": "display_data"
    },
    {
     "name": "stderr",
     "output_type": "stream",
     "text": [
      "dtype: object\n"
     ]
    },
    {
     "data": {
      "text/html": [
       "<pre style=\"white-space:pre;overflow-x:auto;line-height:normal;font-family:Menlo,'DejaVu Sans Mono',consolas,'Courier New',monospace\"><span style=\"color: #7fbfbf\">           </span><span style=\"color: #000080\">INFO    </span> dtype: object                                              <a href=\"file:///home/j-gunmo/desktop/00.my-project/17.P-Stage-T1003/4-STAGE/fe/feature.py\"><span style=\"color: #7f7f7f\">feature.py</span></a><span style=\"color: #7f7f7f\">:102</span>\n",
       "</pre>\n"
      ],
      "text/plain": [
       "<rich.jupyter.JupyterRenderable at 0x7f50041832b0>"
      ]
     },
     "metadata": {},
     "output_type": "display_data"
    },
    {
     "name": "stderr",
     "output_type": "stream",
     "text": [
      "[Examples]\n"
     ]
    },
    {
     "data": {
      "text/html": [
       "<pre style=\"white-space:pre;overflow-x:auto;line-height:normal;font-family:Menlo,'DejaVu Sans Mono',consolas,'Courier New',monospace\"><span style=\"color: #7fbfbf\">           </span><span style=\"color: #000080\">INFO    </span> <span style=\"font-weight: bold\">[</span>Examples<span style=\"font-weight: bold\">]</span>                                                 <a href=\"file:///home/j-gunmo/desktop/00.my-project/17.P-Stage-T1003/4-STAGE/fe/feature.py\"><span style=\"color: #7f7f7f\">feature.py</span></a><span style=\"color: #7f7f7f\">:103</span>\n",
       "</pre>\n"
      ],
      "text/plain": [
       "<rich.jupyter.JupyterRenderable at 0x7f4f27861be0>"
      ]
     },
     "metadata": {},
     "output_type": "display_data"
    },
    {
     "name": "stderr",
     "output_type": "stream",
     "text": [
      "INDEX 0000: 7224\n"
     ]
    },
    {
     "data": {
      "text/html": [
       "<pre style=\"white-space:pre;overflow-x:auto;line-height:normal;font-family:Menlo,'DejaVu Sans Mono',consolas,'Courier New',monospace\"><span style=\"color: #7fbfbf\">           </span><span style=\"color: #000080\">INFO    </span> INDEX <span style=\"color: #000080; font-weight: bold\">0000</span>: <span style=\"color: #000080; font-weight: bold\">7224</span>                                           <a href=\"file:///home/j-gunmo/desktop/00.my-project/17.P-Stage-T1003/4-STAGE/fe/feature.py\"><span style=\"color: #7f7f7f\">feature.py</span></a><span style=\"color: #7f7f7f\">:106</span>\n",
       "</pre>\n"
      ],
      "text/plain": [
       "<rich.jupyter.JupyterRenderable at 0x7f4f27861e80>"
      ]
     },
     "metadata": {},
     "output_type": "display_data"
    },
    {
     "name": "stderr",
     "output_type": "stream",
     "text": [
      "INDEX 1000: 4659\n"
     ]
    },
    {
     "data": {
      "text/html": [
       "<pre style=\"white-space:pre;overflow-x:auto;line-height:normal;font-family:Menlo,'DejaVu Sans Mono',consolas,'Courier New',monospace\"><span style=\"color: #7fbfbf\">           </span><span style=\"color: #000080\">INFO    </span> INDEX <span style=\"color: #000080; font-weight: bold\">1000</span>: <span style=\"color: #000080; font-weight: bold\">4659</span>                                           <a href=\"file:///home/j-gunmo/desktop/00.my-project/17.P-Stage-T1003/4-STAGE/fe/feature.py\"><span style=\"color: #7f7f7f\">feature.py</span></a><span style=\"color: #7f7f7f\">:106</span>\n",
       "</pre>\n"
      ],
      "text/plain": [
       "<rich.jupyter.JupyterRenderable at 0x7f500418e880>"
      ]
     },
     "metadata": {},
     "output_type": "display_data"
    },
    {
     "name": "stderr",
     "output_type": "stream",
     "text": [
      "INDEX 2000: 602\n"
     ]
    },
    {
     "data": {
      "text/html": [
       "<pre style=\"white-space:pre;overflow-x:auto;line-height:normal;font-family:Menlo,'DejaVu Sans Mono',consolas,'Courier New',monospace\"><span style=\"color: #7fbfbf\">           </span><span style=\"color: #000080\">INFO    </span> INDEX <span style=\"color: #000080; font-weight: bold\">2000</span>: <span style=\"color: #000080; font-weight: bold\">602</span>                                            <a href=\"file:///home/j-gunmo/desktop/00.my-project/17.P-Stage-T1003/4-STAGE/fe/feature.py\"><span style=\"color: #7f7f7f\">feature.py</span></a><span style=\"color: #7f7f7f\">:106</span>\n",
       "</pre>\n"
      ],
      "text/plain": [
       "<rich.jupyter.JupyterRenderable at 0x7f4f27861f10>"
      ]
     },
     "metadata": {},
     "output_type": "display_data"
    },
    {
     "name": "stderr",
     "output_type": "stream",
     "text": [
      "INDEX 3000: 4795\n"
     ]
    },
    {
     "data": {
      "text/html": [
       "<pre style=\"white-space:pre;overflow-x:auto;line-height:normal;font-family:Menlo,'DejaVu Sans Mono',consolas,'Courier New',monospace\"><span style=\"color: #7fbfbf\">           </span><span style=\"color: #000080\">INFO    </span> INDEX <span style=\"color: #000080; font-weight: bold\">3000</span>: <span style=\"color: #000080; font-weight: bold\">4795</span>                                           <a href=\"file:///home/j-gunmo/desktop/00.my-project/17.P-Stage-T1003/4-STAGE/fe/feature.py\"><span style=\"color: #7f7f7f\">feature.py</span></a><span style=\"color: #7f7f7f\">:106</span>\n",
       "</pre>\n"
      ],
      "text/plain": [
       "<rich.jupyter.JupyterRenderable at 0x7f500418ec70>"
      ]
     },
     "metadata": {},
     "output_type": "display_data"
    },
    {
     "name": "stderr",
     "output_type": "stream",
     "text": [
      "INDEX 4000: 628\n"
     ]
    },
    {
     "data": {
      "text/html": [
       "<pre style=\"white-space:pre;overflow-x:auto;line-height:normal;font-family:Menlo,'DejaVu Sans Mono',consolas,'Courier New',monospace\"><span style=\"color: #7fbfbf\">           </span><span style=\"color: #000080\">INFO    </span> INDEX <span style=\"color: #000080; font-weight: bold\">4000</span>: <span style=\"color: #000080; font-weight: bold\">628</span>                                            <a href=\"file:///home/j-gunmo/desktop/00.my-project/17.P-Stage-T1003/4-STAGE/fe/feature.py\"><span style=\"color: #7f7f7f\">feature.py</span></a><span style=\"color: #7f7f7f\">:106</span>\n",
       "</pre>\n"
      ],
      "text/plain": [
       "<rich.jupyter.JupyterRenderable at 0x7f4f27861dc0>"
      ]
     },
     "metadata": {},
     "output_type": "display_data"
    },
    {
     "name": "stderr",
     "output_type": "stream",
     "text": [
      "INDEX 5000: 706\n"
     ]
    },
    {
     "data": {
      "text/html": [
       "<pre style=\"white-space:pre;overflow-x:auto;line-height:normal;font-family:Menlo,'DejaVu Sans Mono',consolas,'Courier New',monospace\"><span style=\"color: #7fbfbf\">           </span><span style=\"color: #000080\">INFO    </span> INDEX <span style=\"color: #000080; font-weight: bold\">5000</span>: <span style=\"color: #000080; font-weight: bold\">706</span>                                            <a href=\"file:///home/j-gunmo/desktop/00.my-project/17.P-Stage-T1003/4-STAGE/fe/feature.py\"><span style=\"color: #7f7f7f\">feature.py</span></a><span style=\"color: #7f7f7f\">:106</span>\n",
       "</pre>\n"
      ],
      "text/plain": [
       "<rich.jupyter.JupyterRenderable at 0x7f5004183190>"
      ]
     },
     "metadata": {},
     "output_type": "display_data"
    },
    {
     "name": "stderr",
     "output_type": "stream",
     "text": [
      "INDEX 6000: 7171\n"
     ]
    },
    {
     "data": {
      "text/html": [
       "<pre style=\"white-space:pre;overflow-x:auto;line-height:normal;font-family:Menlo,'DejaVu Sans Mono',consolas,'Courier New',monospace\"><span style=\"color: #7fbfbf\">           </span><span style=\"color: #000080\">INFO    </span> INDEX <span style=\"color: #000080; font-weight: bold\">6000</span>: <span style=\"color: #000080; font-weight: bold\">7171</span>                                           <a href=\"file:///home/j-gunmo/desktop/00.my-project/17.P-Stage-T1003/4-STAGE/fe/feature.py\"><span style=\"color: #7f7f7f\">feature.py</span></a><span style=\"color: #7f7f7f\">:106</span>\n",
       "</pre>\n"
      ],
      "text/plain": [
       "<rich.jupyter.JupyterRenderable at 0x7f4f27861e20>"
      ]
     },
     "metadata": {},
     "output_type": "display_data"
    },
    {
     "name": "stderr",
     "output_type": "stream",
     "text": [
      "INDEX 7000: 2711\n"
     ]
    },
    {
     "data": {
      "text/html": [
       "<pre style=\"white-space:pre;overflow-x:auto;line-height:normal;font-family:Menlo,'DejaVu Sans Mono',consolas,'Courier New',monospace\"><span style=\"color: #7fbfbf\">           </span><span style=\"color: #000080\">INFO    </span> INDEX <span style=\"color: #000080; font-weight: bold\">7000</span>: <span style=\"color: #000080; font-weight: bold\">2711</span>                                           <a href=\"file:///home/j-gunmo/desktop/00.my-project/17.P-Stage-T1003/4-STAGE/fe/feature.py\"><span style=\"color: #7f7f7f\">feature.py</span></a><span style=\"color: #7f7f7f\">:106</span>\n",
       "</pre>\n"
      ],
      "text/plain": [
       "<rich.jupyter.JupyterRenderable at 0x7f4f27861700>"
      ]
     },
     "metadata": {},
     "output_type": "display_data"
    },
    {
     "name": "stderr",
     "output_type": "stream",
     "text": [
      "INDEX 8000: 2071\n"
     ]
    },
    {
     "data": {
      "text/html": [
       "<pre style=\"white-space:pre;overflow-x:auto;line-height:normal;font-family:Menlo,'DejaVu Sans Mono',consolas,'Courier New',monospace\"><span style=\"color: #7fbfbf\">           </span><span style=\"color: #000080\">INFO    </span> INDEX <span style=\"color: #000080; font-weight: bold\">8000</span>: <span style=\"color: #000080; font-weight: bold\">2071</span>                                           <a href=\"file:///home/j-gunmo/desktop/00.my-project/17.P-Stage-T1003/4-STAGE/fe/feature.py\"><span style=\"color: #7f7f7f\">feature.py</span></a><span style=\"color: #7f7f7f\">:106</span>\n",
       "</pre>\n"
      ],
      "text/plain": [
       "<rich.jupyter.JupyterRenderable at 0x7f4f37603e20>"
      ]
     },
     "metadata": {},
     "output_type": "display_data"
    },
    {
     "name": "stderr",
     "output_type": "stream",
     "text": [
      "INDEX 9000: 5261\n"
     ]
    },
    {
     "data": {
      "text/html": [
       "<pre style=\"white-space:pre;overflow-x:auto;line-height:normal;font-family:Menlo,'DejaVu Sans Mono',consolas,'Courier New',monospace\"><span style=\"color: #7fbfbf\">           </span><span style=\"color: #000080\">INFO    </span> INDEX <span style=\"color: #000080; font-weight: bold\">9000</span>: <span style=\"color: #000080; font-weight: bold\">5261</span>                                           <a href=\"file:///home/j-gunmo/desktop/00.my-project/17.P-Stage-T1003/4-STAGE/fe/feature.py\"><span style=\"color: #7f7f7f\">feature.py</span></a><span style=\"color: #7f7f7f\">:106</span>\n",
       "</pre>\n"
      ],
      "text/plain": [
       "<rich.jupyter.JupyterRenderable at 0x7f4f27861700>"
      ]
     },
     "metadata": {},
     "output_type": "display_data"
    },
    {
     "name": "stdout",
     "output_type": "stream",
     "text": [
      "load features /home/j-gunmo/features/train_make_correct_count.pkl to dataframe ... \n"
     ]
    },
    {
     "name": "stderr",
     "output_type": "stream",
     "text": [
      "\n",
      "Feature Engineering Name: make_correct_count\n"
     ]
    },
    {
     "data": {
      "text/html": [
       "<pre style=\"white-space:pre;overflow-x:auto;line-height:normal;font-family:Menlo,'DejaVu Sans Mono',consolas,'Courier New',monospace\"><span style=\"color: #7fbfbf\">[10:05:59] </span><span style=\"color: #000080\">INFO    </span>                                                             <a href=\"file:///home/j-gunmo/desktop/00.my-project/17.P-Stage-T1003/4-STAGE/fe/feature.py\"><span style=\"color: #7f7f7f\">feature.py</span></a><span style=\"color: #7f7f7f\">:98</span>\n",
       "                    Feature Engineering Name: make_correct_count                             \n",
       "</pre>\n"
      ],
      "text/plain": [
       "<rich.jupyter.JupyterRenderable at 0x7f5004183190>"
      ]
     },
     "metadata": {},
     "output_type": "display_data"
    },
    {
     "name": "stderr",
     "output_type": "stream",
     "text": [
      "\n",
      "correctCnt      : 사용자가 맞춘 문항수를 나타냅니다.\n"
     ]
    },
    {
     "data": {
      "text/html": [
       "<pre style=\"white-space:pre;overflow-x:auto;line-height:normal;font-family:Menlo,'DejaVu Sans Mono',consolas,'Courier New',monospace\"><span style=\"color: #7fbfbf\">           </span><span style=\"color: #000080\">INFO    </span>                                                            <a href=\"file:///home/j-gunmo/desktop/00.my-project/17.P-Stage-T1003/4-STAGE/fe/feature.py\"><span style=\"color: #7f7f7f\">feature.py</span></a><span style=\"color: #7f7f7f\">:101</span>\n",
       "                    correctCnt      : 사용자가 맞춘 문항수를 나타냅니다.                     \n",
       "</pre>\n"
      ],
      "text/plain": [
       "<rich.jupyter.JupyterRenderable at 0x7f4f27861f10>"
      ]
     },
     "metadata": {},
     "output_type": "display_data"
    },
    {
     "name": "stderr",
     "output_type": "stream",
     "text": [
      "dtype: int64\n"
     ]
    },
    {
     "data": {
      "text/html": [
       "<pre style=\"white-space:pre;overflow-x:auto;line-height:normal;font-family:Menlo,'DejaVu Sans Mono',consolas,'Courier New',monospace\"><span style=\"color: #7fbfbf\">           </span><span style=\"color: #000080\">INFO    </span> dtype: int64                                               <a href=\"file:///home/j-gunmo/desktop/00.my-project/17.P-Stage-T1003/4-STAGE/fe/feature.py\"><span style=\"color: #7f7f7f\">feature.py</span></a><span style=\"color: #7f7f7f\">:102</span>\n",
       "</pre>\n"
      ],
      "text/plain": [
       "<rich.jupyter.JupyterRenderable at 0x7f4f27861d90>"
      ]
     },
     "metadata": {},
     "output_type": "display_data"
    },
    {
     "name": "stderr",
     "output_type": "stream",
     "text": [
      "[Examples]\n"
     ]
    },
    {
     "data": {
      "text/html": [
       "<pre style=\"white-space:pre;overflow-x:auto;line-height:normal;font-family:Menlo,'DejaVu Sans Mono',consolas,'Courier New',monospace\"><span style=\"color: #7fbfbf\">           </span><span style=\"color: #000080\">INFO    </span> <span style=\"font-weight: bold\">[</span>Examples<span style=\"font-weight: bold\">]</span>                                                 <a href=\"file:///home/j-gunmo/desktop/00.my-project/17.P-Stage-T1003/4-STAGE/fe/feature.py\"><span style=\"color: #7f7f7f\">feature.py</span></a><span style=\"color: #7f7f7f\">:103</span>\n",
       "</pre>\n"
      ],
      "text/plain": [
       "<rich.jupyter.JupyterRenderable at 0x7f50041830d0>"
      ]
     },
     "metadata": {},
     "output_type": "display_data"
    },
    {
     "name": "stderr",
     "output_type": "stream",
     "text": [
      "INDEX 0000: 470\n"
     ]
    },
    {
     "data": {
      "text/html": [
       "<pre style=\"white-space:pre;overflow-x:auto;line-height:normal;font-family:Menlo,'DejaVu Sans Mono',consolas,'Courier New',monospace\"><span style=\"color: #7fbfbf\">           </span><span style=\"color: #000080\">INFO    </span> INDEX <span style=\"color: #000080; font-weight: bold\">0000</span>: <span style=\"color: #000080; font-weight: bold\">470</span>                                            <a href=\"file:///home/j-gunmo/desktop/00.my-project/17.P-Stage-T1003/4-STAGE/fe/feature.py\"><span style=\"color: #7f7f7f\">feature.py</span></a><span style=\"color: #7f7f7f\">:106</span>\n",
       "</pre>\n"
      ],
      "text/plain": [
       "<rich.jupyter.JupyterRenderable at 0x7f4f278611f0>"
      ]
     },
     "metadata": {},
     "output_type": "display_data"
    },
    {
     "name": "stderr",
     "output_type": "stream",
     "text": [
      "INDEX 1000: 470\n"
     ]
    },
    {
     "data": {
      "text/html": [
       "<pre style=\"white-space:pre;overflow-x:auto;line-height:normal;font-family:Menlo,'DejaVu Sans Mono',consolas,'Courier New',monospace\"><span style=\"color: #7fbfbf\">           </span><span style=\"color: #000080\">INFO    </span> INDEX <span style=\"color: #000080; font-weight: bold\">1000</span>: <span style=\"color: #000080; font-weight: bold\">470</span>                                            <a href=\"file:///home/j-gunmo/desktop/00.my-project/17.P-Stage-T1003/4-STAGE/fe/feature.py\"><span style=\"color: #7f7f7f\">feature.py</span></a><span style=\"color: #7f7f7f\">:106</span>\n",
       "</pre>\n"
      ],
      "text/plain": [
       "<rich.jupyter.JupyterRenderable at 0x7f4f27861d60>"
      ]
     },
     "metadata": {},
     "output_type": "display_data"
    },
    {
     "name": "stderr",
     "output_type": "stream",
     "text": [
      "INDEX 2000: 470\n"
     ]
    },
    {
     "data": {
      "text/html": [
       "<pre style=\"white-space:pre;overflow-x:auto;line-height:normal;font-family:Menlo,'DejaVu Sans Mono',consolas,'Courier New',monospace\"><span style=\"color: #7fbfbf\">           </span><span style=\"color: #000080\">INFO    </span> INDEX <span style=\"color: #000080; font-weight: bold\">2000</span>: <span style=\"color: #000080; font-weight: bold\">470</span>                                            <a href=\"file:///home/j-gunmo/desktop/00.my-project/17.P-Stage-T1003/4-STAGE/fe/feature.py\"><span style=\"color: #7f7f7f\">feature.py</span></a><span style=\"color: #7f7f7f\">:106</span>\n",
       "</pre>\n"
      ],
      "text/plain": [
       "<rich.jupyter.JupyterRenderable at 0x7f4f27861cd0>"
      ]
     },
     "metadata": {},
     "output_type": "display_data"
    },
    {
     "name": "stderr",
     "output_type": "stream",
     "text": [
      "INDEX 3000: 470\n"
     ]
    },
    {
     "data": {
      "text/html": [
       "<pre style=\"white-space:pre;overflow-x:auto;line-height:normal;font-family:Menlo,'DejaVu Sans Mono',consolas,'Courier New',monospace\"><span style=\"color: #7fbfbf\">           </span><span style=\"color: #000080\">INFO    </span> INDEX <span style=\"color: #000080; font-weight: bold\">3000</span>: <span style=\"color: #000080; font-weight: bold\">470</span>                                            <a href=\"file:///home/j-gunmo/desktop/00.my-project/17.P-Stage-T1003/4-STAGE/fe/feature.py\"><span style=\"color: #7f7f7f\">feature.py</span></a><span style=\"color: #7f7f7f\">:106</span>\n",
       "</pre>\n"
      ],
      "text/plain": [
       "<rich.jupyter.JupyterRenderable at 0x7f4f27861df0>"
      ]
     },
     "metadata": {},
     "output_type": "display_data"
    },
    {
     "name": "stderr",
     "output_type": "stream",
     "text": [
      "INDEX 4000: 470\n"
     ]
    },
    {
     "data": {
      "text/html": [
       "<pre style=\"white-space:pre;overflow-x:auto;line-height:normal;font-family:Menlo,'DejaVu Sans Mono',consolas,'Courier New',monospace\"><span style=\"color: #7fbfbf\">           </span><span style=\"color: #000080\">INFO    </span> INDEX <span style=\"color: #000080; font-weight: bold\">4000</span>: <span style=\"color: #000080; font-weight: bold\">470</span>                                            <a href=\"file:///home/j-gunmo/desktop/00.my-project/17.P-Stage-T1003/4-STAGE/fe/feature.py\"><span style=\"color: #7f7f7f\">feature.py</span></a><span style=\"color: #7f7f7f\">:106</span>\n",
       "</pre>\n"
      ],
      "text/plain": [
       "<rich.jupyter.JupyterRenderable at 0x7f4f27861be0>"
      ]
     },
     "metadata": {},
     "output_type": "display_data"
    },
    {
     "name": "stderr",
     "output_type": "stream",
     "text": [
      "INDEX 5000: 470\n"
     ]
    },
    {
     "data": {
      "text/html": [
       "<pre style=\"white-space:pre;overflow-x:auto;line-height:normal;font-family:Menlo,'DejaVu Sans Mono',consolas,'Courier New',monospace\"><span style=\"color: #7fbfbf\">           </span><span style=\"color: #000080\">INFO    </span> INDEX <span style=\"color: #000080; font-weight: bold\">5000</span>: <span style=\"color: #000080; font-weight: bold\">470</span>                                            <a href=\"file:///home/j-gunmo/desktop/00.my-project/17.P-Stage-T1003/4-STAGE/fe/feature.py\"><span style=\"color: #7f7f7f\">feature.py</span></a><span style=\"color: #7f7f7f\">:106</span>\n",
       "</pre>\n"
      ],
      "text/plain": [
       "<rich.jupyter.JupyterRenderable at 0x7f4f27861970>"
      ]
     },
     "metadata": {},
     "output_type": "display_data"
    },
    {
     "name": "stderr",
     "output_type": "stream",
     "text": [
      "INDEX 6000: 470\n"
     ]
    },
    {
     "data": {
      "text/html": [
       "<pre style=\"white-space:pre;overflow-x:auto;line-height:normal;font-family:Menlo,'DejaVu Sans Mono',consolas,'Courier New',monospace\"><span style=\"color: #7fbfbf\">           </span><span style=\"color: #000080\">INFO    </span> INDEX <span style=\"color: #000080; font-weight: bold\">6000</span>: <span style=\"color: #000080; font-weight: bold\">470</span>                                            <a href=\"file:///home/j-gunmo/desktop/00.my-project/17.P-Stage-T1003/4-STAGE/fe/feature.py\"><span style=\"color: #7f7f7f\">feature.py</span></a><span style=\"color: #7f7f7f\">:106</span>\n",
       "</pre>\n"
      ],
      "text/plain": [
       "<rich.jupyter.JupyterRenderable at 0x7f500418e220>"
      ]
     },
     "metadata": {},
     "output_type": "display_data"
    },
    {
     "name": "stderr",
     "output_type": "stream",
     "text": [
      "INDEX 7000: 470\n"
     ]
    },
    {
     "data": {
      "text/html": [
       "<pre style=\"white-space:pre;overflow-x:auto;line-height:normal;font-family:Menlo,'DejaVu Sans Mono',consolas,'Courier New',monospace\"><span style=\"color: #7fbfbf\">           </span><span style=\"color: #000080\">INFO    </span> INDEX <span style=\"color: #000080; font-weight: bold\">7000</span>: <span style=\"color: #000080; font-weight: bold\">470</span>                                            <a href=\"file:///home/j-gunmo/desktop/00.my-project/17.P-Stage-T1003/4-STAGE/fe/feature.py\"><span style=\"color: #7f7f7f\">feature.py</span></a><span style=\"color: #7f7f7f\">:106</span>\n",
       "</pre>\n"
      ],
      "text/plain": [
       "<rich.jupyter.JupyterRenderable at 0x7f4f27861d60>"
      ]
     },
     "metadata": {},
     "output_type": "display_data"
    },
    {
     "name": "stderr",
     "output_type": "stream",
     "text": [
      "INDEX 8000: 796\n"
     ]
    },
    {
     "data": {
      "text/html": [
       "<pre style=\"white-space:pre;overflow-x:auto;line-height:normal;font-family:Menlo,'DejaVu Sans Mono',consolas,'Courier New',monospace\"><span style=\"color: #7fbfbf\">           </span><span style=\"color: #000080\">INFO    </span> INDEX <span style=\"color: #000080; font-weight: bold\">8000</span>: <span style=\"color: #000080; font-weight: bold\">796</span>                                            <a href=\"file:///home/j-gunmo/desktop/00.my-project/17.P-Stage-T1003/4-STAGE/fe/feature.py\"><span style=\"color: #7f7f7f\">feature.py</span></a><span style=\"color: #7f7f7f\">:106</span>\n",
       "</pre>\n"
      ],
      "text/plain": [
       "<rich.jupyter.JupyterRenderable at 0x7f500418e970>"
      ]
     },
     "metadata": {},
     "output_type": "display_data"
    },
    {
     "name": "stderr",
     "output_type": "stream",
     "text": [
      "INDEX 9000: 796\n"
     ]
    },
    {
     "data": {
      "text/html": [
       "<pre style=\"white-space:pre;overflow-x:auto;line-height:normal;font-family:Menlo,'DejaVu Sans Mono',consolas,'Courier New',monospace\"><span style=\"color: #7fbfbf\">           </span><span style=\"color: #000080\">INFO    </span> INDEX <span style=\"color: #000080; font-weight: bold\">9000</span>: <span style=\"color: #000080; font-weight: bold\">796</span>                                            <a href=\"file:///home/j-gunmo/desktop/00.my-project/17.P-Stage-T1003/4-STAGE/fe/feature.py\"><span style=\"color: #7f7f7f\">feature.py</span></a><span style=\"color: #7f7f7f\">:106</span>\n",
       "</pre>\n"
      ],
      "text/plain": [
       "<rich.jupyter.JupyterRenderable at 0x7f4f27861970>"
      ]
     },
     "metadata": {},
     "output_type": "display_data"
    },
    {
     "name": "stdout",
     "output_type": "stream",
     "text": [
      "load features /home/j-gunmo/features/train_make_question_count.pkl to dataframe ... \n"
     ]
    },
    {
     "name": "stderr",
     "output_type": "stream",
     "text": [
      "\n",
      "Feature Engineering Name: make_question_count\n"
     ]
    },
    {
     "data": {
      "text/html": [
       "<pre style=\"white-space:pre;overflow-x:auto;line-height:normal;font-family:Menlo,'DejaVu Sans Mono',consolas,'Courier New',monospace\"><span style=\"color: #7fbfbf\">           </span><span style=\"color: #000080\">INFO    </span>                                                             <a href=\"file:///home/j-gunmo/desktop/00.my-project/17.P-Stage-T1003/4-STAGE/fe/feature.py\"><span style=\"color: #7f7f7f\">feature.py</span></a><span style=\"color: #7f7f7f\">:98</span>\n",
       "                    Feature Engineering Name: make_question_count                            \n",
       "</pre>\n"
      ],
      "text/plain": [
       "<rich.jupyter.JupyterRenderable at 0x7f5004183190>"
      ]
     },
     "metadata": {},
     "output_type": "display_data"
    },
    {
     "name": "stderr",
     "output_type": "stream",
     "text": [
      "\n",
      "quesCnt         : 사용자가 푼 문항수를 나타냅니다.\n"
     ]
    },
    {
     "data": {
      "text/html": [
       "<pre style=\"white-space:pre;overflow-x:auto;line-height:normal;font-family:Menlo,'DejaVu Sans Mono',consolas,'Courier New',monospace\"><span style=\"color: #7fbfbf\">           </span><span style=\"color: #000080\">INFO    </span>                                                            <a href=\"file:///home/j-gunmo/desktop/00.my-project/17.P-Stage-T1003/4-STAGE/fe/feature.py\"><span style=\"color: #7f7f7f\">feature.py</span></a><span style=\"color: #7f7f7f\">:101</span>\n",
       "                    quesCnt         : 사용자가 푼 문항수를 나타냅니다.                       \n",
       "</pre>\n"
      ],
      "text/plain": [
       "<rich.jupyter.JupyterRenderable at 0x7f4f27861fa0>"
      ]
     },
     "metadata": {},
     "output_type": "display_data"
    },
    {
     "name": "stderr",
     "output_type": "stream",
     "text": [
      "dtype: int64\n"
     ]
    },
    {
     "data": {
      "text/html": [
       "<pre style=\"white-space:pre;overflow-x:auto;line-height:normal;font-family:Menlo,'DejaVu Sans Mono',consolas,'Courier New',monospace\"><span style=\"color: #7fbfbf\">           </span><span style=\"color: #000080\">INFO    </span> dtype: int64                                               <a href=\"file:///home/j-gunmo/desktop/00.my-project/17.P-Stage-T1003/4-STAGE/fe/feature.py\"><span style=\"color: #7f7f7f\">feature.py</span></a><span style=\"color: #7f7f7f\">:102</span>\n",
       "</pre>\n"
      ],
      "text/plain": [
       "<rich.jupyter.JupyterRenderable at 0x7f50041832b0>"
      ]
     },
     "metadata": {},
     "output_type": "display_data"
    },
    {
     "name": "stderr",
     "output_type": "stream",
     "text": [
      "[Examples]\n"
     ]
    },
    {
     "data": {
      "text/html": [
       "<pre style=\"white-space:pre;overflow-x:auto;line-height:normal;font-family:Menlo,'DejaVu Sans Mono',consolas,'Courier New',monospace\"><span style=\"color: #7fbfbf\">           </span><span style=\"color: #000080\">INFO    </span> <span style=\"font-weight: bold\">[</span>Examples<span style=\"font-weight: bold\">]</span>                                                 <a href=\"file:///home/j-gunmo/desktop/00.my-project/17.P-Stage-T1003/4-STAGE/fe/feature.py\"><span style=\"color: #7f7f7f\">feature.py</span></a><span style=\"color: #7f7f7f\">:103</span>\n",
       "</pre>\n"
      ],
      "text/plain": [
       "<rich.jupyter.JupyterRenderable at 0x7f4f27861e80>"
      ]
     },
     "metadata": {},
     "output_type": "display_data"
    },
    {
     "name": "stderr",
     "output_type": "stream",
     "text": [
      "INDEX 0000: 745\n"
     ]
    },
    {
     "data": {
      "text/html": [
       "<pre style=\"white-space:pre;overflow-x:auto;line-height:normal;font-family:Menlo,'DejaVu Sans Mono',consolas,'Courier New',monospace\"><span style=\"color: #7fbfbf\">           </span><span style=\"color: #000080\">INFO    </span> INDEX <span style=\"color: #000080; font-weight: bold\">0000</span>: <span style=\"color: #000080; font-weight: bold\">745</span>                                            <a href=\"file:///home/j-gunmo/desktop/00.my-project/17.P-Stage-T1003/4-STAGE/fe/feature.py\"><span style=\"color: #7f7f7f\">feature.py</span></a><span style=\"color: #7f7f7f\">:106</span>\n",
       "</pre>\n"
      ],
      "text/plain": [
       "<rich.jupyter.JupyterRenderable at 0x7f4f27861f40>"
      ]
     },
     "metadata": {},
     "output_type": "display_data"
    },
    {
     "name": "stderr",
     "output_type": "stream",
     "text": [
      "INDEX 1000: 745\n"
     ]
    },
    {
     "data": {
      "text/html": [
       "<pre style=\"white-space:pre;overflow-x:auto;line-height:normal;font-family:Menlo,'DejaVu Sans Mono',consolas,'Courier New',monospace\"><span style=\"color: #7fbfbf\">           </span><span style=\"color: #000080\">INFO    </span> INDEX <span style=\"color: #000080; font-weight: bold\">1000</span>: <span style=\"color: #000080; font-weight: bold\">745</span>                                            <a href=\"file:///home/j-gunmo/desktop/00.my-project/17.P-Stage-T1003/4-STAGE/fe/feature.py\"><span style=\"color: #7f7f7f\">feature.py</span></a><span style=\"color: #7f7f7f\">:106</span>\n",
       "</pre>\n"
      ],
      "text/plain": [
       "<rich.jupyter.JupyterRenderable at 0x7f500418e880>"
      ]
     },
     "metadata": {},
     "output_type": "display_data"
    },
    {
     "name": "stderr",
     "output_type": "stream",
     "text": [
      "INDEX 2000: 745\n"
     ]
    },
    {
     "data": {
      "text/html": [
       "<pre style=\"white-space:pre;overflow-x:auto;line-height:normal;font-family:Menlo,'DejaVu Sans Mono',consolas,'Courier New',monospace\"><span style=\"color: #7fbfbf\">           </span><span style=\"color: #000080\">INFO    </span> INDEX <span style=\"color: #000080; font-weight: bold\">2000</span>: <span style=\"color: #000080; font-weight: bold\">745</span>                                            <a href=\"file:///home/j-gunmo/desktop/00.my-project/17.P-Stage-T1003/4-STAGE/fe/feature.py\"><span style=\"color: #7f7f7f\">feature.py</span></a><span style=\"color: #7f7f7f\">:106</span>\n",
       "</pre>\n"
      ],
      "text/plain": [
       "<rich.jupyter.JupyterRenderable at 0x7f500418ec70>"
      ]
     },
     "metadata": {},
     "output_type": "display_data"
    },
    {
     "name": "stderr",
     "output_type": "stream",
     "text": [
      "INDEX 3000: 745\n"
     ]
    },
    {
     "data": {
      "text/html": [
       "<pre style=\"white-space:pre;overflow-x:auto;line-height:normal;font-family:Menlo,'DejaVu Sans Mono',consolas,'Courier New',monospace\"><span style=\"color: #7fbfbf\">           </span><span style=\"color: #000080\">INFO    </span> INDEX <span style=\"color: #000080; font-weight: bold\">3000</span>: <span style=\"color: #000080; font-weight: bold\">745</span>                                            <a href=\"file:///home/j-gunmo/desktop/00.my-project/17.P-Stage-T1003/4-STAGE/fe/feature.py\"><span style=\"color: #7f7f7f\">feature.py</span></a><span style=\"color: #7f7f7f\">:106</span>\n",
       "</pre>\n"
      ],
      "text/plain": [
       "<rich.jupyter.JupyterRenderable at 0x7f4f27861e80>"
      ]
     },
     "metadata": {},
     "output_type": "display_data"
    },
    {
     "name": "stderr",
     "output_type": "stream",
     "text": [
      "INDEX 4000: 745\n"
     ]
    },
    {
     "data": {
      "text/html": [
       "<pre style=\"white-space:pre;overflow-x:auto;line-height:normal;font-family:Menlo,'DejaVu Sans Mono',consolas,'Courier New',monospace\"><span style=\"color: #7fbfbf\">           </span><span style=\"color: #000080\">INFO    </span> INDEX <span style=\"color: #000080; font-weight: bold\">4000</span>: <span style=\"color: #000080; font-weight: bold\">745</span>                                            <a href=\"file:///home/j-gunmo/desktop/00.my-project/17.P-Stage-T1003/4-STAGE/fe/feature.py\"><span style=\"color: #7f7f7f\">feature.py</span></a><span style=\"color: #7f7f7f\">:106</span>\n",
       "</pre>\n"
      ],
      "text/plain": [
       "<rich.jupyter.JupyterRenderable at 0x7f50041832b0>"
      ]
     },
     "metadata": {},
     "output_type": "display_data"
    },
    {
     "name": "stderr",
     "output_type": "stream",
     "text": [
      "INDEX 5000: 745\n"
     ]
    },
    {
     "data": {
      "text/html": [
       "<pre style=\"white-space:pre;overflow-x:auto;line-height:normal;font-family:Menlo,'DejaVu Sans Mono',consolas,'Courier New',monospace\"><span style=\"color: #7fbfbf\">           </span><span style=\"color: #000080\">INFO    </span> INDEX <span style=\"color: #000080; font-weight: bold\">5000</span>: <span style=\"color: #000080; font-weight: bold\">745</span>                                            <a href=\"file:///home/j-gunmo/desktop/00.my-project/17.P-Stage-T1003/4-STAGE/fe/feature.py\"><span style=\"color: #7f7f7f\">feature.py</span></a><span style=\"color: #7f7f7f\">:106</span>\n",
       "</pre>\n"
      ],
      "text/plain": [
       "<rich.jupyter.JupyterRenderable at 0x7f500418e220>"
      ]
     },
     "metadata": {},
     "output_type": "display_data"
    },
    {
     "name": "stderr",
     "output_type": "stream",
     "text": [
      "INDEX 6000: 745\n"
     ]
    },
    {
     "data": {
      "text/html": [
       "<pre style=\"white-space:pre;overflow-x:auto;line-height:normal;font-family:Menlo,'DejaVu Sans Mono',consolas,'Courier New',monospace\"><span style=\"color: #7fbfbf\">           </span><span style=\"color: #000080\">INFO    </span> INDEX <span style=\"color: #000080; font-weight: bold\">6000</span>: <span style=\"color: #000080; font-weight: bold\">745</span>                                            <a href=\"file:///home/j-gunmo/desktop/00.my-project/17.P-Stage-T1003/4-STAGE/fe/feature.py\"><span style=\"color: #7f7f7f\">feature.py</span></a><span style=\"color: #7f7f7f\">:106</span>\n",
       "</pre>\n"
      ],
      "text/plain": [
       "<rich.jupyter.JupyterRenderable at 0x7f4f27861e80>"
      ]
     },
     "metadata": {},
     "output_type": "display_data"
    },
    {
     "name": "stderr",
     "output_type": "stream",
     "text": [
      "INDEX 7000: 745\n"
     ]
    },
    {
     "data": {
      "text/html": [
       "<pre style=\"white-space:pre;overflow-x:auto;line-height:normal;font-family:Menlo,'DejaVu Sans Mono',consolas,'Courier New',monospace\"><span style=\"color: #7fbfbf\">           </span><span style=\"color: #000080\">INFO    </span> INDEX <span style=\"color: #000080; font-weight: bold\">7000</span>: <span style=\"color: #000080; font-weight: bold\">745</span>                                            <a href=\"file:///home/j-gunmo/desktop/00.my-project/17.P-Stage-T1003/4-STAGE/fe/feature.py\"><span style=\"color: #7f7f7f\">feature.py</span></a><span style=\"color: #7f7f7f\">:106</span>\n",
       "</pre>\n"
      ],
      "text/plain": [
       "<rich.jupyter.JupyterRenderable at 0x7f50041832b0>"
      ]
     },
     "metadata": {},
     "output_type": "display_data"
    },
    {
     "name": "stderr",
     "output_type": "stream",
     "text": [
      "INDEX 8000: 933\n"
     ]
    },
    {
     "data": {
      "text/html": [
       "<pre style=\"white-space:pre;overflow-x:auto;line-height:normal;font-family:Menlo,'DejaVu Sans Mono',consolas,'Courier New',monospace\"><span style=\"color: #7fbfbf\">           </span><span style=\"color: #000080\">INFO    </span> INDEX <span style=\"color: #000080; font-weight: bold\">8000</span>: <span style=\"color: #000080; font-weight: bold\">933</span>                                            <a href=\"file:///home/j-gunmo/desktop/00.my-project/17.P-Stage-T1003/4-STAGE/fe/feature.py\"><span style=\"color: #7f7f7f\">feature.py</span></a><span style=\"color: #7f7f7f\">:106</span>\n",
       "</pre>\n"
      ],
      "text/plain": [
       "<rich.jupyter.JupyterRenderable at 0x7f500418e970>"
      ]
     },
     "metadata": {},
     "output_type": "display_data"
    },
    {
     "name": "stderr",
     "output_type": "stream",
     "text": [
      "INDEX 9000: 933\n"
     ]
    },
    {
     "data": {
      "text/html": [
       "<pre style=\"white-space:pre;overflow-x:auto;line-height:normal;font-family:Menlo,'DejaVu Sans Mono',consolas,'Courier New',monospace\"><span style=\"color: #7fbfbf\">           </span><span style=\"color: #000080\">INFO    </span> INDEX <span style=\"color: #000080; font-weight: bold\">9000</span>: <span style=\"color: #000080; font-weight: bold\">933</span>                                            <a href=\"file:///home/j-gunmo/desktop/00.my-project/17.P-Stage-T1003/4-STAGE/fe/feature.py\"><span style=\"color: #7f7f7f\">feature.py</span></a><span style=\"color: #7f7f7f\">:106</span>\n",
       "</pre>\n"
      ],
      "text/plain": [
       "<rich.jupyter.JupyterRenderable at 0x7f4f27861ca0>"
      ]
     },
     "metadata": {},
     "output_type": "display_data"
    },
    {
     "name": "stdout",
     "output_type": "stream",
     "text": [
      "load features /home/j-gunmo/features/train_make_correct_percent.pkl to dataframe ... \n"
     ]
    },
    {
     "name": "stderr",
     "output_type": "stream",
     "text": [
      "\n",
      "Feature Engineering Name: make_correct_percent\n"
     ]
    },
    {
     "data": {
      "text/html": [
       "<pre style=\"white-space:pre;overflow-x:auto;line-height:normal;font-family:Menlo,'DejaVu Sans Mono',consolas,'Courier New',monospace\"><span style=\"color: #7fbfbf\">[10:06:00] </span><span style=\"color: #000080\">INFO    </span>                                                             <a href=\"file:///home/j-gunmo/desktop/00.my-project/17.P-Stage-T1003/4-STAGE/fe/feature.py\"><span style=\"color: #7f7f7f\">feature.py</span></a><span style=\"color: #7f7f7f\">:98</span>\n",
       "                    Feature Engineering Name: make_correct_percent                           \n",
       "</pre>\n"
      ],
      "text/plain": [
       "<rich.jupyter.JupyterRenderable at 0x7f4f27861f40>"
      ]
     },
     "metadata": {},
     "output_type": "display_data"
    },
    {
     "name": "stderr",
     "output_type": "stream",
     "text": [
      "\n",
      "correctPer      : 사용자가 푼 전체 문항에 대한 정답률입니다.\n"
     ]
    },
    {
     "data": {
      "text/html": [
       "<pre style=\"white-space:pre;overflow-x:auto;line-height:normal;font-family:Menlo,'DejaVu Sans Mono',consolas,'Courier New',monospace\"><span style=\"color: #7fbfbf\">           </span><span style=\"color: #000080\">INFO    </span>                                                            <a href=\"file:///home/j-gunmo/desktop/00.my-project/17.P-Stage-T1003/4-STAGE/fe/feature.py\"><span style=\"color: #7f7f7f\">feature.py</span></a><span style=\"color: #7f7f7f\">:101</span>\n",
       "                    correctPer      : 사용자가 푼 전체 문항에 대한                           \n",
       "                    정답률입니다.                                                            \n",
       "</pre>\n"
      ],
      "text/plain": [
       "<rich.jupyter.JupyterRenderable at 0x7f500418ec70>"
      ]
     },
     "metadata": {},
     "output_type": "display_data"
    },
    {
     "name": "stderr",
     "output_type": "stream",
     "text": [
      "dtype: float64\n"
     ]
    },
    {
     "data": {
      "text/html": [
       "<pre style=\"white-space:pre;overflow-x:auto;line-height:normal;font-family:Menlo,'DejaVu Sans Mono',consolas,'Courier New',monospace\"><span style=\"color: #7fbfbf\">           </span><span style=\"color: #000080\">INFO    </span> dtype: float64                                             <a href=\"file:///home/j-gunmo/desktop/00.my-project/17.P-Stage-T1003/4-STAGE/fe/feature.py\"><span style=\"color: #7f7f7f\">feature.py</span></a><span style=\"color: #7f7f7f\">:102</span>\n",
       "</pre>\n"
      ],
      "text/plain": [
       "<rich.jupyter.JupyterRenderable at 0x7f500418e250>"
      ]
     },
     "metadata": {},
     "output_type": "display_data"
    },
    {
     "name": "stderr",
     "output_type": "stream",
     "text": [
      "[Examples]\n"
     ]
    },
    {
     "data": {
      "text/html": [
       "<pre style=\"white-space:pre;overflow-x:auto;line-height:normal;font-family:Menlo,'DejaVu Sans Mono',consolas,'Courier New',monospace\"><span style=\"color: #7fbfbf\">           </span><span style=\"color: #000080\">INFO    </span> <span style=\"font-weight: bold\">[</span>Examples<span style=\"font-weight: bold\">]</span>                                                 <a href=\"file:///home/j-gunmo/desktop/00.my-project/17.P-Stage-T1003/4-STAGE/fe/feature.py\"><span style=\"color: #7f7f7f\">feature.py</span></a><span style=\"color: #7f7f7f\">:103</span>\n",
       "</pre>\n"
      ],
      "text/plain": [
       "<rich.jupyter.JupyterRenderable at 0x7f500418e970>"
      ]
     },
     "metadata": {},
     "output_type": "display_data"
    },
    {
     "name": "stderr",
     "output_type": "stream",
     "text": [
      "INDEX 0000: 0.6308724832214765\n"
     ]
    },
    {
     "data": {
      "text/html": [
       "<pre style=\"white-space:pre;overflow-x:auto;line-height:normal;font-family:Menlo,'DejaVu Sans Mono',consolas,'Courier New',monospace\"><span style=\"color: #7fbfbf\">           </span><span style=\"color: #000080\">INFO    </span> INDEX <span style=\"color: #000080; font-weight: bold\">0000</span>: <span style=\"color: #000080; font-weight: bold\">0.6308724832214765</span>                             <a href=\"file:///home/j-gunmo/desktop/00.my-project/17.P-Stage-T1003/4-STAGE/fe/feature.py\"><span style=\"color: #7f7f7f\">feature.py</span></a><span style=\"color: #7f7f7f\">:106</span>\n",
       "</pre>\n"
      ],
      "text/plain": [
       "<rich.jupyter.JupyterRenderable at 0x7f4f27861be0>"
      ]
     },
     "metadata": {},
     "output_type": "display_data"
    },
    {
     "name": "stderr",
     "output_type": "stream",
     "text": [
      "INDEX 1000: 0.6308724832214765\n"
     ]
    },
    {
     "data": {
      "text/html": [
       "<pre style=\"white-space:pre;overflow-x:auto;line-height:normal;font-family:Menlo,'DejaVu Sans Mono',consolas,'Courier New',monospace\"><span style=\"color: #7fbfbf\">           </span><span style=\"color: #000080\">INFO    </span> INDEX <span style=\"color: #000080; font-weight: bold\">1000</span>: <span style=\"color: #000080; font-weight: bold\">0.6308724832214765</span>                             <a href=\"file:///home/j-gunmo/desktop/00.my-project/17.P-Stage-T1003/4-STAGE/fe/feature.py\"><span style=\"color: #7f7f7f\">feature.py</span></a><span style=\"color: #7f7f7f\">:106</span>\n",
       "</pre>\n"
      ],
      "text/plain": [
       "<rich.jupyter.JupyterRenderable at 0x7f4f27861f40>"
      ]
     },
     "metadata": {},
     "output_type": "display_data"
    },
    {
     "name": "stderr",
     "output_type": "stream",
     "text": [
      "INDEX 2000: 0.6308724832214765\n"
     ]
    },
    {
     "data": {
      "text/html": [
       "<pre style=\"white-space:pre;overflow-x:auto;line-height:normal;font-family:Menlo,'DejaVu Sans Mono',consolas,'Courier New',monospace\"><span style=\"color: #7fbfbf\">           </span><span style=\"color: #000080\">INFO    </span> INDEX <span style=\"color: #000080; font-weight: bold\">2000</span>: <span style=\"color: #000080; font-weight: bold\">0.6308724832214765</span>                             <a href=\"file:///home/j-gunmo/desktop/00.my-project/17.P-Stage-T1003/4-STAGE/fe/feature.py\"><span style=\"color: #7f7f7f\">feature.py</span></a><span style=\"color: #7f7f7f\">:106</span>\n",
       "</pre>\n"
      ],
      "text/plain": [
       "<rich.jupyter.JupyterRenderable at 0x7f50041767c0>"
      ]
     },
     "metadata": {},
     "output_type": "display_data"
    },
    {
     "name": "stderr",
     "output_type": "stream",
     "text": [
      "INDEX 3000: 0.6308724832214765\n"
     ]
    },
    {
     "data": {
      "text/html": [
       "<pre style=\"white-space:pre;overflow-x:auto;line-height:normal;font-family:Menlo,'DejaVu Sans Mono',consolas,'Courier New',monospace\"><span style=\"color: #7fbfbf\">           </span><span style=\"color: #000080\">INFO    </span> INDEX <span style=\"color: #000080; font-weight: bold\">3000</span>: <span style=\"color: #000080; font-weight: bold\">0.6308724832214765</span>                             <a href=\"file:///home/j-gunmo/desktop/00.my-project/17.P-Stage-T1003/4-STAGE/fe/feature.py\"><span style=\"color: #7f7f7f\">feature.py</span></a><span style=\"color: #7f7f7f\">:106</span>\n",
       "</pre>\n"
      ],
      "text/plain": [
       "<rich.jupyter.JupyterRenderable at 0x7f4f27861ca0>"
      ]
     },
     "metadata": {},
     "output_type": "display_data"
    },
    {
     "name": "stderr",
     "output_type": "stream",
     "text": [
      "INDEX 4000: 0.6308724832214765\n"
     ]
    },
    {
     "data": {
      "text/html": [
       "<pre style=\"white-space:pre;overflow-x:auto;line-height:normal;font-family:Menlo,'DejaVu Sans Mono',consolas,'Courier New',monospace\"><span style=\"color: #7fbfbf\">           </span><span style=\"color: #000080\">INFO    </span> INDEX <span style=\"color: #000080; font-weight: bold\">4000</span>: <span style=\"color: #000080; font-weight: bold\">0.6308724832214765</span>                             <a href=\"file:///home/j-gunmo/desktop/00.my-project/17.P-Stage-T1003/4-STAGE/fe/feature.py\"><span style=\"color: #7f7f7f\">feature.py</span></a><span style=\"color: #7f7f7f\">:106</span>\n",
       "</pre>\n"
      ],
      "text/plain": [
       "<rich.jupyter.JupyterRenderable at 0x7f4f278167c0>"
      ]
     },
     "metadata": {},
     "output_type": "display_data"
    },
    {
     "name": "stderr",
     "output_type": "stream",
     "text": [
      "INDEX 5000: 0.6308724832214765\n"
     ]
    },
    {
     "data": {
      "text/html": [
       "<pre style=\"white-space:pre;overflow-x:auto;line-height:normal;font-family:Menlo,'DejaVu Sans Mono',consolas,'Courier New',monospace\"><span style=\"color: #7fbfbf\">           </span><span style=\"color: #000080\">INFO    </span> INDEX <span style=\"color: #000080; font-weight: bold\">5000</span>: <span style=\"color: #000080; font-weight: bold\">0.6308724832214765</span>                             <a href=\"file:///home/j-gunmo/desktop/00.my-project/17.P-Stage-T1003/4-STAGE/fe/feature.py\"><span style=\"color: #7f7f7f\">feature.py</span></a><span style=\"color: #7f7f7f\">:106</span>\n",
       "</pre>\n"
      ],
      "text/plain": [
       "<rich.jupyter.JupyterRenderable at 0x7f4f27816880>"
      ]
     },
     "metadata": {},
     "output_type": "display_data"
    },
    {
     "name": "stderr",
     "output_type": "stream",
     "text": [
      "INDEX 6000: 0.6308724832214765\n"
     ]
    },
    {
     "data": {
      "text/html": [
       "<pre style=\"white-space:pre;overflow-x:auto;line-height:normal;font-family:Menlo,'DejaVu Sans Mono',consolas,'Courier New',monospace\"><span style=\"color: #7fbfbf\">           </span><span style=\"color: #000080\">INFO    </span> INDEX <span style=\"color: #000080; font-weight: bold\">6000</span>: <span style=\"color: #000080; font-weight: bold\">0.6308724832214765</span>                             <a href=\"file:///home/j-gunmo/desktop/00.my-project/17.P-Stage-T1003/4-STAGE/fe/feature.py\"><span style=\"color: #7f7f7f\">feature.py</span></a><span style=\"color: #7f7f7f\">:106</span>\n",
       "</pre>\n"
      ],
      "text/plain": [
       "<rich.jupyter.JupyterRenderable at 0x7f4f278169a0>"
      ]
     },
     "metadata": {},
     "output_type": "display_data"
    },
    {
     "name": "stderr",
     "output_type": "stream",
     "text": [
      "INDEX 7000: 0.6308724832214765\n"
     ]
    },
    {
     "data": {
      "text/html": [
       "<pre style=\"white-space:pre;overflow-x:auto;line-height:normal;font-family:Menlo,'DejaVu Sans Mono',consolas,'Courier New',monospace\"><span style=\"color: #7fbfbf\">           </span><span style=\"color: #000080\">INFO    </span> INDEX <span style=\"color: #000080; font-weight: bold\">7000</span>: <span style=\"color: #000080; font-weight: bold\">0.6308724832214765</span>                             <a href=\"file:///home/j-gunmo/desktop/00.my-project/17.P-Stage-T1003/4-STAGE/fe/feature.py\"><span style=\"color: #7f7f7f\">feature.py</span></a><span style=\"color: #7f7f7f\">:106</span>\n",
       "</pre>\n"
      ],
      "text/plain": [
       "<rich.jupyter.JupyterRenderable at 0x7f4f27816a30>"
      ]
     },
     "metadata": {},
     "output_type": "display_data"
    },
    {
     "name": "stderr",
     "output_type": "stream",
     "text": [
      "INDEX 8000: 0.8531618435155413\n"
     ]
    },
    {
     "data": {
      "text/html": [
       "<pre style=\"white-space:pre;overflow-x:auto;line-height:normal;font-family:Menlo,'DejaVu Sans Mono',consolas,'Courier New',monospace\"><span style=\"color: #7fbfbf\">           </span><span style=\"color: #000080\">INFO    </span> INDEX <span style=\"color: #000080; font-weight: bold\">8000</span>: <span style=\"color: #000080; font-weight: bold\">0.8531618435155413</span>                             <a href=\"file:///home/j-gunmo/desktop/00.my-project/17.P-Stage-T1003/4-STAGE/fe/feature.py\"><span style=\"color: #7f7f7f\">feature.py</span></a><span style=\"color: #7f7f7f\">:106</span>\n",
       "</pre>\n"
      ],
      "text/plain": [
       "<rich.jupyter.JupyterRenderable at 0x7f4f278169a0>"
      ]
     },
     "metadata": {},
     "output_type": "display_data"
    },
    {
     "name": "stderr",
     "output_type": "stream",
     "text": [
      "INDEX 9000: 0.8531618435155413\n"
     ]
    },
    {
     "data": {
      "text/html": [
       "<pre style=\"white-space:pre;overflow-x:auto;line-height:normal;font-family:Menlo,'DejaVu Sans Mono',consolas,'Courier New',monospace\"><span style=\"color: #7fbfbf\">           </span><span style=\"color: #000080\">INFO    </span> INDEX <span style=\"color: #000080; font-weight: bold\">9000</span>: <span style=\"color: #000080; font-weight: bold\">0.8531618435155413</span>                             <a href=\"file:///home/j-gunmo/desktop/00.my-project/17.P-Stage-T1003/4-STAGE/fe/feature.py\"><span style=\"color: #7f7f7f\">feature.py</span></a><span style=\"color: #7f7f7f\">:106</span>\n",
       "</pre>\n"
      ],
      "text/plain": [
       "<rich.jupyter.JupyterRenderable at 0x7f4f27816820>"
      ]
     },
     "metadata": {},
     "output_type": "display_data"
    },
    {
     "name": "stderr",
     "output_type": "stream",
     "text": [
      "Feature Engineering End ... \n"
     ]
    },
    {
     "data": {
      "text/html": [
       "<pre style=\"white-space:pre;overflow-x:auto;line-height:normal;font-family:Menlo,'DejaVu Sans Mono',consolas,'Courier New',monospace\"><span style=\"color: #7fbfbf\">           </span><span style=\"color: #000080\">INFO    </span> Feature Engineering End <span style=\"color: #808000\">...</span>                                <a href=\"file:///home/j-gunmo/desktop/00.my-project/17.P-Stage-T1003/4-STAGE/fe/feature.py\"><span style=\"color: #7f7f7f\">feature.py</span></a><span style=\"color: #7f7f7f\">:108</span>\n",
       "</pre>\n"
      ],
      "text/plain": [
       "<rich.jupyter.JupyterRenderable at 0x7f4f27861d90>"
      ]
     },
     "metadata": {},
     "output_type": "display_data"
    },
    {
     "name": "stderr",
     "output_type": "stream",
     "text": [
      "Original DataFrame Keywords: Index(['userID', 'assessmentItemID', 'testId', 'answerCode', 'Timestamp',\n",
      "       'KnowledgeTag'],\n",
      "      dtype='object')\n"
     ]
    },
    {
     "data": {
      "text/html": [
       "<pre style=\"white-space:pre;overflow-x:auto;line-height:normal;font-family:Menlo,'DejaVu Sans Mono',consolas,'Courier New',monospace\"><span style=\"color: #7fbfbf\">           </span><span style=\"color: #000080\">INFO    </span> Original DataFrame Keywords: Index<span style=\"font-weight: bold\">([</span><span style=\"color: #008000\">'userID'</span>,              <a href=\"file:///home/j-gunmo/desktop/00.my-project/17.P-Stage-T1003/4-STAGE/fe/feature.py\"><span style=\"color: #7f7f7f\">feature.py</span></a><span style=\"color: #7f7f7f\">:109</span>\n",
       "                    <span style=\"color: #008000\">'assessmentItemID'</span>, <span style=\"color: #008000\">'testId'</span>, <span style=\"color: #008000\">'answerCode'</span>, <span style=\"color: #008000\">'Timestamp'</span>,                 \n",
       "                           <span style=\"color: #008000\">'KnowledgeTag'</span><span style=\"font-weight: bold\">]</span>,                                                  \n",
       "                          <span style=\"color: #808000\">dtype</span>=<span style=\"color: #008000\">'object'</span><span style=\"font-weight: bold\">)</span>                                                    \n",
       "</pre>\n"
      ],
      "text/plain": [
       "<rich.jupyter.JupyterRenderable at 0x7f5004183190>"
      ]
     },
     "metadata": {},
     "output_type": "display_data"
    },
    {
     "name": "stderr",
     "output_type": "stream",
     "text": [
      "Feature Added DataFrame Keywords: Index(['userID', 'assessmentItemID', 'testId', 'answerCode', 'Timestamp',\n",
      "       'KnowledgeTag', 'testPaper', 'testPaperCnt', 'timeSec', 'firstClass',\n",
      "       'secondClass', 'correctCnt', 'quesCnt', 'correctPer'],\n",
      "      dtype='object')\n"
     ]
    },
    {
     "data": {
      "text/html": [
       "<pre style=\"white-space:pre;overflow-x:auto;line-height:normal;font-family:Menlo,'DejaVu Sans Mono',consolas,'Courier New',monospace\"><span style=\"color: #7fbfbf\">           </span><span style=\"color: #000080\">INFO    </span> Feature Added DataFrame Keywords: Index<span style=\"font-weight: bold\">([</span><span style=\"color: #008000\">'userID'</span>,         <a href=\"file:///home/j-gunmo/desktop/00.my-project/17.P-Stage-T1003/4-STAGE/fe/feature.py\"><span style=\"color: #7f7f7f\">feature.py</span></a><span style=\"color: #7f7f7f\">:110</span>\n",
       "                    <span style=\"color: #008000\">'assessmentItemID'</span>, <span style=\"color: #008000\">'testId'</span>, <span style=\"color: #008000\">'answerCode'</span>, <span style=\"color: #008000\">'Timestamp'</span>,                 \n",
       "                           <span style=\"color: #008000\">'KnowledgeTag'</span>, <span style=\"color: #008000\">'testPaper'</span>, <span style=\"color: #008000\">'testPaperCnt'</span>,                      \n",
       "                    <span style=\"color: #008000\">'timeSec'</span>, <span style=\"color: #008000\">'firstClass'</span>,                                                 \n",
       "                           <span style=\"color: #008000\">'secondClass'</span>, <span style=\"color: #008000\">'correctCnt'</span>, <span style=\"color: #008000\">'quesCnt'</span>,                           \n",
       "                    <span style=\"color: #008000\">'correctPer'</span><span style=\"font-weight: bold\">]</span>,                                                           \n",
       "                          <span style=\"color: #808000\">dtype</span>=<span style=\"color: #008000\">'object'</span><span style=\"font-weight: bold\">)</span>                                                    \n",
       "</pre>\n"
      ],
      "text/plain": [
       "<rich.jupyter.JupyterRenderable at 0x7f4f27861ca0>"
      ]
     },
     "metadata": {},
     "output_type": "display_data"
    },
    {
     "name": "stderr",
     "output_type": "stream",
     "text": [
      "Feature Engineering Start ... \n"
     ]
    },
    {
     "data": {
      "text/html": [
       "<pre style=\"white-space:pre;overflow-x:auto;line-height:normal;font-family:Menlo,'DejaVu Sans Mono',consolas,'Courier New',monospace\"><span style=\"color: #7fbfbf\">[10:06:04] </span><span style=\"color: #000080\">INFO    </span> Feature Engineering Start <span style=\"color: #808000\">...</span>                               <a href=\"file:///home/j-gunmo/desktop/00.my-project/17.P-Stage-T1003/4-STAGE/fe/feature.py\"><span style=\"color: #7f7f7f\">feature.py</span></a><span style=\"color: #7f7f7f\">:93</span>\n",
       "</pre>\n"
      ],
      "text/plain": [
       "<rich.jupyter.JupyterRenderable at 0x7f500417e820>"
      ]
     },
     "metadata": {},
     "output_type": "display_data"
    },
    {
     "name": "stderr",
     "output_type": "stream",
     "text": [
      "\n",
      "Feature Engineering Name: split_assessmentitem_id\n"
     ]
    },
    {
     "name": "stdout",
     "output_type": "stream",
     "text": [
      "load features /home/j-gunmo/features/test_split_assessmentitem_id.pkl to dataframe ... \n"
     ]
    },
    {
     "data": {
      "text/html": [
       "<pre style=\"white-space:pre;overflow-x:auto;line-height:normal;font-family:Menlo,'DejaVu Sans Mono',consolas,'Courier New',monospace\"><span style=\"color: #7fbfbf\">           </span><span style=\"color: #000080\">INFO    </span>                                                             <a href=\"file:///home/j-gunmo/desktop/00.my-project/17.P-Stage-T1003/4-STAGE/fe/feature.py\"><span style=\"color: #7f7f7f\">feature.py</span></a><span style=\"color: #7f7f7f\">:98</span>\n",
       "                    Feature Engineering Name: split_assessmentitem_id                        \n",
       "</pre>\n"
      ],
      "text/plain": [
       "<rich.jupyter.JupyterRenderable at 0x7f4f2e3b9f70>"
      ]
     },
     "metadata": {},
     "output_type": "display_data"
    },
    {
     "name": "stderr",
     "output_type": "stream",
     "text": [
      "\n",
      "testPaper       : 시험지 번호입니다.\n"
     ]
    },
    {
     "data": {
      "text/html": [
       "<pre style=\"white-space:pre;overflow-x:auto;line-height:normal;font-family:Menlo,'DejaVu Sans Mono',consolas,'Courier New',monospace\"><span style=\"color: #7fbfbf\">           </span><span style=\"color: #000080\">INFO    </span>                                                            <a href=\"file:///home/j-gunmo/desktop/00.my-project/17.P-Stage-T1003/4-STAGE/fe/feature.py\"><span style=\"color: #7f7f7f\">feature.py</span></a><span style=\"color: #7f7f7f\">:101</span>\n",
       "                    testPaper       : 시험지 번호입니다.                                     \n",
       "</pre>\n"
      ],
      "text/plain": [
       "<rich.jupyter.JupyterRenderable at 0x7f5004183190>"
      ]
     },
     "metadata": {},
     "output_type": "display_data"
    },
    {
     "name": "stderr",
     "output_type": "stream",
     "text": [
      "dtype: object\n"
     ]
    },
    {
     "data": {
      "text/html": [
       "<pre style=\"white-space:pre;overflow-x:auto;line-height:normal;font-family:Menlo,'DejaVu Sans Mono',consolas,'Courier New',monospace\"><span style=\"color: #7fbfbf\">           </span><span style=\"color: #000080\">INFO    </span> dtype: object                                              <a href=\"file:///home/j-gunmo/desktop/00.my-project/17.P-Stage-T1003/4-STAGE/fe/feature.py\"><span style=\"color: #7f7f7f\">feature.py</span></a><span style=\"color: #7f7f7f\">:102</span>\n",
       "</pre>\n"
      ],
      "text/plain": [
       "<rich.jupyter.JupyterRenderable at 0x7f4f27816580>"
      ]
     },
     "metadata": {},
     "output_type": "display_data"
    },
    {
     "name": "stderr",
     "output_type": "stream",
     "text": [
      "[Examples]\n"
     ]
    },
    {
     "data": {
      "text/html": [
       "<pre style=\"white-space:pre;overflow-x:auto;line-height:normal;font-family:Menlo,'DejaVu Sans Mono',consolas,'Courier New',monospace\"><span style=\"color: #7fbfbf\">           </span><span style=\"color: #000080\">INFO    </span> <span style=\"font-weight: bold\">[</span>Examples<span style=\"font-weight: bold\">]</span>                                                 <a href=\"file:///home/j-gunmo/desktop/00.my-project/17.P-Stage-T1003/4-STAGE/fe/feature.py\"><span style=\"color: #7f7f7f\">feature.py</span></a><span style=\"color: #7f7f7f\">:103</span>\n",
       "</pre>\n"
      ],
      "text/plain": [
       "<rich.jupyter.JupyterRenderable at 0x7f4f27816a00>"
      ]
     },
     "metadata": {},
     "output_type": "display_data"
    },
    {
     "name": "stderr",
     "output_type": "stream",
     "text": [
      "INDEX 0000: 050023\n"
     ]
    },
    {
     "data": {
      "text/html": [
       "<pre style=\"white-space:pre;overflow-x:auto;line-height:normal;font-family:Menlo,'DejaVu Sans Mono',consolas,'Courier New',monospace\"><span style=\"color: #7fbfbf\">           </span><span style=\"color: #000080\">INFO    </span> INDEX <span style=\"color: #000080; font-weight: bold\">0000</span>: <span style=\"color: #000080; font-weight: bold\">050023</span>                                         <a href=\"file:///home/j-gunmo/desktop/00.my-project/17.P-Stage-T1003/4-STAGE/fe/feature.py\"><span style=\"color: #7f7f7f\">feature.py</span></a><span style=\"color: #7f7f7f\">:106</span>\n",
       "</pre>\n"
      ],
      "text/plain": [
       "<rich.jupyter.JupyterRenderable at 0x7f4f27816a60>"
      ]
     },
     "metadata": {},
     "output_type": "display_data"
    },
    {
     "name": "stderr",
     "output_type": "stream",
     "text": [
      "INDEX 1000: 020035\n"
     ]
    },
    {
     "data": {
      "text/html": [
       "<pre style=\"white-space:pre;overflow-x:auto;line-height:normal;font-family:Menlo,'DejaVu Sans Mono',consolas,'Courier New',monospace\"><span style=\"color: #7fbfbf\">           </span><span style=\"color: #000080\">INFO    </span> INDEX <span style=\"color: #000080; font-weight: bold\">1000</span>: <span style=\"color: #000080; font-weight: bold\">020035</span>                                         <a href=\"file:///home/j-gunmo/desktop/00.my-project/17.P-Stage-T1003/4-STAGE/fe/feature.py\"><span style=\"color: #7f7f7f\">feature.py</span></a><span style=\"color: #7f7f7f\">:106</span>\n",
       "</pre>\n"
      ],
      "text/plain": [
       "<rich.jupyter.JupyterRenderable at 0x7f4f27816c10>"
      ]
     },
     "metadata": {},
     "output_type": "display_data"
    },
    {
     "name": "stderr",
     "output_type": "stream",
     "text": [
      "INDEX 2000: 050006\n"
     ]
    },
    {
     "data": {
      "text/html": [
       "<pre style=\"white-space:pre;overflow-x:auto;line-height:normal;font-family:Menlo,'DejaVu Sans Mono',consolas,'Courier New',monospace\"><span style=\"color: #7fbfbf\">           </span><span style=\"color: #000080\">INFO    </span> INDEX <span style=\"color: #000080; font-weight: bold\">2000</span>: <span style=\"color: #000080; font-weight: bold\">050006</span>                                         <a href=\"file:///home/j-gunmo/desktop/00.my-project/17.P-Stage-T1003/4-STAGE/fe/feature.py\"><span style=\"color: #7f7f7f\">feature.py</span></a><span style=\"color: #7f7f7f\">:106</span>\n",
       "</pre>\n"
      ],
      "text/plain": [
       "<rich.jupyter.JupyterRenderable at 0x7f4f27816a00>"
      ]
     },
     "metadata": {},
     "output_type": "display_data"
    },
    {
     "name": "stderr",
     "output_type": "stream",
     "text": [
      "INDEX 3000: 020037\n"
     ]
    },
    {
     "data": {
      "text/html": [
       "<pre style=\"white-space:pre;overflow-x:auto;line-height:normal;font-family:Menlo,'DejaVu Sans Mono',consolas,'Courier New',monospace\"><span style=\"color: #7fbfbf\">           </span><span style=\"color: #000080\">INFO    </span> INDEX <span style=\"color: #000080; font-weight: bold\">3000</span>: <span style=\"color: #000080; font-weight: bold\">020037</span>                                         <a href=\"file:///home/j-gunmo/desktop/00.my-project/17.P-Stage-T1003/4-STAGE/fe/feature.py\"><span style=\"color: #7f7f7f\">feature.py</span></a><span style=\"color: #7f7f7f\">:106</span>\n",
       "</pre>\n"
      ],
      "text/plain": [
       "<rich.jupyter.JupyterRenderable at 0x7f4f27816880>"
      ]
     },
     "metadata": {},
     "output_type": "display_data"
    },
    {
     "name": "stderr",
     "output_type": "stream",
     "text": [
      "INDEX 4000: 050009\n"
     ]
    },
    {
     "data": {
      "text/html": [
       "<pre style=\"white-space:pre;overflow-x:auto;line-height:normal;font-family:Menlo,'DejaVu Sans Mono',consolas,'Courier New',monospace\"><span style=\"color: #7fbfbf\">           </span><span style=\"color: #000080\">INFO    </span> INDEX <span style=\"color: #000080; font-weight: bold\">4000</span>: <span style=\"color: #000080; font-weight: bold\">050009</span>                                         <a href=\"file:///home/j-gunmo/desktop/00.my-project/17.P-Stage-T1003/4-STAGE/fe/feature.py\"><span style=\"color: #7f7f7f\">feature.py</span></a><span style=\"color: #7f7f7f\">:106</span>\n",
       "</pre>\n"
      ],
      "text/plain": [
       "<rich.jupyter.JupyterRenderable at 0x7f4f27816b50>"
      ]
     },
     "metadata": {},
     "output_type": "display_data"
    },
    {
     "name": "stderr",
     "output_type": "stream",
     "text": [
      "INDEX 5000: 050045\n"
     ]
    },
    {
     "data": {
      "text/html": [
       "<pre style=\"white-space:pre;overflow-x:auto;line-height:normal;font-family:Menlo,'DejaVu Sans Mono',consolas,'Courier New',monospace\"><span style=\"color: #7fbfbf\">           </span><span style=\"color: #000080\">INFO    </span> INDEX <span style=\"color: #000080; font-weight: bold\">5000</span>: <span style=\"color: #000080; font-weight: bold\">050045</span>                                         <a href=\"file:///home/j-gunmo/desktop/00.my-project/17.P-Stage-T1003/4-STAGE/fe/feature.py\"><span style=\"color: #7f7f7f\">feature.py</span></a><span style=\"color: #7f7f7f\">:106</span>\n",
       "</pre>\n"
      ],
      "text/plain": [
       "<rich.jupyter.JupyterRenderable at 0x7f4f27816ac0>"
      ]
     },
     "metadata": {},
     "output_type": "display_data"
    },
    {
     "name": "stderr",
     "output_type": "stream",
     "text": [
      "INDEX 6000: 050072\n"
     ]
    },
    {
     "data": {
      "text/html": [
       "<pre style=\"white-space:pre;overflow-x:auto;line-height:normal;font-family:Menlo,'DejaVu Sans Mono',consolas,'Courier New',monospace\"><span style=\"color: #7fbfbf\">           </span><span style=\"color: #000080\">INFO    </span> INDEX <span style=\"color: #000080; font-weight: bold\">6000</span>: <span style=\"color: #000080; font-weight: bold\">050072</span>                                         <a href=\"file:///home/j-gunmo/desktop/00.my-project/17.P-Stage-T1003/4-STAGE/fe/feature.py\"><span style=\"color: #7f7f7f\">feature.py</span></a><span style=\"color: #7f7f7f\">:106</span>\n",
       "</pre>\n"
      ],
      "text/plain": [
       "<rich.jupyter.JupyterRenderable at 0x7f4f278167f0>"
      ]
     },
     "metadata": {},
     "output_type": "display_data"
    },
    {
     "name": "stderr",
     "output_type": "stream",
     "text": [
      "INDEX 7000: 050089\n"
     ]
    },
    {
     "data": {
      "text/html": [
       "<pre style=\"white-space:pre;overflow-x:auto;line-height:normal;font-family:Menlo,'DejaVu Sans Mono',consolas,'Courier New',monospace\"><span style=\"color: #7fbfbf\">           </span><span style=\"color: #000080\">INFO    </span> INDEX <span style=\"color: #000080; font-weight: bold\">7000</span>: <span style=\"color: #000080; font-weight: bold\">050089</span>                                         <a href=\"file:///home/j-gunmo/desktop/00.my-project/17.P-Stage-T1003/4-STAGE/fe/feature.py\"><span style=\"color: #7f7f7f\">feature.py</span></a><span style=\"color: #7f7f7f\">:106</span>\n",
       "</pre>\n"
      ],
      "text/plain": [
       "<rich.jupyter.JupyterRenderable at 0x7f4f27816b50>"
      ]
     },
     "metadata": {},
     "output_type": "display_data"
    },
    {
     "name": "stderr",
     "output_type": "stream",
     "text": [
      "INDEX 8000: 050089\n"
     ]
    },
    {
     "data": {
      "text/html": [
       "<pre style=\"white-space:pre;overflow-x:auto;line-height:normal;font-family:Menlo,'DejaVu Sans Mono',consolas,'Courier New',monospace\"><span style=\"color: #7fbfbf\">           </span><span style=\"color: #000080\">INFO    </span> INDEX <span style=\"color: #000080; font-weight: bold\">8000</span>: <span style=\"color: #000080; font-weight: bold\">050089</span>                                         <a href=\"file:///home/j-gunmo/desktop/00.my-project/17.P-Stage-T1003/4-STAGE/fe/feature.py\"><span style=\"color: #7f7f7f\">feature.py</span></a><span style=\"color: #7f7f7f\">:106</span>\n",
       "</pre>\n"
      ],
      "text/plain": [
       "<rich.jupyter.JupyterRenderable at 0x7f4f27816790>"
      ]
     },
     "metadata": {},
     "output_type": "display_data"
    },
    {
     "name": "stderr",
     "output_type": "stream",
     "text": [
      "INDEX 9000: 050105\n"
     ]
    },
    {
     "data": {
      "text/html": [
       "<pre style=\"white-space:pre;overflow-x:auto;line-height:normal;font-family:Menlo,'DejaVu Sans Mono',consolas,'Courier New',monospace\"><span style=\"color: #7fbfbf\">           </span><span style=\"color: #000080\">INFO    </span> INDEX <span style=\"color: #000080; font-weight: bold\">9000</span>: <span style=\"color: #000080; font-weight: bold\">050105</span>                                         <a href=\"file:///home/j-gunmo/desktop/00.my-project/17.P-Stage-T1003/4-STAGE/fe/feature.py\"><span style=\"color: #7f7f7f\">feature.py</span></a><span style=\"color: #7f7f7f\">:106</span>\n",
       "</pre>\n"
      ],
      "text/plain": [
       "<rich.jupyter.JupyterRenderable at 0x7f4f27816ac0>"
      ]
     },
     "metadata": {},
     "output_type": "display_data"
    },
    {
     "name": "stderr",
     "output_type": "stream",
     "text": [
      "\n",
      "testPaperCnt    : 시험지의 문항 번호입니다.\n"
     ]
    },
    {
     "data": {
      "text/html": [
       "<pre style=\"white-space:pre;overflow-x:auto;line-height:normal;font-family:Menlo,'DejaVu Sans Mono',consolas,'Courier New',monospace\"><span style=\"color: #7fbfbf\">           </span><span style=\"color: #000080\">INFO    </span>                                                            <a href=\"file:///home/j-gunmo/desktop/00.my-project/17.P-Stage-T1003/4-STAGE/fe/feature.py\"><span style=\"color: #7f7f7f\">feature.py</span></a><span style=\"color: #7f7f7f\">:101</span>\n",
       "                    testPaperCnt    : 시험지의 문항 번호입니다.                              \n",
       "</pre>\n"
      ],
      "text/plain": [
       "<rich.jupyter.JupyterRenderable at 0x7f4f27816a60>"
      ]
     },
     "metadata": {},
     "output_type": "display_data"
    },
    {
     "name": "stderr",
     "output_type": "stream",
     "text": [
      "dtype: object\n"
     ]
    },
    {
     "data": {
      "text/html": [
       "<pre style=\"white-space:pre;overflow-x:auto;line-height:normal;font-family:Menlo,'DejaVu Sans Mono',consolas,'Courier New',monospace\"><span style=\"color: #7fbfbf\">           </span><span style=\"color: #000080\">INFO    </span> dtype: object                                              <a href=\"file:///home/j-gunmo/desktop/00.my-project/17.P-Stage-T1003/4-STAGE/fe/feature.py\"><span style=\"color: #7f7f7f\">feature.py</span></a><span style=\"color: #7f7f7f\">:102</span>\n",
       "</pre>\n"
      ],
      "text/plain": [
       "<rich.jupyter.JupyterRenderable at 0x7f4f27816c40>"
      ]
     },
     "metadata": {},
     "output_type": "display_data"
    },
    {
     "name": "stderr",
     "output_type": "stream",
     "text": [
      "[Examples]\n"
     ]
    },
    {
     "data": {
      "text/html": [
       "<pre style=\"white-space:pre;overflow-x:auto;line-height:normal;font-family:Menlo,'DejaVu Sans Mono',consolas,'Courier New',monospace\"><span style=\"color: #7fbfbf\">           </span><span style=\"color: #000080\">INFO    </span> <span style=\"font-weight: bold\">[</span>Examples<span style=\"font-weight: bold\">]</span>                                                 <a href=\"file:///home/j-gunmo/desktop/00.my-project/17.P-Stage-T1003/4-STAGE/fe/feature.py\"><span style=\"color: #7f7f7f\">feature.py</span></a><span style=\"color: #7f7f7f\">:103</span>\n",
       "</pre>\n"
      ],
      "text/plain": [
       "<rich.jupyter.JupyterRenderable at 0x7f4f27816880>"
      ]
     },
     "metadata": {},
     "output_type": "display_data"
    },
    {
     "name": "stderr",
     "output_type": "stream",
     "text": [
      "INDEX 0000: 001\n"
     ]
    },
    {
     "data": {
      "text/html": [
       "<pre style=\"white-space:pre;overflow-x:auto;line-height:normal;font-family:Menlo,'DejaVu Sans Mono',consolas,'Courier New',monospace\"><span style=\"color: #7fbfbf\">           </span><span style=\"color: #000080\">INFO    </span> INDEX <span style=\"color: #000080; font-weight: bold\">0000</span>: <span style=\"color: #000080; font-weight: bold\">001</span>                                            <a href=\"file:///home/j-gunmo/desktop/00.my-project/17.P-Stage-T1003/4-STAGE/fe/feature.py\"><span style=\"color: #7f7f7f\">feature.py</span></a><span style=\"color: #7f7f7f\">:106</span>\n",
       "</pre>\n"
      ],
      "text/plain": [
       "<rich.jupyter.JupyterRenderable at 0x7f4f27816a00>"
      ]
     },
     "metadata": {},
     "output_type": "display_data"
    },
    {
     "name": "stderr",
     "output_type": "stream",
     "text": [
      "INDEX 1000: 003\n"
     ]
    },
    {
     "data": {
      "text/html": [
       "<pre style=\"white-space:pre;overflow-x:auto;line-height:normal;font-family:Menlo,'DejaVu Sans Mono',consolas,'Courier New',monospace\"><span style=\"color: #7fbfbf\">           </span><span style=\"color: #000080\">INFO    </span> INDEX <span style=\"color: #000080; font-weight: bold\">1000</span>: <span style=\"color: #000080; font-weight: bold\">003</span>                                            <a href=\"file:///home/j-gunmo/desktop/00.my-project/17.P-Stage-T1003/4-STAGE/fe/feature.py\"><span style=\"color: #7f7f7f\">feature.py</span></a><span style=\"color: #7f7f7f\">:106</span>\n",
       "</pre>\n"
      ],
      "text/plain": [
       "<rich.jupyter.JupyterRenderable at 0x7f4f27816c40>"
      ]
     },
     "metadata": {},
     "output_type": "display_data"
    },
    {
     "name": "stderr",
     "output_type": "stream",
     "text": [
      "INDEX 2000: 001\n"
     ]
    },
    {
     "data": {
      "text/html": [
       "<pre style=\"white-space:pre;overflow-x:auto;line-height:normal;font-family:Menlo,'DejaVu Sans Mono',consolas,'Courier New',monospace\"><span style=\"color: #7fbfbf\">           </span><span style=\"color: #000080\">INFO    </span> INDEX <span style=\"color: #000080; font-weight: bold\">2000</span>: <span style=\"color: #000080; font-weight: bold\">001</span>                                            <a href=\"file:///home/j-gunmo/desktop/00.my-project/17.P-Stage-T1003/4-STAGE/fe/feature.py\"><span style=\"color: #7f7f7f\">feature.py</span></a><span style=\"color: #7f7f7f\">:106</span>\n",
       "</pre>\n"
      ],
      "text/plain": [
       "<rich.jupyter.JupyterRenderable at 0x7f4f27816b80>"
      ]
     },
     "metadata": {},
     "output_type": "display_data"
    },
    {
     "name": "stderr",
     "output_type": "stream",
     "text": [
      "INDEX 3000: 003\n"
     ]
    },
    {
     "data": {
      "text/html": [
       "<pre style=\"white-space:pre;overflow-x:auto;line-height:normal;font-family:Menlo,'DejaVu Sans Mono',consolas,'Courier New',monospace\"><span style=\"color: #7fbfbf\">           </span><span style=\"color: #000080\">INFO    </span> INDEX <span style=\"color: #000080; font-weight: bold\">3000</span>: <span style=\"color: #000080; font-weight: bold\">003</span>                                            <a href=\"file:///home/j-gunmo/desktop/00.my-project/17.P-Stage-T1003/4-STAGE/fe/feature.py\"><span style=\"color: #7f7f7f\">feature.py</span></a><span style=\"color: #7f7f7f\">:106</span>\n",
       "</pre>\n"
      ],
      "text/plain": [
       "<rich.jupyter.JupyterRenderable at 0x7f4f27816b50>"
      ]
     },
     "metadata": {},
     "output_type": "display_data"
    },
    {
     "name": "stderr",
     "output_type": "stream",
     "text": [
      "INDEX 4000: 003\n"
     ]
    },
    {
     "data": {
      "text/html": [
       "<pre style=\"white-space:pre;overflow-x:auto;line-height:normal;font-family:Menlo,'DejaVu Sans Mono',consolas,'Courier New',monospace\"><span style=\"color: #7fbfbf\">           </span><span style=\"color: #000080\">INFO    </span> INDEX <span style=\"color: #000080; font-weight: bold\">4000</span>: <span style=\"color: #000080; font-weight: bold\">003</span>                                            <a href=\"file:///home/j-gunmo/desktop/00.my-project/17.P-Stage-T1003/4-STAGE/fe/feature.py\"><span style=\"color: #7f7f7f\">feature.py</span></a><span style=\"color: #7f7f7f\">:106</span>\n",
       "</pre>\n"
      ],
      "text/plain": [
       "<rich.jupyter.JupyterRenderable at 0x7f4f27816ca0>"
      ]
     },
     "metadata": {},
     "output_type": "display_data"
    },
    {
     "name": "stderr",
     "output_type": "stream",
     "text": [
      "INDEX 5000: 001\n"
     ]
    },
    {
     "data": {
      "text/html": [
       "<pre style=\"white-space:pre;overflow-x:auto;line-height:normal;font-family:Menlo,'DejaVu Sans Mono',consolas,'Courier New',monospace\"><span style=\"color: #7fbfbf\">           </span><span style=\"color: #000080\">INFO    </span> INDEX <span style=\"color: #000080; font-weight: bold\">5000</span>: <span style=\"color: #000080; font-weight: bold\">001</span>                                            <a href=\"file:///home/j-gunmo/desktop/00.my-project/17.P-Stage-T1003/4-STAGE/fe/feature.py\"><span style=\"color: #7f7f7f\">feature.py</span></a><span style=\"color: #7f7f7f\">:106</span>\n",
       "</pre>\n"
      ],
      "text/plain": [
       "<rich.jupyter.JupyterRenderable at 0x7f4f27816c40>"
      ]
     },
     "metadata": {},
     "output_type": "display_data"
    },
    {
     "name": "stderr",
     "output_type": "stream",
     "text": [
      "INDEX 6000: 001\n"
     ]
    },
    {
     "data": {
      "text/html": [
       "<pre style=\"white-space:pre;overflow-x:auto;line-height:normal;font-family:Menlo,'DejaVu Sans Mono',consolas,'Courier New',monospace\"><span style=\"color: #7fbfbf\">           </span><span style=\"color: #000080\">INFO    </span> INDEX <span style=\"color: #000080; font-weight: bold\">6000</span>: <span style=\"color: #000080; font-weight: bold\">001</span>                                            <a href=\"file:///home/j-gunmo/desktop/00.my-project/17.P-Stage-T1003/4-STAGE/fe/feature.py\"><span style=\"color: #7f7f7f\">feature.py</span></a><span style=\"color: #7f7f7f\">:106</span>\n",
       "</pre>\n"
      ],
      "text/plain": [
       "<rich.jupyter.JupyterRenderable at 0x7f4f27816400>"
      ]
     },
     "metadata": {},
     "output_type": "display_data"
    },
    {
     "name": "stderr",
     "output_type": "stream",
     "text": [
      "INDEX 7000: 003\n"
     ]
    },
    {
     "data": {
      "text/html": [
       "<pre style=\"white-space:pre;overflow-x:auto;line-height:normal;font-family:Menlo,'DejaVu Sans Mono',consolas,'Courier New',monospace\"><span style=\"color: #7fbfbf\">           </span><span style=\"color: #000080\">INFO    </span> INDEX <span style=\"color: #000080; font-weight: bold\">7000</span>: <span style=\"color: #000080; font-weight: bold\">003</span>                                            <a href=\"file:///home/j-gunmo/desktop/00.my-project/17.P-Stage-T1003/4-STAGE/fe/feature.py\"><span style=\"color: #7f7f7f\">feature.py</span></a><span style=\"color: #7f7f7f\">:106</span>\n",
       "</pre>\n"
      ],
      "text/plain": [
       "<rich.jupyter.JupyterRenderable at 0x7f4f27816ca0>"
      ]
     },
     "metadata": {},
     "output_type": "display_data"
    },
    {
     "name": "stderr",
     "output_type": "stream",
     "text": [
      "INDEX 8000: 006\n"
     ]
    },
    {
     "data": {
      "text/html": [
       "<pre style=\"white-space:pre;overflow-x:auto;line-height:normal;font-family:Menlo,'DejaVu Sans Mono',consolas,'Courier New',monospace\"><span style=\"color: #7fbfbf\">           </span><span style=\"color: #000080\">INFO    </span> INDEX <span style=\"color: #000080; font-weight: bold\">8000</span>: <span style=\"color: #000080; font-weight: bold\">006</span>                                            <a href=\"file:///home/j-gunmo/desktop/00.my-project/17.P-Stage-T1003/4-STAGE/fe/feature.py\"><span style=\"color: #7f7f7f\">feature.py</span></a><span style=\"color: #7f7f7f\">:106</span>\n",
       "</pre>\n"
      ],
      "text/plain": [
       "<rich.jupyter.JupyterRenderable at 0x7f4f27816ac0>"
      ]
     },
     "metadata": {},
     "output_type": "display_data"
    },
    {
     "name": "stderr",
     "output_type": "stream",
     "text": [
      "INDEX 9000: 004\n"
     ]
    },
    {
     "data": {
      "text/html": [
       "<pre style=\"white-space:pre;overflow-x:auto;line-height:normal;font-family:Menlo,'DejaVu Sans Mono',consolas,'Courier New',monospace\"><span style=\"color: #7fbfbf\">           </span><span style=\"color: #000080\">INFO    </span> INDEX <span style=\"color: #000080; font-weight: bold\">9000</span>: <span style=\"color: #000080; font-weight: bold\">004</span>                                            <a href=\"file:///home/j-gunmo/desktop/00.my-project/17.P-Stage-T1003/4-STAGE/fe/feature.py\"><span style=\"color: #7f7f7f\">feature.py</span></a><span style=\"color: #7f7f7f\">:106</span>\n",
       "</pre>\n"
      ],
      "text/plain": [
       "<rich.jupyter.JupyterRenderable at 0x7f4f27816b50>"
      ]
     },
     "metadata": {},
     "output_type": "display_data"
    },
    {
     "name": "stderr",
     "output_type": "stream",
     "text": [
      "\n",
      "Feature Engineering Name: convert_time\n"
     ]
    },
    {
     "name": "stdout",
     "output_type": "stream",
     "text": [
      "load features /home/j-gunmo/features/test_convert_time.pkl to dataframe ... \n"
     ]
    },
    {
     "data": {
      "text/html": [
       "<pre style=\"white-space:pre;overflow-x:auto;line-height:normal;font-family:Menlo,'DejaVu Sans Mono',consolas,'Courier New',monospace\"><span style=\"color: #7fbfbf\">[10:06:05] </span><span style=\"color: #000080\">INFO    </span>                                                             <a href=\"file:///home/j-gunmo/desktop/00.my-project/17.P-Stage-T1003/4-STAGE/fe/feature.py\"><span style=\"color: #7f7f7f\">feature.py</span></a><span style=\"color: #7f7f7f\">:98</span>\n",
       "                    Feature Engineering Name: convert_time                                   \n",
       "</pre>\n"
      ],
      "text/plain": [
       "<rich.jupyter.JupyterRenderable at 0x7f500417e700>"
      ]
     },
     "metadata": {},
     "output_type": "display_data"
    },
    {
     "name": "stderr",
     "output_type": "stream",
     "text": [
      "\n",
      "timeSec         : 사용자가 문항을 푼 타임스태프 정보입니다.\n"
     ]
    },
    {
     "data": {
      "text/html": [
       "<pre style=\"white-space:pre;overflow-x:auto;line-height:normal;font-family:Menlo,'DejaVu Sans Mono',consolas,'Courier New',monospace\"><span style=\"color: #7fbfbf\">           </span><span style=\"color: #000080\">INFO    </span>                                                            <a href=\"file:///home/j-gunmo/desktop/00.my-project/17.P-Stage-T1003/4-STAGE/fe/feature.py\"><span style=\"color: #7f7f7f\">feature.py</span></a><span style=\"color: #7f7f7f\">:101</span>\n",
       "                    timeSec         : 사용자가 문항을 푼 타임스태프                          \n",
       "                    정보입니다.                                                              \n",
       "</pre>\n"
      ],
      "text/plain": [
       "<rich.jupyter.JupyterRenderable at 0x7f4f27861eb0>"
      ]
     },
     "metadata": {},
     "output_type": "display_data"
    },
    {
     "name": "stderr",
     "output_type": "stream",
     "text": [
      "dtype: int64\n"
     ]
    },
    {
     "data": {
      "text/html": [
       "<pre style=\"white-space:pre;overflow-x:auto;line-height:normal;font-family:Menlo,'DejaVu Sans Mono',consolas,'Courier New',monospace\"><span style=\"color: #7fbfbf\">           </span><span style=\"color: #000080\">INFO    </span> dtype: int64                                               <a href=\"file:///home/j-gunmo/desktop/00.my-project/17.P-Stage-T1003/4-STAGE/fe/feature.py\"><span style=\"color: #7f7f7f\">feature.py</span></a><span style=\"color: #7f7f7f\">:102</span>\n",
       "</pre>\n"
      ],
      "text/plain": [
       "<rich.jupyter.JupyterRenderable at 0x7f4f27816b80>"
      ]
     },
     "metadata": {},
     "output_type": "display_data"
    },
    {
     "name": "stderr",
     "output_type": "stream",
     "text": [
      "[Examples]\n"
     ]
    },
    {
     "data": {
      "text/html": [
       "<pre style=\"white-space:pre;overflow-x:auto;line-height:normal;font-family:Menlo,'DejaVu Sans Mono',consolas,'Courier New',monospace\"><span style=\"color: #7fbfbf\">           </span><span style=\"color: #000080\">INFO    </span> <span style=\"font-weight: bold\">[</span>Examples<span style=\"font-weight: bold\">]</span>                                                 <a href=\"file:///home/j-gunmo/desktop/00.my-project/17.P-Stage-T1003/4-STAGE/fe/feature.py\"><span style=\"color: #7f7f7f\">feature.py</span></a><span style=\"color: #7f7f7f\">:103</span>\n",
       "</pre>\n"
      ],
      "text/plain": [
       "<rich.jupyter.JupyterRenderable at 0x7f4f27816970>"
      ]
     },
     "metadata": {},
     "output_type": "display_data"
    },
    {
     "name": "stderr",
     "output_type": "stream",
     "text": [
      "INDEX 0000: 1578534991\n"
     ]
    },
    {
     "data": {
      "text/html": [
       "<pre style=\"white-space:pre;overflow-x:auto;line-height:normal;font-family:Menlo,'DejaVu Sans Mono',consolas,'Courier New',monospace\"><span style=\"color: #7fbfbf\">           </span><span style=\"color: #000080\">INFO    </span> INDEX <span style=\"color: #000080; font-weight: bold\">0000</span>: <span style=\"color: #000080; font-weight: bold\">1578534991</span>                                     <a href=\"file:///home/j-gunmo/desktop/00.my-project/17.P-Stage-T1003/4-STAGE/fe/feature.py\"><span style=\"color: #7f7f7f\">feature.py</span></a><span style=\"color: #7f7f7f\">:106</span>\n",
       "</pre>\n"
      ],
      "text/plain": [
       "<rich.jupyter.JupyterRenderable at 0x7f4f27816b80>"
      ]
     },
     "metadata": {},
     "output_type": "display_data"
    },
    {
     "name": "stderr",
     "output_type": "stream",
     "text": [
      "INDEX 1000: 1582080021\n"
     ]
    },
    {
     "data": {
      "text/html": [
       "<pre style=\"white-space:pre;overflow-x:auto;line-height:normal;font-family:Menlo,'DejaVu Sans Mono',consolas,'Courier New',monospace\"><span style=\"color: #7fbfbf\">           </span><span style=\"color: #000080\">INFO    </span> INDEX <span style=\"color: #000080; font-weight: bold\">1000</span>: <span style=\"color: #000080; font-weight: bold\">1582080021</span>                                     <a href=\"file:///home/j-gunmo/desktop/00.my-project/17.P-Stage-T1003/4-STAGE/fe/feature.py\"><span style=\"color: #7f7f7f\">feature.py</span></a><span style=\"color: #7f7f7f\">:106</span>\n",
       "</pre>\n"
      ],
      "text/plain": [
       "<rich.jupyter.JupyterRenderable at 0x7f4f27816a30>"
      ]
     },
     "metadata": {},
     "output_type": "display_data"
    },
    {
     "name": "stderr",
     "output_type": "stream",
     "text": [
      "INDEX 2000: 1583876850\n"
     ]
    },
    {
     "data": {
      "text/html": [
       "<pre style=\"white-space:pre;overflow-x:auto;line-height:normal;font-family:Menlo,'DejaVu Sans Mono',consolas,'Courier New',monospace\"><span style=\"color: #7fbfbf\">           </span><span style=\"color: #000080\">INFO    </span> INDEX <span style=\"color: #000080; font-weight: bold\">2000</span>: <span style=\"color: #000080; font-weight: bold\">1583876850</span>                                     <a href=\"file:///home/j-gunmo/desktop/00.my-project/17.P-Stage-T1003/4-STAGE/fe/feature.py\"><span style=\"color: #7f7f7f\">feature.py</span></a><span style=\"color: #7f7f7f\">:106</span>\n",
       "</pre>\n"
      ],
      "text/plain": [
       "<rich.jupyter.JupyterRenderable at 0x7f4f27816670>"
      ]
     },
     "metadata": {},
     "output_type": "display_data"
    },
    {
     "name": "stderr",
     "output_type": "stream",
     "text": [
      "INDEX 3000: 1586022801\n"
     ]
    },
    {
     "data": {
      "text/html": [
       "<pre style=\"white-space:pre;overflow-x:auto;line-height:normal;font-family:Menlo,'DejaVu Sans Mono',consolas,'Courier New',monospace\"><span style=\"color: #7fbfbf\">           </span><span style=\"color: #000080\">INFO    </span> INDEX <span style=\"color: #000080; font-weight: bold\">3000</span>: <span style=\"color: #000080; font-weight: bold\">1586022801</span>                                     <a href=\"file:///home/j-gunmo/desktop/00.my-project/17.P-Stage-T1003/4-STAGE/fe/feature.py\"><span style=\"color: #7f7f7f\">feature.py</span></a><span style=\"color: #7f7f7f\">:106</span>\n",
       "</pre>\n"
      ],
      "text/plain": [
       "<rich.jupyter.JupyterRenderable at 0x7f4f27816b80>"
      ]
     },
     "metadata": {},
     "output_type": "display_data"
    },
    {
     "name": "stderr",
     "output_type": "stream",
     "text": [
      "INDEX 4000: 1588743149\n"
     ]
    },
    {
     "data": {
      "text/html": [
       "<pre style=\"white-space:pre;overflow-x:auto;line-height:normal;font-family:Menlo,'DejaVu Sans Mono',consolas,'Courier New',monospace\"><span style=\"color: #7fbfbf\">           </span><span style=\"color: #000080\">INFO    </span> INDEX <span style=\"color: #000080; font-weight: bold\">4000</span>: <span style=\"color: #000080; font-weight: bold\">1588743149</span>                                     <a href=\"file:///home/j-gunmo/desktop/00.my-project/17.P-Stage-T1003/4-STAGE/fe/feature.py\"><span style=\"color: #7f7f7f\">feature.py</span></a><span style=\"color: #7f7f7f\">:106</span>\n",
       "</pre>\n"
      ],
      "text/plain": [
       "<rich.jupyter.JupyterRenderable at 0x7f4f27816820>"
      ]
     },
     "metadata": {},
     "output_type": "display_data"
    },
    {
     "name": "stderr",
     "output_type": "stream",
     "text": [
      "INDEX 5000: 1591764737\n"
     ]
    },
    {
     "data": {
      "text/html": [
       "<pre style=\"white-space:pre;overflow-x:auto;line-height:normal;font-family:Menlo,'DejaVu Sans Mono',consolas,'Courier New',monospace\"><span style=\"color: #7fbfbf\">           </span><span style=\"color: #000080\">INFO    </span> INDEX <span style=\"color: #000080; font-weight: bold\">5000</span>: <span style=\"color: #000080; font-weight: bold\">1591764737</span>                                     <a href=\"file:///home/j-gunmo/desktop/00.my-project/17.P-Stage-T1003/4-STAGE/fe/feature.py\"><span style=\"color: #7f7f7f\">feature.py</span></a><span style=\"color: #7f7f7f\">:106</span>\n",
       "</pre>\n"
      ],
      "text/plain": [
       "<rich.jupyter.JupyterRenderable at 0x7f4f278165e0>"
      ]
     },
     "metadata": {},
     "output_type": "display_data"
    },
    {
     "name": "stderr",
     "output_type": "stream",
     "text": [
      "INDEX 6000: 1594353821\n"
     ]
    },
    {
     "data": {
      "text/html": [
       "<pre style=\"white-space:pre;overflow-x:auto;line-height:normal;font-family:Menlo,'DejaVu Sans Mono',consolas,'Courier New',monospace\"><span style=\"color: #7fbfbf\">           </span><span style=\"color: #000080\">INFO    </span> INDEX <span style=\"color: #000080; font-weight: bold\">6000</span>: <span style=\"color: #000080; font-weight: bold\">1594353821</span>                                     <a href=\"file:///home/j-gunmo/desktop/00.my-project/17.P-Stage-T1003/4-STAGE/fe/feature.py\"><span style=\"color: #7f7f7f\">feature.py</span></a><span style=\"color: #7f7f7f\">:106</span>\n",
       "</pre>\n"
      ],
      "text/plain": [
       "<rich.jupyter.JupyterRenderable at 0x7f4f27816670>"
      ]
     },
     "metadata": {},
     "output_type": "display_data"
    },
    {
     "name": "stderr",
     "output_type": "stream",
     "text": [
      "INDEX 7000: 1595904396\n"
     ]
    },
    {
     "data": {
      "text/html": [
       "<pre style=\"white-space:pre;overflow-x:auto;line-height:normal;font-family:Menlo,'DejaVu Sans Mono',consolas,'Courier New',monospace\"><span style=\"color: #7fbfbf\">           </span><span style=\"color: #000080\">INFO    </span> INDEX <span style=\"color: #000080; font-weight: bold\">7000</span>: <span style=\"color: #000080; font-weight: bold\">1595904396</span>                                     <a href=\"file:///home/j-gunmo/desktop/00.my-project/17.P-Stage-T1003/4-STAGE/fe/feature.py\"><span style=\"color: #7f7f7f\">feature.py</span></a><span style=\"color: #7f7f7f\">:106</span>\n",
       "</pre>\n"
      ],
      "text/plain": [
       "<rich.jupyter.JupyterRenderable at 0x7f4f27816b80>"
      ]
     },
     "metadata": {},
     "output_type": "display_data"
    },
    {
     "name": "stderr",
     "output_type": "stream",
     "text": [
      "INDEX 8000: 1597130998\n"
     ]
    },
    {
     "data": {
      "text/html": [
       "<pre style=\"white-space:pre;overflow-x:auto;line-height:normal;font-family:Menlo,'DejaVu Sans Mono',consolas,'Courier New',monospace\"><span style=\"color: #7fbfbf\">           </span><span style=\"color: #000080\">INFO    </span> INDEX <span style=\"color: #000080; font-weight: bold\">8000</span>: <span style=\"color: #000080; font-weight: bold\">1597130998</span>                                     <a href=\"file:///home/j-gunmo/desktop/00.my-project/17.P-Stage-T1003/4-STAGE/fe/feature.py\"><span style=\"color: #7f7f7f\">feature.py</span></a><span style=\"color: #7f7f7f\">:106</span>\n",
       "</pre>\n"
      ],
      "text/plain": [
       "<rich.jupyter.JupyterRenderable at 0x7f4f278168b0>"
      ]
     },
     "metadata": {},
     "output_type": "display_data"
    },
    {
     "name": "stderr",
     "output_type": "stream",
     "text": [
      "INDEX 9000: 1599087082\n"
     ]
    },
    {
     "data": {
      "text/html": [
       "<pre style=\"white-space:pre;overflow-x:auto;line-height:normal;font-family:Menlo,'DejaVu Sans Mono',consolas,'Courier New',monospace\"><span style=\"color: #7fbfbf\">           </span><span style=\"color: #000080\">INFO    </span> INDEX <span style=\"color: #000080; font-weight: bold\">9000</span>: <span style=\"color: #000080; font-weight: bold\">1599087082</span>                                     <a href=\"file:///home/j-gunmo/desktop/00.my-project/17.P-Stage-T1003/4-STAGE/fe/feature.py\"><span style=\"color: #7f7f7f\">feature.py</span></a><span style=\"color: #7f7f7f\">:106</span>\n",
       "</pre>\n"
      ],
      "text/plain": [
       "<rich.jupyter.JupyterRenderable at 0x7f4f27816880>"
      ]
     },
     "metadata": {},
     "output_type": "display_data"
    },
    {
     "name": "stdout",
     "output_type": "stream",
     "text": [
      "load features /home/j-gunmo/features/test_make_first_class.pkl to dataframe ... \n"
     ]
    },
    {
     "name": "stderr",
     "output_type": "stream",
     "text": [
      "\n",
      "Feature Engineering Name: make_first_class\n"
     ]
    },
    {
     "data": {
      "text/html": [
       "<pre style=\"white-space:pre;overflow-x:auto;line-height:normal;font-family:Menlo,'DejaVu Sans Mono',consolas,'Courier New',monospace\"><span style=\"color: #7fbfbf\">           </span><span style=\"color: #000080\">INFO    </span>                                                             <a href=\"file:///home/j-gunmo/desktop/00.my-project/17.P-Stage-T1003/4-STAGE/fe/feature.py\"><span style=\"color: #7f7f7f\">feature.py</span></a><span style=\"color: #7f7f7f\">:98</span>\n",
       "                    Feature Engineering Name: make_first_class                               \n",
       "</pre>\n"
      ],
      "text/plain": [
       "<rich.jupyter.JupyterRenderable at 0x7f4f27816610>"
      ]
     },
     "metadata": {},
     "output_type": "display_data"
    },
    {
     "name": "stderr",
     "output_type": "stream",
     "text": [
      "\n",
      "firstClass      : 대분류에 해당합니다.\n"
     ]
    },
    {
     "data": {
      "text/html": [
       "<pre style=\"white-space:pre;overflow-x:auto;line-height:normal;font-family:Menlo,'DejaVu Sans Mono',consolas,'Courier New',monospace\"><span style=\"color: #7fbfbf\">           </span><span style=\"color: #000080\">INFO    </span>                                                            <a href=\"file:///home/j-gunmo/desktop/00.my-project/17.P-Stage-T1003/4-STAGE/fe/feature.py\"><span style=\"color: #7f7f7f\">feature.py</span></a><span style=\"color: #7f7f7f\">:101</span>\n",
       "                    firstClass      : 대분류에 해당합니다.                                   \n",
       "</pre>\n"
      ],
      "text/plain": [
       "<rich.jupyter.JupyterRenderable at 0x7f4f27816c70>"
      ]
     },
     "metadata": {},
     "output_type": "display_data"
    },
    {
     "name": "stderr",
     "output_type": "stream",
     "text": [
      "dtype: object\n"
     ]
    },
    {
     "data": {
      "text/html": [
       "<pre style=\"white-space:pre;overflow-x:auto;line-height:normal;font-family:Menlo,'DejaVu Sans Mono',consolas,'Courier New',monospace\"><span style=\"color: #7fbfbf\">           </span><span style=\"color: #000080\">INFO    </span> dtype: object                                              <a href=\"file:///home/j-gunmo/desktop/00.my-project/17.P-Stage-T1003/4-STAGE/fe/feature.py\"><span style=\"color: #7f7f7f\">feature.py</span></a><span style=\"color: #7f7f7f\">:102</span>\n",
       "</pre>\n"
      ],
      "text/plain": [
       "<rich.jupyter.JupyterRenderable at 0x7f4f278166d0>"
      ]
     },
     "metadata": {},
     "output_type": "display_data"
    },
    {
     "name": "stderr",
     "output_type": "stream",
     "text": [
      "[Examples]\n"
     ]
    },
    {
     "data": {
      "text/html": [
       "<pre style=\"white-space:pre;overflow-x:auto;line-height:normal;font-family:Menlo,'DejaVu Sans Mono',consolas,'Courier New',monospace\"><span style=\"color: #7fbfbf\">           </span><span style=\"color: #000080\">INFO    </span> <span style=\"font-weight: bold\">[</span>Examples<span style=\"font-weight: bold\">]</span>                                                 <a href=\"file:///home/j-gunmo/desktop/00.my-project/17.P-Stage-T1003/4-STAGE/fe/feature.py\"><span style=\"color: #7f7f7f\">feature.py</span></a><span style=\"color: #7f7f7f\">:103</span>\n",
       "</pre>\n"
      ],
      "text/plain": [
       "<rich.jupyter.JupyterRenderable at 0x7f4f27816c10>"
      ]
     },
     "metadata": {},
     "output_type": "display_data"
    },
    {
     "name": "stderr",
     "output_type": "stream",
     "text": [
      "INDEX 0000: 5\n"
     ]
    },
    {
     "data": {
      "text/html": [
       "<pre style=\"white-space:pre;overflow-x:auto;line-height:normal;font-family:Menlo,'DejaVu Sans Mono',consolas,'Courier New',monospace\"><span style=\"color: #7fbfbf\">           </span><span style=\"color: #000080\">INFO    </span> INDEX <span style=\"color: #000080; font-weight: bold\">0000</span>: <span style=\"color: #000080; font-weight: bold\">5</span>                                              <a href=\"file:///home/j-gunmo/desktop/00.my-project/17.P-Stage-T1003/4-STAGE/fe/feature.py\"><span style=\"color: #7f7f7f\">feature.py</span></a><span style=\"color: #7f7f7f\">:106</span>\n",
       "</pre>\n"
      ],
      "text/plain": [
       "<rich.jupyter.JupyterRenderable at 0x7f4f27816df0>"
      ]
     },
     "metadata": {},
     "output_type": "display_data"
    },
    {
     "name": "stderr",
     "output_type": "stream",
     "text": [
      "INDEX 1000: 2\n"
     ]
    },
    {
     "data": {
      "text/html": [
       "<pre style=\"white-space:pre;overflow-x:auto;line-height:normal;font-family:Menlo,'DejaVu Sans Mono',consolas,'Courier New',monospace\"><span style=\"color: #7fbfbf\">           </span><span style=\"color: #000080\">INFO    </span> INDEX <span style=\"color: #000080; font-weight: bold\">1000</span>: <span style=\"color: #000080; font-weight: bold\">2</span>                                              <a href=\"file:///home/j-gunmo/desktop/00.my-project/17.P-Stage-T1003/4-STAGE/fe/feature.py\"><span style=\"color: #7f7f7f\">feature.py</span></a><span style=\"color: #7f7f7f\">:106</span>\n",
       "</pre>\n"
      ],
      "text/plain": [
       "<rich.jupyter.JupyterRenderable at 0x7f4f27816d30>"
      ]
     },
     "metadata": {},
     "output_type": "display_data"
    },
    {
     "name": "stderr",
     "output_type": "stream",
     "text": [
      "INDEX 2000: 5\n"
     ]
    },
    {
     "data": {
      "text/html": [
       "<pre style=\"white-space:pre;overflow-x:auto;line-height:normal;font-family:Menlo,'DejaVu Sans Mono',consolas,'Courier New',monospace\"><span style=\"color: #7fbfbf\">           </span><span style=\"color: #000080\">INFO    </span> INDEX <span style=\"color: #000080; font-weight: bold\">2000</span>: <span style=\"color: #000080; font-weight: bold\">5</span>                                              <a href=\"file:///home/j-gunmo/desktop/00.my-project/17.P-Stage-T1003/4-STAGE/fe/feature.py\"><span style=\"color: #7f7f7f\">feature.py</span></a><span style=\"color: #7f7f7f\">:106</span>\n",
       "</pre>\n"
      ],
      "text/plain": [
       "<rich.jupyter.JupyterRenderable at 0x7f4f278169a0>"
      ]
     },
     "metadata": {},
     "output_type": "display_data"
    },
    {
     "name": "stderr",
     "output_type": "stream",
     "text": [
      "INDEX 3000: 2\n"
     ]
    },
    {
     "data": {
      "text/html": [
       "<pre style=\"white-space:pre;overflow-x:auto;line-height:normal;font-family:Menlo,'DejaVu Sans Mono',consolas,'Courier New',monospace\"><span style=\"color: #7fbfbf\">           </span><span style=\"color: #000080\">INFO    </span> INDEX <span style=\"color: #000080; font-weight: bold\">3000</span>: <span style=\"color: #000080; font-weight: bold\">2</span>                                              <a href=\"file:///home/j-gunmo/desktop/00.my-project/17.P-Stage-T1003/4-STAGE/fe/feature.py\"><span style=\"color: #7f7f7f\">feature.py</span></a><span style=\"color: #7f7f7f\">:106</span>\n",
       "</pre>\n"
      ],
      "text/plain": [
       "<rich.jupyter.JupyterRenderable at 0x7f4f278169d0>"
      ]
     },
     "metadata": {},
     "output_type": "display_data"
    },
    {
     "name": "stderr",
     "output_type": "stream",
     "text": [
      "INDEX 4000: 5\n"
     ]
    },
    {
     "data": {
      "text/html": [
       "<pre style=\"white-space:pre;overflow-x:auto;line-height:normal;font-family:Menlo,'DejaVu Sans Mono',consolas,'Courier New',monospace\"><span style=\"color: #7fbfbf\">           </span><span style=\"color: #000080\">INFO    </span> INDEX <span style=\"color: #000080; font-weight: bold\">4000</span>: <span style=\"color: #000080; font-weight: bold\">5</span>                                              <a href=\"file:///home/j-gunmo/desktop/00.my-project/17.P-Stage-T1003/4-STAGE/fe/feature.py\"><span style=\"color: #7f7f7f\">feature.py</span></a><span style=\"color: #7f7f7f\">:106</span>\n",
       "</pre>\n"
      ],
      "text/plain": [
       "<rich.jupyter.JupyterRenderable at 0x7f4f27816c10>"
      ]
     },
     "metadata": {},
     "output_type": "display_data"
    },
    {
     "name": "stderr",
     "output_type": "stream",
     "text": [
      "INDEX 5000: 5\n"
     ]
    },
    {
     "data": {
      "text/html": [
       "<pre style=\"white-space:pre;overflow-x:auto;line-height:normal;font-family:Menlo,'DejaVu Sans Mono',consolas,'Courier New',monospace\"><span style=\"color: #7fbfbf\">           </span><span style=\"color: #000080\">INFO    </span> INDEX <span style=\"color: #000080; font-weight: bold\">5000</span>: <span style=\"color: #000080; font-weight: bold\">5</span>                                              <a href=\"file:///home/j-gunmo/desktop/00.my-project/17.P-Stage-T1003/4-STAGE/fe/feature.py\"><span style=\"color: #7f7f7f\">feature.py</span></a><span style=\"color: #7f7f7f\">:106</span>\n",
       "</pre>\n"
      ],
      "text/plain": [
       "<rich.jupyter.JupyterRenderable at 0x7f4f27816ca0>"
      ]
     },
     "metadata": {},
     "output_type": "display_data"
    },
    {
     "name": "stderr",
     "output_type": "stream",
     "text": [
      "INDEX 6000: 5\n"
     ]
    },
    {
     "data": {
      "text/html": [
       "<pre style=\"white-space:pre;overflow-x:auto;line-height:normal;font-family:Menlo,'DejaVu Sans Mono',consolas,'Courier New',monospace\"><span style=\"color: #7fbfbf\">           </span><span style=\"color: #000080\">INFO    </span> INDEX <span style=\"color: #000080; font-weight: bold\">6000</span>: <span style=\"color: #000080; font-weight: bold\">5</span>                                              <a href=\"file:///home/j-gunmo/desktop/00.my-project/17.P-Stage-T1003/4-STAGE/fe/feature.py\"><span style=\"color: #7f7f7f\">feature.py</span></a><span style=\"color: #7f7f7f\">:106</span>\n",
       "</pre>\n"
      ],
      "text/plain": [
       "<rich.jupyter.JupyterRenderable at 0x7f4f27816af0>"
      ]
     },
     "metadata": {},
     "output_type": "display_data"
    },
    {
     "name": "stderr",
     "output_type": "stream",
     "text": [
      "INDEX 7000: 5\n"
     ]
    },
    {
     "data": {
      "text/html": [
       "<pre style=\"white-space:pre;overflow-x:auto;line-height:normal;font-family:Menlo,'DejaVu Sans Mono',consolas,'Courier New',monospace\"><span style=\"color: #7fbfbf\">           </span><span style=\"color: #000080\">INFO    </span> INDEX <span style=\"color: #000080; font-weight: bold\">7000</span>: <span style=\"color: #000080; font-weight: bold\">5</span>                                              <a href=\"file:///home/j-gunmo/desktop/00.my-project/17.P-Stage-T1003/4-STAGE/fe/feature.py\"><span style=\"color: #7f7f7f\">feature.py</span></a><span style=\"color: #7f7f7f\">:106</span>\n",
       "</pre>\n"
      ],
      "text/plain": [
       "<rich.jupyter.JupyterRenderable at 0x7f4f27816c70>"
      ]
     },
     "metadata": {},
     "output_type": "display_data"
    },
    {
     "name": "stderr",
     "output_type": "stream",
     "text": [
      "INDEX 8000: 5\n"
     ]
    },
    {
     "data": {
      "text/html": [
       "<pre style=\"white-space:pre;overflow-x:auto;line-height:normal;font-family:Menlo,'DejaVu Sans Mono',consolas,'Courier New',monospace\"><span style=\"color: #7fbfbf\">           </span><span style=\"color: #000080\">INFO    </span> INDEX <span style=\"color: #000080; font-weight: bold\">8000</span>: <span style=\"color: #000080; font-weight: bold\">5</span>                                              <a href=\"file:///home/j-gunmo/desktop/00.my-project/17.P-Stage-T1003/4-STAGE/fe/feature.py\"><span style=\"color: #7f7f7f\">feature.py</span></a><span style=\"color: #7f7f7f\">:106</span>\n",
       "</pre>\n"
      ],
      "text/plain": [
       "<rich.jupyter.JupyterRenderable at 0x7f4f27816100>"
      ]
     },
     "metadata": {},
     "output_type": "display_data"
    },
    {
     "name": "stderr",
     "output_type": "stream",
     "text": [
      "INDEX 9000: 5\n"
     ]
    },
    {
     "data": {
      "text/html": [
       "<pre style=\"white-space:pre;overflow-x:auto;line-height:normal;font-family:Menlo,'DejaVu Sans Mono',consolas,'Courier New',monospace\"><span style=\"color: #7fbfbf\">           </span><span style=\"color: #000080\">INFO    </span> INDEX <span style=\"color: #000080; font-weight: bold\">9000</span>: <span style=\"color: #000080; font-weight: bold\">5</span>                                              <a href=\"file:///home/j-gunmo/desktop/00.my-project/17.P-Stage-T1003/4-STAGE/fe/feature.py\"><span style=\"color: #7f7f7f\">feature.py</span></a><span style=\"color: #7f7f7f\">:106</span>\n",
       "</pre>\n"
      ],
      "text/plain": [
       "<rich.jupyter.JupyterRenderable at 0x7f4f27816c40>"
      ]
     },
     "metadata": {},
     "output_type": "display_data"
    },
    {
     "name": "stdout",
     "output_type": "stream",
     "text": [
      "load features /home/j-gunmo/features/test_make_second_class.pkl to dataframe ... \n"
     ]
    },
    {
     "name": "stderr",
     "output_type": "stream",
     "text": [
      "\n",
      "Feature Engineering Name: make_second_class\n"
     ]
    },
    {
     "data": {
      "text/html": [
       "<pre style=\"white-space:pre;overflow-x:auto;line-height:normal;font-family:Menlo,'DejaVu Sans Mono',consolas,'Courier New',monospace\"><span style=\"color: #7fbfbf\">           </span><span style=\"color: #000080\">INFO    </span>                                                             <a href=\"file:///home/j-gunmo/desktop/00.my-project/17.P-Stage-T1003/4-STAGE/fe/feature.py\"><span style=\"color: #7f7f7f\">feature.py</span></a><span style=\"color: #7f7f7f\">:98</span>\n",
       "                    Feature Engineering Name: make_second_class                              \n",
       "</pre>\n"
      ],
      "text/plain": [
       "<rich.jupyter.JupyterRenderable at 0x7f50041832b0>"
      ]
     },
     "metadata": {},
     "output_type": "display_data"
    },
    {
     "name": "stderr",
     "output_type": "stream",
     "text": [
      "\n",
      "secondClass     : 중분류에 해당합니다.\n"
     ]
    },
    {
     "data": {
      "text/html": [
       "<pre style=\"white-space:pre;overflow-x:auto;line-height:normal;font-family:Menlo,'DejaVu Sans Mono',consolas,'Courier New',monospace\"><span style=\"color: #7fbfbf\">           </span><span style=\"color: #000080\">INFO    </span>                                                            <a href=\"file:///home/j-gunmo/desktop/00.my-project/17.P-Stage-T1003/4-STAGE/fe/feature.py\"><span style=\"color: #7f7f7f\">feature.py</span></a><span style=\"color: #7f7f7f\">:101</span>\n",
       "                    secondClass     : 중분류에 해당합니다.                                   \n",
       "</pre>\n"
      ],
      "text/plain": [
       "<rich.jupyter.JupyterRenderable at 0x7f500417e820>"
      ]
     },
     "metadata": {},
     "output_type": "display_data"
    },
    {
     "name": "stderr",
     "output_type": "stream",
     "text": [
      "dtype: object\n"
     ]
    },
    {
     "data": {
      "text/html": [
       "<pre style=\"white-space:pre;overflow-x:auto;line-height:normal;font-family:Menlo,'DejaVu Sans Mono',consolas,'Courier New',monospace\"><span style=\"color: #7fbfbf\">           </span><span style=\"color: #000080\">INFO    </span> dtype: object                                              <a href=\"file:///home/j-gunmo/desktop/00.my-project/17.P-Stage-T1003/4-STAGE/fe/feature.py\"><span style=\"color: #7f7f7f\">feature.py</span></a><span style=\"color: #7f7f7f\">:102</span>\n",
       "</pre>\n"
      ],
      "text/plain": [
       "<rich.jupyter.JupyterRenderable at 0x7f4f27816580>"
      ]
     },
     "metadata": {},
     "output_type": "display_data"
    },
    {
     "name": "stderr",
     "output_type": "stream",
     "text": [
      "[Examples]\n"
     ]
    },
    {
     "data": {
      "text/html": [
       "<pre style=\"white-space:pre;overflow-x:auto;line-height:normal;font-family:Menlo,'DejaVu Sans Mono',consolas,'Courier New',monospace\"><span style=\"color: #7fbfbf\">           </span><span style=\"color: #000080\">INFO    </span> <span style=\"font-weight: bold\">[</span>Examples<span style=\"font-weight: bold\">]</span>                                                 <a href=\"file:///home/j-gunmo/desktop/00.my-project/17.P-Stage-T1003/4-STAGE/fe/feature.py\"><span style=\"color: #7f7f7f\">feature.py</span></a><span style=\"color: #7f7f7f\">:103</span>\n",
       "</pre>\n"
      ],
      "text/plain": [
       "<rich.jupyter.JupyterRenderable at 0x7f4f27816910>"
      ]
     },
     "metadata": {},
     "output_type": "display_data"
    },
    {
     "name": "stderr",
     "output_type": "stream",
     "text": [
      "INDEX 0000: 2626\n"
     ]
    },
    {
     "data": {
      "text/html": [
       "<pre style=\"white-space:pre;overflow-x:auto;line-height:normal;font-family:Menlo,'DejaVu Sans Mono',consolas,'Courier New',monospace\"><span style=\"color: #7fbfbf\">           </span><span style=\"color: #000080\">INFO    </span> INDEX <span style=\"color: #000080; font-weight: bold\">0000</span>: <span style=\"color: #000080; font-weight: bold\">2626</span>                                           <a href=\"file:///home/j-gunmo/desktop/00.my-project/17.P-Stage-T1003/4-STAGE/fe/feature.py\"><span style=\"color: #7f7f7f\">feature.py</span></a><span style=\"color: #7f7f7f\">:106</span>\n",
       "</pre>\n"
      ],
      "text/plain": [
       "<rich.jupyter.JupyterRenderable at 0x7f4f27816790>"
      ]
     },
     "metadata": {},
     "output_type": "display_data"
    },
    {
     "name": "stderr",
     "output_type": "stream",
     "text": [
      "INDEX 1000: 7693\n"
     ]
    },
    {
     "data": {
      "text/html": [
       "<pre style=\"white-space:pre;overflow-x:auto;line-height:normal;font-family:Menlo,'DejaVu Sans Mono',consolas,'Courier New',monospace\"><span style=\"color: #7fbfbf\">           </span><span style=\"color: #000080\">INFO    </span> INDEX <span style=\"color: #000080; font-weight: bold\">1000</span>: <span style=\"color: #000080; font-weight: bold\">7693</span>                                           <a href=\"file:///home/j-gunmo/desktop/00.my-project/17.P-Stage-T1003/4-STAGE/fe/feature.py\"><span style=\"color: #7f7f7f\">feature.py</span></a><span style=\"color: #7f7f7f\">:106</span>\n",
       "</pre>\n"
      ],
      "text/plain": [
       "<rich.jupyter.JupyterRenderable at 0x7f4f27816b50>"
      ]
     },
     "metadata": {},
     "output_type": "display_data"
    },
    {
     "name": "stderr",
     "output_type": "stream",
     "text": [
      "INDEX 2000: 2617\n"
     ]
    },
    {
     "data": {
      "text/html": [
       "<pre style=\"white-space:pre;overflow-x:auto;line-height:normal;font-family:Menlo,'DejaVu Sans Mono',consolas,'Courier New',monospace\"><span style=\"color: #7fbfbf\">           </span><span style=\"color: #000080\">INFO    </span> INDEX <span style=\"color: #000080; font-weight: bold\">2000</span>: <span style=\"color: #000080; font-weight: bold\">2617</span>                                           <a href=\"file:///home/j-gunmo/desktop/00.my-project/17.P-Stage-T1003/4-STAGE/fe/feature.py\"><span style=\"color: #7f7f7f\">feature.py</span></a><span style=\"color: #7f7f7f\">:106</span>\n",
       "</pre>\n"
      ],
      "text/plain": [
       "<rich.jupyter.JupyterRenderable at 0x7f4f27816730>"
      ]
     },
     "metadata": {},
     "output_type": "display_data"
    },
    {
     "name": "stderr",
     "output_type": "stream",
     "text": [
      "INDEX 3000: 7924\n"
     ]
    },
    {
     "data": {
      "text/html": [
       "<pre style=\"white-space:pre;overflow-x:auto;line-height:normal;font-family:Menlo,'DejaVu Sans Mono',consolas,'Courier New',monospace\"><span style=\"color: #7fbfbf\">           </span><span style=\"color: #000080\">INFO    </span> INDEX <span style=\"color: #000080; font-weight: bold\">3000</span>: <span style=\"color: #000080; font-weight: bold\">7924</span>                                           <a href=\"file:///home/j-gunmo/desktop/00.my-project/17.P-Stage-T1003/4-STAGE/fe/feature.py\"><span style=\"color: #7f7f7f\">feature.py</span></a><span style=\"color: #7f7f7f\">:106</span>\n",
       "</pre>\n"
      ],
      "text/plain": [
       "<rich.jupyter.JupyterRenderable at 0x7f4f27816fa0>"
      ]
     },
     "metadata": {},
     "output_type": "display_data"
    },
    {
     "name": "stderr",
     "output_type": "stream",
     "text": [
      "INDEX 4000: 2618\n"
     ]
    },
    {
     "data": {
      "text/html": [
       "<pre style=\"white-space:pre;overflow-x:auto;line-height:normal;font-family:Menlo,'DejaVu Sans Mono',consolas,'Courier New',monospace\"><span style=\"color: #7fbfbf\">           </span><span style=\"color: #000080\">INFO    </span> INDEX <span style=\"color: #000080; font-weight: bold\">4000</span>: <span style=\"color: #000080; font-weight: bold\">2618</span>                                           <a href=\"file:///home/j-gunmo/desktop/00.my-project/17.P-Stage-T1003/4-STAGE/fe/feature.py\"><span style=\"color: #7f7f7f\">feature.py</span></a><span style=\"color: #7f7f7f\">:106</span>\n",
       "</pre>\n"
      ],
      "text/plain": [
       "<rich.jupyter.JupyterRenderable at 0x7f4f278167c0>"
      ]
     },
     "metadata": {},
     "output_type": "display_data"
    },
    {
     "name": "stderr",
     "output_type": "stream",
     "text": [
      "INDEX 5000: 3729\n"
     ]
    },
    {
     "data": {
      "text/html": [
       "<pre style=\"white-space:pre;overflow-x:auto;line-height:normal;font-family:Menlo,'DejaVu Sans Mono',consolas,'Courier New',monospace\"><span style=\"color: #7fbfbf\">           </span><span style=\"color: #000080\">INFO    </span> INDEX <span style=\"color: #000080; font-weight: bold\">5000</span>: <span style=\"color: #000080; font-weight: bold\">3729</span>                                           <a href=\"file:///home/j-gunmo/desktop/00.my-project/17.P-Stage-T1003/4-STAGE/fe/feature.py\"><span style=\"color: #7f7f7f\">feature.py</span></a><span style=\"color: #7f7f7f\">:106</span>\n",
       "</pre>\n"
      ],
      "text/plain": [
       "<rich.jupyter.JupyterRenderable at 0x7f4f27816f40>"
      ]
     },
     "metadata": {},
     "output_type": "display_data"
    },
    {
     "name": "stderr",
     "output_type": "stream",
     "text": [
      "INDEX 6000: 3827\n"
     ]
    },
    {
     "data": {
      "text/html": [
       "<pre style=\"white-space:pre;overflow-x:auto;line-height:normal;font-family:Menlo,'DejaVu Sans Mono',consolas,'Courier New',monospace\"><span style=\"color: #7fbfbf\">           </span><span style=\"color: #000080\">INFO    </span> INDEX <span style=\"color: #000080; font-weight: bold\">6000</span>: <span style=\"color: #000080; font-weight: bold\">3827</span>                                           <a href=\"file:///home/j-gunmo/desktop/00.my-project/17.P-Stage-T1003/4-STAGE/fe/feature.py\"><span style=\"color: #7f7f7f\">feature.py</span></a><span style=\"color: #7f7f7f\">:106</span>\n",
       "</pre>\n"
      ],
      "text/plain": [
       "<rich.jupyter.JupyterRenderable at 0x7f4f27816a00>"
      ]
     },
     "metadata": {},
     "output_type": "display_data"
    },
    {
     "name": "stderr",
     "output_type": "stream",
     "text": [
      "INDEX 7000: 395\n"
     ]
    },
    {
     "data": {
      "text/html": [
       "<pre style=\"white-space:pre;overflow-x:auto;line-height:normal;font-family:Menlo,'DejaVu Sans Mono',consolas,'Courier New',monospace\"><span style=\"color: #7fbfbf\">           </span><span style=\"color: #000080\">INFO    </span> INDEX <span style=\"color: #000080; font-weight: bold\">7000</span>: <span style=\"color: #000080; font-weight: bold\">395</span>                                            <a href=\"file:///home/j-gunmo/desktop/00.my-project/17.P-Stage-T1003/4-STAGE/fe/feature.py\"><span style=\"color: #7f7f7f\">feature.py</span></a><span style=\"color: #7f7f7f\">:106</span>\n",
       "</pre>\n"
      ],
      "text/plain": [
       "<rich.jupyter.JupyterRenderable at 0x7f4f27816e50>"
      ]
     },
     "metadata": {},
     "output_type": "display_data"
    },
    {
     "name": "stderr",
     "output_type": "stream",
     "text": [
      "INDEX 8000: 394\n"
     ]
    },
    {
     "data": {
      "text/html": [
       "<pre style=\"white-space:pre;overflow-x:auto;line-height:normal;font-family:Menlo,'DejaVu Sans Mono',consolas,'Courier New',monospace\"><span style=\"color: #7fbfbf\">           </span><span style=\"color: #000080\">INFO    </span> INDEX <span style=\"color: #000080; font-weight: bold\">8000</span>: <span style=\"color: #000080; font-weight: bold\">394</span>                                            <a href=\"file:///home/j-gunmo/desktop/00.my-project/17.P-Stage-T1003/4-STAGE/fe/feature.py\"><span style=\"color: #7f7f7f\">feature.py</span></a><span style=\"color: #7f7f7f\">:106</span>\n",
       "</pre>\n"
      ],
      "text/plain": [
       "<rich.jupyter.JupyterRenderable at 0x7f4f27816580>"
      ]
     },
     "metadata": {},
     "output_type": "display_data"
    },
    {
     "name": "stderr",
     "output_type": "stream",
     "text": [
      "INDEX 9000: 5269\n"
     ]
    },
    {
     "data": {
      "text/html": [
       "<pre style=\"white-space:pre;overflow-x:auto;line-height:normal;font-family:Menlo,'DejaVu Sans Mono',consolas,'Courier New',monospace\"><span style=\"color: #7fbfbf\">           </span><span style=\"color: #000080\">INFO    </span> INDEX <span style=\"color: #000080; font-weight: bold\">9000</span>: <span style=\"color: #000080; font-weight: bold\">5269</span>                                           <a href=\"file:///home/j-gunmo/desktop/00.my-project/17.P-Stage-T1003/4-STAGE/fe/feature.py\"><span style=\"color: #7f7f7f\">feature.py</span></a><span style=\"color: #7f7f7f\">:106</span>\n",
       "</pre>\n"
      ],
      "text/plain": [
       "<rich.jupyter.JupyterRenderable at 0x7f4f27816610>"
      ]
     },
     "metadata": {},
     "output_type": "display_data"
    },
    {
     "name": "stdout",
     "output_type": "stream",
     "text": [
      "load features /home/j-gunmo/features/test_make_correct_count.pkl to dataframe ... \n"
     ]
    },
    {
     "name": "stderr",
     "output_type": "stream",
     "text": [
      "\n",
      "Feature Engineering Name: make_correct_count\n"
     ]
    },
    {
     "data": {
      "text/html": [
       "<pre style=\"white-space:pre;overflow-x:auto;line-height:normal;font-family:Menlo,'DejaVu Sans Mono',consolas,'Courier New',monospace\"><span style=\"color: #7fbfbf\">           </span><span style=\"color: #000080\">INFO    </span>                                                             <a href=\"file:///home/j-gunmo/desktop/00.my-project/17.P-Stage-T1003/4-STAGE/fe/feature.py\"><span style=\"color: #7f7f7f\">feature.py</span></a><span style=\"color: #7f7f7f\">:98</span>\n",
       "                    Feature Engineering Name: make_correct_count                             \n",
       "</pre>\n"
      ],
      "text/plain": [
       "<rich.jupyter.JupyterRenderable at 0x7f4f27816cd0>"
      ]
     },
     "metadata": {},
     "output_type": "display_data"
    },
    {
     "name": "stderr",
     "output_type": "stream",
     "text": [
      "\n",
      "correctCnt      : 사용자가 맞춘 문항수를 나타냅니다.\n"
     ]
    },
    {
     "data": {
      "text/html": [
       "<pre style=\"white-space:pre;overflow-x:auto;line-height:normal;font-family:Menlo,'DejaVu Sans Mono',consolas,'Courier New',monospace\"><span style=\"color: #7fbfbf\">           </span><span style=\"color: #000080\">INFO    </span>                                                            <a href=\"file:///home/j-gunmo/desktop/00.my-project/17.P-Stage-T1003/4-STAGE/fe/feature.py\"><span style=\"color: #7f7f7f\">feature.py</span></a><span style=\"color: #7f7f7f\">:101</span>\n",
       "                    correctCnt      : 사용자가 맞춘 문항수를 나타냅니다.                     \n",
       "</pre>\n"
      ],
      "text/plain": [
       "<rich.jupyter.JupyterRenderable at 0x7f4f27861910>"
      ]
     },
     "metadata": {},
     "output_type": "display_data"
    },
    {
     "name": "stderr",
     "output_type": "stream",
     "text": [
      "dtype: int64\n"
     ]
    },
    {
     "data": {
      "text/html": [
       "<pre style=\"white-space:pre;overflow-x:auto;line-height:normal;font-family:Menlo,'DejaVu Sans Mono',consolas,'Courier New',monospace\"><span style=\"color: #7fbfbf\">           </span><span style=\"color: #000080\">INFO    </span> dtype: int64                                               <a href=\"file:///home/j-gunmo/desktop/00.my-project/17.P-Stage-T1003/4-STAGE/fe/feature.py\"><span style=\"color: #7f7f7f\">feature.py</span></a><span style=\"color: #7f7f7f\">:102</span>\n",
       "</pre>\n"
      ],
      "text/plain": [
       "<rich.jupyter.JupyterRenderable at 0x7f4f278168b0>"
      ]
     },
     "metadata": {},
     "output_type": "display_data"
    },
    {
     "name": "stderr",
     "output_type": "stream",
     "text": [
      "[Examples]\n"
     ]
    },
    {
     "data": {
      "text/html": [
       "<pre style=\"white-space:pre;overflow-x:auto;line-height:normal;font-family:Menlo,'DejaVu Sans Mono',consolas,'Courier New',monospace\"><span style=\"color: #7fbfbf\">           </span><span style=\"color: #000080\">INFO    </span> <span style=\"font-weight: bold\">[</span>Examples<span style=\"font-weight: bold\">]</span>                                                 <a href=\"file:///home/j-gunmo/desktop/00.my-project/17.P-Stage-T1003/4-STAGE/fe/feature.py\"><span style=\"color: #7f7f7f\">feature.py</span></a><span style=\"color: #7f7f7f\">:103</span>\n",
       "</pre>\n"
      ],
      "text/plain": [
       "<rich.jupyter.JupyterRenderable at 0x7f4f27816970>"
      ]
     },
     "metadata": {},
     "output_type": "display_data"
    },
    {
     "name": "stderr",
     "output_type": "stream",
     "text": [
      "INDEX 0000: 716\n"
     ]
    },
    {
     "data": {
      "text/html": [
       "<pre style=\"white-space:pre;overflow-x:auto;line-height:normal;font-family:Menlo,'DejaVu Sans Mono',consolas,'Courier New',monospace\"><span style=\"color: #7fbfbf\">           </span><span style=\"color: #000080\">INFO    </span> INDEX <span style=\"color: #000080; font-weight: bold\">0000</span>: <span style=\"color: #000080; font-weight: bold\">716</span>                                            <a href=\"file:///home/j-gunmo/desktop/00.my-project/17.P-Stage-T1003/4-STAGE/fe/feature.py\"><span style=\"color: #7f7f7f\">feature.py</span></a><span style=\"color: #7f7f7f\">:106</span>\n",
       "</pre>\n"
      ],
      "text/plain": [
       "<rich.jupyter.JupyterRenderable at 0x7f4f27816130>"
      ]
     },
     "metadata": {},
     "output_type": "display_data"
    },
    {
     "name": "stderr",
     "output_type": "stream",
     "text": [
      "INDEX 1000: 716\n"
     ]
    },
    {
     "data": {
      "text/html": [
       "<pre style=\"white-space:pre;overflow-x:auto;line-height:normal;font-family:Menlo,'DejaVu Sans Mono',consolas,'Courier New',monospace\"><span style=\"color: #7fbfbf\">           </span><span style=\"color: #000080\">INFO    </span> INDEX <span style=\"color: #000080; font-weight: bold\">1000</span>: <span style=\"color: #000080; font-weight: bold\">716</span>                                            <a href=\"file:///home/j-gunmo/desktop/00.my-project/17.P-Stage-T1003/4-STAGE/fe/feature.py\"><span style=\"color: #7f7f7f\">feature.py</span></a><span style=\"color: #7f7f7f\">:106</span>\n",
       "</pre>\n"
      ],
      "text/plain": [
       "<rich.jupyter.JupyterRenderable at 0x7f4f27816be0>"
      ]
     },
     "metadata": {},
     "output_type": "display_data"
    },
    {
     "name": "stderr",
     "output_type": "stream",
     "text": [
      "INDEX 2000: 716\n"
     ]
    },
    {
     "data": {
      "text/html": [
       "<pre style=\"white-space:pre;overflow-x:auto;line-height:normal;font-family:Menlo,'DejaVu Sans Mono',consolas,'Courier New',monospace\"><span style=\"color: #7fbfbf\">           </span><span style=\"color: #000080\">INFO    </span> INDEX <span style=\"color: #000080; font-weight: bold\">2000</span>: <span style=\"color: #000080; font-weight: bold\">716</span>                                            <a href=\"file:///home/j-gunmo/desktop/00.my-project/17.P-Stage-T1003/4-STAGE/fe/feature.py\"><span style=\"color: #7f7f7f\">feature.py</span></a><span style=\"color: #7f7f7f\">:106</span>\n",
       "</pre>\n"
      ],
      "text/plain": [
       "<rich.jupyter.JupyterRenderable at 0x7f4f278160a0>"
      ]
     },
     "metadata": {},
     "output_type": "display_data"
    },
    {
     "name": "stderr",
     "output_type": "stream",
     "text": [
      "INDEX 3000: 716\n"
     ]
    },
    {
     "data": {
      "text/html": [
       "<pre style=\"white-space:pre;overflow-x:auto;line-height:normal;font-family:Menlo,'DejaVu Sans Mono',consolas,'Courier New',monospace\"><span style=\"color: #7fbfbf\">           </span><span style=\"color: #000080\">INFO    </span> INDEX <span style=\"color: #000080; font-weight: bold\">3000</span>: <span style=\"color: #000080; font-weight: bold\">716</span>                                            <a href=\"file:///home/j-gunmo/desktop/00.my-project/17.P-Stage-T1003/4-STAGE/fe/feature.py\"><span style=\"color: #7f7f7f\">feature.py</span></a><span style=\"color: #7f7f7f\">:106</span>\n",
       "</pre>\n"
      ],
      "text/plain": [
       "<rich.jupyter.JupyterRenderable at 0x7f4f27816a60>"
      ]
     },
     "metadata": {},
     "output_type": "display_data"
    },
    {
     "name": "stderr",
     "output_type": "stream",
     "text": [
      "INDEX 4000: 716\n"
     ]
    },
    {
     "data": {
      "text/html": [
       "<pre style=\"white-space:pre;overflow-x:auto;line-height:normal;font-family:Menlo,'DejaVu Sans Mono',consolas,'Courier New',monospace\"><span style=\"color: #7fbfbf\">           </span><span style=\"color: #000080\">INFO    </span> INDEX <span style=\"color: #000080; font-weight: bold\">4000</span>: <span style=\"color: #000080; font-weight: bold\">716</span>                                            <a href=\"file:///home/j-gunmo/desktop/00.my-project/17.P-Stage-T1003/4-STAGE/fe/feature.py\"><span style=\"color: #7f7f7f\">feature.py</span></a><span style=\"color: #7f7f7f\">:106</span>\n",
       "</pre>\n"
      ],
      "text/plain": [
       "<rich.jupyter.JupyterRenderable at 0x7f4f27816be0>"
      ]
     },
     "metadata": {},
     "output_type": "display_data"
    },
    {
     "name": "stderr",
     "output_type": "stream",
     "text": [
      "INDEX 5000: 716\n"
     ]
    },
    {
     "data": {
      "text/html": [
       "<pre style=\"white-space:pre;overflow-x:auto;line-height:normal;font-family:Menlo,'DejaVu Sans Mono',consolas,'Courier New',monospace\"><span style=\"color: #7fbfbf\">           </span><span style=\"color: #000080\">INFO    </span> INDEX <span style=\"color: #000080; font-weight: bold\">5000</span>: <span style=\"color: #000080; font-weight: bold\">716</span>                                            <a href=\"file:///home/j-gunmo/desktop/00.my-project/17.P-Stage-T1003/4-STAGE/fe/feature.py\"><span style=\"color: #7f7f7f\">feature.py</span></a><span style=\"color: #7f7f7f\">:106</span>\n",
       "</pre>\n"
      ],
      "text/plain": [
       "<rich.jupyter.JupyterRenderable at 0x7f4f27816e80>"
      ]
     },
     "metadata": {},
     "output_type": "display_data"
    },
    {
     "name": "stderr",
     "output_type": "stream",
     "text": [
      "INDEX 6000: 716\n"
     ]
    },
    {
     "data": {
      "text/html": [
       "<pre style=\"white-space:pre;overflow-x:auto;line-height:normal;font-family:Menlo,'DejaVu Sans Mono',consolas,'Courier New',monospace\"><span style=\"color: #7fbfbf\">           </span><span style=\"color: #000080\">INFO    </span> INDEX <span style=\"color: #000080; font-weight: bold\">6000</span>: <span style=\"color: #000080; font-weight: bold\">716</span>                                            <a href=\"file:///home/j-gunmo/desktop/00.my-project/17.P-Stage-T1003/4-STAGE/fe/feature.py\"><span style=\"color: #7f7f7f\">feature.py</span></a><span style=\"color: #7f7f7f\">:106</span>\n",
       "</pre>\n"
      ],
      "text/plain": [
       "<rich.jupyter.JupyterRenderable at 0x7f4f278169d0>"
      ]
     },
     "metadata": {},
     "output_type": "display_data"
    },
    {
     "name": "stderr",
     "output_type": "stream",
     "text": [
      "INDEX 7000: 716\n"
     ]
    },
    {
     "data": {
      "text/html": [
       "<pre style=\"white-space:pre;overflow-x:auto;line-height:normal;font-family:Menlo,'DejaVu Sans Mono',consolas,'Courier New',monospace\"><span style=\"color: #7fbfbf\">           </span><span style=\"color: #000080\">INFO    </span> INDEX <span style=\"color: #000080; font-weight: bold\">7000</span>: <span style=\"color: #000080; font-weight: bold\">716</span>                                            <a href=\"file:///home/j-gunmo/desktop/00.my-project/17.P-Stage-T1003/4-STAGE/fe/feature.py\"><span style=\"color: #7f7f7f\">feature.py</span></a><span style=\"color: #7f7f7f\">:106</span>\n",
       "</pre>\n"
      ],
      "text/plain": [
       "<rich.jupyter.JupyterRenderable at 0x7f4f27816b80>"
      ]
     },
     "metadata": {},
     "output_type": "display_data"
    },
    {
     "name": "stderr",
     "output_type": "stream",
     "text": [
      "INDEX 8000: 716\n"
     ]
    },
    {
     "data": {
      "text/html": [
       "<pre style=\"white-space:pre;overflow-x:auto;line-height:normal;font-family:Menlo,'DejaVu Sans Mono',consolas,'Courier New',monospace\"><span style=\"color: #7fbfbf\">           </span><span style=\"color: #000080\">INFO    </span> INDEX <span style=\"color: #000080; font-weight: bold\">8000</span>: <span style=\"color: #000080; font-weight: bold\">716</span>                                            <a href=\"file:///home/j-gunmo/desktop/00.my-project/17.P-Stage-T1003/4-STAGE/fe/feature.py\"><span style=\"color: #7f7f7f\">feature.py</span></a><span style=\"color: #7f7f7f\">:106</span>\n",
       "</pre>\n"
      ],
      "text/plain": [
       "<rich.jupyter.JupyterRenderable at 0x7f4f27816f40>"
      ]
     },
     "metadata": {},
     "output_type": "display_data"
    },
    {
     "name": "stderr",
     "output_type": "stream",
     "text": [
      "INDEX 9000: 716\n"
     ]
    },
    {
     "data": {
      "text/html": [
       "<pre style=\"white-space:pre;overflow-x:auto;line-height:normal;font-family:Menlo,'DejaVu Sans Mono',consolas,'Courier New',monospace\"><span style=\"color: #7fbfbf\">           </span><span style=\"color: #000080\">INFO    </span> INDEX <span style=\"color: #000080; font-weight: bold\">9000</span>: <span style=\"color: #000080; font-weight: bold\">716</span>                                            <a href=\"file:///home/j-gunmo/desktop/00.my-project/17.P-Stage-T1003/4-STAGE/fe/feature.py\"><span style=\"color: #7f7f7f\">feature.py</span></a><span style=\"color: #7f7f7f\">:106</span>\n",
       "</pre>\n"
      ],
      "text/plain": [
       "<rich.jupyter.JupyterRenderable at 0x7f4f27816cd0>"
      ]
     },
     "metadata": {},
     "output_type": "display_data"
    },
    {
     "name": "stdout",
     "output_type": "stream",
     "text": [
      "load features /home/j-gunmo/features/test_make_question_count.pkl to dataframe ... \n"
     ]
    },
    {
     "name": "stderr",
     "output_type": "stream",
     "text": [
      "\n",
      "Feature Engineering Name: make_question_count\n"
     ]
    },
    {
     "data": {
      "text/html": [
       "<pre style=\"white-space:pre;overflow-x:auto;line-height:normal;font-family:Menlo,'DejaVu Sans Mono',consolas,'Courier New',monospace\"><span style=\"color: #7fbfbf\">           </span><span style=\"color: #000080\">INFO    </span>                                                             <a href=\"file:///home/j-gunmo/desktop/00.my-project/17.P-Stage-T1003/4-STAGE/fe/feature.py\"><span style=\"color: #7f7f7f\">feature.py</span></a><span style=\"color: #7f7f7f\">:98</span>\n",
       "                    Feature Engineering Name: make_question_count                            \n",
       "</pre>\n"
      ],
      "text/plain": [
       "<rich.jupyter.JupyterRenderable at 0x7f4f27816cd0>"
      ]
     },
     "metadata": {},
     "output_type": "display_data"
    },
    {
     "name": "stderr",
     "output_type": "stream",
     "text": [
      "\n",
      "quesCnt         : 사용자가 푼 문항수를 나타냅니다.\n"
     ]
    },
    {
     "data": {
      "text/html": [
       "<pre style=\"white-space:pre;overflow-x:auto;line-height:normal;font-family:Menlo,'DejaVu Sans Mono',consolas,'Courier New',monospace\"><span style=\"color: #7fbfbf\">           </span><span style=\"color: #000080\">INFO    </span>                                                            <a href=\"file:///home/j-gunmo/desktop/00.my-project/17.P-Stage-T1003/4-STAGE/fe/feature.py\"><span style=\"color: #7f7f7f\">feature.py</span></a><span style=\"color: #7f7f7f\">:101</span>\n",
       "                    quesCnt         : 사용자가 푼 문항수를 나타냅니다.                       \n",
       "</pre>\n"
      ],
      "text/plain": [
       "<rich.jupyter.JupyterRenderable at 0x7f4f27816fd0>"
      ]
     },
     "metadata": {},
     "output_type": "display_data"
    },
    {
     "name": "stderr",
     "output_type": "stream",
     "text": [
      "dtype: int64\n"
     ]
    },
    {
     "data": {
      "text/html": [
       "<pre style=\"white-space:pre;overflow-x:auto;line-height:normal;font-family:Menlo,'DejaVu Sans Mono',consolas,'Courier New',monospace\"><span style=\"color: #7fbfbf\">           </span><span style=\"color: #000080\">INFO    </span> dtype: int64                                               <a href=\"file:///home/j-gunmo/desktop/00.my-project/17.P-Stage-T1003/4-STAGE/fe/feature.py\"><span style=\"color: #7f7f7f\">feature.py</span></a><span style=\"color: #7f7f7f\">:102</span>\n",
       "</pre>\n"
      ],
      "text/plain": [
       "<rich.jupyter.JupyterRenderable at 0x7f4f27816610>"
      ]
     },
     "metadata": {},
     "output_type": "display_data"
    },
    {
     "name": "stderr",
     "output_type": "stream",
     "text": [
      "[Examples]\n"
     ]
    },
    {
     "data": {
      "text/html": [
       "<pre style=\"white-space:pre;overflow-x:auto;line-height:normal;font-family:Menlo,'DejaVu Sans Mono',consolas,'Courier New',monospace\"><span style=\"color: #7fbfbf\">           </span><span style=\"color: #000080\">INFO    </span> <span style=\"font-weight: bold\">[</span>Examples<span style=\"font-weight: bold\">]</span>                                                 <a href=\"file:///home/j-gunmo/desktop/00.my-project/17.P-Stage-T1003/4-STAGE/fe/feature.py\"><span style=\"color: #7f7f7f\">feature.py</span></a><span style=\"color: #7f7f7f\">:103</span>\n",
       "</pre>\n"
      ],
      "text/plain": [
       "<rich.jupyter.JupyterRenderable at 0x7f4f27816a00>"
      ]
     },
     "metadata": {},
     "output_type": "display_data"
    },
    {
     "name": "stderr",
     "output_type": "stream",
     "text": [
      "INDEX 0000: 1036\n"
     ]
    },
    {
     "data": {
      "text/html": [
       "<pre style=\"white-space:pre;overflow-x:auto;line-height:normal;font-family:Menlo,'DejaVu Sans Mono',consolas,'Courier New',monospace\"><span style=\"color: #7fbfbf\">           </span><span style=\"color: #000080\">INFO    </span> INDEX <span style=\"color: #000080; font-weight: bold\">0000</span>: <span style=\"color: #000080; font-weight: bold\">1036</span>                                           <a href=\"file:///home/j-gunmo/desktop/00.my-project/17.P-Stage-T1003/4-STAGE/fe/feature.py\"><span style=\"color: #7f7f7f\">feature.py</span></a><span style=\"color: #7f7f7f\">:106</span>\n",
       "</pre>\n"
      ],
      "text/plain": [
       "<rich.jupyter.JupyterRenderable at 0x7f4f27816760>"
      ]
     },
     "metadata": {},
     "output_type": "display_data"
    },
    {
     "name": "stderr",
     "output_type": "stream",
     "text": [
      "INDEX 1000: 1036\n"
     ]
    },
    {
     "data": {
      "text/html": [
       "<pre style=\"white-space:pre;overflow-x:auto;line-height:normal;font-family:Menlo,'DejaVu Sans Mono',consolas,'Courier New',monospace\"><span style=\"color: #7fbfbf\">           </span><span style=\"color: #000080\">INFO    </span> INDEX <span style=\"color: #000080; font-weight: bold\">1000</span>: <span style=\"color: #000080; font-weight: bold\">1036</span>                                           <a href=\"file:///home/j-gunmo/desktop/00.my-project/17.P-Stage-T1003/4-STAGE/fe/feature.py\"><span style=\"color: #7f7f7f\">feature.py</span></a><span style=\"color: #7f7f7f\">:106</span>\n",
       "</pre>\n"
      ],
      "text/plain": [
       "<rich.jupyter.JupyterRenderable at 0x7f4f27816970>"
      ]
     },
     "metadata": {},
     "output_type": "display_data"
    },
    {
     "name": "stderr",
     "output_type": "stream",
     "text": [
      "INDEX 2000: 1036\n"
     ]
    },
    {
     "data": {
      "text/html": [
       "<pre style=\"white-space:pre;overflow-x:auto;line-height:normal;font-family:Menlo,'DejaVu Sans Mono',consolas,'Courier New',monospace\"><span style=\"color: #7fbfbf\">           </span><span style=\"color: #000080\">INFO    </span> INDEX <span style=\"color: #000080; font-weight: bold\">2000</span>: <span style=\"color: #000080; font-weight: bold\">1036</span>                                           <a href=\"file:///home/j-gunmo/desktop/00.my-project/17.P-Stage-T1003/4-STAGE/fe/feature.py\"><span style=\"color: #7f7f7f\">feature.py</span></a><span style=\"color: #7f7f7f\">:106</span>\n",
       "</pre>\n"
      ],
      "text/plain": [
       "<rich.jupyter.JupyterRenderable at 0x7f4f278168b0>"
      ]
     },
     "metadata": {},
     "output_type": "display_data"
    },
    {
     "name": "stderr",
     "output_type": "stream",
     "text": [
      "INDEX 3000: 1036\n"
     ]
    },
    {
     "data": {
      "text/html": [
       "<pre style=\"white-space:pre;overflow-x:auto;line-height:normal;font-family:Menlo,'DejaVu Sans Mono',consolas,'Courier New',monospace\"><span style=\"color: #7fbfbf\">           </span><span style=\"color: #000080\">INFO    </span> INDEX <span style=\"color: #000080; font-weight: bold\">3000</span>: <span style=\"color: #000080; font-weight: bold\">1036</span>                                           <a href=\"file:///home/j-gunmo/desktop/00.my-project/17.P-Stage-T1003/4-STAGE/fe/feature.py\"><span style=\"color: #7f7f7f\">feature.py</span></a><span style=\"color: #7f7f7f\">:106</span>\n",
       "</pre>\n"
      ],
      "text/plain": [
       "<rich.jupyter.JupyterRenderable at 0x7f4f27816130>"
      ]
     },
     "metadata": {},
     "output_type": "display_data"
    },
    {
     "name": "stderr",
     "output_type": "stream",
     "text": [
      "INDEX 4000: 1036\n"
     ]
    },
    {
     "data": {
      "text/html": [
       "<pre style=\"white-space:pre;overflow-x:auto;line-height:normal;font-family:Menlo,'DejaVu Sans Mono',consolas,'Courier New',monospace\"><span style=\"color: #7fbfbf\">           </span><span style=\"color: #000080\">INFO    </span> INDEX <span style=\"color: #000080; font-weight: bold\">4000</span>: <span style=\"color: #000080; font-weight: bold\">1036</span>                                           <a href=\"file:///home/j-gunmo/desktop/00.my-project/17.P-Stage-T1003/4-STAGE/fe/feature.py\"><span style=\"color: #7f7f7f\">feature.py</span></a><span style=\"color: #7f7f7f\">:106</span>\n",
       "</pre>\n"
      ],
      "text/plain": [
       "<rich.jupyter.JupyterRenderable at 0x7f4f27816970>"
      ]
     },
     "metadata": {},
     "output_type": "display_data"
    },
    {
     "name": "stderr",
     "output_type": "stream",
     "text": [
      "INDEX 5000: 1036\n"
     ]
    },
    {
     "data": {
      "text/html": [
       "<pre style=\"white-space:pre;overflow-x:auto;line-height:normal;font-family:Menlo,'DejaVu Sans Mono',consolas,'Courier New',monospace\"><span style=\"color: #7fbfbf\">           </span><span style=\"color: #000080\">INFO    </span> INDEX <span style=\"color: #000080; font-weight: bold\">5000</span>: <span style=\"color: #000080; font-weight: bold\">1036</span>                                           <a href=\"file:///home/j-gunmo/desktop/00.my-project/17.P-Stage-T1003/4-STAGE/fe/feature.py\"><span style=\"color: #7f7f7f\">feature.py</span></a><span style=\"color: #7f7f7f\">:106</span>\n",
       "</pre>\n"
      ],
      "text/plain": [
       "<rich.jupyter.JupyterRenderable at 0x7f4f27816940>"
      ]
     },
     "metadata": {},
     "output_type": "display_data"
    },
    {
     "name": "stderr",
     "output_type": "stream",
     "text": [
      "INDEX 6000: 1036\n"
     ]
    },
    {
     "data": {
      "text/html": [
       "<pre style=\"white-space:pre;overflow-x:auto;line-height:normal;font-family:Menlo,'DejaVu Sans Mono',consolas,'Courier New',monospace\"><span style=\"color: #7fbfbf\">           </span><span style=\"color: #000080\">INFO    </span> INDEX <span style=\"color: #000080; font-weight: bold\">6000</span>: <span style=\"color: #000080; font-weight: bold\">1036</span>                                           <a href=\"file:///home/j-gunmo/desktop/00.my-project/17.P-Stage-T1003/4-STAGE/fe/feature.py\"><span style=\"color: #7f7f7f\">feature.py</span></a><span style=\"color: #7f7f7f\">:106</span>\n",
       "</pre>\n"
      ],
      "text/plain": [
       "<rich.jupyter.JupyterRenderable at 0x7f4f278169a0>"
      ]
     },
     "metadata": {},
     "output_type": "display_data"
    },
    {
     "name": "stderr",
     "output_type": "stream",
     "text": [
      "INDEX 7000: 1036\n"
     ]
    },
    {
     "data": {
      "text/html": [
       "<pre style=\"white-space:pre;overflow-x:auto;line-height:normal;font-family:Menlo,'DejaVu Sans Mono',consolas,'Courier New',monospace\"><span style=\"color: #7fbfbf\">           </span><span style=\"color: #000080\">INFO    </span> INDEX <span style=\"color: #000080; font-weight: bold\">7000</span>: <span style=\"color: #000080; font-weight: bold\">1036</span>                                           <a href=\"file:///home/j-gunmo/desktop/00.my-project/17.P-Stage-T1003/4-STAGE/fe/feature.py\"><span style=\"color: #7f7f7f\">feature.py</span></a><span style=\"color: #7f7f7f\">:106</span>\n",
       "</pre>\n"
      ],
      "text/plain": [
       "<rich.jupyter.JupyterRenderable at 0x7f4f27816fd0>"
      ]
     },
     "metadata": {},
     "output_type": "display_data"
    },
    {
     "name": "stderr",
     "output_type": "stream",
     "text": [
      "INDEX 8000: 1036\n"
     ]
    },
    {
     "data": {
      "text/html": [
       "<pre style=\"white-space:pre;overflow-x:auto;line-height:normal;font-family:Menlo,'DejaVu Sans Mono',consolas,'Courier New',monospace\"><span style=\"color: #7fbfbf\">           </span><span style=\"color: #000080\">INFO    </span> INDEX <span style=\"color: #000080; font-weight: bold\">8000</span>: <span style=\"color: #000080; font-weight: bold\">1036</span>                                           <a href=\"file:///home/j-gunmo/desktop/00.my-project/17.P-Stage-T1003/4-STAGE/fe/feature.py\"><span style=\"color: #7f7f7f\">feature.py</span></a><span style=\"color: #7f7f7f\">:106</span>\n",
       "</pre>\n"
      ],
      "text/plain": [
       "<rich.jupyter.JupyterRenderable at 0x7f4f278165e0>"
      ]
     },
     "metadata": {},
     "output_type": "display_data"
    },
    {
     "name": "stderr",
     "output_type": "stream",
     "text": [
      "INDEX 9000: 1036\n"
     ]
    },
    {
     "data": {
      "text/html": [
       "<pre style=\"white-space:pre;overflow-x:auto;line-height:normal;font-family:Menlo,'DejaVu Sans Mono',consolas,'Courier New',monospace\"><span style=\"color: #7fbfbf\">           </span><span style=\"color: #000080\">INFO    </span> INDEX <span style=\"color: #000080; font-weight: bold\">9000</span>: <span style=\"color: #000080; font-weight: bold\">1036</span>                                           <a href=\"file:///home/j-gunmo/desktop/00.my-project/17.P-Stage-T1003/4-STAGE/fe/feature.py\"><span style=\"color: #7f7f7f\">feature.py</span></a><span style=\"color: #7f7f7f\">:106</span>\n",
       "</pre>\n"
      ],
      "text/plain": [
       "<rich.jupyter.JupyterRenderable at 0x7f4f27816d30>"
      ]
     },
     "metadata": {},
     "output_type": "display_data"
    },
    {
     "name": "stdout",
     "output_type": "stream",
     "text": [
      "load features /home/j-gunmo/features/test_make_correct_percent.pkl to dataframe ... \n"
     ]
    },
    {
     "name": "stderr",
     "output_type": "stream",
     "text": [
      "\n",
      "Feature Engineering Name: make_correct_percent\n"
     ]
    },
    {
     "data": {
      "text/html": [
       "<pre style=\"white-space:pre;overflow-x:auto;line-height:normal;font-family:Menlo,'DejaVu Sans Mono',consolas,'Courier New',monospace\"><span style=\"color: #7fbfbf\">           </span><span style=\"color: #000080\">INFO    </span>                                                             <a href=\"file:///home/j-gunmo/desktop/00.my-project/17.P-Stage-T1003/4-STAGE/fe/feature.py\"><span style=\"color: #7f7f7f\">feature.py</span></a><span style=\"color: #7f7f7f\">:98</span>\n",
       "                    Feature Engineering Name: make_correct_percent                           \n",
       "</pre>\n"
      ],
      "text/plain": [
       "<rich.jupyter.JupyterRenderable at 0x7f4f27816dc0>"
      ]
     },
     "metadata": {},
     "output_type": "display_data"
    },
    {
     "name": "stderr",
     "output_type": "stream",
     "text": [
      "\n",
      "correctPer      : 사용자가 푼 전체 문항에 대한 정답률입니다.\n"
     ]
    },
    {
     "data": {
      "text/html": [
       "<pre style=\"white-space:pre;overflow-x:auto;line-height:normal;font-family:Menlo,'DejaVu Sans Mono',consolas,'Courier New',monospace\"><span style=\"color: #7fbfbf\">           </span><span style=\"color: #000080\">INFO    </span>                                                            <a href=\"file:///home/j-gunmo/desktop/00.my-project/17.P-Stage-T1003/4-STAGE/fe/feature.py\"><span style=\"color: #7f7f7f\">feature.py</span></a><span style=\"color: #7f7f7f\">:101</span>\n",
       "                    correctPer      : 사용자가 푼 전체 문항에 대한                           \n",
       "                    정답률입니다.                                                            \n",
       "</pre>\n"
      ],
      "text/plain": [
       "<rich.jupyter.JupyterRenderable at 0x7f4f27816e50>"
      ]
     },
     "metadata": {},
     "output_type": "display_data"
    },
    {
     "name": "stderr",
     "output_type": "stream",
     "text": [
      "dtype: float64\n"
     ]
    },
    {
     "data": {
      "text/html": [
       "<pre style=\"white-space:pre;overflow-x:auto;line-height:normal;font-family:Menlo,'DejaVu Sans Mono',consolas,'Courier New',monospace\"><span style=\"color: #7fbfbf\">           </span><span style=\"color: #000080\">INFO    </span> dtype: float64                                             <a href=\"file:///home/j-gunmo/desktop/00.my-project/17.P-Stage-T1003/4-STAGE/fe/feature.py\"><span style=\"color: #7f7f7f\">feature.py</span></a><span style=\"color: #7f7f7f\">:102</span>\n",
       "</pre>\n"
      ],
      "text/plain": [
       "<rich.jupyter.JupyterRenderable at 0x7f4f27816dc0>"
      ]
     },
     "metadata": {},
     "output_type": "display_data"
    },
    {
     "name": "stderr",
     "output_type": "stream",
     "text": [
      "[Examples]\n"
     ]
    },
    {
     "data": {
      "text/html": [
       "<pre style=\"white-space:pre;overflow-x:auto;line-height:normal;font-family:Menlo,'DejaVu Sans Mono',consolas,'Courier New',monospace\"><span style=\"color: #7fbfbf\">           </span><span style=\"color: #000080\">INFO    </span> <span style=\"font-weight: bold\">[</span>Examples<span style=\"font-weight: bold\">]</span>                                                 <a href=\"file:///home/j-gunmo/desktop/00.my-project/17.P-Stage-T1003/4-STAGE/fe/feature.py\"><span style=\"color: #7f7f7f\">feature.py</span></a><span style=\"color: #7f7f7f\">:103</span>\n",
       "</pre>\n"
      ],
      "text/plain": [
       "<rich.jupyter.JupyterRenderable at 0x7f4f27816220>"
      ]
     },
     "metadata": {},
     "output_type": "display_data"
    },
    {
     "name": "stderr",
     "output_type": "stream",
     "text": [
      "INDEX 0000: 0.6911196911196911\n"
     ]
    },
    {
     "data": {
      "text/html": [
       "<pre style=\"white-space:pre;overflow-x:auto;line-height:normal;font-family:Menlo,'DejaVu Sans Mono',consolas,'Courier New',monospace\"><span style=\"color: #7fbfbf\">           </span><span style=\"color: #000080\">INFO    </span> INDEX <span style=\"color: #000080; font-weight: bold\">0000</span>: <span style=\"color: #000080; font-weight: bold\">0.6911196911196911</span>                             <a href=\"file:///home/j-gunmo/desktop/00.my-project/17.P-Stage-T1003/4-STAGE/fe/feature.py\"><span style=\"color: #7f7f7f\">feature.py</span></a><span style=\"color: #7f7f7f\">:106</span>\n",
       "</pre>\n"
      ],
      "text/plain": [
       "<rich.jupyter.JupyterRenderable at 0x7f4f278166d0>"
      ]
     },
     "metadata": {},
     "output_type": "display_data"
    },
    {
     "name": "stderr",
     "output_type": "stream",
     "text": [
      "INDEX 1000: 0.6911196911196911\n"
     ]
    },
    {
     "data": {
      "text/html": [
       "<pre style=\"white-space:pre;overflow-x:auto;line-height:normal;font-family:Menlo,'DejaVu Sans Mono',consolas,'Courier New',monospace\"><span style=\"color: #7fbfbf\">           </span><span style=\"color: #000080\">INFO    </span> INDEX <span style=\"color: #000080; font-weight: bold\">1000</span>: <span style=\"color: #000080; font-weight: bold\">0.6911196911196911</span>                             <a href=\"file:///home/j-gunmo/desktop/00.my-project/17.P-Stage-T1003/4-STAGE/fe/feature.py\"><span style=\"color: #7f7f7f\">feature.py</span></a><span style=\"color: #7f7f7f\">:106</span>\n",
       "</pre>\n"
      ],
      "text/plain": [
       "<rich.jupyter.JupyterRenderable at 0x7f4f27816580>"
      ]
     },
     "metadata": {},
     "output_type": "display_data"
    },
    {
     "name": "stderr",
     "output_type": "stream",
     "text": [
      "INDEX 2000: 0.6911196911196911\n"
     ]
    },
    {
     "data": {
      "text/html": [
       "<pre style=\"white-space:pre;overflow-x:auto;line-height:normal;font-family:Menlo,'DejaVu Sans Mono',consolas,'Courier New',monospace\"><span style=\"color: #7fbfbf\">           </span><span style=\"color: #000080\">INFO    </span> INDEX <span style=\"color: #000080; font-weight: bold\">2000</span>: <span style=\"color: #000080; font-weight: bold\">0.6911196911196911</span>                             <a href=\"file:///home/j-gunmo/desktop/00.my-project/17.P-Stage-T1003/4-STAGE/fe/feature.py\"><span style=\"color: #7f7f7f\">feature.py</span></a><span style=\"color: #7f7f7f\">:106</span>\n",
       "</pre>\n"
      ],
      "text/plain": [
       "<rich.jupyter.JupyterRenderable at 0x7f4f278167c0>"
      ]
     },
     "metadata": {},
     "output_type": "display_data"
    },
    {
     "name": "stderr",
     "output_type": "stream",
     "text": [
      "INDEX 3000: 0.6911196911196911\n"
     ]
    },
    {
     "data": {
      "text/html": [
       "<pre style=\"white-space:pre;overflow-x:auto;line-height:normal;font-family:Menlo,'DejaVu Sans Mono',consolas,'Courier New',monospace\"><span style=\"color: #7fbfbf\">           </span><span style=\"color: #000080\">INFO    </span> INDEX <span style=\"color: #000080; font-weight: bold\">3000</span>: <span style=\"color: #000080; font-weight: bold\">0.6911196911196911</span>                             <a href=\"file:///home/j-gunmo/desktop/00.my-project/17.P-Stage-T1003/4-STAGE/fe/feature.py\"><span style=\"color: #7f7f7f\">feature.py</span></a><span style=\"color: #7f7f7f\">:106</span>\n",
       "</pre>\n"
      ],
      "text/plain": [
       "<rich.jupyter.JupyterRenderable at 0x7f4f27816580>"
      ]
     },
     "metadata": {},
     "output_type": "display_data"
    },
    {
     "name": "stderr",
     "output_type": "stream",
     "text": [
      "INDEX 4000: 0.6911196911196911\n"
     ]
    },
    {
     "data": {
      "text/html": [
       "<pre style=\"white-space:pre;overflow-x:auto;line-height:normal;font-family:Menlo,'DejaVu Sans Mono',consolas,'Courier New',monospace\"><span style=\"color: #7fbfbf\">           </span><span style=\"color: #000080\">INFO    </span> INDEX <span style=\"color: #000080; font-weight: bold\">4000</span>: <span style=\"color: #000080; font-weight: bold\">0.6911196911196911</span>                             <a href=\"file:///home/j-gunmo/desktop/00.my-project/17.P-Stage-T1003/4-STAGE/fe/feature.py\"><span style=\"color: #7f7f7f\">feature.py</span></a><span style=\"color: #7f7f7f\">:106</span>\n",
       "</pre>\n"
      ],
      "text/plain": [
       "<rich.jupyter.JupyterRenderable at 0x7f4f27816eb0>"
      ]
     },
     "metadata": {},
     "output_type": "display_data"
    },
    {
     "name": "stderr",
     "output_type": "stream",
     "text": [
      "INDEX 5000: 0.6911196911196911\n"
     ]
    },
    {
     "data": {
      "text/html": [
       "<pre style=\"white-space:pre;overflow-x:auto;line-height:normal;font-family:Menlo,'DejaVu Sans Mono',consolas,'Courier New',monospace\"><span style=\"color: #7fbfbf\">           </span><span style=\"color: #000080\">INFO    </span> INDEX <span style=\"color: #000080; font-weight: bold\">5000</span>: <span style=\"color: #000080; font-weight: bold\">0.6911196911196911</span>                             <a href=\"file:///home/j-gunmo/desktop/00.my-project/17.P-Stage-T1003/4-STAGE/fe/feature.py\"><span style=\"color: #7f7f7f\">feature.py</span></a><span style=\"color: #7f7f7f\">:106</span>\n",
       "</pre>\n"
      ],
      "text/plain": [
       "<rich.jupyter.JupyterRenderable at 0x7f4f27816ca0>"
      ]
     },
     "metadata": {},
     "output_type": "display_data"
    },
    {
     "name": "stderr",
     "output_type": "stream",
     "text": [
      "INDEX 6000: 0.6911196911196911\n"
     ]
    },
    {
     "data": {
      "text/html": [
       "<pre style=\"white-space:pre;overflow-x:auto;line-height:normal;font-family:Menlo,'DejaVu Sans Mono',consolas,'Courier New',monospace\"><span style=\"color: #7fbfbf\">           </span><span style=\"color: #000080\">INFO    </span> INDEX <span style=\"color: #000080; font-weight: bold\">6000</span>: <span style=\"color: #000080; font-weight: bold\">0.6911196911196911</span>                             <a href=\"file:///home/j-gunmo/desktop/00.my-project/17.P-Stage-T1003/4-STAGE/fe/feature.py\"><span style=\"color: #7f7f7f\">feature.py</span></a><span style=\"color: #7f7f7f\">:106</span>\n",
       "</pre>\n"
      ],
      "text/plain": [
       "<rich.jupyter.JupyterRenderable at 0x7f4f27816f70>"
      ]
     },
     "metadata": {},
     "output_type": "display_data"
    },
    {
     "name": "stderr",
     "output_type": "stream",
     "text": [
      "INDEX 7000: 0.6911196911196911\n"
     ]
    },
    {
     "data": {
      "text/html": [
       "<pre style=\"white-space:pre;overflow-x:auto;line-height:normal;font-family:Menlo,'DejaVu Sans Mono',consolas,'Courier New',monospace\"><span style=\"color: #7fbfbf\">           </span><span style=\"color: #000080\">INFO    </span> INDEX <span style=\"color: #000080; font-weight: bold\">7000</span>: <span style=\"color: #000080; font-weight: bold\">0.6911196911196911</span>                             <a href=\"file:///home/j-gunmo/desktop/00.my-project/17.P-Stage-T1003/4-STAGE/fe/feature.py\"><span style=\"color: #7f7f7f\">feature.py</span></a><span style=\"color: #7f7f7f\">:106</span>\n",
       "</pre>\n"
      ],
      "text/plain": [
       "<rich.jupyter.JupyterRenderable at 0x7f4f27816eb0>"
      ]
     },
     "metadata": {},
     "output_type": "display_data"
    },
    {
     "name": "stderr",
     "output_type": "stream",
     "text": [
      "INDEX 8000: 0.6911196911196911\n"
     ]
    },
    {
     "data": {
      "text/html": [
       "<pre style=\"white-space:pre;overflow-x:auto;line-height:normal;font-family:Menlo,'DejaVu Sans Mono',consolas,'Courier New',monospace\"><span style=\"color: #7fbfbf\">           </span><span style=\"color: #000080\">INFO    </span> INDEX <span style=\"color: #000080; font-weight: bold\">8000</span>: <span style=\"color: #000080; font-weight: bold\">0.6911196911196911</span>                             <a href=\"file:///home/j-gunmo/desktop/00.my-project/17.P-Stage-T1003/4-STAGE/fe/feature.py\"><span style=\"color: #7f7f7f\">feature.py</span></a><span style=\"color: #7f7f7f\">:106</span>\n",
       "</pre>\n"
      ],
      "text/plain": [
       "<rich.jupyter.JupyterRenderable at 0x7f4f278167f0>"
      ]
     },
     "metadata": {},
     "output_type": "display_data"
    },
    {
     "name": "stderr",
     "output_type": "stream",
     "text": [
      "INDEX 9000: 0.6911196911196911\n"
     ]
    },
    {
     "data": {
      "text/html": [
       "<pre style=\"white-space:pre;overflow-x:auto;line-height:normal;font-family:Menlo,'DejaVu Sans Mono',consolas,'Courier New',monospace\"><span style=\"color: #7fbfbf\">           </span><span style=\"color: #000080\">INFO    </span> INDEX <span style=\"color: #000080; font-weight: bold\">9000</span>: <span style=\"color: #000080; font-weight: bold\">0.6911196911196911</span>                             <a href=\"file:///home/j-gunmo/desktop/00.my-project/17.P-Stage-T1003/4-STAGE/fe/feature.py\"><span style=\"color: #7f7f7f\">feature.py</span></a><span style=\"color: #7f7f7f\">:106</span>\n",
       "</pre>\n"
      ],
      "text/plain": [
       "<rich.jupyter.JupyterRenderable at 0x7f4f27816580>"
      ]
     },
     "metadata": {},
     "output_type": "display_data"
    },
    {
     "name": "stderr",
     "output_type": "stream",
     "text": [
      "Feature Engineering End ... \n"
     ]
    },
    {
     "data": {
      "text/html": [
       "<pre style=\"white-space:pre;overflow-x:auto;line-height:normal;font-family:Menlo,'DejaVu Sans Mono',consolas,'Courier New',monospace\"><span style=\"color: #7fbfbf\">           </span><span style=\"color: #000080\">INFO    </span> Feature Engineering End <span style=\"color: #808000\">...</span>                                <a href=\"file:///home/j-gunmo/desktop/00.my-project/17.P-Stage-T1003/4-STAGE/fe/feature.py\"><span style=\"color: #7f7f7f\">feature.py</span></a><span style=\"color: #7f7f7f\">:108</span>\n",
       "</pre>\n"
      ],
      "text/plain": [
       "<rich.jupyter.JupyterRenderable at 0x7f4f27816dc0>"
      ]
     },
     "metadata": {},
     "output_type": "display_data"
    },
    {
     "name": "stderr",
     "output_type": "stream",
     "text": [
      "Original DataFrame Keywords: Index(['userID', 'assessmentItemID', 'testId', 'answerCode', 'Timestamp',\n",
      "       'KnowledgeTag'],\n",
      "      dtype='object')\n"
     ]
    },
    {
     "data": {
      "text/html": [
       "<pre style=\"white-space:pre;overflow-x:auto;line-height:normal;font-family:Menlo,'DejaVu Sans Mono',consolas,'Courier New',monospace\"><span style=\"color: #7fbfbf\">           </span><span style=\"color: #000080\">INFO    </span> Original DataFrame Keywords: Index<span style=\"font-weight: bold\">([</span><span style=\"color: #008000\">'userID'</span>,              <a href=\"file:///home/j-gunmo/desktop/00.my-project/17.P-Stage-T1003/4-STAGE/fe/feature.py\"><span style=\"color: #7f7f7f\">feature.py</span></a><span style=\"color: #7f7f7f\">:109</span>\n",
       "                    <span style=\"color: #008000\">'assessmentItemID'</span>, <span style=\"color: #008000\">'testId'</span>, <span style=\"color: #008000\">'answerCode'</span>, <span style=\"color: #008000\">'Timestamp'</span>,                 \n",
       "                           <span style=\"color: #008000\">'KnowledgeTag'</span><span style=\"font-weight: bold\">]</span>,                                                  \n",
       "                          <span style=\"color: #808000\">dtype</span>=<span style=\"color: #008000\">'object'</span><span style=\"font-weight: bold\">)</span>                                                    \n",
       "</pre>\n"
      ],
      "text/plain": [
       "<rich.jupyter.JupyterRenderable at 0x7f4f27816cd0>"
      ]
     },
     "metadata": {},
     "output_type": "display_data"
    },
    {
     "name": "stderr",
     "output_type": "stream",
     "text": [
      "Feature Added DataFrame Keywords: Index(['userID', 'assessmentItemID', 'testId', 'answerCode', 'Timestamp',\n",
      "       'KnowledgeTag', 'testPaper', 'testPaperCnt', 'timeSec', 'firstClass',\n",
      "       'secondClass', 'correctCnt', 'quesCnt', 'correctPer'],\n",
      "      dtype='object')\n"
     ]
    },
    {
     "data": {
      "text/html": [
       "<pre style=\"white-space:pre;overflow-x:auto;line-height:normal;font-family:Menlo,'DejaVu Sans Mono',consolas,'Courier New',monospace\"><span style=\"color: #7fbfbf\">           </span><span style=\"color: #000080\">INFO    </span> Feature Added DataFrame Keywords: Index<span style=\"font-weight: bold\">([</span><span style=\"color: #008000\">'userID'</span>,         <a href=\"file:///home/j-gunmo/desktop/00.my-project/17.P-Stage-T1003/4-STAGE/fe/feature.py\"><span style=\"color: #7f7f7f\">feature.py</span></a><span style=\"color: #7f7f7f\">:110</span>\n",
       "                    <span style=\"color: #008000\">'assessmentItemID'</span>, <span style=\"color: #008000\">'testId'</span>, <span style=\"color: #008000\">'answerCode'</span>, <span style=\"color: #008000\">'Timestamp'</span>,                 \n",
       "                           <span style=\"color: #008000\">'KnowledgeTag'</span>, <span style=\"color: #008000\">'testPaper'</span>, <span style=\"color: #008000\">'testPaperCnt'</span>,                      \n",
       "                    <span style=\"color: #008000\">'timeSec'</span>, <span style=\"color: #008000\">'firstClass'</span>,                                                 \n",
       "                           <span style=\"color: #008000\">'secondClass'</span>, <span style=\"color: #008000\">'correctCnt'</span>, <span style=\"color: #008000\">'quesCnt'</span>,                           \n",
       "                    <span style=\"color: #008000\">'correctPer'</span><span style=\"font-weight: bold\">]</span>,                                                           \n",
       "                          <span style=\"color: #808000\">dtype</span>=<span style=\"color: #008000\">'object'</span><span style=\"font-weight: bold\">)</span>                                                    \n",
       "</pre>\n"
      ],
      "text/plain": [
       "<rich.jupyter.JupyterRenderable at 0x7f4f278164f0>"
      ]
     },
     "metadata": {},
     "output_type": "display_data"
    }
   ],
   "source": [
    "# Feature Engineering -> 기존에 생성된 Feature들 Shape이 안 맞아서 폐기처리 ㅠㅜ\n",
    "preprocess.feature_engineering()"
   ]
  },
  {
   "cell_type": "code",
   "execution_count": 8,
   "metadata": {},
   "outputs": [
    {
     "data": {
      "text/html": [
       "<div>\n",
       "<style scoped>\n",
       "    .dataframe tbody tr th:only-of-type {\n",
       "        vertical-align: middle;\n",
       "    }\n",
       "\n",
       "    .dataframe tbody tr th {\n",
       "        vertical-align: top;\n",
       "    }\n",
       "\n",
       "    .dataframe thead th {\n",
       "        text-align: right;\n",
       "    }\n",
       "</style>\n",
       "<table border=\"1\" class=\"dataframe\">\n",
       "  <thead>\n",
       "    <tr style=\"text-align: right;\">\n",
       "      <th></th>\n",
       "      <th>userID</th>\n",
       "      <th>answerCode</th>\n",
       "      <th>testPaper</th>\n",
       "      <th>timeSec</th>\n",
       "      <th>firstClass</th>\n",
       "      <th>secondClass</th>\n",
       "      <th>correctPer</th>\n",
       "    </tr>\n",
       "  </thead>\n",
       "  <tbody>\n",
       "    <tr>\n",
       "      <th>0</th>\n",
       "      <td>0</td>\n",
       "      <td>1</td>\n",
       "      <td>060001</td>\n",
       "      <td>1584976631</td>\n",
       "      <td>6</td>\n",
       "      <td>7224</td>\n",
       "      <td>0.630872</td>\n",
       "    </tr>\n",
       "    <tr>\n",
       "      <th>1</th>\n",
       "      <td>0</td>\n",
       "      <td>1</td>\n",
       "      <td>060001</td>\n",
       "      <td>1584976634</td>\n",
       "      <td>6</td>\n",
       "      <td>7225</td>\n",
       "      <td>0.630872</td>\n",
       "    </tr>\n",
       "  </tbody>\n",
       "</table>\n",
       "</div>"
      ],
      "text/plain": [
       "   userID  answerCode testPaper     timeSec firstClass secondClass  correctPer\n",
       "0       0           1    060001  1584976631          6        7224    0.630872\n",
       "1       0           1    060001  1584976634          6        7225    0.630872"
      ]
     },
     "execution_count": 8,
     "metadata": {},
     "output_type": "execute_result"
    }
   ],
   "source": [
    "preprocess.datas['train'].head(2)"
   ]
  },
  {
   "cell_type": "code",
   "execution_count": 9,
   "metadata": {
    "collapsed": true,
    "jupyter": {
     "outputs_hidden": true
    }
   },
   "outputs": [
    {
     "name": "stderr",
     "output_type": "stream",
     "text": [
      "Preprocessing Labels .. \n"
     ]
    },
    {
     "data": {
      "text/html": [
       "<pre style=\"white-space:pre;overflow-x:auto;line-height:normal;font-family:Menlo,'DejaVu Sans Mono',consolas,'Courier New',monospace\"><span style=\"color: #7fbfbf\">           </span><span style=\"color: #000080\">INFO    </span> Preprocessing Labels ..                                <a href=\"file:///home/j-gunmo/desktop/00.my-project/17.P-Stage-T1003/4-STAGE/dkt_dataset.py\"><span style=\"color: #7f7f7f\">dkt_dataset.py</span></a><span style=\"color: #7f7f7f\">:159</span>\n",
       "</pre>\n"
      ],
      "text/plain": [
       "<rich.jupyter.JupyterRenderable at 0x7f4f27816940>"
      ]
     },
     "metadata": {},
     "output_type": "display_data"
    },
    {
     "name": "stderr",
     "output_type": "stream",
     "text": [
      "Label Columns: ['testPaper', 'firstClass', 'secondClass']\n"
     ]
    },
    {
     "data": {
      "text/html": [
       "<pre style=\"white-space:pre;overflow-x:auto;line-height:normal;font-family:Menlo,'DejaVu Sans Mono',consolas,'Courier New',monospace\"><span style=\"color: #7fbfbf\">           </span><span style=\"color: #000080\">INFO    </span> Label Columns: <span style=\"font-weight: bold\">[</span><span style=\"color: #008000\">'testPaper'</span>, <span style=\"color: #008000\">'firstClass'</span>,             <a href=\"file:///home/j-gunmo/desktop/00.my-project/17.P-Stage-T1003/4-STAGE/dkt_dataset.py\"><span style=\"color: #7f7f7f\">dkt_dataset.py</span></a><span style=\"color: #7f7f7f\">:160</span>\n",
       "                    <span style=\"color: #008000\">'secondClass'</span><span style=\"font-weight: bold\">]</span>                                                           \n",
       "</pre>\n"
      ],
      "text/plain": [
       "<rich.jupyter.JupyterRenderable at 0x7f4f278164f0>"
      ]
     },
     "metadata": {},
     "output_type": "display_data"
    },
    {
     "name": "stderr",
     "output_type": "stream",
     "text": [
      "\n",
      "Length of testPaper            : 1538\n"
     ]
    },
    {
     "data": {
      "text/html": [
       "<pre style=\"white-space:pre;overflow-x:auto;line-height:normal;font-family:Menlo,'DejaVu Sans Mono',consolas,'Courier New',monospace\"><span style=\"color: #7fbfbf\">[10:06:06] </span><span style=\"color: #000080\">INFO    </span>                                                        <a href=\"file:///home/j-gunmo/desktop/00.my-project/17.P-Stage-T1003/4-STAGE/dkt_dataset.py\"><span style=\"color: #7f7f7f\">dkt_dataset.py</span></a><span style=\"color: #7f7f7f\">:168</span>\n",
       "                    Length of testPaper            : <span style=\"color: #000080; font-weight: bold\">1538</span>                                    \n",
       "</pre>\n"
      ],
      "text/plain": [
       "<rich.jupyter.JupyterRenderable at 0x7f500414aee0>"
      ]
     },
     "metadata": {},
     "output_type": "display_data"
    },
    {
     "name": "stderr",
     "output_type": "stream",
     "text": [
      "Before : 0    060001\n",
      "1    060001\n",
      "2    060001\n",
      "3    060001\n",
      "4    060001\n",
      "5    060001\n",
      "6    060003\n",
      "7    060003\n",
      "8    060003\n",
      "9    060003\n",
      "Name: testPaper, dtype: object\n"
     ]
    },
    {
     "data": {
      "text/html": [
       "<pre style=\"white-space:pre;overflow-x:auto;line-height:normal;font-family:Menlo,'DejaVu Sans Mono',consolas,'Courier New',monospace\"><span style=\"color: #7fbfbf\">           </span><span style=\"color: #000080\">INFO    </span> Before : <span style=\"color: #000080; font-weight: bold\">0</span>    <span style=\"color: #000080; font-weight: bold\">060001</span>                                   <a href=\"file:///home/j-gunmo/desktop/00.my-project/17.P-Stage-T1003/4-STAGE/dkt_dataset.py\"><span style=\"color: #7f7f7f\">dkt_dataset.py</span></a><span style=\"color: #7f7f7f\">:173</span>\n",
       "                    <span style=\"color: #000080; font-weight: bold\">1</span>    <span style=\"color: #000080; font-weight: bold\">060001</span>                                                              \n",
       "                    <span style=\"color: #000080; font-weight: bold\">2</span>    <span style=\"color: #000080; font-weight: bold\">060001</span>                                                              \n",
       "                    <span style=\"color: #000080; font-weight: bold\">3</span>    <span style=\"color: #000080; font-weight: bold\">060001</span>                                                              \n",
       "                    <span style=\"color: #000080; font-weight: bold\">4</span>    <span style=\"color: #000080; font-weight: bold\">060001</span>                                                              \n",
       "                    <span style=\"color: #000080; font-weight: bold\">5</span>    <span style=\"color: #000080; font-weight: bold\">060001</span>                                                              \n",
       "                    <span style=\"color: #000080; font-weight: bold\">6</span>    <span style=\"color: #000080; font-weight: bold\">060003</span>                                                              \n",
       "                    <span style=\"color: #000080; font-weight: bold\">7</span>    <span style=\"color: #000080; font-weight: bold\">060003</span>                                                              \n",
       "                    <span style=\"color: #000080; font-weight: bold\">8</span>    <span style=\"color: #000080; font-weight: bold\">060003</span>                                                              \n",
       "                    <span style=\"color: #000080; font-weight: bold\">9</span>    <span style=\"color: #000080; font-weight: bold\">060003</span>                                                              \n",
       "                    Name: testPaper, dtype: object                                           \n",
       "</pre>\n"
      ],
      "text/plain": [
       "<rich.jupyter.JupyterRenderable at 0x7f500418ee20>"
      ]
     },
     "metadata": {},
     "output_type": "display_data"
    },
    {
     "name": "stderr",
     "output_type": "stream",
     "text": [
      "After : 0    975\n",
      "1    975\n",
      "2    975\n",
      "3    975\n",
      "4    975\n",
      "5    975\n",
      "6    977\n",
      "7    977\n",
      "8    977\n",
      "9    977\n",
      "Name: testPaper, dtype: int64\n"
     ]
    },
    {
     "data": {
      "text/html": [
       "<pre style=\"white-space:pre;overflow-x:auto;line-height:normal;font-family:Menlo,'DejaVu Sans Mono',consolas,'Courier New',monospace\"><span style=\"color: #7fbfbf\">           </span><span style=\"color: #000080\">INFO    </span> After : <span style=\"color: #000080; font-weight: bold\">0</span>    <span style=\"color: #000080; font-weight: bold\">975</span>                                       <a href=\"file:///home/j-gunmo/desktop/00.my-project/17.P-Stage-T1003/4-STAGE/dkt_dataset.py\"><span style=\"color: #7f7f7f\">dkt_dataset.py</span></a><span style=\"color: #7f7f7f\">:176</span>\n",
       "                    <span style=\"color: #000080; font-weight: bold\">1</span>    <span style=\"color: #000080; font-weight: bold\">975</span>                                                                 \n",
       "                    <span style=\"color: #000080; font-weight: bold\">2</span>    <span style=\"color: #000080; font-weight: bold\">975</span>                                                                 \n",
       "                    <span style=\"color: #000080; font-weight: bold\">3</span>    <span style=\"color: #000080; font-weight: bold\">975</span>                                                                 \n",
       "                    <span style=\"color: #000080; font-weight: bold\">4</span>    <span style=\"color: #000080; font-weight: bold\">975</span>                                                                 \n",
       "                    <span style=\"color: #000080; font-weight: bold\">5</span>    <span style=\"color: #000080; font-weight: bold\">975</span>                                                                 \n",
       "                    <span style=\"color: #000080; font-weight: bold\">6</span>    <span style=\"color: #000080; font-weight: bold\">977</span>                                                                 \n",
       "                    <span style=\"color: #000080; font-weight: bold\">7</span>    <span style=\"color: #000080; font-weight: bold\">977</span>                                                                 \n",
       "                    <span style=\"color: #000080; font-weight: bold\">8</span>    <span style=\"color: #000080; font-weight: bold\">977</span>                                                                 \n",
       "                    <span style=\"color: #000080; font-weight: bold\">9</span>    <span style=\"color: #000080; font-weight: bold\">977</span>                                                                 \n",
       "                    Name: testPaper, dtype: int64                                            \n",
       "</pre>\n"
      ],
      "text/plain": [
       "<rich.jupyter.JupyterRenderable at 0x7f4f27816730>"
      ]
     },
     "metadata": {},
     "output_type": "display_data"
    },
    {
     "name": "stderr",
     "output_type": "stream",
     "text": [
      "\n",
      "Length of firstClass           : 10\n"
     ]
    },
    {
     "data": {
      "text/html": [
       "<pre style=\"white-space:pre;overflow-x:auto;line-height:normal;font-family:Menlo,'DejaVu Sans Mono',consolas,'Courier New',monospace\"><span style=\"color: #7fbfbf\">[10:06:08] </span><span style=\"color: #000080\">INFO    </span>                                                        <a href=\"file:///home/j-gunmo/desktop/00.my-project/17.P-Stage-T1003/4-STAGE/dkt_dataset.py\"><span style=\"color: #7f7f7f\">dkt_dataset.py</span></a><span style=\"color: #7f7f7f\">:168</span>\n",
       "                    Length of firstClass           : <span style=\"color: #000080; font-weight: bold\">10</span>                                      \n",
       "</pre>\n"
      ],
      "text/plain": [
       "<rich.jupyter.JupyterRenderable at 0x7f4ee74e1400>"
      ]
     },
     "metadata": {},
     "output_type": "display_data"
    },
    {
     "name": "stderr",
     "output_type": "stream",
     "text": [
      "Before : 0    6\n",
      "1    6\n",
      "2    6\n",
      "3    6\n",
      "4    6\n",
      "5    6\n",
      "6    6\n",
      "7    6\n",
      "8    6\n",
      "9    6\n",
      "Name: firstClass, dtype: object\n"
     ]
    },
    {
     "data": {
      "text/html": [
       "<pre style=\"white-space:pre;overflow-x:auto;line-height:normal;font-family:Menlo,'DejaVu Sans Mono',consolas,'Courier New',monospace\"><span style=\"color: #7fbfbf\">[10:06:09] </span><span style=\"color: #000080\">INFO    </span> Before : <span style=\"color: #000080; font-weight: bold\">0</span>    <span style=\"color: #000080; font-weight: bold\">6</span>                                        <a href=\"file:///home/j-gunmo/desktop/00.my-project/17.P-Stage-T1003/4-STAGE/dkt_dataset.py\"><span style=\"color: #7f7f7f\">dkt_dataset.py</span></a><span style=\"color: #7f7f7f\">:173</span>\n",
       "                    <span style=\"color: #000080; font-weight: bold\">1</span>    <span style=\"color: #000080; font-weight: bold\">6</span>                                                                   \n",
       "                    <span style=\"color: #000080; font-weight: bold\">2</span>    <span style=\"color: #000080; font-weight: bold\">6</span>                                                                   \n",
       "                    <span style=\"color: #000080; font-weight: bold\">3</span>    <span style=\"color: #000080; font-weight: bold\">6</span>                                                                   \n",
       "                    <span style=\"color: #000080; font-weight: bold\">4</span>    <span style=\"color: #000080; font-weight: bold\">6</span>                                                                   \n",
       "                    <span style=\"color: #000080; font-weight: bold\">5</span>    <span style=\"color: #000080; font-weight: bold\">6</span>                                                                   \n",
       "                    <span style=\"color: #000080; font-weight: bold\">6</span>    <span style=\"color: #000080; font-weight: bold\">6</span>                                                                   \n",
       "                    <span style=\"color: #000080; font-weight: bold\">7</span>    <span style=\"color: #000080; font-weight: bold\">6</span>                                                                   \n",
       "                    <span style=\"color: #000080; font-weight: bold\">8</span>    <span style=\"color: #000080; font-weight: bold\">6</span>                                                                   \n",
       "                    <span style=\"color: #000080; font-weight: bold\">9</span>    <span style=\"color: #000080; font-weight: bold\">6</span>                                                                   \n",
       "                    Name: firstClass, dtype: object                                          \n",
       "</pre>\n"
      ],
      "text/plain": [
       "<rich.jupyter.JupyterRenderable at 0x7f4ee74e16d0>"
      ]
     },
     "metadata": {},
     "output_type": "display_data"
    },
    {
     "name": "stderr",
     "output_type": "stream",
     "text": [
      "After : 0    5\n",
      "1    5\n",
      "2    5\n",
      "3    5\n",
      "4    5\n",
      "5    5\n",
      "6    5\n",
      "7    5\n",
      "8    5\n",
      "9    5\n",
      "Name: firstClass, dtype: int64\n"
     ]
    },
    {
     "data": {
      "text/html": [
       "<pre style=\"white-space:pre;overflow-x:auto;line-height:normal;font-family:Menlo,'DejaVu Sans Mono',consolas,'Courier New',monospace\"><span style=\"color: #7fbfbf\">           </span><span style=\"color: #000080\">INFO    </span> After : <span style=\"color: #000080; font-weight: bold\">0</span>    <span style=\"color: #000080; font-weight: bold\">5</span>                                         <a href=\"file:///home/j-gunmo/desktop/00.my-project/17.P-Stage-T1003/4-STAGE/dkt_dataset.py\"><span style=\"color: #7f7f7f\">dkt_dataset.py</span></a><span style=\"color: #7f7f7f\">:176</span>\n",
       "                    <span style=\"color: #000080; font-weight: bold\">1</span>    <span style=\"color: #000080; font-weight: bold\">5</span>                                                                   \n",
       "                    <span style=\"color: #000080; font-weight: bold\">2</span>    <span style=\"color: #000080; font-weight: bold\">5</span>                                                                   \n",
       "                    <span style=\"color: #000080; font-weight: bold\">3</span>    <span style=\"color: #000080; font-weight: bold\">5</span>                                                                   \n",
       "                    <span style=\"color: #000080; font-weight: bold\">4</span>    <span style=\"color: #000080; font-weight: bold\">5</span>                                                                   \n",
       "                    <span style=\"color: #000080; font-weight: bold\">5</span>    <span style=\"color: #000080; font-weight: bold\">5</span>                                                                   \n",
       "                    <span style=\"color: #000080; font-weight: bold\">6</span>    <span style=\"color: #000080; font-weight: bold\">5</span>                                                                   \n",
       "                    <span style=\"color: #000080; font-weight: bold\">7</span>    <span style=\"color: #000080; font-weight: bold\">5</span>                                                                   \n",
       "                    <span style=\"color: #000080; font-weight: bold\">8</span>    <span style=\"color: #000080; font-weight: bold\">5</span>                                                                   \n",
       "                    <span style=\"color: #000080; font-weight: bold\">9</span>    <span style=\"color: #000080; font-weight: bold\">5</span>                                                                   \n",
       "                    Name: firstClass, dtype: int64                                           \n",
       "</pre>\n"
      ],
      "text/plain": [
       "<rich.jupyter.JupyterRenderable at 0x7f4ee74e17f0>"
      ]
     },
     "metadata": {},
     "output_type": "display_data"
    },
    {
     "name": "stderr",
     "output_type": "stream",
     "text": [
      "\n",
      "Length of secondClass          : 913\n"
     ]
    },
    {
     "data": {
      "text/html": [
       "<pre style=\"white-space:pre;overflow-x:auto;line-height:normal;font-family:Menlo,'DejaVu Sans Mono',consolas,'Courier New',monospace\"><span style=\"color: #7fbfbf\">           </span><span style=\"color: #000080\">INFO    </span>                                                        <a href=\"file:///home/j-gunmo/desktop/00.my-project/17.P-Stage-T1003/4-STAGE/dkt_dataset.py\"><span style=\"color: #7f7f7f\">dkt_dataset.py</span></a><span style=\"color: #7f7f7f\">:168</span>\n",
       "                    Length of secondClass          : <span style=\"color: #000080; font-weight: bold\">913</span>                                     \n",
       "</pre>\n"
      ],
      "text/plain": [
       "<rich.jupyter.JupyterRenderable at 0x7f4ee74e1160>"
      ]
     },
     "metadata": {},
     "output_type": "display_data"
    },
    {
     "name": "stderr",
     "output_type": "stream",
     "text": [
      "Before : 0    7224\n",
      "1    7225\n",
      "2    7225\n",
      "3    7225\n",
      "4    7225\n",
      "5    7225\n",
      "6    7226\n",
      "7    7226\n",
      "8    7226\n",
      "9    7226\n",
      "Name: secondClass, dtype: object\n"
     ]
    },
    {
     "data": {
      "text/html": [
       "<pre style=\"white-space:pre;overflow-x:auto;line-height:normal;font-family:Menlo,'DejaVu Sans Mono',consolas,'Courier New',monospace\"><span style=\"color: #7fbfbf\">           </span><span style=\"color: #000080\">INFO    </span> Before : <span style=\"color: #000080; font-weight: bold\">0</span>    <span style=\"color: #000080; font-weight: bold\">7224</span>                                     <a href=\"file:///home/j-gunmo/desktop/00.my-project/17.P-Stage-T1003/4-STAGE/dkt_dataset.py\"><span style=\"color: #7f7f7f\">dkt_dataset.py</span></a><span style=\"color: #7f7f7f\">:173</span>\n",
       "                    <span style=\"color: #000080; font-weight: bold\">1</span>    <span style=\"color: #000080; font-weight: bold\">7225</span>                                                                \n",
       "                    <span style=\"color: #000080; font-weight: bold\">2</span>    <span style=\"color: #000080; font-weight: bold\">7225</span>                                                                \n",
       "                    <span style=\"color: #000080; font-weight: bold\">3</span>    <span style=\"color: #000080; font-weight: bold\">7225</span>                                                                \n",
       "                    <span style=\"color: #000080; font-weight: bold\">4</span>    <span style=\"color: #000080; font-weight: bold\">7225</span>                                                                \n",
       "                    <span style=\"color: #000080; font-weight: bold\">5</span>    <span style=\"color: #000080; font-weight: bold\">7225</span>                                                                \n",
       "                    <span style=\"color: #000080; font-weight: bold\">6</span>    <span style=\"color: #000080; font-weight: bold\">7226</span>                                                                \n",
       "                    <span style=\"color: #000080; font-weight: bold\">7</span>    <span style=\"color: #000080; font-weight: bold\">7226</span>                                                                \n",
       "                    <span style=\"color: #000080; font-weight: bold\">8</span>    <span style=\"color: #000080; font-weight: bold\">7226</span>                                                                \n",
       "                    <span style=\"color: #000080; font-weight: bold\">9</span>    <span style=\"color: #000080; font-weight: bold\">7226</span>                                                                \n",
       "                    Name: secondClass, dtype: object                                         \n",
       "</pre>\n"
      ],
      "text/plain": [
       "<rich.jupyter.JupyterRenderable at 0x7f4ee74e11f0>"
      ]
     },
     "metadata": {},
     "output_type": "display_data"
    },
    {
     "name": "stderr",
     "output_type": "stream",
     "text": [
      "After : 0    618\n",
      "1    619\n",
      "2    619\n",
      "3    619\n",
      "4    619\n",
      "5    619\n",
      "6    620\n",
      "7    620\n",
      "8    620\n",
      "9    620\n",
      "Name: secondClass, dtype: int64\n"
     ]
    },
    {
     "data": {
      "text/html": [
       "<pre style=\"white-space:pre;overflow-x:auto;line-height:normal;font-family:Menlo,'DejaVu Sans Mono',consolas,'Courier New',monospace\"><span style=\"color: #7fbfbf\">[10:06:10] </span><span style=\"color: #000080\">INFO    </span> After : <span style=\"color: #000080; font-weight: bold\">0</span>    <span style=\"color: #000080; font-weight: bold\">618</span>                                       <a href=\"file:///home/j-gunmo/desktop/00.my-project/17.P-Stage-T1003/4-STAGE/dkt_dataset.py\"><span style=\"color: #7f7f7f\">dkt_dataset.py</span></a><span style=\"color: #7f7f7f\">:176</span>\n",
       "                    <span style=\"color: #000080; font-weight: bold\">1</span>    <span style=\"color: #000080; font-weight: bold\">619</span>                                                                 \n",
       "                    <span style=\"color: #000080; font-weight: bold\">2</span>    <span style=\"color: #000080; font-weight: bold\">619</span>                                                                 \n",
       "                    <span style=\"color: #000080; font-weight: bold\">3</span>    <span style=\"color: #000080; font-weight: bold\">619</span>                                                                 \n",
       "                    <span style=\"color: #000080; font-weight: bold\">4</span>    <span style=\"color: #000080; font-weight: bold\">619</span>                                                                 \n",
       "                    <span style=\"color: #000080; font-weight: bold\">5</span>    <span style=\"color: #000080; font-weight: bold\">619</span>                                                                 \n",
       "                    <span style=\"color: #000080; font-weight: bold\">6</span>    <span style=\"color: #000080; font-weight: bold\">620</span>                                                                 \n",
       "                    <span style=\"color: #000080; font-weight: bold\">7</span>    <span style=\"color: #000080; font-weight: bold\">620</span>                                                                 \n",
       "                    <span style=\"color: #000080; font-weight: bold\">8</span>    <span style=\"color: #000080; font-weight: bold\">620</span>                                                                 \n",
       "                    <span style=\"color: #000080; font-weight: bold\">9</span>    <span style=\"color: #000080; font-weight: bold\">620</span>                                                                 \n",
       "                    Name: secondClass, dtype: int64                                          \n",
       "</pre>\n"
      ],
      "text/plain": [
       "<rich.jupyter.JupyterRenderable at 0x7f4ee74e1730>"
      ]
     },
     "metadata": {},
     "output_type": "display_data"
    },
    {
     "name": "stderr",
     "output_type": "stream",
     "text": [
      "Preprocessing Min Max .. \n"
     ]
    },
    {
     "data": {
      "text/html": [
       "<pre style=\"white-space:pre;overflow-x:auto;line-height:normal;font-family:Menlo,'DejaVu Sans Mono',consolas,'Courier New',monospace\"><span style=\"color: #7fbfbf\">[10:06:11] </span><span style=\"color: #000080\">INFO    </span> Preprocessing Min Max ..                               <a href=\"file:///home/j-gunmo/desktop/00.my-project/17.P-Stage-T1003/4-STAGE/dkt_dataset.py\"><span style=\"color: #7f7f7f\">dkt_dataset.py</span></a><span style=\"color: #7f7f7f\">:188</span>\n",
       "</pre>\n"
      ],
      "text/plain": [
       "<rich.jupyter.JupyterRenderable at 0x7f4ee74e1340>"
      ]
     },
     "metadata": {},
     "output_type": "display_data"
    },
    {
     "name": "stderr",
     "output_type": "stream",
     "text": [
      "Min Max Columns: ['correctPer']\n"
     ]
    },
    {
     "data": {
      "text/html": [
       "<pre style=\"white-space:pre;overflow-x:auto;line-height:normal;font-family:Menlo,'DejaVu Sans Mono',consolas,'Courier New',monospace\"><span style=\"color: #7fbfbf\">           </span><span style=\"color: #000080\">INFO    </span> Min Max Columns: <span style=\"font-weight: bold\">[</span><span style=\"color: #008000\">'correctPer'</span><span style=\"font-weight: bold\">]</span>                        <a href=\"file:///home/j-gunmo/desktop/00.my-project/17.P-Stage-T1003/4-STAGE/dkt_dataset.py\"><span style=\"color: #7f7f7f\">dkt_dataset.py</span></a><span style=\"color: #7f7f7f\">:189</span>\n",
       "</pre>\n"
      ],
      "text/plain": [
       "<rich.jupyter.JupyterRenderable at 0x7f4ee74e1850>"
      ]
     },
     "metadata": {},
     "output_type": "display_data"
    },
    {
     "name": "stderr",
     "output_type": "stream",
     "text": [
      "MAX: [1.] MIN: [0.]\n"
     ]
    },
    {
     "data": {
      "text/html": [
       "<pre style=\"white-space:pre;overflow-x:auto;line-height:normal;font-family:Menlo,'DejaVu Sans Mono',consolas,'Courier New',monospace\"><span style=\"color: #7fbfbf\">           </span><span style=\"color: #000080\">INFO    </span> MAX: <span style=\"font-weight: bold\">[</span><span style=\"color: #000080; font-weight: bold\">1</span>.<span style=\"font-weight: bold\">]</span> MIN: <span style=\"font-weight: bold\">[</span><span style=\"color: #000080; font-weight: bold\">0</span>.<span style=\"font-weight: bold\">]</span>                                    <a href=\"file:///home/j-gunmo/desktop/00.my-project/17.P-Stage-T1003/4-STAGE/dkt_dataset.py\"><span style=\"color: #7f7f7f\">dkt_dataset.py</span></a><span style=\"color: #7f7f7f\">:198</span>\n",
       "</pre>\n"
      ],
      "text/plain": [
       "<rich.jupyter.JupyterRenderable at 0x7f4ee74e1670>"
      ]
     },
     "metadata": {},
     "output_type": "display_data"
    },
    {
     "name": "stderr",
     "output_type": "stream",
     "text": [
      "Preprocessing Min Max .. \n"
     ]
    },
    {
     "data": {
      "text/html": [
       "<pre style=\"white-space:pre;overflow-x:auto;line-height:normal;font-family:Menlo,'DejaVu Sans Mono',consolas,'Courier New',monospace\"><span style=\"color: #7fbfbf\">           </span><span style=\"color: #000080\">INFO    </span> Preprocessing Min Max ..                               <a href=\"file:///home/j-gunmo/desktop/00.my-project/17.P-Stage-T1003/4-STAGE/dkt_dataset.py\"><span style=\"color: #7f7f7f\">dkt_dataset.py</span></a><span style=\"color: #7f7f7f\">:206</span>\n",
       "</pre>\n"
      ],
      "text/plain": [
       "<rich.jupyter.JupyterRenderable at 0x7f4ee74e1790>"
      ]
     },
     "metadata": {},
     "output_type": "display_data"
    },
    {
     "name": "stderr",
     "output_type": "stream",
     "text": [
      "Standard Columns: ['timeSec']\n"
     ]
    },
    {
     "data": {
      "text/html": [
       "<pre style=\"white-space:pre;overflow-x:auto;line-height:normal;font-family:Menlo,'DejaVu Sans Mono',consolas,'Courier New',monospace\"><span style=\"color: #7fbfbf\">           </span><span style=\"color: #000080\">INFO    </span> Standard Columns: <span style=\"font-weight: bold\">[</span><span style=\"color: #008000\">'timeSec'</span><span style=\"font-weight: bold\">]</span>                          <a href=\"file:///home/j-gunmo/desktop/00.my-project/17.P-Stage-T1003/4-STAGE/dkt_dataset.py\"><span style=\"color: #7f7f7f\">dkt_dataset.py</span></a><span style=\"color: #7f7f7f\">:207</span>\n",
       "</pre>\n"
      ],
      "text/plain": [
       "<rich.jupyter.JupyterRenderable at 0x7f4ee74e11f0>"
      ]
     },
     "metadata": {},
     "output_type": "display_data"
    },
    {
     "name": "stderr",
     "output_type": "stream",
     "text": [
      "MEAN: [1.59505272e+09] VAR: [4.91248814e+13]\n"
     ]
    },
    {
     "data": {
      "text/html": [
       "<pre style=\"white-space:pre;overflow-x:auto;line-height:normal;font-family:Menlo,'DejaVu Sans Mono',consolas,'Courier New',monospace\"><span style=\"color: #7fbfbf\">[10:06:12] </span><span style=\"color: #000080\">INFO    </span> MEAN: <span style=\"font-weight: bold\">[</span><span style=\"color: #000080; font-weight: bold\">1.59505272e+09</span><span style=\"font-weight: bold\">]</span> VAR: <span style=\"font-weight: bold\">[</span><span style=\"color: #000080; font-weight: bold\">4.91248814e+13</span><span style=\"font-weight: bold\">]</span>           <a href=\"file:///home/j-gunmo/desktop/00.my-project/17.P-Stage-T1003/4-STAGE/dkt_dataset.py\"><span style=\"color: #7f7f7f\">dkt_dataset.py</span></a><span style=\"color: #7f7f7f\">:216</span>\n",
       "</pre>\n"
      ],
      "text/plain": [
       "<rich.jupyter.JupyterRenderable at 0x7f4ee74e11c0>"
      ]
     },
     "metadata": {},
     "output_type": "display_data"
    }
   ],
   "source": [
    "# Scaling\n",
    "preprocess.scaling(pre_encoders)"
   ]
  },
  {
   "cell_type": "code",
   "execution_count": 10,
   "metadata": {},
   "outputs": [
    {
     "data": {
      "text/html": [
       "<div>\n",
       "<style scoped>\n",
       "    .dataframe tbody tr th:only-of-type {\n",
       "        vertical-align: middle;\n",
       "    }\n",
       "\n",
       "    .dataframe tbody tr th {\n",
       "        vertical-align: top;\n",
       "    }\n",
       "\n",
       "    .dataframe thead th {\n",
       "        text-align: right;\n",
       "    }\n",
       "</style>\n",
       "<table border=\"1\" class=\"dataframe\">\n",
       "  <thead>\n",
       "    <tr style=\"text-align: right;\">\n",
       "      <th></th>\n",
       "      <th>userID</th>\n",
       "      <th>answerCode</th>\n",
       "      <th>testPaper</th>\n",
       "      <th>timeSec</th>\n",
       "      <th>firstClass</th>\n",
       "      <th>secondClass</th>\n",
       "      <th>correctPer</th>\n",
       "    </tr>\n",
       "  </thead>\n",
       "  <tbody>\n",
       "    <tr>\n",
       "      <th>0</th>\n",
       "      <td>0</td>\n",
       "      <td>1</td>\n",
       "      <td>975</td>\n",
       "      <td>-1.437611</td>\n",
       "      <td>5</td>\n",
       "      <td>618</td>\n",
       "      <td>0.630872</td>\n",
       "    </tr>\n",
       "    <tr>\n",
       "      <th>1</th>\n",
       "      <td>0</td>\n",
       "      <td>1</td>\n",
       "      <td>975</td>\n",
       "      <td>-1.437610</td>\n",
       "      <td>5</td>\n",
       "      <td>619</td>\n",
       "      <td>0.630872</td>\n",
       "    </tr>\n",
       "  </tbody>\n",
       "</table>\n",
       "</div>"
      ],
      "text/plain": [
       "   userID  answerCode  testPaper   timeSec  firstClass  secondClass  \\\n",
       "0       0           1        975 -1.437611           5          618   \n",
       "1       0           1        975 -1.437610           5          619   \n",
       "\n",
       "   correctPer  \n",
       "0    0.630872  \n",
       "1    0.630872  "
      ]
     },
     "execution_count": 10,
     "metadata": {},
     "output_type": "execute_result"
    }
   ],
   "source": [
    "preprocess.datas['train'].head(2)"
   ]
  },
  {
   "cell_type": "code",
   "execution_count": 11,
   "metadata": {
    "collapsed": true,
    "jupyter": {
     "outputs_hidden": true
    }
   },
   "outputs": [
    {
     "name": "stderr",
     "output_type": "stream",
     "text": [
      "Split based on User\n"
     ]
    },
    {
     "data": {
      "text/html": [
       "<pre style=\"white-space:pre;overflow-x:auto;line-height:normal;font-family:Menlo,'DejaVu Sans Mono',consolas,'Courier New',monospace\"><span style=\"color: #7fbfbf\">[10:06:21] </span><span style=\"color: #000080\">INFO    </span> Split based on User                                     <a href=\"file:///home/j-gunmo/desktop/00.my-project/17.P-Stage-T1003/4-STAGE/dkt_dataset.py\"><span style=\"color: #7f7f7f\">dkt_dataset.py</span></a><span style=\"color: #7f7f7f\">:43</span>\n",
       "</pre>\n"
      ],
      "text/plain": [
       "<rich.jupyter.JupyterRenderable at 0x7f4ee74e18b0>"
      ]
     },
     "metadata": {},
     "output_type": "display_data"
    },
    {
     "name": "stderr",
     "output_type": "stream",
     "text": [
      "Original Train Dataset: 2525956\n"
     ]
    },
    {
     "data": {
      "text/html": [
       "<pre style=\"white-space:pre;overflow-x:auto;line-height:normal;font-family:Menlo,'DejaVu Sans Mono',consolas,'Courier New',monospace\"><span style=\"color: #7fbfbf\">           </span><span style=\"color: #000080\">INFO    </span> Original Train Dataset: <span style=\"color: #000080; font-weight: bold\">2525956</span>                         <a href=\"file:///home/j-gunmo/desktop/00.my-project/17.P-Stage-T1003/4-STAGE/dkt_dataset.py\"><span style=\"color: #7f7f7f\">dkt_dataset.py</span></a><span style=\"color: #7f7f7f\">:44</span>\n",
       "</pre>\n"
      ],
      "text/plain": [
       "<rich.jupyter.JupyterRenderable at 0x7f4ee74e1700>"
      ]
     },
     "metadata": {},
     "output_type": "display_data"
    },
    {
     "name": "stderr",
     "output_type": "stream",
     "text": [
      "Split Train Dataset: 2264710\n"
     ]
    },
    {
     "data": {
      "text/html": [
       "<pre style=\"white-space:pre;overflow-x:auto;line-height:normal;font-family:Menlo,'DejaVu Sans Mono',consolas,'Courier New',monospace\"><span style=\"color: #7fbfbf\">[10:06:22] </span><span style=\"color: #000080\">INFO    </span> Split Train Dataset: <span style=\"color: #000080; font-weight: bold\">2264710</span>                            <a href=\"file:///home/j-gunmo/desktop/00.my-project/17.P-Stage-T1003/4-STAGE/dkt_dataset.py\"><span style=\"color: #7f7f7f\">dkt_dataset.py</span></a><span style=\"color: #7f7f7f\">:57</span>\n",
       "</pre>\n"
      ],
      "text/plain": [
       "<rich.jupyter.JupyterRenderable at 0x7f4ee74e1280>"
      ]
     },
     "metadata": {},
     "output_type": "display_data"
    },
    {
     "name": "stderr",
     "output_type": "stream",
     "text": [
      "Split Valid Dataset: 261246\n"
     ]
    },
    {
     "data": {
      "text/html": [
       "<pre style=\"white-space:pre;overflow-x:auto;line-height:normal;font-family:Menlo,'DejaVu Sans Mono',consolas,'Courier New',monospace\"><span style=\"color: #7fbfbf\">           </span><span style=\"color: #000080\">INFO    </span> Split Valid Dataset: <span style=\"color: #000080; font-weight: bold\">261246</span>                             <a href=\"file:///home/j-gunmo/desktop/00.my-project/17.P-Stage-T1003/4-STAGE/dkt_dataset.py\"><span style=\"color: #7f7f7f\">dkt_dataset.py</span></a><span style=\"color: #7f7f7f\">:58</span>\n",
       "</pre>\n"
      ],
      "text/plain": [
       "<rich.jupyter.JupyterRenderable at 0x7f4ee74e1970>"
      ]
     },
     "metadata": {},
     "output_type": "display_data"
    }
   ],
   "source": [
    "# Split Data\n",
    "preprocess.split_data()"
   ]
  },
  {
   "cell_type": "code",
   "execution_count": 12,
   "metadata": {
    "collapsed": true,
    "jupyter": {
     "outputs_hidden": true
    }
   },
   "outputs": [
    {
     "name": "stderr",
     "output_type": "stream",
     "text": [
      "Group By (userID, firstClass)\n"
     ]
    },
    {
     "data": {
      "text/html": [
       "<pre style=\"white-space:pre;overflow-x:auto;line-height:normal;font-family:Menlo,'DejaVu Sans Mono',consolas,'Courier New',monospace\"><span style=\"color: #7fbfbf\">[10:06:25] </span><span style=\"color: #000080\">INFO    </span> Group By <span style=\"font-weight: bold\">(</span>userID, firstClass<span style=\"font-weight: bold\">)</span>                           <a href=\"file:///home/j-gunmo/desktop/00.my-project/17.P-Stage-T1003/4-STAGE/dkt_dataset.py\"><span style=\"color: #7f7f7f\">dkt_dataset.py</span></a><span style=\"color: #7f7f7f\">:99</span>\n",
       "</pre>\n"
      ],
      "text/plain": [
       "<rich.jupyter.JupyterRenderable at 0x7f4ee74e1760>"
      ]
     },
     "metadata": {},
     "output_type": "display_data"
    },
    {
     "name": "stderr",
     "output_type": "stream",
     "text": [
      "Group By (userID, firstClass) Length: 17776\n"
     ]
    },
    {
     "data": {
      "text/html": [
       "<pre style=\"white-space:pre;overflow-x:auto;line-height:normal;font-family:Menlo,'DejaVu Sans Mono',consolas,'Courier New',monospace\"><span style=\"color: #7fbfbf\">[10:06:27] </span><span style=\"color: #000080\">INFO    </span> Group By <span style=\"font-weight: bold\">(</span>userID, firstClass<span style=\"font-weight: bold\">)</span> Length: <span style=\"color: #000080; font-weight: bold\">17776</span>            <a href=\"file:///home/j-gunmo/desktop/00.my-project/17.P-Stage-T1003/4-STAGE/dkt_dataset.py\"><span style=\"color: #7f7f7f\">dkt_dataset.py</span></a><span style=\"color: #7f7f7f\">:114</span>\n",
       "</pre>\n"
      ],
      "text/plain": [
       "<rich.jupyter.JupyterRenderable at 0x7f4ee74e1160>"
      ]
     },
     "metadata": {},
     "output_type": "display_data"
    },
    {
     "name": "stderr",
     "output_type": "stream",
     "text": [
      "Group By (userID, firstClass) Length: 1963\n"
     ]
    },
    {
     "data": {
      "text/html": [
       "<pre style=\"white-space:pre;overflow-x:auto;line-height:normal;font-family:Menlo,'DejaVu Sans Mono',consolas,'Courier New',monospace\"><span style=\"color: #7fbfbf\">           </span><span style=\"color: #000080\">INFO    </span> Group By <span style=\"font-weight: bold\">(</span>userID, firstClass<span style=\"font-weight: bold\">)</span> Length: <span style=\"color: #000080; font-weight: bold\">1963</span>             <a href=\"file:///home/j-gunmo/desktop/00.my-project/17.P-Stage-T1003/4-STAGE/dkt_dataset.py\"><span style=\"color: #7f7f7f\">dkt_dataset.py</span></a><span style=\"color: #7f7f7f\">:115</span>\n",
       "</pre>\n"
      ],
      "text/plain": [
       "<rich.jupyter.JupyterRenderable at 0x7f4ee74e1430>"
      ]
     },
     "metadata": {},
     "output_type": "display_data"
    },
    {
     "name": "stderr",
     "output_type": "stream",
     "text": [
      "Group By (userID, firstClass) Length: 1987\n"
     ]
    },
    {
     "data": {
      "text/html": [
       "<pre style=\"white-space:pre;overflow-x:auto;line-height:normal;font-family:Menlo,'DejaVu Sans Mono',consolas,'Courier New',monospace\"><span style=\"color: #7fbfbf\">           </span><span style=\"color: #000080\">INFO    </span> Group By <span style=\"font-weight: bold\">(</span>userID, firstClass<span style=\"font-weight: bold\">)</span> Length: <span style=\"color: #000080; font-weight: bold\">1987</span>             <a href=\"file:///home/j-gunmo/desktop/00.my-project/17.P-Stage-T1003/4-STAGE/dkt_dataset.py\"><span style=\"color: #7f7f7f\">dkt_dataset.py</span></a><span style=\"color: #7f7f7f\">:116</span>\n",
       "</pre>\n"
      ],
      "text/plain": [
       "<rich.jupyter.JupyterRenderable at 0x7f4ee74e11f0>"
      ]
     },
     "metadata": {},
     "output_type": "display_data"
    }
   ],
   "source": [
    "# Data Augmentation\n",
    "preprocess._data_augmentation_user_testid()"
   ]
  },
  {
   "cell_type": "markdown",
   "metadata": {},
   "source": [
    "### 02-01 BaseLine 모델이랑 비교\n",
    "\n",
    "- 같은 Feature 사용 (02-make_feature랑 비교)\n",
    "- AUC : 0.7672\n",
    "- ACC : 0.7218"
   ]
  },
  {
   "cell_type": "code",
   "execution_count": 19,
   "metadata": {},
   "outputs": [],
   "source": [
    "import torch\n",
    "from models.lstm.model import LSTM\n",
    "from trainer import DKTTrainer\n",
    "\n",
    "class FeatureTestTrainer(DKTTrainer):\n",
    "    def _process_batch(self, batch):\n",
    "        batch['mask'] = batch['mask'].type(torch.FloatTensor)\n",
    "        batch[\"answerCode\"] = batch[\"answerCode\"].type(torch.FloatTensor)\n",
    "\n",
    "        batch[\"interaction\"] = batch[\"answerCode\"] + 1\n",
    "        batch[\"interaction\"] = batch[\"interaction\"].roll(shifts=1, dims=1)\n",
    "        batch[\"mask\"] = batch[\"mask\"].roll(shifts=1, dims=1)\n",
    "        batch[\"mask\"][:, 0] = 0\n",
    "        batch[\"interaction\"] = (batch[\"interaction\"] * batch[\"mask\"]).to(torch.int64)\n",
    "        \n",
    "        \n",
    "        for k in args.n_linears: # 수치형\n",
    "            batch[k] = batch[k].type(torch.FloatTensor)\n",
    "            \n",
    "        for k, v in args.n_embeddings.items(): # 범주형\n",
    "            batch[k] = batch[k].to(torch.int64)\n",
    "            \n",
    "        for k in batch.keys():\n",
    "            batch[k] = batch[k].to(self.args.device)\n",
    "        \n",
    "        return batch\n",
    "\n",
    "def log_notebook_fold5(trainer, train_data, valid_data, test_data):\n",
    "    auc, acc = trainer.run_cv(train_data, valid_data, test_data, \n",
    "                              folds=5, seeds=[0, 1, 2, 3, 4])\n",
    "    clear_output()\n",
    "    print(f\"auc: {auc}, acc: {acc}\")\n",
    "    \n",
    "def log_notebook_fold10(trainer, train_data, valid_data, test_data):\n",
    "    auc, acc = trainer.run_cv(train_data, valid_data, test_data, \n",
    "                              folds=10, seeds=[0, 1, 2, 3, 4, 5, 6, 7, 8, 9])\n",
    "    clear_output()\n",
    "    print(f\"auc: {auc}, acc: {acc}\")"
   ]
  },
  {
   "cell_type": "code",
   "execution_count": 13,
   "metadata": {},
   "outputs": [],
   "source": [
    "args.columns = columns[1:]\n",
    "train_data = preprocess.get_data(\"train_grouped\")\n",
    "valid_data = preprocess.get_data(\"valid_grouped\")\n",
    "test_data = preprocess.get_data(\"test_grouped\")"
   ]
  },
  {
   "cell_type": "code",
   "execution_count": 14,
   "metadata": {},
   "outputs": [],
   "source": [
    "args.num_workers = 2\n",
    "args.n_epochs = 10\n",
    "args.hidden_dim = 512\n",
    "args.use_dynamic = True"
   ]
  },
  {
   "cell_type": "code",
   "execution_count": 17,
   "metadata": {},
   "outputs": [],
   "source": [
    "trainer = FeatureTestTrainer(args, LSTM)"
   ]
  },
  {
   "cell_type": "code",
   "execution_count": 18,
   "metadata": {},
   "outputs": [
    {
     "name": "stdout",
     "output_type": "stream",
     "text": [
      "auc: 0.76686559031009, acc: 0.6900709219858158\n",
      "logging path : ../refactoring/LOG_[06.10_10:07]\n"
     ]
    }
   ],
   "source": [
    "log_notebook_fold5(trainer, train_data, valid_data, test_data)\n",
    "print(f\"logging path : {trainer.prefix_save_path}\")"
   ]
  },
  {
   "cell_type": "code",
   "execution_count": 23,
   "metadata": {},
   "outputs": [],
   "source": [
    "args.num_workers = 2\n",
    "args.n_epochs = 10\n",
    "args.hidden_dim = 1024\n",
    "args.use_dynamic = True\n",
    "\n",
    "trainer = FeatureTestTrainer(args, LSTM)"
   ]
  },
  {
   "cell_type": "code",
   "execution_count": 24,
   "metadata": {},
   "outputs": [
    {
     "name": "stdout",
     "output_type": "stream",
     "text": [
      "auc: 0.7647756599363843, acc: 0.6888044579533943\n",
      "logging path : ../refactoring/LOG_[06.10_10:53]\n"
     ]
    }
   ],
   "source": [
    "log_notebook_fold10(trainer, train_data, valid_data, test_data)\n",
    "print(f\"logging path : {trainer.prefix_save_path}\")"
   ]
  },
  {
   "cell_type": "markdown",
   "metadata": {},
   "source": [
    "auc 가 올랐다!!!!"
   ]
  },
  {
   "cell_type": "markdown",
   "metadata": {},
   "source": [
    "## 03 Loss, Optimizer, Scheduler 잘 적용 가능 하도록 Refactoring\n",
    "\n",
    "- HyperParameter Tuning을 위해서 필요하다.\n",
    "- Loss, Optimizer, Scheduler에 대해서 상세한 이해 후에 사용을 해야 된다.\n",
    "    - Default 값을 설정을 잘해야 된다.\n",
    "- loss.forward\n",
    "- optimizer.step\n",
    "- scheduler.step"
   ]
  },
  {
   "cell_type": "code",
   "execution_count": null,
   "metadata": {},
   "outputs": [],
   "source": []
  },
  {
   "cell_type": "code",
   "execution_count": null,
   "metadata": {},
   "outputs": [],
   "source": []
  },
  {
   "cell_type": "markdown",
   "metadata": {},
   "source": [
    "## 04 Refactoring을 진행하면서 README 수정도 해야 된다.\n",
    "\n",
    "- Feature Engineering README부터 작성"
   ]
  },
  {
   "cell_type": "code",
   "execution_count": null,
   "metadata": {},
   "outputs": [],
   "source": []
  },
  {
   "cell_type": "code",
   "execution_count": null,
   "metadata": {},
   "outputs": [],
   "source": []
  },
  {
   "cell_type": "markdown",
   "metadata": {},
   "source": [
    "## 05 TestDataset Result가 제대로 생성이 안된다.\n",
    "\n",
    "- 이건 아직 이유를 잘 모르겠음... Inference에서 오류가 나나\n",
    "- use_dynamic 때문이였음\n",
    "- 해결 여부 [O]"
   ]
  }
 ],
 "metadata": {
  "kernelspec": {
   "display_name": "baseline_code",
   "language": "python",
   "name": "baseline_code"
  },
  "language_info": {
   "codemirror_mode": {
    "name": "ipython",
    "version": 3
   },
   "file_extension": ".py",
   "mimetype": "text/x-python",
   "name": "python",
   "nbconvert_exporter": "python",
   "pygments_lexer": "ipython3",
   "version": "3.8.8"
  }
 },
 "nbformat": 4,
 "nbformat_minor": 4
}
