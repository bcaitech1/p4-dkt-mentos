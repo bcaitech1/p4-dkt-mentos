{
 "cells": [
  {
   "cell_type": "code",
   "execution_count": 1,
   "id": "08cfb67f-1870-4742-a690-5e12815a26f9",
   "metadata": {},
   "outputs": [],
   "source": [
    "import os\n",
    "import pandas as pd\n",
    "import numpy as np\n",
    "from sklearn.preprocessing import LabelEncoder\n",
    "import time\n",
    "from datetime import datetime\n",
    "import random\n",
    "import warnings\n",
    "\n",
    "from sklearn.model_selection import StratifiedKFold\n",
    "import lightgbm as lgb\n",
    "from sklearn.feature_selection import RFE\n",
    "from lightgbm import LGBMClassifier\n",
    "from sklearn.metrics import roc_auc_score\n",
    "from sklearn.metrics import accuracy_score\n",
    "\n",
    "warnings.filterwarnings(action='ignore')"
   ]
  },
  {
   "cell_type": "code",
   "execution_count": 2,
   "id": "a45b7b75-2dcc-4687-9b7c-9b2995b07962",
   "metadata": {},
   "outputs": [],
   "source": [
    "data_dir = '/opt/ml/input/data/train_dataset'\n",
    "file_name = 'train_data.csv'\n",
    "test_file_name = 'test_data.csv'"
   ]
  },
  {
   "cell_type": "code",
   "execution_count": 3,
   "id": "66e34c78-de10-4610-ad9a-41d9019bab5e",
   "metadata": {},
   "outputs": [],
   "source": [
    "csv_file_path = os.path.join(data_dir, file_name)\n",
    "df = pd.read_csv(csv_file_path)\n",
    "df['userID'] = [f'{id:0>4}' for id in df['userID'].values]"
   ]
  },
  {
   "cell_type": "markdown",
   "id": "39df299c-a8a1-43b7-a170-ddcb52ccf962",
   "metadata": {},
   "source": [
    "# Setting"
   ]
  },
  {
   "cell_type": "code",
   "execution_count": 4,
   "id": "3e548c7f-ba48-4313-b6a7-056f4ec05123",
   "metadata": {},
   "outputs": [],
   "source": [
    "# id column is ID in aggregation dataset\n",
    "id_column = 'userID' # one of ['userID', 'userID_testIdHead', 'userId_YMD_testId']\n",
    "n_folds = 5"
   ]
  },
  {
   "cell_type": "markdown",
   "id": "8dbf7a8d-111c-4581-be5f-d6dcfbca0eff",
   "metadata": {},
   "source": [
    "# Feature Enginerring"
   ]
  },
  {
   "cell_type": "code",
   "execution_count": 5,
   "id": "fdcca99d-3e30-46e1-b5c8-0cf433f458e6",
   "metadata": {},
   "outputs": [],
   "source": [
    "def convert_time(s):\n",
    "    timestamp = time.mktime(datetime.strptime(s, '%Y-%m-%d %H:%M:%S').timetuple())\n",
    "    return int(timestamp)\n",
    "\n",
    "def sec2date(s):\n",
    "    timetuple = time.gmtime(s)\n",
    "    date = f'{timetuple.tm_year}-{timetuple.tm_mon:0>2}-{timetuple.tm_mday:0>2} {timetuple.tm_hour:0>2}:{timetuple.tm_min:0>2}:{timetuple.tm_sec:0>2}'\n",
    "\n",
    "    return date"
   ]
  },
  {
   "cell_type": "code",
   "execution_count": 6,
   "id": "9653943e-9ccb-4a75-af17-50cab64a7cf8",
   "metadata": {},
   "outputs": [],
   "source": [
    "def preprocess(df):\n",
    "    # YYYY-MM-DD HH:MM:SS -> sec format\n",
    "    df['TimeSec'] = df['Timestamp'].apply(convert_time)\n",
    "    print('* success to get time sec format')\n",
    "    \n",
    "    # YYYY-MM-DD HH:MM:SS -> YYYY-MM-DD\n",
    "    df['YMD'] = [date.split()[0] for date in list(df['Timestamp'])]\n",
    "    print('* success to get YYYY-MM-DD format')\n",
    "    \n",
    "    # merge YYYY-MM-DD and testId\n",
    "    df['YMD_testId'] = df['YMD'] + df['testId']\n",
    "    print('* success to merge YYYY-MM-DD data and testId data')\n",
    "    \n",
    "    # merge userID, YYYY-MM-DD, and testId\n",
    "    df['userId_YMD_testId'] = df['userID'] + df['YMD'] + df['testId']\n",
    "    print('* success to merge userID, YYYY-MM-DD data and testId data')\n",
    "    \n",
    "    # create testId`s head \n",
    "    df['testIdHead'] = [id[1:4] for id in df['testId'].values]\n",
    "    print('* success to create testId`s head')\n",
    "    \n",
    "    # merge userID and testId\n",
    "    df['userID_testIdHead'] = df['userID'] + df['testIdHead']\n",
    "    print('* success to merge userID and testIdHead')\n",
    "    \n",
    "    return df"
   ]
  },
  {
   "cell_type": "code",
   "execution_count": 7,
   "id": "32dd1e57-37bc-4ea5-9714-87c9c27e6649",
   "metadata": {},
   "outputs": [],
   "source": [
    "def create_additional_df(df, id_column):    \n",
    "    # create Dataframe for aggregate data of each userID_testIdHead (dataframe idx == userID_testIdHead)\n",
    "    ID_df = pd.DataFrame(df[id_column].unique(), columns=['ID'])\n",
    "    ID_df.index = df[id_column].unique()\n",
    "    print('* success to create dataframe of each id_column')\n",
    "\n",
    "    # last answerCode of each userID == y\n",
    "    ID_df['y'] = df.groupby(id_column).apply(lambda x: list(x['answerCode'])[-1])\n",
    "    print('* success to get y data of each id_column')\n",
    "    \n",
    "    # remove last index of each userID == y data is not included in x data\n",
    "    last_idx = df.groupby(id_column).apply(lambda x: x.index[-1]).values\n",
    "    df_without_y = df.drop(last_idx)\n",
    "    print('* success to remove last index of each id_column')\n",
    "    \n",
    "    return df_without_y, ID_df"
   ]
  },
  {
   "cell_type": "code",
   "execution_count": 8,
   "id": "d896d375-6b91-4ce9-acac-741074955a5d",
   "metadata": {},
   "outputs": [],
   "source": [
    "def add_feature(df, df_without_y, ID_df, id_column):\n",
    "    ID_df['QuesCnt'] = df_without_y.groupby(id_column).size()\n",
    "    ID_df['CorrectCnt'] = df_without_y.groupby(id_column).sum().answerCode\n",
    "    ID_df['CorrectPer'] = ID_df['CorrectCnt'] / ID_df['QuesCnt']\n",
    "    ID_df['CycleCnt'] = df_without_y.groupby(id_column).apply(lambda x: len(x['YMD_testId'].unique()))\n",
    "    ID_df['QuesPerCycle'] = ID_df['QuesCnt'] / ID_df['CycleCnt']\n",
    "    maxmin_timestamp_sec = df_without_y.groupby(id_column).apply(lambda x: x['TimeSec'].max()-x['TimeSec'].min())\n",
    "    ID_df['Max-MinTimestampDay'] = maxmin_timestamp_sec / (60 * 60 * 24)\n",
    "    \n",
    "    CyclesPerID = df_without_y.groupby(id_column).apply(lambda x: list(x.groupby(x['YMD_testId']).apply(lambda y: [max(y['TimeSec']), min(y['TimeSec'])])))\n",
    "    CyclesPerID = CyclesPerID.reset_index()\n",
    "    MeanCycleIntervalSec = CyclesPerID.groupby(id_column).apply(lambda x: np.mean(np.array(x[0].values[0])[1:][:,1]-np.array(x[0].values[0])[:-1][:,0]) if len(x[0].values[0]) !=1 else 0)\n",
    "    ID_df['MeanCycleIntervalDay'] = MeanCycleIntervalSec / (60 * 60 * 24)\n",
    "    \n",
    "    ID_df['Top10CorrectPer'] = df_without_y.groupby(id_column).apply(lambda x: np.mean(x['answerCode'][-10:]))\n",
    "    ID_df['Top30CorrectPer'] = df_without_y.groupby(id_column).apply(lambda x: np.mean(x['answerCode'][-30:]))\n",
    "    ID_df['Top50CorrectPer'] = df_without_y.groupby(id_column).apply(lambda x: np.mean(x['answerCode'][-50:]))\n",
    "    ID_df['Top100CorrectPer'] = df_without_y.groupby(id_column).apply(lambda x: np.mean(x['answerCode'][-100:]))\n",
    "    ID_df['LastCycleCorrectPer'] = df.groupby(id_column).apply(lambda x: np.mean(x[x['testId'] == list(x['testId'])[-1]]['answerCode'][:-1]))\n",
    "\n",
    "    ID_df['MeanTimeDiffinCycle'] = df_without_y.groupby(id_column).apply(lambda x: np.mean(x.groupby('YMD_testId').apply(lambda y: np.mean(np.array(y['TimeSec'])[1:]-np.array(y['TimeSec'])[:-1]) if len(y['TimeSec']) != 1 else 0)))\n",
    "    \n",
    "    print('* success to add features')\n",
    "    \n",
    "    return ID_df"
   ]
  },
  {
   "cell_type": "code",
   "execution_count": 9,
   "id": "70c9feaf-73cb-4881-b66a-907bb7b69155",
   "metadata": {
    "tags": []
   },
   "outputs": [
    {
     "name": "stdout",
     "output_type": "stream",
     "text": [
      "* success to get time sec format\n",
      "* success to get YYYY-MM-DD format\n",
      "* success to merge YYYY-MM-DD data and testId data\n",
      "* success to merge userID, YYYY-MM-DD data and testId data\n",
      "* success to create testId`s head\n",
      "* success to merge userID and testIdHead\n"
     ]
    }
   ],
   "source": [
    "# create additional columns in df\n",
    "df = preprocess(df)"
   ]
  },
  {
   "cell_type": "code",
   "execution_count": 10,
   "id": "8ea2687c-dc0f-454c-8065-9b2714b6bb5f",
   "metadata": {},
   "outputs": [
    {
     "name": "stdout",
     "output_type": "stream",
     "text": [
      "* success to create dataframe of each id_column\n",
      "* success to get y data of each id_column\n",
      "* success to remove last index of each id_column\n"
     ]
    }
   ],
   "source": [
    "# create df without y column and dataframe for aggregation dataset\n",
    "df_without_y, ID_df = create_additional_df(df, id_column)"
   ]
  },
  {
   "cell_type": "code",
   "execution_count": 11,
   "id": "212f67a6-fd19-4590-996c-fe577cef45c5",
   "metadata": {},
   "outputs": [
    {
     "name": "stdout",
     "output_type": "stream",
     "text": [
      "* success to add features\n"
     ]
    }
   ],
   "source": [
    "# add features into aggregation dataset\n",
    "ID_df_fe = add_feature(df, df_without_y, ID_df, id_column)  "
   ]
  },
  {
   "cell_type": "code",
   "execution_count": 12,
   "id": "5342e8e1-30a0-4f96-a7fa-a7b96740dddc",
   "metadata": {},
   "outputs": [
    {
     "data": {
      "text/html": [
       "<div>\n",
       "<style scoped>\n",
       "    .dataframe tbody tr th:only-of-type {\n",
       "        vertical-align: middle;\n",
       "    }\n",
       "\n",
       "    .dataframe tbody tr th {\n",
       "        vertical-align: top;\n",
       "    }\n",
       "\n",
       "    .dataframe thead th {\n",
       "        text-align: right;\n",
       "    }\n",
       "</style>\n",
       "<table border=\"1\" class=\"dataframe\">\n",
       "  <thead>\n",
       "    <tr style=\"text-align: right;\">\n",
       "      <th></th>\n",
       "      <th>ID</th>\n",
       "      <th>y</th>\n",
       "      <th>QuesCnt</th>\n",
       "      <th>CorrectCnt</th>\n",
       "      <th>CorrectPer</th>\n",
       "      <th>CycleCnt</th>\n",
       "      <th>QuesPerCycle</th>\n",
       "      <th>Max-MinTimestampDay</th>\n",
       "      <th>MeanCycleIntervalDay</th>\n",
       "      <th>Top10CorrectPer</th>\n",
       "      <th>Top30CorrectPer</th>\n",
       "      <th>Top50CorrectPer</th>\n",
       "      <th>Top100CorrectPer</th>\n",
       "      <th>LastCycleCorrectPer</th>\n",
       "      <th>MeanTimeDiffinCycle</th>\n",
       "    </tr>\n",
       "  </thead>\n",
       "  <tbody>\n",
       "    <tr>\n",
       "      <th>2979</th>\n",
       "      <td>2979</td>\n",
       "      <td>0</td>\n",
       "      <td>667</td>\n",
       "      <td>436</td>\n",
       "      <td>0.653673</td>\n",
       "      <td>114</td>\n",
       "      <td>5.850877</td>\n",
       "      <td>251.009086</td>\n",
       "      <td>2.210475</td>\n",
       "      <td>0.9</td>\n",
       "      <td>0.833333</td>\n",
       "      <td>0.64</td>\n",
       "      <td>0.560000</td>\n",
       "      <td>0.857143</td>\n",
       "      <td>194.753421</td>\n",
       "    </tr>\n",
       "    <tr>\n",
       "      <th>0811</th>\n",
       "      <td>0811</td>\n",
       "      <td>0</td>\n",
       "      <td>603</td>\n",
       "      <td>384</td>\n",
       "      <td>0.636816</td>\n",
       "      <td>83</td>\n",
       "      <td>7.265060</td>\n",
       "      <td>347.217095</td>\n",
       "      <td>4.209918</td>\n",
       "      <td>0.4</td>\n",
       "      <td>0.433333</td>\n",
       "      <td>0.52</td>\n",
       "      <td>0.530000</td>\n",
       "      <td>0.571429</td>\n",
       "      <td>368.252691</td>\n",
       "    </tr>\n",
       "    <tr>\n",
       "      <th>3808</th>\n",
       "      <td>3808</td>\n",
       "      <td>0</td>\n",
       "      <td>130</td>\n",
       "      <td>67</td>\n",
       "      <td>0.515385</td>\n",
       "      <td>22</td>\n",
       "      <td>5.909091</td>\n",
       "      <td>85.945521</td>\n",
       "      <td>4.090495</td>\n",
       "      <td>0.6</td>\n",
       "      <td>0.366667</td>\n",
       "      <td>0.32</td>\n",
       "      <td>0.480000</td>\n",
       "      <td>0.571429</td>\n",
       "      <td>36.675216</td>\n",
       "    </tr>\n",
       "    <tr>\n",
       "      <th>5092</th>\n",
       "      <td>5092</td>\n",
       "      <td>1</td>\n",
       "      <td>95</td>\n",
       "      <td>78</td>\n",
       "      <td>0.821053</td>\n",
       "      <td>16</td>\n",
       "      <td>5.937500</td>\n",
       "      <td>243.207812</td>\n",
       "      <td>16.210508</td>\n",
       "      <td>0.9</td>\n",
       "      <td>0.933333</td>\n",
       "      <td>0.90</td>\n",
       "      <td>0.821053</td>\n",
       "      <td>1.000000</td>\n",
       "      <td>59.241518</td>\n",
       "    </tr>\n",
       "    <tr>\n",
       "      <th>3721</th>\n",
       "      <td>3721</td>\n",
       "      <td>1</td>\n",
       "      <td>259</td>\n",
       "      <td>199</td>\n",
       "      <td>0.768340</td>\n",
       "      <td>41</td>\n",
       "      <td>6.317073</td>\n",
       "      <td>233.239641</td>\n",
       "      <td>5.817503</td>\n",
       "      <td>0.9</td>\n",
       "      <td>0.933333</td>\n",
       "      <td>0.94</td>\n",
       "      <td>0.890000</td>\n",
       "      <td>1.000000</td>\n",
       "      <td>211.389024</td>\n",
       "    </tr>\n",
       "  </tbody>\n",
       "</table>\n",
       "</div>"
      ],
      "text/plain": [
       "        ID  y  QuesCnt  CorrectCnt  CorrectPer  CycleCnt  QuesPerCycle  \\\n",
       "2979  2979  0      667         436    0.653673       114      5.850877   \n",
       "0811  0811  0      603         384    0.636816        83      7.265060   \n",
       "3808  3808  0      130          67    0.515385        22      5.909091   \n",
       "5092  5092  1       95          78    0.821053        16      5.937500   \n",
       "3721  3721  1      259         199    0.768340        41      6.317073   \n",
       "\n",
       "      Max-MinTimestampDay  MeanCycleIntervalDay  Top10CorrectPer  \\\n",
       "2979           251.009086              2.210475              0.9   \n",
       "0811           347.217095              4.209918              0.4   \n",
       "3808            85.945521              4.090495              0.6   \n",
       "5092           243.207812             16.210508              0.9   \n",
       "3721           233.239641              5.817503              0.9   \n",
       "\n",
       "      Top30CorrectPer  Top50CorrectPer  Top100CorrectPer  LastCycleCorrectPer  \\\n",
       "2979         0.833333             0.64          0.560000             0.857143   \n",
       "0811         0.433333             0.52          0.530000             0.571429   \n",
       "3808         0.366667             0.32          0.480000             0.571429   \n",
       "5092         0.933333             0.90          0.821053             1.000000   \n",
       "3721         0.933333             0.94          0.890000             1.000000   \n",
       "\n",
       "      MeanTimeDiffinCycle  \n",
       "2979           194.753421  \n",
       "0811           368.252691  \n",
       "3808            36.675216  \n",
       "5092            59.241518  \n",
       "3721           211.389024  "
      ]
     },
     "execution_count": 12,
     "metadata": {},
     "output_type": "execute_result"
    }
   ],
   "source": [
    "# check df\n",
    "ID_df_fe.iloc[[random.randint(0, len(ID_df_fe)) for _ in range(5)]]"
   ]
  },
  {
   "cell_type": "markdown",
   "id": "fc84918d-ff33-4c31-bfe5-7fa2915d48ae",
   "metadata": {},
   "source": [
    "# Training"
   ]
  },
  {
   "cell_type": "code",
   "execution_count": 13,
   "id": "087b3dc0-fb11-4e76-bd9c-e9cda3bc5a38",
   "metadata": {},
   "outputs": [],
   "source": [
    "def kfold_training(ID_df_fe, n_features, n_splits):\n",
    "    # define X, y\n",
    "    X = ID_df_fe.drop(['ID', 'y'], axis=1)\n",
    "    X = X.values\n",
    "    y = ID_df_fe['y'].values\n",
    "\n",
    "    # feature selection\n",
    "    lgbm_wrapper = LGBMClassifier(n_estimators=400)\n",
    "    selector = RFE(lgbm_wrapper, n_features_to_select=n_features, step=1)\n",
    "    selector = selector.fit(X, y)\n",
    "\n",
    "    # select features\n",
    "    X = X[:,selector.support_]\n",
    "\n",
    "    fold_acc = []\n",
    "    fold_auc = []\n",
    "    models = []\n",
    "    # split train, valid dataset\n",
    "    skf = StratifiedKFold(n_splits=n_splits)\n",
    "    for train_index, valid_index in skf.split(X, y):\n",
    "        X_train, X_valid = X[train_index], X[valid_index]\n",
    "        y_train, y_valid = y[train_index], y[valid_index]\n",
    "\n",
    "        lgb_train = lgb.Dataset(X_train, y_train)\n",
    "        lgb_valid = lgb.Dataset(X_valid, y_valid)\n",
    "\n",
    "        # training\n",
    "        model = lgb.train(\n",
    "                            {'objective': 'binary'}, \n",
    "                            lgb_train,\n",
    "                            valid_sets=[lgb_train, lgb_valid],\n",
    "                            verbose_eval=100,\n",
    "                            num_boost_round=500,\n",
    "                            early_stopping_rounds=100\n",
    "                        )\n",
    "        models.append(model)\n",
    "        \n",
    "        preds = model.predict(X_valid)\n",
    "        fold_acc.append(accuracy_score(y_valid, np.where(preds >= 0.5, 1, 0)))\n",
    "        fold_auc.append(roc_auc_score(y_valid, preds))\n",
    "    \n",
    "    return models, selector, np.mean(fold_acc), np.mean(fold_auc)"
   ]
  },
  {
   "cell_type": "code",
   "execution_count": 14,
   "id": "ded7de37-796b-4733-b439-6e16c9003e35",
   "metadata": {},
   "outputs": [
    {
     "name": "stdout",
     "output_type": "stream",
     "text": [
      "* best number of features : 12                \n"
     ]
    }
   ],
   "source": [
    "# search best number of features\n",
    "best_auc = 0\n",
    "best_n_feature = 0\n",
    "n_columns = len(ID_df_fe.drop(['ID', 'y'], axis=1).columns)\n",
    "\n",
    "for n_feature in range(1, n_columns+1):\n",
    "    _, _, _, auc = kfold_training(ID_df_fe, n_feature, n_folds)\n",
    "    if best_auc < auc:\n",
    "        best_auc = auc\n",
    "        best_n_feature = n_feature\n",
    "    \n",
    "    print(f'* searching best number of features [{n_feature}/{n_columns}]', end='\\r')\n",
    "    \n",
    "print(f'* best number of features : {best_n_feature}                ')"
   ]
  },
  {
   "cell_type": "code",
   "execution_count": 15,
   "id": "19f3feea-8bc1-4ab2-bf42-c0d5804aff7c",
   "metadata": {},
   "outputs": [
    {
     "name": "stdout",
     "output_type": "stream",
     "text": [
      "* Valid ACC : 0.6714, Valid AUC : 0.7312\n"
     ]
    }
   ],
   "source": [
    "# training with best number of features\n",
    "models, selector, acc, auc = kfold_training(ID_df_fe, best_n_feature, n_folds)\n",
    "print(f'* Valid ACC : {acc:.4f}, Valid AUC : {auc:.4f}')"
   ]
  },
  {
   "cell_type": "code",
   "execution_count": 16,
   "id": "db3f3a16-74ad-4d53-9620-bcb127002c13",
   "metadata": {},
   "outputs": [
    {
     "name": "stdout",
     "output_type": "stream",
     "text": [
      "column_0 : QuesCnt\n",
      "column_1 : CorrectCnt\n",
      "column_2 : CorrectPer\n",
      "column_3 : CycleCnt\n",
      "column_4 : QuesPerCycle\n",
      "column_5 : Max-MinTimestampDay\n",
      "column_6 : MeanCycleIntervalDay\n",
      "column_7 : Top10CorrectPer\n",
      "column_8 : Top30CorrectPer\n",
      "column_9 : Top50CorrectPer\n",
      "column_10 : Top100CorrectPer\n",
      "column_11 : LastCycleCorrectPer\n",
      "column_12 : MeanTimeDiffinCycle\n"
     ]
    },
    {
     "data": {
      "image/png": "[encoded data removed]",
      "text/plain": [
       "<Figure size 432x288 with 1 Axes>"
      ]
     },
     "metadata": {
      "needs_background": "light"
     },
     "output_type": "display_data"
    }
   ],
   "source": [
    "# check feature importance\n",
    "lgb.plot_importance(models[1])\n",
    "\n",
    "for idx, col in enumerate(ID_df_fe.drop(['ID', 'y'], axis=1).columns):\n",
    "    print(f'column_{idx} : {col}')"
   ]
  },
  {
   "cell_type": "markdown",
   "id": "37f7a7a5-f4ca-468a-bf6d-6c1788ff0320",
   "metadata": {},
   "source": [
    "# Inference"
   ]
  },
  {
   "cell_type": "code",
   "execution_count": 17,
   "id": "b2b5625e-6209-4a40-a5b5-227293cf5326",
   "metadata": {},
   "outputs": [],
   "source": [
    "# load test dataset\n",
    "test_csv_file_path = os.path.join(data_dir, 'test_data.csv')\n",
    "test_df = pd.read_csv(test_csv_file_path)\n",
    "test_df['userID'] = [f'{id:0>4}' for id in test_df['userID'].values]"
   ]
  },
  {
   "cell_type": "code",
   "execution_count": 18,
   "id": "6f4f3b90-5dbd-4e18-91f5-09db4aa163ee",
   "metadata": {},
   "outputs": [
    {
     "name": "stdout",
     "output_type": "stream",
     "text": [
      "* success to get time sec format\n",
      "* success to get YYYY-MM-DD format\n",
      "* success to merge YYYY-MM-DD data and testId data\n",
      "* success to merge userID, YYYY-MM-DD data and testId data\n",
      "* success to create testId`s head\n",
      "* success to merge userID and testIdHead\n"
     ]
    }
   ],
   "source": [
    "# create additional columns in df\n",
    "test_df = preprocess(test_df)"
   ]
  },
  {
   "cell_type": "code",
   "execution_count": 19,
   "id": "b69a2468-3261-4d4b-8e76-2b7c58536332",
   "metadata": {},
   "outputs": [
    {
     "name": "stdout",
     "output_type": "stream",
     "text": [
      "* success to create dataframe of each id_column\n",
      "* success to get y data of each id_column\n",
      "* success to remove last index of each id_column\n"
     ]
    }
   ],
   "source": [
    "# create df without y column and dataframe for aggregation dataset\n",
    "test_df_without_y, test_ID_df = create_additional_df(test_df, id_column)"
   ]
  },
  {
   "cell_type": "code",
   "execution_count": 20,
   "id": "06d5d4fd-1469-45b6-b2ac-9fd700bb2050",
   "metadata": {},
   "outputs": [],
   "source": [
    "# pick dataset that should be predicted\n",
    "test_ID_df = test_ID_df[test_ID_df['y'] == -1] "
   ]
  },
  {
   "cell_type": "code",
   "execution_count": 21,
   "id": "f25f6183-5707-4118-935b-bbcf65a9ddd1",
   "metadata": {},
   "outputs": [
    {
     "name": "stdout",
     "output_type": "stream",
     "text": [
      "* success to add features\n"
     ]
    }
   ],
   "source": [
    "# add features into aggregation dataset\n",
    "test_ID_df_fe = add_feature(test_df, test_df_without_y, test_ID_df, id_column)  "
   ]
  },
  {
   "cell_type": "code",
   "execution_count": 22,
   "id": "c4f9c0b1-9875-4355-aa23-1d846c526655",
   "metadata": {},
   "outputs": [],
   "source": [
    "# feature selection\n",
    "X_test = test_ID_df_fe.drop(['ID', 'y'], axis=1)\n",
    "X_test = X_test.values\n",
    "X_test = X_test[:,selector.support_]"
   ]
  },
  {
   "cell_type": "code",
   "execution_count": 23,
   "id": "e194dd00-1706-432c-a4a6-cd936bad4583",
   "metadata": {},
   "outputs": [],
   "source": [
    "# prediction\n",
    "total_preds = 0\n",
    "for k in range(n_folds):\n",
    "    total_preds += models[k].predict(X_test)\n",
    "total_preds /= n_folds"
   ]
  },
  {
   "cell_type": "code",
   "execution_count": 24,
   "id": "14d9ea1f-28f0-471d-b50e-31302dab1ed5",
   "metadata": {},
   "outputs": [
    {
     "name": "stdout",
     "output_type": "stream",
     "text": [
      "writing prediction : output/lgbm_userID_k5.csv\n"
     ]
    }
   ],
   "source": [
    "# write submission\n",
    "output_dir = 'output/'\n",
    "write_path = os.path.join(output_dir, f\"lgbm_{id_column}_k{n_folds}.csv\")\n",
    "if not os.path.exists(output_dir):\n",
    "    os.makedirs(output_dir)    \n",
    "with open(write_path, 'w', encoding='utf8') as w:\n",
    "    print(\"writing prediction : {}\".format(write_path))\n",
    "    w.write(\"id,prediction\\n\")\n",
    "    for id, p in enumerate(total_preds):\n",
    "        w.write('{},{}\\n'.format(id,p))"
   ]
  },
  {
   "cell_type": "code",
   "execution_count": null,
   "id": "3377c621-db06-472b-b0a5-9d0e33d8de82",
   "metadata": {},
   "outputs": [],
   "source": []
  }
 ],
 "metadata": {
  "kernelspec": {
   "display_name": "Python 3",
   "language": "python",
   "name": "python3"
  },
  "language_info": {
   "codemirror_mode": {
    "name": "ipython",
    "version": 3
   },
   "file_extension": ".py",
   "mimetype": "text/x-python",
   "name": "python",
   "nbconvert_exporter": "python",
   "pygments_lexer": "ipython3",
   "version": "3.7.7"
  }
 },
 "nbformat": 4,
 "nbformat_minor": 5
}
