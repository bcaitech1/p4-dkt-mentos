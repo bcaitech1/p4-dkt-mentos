{
 "cells": [
  {
   "cell_type": "code",
   "execution_count": 2,
   "id": "arabic-seeking",
   "metadata": {},
   "outputs": [],
   "source": [
    "import numpy as np\n",
    "import pandas as pd\n",
    "import matplotlib.pyplot as plt\n",
    "import seaborn as sns; sns.set_theme(color_codes=True)"
   ]
  },
  {
   "cell_type": "code",
   "execution_count": 4,
   "id": "angry-mining",
   "metadata": {},
   "outputs": [
    {
     "name": "stdout",
     "output_type": "stream",
     "text": [
      "CPU times: user 3.38 s, sys: 380 ms, total: 3.76 s\n",
      "Wall time: 3.76 s\n"
     ]
    }
   ],
   "source": [
    "%%time\n",
    "dtype = {\n",
    "    'userID': 'int16',\n",
    "    'answerCode': 'int8',\n",
    "    'KnowledgeTag': 'int16'\n",
    "}   \n",
    "\n",
    "DATA_PATH = './train_data.csv'\n",
    "df = pd.read_csv(DATA_PATH, dtype=dtype, parse_dates=['Timestamp'])\n",
    "df = df.sort_values(by=['userID', 'Timestamp']).reset_index(drop=True)"
   ]
  },
  {
   "cell_type": "code",
   "execution_count": 3,
   "id": "disciplinary-wildlife",
   "metadata": {},
   "outputs": [
    {
     "data": {
      "text/html": [
       "<div>\n",
       "<style scoped>\n",
       "    .dataframe tbody tr th:only-of-type {\n",
       "        vertical-align: middle;\n",
       "    }\n",
       "\n",
       "    .dataframe tbody tr th {\n",
       "        vertical-align: top;\n",
       "    }\n",
       "\n",
       "    .dataframe thead th {\n",
       "        text-align: right;\n",
       "    }\n",
       "</style>\n",
       "<table border=\"1\" class=\"dataframe\">\n",
       "  <thead>\n",
       "    <tr style=\"text-align: right;\">\n",
       "      <th></th>\n",
       "      <th>userID</th>\n",
       "      <th>assessmentItemID</th>\n",
       "      <th>testId</th>\n",
       "      <th>answerCode</th>\n",
       "      <th>Timestamp</th>\n",
       "      <th>KnowledgeTag</th>\n",
       "    </tr>\n",
       "  </thead>\n",
       "  <tbody>\n",
       "    <tr>\n",
       "      <th>0</th>\n",
       "      <td>0</td>\n",
       "      <td>A060001001</td>\n",
       "      <td>A060000001</td>\n",
       "      <td>1</td>\n",
       "      <td>2020-03-24 00:17:11</td>\n",
       "      <td>7224</td>\n",
       "    </tr>\n",
       "    <tr>\n",
       "      <th>1</th>\n",
       "      <td>0</td>\n",
       "      <td>A060001002</td>\n",
       "      <td>A060000001</td>\n",
       "      <td>1</td>\n",
       "      <td>2020-03-24 00:17:14</td>\n",
       "      <td>7225</td>\n",
       "    </tr>\n",
       "    <tr>\n",
       "      <th>2</th>\n",
       "      <td>0</td>\n",
       "      <td>A060001003</td>\n",
       "      <td>A060000001</td>\n",
       "      <td>1</td>\n",
       "      <td>2020-03-24 00:17:22</td>\n",
       "      <td>7225</td>\n",
       "    </tr>\n",
       "    <tr>\n",
       "      <th>3</th>\n",
       "      <td>0</td>\n",
       "      <td>A060001004</td>\n",
       "      <td>A060000001</td>\n",
       "      <td>1</td>\n",
       "      <td>2020-03-24 00:17:29</td>\n",
       "      <td>7225</td>\n",
       "    </tr>\n",
       "    <tr>\n",
       "      <th>4</th>\n",
       "      <td>0</td>\n",
       "      <td>A060001005</td>\n",
       "      <td>A060000001</td>\n",
       "      <td>1</td>\n",
       "      <td>2020-03-24 00:17:36</td>\n",
       "      <td>7225</td>\n",
       "    </tr>\n",
       "    <tr>\n",
       "      <th>...</th>\n",
       "      <td>...</td>\n",
       "      <td>...</td>\n",
       "      <td>...</td>\n",
       "      <td>...</td>\n",
       "      <td>...</td>\n",
       "      <td>...</td>\n",
       "    </tr>\n",
       "    <tr>\n",
       "      <th>2266581</th>\n",
       "      <td>7441</td>\n",
       "      <td>A030071005</td>\n",
       "      <td>A030000071</td>\n",
       "      <td>0</td>\n",
       "      <td>2020-06-05 06:50:21</td>\n",
       "      <td>438</td>\n",
       "    </tr>\n",
       "    <tr>\n",
       "      <th>2266582</th>\n",
       "      <td>7441</td>\n",
       "      <td>A040165001</td>\n",
       "      <td>A040000165</td>\n",
       "      <td>1</td>\n",
       "      <td>2020-08-21 01:06:39</td>\n",
       "      <td>8836</td>\n",
       "    </tr>\n",
       "    <tr>\n",
       "      <th>2266583</th>\n",
       "      <td>7441</td>\n",
       "      <td>A040165002</td>\n",
       "      <td>A040000165</td>\n",
       "      <td>1</td>\n",
       "      <td>2020-08-21 01:06:50</td>\n",
       "      <td>8836</td>\n",
       "    </tr>\n",
       "    <tr>\n",
       "      <th>2266584</th>\n",
       "      <td>7441</td>\n",
       "      <td>A040165003</td>\n",
       "      <td>A040000165</td>\n",
       "      <td>1</td>\n",
       "      <td>2020-08-21 01:07:36</td>\n",
       "      <td>8836</td>\n",
       "    </tr>\n",
       "    <tr>\n",
       "      <th>2266585</th>\n",
       "      <td>7441</td>\n",
       "      <td>A040165004</td>\n",
       "      <td>A040000165</td>\n",
       "      <td>1</td>\n",
       "      <td>2020-08-21 01:08:49</td>\n",
       "      <td>8836</td>\n",
       "    </tr>\n",
       "  </tbody>\n",
       "</table>\n",
       "<p>2266586 rows × 6 columns</p>\n",
       "</div>"
      ],
      "text/plain": [
       "         userID assessmentItemID      testId  answerCode           Timestamp  \\\n",
       "0             0       A060001001  A060000001           1 2020-03-24 00:17:11   \n",
       "1             0       A060001002  A060000001           1 2020-03-24 00:17:14   \n",
       "2             0       A060001003  A060000001           1 2020-03-24 00:17:22   \n",
       "3             0       A060001004  A060000001           1 2020-03-24 00:17:29   \n",
       "4             0       A060001005  A060000001           1 2020-03-24 00:17:36   \n",
       "...         ...              ...         ...         ...                 ...   \n",
       "2266581    7441       A030071005  A030000071           0 2020-06-05 06:50:21   \n",
       "2266582    7441       A040165001  A040000165           1 2020-08-21 01:06:39   \n",
       "2266583    7441       A040165002  A040000165           1 2020-08-21 01:06:50   \n",
       "2266584    7441       A040165003  A040000165           1 2020-08-21 01:07:36   \n",
       "2266585    7441       A040165004  A040000165           1 2020-08-21 01:08:49   \n",
       "\n",
       "         KnowledgeTag  \n",
       "0                7224  \n",
       "1                7225  \n",
       "2                7225  \n",
       "3                7225  \n",
       "4                7225  \n",
       "...               ...  \n",
       "2266581           438  \n",
       "2266582          8836  \n",
       "2266583          8836  \n",
       "2266584          8836  \n",
       "2266585          8836  \n",
       "\n",
       "[2266586 rows x 6 columns]"
      ]
     },
     "execution_count": 3,
     "metadata": {},
     "output_type": "execute_result"
    }
   ],
   "source": [
    "df"
   ]
  },
  {
   "cell_type": "code",
   "execution_count": 57,
   "id": "presidential-asset",
   "metadata": {},
   "outputs": [
    {
     "name": "stdout",
     "output_type": "stream",
     "text": [
      "<class 'pandas.core.frame.DataFrame'>\n",
      "RangeIndex: 2266586 entries, 0 to 2266585\n",
      "Data columns (total 6 columns):\n",
      " #   Column            Dtype         \n",
      "---  ------            -----         \n",
      " 0   userID            int16         \n",
      " 1   assessmentItemID  object        \n",
      " 2   testId            object        \n",
      " 3   answerCode        int8          \n",
      " 4   Timestamp         datetime64[ns]\n",
      " 5   KnowledgeTag      int16         \n",
      "dtypes: datetime64[ns](1), int16(2), int8(1), object(2)\n",
      "memory usage: 62.7+ MB\n"
     ]
    }
   ],
   "source": [
    "df.info()"
   ]
  },
  {
   "cell_type": "code",
   "execution_count": 58,
   "id": "hazardous-vampire",
   "metadata": {},
   "outputs": [
    {
     "name": "stderr",
     "output_type": "stream",
     "text": [
      "/opt/conda/lib/python3.7/site-packages/ipykernel_launcher.py:1: FutureWarning: Treating datetime data as categorical rather than numeric in `.describe` is deprecated and will be removed in a future version of pandas. Specify `datetime_is_numeric=True` to silence this warning and adopt the future behavior now.\n",
      "  \"\"\"Entry point for launching an IPython kernel.\n"
     ]
    },
    {
     "data": {
      "text/html": [
       "<div>\n",
       "<style scoped>\n",
       "    .dataframe tbody tr th:only-of-type {\n",
       "        vertical-align: middle;\n",
       "    }\n",
       "\n",
       "    .dataframe tbody tr th {\n",
       "        vertical-align: top;\n",
       "    }\n",
       "\n",
       "    .dataframe thead th {\n",
       "        text-align: right;\n",
       "    }\n",
       "</style>\n",
       "<table border=\"1\" class=\"dataframe\">\n",
       "  <thead>\n",
       "    <tr style=\"text-align: right;\">\n",
       "      <th></th>\n",
       "      <th>userID</th>\n",
       "      <th>assessmentItemID</th>\n",
       "      <th>testId</th>\n",
       "      <th>answerCode</th>\n",
       "      <th>Timestamp</th>\n",
       "      <th>KnowledgeTag</th>\n",
       "    </tr>\n",
       "  </thead>\n",
       "  <tbody>\n",
       "    <tr>\n",
       "      <th>count</th>\n",
       "      <td>2.266586e+06</td>\n",
       "      <td>2266586</td>\n",
       "      <td>2266586</td>\n",
       "      <td>2.266586e+06</td>\n",
       "      <td>2266586</td>\n",
       "      <td>2.266586e+06</td>\n",
       "    </tr>\n",
       "    <tr>\n",
       "      <th>unique</th>\n",
       "      <td>NaN</td>\n",
       "      <td>9454</td>\n",
       "      <td>1537</td>\n",
       "      <td>NaN</td>\n",
       "      <td>2076774</td>\n",
       "      <td>NaN</td>\n",
       "    </tr>\n",
       "    <tr>\n",
       "      <th>top</th>\n",
       "      <td>NaN</td>\n",
       "      <td>A090014005</td>\n",
       "      <td>A080000128</td>\n",
       "      <td>NaN</td>\n",
       "      <td>2020-10-15 08:59:56</td>\n",
       "      <td>NaN</td>\n",
       "    </tr>\n",
       "    <tr>\n",
       "      <th>freq</th>\n",
       "      <td>NaN</td>\n",
       "      <td>454</td>\n",
       "      <td>3960</td>\n",
       "      <td>NaN</td>\n",
       "      <td>7</td>\n",
       "      <td>NaN</td>\n",
       "    </tr>\n",
       "    <tr>\n",
       "      <th>first</th>\n",
       "      <td>NaN</td>\n",
       "      <td>NaN</td>\n",
       "      <td>NaN</td>\n",
       "      <td>NaN</td>\n",
       "      <td>2019-12-31 15:08:01</td>\n",
       "      <td>NaN</td>\n",
       "    </tr>\n",
       "    <tr>\n",
       "      <th>last</th>\n",
       "      <td>NaN</td>\n",
       "      <td>NaN</td>\n",
       "      <td>NaN</td>\n",
       "      <td>NaN</td>\n",
       "      <td>2020-12-29 16:46:21</td>\n",
       "      <td>NaN</td>\n",
       "    </tr>\n",
       "    <tr>\n",
       "      <th>mean</th>\n",
       "      <td>2.087687e+03</td>\n",
       "      <td>NaN</td>\n",
       "      <td>NaN</td>\n",
       "      <td>6.543784e-01</td>\n",
       "      <td>NaN</td>\n",
       "      <td>4.909007e+03</td>\n",
       "    </tr>\n",
       "    <tr>\n",
       "      <th>std</th>\n",
       "      <td>1.589365e+03</td>\n",
       "      <td>NaN</td>\n",
       "      <td>NaN</td>\n",
       "      <td>4.755706e-01</td>\n",
       "      <td>NaN</td>\n",
       "      <td>3.302214e+03</td>\n",
       "    </tr>\n",
       "    <tr>\n",
       "      <th>min</th>\n",
       "      <td>0.000000e+00</td>\n",
       "      <td>NaN</td>\n",
       "      <td>NaN</td>\n",
       "      <td>0.000000e+00</td>\n",
       "      <td>NaN</td>\n",
       "      <td>2.300000e+01</td>\n",
       "    </tr>\n",
       "    <tr>\n",
       "      <th>25%</th>\n",
       "      <td>8.000000e+02</td>\n",
       "      <td>NaN</td>\n",
       "      <td>NaN</td>\n",
       "      <td>0.000000e+00</td>\n",
       "      <td>NaN</td>\n",
       "      <td>1.931000e+03</td>\n",
       "    </tr>\n",
       "    <tr>\n",
       "      <th>50%</th>\n",
       "      <td>1.748000e+03</td>\n",
       "      <td>NaN</td>\n",
       "      <td>NaN</td>\n",
       "      <td>1.000000e+00</td>\n",
       "      <td>NaN</td>\n",
       "      <td>5.258000e+03</td>\n",
       "    </tr>\n",
       "    <tr>\n",
       "      <th>75%</th>\n",
       "      <td>3.046000e+03</td>\n",
       "      <td>NaN</td>\n",
       "      <td>NaN</td>\n",
       "      <td>1.000000e+00</td>\n",
       "      <td>NaN</td>\n",
       "      <td>7.913000e+03</td>\n",
       "    </tr>\n",
       "    <tr>\n",
       "      <th>max</th>\n",
       "      <td>7.441000e+03</td>\n",
       "      <td>NaN</td>\n",
       "      <td>NaN</td>\n",
       "      <td>1.000000e+00</td>\n",
       "      <td>NaN</td>\n",
       "      <td>1.127100e+04</td>\n",
       "    </tr>\n",
       "  </tbody>\n",
       "</table>\n",
       "</div>"
      ],
      "text/plain": [
       "              userID assessmentItemID      testId    answerCode  \\\n",
       "count   2.266586e+06          2266586     2266586  2.266586e+06   \n",
       "unique           NaN             9454        1537           NaN   \n",
       "top              NaN       A090014005  A080000128           NaN   \n",
       "freq             NaN              454        3960           NaN   \n",
       "first            NaN              NaN         NaN           NaN   \n",
       "last             NaN              NaN         NaN           NaN   \n",
       "mean    2.087687e+03              NaN         NaN  6.543784e-01   \n",
       "std     1.589365e+03              NaN         NaN  4.755706e-01   \n",
       "min     0.000000e+00              NaN         NaN  0.000000e+00   \n",
       "25%     8.000000e+02              NaN         NaN  0.000000e+00   \n",
       "50%     1.748000e+03              NaN         NaN  1.000000e+00   \n",
       "75%     3.046000e+03              NaN         NaN  1.000000e+00   \n",
       "max     7.441000e+03              NaN         NaN  1.000000e+00   \n",
       "\n",
       "                  Timestamp  KnowledgeTag  \n",
       "count               2266586  2.266586e+06  \n",
       "unique              2076774           NaN  \n",
       "top     2020-10-15 08:59:56           NaN  \n",
       "freq                      7           NaN  \n",
       "first   2019-12-31 15:08:01           NaN  \n",
       "last    2020-12-29 16:46:21           NaN  \n",
       "mean                    NaN  4.909007e+03  \n",
       "std                     NaN  3.302214e+03  \n",
       "min                     NaN  2.300000e+01  \n",
       "25%                     NaN  1.931000e+03  \n",
       "50%                     NaN  5.258000e+03  \n",
       "75%                     NaN  7.913000e+03  \n",
       "max                     NaN  1.127100e+04  "
      ]
     },
     "execution_count": 58,
     "metadata": {},
     "output_type": "execute_result"
    }
   ],
   "source": [
    "df.describe(include='all')"
   ]
  },
  {
   "cell_type": "code",
   "execution_count": 30,
   "id": "japanese-municipality",
   "metadata": {},
   "outputs": [
    {
     "name": "stdout",
     "output_type": "stream",
     "text": [
      "--- BASIC INFORMATIONS ---\n",
      "userID           : 6698 # 유저(학습자) 수\n",
      "assessmentItemID : 9454 # 문항 수\n",
      "testID           : 1537 # 시험지 문항 개수\n",
      "mean answer rate : 65.44% # 평균 정답률\n",
      "KnowledgeTag     : 912 # 중분류(문제 태그) 수\n",
      "--------------------------\n"
     ]
    }
   ],
   "source": [
    "print(f\"\"\"--- BASIC INFORMATIONS ---\n",
    "userID           : {df.userID.nunique()} # 유저(학습자) 수\n",
    "assessmentItemID : {df.assessmentItemID.nunique()} # 문항 수\n",
    "testID           : {df.testId.nunique()} # 시험지 문항 개수\n",
    "mean answer rate : {df.answerCode.sum() / df.shape[0] * 100:.2f}% # 평균 정답률\n",
    "KnowledgeTag     : {df.KnowledgeTag.nunique()} # 중분류(문제 태그) 수\n",
    "{'-'*26}\"\"\")"
   ]
  },
  {
   "cell_type": "markdown",
   "id": "welcome-sleeping",
   "metadata": {},
   "source": [
    "# 1.1 기본정보 파악"
   ]
  },
  {
   "cell_type": "code",
   "execution_count": 59,
   "id": "sought-channel",
   "metadata": {},
   "outputs": [
    {
     "data": {
      "text/plain": [
       "0          A060001001\n",
       "1          A060001002\n",
       "2          A060001003\n",
       "3          A060001004\n",
       "4          A060001005\n",
       "              ...    \n",
       "2266581    A030071005\n",
       "2266582    A040165001\n",
       "2266583    A040165002\n",
       "2266584    A040165003\n",
       "2266585    A040165004\n",
       "Name: assessmentItemID, Length: 2266586, dtype: object"
      ]
     },
     "execution_count": 59,
     "metadata": {},
     "output_type": "execute_result"
    }
   ],
   "source": [
    "df.assessmentItemID"
   ]
  },
  {
   "cell_type": "code",
   "execution_count": 60,
   "id": "bright-combination",
   "metadata": {},
   "outputs": [
    {
     "data": {
      "text/plain": [
       "array(['A'], dtype=object)"
      ]
     },
     "execution_count": 60,
     "metadata": {},
     "output_type": "execute_result"
    }
   ],
   "source": [
    "# 문항 일련번호 첫 자리\n",
    "df.assessmentItemID.apply(lambda x: x[0]).unique()"
   ]
  },
  {
   "cell_type": "code",
   "execution_count": 246,
   "id": "developed-novelty",
   "metadata": {},
   "outputs": [
    {
     "data": {
      "text/plain": [
       "['010', '020', '030', '040', '050', '060', '070', '080', '090']"
      ]
     },
     "execution_count": 246,
     "metadata": {},
     "output_type": "execute_result"
    }
   ],
   "source": [
    "# 문항 일련번호 2~3째 자리\n",
    "# 1부터 9까지의 숫자로 나뉘어있다. 어떤 feature일까?\n",
    "sorted(df.assessmentItemID.apply(lambda x: x[1:4]).unique())"
   ]
  },
  {
   "cell_type": "code",
   "execution_count": 61,
   "id": "graduate-friend",
   "metadata": {},
   "outputs": [
    {
     "name": "stdout",
     "output_type": "stream",
     "text": [
      "0          True\n",
      "1          True\n",
      "2          True\n",
      "3          True\n",
      "4          True\n",
      "           ... \n",
      "2266581    True\n",
      "2266582    True\n",
      "2266583    True\n",
      "2266584    True\n",
      "2266585    True\n",
      "Length: 2266586, dtype: bool\n",
      "2266586\n"
     ]
    }
   ],
   "source": [
    "# 문항 일련번호와 시험지 번호의 겹치는 부분 (문항 일련번호에 시험지 번호가 들어가있음을 의미)\n",
    "print(df['assessmentItemID'].apply(lambda x: x[1:7]) == df['testId'].apply(lambda x: x[1:4]+x[7:]))\n",
    "print(sum(df['assessmentItemID'].apply(lambda x: x[1:7]) == df['testId'].apply(lambda x: x[1:4]+x[7:])))"
   ]
  },
  {
   "cell_type": "code",
   "execution_count": 62,
   "id": "inside-secret",
   "metadata": {},
   "outputs": [
    {
     "data": {
      "text/plain": [
       "array(['000'], dtype=object)"
      ]
     },
     "execution_count": 62,
     "metadata": {},
     "output_type": "execute_result"
    }
   ],
   "source": [
    "# 시험지 번호 가운데 3자리 -> 무조건 0으로 고정\n",
    "df['testId'].apply(lambda x: x[4:7]).unique()"
   ]
  },
  {
   "cell_type": "markdown",
   "id": "crazy-tennis",
   "metadata": {},
   "source": [
    "# 1.2 기술 통계량 분석 \n",
    "- 주어진 feature(column)들에 집계함수를 이용하여 통계량을 분석합니다. "
   ]
  },
  {
   "cell_type": "code",
   "execution_count": 64,
   "id": "modular-turtle",
   "metadata": {},
   "outputs": [],
   "source": [
    "def percentile(s):\n",
    "    return np.sum(s) / len(s)"
   ]
  },
  {
   "cell_type": "markdown",
   "id": "closed-bacon",
   "metadata": {},
   "source": [
    "## 학습자 별 통계"
   ]
  },
  {
   "cell_type": "code",
   "execution_count": 67,
   "id": "sophisticated-waterproof",
   "metadata": {},
   "outputs": [
    {
     "data": {
      "text/html": [
       "<div>\n",
       "<style scoped>\n",
       "    .dataframe tbody tr th:only-of-type {\n",
       "        vertical-align: middle;\n",
       "    }\n",
       "\n",
       "    .dataframe tbody tr th {\n",
       "        vertical-align: top;\n",
       "    }\n",
       "\n",
       "    .dataframe thead th {\n",
       "        text-align: right;\n",
       "    }\n",
       "</style>\n",
       "<table border=\"1\" class=\"dataframe\">\n",
       "  <thead>\n",
       "    <tr style=\"text-align: right;\">\n",
       "      <th></th>\n",
       "      <th>assessmentItemID</th>\n",
       "      <th>answerCode</th>\n",
       "    </tr>\n",
       "  </thead>\n",
       "  <tbody>\n",
       "    <tr>\n",
       "      <th>count</th>\n",
       "      <td>6698.000000</td>\n",
       "      <td>6698.000000</td>\n",
       "    </tr>\n",
       "    <tr>\n",
       "      <th>mean</th>\n",
       "      <td>338.397432</td>\n",
       "      <td>0.628909</td>\n",
       "    </tr>\n",
       "    <tr>\n",
       "      <th>std</th>\n",
       "      <td>321.331429</td>\n",
       "      <td>0.159639</td>\n",
       "    </tr>\n",
       "    <tr>\n",
       "      <th>min</th>\n",
       "      <td>9.000000</td>\n",
       "      <td>0.000000</td>\n",
       "    </tr>\n",
       "    <tr>\n",
       "      <th>25%</th>\n",
       "      <td>78.000000</td>\n",
       "      <td>0.527273</td>\n",
       "    </tr>\n",
       "    <tr>\n",
       "      <th>50%</th>\n",
       "      <td>231.500000</td>\n",
       "      <td>0.651757</td>\n",
       "    </tr>\n",
       "    <tr>\n",
       "      <th>75%</th>\n",
       "      <td>513.000000</td>\n",
       "      <td>0.751203</td>\n",
       "    </tr>\n",
       "    <tr>\n",
       "      <th>max</th>\n",
       "      <td>1860.000000</td>\n",
       "      <td>1.000000</td>\n",
       "    </tr>\n",
       "  </tbody>\n",
       "</table>\n",
       "</div>"
      ],
      "text/plain": [
       "       assessmentItemID   answerCode\n",
       "count       6698.000000  6698.000000\n",
       "mean         338.397432     0.628909\n",
       "std          321.331429     0.159639\n",
       "min            9.000000     0.000000\n",
       "25%           78.000000     0.527273\n",
       "50%          231.500000     0.651757\n",
       "75%          513.000000     0.751203\n",
       "max         1860.000000     1.000000"
      ]
     },
     "execution_count": 67,
     "metadata": {},
     "output_type": "execute_result"
    }
   ],
   "source": [
    "# 학습자별 통계치\n",
    "stu_groupby = df.groupby('userID').agg({\n",
    "    'assessmentItemID': 'count', # 학습자 별 푼 문항수\n",
    "    'answerCode': percentile, \n",
    "})\n",
    "stu_groupby.describe()"
   ]
  },
  {
   "cell_type": "code",
   "execution_count": 77,
   "id": "harmful-commander",
   "metadata": {},
   "outputs": [
    {
     "data": {
      "text/plain": [
       "userID\n",
       "7441       9\n",
       "7390      13\n",
       "7414      13\n",
       "7252      13\n",
       "7396      14\n",
       "        ... \n",
       "926     1773\n",
       "394     1774\n",
       "1112    1777\n",
       "481     1847\n",
       "730     1860\n",
       "Name: assessmentItemID, Length: 6698, dtype: int64"
      ]
     },
     "execution_count": 77,
     "metadata": {},
     "output_type": "execute_result"
    }
   ],
   "source": [
    "# 푼 문항수는 개인별로 9개에서 1860개까지 존재합니다.\n",
    "stu_groupby.assessmentItemID.sort_values()"
   ]
  },
  {
   "cell_type": "code",
   "execution_count": 82,
   "id": "eleven-psychiatry",
   "metadata": {},
   "outputs": [
    {
     "data": {
      "image/png": "[encoded data removed]",
      "text/plain": [
       "<Figure size 432x288 with 1 Axes>"
      ]
     },
     "metadata": {},
     "output_type": "display_data"
    }
   ],
   "source": [
    "# 사용자 별 푼 문항수 histogram\n",
    "fig, ax = plt.subplots()\n",
    "stu_groupby['assessmentItemID'].hist(bins=20, ax=ax)\n",
    "ax.set_title('# of items per Student Histogram')\n",
    "ax.set_xlabel('# of items solved')\n",
    "ax.set_ylabel('Count')\n",
    "ax.axvline(stu_groupby['assessmentItemID'].mean(), color='red') # 평균 푼 문항 개수\n",
    "ax.grid(b=True)"
   ]
  },
  {
   "cell_type": "code",
   "execution_count": 69,
   "id": "sweet-chapter",
   "metadata": {},
   "outputs": [
    {
     "data": {
      "text/plain": [
       "userID\n",
       "7166    0.000000\n",
       "7029    0.052632\n",
       "5887    0.083333\n",
       "6764    0.083333\n",
       "6283    0.086957\n",
       "          ...   \n",
       "5820    0.950495\n",
       "6760    0.952381\n",
       "5498    0.957746\n",
       "7171    1.000000\n",
       "6988    1.000000\n",
       "Name: answerCode, Length: 6698, dtype: float64"
      ]
     },
     "execution_count": 69,
     "metadata": {},
     "output_type": "execute_result"
    }
   ],
   "source": [
    "# 다 틀린사람도, 다 맞춘사람도 있습니다.\n",
    "stu_groupby.answerCode.sort_values()"
   ]
  },
  {
   "cell_type": "code",
   "execution_count": 72,
   "id": "simplified-majority",
   "metadata": {},
   "outputs": [
    {
     "data": {
      "text/html": [
       "<div>\n",
       "<style scoped>\n",
       "    .dataframe tbody tr th:only-of-type {\n",
       "        vertical-align: middle;\n",
       "    }\n",
       "\n",
       "    .dataframe tbody tr th {\n",
       "        vertical-align: top;\n",
       "    }\n",
       "\n",
       "    .dataframe thead th {\n",
       "        text-align: right;\n",
       "    }\n",
       "</style>\n",
       "<table border=\"1\" class=\"dataframe\">\n",
       "  <thead>\n",
       "    <tr style=\"text-align: right;\">\n",
       "      <th></th>\n",
       "      <th>userID</th>\n",
       "      <th>assessmentItemID</th>\n",
       "      <th>testId</th>\n",
       "      <th>answerCode</th>\n",
       "      <th>Timestamp</th>\n",
       "      <th>KnowledgeTag</th>\n",
       "    </tr>\n",
       "  </thead>\n",
       "  <tbody>\n",
       "    <tr>\n",
       "      <th>2261803</th>\n",
       "      <td>7166</td>\n",
       "      <td>A030126001</td>\n",
       "      <td>A030000126</td>\n",
       "      <td>0</td>\n",
       "      <td>2020-07-30 22:46:27</td>\n",
       "      <td>574</td>\n",
       "    </tr>\n",
       "    <tr>\n",
       "      <th>2261804</th>\n",
       "      <td>7166</td>\n",
       "      <td>A030126002</td>\n",
       "      <td>A030000126</td>\n",
       "      <td>0</td>\n",
       "      <td>2020-07-30 22:48:02</td>\n",
       "      <td>574</td>\n",
       "    </tr>\n",
       "    <tr>\n",
       "      <th>2261805</th>\n",
       "      <td>7166</td>\n",
       "      <td>A030126003</td>\n",
       "      <td>A030000126</td>\n",
       "      <td>0</td>\n",
       "      <td>2020-07-30 22:49:19</td>\n",
       "      <td>574</td>\n",
       "    </tr>\n",
       "    <tr>\n",
       "      <th>2261806</th>\n",
       "      <td>7166</td>\n",
       "      <td>A030126004</td>\n",
       "      <td>A030000126</td>\n",
       "      <td>0</td>\n",
       "      <td>2020-07-30 22:49:29</td>\n",
       "      <td>574</td>\n",
       "    </tr>\n",
       "    <tr>\n",
       "      <th>2261807</th>\n",
       "      <td>7166</td>\n",
       "      <td>A030126005</td>\n",
       "      <td>A030000126</td>\n",
       "      <td>0</td>\n",
       "      <td>2020-07-30 22:49:33</td>\n",
       "      <td>574</td>\n",
       "    </tr>\n",
       "    <tr>\n",
       "      <th>2261808</th>\n",
       "      <td>7166</td>\n",
       "      <td>A010163001</td>\n",
       "      <td>A010000163</td>\n",
       "      <td>0</td>\n",
       "      <td>2020-09-23 05:32:20</td>\n",
       "      <td>7809</td>\n",
       "    </tr>\n",
       "    <tr>\n",
       "      <th>2261809</th>\n",
       "      <td>7166</td>\n",
       "      <td>A010163002</td>\n",
       "      <td>A010000163</td>\n",
       "      <td>0</td>\n",
       "      <td>2020-09-23 05:32:29</td>\n",
       "      <td>7809</td>\n",
       "    </tr>\n",
       "    <tr>\n",
       "      <th>2261810</th>\n",
       "      <td>7166</td>\n",
       "      <td>A010163003</td>\n",
       "      <td>A010000163</td>\n",
       "      <td>0</td>\n",
       "      <td>2020-09-23 05:32:32</td>\n",
       "      <td>7809</td>\n",
       "    </tr>\n",
       "    <tr>\n",
       "      <th>2261811</th>\n",
       "      <td>7166</td>\n",
       "      <td>A010163004</td>\n",
       "      <td>A010000163</td>\n",
       "      <td>0</td>\n",
       "      <td>2020-09-23 05:32:33</td>\n",
       "      <td>7809</td>\n",
       "    </tr>\n",
       "    <tr>\n",
       "      <th>2261812</th>\n",
       "      <td>7166</td>\n",
       "      <td>A010163005</td>\n",
       "      <td>A010000163</td>\n",
       "      <td>0</td>\n",
       "      <td>2020-09-23 05:32:38</td>\n",
       "      <td>7809</td>\n",
       "    </tr>\n",
       "    <tr>\n",
       "      <th>2261813</th>\n",
       "      <td>7166</td>\n",
       "      <td>A080040001</td>\n",
       "      <td>A080000040</td>\n",
       "      <td>0</td>\n",
       "      <td>2020-12-20 04:27:14</td>\n",
       "      <td>4784</td>\n",
       "    </tr>\n",
       "    <tr>\n",
       "      <th>2261814</th>\n",
       "      <td>7166</td>\n",
       "      <td>A080040002</td>\n",
       "      <td>A080000040</td>\n",
       "      <td>0</td>\n",
       "      <td>2020-12-20 04:27:15</td>\n",
       "      <td>4682</td>\n",
       "    </tr>\n",
       "    <tr>\n",
       "      <th>2261815</th>\n",
       "      <td>7166</td>\n",
       "      <td>A080040003</td>\n",
       "      <td>A080000040</td>\n",
       "      <td>0</td>\n",
       "      <td>2020-12-20 04:27:16</td>\n",
       "      <td>4802</td>\n",
       "    </tr>\n",
       "    <tr>\n",
       "      <th>2261816</th>\n",
       "      <td>7166</td>\n",
       "      <td>A080040004</td>\n",
       "      <td>A080000040</td>\n",
       "      <td>0</td>\n",
       "      <td>2020-12-20 04:27:17</td>\n",
       "      <td>4784</td>\n",
       "    </tr>\n",
       "    <tr>\n",
       "      <th>2261817</th>\n",
       "      <td>7166</td>\n",
       "      <td>A080040005</td>\n",
       "      <td>A080000040</td>\n",
       "      <td>0</td>\n",
       "      <td>2020-12-20 04:27:18</td>\n",
       "      <td>4784</td>\n",
       "    </tr>\n",
       "    <tr>\n",
       "      <th>2261818</th>\n",
       "      <td>7166</td>\n",
       "      <td>A080040006</td>\n",
       "      <td>A080000040</td>\n",
       "      <td>0</td>\n",
       "      <td>2020-12-20 04:27:20</td>\n",
       "      <td>4795</td>\n",
       "    </tr>\n",
       "  </tbody>\n",
       "</table>\n",
       "</div>"
      ],
      "text/plain": [
       "         userID assessmentItemID      testId  answerCode           Timestamp  \\\n",
       "2261803    7166       A030126001  A030000126           0 2020-07-30 22:46:27   \n",
       "2261804    7166       A030126002  A030000126           0 2020-07-30 22:48:02   \n",
       "2261805    7166       A030126003  A030000126           0 2020-07-30 22:49:19   \n",
       "2261806    7166       A030126004  A030000126           0 2020-07-30 22:49:29   \n",
       "2261807    7166       A030126005  A030000126           0 2020-07-30 22:49:33   \n",
       "2261808    7166       A010163001  A010000163           0 2020-09-23 05:32:20   \n",
       "2261809    7166       A010163002  A010000163           0 2020-09-23 05:32:29   \n",
       "2261810    7166       A010163003  A010000163           0 2020-09-23 05:32:32   \n",
       "2261811    7166       A010163004  A010000163           0 2020-09-23 05:32:33   \n",
       "2261812    7166       A010163005  A010000163           0 2020-09-23 05:32:38   \n",
       "2261813    7166       A080040001  A080000040           0 2020-12-20 04:27:14   \n",
       "2261814    7166       A080040002  A080000040           0 2020-12-20 04:27:15   \n",
       "2261815    7166       A080040003  A080000040           0 2020-12-20 04:27:16   \n",
       "2261816    7166       A080040004  A080000040           0 2020-12-20 04:27:17   \n",
       "2261817    7166       A080040005  A080000040           0 2020-12-20 04:27:18   \n",
       "2261818    7166       A080040006  A080000040           0 2020-12-20 04:27:20   \n",
       "\n",
       "         KnowledgeTag  \n",
       "2261803           574  \n",
       "2261804           574  \n",
       "2261805           574  \n",
       "2261806           574  \n",
       "2261807           574  \n",
       "2261808          7809  \n",
       "2261809          7809  \n",
       "2261810          7809  \n",
       "2261811          7809  \n",
       "2261812          7809  \n",
       "2261813          4784  \n",
       "2261814          4682  \n",
       "2261815          4802  \n",
       "2261816          4784  \n",
       "2261817          4784  \n",
       "2261818          4795  "
      ]
     },
     "execution_count": 72,
     "metadata": {},
     "output_type": "execute_result"
    }
   ],
   "source": [
    "df[df['userID']==7166]"
   ]
  },
  {
   "cell_type": "code",
   "execution_count": 73,
   "id": "joined-contamination",
   "metadata": {},
   "outputs": [
    {
     "data": {
      "text/html": [
       "<div>\n",
       "<style scoped>\n",
       "    .dataframe tbody tr th:only-of-type {\n",
       "        vertical-align: middle;\n",
       "    }\n",
       "\n",
       "    .dataframe tbody tr th {\n",
       "        vertical-align: top;\n",
       "    }\n",
       "\n",
       "    .dataframe thead th {\n",
       "        text-align: right;\n",
       "    }\n",
       "</style>\n",
       "<table border=\"1\" class=\"dataframe\">\n",
       "  <thead>\n",
       "    <tr style=\"text-align: right;\">\n",
       "      <th></th>\n",
       "      <th>userID</th>\n",
       "      <th>assessmentItemID</th>\n",
       "      <th>testId</th>\n",
       "      <th>answerCode</th>\n",
       "      <th>Timestamp</th>\n",
       "      <th>KnowledgeTag</th>\n",
       "    </tr>\n",
       "  </thead>\n",
       "  <tbody>\n",
       "    <tr>\n",
       "      <th>2257763</th>\n",
       "      <td>6988</td>\n",
       "      <td>A080002001</td>\n",
       "      <td>A080000002</td>\n",
       "      <td>1</td>\n",
       "      <td>2020-01-20 06:00:04</td>\n",
       "      <td>4605</td>\n",
       "    </tr>\n",
       "    <tr>\n",
       "      <th>2257764</th>\n",
       "      <td>6988</td>\n",
       "      <td>A080002002</td>\n",
       "      <td>A080000002</td>\n",
       "      <td>1</td>\n",
       "      <td>2020-01-20 06:00:06</td>\n",
       "      <td>1394</td>\n",
       "    </tr>\n",
       "    <tr>\n",
       "      <th>2257765</th>\n",
       "      <td>6988</td>\n",
       "      <td>A080002003</td>\n",
       "      <td>A080000002</td>\n",
       "      <td>1</td>\n",
       "      <td>2020-01-20 06:00:10</td>\n",
       "      <td>1396</td>\n",
       "    </tr>\n",
       "    <tr>\n",
       "      <th>2257766</th>\n",
       "      <td>6988</td>\n",
       "      <td>A080002004</td>\n",
       "      <td>A080000002</td>\n",
       "      <td>1</td>\n",
       "      <td>2020-01-20 06:00:18</td>\n",
       "      <td>1397</td>\n",
       "    </tr>\n",
       "    <tr>\n",
       "      <th>2257767</th>\n",
       "      <td>6988</td>\n",
       "      <td>A080002005</td>\n",
       "      <td>A080000002</td>\n",
       "      <td>1</td>\n",
       "      <td>2020-01-20 06:00:23</td>\n",
       "      <td>1396</td>\n",
       "    </tr>\n",
       "    <tr>\n",
       "      <th>2257768</th>\n",
       "      <td>6988</td>\n",
       "      <td>A080002006</td>\n",
       "      <td>A080000002</td>\n",
       "      <td>1</td>\n",
       "      <td>2020-01-20 06:00:26</td>\n",
       "      <td>1395</td>\n",
       "    </tr>\n",
       "    <tr>\n",
       "      <th>2257769</th>\n",
       "      <td>6988</td>\n",
       "      <td>A050181001</td>\n",
       "      <td>A050000181</td>\n",
       "      <td>1</td>\n",
       "      <td>2020-08-27 02:43:14</td>\n",
       "      <td>10397</td>\n",
       "    </tr>\n",
       "    <tr>\n",
       "      <th>2257770</th>\n",
       "      <td>6988</td>\n",
       "      <td>A050181002</td>\n",
       "      <td>A050000181</td>\n",
       "      <td>1</td>\n",
       "      <td>2020-08-27 02:46:48</td>\n",
       "      <td>10397</td>\n",
       "    </tr>\n",
       "    <tr>\n",
       "      <th>2257771</th>\n",
       "      <td>6988</td>\n",
       "      <td>A050181003</td>\n",
       "      <td>A050000181</td>\n",
       "      <td>1</td>\n",
       "      <td>2020-08-27 02:49:49</td>\n",
       "      <td>10397</td>\n",
       "    </tr>\n",
       "    <tr>\n",
       "      <th>2257772</th>\n",
       "      <td>6988</td>\n",
       "      <td>A050181004</td>\n",
       "      <td>A050000181</td>\n",
       "      <td>1</td>\n",
       "      <td>2020-08-27 02:52:22</td>\n",
       "      <td>10397</td>\n",
       "    </tr>\n",
       "    <tr>\n",
       "      <th>2257773</th>\n",
       "      <td>6988</td>\n",
       "      <td>A050181005</td>\n",
       "      <td>A050000181</td>\n",
       "      <td>1</td>\n",
       "      <td>2020-08-27 02:52:55</td>\n",
       "      <td>10396</td>\n",
       "    </tr>\n",
       "    <tr>\n",
       "      <th>2257774</th>\n",
       "      <td>6988</td>\n",
       "      <td>A050181006</td>\n",
       "      <td>A050000181</td>\n",
       "      <td>1</td>\n",
       "      <td>2020-08-27 02:54:02</td>\n",
       "      <td>10398</td>\n",
       "    </tr>\n",
       "    <tr>\n",
       "      <th>2257775</th>\n",
       "      <td>6988</td>\n",
       "      <td>A050181007</td>\n",
       "      <td>A050000181</td>\n",
       "      <td>1</td>\n",
       "      <td>2020-08-27 02:55:23</td>\n",
       "      <td>10398</td>\n",
       "    </tr>\n",
       "    <tr>\n",
       "      <th>2257776</th>\n",
       "      <td>6988</td>\n",
       "      <td>A040167001</td>\n",
       "      <td>A040000167</td>\n",
       "      <td>1</td>\n",
       "      <td>2020-10-22 07:44:20</td>\n",
       "      <td>2116</td>\n",
       "    </tr>\n",
       "    <tr>\n",
       "      <th>2257777</th>\n",
       "      <td>6988</td>\n",
       "      <td>A040167002</td>\n",
       "      <td>A040000167</td>\n",
       "      <td>1</td>\n",
       "      <td>2020-10-22 07:44:35</td>\n",
       "      <td>2116</td>\n",
       "    </tr>\n",
       "    <tr>\n",
       "      <th>2257778</th>\n",
       "      <td>6988</td>\n",
       "      <td>A040167003</td>\n",
       "      <td>A040000167</td>\n",
       "      <td>1</td>\n",
       "      <td>2020-10-22 07:45:26</td>\n",
       "      <td>2116</td>\n",
       "    </tr>\n",
       "    <tr>\n",
       "      <th>2257779</th>\n",
       "      <td>6988</td>\n",
       "      <td>A040167004</td>\n",
       "      <td>A040000167</td>\n",
       "      <td>1</td>\n",
       "      <td>2020-10-22 07:45:45</td>\n",
       "      <td>2116</td>\n",
       "    </tr>\n",
       "    <tr>\n",
       "      <th>2257780</th>\n",
       "      <td>6988</td>\n",
       "      <td>A040167005</td>\n",
       "      <td>A040000167</td>\n",
       "      <td>1</td>\n",
       "      <td>2020-10-22 07:46:53</td>\n",
       "      <td>2116</td>\n",
       "    </tr>\n",
       "    <tr>\n",
       "      <th>2257781</th>\n",
       "      <td>6988</td>\n",
       "      <td>A040169001</td>\n",
       "      <td>A040000169</td>\n",
       "      <td>1</td>\n",
       "      <td>2020-10-23 10:32:04</td>\n",
       "      <td>2120</td>\n",
       "    </tr>\n",
       "    <tr>\n",
       "      <th>2257782</th>\n",
       "      <td>6988</td>\n",
       "      <td>A040169002</td>\n",
       "      <td>A040000169</td>\n",
       "      <td>1</td>\n",
       "      <td>2020-10-23 10:32:27</td>\n",
       "      <td>2120</td>\n",
       "    </tr>\n",
       "    <tr>\n",
       "      <th>2257783</th>\n",
       "      <td>6988</td>\n",
       "      <td>A040169003</td>\n",
       "      <td>A040000169</td>\n",
       "      <td>1</td>\n",
       "      <td>2020-10-23 10:34:27</td>\n",
       "      <td>2121</td>\n",
       "    </tr>\n",
       "    <tr>\n",
       "      <th>2257784</th>\n",
       "      <td>6988</td>\n",
       "      <td>A040169004</td>\n",
       "      <td>A040000169</td>\n",
       "      <td>1</td>\n",
       "      <td>2020-10-23 10:34:43</td>\n",
       "      <td>2120</td>\n",
       "    </tr>\n",
       "    <tr>\n",
       "      <th>2257785</th>\n",
       "      <td>6988</td>\n",
       "      <td>A040169005</td>\n",
       "      <td>A040000169</td>\n",
       "      <td>1</td>\n",
       "      <td>2020-10-23 10:35:04</td>\n",
       "      <td>2118</td>\n",
       "    </tr>\n",
       "  </tbody>\n",
       "</table>\n",
       "</div>"
      ],
      "text/plain": [
       "         userID assessmentItemID      testId  answerCode           Timestamp  \\\n",
       "2257763    6988       A080002001  A080000002           1 2020-01-20 06:00:04   \n",
       "2257764    6988       A080002002  A080000002           1 2020-01-20 06:00:06   \n",
       "2257765    6988       A080002003  A080000002           1 2020-01-20 06:00:10   \n",
       "2257766    6988       A080002004  A080000002           1 2020-01-20 06:00:18   \n",
       "2257767    6988       A080002005  A080000002           1 2020-01-20 06:00:23   \n",
       "2257768    6988       A080002006  A080000002           1 2020-01-20 06:00:26   \n",
       "2257769    6988       A050181001  A050000181           1 2020-08-27 02:43:14   \n",
       "2257770    6988       A050181002  A050000181           1 2020-08-27 02:46:48   \n",
       "2257771    6988       A050181003  A050000181           1 2020-08-27 02:49:49   \n",
       "2257772    6988       A050181004  A050000181           1 2020-08-27 02:52:22   \n",
       "2257773    6988       A050181005  A050000181           1 2020-08-27 02:52:55   \n",
       "2257774    6988       A050181006  A050000181           1 2020-08-27 02:54:02   \n",
       "2257775    6988       A050181007  A050000181           1 2020-08-27 02:55:23   \n",
       "2257776    6988       A040167001  A040000167           1 2020-10-22 07:44:20   \n",
       "2257777    6988       A040167002  A040000167           1 2020-10-22 07:44:35   \n",
       "2257778    6988       A040167003  A040000167           1 2020-10-22 07:45:26   \n",
       "2257779    6988       A040167004  A040000167           1 2020-10-22 07:45:45   \n",
       "2257780    6988       A040167005  A040000167           1 2020-10-22 07:46:53   \n",
       "2257781    6988       A040169001  A040000169           1 2020-10-23 10:32:04   \n",
       "2257782    6988       A040169002  A040000169           1 2020-10-23 10:32:27   \n",
       "2257783    6988       A040169003  A040000169           1 2020-10-23 10:34:27   \n",
       "2257784    6988       A040169004  A040000169           1 2020-10-23 10:34:43   \n",
       "2257785    6988       A040169005  A040000169           1 2020-10-23 10:35:04   \n",
       "\n",
       "         KnowledgeTag  \n",
       "2257763          4605  \n",
       "2257764          1394  \n",
       "2257765          1396  \n",
       "2257766          1397  \n",
       "2257767          1396  \n",
       "2257768          1395  \n",
       "2257769         10397  \n",
       "2257770         10397  \n",
       "2257771         10397  \n",
       "2257772         10397  \n",
       "2257773         10396  \n",
       "2257774         10398  \n",
       "2257775         10398  \n",
       "2257776          2116  \n",
       "2257777          2116  \n",
       "2257778          2116  \n",
       "2257779          2116  \n",
       "2257780          2116  \n",
       "2257781          2120  \n",
       "2257782          2120  \n",
       "2257783          2121  \n",
       "2257784          2120  \n",
       "2257785          2118  "
      ]
     },
     "execution_count": 73,
     "metadata": {},
     "output_type": "execute_result"
    }
   ],
   "source": [
    "df[df['userID']==6988]"
   ]
  },
  {
   "cell_type": "code",
   "execution_count": 81,
   "id": "running-woman",
   "metadata": {},
   "outputs": [
    {
     "data": {
      "image/png": "[encoded data removed]",
      "text/plain": [
       "<Figure size 432x288 with 1 Axes>"
      ]
     },
     "metadata": {},
     "output_type": "display_data"
    }
   ],
   "source": [
    "# 사용자 별 정답률 histogram\n",
    "fig, ax = plt.subplots()\n",
    "stu_groupby['answerCode'].hist(bins=20)\n",
    "ax.set_title('Student Answer Rate Histogram')\n",
    "ax.set_xlabel('Answer Rate')\n",
    "ax.set_ylabel('Count')\n",
    "ax.axvline(stu_groupby['answerCode'].mean(), color='red') # 평균 정답률\n",
    "ax.grid(b=True)"
   ]
  },
  {
   "cell_type": "markdown",
   "id": "distinct-insight",
   "metadata": {},
   "source": [
    "## 문항별 통계"
   ]
  },
  {
   "cell_type": "code",
   "execution_count": 101,
   "id": "injured-optimization",
   "metadata": {},
   "outputs": [
    {
     "data": {
      "text/html": [
       "<div>\n",
       "<style scoped>\n",
       "    .dataframe tbody tr th:only-of-type {\n",
       "        vertical-align: middle;\n",
       "    }\n",
       "\n",
       "    .dataframe tbody tr th {\n",
       "        vertical-align: top;\n",
       "    }\n",
       "\n",
       "    .dataframe thead tr th {\n",
       "        text-align: left;\n",
       "    }\n",
       "</style>\n",
       "<table border=\"1\" class=\"dataframe\">\n",
       "  <thead>\n",
       "    <tr>\n",
       "      <th></th>\n",
       "      <th colspan=\"2\" halign=\"left\">userID</th>\n",
       "      <th>answerCode</th>\n",
       "    </tr>\n",
       "    <tr>\n",
       "      <th></th>\n",
       "      <th>count</th>\n",
       "      <th>nunique</th>\n",
       "      <th>percentile</th>\n",
       "    </tr>\n",
       "  </thead>\n",
       "  <tbody>\n",
       "    <tr>\n",
       "      <th>count</th>\n",
       "      <td>9454.000000</td>\n",
       "      <td>9454.000000</td>\n",
       "      <td>9454.000000</td>\n",
       "    </tr>\n",
       "    <tr>\n",
       "      <th>mean</th>\n",
       "      <td>239.748889</td>\n",
       "      <td>234.888195</td>\n",
       "      <td>0.654256</td>\n",
       "    </tr>\n",
       "    <tr>\n",
       "      <th>std</th>\n",
       "      <td>71.893791</td>\n",
       "      <td>69.500196</td>\n",
       "      <td>0.195488</td>\n",
       "    </tr>\n",
       "    <tr>\n",
       "      <th>min</th>\n",
       "      <td>43.000000</td>\n",
       "      <td>42.000000</td>\n",
       "      <td>0.049430</td>\n",
       "    </tr>\n",
       "    <tr>\n",
       "      <th>25%</th>\n",
       "      <td>220.000000</td>\n",
       "      <td>216.000000</td>\n",
       "      <td>0.505548</td>\n",
       "    </tr>\n",
       "    <tr>\n",
       "      <th>50%</th>\n",
       "      <td>230.000000</td>\n",
       "      <td>227.000000</td>\n",
       "      <td>0.666667</td>\n",
       "    </tr>\n",
       "    <tr>\n",
       "      <th>75%</th>\n",
       "      <td>271.000000</td>\n",
       "      <td>267.000000</td>\n",
       "      <td>0.820513</td>\n",
       "    </tr>\n",
       "    <tr>\n",
       "      <th>max</th>\n",
       "      <td>454.000000</td>\n",
       "      <td>442.000000</td>\n",
       "      <td>0.996310</td>\n",
       "    </tr>\n",
       "  </tbody>\n",
       "</table>\n",
       "</div>"
      ],
      "text/plain": [
       "            userID                answerCode\n",
       "             count      nunique   percentile\n",
       "count  9454.000000  9454.000000  9454.000000\n",
       "mean    239.748889   234.888195     0.654256\n",
       "std      71.893791    69.500196     0.195488\n",
       "min      43.000000    42.000000     0.049430\n",
       "25%     220.000000   216.000000     0.505548\n",
       "50%     230.000000   227.000000     0.666667\n",
       "75%     271.000000   267.000000     0.820513\n",
       "max     454.000000   442.000000     0.996310"
      ]
     },
     "execution_count": 101,
     "metadata": {},
     "output_type": "execute_result"
    }
   ],
   "source": [
    "qst_groupby = df.groupby('assessmentItemID').agg({\n",
    "    'userID': ['count','nunique'],\n",
    "    'answerCode': percentile # 문항별 정답률\n",
    "})\n",
    "qst_groupby.describe()"
   ]
  },
  {
   "cell_type": "code",
   "execution_count": 105,
   "id": "widespread-brown",
   "metadata": {},
   "outputs": [
    {
     "name": "stdout",
     "output_type": "stream",
     "text": [
      "assessmentItemID\n",
      "A010180006     43\n",
      "A090070001     43\n",
      "A090070002     43\n",
      "A090070003     43\n",
      "A090070004     43\n",
      "             ... \n",
      "A090014006    454\n",
      "A090014005    454\n",
      "A090014004    454\n",
      "A090014003    454\n",
      "A090014002    454\n",
      "Name: count, Length: 9454, dtype: int64\n",
      "assessmentItemID\n",
      "A090068001     42\n",
      "A090068002     42\n",
      "A090068003     42\n",
      "A090068004     42\n",
      "A090068005     42\n",
      "             ... \n",
      "A090011002    442\n",
      "A090011001    442\n",
      "A090011008    442\n",
      "A090011003    442\n",
      "A090011007    442\n",
      "Name: nunique, Length: 9454, dtype: int64\n"
     ]
    }
   ],
   "source": [
    "print(qst_groupby['userID']['count'].sort_values())\n",
    "print(qst_groupby['userID']['nunique'].sort_values())"
   ]
  },
  {
   "cell_type": "code",
   "execution_count": 122,
   "id": "electric-logic",
   "metadata": {},
   "outputs": [
    {
     "data": {
      "image/png": "[encoded data removed]",
      "text/plain": [
       "<Figure size 720x360 with 2 Axes>"
      ]
     },
     "metadata": {},
     "output_type": "display_data"
    }
   ],
   "source": [
    "# 문항별 푼 사람 수 histogram\n",
    "# count와 nunique가 미묘하게 다르다. 그말인 즉슨, 중복으로 문제를 푼 사람이 존재한다.\n",
    "fig, axes = plt.subplots(1,2)\n",
    "fig.set_figheight(5)\n",
    "fig.set_figwidth(10)\n",
    "\n",
    "types = ['count', 'nunique']\n",
    "titles = ['# of User count per Question Histogram', '# of unique User per Question Histogram']\n",
    "xlabels = ['# of User count', '# of unique User']\n",
    "ylabels = ['Count', 'Count']\n",
    "\n",
    "for idx, ax in enumerate(axes):\n",
    "    ax.hist(qst_groupby['userID'][types[idx]], bins=50)\n",
    "    ax.set_title(titles[idx])\n",
    "    ax.set_xlabel(xlabels[idx])\n",
    "    ax.set_ylabel(ylabels[idx])\n",
    "    ax.axvline(qst_groupby['userID'][types[idx]].mean(), color='red')\n",
    "    ax.grid(b=True)"
   ]
  },
  {
   "cell_type": "code",
   "execution_count": 88,
   "id": "aging-mortality",
   "metadata": {},
   "outputs": [
    {
     "data": {
      "text/plain": [
       "assessmentItemID\n",
       "A040131005    0.049430\n",
       "A020103005    0.086466\n",
       "A090071004    0.088889\n",
       "A040060002    0.097378\n",
       "A040028002    0.101887\n",
       "                ...   \n",
       "A060186003    0.991111\n",
       "A050169001    0.992424\n",
       "A040184001    0.992565\n",
       "A060002002    0.995434\n",
       "A020080003    0.996310\n",
       "Name: answerCode, Length: 9454, dtype: float64"
      ]
     },
     "execution_count": 88,
     "metadata": {},
     "output_type": "execute_result"
    }
   ],
   "source": [
    "qst_groupby.answerCode.sort_values()"
   ]
  },
  {
   "cell_type": "code",
   "execution_count": 90,
   "id": "composed-pride",
   "metadata": {},
   "outputs": [
    {
     "data": {
      "image/png": "[encoded data removed]",
      "text/plain": [
       "<Figure size 432x288 with 1 Axes>"
      ]
     },
     "metadata": {},
     "output_type": "display_data"
    }
   ],
   "source": [
    "# 문항별 정답률 histogram\n",
    "fig, ax = plt.subplots()\n",
    "qst_groupby['answerCode'].hist(bins=20)\n",
    "ax.set_title('Answer Rate per Question Histogram')\n",
    "ax.set_xlabel('Answer Rate')\n",
    "ax.set_ylabel('Count')\n",
    "ax.axvline(qst_groupby['answerCode'].mean(), color='red')\n",
    "ax.grid(b=True)"
   ]
  },
  {
   "cell_type": "markdown",
   "id": "center-restriction",
   "metadata": {},
   "source": [
    "## 시험지별 통계"
   ]
  },
  {
   "cell_type": "code",
   "execution_count": 279,
   "id": "smart-afghanistan",
   "metadata": {},
   "outputs": [
    {
     "data": {
      "text/html": [
       "<div>\n",
       "<style scoped>\n",
       "    .dataframe tbody tr th:only-of-type {\n",
       "        vertical-align: middle;\n",
       "    }\n",
       "\n",
       "    .dataframe tbody tr th {\n",
       "        vertical-align: top;\n",
       "    }\n",
       "\n",
       "    .dataframe thead th {\n",
       "        text-align: right;\n",
       "    }\n",
       "</style>\n",
       "<table border=\"1\" class=\"dataframe\">\n",
       "  <thead>\n",
       "    <tr style=\"text-align: right;\">\n",
       "      <th></th>\n",
       "      <th>userID</th>\n",
       "      <th>assessmentItemID</th>\n",
       "      <th>answerCode</th>\n",
       "    </tr>\n",
       "  </thead>\n",
       "  <tbody>\n",
       "    <tr>\n",
       "      <th>count</th>\n",
       "      <td>1537.000000</td>\n",
       "      <td>1537.000000</td>\n",
       "      <td>1537.000000</td>\n",
       "    </tr>\n",
       "    <tr>\n",
       "      <th>mean</th>\n",
       "      <td>237.582303</td>\n",
       "      <td>6.150943</td>\n",
       "      <td>0.667982</td>\n",
       "    </tr>\n",
       "    <tr>\n",
       "      <th>std</th>\n",
       "      <td>67.446371</td>\n",
       "      <td>1.434095</td>\n",
       "      <td>0.138903</td>\n",
       "    </tr>\n",
       "    <tr>\n",
       "      <th>min</th>\n",
       "      <td>42.000000</td>\n",
       "      <td>2.000000</td>\n",
       "      <td>0.327186</td>\n",
       "    </tr>\n",
       "    <tr>\n",
       "      <th>25%</th>\n",
       "      <td>217.000000</td>\n",
       "      <td>5.000000</td>\n",
       "      <td>0.561819</td>\n",
       "    </tr>\n",
       "    <tr>\n",
       "      <th>50%</th>\n",
       "      <td>257.000000</td>\n",
       "      <td>6.000000</td>\n",
       "      <td>0.680519</td>\n",
       "    </tr>\n",
       "    <tr>\n",
       "      <th>75%</th>\n",
       "      <td>268.000000</td>\n",
       "      <td>7.000000</td>\n",
       "      <td>0.778439</td>\n",
       "    </tr>\n",
       "    <tr>\n",
       "      <th>max</th>\n",
       "      <td>442.000000</td>\n",
       "      <td>13.000000</td>\n",
       "      <td>0.955474</td>\n",
       "    </tr>\n",
       "  </tbody>\n",
       "</table>\n",
       "</div>"
      ],
      "text/plain": [
       "            userID  assessmentItemID   answerCode\n",
       "count  1537.000000       1537.000000  1537.000000\n",
       "mean    237.582303          6.150943     0.667982\n",
       "std      67.446371          1.434095     0.138903\n",
       "min      42.000000          2.000000     0.327186\n",
       "25%     217.000000          5.000000     0.561819\n",
       "50%     257.000000          6.000000     0.680519\n",
       "75%     268.000000          7.000000     0.778439\n",
       "max     442.000000         13.000000     0.955474"
      ]
     },
     "execution_count": 279,
     "metadata": {},
     "output_type": "execute_result"
    }
   ],
   "source": [
    "test_groupby = df.groupby('testId').agg({\n",
    "    'userID': 'nunique',\n",
    "    'assessmentItemID': 'nunique',\n",
    "    'answerCode': percentile\n",
    "})\n",
    "test_groupby.describe()"
   ]
  },
  {
   "cell_type": "code",
   "execution_count": 97,
   "id": "theoretical-trail",
   "metadata": {},
   "outputs": [
    {
     "data": {
      "text/plain": [
       "testId\n",
       "A090000068     42\n",
       "A080000084     43\n",
       "A090000070     43\n",
       "A010000180     43\n",
       "A010000179     43\n",
       "             ... \n",
       "A090000013    439\n",
       "A090000009    440\n",
       "A090000014    441\n",
       "A090000011    442\n",
       "A090000015    442\n",
       "Name: userID, Length: 1537, dtype: int64"
      ]
     },
     "execution_count": 97,
     "metadata": {},
     "output_type": "execute_result"
    }
   ],
   "source": [
    "test_groupby['userID'].sort_values()"
   ]
  },
  {
   "cell_type": "code",
   "execution_count": 130,
   "id": "mechanical-volleyball",
   "metadata": {},
   "outputs": [
    {
     "data": {
      "image/png": "[encoded data removed]",
      "text/plain": [
       "<Figure size 432x288 with 1 Axes>"
      ]
     },
     "metadata": {},
     "output_type": "display_data"
    }
   ],
   "source": [
    "fig, ax = plt.subplots()\n",
    "test_groupby['userID'].hist(bins=10)\n",
    "ax.set_title('# of User per test Rate Histogram')\n",
    "ax.set_xlabel('# of User')\n",
    "ax.set_ylabel('Count')\n",
    "ax.axvline(test_groupby['userID'].mean(), color='red')\n",
    "ax.grid(b=True)"
   ]
  },
  {
   "cell_type": "code",
   "execution_count": 124,
   "id": "municipal-diabetes",
   "metadata": {},
   "outputs": [
    {
     "data": {
      "text/plain": [
       "testId\n",
       "A090000035    0.327186\n",
       "A090000071    0.336111\n",
       "A080000047    0.344178\n",
       "A080000071    0.350895\n",
       "A070000075    0.352535\n",
       "                ...   \n",
       "A040000188    0.940647\n",
       "A060000002    0.945205\n",
       "A060000001    0.947683\n",
       "A010000145    0.952077\n",
       "A040000187    0.955474\n",
       "Name: answerCode, Length: 1537, dtype: float64"
      ]
     },
     "execution_count": 124,
     "metadata": {},
     "output_type": "execute_result"
    }
   ],
   "source": [
    "test_groupby['answerCode'].sort_values()"
   ]
  },
  {
   "cell_type": "code",
   "execution_count": 126,
   "id": "smoking-usage",
   "metadata": {},
   "outputs": [
    {
     "data": {
      "image/png": "[encoded data removed]",
      "text/plain": [
       "<Figure size 432x288 with 1 Axes>"
      ]
     },
     "metadata": {},
     "output_type": "display_data"
    }
   ],
   "source": [
    "fig, ax = plt.subplots()\n",
    "test_groupby['answerCode'].hist(bins=20)\n",
    "ax.set_title('Test Answer Rate Histogram')\n",
    "ax.set_xlabel('Answer Rate')\n",
    "ax.set_ylabel('Count')\n",
    "ax.axvline(test_groupby['answerCode'].mean(), color='red')\n",
    "ax.grid(b=True)"
   ]
  },
  {
   "cell_type": "markdown",
   "id": "solved-moscow",
   "metadata": {},
   "source": [
    "# 1.3 EDA"
   ]
  },
  {
   "cell_type": "markdown",
   "id": "synthetic-finding",
   "metadata": {},
   "source": [
    "## 문항을 많이 푼 학생일수록 문제를 더 맞추는가?"
   ]
  },
  {
   "cell_type": "code",
   "execution_count": 135,
   "id": "young-singapore",
   "metadata": {},
   "outputs": [
    {
     "data": {
      "text/html": [
       "<div>\n",
       "<style scoped>\n",
       "    .dataframe tbody tr th:only-of-type {\n",
       "        vertical-align: middle;\n",
       "    }\n",
       "\n",
       "    .dataframe tbody tr th {\n",
       "        vertical-align: top;\n",
       "    }\n",
       "\n",
       "    .dataframe thead th {\n",
       "        text-align: right;\n",
       "    }\n",
       "</style>\n",
       "<table border=\"1\" class=\"dataframe\">\n",
       "  <thead>\n",
       "    <tr style=\"text-align: right;\">\n",
       "      <th></th>\n",
       "      <th>answerCode</th>\n",
       "      <th>num_items</th>\n",
       "    </tr>\n",
       "    <tr>\n",
       "      <th>assessmentItemID</th>\n",
       "      <th></th>\n",
       "      <th></th>\n",
       "    </tr>\n",
       "  </thead>\n",
       "  <tbody>\n",
       "    <tr>\n",
       "      <th>9</th>\n",
       "      <td>0.555556</td>\n",
       "      <td>9</td>\n",
       "    </tr>\n",
       "    <tr>\n",
       "      <th>13</th>\n",
       "      <td>0.666667</td>\n",
       "      <td>13</td>\n",
       "    </tr>\n",
       "    <tr>\n",
       "      <th>14</th>\n",
       "      <td>0.629870</td>\n",
       "      <td>14</td>\n",
       "    </tr>\n",
       "    <tr>\n",
       "      <th>15</th>\n",
       "      <td>0.612963</td>\n",
       "      <td>15</td>\n",
       "    </tr>\n",
       "    <tr>\n",
       "      <th>16</th>\n",
       "      <td>0.547697</td>\n",
       "      <td>16</td>\n",
       "    </tr>\n",
       "    <tr>\n",
       "      <th>...</th>\n",
       "      <td>...</td>\n",
       "      <td>...</td>\n",
       "    </tr>\n",
       "    <tr>\n",
       "      <th>1773</th>\n",
       "      <td>0.875353</td>\n",
       "      <td>1773</td>\n",
       "    </tr>\n",
       "    <tr>\n",
       "      <th>1774</th>\n",
       "      <td>0.735626</td>\n",
       "      <td>1774</td>\n",
       "    </tr>\n",
       "    <tr>\n",
       "      <th>1777</th>\n",
       "      <td>0.656162</td>\n",
       "      <td>1777</td>\n",
       "    </tr>\n",
       "    <tr>\n",
       "      <th>1847</th>\n",
       "      <td>0.124526</td>\n",
       "      <td>1847</td>\n",
       "    </tr>\n",
       "    <tr>\n",
       "      <th>1860</th>\n",
       "      <td>0.598387</td>\n",
       "      <td>1860</td>\n",
       "    </tr>\n",
       "  </tbody>\n",
       "</table>\n",
       "<p>1176 rows × 2 columns</p>\n",
       "</div>"
      ],
      "text/plain": [
       "                  answerCode  num_items\n",
       "assessmentItemID                       \n",
       "9                   0.555556          9\n",
       "13                  0.666667         13\n",
       "14                  0.629870         14\n",
       "15                  0.612963         15\n",
       "16                  0.547697         16\n",
       "...                      ...        ...\n",
       "1773                0.875353       1773\n",
       "1774                0.735626       1774\n",
       "1777                0.656162       1777\n",
       "1847                0.124526       1847\n",
       "1860                0.598387       1860\n",
       "\n",
       "[1176 rows x 2 columns]"
      ]
     },
     "execution_count": 135,
     "metadata": {},
     "output_type": "execute_result"
    }
   ],
   "source": [
    "# 각 학생별로 푼 문항수를 통계내어, 그 문항수를 기준으로 다시 한번 묶어서 같은 문항수를 푼 학생들의 정답률을 평균낸다.\n",
    "itemnum_ans = stu_groupby.groupby('assessmentItemID').mean()\n",
    "itemnum_ans['num_items'] = itemnum_ans.index\n",
    "itemnum_ans"
   ]
  },
  {
   "cell_type": "code",
   "execution_count": 137,
   "id": "legendary-northwest",
   "metadata": {},
   "outputs": [
    {
     "data": {
      "text/plain": [
       "Text(0, 0.5, 'Answer Rate')"
      ]
     },
     "execution_count": 137,
     "metadata": {},
     "output_type": "execute_result"
    },
    {
     "data": {
      "image/png": "[encoded data removed]",
      "text/plain": [
       "<Figure size 432x288 with 1 Axes>"
      ]
     },
     "metadata": {},
     "output_type": "display_data"
    }
   ],
   "source": [
    "fig, ax = plt.subplots()\n",
    "# scatter와 line을 함께 볼 수 있는 regplot\n",
    "sns.regplot(data=itemnum_ans, x='num_items', y='answerCode',\n",
    "           line_kws={\"color\": \"orange\"}, scatter_kws={'alpha':0.6}, ax=ax)\n",
    "\n",
    "ax.set_title('# of Questions - Answer Rate')\n",
    "ax.set_xlabel('# of Questions')\n",
    "ax.set_ylabel('Answer Rate')"
   ]
  },
  {
   "cell_type": "code",
   "execution_count": 153,
   "id": "medium-gravity",
   "metadata": {},
   "outputs": [],
   "source": [
    "# 위 그래프도 점이 너무 많으므로, 어느정도 비슷한 문항수를 푼 학생은 한 범주로 묶어 가정하고 다시 찍어보자.\n",
    "itemnum_ans = stu_groupby.groupby('assessmentItemID').mean()\n",
    "bins = 300\n",
    "itemnum_ans['bins'] = pd.cut(itemnum_ans.index,\n",
    "                             [i * (itemnum_ans.index.max() - itemnum_ans.index.min()) // bins for i in range(bins)])"
   ]
  },
  {
   "cell_type": "code",
   "execution_count": 154,
   "id": "sapphire-mention",
   "metadata": {},
   "outputs": [],
   "source": [
    "itemnum_ans = itemnum_ans.groupby('bins').mean()\n",
    "itemnum_ans['mid'] = list(map(lambda x: (x.left + x.right)//2, itemnum_ans.index))"
   ]
  },
  {
   "cell_type": "code",
   "execution_count": 155,
   "id": "marine-trust",
   "metadata": {},
   "outputs": [
    {
     "data": {
      "text/plain": [
       "Text(0, 0.5, 'Answer Rate')"
      ]
     },
     "execution_count": 155,
     "metadata": {},
     "output_type": "execute_result"
    },
    {
     "data": {
      "image/png": "[encoded data removed]",
      "text/plain": [
       "<Figure size 432x288 with 1 Axes>"
      ]
     },
     "metadata": {},
     "output_type": "display_data"
    }
   ],
   "source": [
    "fig, ax = plt.subplots()\n",
    "sns.regplot(data=itemnum_ans, x='mid', y='answerCode',\n",
    "           line_kws={\"color\": \"orange\"}, scatter_kws={'alpha': 0.6}, ax=ax)\n",
    "\n",
    "ax.set_title(f'# of Items - Answer Rate | bins={bins}')\n",
    "ax.set_xlabel('# of Items')\n",
    "ax.set_ylabel('Answer Rate')"
   ]
  },
  {
   "cell_type": "code",
   "execution_count": 156,
   "id": "powered-family",
   "metadata": {},
   "outputs": [
    {
     "name": "stdout",
     "output_type": "stream",
     "text": [
      "Correlation between # of Tags being solved - Answer Rate: 0.168\n"
     ]
    }
   ],
   "source": [
    "# feature간의 연관도 - 푼 문항수와 정답과의 관계\n",
    "print(f\"Correlation between # of Tags being solved - Answer Rate: {stu_groupby.corr()['assessmentItemID']['answerCode']:.3f}\")"
   ]
  },
  {
   "cell_type": "markdown",
   "id": "fantastic-mount",
   "metadata": {},
   "source": [
    "## 더 많이 노출된 태그일수록 정답률이 더 높은가?"
   ]
  },
  {
   "cell_type": "code",
   "execution_count": 161,
   "id": "strategic-track",
   "metadata": {},
   "outputs": [
    {
     "data": {
      "text/html": [
       "<div>\n",
       "<style scoped>\n",
       "    .dataframe tbody tr th:only-of-type {\n",
       "        vertical-align: middle;\n",
       "    }\n",
       "\n",
       "    .dataframe tbody tr th {\n",
       "        vertical-align: top;\n",
       "    }\n",
       "\n",
       "    .dataframe thead th {\n",
       "        text-align: right;\n",
       "    }\n",
       "</style>\n",
       "<table border=\"1\" class=\"dataframe\">\n",
       "  <thead>\n",
       "    <tr style=\"text-align: right;\">\n",
       "      <th></th>\n",
       "      <th>userID</th>\n",
       "      <th>answerCode</th>\n",
       "    </tr>\n",
       "  </thead>\n",
       "  <tbody>\n",
       "    <tr>\n",
       "      <th>count</th>\n",
       "      <td>912.000000</td>\n",
       "      <td>912.000000</td>\n",
       "    </tr>\n",
       "    <tr>\n",
       "      <th>mean</th>\n",
       "      <td>2485.291667</td>\n",
       "      <td>0.615524</td>\n",
       "    </tr>\n",
       "    <tr>\n",
       "      <th>std</th>\n",
       "      <td>1732.086925</td>\n",
       "      <td>0.148329</td>\n",
       "    </tr>\n",
       "    <tr>\n",
       "      <th>min</th>\n",
       "      <td>44.000000</td>\n",
       "      <td>0.188940</td>\n",
       "    </tr>\n",
       "    <tr>\n",
       "      <th>25%</th>\n",
       "      <td>1025.250000</td>\n",
       "      <td>0.498239</td>\n",
       "    </tr>\n",
       "    <tr>\n",
       "      <th>50%</th>\n",
       "      <td>2204.000000</td>\n",
       "      <td>0.599585</td>\n",
       "    </tr>\n",
       "    <tr>\n",
       "      <th>75%</th>\n",
       "      <td>4052.750000</td>\n",
       "      <td>0.740288</td>\n",
       "    </tr>\n",
       "    <tr>\n",
       "      <th>max</th>\n",
       "      <td>12892.000000</td>\n",
       "      <td>0.977778</td>\n",
       "    </tr>\n",
       "  </tbody>\n",
       "</table>\n",
       "</div>"
      ],
      "text/plain": [
       "             userID  answerCode\n",
       "count    912.000000  912.000000\n",
       "mean    2485.291667    0.615524\n",
       "std     1732.086925    0.148329\n",
       "min       44.000000    0.188940\n",
       "25%     1025.250000    0.498239\n",
       "50%     2204.000000    0.599585\n",
       "75%     4052.750000    0.740288\n",
       "max    12892.000000    0.977778"
      ]
     },
     "execution_count": 161,
     "metadata": {},
     "output_type": "execute_result"
    }
   ],
   "source": [
    "tag_groupby = df.groupby('KnowledgeTag').agg({\n",
    "    'userID': 'count', # 한 유저에게 중복으로 노출되더라도 상관없음\n",
    "    'answerCode': percentile\n",
    "})\n",
    "tag_groupby.describe()"
   ]
  },
  {
   "cell_type": "code",
   "execution_count": 162,
   "id": "raising-organization",
   "metadata": {},
   "outputs": [
    {
     "data": {
      "text/plain": [
       "Text(0.5, 1.0, '# of Tags Exposed - Answer Rate')"
      ]
     },
     "execution_count": 162,
     "metadata": {},
     "output_type": "execute_result"
    },
    {
     "data": {
      "image/png": "[encoded data removed]",
      "text/plain": [
       "<Figure size 360x360 with 1 Axes>"
      ]
     },
     "metadata": {},
     "output_type": "display_data"
    }
   ],
   "source": [
    "g = sns.lmplot(data=tag_groupby, x='userID', y='answerCode',\n",
    "              scatter_kws={'alpha':0.5}, line_kws={\"color\": \"orange\"})\n",
    "g.set_xlabels('# of Tags Being solved')\n",
    "g.set_ylabels('Answer Rate')\n",
    "g.set(xlim=(-30, 14500))\n",
    "ax = plt.gca()\n",
    "ax.set_title('# of Tags Exposed - Answer Rate')"
   ]
  },
  {
   "cell_type": "code",
   "execution_count": 168,
   "id": "diagnostic-smell",
   "metadata": {},
   "outputs": [],
   "source": [
    "usernum_tag = tag_groupby.groupby('userID').mean()\n",
    "bins = 150\n",
    "usernum_tag['bins'] = pd.cut(usernum_tag.index,\n",
    "                             [i * (usernum_tag.index.max() - usernum_tag.index.min()) // bins for i in range(bins)])\n",
    "\n",
    "usernum_tag = usernum_tag.groupby('bins').mean()\n",
    "usernum_tag['mid'] = list(map(lambda x: (x.left + x.right)//2, usernum_tag.index))"
   ]
  },
  {
   "cell_type": "code",
   "execution_count": 169,
   "id": "invalid-stuff",
   "metadata": {},
   "outputs": [
    {
     "data": {
      "text/plain": [
       "Text(0, 0.5, 'Answer Rate')"
      ]
     },
     "execution_count": 169,
     "metadata": {},
     "output_type": "execute_result"
    },
    {
     "data": {
      "image/png": "[encoded data removed]",
      "text/plain": [
       "<Figure size 432x288 with 1 Axes>"
      ]
     },
     "metadata": {},
     "output_type": "display_data"
    }
   ],
   "source": [
    "# 묶어서 연관지어보니, 어느정도의 연관관계는 있지만 매우 큰 요인은 아니다.(outlier가 너무 많다.)\n",
    "fig, ax = plt.subplots()\n",
    "sns.regplot(data=usernum_tag, x='mid', y='answerCode',\n",
    "           line_kws={\"color\": \"orange\"}, scatter_kws={'alpha': 0.6}, ax=ax)\n",
    "\n",
    "ax.set_title(f'# of user exposed - Answer Rate | bins={bins}')\n",
    "ax.set_xlabel('# of user exposed')\n",
    "ax.set_ylabel('Answer Rate')"
   ]
  },
  {
   "cell_type": "markdown",
   "id": "improved-thunder",
   "metadata": {},
   "source": [
    "## 문항을 푸는데 걸린 시간과 정답률 사이의 상관관계는?"
   ]
  },
  {
   "cell_type": "code",
   "execution_count": 171,
   "id": "facial-bacon",
   "metadata": {},
   "outputs": [],
   "source": [
    "diff = df.loc[:, ['userID', 'Timestamp']].groupby('userID').diff().fillna(pd.Timedelta(seconds=0))\n",
    "diff = diff.fillna(pd.Timedelta(seconds=0))\n",
    "diff = diff['Timestamp'].apply(lambda x: x.total_seconds())\n",
    "\n",
    "df['elapsed'] = diff # 한 문항을 시작한 뒤 다음 문항을 시작하기까지 걸리는 시간(= 한 문항을 푸는데 경과된 시간)\n",
    "\n",
    "elapsed_answer = df.groupby('elapsed').agg({'answerCode': percentile, 'userID': 'count'})\n",
    "elapsed_hist = elapsed_answer[elapsed_answer['userID'] > 100]"
   ]
  },
  {
   "cell_type": "code",
   "execution_count": 175,
   "id": "quiet-bonus",
   "metadata": {},
   "outputs": [
    {
     "data": {
      "text/plain": [
       "(-10.0, 650.0)"
      ]
     },
     "execution_count": 175,
     "metadata": {},
     "output_type": "execute_result"
    },
    {
     "data": {
      "image/png": "[encoded data removed]",
      "text/plain": [
       "<Figure size 432x288 with 1 Axes>"
      ]
     },
     "metadata": {},
     "output_type": "display_data"
    }
   ],
   "source": [
    "fig, ax = plt.subplots()\n",
    "g = sns.regplot(x=elapsed_hist.index[:-1], y=elapsed_hist.answerCode.values[:-1],\n",
    "            scatter_kws={'alpha':0.5}, line_kws={\"color\": \"orange\"}, ax=ax)\n",
    "ax.set_title('Elapsed Time vs. Answer Rate')\n",
    "ax.set_xlabel('Elapsed Time (< 650s)')\n",
    "ax.set_ylabel('Answer Rate')\n",
    "ax.axvline(22, color='r')\n",
    "ax.set_xlim(-10, 650)"
   ]
  },
  {
   "cell_type": "markdown",
   "id": "stuck-amount",
   "metadata": {},
   "source": [
    "# 궁금한 점\n",
    "### 하나의 시험지에는 평균적으로 몇개의 문항이 들어가 있을까? 또, 몇개의 문항태그가 달려있을까?"
   ]
  },
  {
   "cell_type": "code",
   "execution_count": 188,
   "id": "hundred-olympus",
   "metadata": {},
   "outputs": [
    {
     "data": {
      "text/html": [
       "<div>\n",
       "<style scoped>\n",
       "    .dataframe tbody tr th:only-of-type {\n",
       "        vertical-align: middle;\n",
       "    }\n",
       "\n",
       "    .dataframe tbody tr th {\n",
       "        vertical-align: top;\n",
       "    }\n",
       "\n",
       "    .dataframe thead th {\n",
       "        text-align: right;\n",
       "    }\n",
       "</style>\n",
       "<table border=\"1\" class=\"dataframe\">\n",
       "  <thead>\n",
       "    <tr style=\"text-align: right;\">\n",
       "      <th></th>\n",
       "      <th>assessmentItemID</th>\n",
       "      <th>KnowledgeTag</th>\n",
       "    </tr>\n",
       "  </thead>\n",
       "  <tbody>\n",
       "    <tr>\n",
       "      <th>count</th>\n",
       "      <td>1537.000000</td>\n",
       "      <td>1537.000000</td>\n",
       "    </tr>\n",
       "    <tr>\n",
       "      <th>mean</th>\n",
       "      <td>6.150943</td>\n",
       "      <td>1.741705</td>\n",
       "    </tr>\n",
       "    <tr>\n",
       "      <th>std</th>\n",
       "      <td>1.434095</td>\n",
       "      <td>1.181580</td>\n",
       "    </tr>\n",
       "    <tr>\n",
       "      <th>min</th>\n",
       "      <td>2.000000</td>\n",
       "      <td>1.000000</td>\n",
       "    </tr>\n",
       "    <tr>\n",
       "      <th>25%</th>\n",
       "      <td>5.000000</td>\n",
       "      <td>1.000000</td>\n",
       "    </tr>\n",
       "    <tr>\n",
       "      <th>50%</th>\n",
       "      <td>6.000000</td>\n",
       "      <td>1.000000</td>\n",
       "    </tr>\n",
       "    <tr>\n",
       "      <th>75%</th>\n",
       "      <td>7.000000</td>\n",
       "      <td>2.000000</td>\n",
       "    </tr>\n",
       "    <tr>\n",
       "      <th>max</th>\n",
       "      <td>13.000000</td>\n",
       "      <td>8.000000</td>\n",
       "    </tr>\n",
       "  </tbody>\n",
       "</table>\n",
       "</div>"
      ],
      "text/plain": [
       "       assessmentItemID  KnowledgeTag\n",
       "count       1537.000000   1537.000000\n",
       "mean           6.150943      1.741705\n",
       "std            1.434095      1.181580\n",
       "min            2.000000      1.000000\n",
       "25%            5.000000      1.000000\n",
       "50%            6.000000      1.000000\n",
       "75%            7.000000      2.000000\n",
       "max           13.000000      8.000000"
      ]
     },
     "execution_count": 188,
     "metadata": {},
     "output_type": "execute_result"
    }
   ],
   "source": [
    "test_groupby = df.groupby('testId').agg({\n",
    "    'assessmentItemID': 'nunique', # 시험지 당 할당된 문항 수\n",
    "    'KnowledgeTag' : 'nunique', # 시험지 당 할당된 태그 개수\n",
    "})\n",
    "test_groupby.describe()"
   ]
  },
  {
   "cell_type": "code",
   "execution_count": 199,
   "id": "answering-reynolds",
   "metadata": {},
   "outputs": [
    {
     "name": "stderr",
     "output_type": "stream",
     "text": [
      "/opt/conda/lib/python3.7/site-packages/seaborn/_decorators.py:43: FutureWarning: Pass the following variable as a keyword arg: x. From version 0.12, the only valid positional argument will be `data`, and passing other arguments without an explicit keyword will result in an error or misinterpretation.\n",
      "  FutureWarning\n"
     ]
    },
    {
     "data": {
      "image/png": "[encoded data removed]",
      "text/plain": [
       "<Figure size 432x288 with 1 Axes>"
      ]
     },
     "metadata": {},
     "output_type": "display_data"
    }
   ],
   "source": [
    "# 대부분이 5개에서 8개 사이. 테스트 당 문제가 그렇게 많지 않다.\n",
    "fig, ax = plt.subplots()\n",
    "g = sns.countplot(test_groupby['assessmentItemID'])\n",
    "ax.set_title('question per test')\n",
    "ax.set_xlabel('question per test')\n",
    "ax.set_ylabel('test count')\n",
    "ax.grid(b=True)"
   ]
  },
  {
   "cell_type": "code",
   "execution_count": 212,
   "id": "portable-circumstances",
   "metadata": {},
   "outputs": [
    {
     "name": "stderr",
     "output_type": "stream",
     "text": [
      "/opt/conda/lib/python3.7/site-packages/seaborn/_decorators.py:43: FutureWarning: Pass the following variable as a keyword arg: x. From version 0.12, the only valid positional argument will be `data`, and passing other arguments without an explicit keyword will result in an error or misinterpretation.\n",
      "  FutureWarning\n"
     ]
    },
    {
     "data": {
      "image/png": "[encoded data removed]",
      "text/plain": [
       "<Figure size 432x288 with 1 Axes>"
      ]
     },
     "metadata": {},
     "output_type": "display_data"
    }
   ],
   "source": [
    "# 한 테스트에 속해있는 Knowledge Tag는 대부분 1~2개에 그친다.\n",
    "# 총 문항수가 5~8개인 것을 고려하면 놀랍지는 않지만, 대부분의 한 테스트는 대부분 하나의 주제를 묻고있다는 것이다.\n",
    "# 따라서 Knowledge Tag는 문항의 주제단원(예를 들어 일차함수의 그래프) 정도로 추측할 수 있다.\n",
    "fig, ax = plt.subplots()\n",
    "g = sns.countplot(test_groupby['KnowledgeTag'])\n",
    "ax.set_title('KnowledgeTag per test')\n",
    "ax.set_xlabel('KnowledgeTag count')\n",
    "ax.set_ylabel('test count')\n",
    "ax.grid(b=True)"
   ]
  },
  {
   "cell_type": "markdown",
   "id": "individual-broadcast",
   "metadata": {},
   "source": [
    "### KnowledgeTag는 시험지별로 골고루 분포되어있는가?"
   ]
  },
  {
   "cell_type": "code",
   "execution_count": 238,
   "id": "corporate-slide",
   "metadata": {},
   "outputs": [
    {
     "data": {
      "text/html": [
       "<div>\n",
       "<style scoped>\n",
       "    .dataframe tbody tr th:only-of-type {\n",
       "        vertical-align: middle;\n",
       "    }\n",
       "\n",
       "    .dataframe tbody tr th {\n",
       "        vertical-align: top;\n",
       "    }\n",
       "\n",
       "    .dataframe thead th {\n",
       "        text-align: right;\n",
       "    }\n",
       "</style>\n",
       "<table border=\"1\" class=\"dataframe\">\n",
       "  <thead>\n",
       "    <tr style=\"text-align: right;\">\n",
       "      <th></th>\n",
       "      <th>testId</th>\n",
       "      <th>assessmentItemID</th>\n",
       "      <th>userID</th>\n",
       "    </tr>\n",
       "  </thead>\n",
       "  <tbody>\n",
       "    <tr>\n",
       "      <th>count</th>\n",
       "      <td>912.000000</td>\n",
       "      <td>912.000000</td>\n",
       "      <td>912.000000</td>\n",
       "    </tr>\n",
       "    <tr>\n",
       "      <th>mean</th>\n",
       "      <td>2.935307</td>\n",
       "      <td>10.366228</td>\n",
       "      <td>483.335526</td>\n",
       "    </tr>\n",
       "    <tr>\n",
       "      <th>std</th>\n",
       "      <td>1.324092</td>\n",
       "      <td>6.622292</td>\n",
       "      <td>148.554696</td>\n",
       "    </tr>\n",
       "    <tr>\n",
       "      <th>min</th>\n",
       "      <td>1.000000</td>\n",
       "      <td>1.000000</td>\n",
       "      <td>42.000000</td>\n",
       "    </tr>\n",
       "    <tr>\n",
       "      <th>25%</th>\n",
       "      <td>2.000000</td>\n",
       "      <td>5.000000</td>\n",
       "      <td>410.000000</td>\n",
       "    </tr>\n",
       "    <tr>\n",
       "      <th>50%</th>\n",
       "      <td>3.000000</td>\n",
       "      <td>10.000000</td>\n",
       "      <td>504.000000</td>\n",
       "    </tr>\n",
       "    <tr>\n",
       "      <th>75%</th>\n",
       "      <td>3.000000</td>\n",
       "      <td>16.000000</td>\n",
       "      <td>584.000000</td>\n",
       "    </tr>\n",
       "    <tr>\n",
       "      <th>max</th>\n",
       "      <td>12.000000</td>\n",
       "      <td>41.000000</td>\n",
       "      <td>1027.000000</td>\n",
       "    </tr>\n",
       "  </tbody>\n",
       "</table>\n",
       "</div>"
      ],
      "text/plain": [
       "           testId  assessmentItemID       userID\n",
       "count  912.000000        912.000000   912.000000\n",
       "mean     2.935307         10.366228   483.335526\n",
       "std      1.324092          6.622292   148.554696\n",
       "min      1.000000          1.000000    42.000000\n",
       "25%      2.000000          5.000000   410.000000\n",
       "50%      3.000000         10.000000   504.000000\n",
       "75%      3.000000         16.000000   584.000000\n",
       "max     12.000000         41.000000  1027.000000"
      ]
     },
     "execution_count": 238,
     "metadata": {},
     "output_type": "execute_result"
    }
   ],
   "source": [
    "tag_groupby = df.groupby('KnowledgeTag').agg({\n",
    "    'testId' : 'nunique',\n",
    "    'assessmentItemID' : 'nunique',\n",
    "    'userID' : 'nunique',\n",
    "})\n",
    "tag_groupby.describe()"
   ]
  },
  {
   "cell_type": "code",
   "execution_count": 239,
   "id": "white-hardware",
   "metadata": {},
   "outputs": [
    {
     "name": "stderr",
     "output_type": "stream",
     "text": [
      "/opt/conda/lib/python3.7/site-packages/seaborn/_decorators.py:43: FutureWarning: Pass the following variable as a keyword arg: x. From version 0.12, the only valid positional argument will be `data`, and passing other arguments without an explicit keyword will result in an error or misinterpretation.\n",
      "  FutureWarning\n"
     ]
    },
    {
     "data": {
      "image/png": "[encoded data removed]",
      "text/plain": [
       "<Figure size 432x288 with 1 Axes>"
      ]
     },
     "metadata": {},
     "output_type": "display_data"
    }
   ],
   "source": [
    "# 한 KnowledgeTag는 일반적으로 세 개 정도의 시험지로 이루어져있다.(500개의 knowledgeTag가 3개의 시험지를 가지고 있다.)\n",
    "# 중요한 Tag는 12개씩 시험지가 있기도 하지만, 대부분 (1~)3개에 그친다. -> tag는 소단원이 아닐까?\n",
    "fig, ax = plt.subplots()\n",
    "g = sns.countplot(tag_groupby['testId'])\n",
    "ax.set_title('test count per KnowledgeTag')\n",
    "ax.set_xlabel('test per KnowledgeTag')\n",
    "ax.set_ylabel('knowledge Tag count')\n",
    "ax.grid(b=True)"
   ]
  },
  {
   "cell_type": "markdown",
   "id": "japanese-powder",
   "metadata": {},
   "source": [
    "### KnowledgeTag별 문항 수의 분포는 균등하게 나누어져있는가?"
   ]
  },
  {
   "cell_type": "code",
   "execution_count": 240,
   "id": "efficient-comparison",
   "metadata": {},
   "outputs": [
    {
     "data": {
      "image/png": "[encoded data removed]",
      "text/plain": [
       "<Figure size 432x288 with 1 Axes>"
      ]
     },
     "metadata": {},
     "output_type": "display_data"
    }
   ],
   "source": [
    "# Tag에 딸린 문항 수는 약 10여개로, 서너 문항부터 20문항에 이르기까지 분포가 꽤 다양하다.(=균등하지 않다)\n",
    "fig, ax = plt.subplots()\n",
    "g = sns.histplot(tag_groupby['assessmentItemID'])\n",
    "ax.set_title('question count per KnowledgeTag')\n",
    "ax.set_xlabel('question per KnowledgeTag')\n",
    "ax.set_ylabel('knowledge Tag count')\n",
    "ax.grid(b=True)"
   ]
  },
  {
   "cell_type": "markdown",
   "id": "subtle-tomato",
   "metadata": {},
   "source": [
    "### KnowledgeTag별로 학습자수는 균일한가?"
   ]
  },
  {
   "cell_type": "code",
   "execution_count": 247,
   "id": "internal-burton",
   "metadata": {},
   "outputs": [
    {
     "data": {
      "image/png": "[encoded data removed]",
      "text/plain": [
       "<Figure size 432x288 with 1 Axes>"
      ]
     },
     "metadata": {},
     "output_type": "display_data"
    }
   ],
   "source": [
    "# knowledgeTag별 학습자 수는 정규분포를 따른다.\n",
    "# 태그별로 400명대~700명 사이가 가장 많다.\n",
    "# 조사 기간이 2019년 연말부터 2020년 연말까지 딱 1년이므로, 총 학습자수 7400명 가량을 9로 나누었을때 800명 가량이다.\n",
    "# 보통 모든 과목을 학습하지는 않고, 각 학년별로 인원수의 편차가 있음을 감안할때, 1~9까지의 숫자는 학년일 확률이 높지 않을까?\n",
    "fig, ax = plt.subplots()\n",
    "g = sns.histplot(tag_groupby['userID'])\n",
    "ax.set_title('User per KnowledgeTag')\n",
    "ax.set_xlabel('User per KnowledgeTag')\n",
    "ax.set_ylabel('knowledge Tag count')\n",
    "ax.grid(b=True)"
   ]
  },
  {
   "cell_type": "markdown",
   "id": "graphic-moral",
   "metadata": {},
   "source": [
    "### 더 많이 노출된 시험지는 정답률이 높은가?"
   ]
  },
  {
   "cell_type": "code",
   "execution_count": 250,
   "id": "brazilian-terry",
   "metadata": {},
   "outputs": [
    {
     "data": {
      "text/html": [
       "<div>\n",
       "<style scoped>\n",
       "    .dataframe tbody tr th:only-of-type {\n",
       "        vertical-align: middle;\n",
       "    }\n",
       "\n",
       "    .dataframe tbody tr th {\n",
       "        vertical-align: top;\n",
       "    }\n",
       "\n",
       "    .dataframe thead th {\n",
       "        text-align: right;\n",
       "    }\n",
       "</style>\n",
       "<table border=\"1\" class=\"dataframe\">\n",
       "  <thead>\n",
       "    <tr style=\"text-align: right;\">\n",
       "      <th></th>\n",
       "      <th>userID</th>\n",
       "      <th>answerCode</th>\n",
       "    </tr>\n",
       "  </thead>\n",
       "  <tbody>\n",
       "    <tr>\n",
       "      <th>count</th>\n",
       "      <td>1537.000000</td>\n",
       "      <td>1537.000000</td>\n",
       "    </tr>\n",
       "    <tr>\n",
       "      <th>mean</th>\n",
       "      <td>1474.681848</td>\n",
       "      <td>0.667982</td>\n",
       "    </tr>\n",
       "    <tr>\n",
       "      <th>std</th>\n",
       "      <td>533.526783</td>\n",
       "      <td>0.138903</td>\n",
       "    </tr>\n",
       "    <tr>\n",
       "      <th>min</th>\n",
       "      <td>172.000000</td>\n",
       "      <td>0.327186</td>\n",
       "    </tr>\n",
       "    <tr>\n",
       "      <th>25%</th>\n",
       "      <td>1320.000000</td>\n",
       "      <td>0.561819</td>\n",
       "    </tr>\n",
       "    <tr>\n",
       "      <th>50%</th>\n",
       "      <td>1400.000000</td>\n",
       "      <td>0.680519</td>\n",
       "    </tr>\n",
       "    <tr>\n",
       "      <th>75%</th>\n",
       "      <td>1602.000000</td>\n",
       "      <td>0.778439</td>\n",
       "    </tr>\n",
       "    <tr>\n",
       "      <th>max</th>\n",
       "      <td>3960.000000</td>\n",
       "      <td>0.955474</td>\n",
       "    </tr>\n",
       "  </tbody>\n",
       "</table>\n",
       "</div>"
      ],
      "text/plain": [
       "            userID   answerCode\n",
       "count  1537.000000  1537.000000\n",
       "mean   1474.681848     0.667982\n",
       "std     533.526783     0.138903\n",
       "min     172.000000     0.327186\n",
       "25%    1320.000000     0.561819\n",
       "50%    1400.000000     0.680519\n",
       "75%    1602.000000     0.778439\n",
       "max    3960.000000     0.955474"
      ]
     },
     "execution_count": 250,
     "metadata": {},
     "output_type": "execute_result"
    }
   ],
   "source": [
    "test_groupby = df.groupby('testId').agg({\n",
    "    'userID' : 'count', # user와의 interaction 횟수\n",
    "    'answerCode' : percentile # 시험지별 평균 정답률\n",
    "})\n",
    "test_groupby.describe()"
   ]
  },
  {
   "cell_type": "code",
   "execution_count": 272,
   "id": "sound-bahamas",
   "metadata": {},
   "outputs": [],
   "source": [
    "interactionnum_ans = test_groupby.groupby('userID').mean()\n",
    "bins = 200\n",
    "interactionnum_ans['bins'] = pd.cut(interactionnum_ans.index,\n",
    "                            [i * (interactionnum_ans.index.max() - interactionnum_ans.index.min()) // bins for i in range(bins)])\n",
    "interactionnum_ans = interactionnum_ans.groupby('bins').mean()\n",
    "interactionnum_ans['mid'] = list(map(lambda x: (x.left + x.right)//2, interactionnum_ans.index))"
   ]
  },
  {
   "cell_type": "code",
   "execution_count": 275,
   "id": "surgical-touch",
   "metadata": {},
   "outputs": [
    {
     "data": {
      "text/plain": [
       "<seaborn.axisgrid.FacetGrid at 0x7fb610c97c50>"
      ]
     },
     "execution_count": 275,
     "metadata": {},
     "output_type": "execute_result"
    },
    {
     "data": {
      "image/png": "[encoded data removed]",
      "text/plain": [
       "<Figure size 360x360 with 1 Axes>"
      ]
     },
     "metadata": {},
     "output_type": "display_data"
    }
   ],
   "source": [
    "# 대체로 user interaction이 적은 문항들이 정답률이 높긴 하다(쉬운 문제지는 한번 풀고 넘어간다)\n",
    "# 그러나, 자주 보는 경우에는 오히려 정답률이 떨어지는 경우가 있다(어려운 문제지는 여러번 푼다)\n",
    "# 다만 예외가 너무 많아 경향성으로 볼 수 있을지는 의문이 있음.(많이 풀어서 쉬워지거나, 반드시 여러번 풀어야하는 핵심 개념의 문제지인 경우)\n",
    "g = sns.lmplot(x='mid', y='answerCode', data=interactionnum_ans,\n",
    "              line_kws={\"color\": \"orange\"}, scatter_kws={'alpha': 0.6})\n",
    "g.set(title='Relationship between User Interaction(how many times it exposed) and Answer Rate in Test',\n",
    "       xlabel='User Interaction',\n",
    "       ylabel='Answer Rate')"
   ]
  },
  {
   "cell_type": "code",
   "execution_count": 277,
   "id": "august-professional",
   "metadata": {},
   "outputs": [
    {
     "name": "stdout",
     "output_type": "stream",
     "text": [
      "Correlation between # of Tags being solved - Answer Rate: -0.271\n"
     ]
    }
   ],
   "source": [
    "# 음의 경향성이 있음(그러나 믿을만하지 못함)\n",
    "print(f\"Correlation between # of Tags being solved - Answer Rate: {test_groupby.corr()['userID']['answerCode']:.3f}\")"
   ]
  },
  {
   "cell_type": "markdown",
   "id": "acoustic-hierarchy",
   "metadata": {},
   "source": [
    "### 학습자는 시험지를 받았을 때 문제를 순서대로 푸는가?"
   ]
  },
  {
   "cell_type": "code",
   "execution_count": 4,
   "id": "immediate-conference",
   "metadata": {},
   "outputs": [],
   "source": [
    "from tqdm.notebook import tqdm\n",
    "q_nums = df.assessmentItemID.apply(lambda x: x[-2:])\n",
    "q_nums_next = q_nums.shift(-1)"
   ]
  },
  {
   "cell_type": "code",
   "execution_count": 7,
   "id": "sorted-former",
   "metadata": {},
   "outputs": [
    {
     "data": {
      "application/vnd.jupyter.widget-view+json": {
       "model_id": "3d23b4ebe9f541c1be5b2231c92f45ee",
       "version_major": 2,
       "version_minor": 0
      },
      "text/plain": [
       "HBox(children=(FloatProgress(value=1.0, bar_style='info', max=1.0), HTML(value='')))"
      ]
     },
     "metadata": {},
     "output_type": "display_data"
    },
    {
     "name": "stdout",
     "output_type": "stream",
     "text": [
      "\n"
     ]
    },
    {
     "data": {
      "text/plain": [
       "105556"
      ]
     },
     "execution_count": 7,
     "metadata": {},
     "output_type": "execute_result"
    }
   ],
   "source": [
    "# 순서대로 풀지 않는 경우 -> 약 10만번\n",
    "count = 1\n",
    "for i, _ in tqdm(enumerate(range(len(q_nums)-1))):\n",
    "    if  (int(q_nums[i]) +1) != int(q_nums_next[i]) and df.testId[i] == df.testId[i+1]:\n",
    "        count +=1\n",
    "\n",
    "count"
   ]
  },
  {
   "cell_type": "code",
   "execution_count": 10,
   "id": "figured-penguin",
   "metadata": {},
   "outputs": [
    {
     "data": {
      "application/vnd.jupyter.widget-view+json": {
       "model_id": "2e25dab345ea4a5190b0b1d4bed871ed",
       "version_major": 2,
       "version_minor": 0
      },
      "text/plain": [
       "HBox(children=(FloatProgress(value=1.0, bar_style='info', max=1.0), HTML(value='')))"
      ]
     },
     "metadata": {},
     "output_type": "display_data"
    },
    {
     "name": "stdout",
     "output_type": "stream",
     "text": [
      "A060000001 A060000001\n",
      "05 07\n",
      "A080000004 A080000004\n",
      "06 08\n",
      "A080000004 A080000004\n",
      "08 07\n",
      "A080000008 A080000008\n",
      "08 01\n",
      "A080000012 A080000012\n",
      "03 08\n",
      "A080000012 A080000012\n",
      "08 04\n",
      "A080000014 A080000014\n",
      "05 08\n",
      "A080000014 A080000014\n",
      "08 06\n",
      "A080000016 A080000016\n",
      "02 04\n",
      "A080000016 A080000016\n",
      "04 03\n",
      "A080000016 A080000016\n",
      "03 05\n",
      "A080000018 A080000018\n",
      "04 06\n",
      "A080000018 A080000018\n",
      "06 05\n",
      "A080000018 A080000018\n",
      "05 07\n",
      "A080000020 A080000020\n",
      "08 01\n",
      "A080000020 A080000020\n",
      "05 07\n",
      "A080000020 A080000020\n",
      "07 06\n",
      "A080000022 A080000022\n",
      "04 06\n",
      "A080000022 A080000022\n",
      "06 05\n",
      "\n"
     ]
    },
    {
     "data": {
      "text/plain": [
       "20"
      ]
     },
     "execution_count": 10,
     "metadata": {},
     "output_type": "execute_result"
    }
   ],
   "source": [
    "# 순서대로 풀지 않는 경우 -> 약 10만번\n",
    "count = 1\n",
    "for i, _ in tqdm(enumerate(range(len(q_nums)-1))):\n",
    "    if (int(q_nums[i]) +1) != int(q_nums_next[i]) and df.testId[i] == df.testId[i+1]:\n",
    "        print(df.testId[i], df.testId[i+1])\n",
    "        print(q_nums[i], q_nums_next[i])\n",
    "        count +=1\n",
    "    if i==200:\n",
    "        break\n",
    "count"
   ]
  },
  {
   "cell_type": "markdown",
   "id": "political-paris",
   "metadata": {},
   "source": [
    "### 정답을 특별히 잘맞추는 시간대가 있을까?"
   ]
  },
  {
   "cell_type": "code",
   "execution_count": 15,
   "id": "fourth-header",
   "metadata": {},
   "outputs": [
    {
     "name": "stderr",
     "output_type": "stream",
     "text": [
      "/opt/conda/lib/python3.7/site-packages/ipykernel_launcher.py:2: SettingWithCopyWarning: \n",
      "A value is trying to be set on a copy of a slice from a DataFrame.\n",
      "Try using .loc[row_indexer,col_indexer] = value instead\n",
      "\n",
      "See the caveats in the documentation: https://pandas.pydata.org/pandas-docs/stable/user_guide/indexing.html#returning-a-view-versus-a-copy\n",
      "  \n"
     ]
    },
    {
     "data": {
      "text/html": [
       "<div>\n",
       "<style scoped>\n",
       "    .dataframe tbody tr th:only-of-type {\n",
       "        vertical-align: middle;\n",
       "    }\n",
       "\n",
       "    .dataframe tbody tr th {\n",
       "        vertical-align: top;\n",
       "    }\n",
       "\n",
       "    .dataframe thead th {\n",
       "        text-align: right;\n",
       "    }\n",
       "</style>\n",
       "<table border=\"1\" class=\"dataframe\">\n",
       "  <thead>\n",
       "    <tr style=\"text-align: right;\">\n",
       "      <th></th>\n",
       "      <th>answerCode</th>\n",
       "      <th>Timestamp</th>\n",
       "      <th>hour</th>\n",
       "    </tr>\n",
       "  </thead>\n",
       "  <tbody>\n",
       "    <tr>\n",
       "      <th>0</th>\n",
       "      <td>1</td>\n",
       "      <td>2020-03-24 00:17:11</td>\n",
       "      <td>0</td>\n",
       "    </tr>\n",
       "    <tr>\n",
       "      <th>1</th>\n",
       "      <td>1</td>\n",
       "      <td>2020-03-24 00:17:14</td>\n",
       "      <td>0</td>\n",
       "    </tr>\n",
       "    <tr>\n",
       "      <th>2</th>\n",
       "      <td>1</td>\n",
       "      <td>2020-03-24 00:17:22</td>\n",
       "      <td>0</td>\n",
       "    </tr>\n",
       "    <tr>\n",
       "      <th>3</th>\n",
       "      <td>1</td>\n",
       "      <td>2020-03-24 00:17:29</td>\n",
       "      <td>0</td>\n",
       "    </tr>\n",
       "    <tr>\n",
       "      <th>4</th>\n",
       "      <td>1</td>\n",
       "      <td>2020-03-24 00:17:36</td>\n",
       "      <td>0</td>\n",
       "    </tr>\n",
       "    <tr>\n",
       "      <th>...</th>\n",
       "      <td>...</td>\n",
       "      <td>...</td>\n",
       "      <td>...</td>\n",
       "    </tr>\n",
       "    <tr>\n",
       "      <th>2266581</th>\n",
       "      <td>0</td>\n",
       "      <td>2020-06-05 06:50:21</td>\n",
       "      <td>6</td>\n",
       "    </tr>\n",
       "    <tr>\n",
       "      <th>2266582</th>\n",
       "      <td>1</td>\n",
       "      <td>2020-08-21 01:06:39</td>\n",
       "      <td>1</td>\n",
       "    </tr>\n",
       "    <tr>\n",
       "      <th>2266583</th>\n",
       "      <td>1</td>\n",
       "      <td>2020-08-21 01:06:50</td>\n",
       "      <td>1</td>\n",
       "    </tr>\n",
       "    <tr>\n",
       "      <th>2266584</th>\n",
       "      <td>1</td>\n",
       "      <td>2020-08-21 01:07:36</td>\n",
       "      <td>1</td>\n",
       "    </tr>\n",
       "    <tr>\n",
       "      <th>2266585</th>\n",
       "      <td>1</td>\n",
       "      <td>2020-08-21 01:08:49</td>\n",
       "      <td>1</td>\n",
       "    </tr>\n",
       "  </tbody>\n",
       "</table>\n",
       "<p>2266586 rows × 3 columns</p>\n",
       "</div>"
      ],
      "text/plain": [
       "         answerCode           Timestamp  hour\n",
       "0                 1 2020-03-24 00:17:11     0\n",
       "1                 1 2020-03-24 00:17:14     0\n",
       "2                 1 2020-03-24 00:17:22     0\n",
       "3                 1 2020-03-24 00:17:29     0\n",
       "4                 1 2020-03-24 00:17:36     0\n",
       "...             ...                 ...   ...\n",
       "2266581           0 2020-06-05 06:50:21     6\n",
       "2266582           1 2020-08-21 01:06:39     1\n",
       "2266583           1 2020-08-21 01:06:50     1\n",
       "2266584           1 2020-08-21 01:07:36     1\n",
       "2266585           1 2020-08-21 01:08:49     1\n",
       "\n",
       "[2266586 rows x 3 columns]"
      ]
     },
     "execution_count": 15,
     "metadata": {},
     "output_type": "execute_result"
    }
   ],
   "source": [
    "df_for_ts = df[['answerCode','Timestamp']]\n",
    "df_for_ts['hour'] = df_for_ts['Timestamp'].dt.hour\n",
    "df_for_ts"
   ]
  },
  {
   "cell_type": "code",
   "execution_count": 25,
   "id": "substantial-orbit",
   "metadata": {},
   "outputs": [],
   "source": [
    "hour_groupby = df_for_ts.groupby('hour').agg({\n",
    "    'answerCode' : 'mean'\n",
    "}).reset_index()"
   ]
  },
  {
   "cell_type": "code",
   "execution_count": 26,
   "id": "responsible-barrel",
   "metadata": {},
   "outputs": [
    {
     "data": {
      "text/html": [
       "<div>\n",
       "<style scoped>\n",
       "    .dataframe tbody tr th:only-of-type {\n",
       "        vertical-align: middle;\n",
       "    }\n",
       "\n",
       "    .dataframe tbody tr th {\n",
       "        vertical-align: top;\n",
       "    }\n",
       "\n",
       "    .dataframe thead th {\n",
       "        text-align: right;\n",
       "    }\n",
       "</style>\n",
       "<table border=\"1\" class=\"dataframe\">\n",
       "  <thead>\n",
       "    <tr style=\"text-align: right;\">\n",
       "      <th></th>\n",
       "      <th>hour</th>\n",
       "      <th>answerCode</th>\n",
       "    </tr>\n",
       "  </thead>\n",
       "  <tbody>\n",
       "    <tr>\n",
       "      <th>0</th>\n",
       "      <td>0</td>\n",
       "      <td>0.649446</td>\n",
       "    </tr>\n",
       "    <tr>\n",
       "      <th>1</th>\n",
       "      <td>1</td>\n",
       "      <td>0.644321</td>\n",
       "    </tr>\n",
       "    <tr>\n",
       "      <th>2</th>\n",
       "      <td>2</td>\n",
       "      <td>0.642410</td>\n",
       "    </tr>\n",
       "    <tr>\n",
       "      <th>3</th>\n",
       "      <td>3</td>\n",
       "      <td>0.632685</td>\n",
       "    </tr>\n",
       "    <tr>\n",
       "      <th>4</th>\n",
       "      <td>4</td>\n",
       "      <td>0.633292</td>\n",
       "    </tr>\n",
       "    <tr>\n",
       "      <th>5</th>\n",
       "      <td>5</td>\n",
       "      <td>0.624776</td>\n",
       "    </tr>\n",
       "    <tr>\n",
       "      <th>6</th>\n",
       "      <td>6</td>\n",
       "      <td>0.629941</td>\n",
       "    </tr>\n",
       "    <tr>\n",
       "      <th>7</th>\n",
       "      <td>7</td>\n",
       "      <td>0.643050</td>\n",
       "    </tr>\n",
       "    <tr>\n",
       "      <th>8</th>\n",
       "      <td>8</td>\n",
       "      <td>0.667948</td>\n",
       "    </tr>\n",
       "    <tr>\n",
       "      <th>9</th>\n",
       "      <td>9</td>\n",
       "      <td>0.682764</td>\n",
       "    </tr>\n",
       "    <tr>\n",
       "      <th>10</th>\n",
       "      <td>10</td>\n",
       "      <td>0.699632</td>\n",
       "    </tr>\n",
       "    <tr>\n",
       "      <th>11</th>\n",
       "      <td>11</td>\n",
       "      <td>0.709786</td>\n",
       "    </tr>\n",
       "    <tr>\n",
       "      <th>12</th>\n",
       "      <td>12</td>\n",
       "      <td>0.715727</td>\n",
       "    </tr>\n",
       "    <tr>\n",
       "      <th>13</th>\n",
       "      <td>13</td>\n",
       "      <td>0.704881</td>\n",
       "    </tr>\n",
       "    <tr>\n",
       "      <th>14</th>\n",
       "      <td>14</td>\n",
       "      <td>0.695666</td>\n",
       "    </tr>\n",
       "    <tr>\n",
       "      <th>15</th>\n",
       "      <td>15</td>\n",
       "      <td>0.672702</td>\n",
       "    </tr>\n",
       "    <tr>\n",
       "      <th>16</th>\n",
       "      <td>16</td>\n",
       "      <td>0.576721</td>\n",
       "    </tr>\n",
       "    <tr>\n",
       "      <th>17</th>\n",
       "      <td>17</td>\n",
       "      <td>0.553639</td>\n",
       "    </tr>\n",
       "    <tr>\n",
       "      <th>18</th>\n",
       "      <td>18</td>\n",
       "      <td>0.547598</td>\n",
       "    </tr>\n",
       "    <tr>\n",
       "      <th>19</th>\n",
       "      <td>19</td>\n",
       "      <td>0.528847</td>\n",
       "    </tr>\n",
       "    <tr>\n",
       "      <th>20</th>\n",
       "      <td>20</td>\n",
       "      <td>0.532575</td>\n",
       "    </tr>\n",
       "    <tr>\n",
       "      <th>21</th>\n",
       "      <td>21</td>\n",
       "      <td>0.588505</td>\n",
       "    </tr>\n",
       "    <tr>\n",
       "      <th>22</th>\n",
       "      <td>22</td>\n",
       "      <td>0.644492</td>\n",
       "    </tr>\n",
       "    <tr>\n",
       "      <th>23</th>\n",
       "      <td>23</td>\n",
       "      <td>0.659023</td>\n",
       "    </tr>\n",
       "  </tbody>\n",
       "</table>\n",
       "</div>"
      ],
      "text/plain": [
       "    hour  answerCode\n",
       "0      0    0.649446\n",
       "1      1    0.644321\n",
       "2      2    0.642410\n",
       "3      3    0.632685\n",
       "4      4    0.633292\n",
       "5      5    0.624776\n",
       "6      6    0.629941\n",
       "7      7    0.643050\n",
       "8      8    0.667948\n",
       "9      9    0.682764\n",
       "10    10    0.699632\n",
       "11    11    0.709786\n",
       "12    12    0.715727\n",
       "13    13    0.704881\n",
       "14    14    0.695666\n",
       "15    15    0.672702\n",
       "16    16    0.576721\n",
       "17    17    0.553639\n",
       "18    18    0.547598\n",
       "19    19    0.528847\n",
       "20    20    0.532575\n",
       "21    21    0.588505\n",
       "22    22    0.644492\n",
       "23    23    0.659023"
      ]
     },
     "execution_count": 26,
     "metadata": {},
     "output_type": "execute_result"
    }
   ],
   "source": [
    "hour_groupby"
   ]
  },
  {
   "cell_type": "code",
   "execution_count": 46,
   "id": "visible-worcester",
   "metadata": {},
   "outputs": [
    {
     "data": {
      "image/png": "[encoded data removed]",
      "text/plain": [
       "<Figure size 720x360 with 1 Axes>"
      ]
     },
     "metadata": {},
     "output_type": "display_data"
    }
   ],
   "source": [
    "fig, ax = plt.subplots()\n",
    "fig.set_figheight(5)\n",
    "fig.set_figwidth(10)\n",
    "g = sns.lineplot(x='hour', y='answerCode',data=hour_groupby,\n",
    "                marker=\"o\")\n",
    "ax.set_title('Answer Rate by hour')\n",
    "ax.set_xlabel('Hour')\n",
    "ax.set_ylabel('Answer Rate')\n",
    "ax.set(ylim=(0, 1))\n",
    "ax.grid(b=True)"
   ]
  }
 ],
 "metadata": {
  "kernelspec": {
   "display_name": "Python 3",
   "language": "python",
   "name": "python3"
  },
  "language_info": {
   "codemirror_mode": {
    "name": "ipython",
    "version": 3
   },
   "file_extension": ".py",
   "mimetype": "text/x-python",
   "name": "python",
   "nbconvert_exporter": "python",
   "pygments_lexer": "ipython3",
   "version": "3.8.5"
  }
 },
 "nbformat": 4,
 "nbformat_minor": 5
}
